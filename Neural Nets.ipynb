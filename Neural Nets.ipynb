{
 "cells": [
  {
   "cell_type": "markdown",
   "id": "0f5d8a3e",
   "metadata": {},
   "source": [
    "Using neural nets code: https://github.com/Srijha09/Prediction-of-Energy-Consumption \n",
    "\n",
    "Predicting energy demand with neural nets article: https://towardsdatascience.com/forecasting-energy-consumption-using-neural-networks-xgboost-2032b6e6f7e2\n",
    "\n",
    "How to do it?: https://github.com/ankkur13/Machine-Learning-with-Energy-Dataset"
   ]
  },
  {
   "cell_type": "code",
   "execution_count": null,
   "id": "b8005526",
   "metadata": {},
   "outputs": [],
   "source": []
  }
 ],
 "metadata": {
  "kernelspec": {
   "display_name": "Python 3 (ipykernel)",
   "language": "python",
   "name": "python3"
  },
  "language_info": {
   "codemirror_mode": {
    "name": "ipython",
    "version": 3
   },
   "file_extension": ".py",
   "mimetype": "text/x-python",
   "name": "python",
   "nbconvert_exporter": "python",
   "pygments_lexer": "ipython3",
   "version": "3.8.8"
  }
 },
 "nbformat": 4,
 "nbformat_minor": 5
}

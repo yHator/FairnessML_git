{
 "cells": [
  {
   "cell_type": "markdown",
   "id": "627923ec",
   "metadata": {},
   "source": [
    "# From youtube tutorial: https://www.youtube.com/watch?v=c0k-YLQGKjY\n",
    "\n",
    "Single variable\n",
    "\n",
    "Predicting future values of a single variable using steps = 5"
   ]
  },
  {
   "cell_type": "code",
   "execution_count": 168,
   "id": "14264257",
   "metadata": {},
   "outputs": [],
   "source": [
    "import tensorflow as tf \n",
    "import os\n",
    "import pandas as pd\n",
    "import numpy as np"
   ]
  },
  {
   "cell_type": "code",
   "execution_count": 169,
   "id": "6b24cb5e",
   "metadata": {},
   "outputs": [
    {
     "data": {
      "text/html": [
       "<div>\n",
       "<style scoped>\n",
       "    .dataframe tbody tr th:only-of-type {\n",
       "        vertical-align: middle;\n",
       "    }\n",
       "\n",
       "    .dataframe tbody tr th {\n",
       "        vertical-align: top;\n",
       "    }\n",
       "\n",
       "    .dataframe thead th {\n",
       "        text-align: right;\n",
       "    }\n",
       "</style>\n",
       "<table border=\"1\" class=\"dataframe\">\n",
       "  <thead>\n",
       "    <tr style=\"text-align: right;\">\n",
       "      <th></th>\n",
       "      <th>date</th>\n",
       "      <th>Megawatts</th>\n",
       "    </tr>\n",
       "  </thead>\n",
       "  <tbody>\n",
       "    <tr>\n",
       "      <th>0</th>\n",
       "      <td>2020-01-01 00:00:00</td>\n",
       "      <td>273786.0</td>\n",
       "    </tr>\n",
       "    <tr>\n",
       "      <th>1</th>\n",
       "      <td>2020-01-01 01:00:00</td>\n",
       "      <td>243000.0</td>\n",
       "    </tr>\n",
       "    <tr>\n",
       "      <th>2</th>\n",
       "      <td>2020-01-01 02:00:00</td>\n",
       "      <td>235962.0</td>\n",
       "    </tr>\n",
       "    <tr>\n",
       "      <th>3</th>\n",
       "      <td>2020-01-01 03:00:00</td>\n",
       "      <td>231944.0</td>\n",
       "    </tr>\n",
       "    <tr>\n",
       "      <th>4</th>\n",
       "      <td>2020-01-01 04:00:00</td>\n",
       "      <td>230219.0</td>\n",
       "    </tr>\n",
       "    <tr>\n",
       "      <th>5</th>\n",
       "      <td>2020-01-01 05:00:00</td>\n",
       "      <td>235383.0</td>\n",
       "    </tr>\n",
       "    <tr>\n",
       "      <th>6</th>\n",
       "      <td>2020-01-01 06:00:00</td>\n",
       "      <td>243281.0</td>\n",
       "    </tr>\n",
       "    <tr>\n",
       "      <th>7</th>\n",
       "      <td>2020-01-01 07:00:00</td>\n",
       "      <td>243793.0</td>\n",
       "    </tr>\n",
       "    <tr>\n",
       "      <th>8</th>\n",
       "      <td>2020-01-01 08:00:00</td>\n",
       "      <td>237974.0</td>\n",
       "    </tr>\n",
       "    <tr>\n",
       "      <th>9</th>\n",
       "      <td>2020-01-01 09:00:00</td>\n",
       "      <td>228866.0</td>\n",
       "    </tr>\n",
       "    <tr>\n",
       "      <th>10</th>\n",
       "      <td>2020-01-01 10:00:00</td>\n",
       "      <td>221268.0</td>\n",
       "    </tr>\n",
       "    <tr>\n",
       "      <th>11</th>\n",
       "      <td>2020-01-01 11:00:00</td>\n",
       "      <td>216362.0</td>\n",
       "    </tr>\n",
       "    <tr>\n",
       "      <th>12</th>\n",
       "      <td>2020-01-01 12:00:00</td>\n",
       "      <td>214476.0</td>\n",
       "    </tr>\n",
       "    <tr>\n",
       "      <th>13</th>\n",
       "      <td>2020-01-01 13:00:00</td>\n",
       "      <td>216342.0</td>\n",
       "    </tr>\n",
       "    <tr>\n",
       "      <th>14</th>\n",
       "      <td>2020-01-01 14:00:00</td>\n",
       "      <td>227833.0</td>\n",
       "    </tr>\n",
       "    <tr>\n",
       "      <th>15</th>\n",
       "      <td>2020-01-01 15:00:00</td>\n",
       "      <td>242087.0</td>\n",
       "    </tr>\n",
       "    <tr>\n",
       "      <th>16</th>\n",
       "      <td>2020-01-01 16:00:00</td>\n",
       "      <td>263675.0</td>\n",
       "    </tr>\n",
       "    <tr>\n",
       "      <th>17</th>\n",
       "      <td>2020-01-01 17:00:00</td>\n",
       "      <td>294908.0</td>\n",
       "    </tr>\n",
       "    <tr>\n",
       "      <th>18</th>\n",
       "      <td>2020-01-01 18:00:00</td>\n",
       "      <td>299952.0</td>\n",
       "    </tr>\n",
       "    <tr>\n",
       "      <th>19</th>\n",
       "      <td>2020-01-01 19:00:00</td>\n",
       "      <td>296337.0</td>\n",
       "    </tr>\n",
       "    <tr>\n",
       "      <th>20</th>\n",
       "      <td>2020-01-01 20:00:00</td>\n",
       "      <td>289061.0</td>\n",
       "    </tr>\n",
       "    <tr>\n",
       "      <th>21</th>\n",
       "      <td>2020-01-01 21:00:00</td>\n",
       "      <td>278538.0</td>\n",
       "    </tr>\n",
       "    <tr>\n",
       "      <th>22</th>\n",
       "      <td>2020-01-01 22:00:00</td>\n",
       "      <td>262639.0</td>\n",
       "    </tr>\n",
       "    <tr>\n",
       "      <th>23</th>\n",
       "      <td>2020-01-01 23:00:00</td>\n",
       "      <td>246686.0</td>\n",
       "    </tr>\n",
       "  </tbody>\n",
       "</table>\n",
       "</div>"
      ],
      "text/plain": [
       "                   date  Megawatts\n",
       "0   2020-01-01 00:00:00   273786.0\n",
       "1   2020-01-01 01:00:00   243000.0\n",
       "2   2020-01-01 02:00:00   235962.0\n",
       "3   2020-01-01 03:00:00   231944.0\n",
       "4   2020-01-01 04:00:00   230219.0\n",
       "5   2020-01-01 05:00:00   235383.0\n",
       "6   2020-01-01 06:00:00   243281.0\n",
       "7   2020-01-01 07:00:00   243793.0\n",
       "8   2020-01-01 08:00:00   237974.0\n",
       "9   2020-01-01 09:00:00   228866.0\n",
       "10  2020-01-01 10:00:00   221268.0\n",
       "11  2020-01-01 11:00:00   216362.0\n",
       "12  2020-01-01 12:00:00   214476.0\n",
       "13  2020-01-01 13:00:00   216342.0\n",
       "14  2020-01-01 14:00:00   227833.0\n",
       "15  2020-01-01 15:00:00   242087.0\n",
       "16  2020-01-01 16:00:00   263675.0\n",
       "17  2020-01-01 17:00:00   294908.0\n",
       "18  2020-01-01 18:00:00   299952.0\n",
       "19  2020-01-01 19:00:00   296337.0\n",
       "20  2020-01-01 20:00:00   289061.0\n",
       "21  2020-01-01 21:00:00   278538.0\n",
       "22  2020-01-01 22:00:00   262639.0\n",
       "23  2020-01-01 23:00:00   246686.0"
      ]
     },
     "execution_count": 169,
     "metadata": {},
     "output_type": "execute_result"
    }
   ],
   "source": [
    "caiso_df = pd.read_csv(\"/Users/yukahatori/A_Fairness/CAISO_test.csv\", on_bad_lines = 'skip')\n",
    "caiso_df"
   ]
  },
  {
   "cell_type": "code",
   "execution_count": 170,
   "id": "31a5c9ce",
   "metadata": {},
   "outputs": [],
   "source": [
    "#January 1st, 24 hours \n",
    "df = pd.read_csv(\"/Users/yukahatori/A_Fairness/USW00023234.csv\")\n",
    "\n",
    "#drop columns we don't need\n",
    "df.drop('STATION', axis=1, inplace=True)\n",
    "df.drop('NAME', axis=1, inplace=True)\n",
    "df.drop('LATITUDE', axis=1, inplace=True)\n",
    "df.drop('LONGITUDE', axis=1, inplace=True)\n",
    "df.drop('ELEVATION', axis=1, inplace=True)\n",
    "df.drop('month', axis=1, inplace=True)\n",
    "df.drop('hour', axis=1, inplace=True)\n",
    "df.drop('day', axis=1, inplace=True)\n",
    "\n",
    "#checks the flags and removes any rows corresponding with 'M' which means the data is missing\n",
    "measurementFlags = list(df.filter(regex='meas'))\n",
    "for flag in measurementFlags:\n",
    "    df = df[~df[flag].str.contains('M')]\n",
    "\n",
    "completenessFlags = list(df.filter(regex='meas'))\n",
    "for flag in completenessFlags:\n",
    "    df = df[~df[flag].str.contains('-9999')]\n",
    "        \n",
    "#get rid of all measurement and completeness flags\n",
    "df = df[df.columns.drop(list(df.filter(regex='meas')))]\n",
    "df = df[df.columns.drop(list(df.filter(regex='comp')))]\n",
    "\n",
    "#rename columns\n",
    "df.columns = ['date', 'HLY_TEMP_NORMAL', 'years_HLY_TEMP_NORMAL', 'HLY_TEMP_10PCTL',\n",
    "       'years_HLY_TEMP_10PCTL', 'HLY_TEMP_90PCTL', 'years_HLY_TEMP_90PCTL',\n",
    "       'HLY_DEWP_NORMAL', 'years_HLY_DEWP_NORMAL', 'HLY_DEWP_10PCTL',\n",
    "       'years_HLY_DEWPv10PCTL', 'HLY_DEWP_90PCTL', 'years_HLY_DEWP_90PCTL',\n",
    "       'HLY_PRES_NORMAL', 'years_HLY_PRES_NORMAL', 'HLY_PRES_10PCTL',\n",
    "       'years_HLY_PRES_10PCTL', 'HLY_PRES_90PCTL', 'years_HLY_PRES_90PCTL',\n",
    "       'HLY_CLDH_NORMAL', 'years_HLY_CLDH_NORMAL', 'HLY_HTDH_NORMAL',\n",
    "       'years_HLY_HTDH_NORMAL', 'HLY_CLOD_PCTCLR', 'years_HLY_CLOD_PCTCLR',\n",
    "       'HLY_CLOD_PCTFEW', 'years_HLY_CLOD_PCTFEW', 'HLY_CLOD_PCTSCT',\n",
    "       'years_HLY_CLOD_PCTSCT', 'HLY_CLOD_PCTBKN', 'years_HLY_CLOD_PCTBKN',\n",
    "       'HLY_CLOD_PCTOVC', 'years_HLY_CLOD_PCTOVC', 'HLY_HIDX_NORMAL',\n",
    "       'years_HLY_HIDX_NORMAL', 'HLY_WCHL_NORMAL', 'years_HLY_WCHL_NORMAL',\n",
    "       'HLY_WIND_AVGSPD', 'years_HLY_WIND_AVGSPD', 'HLY_WIND_PCTCLM',\n",
    "       'years_HLY_WIND_PCTCLM', 'HLY_WIND_VCTDIR', 'years_HLY_WIND_VCTDIR',\n",
    "       'HLY_WIND_VCTSPD', 'years_HLY_WIND_VCTSPD', 'HLY_WIND_1STDIR',\n",
    "       'years_HLY-WIND-1STDIR', 'HLY_WIND_1STPCT', 'years_HLY_WIND_1STPCT',\n",
    "       'HLY_WIND_2NDDIR', 'years_HLY_WIND_2NDDIR', 'HLY_WIND_2NDPCT',\n",
    "       'years_HLY_WIND_2NDPCT']\n",
    "#DROPPING COLUMNS FOR TESTING\n",
    "df = df.drop(columns=[ \n",
    "        'years_HLY_TEMP_NORMAL',\n",
    "       'years_HLY_TEMP_10PCTL',  'years_HLY_TEMP_90PCTL',\n",
    "        'years_HLY_DEWP_NORMAL', \n",
    "       'years_HLY_DEWPv10PCTL',  'years_HLY_DEWP_90PCTL',\n",
    "        'years_HLY_PRES_NORMAL', \n",
    "       'years_HLY_PRES_10PCTL', 'years_HLY_PRES_90PCTL',\n",
    "        'years_HLY_CLDH_NORMAL', \n",
    "       'years_HLY_HTDH_NORMAL', 'years_HLY_CLOD_PCTCLR',\n",
    "        'years_HLY_CLOD_PCTFEW', \n",
    "       'years_HLY_CLOD_PCTSCT',  'years_HLY_CLOD_PCTBKN',\n",
    "        'years_HLY_CLOD_PCTOVC', \n",
    "       'years_HLY_HIDX_NORMAL',  'years_HLY_WCHL_NORMAL',\n",
    "        'years_HLY_WIND_AVGSPD', \n",
    "       'years_HLY_WIND_PCTCLM',  'years_HLY_WIND_VCTDIR',\n",
    "        'years_HLY_WIND_VCTSPD', \n",
    "       'years_HLY-WIND-1STDIR', 'years_HLY_WIND_1STPCT',\n",
    "        'years_HLY_WIND_2NDDIR',\n",
    "       'years_HLY_WIND_2NDPCT'])\n",
    "# print(\"-------------------------------NEW COLUMNS-----------------------------\")\n",
    "# print(df)\n",
    "# print('---------------------------------DESCRIBE------------------------------')\n",
    "# #describe\n",
    "# print(df.describe())"
   ]
  },
  {
   "cell_type": "code",
   "execution_count": 171,
   "id": "8c43e609",
   "metadata": {},
   "outputs": [],
   "source": [
    "# I wanted to append the year, but it is not working on index = 105 for some reason\n",
    "# for i in range(len(df['date'])-1):\n",
    "#     print(\"I value: \", i)\n",
    "#     prevDate = \"2020-\" + df['date'][i]\n",
    "#     df.at[i, 'date'] = prevDate\n",
    "#     print(df.loc[['date'][i]])\n",
    "\n"
   ]
  },
  {
   "cell_type": "code",
   "execution_count": 172,
   "id": "4cb1274c",
   "metadata": {},
   "outputs": [
    {
     "data": {
      "text/html": [
       "<div>\n",
       "<style scoped>\n",
       "    .dataframe tbody tr th:only-of-type {\n",
       "        vertical-align: middle;\n",
       "    }\n",
       "\n",
       "    .dataframe tbody tr th {\n",
       "        vertical-align: top;\n",
       "    }\n",
       "\n",
       "    .dataframe thead th {\n",
       "        text-align: right;\n",
       "    }\n",
       "</style>\n",
       "<table border=\"1\" class=\"dataframe\">\n",
       "  <thead>\n",
       "    <tr style=\"text-align: right;\">\n",
       "      <th></th>\n",
       "      <th>date</th>\n",
       "      <th>HLY_TEMP_NORMAL</th>\n",
       "      <th>HLY_TEMP_10PCTL</th>\n",
       "      <th>HLY_TEMP_90PCTL</th>\n",
       "      <th>HLY_DEWP_NORMAL</th>\n",
       "      <th>HLY_DEWP_10PCTL</th>\n",
       "      <th>HLY_DEWP_90PCTL</th>\n",
       "      <th>HLY_PRES_NORMAL</th>\n",
       "      <th>HLY_PRES_10PCTL</th>\n",
       "      <th>HLY_PRES_90PCTL</th>\n",
       "      <th>...</th>\n",
       "      <th>HLY_WCHL_NORMAL</th>\n",
       "      <th>HLY_WIND_AVGSPD</th>\n",
       "      <th>HLY_WIND_PCTCLM</th>\n",
       "      <th>HLY_WIND_VCTDIR</th>\n",
       "      <th>HLY_WIND_VCTSPD</th>\n",
       "      <th>HLY_WIND_1STDIR</th>\n",
       "      <th>HLY_WIND_1STPCT</th>\n",
       "      <th>HLY_WIND_2NDDIR</th>\n",
       "      <th>HLY_WIND_2NDPCT</th>\n",
       "      <th>Megawatts</th>\n",
       "    </tr>\n",
       "    <tr>\n",
       "      <th>date</th>\n",
       "      <th></th>\n",
       "      <th></th>\n",
       "      <th></th>\n",
       "      <th></th>\n",
       "      <th></th>\n",
       "      <th></th>\n",
       "      <th></th>\n",
       "      <th></th>\n",
       "      <th></th>\n",
       "      <th></th>\n",
       "      <th></th>\n",
       "      <th></th>\n",
       "      <th></th>\n",
       "      <th></th>\n",
       "      <th></th>\n",
       "      <th></th>\n",
       "      <th></th>\n",
       "      <th></th>\n",
       "      <th></th>\n",
       "      <th></th>\n",
       "      <th></th>\n",
       "    </tr>\n",
       "  </thead>\n",
       "  <tbody>\n",
       "    <tr>\n",
       "      <th>1900-01-01 00:00:00</th>\n",
       "      <td>01-01T00:00:00</td>\n",
       "      <td>48.8</td>\n",
       "      <td>44.1</td>\n",
       "      <td>54.0</td>\n",
       "      <td>43.2</td>\n",
       "      <td>35.1</td>\n",
       "      <td>50.0</td>\n",
       "      <td>1020.1</td>\n",
       "      <td>1011.5</td>\n",
       "      <td>1026.9</td>\n",
       "      <td>...</td>\n",
       "      <td>47.3</td>\n",
       "      <td>6.3</td>\n",
       "      <td>25.4</td>\n",
       "      <td>196.0</td>\n",
       "      <td>1.1</td>\n",
       "      <td>5.0</td>\n",
       "      <td>14.7</td>\n",
       "      <td>4.0</td>\n",
       "      <td>14.3</td>\n",
       "      <td>273786.0</td>\n",
       "    </tr>\n",
       "    <tr>\n",
       "      <th>1900-01-01 01:00:00</th>\n",
       "      <td>01-01T01:00:00</td>\n",
       "      <td>48.5</td>\n",
       "      <td>43.0</td>\n",
       "      <td>54.0</td>\n",
       "      <td>43.1</td>\n",
       "      <td>35.1</td>\n",
       "      <td>50.0</td>\n",
       "      <td>1019.9</td>\n",
       "      <td>1011.0</td>\n",
       "      <td>1026.8</td>\n",
       "      <td>...</td>\n",
       "      <td>47.0</td>\n",
       "      <td>6.2</td>\n",
       "      <td>28.5</td>\n",
       "      <td>193.0</td>\n",
       "      <td>1.2</td>\n",
       "      <td>4.0</td>\n",
       "      <td>14.6</td>\n",
       "      <td>5.0</td>\n",
       "      <td>13.1</td>\n",
       "      <td>243000.0</td>\n",
       "    </tr>\n",
       "    <tr>\n",
       "      <th>1900-01-01 02:00:00</th>\n",
       "      <td>01-01T02:00:00</td>\n",
       "      <td>47.6</td>\n",
       "      <td>42.1</td>\n",
       "      <td>53.1</td>\n",
       "      <td>42.6</td>\n",
       "      <td>35.1</td>\n",
       "      <td>50.0</td>\n",
       "      <td>1020.0</td>\n",
       "      <td>1011.2</td>\n",
       "      <td>1026.8</td>\n",
       "      <td>...</td>\n",
       "      <td>46.0</td>\n",
       "      <td>6.2</td>\n",
       "      <td>26.5</td>\n",
       "      <td>184.0</td>\n",
       "      <td>0.9</td>\n",
       "      <td>4.0</td>\n",
       "      <td>14.8</td>\n",
       "      <td>6.0</td>\n",
       "      <td>12.5</td>\n",
       "      <td>235962.0</td>\n",
       "    </tr>\n",
       "    <tr>\n",
       "      <th>1900-01-01 03:00:00</th>\n",
       "      <td>01-01T03:00:00</td>\n",
       "      <td>47.2</td>\n",
       "      <td>41.0</td>\n",
       "      <td>54.0</td>\n",
       "      <td>42.3</td>\n",
       "      <td>34.0</td>\n",
       "      <td>50.0</td>\n",
       "      <td>1020.0</td>\n",
       "      <td>1011.2</td>\n",
       "      <td>1026.9</td>\n",
       "      <td>...</td>\n",
       "      <td>45.5</td>\n",
       "      <td>6.2</td>\n",
       "      <td>24.9</td>\n",
       "      <td>178.0</td>\n",
       "      <td>1.1</td>\n",
       "      <td>4.0</td>\n",
       "      <td>16.3</td>\n",
       "      <td>5.0</td>\n",
       "      <td>13.5</td>\n",
       "      <td>231944.0</td>\n",
       "    </tr>\n",
       "    <tr>\n",
       "      <th>1900-01-01 04:00:00</th>\n",
       "      <td>01-01T04:00:00</td>\n",
       "      <td>46.8</td>\n",
       "      <td>39.9</td>\n",
       "      <td>53.1</td>\n",
       "      <td>42.2</td>\n",
       "      <td>34.0</td>\n",
       "      <td>50.0</td>\n",
       "      <td>1019.8</td>\n",
       "      <td>1010.5</td>\n",
       "      <td>1026.6</td>\n",
       "      <td>...</td>\n",
       "      <td>45.0</td>\n",
       "      <td>5.9</td>\n",
       "      <td>27.9</td>\n",
       "      <td>175.0</td>\n",
       "      <td>0.8</td>\n",
       "      <td>4.0</td>\n",
       "      <td>15.6</td>\n",
       "      <td>7.0</td>\n",
       "      <td>11.2</td>\n",
       "      <td>230219.0</td>\n",
       "    </tr>\n",
       "    <tr>\n",
       "      <th>1900-01-01 05:00:00</th>\n",
       "      <td>01-01T05:00:00</td>\n",
       "      <td>46.6</td>\n",
       "      <td>39.9</td>\n",
       "      <td>53.1</td>\n",
       "      <td>42.0</td>\n",
       "      <td>34.0</td>\n",
       "      <td>48.9</td>\n",
       "      <td>1019.7</td>\n",
       "      <td>1010.4</td>\n",
       "      <td>1026.7</td>\n",
       "      <td>...</td>\n",
       "      <td>44.7</td>\n",
       "      <td>6.2</td>\n",
       "      <td>22.9</td>\n",
       "      <td>186.0</td>\n",
       "      <td>1.0</td>\n",
       "      <td>4.0</td>\n",
       "      <td>15.9</td>\n",
       "      <td>5.0</td>\n",
       "      <td>13.5</td>\n",
       "      <td>235383.0</td>\n",
       "    </tr>\n",
       "    <tr>\n",
       "      <th>1900-01-01 06:00:00</th>\n",
       "      <td>01-01T06:00:00</td>\n",
       "      <td>46.6</td>\n",
       "      <td>39.9</td>\n",
       "      <td>53.1</td>\n",
       "      <td>42.0</td>\n",
       "      <td>34.0</td>\n",
       "      <td>50.0</td>\n",
       "      <td>1019.9</td>\n",
       "      <td>1010.6</td>\n",
       "      <td>1027.0</td>\n",
       "      <td>...</td>\n",
       "      <td>44.8</td>\n",
       "      <td>5.8</td>\n",
       "      <td>28.3</td>\n",
       "      <td>158.0</td>\n",
       "      <td>0.9</td>\n",
       "      <td>4.0</td>\n",
       "      <td>18.9</td>\n",
       "      <td>5.0</td>\n",
       "      <td>10.7</td>\n",
       "      <td>243281.0</td>\n",
       "    </tr>\n",
       "    <tr>\n",
       "      <th>1900-01-01 07:00:00</th>\n",
       "      <td>01-01T07:00:00</td>\n",
       "      <td>46.8</td>\n",
       "      <td>41.0</td>\n",
       "      <td>53.1</td>\n",
       "      <td>42.2</td>\n",
       "      <td>34.0</td>\n",
       "      <td>48.9</td>\n",
       "      <td>1020.1</td>\n",
       "      <td>1010.8</td>\n",
       "      <td>1027.2</td>\n",
       "      <td>...</td>\n",
       "      <td>44.9</td>\n",
       "      <td>6.2</td>\n",
       "      <td>26.7</td>\n",
       "      <td>156.0</td>\n",
       "      <td>1.4</td>\n",
       "      <td>4.0</td>\n",
       "      <td>21.8</td>\n",
       "      <td>5.0</td>\n",
       "      <td>14.6</td>\n",
       "      <td>243793.0</td>\n",
       "    </tr>\n",
       "    <tr>\n",
       "      <th>1900-01-01 08:00:00</th>\n",
       "      <td>01-01T08:00:00</td>\n",
       "      <td>47.2</td>\n",
       "      <td>41.0</td>\n",
       "      <td>53.1</td>\n",
       "      <td>42.3</td>\n",
       "      <td>35.1</td>\n",
       "      <td>50.0</td>\n",
       "      <td>1020.4</td>\n",
       "      <td>1010.9</td>\n",
       "      <td>1027.5</td>\n",
       "      <td>...</td>\n",
       "      <td>45.3</td>\n",
       "      <td>6.3</td>\n",
       "      <td>26.7</td>\n",
       "      <td>140.0</td>\n",
       "      <td>1.7</td>\n",
       "      <td>4.0</td>\n",
       "      <td>24.4</td>\n",
       "      <td>5.0</td>\n",
       "      <td>12.3</td>\n",
       "      <td>237974.0</td>\n",
       "    </tr>\n",
       "    <tr>\n",
       "      <th>1900-01-01 09:00:00</th>\n",
       "      <td>01-01T09:00:00</td>\n",
       "      <td>48.9</td>\n",
       "      <td>44.1</td>\n",
       "      <td>54.0</td>\n",
       "      <td>43.0</td>\n",
       "      <td>35.1</td>\n",
       "      <td>50.0</td>\n",
       "      <td>1020.8</td>\n",
       "      <td>1011.3</td>\n",
       "      <td>1027.9</td>\n",
       "      <td>...</td>\n",
       "      <td>47.3</td>\n",
       "      <td>6.6</td>\n",
       "      <td>25.6</td>\n",
       "      <td>128.0</td>\n",
       "      <td>1.7</td>\n",
       "      <td>4.0</td>\n",
       "      <td>24.9</td>\n",
       "      <td>3.0</td>\n",
       "      <td>12.8</td>\n",
       "      <td>228866.0</td>\n",
       "    </tr>\n",
       "    <tr>\n",
       "      <th>1900-01-01 10:00:00</th>\n",
       "      <td>01-01T10:00:00</td>\n",
       "      <td>50.5</td>\n",
       "      <td>46.0</td>\n",
       "      <td>55.0</td>\n",
       "      <td>43.3</td>\n",
       "      <td>35.1</td>\n",
       "      <td>50.0</td>\n",
       "      <td>1021.3</td>\n",
       "      <td>1011.9</td>\n",
       "      <td>1028.2</td>\n",
       "      <td>...</td>\n",
       "      <td>49.2</td>\n",
       "      <td>7.2</td>\n",
       "      <td>18.5</td>\n",
       "      <td>103.0</td>\n",
       "      <td>1.8</td>\n",
       "      <td>3.0</td>\n",
       "      <td>21.0</td>\n",
       "      <td>4.0</td>\n",
       "      <td>20.4</td>\n",
       "      <td>221268.0</td>\n",
       "    </tr>\n",
       "    <tr>\n",
       "      <th>1900-01-01 11:00:00</th>\n",
       "      <td>01-01T11:00:00</td>\n",
       "      <td>51.5</td>\n",
       "      <td>46.9</td>\n",
       "      <td>55.9</td>\n",
       "      <td>43.4</td>\n",
       "      <td>35.1</td>\n",
       "      <td>50.0</td>\n",
       "      <td>1021.1</td>\n",
       "      <td>1012.2</td>\n",
       "      <td>1028.0</td>\n",
       "      <td>...</td>\n",
       "      <td>50.5</td>\n",
       "      <td>7.5</td>\n",
       "      <td>12.7</td>\n",
       "      <td>85.0</td>\n",
       "      <td>1.8</td>\n",
       "      <td>3.0</td>\n",
       "      <td>22.6</td>\n",
       "      <td>2.0</td>\n",
       "      <td>17.7</td>\n",
       "      <td>216362.0</td>\n",
       "    </tr>\n",
       "    <tr>\n",
       "      <th>1900-01-01 12:00:00</th>\n",
       "      <td>01-01T12:00:00</td>\n",
       "      <td>52.4</td>\n",
       "      <td>48.0</td>\n",
       "      <td>57.0</td>\n",
       "      <td>43.7</td>\n",
       "      <td>36.0</td>\n",
       "      <td>51.1</td>\n",
       "      <td>1020.3</td>\n",
       "      <td>1011.7</td>\n",
       "      <td>1027.1</td>\n",
       "      <td>...</td>\n",
       "      <td>51.7</td>\n",
       "      <td>7.7</td>\n",
       "      <td>10.7</td>\n",
       "      <td>75.0</td>\n",
       "      <td>1.2</td>\n",
       "      <td>3.0</td>\n",
       "      <td>22.2</td>\n",
       "      <td>2.0</td>\n",
       "      <td>20.5</td>\n",
       "      <td>214476.0</td>\n",
       "    </tr>\n",
       "    <tr>\n",
       "      <th>1900-01-01 13:00:00</th>\n",
       "      <td>01-01T13:00:00</td>\n",
       "      <td>53.2</td>\n",
       "      <td>48.9</td>\n",
       "      <td>57.9</td>\n",
       "      <td>43.6</td>\n",
       "      <td>34.0</td>\n",
       "      <td>51.1</td>\n",
       "      <td>1019.6</td>\n",
       "      <td>1011.0</td>\n",
       "      <td>1026.3</td>\n",
       "      <td>...</td>\n",
       "      <td>52.7</td>\n",
       "      <td>7.9</td>\n",
       "      <td>15.1</td>\n",
       "      <td>35.0</td>\n",
       "      <td>0.5</td>\n",
       "      <td>1.0</td>\n",
       "      <td>20.2</td>\n",
       "      <td>2.0</td>\n",
       "      <td>19.6</td>\n",
       "      <td>216342.0</td>\n",
       "    </tr>\n",
       "    <tr>\n",
       "      <th>1900-01-01 14:00:00</th>\n",
       "      <td>01-01T14:00:00</td>\n",
       "      <td>53.8</td>\n",
       "      <td>48.9</td>\n",
       "      <td>57.9</td>\n",
       "      <td>43.7</td>\n",
       "      <td>34.0</td>\n",
       "      <td>51.1</td>\n",
       "      <td>1019.1</td>\n",
       "      <td>1010.5</td>\n",
       "      <td>1025.7</td>\n",
       "      <td>...</td>\n",
       "      <td>53.3</td>\n",
       "      <td>7.9</td>\n",
       "      <td>16.9</td>\n",
       "      <td>330.0</td>\n",
       "      <td>1.0</td>\n",
       "      <td>1.0</td>\n",
       "      <td>20.2</td>\n",
       "      <td>2.0</td>\n",
       "      <td>18.7</td>\n",
       "      <td>227833.0</td>\n",
       "    </tr>\n",
       "    <tr>\n",
       "      <th>1900-01-01 15:00:00</th>\n",
       "      <td>01-01T15:00:00</td>\n",
       "      <td>54.1</td>\n",
       "      <td>48.9</td>\n",
       "      <td>59.0</td>\n",
       "      <td>43.8</td>\n",
       "      <td>35.1</td>\n",
       "      <td>51.1</td>\n",
       "      <td>1019.0</td>\n",
       "      <td>1010.6</td>\n",
       "      <td>1025.6</td>\n",
       "      <td>...</td>\n",
       "      <td>53.7</td>\n",
       "      <td>7.7</td>\n",
       "      <td>20.9</td>\n",
       "      <td>303.0</td>\n",
       "      <td>1.1</td>\n",
       "      <td>1.0</td>\n",
       "      <td>21.5</td>\n",
       "      <td>2.0</td>\n",
       "      <td>13.7</td>\n",
       "      <td>242087.0</td>\n",
       "    </tr>\n",
       "    <tr>\n",
       "      <th>1900-01-01 16:00:00</th>\n",
       "      <td>01-01T16:00:00</td>\n",
       "      <td>53.9</td>\n",
       "      <td>48.9</td>\n",
       "      <td>57.9</td>\n",
       "      <td>43.8</td>\n",
       "      <td>35.1</td>\n",
       "      <td>51.1</td>\n",
       "      <td>1019.0</td>\n",
       "      <td>1010.2</td>\n",
       "      <td>1025.6</td>\n",
       "      <td>...</td>\n",
       "      <td>53.4</td>\n",
       "      <td>7.6</td>\n",
       "      <td>23.3</td>\n",
       "      <td>279.0</td>\n",
       "      <td>1.6</td>\n",
       "      <td>7.0</td>\n",
       "      <td>17.6</td>\n",
       "      <td>1.0</td>\n",
       "      <td>16.8</td>\n",
       "      <td>263675.0</td>\n",
       "    </tr>\n",
       "    <tr>\n",
       "      <th>1900-01-01 17:00:00</th>\n",
       "      <td>01-01T17:00:00</td>\n",
       "      <td>53.0</td>\n",
       "      <td>48.9</td>\n",
       "      <td>57.9</td>\n",
       "      <td>44.0</td>\n",
       "      <td>36.0</td>\n",
       "      <td>51.1</td>\n",
       "      <td>1019.0</td>\n",
       "      <td>1010.3</td>\n",
       "      <td>1025.7</td>\n",
       "      <td>...</td>\n",
       "      <td>52.3</td>\n",
       "      <td>7.8</td>\n",
       "      <td>20.9</td>\n",
       "      <td>266.0</td>\n",
       "      <td>1.9</td>\n",
       "      <td>7.0</td>\n",
       "      <td>19.4</td>\n",
       "      <td>1.0</td>\n",
       "      <td>12.2</td>\n",
       "      <td>294908.0</td>\n",
       "    </tr>\n",
       "    <tr>\n",
       "      <th>1900-01-01 18:00:00</th>\n",
       "      <td>01-01T18:00:00</td>\n",
       "      <td>52.3</td>\n",
       "      <td>48.0</td>\n",
       "      <td>57.0</td>\n",
       "      <td>44.1</td>\n",
       "      <td>36.0</td>\n",
       "      <td>51.1</td>\n",
       "      <td>1019.2</td>\n",
       "      <td>1010.2</td>\n",
       "      <td>1025.9</td>\n",
       "      <td>...</td>\n",
       "      <td>51.3</td>\n",
       "      <td>7.8</td>\n",
       "      <td>18.2</td>\n",
       "      <td>260.0</td>\n",
       "      <td>2.3</td>\n",
       "      <td>7.0</td>\n",
       "      <td>26.5</td>\n",
       "      <td>4.0</td>\n",
       "      <td>14.8</td>\n",
       "      <td>299952.0</td>\n",
       "    </tr>\n",
       "    <tr>\n",
       "      <th>1900-01-01 19:00:00</th>\n",
       "      <td>01-01T19:00:00</td>\n",
       "      <td>51.6</td>\n",
       "      <td>46.9</td>\n",
       "      <td>55.9</td>\n",
       "      <td>44.1</td>\n",
       "      <td>36.0</td>\n",
       "      <td>51.1</td>\n",
       "      <td>1019.4</td>\n",
       "      <td>1010.5</td>\n",
       "      <td>1026.0</td>\n",
       "      <td>...</td>\n",
       "      <td>50.4</td>\n",
       "      <td>7.6</td>\n",
       "      <td>17.6</td>\n",
       "      <td>252.0</td>\n",
       "      <td>1.8</td>\n",
       "      <td>7.0</td>\n",
       "      <td>23.0</td>\n",
       "      <td>4.0</td>\n",
       "      <td>14.0</td>\n",
       "      <td>296337.0</td>\n",
       "    </tr>\n",
       "    <tr>\n",
       "      <th>1900-01-01 20:00:00</th>\n",
       "      <td>01-01T20:00:00</td>\n",
       "      <td>51.1</td>\n",
       "      <td>46.9</td>\n",
       "      <td>55.9</td>\n",
       "      <td>43.9</td>\n",
       "      <td>36.0</td>\n",
       "      <td>51.1</td>\n",
       "      <td>1019.6</td>\n",
       "      <td>1011.0</td>\n",
       "      <td>1026.3</td>\n",
       "      <td>...</td>\n",
       "      <td>49.9</td>\n",
       "      <td>7.2</td>\n",
       "      <td>20.7</td>\n",
       "      <td>233.0</td>\n",
       "      <td>1.2</td>\n",
       "      <td>7.0</td>\n",
       "      <td>18.8</td>\n",
       "      <td>4.0</td>\n",
       "      <td>14.3</td>\n",
       "      <td>289061.0</td>\n",
       "    </tr>\n",
       "    <tr>\n",
       "      <th>1900-01-01 21:00:00</th>\n",
       "      <td>01-01T21:00:00</td>\n",
       "      <td>50.6</td>\n",
       "      <td>46.0</td>\n",
       "      <td>55.0</td>\n",
       "      <td>43.8</td>\n",
       "      <td>36.0</td>\n",
       "      <td>50.0</td>\n",
       "      <td>1019.8</td>\n",
       "      <td>1011.0</td>\n",
       "      <td>1026.5</td>\n",
       "      <td>...</td>\n",
       "      <td>49.3</td>\n",
       "      <td>7.1</td>\n",
       "      <td>19.4</td>\n",
       "      <td>210.0</td>\n",
       "      <td>1.3</td>\n",
       "      <td>7.0</td>\n",
       "      <td>19.2</td>\n",
       "      <td>4.0</td>\n",
       "      <td>16.8</td>\n",
       "      <td>278538.0</td>\n",
       "    </tr>\n",
       "    <tr>\n",
       "      <th>1900-01-01 22:00:00</th>\n",
       "      <td>01-01T22:00:00</td>\n",
       "      <td>49.9</td>\n",
       "      <td>45.0</td>\n",
       "      <td>54.0</td>\n",
       "      <td>43.7</td>\n",
       "      <td>35.1</td>\n",
       "      <td>51.1</td>\n",
       "      <td>1019.9</td>\n",
       "      <td>1011.5</td>\n",
       "      <td>1026.6</td>\n",
       "      <td>...</td>\n",
       "      <td>48.6</td>\n",
       "      <td>6.6</td>\n",
       "      <td>24.7</td>\n",
       "      <td>203.0</td>\n",
       "      <td>1.3</td>\n",
       "      <td>4.0</td>\n",
       "      <td>18.2</td>\n",
       "      <td>7.0</td>\n",
       "      <td>14.8</td>\n",
       "      <td>262639.0</td>\n",
       "    </tr>\n",
       "    <tr>\n",
       "      <th>1900-01-01 23:00:00</th>\n",
       "      <td>01-01T23:00:00</td>\n",
       "      <td>49.5</td>\n",
       "      <td>45.0</td>\n",
       "      <td>54.0</td>\n",
       "      <td>43.7</td>\n",
       "      <td>36.0</td>\n",
       "      <td>51.1</td>\n",
       "      <td>1020.0</td>\n",
       "      <td>1011.3</td>\n",
       "      <td>1026.9</td>\n",
       "      <td>...</td>\n",
       "      <td>48.1</td>\n",
       "      <td>6.5</td>\n",
       "      <td>26.9</td>\n",
       "      <td>201.0</td>\n",
       "      <td>1.3</td>\n",
       "      <td>4.0</td>\n",
       "      <td>17.4</td>\n",
       "      <td>7.0</td>\n",
       "      <td>12.3</td>\n",
       "      <td>246686.0</td>\n",
       "    </tr>\n",
       "  </tbody>\n",
       "</table>\n",
       "<p>24 rows × 28 columns</p>\n",
       "</div>"
      ],
      "text/plain": [
       "                               date  HLY_TEMP_NORMAL  HLY_TEMP_10PCTL  \\\n",
       "date                                                                    \n",
       "1900-01-01 00:00:00  01-01T00:00:00             48.8             44.1   \n",
       "1900-01-01 01:00:00  01-01T01:00:00             48.5             43.0   \n",
       "1900-01-01 02:00:00  01-01T02:00:00             47.6             42.1   \n",
       "1900-01-01 03:00:00  01-01T03:00:00             47.2             41.0   \n",
       "1900-01-01 04:00:00  01-01T04:00:00             46.8             39.9   \n",
       "1900-01-01 05:00:00  01-01T05:00:00             46.6             39.9   \n",
       "1900-01-01 06:00:00  01-01T06:00:00             46.6             39.9   \n",
       "1900-01-01 07:00:00  01-01T07:00:00             46.8             41.0   \n",
       "1900-01-01 08:00:00  01-01T08:00:00             47.2             41.0   \n",
       "1900-01-01 09:00:00  01-01T09:00:00             48.9             44.1   \n",
       "1900-01-01 10:00:00  01-01T10:00:00             50.5             46.0   \n",
       "1900-01-01 11:00:00  01-01T11:00:00             51.5             46.9   \n",
       "1900-01-01 12:00:00  01-01T12:00:00             52.4             48.0   \n",
       "1900-01-01 13:00:00  01-01T13:00:00             53.2             48.9   \n",
       "1900-01-01 14:00:00  01-01T14:00:00             53.8             48.9   \n",
       "1900-01-01 15:00:00  01-01T15:00:00             54.1             48.9   \n",
       "1900-01-01 16:00:00  01-01T16:00:00             53.9             48.9   \n",
       "1900-01-01 17:00:00  01-01T17:00:00             53.0             48.9   \n",
       "1900-01-01 18:00:00  01-01T18:00:00             52.3             48.0   \n",
       "1900-01-01 19:00:00  01-01T19:00:00             51.6             46.9   \n",
       "1900-01-01 20:00:00  01-01T20:00:00             51.1             46.9   \n",
       "1900-01-01 21:00:00  01-01T21:00:00             50.6             46.0   \n",
       "1900-01-01 22:00:00  01-01T22:00:00             49.9             45.0   \n",
       "1900-01-01 23:00:00  01-01T23:00:00             49.5             45.0   \n",
       "\n",
       "                     HLY_TEMP_90PCTL  HLY_DEWP_NORMAL  HLY_DEWP_10PCTL  \\\n",
       "date                                                                     \n",
       "1900-01-01 00:00:00             54.0             43.2             35.1   \n",
       "1900-01-01 01:00:00             54.0             43.1             35.1   \n",
       "1900-01-01 02:00:00             53.1             42.6             35.1   \n",
       "1900-01-01 03:00:00             54.0             42.3             34.0   \n",
       "1900-01-01 04:00:00             53.1             42.2             34.0   \n",
       "1900-01-01 05:00:00             53.1             42.0             34.0   \n",
       "1900-01-01 06:00:00             53.1             42.0             34.0   \n",
       "1900-01-01 07:00:00             53.1             42.2             34.0   \n",
       "1900-01-01 08:00:00             53.1             42.3             35.1   \n",
       "1900-01-01 09:00:00             54.0             43.0             35.1   \n",
       "1900-01-01 10:00:00             55.0             43.3             35.1   \n",
       "1900-01-01 11:00:00             55.9             43.4             35.1   \n",
       "1900-01-01 12:00:00             57.0             43.7             36.0   \n",
       "1900-01-01 13:00:00             57.9             43.6             34.0   \n",
       "1900-01-01 14:00:00             57.9             43.7             34.0   \n",
       "1900-01-01 15:00:00             59.0             43.8             35.1   \n",
       "1900-01-01 16:00:00             57.9             43.8             35.1   \n",
       "1900-01-01 17:00:00             57.9             44.0             36.0   \n",
       "1900-01-01 18:00:00             57.0             44.1             36.0   \n",
       "1900-01-01 19:00:00             55.9             44.1             36.0   \n",
       "1900-01-01 20:00:00             55.9             43.9             36.0   \n",
       "1900-01-01 21:00:00             55.0             43.8             36.0   \n",
       "1900-01-01 22:00:00             54.0             43.7             35.1   \n",
       "1900-01-01 23:00:00             54.0             43.7             36.0   \n",
       "\n",
       "                     HLY_DEWP_90PCTL  HLY_PRES_NORMAL  HLY_PRES_10PCTL  \\\n",
       "date                                                                     \n",
       "1900-01-01 00:00:00             50.0           1020.1           1011.5   \n",
       "1900-01-01 01:00:00             50.0           1019.9           1011.0   \n",
       "1900-01-01 02:00:00             50.0           1020.0           1011.2   \n",
       "1900-01-01 03:00:00             50.0           1020.0           1011.2   \n",
       "1900-01-01 04:00:00             50.0           1019.8           1010.5   \n",
       "1900-01-01 05:00:00             48.9           1019.7           1010.4   \n",
       "1900-01-01 06:00:00             50.0           1019.9           1010.6   \n",
       "1900-01-01 07:00:00             48.9           1020.1           1010.8   \n",
       "1900-01-01 08:00:00             50.0           1020.4           1010.9   \n",
       "1900-01-01 09:00:00             50.0           1020.8           1011.3   \n",
       "1900-01-01 10:00:00             50.0           1021.3           1011.9   \n",
       "1900-01-01 11:00:00             50.0           1021.1           1012.2   \n",
       "1900-01-01 12:00:00             51.1           1020.3           1011.7   \n",
       "1900-01-01 13:00:00             51.1           1019.6           1011.0   \n",
       "1900-01-01 14:00:00             51.1           1019.1           1010.5   \n",
       "1900-01-01 15:00:00             51.1           1019.0           1010.6   \n",
       "1900-01-01 16:00:00             51.1           1019.0           1010.2   \n",
       "1900-01-01 17:00:00             51.1           1019.0           1010.3   \n",
       "1900-01-01 18:00:00             51.1           1019.2           1010.2   \n",
       "1900-01-01 19:00:00             51.1           1019.4           1010.5   \n",
       "1900-01-01 20:00:00             51.1           1019.6           1011.0   \n",
       "1900-01-01 21:00:00             50.0           1019.8           1011.0   \n",
       "1900-01-01 22:00:00             51.1           1019.9           1011.5   \n",
       "1900-01-01 23:00:00             51.1           1020.0           1011.3   \n",
       "\n",
       "                     HLY_PRES_90PCTL  ...  HLY_WCHL_NORMAL  HLY_WIND_AVGSPD  \\\n",
       "date                                  ...                                     \n",
       "1900-01-01 00:00:00           1026.9  ...             47.3              6.3   \n",
       "1900-01-01 01:00:00           1026.8  ...             47.0              6.2   \n",
       "1900-01-01 02:00:00           1026.8  ...             46.0              6.2   \n",
       "1900-01-01 03:00:00           1026.9  ...             45.5              6.2   \n",
       "1900-01-01 04:00:00           1026.6  ...             45.0              5.9   \n",
       "1900-01-01 05:00:00           1026.7  ...             44.7              6.2   \n",
       "1900-01-01 06:00:00           1027.0  ...             44.8              5.8   \n",
       "1900-01-01 07:00:00           1027.2  ...             44.9              6.2   \n",
       "1900-01-01 08:00:00           1027.5  ...             45.3              6.3   \n",
       "1900-01-01 09:00:00           1027.9  ...             47.3              6.6   \n",
       "1900-01-01 10:00:00           1028.2  ...             49.2              7.2   \n",
       "1900-01-01 11:00:00           1028.0  ...             50.5              7.5   \n",
       "1900-01-01 12:00:00           1027.1  ...             51.7              7.7   \n",
       "1900-01-01 13:00:00           1026.3  ...             52.7              7.9   \n",
       "1900-01-01 14:00:00           1025.7  ...             53.3              7.9   \n",
       "1900-01-01 15:00:00           1025.6  ...             53.7              7.7   \n",
       "1900-01-01 16:00:00           1025.6  ...             53.4              7.6   \n",
       "1900-01-01 17:00:00           1025.7  ...             52.3              7.8   \n",
       "1900-01-01 18:00:00           1025.9  ...             51.3              7.8   \n",
       "1900-01-01 19:00:00           1026.0  ...             50.4              7.6   \n",
       "1900-01-01 20:00:00           1026.3  ...             49.9              7.2   \n",
       "1900-01-01 21:00:00           1026.5  ...             49.3              7.1   \n",
       "1900-01-01 22:00:00           1026.6  ...             48.6              6.6   \n",
       "1900-01-01 23:00:00           1026.9  ...             48.1              6.5   \n",
       "\n",
       "                     HLY_WIND_PCTCLM  HLY_WIND_VCTDIR  HLY_WIND_VCTSPD  \\\n",
       "date                                                                     \n",
       "1900-01-01 00:00:00             25.4            196.0              1.1   \n",
       "1900-01-01 01:00:00             28.5            193.0              1.2   \n",
       "1900-01-01 02:00:00             26.5            184.0              0.9   \n",
       "1900-01-01 03:00:00             24.9            178.0              1.1   \n",
       "1900-01-01 04:00:00             27.9            175.0              0.8   \n",
       "1900-01-01 05:00:00             22.9            186.0              1.0   \n",
       "1900-01-01 06:00:00             28.3            158.0              0.9   \n",
       "1900-01-01 07:00:00             26.7            156.0              1.4   \n",
       "1900-01-01 08:00:00             26.7            140.0              1.7   \n",
       "1900-01-01 09:00:00             25.6            128.0              1.7   \n",
       "1900-01-01 10:00:00             18.5            103.0              1.8   \n",
       "1900-01-01 11:00:00             12.7             85.0              1.8   \n",
       "1900-01-01 12:00:00             10.7             75.0              1.2   \n",
       "1900-01-01 13:00:00             15.1             35.0              0.5   \n",
       "1900-01-01 14:00:00             16.9            330.0              1.0   \n",
       "1900-01-01 15:00:00             20.9            303.0              1.1   \n",
       "1900-01-01 16:00:00             23.3            279.0              1.6   \n",
       "1900-01-01 17:00:00             20.9            266.0              1.9   \n",
       "1900-01-01 18:00:00             18.2            260.0              2.3   \n",
       "1900-01-01 19:00:00             17.6            252.0              1.8   \n",
       "1900-01-01 20:00:00             20.7            233.0              1.2   \n",
       "1900-01-01 21:00:00             19.4            210.0              1.3   \n",
       "1900-01-01 22:00:00             24.7            203.0              1.3   \n",
       "1900-01-01 23:00:00             26.9            201.0              1.3   \n",
       "\n",
       "                     HLY_WIND_1STDIR  HLY_WIND_1STPCT  HLY_WIND_2NDDIR  \\\n",
       "date                                                                     \n",
       "1900-01-01 00:00:00              5.0             14.7              4.0   \n",
       "1900-01-01 01:00:00              4.0             14.6              5.0   \n",
       "1900-01-01 02:00:00              4.0             14.8              6.0   \n",
       "1900-01-01 03:00:00              4.0             16.3              5.0   \n",
       "1900-01-01 04:00:00              4.0             15.6              7.0   \n",
       "1900-01-01 05:00:00              4.0             15.9              5.0   \n",
       "1900-01-01 06:00:00              4.0             18.9              5.0   \n",
       "1900-01-01 07:00:00              4.0             21.8              5.0   \n",
       "1900-01-01 08:00:00              4.0             24.4              5.0   \n",
       "1900-01-01 09:00:00              4.0             24.9              3.0   \n",
       "1900-01-01 10:00:00              3.0             21.0              4.0   \n",
       "1900-01-01 11:00:00              3.0             22.6              2.0   \n",
       "1900-01-01 12:00:00              3.0             22.2              2.0   \n",
       "1900-01-01 13:00:00              1.0             20.2              2.0   \n",
       "1900-01-01 14:00:00              1.0             20.2              2.0   \n",
       "1900-01-01 15:00:00              1.0             21.5              2.0   \n",
       "1900-01-01 16:00:00              7.0             17.6              1.0   \n",
       "1900-01-01 17:00:00              7.0             19.4              1.0   \n",
       "1900-01-01 18:00:00              7.0             26.5              4.0   \n",
       "1900-01-01 19:00:00              7.0             23.0              4.0   \n",
       "1900-01-01 20:00:00              7.0             18.8              4.0   \n",
       "1900-01-01 21:00:00              7.0             19.2              4.0   \n",
       "1900-01-01 22:00:00              4.0             18.2              7.0   \n",
       "1900-01-01 23:00:00              4.0             17.4              7.0   \n",
       "\n",
       "                     HLY_WIND_2NDPCT  Megawatts  \n",
       "date                                             \n",
       "1900-01-01 00:00:00             14.3   273786.0  \n",
       "1900-01-01 01:00:00             13.1   243000.0  \n",
       "1900-01-01 02:00:00             12.5   235962.0  \n",
       "1900-01-01 03:00:00             13.5   231944.0  \n",
       "1900-01-01 04:00:00             11.2   230219.0  \n",
       "1900-01-01 05:00:00             13.5   235383.0  \n",
       "1900-01-01 06:00:00             10.7   243281.0  \n",
       "1900-01-01 07:00:00             14.6   243793.0  \n",
       "1900-01-01 08:00:00             12.3   237974.0  \n",
       "1900-01-01 09:00:00             12.8   228866.0  \n",
       "1900-01-01 10:00:00             20.4   221268.0  \n",
       "1900-01-01 11:00:00             17.7   216362.0  \n",
       "1900-01-01 12:00:00             20.5   214476.0  \n",
       "1900-01-01 13:00:00             19.6   216342.0  \n",
       "1900-01-01 14:00:00             18.7   227833.0  \n",
       "1900-01-01 15:00:00             13.7   242087.0  \n",
       "1900-01-01 16:00:00             16.8   263675.0  \n",
       "1900-01-01 17:00:00             12.2   294908.0  \n",
       "1900-01-01 18:00:00             14.8   299952.0  \n",
       "1900-01-01 19:00:00             14.0   296337.0  \n",
       "1900-01-01 20:00:00             14.3   289061.0  \n",
       "1900-01-01 21:00:00             16.8   278538.0  \n",
       "1900-01-01 22:00:00             14.8   262639.0  \n",
       "1900-01-01 23:00:00             12.3   246686.0  \n",
       "\n",
       "[24 rows x 28 columns]"
      ]
     },
     "execution_count": 172,
     "metadata": {},
     "output_type": "execute_result"
    }
   ],
   "source": [
    "df.index = pd.to_datetime(df['date'], format='%m-%dT%H:%M:%S')\n",
    "df = df[:24] #showing 24\n",
    "caisoData = caiso_df['Megawatts']\n",
    "df['Megawatts'] = caiso_df['Megawatts'].values\n",
    "df"
   ]
  },
  {
   "cell_type": "code",
   "execution_count": 221,
   "id": "49f1a9cd",
   "metadata": {},
   "outputs": [
    {
     "data": {
      "text/plain": [
       "<AxesSubplot:xlabel='date'>"
      ]
     },
     "execution_count": 221,
     "metadata": {},
     "output_type": "execute_result"
    },
    {
     "data": {
      "image/png": "[encoded data removed]",
      "text/plain": [
       "<Figure size 432x288 with 1 Axes>"
      ]
     },
     "metadata": {
      "needs_background": "light"
     },
     "output_type": "display_data"
    }
   ],
   "source": [
    "temp = df['Megawatts']\n",
    "temp.plot()"
   ]
  },
  {
   "cell_type": "markdown",
   "id": "19874ee4",
   "metadata": {},
   "source": [
    "- temperature at hour: 1,2,3,4,5 and predict for hour:6\n",
    "- temperature at hour: 2,3,4,5,6 and predict for hour: 7\n",
    "- output: y vector - [6] [7] \n",
    "- input: x matrix? - [1,2,3,4,5] [2,3,4,5,6]\n",
    "\n",
    "1. to make it multivariate:\n",
    "- temperature and clouds at hour: 1,2,3,4,5 and predict for hour:6\n",
    "- temperature at hour: 2,3,4,5,6 and predict for hour: 7\n",
    "- output: y vector - [6] [7] \n",
    "- input: x matrix? - [[1,cloud1],[2, cloud2],[3,cloud3],[4, cloud4],[5,cloud5] [2,3,4,5,6] etc etc"
   ]
  },
  {
   "cell_type": "code",
   "execution_count": 222,
   "id": "0293e0a1",
   "metadata": {},
   "outputs": [],
   "source": [
    "#make the X data = [1,2,3,4,5] the list of lists with 5 pieces of past data\n",
    "# make the y data = output prediction\n",
    "def df_to_X_y(df, window_size= 2):\n",
    "    df_as_np = df.to_numpy()\n",
    "    X = []\n",
    "    y = []\n",
    "    for i in range(len(df_as_np)-window_size):\n",
    "        row = [ [a] for a in df_as_np[i:i+window_size]]\n",
    "        X.append(row)\n",
    "        label = df_as_np[i+window_size]\n",
    "        y.append(label)\n",
    "    return np.array(X), np.array(y)\n",
    "        "
   ]
  },
  {
   "cell_type": "code",
   "execution_count": 223,
   "id": "fcafdfec",
   "metadata": {},
   "outputs": [
    {
     "data": {
      "text/plain": [
       "((19, 5, 1), (19,))"
      ]
     },
     "execution_count": 223,
     "metadata": {},
     "output_type": "execute_result"
    }
   ],
   "source": [
    "WINDOW_SIZE = 5\n",
    "X, y = df_to_X_y(temp, WINDOW_SIZE)\n",
    "X.shape, y.shape"
   ]
  },
  {
   "cell_type": "markdown",
   "id": "932578b0",
   "metadata": {},
   "source": [
    "# Train and testing data\n",
    "\n",
    "- 0.7 training\n",
    "- 0.1 validation\n",
    "- 0.2 testing"
   ]
  },
  {
   "cell_type": "code",
   "execution_count": 224,
   "id": "95e0737d",
   "metadata": {},
   "outputs": [
    {
     "data": {
      "text/plain": [
       "((11, 5, 1), (11,), (3, 5, 1), (3,), (5, 5, 1), (5,))"
      ]
     },
     "execution_count": 224,
     "metadata": {},
     "output_type": "execute_result"
    }
   ],
   "source": [
    "train_percent = 0.6\n",
    "validation_percent = 0.2\n",
    "test_percent = 0.2\n",
    "train_percent_split = int(train_percent * len(X))\n",
    "validation_percent_split = int(validation_percent * len(X)) + train_percent_split\n",
    "test_percent_split = int(test_percent * len(X))\n",
    "\n",
    "X_train, y_train = X[:train_percent_split], y[:train_percent_split]\n",
    "\n",
    "X_val, y_val = X[train_percent_split:validation_percent_split], y[train_percent_split:validation_percent_split] #validation\n",
    "\n",
    "X_test, y_test = X[validation_percent_split:], y[validation_percent_split:]\n",
    "\n",
    "X_train.shape, y_train.shape, X_val.shape, y_val.shape, X_test.shape, y_test.shape"
   ]
  },
  {
   "cell_type": "code",
   "execution_count": 237,
   "id": "130b3e7d",
   "metadata": {},
   "outputs": [],
   "source": [
    "from tensorflow.keras.models import Sequential\n",
    "from tensorflow.keras.layers import *\n",
    "from tensorflow.keras.callbacks import ModelCheckpoint\n",
    "from tensorflow.keras.losses import MeanSquaredError\n",
    "from tensorflow.keras.metrics import RootMeanSquaredError\n",
    "from tensorflow.keras.metrics import MeanAbsoluteError\n",
    "from tensorflow.keras.optimizers import Adam"
   ]
  },
  {
   "cell_type": "code",
   "execution_count": 238,
   "id": "04575de0",
   "metadata": {},
   "outputs": [],
   "source": [
    "# #model input layer is 24, 1 - shape of data\n",
    "# #when i apply a new layer, I am increasing complexity of model \n",
    "# model = Sequential()\n",
    "# model.add(LSTM(64, input_shape=(1,4))) #64 = # of units for each layer; 4 = # of features/columns, 1 = timestep\n",
    "# model.add(Dense(8, 'relu')) #relu to learn non-linear dependencies\n",
    "# model.add(Dense(1, 'linear')) #linear value, pos or neg (for temp)\n",
    "# model.summary()"
   ]
  },
  {
   "cell_type": "code",
   "execution_count": 239,
   "id": "5211a357",
   "metadata": {},
   "outputs": [
    {
     "name": "stdout",
     "output_type": "stream",
     "text": [
      "Model: \"sequential_17\"\n",
      "_________________________________________________________________\n",
      " Layer (type)                Output Shape              Param #   \n",
      "=================================================================\n",
      " lstm_17 (LSTM)              (None, 64)                16896     \n",
      "                                                                 \n",
      " dense_34 (Dense)            (None, 8)                 520       \n",
      "                                                                 \n",
      " dense_35 (Dense)            (None, 1)                 9         \n",
      "                                                                 \n",
      "=================================================================\n",
      "Total params: 17,425\n",
      "Trainable params: 17,425\n",
      "Non-trainable params: 0\n",
      "_________________________________________________________________\n"
     ]
    }
   ],
   "source": [
    "model1 = Sequential() #first model's output is the next models input\n",
    "#from X_train.shape which is 6000, 24, 1\n",
    "model1.add(InputLayer((5,1))) # 4 = # of features/columns, 1 = timestep\n",
    "model1.add(LSTM(64))  #64 = # of units for each layer; output is determined by first param, 64 \n",
    "# dimensionality of the output space????\n",
    "model1.add(Dense(8, 'relu')) #relu to learn non-linear dependencies\n",
    "model1.add(Dense(1, 'linear')) #linear value, pos or neg (for temp)\n",
    "model1.summary()"
   ]
  },
  {
   "cell_type": "code",
   "execution_count": 240,
   "id": "85bda944",
   "metadata": {},
   "outputs": [],
   "source": [
    "cp = ModelCheckpoint('model1/', save_best_only = True) #I want to only save the best model (lowest validation loss)\n",
    "#learning rate = higher the value, faster model tries to decrease loss\n",
    "#but we don't want to dec super fast bc it won't find local min/max\n",
    "model1.compile(loss = MeanSquaredError(), optimizer = Adam(learning_rate = 0.0001), metrics = [MeanAbsoluteError()])\n"
   ]
  },
  {
   "cell_type": "code",
   "execution_count": 241,
   "id": "7d48936f",
   "metadata": {},
   "outputs": [
    {
     "name": "stdout",
     "output_type": "stream",
     "text": [
      "Epoch 1/20\n",
      "1/1 [==============================] - ETA: 0s - loss: 52920582144.0000 - mean_absolute_error: 229787.6094"
     ]
    },
    {
     "name": "stderr",
     "output_type": "stream",
     "text": [
      "WARNING:absl:Found untraced functions such as lstm_cell_28_layer_call_fn, lstm_cell_28_layer_call_and_return_conditional_losses, lstm_cell_28_layer_call_fn, lstm_cell_28_layer_call_and_return_conditional_losses, lstm_cell_28_layer_call_and_return_conditional_losses while saving (showing 5 of 5). These functions will not be directly callable after loading.\n"
     ]
    },
    {
     "name": "stdout",
     "output_type": "stream",
     "text": [
      "INFO:tensorflow:Assets written to: model1/assets\n"
     ]
    },
    {
     "name": "stderr",
     "output_type": "stream",
     "text": [
      "INFO:tensorflow:Assets written to: model1/assets\n",
      "WARNING:absl:<keras.layers.recurrent.LSTMCell object at 0x7f8a21d1c160> has the same name 'LSTMCell' as a built-in Keras object. Consider renaming <class 'keras.layers.recurrent.LSTMCell'> to avoid naming conflicts when loading with `tf.keras.models.load_model`. If renaming is not possible, pass the object in the `custom_objects` parameter of the load function.\n"
     ]
    },
    {
     "name": "stdout",
     "output_type": "stream",
     "text": [
      "1/1 [==============================] - 4s 4s/step - loss: 52920582144.0000 - mean_absolute_error: 229787.6094 - val_loss: 82155405312.0000 - val_mean_absolute_error: 286178.2188\n",
      "Epoch 2/20\n",
      "1/1 [==============================] - 0s 28ms/step - loss: 52920582144.0000 - mean_absolute_error: 229787.6094 - val_loss: 82155405312.0000 - val_mean_absolute_error: 286178.2188\n",
      "Epoch 3/20\n",
      "1/1 [==============================] - 0s 33ms/step - loss: 52920582144.0000 - mean_absolute_error: 229787.6094 - val_loss: 82155405312.0000 - val_mean_absolute_error: 286178.2188\n",
      "Epoch 4/20\n",
      "1/1 [==============================] - 0s 34ms/step - loss: 52920569856.0000 - mean_absolute_error: 229787.5938 - val_loss: 82155405312.0000 - val_mean_absolute_error: 286178.2188\n",
      "Epoch 5/20\n",
      "1/1 [==============================] - 0s 31ms/step - loss: 52920578048.0000 - mean_absolute_error: 229787.5938 - val_loss: 82155405312.0000 - val_mean_absolute_error: 286178.2188\n",
      "Epoch 6/20\n",
      "1/1 [==============================] - 0s 26ms/step - loss: 52920569856.0000 - mean_absolute_error: 229787.5938 - val_loss: 82155405312.0000 - val_mean_absolute_error: 286178.2188\n",
      "Epoch 7/20\n",
      "1/1 [==============================] - 0s 35ms/step - loss: 52920578048.0000 - mean_absolute_error: 229787.5938 - val_loss: 82155405312.0000 - val_mean_absolute_error: 286178.2188\n",
      "Epoch 8/20\n",
      "1/1 [==============================] - 0s 29ms/step - loss: 52920569856.0000 - mean_absolute_error: 229787.5938 - val_loss: 82155405312.0000 - val_mean_absolute_error: 286178.2188\n",
      "Epoch 9/20\n",
      "1/1 [==============================] - 0s 35ms/step - loss: 52920578048.0000 - mean_absolute_error: 229787.5938 - val_loss: 82155405312.0000 - val_mean_absolute_error: 286178.2188\n",
      "Epoch 10/20\n",
      "1/1 [==============================] - 0s 30ms/step - loss: 52920578048.0000 - mean_absolute_error: 229787.5938 - val_loss: 82155405312.0000 - val_mean_absolute_error: 286178.2188\n",
      "Epoch 11/20\n",
      "1/1 [==============================] - 0s 38ms/step - loss: 52920569856.0000 - mean_absolute_error: 229787.5938 - val_loss: 82155405312.0000 - val_mean_absolute_error: 286178.2188\n",
      "Epoch 12/20\n",
      "1/1 [==============================] - 0s 30ms/step - loss: 52920569856.0000 - mean_absolute_error: 229787.5938 - val_loss: 82155405312.0000 - val_mean_absolute_error: 286178.2188\n",
      "Epoch 13/20\n",
      "1/1 [==============================] - ETA: 0s - loss: 52920569856.0000 - mean_absolute_error: 229787.5938"
     ]
    },
    {
     "name": "stderr",
     "output_type": "stream",
     "text": [
      "WARNING:absl:Found untraced functions such as lstm_cell_28_layer_call_fn, lstm_cell_28_layer_call_and_return_conditional_losses, lstm_cell_28_layer_call_fn, lstm_cell_28_layer_call_and_return_conditional_losses, lstm_cell_28_layer_call_and_return_conditional_losses while saving (showing 5 of 5). These functions will not be directly callable after loading.\n"
     ]
    },
    {
     "name": "stdout",
     "output_type": "stream",
     "text": [
      "INFO:tensorflow:Assets written to: model1/assets\n"
     ]
    },
    {
     "name": "stderr",
     "output_type": "stream",
     "text": [
      "INFO:tensorflow:Assets written to: model1/assets\n",
      "WARNING:absl:<keras.layers.recurrent.LSTMCell object at 0x7f8a21d1c160> has the same name 'LSTMCell' as a built-in Keras object. Consider renaming <class 'keras.layers.recurrent.LSTMCell'> to avoid naming conflicts when loading with `tf.keras.models.load_model`. If renaming is not possible, pass the object in the `custom_objects` parameter of the load function.\n"
     ]
    },
    {
     "name": "stdout",
     "output_type": "stream",
     "text": [
      "1/1 [==============================] - 3s 3s/step - loss: 52920569856.0000 - mean_absolute_error: 229787.5938 - val_loss: 82155380736.0000 - val_mean_absolute_error: 286178.1562\n",
      "Epoch 14/20\n",
      "1/1 [==============================] - 0s 20ms/step - loss: 52920569856.0000 - mean_absolute_error: 229787.5938 - val_loss: 82155380736.0000 - val_mean_absolute_error: 286178.1562\n",
      "Epoch 15/20\n",
      "1/1 [==============================] - 0s 22ms/step - loss: 52920569856.0000 - mean_absolute_error: 229787.5938 - val_loss: 82155380736.0000 - val_mean_absolute_error: 286178.1562\n",
      "Epoch 16/20\n",
      "1/1 [==============================] - 0s 19ms/step - loss: 52920569856.0000 - mean_absolute_error: 229787.5938 - val_loss: 82155380736.0000 - val_mean_absolute_error: 286178.1562\n",
      "Epoch 17/20\n",
      "1/1 [==============================] - 0s 21ms/step - loss: 52920557568.0000 - mean_absolute_error: 229787.5625 - val_loss: 82155380736.0000 - val_mean_absolute_error: 286178.1562\n",
      "Epoch 18/20\n",
      "1/1 [==============================] - 0s 20ms/step - loss: 52920557568.0000 - mean_absolute_error: 229787.5625 - val_loss: 82155380736.0000 - val_mean_absolute_error: 286178.1562\n",
      "Epoch 19/20\n",
      "1/1 [==============================] - 0s 19ms/step - loss: 52920557568.0000 - mean_absolute_error: 229787.5625 - val_loss: 82155380736.0000 - val_mean_absolute_error: 286178.1562\n",
      "Epoch 20/20\n",
      "1/1 [==============================] - 0s 18ms/step - loss: 52920565760.0000 - mean_absolute_error: 229787.5625 - val_loss: 82155380736.0000 - val_mean_absolute_error: 286178.1562\n"
     ]
    },
    {
     "data": {
      "text/plain": [
       "<keras.callbacks.History at 0x7f8a1e25ef40>"
      ]
     },
     "execution_count": 241,
     "metadata": {},
     "output_type": "execute_result"
    }
   ],
   "source": [
    "# epochs - each sample in the training dataset has had an opportunity to update the internal model parameters\n",
    "# callbacks - an object that can perform actions at various stages of training\n",
    "model1.fit(X_train, y_train, validation_data=(X_val, y_val), epochs = 20, callbacks = [cp])"
   ]
  },
  {
   "cell_type": "code",
   "execution_count": 230,
   "id": "ce1e9a9b",
   "metadata": {},
   "outputs": [],
   "source": [
    "from tensorflow.keras.models import load_model\n",
    "model1 = load_model('model1/')"
   ]
  },
  {
   "cell_type": "code",
   "execution_count": 232,
   "id": "bd7f5e7a",
   "metadata": {},
   "outputs": [
    {
     "data": {
      "text/html": [
       "<div>\n",
       "<style scoped>\n",
       "    .dataframe tbody tr th:only-of-type {\n",
       "        vertical-align: middle;\n",
       "    }\n",
       "\n",
       "    .dataframe tbody tr th {\n",
       "        vertical-align: top;\n",
       "    }\n",
       "\n",
       "    .dataframe thead th {\n",
       "        text-align: right;\n",
       "    }\n",
       "</style>\n",
       "<table border=\"1\" class=\"dataframe\">\n",
       "  <thead>\n",
       "    <tr style=\"text-align: right;\">\n",
       "      <th></th>\n",
       "      <th>Train Predictions</th>\n",
       "      <th>Actuals</th>\n",
       "    </tr>\n",
       "  </thead>\n",
       "  <tbody>\n",
       "    <tr>\n",
       "      <th>0</th>\n",
       "      <td>0.828387</td>\n",
       "      <td>235383.0</td>\n",
       "    </tr>\n",
       "    <tr>\n",
       "      <th>1</th>\n",
       "      <td>0.828387</td>\n",
       "      <td>243281.0</td>\n",
       "    </tr>\n",
       "    <tr>\n",
       "      <th>2</th>\n",
       "      <td>0.828387</td>\n",
       "      <td>243793.0</td>\n",
       "    </tr>\n",
       "    <tr>\n",
       "      <th>3</th>\n",
       "      <td>0.828387</td>\n",
       "      <td>237974.0</td>\n",
       "    </tr>\n",
       "    <tr>\n",
       "      <th>4</th>\n",
       "      <td>0.828387</td>\n",
       "      <td>228866.0</td>\n",
       "    </tr>\n",
       "    <tr>\n",
       "      <th>5</th>\n",
       "      <td>0.828387</td>\n",
       "      <td>221268.0</td>\n",
       "    </tr>\n",
       "    <tr>\n",
       "      <th>6</th>\n",
       "      <td>0.828387</td>\n",
       "      <td>216362.0</td>\n",
       "    </tr>\n",
       "    <tr>\n",
       "      <th>7</th>\n",
       "      <td>0.828387</td>\n",
       "      <td>214476.0</td>\n",
       "    </tr>\n",
       "    <tr>\n",
       "      <th>8</th>\n",
       "      <td>0.828387</td>\n",
       "      <td>216342.0</td>\n",
       "    </tr>\n",
       "    <tr>\n",
       "      <th>9</th>\n",
       "      <td>0.828387</td>\n",
       "      <td>227833.0</td>\n",
       "    </tr>\n",
       "    <tr>\n",
       "      <th>10</th>\n",
       "      <td>0.828387</td>\n",
       "      <td>242087.0</td>\n",
       "    </tr>\n",
       "  </tbody>\n",
       "</table>\n",
       "</div>"
      ],
      "text/plain": [
       "    Train Predictions   Actuals\n",
       "0            0.828387  235383.0\n",
       "1            0.828387  243281.0\n",
       "2            0.828387  243793.0\n",
       "3            0.828387  237974.0\n",
       "4            0.828387  228866.0\n",
       "5            0.828387  221268.0\n",
       "6            0.828387  216362.0\n",
       "7            0.828387  214476.0\n",
       "8            0.828387  216342.0\n",
       "9            0.828387  227833.0\n",
       "10           0.828387  242087.0"
      ]
     },
     "execution_count": 232,
     "metadata": {},
     "output_type": "execute_result"
    }
   ],
   "source": [
    "train_predictions = model1.predict(X_train).flatten()\n",
    "train_results = pd.DataFrame(data = {'Train Predictions': train_predictions, 'Actuals':y_train})\n",
    "train_results"
   ]
  },
  {
   "cell_type": "code",
   "execution_count": 233,
   "id": "818db3a5",
   "metadata": {},
   "outputs": [
    {
     "data": {
      "text/plain": [
       "[<matplotlib.lines.Line2D at 0x7f8a1f0ddd30>]"
      ]
     },
     "execution_count": 233,
     "metadata": {},
     "output_type": "execute_result"
    },
    {
     "data": {
      "image/png": "[encoded data removed]",
      "text/plain": [
       "<Figure size 432x288 with 1 Axes>"
      ]
     },
     "metadata": {
      "needs_background": "light"
     },
     "output_type": "display_data"
    }
   ],
   "source": [
    "import matplotlib.pyplot as plt\n",
    "plt.plot(train_results['Train Predictions'][:], color = 'red')\n",
    "plt.plot(train_results['Actuals'][:], color = 'green')"
   ]
  },
  {
   "cell_type": "code",
   "execution_count": 234,
   "id": "dcc049d0",
   "metadata": {},
   "outputs": [
    {
     "data": {
      "text/html": [
       "<div>\n",
       "<style scoped>\n",
       "    .dataframe tbody tr th:only-of-type {\n",
       "        vertical-align: middle;\n",
       "    }\n",
       "\n",
       "    .dataframe tbody tr th {\n",
       "        vertical-align: top;\n",
       "    }\n",
       "\n",
       "    .dataframe thead th {\n",
       "        text-align: right;\n",
       "    }\n",
       "</style>\n",
       "<table border=\"1\" class=\"dataframe\">\n",
       "  <thead>\n",
       "    <tr style=\"text-align: right;\">\n",
       "      <th></th>\n",
       "      <th>Val Predictions</th>\n",
       "      <th>Actuals</th>\n",
       "    </tr>\n",
       "  </thead>\n",
       "  <tbody>\n",
       "    <tr>\n",
       "      <th>0</th>\n",
       "      <td>0.828387</td>\n",
       "      <td>263675.0</td>\n",
       "    </tr>\n",
       "    <tr>\n",
       "      <th>1</th>\n",
       "      <td>0.828387</td>\n",
       "      <td>294908.0</td>\n",
       "    </tr>\n",
       "    <tr>\n",
       "      <th>2</th>\n",
       "      <td>0.828387</td>\n",
       "      <td>299952.0</td>\n",
       "    </tr>\n",
       "  </tbody>\n",
       "</table>\n",
       "</div>"
      ],
      "text/plain": [
       "   Val Predictions   Actuals\n",
       "0         0.828387  263675.0\n",
       "1         0.828387  294908.0\n",
       "2         0.828387  299952.0"
      ]
     },
     "execution_count": 234,
     "metadata": {},
     "output_type": "execute_result"
    }
   ],
   "source": [
    "val_predictions = model1.predict(X_val).flatten()\n",
    "val_results = pd.DataFrame(data = {'Val Predictions': val_predictions, 'Actuals':y_val})\n",
    "val_results"
   ]
  },
  {
   "cell_type": "code",
   "execution_count": 235,
   "id": "4b9670b4",
   "metadata": {},
   "outputs": [
    {
     "data": {
      "text/plain": [
       "[<matplotlib.lines.Line2D at 0x7f8a20f8a220>]"
      ]
     },
     "execution_count": 235,
     "metadata": {},
     "output_type": "execute_result"
    },
    {
     "data": {
      "image/png": "[encoded data removed]",
      "text/plain": [
       "<Figure size 432x288 with 1 Axes>"
      ]
     },
     "metadata": {
      "needs_background": "light"
     },
     "output_type": "display_data"
    }
   ],
   "source": [
    "plt.plot(val_results['Val Predictions'][:150], color = 'red')\n",
    "plt.plot(val_results['Actuals'][:150], color = 'green')"
   ]
  },
  {
   "cell_type": "markdown",
   "id": "6f37dcc2",
   "metadata": {},
   "source": [
    "# Part 2 : https://www.youtube.com/watch?v=kGdbPnMCdOg"
   ]
  },
  {
   "cell_type": "code",
   "execution_count": 30,
   "id": "8c4b6d62",
   "metadata": {},
   "outputs": [],
   "source": [
    "from sklearn.metrics import mean_squared_error as mse\n",
    "def plot_predictions1(model, X, y, start = 0, end = 100):\n",
    "    predictions = model.predict(X).flatten()\n",
    "    df = pd.DataFrame(data = {'Predictions':predictions, 'Actuals':y})\n",
    "    plt.plot(df['Predictions'][start:end], color = 'red')\n",
    "    plt.plot(df['Actuals'][start:end], color = 'green')\n",
    "    return df, mse(y, predictions)\n",
    "    "
   ]
  },
  {
   "cell_type": "code",
   "execution_count": 31,
   "id": "d315e9f6",
   "metadata": {},
   "outputs": [
    {
     "data": {
      "text/plain": [
       "(      Predictions  Actuals\n",
       " 0       57.451698     57.0\n",
       " 1       58.116108     57.2\n",
       " 2       59.489559     58.3\n",
       " 3       61.509167     61.3\n",
       " 4       63.838448     63.4\n",
       " ...           ...      ...\n",
       " 2198    51.816540     51.5\n",
       " 2199    51.125805     51.0\n",
       " 2200    50.436489     50.5\n",
       " 2201    49.831688     49.8\n",
       " 2202    49.292473     49.4\n",
       " \n",
       " [2203 rows x 2 columns],\n",
       " 0.22888754260066668)"
      ]
     },
     "execution_count": 31,
     "metadata": {},
     "output_type": "execute_result"
    },
    {
     "data": {
      "image/png": "[encoded data removed]",
      "text/plain": [
       "<Figure size 432x288 with 1 Axes>"
      ]
     },
     "metadata": {
      "needs_background": "light"
     },
     "output_type": "display_data"
    }
   ],
   "source": [
    "plot_predictions1(model1, X_test, y_test)"
   ]
  },
  {
   "cell_type": "code",
   "execution_count": 30,
   "id": "cddfb58c",
   "metadata": {},
   "outputs": [
    {
     "name": "stdout",
     "output_type": "stream",
     "text": [
      "Model: \"sequential_1\"\n",
      "_________________________________________________________________\n",
      " Layer (type)                Output Shape              Param #   \n",
      "=================================================================\n",
      " conv1d (Conv1D)             (None, 4, 64)             192       \n",
      "                                                                 \n",
      " flatten (Flatten)           (None, 256)               0         \n",
      "                                                                 \n",
      " dense_2 (Dense)             (None, 8)                 2056      \n",
      "                                                                 \n",
      " dense_3 (Dense)             (None, 1)                 9         \n",
      "                                                                 \n",
      "=================================================================\n",
      "Total params: 2,257\n",
      "Trainable params: 2,257\n",
      "Non-trainable params: 0\n",
      "_________________________________________________________________\n"
     ]
    }
   ],
   "source": [
    "model2 = Sequential()\n",
    "#from X_train.shape which is 6000, 5, 1\n",
    "model2.add(InputLayer((5,1)))\n",
    "model2.add(Conv1D(64, kernel_size = 2)) #how many windows do we want to slide across\n",
    "model2.add(Flatten())\n",
    "model2.add(Dense(8, 'relu'))\n",
    "model2.add(Dense(1, 'linear')) #linear value, pos or neg (for temp)\n",
    "model2.summary()"
   ]
  },
  {
   "cell_type": "code",
   "execution_count": 31,
   "id": "009571f0",
   "metadata": {},
   "outputs": [],
   "source": [
    "cp2 = ModelCheckpoint('model2/', save_best_only = True) #I want to only save the best model (lowest validation loss)\n",
    "#learning rate = higher the value, faster model tries to decrease loss\n",
    "#but we don't want to dec super fast bc it won't find local min/max\n",
    "model2.compile(loss = MeanSquaredError(), optimizer =Adam(learning_rate = 0.0001), metrics = [RootMeanSquaredError()])"
   ]
  },
  {
   "cell_type": "code",
   "execution_count": 32,
   "id": "77079bd4",
   "metadata": {},
   "outputs": [
    {
     "name": "stdout",
     "output_type": "stream",
     "text": [
      "Epoch 1/10\n",
      "179/188 [===========================>..] - ETA: 0s - loss: 785.3374 - root_mean_squared_error: 28.0239"
     ]
    },
    {
     "name": "stderr",
     "output_type": "stream",
     "text": [
      "WARNING:absl:Found untraced functions such as lstm_cell_1_layer_call_fn, lstm_cell_1_layer_call_and_return_conditional_losses, lstm_cell_1_layer_call_fn, lstm_cell_1_layer_call_and_return_conditional_losses, lstm_cell_1_layer_call_and_return_conditional_losses while saving (showing 5 of 5). These functions will not be directly callable after loading.\n"
     ]
    },
    {
     "name": "stdout",
     "output_type": "stream",
     "text": [
      "INFO:tensorflow:Assets written to: model2/assets\n"
     ]
    },
    {
     "name": "stderr",
     "output_type": "stream",
     "text": [
      "INFO:tensorflow:Assets written to: model2/assets\n",
      "WARNING:absl:<keras.layers.recurrent.LSTMCell object at 0x7fceda625430> has the same name 'LSTMCell' as a built-in Keras object. Consider renaming <class 'keras.layers.recurrent.LSTMCell'> to avoid naming conflicts when loading with `tf.keras.models.load_model`. If renaming is not possible, pass the object in the `custom_objects` parameter of the load function.\n"
     ]
    },
    {
     "name": "stdout",
     "output_type": "stream",
     "text": [
      "188/188 [==============================] - 5s 21ms/step - loss: 781.5992 - root_mean_squared_error: 27.9571 - val_loss: 1004.0199 - val_root_mean_squared_error: 31.6863\n",
      "Epoch 2/10\n",
      "176/188 [===========================>..] - ETA: 0s - loss: 652.9824 - root_mean_squared_error: 25.5535"
     ]
    },
    {
     "name": "stderr",
     "output_type": "stream",
     "text": [
      "WARNING:absl:Found untraced functions such as lstm_cell_1_layer_call_fn, lstm_cell_1_layer_call_and_return_conditional_losses, lstm_cell_1_layer_call_fn, lstm_cell_1_layer_call_and_return_conditional_losses, lstm_cell_1_layer_call_and_return_conditional_losses while saving (showing 5 of 5). These functions will not be directly callable after loading.\n"
     ]
    },
    {
     "name": "stdout",
     "output_type": "stream",
     "text": [
      "INFO:tensorflow:Assets written to: model2/assets\n"
     ]
    },
    {
     "name": "stderr",
     "output_type": "stream",
     "text": [
      "INFO:tensorflow:Assets written to: model2/assets\n",
      "WARNING:absl:<keras.layers.recurrent.LSTMCell object at 0x7fceda625430> has the same name 'LSTMCell' as a built-in Keras object. Consider renaming <class 'keras.layers.recurrent.LSTMCell'> to avoid naming conflicts when loading with `tf.keras.models.load_model`. If renaming is not possible, pass the object in the `custom_objects` parameter of the load function.\n"
     ]
    },
    {
     "name": "stdout",
     "output_type": "stream",
     "text": [
      "188/188 [==============================] - 4s 20ms/step - loss: 648.7673 - root_mean_squared_error: 25.4709 - val_loss: 850.3055 - val_root_mean_squared_error: 29.1600\n",
      "Epoch 3/10\n",
      "173/188 [==========================>...] - ETA: 0s - loss: 532.2485 - root_mean_squared_error: 23.0705"
     ]
    },
    {
     "name": "stderr",
     "output_type": "stream",
     "text": [
      "WARNING:absl:Found untraced functions such as lstm_cell_1_layer_call_fn, lstm_cell_1_layer_call_and_return_conditional_losses, lstm_cell_1_layer_call_fn, lstm_cell_1_layer_call_and_return_conditional_losses, lstm_cell_1_layer_call_and_return_conditional_losses while saving (showing 5 of 5). These functions will not be directly callable after loading.\n"
     ]
    },
    {
     "name": "stdout",
     "output_type": "stream",
     "text": [
      "INFO:tensorflow:Assets written to: model2/assets\n"
     ]
    },
    {
     "name": "stderr",
     "output_type": "stream",
     "text": [
      "INFO:tensorflow:Assets written to: model2/assets\n",
      "WARNING:absl:<keras.layers.recurrent.LSTMCell object at 0x7fceda625430> has the same name 'LSTMCell' as a built-in Keras object. Consider renaming <class 'keras.layers.recurrent.LSTMCell'> to avoid naming conflicts when loading with `tf.keras.models.load_model`. If renaming is not possible, pass the object in the `custom_objects` parameter of the load function.\n"
     ]
    },
    {
     "name": "stdout",
     "output_type": "stream",
     "text": [
      "188/188 [==============================] - 3s 18ms/step - loss: 529.6354 - root_mean_squared_error: 23.0138 - val_loss: 712.1887 - val_root_mean_squared_error: 26.6869\n",
      "Epoch 4/10\n",
      "176/188 [===========================>..] - ETA: 0s - loss: 428.6247 - root_mean_squared_error: 20.7033"
     ]
    },
    {
     "name": "stderr",
     "output_type": "stream",
     "text": [
      "WARNING:absl:Found untraced functions such as lstm_cell_1_layer_call_fn, lstm_cell_1_layer_call_and_return_conditional_losses, lstm_cell_1_layer_call_fn, lstm_cell_1_layer_call_and_return_conditional_losses, lstm_cell_1_layer_call_and_return_conditional_losses while saving (showing 5 of 5). These functions will not be directly callable after loading.\n"
     ]
    },
    {
     "name": "stdout",
     "output_type": "stream",
     "text": [
      "INFO:tensorflow:Assets written to: model2/assets\n"
     ]
    },
    {
     "name": "stderr",
     "output_type": "stream",
     "text": [
      "INFO:tensorflow:Assets written to: model2/assets\n",
      "WARNING:absl:<keras.layers.recurrent.LSTMCell object at 0x7fceda625430> has the same name 'LSTMCell' as a built-in Keras object. Consider renaming <class 'keras.layers.recurrent.LSTMCell'> to avoid naming conflicts when loading with `tf.keras.models.load_model`. If renaming is not possible, pass the object in the `custom_objects` parameter of the load function.\n"
     ]
    },
    {
     "name": "stdout",
     "output_type": "stream",
     "text": [
      "188/188 [==============================] - 4s 20ms/step - loss: 425.0707 - root_mean_squared_error: 20.6172 - val_loss: 588.6951 - val_root_mean_squared_error: 24.2630\n",
      "Epoch 5/10\n",
      "178/188 [===========================>..] - ETA: 0s - loss: 337.3377 - root_mean_squared_error: 18.3668"
     ]
    },
    {
     "name": "stderr",
     "output_type": "stream",
     "text": [
      "WARNING:absl:Found untraced functions such as lstm_cell_1_layer_call_fn, lstm_cell_1_layer_call_and_return_conditional_losses, lstm_cell_1_layer_call_fn, lstm_cell_1_layer_call_and_return_conditional_losses, lstm_cell_1_layer_call_and_return_conditional_losses while saving (showing 5 of 5). These functions will not be directly callable after loading.\n"
     ]
    },
    {
     "name": "stdout",
     "output_type": "stream",
     "text": [
      "INFO:tensorflow:Assets written to: model2/assets\n"
     ]
    },
    {
     "name": "stderr",
     "output_type": "stream",
     "text": [
      "INFO:tensorflow:Assets written to: model2/assets\n",
      "WARNING:absl:<keras.layers.recurrent.LSTMCell object at 0x7fceda625430> has the same name 'LSTMCell' as a built-in Keras object. Consider renaming <class 'keras.layers.recurrent.LSTMCell'> to avoid naming conflicts when loading with `tf.keras.models.load_model`. If renaming is not possible, pass the object in the `custom_objects` parameter of the load function.\n"
     ]
    },
    {
     "name": "stdout",
     "output_type": "stream",
     "text": [
      "188/188 [==============================] - 3s 18ms/step - loss: 334.7925 - root_mean_squared_error: 18.2973 - val_loss: 480.0565 - val_root_mean_squared_error: 21.9102\n",
      "Epoch 6/10\n",
      "179/188 [===========================>..] - ETA: 0s - loss: 256.7196 - root_mean_squared_error: 16.0225"
     ]
    },
    {
     "name": "stderr",
     "output_type": "stream",
     "text": [
      "WARNING:absl:Found untraced functions such as lstm_cell_1_layer_call_fn, lstm_cell_1_layer_call_and_return_conditional_losses, lstm_cell_1_layer_call_fn, lstm_cell_1_layer_call_and_return_conditional_losses, lstm_cell_1_layer_call_and_return_conditional_losses while saving (showing 5 of 5). These functions will not be directly callable after loading.\n"
     ]
    },
    {
     "name": "stdout",
     "output_type": "stream",
     "text": [
      "INFO:tensorflow:Assets written to: model2/assets\n"
     ]
    },
    {
     "name": "stderr",
     "output_type": "stream",
     "text": [
      "INFO:tensorflow:Assets written to: model2/assets\n",
      "WARNING:absl:<keras.layers.recurrent.LSTMCell object at 0x7fceda625430> has the same name 'LSTMCell' as a built-in Keras object. Consider renaming <class 'keras.layers.recurrent.LSTMCell'> to avoid naming conflicts when loading with `tf.keras.models.load_model`. If renaming is not possible, pass the object in the `custom_objects` parameter of the load function.\n"
     ]
    },
    {
     "name": "stdout",
     "output_type": "stream",
     "text": [
      "188/188 [==============================] - 4s 19ms/step - loss: 255.3192 - root_mean_squared_error: 15.9787 - val_loss: 379.8363 - val_root_mean_squared_error: 19.4894\n",
      "Epoch 7/10\n",
      "176/188 [===========================>..] - ETA: 0s - loss: 192.4641 - root_mean_squared_error: 13.8731"
     ]
    },
    {
     "name": "stderr",
     "output_type": "stream",
     "text": [
      "WARNING:absl:Found untraced functions such as lstm_cell_1_layer_call_fn, lstm_cell_1_layer_call_and_return_conditional_losses, lstm_cell_1_layer_call_fn, lstm_cell_1_layer_call_and_return_conditional_losses, lstm_cell_1_layer_call_and_return_conditional_losses while saving (showing 5 of 5). These functions will not be directly callable after loading.\n"
     ]
    },
    {
     "name": "stdout",
     "output_type": "stream",
     "text": [
      "INFO:tensorflow:Assets written to: model2/assets\n"
     ]
    },
    {
     "name": "stderr",
     "output_type": "stream",
     "text": [
      "INFO:tensorflow:Assets written to: model2/assets\n",
      "WARNING:absl:<keras.layers.recurrent.LSTMCell object at 0x7fceda625430> has the same name 'LSTMCell' as a built-in Keras object. Consider renaming <class 'keras.layers.recurrent.LSTMCell'> to avoid naming conflicts when loading with `tf.keras.models.load_model`. If renaming is not possible, pass the object in the `custom_objects` parameter of the load function.\n"
     ]
    },
    {
     "name": "stdout",
     "output_type": "stream",
     "text": [
      "188/188 [==============================] - 3s 17ms/step - loss: 191.2703 - root_mean_squared_error: 13.8301 - val_loss: 300.8572 - val_root_mean_squared_error: 17.3452\n",
      "Epoch 8/10\n",
      "173/188 [==========================>...] - ETA: 0s - loss: 143.3059 - root_mean_squared_error: 11.9710"
     ]
    },
    {
     "name": "stderr",
     "output_type": "stream",
     "text": [
      "WARNING:absl:Found untraced functions such as lstm_cell_1_layer_call_fn, lstm_cell_1_layer_call_and_return_conditional_losses, lstm_cell_1_layer_call_fn, lstm_cell_1_layer_call_and_return_conditional_losses, lstm_cell_1_layer_call_and_return_conditional_losses while saving (showing 5 of 5). These functions will not be directly callable after loading.\n"
     ]
    },
    {
     "name": "stdout",
     "output_type": "stream",
     "text": [
      "INFO:tensorflow:Assets written to: model2/assets\n"
     ]
    },
    {
     "name": "stderr",
     "output_type": "stream",
     "text": [
      "INFO:tensorflow:Assets written to: model2/assets\n",
      "WARNING:absl:<keras.layers.recurrent.LSTMCell object at 0x7fceda625430> has the same name 'LSTMCell' as a built-in Keras object. Consider renaming <class 'keras.layers.recurrent.LSTMCell'> to avoid naming conflicts when loading with `tf.keras.models.load_model`. If renaming is not possible, pass the object in the `custom_objects` parameter of the load function.\n"
     ]
    },
    {
     "name": "stdout",
     "output_type": "stream",
     "text": [
      "188/188 [==============================] - 3s 18ms/step - loss: 142.3439 - root_mean_squared_error: 11.9308 - val_loss: 236.7395 - val_root_mean_squared_error: 15.3863\n",
      "Epoch 9/10\n",
      "173/188 [==========================>...] - ETA: 0s - loss: 106.1170 - root_mean_squared_error: 10.3013"
     ]
    },
    {
     "name": "stderr",
     "output_type": "stream",
     "text": [
      "WARNING:absl:Found untraced functions such as lstm_cell_1_layer_call_fn, lstm_cell_1_layer_call_and_return_conditional_losses, lstm_cell_1_layer_call_fn, lstm_cell_1_layer_call_and_return_conditional_losses, lstm_cell_1_layer_call_and_return_conditional_losses while saving (showing 5 of 5). These functions will not be directly callable after loading.\n"
     ]
    },
    {
     "name": "stdout",
     "output_type": "stream",
     "text": [
      "INFO:tensorflow:Assets written to: model2/assets\n"
     ]
    },
    {
     "name": "stderr",
     "output_type": "stream",
     "text": [
      "INFO:tensorflow:Assets written to: model2/assets\n",
      "WARNING:absl:<keras.layers.recurrent.LSTMCell object at 0x7fceda625430> has the same name 'LSTMCell' as a built-in Keras object. Consider renaming <class 'keras.layers.recurrent.LSTMCell'> to avoid naming conflicts when loading with `tf.keras.models.load_model`. If renaming is not possible, pass the object in the `custom_objects` parameter of the load function.\n"
     ]
    },
    {
     "name": "stdout",
     "output_type": "stream",
     "text": [
      "188/188 [==============================] - 3s 18ms/step - loss: 105.5451 - root_mean_squared_error: 10.2735 - val_loss: 185.8887 - val_root_mean_squared_error: 13.6341\n",
      "Epoch 10/10\n",
      "188/188 [==============================] - ETA: 0s - loss: 79.0164 - root_mean_squared_error: 8.8891"
     ]
    },
    {
     "name": "stderr",
     "output_type": "stream",
     "text": [
      "WARNING:absl:Found untraced functions such as lstm_cell_1_layer_call_fn, lstm_cell_1_layer_call_and_return_conditional_losses, lstm_cell_1_layer_call_fn, lstm_cell_1_layer_call_and_return_conditional_losses, lstm_cell_1_layer_call_and_return_conditional_losses while saving (showing 5 of 5). These functions will not be directly callable after loading.\n"
     ]
    },
    {
     "name": "stdout",
     "output_type": "stream",
     "text": [
      "INFO:tensorflow:Assets written to: model2/assets\n"
     ]
    },
    {
     "name": "stderr",
     "output_type": "stream",
     "text": [
      "INFO:tensorflow:Assets written to: model2/assets\n",
      "WARNING:absl:<keras.layers.recurrent.LSTMCell object at 0x7fceda625430> has the same name 'LSTMCell' as a built-in Keras object. Consider renaming <class 'keras.layers.recurrent.LSTMCell'> to avoid naming conflicts when loading with `tf.keras.models.load_model`. If renaming is not possible, pass the object in the `custom_objects` parameter of the load function.\n"
     ]
    },
    {
     "name": "stdout",
     "output_type": "stream",
     "text": [
      "\b\b\b\b\b\b\b\b\b\b\b\b\b\b\b\b\b\b\b\b\b\b\b\b\b\b\b\b\b\b\b\b\b\b\b\b\b\b\b\b\b\b\b\b\b\b\b\b\b\b\b\b\b\b\b\b\b\b\b\b\b\b\b\b\b\b\b\b\b\b\b\b\b\b\b\b\b\b\b\b\b\b\b\b\b\b\b\b\b\b\b\b\b\b\b\b\b\b\b\b\r",
      "188/188 [==============================] - 4s 19ms/step - loss: 79.0164 - root_mean_squared_error: 8.8891 - val_loss: 146.3728 - val_root_mean_squared_error: 12.0985\n"
     ]
    },
    {
     "data": {
      "text/plain": [
       "<keras.callbacks.History at 0x7fced935dc40>"
      ]
     },
     "execution_count": 32,
     "metadata": {},
     "output_type": "execute_result"
    }
   ],
   "source": [
    "model1.fit(X_train, y_train, validation_data=(X_val, y_val), epochs = 10, callbacks = [cp2])"
   ]
  },
  {
   "cell_type": "code",
   "execution_count": 34,
   "id": "953550d4",
   "metadata": {},
   "outputs": [
    {
     "data": {
      "text/plain": [
       "(      Predictions  Actuals\n",
       " 0       10.647606     65.4\n",
       " 1       10.771258     67.3\n",
       " 2       11.304397     69.1\n",
       " 3       11.684444     70.6\n",
       " 4       12.041080     71.1\n",
       " ...           ...      ...\n",
       " 2217     9.820410     51.5\n",
       " 2218     9.779753     51.0\n",
       " 2219     9.644927     50.5\n",
       " 2220     9.510235     49.8\n",
       " 2221     9.374874     49.4\n",
       " \n",
       " [2222 rows x 2 columns],\n",
       " 2126.2928751437425)"
      ]
     },
     "execution_count": 34,
     "metadata": {},
     "output_type": "execute_result"
    },
    {
     "data": {
      "image/png": "[encoded data removed]",
      "text/plain": [
       "<Figure size 432x288 with 1 Axes>"
      ]
     },
     "metadata": {
      "needs_background": "light"
     },
     "output_type": "display_data"
    }
   ],
   "source": [
    "plot_predictions1(model2, X_test, y_test)"
   ]
  },
  {
   "cell_type": "code",
   "execution_count": 35,
   "id": "20371465",
   "metadata": {},
   "outputs": [
    {
     "name": "stdout",
     "output_type": "stream",
     "text": [
      "Model: \"sequential_3\"\n",
      "_________________________________________________________________\n",
      " Layer (type)                Output Shape              Param #   \n",
      "=================================================================\n",
      " gru_1 (GRU)                 (None, 64)                12864     \n",
      "                                                                 \n",
      " flatten_2 (Flatten)         (None, 64)                0         \n",
      "                                                                 \n",
      " dense_6 (Dense)             (None, 8)                 520       \n",
      "                                                                 \n",
      " dense_7 (Dense)             (None, 1)                 9         \n",
      "                                                                 \n",
      "=================================================================\n",
      "Total params: 13,393\n",
      "Trainable params: 13,393\n",
      "Non-trainable params: 0\n",
      "_________________________________________________________________\n"
     ]
    }
   ],
   "source": [
    "model3 = Sequential()\n",
    "#from X_train.shape which is 6000, 5, 1\n",
    "model3.add(InputLayer((5,1)))\n",
    "model3.add(GRU(64)) #how many windows do we want to slide across\n",
    "model3.add(Flatten())\n",
    "model3.add(Dense(8, 'relu'))\n",
    "model3.add(Dense(1, 'linear')) #linear value, pos or neg (for temp)\n",
    "model3.summary()"
   ]
  },
  {
   "cell_type": "code",
   "execution_count": 36,
   "id": "10efa9ab",
   "metadata": {},
   "outputs": [
    {
     "name": "stdout",
     "output_type": "stream",
     "text": [
      "Epoch 1/10\n",
      "172/188 [==========================>...] - ETA: 0s - loss: 3339.9854 - root_mean_squared_error: 57.7926"
     ]
    },
    {
     "name": "stderr",
     "output_type": "stream",
     "text": [
      "WARNING:absl:Found untraced functions such as gru_cell_1_layer_call_fn, gru_cell_1_layer_call_and_return_conditional_losses, gru_cell_1_layer_call_fn, gru_cell_1_layer_call_and_return_conditional_losses, gru_cell_1_layer_call_and_return_conditional_losses while saving (showing 5 of 5). These functions will not be directly callable after loading.\n"
     ]
    },
    {
     "name": "stdout",
     "output_type": "stream",
     "text": [
      "INFO:tensorflow:Assets written to: model3/assets\n"
     ]
    },
    {
     "name": "stderr",
     "output_type": "stream",
     "text": [
      "INFO:tensorflow:Assets written to: model3/assets\n",
      "WARNING:absl:<keras.layers.recurrent.GRUCell object at 0x7fcedcbf76d0> has the same name 'GRUCell' as a built-in Keras object. Consider renaming <class 'keras.layers.recurrent.GRUCell'> to avoid naming conflicts when loading with `tf.keras.models.load_model`. If renaming is not possible, pass the object in the `custom_objects` parameter of the load function.\n"
     ]
    },
    {
     "name": "stdout",
     "output_type": "stream",
     "text": [
      "188/188 [==============================] - 5s 20ms/step - loss: 3339.9983 - root_mean_squared_error: 57.7927 - val_loss: 3959.8511 - val_root_mean_squared_error: 62.9273\n",
      "Epoch 2/10\n",
      "177/188 [===========================>..] - ETA: 0s - loss: 3330.9907 - root_mean_squared_error: 57.7147"
     ]
    },
    {
     "name": "stderr",
     "output_type": "stream",
     "text": [
      "WARNING:absl:Found untraced functions such as gru_cell_1_layer_call_fn, gru_cell_1_layer_call_and_return_conditional_losses, gru_cell_1_layer_call_fn, gru_cell_1_layer_call_and_return_conditional_losses, gru_cell_1_layer_call_and_return_conditional_losses while saving (showing 5 of 5). These functions will not be directly callable after loading.\n"
     ]
    },
    {
     "name": "stdout",
     "output_type": "stream",
     "text": [
      "INFO:tensorflow:Assets written to: model3/assets\n"
     ]
    },
    {
     "name": "stderr",
     "output_type": "stream",
     "text": [
      "INFO:tensorflow:Assets written to: model3/assets\n",
      "WARNING:absl:<keras.layers.recurrent.GRUCell object at 0x7fcedcbf76d0> has the same name 'GRUCell' as a built-in Keras object. Consider renaming <class 'keras.layers.recurrent.GRUCell'> to avoid naming conflicts when loading with `tf.keras.models.load_model`. If renaming is not possible, pass the object in the `custom_objects` parameter of the load function.\n"
     ]
    },
    {
     "name": "stdout",
     "output_type": "stream",
     "text": [
      "188/188 [==============================] - 3s 18ms/step - loss: 3335.3567 - root_mean_squared_error: 57.7525 - val_loss: 3957.4934 - val_root_mean_squared_error: 62.9086\n",
      "Epoch 3/10\n",
      "177/188 [===========================>..] - ETA: 0s - loss: 3332.1360 - root_mean_squared_error: 57.7247"
     ]
    },
    {
     "name": "stderr",
     "output_type": "stream",
     "text": [
      "WARNING:absl:Found untraced functions such as gru_cell_1_layer_call_fn, gru_cell_1_layer_call_and_return_conditional_losses, gru_cell_1_layer_call_fn, gru_cell_1_layer_call_and_return_conditional_losses, gru_cell_1_layer_call_and_return_conditional_losses while saving (showing 5 of 5). These functions will not be directly callable after loading.\n"
     ]
    },
    {
     "name": "stdout",
     "output_type": "stream",
     "text": [
      "INFO:tensorflow:Assets written to: model3/assets\n"
     ]
    },
    {
     "name": "stderr",
     "output_type": "stream",
     "text": [
      "INFO:tensorflow:Assets written to: model3/assets\n",
      "WARNING:absl:<keras.layers.recurrent.GRUCell object at 0x7fcedcbf76d0> has the same name 'GRUCell' as a built-in Keras object. Consider renaming <class 'keras.layers.recurrent.GRUCell'> to avoid naming conflicts when loading with `tf.keras.models.load_model`. If renaming is not possible, pass the object in the `custom_objects` parameter of the load function.\n"
     ]
    },
    {
     "name": "stdout",
     "output_type": "stream",
     "text": [
      "188/188 [==============================] - 3s 16ms/step - loss: 3333.1963 - root_mean_squared_error: 57.7338 - val_loss: 3955.1360 - val_root_mean_squared_error: 62.8899\n",
      "Epoch 4/10\n",
      "169/188 [=========================>....] - ETA: 0s - loss: 3328.9380 - root_mean_squared_error: 57.6969"
     ]
    },
    {
     "name": "stderr",
     "output_type": "stream",
     "text": [
      "WARNING:absl:Found untraced functions such as gru_cell_1_layer_call_fn, gru_cell_1_layer_call_and_return_conditional_losses, gru_cell_1_layer_call_fn, gru_cell_1_layer_call_and_return_conditional_losses, gru_cell_1_layer_call_and_return_conditional_losses while saving (showing 5 of 5). These functions will not be directly callable after loading.\n"
     ]
    },
    {
     "name": "stdout",
     "output_type": "stream",
     "text": [
      "INFO:tensorflow:Assets written to: model3/assets\n"
     ]
    },
    {
     "name": "stderr",
     "output_type": "stream",
     "text": [
      "INFO:tensorflow:Assets written to: model3/assets\n",
      "WARNING:absl:<keras.layers.recurrent.GRUCell object at 0x7fcedcbf76d0> has the same name 'GRUCell' as a built-in Keras object. Consider renaming <class 'keras.layers.recurrent.GRUCell'> to avoid naming conflicts when loading with `tf.keras.models.load_model`. If renaming is not possible, pass the object in the `custom_objects` parameter of the load function.\n"
     ]
    },
    {
     "name": "stdout",
     "output_type": "stream",
     "text": [
      "188/188 [==============================] - 3s 18ms/step - loss: 3331.0393 - root_mean_squared_error: 57.7152 - val_loss: 3952.7803 - val_root_mean_squared_error: 62.8711\n",
      "Epoch 5/10\n",
      "187/188 [============================>.] - ETA: 0s - loss: 3329.2102 - root_mean_squared_error: 57.6993"
     ]
    },
    {
     "name": "stderr",
     "output_type": "stream",
     "text": [
      "WARNING:absl:Found untraced functions such as gru_cell_1_layer_call_fn, gru_cell_1_layer_call_and_return_conditional_losses, gru_cell_1_layer_call_fn, gru_cell_1_layer_call_and_return_conditional_losses, gru_cell_1_layer_call_and_return_conditional_losses while saving (showing 5 of 5). These functions will not be directly callable after loading.\n"
     ]
    },
    {
     "name": "stdout",
     "output_type": "stream",
     "text": [
      "INFO:tensorflow:Assets written to: model3/assets\n"
     ]
    },
    {
     "name": "stderr",
     "output_type": "stream",
     "text": [
      "INFO:tensorflow:Assets written to: model3/assets\n",
      "WARNING:absl:<keras.layers.recurrent.GRUCell object at 0x7fcedcbf76d0> has the same name 'GRUCell' as a built-in Keras object. Consider renaming <class 'keras.layers.recurrent.GRUCell'> to avoid naming conflicts when loading with `tf.keras.models.load_model`. If renaming is not possible, pass the object in the `custom_objects` parameter of the load function.\n"
     ]
    },
    {
     "name": "stdout",
     "output_type": "stream",
     "text": [
      "188/188 [==============================] - 3s 17ms/step - loss: 3328.8806 - root_mean_squared_error: 57.6965 - val_loss: 3950.4246 - val_root_mean_squared_error: 62.8524\n",
      "Epoch 6/10\n",
      "179/188 [===========================>..] - ETA: 0s - loss: 3328.2576 - root_mean_squared_error: 57.6911"
     ]
    },
    {
     "name": "stderr",
     "output_type": "stream",
     "text": [
      "WARNING:absl:Found untraced functions such as gru_cell_1_layer_call_fn, gru_cell_1_layer_call_and_return_conditional_losses, gru_cell_1_layer_call_fn, gru_cell_1_layer_call_and_return_conditional_losses, gru_cell_1_layer_call_and_return_conditional_losses while saving (showing 5 of 5). These functions will not be directly callable after loading.\n"
     ]
    },
    {
     "name": "stdout",
     "output_type": "stream",
     "text": [
      "INFO:tensorflow:Assets written to: model3/assets\n"
     ]
    },
    {
     "name": "stderr",
     "output_type": "stream",
     "text": [
      "INFO:tensorflow:Assets written to: model3/assets\n",
      "WARNING:absl:<keras.layers.recurrent.GRUCell object at 0x7fcedcbf76d0> has the same name 'GRUCell' as a built-in Keras object. Consider renaming <class 'keras.layers.recurrent.GRUCell'> to avoid naming conflicts when loading with `tf.keras.models.load_model`. If renaming is not possible, pass the object in the `custom_objects` parameter of the load function.\n"
     ]
    },
    {
     "name": "stdout",
     "output_type": "stream",
     "text": [
      "188/188 [==============================] - 4s 21ms/step - loss: 3326.7273 - root_mean_squared_error: 57.6778 - val_loss: 3948.0708 - val_root_mean_squared_error: 62.8337\n",
      "Epoch 7/10\n",
      "170/188 [==========================>...] - ETA: 0s - loss: 3319.4475 - root_mean_squared_error: 57.6146"
     ]
    },
    {
     "name": "stderr",
     "output_type": "stream",
     "text": [
      "WARNING:absl:Found untraced functions such as gru_cell_1_layer_call_fn, gru_cell_1_layer_call_and_return_conditional_losses, gru_cell_1_layer_call_fn, gru_cell_1_layer_call_and_return_conditional_losses, gru_cell_1_layer_call_and_return_conditional_losses while saving (showing 5 of 5). These functions will not be directly callable after loading.\n"
     ]
    },
    {
     "name": "stdout",
     "output_type": "stream",
     "text": [
      "INFO:tensorflow:Assets written to: model3/assets\n"
     ]
    },
    {
     "name": "stderr",
     "output_type": "stream",
     "text": [
      "INFO:tensorflow:Assets written to: model3/assets\n",
      "WARNING:absl:<keras.layers.recurrent.GRUCell object at 0x7fcedcbf76d0> has the same name 'GRUCell' as a built-in Keras object. Consider renaming <class 'keras.layers.recurrent.GRUCell'> to avoid naming conflicts when loading with `tf.keras.models.load_model`. If renaming is not possible, pass the object in the `custom_objects` parameter of the load function.\n"
     ]
    },
    {
     "name": "stdout",
     "output_type": "stream",
     "text": [
      "188/188 [==============================] - 3s 15ms/step - loss: 3324.5718 - root_mean_squared_error: 57.6591 - val_loss: 3945.7185 - val_root_mean_squared_error: 62.8150\n",
      "Epoch 8/10\n",
      "168/188 [=========================>....] - ETA: 0s - loss: 3324.4189 - root_mean_squared_error: 57.6578"
     ]
    },
    {
     "name": "stderr",
     "output_type": "stream",
     "text": [
      "WARNING:absl:Found untraced functions such as gru_cell_1_layer_call_fn, gru_cell_1_layer_call_and_return_conditional_losses, gru_cell_1_layer_call_fn, gru_cell_1_layer_call_and_return_conditional_losses, gru_cell_1_layer_call_and_return_conditional_losses while saving (showing 5 of 5). These functions will not be directly callable after loading.\n"
     ]
    },
    {
     "name": "stdout",
     "output_type": "stream",
     "text": [
      "INFO:tensorflow:Assets written to: model3/assets\n"
     ]
    },
    {
     "name": "stderr",
     "output_type": "stream",
     "text": [
      "INFO:tensorflow:Assets written to: model3/assets\n",
      "WARNING:absl:<keras.layers.recurrent.GRUCell object at 0x7fcedcbf76d0> has the same name 'GRUCell' as a built-in Keras object. Consider renaming <class 'keras.layers.recurrent.GRUCell'> to avoid naming conflicts when loading with `tf.keras.models.load_model`. If renaming is not possible, pass the object in the `custom_objects` parameter of the load function.\n"
     ]
    },
    {
     "name": "stdout",
     "output_type": "stream",
     "text": [
      "188/188 [==============================] - 3s 16ms/step - loss: 3322.4197 - root_mean_squared_error: 57.6404 - val_loss: 3943.3657 - val_root_mean_squared_error: 62.7962\n",
      "Epoch 9/10\n",
      "168/188 [=========================>....] - ETA: 0s - loss: 3316.6792 - root_mean_squared_error: 57.5906"
     ]
    },
    {
     "name": "stderr",
     "output_type": "stream",
     "text": [
      "WARNING:absl:Found untraced functions such as gru_cell_1_layer_call_fn, gru_cell_1_layer_call_and_return_conditional_losses, gru_cell_1_layer_call_fn, gru_cell_1_layer_call_and_return_conditional_losses, gru_cell_1_layer_call_and_return_conditional_losses while saving (showing 5 of 5). These functions will not be directly callable after loading.\n"
     ]
    },
    {
     "name": "stdout",
     "output_type": "stream",
     "text": [
      "INFO:tensorflow:Assets written to: model3/assets\n"
     ]
    },
    {
     "name": "stderr",
     "output_type": "stream",
     "text": [
      "INFO:tensorflow:Assets written to: model3/assets\n",
      "WARNING:absl:<keras.layers.recurrent.GRUCell object at 0x7fcedcbf76d0> has the same name 'GRUCell' as a built-in Keras object. Consider renaming <class 'keras.layers.recurrent.GRUCell'> to avoid naming conflicts when loading with `tf.keras.models.load_model`. If renaming is not possible, pass the object in the `custom_objects` parameter of the load function.\n"
     ]
    },
    {
     "name": "stdout",
     "output_type": "stream",
     "text": [
      "188/188 [==============================] - 3s 14ms/step - loss: 3320.2644 - root_mean_squared_error: 57.6217 - val_loss: 3941.0151 - val_root_mean_squared_error: 62.7775\n",
      "Epoch 10/10\n",
      "187/188 [============================>.] - ETA: 0s - loss: 3318.2979 - root_mean_squared_error: 57.6047"
     ]
    },
    {
     "name": "stderr",
     "output_type": "stream",
     "text": [
      "WARNING:absl:Found untraced functions such as gru_cell_1_layer_call_fn, gru_cell_1_layer_call_and_return_conditional_losses, gru_cell_1_layer_call_fn, gru_cell_1_layer_call_and_return_conditional_losses, gru_cell_1_layer_call_and_return_conditional_losses while saving (showing 5 of 5). These functions will not be directly callable after loading.\n"
     ]
    },
    {
     "name": "stdout",
     "output_type": "stream",
     "text": [
      "INFO:tensorflow:Assets written to: model3/assets\n"
     ]
    },
    {
     "name": "stderr",
     "output_type": "stream",
     "text": [
      "INFO:tensorflow:Assets written to: model3/assets\n",
      "WARNING:absl:<keras.layers.recurrent.GRUCell object at 0x7fcedcbf76d0> has the same name 'GRUCell' as a built-in Keras object. Consider renaming <class 'keras.layers.recurrent.GRUCell'> to avoid naming conflicts when loading with `tf.keras.models.load_model`. If renaming is not possible, pass the object in the `custom_objects` parameter of the load function.\n"
     ]
    },
    {
     "name": "stdout",
     "output_type": "stream",
     "text": [
      "\b\b\b\b\b\b\b\b\b\b\b\b\b\b\b\b\b\b\b\b\b\b\b\b\b\b\b\b\b\b\b\b\b\b\b\b\b\b\b\b\b\b\b\b\b\b\b\b\b\b\b\b\b\b\b\b\b\b\b\b\b\b\b\b\b\b\b\b\b\b\b\b\b\b\b\b\b\b\b\b\b\b\b\b\b\b\b\b\b\b\b\b\b\b\b\b\b\b\b\b\b\b\b\r",
      "188/188 [==============================] - 3s 18ms/step - loss: 3318.1123 - root_mean_squared_error: 57.6031 - val_loss: 3938.6650 - val_root_mean_squared_error: 62.7588\n"
     ]
    },
    {
     "data": {
      "text/plain": [
       "<keras.callbacks.History at 0x7fcedcb133d0>"
      ]
     },
     "execution_count": 36,
     "metadata": {},
     "output_type": "execute_result"
    }
   ],
   "source": [
    "cp3 = ModelCheckpoint('model3/', save_best_only = True) #I want to only save the best model (lowest validation loss)\n",
    "#learning rate = higher the value, faster model tries to decrease loss\n",
    "#but we don't want to dec super fast bc it won't find local min/max\n",
    "model3.compile(loss = MeanSquaredError(), optimizer =Adam(learning_rate = 0.0001), metrics = [RootMeanSquaredError()])\n",
    "model3.fit(X_train, y_train, validation_data=(X_val, y_val), epochs = 10, callbacks = [cp3])"
   ]
  },
  {
   "cell_type": "code",
   "execution_count": 37,
   "id": "c5d9f6ad",
   "metadata": {},
   "outputs": [
    {
     "data": {
      "text/plain": [
       "(      Predictions  Actuals\n",
       " 0        0.187851     65.4\n",
       " 1        0.187851     67.3\n",
       " 2        0.187851     69.1\n",
       " 3        0.187851     70.6\n",
       " 4        0.187851     71.1\n",
       " ...           ...      ...\n",
       " 2217     0.187851     51.5\n",
       " 2218     0.187851     51.0\n",
       " 2219     0.187851     50.5\n",
       " 2220     0.187851     49.8\n",
       " 2221     0.187851     49.4\n",
       " \n",
       " [2222 rows x 2 columns],\n",
       " 3158.3517073337744)"
      ]
     },
     "execution_count": 37,
     "metadata": {},
     "output_type": "execute_result"
    },
    {
     "data": {
      "image/png": "[encoded data removed]",
      "text/plain": [
       "<Figure size 432x288 with 1 Axes>"
      ]
     },
     "metadata": {
      "needs_background": "light"
     },
     "output_type": "display_data"
    }
   ],
   "source": [
    "plot_predictions1(model3, X_test, y_test)"
   ]
  },
  {
   "cell_type": "code",
   "execution_count": 38,
   "id": "e618f66d",
   "metadata": {},
   "outputs": [
    {
     "data": {
      "text/html": [
       "<div>\n",
       "<style scoped>\n",
       "    .dataframe tbody tr th:only-of-type {\n",
       "        vertical-align: middle;\n",
       "    }\n",
       "\n",
       "    .dataframe tbody tr th {\n",
       "        vertical-align: top;\n",
       "    }\n",
       "\n",
       "    .dataframe thead th {\n",
       "        text-align: right;\n",
       "    }\n",
       "</style>\n",
       "<table border=\"1\" class=\"dataframe\">\n",
       "  <thead>\n",
       "    <tr style=\"text-align: right;\">\n",
       "      <th></th>\n",
       "      <th>Hly_Normal</th>\n",
       "      <th>Seconds</th>\n",
       "    </tr>\n",
       "    <tr>\n",
       "      <th>date</th>\n",
       "      <th></th>\n",
       "      <th></th>\n",
       "    </tr>\n",
       "  </thead>\n",
       "  <tbody>\n",
       "    <tr>\n",
       "      <th>1900-01-01 00:00:00</th>\n",
       "      <td>48.8</td>\n",
       "      <td>-2.208989e+09</td>\n",
       "    </tr>\n",
       "    <tr>\n",
       "      <th>1900-01-01 01:00:00</th>\n",
       "      <td>48.5</td>\n",
       "      <td>-2.208985e+09</td>\n",
       "    </tr>\n",
       "    <tr>\n",
       "      <th>1900-01-01 02:00:00</th>\n",
       "      <td>47.6</td>\n",
       "      <td>-2.208982e+09</td>\n",
       "    </tr>\n",
       "    <tr>\n",
       "      <th>1900-01-01 03:00:00</th>\n",
       "      <td>47.2</td>\n",
       "      <td>-2.208978e+09</td>\n",
       "    </tr>\n",
       "    <tr>\n",
       "      <th>1900-01-01 04:00:00</th>\n",
       "      <td>46.8</td>\n",
       "      <td>-2.208974e+09</td>\n",
       "    </tr>\n",
       "    <tr>\n",
       "      <th>...</th>\n",
       "      <td>...</td>\n",
       "      <td>...</td>\n",
       "    </tr>\n",
       "    <tr>\n",
       "      <th>1900-12-31 19:00:00</th>\n",
       "      <td>51.5</td>\n",
       "      <td>-2.177471e+09</td>\n",
       "    </tr>\n",
       "    <tr>\n",
       "      <th>1900-12-31 20:00:00</th>\n",
       "      <td>51.0</td>\n",
       "      <td>-2.177467e+09</td>\n",
       "    </tr>\n",
       "    <tr>\n",
       "      <th>1900-12-31 21:00:00</th>\n",
       "      <td>50.5</td>\n",
       "      <td>-2.177464e+09</td>\n",
       "    </tr>\n",
       "    <tr>\n",
       "      <th>1900-12-31 22:00:00</th>\n",
       "      <td>49.8</td>\n",
       "      <td>-2.177460e+09</td>\n",
       "    </tr>\n",
       "    <tr>\n",
       "      <th>1900-12-31 23:00:00</th>\n",
       "      <td>49.4</td>\n",
       "      <td>-2.177456e+09</td>\n",
       "    </tr>\n",
       "  </tbody>\n",
       "</table>\n",
       "<p>8727 rows × 2 columns</p>\n",
       "</div>"
      ],
      "text/plain": [
       "                     Hly_Normal       Seconds\n",
       "date                                         \n",
       "1900-01-01 00:00:00        48.8 -2.208989e+09\n",
       "1900-01-01 01:00:00        48.5 -2.208985e+09\n",
       "1900-01-01 02:00:00        47.6 -2.208982e+09\n",
       "1900-01-01 03:00:00        47.2 -2.208978e+09\n",
       "1900-01-01 04:00:00        46.8 -2.208974e+09\n",
       "...                         ...           ...\n",
       "1900-12-31 19:00:00        51.5 -2.177471e+09\n",
       "1900-12-31 20:00:00        51.0 -2.177467e+09\n",
       "1900-12-31 21:00:00        50.5 -2.177464e+09\n",
       "1900-12-31 22:00:00        49.8 -2.177460e+09\n",
       "1900-12-31 23:00:00        49.4 -2.177456e+09\n",
       "\n",
       "[8727 rows x 2 columns]"
      ]
     },
     "execution_count": 38,
     "metadata": {},
     "output_type": "execute_result"
    }
   ],
   "source": [
    "temp_df = pd.DataFrame({'Hly_Normal': temp})\n",
    "temp_df['Seconds'] = temp_df.index.map(pd.Timestamp.timestamp)\n",
    "temp_df\n",
    "#seconds starts from a neg number, can make it start from 0 by adding values"
   ]
  },
  {
   "cell_type": "markdown",
   "id": "6c5e3b40",
   "metadata": {},
   "source": [
    "# circular time\n",
    "\n",
    "representing in seconds doesn't show how close December 31st is to January 1st. This wraps time around in a circle"
   ]
  },
  {
   "cell_type": "code",
   "execution_count": 39,
   "id": "7d39e7dc",
   "metadata": {},
   "outputs": [],
   "source": [
    "day = 60 * 60 * 24 #60 s in a min, 60 min in an hour, 24 hours in a day\n",
    "year = 365.2425*day #num seconds in a year\n",
    "temp_df['Day sin'] = np.sin(temp_df['Seconds']*2*(np.pi/day))\n",
    "temp_df['Day cos'] = np.cos(temp_df['Seconds']*2*(np.pi/day))\n",
    "temp_df['Year sin'] = np.sin(temp_df['Seconds']*2*(np.pi/year))\n",
    "temp_df['Year cos'] = np.cos(temp_df['Seconds']*2*(np.pi/year))"
   ]
  },
  {
   "cell_type": "code",
   "execution_count": 40,
   "id": "38a26917",
   "metadata": {},
   "outputs": [
    {
     "data": {
      "text/html": [
       "<div>\n",
       "<style scoped>\n",
       "    .dataframe tbody tr th:only-of-type {\n",
       "        vertical-align: middle;\n",
       "    }\n",
       "\n",
       "    .dataframe tbody tr th {\n",
       "        vertical-align: top;\n",
       "    }\n",
       "\n",
       "    .dataframe thead th {\n",
       "        text-align: right;\n",
       "    }\n",
       "</style>\n",
       "<table border=\"1\" class=\"dataframe\">\n",
       "  <thead>\n",
       "    <tr style=\"text-align: right;\">\n",
       "      <th></th>\n",
       "      <th>Hly_Normal</th>\n",
       "      <th>Seconds</th>\n",
       "      <th>Day sin</th>\n",
       "      <th>Day cos</th>\n",
       "      <th>Year sin</th>\n",
       "      <th>Year cos</th>\n",
       "    </tr>\n",
       "    <tr>\n",
       "      <th>date</th>\n",
       "      <th></th>\n",
       "      <th></th>\n",
       "      <th></th>\n",
       "      <th></th>\n",
       "      <th></th>\n",
       "      <th></th>\n",
       "    </tr>\n",
       "  </thead>\n",
       "  <tbody>\n",
       "    <tr>\n",
       "      <th>1900-01-01 00:00:00</th>\n",
       "      <td>48.8</td>\n",
       "      <td>-2.208989e+09</td>\n",
       "      <td>9.878771e-12</td>\n",
       "      <td>1.000000</td>\n",
       "      <td>-0.000430</td>\n",
       "      <td>1.000000</td>\n",
       "    </tr>\n",
       "    <tr>\n",
       "      <th>1900-01-01 01:00:00</th>\n",
       "      <td>48.5</td>\n",
       "      <td>-2.208985e+09</td>\n",
       "      <td>2.588190e-01</td>\n",
       "      <td>0.965926</td>\n",
       "      <td>0.000287</td>\n",
       "      <td>1.000000</td>\n",
       "    </tr>\n",
       "    <tr>\n",
       "      <th>1900-01-01 02:00:00</th>\n",
       "      <td>47.6</td>\n",
       "      <td>-2.208982e+09</td>\n",
       "      <td>5.000000e-01</td>\n",
       "      <td>0.866025</td>\n",
       "      <td>0.001003</td>\n",
       "      <td>0.999999</td>\n",
       "    </tr>\n",
       "    <tr>\n",
       "      <th>1900-01-01 03:00:00</th>\n",
       "      <td>47.2</td>\n",
       "      <td>-2.208978e+09</td>\n",
       "      <td>7.071068e-01</td>\n",
       "      <td>0.707107</td>\n",
       "      <td>0.001720</td>\n",
       "      <td>0.999999</td>\n",
       "    </tr>\n",
       "    <tr>\n",
       "      <th>1900-01-01 04:00:00</th>\n",
       "      <td>46.8</td>\n",
       "      <td>-2.208974e+09</td>\n",
       "      <td>8.660254e-01</td>\n",
       "      <td>0.500000</td>\n",
       "      <td>0.002437</td>\n",
       "      <td>0.999997</td>\n",
       "    </tr>\n",
       "    <tr>\n",
       "      <th>...</th>\n",
       "      <td>...</td>\n",
       "      <td>...</td>\n",
       "      <td>...</td>\n",
       "      <td>...</td>\n",
       "      <td>...</td>\n",
       "      <td>...</td>\n",
       "    </tr>\n",
       "    <tr>\n",
       "      <th>1900-12-31 19:00:00</th>\n",
       "      <td>51.5</td>\n",
       "      <td>-2.177471e+09</td>\n",
       "      <td>-9.659258e-01</td>\n",
       "      <td>0.258819</td>\n",
       "      <td>-0.008186</td>\n",
       "      <td>0.999966</td>\n",
       "    </tr>\n",
       "    <tr>\n",
       "      <th>1900-12-31 20:00:00</th>\n",
       "      <td>51.0</td>\n",
       "      <td>-2.177467e+09</td>\n",
       "      <td>-8.660254e-01</td>\n",
       "      <td>0.500000</td>\n",
       "      <td>-0.007469</td>\n",
       "      <td>0.999972</td>\n",
       "    </tr>\n",
       "    <tr>\n",
       "      <th>1900-12-31 21:00:00</th>\n",
       "      <td>50.5</td>\n",
       "      <td>-2.177464e+09</td>\n",
       "      <td>-7.071068e-01</td>\n",
       "      <td>0.707107</td>\n",
       "      <td>-0.006752</td>\n",
       "      <td>0.999977</td>\n",
       "    </tr>\n",
       "    <tr>\n",
       "      <th>1900-12-31 22:00:00</th>\n",
       "      <td>49.8</td>\n",
       "      <td>-2.177460e+09</td>\n",
       "      <td>-5.000000e-01</td>\n",
       "      <td>0.866025</td>\n",
       "      <td>-0.006035</td>\n",
       "      <td>0.999982</td>\n",
       "    </tr>\n",
       "    <tr>\n",
       "      <th>1900-12-31 23:00:00</th>\n",
       "      <td>49.4</td>\n",
       "      <td>-2.177456e+09</td>\n",
       "      <td>-2.588190e-01</td>\n",
       "      <td>0.965926</td>\n",
       "      <td>-0.005319</td>\n",
       "      <td>0.999986</td>\n",
       "    </tr>\n",
       "  </tbody>\n",
       "</table>\n",
       "<p>8727 rows × 6 columns</p>\n",
       "</div>"
      ],
      "text/plain": [
       "                     Hly_Normal       Seconds       Day sin   Day cos  \\\n",
       "date                                                                    \n",
       "1900-01-01 00:00:00        48.8 -2.208989e+09  9.878771e-12  1.000000   \n",
       "1900-01-01 01:00:00        48.5 -2.208985e+09  2.588190e-01  0.965926   \n",
       "1900-01-01 02:00:00        47.6 -2.208982e+09  5.000000e-01  0.866025   \n",
       "1900-01-01 03:00:00        47.2 -2.208978e+09  7.071068e-01  0.707107   \n",
       "1900-01-01 04:00:00        46.8 -2.208974e+09  8.660254e-01  0.500000   \n",
       "...                         ...           ...           ...       ...   \n",
       "1900-12-31 19:00:00        51.5 -2.177471e+09 -9.659258e-01  0.258819   \n",
       "1900-12-31 20:00:00        51.0 -2.177467e+09 -8.660254e-01  0.500000   \n",
       "1900-12-31 21:00:00        50.5 -2.177464e+09 -7.071068e-01  0.707107   \n",
       "1900-12-31 22:00:00        49.8 -2.177460e+09 -5.000000e-01  0.866025   \n",
       "1900-12-31 23:00:00        49.4 -2.177456e+09 -2.588190e-01  0.965926   \n",
       "\n",
       "                     Year sin  Year cos  \n",
       "date                                     \n",
       "1900-01-01 00:00:00 -0.000430  1.000000  \n",
       "1900-01-01 01:00:00  0.000287  1.000000  \n",
       "1900-01-01 02:00:00  0.001003  0.999999  \n",
       "1900-01-01 03:00:00  0.001720  0.999999  \n",
       "1900-01-01 04:00:00  0.002437  0.999997  \n",
       "...                       ...       ...  \n",
       "1900-12-31 19:00:00 -0.008186  0.999966  \n",
       "1900-12-31 20:00:00 -0.007469  0.999972  \n",
       "1900-12-31 21:00:00 -0.006752  0.999977  \n",
       "1900-12-31 22:00:00 -0.006035  0.999982  \n",
       "1900-12-31 23:00:00 -0.005319  0.999986  \n",
       "\n",
       "[8727 rows x 6 columns]"
      ]
     },
     "execution_count": 40,
     "metadata": {},
     "output_type": "execute_result"
    }
   ],
   "source": [
    "temp_df"
   ]
  },
  {
   "cell_type": "code",
   "execution_count": 41,
   "id": "e51223ef",
   "metadata": {},
   "outputs": [
    {
     "data": {
      "text/html": [
       "<div>\n",
       "<style scoped>\n",
       "    .dataframe tbody tr th:only-of-type {\n",
       "        vertical-align: middle;\n",
       "    }\n",
       "\n",
       "    .dataframe tbody tr th {\n",
       "        vertical-align: top;\n",
       "    }\n",
       "\n",
       "    .dataframe thead th {\n",
       "        text-align: right;\n",
       "    }\n",
       "</style>\n",
       "<table border=\"1\" class=\"dataframe\">\n",
       "  <thead>\n",
       "    <tr style=\"text-align: right;\">\n",
       "      <th></th>\n",
       "      <th>Hly_Normal</th>\n",
       "      <th>Day sin</th>\n",
       "      <th>Day cos</th>\n",
       "      <th>Year sin</th>\n",
       "      <th>Year cos</th>\n",
       "    </tr>\n",
       "    <tr>\n",
       "      <th>date</th>\n",
       "      <th></th>\n",
       "      <th></th>\n",
       "      <th></th>\n",
       "      <th></th>\n",
       "      <th></th>\n",
       "    </tr>\n",
       "  </thead>\n",
       "  <tbody>\n",
       "    <tr>\n",
       "      <th>1900-01-01 00:00:00</th>\n",
       "      <td>48.8</td>\n",
       "      <td>9.878771e-12</td>\n",
       "      <td>1.000000</td>\n",
       "      <td>-0.000430</td>\n",
       "      <td>1.000000</td>\n",
       "    </tr>\n",
       "    <tr>\n",
       "      <th>1900-01-01 01:00:00</th>\n",
       "      <td>48.5</td>\n",
       "      <td>2.588190e-01</td>\n",
       "      <td>0.965926</td>\n",
       "      <td>0.000287</td>\n",
       "      <td>1.000000</td>\n",
       "    </tr>\n",
       "    <tr>\n",
       "      <th>1900-01-01 02:00:00</th>\n",
       "      <td>47.6</td>\n",
       "      <td>5.000000e-01</td>\n",
       "      <td>0.866025</td>\n",
       "      <td>0.001003</td>\n",
       "      <td>0.999999</td>\n",
       "    </tr>\n",
       "    <tr>\n",
       "      <th>1900-01-01 03:00:00</th>\n",
       "      <td>47.2</td>\n",
       "      <td>7.071068e-01</td>\n",
       "      <td>0.707107</td>\n",
       "      <td>0.001720</td>\n",
       "      <td>0.999999</td>\n",
       "    </tr>\n",
       "    <tr>\n",
       "      <th>1900-01-01 04:00:00</th>\n",
       "      <td>46.8</td>\n",
       "      <td>8.660254e-01</td>\n",
       "      <td>0.500000</td>\n",
       "      <td>0.002437</td>\n",
       "      <td>0.999997</td>\n",
       "    </tr>\n",
       "  </tbody>\n",
       "</table>\n",
       "</div>"
      ],
      "text/plain": [
       "                     Hly_Normal       Day sin   Day cos  Year sin  Year cos\n",
       "date                                                                       \n",
       "1900-01-01 00:00:00        48.8  9.878771e-12  1.000000 -0.000430  1.000000\n",
       "1900-01-01 01:00:00        48.5  2.588190e-01  0.965926  0.000287  1.000000\n",
       "1900-01-01 02:00:00        47.6  5.000000e-01  0.866025  0.001003  0.999999\n",
       "1900-01-01 03:00:00        47.2  7.071068e-01  0.707107  0.001720  0.999999\n",
       "1900-01-01 04:00:00        46.8  8.660254e-01  0.500000  0.002437  0.999997"
      ]
     },
     "execution_count": 41,
     "metadata": {},
     "output_type": "execute_result"
    }
   ],
   "source": [
    "temp_df = temp_df.drop('Seconds', axis = 1)\n",
    "temp_df.head()"
   ]
  },
  {
   "cell_type": "code",
   "execution_count": 42,
   "id": "6bdbf248",
   "metadata": {},
   "outputs": [],
   "source": [
    "# [[[t1,ds1], [t2,ds2], [t3,ds3], [t4,ds4], [t5,ds5]]] [t6]\n",
    "\n",
    "def df_to_X_y2(df, window_size= 6):\n",
    "    df_as_np = df.to_numpy()\n",
    "    X = []\n",
    "    y = []\n",
    "    for i in range(len(df_as_np)-window_size):\n",
    "        row = [ r for r in df_as_np[i:i+window_size]]\n",
    "        X.append(row)\n",
    "        label = df_as_np[i+window_size][0]\n",
    "        y.append(label)\n",
    "    return np.array(X), np.array(y)\n",
    "        "
   ]
  },
  {
   "cell_type": "code",
   "execution_count": 43,
   "id": "1bdf516b",
   "metadata": {},
   "outputs": [
    {
     "data": {
      "text/plain": [
       "((8721, 6, 5), (8721,))"
      ]
     },
     "execution_count": 43,
     "metadata": {},
     "output_type": "execute_result"
    }
   ],
   "source": [
    "X2, y2 = df_to_X_y2(temp_df)\n",
    "X2.shape, y2.shape"
   ]
  },
  {
   "cell_type": "code",
   "execution_count": 44,
   "id": "e9bc547f",
   "metadata": {},
   "outputs": [
    {
     "data": {
      "text/plain": [
       "((6000, 6, 5), (6000,), (500, 6, 5), (500,), (2221, 6, 5), (2221,))"
      ]
     },
     "execution_count": 44,
     "metadata": {},
     "output_type": "execute_result"
    }
   ],
   "source": [
    "X2_train, y2_train = X2[:6000], y2[:6000]\n",
    "X2_val, y2_val = X2[6000:6500], y2[6000:6500]\n",
    "X2_test, y2_test = X2[6500:], y2[6500:]\n",
    "X2_train.shape, y2_train.shape, X2_val.shape, y2_val.shape, X2_test.shape, y2_test.shape"
   ]
  },
  {
   "cell_type": "markdown",
   "id": "1c9157d0",
   "metadata": {},
   "source": [
    "# Preprocessing Data\n",
    "\n",
    "Normalizing data"
   ]
  },
  {
   "cell_type": "code",
   "execution_count": 47,
   "id": "6926e6c9",
   "metadata": {},
   "outputs": [],
   "source": [
    "temp_train_mean = np.mean(X2_train[:,:,0]) #0 is just temperature in the training test\n",
    "temp_training_std = np.std(X2_train[:,:,0])\n",
    "\n",
    "def preprocess(X):\n",
    "    X[:,:,0] = (X[:,:,0] - temp_train_mean)/temp_training_std\n",
    "    return X"
   ]
  },
  {
   "cell_type": "code",
   "execution_count": 54,
   "id": "1bfbe664",
   "metadata": {},
   "outputs": [
    {
     "data": {
      "text/plain": [
       "array([[[-9.84004135e+00,  9.65925826e-01,  2.58819045e-01,\n",
       "         -9.99547638e-01, -3.00752367e-02],\n",
       "        [-9.83419552e+00,  1.00000000e+00, -1.23647142e-11,\n",
       "         -9.99568938e-01, -2.93587709e-02],\n",
       "        [-9.79912052e+00,  9.65925826e-01, -2.58819045e-01,\n",
       "         -9.99589725e-01, -2.86422900e-02],\n",
       "        [-9.71435596e+00,  8.66025404e-01, -5.00000000e-01,\n",
       "         -9.99609999e-01, -2.79257944e-02],\n",
       "        [-9.65297473e+00,  7.07106781e-01, -7.07106781e-01,\n",
       "         -9.99629759e-01, -2.72092845e-02],\n",
       "        [-9.59451641e+00,  5.00000000e-01, -8.66025404e-01,\n",
       "         -9.99649005e-01, -2.64927606e-02]],\n",
       "\n",
       "       [[-9.83419552e+00,  1.00000000e+00, -1.23647142e-11,\n",
       "         -9.99568938e-01, -2.93587709e-02],\n",
       "        [-9.79912052e+00,  9.65925826e-01, -2.58819045e-01,\n",
       "         -9.99589725e-01, -2.86422900e-02],\n",
       "        [-9.71435596e+00,  8.66025404e-01, -5.00000000e-01,\n",
       "         -9.99609999e-01, -2.79257944e-02],\n",
       "        [-9.65297473e+00,  7.07106781e-01, -7.07106781e-01,\n",
       "         -9.99629759e-01, -2.72092845e-02],\n",
       "        [-9.59451641e+00,  5.00000000e-01, -8.66025404e-01,\n",
       "         -9.99649005e-01, -2.64927606e-02],\n",
       "        [-9.53898101e+00,  2.58819045e-01, -9.65925826e-01,\n",
       "         -9.99667738e-01, -2.57762230e-02]],\n",
       "\n",
       "       [[-9.79912052e+00,  9.65925826e-01, -2.58819045e-01,\n",
       "         -9.99589725e-01, -2.86422900e-02],\n",
       "        [-9.71435596e+00,  8.66025404e-01, -5.00000000e-01,\n",
       "         -9.99609999e-01, -2.79257944e-02],\n",
       "        [-9.65297473e+00,  7.07106781e-01, -7.07106781e-01,\n",
       "         -9.99629759e-01, -2.72092845e-02],\n",
       "        [-9.59451641e+00,  5.00000000e-01, -8.66025404e-01,\n",
       "         -9.99649005e-01, -2.64927606e-02],\n",
       "        [-9.53898101e+00,  2.58819045e-01, -9.65925826e-01,\n",
       "         -9.99667738e-01, -2.57762230e-02],\n",
       "        [-9.48636853e+00, -9.80137008e-12, -1.00000000e+00,\n",
       "         -9.99685957e-01, -2.50596723e-02]],\n",
       "\n",
       "       ...,\n",
       "\n",
       "       [[-9.92480591e+00, -7.07106781e-01, -7.07106781e-01,\n",
       "         -1.10525592e-02,  9.99938919e-01],\n",
       "        [-9.93357465e+00, -8.66025404e-01, -5.00000000e-01,\n",
       "         -1.03358179e-02,  9.99946584e-01],\n",
       "        [-9.95695798e+00, -9.65925826e-01, -2.58819045e-01,\n",
       "         -9.61907117e-03,  9.99953736e-01],\n",
       "        [-9.98034131e+00, -1.00000000e+00, -4.75004725e-12,\n",
       "         -8.90231955e-03,  9.99960374e-01],\n",
       "        [-1.00008017e+01, -9.65925826e-01,  2.58819045e-01,\n",
       "         -8.18556335e-03,  9.99966498e-01],\n",
       "        [-1.00154163e+01, -8.66025404e-01,  5.00000000e-01,\n",
       "         -7.46880294e-03,  9.99972108e-01]],\n",
       "\n",
       "       [[-9.93357465e+00, -8.66025404e-01, -5.00000000e-01,\n",
       "         -1.03358179e-02,  9.99946584e-01],\n",
       "        [-9.95695798e+00, -9.65925826e-01, -2.58819045e-01,\n",
       "         -9.61907117e-03,  9.99953736e-01],\n",
       "        [-9.98034131e+00, -1.00000000e+00, -4.75004725e-12,\n",
       "         -8.90231955e-03,  9.99960374e-01],\n",
       "        [-1.00008017e+01, -9.65925826e-01,  2.58819045e-01,\n",
       "         -8.18556335e-03,  9.99966498e-01],\n",
       "        [-1.00154163e+01, -8.66025404e-01,  5.00000000e-01,\n",
       "         -7.46880294e-03,  9.99972108e-01],\n",
       "        [-1.00300309e+01, -7.07106781e-01,  7.07106781e-01,\n",
       "         -6.75203870e-03,  9.99977205e-01]],\n",
       "\n",
       "       [[-9.95695798e+00, -9.65925826e-01, -2.58819045e-01,\n",
       "         -9.61907117e-03,  9.99953736e-01],\n",
       "        [-9.98034131e+00, -1.00000000e+00, -4.75004725e-12,\n",
       "         -8.90231955e-03,  9.99960374e-01],\n",
       "        [-1.00008017e+01, -9.65925826e-01,  2.58819045e-01,\n",
       "         -8.18556335e-03,  9.99966498e-01],\n",
       "        [-1.00154163e+01, -8.66025404e-01,  5.00000000e-01,\n",
       "         -7.46880294e-03,  9.99972108e-01],\n",
       "        [-1.00300309e+01, -7.07106781e-01,  7.07106781e-01,\n",
       "         -6.75203870e-03,  9.99977205e-01],\n",
       "        [-1.00504913e+01, -5.00000000e-01,  8.66025404e-01,\n",
       "         -6.03527099e-03,  9.99981788e-01]]])"
      ]
     },
     "execution_count": 54,
     "metadata": {},
     "output_type": "execute_result"
    }
   ],
   "source": [
    "preprocess(X2_train)\n",
    "preprocess(X2_val)\n",
    "preprocess(X2_test)"
   ]
  },
  {
   "cell_type": "code",
   "execution_count": 55,
   "id": "29bcb042",
   "metadata": {},
   "outputs": [
    {
     "name": "stdout",
     "output_type": "stream",
     "text": [
      "Model: \"sequential_6\"\n",
      "_________________________________________________________________\n",
      " Layer (type)                Output Shape              Param #   \n",
      "=================================================================\n",
      " lstm_3 (LSTM)               (None, 64)                17920     \n",
      "                                                                 \n",
      " dense_12 (Dense)            (None, 8)                 520       \n",
      "                                                                 \n",
      " dense_13 (Dense)            (None, 1)                 9         \n",
      "                                                                 \n",
      "=================================================================\n",
      "Total params: 18,449\n",
      "Trainable params: 18,449\n",
      "Non-trainable params: 0\n",
      "_________________________________________________________________\n"
     ]
    }
   ],
   "source": [
    "model4 = Sequential()\n",
    "model4.add(InputLayer((6,5))) #six time steps, 5 variables of input\n",
    "model4.add(LSTM(64)) #how many windows do we want to slide across\n",
    "model4.add(Dense(8, 'relu'))\n",
    "model4.add(Dense(1, 'linear')) #linear value, pos or neg (for temp)\n",
    "model4.summary()"
   ]
  },
  {
   "cell_type": "code",
   "execution_count": 58,
   "id": "9c9c9ec0",
   "metadata": {},
   "outputs": [],
   "source": [
    "cp4 = ModelCheckpoint('model4/', save_best_only = True) #I want to only save the best model (lowest validation loss)\n",
    "#learning rate = higher the value, faster model tries to decrease loss\n",
    "#but we don't want to dec super fast bc it won't find local min/max\n",
    "model4.compile(loss = MeanSquaredError(), optimizer =Adam(learning_rate = 0.0001), metrics = [RootMeanSquaredError()])\n"
   ]
  },
  {
   "cell_type": "code",
   "execution_count": 59,
   "id": "4b0965fa",
   "metadata": {},
   "outputs": [
    {
     "name": "stdout",
     "output_type": "stream",
     "text": [
      "Epoch 1/10\n",
      "176/188 [===========================>..] - ETA: 0s - loss: 3341.6868 - root_mean_squared_error: 57.8073"
     ]
    },
    {
     "name": "stderr",
     "output_type": "stream",
     "text": [
      "WARNING:absl:Found untraced functions such as lstm_cell_4_layer_call_fn, lstm_cell_4_layer_call_and_return_conditional_losses, lstm_cell_4_layer_call_fn, lstm_cell_4_layer_call_and_return_conditional_losses, lstm_cell_4_layer_call_and_return_conditional_losses while saving (showing 5 of 5). These functions will not be directly callable after loading.\n"
     ]
    },
    {
     "name": "stdout",
     "output_type": "stream",
     "text": [
      "INFO:tensorflow:Assets written to: model4/assets\n"
     ]
    },
    {
     "name": "stderr",
     "output_type": "stream",
     "text": [
      "INFO:tensorflow:Assets written to: model4/assets\n",
      "WARNING:absl:<keras.layers.recurrent.LSTMCell object at 0x7fcedcbb0fa0> has the same name 'LSTMCell' as a built-in Keras object. Consider renaming <class 'keras.layers.recurrent.LSTMCell'> to avoid naming conflicts when loading with `tf.keras.models.load_model`. If renaming is not possible, pass the object in the `custom_objects` parameter of the load function.\n"
     ]
    },
    {
     "name": "stdout",
     "output_type": "stream",
     "text": [
      "188/188 [==============================] - 6s 23ms/step - loss: 3340.9954 - root_mean_squared_error: 57.8013 - val_loss: 3958.1865 - val_root_mean_squared_error: 62.9141\n",
      "Epoch 2/10\n",
      "174/188 [==========================>...] - ETA: 0s - loss: 3335.6265 - root_mean_squared_error: 57.7549"
     ]
    },
    {
     "name": "stderr",
     "output_type": "stream",
     "text": [
      "WARNING:absl:Found untraced functions such as lstm_cell_4_layer_call_fn, lstm_cell_4_layer_call_and_return_conditional_losses, lstm_cell_4_layer_call_fn, lstm_cell_4_layer_call_and_return_conditional_losses, lstm_cell_4_layer_call_and_return_conditional_losses while saving (showing 5 of 5). These functions will not be directly callable after loading.\n"
     ]
    },
    {
     "name": "stdout",
     "output_type": "stream",
     "text": [
      "INFO:tensorflow:Assets written to: model4/assets\n"
     ]
    },
    {
     "name": "stderr",
     "output_type": "stream",
     "text": [
      "INFO:tensorflow:Assets written to: model4/assets\n",
      "WARNING:absl:<keras.layers.recurrent.LSTMCell object at 0x7fcedcbb0fa0> has the same name 'LSTMCell' as a built-in Keras object. Consider renaming <class 'keras.layers.recurrent.LSTMCell'> to avoid naming conflicts when loading with `tf.keras.models.load_model`. If renaming is not possible, pass the object in the `custom_objects` parameter of the load function.\n"
     ]
    },
    {
     "name": "stdout",
     "output_type": "stream",
     "text": [
      "188/188 [==============================] - 4s 22ms/step - loss: 3335.8503 - root_mean_squared_error: 57.7568 - val_loss: 3955.8279 - val_root_mean_squared_error: 62.8954\n",
      "Epoch 3/10\n",
      "185/188 [============================>.] - ETA: 0s - loss: 3332.6191 - root_mean_squared_error: 57.7288"
     ]
    },
    {
     "name": "stderr",
     "output_type": "stream",
     "text": [
      "WARNING:absl:Found untraced functions such as lstm_cell_4_layer_call_fn, lstm_cell_4_layer_call_and_return_conditional_losses, lstm_cell_4_layer_call_fn, lstm_cell_4_layer_call_and_return_conditional_losses, lstm_cell_4_layer_call_and_return_conditional_losses while saving (showing 5 of 5). These functions will not be directly callable after loading.\n"
     ]
    },
    {
     "name": "stdout",
     "output_type": "stream",
     "text": [
      "INFO:tensorflow:Assets written to: model4/assets\n"
     ]
    },
    {
     "name": "stderr",
     "output_type": "stream",
     "text": [
      "INFO:tensorflow:Assets written to: model4/assets\n",
      "WARNING:absl:<keras.layers.recurrent.LSTMCell object at 0x7fcedcbb0fa0> has the same name 'LSTMCell' as a built-in Keras object. Consider renaming <class 'keras.layers.recurrent.LSTMCell'> to avoid naming conflicts when loading with `tf.keras.models.load_model`. If renaming is not possible, pass the object in the `custom_objects` parameter of the load function.\n"
     ]
    },
    {
     "name": "stdout",
     "output_type": "stream",
     "text": [
      "188/188 [==============================] - 4s 20ms/step - loss: 3333.6897 - root_mean_squared_error: 57.7381 - val_loss: 3953.4719 - val_root_mean_squared_error: 62.8766\n",
      "Epoch 4/10\n",
      "181/188 [===========================>..] - ETA: 0s - loss: 3328.4392 - root_mean_squared_error: 57.6926"
     ]
    },
    {
     "name": "stderr",
     "output_type": "stream",
     "text": [
      "WARNING:absl:Found untraced functions such as lstm_cell_4_layer_call_fn, lstm_cell_4_layer_call_and_return_conditional_losses, lstm_cell_4_layer_call_fn, lstm_cell_4_layer_call_and_return_conditional_losses, lstm_cell_4_layer_call_and_return_conditional_losses while saving (showing 5 of 5). These functions will not be directly callable after loading.\n"
     ]
    },
    {
     "name": "stdout",
     "output_type": "stream",
     "text": [
      "INFO:tensorflow:Assets written to: model4/assets\n"
     ]
    },
    {
     "name": "stderr",
     "output_type": "stream",
     "text": [
      "INFO:tensorflow:Assets written to: model4/assets\n",
      "WARNING:absl:<keras.layers.recurrent.LSTMCell object at 0x7fcedcbb0fa0> has the same name 'LSTMCell' as a built-in Keras object. Consider renaming <class 'keras.layers.recurrent.LSTMCell'> to avoid naming conflicts when loading with `tf.keras.models.load_model`. If renaming is not possible, pass the object in the `custom_objects` parameter of the load function.\n"
     ]
    },
    {
     "name": "stdout",
     "output_type": "stream",
     "text": [
      "188/188 [==============================] - 4s 22ms/step - loss: 3331.5322 - root_mean_squared_error: 57.7194 - val_loss: 3951.1165 - val_root_mean_squared_error: 62.8579\n",
      "Epoch 5/10\n",
      "179/188 [===========================>..] - ETA: 0s - loss: 3331.5022 - root_mean_squared_error: 57.7192"
     ]
    },
    {
     "name": "stderr",
     "output_type": "stream",
     "text": [
      "WARNING:absl:Found untraced functions such as lstm_cell_4_layer_call_fn, lstm_cell_4_layer_call_and_return_conditional_losses, lstm_cell_4_layer_call_fn, lstm_cell_4_layer_call_and_return_conditional_losses, lstm_cell_4_layer_call_and_return_conditional_losses while saving (showing 5 of 5). These functions will not be directly callable after loading.\n"
     ]
    },
    {
     "name": "stdout",
     "output_type": "stream",
     "text": [
      "INFO:tensorflow:Assets written to: model4/assets\n"
     ]
    },
    {
     "name": "stderr",
     "output_type": "stream",
     "text": [
      "INFO:tensorflow:Assets written to: model4/assets\n",
      "WARNING:absl:<keras.layers.recurrent.LSTMCell object at 0x7fcedcbb0fa0> has the same name 'LSTMCell' as a built-in Keras object. Consider renaming <class 'keras.layers.recurrent.LSTMCell'> to avoid naming conflicts when loading with `tf.keras.models.load_model`. If renaming is not possible, pass the object in the `custom_objects` parameter of the load function.\n"
     ]
    },
    {
     "name": "stdout",
     "output_type": "stream",
     "text": [
      "188/188 [==============================] - 4s 20ms/step - loss: 3329.3757 - root_mean_squared_error: 57.7007 - val_loss: 3948.7610 - val_root_mean_squared_error: 62.8392\n",
      "Epoch 6/10\n",
      "188/188 [==============================] - ETA: 0s - loss: 3327.2192 - root_mean_squared_error: 57.6821"
     ]
    },
    {
     "name": "stderr",
     "output_type": "stream",
     "text": [
      "WARNING:absl:Found untraced functions such as lstm_cell_4_layer_call_fn, lstm_cell_4_layer_call_and_return_conditional_losses, lstm_cell_4_layer_call_fn, lstm_cell_4_layer_call_and_return_conditional_losses, lstm_cell_4_layer_call_and_return_conditional_losses while saving (showing 5 of 5). These functions will not be directly callable after loading.\n"
     ]
    },
    {
     "name": "stdout",
     "output_type": "stream",
     "text": [
      "INFO:tensorflow:Assets written to: model4/assets\n"
     ]
    },
    {
     "name": "stderr",
     "output_type": "stream",
     "text": [
      "INFO:tensorflow:Assets written to: model4/assets\n",
      "WARNING:absl:<keras.layers.recurrent.LSTMCell object at 0x7fcedcbb0fa0> has the same name 'LSTMCell' as a built-in Keras object. Consider renaming <class 'keras.layers.recurrent.LSTMCell'> to avoid naming conflicts when loading with `tf.keras.models.load_model`. If renaming is not possible, pass the object in the `custom_objects` parameter of the load function.\n"
     ]
    },
    {
     "name": "stdout",
     "output_type": "stream",
     "text": [
      "188/188 [==============================] - 4s 20ms/step - loss: 3327.2192 - root_mean_squared_error: 57.6821 - val_loss: 3946.4084 - val_root_mean_squared_error: 62.8204\n",
      "Epoch 7/10\n",
      "186/188 [============================>.] - ETA: 0s - loss: 3324.9509 - root_mean_squared_error: 57.6624"
     ]
    },
    {
     "name": "stderr",
     "output_type": "stream",
     "text": [
      "WARNING:absl:Found untraced functions such as lstm_cell_4_layer_call_fn, lstm_cell_4_layer_call_and_return_conditional_losses, lstm_cell_4_layer_call_fn, lstm_cell_4_layer_call_and_return_conditional_losses, lstm_cell_4_layer_call_and_return_conditional_losses while saving (showing 5 of 5). These functions will not be directly callable after loading.\n"
     ]
    },
    {
     "name": "stdout",
     "output_type": "stream",
     "text": [
      "INFO:tensorflow:Assets written to: model4/assets\n"
     ]
    },
    {
     "name": "stderr",
     "output_type": "stream",
     "text": [
      "INFO:tensorflow:Assets written to: model4/assets\n",
      "WARNING:absl:<keras.layers.recurrent.LSTMCell object at 0x7fcedcbb0fa0> has the same name 'LSTMCell' as a built-in Keras object. Consider renaming <class 'keras.layers.recurrent.LSTMCell'> to avoid naming conflicts when loading with `tf.keras.models.load_model`. If renaming is not possible, pass the object in the `custom_objects` parameter of the load function.\n"
     ]
    },
    {
     "name": "stdout",
     "output_type": "stream",
     "text": [
      "188/188 [==============================] - 4s 23ms/step - loss: 3325.0647 - root_mean_squared_error: 57.6634 - val_loss: 3944.0557 - val_root_mean_squared_error: 62.8017\n",
      "Epoch 8/10\n",
      "175/188 [==========================>...] - ETA: 0s - loss: 3321.9412 - root_mean_squared_error: 57.6363"
     ]
    },
    {
     "name": "stderr",
     "output_type": "stream",
     "text": [
      "WARNING:absl:Found untraced functions such as lstm_cell_4_layer_call_fn, lstm_cell_4_layer_call_and_return_conditional_losses, lstm_cell_4_layer_call_fn, lstm_cell_4_layer_call_and_return_conditional_losses, lstm_cell_4_layer_call_and_return_conditional_losses while saving (showing 5 of 5). These functions will not be directly callable after loading.\n"
     ]
    },
    {
     "name": "stdout",
     "output_type": "stream",
     "text": [
      "INFO:tensorflow:Assets written to: model4/assets\n"
     ]
    },
    {
     "name": "stderr",
     "output_type": "stream",
     "text": [
      "INFO:tensorflow:Assets written to: model4/assets\n",
      "WARNING:absl:<keras.layers.recurrent.LSTMCell object at 0x7fcedcbb0fa0> has the same name 'LSTMCell' as a built-in Keras object. Consider renaming <class 'keras.layers.recurrent.LSTMCell'> to avoid naming conflicts when loading with `tf.keras.models.load_model`. If renaming is not possible, pass the object in the `custom_objects` parameter of the load function.\n"
     ]
    },
    {
     "name": "stdout",
     "output_type": "stream",
     "text": [
      "188/188 [==============================] - 3s 18ms/step - loss: 3322.9097 - root_mean_squared_error: 57.6447 - val_loss: 3941.7043 - val_root_mean_squared_error: 62.7830\n",
      "Epoch 9/10\n",
      "179/188 [===========================>..] - ETA: 0s - loss: 3322.9065 - root_mean_squared_error: 57.6447"
     ]
    },
    {
     "name": "stderr",
     "output_type": "stream",
     "text": [
      "WARNING:absl:Found untraced functions such as lstm_cell_4_layer_call_fn, lstm_cell_4_layer_call_and_return_conditional_losses, lstm_cell_4_layer_call_fn, lstm_cell_4_layer_call_and_return_conditional_losses, lstm_cell_4_layer_call_and_return_conditional_losses while saving (showing 5 of 5). These functions will not be directly callable after loading.\n"
     ]
    },
    {
     "name": "stdout",
     "output_type": "stream",
     "text": [
      "INFO:tensorflow:Assets written to: model4/assets\n"
     ]
    },
    {
     "name": "stderr",
     "output_type": "stream",
     "text": [
      "INFO:tensorflow:Assets written to: model4/assets\n",
      "WARNING:absl:<keras.layers.recurrent.LSTMCell object at 0x7fcedcbb0fa0> has the same name 'LSTMCell' as a built-in Keras object. Consider renaming <class 'keras.layers.recurrent.LSTMCell'> to avoid naming conflicts when loading with `tf.keras.models.load_model`. If renaming is not possible, pass the object in the `custom_objects` parameter of the load function.\n"
     ]
    },
    {
     "name": "stdout",
     "output_type": "stream",
     "text": [
      "188/188 [==============================] - 3s 19ms/step - loss: 3320.7566 - root_mean_squared_error: 57.6260 - val_loss: 3939.3518 - val_root_mean_squared_error: 62.7643\n",
      "Epoch 10/10\n",
      "184/188 [============================>.] - ETA: 0s - loss: 3319.0374 - root_mean_squared_error: 57.6111"
     ]
    },
    {
     "name": "stderr",
     "output_type": "stream",
     "text": [
      "WARNING:absl:Found untraced functions such as lstm_cell_4_layer_call_fn, lstm_cell_4_layer_call_and_return_conditional_losses, lstm_cell_4_layer_call_fn, lstm_cell_4_layer_call_and_return_conditional_losses, lstm_cell_4_layer_call_and_return_conditional_losses while saving (showing 5 of 5). These functions will not be directly callable after loading.\n"
     ]
    },
    {
     "name": "stdout",
     "output_type": "stream",
     "text": [
      "INFO:tensorflow:Assets written to: model4/assets\n"
     ]
    },
    {
     "name": "stderr",
     "output_type": "stream",
     "text": [
      "INFO:tensorflow:Assets written to: model4/assets\n",
      "WARNING:absl:<keras.layers.recurrent.LSTMCell object at 0x7fcedcbb0fa0> has the same name 'LSTMCell' as a built-in Keras object. Consider renaming <class 'keras.layers.recurrent.LSTMCell'> to avoid naming conflicts when loading with `tf.keras.models.load_model`. If renaming is not possible, pass the object in the `custom_objects` parameter of the load function.\n"
     ]
    },
    {
     "name": "stdout",
     "output_type": "stream",
     "text": [
      "\b\b\b\b\b\b\b\b\b\b\b\b\b\b\b\b\b\b\b\b\b\b\b\b\b\b\b\b\b\b\b\b\b\b\b\b\b\b\b\b\b\b\b\b\b\b\b\b\b\b\b\b\b\b\b\b\b\b\b\b\b\b\b\b\b\b\b\b\b\b\b\b\b\b\b\b\b\b\b\b\b\b\b\b\b\b\b\b\b\b\b\b\b\b\b\b\b\b\b\b\b\b\b\r",
      "188/188 [==============================] - 3s 17ms/step - loss: 3318.6042 - root_mean_squared_error: 57.6073 - val_loss: 3937.0024 - val_root_mean_squared_error: 62.7455\n"
     ]
    },
    {
     "data": {
      "text/plain": [
       "<keras.callbacks.History at 0x7fcef1f87670>"
      ]
     },
     "execution_count": 59,
     "metadata": {},
     "output_type": "execute_result"
    }
   ],
   "source": [
    "model4.fit(X2_train, y2_train, validation_data=(X2_val, y2_val), epochs = 10, callbacks = [cp4])"
   ]
  },
  {
   "cell_type": "code",
   "execution_count": 60,
   "id": "cc9e7a4c",
   "metadata": {},
   "outputs": [
    {
     "data": {
      "text/plain": [
       "(      Predictions  Actuals\n",
       " 0        0.187824     67.3\n",
       " 1        0.187824     69.1\n",
       " 2        0.187824     70.6\n",
       " 3        0.187824     71.1\n",
       " 4        0.187824     70.5\n",
       " ...           ...      ...\n",
       " 2216     0.187824     51.5\n",
       " 2217     0.187824     51.0\n",
       " 2218     0.187824     50.5\n",
       " 2219     0.187824     49.8\n",
       " 2220     0.187824     49.4\n",
       " \n",
       " [2221 rows x 2 columns],\n",
       " 3157.8732118432167)"
      ]
     },
     "execution_count": 60,
     "metadata": {},
     "output_type": "execute_result"
    },
    {
     "data": {
      "image/png": "[encoded data removed]",
      "text/plain": [
       "<Figure size 432x288 with 1 Axes>"
      ]
     },
     "metadata": {
      "needs_background": "light"
     },
     "output_type": "display_data"
    }
   ],
   "source": [
    "plot_predictions1(model4, X2_test, y2_test)"
   ]
  },
  {
   "cell_type": "code",
   "execution_count": 69,
   "id": "3d02e12a",
   "metadata": {},
   "outputs": [
    {
     "data": {
      "text/html": [
       "<div>\n",
       "<style scoped>\n",
       "    .dataframe tbody tr th:only-of-type {\n",
       "        vertical-align: middle;\n",
       "    }\n",
       "\n",
       "    .dataframe tbody tr th {\n",
       "        vertical-align: top;\n",
       "    }\n",
       "\n",
       "    .dataframe thead th {\n",
       "        text-align: right;\n",
       "    }\n",
       "</style>\n",
       "<table border=\"1\" class=\"dataframe\">\n",
       "  <thead>\n",
       "    <tr style=\"text-align: right;\">\n",
       "      <th></th>\n",
       "      <th>years_HLY_TEMP_NORMAL</th>\n",
       "      <th>Hly_Normal</th>\n",
       "      <th>Day sin</th>\n",
       "      <th>Day cos</th>\n",
       "      <th>Year sin</th>\n",
       "      <th>Year cos</th>\n",
       "    </tr>\n",
       "    <tr>\n",
       "      <th>date</th>\n",
       "      <th></th>\n",
       "      <th></th>\n",
       "      <th></th>\n",
       "      <th></th>\n",
       "      <th></th>\n",
       "      <th></th>\n",
       "    </tr>\n",
       "  </thead>\n",
       "  <tbody>\n",
       "    <tr>\n",
       "      <th>1900-01-01 00:00:00</th>\n",
       "      <td>30</td>\n",
       "      <td>48.8</td>\n",
       "      <td>9.878771e-12</td>\n",
       "      <td>1.000000</td>\n",
       "      <td>-0.000430</td>\n",
       "      <td>1.000000</td>\n",
       "    </tr>\n",
       "    <tr>\n",
       "      <th>1900-01-01 01:00:00</th>\n",
       "      <td>30</td>\n",
       "      <td>48.5</td>\n",
       "      <td>2.588190e-01</td>\n",
       "      <td>0.965926</td>\n",
       "      <td>0.000287</td>\n",
       "      <td>1.000000</td>\n",
       "    </tr>\n",
       "    <tr>\n",
       "      <th>1900-01-01 02:00:00</th>\n",
       "      <td>30</td>\n",
       "      <td>47.6</td>\n",
       "      <td>5.000000e-01</td>\n",
       "      <td>0.866025</td>\n",
       "      <td>0.001003</td>\n",
       "      <td>0.999999</td>\n",
       "    </tr>\n",
       "    <tr>\n",
       "      <th>1900-01-01 03:00:00</th>\n",
       "      <td>30</td>\n",
       "      <td>47.2</td>\n",
       "      <td>7.071068e-01</td>\n",
       "      <td>0.707107</td>\n",
       "      <td>0.001720</td>\n",
       "      <td>0.999999</td>\n",
       "    </tr>\n",
       "    <tr>\n",
       "      <th>1900-01-01 04:00:00</th>\n",
       "      <td>30</td>\n",
       "      <td>46.8</td>\n",
       "      <td>8.660254e-01</td>\n",
       "      <td>0.500000</td>\n",
       "      <td>0.002437</td>\n",
       "      <td>0.999997</td>\n",
       "    </tr>\n",
       "  </tbody>\n",
       "</table>\n",
       "</div>"
      ],
      "text/plain": [
       "                     years_HLY_TEMP_NORMAL  Hly_Normal       Day sin  \\\n",
       "date                                                                   \n",
       "1900-01-01 00:00:00                     30        48.8  9.878771e-12   \n",
       "1900-01-01 01:00:00                     30        48.5  2.588190e-01   \n",
       "1900-01-01 02:00:00                     30        47.6  5.000000e-01   \n",
       "1900-01-01 03:00:00                     30        47.2  7.071068e-01   \n",
       "1900-01-01 04:00:00                     30        46.8  8.660254e-01   \n",
       "\n",
       "                      Day cos  Year sin  Year cos  \n",
       "date                                               \n",
       "1900-01-01 00:00:00  1.000000 -0.000430  1.000000  \n",
       "1900-01-01 01:00:00  0.965926  0.000287  1.000000  \n",
       "1900-01-01 02:00:00  0.866025  0.001003  0.999999  \n",
       "1900-01-01 03:00:00  0.707107  0.001720  0.999999  \n",
       "1900-01-01 04:00:00  0.500000  0.002437  0.999997  "
      ]
     },
     "execution_count": 69,
     "metadata": {},
     "output_type": "execute_result"
    }
   ],
   "source": [
    "#add pressure and try to predict it at each time step\n",
    "p_temp_df = pd.concat([df['years_HLY_TEMP_NORMAL'], temp_df], axis = 1)\n",
    "p_temp_df.head()"
   ]
  },
  {
   "cell_type": "code",
   "execution_count": 104,
   "id": "9b51490e",
   "metadata": {},
   "outputs": [],
   "source": [
    "def df_to_X_y3(df, window_size= 7):\n",
    "    df_as_np = df.to_numpy()\n",
    "    X = []\n",
    "    y = []\n",
    "    for i in range(len(df_as_np)-window_size):\n",
    "        row = [ r for r in df_as_np[i:i+window_size]]\n",
    "        X.append(row)\n",
    "        label = [df_as_np[i+window_size][0],df_as_np[i+window_size][1]]\n",
    "        y.append(label)\n",
    "    return np.array(X), np.array(y)\n",
    "        "
   ]
  },
  {
   "cell_type": "code",
   "execution_count": 107,
   "id": "e44597b1",
   "metadata": {},
   "outputs": [
    {
     "data": {
      "text/plain": [
       "((8720, 7, 6), (8720, 2))"
      ]
     },
     "execution_count": 107,
     "metadata": {},
     "output_type": "execute_result"
    }
   ],
   "source": [
    "X3, y3 = df_to_X_y3(p_temp_df)\n",
    "X3.shape, y3.shape"
   ]
  },
  {
   "cell_type": "code",
   "execution_count": 108,
   "id": "d3b19a83",
   "metadata": {},
   "outputs": [
    {
     "data": {
      "text/plain": [
       "((6000, 7, 6), (6000, 2), (500, 7, 6), (500, 2), (2220, 7, 6), (2220, 2))"
      ]
     },
     "execution_count": 108,
     "metadata": {},
     "output_type": "execute_result"
    }
   ],
   "source": [
    "X3_train, y3_train = X3[:6000], y3[:6000]\n",
    "X3_val, y3_val = X3[6000:6500], y3[6000:6500]\n",
    "X3_test, y3_test = X3[6500:], y3[6500:]\n",
    "X3_train.shape, y3_train.shape, X3_val.shape, y3_val.shape, X3_test.shape, y3_test.shape"
   ]
  },
  {
   "cell_type": "code",
   "execution_count": 109,
   "id": "52fff511",
   "metadata": {},
   "outputs": [],
   "source": [
    "p_training_mean3 = np.mean(X3_train[:,:,0])\n",
    "p_training_std3 = np.mean(X3_train[:,:,0])"
   ]
  },
  {
   "cell_type": "code",
   "execution_count": 110,
   "id": "f9fc1d1b",
   "metadata": {},
   "outputs": [],
   "source": [
    "def preprocess3(X):\n",
    "    X[:,:,0] = (X[:,:,0] - p_training_mean3)/p_training_std3\n",
    "    X[:,:,1] = (X[:,:,1] - p_training_std3)/p_training_std3\n",
    "\n",
    "def preprocess_output(y):\n",
    "    y[:,0] = (y[:,0] - p_training_mean3)/p_training_std3\n",
    "    y[:,1] = (y[:,1] - p_training_mean3)/p_training_std3\n",
    "    return y"
   ]
  },
  {
   "cell_type": "code",
   "execution_count": 111,
   "id": "10b731ff",
   "metadata": {},
   "outputs": [],
   "source": [
    "preprocess3(X3_train)\n",
    "preprocess3(X3_val)\n",
    "preprocess3(X3_test)"
   ]
  },
  {
   "cell_type": "code",
   "execution_count": 112,
   "id": "d7cee2ac",
   "metadata": {},
   "outputs": [
    {
     "data": {
      "text/plain": [
       "array([[[-1.00000000e+00, -9.70000000e-01, -9.67802472e-01,\n",
       "         -9.91372698e-01, -1.03331825e+00, -1.00100251e+00],\n",
       "        [-1.00000000e+00, -9.69777778e-01, -9.66666667e-01,\n",
       "         -1.00000000e+00, -1.03331896e+00, -1.00097863e+00],\n",
       "        [ 0.00000000e+00,  9.46666667e-01,  9.65925826e-01,\n",
       "         -2.58819045e-01, -9.99589725e-01, -2.86422900e-02],\n",
       "        ...,\n",
       "        [ 0.00000000e+00,  1.11333333e+00,  7.07106781e-01,\n",
       "         -7.07106781e-01, -9.99629759e-01, -2.72092845e-02],\n",
       "        [ 0.00000000e+00,  1.18000000e+00,  5.00000000e-01,\n",
       "         -8.66025404e-01, -9.99649005e-01, -2.64927606e-02],\n",
       "        [ 0.00000000e+00,  1.24333333e+00,  2.58819045e-01,\n",
       "         -9.65925826e-01, -9.99667738e-01, -2.57762230e-02]],\n",
       "\n",
       "       [[-1.00000000e+00, -9.69777778e-01, -9.66666667e-01,\n",
       "         -1.00000000e+00, -1.03331896e+00, -1.00097863e+00],\n",
       "        [-1.00000000e+00, -9.68444444e-01, -9.67802472e-01,\n",
       "         -1.00862730e+00, -1.03331966e+00, -1.00095474e+00],\n",
       "        [ 0.00000000e+00,  1.04333333e+00,  8.66025404e-01,\n",
       "         -5.00000000e-01, -9.99609999e-01, -2.79257944e-02],\n",
       "        ...,\n",
       "        [ 0.00000000e+00,  1.18000000e+00,  5.00000000e-01,\n",
       "         -8.66025404e-01, -9.99649005e-01, -2.64927606e-02],\n",
       "        [ 0.00000000e+00,  1.24333333e+00,  2.58819045e-01,\n",
       "         -9.65925826e-01, -9.99667738e-01, -2.57762230e-02],\n",
       "        [ 0.00000000e+00,  1.30333333e+00, -9.80137008e-12,\n",
       "         -1.00000000e+00, -9.99685957e-01, -2.50596723e-02]],\n",
       "\n",
       "       [[-1.00000000e+00, -9.68444444e-01, -9.67802472e-01,\n",
       "         -1.00862730e+00, -1.03331966e+00, -1.00095474e+00],\n",
       "        [-1.00000000e+00, -9.65222222e-01, -9.71132487e-01,\n",
       "         -1.01666667e+00, -1.03332033e+00, -1.00093086e+00],\n",
       "        [ 0.00000000e+00,  1.11333333e+00,  7.07106781e-01,\n",
       "         -7.07106781e-01, -9.99629759e-01, -2.72092845e-02],\n",
       "        ...,\n",
       "        [ 0.00000000e+00,  1.24333333e+00,  2.58819045e-01,\n",
       "         -9.65925826e-01, -9.99667738e-01, -2.57762230e-02],\n",
       "        [ 0.00000000e+00,  1.30333333e+00, -9.80137008e-12,\n",
       "         -1.00000000e+00, -9.99685957e-01, -2.50596723e-02],\n",
       "        [ 0.00000000e+00,  1.35333333e+00, -2.58819045e-01,\n",
       "         -9.65925826e-01, -9.99703663e-01, -2.43431086e-02]],\n",
       "\n",
       "       ...,\n",
       "\n",
       "       [[-1.00000000e+00, -9.73555556e-01, -1.01666667e+00,\n",
       "         -1.02886751e+00, -1.00039231e+00, -9.66668975e-01],\n",
       "        [-1.00000000e+00, -9.73222222e-01, -1.02357023e+00,\n",
       "         -1.02357023e+00, -1.00036842e+00, -9.66668703e-01],\n",
       "        [ 0.00000000e+00,  7.93333333e-01, -8.66025404e-01,\n",
       "         -5.00000000e-01, -1.03358179e-02,  9.99946584e-01],\n",
       "        ...,\n",
       "        [ 0.00000000e+00,  7.40000000e-01, -1.00000000e+00,\n",
       "         -4.75004725e-12, -8.90231955e-03,  9.99960374e-01],\n",
       "        [ 0.00000000e+00,  7.16666667e-01, -9.65925826e-01,\n",
       "          2.58819045e-01, -8.18556335e-03,  9.99966498e-01],\n",
       "        [ 0.00000000e+00,  7.00000000e-01, -8.66025404e-01,\n",
       "          5.00000000e-01, -7.46880294e-03,  9.99972108e-01]],\n",
       "\n",
       "       [[-1.00000000e+00, -9.73222222e-01, -1.02357023e+00,\n",
       "         -1.02357023e+00, -1.00036842e+00, -9.66668703e-01],\n",
       "        [-1.00000000e+00, -9.73555556e-01, -1.02886751e+00,\n",
       "         -1.01666667e+00, -1.00034453e+00, -9.66668447e-01],\n",
       "        [ 0.00000000e+00,  7.66666667e-01, -9.65925826e-01,\n",
       "         -2.58819045e-01, -9.61907117e-03,  9.99953736e-01],\n",
       "        ...,\n",
       "        [ 0.00000000e+00,  7.16666667e-01, -9.65925826e-01,\n",
       "          2.58819045e-01, -8.18556335e-03,  9.99966498e-01],\n",
       "        [ 0.00000000e+00,  7.00000000e-01, -8.66025404e-01,\n",
       "          5.00000000e-01, -7.46880294e-03,  9.99972108e-01],\n",
       "        [ 0.00000000e+00,  6.83333333e-01, -7.07106781e-01,\n",
       "          7.07106781e-01, -6.75203870e-03,  9.99977205e-01]],\n",
       "\n",
       "       [[-1.00000000e+00, -9.73555556e-01, -1.02886751e+00,\n",
       "         -1.01666667e+00, -1.00034453e+00, -9.66668447e-01],\n",
       "        [-1.00000000e+00, -9.74444444e-01, -1.03219753e+00,\n",
       "         -1.00862730e+00, -1.00032064e+00, -9.66668209e-01],\n",
       "        [ 0.00000000e+00,  7.40000000e-01, -1.00000000e+00,\n",
       "         -4.75004725e-12, -8.90231955e-03,  9.99960374e-01],\n",
       "        ...,\n",
       "        [ 0.00000000e+00,  7.00000000e-01, -8.66025404e-01,\n",
       "          5.00000000e-01, -7.46880294e-03,  9.99972108e-01],\n",
       "        [ 0.00000000e+00,  6.83333333e-01, -7.07106781e-01,\n",
       "          7.07106781e-01, -6.75203870e-03,  9.99977205e-01],\n",
       "        [ 0.00000000e+00,  6.60000000e-01, -5.00000000e-01,\n",
       "          8.66025404e-01, -6.03527099e-03,  9.99981788e-01]]])"
      ]
     },
     "execution_count": 112,
     "metadata": {},
     "output_type": "execute_result"
    }
   ],
   "source": [
    "preprocess_output(X3_train)\n",
    "preprocess_output(X3_val)\n",
    "preprocess_output(X3_test)"
   ]
  },
  {
   "cell_type": "code",
   "execution_count": 113,
   "id": "6d9c70f5",
   "metadata": {},
   "outputs": [
    {
     "name": "stdout",
     "output_type": "stream",
     "text": [
      "Model: \"sequential_9\"\n",
      "_________________________________________________________________\n",
      " Layer (type)                Output Shape              Param #   \n",
      "=================================================================\n",
      " lstm_6 (LSTM)               (None, 64)                18176     \n",
      "                                                                 \n",
      " dense_18 (Dense)            (None, 8)                 520       \n",
      "                                                                 \n",
      " dense_19 (Dense)            (None, 2)                 18        \n",
      "                                                                 \n",
      "=================================================================\n",
      "Total params: 18,714\n",
      "Trainable params: 18,714\n",
      "Non-trainable params: 0\n",
      "_________________________________________________________________\n"
     ]
    }
   ],
   "source": [
    "model5 = Sequential()\n",
    "model5.add(InputLayer((7,6))) #six time steps, 5 variables of input\n",
    "model5.add(LSTM(64)) #how many windows do we want to slide across\n",
    "model5.add(Dense(8, 'relu'))\n",
    "model5.add(Dense(2, 'linear')) #linear value, pos or neg (for temp)\n",
    "model5.summary()"
   ]
  },
  {
   "cell_type": "code",
   "execution_count": 114,
   "id": "b8b79c17",
   "metadata": {},
   "outputs": [],
   "source": [
    "cp5 = ModelCheckpoint('model5/', save_best_only = True) #I want to only save the best model (lowest validation loss)\n",
    "#learning rate = higher the value, faster model tries to decrease loss\n",
    "#but we don't want to dec super fast bc it won't find local min/max\n",
    "model5.compile(loss = MeanSquaredError(), optimizer =Adam(learning_rate = 0.0001), metrics = [RootMeanSquaredError()])\n"
   ]
  },
  {
   "cell_type": "code",
   "execution_count": 115,
   "id": "6c6e7cf1",
   "metadata": {},
   "outputs": [
    {
     "name": "stdout",
     "output_type": "stream",
     "text": [
      "Epoch 1/10\n",
      "187/188 [============================>.] - ETA: 0s - loss: 2062.9290 - root_mean_squared_error: 45.4195"
     ]
    },
    {
     "name": "stderr",
     "output_type": "stream",
     "text": [
      "WARNING:absl:Found untraced functions such as lstm_cell_7_layer_call_fn, lstm_cell_7_layer_call_and_return_conditional_losses, lstm_cell_7_layer_call_fn, lstm_cell_7_layer_call_and_return_conditional_losses, lstm_cell_7_layer_call_and_return_conditional_losses while saving (showing 5 of 5). These functions will not be directly callable after loading.\n"
     ]
    },
    {
     "name": "stdout",
     "output_type": "stream",
     "text": [
      "INFO:tensorflow:Assets written to: model5/assets\n"
     ]
    },
    {
     "name": "stderr",
     "output_type": "stream",
     "text": [
      "INFO:tensorflow:Assets written to: model5/assets\n",
      "WARNING:absl:<keras.layers.recurrent.LSTMCell object at 0x7fcedc0c7700> has the same name 'LSTMCell' as a built-in Keras object. Consider renaming <class 'keras.layers.recurrent.LSTMCell'> to avoid naming conflicts when loading with `tf.keras.models.load_model`. If renaming is not possible, pass the object in the `custom_objects` parameter of the load function.\n"
     ]
    },
    {
     "name": "stdout",
     "output_type": "stream",
     "text": [
      "188/188 [==============================] - 7s 31ms/step - loss: 2062.7776 - root_mean_squared_error: 45.4178 - val_loss: 2188.9580 - val_root_mean_squared_error: 46.7863\n",
      "Epoch 2/10\n",
      "179/188 [===========================>..] - ETA: 0s - loss: 1552.0194 - root_mean_squared_error: 39.3957"
     ]
    },
    {
     "name": "stderr",
     "output_type": "stream",
     "text": [
      "WARNING:absl:Found untraced functions such as lstm_cell_7_layer_call_fn, lstm_cell_7_layer_call_and_return_conditional_losses, lstm_cell_7_layer_call_fn, lstm_cell_7_layer_call_and_return_conditional_losses, lstm_cell_7_layer_call_and_return_conditional_losses while saving (showing 5 of 5). These functions will not be directly callable after loading.\n"
     ]
    },
    {
     "name": "stdout",
     "output_type": "stream",
     "text": [
      "INFO:tensorflow:Assets written to: model5/assets\n"
     ]
    },
    {
     "name": "stderr",
     "output_type": "stream",
     "text": [
      "INFO:tensorflow:Assets written to: model5/assets\n",
      "WARNING:absl:<keras.layers.recurrent.LSTMCell object at 0x7fcedc0c7700> has the same name 'LSTMCell' as a built-in Keras object. Consider renaming <class 'keras.layers.recurrent.LSTMCell'> to avoid naming conflicts when loading with `tf.keras.models.load_model`. If renaming is not possible, pass the object in the `custom_objects` parameter of the load function.\n"
     ]
    },
    {
     "name": "stdout",
     "output_type": "stream",
     "text": [
      "188/188 [==============================] - 5s 24ms/step - loss: 1542.0129 - root_mean_squared_error: 39.2685 - val_loss: 1539.2153 - val_root_mean_squared_error: 39.2328\n",
      "Epoch 3/10\n",
      "181/188 [===========================>..] - ETA: 0s - loss: 1182.0728 - root_mean_squared_error: 34.3813"
     ]
    },
    {
     "name": "stderr",
     "output_type": "stream",
     "text": [
      "WARNING:absl:Found untraced functions such as lstm_cell_7_layer_call_fn, lstm_cell_7_layer_call_and_return_conditional_losses, lstm_cell_7_layer_call_fn, lstm_cell_7_layer_call_and_return_conditional_losses, lstm_cell_7_layer_call_and_return_conditional_losses while saving (showing 5 of 5). These functions will not be directly callable after loading.\n"
     ]
    },
    {
     "name": "stdout",
     "output_type": "stream",
     "text": [
      "INFO:tensorflow:Assets written to: model5/assets\n"
     ]
    },
    {
     "name": "stderr",
     "output_type": "stream",
     "text": [
      "INFO:tensorflow:Assets written to: model5/assets\n",
      "WARNING:absl:<keras.layers.recurrent.LSTMCell object at 0x7fcedc0c7700> has the same name 'LSTMCell' as a built-in Keras object. Consider renaming <class 'keras.layers.recurrent.LSTMCell'> to avoid naming conflicts when loading with `tf.keras.models.load_model`. If renaming is not possible, pass the object in the `custom_objects` parameter of the load function.\n"
     ]
    },
    {
     "name": "stdout",
     "output_type": "stream",
     "text": [
      "188/188 [==============================] - 5s 25ms/step - loss: 1179.2510 - root_mean_squared_error: 34.3402 - val_loss: 1265.9336 - val_root_mean_squared_error: 35.5800\n",
      "Epoch 4/10\n",
      "188/188 [==============================] - ETA: 0s - loss: 960.3784 - root_mean_squared_error: 30.9900"
     ]
    },
    {
     "name": "stderr",
     "output_type": "stream",
     "text": [
      "WARNING:absl:Found untraced functions such as lstm_cell_7_layer_call_fn, lstm_cell_7_layer_call_and_return_conditional_losses, lstm_cell_7_layer_call_fn, lstm_cell_7_layer_call_and_return_conditional_losses, lstm_cell_7_layer_call_and_return_conditional_losses while saving (showing 5 of 5). These functions will not be directly callable after loading.\n"
     ]
    },
    {
     "name": "stdout",
     "output_type": "stream",
     "text": [
      "INFO:tensorflow:Assets written to: model5/assets\n"
     ]
    },
    {
     "name": "stderr",
     "output_type": "stream",
     "text": [
      "INFO:tensorflow:Assets written to: model5/assets\n",
      "WARNING:absl:<keras.layers.recurrent.LSTMCell object at 0x7fcedc0c7700> has the same name 'LSTMCell' as a built-in Keras object. Consider renaming <class 'keras.layers.recurrent.LSTMCell'> to avoid naming conflicts when loading with `tf.keras.models.load_model`. If renaming is not possible, pass the object in the `custom_objects` parameter of the load function.\n"
     ]
    },
    {
     "name": "stdout",
     "output_type": "stream",
     "text": [
      "188/188 [==============================] - 5s 24ms/step - loss: 960.3784 - root_mean_squared_error: 30.9900 - val_loss: 1041.3464 - val_root_mean_squared_error: 32.2699\n",
      "Epoch 5/10\n",
      "176/188 [===========================>..] - ETA: 0s - loss: 779.1354 - root_mean_squared_error: 27.9130"
     ]
    },
    {
     "name": "stderr",
     "output_type": "stream",
     "text": [
      "WARNING:absl:Found untraced functions such as lstm_cell_7_layer_call_fn, lstm_cell_7_layer_call_and_return_conditional_losses, lstm_cell_7_layer_call_fn, lstm_cell_7_layer_call_and_return_conditional_losses, lstm_cell_7_layer_call_and_return_conditional_losses while saving (showing 5 of 5). These functions will not be directly callable after loading.\n"
     ]
    },
    {
     "name": "stdout",
     "output_type": "stream",
     "text": [
      "INFO:tensorflow:Assets written to: model5/assets\n"
     ]
    },
    {
     "name": "stderr",
     "output_type": "stream",
     "text": [
      "INFO:tensorflow:Assets written to: model5/assets\n",
      "WARNING:absl:<keras.layers.recurrent.LSTMCell object at 0x7fcedc0c7700> has the same name 'LSTMCell' as a built-in Keras object. Consider renaming <class 'keras.layers.recurrent.LSTMCell'> to avoid naming conflicts when loading with `tf.keras.models.load_model`. If renaming is not possible, pass the object in the `custom_objects` parameter of the load function.\n"
     ]
    },
    {
     "name": "stdout",
     "output_type": "stream",
     "text": [
      "188/188 [==============================] - 4s 21ms/step - loss: 774.0941 - root_mean_squared_error: 27.8225 - val_loss: 845.7380 - val_root_mean_squared_error: 29.0816\n",
      "Epoch 6/10\n",
      "187/188 [============================>.] - ETA: 0s - loss: 613.8344 - root_mean_squared_error: 24.7757"
     ]
    },
    {
     "name": "stderr",
     "output_type": "stream",
     "text": [
      "WARNING:absl:Found untraced functions such as lstm_cell_7_layer_call_fn, lstm_cell_7_layer_call_and_return_conditional_losses, lstm_cell_7_layer_call_fn, lstm_cell_7_layer_call_and_return_conditional_losses, lstm_cell_7_layer_call_and_return_conditional_losses while saving (showing 5 of 5). These functions will not be directly callable after loading.\n"
     ]
    },
    {
     "name": "stdout",
     "output_type": "stream",
     "text": [
      "INFO:tensorflow:Assets written to: model5/assets\n"
     ]
    },
    {
     "name": "stderr",
     "output_type": "stream",
     "text": [
      "INFO:tensorflow:Assets written to: model5/assets\n",
      "WARNING:absl:<keras.layers.recurrent.LSTMCell object at 0x7fcedc0c7700> has the same name 'LSTMCell' as a built-in Keras object. Consider renaming <class 'keras.layers.recurrent.LSTMCell'> to avoid naming conflicts when loading with `tf.keras.models.load_model`. If renaming is not possible, pass the object in the `custom_objects` parameter of the load function.\n"
     ]
    },
    {
     "name": "stdout",
     "output_type": "stream",
     "text": [
      "188/188 [==============================] - 5s 26ms/step - loss: 613.5453 - root_mean_squared_error: 24.7698 - val_loss: 674.7712 - val_root_mean_squared_error: 25.9764\n",
      "Epoch 7/10\n",
      "175/188 [==========================>...] - ETA: 0s - loss: 480.4062 - root_mean_squared_error: 21.9182"
     ]
    },
    {
     "name": "stderr",
     "output_type": "stream",
     "text": [
      "WARNING:absl:Found untraced functions such as lstm_cell_7_layer_call_fn, lstm_cell_7_layer_call_and_return_conditional_losses, lstm_cell_7_layer_call_fn, lstm_cell_7_layer_call_and_return_conditional_losses, lstm_cell_7_layer_call_and_return_conditional_losses while saving (showing 5 of 5). These functions will not be directly callable after loading.\n"
     ]
    },
    {
     "name": "stdout",
     "output_type": "stream",
     "text": [
      "INFO:tensorflow:Assets written to: model5/assets\n"
     ]
    },
    {
     "name": "stderr",
     "output_type": "stream",
     "text": [
      "INFO:tensorflow:Assets written to: model5/assets\n",
      "WARNING:absl:<keras.layers.recurrent.LSTMCell object at 0x7fcedc0c7700> has the same name 'LSTMCell' as a built-in Keras object. Consider renaming <class 'keras.layers.recurrent.LSTMCell'> to avoid naming conflicts when loading with `tf.keras.models.load_model`. If renaming is not possible, pass the object in the `custom_objects` parameter of the load function.\n"
     ]
    },
    {
     "name": "stdout",
     "output_type": "stream",
     "text": [
      "188/188 [==============================] - 4s 23ms/step - loss: 475.8062 - root_mean_squared_error: 21.8130 - val_loss: 527.1235 - val_root_mean_squared_error: 22.9592\n",
      "Epoch 8/10\n",
      "181/188 [===========================>..] - ETA: 0s - loss: 361.9033 - root_mean_squared_error: 19.0238"
     ]
    },
    {
     "name": "stderr",
     "output_type": "stream",
     "text": [
      "WARNING:absl:Found untraced functions such as lstm_cell_7_layer_call_fn, lstm_cell_7_layer_call_and_return_conditional_losses, lstm_cell_7_layer_call_fn, lstm_cell_7_layer_call_and_return_conditional_losses, lstm_cell_7_layer_call_and_return_conditional_losses while saving (showing 5 of 5). These functions will not be directly callable after loading.\n"
     ]
    },
    {
     "name": "stdout",
     "output_type": "stream",
     "text": [
      "INFO:tensorflow:Assets written to: model5/assets\n"
     ]
    },
    {
     "name": "stderr",
     "output_type": "stream",
     "text": [
      "INFO:tensorflow:Assets written to: model5/assets\n",
      "WARNING:absl:<keras.layers.recurrent.LSTMCell object at 0x7fcedc0c7700> has the same name 'LSTMCell' as a built-in Keras object. Consider renaming <class 'keras.layers.recurrent.LSTMCell'> to avoid naming conflicts when loading with `tf.keras.models.load_model`. If renaming is not possible, pass the object in the `custom_objects` parameter of the load function.\n"
     ]
    },
    {
     "name": "stdout",
     "output_type": "stream",
     "text": [
      "188/188 [==============================] - 5s 27ms/step - loss: 360.2740 - root_mean_squared_error: 18.9809 - val_loss: 402.7899 - val_root_mean_squared_error: 20.0696\n",
      "Epoch 9/10\n",
      "177/188 [===========================>..] - ETA: 0s - loss: 269.2331 - root_mean_squared_error: 16.4083"
     ]
    },
    {
     "name": "stderr",
     "output_type": "stream",
     "text": [
      "WARNING:absl:Found untraced functions such as lstm_cell_7_layer_call_fn, lstm_cell_7_layer_call_and_return_conditional_losses, lstm_cell_7_layer_call_fn, lstm_cell_7_layer_call_and_return_conditional_losses, lstm_cell_7_layer_call_and_return_conditional_losses while saving (showing 5 of 5). These functions will not be directly callable after loading.\n"
     ]
    },
    {
     "name": "stdout",
     "output_type": "stream",
     "text": [
      "INFO:tensorflow:Assets written to: model5/assets\n"
     ]
    },
    {
     "name": "stderr",
     "output_type": "stream",
     "text": [
      "INFO:tensorflow:Assets written to: model5/assets\n",
      "WARNING:absl:<keras.layers.recurrent.LSTMCell object at 0x7fcedc0c7700> has the same name 'LSTMCell' as a built-in Keras object. Consider renaming <class 'keras.layers.recurrent.LSTMCell'> to avoid naming conflicts when loading with `tf.keras.models.load_model`. If renaming is not possible, pass the object in the `custom_objects` parameter of the load function.\n"
     ]
    },
    {
     "name": "stdout",
     "output_type": "stream",
     "text": [
      "188/188 [==============================] - 3s 18ms/step - loss: 266.4846 - root_mean_squared_error: 16.3244 - val_loss: 301.1986 - val_root_mean_squared_error: 17.3551\n",
      "Epoch 10/10\n",
      "181/188 [===========================>..] - ETA: 0s - loss: 194.2758 - root_mean_squared_error: 13.9383"
     ]
    },
    {
     "name": "stderr",
     "output_type": "stream",
     "text": [
      "WARNING:absl:Found untraced functions such as lstm_cell_7_layer_call_fn, lstm_cell_7_layer_call_and_return_conditional_losses, lstm_cell_7_layer_call_fn, lstm_cell_7_layer_call_and_return_conditional_losses, lstm_cell_7_layer_call_and_return_conditional_losses while saving (showing 5 of 5). These functions will not be directly callable after loading.\n"
     ]
    },
    {
     "name": "stdout",
     "output_type": "stream",
     "text": [
      "INFO:tensorflow:Assets written to: model5/assets\n"
     ]
    },
    {
     "name": "stderr",
     "output_type": "stream",
     "text": [
      "INFO:tensorflow:Assets written to: model5/assets\n",
      "WARNING:absl:<keras.layers.recurrent.LSTMCell object at 0x7fcedc0c7700> has the same name 'LSTMCell' as a built-in Keras object. Consider renaming <class 'keras.layers.recurrent.LSTMCell'> to avoid naming conflicts when loading with `tf.keras.models.load_model`. If renaming is not possible, pass the object in the `custom_objects` parameter of the load function.\n"
     ]
    },
    {
     "name": "stdout",
     "output_type": "stream",
     "text": [
      "\b\b\b\b\b\b\b\b\b\b\b\b\b\b\b\b\b\b\b\b\b\b\b\b\b\b\b\b\b\b\b\b\b\b\b\b\b\b\b\b\b\b\b\b\b\b\b\b\b\b\b\b\b\b\b\b\b\b\b\b\b\b\b\b\b\b\b\b\b\b\b\b\b\b\b\b\b\b\b\b\b\b\b\b\b\b\b\b\b\b\b\b\b\b\b\b\b\b\b\b\b\b\r",
      "188/188 [==============================] - 4s 21ms/step - loss: 193.1528 - root_mean_squared_error: 13.8979 - val_loss: 221.0362 - val_root_mean_squared_error: 14.8673\n"
     ]
    },
    {
     "data": {
      "text/plain": [
       "<keras.callbacks.History at 0x7fcedfe3d370>"
      ]
     },
     "execution_count": 115,
     "metadata": {},
     "output_type": "execute_result"
    }
   ],
   "source": [
    "model5.fit(X3_train, y3_train, validation_data=(X3_val, y3_val), epochs = 10, callbacks = [cp5])"
   ]
  },
  {
   "cell_type": "code",
   "execution_count": 123,
   "id": "7bc646c0",
   "metadata": {},
   "outputs": [],
   "source": [
    "def plot_predictions2(model,X,y,start = 0, end =100):\n",
    "    predictions = model.predict(X)\n",
    "    p_preds, temp_preds = predictions[:,0], predictions[:,1]\n",
    "    p_actuals, temp_actuals = y[:,0], y[:,1]\n",
    "    df = pd.DataFrame(data = { 'Temperature predictions': temp_preds,\n",
    "                                'Temperature Actuals': temp_actuals,\n",
    "                                'Pressure Predictions': p_preds,\n",
    "                                'Pressure Actuals': p_actuals\n",
    "        \n",
    "                            })\n",
    "    plt.plot(df['Temperature predictions'][start:end])\n",
    "    plt.plot(df['Temperature Actuals'][start:end])\n",
    "    plt.plot(df['Pressure Predictions'][start:end])\n",
    "    plt.plot(df['Pressure Actuals'][start:end])\n",
    "    return df[start:end]"
   ]
  },
  {
   "cell_type": "code",
   "execution_count": 124,
   "id": "bbe12866",
   "metadata": {},
   "outputs": [
    {
     "data": {
      "text/html": [
       "<div>\n",
       "<style scoped>\n",
       "    .dataframe tbody tr th:only-of-type {\n",
       "        vertical-align: middle;\n",
       "    }\n",
       "\n",
       "    .dataframe tbody tr th {\n",
       "        vertical-align: top;\n",
       "    }\n",
       "\n",
       "    .dataframe thead th {\n",
       "        text-align: right;\n",
       "    }\n",
       "</style>\n",
       "<table border=\"1\" class=\"dataframe\">\n",
       "  <thead>\n",
       "    <tr style=\"text-align: right;\">\n",
       "      <th></th>\n",
       "      <th>Temperature predictions</th>\n",
       "      <th>Temperature Actuals</th>\n",
       "      <th>Pressure Predictions</th>\n",
       "      <th>Pressure Actuals</th>\n",
       "    </tr>\n",
       "  </thead>\n",
       "  <tbody>\n",
       "    <tr>\n",
       "      <th>0</th>\n",
       "      <td>47.834480</td>\n",
       "      <td>69.1</td>\n",
       "      <td>15.938173</td>\n",
       "      <td>30.0</td>\n",
       "    </tr>\n",
       "    <tr>\n",
       "      <th>1</th>\n",
       "      <td>47.837559</td>\n",
       "      <td>70.6</td>\n",
       "      <td>15.939247</td>\n",
       "      <td>30.0</td>\n",
       "    </tr>\n",
       "    <tr>\n",
       "      <th>2</th>\n",
       "      <td>47.840103</td>\n",
       "      <td>71.1</td>\n",
       "      <td>15.940134</td>\n",
       "      <td>30.0</td>\n",
       "    </tr>\n",
       "    <tr>\n",
       "      <th>3</th>\n",
       "      <td>47.841816</td>\n",
       "      <td>70.5</td>\n",
       "      <td>15.940733</td>\n",
       "      <td>30.0</td>\n",
       "    </tr>\n",
       "    <tr>\n",
       "      <th>4</th>\n",
       "      <td>47.842575</td>\n",
       "      <td>68.6</td>\n",
       "      <td>15.941000</td>\n",
       "      <td>30.0</td>\n",
       "    </tr>\n",
       "    <tr>\n",
       "      <th>...</th>\n",
       "      <td>...</td>\n",
       "      <td>...</td>\n",
       "      <td>...</td>\n",
       "      <td>...</td>\n",
       "    </tr>\n",
       "    <tr>\n",
       "      <th>95</th>\n",
       "      <td>47.830223</td>\n",
       "      <td>66.8</td>\n",
       "      <td>15.936670</td>\n",
       "      <td>30.0</td>\n",
       "    </tr>\n",
       "    <tr>\n",
       "      <th>96</th>\n",
       "      <td>47.833588</td>\n",
       "      <td>68.5</td>\n",
       "      <td>15.937849</td>\n",
       "      <td>30.0</td>\n",
       "    </tr>\n",
       "    <tr>\n",
       "      <th>97</th>\n",
       "      <td>47.836658</td>\n",
       "      <td>70.0</td>\n",
       "      <td>15.938917</td>\n",
       "      <td>30.0</td>\n",
       "    </tr>\n",
       "    <tr>\n",
       "      <th>98</th>\n",
       "      <td>47.839249</td>\n",
       "      <td>70.4</td>\n",
       "      <td>15.939819</td>\n",
       "      <td>30.0</td>\n",
       "    </tr>\n",
       "    <tr>\n",
       "      <th>99</th>\n",
       "      <td>47.840946</td>\n",
       "      <td>69.7</td>\n",
       "      <td>15.940414</td>\n",
       "      <td>30.0</td>\n",
       "    </tr>\n",
       "  </tbody>\n",
       "</table>\n",
       "<p>100 rows × 4 columns</p>\n",
       "</div>"
      ],
      "text/plain": [
       "    Temperature predictions  Temperature Actuals  Pressure Predictions  \\\n",
       "0                 47.834480                 69.1             15.938173   \n",
       "1                 47.837559                 70.6             15.939247   \n",
       "2                 47.840103                 71.1             15.940134   \n",
       "3                 47.841816                 70.5             15.940733   \n",
       "4                 47.842575                 68.6             15.941000   \n",
       "..                      ...                  ...                   ...   \n",
       "95                47.830223                 66.8             15.936670   \n",
       "96                47.833588                 68.5             15.937849   \n",
       "97                47.836658                 70.0             15.938917   \n",
       "98                47.839249                 70.4             15.939819   \n",
       "99                47.840946                 69.7             15.940414   \n",
       "\n",
       "    Pressure Actuals  \n",
       "0               30.0  \n",
       "1               30.0  \n",
       "2               30.0  \n",
       "3               30.0  \n",
       "4               30.0  \n",
       "..               ...  \n",
       "95              30.0  \n",
       "96              30.0  \n",
       "97              30.0  \n",
       "98              30.0  \n",
       "99              30.0  \n",
       "\n",
       "[100 rows x 4 columns]"
      ]
     },
     "execution_count": 124,
     "metadata": {},
     "output_type": "execute_result"
    },
    {
     "data": {
      "image/png": "[encoded data removed]",
      "text/plain": [
       "<Figure size 432x288 with 1 Axes>"
      ]
     },
     "metadata": {
      "needs_background": "light"
     },
     "output_type": "display_data"
    }
   ],
   "source": [
    "plot_predictions2(model5, X3_test, y3_test)"
   ]
  },
  {
   "cell_type": "code",
   "execution_count": null,
   "id": "b158b62d",
   "metadata": {},
   "outputs": [],
   "source": [
    "# undo to figure out how we calculated predicted values\n",
    "def postprocess_temp(arr):\n",
    "    arr = (arr*temp_training_std3) + temp_training_mean3\n",
    "    return arr"
   ]
  }
 ],
 "metadata": {
  "kernelspec": {
   "display_name": "Python 3 (ipykernel)",
   "language": "python",
   "name": "python3"
  },
  "language_info": {
   "codemirror_mode": {
    "name": "ipython",
    "version": 3
   },
   "file_extension": ".py",
   "mimetype": "text/x-python",
   "name": "python",
   "nbconvert_exporter": "python",
   "pygments_lexer": "ipython3",
   "version": "3.8.8"
  }
 },
 "nbformat": 4,
 "nbformat_minor": 5
}

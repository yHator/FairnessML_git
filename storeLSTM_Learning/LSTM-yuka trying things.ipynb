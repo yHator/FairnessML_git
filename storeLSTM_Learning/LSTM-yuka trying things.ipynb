{
 "cells": [
  {
   "cell_type": "markdown",
   "id": "627923ec",
   "metadata": {},
   "source": [
    "# From youtube tutorial: https://www.youtube.com/watch?v=c0k-YLQGKjY\n",
    "\n",
    "Single variable\n",
    "\n",
    "Predicting future values of a single variable"
   ]
  },
  {
   "cell_type": "code",
   "execution_count": 130,
   "id": "14264257",
   "metadata": {},
   "outputs": [],
   "source": [
    "import tensorflow as tf \n",
    "import os\n",
    "from os import listdir\n",
    "from os.path import isfile, join\n",
    "import pandas as pd\n",
    "import numpy as np\n",
    "import matplotlib.pyplot as plt"
   ]
  },
  {
   "cell_type": "code",
   "execution_count": 131,
   "id": "6b24cb5e",
   "metadata": {},
   "outputs": [
    {
     "name": "stdout",
     "output_type": "stream",
     "text": [
      "SAC-NOAA-and-Megawatts.csv\n",
      "SD-NOAA-and-Megawatts.csv\n",
      "SD-yearAvg-NOAA-and-Megawatts.csv\n",
      "SF-NOAA-and-Megawatts.csv\n",
      "SAC-yearAvg-NOAA-and-Megawatts.csv\n",
      "LA-yearAvg-NOAA-and-Megawatts.csv\n",
      "LA-NOAA-and-Megawatts.csv\n",
      "SF-yearAvg-NOAA-and-Megawatts.csv\n"
     ]
    },
    {
     "data": {
      "text/html": [
       "<div>\n",
       "<style scoped>\n",
       "    .dataframe tbody tr th:only-of-type {\n",
       "        vertical-align: middle;\n",
       "    }\n",
       "\n",
       "    .dataframe tbody tr th {\n",
       "        vertical-align: top;\n",
       "    }\n",
       "\n",
       "    .dataframe thead th {\n",
       "        text-align: right;\n",
       "    }\n",
       "</style>\n",
       "<table border=\"1\" class=\"dataframe\">\n",
       "  <thead>\n",
       "    <tr style=\"text-align: right;\">\n",
       "      <th></th>\n",
       "      <th>date</th>\n",
       "      <th>HLY_TEMP_NORMAL_SF</th>\n",
       "      <th>HLY_TEMP_10PCTL_SF</th>\n",
       "      <th>HLY_TEMP_90PCTL_SF</th>\n",
       "      <th>HLY_DEWP_NORMAL_SF</th>\n",
       "      <th>HLY_DEWP_10PCTL_SF</th>\n",
       "      <th>HLY_DEWP_90PCTL_SF</th>\n",
       "      <th>HLY_PRES_NORMAL_SF</th>\n",
       "      <th>HLY_PRES_10PCTL_SF</th>\n",
       "      <th>HLY_PRES_90PCTL_SF</th>\n",
       "      <th>...</th>\n",
       "      <th>HLY_WCHL_NORMAL_SF</th>\n",
       "      <th>HLY_WIND_AVGSPD_SF</th>\n",
       "      <th>HLY_WIND_PCTCLM_SF</th>\n",
       "      <th>HLY_WIND_VCTDIR_SF</th>\n",
       "      <th>HLY_WIND_VCTSPD_SF</th>\n",
       "      <th>HLY_WIND_1STDIR_SF</th>\n",
       "      <th>HLY_WIND_1STPCT_SF</th>\n",
       "      <th>HLY_WIND_2NDDIR_SF</th>\n",
       "      <th>HLY_WIND_2NDPCT_SF</th>\n",
       "      <th>Megawatts_2019</th>\n",
       "    </tr>\n",
       "  </thead>\n",
       "  <tbody>\n",
       "    <tr>\n",
       "      <th>0</th>\n",
       "      <td>01-01T00:00:00</td>\n",
       "      <td>48.8</td>\n",
       "      <td>44.1</td>\n",
       "      <td>54.0</td>\n",
       "      <td>43.2</td>\n",
       "      <td>35.1</td>\n",
       "      <td>50.0</td>\n",
       "      <td>1020.1</td>\n",
       "      <td>1011.5</td>\n",
       "      <td>1026.9</td>\n",
       "      <td>...</td>\n",
       "      <td>47.3</td>\n",
       "      <td>6.3</td>\n",
       "      <td>25.4</td>\n",
       "      <td>196.0</td>\n",
       "      <td>1.1</td>\n",
       "      <td>5.0</td>\n",
       "      <td>14.7</td>\n",
       "      <td>4.0</td>\n",
       "      <td>14.3</td>\n",
       "      <td>283652.0</td>\n",
       "    </tr>\n",
       "    <tr>\n",
       "      <th>1</th>\n",
       "      <td>01-01T01:00:00</td>\n",
       "      <td>48.5</td>\n",
       "      <td>43.0</td>\n",
       "      <td>54.0</td>\n",
       "      <td>43.1</td>\n",
       "      <td>35.1</td>\n",
       "      <td>50.0</td>\n",
       "      <td>1019.9</td>\n",
       "      <td>1011.0</td>\n",
       "      <td>1026.8</td>\n",
       "      <td>...</td>\n",
       "      <td>47.0</td>\n",
       "      <td>6.2</td>\n",
       "      <td>28.5</td>\n",
       "      <td>193.0</td>\n",
       "      <td>1.2</td>\n",
       "      <td>4.0</td>\n",
       "      <td>14.6</td>\n",
       "      <td>5.0</td>\n",
       "      <td>13.1</td>\n",
       "      <td>252485.0</td>\n",
       "    </tr>\n",
       "    <tr>\n",
       "      <th>2</th>\n",
       "      <td>01-01T02:00:00</td>\n",
       "      <td>47.6</td>\n",
       "      <td>42.1</td>\n",
       "      <td>53.1</td>\n",
       "      <td>42.6</td>\n",
       "      <td>35.1</td>\n",
       "      <td>50.0</td>\n",
       "      <td>1020.0</td>\n",
       "      <td>1011.2</td>\n",
       "      <td>1026.8</td>\n",
       "      <td>...</td>\n",
       "      <td>46.0</td>\n",
       "      <td>6.2</td>\n",
       "      <td>26.5</td>\n",
       "      <td>184.0</td>\n",
       "      <td>0.9</td>\n",
       "      <td>4.0</td>\n",
       "      <td>14.8</td>\n",
       "      <td>6.0</td>\n",
       "      <td>12.5</td>\n",
       "      <td>245501.0</td>\n",
       "    </tr>\n",
       "    <tr>\n",
       "      <th>3</th>\n",
       "      <td>01-01T03:00:00</td>\n",
       "      <td>47.2</td>\n",
       "      <td>41.0</td>\n",
       "      <td>54.0</td>\n",
       "      <td>42.3</td>\n",
       "      <td>34.0</td>\n",
       "      <td>50.0</td>\n",
       "      <td>1020.0</td>\n",
       "      <td>1011.2</td>\n",
       "      <td>1026.9</td>\n",
       "      <td>...</td>\n",
       "      <td>45.5</td>\n",
       "      <td>6.2</td>\n",
       "      <td>24.9</td>\n",
       "      <td>178.0</td>\n",
       "      <td>1.1</td>\n",
       "      <td>4.0</td>\n",
       "      <td>16.3</td>\n",
       "      <td>5.0</td>\n",
       "      <td>13.5</td>\n",
       "      <td>241545.0</td>\n",
       "    </tr>\n",
       "    <tr>\n",
       "      <th>4</th>\n",
       "      <td>01-01T04:00:00</td>\n",
       "      <td>46.8</td>\n",
       "      <td>39.9</td>\n",
       "      <td>53.1</td>\n",
       "      <td>42.2</td>\n",
       "      <td>34.0</td>\n",
       "      <td>50.0</td>\n",
       "      <td>1019.8</td>\n",
       "      <td>1010.5</td>\n",
       "      <td>1026.6</td>\n",
       "      <td>...</td>\n",
       "      <td>45.0</td>\n",
       "      <td>5.9</td>\n",
       "      <td>27.9</td>\n",
       "      <td>175.0</td>\n",
       "      <td>0.8</td>\n",
       "      <td>4.0</td>\n",
       "      <td>15.6</td>\n",
       "      <td>7.0</td>\n",
       "      <td>11.2</td>\n",
       "      <td>241926.0</td>\n",
       "    </tr>\n",
       "    <tr>\n",
       "      <th>...</th>\n",
       "      <td>...</td>\n",
       "      <td>...</td>\n",
       "      <td>...</td>\n",
       "      <td>...</td>\n",
       "      <td>...</td>\n",
       "      <td>...</td>\n",
       "      <td>...</td>\n",
       "      <td>...</td>\n",
       "      <td>...</td>\n",
       "      <td>...</td>\n",
       "      <td>...</td>\n",
       "      <td>...</td>\n",
       "      <td>...</td>\n",
       "      <td>...</td>\n",
       "      <td>...</td>\n",
       "      <td>...</td>\n",
       "      <td>...</td>\n",
       "      <td>...</td>\n",
       "      <td>...</td>\n",
       "      <td>...</td>\n",
       "      <td>...</td>\n",
       "    </tr>\n",
       "    <tr>\n",
       "      <th>8755</th>\n",
       "      <td>12-31T19:00:00</td>\n",
       "      <td>51.5</td>\n",
       "      <td>46.9</td>\n",
       "      <td>55.9</td>\n",
       "      <td>43.9</td>\n",
       "      <td>36.0</td>\n",
       "      <td>51.1</td>\n",
       "      <td>1019.5</td>\n",
       "      <td>1010.7</td>\n",
       "      <td>1026.4</td>\n",
       "      <td>...</td>\n",
       "      <td>50.3</td>\n",
       "      <td>7.7</td>\n",
       "      <td>17.8</td>\n",
       "      <td>255.0</td>\n",
       "      <td>1.9</td>\n",
       "      <td>7.0</td>\n",
       "      <td>22.4</td>\n",
       "      <td>4.0</td>\n",
       "      <td>14.0</td>\n",
       "      <td>308820.0</td>\n",
       "    </tr>\n",
       "    <tr>\n",
       "      <th>8756</th>\n",
       "      <td>12-31T20:00:00</td>\n",
       "      <td>51.0</td>\n",
       "      <td>46.0</td>\n",
       "      <td>55.0</td>\n",
       "      <td>43.6</td>\n",
       "      <td>36.0</td>\n",
       "      <td>51.1</td>\n",
       "      <td>1019.7</td>\n",
       "      <td>1011.2</td>\n",
       "      <td>1026.6</td>\n",
       "      <td>...</td>\n",
       "      <td>49.8</td>\n",
       "      <td>7.2</td>\n",
       "      <td>21.4</td>\n",
       "      <td>243.0</td>\n",
       "      <td>1.2</td>\n",
       "      <td>7.0</td>\n",
       "      <td>17.7</td>\n",
       "      <td>4.0</td>\n",
       "      <td>13.8</td>\n",
       "      <td>297758.0</td>\n",
       "    </tr>\n",
       "    <tr>\n",
       "      <th>8757</th>\n",
       "      <td>12-31T21:00:00</td>\n",
       "      <td>50.5</td>\n",
       "      <td>46.0</td>\n",
       "      <td>55.0</td>\n",
       "      <td>43.5</td>\n",
       "      <td>35.1</td>\n",
       "      <td>50.0</td>\n",
       "      <td>1019.9</td>\n",
       "      <td>1011.0</td>\n",
       "      <td>1026.8</td>\n",
       "      <td>...</td>\n",
       "      <td>49.1</td>\n",
       "      <td>7.1</td>\n",
       "      <td>18.7</td>\n",
       "      <td>218.0</td>\n",
       "      <td>1.3</td>\n",
       "      <td>7.0</td>\n",
       "      <td>18.7</td>\n",
       "      <td>4.0</td>\n",
       "      <td>16.5</td>\n",
       "      <td>287403.0</td>\n",
       "    </tr>\n",
       "    <tr>\n",
       "      <th>8758</th>\n",
       "      <td>12-31T22:00:00</td>\n",
       "      <td>49.8</td>\n",
       "      <td>45.0</td>\n",
       "      <td>54.0</td>\n",
       "      <td>43.4</td>\n",
       "      <td>35.1</td>\n",
       "      <td>50.0</td>\n",
       "      <td>1020.1</td>\n",
       "      <td>1011.5</td>\n",
       "      <td>1027.1</td>\n",
       "      <td>...</td>\n",
       "      <td>48.4</td>\n",
       "      <td>6.6</td>\n",
       "      <td>24.3</td>\n",
       "      <td>209.0</td>\n",
       "      <td>1.1</td>\n",
       "      <td>4.0</td>\n",
       "      <td>18.0</td>\n",
       "      <td>7.0</td>\n",
       "      <td>14.8</td>\n",
       "      <td>275322.0</td>\n",
       "    </tr>\n",
       "    <tr>\n",
       "      <th>8759</th>\n",
       "      <td>12-31T23:00:00</td>\n",
       "      <td>49.4</td>\n",
       "      <td>45.0</td>\n",
       "      <td>54.0</td>\n",
       "      <td>43.4</td>\n",
       "      <td>35.1</td>\n",
       "      <td>50.0</td>\n",
       "      <td>1020.1</td>\n",
       "      <td>1011.3</td>\n",
       "      <td>1027.0</td>\n",
       "      <td>...</td>\n",
       "      <td>47.9</td>\n",
       "      <td>6.5</td>\n",
       "      <td>27.6</td>\n",
       "      <td>207.0</td>\n",
       "      <td>1.2</td>\n",
       "      <td>4.0</td>\n",
       "      <td>16.3</td>\n",
       "      <td>7.0</td>\n",
       "      <td>12.5</td>\n",
       "      <td>241588.0</td>\n",
       "    </tr>\n",
       "  </tbody>\n",
       "</table>\n",
       "<p>8760 rows × 28 columns</p>\n",
       "</div>"
      ],
      "text/plain": [
       "                date  HLY_TEMP_NORMAL_SF  HLY_TEMP_10PCTL_SF  \\\n",
       "0     01-01T00:00:00                48.8                44.1   \n",
       "1     01-01T01:00:00                48.5                43.0   \n",
       "2     01-01T02:00:00                47.6                42.1   \n",
       "3     01-01T03:00:00                47.2                41.0   \n",
       "4     01-01T04:00:00                46.8                39.9   \n",
       "...              ...                 ...                 ...   \n",
       "8755  12-31T19:00:00                51.5                46.9   \n",
       "8756  12-31T20:00:00                51.0                46.0   \n",
       "8757  12-31T21:00:00                50.5                46.0   \n",
       "8758  12-31T22:00:00                49.8                45.0   \n",
       "8759  12-31T23:00:00                49.4                45.0   \n",
       "\n",
       "      HLY_TEMP_90PCTL_SF  HLY_DEWP_NORMAL_SF  HLY_DEWP_10PCTL_SF  \\\n",
       "0                   54.0                43.2                35.1   \n",
       "1                   54.0                43.1                35.1   \n",
       "2                   53.1                42.6                35.1   \n",
       "3                   54.0                42.3                34.0   \n",
       "4                   53.1                42.2                34.0   \n",
       "...                  ...                 ...                 ...   \n",
       "8755                55.9                43.9                36.0   \n",
       "8756                55.0                43.6                36.0   \n",
       "8757                55.0                43.5                35.1   \n",
       "8758                54.0                43.4                35.1   \n",
       "8759                54.0                43.4                35.1   \n",
       "\n",
       "      HLY_DEWP_90PCTL_SF  HLY_PRES_NORMAL_SF  HLY_PRES_10PCTL_SF  \\\n",
       "0                   50.0              1020.1              1011.5   \n",
       "1                   50.0              1019.9              1011.0   \n",
       "2                   50.0              1020.0              1011.2   \n",
       "3                   50.0              1020.0              1011.2   \n",
       "4                   50.0              1019.8              1010.5   \n",
       "...                  ...                 ...                 ...   \n",
       "8755                51.1              1019.5              1010.7   \n",
       "8756                51.1              1019.7              1011.2   \n",
       "8757                50.0              1019.9              1011.0   \n",
       "8758                50.0              1020.1              1011.5   \n",
       "8759                50.0              1020.1              1011.3   \n",
       "\n",
       "      HLY_PRES_90PCTL_SF  ...  HLY_WCHL_NORMAL_SF  HLY_WIND_AVGSPD_SF  \\\n",
       "0                 1026.9  ...                47.3                 6.3   \n",
       "1                 1026.8  ...                47.0                 6.2   \n",
       "2                 1026.8  ...                46.0                 6.2   \n",
       "3                 1026.9  ...                45.5                 6.2   \n",
       "4                 1026.6  ...                45.0                 5.9   \n",
       "...                  ...  ...                 ...                 ...   \n",
       "8755              1026.4  ...                50.3                 7.7   \n",
       "8756              1026.6  ...                49.8                 7.2   \n",
       "8757              1026.8  ...                49.1                 7.1   \n",
       "8758              1027.1  ...                48.4                 6.6   \n",
       "8759              1027.0  ...                47.9                 6.5   \n",
       "\n",
       "      HLY_WIND_PCTCLM_SF  HLY_WIND_VCTDIR_SF  HLY_WIND_VCTSPD_SF  \\\n",
       "0                   25.4               196.0                 1.1   \n",
       "1                   28.5               193.0                 1.2   \n",
       "2                   26.5               184.0                 0.9   \n",
       "3                   24.9               178.0                 1.1   \n",
       "4                   27.9               175.0                 0.8   \n",
       "...                  ...                 ...                 ...   \n",
       "8755                17.8               255.0                 1.9   \n",
       "8756                21.4               243.0                 1.2   \n",
       "8757                18.7               218.0                 1.3   \n",
       "8758                24.3               209.0                 1.1   \n",
       "8759                27.6               207.0                 1.2   \n",
       "\n",
       "      HLY_WIND_1STDIR_SF  HLY_WIND_1STPCT_SF  HLY_WIND_2NDDIR_SF  \\\n",
       "0                    5.0                14.7                 4.0   \n",
       "1                    4.0                14.6                 5.0   \n",
       "2                    4.0                14.8                 6.0   \n",
       "3                    4.0                16.3                 5.0   \n",
       "4                    4.0                15.6                 7.0   \n",
       "...                  ...                 ...                 ...   \n",
       "8755                 7.0                22.4                 4.0   \n",
       "8756                 7.0                17.7                 4.0   \n",
       "8757                 7.0                18.7                 4.0   \n",
       "8758                 4.0                18.0                 7.0   \n",
       "8759                 4.0                16.3                 7.0   \n",
       "\n",
       "      HLY_WIND_2NDPCT_SF  Megawatts_2019  \n",
       "0                   14.3        283652.0  \n",
       "1                   13.1        252485.0  \n",
       "2                   12.5        245501.0  \n",
       "3                   13.5        241545.0  \n",
       "4                   11.2        241926.0  \n",
       "...                  ...             ...  \n",
       "8755                14.0        308820.0  \n",
       "8756                13.8        297758.0  \n",
       "8757                16.5        287403.0  \n",
       "8758                14.8        275322.0  \n",
       "8759                12.5        241588.0  \n",
       "\n",
       "[8760 rows x 28 columns]"
      ]
     },
     "execution_count": 131,
     "metadata": {},
     "output_type": "execute_result"
    }
   ],
   "source": [
    "directory = '/Users/yukahatori/A_Fairness/FairnessML_git/NOAA_and_CAISO_Data_ONEYEAR/'\n",
    "dataFiles = [f for f in listdir(directory) if isfile(join(directory, f))] \n",
    "for file in dataFiles:\n",
    "    print(file)\n",
    "    df = pd.read_csv(directory + file)\n",
    "\n",
    "#for now, I will only use SF data \n",
    "location = '_SF'\n",
    "df = pd.read_csv(directory + dataFiles[3])\n",
    "df"
   ]
  },
  {
   "cell_type": "code",
   "execution_count": 176,
   "id": "4cb1274c",
   "metadata": {},
   "outputs": [
    {
     "data": {
      "text/html": [
       "<div>\n",
       "<style scoped>\n",
       "    .dataframe tbody tr th:only-of-type {\n",
       "        vertical-align: middle;\n",
       "    }\n",
       "\n",
       "    .dataframe tbody tr th {\n",
       "        vertical-align: top;\n",
       "    }\n",
       "\n",
       "    .dataframe thead th {\n",
       "        text-align: right;\n",
       "    }\n",
       "</style>\n",
       "<table border=\"1\" class=\"dataframe\">\n",
       "  <thead>\n",
       "    <tr style=\"text-align: right;\">\n",
       "      <th></th>\n",
       "      <th>date</th>\n",
       "      <th>HLY_TEMP_NORMAL_SF</th>\n",
       "      <th>HLY_TEMP_10PCTL_SF</th>\n",
       "      <th>HLY_TEMP_90PCTL_SF</th>\n",
       "      <th>HLY_DEWP_NORMAL_SF</th>\n",
       "      <th>HLY_DEWP_10PCTL_SF</th>\n",
       "      <th>HLY_DEWP_90PCTL_SF</th>\n",
       "      <th>HLY_PRES_NORMAL_SF</th>\n",
       "      <th>HLY_PRES_10PCTL_SF</th>\n",
       "      <th>HLY_PRES_90PCTL_SF</th>\n",
       "      <th>...</th>\n",
       "      <th>HLY_WCHL_NORMAL_SF</th>\n",
       "      <th>HLY_WIND_AVGSPD_SF</th>\n",
       "      <th>HLY_WIND_PCTCLM_SF</th>\n",
       "      <th>HLY_WIND_VCTDIR_SF</th>\n",
       "      <th>HLY_WIND_VCTSPD_SF</th>\n",
       "      <th>HLY_WIND_1STDIR_SF</th>\n",
       "      <th>HLY_WIND_1STPCT_SF</th>\n",
       "      <th>HLY_WIND_2NDDIR_SF</th>\n",
       "      <th>HLY_WIND_2NDPCT_SF</th>\n",
       "      <th>Megawatts_2019</th>\n",
       "    </tr>\n",
       "    <tr>\n",
       "      <th>date</th>\n",
       "      <th></th>\n",
       "      <th></th>\n",
       "      <th></th>\n",
       "      <th></th>\n",
       "      <th></th>\n",
       "      <th></th>\n",
       "      <th></th>\n",
       "      <th></th>\n",
       "      <th></th>\n",
       "      <th></th>\n",
       "      <th></th>\n",
       "      <th></th>\n",
       "      <th></th>\n",
       "      <th></th>\n",
       "      <th></th>\n",
       "      <th></th>\n",
       "      <th></th>\n",
       "      <th></th>\n",
       "      <th></th>\n",
       "      <th></th>\n",
       "      <th></th>\n",
       "    </tr>\n",
       "  </thead>\n",
       "  <tbody>\n",
       "    <tr>\n",
       "      <th>2019-01-01 00:00:00</th>\n",
       "      <td>2019-01-01 00:00:00</td>\n",
       "      <td>48.8</td>\n",
       "      <td>44.1</td>\n",
       "      <td>54.0</td>\n",
       "      <td>43.2</td>\n",
       "      <td>35.1</td>\n",
       "      <td>50.0</td>\n",
       "      <td>1020.1</td>\n",
       "      <td>1011.5</td>\n",
       "      <td>1026.9</td>\n",
       "      <td>...</td>\n",
       "      <td>47.3</td>\n",
       "      <td>6.3</td>\n",
       "      <td>25.4</td>\n",
       "      <td>196.0</td>\n",
       "      <td>1.1</td>\n",
       "      <td>5.0</td>\n",
       "      <td>14.7</td>\n",
       "      <td>4.0</td>\n",
       "      <td>14.3</td>\n",
       "      <td>283652.0</td>\n",
       "    </tr>\n",
       "    <tr>\n",
       "      <th>2019-01-01 01:00:00</th>\n",
       "      <td>2019-01-01 01:00:00</td>\n",
       "      <td>48.5</td>\n",
       "      <td>43.0</td>\n",
       "      <td>54.0</td>\n",
       "      <td>43.1</td>\n",
       "      <td>35.1</td>\n",
       "      <td>50.0</td>\n",
       "      <td>1019.9</td>\n",
       "      <td>1011.0</td>\n",
       "      <td>1026.8</td>\n",
       "      <td>...</td>\n",
       "      <td>47.0</td>\n",
       "      <td>6.2</td>\n",
       "      <td>28.5</td>\n",
       "      <td>193.0</td>\n",
       "      <td>1.2</td>\n",
       "      <td>4.0</td>\n",
       "      <td>14.6</td>\n",
       "      <td>5.0</td>\n",
       "      <td>13.1</td>\n",
       "      <td>252485.0</td>\n",
       "    </tr>\n",
       "    <tr>\n",
       "      <th>2019-01-01 02:00:00</th>\n",
       "      <td>2019-01-01 02:00:00</td>\n",
       "      <td>47.6</td>\n",
       "      <td>42.1</td>\n",
       "      <td>53.1</td>\n",
       "      <td>42.6</td>\n",
       "      <td>35.1</td>\n",
       "      <td>50.0</td>\n",
       "      <td>1020.0</td>\n",
       "      <td>1011.2</td>\n",
       "      <td>1026.8</td>\n",
       "      <td>...</td>\n",
       "      <td>46.0</td>\n",
       "      <td>6.2</td>\n",
       "      <td>26.5</td>\n",
       "      <td>184.0</td>\n",
       "      <td>0.9</td>\n",
       "      <td>4.0</td>\n",
       "      <td>14.8</td>\n",
       "      <td>6.0</td>\n",
       "      <td>12.5</td>\n",
       "      <td>245501.0</td>\n",
       "    </tr>\n",
       "    <tr>\n",
       "      <th>2019-01-01 03:00:00</th>\n",
       "      <td>2019-01-01 03:00:00</td>\n",
       "      <td>47.2</td>\n",
       "      <td>41.0</td>\n",
       "      <td>54.0</td>\n",
       "      <td>42.3</td>\n",
       "      <td>34.0</td>\n",
       "      <td>50.0</td>\n",
       "      <td>1020.0</td>\n",
       "      <td>1011.2</td>\n",
       "      <td>1026.9</td>\n",
       "      <td>...</td>\n",
       "      <td>45.5</td>\n",
       "      <td>6.2</td>\n",
       "      <td>24.9</td>\n",
       "      <td>178.0</td>\n",
       "      <td>1.1</td>\n",
       "      <td>4.0</td>\n",
       "      <td>16.3</td>\n",
       "      <td>5.0</td>\n",
       "      <td>13.5</td>\n",
       "      <td>241545.0</td>\n",
       "    </tr>\n",
       "    <tr>\n",
       "      <th>2019-01-01 04:00:00</th>\n",
       "      <td>2019-01-01 04:00:00</td>\n",
       "      <td>46.8</td>\n",
       "      <td>39.9</td>\n",
       "      <td>53.1</td>\n",
       "      <td>42.2</td>\n",
       "      <td>34.0</td>\n",
       "      <td>50.0</td>\n",
       "      <td>1019.8</td>\n",
       "      <td>1010.5</td>\n",
       "      <td>1026.6</td>\n",
       "      <td>...</td>\n",
       "      <td>45.0</td>\n",
       "      <td>5.9</td>\n",
       "      <td>27.9</td>\n",
       "      <td>175.0</td>\n",
       "      <td>0.8</td>\n",
       "      <td>4.0</td>\n",
       "      <td>15.6</td>\n",
       "      <td>7.0</td>\n",
       "      <td>11.2</td>\n",
       "      <td>241926.0</td>\n",
       "    </tr>\n",
       "    <tr>\n",
       "      <th>...</th>\n",
       "      <td>...</td>\n",
       "      <td>...</td>\n",
       "      <td>...</td>\n",
       "      <td>...</td>\n",
       "      <td>...</td>\n",
       "      <td>...</td>\n",
       "      <td>...</td>\n",
       "      <td>...</td>\n",
       "      <td>...</td>\n",
       "      <td>...</td>\n",
       "      <td>...</td>\n",
       "      <td>...</td>\n",
       "      <td>...</td>\n",
       "      <td>...</td>\n",
       "      <td>...</td>\n",
       "      <td>...</td>\n",
       "      <td>...</td>\n",
       "      <td>...</td>\n",
       "      <td>...</td>\n",
       "      <td>...</td>\n",
       "      <td>...</td>\n",
       "    </tr>\n",
       "    <tr>\n",
       "      <th>2019-12-31 19:00:00</th>\n",
       "      <td>2019-12-31 19:00:00</td>\n",
       "      <td>51.5</td>\n",
       "      <td>46.9</td>\n",
       "      <td>55.9</td>\n",
       "      <td>43.9</td>\n",
       "      <td>36.0</td>\n",
       "      <td>51.1</td>\n",
       "      <td>1019.5</td>\n",
       "      <td>1010.7</td>\n",
       "      <td>1026.4</td>\n",
       "      <td>...</td>\n",
       "      <td>50.3</td>\n",
       "      <td>7.7</td>\n",
       "      <td>17.8</td>\n",
       "      <td>255.0</td>\n",
       "      <td>1.9</td>\n",
       "      <td>7.0</td>\n",
       "      <td>22.4</td>\n",
       "      <td>4.0</td>\n",
       "      <td>14.0</td>\n",
       "      <td>308820.0</td>\n",
       "    </tr>\n",
       "    <tr>\n",
       "      <th>2019-12-31 20:00:00</th>\n",
       "      <td>2019-12-31 20:00:00</td>\n",
       "      <td>51.0</td>\n",
       "      <td>46.0</td>\n",
       "      <td>55.0</td>\n",
       "      <td>43.6</td>\n",
       "      <td>36.0</td>\n",
       "      <td>51.1</td>\n",
       "      <td>1019.7</td>\n",
       "      <td>1011.2</td>\n",
       "      <td>1026.6</td>\n",
       "      <td>...</td>\n",
       "      <td>49.8</td>\n",
       "      <td>7.2</td>\n",
       "      <td>21.4</td>\n",
       "      <td>243.0</td>\n",
       "      <td>1.2</td>\n",
       "      <td>7.0</td>\n",
       "      <td>17.7</td>\n",
       "      <td>4.0</td>\n",
       "      <td>13.8</td>\n",
       "      <td>297758.0</td>\n",
       "    </tr>\n",
       "    <tr>\n",
       "      <th>2019-12-31 21:00:00</th>\n",
       "      <td>2019-12-31 21:00:00</td>\n",
       "      <td>50.5</td>\n",
       "      <td>46.0</td>\n",
       "      <td>55.0</td>\n",
       "      <td>43.5</td>\n",
       "      <td>35.1</td>\n",
       "      <td>50.0</td>\n",
       "      <td>1019.9</td>\n",
       "      <td>1011.0</td>\n",
       "      <td>1026.8</td>\n",
       "      <td>...</td>\n",
       "      <td>49.1</td>\n",
       "      <td>7.1</td>\n",
       "      <td>18.7</td>\n",
       "      <td>218.0</td>\n",
       "      <td>1.3</td>\n",
       "      <td>7.0</td>\n",
       "      <td>18.7</td>\n",
       "      <td>4.0</td>\n",
       "      <td>16.5</td>\n",
       "      <td>287403.0</td>\n",
       "    </tr>\n",
       "    <tr>\n",
       "      <th>2019-12-31 22:00:00</th>\n",
       "      <td>2019-12-31 22:00:00</td>\n",
       "      <td>49.8</td>\n",
       "      <td>45.0</td>\n",
       "      <td>54.0</td>\n",
       "      <td>43.4</td>\n",
       "      <td>35.1</td>\n",
       "      <td>50.0</td>\n",
       "      <td>1020.1</td>\n",
       "      <td>1011.5</td>\n",
       "      <td>1027.1</td>\n",
       "      <td>...</td>\n",
       "      <td>48.4</td>\n",
       "      <td>6.6</td>\n",
       "      <td>24.3</td>\n",
       "      <td>209.0</td>\n",
       "      <td>1.1</td>\n",
       "      <td>4.0</td>\n",
       "      <td>18.0</td>\n",
       "      <td>7.0</td>\n",
       "      <td>14.8</td>\n",
       "      <td>275322.0</td>\n",
       "    </tr>\n",
       "    <tr>\n",
       "      <th>2019-12-31 23:00:00</th>\n",
       "      <td>2019-12-31 23:00:00</td>\n",
       "      <td>49.4</td>\n",
       "      <td>45.0</td>\n",
       "      <td>54.0</td>\n",
       "      <td>43.4</td>\n",
       "      <td>35.1</td>\n",
       "      <td>50.0</td>\n",
       "      <td>1020.1</td>\n",
       "      <td>1011.3</td>\n",
       "      <td>1027.0</td>\n",
       "      <td>...</td>\n",
       "      <td>47.9</td>\n",
       "      <td>6.5</td>\n",
       "      <td>27.6</td>\n",
       "      <td>207.0</td>\n",
       "      <td>1.2</td>\n",
       "      <td>4.0</td>\n",
       "      <td>16.3</td>\n",
       "      <td>7.0</td>\n",
       "      <td>12.5</td>\n",
       "      <td>241588.0</td>\n",
       "    </tr>\n",
       "  </tbody>\n",
       "</table>\n",
       "<p>8760 rows × 28 columns</p>\n",
       "</div>"
      ],
      "text/plain": [
       "                                   date  HLY_TEMP_NORMAL_SF  \\\n",
       "date                                                          \n",
       "2019-01-01 00:00:00 2019-01-01 00:00:00                48.8   \n",
       "2019-01-01 01:00:00 2019-01-01 01:00:00                48.5   \n",
       "2019-01-01 02:00:00 2019-01-01 02:00:00                47.6   \n",
       "2019-01-01 03:00:00 2019-01-01 03:00:00                47.2   \n",
       "2019-01-01 04:00:00 2019-01-01 04:00:00                46.8   \n",
       "...                                 ...                 ...   \n",
       "2019-12-31 19:00:00 2019-12-31 19:00:00                51.5   \n",
       "2019-12-31 20:00:00 2019-12-31 20:00:00                51.0   \n",
       "2019-12-31 21:00:00 2019-12-31 21:00:00                50.5   \n",
       "2019-12-31 22:00:00 2019-12-31 22:00:00                49.8   \n",
       "2019-12-31 23:00:00 2019-12-31 23:00:00                49.4   \n",
       "\n",
       "                     HLY_TEMP_10PCTL_SF  HLY_TEMP_90PCTL_SF  \\\n",
       "date                                                          \n",
       "2019-01-01 00:00:00                44.1                54.0   \n",
       "2019-01-01 01:00:00                43.0                54.0   \n",
       "2019-01-01 02:00:00                42.1                53.1   \n",
       "2019-01-01 03:00:00                41.0                54.0   \n",
       "2019-01-01 04:00:00                39.9                53.1   \n",
       "...                                 ...                 ...   \n",
       "2019-12-31 19:00:00                46.9                55.9   \n",
       "2019-12-31 20:00:00                46.0                55.0   \n",
       "2019-12-31 21:00:00                46.0                55.0   \n",
       "2019-12-31 22:00:00                45.0                54.0   \n",
       "2019-12-31 23:00:00                45.0                54.0   \n",
       "\n",
       "                     HLY_DEWP_NORMAL_SF  HLY_DEWP_10PCTL_SF  \\\n",
       "date                                                          \n",
       "2019-01-01 00:00:00                43.2                35.1   \n",
       "2019-01-01 01:00:00                43.1                35.1   \n",
       "2019-01-01 02:00:00                42.6                35.1   \n",
       "2019-01-01 03:00:00                42.3                34.0   \n",
       "2019-01-01 04:00:00                42.2                34.0   \n",
       "...                                 ...                 ...   \n",
       "2019-12-31 19:00:00                43.9                36.0   \n",
       "2019-12-31 20:00:00                43.6                36.0   \n",
       "2019-12-31 21:00:00                43.5                35.1   \n",
       "2019-12-31 22:00:00                43.4                35.1   \n",
       "2019-12-31 23:00:00                43.4                35.1   \n",
       "\n",
       "                     HLY_DEWP_90PCTL_SF  HLY_PRES_NORMAL_SF  \\\n",
       "date                                                          \n",
       "2019-01-01 00:00:00                50.0              1020.1   \n",
       "2019-01-01 01:00:00                50.0              1019.9   \n",
       "2019-01-01 02:00:00                50.0              1020.0   \n",
       "2019-01-01 03:00:00                50.0              1020.0   \n",
       "2019-01-01 04:00:00                50.0              1019.8   \n",
       "...                                 ...                 ...   \n",
       "2019-12-31 19:00:00                51.1              1019.5   \n",
       "2019-12-31 20:00:00                51.1              1019.7   \n",
       "2019-12-31 21:00:00                50.0              1019.9   \n",
       "2019-12-31 22:00:00                50.0              1020.1   \n",
       "2019-12-31 23:00:00                50.0              1020.1   \n",
       "\n",
       "                     HLY_PRES_10PCTL_SF  HLY_PRES_90PCTL_SF  ...  \\\n",
       "date                                                         ...   \n",
       "2019-01-01 00:00:00              1011.5              1026.9  ...   \n",
       "2019-01-01 01:00:00              1011.0              1026.8  ...   \n",
       "2019-01-01 02:00:00              1011.2              1026.8  ...   \n",
       "2019-01-01 03:00:00              1011.2              1026.9  ...   \n",
       "2019-01-01 04:00:00              1010.5              1026.6  ...   \n",
       "...                                 ...                 ...  ...   \n",
       "2019-12-31 19:00:00              1010.7              1026.4  ...   \n",
       "2019-12-31 20:00:00              1011.2              1026.6  ...   \n",
       "2019-12-31 21:00:00              1011.0              1026.8  ...   \n",
       "2019-12-31 22:00:00              1011.5              1027.1  ...   \n",
       "2019-12-31 23:00:00              1011.3              1027.0  ...   \n",
       "\n",
       "                     HLY_WCHL_NORMAL_SF  HLY_WIND_AVGSPD_SF  \\\n",
       "date                                                          \n",
       "2019-01-01 00:00:00                47.3                 6.3   \n",
       "2019-01-01 01:00:00                47.0                 6.2   \n",
       "2019-01-01 02:00:00                46.0                 6.2   \n",
       "2019-01-01 03:00:00                45.5                 6.2   \n",
       "2019-01-01 04:00:00                45.0                 5.9   \n",
       "...                                 ...                 ...   \n",
       "2019-12-31 19:00:00                50.3                 7.7   \n",
       "2019-12-31 20:00:00                49.8                 7.2   \n",
       "2019-12-31 21:00:00                49.1                 7.1   \n",
       "2019-12-31 22:00:00                48.4                 6.6   \n",
       "2019-12-31 23:00:00                47.9                 6.5   \n",
       "\n",
       "                     HLY_WIND_PCTCLM_SF  HLY_WIND_VCTDIR_SF  \\\n",
       "date                                                          \n",
       "2019-01-01 00:00:00                25.4               196.0   \n",
       "2019-01-01 01:00:00                28.5               193.0   \n",
       "2019-01-01 02:00:00                26.5               184.0   \n",
       "2019-01-01 03:00:00                24.9               178.0   \n",
       "2019-01-01 04:00:00                27.9               175.0   \n",
       "...                                 ...                 ...   \n",
       "2019-12-31 19:00:00                17.8               255.0   \n",
       "2019-12-31 20:00:00                21.4               243.0   \n",
       "2019-12-31 21:00:00                18.7               218.0   \n",
       "2019-12-31 22:00:00                24.3               209.0   \n",
       "2019-12-31 23:00:00                27.6               207.0   \n",
       "\n",
       "                     HLY_WIND_VCTSPD_SF  HLY_WIND_1STDIR_SF  \\\n",
       "date                                                          \n",
       "2019-01-01 00:00:00                 1.1                 5.0   \n",
       "2019-01-01 01:00:00                 1.2                 4.0   \n",
       "2019-01-01 02:00:00                 0.9                 4.0   \n",
       "2019-01-01 03:00:00                 1.1                 4.0   \n",
       "2019-01-01 04:00:00                 0.8                 4.0   \n",
       "...                                 ...                 ...   \n",
       "2019-12-31 19:00:00                 1.9                 7.0   \n",
       "2019-12-31 20:00:00                 1.2                 7.0   \n",
       "2019-12-31 21:00:00                 1.3                 7.0   \n",
       "2019-12-31 22:00:00                 1.1                 4.0   \n",
       "2019-12-31 23:00:00                 1.2                 4.0   \n",
       "\n",
       "                     HLY_WIND_1STPCT_SF  HLY_WIND_2NDDIR_SF  \\\n",
       "date                                                          \n",
       "2019-01-01 00:00:00                14.7                 4.0   \n",
       "2019-01-01 01:00:00                14.6                 5.0   \n",
       "2019-01-01 02:00:00                14.8                 6.0   \n",
       "2019-01-01 03:00:00                16.3                 5.0   \n",
       "2019-01-01 04:00:00                15.6                 7.0   \n",
       "...                                 ...                 ...   \n",
       "2019-12-31 19:00:00                22.4                 4.0   \n",
       "2019-12-31 20:00:00                17.7                 4.0   \n",
       "2019-12-31 21:00:00                18.7                 4.0   \n",
       "2019-12-31 22:00:00                18.0                 7.0   \n",
       "2019-12-31 23:00:00                16.3                 7.0   \n",
       "\n",
       "                     HLY_WIND_2NDPCT_SF  Megawatts_2019  \n",
       "date                                                     \n",
       "2019-01-01 00:00:00                14.3        283652.0  \n",
       "2019-01-01 01:00:00                13.1        252485.0  \n",
       "2019-01-01 02:00:00                12.5        245501.0  \n",
       "2019-01-01 03:00:00                13.5        241545.0  \n",
       "2019-01-01 04:00:00                11.2        241926.0  \n",
       "...                                 ...             ...  \n",
       "2019-12-31 19:00:00                14.0        308820.0  \n",
       "2019-12-31 20:00:00                13.8        297758.0  \n",
       "2019-12-31 21:00:00                16.5        287403.0  \n",
       "2019-12-31 22:00:00                14.8        275322.0  \n",
       "2019-12-31 23:00:00                12.5        241588.0  \n",
       "\n",
       "[8760 rows x 28 columns]"
      ]
     },
     "execution_count": 176,
     "metadata": {},
     "output_type": "execute_result"
    }
   ],
   "source": [
    "df['date'] = pd.to_datetime(df['date'], format='%m-%dT%H:%M:%S')\n",
    "df['date']= df[\"date\"].map(lambda x: x.replace(year=2019))\n",
    "df.index = df['date']\n",
    "df"
   ]
  },
  {
   "cell_type": "code",
   "execution_count": 177,
   "id": "e8c0459f",
   "metadata": {},
   "outputs": [
    {
     "data": {
      "image/png": "[encoded data removed]",
      "text/plain": [
       "<Figure size 432x288 with 1 Axes>"
      ]
     },
     "metadata": {
      "needs_background": "light"
     },
     "output_type": "display_data"
    }
   ],
   "source": [
    "temp = df['HLY_TEMP_NORMAL'+location]\n",
    "df.plot(x = 'date', y = 'HLY_TEMP_NORMAL'+location)\n",
    "plt.show()"
   ]
  },
  {
   "cell_type": "markdown",
   "id": "19874ee4",
   "metadata": {},
   "source": [
    "# LSTM \n",
    "- temperature at hour: 1,2,3,4,5 and predict for hour:6\n",
    "- temperature at hour: 2,3,4,5,6 and predict for hour: 7\n",
    "- output: y vector - [6] [7] \n",
    "- input: x matrix? - [1,2,3,4,5] [2,3,4,5,6]\n",
    "\n",
    "1. to make it multivariate:\n",
    "- temperature and clouds at hour: 1,2,3,4,5 and predict for hour:6\n",
    "- temperature at hour: 2,3,4,5,6 and predict for hour: 7\n",
    "- output: y vector - [6] [7] \n",
    "- input: x matrix? - [[1,cloud1],[2, cloud2],[3,cloud3],[4, cloud4],[5,cloud5] [2,3,4,5,6] etc etc"
   ]
  },
  {
   "cell_type": "code",
   "execution_count": 178,
   "id": "0293e0a1",
   "metadata": {},
   "outputs": [],
   "source": [
    "#make the X data = [1,2,3,4,5] the list of lists with 5 pieces of past data\n",
    "# make the y data = output prediction\n",
    "def df_to_X_y(df, window_size= 5):\n",
    "    df_as_np = df.to_numpy()\n",
    "    X = []\n",
    "    y = []\n",
    "    for i in range(len(df_as_np)-window_size):\n",
    "        row = [ [a] for a in df_as_np[i:i+window_size]]\n",
    "        X.append(row)\n",
    "        label = df_as_np[i+window_size]\n",
    "        y.append(label)\n",
    "    return np.array(X), np.array(y)\n",
    "        "
   ]
  },
  {
   "cell_type": "code",
   "execution_count": 205,
   "id": "fcafdfec",
   "metadata": {},
   "outputs": [
    {
     "data": {
      "text/plain": [
       "((8755, 5, 1), (8755,))"
      ]
     },
     "execution_count": 205,
     "metadata": {},
     "output_type": "execute_result"
    }
   ],
   "source": [
    "WINDOW_SIZE = 5\n",
    "X, y = df_to_X_y(temp, WINDOW_SIZE)\n",
    "X.shape, y.shape"
   ]
  },
  {
   "cell_type": "markdown",
   "id": "932578b0",
   "metadata": {},
   "source": [
    "# Train and testing data\n",
    "\n",
    "- 0.7 training\n",
    "- 0.1 validation\n",
    "- 0.2 testing"
   ]
  },
  {
   "cell_type": "code",
   "execution_count": 206,
   "id": "95e0737d",
   "metadata": {},
   "outputs": [
    {
     "data": {
      "text/plain": [
       "((5253, 5, 1), (5253,), (1751, 5, 1), (1751,), (1751, 5, 1), (1751,))"
      ]
     },
     "execution_count": 206,
     "metadata": {},
     "output_type": "execute_result"
    }
   ],
   "source": [
    "train_percent = 0.6\n",
    "validation_percent = 0.2\n",
    "test_percent = 0.2\n",
    "train_percent_split = int(train_percent * len(X))\n",
    "validation_percent_split = int(validation_percent * len(X)) + train_percent_split\n",
    "test_percent_split = int(test_percent * len(X))\n",
    "\n",
    "X_train, y_train = X[:train_percent_split], y[:train_percent_split]\n",
    "X_val, y_val = X[train_percent_split:validation_percent_split], y[train_percent_split:validation_percent_split] #validation\n",
    "X_test, y_test = X[validation_percent_split:], y[validation_percent_split:]\n",
    "\n",
    "X_train.shape, y_train.shape, X_val.shape, y_val.shape, X_test.shape, y_test.shape"
   ]
  },
  {
   "cell_type": "code",
   "execution_count": 207,
   "id": "130b3e7d",
   "metadata": {},
   "outputs": [],
   "source": [
    "from tensorflow.keras.models import Sequential\n",
    "from tensorflow.keras.layers import *\n",
    "from tensorflow.keras.callbacks import ModelCheckpoint\n",
    "from tensorflow.keras.losses import MeanSquaredError\n",
    "from tensorflow.keras.metrics import RootMeanSquaredError\n",
    "from tensorflow.keras.metrics import MeanAbsoluteError\n",
    "from tensorflow.keras.optimizers import Adam"
   ]
  },
  {
   "cell_type": "code",
   "execution_count": 208,
   "id": "04575de0",
   "metadata": {},
   "outputs": [],
   "source": [
    "# #model input layer is 24, 1 - shape of data\n",
    "# #when i apply a new layer, I am increasing complexity of model \n",
    "# model = Sequential()\n",
    "# model.add(LSTM(64, input_shape=(1,4))) #64 = # of units for each layer; 4 = # of features/columns, 1 = timestep\n",
    "# model.add(Dense(8, 'relu')) #relu to learn non-linear dependencies\n",
    "# model.add(Dense(1, 'linear')) #linear value, pos or neg (for temp)\n",
    "# model.summary()"
   ]
  },
  {
   "cell_type": "code",
   "execution_count": 209,
   "id": "5211a357",
   "metadata": {},
   "outputs": [
    {
     "name": "stdout",
     "output_type": "stream",
     "text": [
      "Model: \"sequential_10\"\n",
      "_________________________________________________________________\n",
      " Layer (type)                Output Shape              Param #   \n",
      "=================================================================\n",
      " lstm_8 (LSTM)               (None, 64)                16896     \n",
      "                                                                 \n",
      " dense_20 (Dense)            (None, 8)                 520       \n",
      "                                                                 \n",
      " dense_21 (Dense)            (None, 1)                 9         \n",
      "                                                                 \n",
      "=================================================================\n",
      "Total params: 17,425\n",
      "Trainable params: 17,425\n",
      "Non-trainable params: 0\n",
      "_________________________________________________________________\n"
     ]
    }
   ],
   "source": [
    "model1 = Sequential() #first model's output is the next models input\n",
    "#from X_train.shape which is 6000, 24, 1\n",
    "model1.add(InputLayer((5,1))) # 4 = # of features/columns, 1 = timestep\n",
    "model1.add(LSTM(64))  #64 = # of units for each layer; output is determined by first param, 64 \n",
    "# dimensionality of the output space????\n",
    "model1.add(Dense(8, 'relu')) #relu to learn non-linear dependencies\n",
    "model1.add(Dense(1, 'linear')) #linear value, pos or neg (for temp)\n",
    "model1.summary()"
   ]
  },
  {
   "cell_type": "code",
   "execution_count": 210,
   "id": "85bda944",
   "metadata": {},
   "outputs": [],
   "source": [
    "cp = ModelCheckpoint(directory+'model1/', save_best_only = True) #I want to only save the best model (lowest validation loss)\n",
    "#learning rate = higher the value, faster model tries to decrease loss\n",
    "#but we don't want to dec super fast bc it won't find local min/max\n",
    "model1.compile(loss = MeanSquaredError(), optimizer = Adam(learning_rate = 0.001), metrics = [RootMeanSquaredError()])\n"
   ]
  },
  {
   "cell_type": "code",
   "execution_count": 211,
   "id": "7d48936f",
   "metadata": {},
   "outputs": [
    {
     "name": "stdout",
     "output_type": "stream",
     "text": [
      "Epoch 1/20\n",
      "148/165 [=========================>....] - ETA: 0s - loss: 1675.1238 - root_mean_squared_error: 40.9283"
     ]
    },
    {
     "name": "stderr",
     "output_type": "stream",
     "text": [
      "WARNING:absl:Found untraced functions such as lstm_cell_15_layer_call_fn, lstm_cell_15_layer_call_and_return_conditional_losses, lstm_cell_15_layer_call_fn, lstm_cell_15_layer_call_and_return_conditional_losses, lstm_cell_15_layer_call_and_return_conditional_losses while saving (showing 5 of 5). These functions will not be directly callable after loading.\n"
     ]
    },
    {
     "name": "stdout",
     "output_type": "stream",
     "text": [
      "INFO:tensorflow:Assets written to: /Users/yukahatori/A_Fairness/FairnessML_git/NOAA_and_CAISO_Data_ONEYEAR/model1/assets\n"
     ]
    },
    {
     "name": "stderr",
     "output_type": "stream",
     "text": [
      "INFO:tensorflow:Assets written to: /Users/yukahatori/A_Fairness/FairnessML_git/NOAA_and_CAISO_Data_ONEYEAR/model1/assets\n",
      "WARNING:absl:<keras.layers.recurrent.LSTMCell object at 0x7f9c3e19df10> has the same name 'LSTMCell' as a built-in Keras object. Consider renaming <class 'keras.layers.recurrent.LSTMCell'> to avoid naming conflicts when loading with `tf.keras.models.load_model`. If renaming is not possible, pass the object in the `custom_objects` parameter of the load function.\n"
     ]
    },
    {
     "name": "stdout",
     "output_type": "stream",
     "text": [
      "165/165 [==============================] - 5s 24ms/step - loss: 1527.2185 - root_mean_squared_error: 39.0796 - val_loss: 264.3600 - val_root_mean_squared_error: 16.2592\n",
      "Epoch 2/20\n",
      "152/165 [==========================>...] - ETA: 0s - loss: 40.9290 - root_mean_squared_error: 6.3976"
     ]
    },
    {
     "name": "stderr",
     "output_type": "stream",
     "text": [
      "WARNING:absl:Found untraced functions such as lstm_cell_15_layer_call_fn, lstm_cell_15_layer_call_and_return_conditional_losses, lstm_cell_15_layer_call_fn, lstm_cell_15_layer_call_and_return_conditional_losses, lstm_cell_15_layer_call_and_return_conditional_losses while saving (showing 5 of 5). These functions will not be directly callable after loading.\n"
     ]
    },
    {
     "name": "stdout",
     "output_type": "stream",
     "text": [
      "INFO:tensorflow:Assets written to: /Users/yukahatori/A_Fairness/FairnessML_git/NOAA_and_CAISO_Data_ONEYEAR/model1/assets\n"
     ]
    },
    {
     "name": "stderr",
     "output_type": "stream",
     "text": [
      "INFO:tensorflow:Assets written to: /Users/yukahatori/A_Fairness/FairnessML_git/NOAA_and_CAISO_Data_ONEYEAR/model1/assets\n",
      "WARNING:absl:<keras.layers.recurrent.LSTMCell object at 0x7f9c3e19df10> has the same name 'LSTMCell' as a built-in Keras object. Consider renaming <class 'keras.layers.recurrent.LSTMCell'> to avoid naming conflicts when loading with `tf.keras.models.load_model`. If renaming is not possible, pass the object in the `custom_objects` parameter of the load function.\n"
     ]
    },
    {
     "name": "stdout",
     "output_type": "stream",
     "text": [
      "165/165 [==============================] - 4s 22ms/step - loss: 40.2175 - root_mean_squared_error: 6.3417 - val_loss: 60.7798 - val_root_mean_squared_error: 7.7961\n",
      "Epoch 3/20\n",
      "159/165 [===========================>..] - ETA: 0s - loss: 25.1301 - root_mean_squared_error: 5.0130"
     ]
    },
    {
     "name": "stderr",
     "output_type": "stream",
     "text": [
      "WARNING:absl:Found untraced functions such as lstm_cell_15_layer_call_fn, lstm_cell_15_layer_call_and_return_conditional_losses, lstm_cell_15_layer_call_fn, lstm_cell_15_layer_call_and_return_conditional_losses, lstm_cell_15_layer_call_and_return_conditional_losses while saving (showing 5 of 5). These functions will not be directly callable after loading.\n"
     ]
    },
    {
     "name": "stdout",
     "output_type": "stream",
     "text": [
      "INFO:tensorflow:Assets written to: /Users/yukahatori/A_Fairness/FairnessML_git/NOAA_and_CAISO_Data_ONEYEAR/model1/assets\n"
     ]
    },
    {
     "name": "stderr",
     "output_type": "stream",
     "text": [
      "INFO:tensorflow:Assets written to: /Users/yukahatori/A_Fairness/FairnessML_git/NOAA_and_CAISO_Data_ONEYEAR/model1/assets\n",
      "WARNING:absl:<keras.layers.recurrent.LSTMCell object at 0x7f9c3e19df10> has the same name 'LSTMCell' as a built-in Keras object. Consider renaming <class 'keras.layers.recurrent.LSTMCell'> to avoid naming conflicts when loading with `tf.keras.models.load_model`. If renaming is not possible, pass the object in the `custom_objects` parameter of the load function.\n"
     ]
    },
    {
     "name": "stdout",
     "output_type": "stream",
     "text": [
      "165/165 [==============================] - 3s 19ms/step - loss: 24.7332 - root_mean_squared_error: 4.9733 - val_loss: 31.2673 - val_root_mean_squared_error: 5.5917\n",
      "Epoch 4/20\n",
      "158/165 [===========================>..] - ETA: 0s - loss: 6.7002 - root_mean_squared_error: 2.5885"
     ]
    },
    {
     "name": "stderr",
     "output_type": "stream",
     "text": [
      "WARNING:absl:Found untraced functions such as lstm_cell_15_layer_call_fn, lstm_cell_15_layer_call_and_return_conditional_losses, lstm_cell_15_layer_call_fn, lstm_cell_15_layer_call_and_return_conditional_losses, lstm_cell_15_layer_call_and_return_conditional_losses while saving (showing 5 of 5). These functions will not be directly callable after loading.\n"
     ]
    },
    {
     "name": "stdout",
     "output_type": "stream",
     "text": [
      "INFO:tensorflow:Assets written to: /Users/yukahatori/A_Fairness/FairnessML_git/NOAA_and_CAISO_Data_ONEYEAR/model1/assets\n"
     ]
    },
    {
     "name": "stderr",
     "output_type": "stream",
     "text": [
      "INFO:tensorflow:Assets written to: /Users/yukahatori/A_Fairness/FairnessML_git/NOAA_and_CAISO_Data_ONEYEAR/model1/assets\n",
      "WARNING:absl:<keras.layers.recurrent.LSTMCell object at 0x7f9c3e19df10> has the same name 'LSTMCell' as a built-in Keras object. Consider renaming <class 'keras.layers.recurrent.LSTMCell'> to avoid naming conflicts when loading with `tf.keras.models.load_model`. If renaming is not possible, pass the object in the `custom_objects` parameter of the load function.\n"
     ]
    },
    {
     "name": "stdout",
     "output_type": "stream",
     "text": [
      "165/165 [==============================] - 3s 19ms/step - loss: 6.6015 - root_mean_squared_error: 2.5693 - val_loss: 9.4799 - val_root_mean_squared_error: 3.0789\n",
      "Epoch 5/20\n",
      "156/165 [===========================>..] - ETA: 0s - loss: 2.7395 - root_mean_squared_error: 1.6551"
     ]
    },
    {
     "name": "stderr",
     "output_type": "stream",
     "text": [
      "WARNING:absl:Found untraced functions such as lstm_cell_15_layer_call_fn, lstm_cell_15_layer_call_and_return_conditional_losses, lstm_cell_15_layer_call_fn, lstm_cell_15_layer_call_and_return_conditional_losses, lstm_cell_15_layer_call_and_return_conditional_losses while saving (showing 5 of 5). These functions will not be directly callable after loading.\n"
     ]
    },
    {
     "name": "stdout",
     "output_type": "stream",
     "text": [
      "INFO:tensorflow:Assets written to: /Users/yukahatori/A_Fairness/FairnessML_git/NOAA_and_CAISO_Data_ONEYEAR/model1/assets\n"
     ]
    },
    {
     "name": "stderr",
     "output_type": "stream",
     "text": [
      "INFO:tensorflow:Assets written to: /Users/yukahatori/A_Fairness/FairnessML_git/NOAA_and_CAISO_Data_ONEYEAR/model1/assets\n",
      "WARNING:absl:<keras.layers.recurrent.LSTMCell object at 0x7f9c3e19df10> has the same name 'LSTMCell' as a built-in Keras object. Consider renaming <class 'keras.layers.recurrent.LSTMCell'> to avoid naming conflicts when loading with `tf.keras.models.load_model`. If renaming is not possible, pass the object in the `custom_objects` parameter of the load function.\n"
     ]
    },
    {
     "name": "stdout",
     "output_type": "stream",
     "text": [
      "165/165 [==============================] - 3s 20ms/step - loss: 2.6985 - root_mean_squared_error: 1.6427 - val_loss: 4.9691 - val_root_mean_squared_error: 2.2291\n",
      "Epoch 6/20\n",
      "157/165 [===========================>..] - ETA: 0s - loss: 1.4013 - root_mean_squared_error: 1.1837"
     ]
    },
    {
     "name": "stderr",
     "output_type": "stream",
     "text": [
      "WARNING:absl:Found untraced functions such as lstm_cell_15_layer_call_fn, lstm_cell_15_layer_call_and_return_conditional_losses, lstm_cell_15_layer_call_fn, lstm_cell_15_layer_call_and_return_conditional_losses, lstm_cell_15_layer_call_and_return_conditional_losses while saving (showing 5 of 5). These functions will not be directly callable after loading.\n"
     ]
    },
    {
     "name": "stdout",
     "output_type": "stream",
     "text": [
      "INFO:tensorflow:Assets written to: /Users/yukahatori/A_Fairness/FairnessML_git/NOAA_and_CAISO_Data_ONEYEAR/model1/assets\n"
     ]
    },
    {
     "name": "stderr",
     "output_type": "stream",
     "text": [
      "INFO:tensorflow:Assets written to: /Users/yukahatori/A_Fairness/FairnessML_git/NOAA_and_CAISO_Data_ONEYEAR/model1/assets\n",
      "WARNING:absl:<keras.layers.recurrent.LSTMCell object at 0x7f9c3e19df10> has the same name 'LSTMCell' as a built-in Keras object. Consider renaming <class 'keras.layers.recurrent.LSTMCell'> to avoid naming conflicts when loading with `tf.keras.models.load_model`. If renaming is not possible, pass the object in the `custom_objects` parameter of the load function.\n"
     ]
    },
    {
     "name": "stdout",
     "output_type": "stream",
     "text": [
      "165/165 [==============================] - 4s 24ms/step - loss: 1.3828 - root_mean_squared_error: 1.1759 - val_loss: 3.0951 - val_root_mean_squared_error: 1.7593\n",
      "Epoch 7/20\n",
      "150/165 [==========================>...] - ETA: 0s - loss: 0.9126 - root_mean_squared_error: 0.9553"
     ]
    },
    {
     "name": "stderr",
     "output_type": "stream",
     "text": [
      "WARNING:absl:Found untraced functions such as lstm_cell_15_layer_call_fn, lstm_cell_15_layer_call_and_return_conditional_losses, lstm_cell_15_layer_call_fn, lstm_cell_15_layer_call_and_return_conditional_losses, lstm_cell_15_layer_call_and_return_conditional_losses while saving (showing 5 of 5). These functions will not be directly callable after loading.\n"
     ]
    },
    {
     "name": "stdout",
     "output_type": "stream",
     "text": [
      "INFO:tensorflow:Assets written to: /Users/yukahatori/A_Fairness/FairnessML_git/NOAA_and_CAISO_Data_ONEYEAR/model1/assets\n"
     ]
    },
    {
     "name": "stderr",
     "output_type": "stream",
     "text": [
      "INFO:tensorflow:Assets written to: /Users/yukahatori/A_Fairness/FairnessML_git/NOAA_and_CAISO_Data_ONEYEAR/model1/assets\n",
      "WARNING:absl:<keras.layers.recurrent.LSTMCell object at 0x7f9c3e19df10> has the same name 'LSTMCell' as a built-in Keras object. Consider renaming <class 'keras.layers.recurrent.LSTMCell'> to avoid naming conflicts when loading with `tf.keras.models.load_model`. If renaming is not possible, pass the object in the `custom_objects` parameter of the load function.\n"
     ]
    },
    {
     "name": "stdout",
     "output_type": "stream",
     "text": [
      "165/165 [==============================] - 3s 20ms/step - loss: 0.9031 - root_mean_squared_error: 0.9503 - val_loss: 2.1687 - val_root_mean_squared_error: 1.4726\n",
      "Epoch 8/20\n",
      "155/165 [===========================>..] - ETA: 0s - loss: 0.7435 - root_mean_squared_error: 0.8622"
     ]
    },
    {
     "name": "stderr",
     "output_type": "stream",
     "text": [
      "WARNING:absl:Found untraced functions such as lstm_cell_15_layer_call_fn, lstm_cell_15_layer_call_and_return_conditional_losses, lstm_cell_15_layer_call_fn, lstm_cell_15_layer_call_and_return_conditional_losses, lstm_cell_15_layer_call_and_return_conditional_losses while saving (showing 5 of 5). These functions will not be directly callable after loading.\n"
     ]
    },
    {
     "name": "stdout",
     "output_type": "stream",
     "text": [
      "INFO:tensorflow:Assets written to: /Users/yukahatori/A_Fairness/FairnessML_git/NOAA_and_CAISO_Data_ONEYEAR/model1/assets\n"
     ]
    },
    {
     "name": "stderr",
     "output_type": "stream",
     "text": [
      "INFO:tensorflow:Assets written to: /Users/yukahatori/A_Fairness/FairnessML_git/NOAA_and_CAISO_Data_ONEYEAR/model1/assets\n",
      "WARNING:absl:<keras.layers.recurrent.LSTMCell object at 0x7f9c3e19df10> has the same name 'LSTMCell' as a built-in Keras object. Consider renaming <class 'keras.layers.recurrent.LSTMCell'> to avoid naming conflicts when loading with `tf.keras.models.load_model`. If renaming is not possible, pass the object in the `custom_objects` parameter of the load function.\n"
     ]
    },
    {
     "name": "stdout",
     "output_type": "stream",
     "text": [
      "165/165 [==============================] - 4s 22ms/step - loss: 0.7301 - root_mean_squared_error: 0.8544 - val_loss: 2.0066 - val_root_mean_squared_error: 1.4165\n",
      "Epoch 9/20\n",
      "155/165 [===========================>..] - ETA: 0s - loss: 0.5824 - root_mean_squared_error: 0.7632"
     ]
    },
    {
     "name": "stderr",
     "output_type": "stream",
     "text": [
      "WARNING:absl:Found untraced functions such as lstm_cell_15_layer_call_fn, lstm_cell_15_layer_call_and_return_conditional_losses, lstm_cell_15_layer_call_fn, lstm_cell_15_layer_call_and_return_conditional_losses, lstm_cell_15_layer_call_and_return_conditional_losses while saving (showing 5 of 5). These functions will not be directly callable after loading.\n"
     ]
    },
    {
     "name": "stdout",
     "output_type": "stream",
     "text": [
      "INFO:tensorflow:Assets written to: /Users/yukahatori/A_Fairness/FairnessML_git/NOAA_and_CAISO_Data_ONEYEAR/model1/assets\n"
     ]
    },
    {
     "name": "stderr",
     "output_type": "stream",
     "text": [
      "INFO:tensorflow:Assets written to: /Users/yukahatori/A_Fairness/FairnessML_git/NOAA_and_CAISO_Data_ONEYEAR/model1/assets\n",
      "WARNING:absl:<keras.layers.recurrent.LSTMCell object at 0x7f9c3e19df10> has the same name 'LSTMCell' as a built-in Keras object. Consider renaming <class 'keras.layers.recurrent.LSTMCell'> to avoid naming conflicts when loading with `tf.keras.models.load_model`. If renaming is not possible, pass the object in the `custom_objects` parameter of the load function.\n"
     ]
    },
    {
     "name": "stdout",
     "output_type": "stream",
     "text": [
      "165/165 [==============================] - 4s 24ms/step - loss: 0.5802 - root_mean_squared_error: 0.7617 - val_loss: 1.5268 - val_root_mean_squared_error: 1.2356\n",
      "Epoch 10/20\n",
      "160/165 [============================>.] - ETA: 0s - loss: 0.4898 - root_mean_squared_error: 0.6999"
     ]
    },
    {
     "name": "stderr",
     "output_type": "stream",
     "text": [
      "WARNING:absl:Found untraced functions such as lstm_cell_15_layer_call_fn, lstm_cell_15_layer_call_and_return_conditional_losses, lstm_cell_15_layer_call_fn, lstm_cell_15_layer_call_and_return_conditional_losses, lstm_cell_15_layer_call_and_return_conditional_losses while saving (showing 5 of 5). These functions will not be directly callable after loading.\n"
     ]
    },
    {
     "name": "stdout",
     "output_type": "stream",
     "text": [
      "INFO:tensorflow:Assets written to: /Users/yukahatori/A_Fairness/FairnessML_git/NOAA_and_CAISO_Data_ONEYEAR/model1/assets\n"
     ]
    },
    {
     "name": "stderr",
     "output_type": "stream",
     "text": [
      "INFO:tensorflow:Assets written to: /Users/yukahatori/A_Fairness/FairnessML_git/NOAA_and_CAISO_Data_ONEYEAR/model1/assets\n",
      "WARNING:absl:<keras.layers.recurrent.LSTMCell object at 0x7f9c3e19df10> has the same name 'LSTMCell' as a built-in Keras object. Consider renaming <class 'keras.layers.recurrent.LSTMCell'> to avoid naming conflicts when loading with `tf.keras.models.load_model`. If renaming is not possible, pass the object in the `custom_objects` parameter of the load function.\n"
     ]
    },
    {
     "name": "stdout",
     "output_type": "stream",
     "text": [
      "165/165 [==============================] - 4s 22ms/step - loss: 0.4883 - root_mean_squared_error: 0.6988 - val_loss: 1.1440 - val_root_mean_squared_error: 1.0696\n",
      "Epoch 11/20\n",
      "160/165 [============================>.] - ETA: 0s - loss: 0.4353 - root_mean_squared_error: 0.6598"
     ]
    },
    {
     "name": "stderr",
     "output_type": "stream",
     "text": [
      "WARNING:absl:Found untraced functions such as lstm_cell_15_layer_call_fn, lstm_cell_15_layer_call_and_return_conditional_losses, lstm_cell_15_layer_call_fn, lstm_cell_15_layer_call_and_return_conditional_losses, lstm_cell_15_layer_call_and_return_conditional_losses while saving (showing 5 of 5). These functions will not be directly callable after loading.\n"
     ]
    },
    {
     "name": "stdout",
     "output_type": "stream",
     "text": [
      "INFO:tensorflow:Assets written to: /Users/yukahatori/A_Fairness/FairnessML_git/NOAA_and_CAISO_Data_ONEYEAR/model1/assets\n"
     ]
    },
    {
     "name": "stderr",
     "output_type": "stream",
     "text": [
      "INFO:tensorflow:Assets written to: /Users/yukahatori/A_Fairness/FairnessML_git/NOAA_and_CAISO_Data_ONEYEAR/model1/assets\n",
      "WARNING:absl:<keras.layers.recurrent.LSTMCell object at 0x7f9c3e19df10> has the same name 'LSTMCell' as a built-in Keras object. Consider renaming <class 'keras.layers.recurrent.LSTMCell'> to avoid naming conflicts when loading with `tf.keras.models.load_model`. If renaming is not possible, pass the object in the `custom_objects` parameter of the load function.\n"
     ]
    },
    {
     "name": "stdout",
     "output_type": "stream",
     "text": [
      "165/165 [==============================] - 4s 23ms/step - loss: 0.4331 - root_mean_squared_error: 0.6581 - val_loss: 0.9468 - val_root_mean_squared_error: 0.9730\n",
      "Epoch 12/20\n",
      "150/165 [==========================>...] - ETA: 0s - loss: 0.3892 - root_mean_squared_error: 0.6239"
     ]
    },
    {
     "name": "stderr",
     "output_type": "stream",
     "text": [
      "WARNING:absl:Found untraced functions such as lstm_cell_15_layer_call_fn, lstm_cell_15_layer_call_and_return_conditional_losses, lstm_cell_15_layer_call_fn, lstm_cell_15_layer_call_and_return_conditional_losses, lstm_cell_15_layer_call_and_return_conditional_losses while saving (showing 5 of 5). These functions will not be directly callable after loading.\n"
     ]
    },
    {
     "name": "stdout",
     "output_type": "stream",
     "text": [
      "INFO:tensorflow:Assets written to: /Users/yukahatori/A_Fairness/FairnessML_git/NOAA_and_CAISO_Data_ONEYEAR/model1/assets\n"
     ]
    },
    {
     "name": "stderr",
     "output_type": "stream",
     "text": [
      "INFO:tensorflow:Assets written to: /Users/yukahatori/A_Fairness/FairnessML_git/NOAA_and_CAISO_Data_ONEYEAR/model1/assets\n",
      "WARNING:absl:<keras.layers.recurrent.LSTMCell object at 0x7f9c3e19df10> has the same name 'LSTMCell' as a built-in Keras object. Consider renaming <class 'keras.layers.recurrent.LSTMCell'> to avoid naming conflicts when loading with `tf.keras.models.load_model`. If renaming is not possible, pass the object in the `custom_objects` parameter of the load function.\n"
     ]
    },
    {
     "name": "stdout",
     "output_type": "stream",
     "text": [
      "165/165 [==============================] - 3s 19ms/step - loss: 0.3901 - root_mean_squared_error: 0.6246 - val_loss: 0.8332 - val_root_mean_squared_error: 0.9128\n",
      "Epoch 13/20\n",
      "154/165 [===========================>..] - ETA: 0s - loss: 0.3697 - root_mean_squared_error: 0.6080"
     ]
    },
    {
     "name": "stderr",
     "output_type": "stream",
     "text": [
      "WARNING:absl:Found untraced functions such as lstm_cell_15_layer_call_fn, lstm_cell_15_layer_call_and_return_conditional_losses, lstm_cell_15_layer_call_fn, lstm_cell_15_layer_call_and_return_conditional_losses, lstm_cell_15_layer_call_and_return_conditional_losses while saving (showing 5 of 5). These functions will not be directly callable after loading.\n"
     ]
    },
    {
     "name": "stdout",
     "output_type": "stream",
     "text": [
      "INFO:tensorflow:Assets written to: /Users/yukahatori/A_Fairness/FairnessML_git/NOAA_and_CAISO_Data_ONEYEAR/model1/assets\n"
     ]
    },
    {
     "name": "stderr",
     "output_type": "stream",
     "text": [
      "INFO:tensorflow:Assets written to: /Users/yukahatori/A_Fairness/FairnessML_git/NOAA_and_CAISO_Data_ONEYEAR/model1/assets\n",
      "WARNING:absl:<keras.layers.recurrent.LSTMCell object at 0x7f9c3e19df10> has the same name 'LSTMCell' as a built-in Keras object. Consider renaming <class 'keras.layers.recurrent.LSTMCell'> to avoid naming conflicts when loading with `tf.keras.models.load_model`. If renaming is not possible, pass the object in the `custom_objects` parameter of the load function.\n"
     ]
    },
    {
     "name": "stdout",
     "output_type": "stream",
     "text": [
      "165/165 [==============================] - 4s 24ms/step - loss: 0.3662 - root_mean_squared_error: 0.6052 - val_loss: 0.8227 - val_root_mean_squared_error: 0.9070\n",
      "Epoch 14/20\n",
      "165/165 [==============================] - 1s 3ms/step - loss: 0.3558 - root_mean_squared_error: 0.5965 - val_loss: 0.8471 - val_root_mean_squared_error: 0.9204\n",
      "Epoch 15/20\n",
      "165/165 [==============================] - 1s 4ms/step - loss: 0.3246 - root_mean_squared_error: 0.5698 - val_loss: 1.0127 - val_root_mean_squared_error: 1.0063\n",
      "Epoch 16/20\n",
      "158/165 [===========================>..] - ETA: 0s - loss: 0.3128 - root_mean_squared_error: 0.5592"
     ]
    },
    {
     "name": "stderr",
     "output_type": "stream",
     "text": [
      "WARNING:absl:Found untraced functions such as lstm_cell_15_layer_call_fn, lstm_cell_15_layer_call_and_return_conditional_losses, lstm_cell_15_layer_call_fn, lstm_cell_15_layer_call_and_return_conditional_losses, lstm_cell_15_layer_call_and_return_conditional_losses while saving (showing 5 of 5). These functions will not be directly callable after loading.\n"
     ]
    },
    {
     "name": "stdout",
     "output_type": "stream",
     "text": [
      "INFO:tensorflow:Assets written to: /Users/yukahatori/A_Fairness/FairnessML_git/NOAA_and_CAISO_Data_ONEYEAR/model1/assets\n"
     ]
    },
    {
     "name": "stderr",
     "output_type": "stream",
     "text": [
      "INFO:tensorflow:Assets written to: /Users/yukahatori/A_Fairness/FairnessML_git/NOAA_and_CAISO_Data_ONEYEAR/model1/assets\n",
      "WARNING:absl:<keras.layers.recurrent.LSTMCell object at 0x7f9c3e19df10> has the same name 'LSTMCell' as a built-in Keras object. Consider renaming <class 'keras.layers.recurrent.LSTMCell'> to avoid naming conflicts when loading with `tf.keras.models.load_model`. If renaming is not possible, pass the object in the `custom_objects` parameter of the load function.\n"
     ]
    },
    {
     "name": "stdout",
     "output_type": "stream",
     "text": [
      "165/165 [==============================] - 4s 22ms/step - loss: 0.3119 - root_mean_squared_error: 0.5585 - val_loss: 0.6259 - val_root_mean_squared_error: 0.7911\n",
      "Epoch 17/20\n",
      "155/165 [===========================>..] - ETA: 0s - loss: 0.2941 - root_mean_squared_error: 0.5423"
     ]
    },
    {
     "name": "stderr",
     "output_type": "stream",
     "text": [
      "WARNING:absl:Found untraced functions such as lstm_cell_15_layer_call_fn, lstm_cell_15_layer_call_and_return_conditional_losses, lstm_cell_15_layer_call_fn, lstm_cell_15_layer_call_and_return_conditional_losses, lstm_cell_15_layer_call_and_return_conditional_losses while saving (showing 5 of 5). These functions will not be directly callable after loading.\n"
     ]
    },
    {
     "name": "stdout",
     "output_type": "stream",
     "text": [
      "INFO:tensorflow:Assets written to: /Users/yukahatori/A_Fairness/FairnessML_git/NOAA_and_CAISO_Data_ONEYEAR/model1/assets\n"
     ]
    },
    {
     "name": "stderr",
     "output_type": "stream",
     "text": [
      "INFO:tensorflow:Assets written to: /Users/yukahatori/A_Fairness/FairnessML_git/NOAA_and_CAISO_Data_ONEYEAR/model1/assets\n",
      "WARNING:absl:<keras.layers.recurrent.LSTMCell object at 0x7f9c3e19df10> has the same name 'LSTMCell' as a built-in Keras object. Consider renaming <class 'keras.layers.recurrent.LSTMCell'> to avoid naming conflicts when loading with `tf.keras.models.load_model`. If renaming is not possible, pass the object in the `custom_objects` parameter of the load function.\n"
     ]
    },
    {
     "name": "stdout",
     "output_type": "stream",
     "text": [
      "165/165 [==============================] - 4s 22ms/step - loss: 0.2941 - root_mean_squared_error: 0.5423 - val_loss: 0.5400 - val_root_mean_squared_error: 0.7348\n",
      "Epoch 18/20\n",
      "165/165 [==============================] - 1s 4ms/step - loss: 0.2797 - root_mean_squared_error: 0.5289 - val_loss: 0.7352 - val_root_mean_squared_error: 0.8574\n",
      "Epoch 19/20\n",
      "165/165 [==============================] - 1s 3ms/step - loss: 0.2646 - root_mean_squared_error: 0.5144 - val_loss: 0.5400 - val_root_mean_squared_error: 0.7348\n",
      "Epoch 20/20\n",
      "165/165 [==============================] - 1s 4ms/step - loss: 0.2700 - root_mean_squared_error: 0.5196 - val_loss: 0.6092 - val_root_mean_squared_error: 0.7805\n"
     ]
    },
    {
     "data": {
      "text/plain": [
       "<keras.callbacks.History at 0x7f9c38decca0>"
      ]
     },
     "execution_count": 211,
     "metadata": {},
     "output_type": "execute_result"
    }
   ],
   "source": [
    "# epochs - each sample in the training dataset has had an opportunity to update the internal model parameters\n",
    "# callbacks - an object that can perform actions at various stages of training\n",
    "model1.fit(X_train, y_train, validation_data=(X_val, y_val), epochs = 20, callbacks = [cp])"
   ]
  },
  {
   "cell_type": "code",
   "execution_count": 212,
   "id": "ce1e9a9b",
   "metadata": {},
   "outputs": [],
   "source": [
    "from tensorflow.keras.models import load_model\n",
    "model1 = load_model(directory+ 'model1/')"
   ]
  },
  {
   "cell_type": "code",
   "execution_count": 213,
   "id": "bd7f5e7a",
   "metadata": {},
   "outputs": [
    {
     "data": {
      "text/html": [
       "<div>\n",
       "<style scoped>\n",
       "    .dataframe tbody tr th:only-of-type {\n",
       "        vertical-align: middle;\n",
       "    }\n",
       "\n",
       "    .dataframe tbody tr th {\n",
       "        vertical-align: top;\n",
       "    }\n",
       "\n",
       "    .dataframe thead th {\n",
       "        text-align: right;\n",
       "    }\n",
       "</style>\n",
       "<table border=\"1\" class=\"dataframe\">\n",
       "  <thead>\n",
       "    <tr style=\"text-align: right;\">\n",
       "      <th></th>\n",
       "      <th>Train Predictions</th>\n",
       "      <th>Actuals</th>\n",
       "    </tr>\n",
       "  </thead>\n",
       "  <tbody>\n",
       "    <tr>\n",
       "      <th>0</th>\n",
       "      <td>47.081478</td>\n",
       "      <td>46.6</td>\n",
       "    </tr>\n",
       "    <tr>\n",
       "      <th>1</th>\n",
       "      <td>47.024715</td>\n",
       "      <td>46.6</td>\n",
       "    </tr>\n",
       "    <tr>\n",
       "      <th>2</th>\n",
       "      <td>47.161335</td>\n",
       "      <td>46.8</td>\n",
       "    </tr>\n",
       "    <tr>\n",
       "      <th>3</th>\n",
       "      <td>47.477604</td>\n",
       "      <td>47.2</td>\n",
       "    </tr>\n",
       "    <tr>\n",
       "      <th>4</th>\n",
       "      <td>47.977688</td>\n",
       "      <td>48.9</td>\n",
       "    </tr>\n",
       "    <tr>\n",
       "      <th>...</th>\n",
       "      <td>...</td>\n",
       "      <td>...</td>\n",
       "    </tr>\n",
       "    <tr>\n",
       "      <th>5248</th>\n",
       "      <td>59.021385</td>\n",
       "      <td>59.9</td>\n",
       "    </tr>\n",
       "    <tr>\n",
       "      <th>5249</th>\n",
       "      <td>59.365486</td>\n",
       "      <td>59.5</td>\n",
       "    </tr>\n",
       "    <tr>\n",
       "      <th>5250</th>\n",
       "      <td>59.203266</td>\n",
       "      <td>59.1</td>\n",
       "    </tr>\n",
       "    <tr>\n",
       "      <th>5251</th>\n",
       "      <td>58.834244</td>\n",
       "      <td>58.7</td>\n",
       "    </tr>\n",
       "    <tr>\n",
       "      <th>5252</th>\n",
       "      <td>58.438705</td>\n",
       "      <td>58.4</td>\n",
       "    </tr>\n",
       "  </tbody>\n",
       "</table>\n",
       "<p>5253 rows × 2 columns</p>\n",
       "</div>"
      ],
      "text/plain": [
       "      Train Predictions  Actuals\n",
       "0             47.081478     46.6\n",
       "1             47.024715     46.6\n",
       "2             47.161335     46.8\n",
       "3             47.477604     47.2\n",
       "4             47.977688     48.9\n",
       "...                 ...      ...\n",
       "5248          59.021385     59.9\n",
       "5249          59.365486     59.5\n",
       "5250          59.203266     59.1\n",
       "5251          58.834244     58.7\n",
       "5252          58.438705     58.4\n",
       "\n",
       "[5253 rows x 2 columns]"
      ]
     },
     "execution_count": 213,
     "metadata": {},
     "output_type": "execute_result"
    }
   ],
   "source": [
    "train_predictions = model1.predict(X_train).flatten()\n",
    "train_results = pd.DataFrame(data = {'Train Predictions': train_predictions, 'Actuals':y_train})\n",
    "train_results"
   ]
  },
  {
   "cell_type": "code",
   "execution_count": 214,
   "id": "818db3a5",
   "metadata": {},
   "outputs": [
    {
     "data": {
      "text/plain": [
       "[<matplotlib.lines.Line2D at 0x7f9c4ed7b8b0>]"
      ]
     },
     "execution_count": 214,
     "metadata": {},
     "output_type": "execute_result"
    },
    {
     "data": {
      "image/png": "[encoded data removed]",
      "text/plain": [
       "<Figure size 432x288 with 1 Axes>"
      ]
     },
     "metadata": {
      "needs_background": "light"
     },
     "output_type": "display_data"
    }
   ],
   "source": [
    "import matplotlib.pyplot as plt\n",
    "plt.plot(train_results['Train Predictions'][:], color = 'red')\n",
    "plt.plot(train_results['Actuals'][:], color = 'green')"
   ]
  },
  {
   "cell_type": "code",
   "execution_count": 215,
   "id": "dcc049d0",
   "metadata": {},
   "outputs": [
    {
     "data": {
      "text/html": [
       "<div>\n",
       "<style scoped>\n",
       "    .dataframe tbody tr th:only-of-type {\n",
       "        vertical-align: middle;\n",
       "    }\n",
       "\n",
       "    .dataframe tbody tr th {\n",
       "        vertical-align: top;\n",
       "    }\n",
       "\n",
       "    .dataframe thead th {\n",
       "        text-align: right;\n",
       "    }\n",
       "</style>\n",
       "<table border=\"1\" class=\"dataframe\">\n",
       "  <thead>\n",
       "    <tr style=\"text-align: right;\">\n",
       "      <th></th>\n",
       "      <th>Val Predictions</th>\n",
       "      <th>Actuals</th>\n",
       "    </tr>\n",
       "  </thead>\n",
       "  <tbody>\n",
       "    <tr>\n",
       "      <th>0</th>\n",
       "      <td>58.206341</td>\n",
       "      <td>58.1</td>\n",
       "    </tr>\n",
       "    <tr>\n",
       "      <th>1</th>\n",
       "      <td>57.924030</td>\n",
       "      <td>57.8</td>\n",
       "    </tr>\n",
       "    <tr>\n",
       "      <th>2</th>\n",
       "      <td>57.622128</td>\n",
       "      <td>57.6</td>\n",
       "    </tr>\n",
       "    <tr>\n",
       "      <th>3</th>\n",
       "      <td>57.486797</td>\n",
       "      <td>57.5</td>\n",
       "    </tr>\n",
       "    <tr>\n",
       "      <th>4</th>\n",
       "      <td>57.470119</td>\n",
       "      <td>57.9</td>\n",
       "    </tr>\n",
       "    <tr>\n",
       "      <th>...</th>\n",
       "      <td>...</td>\n",
       "      <td>...</td>\n",
       "    </tr>\n",
       "    <tr>\n",
       "      <th>1746</th>\n",
       "      <td>59.886166</td>\n",
       "      <td>60.4</td>\n",
       "    </tr>\n",
       "    <tr>\n",
       "      <th>1747</th>\n",
       "      <td>59.774693</td>\n",
       "      <td>59.8</td>\n",
       "    </tr>\n",
       "    <tr>\n",
       "      <th>1748</th>\n",
       "      <td>59.319382</td>\n",
       "      <td>59.2</td>\n",
       "    </tr>\n",
       "    <tr>\n",
       "      <th>1749</th>\n",
       "      <td>58.758533</td>\n",
       "      <td>58.4</td>\n",
       "    </tr>\n",
       "    <tr>\n",
       "      <th>1750</th>\n",
       "      <td>57.835903</td>\n",
       "      <td>57.8</td>\n",
       "    </tr>\n",
       "  </tbody>\n",
       "</table>\n",
       "<p>1751 rows × 2 columns</p>\n",
       "</div>"
      ],
      "text/plain": [
       "      Val Predictions  Actuals\n",
       "0           58.206341     58.1\n",
       "1           57.924030     57.8\n",
       "2           57.622128     57.6\n",
       "3           57.486797     57.5\n",
       "4           57.470119     57.9\n",
       "...               ...      ...\n",
       "1746        59.886166     60.4\n",
       "1747        59.774693     59.8\n",
       "1748        59.319382     59.2\n",
       "1749        58.758533     58.4\n",
       "1750        57.835903     57.8\n",
       "\n",
       "[1751 rows x 2 columns]"
      ]
     },
     "execution_count": 215,
     "metadata": {},
     "output_type": "execute_result"
    }
   ],
   "source": [
    "val_predictions = model1.predict(X_val).flatten()\n",
    "val_results = pd.DataFrame(data = {'Val Predictions': val_predictions, 'Actuals':y_val})\n",
    "val_results"
   ]
  },
  {
   "cell_type": "code",
   "execution_count": 216,
   "id": "4b9670b4",
   "metadata": {},
   "outputs": [
    {
     "data": {
      "text/plain": [
       "[<matplotlib.lines.Line2D at 0x7f9c3cf826a0>]"
      ]
     },
     "execution_count": 216,
     "metadata": {},
     "output_type": "execute_result"
    },
    {
     "data": {
      "image/png": "[encoded data removed]",
      "text/plain": [
       "<Figure size 432x288 with 1 Axes>"
      ]
     },
     "metadata": {
      "needs_background": "light"
     },
     "output_type": "display_data"
    }
   ],
   "source": [
    "plt.plot(val_results['Val Predictions'][:150], color = 'red')\n",
    "plt.plot(val_results['Actuals'][:150], color = 'green')"
   ]
  },
  {
   "cell_type": "markdown",
   "id": "6f37dcc2",
   "metadata": {},
   "source": [
    "# Part 2 : https://www.youtube.com/watch?v=kGdbPnMCdOg"
   ]
  },
  {
   "cell_type": "code",
   "execution_count": 217,
   "id": "8c4b6d62",
   "metadata": {},
   "outputs": [],
   "source": [
    "from sklearn.metrics import mean_squared_error as mse\n",
    "def plot_predictions1(model, X, y, start = 0, end = 100):\n",
    "    predictions = model.predict(X).flatten()\n",
    "    df = pd.DataFrame(data = {'Predictions':predictions, 'Actuals':y})\n",
    "    plt.plot(df['Predictions'][start:end], color = 'red')\n",
    "    plt.plot(df['Actuals'][start:end], color = 'green')\n",
    "    return df, mse(y, predictions)\n",
    "    "
   ]
  },
  {
   "cell_type": "code",
   "execution_count": 218,
   "id": "d315e9f6",
   "metadata": {},
   "outputs": [
    {
     "data": {
      "text/plain": [
       "(      Predictions  Actuals\n",
       " 0       57.331051     57.4\n",
       " 1       57.096775     56.6\n",
       " 2       56.062099     56.1\n",
       " 3       55.680553     55.8\n",
       " 4       55.556263     55.6\n",
       " ...           ...      ...\n",
       " 1746    51.601536     51.5\n",
       " 1747    50.992172     51.0\n",
       " 1748    50.664448     50.5\n",
       " 1749    50.240597     49.8\n",
       " 1750    49.486736     49.4\n",
       " \n",
       " [1751 rows x 2 columns],\n",
       " 0.29690509745754357)"
      ]
     },
     "execution_count": 218,
     "metadata": {},
     "output_type": "execute_result"
    },
    {
     "data": {
      "image/png": "[encoded data removed]",
      "text/plain": [
       "<Figure size 432x288 with 1 Axes>"
      ]
     },
     "metadata": {
      "needs_background": "light"
     },
     "output_type": "display_data"
    }
   ],
   "source": [
    "plot_predictions1(model1, X_test, y_test)"
   ]
  },
  {
   "cell_type": "code",
   "execution_count": 219,
   "id": "cddfb58c",
   "metadata": {},
   "outputs": [
    {
     "name": "stdout",
     "output_type": "stream",
     "text": [
      "Model: \"sequential_11\"\n",
      "_________________________________________________________________\n",
      " Layer (type)                Output Shape              Param #   \n",
      "=================================================================\n",
      " conv1d_1 (Conv1D)           (None, 4, 64)             192       \n",
      "                                                                 \n",
      " flatten_2 (Flatten)         (None, 256)               0         \n",
      "                                                                 \n",
      " dense_22 (Dense)            (None, 8)                 2056      \n",
      "                                                                 \n",
      " dense_23 (Dense)            (None, 1)                 9         \n",
      "                                                                 \n",
      "=================================================================\n",
      "Total params: 2,257\n",
      "Trainable params: 2,257\n",
      "Non-trainable params: 0\n",
      "_________________________________________________________________\n"
     ]
    }
   ],
   "source": [
    "model2 = Sequential()\n",
    "#from X_train.shape which is 6000, 5, 1\n",
    "model2.add(InputLayer((5,1)))\n",
    "model2.add(Conv1D(64, kernel_size = 2)) #how many windows do we want to slide across\n",
    "model2.add(Flatten())\n",
    "model2.add(Dense(8, 'relu'))\n",
    "model2.add(Dense(1, 'linear')) #linear value, pos or neg (for temp)\n",
    "model2.summary()"
   ]
  },
  {
   "cell_type": "code",
   "execution_count": 220,
   "id": "009571f0",
   "metadata": {},
   "outputs": [],
   "source": [
    "cp2 = ModelCheckpoint(directory+ 'model2/', save_best_only = True) #I want to only save the best model (lowest validation loss)\n",
    "#learning rate = higher the value, faster model tries to decrease loss\n",
    "#but we don't want to dec super fast bc it won't find local min/max\n",
    "model2.compile(loss = MeanSquaredError(), optimizer =Adam(learning_rate = 0.001), metrics = [RootMeanSquaredError()])"
   ]
  },
  {
   "cell_type": "code",
   "execution_count": 221,
   "id": "77079bd4",
   "metadata": {},
   "outputs": [
    {
     "name": "stdout",
     "output_type": "stream",
     "text": [
      "Epoch 1/20\n",
      "154/165 [===========================>..] - ETA: 0s - loss: 889.4326 - root_mean_squared_error: 29.8234 INFO:tensorflow:Assets written to: /Users/yukahatori/A_Fairness/FairnessML_git/NOAA_and_CAISO_Data_ONEYEAR/model2/assets\n"
     ]
    },
    {
     "name": "stderr",
     "output_type": "stream",
     "text": [
      "INFO:tensorflow:Assets written to: /Users/yukahatori/A_Fairness/FairnessML_git/NOAA_and_CAISO_Data_ONEYEAR/model2/assets\n"
     ]
    },
    {
     "name": "stdout",
     "output_type": "stream",
     "text": [
      "165/165 [==============================] - 1s 5ms/step - loss: 835.1257 - root_mean_squared_error: 28.8985 - val_loss: 15.9605 - val_root_mean_squared_error: 3.9951\n",
      "Epoch 2/20\n",
      "121/165 [=====================>........] - ETA: 0s - loss: 10.9268 - root_mean_squared_error: 3.3056INFO:tensorflow:Assets written to: /Users/yukahatori/A_Fairness/FairnessML_git/NOAA_and_CAISO_Data_ONEYEAR/model2/assets\n"
     ]
    },
    {
     "name": "stderr",
     "output_type": "stream",
     "text": [
      "INFO:tensorflow:Assets written to: /Users/yukahatori/A_Fairness/FairnessML_git/NOAA_and_CAISO_Data_ONEYEAR/model2/assets\n"
     ]
    },
    {
     "name": "stdout",
     "output_type": "stream",
     "text": [
      "165/165 [==============================] - 1s 5ms/step - loss: 10.8632 - root_mean_squared_error: 3.2959 - val_loss: 15.7997 - val_root_mean_squared_error: 3.9749\n",
      "Epoch 3/20\n",
      "125/165 [=====================>........] - ETA: 0s - loss: 10.6447 - root_mean_squared_error: 3.2626INFO:tensorflow:Assets written to: /Users/yukahatori/A_Fairness/FairnessML_git/NOAA_and_CAISO_Data_ONEYEAR/model2/assets\n"
     ]
    },
    {
     "name": "stderr",
     "output_type": "stream",
     "text": [
      "INFO:tensorflow:Assets written to: /Users/yukahatori/A_Fairness/FairnessML_git/NOAA_and_CAISO_Data_ONEYEAR/model2/assets\n"
     ]
    },
    {
     "name": "stdout",
     "output_type": "stream",
     "text": [
      "165/165 [==============================] - 1s 5ms/step - loss: 10.7019 - root_mean_squared_error: 3.2714 - val_loss: 15.5322 - val_root_mean_squared_error: 3.9411\n",
      "Epoch 4/20\n",
      "147/165 [=========================>....] - ETA: 0s - loss: 10.4879 - root_mean_squared_error: 3.2385INFO:tensorflow:Assets written to: /Users/yukahatori/A_Fairness/FairnessML_git/NOAA_and_CAISO_Data_ONEYEAR/model2/assets\n"
     ]
    },
    {
     "name": "stderr",
     "output_type": "stream",
     "text": [
      "INFO:tensorflow:Assets written to: /Users/yukahatori/A_Fairness/FairnessML_git/NOAA_and_CAISO_Data_ONEYEAR/model2/assets\n"
     ]
    },
    {
     "name": "stdout",
     "output_type": "stream",
     "text": [
      "165/165 [==============================] - 1s 5ms/step - loss: 10.5343 - root_mean_squared_error: 3.2457 - val_loss: 15.2612 - val_root_mean_squared_error: 3.9066\n",
      "Epoch 5/20\n",
      "144/165 [=========================>....] - ETA: 0s - loss: 10.3429 - root_mean_squared_error: 3.2160INFO:tensorflow:Assets written to: /Users/yukahatori/A_Fairness/FairnessML_git/NOAA_and_CAISO_Data_ONEYEAR/model2/assets\n"
     ]
    },
    {
     "name": "stderr",
     "output_type": "stream",
     "text": [
      "INFO:tensorflow:Assets written to: /Users/yukahatori/A_Fairness/FairnessML_git/NOAA_and_CAISO_Data_ONEYEAR/model2/assets\n"
     ]
    },
    {
     "name": "stdout",
     "output_type": "stream",
     "text": [
      "165/165 [==============================] - 1s 5ms/step - loss: 10.3288 - root_mean_squared_error: 3.2139 - val_loss: 14.9274 - val_root_mean_squared_error: 3.8636\n",
      "Epoch 6/20\n",
      "159/165 [===========================>..] - ETA: 0s - loss: 10.0781 - root_mean_squared_error: 3.1746INFO:tensorflow:Assets written to: /Users/yukahatori/A_Fairness/FairnessML_git/NOAA_and_CAISO_Data_ONEYEAR/model2/assets\n"
     ]
    },
    {
     "name": "stderr",
     "output_type": "stream",
     "text": [
      "INFO:tensorflow:Assets written to: /Users/yukahatori/A_Fairness/FairnessML_git/NOAA_and_CAISO_Data_ONEYEAR/model2/assets\n"
     ]
    },
    {
     "name": "stdout",
     "output_type": "stream",
     "text": [
      "165/165 [==============================] - 1s 4ms/step - loss: 10.0728 - root_mean_squared_error: 3.1738 - val_loss: 14.5182 - val_root_mean_squared_error: 3.8103\n",
      "Epoch 7/20\n",
      "154/165 [===========================>..] - ETA: 0s - loss: 9.8247 - root_mean_squared_error: 3.1344INFO:tensorflow:Assets written to: /Users/yukahatori/A_Fairness/FairnessML_git/NOAA_and_CAISO_Data_ONEYEAR/model2/assets\n"
     ]
    },
    {
     "name": "stderr",
     "output_type": "stream",
     "text": [
      "INFO:tensorflow:Assets written to: /Users/yukahatori/A_Fairness/FairnessML_git/NOAA_and_CAISO_Data_ONEYEAR/model2/assets\n"
     ]
    },
    {
     "name": "stdout",
     "output_type": "stream",
     "text": [
      "165/165 [==============================] - 1s 5ms/step - loss: 9.8445 - root_mean_squared_error: 3.1376 - val_loss: 14.1011 - val_root_mean_squared_error: 3.7551\n",
      "Epoch 8/20\n",
      "158/165 [===========================>..] - ETA: 0s - loss: 9.4560 - root_mean_squared_error: 3.0751INFO:tensorflow:Assets written to: /Users/yukahatori/A_Fairness/FairnessML_git/NOAA_and_CAISO_Data_ONEYEAR/model2/assets\n"
     ]
    },
    {
     "name": "stderr",
     "output_type": "stream",
     "text": [
      "INFO:tensorflow:Assets written to: /Users/yukahatori/A_Fairness/FairnessML_git/NOAA_and_CAISO_Data_ONEYEAR/model2/assets\n"
     ]
    },
    {
     "name": "stdout",
     "output_type": "stream",
     "text": [
      "165/165 [==============================] - 1s 4ms/step - loss: 9.4958 - root_mean_squared_error: 3.0815 - val_loss: 13.6620 - val_root_mean_squared_error: 3.6962\n",
      "Epoch 9/20\n",
      "160/165 [============================>.] - ETA: 0s - loss: 9.1751 - root_mean_squared_error: 3.0290INFO:tensorflow:Assets written to: /Users/yukahatori/A_Fairness/FairnessML_git/NOAA_and_CAISO_Data_ONEYEAR/model2/assets\n"
     ]
    },
    {
     "name": "stderr",
     "output_type": "stream",
     "text": [
      "INFO:tensorflow:Assets written to: /Users/yukahatori/A_Fairness/FairnessML_git/NOAA_and_CAISO_Data_ONEYEAR/model2/assets\n"
     ]
    },
    {
     "name": "stdout",
     "output_type": "stream",
     "text": [
      "165/165 [==============================] - 1s 4ms/step - loss: 9.1847 - root_mean_squared_error: 3.0306 - val_loss: 13.1742 - val_root_mean_squared_error: 3.6296\n",
      "Epoch 10/20\n",
      "158/165 [===========================>..] - ETA: 0s - loss: 8.9177 - root_mean_squared_error: 2.9863INFO:tensorflow:Assets written to: /Users/yukahatori/A_Fairness/FairnessML_git/NOAA_and_CAISO_Data_ONEYEAR/model2/assets\n"
     ]
    },
    {
     "name": "stderr",
     "output_type": "stream",
     "text": [
      "INFO:tensorflow:Assets written to: /Users/yukahatori/A_Fairness/FairnessML_git/NOAA_and_CAISO_Data_ONEYEAR/model2/assets\n"
     ]
    },
    {
     "name": "stdout",
     "output_type": "stream",
     "text": [
      "165/165 [==============================] - 1s 4ms/step - loss: 8.8834 - root_mean_squared_error: 2.9805 - val_loss: 12.6067 - val_root_mean_squared_error: 3.5506\n",
      "Epoch 11/20\n",
      "132/165 [=======================>......] - ETA: 0s - loss: 8.5015 - root_mean_squared_error: 2.9157INFO:tensorflow:Assets written to: /Users/yukahatori/A_Fairness/FairnessML_git/NOAA_and_CAISO_Data_ONEYEAR/model2/assets\n"
     ]
    },
    {
     "name": "stderr",
     "output_type": "stream",
     "text": [
      "INFO:tensorflow:Assets written to: /Users/yukahatori/A_Fairness/FairnessML_git/NOAA_and_CAISO_Data_ONEYEAR/model2/assets\n"
     ]
    },
    {
     "name": "stdout",
     "output_type": "stream",
     "text": [
      "165/165 [==============================] - 1s 5ms/step - loss: 8.4416 - root_mean_squared_error: 2.9054 - val_loss: 12.1055 - val_root_mean_squared_error: 3.4793\n",
      "Epoch 12/20\n",
      "164/165 [============================>.] - ETA: 0s - loss: 8.0702 - root_mean_squared_error: 2.8408INFO:tensorflow:Assets written to: /Users/yukahatori/A_Fairness/FairnessML_git/NOAA_and_CAISO_Data_ONEYEAR/model2/assets\n"
     ]
    },
    {
     "name": "stderr",
     "output_type": "stream",
     "text": [
      "INFO:tensorflow:Assets written to: /Users/yukahatori/A_Fairness/FairnessML_git/NOAA_and_CAISO_Data_ONEYEAR/model2/assets\n"
     ]
    },
    {
     "name": "stdout",
     "output_type": "stream",
     "text": [
      "165/165 [==============================] - 1s 4ms/step - loss: 8.0645 - root_mean_squared_error: 2.8398 - val_loss: 11.4394 - val_root_mean_squared_error: 3.3822\n",
      "Epoch 13/20\n",
      "118/165 [====================>.........] - ETA: 0s - loss: 7.7612 - root_mean_squared_error: 2.7859INFO:tensorflow:Assets written to: /Users/yukahatori/A_Fairness/FairnessML_git/NOAA_and_CAISO_Data_ONEYEAR/model2/assets\n"
     ]
    },
    {
     "name": "stderr",
     "output_type": "stream",
     "text": [
      "INFO:tensorflow:Assets written to: /Users/yukahatori/A_Fairness/FairnessML_git/NOAA_and_CAISO_Data_ONEYEAR/model2/assets\n"
     ]
    },
    {
     "name": "stdout",
     "output_type": "stream",
     "text": [
      "165/165 [==============================] - 1s 4ms/step - loss: 7.6740 - root_mean_squared_error: 2.7702 - val_loss: 10.9158 - val_root_mean_squared_error: 3.3039\n",
      "Epoch 14/20\n",
      "122/165 [=====================>........] - ETA: 0s - loss: 7.1711 - root_mean_squared_error: 2.6779INFO:tensorflow:Assets written to: /Users/yukahatori/A_Fairness/FairnessML_git/NOAA_and_CAISO_Data_ONEYEAR/model2/assets\n"
     ]
    },
    {
     "name": "stderr",
     "output_type": "stream",
     "text": [
      "INFO:tensorflow:Assets written to: /Users/yukahatori/A_Fairness/FairnessML_git/NOAA_and_CAISO_Data_ONEYEAR/model2/assets\n"
     ]
    },
    {
     "name": "stdout",
     "output_type": "stream",
     "text": [
      "165/165 [==============================] - 1s 4ms/step - loss: 7.1959 - root_mean_squared_error: 2.6825 - val_loss: 10.1860 - val_root_mean_squared_error: 3.1916\n",
      "Epoch 15/20\n",
      "114/165 [===================>..........] - ETA: 0s - loss: 6.7283 - root_mean_squared_error: 2.5939INFO:tensorflow:Assets written to: /Users/yukahatori/A_Fairness/FairnessML_git/NOAA_and_CAISO_Data_ONEYEAR/model2/assets\n"
     ]
    },
    {
     "name": "stderr",
     "output_type": "stream",
     "text": [
      "INFO:tensorflow:Assets written to: /Users/yukahatori/A_Fairness/FairnessML_git/NOAA_and_CAISO_Data_ONEYEAR/model2/assets\n"
     ]
    },
    {
     "name": "stdout",
     "output_type": "stream",
     "text": [
      "165/165 [==============================] - 1s 4ms/step - loss: 6.7077 - root_mean_squared_error: 2.5899 - val_loss: 9.5135 - val_root_mean_squared_error: 3.0844\n",
      "Epoch 16/20\n",
      "162/165 [============================>.] - ETA: 0s - loss: 6.2321 - root_mean_squared_error: 2.4964INFO:tensorflow:Assets written to: /Users/yukahatori/A_Fairness/FairnessML_git/NOAA_and_CAISO_Data_ONEYEAR/model2/assets\n"
     ]
    },
    {
     "name": "stderr",
     "output_type": "stream",
     "text": [
      "INFO:tensorflow:Assets written to: /Users/yukahatori/A_Fairness/FairnessML_git/NOAA_and_CAISO_Data_ONEYEAR/model2/assets\n"
     ]
    },
    {
     "name": "stdout",
     "output_type": "stream",
     "text": [
      "165/165 [==============================] - 1s 4ms/step - loss: 6.2324 - root_mean_squared_error: 2.4965 - val_loss: 8.7532 - val_root_mean_squared_error: 2.9586\n",
      "Epoch 17/20\n",
      "138/165 [========================>.....] - ETA: 0s - loss: 5.6721 - root_mean_squared_error: 2.3816INFO:tensorflow:Assets written to: /Users/yukahatori/A_Fairness/FairnessML_git/NOAA_and_CAISO_Data_ONEYEAR/model2/assets\n"
     ]
    },
    {
     "name": "stderr",
     "output_type": "stream",
     "text": [
      "INFO:tensorflow:Assets written to: /Users/yukahatori/A_Fairness/FairnessML_git/NOAA_and_CAISO_Data_ONEYEAR/model2/assets\n"
     ]
    },
    {
     "name": "stdout",
     "output_type": "stream",
     "text": [
      "165/165 [==============================] - 1s 4ms/step - loss: 5.7052 - root_mean_squared_error: 2.3886 - val_loss: 8.5838 - val_root_mean_squared_error: 2.9298\n",
      "Epoch 18/20\n",
      "152/165 [==========================>...] - ETA: 0s - loss: 5.1598 - root_mean_squared_error: 2.2715INFO:tensorflow:Assets written to: /Users/yukahatori/A_Fairness/FairnessML_git/NOAA_and_CAISO_Data_ONEYEAR/model2/assets\n"
     ]
    },
    {
     "name": "stderr",
     "output_type": "stream",
     "text": [
      "INFO:tensorflow:Assets written to: /Users/yukahatori/A_Fairness/FairnessML_git/NOAA_and_CAISO_Data_ONEYEAR/model2/assets\n"
     ]
    },
    {
     "name": "stdout",
     "output_type": "stream",
     "text": [
      "165/165 [==============================] - 1s 7ms/step - loss: 5.1695 - root_mean_squared_error: 2.2736 - val_loss: 7.0724 - val_root_mean_squared_error: 2.6594\n",
      "Epoch 19/20\n",
      "150/165 [==========================>...] - ETA: 0s - loss: 4.5920 - root_mean_squared_error: 2.1429INFO:tensorflow:Assets written to: /Users/yukahatori/A_Fairness/FairnessML_git/NOAA_and_CAISO_Data_ONEYEAR/model2/assets\n"
     ]
    },
    {
     "name": "stderr",
     "output_type": "stream",
     "text": [
      "INFO:tensorflow:Assets written to: /Users/yukahatori/A_Fairness/FairnessML_git/NOAA_and_CAISO_Data_ONEYEAR/model2/assets\n"
     ]
    },
    {
     "name": "stdout",
     "output_type": "stream",
     "text": [
      "165/165 [==============================] - 1s 4ms/step - loss: 4.5994 - root_mean_squared_error: 2.1446 - val_loss: 6.8194 - val_root_mean_squared_error: 2.6114\n",
      "Epoch 20/20\n",
      "157/165 [===========================>..] - ETA: 0s - loss: 4.0219 - root_mean_squared_error: 2.0055INFO:tensorflow:Assets written to: /Users/yukahatori/A_Fairness/FairnessML_git/NOAA_and_CAISO_Data_ONEYEAR/model2/assets\n"
     ]
    },
    {
     "name": "stderr",
     "output_type": "stream",
     "text": [
      "INFO:tensorflow:Assets written to: /Users/yukahatori/A_Fairness/FairnessML_git/NOAA_and_CAISO_Data_ONEYEAR/model2/assets\n"
     ]
    },
    {
     "name": "stdout",
     "output_type": "stream",
     "text": [
      "\b\b\b\b\b\b\b\b\b\b\b\b\b\b\b\b\b\b\b\b\b\b\b\b\b\b\b\b\b\b\b\b\b\b\b\b\b\b\b\b\b\b\b\b\b\b\b\b\b\b\b\b\b\b\b\b\b\b\b\b\b\b\b\b\b\b\b\b\b\b\b\b\b\b\b\b\b\b\b\b\b\b\b\b\b\b\b\b\b\b\b\b\b\b\b\b\b\b\b\r",
      "165/165 [==============================] - 1s 5ms/step - loss: 4.0067 - root_mean_squared_error: 2.0017 - val_loss: 5.9201 - val_root_mean_squared_error: 2.4331\n"
     ]
    },
    {
     "data": {
      "text/plain": [
       "<keras.callbacks.History at 0x7f9c41bd92e0>"
      ]
     },
     "execution_count": 221,
     "metadata": {},
     "output_type": "execute_result"
    }
   ],
   "source": [
    "model2.fit(X_train, y_train, validation_data=(X_val, y_val), epochs = 20, callbacks = [cp2])"
   ]
  },
  {
   "cell_type": "code",
   "execution_count": 222,
   "id": "953550d4",
   "metadata": {},
   "outputs": [
    {
     "data": {
      "text/plain": [
       "(      Predictions  Actuals\n",
       " 0       58.890503     57.4\n",
       " 1       58.342361     56.6\n",
       " 2       57.713749     56.1\n",
       " 3       57.136295     55.8\n",
       " 4       56.683701     55.6\n",
       " ...           ...      ...\n",
       " 1746    53.471767     51.5\n",
       " 1747    52.682697     51.0\n",
       " 1748    52.019138     50.5\n",
       " 1749    51.480171     49.8\n",
       " 1750    50.898312     49.4\n",
       " \n",
       " [1751 rows x 2 columns],\n",
       " 3.046847508945856)"
      ]
     },
     "execution_count": 222,
     "metadata": {},
     "output_type": "execute_result"
    },
    {
     "data": {
      "image/png": "[encoded data removed]",
      "text/plain": [
       "<Figure size 432x288 with 1 Axes>"
      ]
     },
     "metadata": {
      "needs_background": "light"
     },
     "output_type": "display_data"
    }
   ],
   "source": [
    "plot_predictions1(model2, X_test, y_test)"
   ]
  },
  {
   "cell_type": "code",
   "execution_count": 223,
   "id": "20371465",
   "metadata": {},
   "outputs": [
    {
     "name": "stdout",
     "output_type": "stream",
     "text": [
      "Model: \"sequential_12\"\n",
      "_________________________________________________________________\n",
      " Layer (type)                Output Shape              Param #   \n",
      "=================================================================\n",
      " gru_1 (GRU)                 (None, 64)                12864     \n",
      "                                                                 \n",
      " flatten_3 (Flatten)         (None, 64)                0         \n",
      "                                                                 \n",
      " dense_24 (Dense)            (None, 8)                 520       \n",
      "                                                                 \n",
      " dense_25 (Dense)            (None, 1)                 9         \n",
      "                                                                 \n",
      "=================================================================\n",
      "Total params: 13,393\n",
      "Trainable params: 13,393\n",
      "Non-trainable params: 0\n",
      "_________________________________________________________________\n"
     ]
    }
   ],
   "source": [
    "model3 = Sequential()\n",
    "#from X_train.shape which is 6000, 5, 1\n",
    "model3.add(InputLayer((5,1)))\n",
    "model3.add(GRU(64)) #how many windows do we want to slide across\n",
    "model3.add(Flatten())\n",
    "model3.add(Dense(8, 'relu'))\n",
    "model3.add(Dense(1, 'linear')) #linear value, pos or neg (for temp)\n",
    "model3.summary()"
   ]
  },
  {
   "cell_type": "code",
   "execution_count": 225,
   "id": "10efa9ab",
   "metadata": {},
   "outputs": [
    {
     "name": "stdout",
     "output_type": "stream",
     "text": [
      "Epoch 1/20\n",
      "163/165 [============================>.] - ETA: 0s - loss: 6.3067 - root_mean_squared_error: 2.5113"
     ]
    },
    {
     "name": "stderr",
     "output_type": "stream",
     "text": [
      "WARNING:absl:Found untraced functions such as gru_cell_1_layer_call_fn, gru_cell_1_layer_call_and_return_conditional_losses, gru_cell_1_layer_call_fn, gru_cell_1_layer_call_and_return_conditional_losses, gru_cell_1_layer_call_and_return_conditional_losses while saving (showing 5 of 5). These functions will not be directly callable after loading.\n"
     ]
    },
    {
     "name": "stdout",
     "output_type": "stream",
     "text": [
      "INFO:tensorflow:Assets written to: /Users/yukahatori/A_Fairness/FairnessML_git/NOAA_and_CAISO_Data_ONEYEAR/model3/assets\n"
     ]
    },
    {
     "name": "stderr",
     "output_type": "stream",
     "text": [
      "INFO:tensorflow:Assets written to: /Users/yukahatori/A_Fairness/FairnessML_git/NOAA_and_CAISO_Data_ONEYEAR/model3/assets\n",
      "WARNING:absl:<keras.layers.recurrent.GRUCell object at 0x7f9c42b995b0> has the same name 'GRUCell' as a built-in Keras object. Consider renaming <class 'keras.layers.recurrent.GRUCell'> to avoid naming conflicts when loading with `tf.keras.models.load_model`. If renaming is not possible, pass the object in the `custom_objects` parameter of the load function.\n"
     ]
    },
    {
     "name": "stdout",
     "output_type": "stream",
     "text": [
      "165/165 [==============================] - 5s 23ms/step - loss: 6.2660 - root_mean_squared_error: 2.5032 - val_loss: 2.0321 - val_root_mean_squared_error: 1.4255\n",
      "Epoch 2/20\n",
      "153/165 [==========================>...] - ETA: 0s - loss: 0.6183 - root_mean_squared_error: 0.7863"
     ]
    },
    {
     "name": "stderr",
     "output_type": "stream",
     "text": [
      "WARNING:absl:Found untraced functions such as gru_cell_1_layer_call_fn, gru_cell_1_layer_call_and_return_conditional_losses, gru_cell_1_layer_call_fn, gru_cell_1_layer_call_and_return_conditional_losses, gru_cell_1_layer_call_and_return_conditional_losses while saving (showing 5 of 5). These functions will not be directly callable after loading.\n"
     ]
    },
    {
     "name": "stdout",
     "output_type": "stream",
     "text": [
      "INFO:tensorflow:Assets written to: /Users/yukahatori/A_Fairness/FairnessML_git/NOAA_and_CAISO_Data_ONEYEAR/model3/assets\n"
     ]
    },
    {
     "name": "stderr",
     "output_type": "stream",
     "text": [
      "INFO:tensorflow:Assets written to: /Users/yukahatori/A_Fairness/FairnessML_git/NOAA_and_CAISO_Data_ONEYEAR/model3/assets\n",
      "WARNING:absl:<keras.layers.recurrent.GRUCell object at 0x7f9c42b995b0> has the same name 'GRUCell' as a built-in Keras object. Consider renaming <class 'keras.layers.recurrent.GRUCell'> to avoid naming conflicts when loading with `tf.keras.models.load_model`. If renaming is not possible, pass the object in the `custom_objects` parameter of the load function.\n"
     ]
    },
    {
     "name": "stdout",
     "output_type": "stream",
     "text": [
      "165/165 [==============================] - 3s 19ms/step - loss: 0.6010 - root_mean_squared_error: 0.7752 - val_loss: 0.8295 - val_root_mean_squared_error: 0.9108\n",
      "Epoch 3/20\n",
      "164/165 [============================>.] - ETA: 0s - loss: 0.3455 - root_mean_squared_error: 0.5878"
     ]
    },
    {
     "name": "stderr",
     "output_type": "stream",
     "text": [
      "WARNING:absl:Found untraced functions such as gru_cell_1_layer_call_fn, gru_cell_1_layer_call_and_return_conditional_losses, gru_cell_1_layer_call_fn, gru_cell_1_layer_call_and_return_conditional_losses, gru_cell_1_layer_call_and_return_conditional_losses while saving (showing 5 of 5). These functions will not be directly callable after loading.\n"
     ]
    },
    {
     "name": "stdout",
     "output_type": "stream",
     "text": [
      "INFO:tensorflow:Assets written to: /Users/yukahatori/A_Fairness/FairnessML_git/NOAA_and_CAISO_Data_ONEYEAR/model3/assets\n"
     ]
    },
    {
     "name": "stderr",
     "output_type": "stream",
     "text": [
      "INFO:tensorflow:Assets written to: /Users/yukahatori/A_Fairness/FairnessML_git/NOAA_and_CAISO_Data_ONEYEAR/model3/assets\n",
      "WARNING:absl:<keras.layers.recurrent.GRUCell object at 0x7f9c42b995b0> has the same name 'GRUCell' as a built-in Keras object. Consider renaming <class 'keras.layers.recurrent.GRUCell'> to avoid naming conflicts when loading with `tf.keras.models.load_model`. If renaming is not possible, pass the object in the `custom_objects` parameter of the load function.\n"
     ]
    },
    {
     "name": "stdout",
     "output_type": "stream",
     "text": [
      "165/165 [==============================] - 4s 22ms/step - loss: 0.3455 - root_mean_squared_error: 0.5878 - val_loss: 0.6444 - val_root_mean_squared_error: 0.8027\n",
      "Epoch 4/20\n",
      "161/165 [============================>.] - ETA: 0s - loss: 0.2554 - root_mean_squared_error: 0.5054"
     ]
    },
    {
     "name": "stderr",
     "output_type": "stream",
     "text": [
      "WARNING:absl:Found untraced functions such as gru_cell_1_layer_call_fn, gru_cell_1_layer_call_and_return_conditional_losses, gru_cell_1_layer_call_fn, gru_cell_1_layer_call_and_return_conditional_losses, gru_cell_1_layer_call_and_return_conditional_losses while saving (showing 5 of 5). These functions will not be directly callable after loading.\n"
     ]
    },
    {
     "name": "stdout",
     "output_type": "stream",
     "text": [
      "INFO:tensorflow:Assets written to: /Users/yukahatori/A_Fairness/FairnessML_git/NOAA_and_CAISO_Data_ONEYEAR/model3/assets\n"
     ]
    },
    {
     "name": "stderr",
     "output_type": "stream",
     "text": [
      "INFO:tensorflow:Assets written to: /Users/yukahatori/A_Fairness/FairnessML_git/NOAA_and_CAISO_Data_ONEYEAR/model3/assets\n",
      "WARNING:absl:<keras.layers.recurrent.GRUCell object at 0x7f9c42b995b0> has the same name 'GRUCell' as a built-in Keras object. Consider renaming <class 'keras.layers.recurrent.GRUCell'> to avoid naming conflicts when loading with `tf.keras.models.load_model`. If renaming is not possible, pass the object in the `custom_objects` parameter of the load function.\n"
     ]
    },
    {
     "name": "stdout",
     "output_type": "stream",
     "text": [
      "165/165 [==============================] - 3s 20ms/step - loss: 0.2574 - root_mean_squared_error: 0.5073 - val_loss: 0.4608 - val_root_mean_squared_error: 0.6788\n",
      "Epoch 5/20\n",
      "165/165 [==============================] - 1s 4ms/step - loss: 0.2313 - root_mean_squared_error: 0.4810 - val_loss: 0.4972 - val_root_mean_squared_error: 0.7051\n",
      "Epoch 6/20\n",
      "165/165 [==============================] - 1s 5ms/step - loss: 0.2208 - root_mean_squared_error: 0.4698 - val_loss: 0.5653 - val_root_mean_squared_error: 0.7519\n",
      "Epoch 7/20\n",
      "164/165 [============================>.] - ETA: 0s - loss: 0.2360 - root_mean_squared_error: 0.4858"
     ]
    },
    {
     "name": "stderr",
     "output_type": "stream",
     "text": [
      "WARNING:absl:Found untraced functions such as gru_cell_1_layer_call_fn, gru_cell_1_layer_call_and_return_conditional_losses, gru_cell_1_layer_call_fn, gru_cell_1_layer_call_and_return_conditional_losses, gru_cell_1_layer_call_and_return_conditional_losses while saving (showing 5 of 5). These functions will not be directly callable after loading.\n"
     ]
    },
    {
     "name": "stdout",
     "output_type": "stream",
     "text": [
      "INFO:tensorflow:Assets written to: /Users/yukahatori/A_Fairness/FairnessML_git/NOAA_and_CAISO_Data_ONEYEAR/model3/assets\n"
     ]
    },
    {
     "name": "stderr",
     "output_type": "stream",
     "text": [
      "INFO:tensorflow:Assets written to: /Users/yukahatori/A_Fairness/FairnessML_git/NOAA_and_CAISO_Data_ONEYEAR/model3/assets\n",
      "WARNING:absl:<keras.layers.recurrent.GRUCell object at 0x7f9c42b995b0> has the same name 'GRUCell' as a built-in Keras object. Consider renaming <class 'keras.layers.recurrent.GRUCell'> to avoid naming conflicts when loading with `tf.keras.models.load_model`. If renaming is not possible, pass the object in the `custom_objects` parameter of the load function.\n"
     ]
    },
    {
     "name": "stdout",
     "output_type": "stream",
     "text": [
      "165/165 [==============================] - 3s 21ms/step - loss: 0.2358 - root_mean_squared_error: 0.4856 - val_loss: 0.3996 - val_root_mean_squared_error: 0.6321\n",
      "Epoch 8/20\n",
      "165/165 [==============================] - 1s 4ms/step - loss: 0.2222 - root_mean_squared_error: 0.4714 - val_loss: 0.4756 - val_root_mean_squared_error: 0.6896\n",
      "Epoch 9/20\n",
      "165/165 [==============================] - 1s 4ms/step - loss: 0.2019 - root_mean_squared_error: 0.4493 - val_loss: 0.4187 - val_root_mean_squared_error: 0.6470\n",
      "Epoch 10/20\n",
      "164/165 [============================>.] - ETA: 0s - loss: 0.2090 - root_mean_squared_error: 0.4572"
     ]
    },
    {
     "name": "stderr",
     "output_type": "stream",
     "text": [
      "WARNING:absl:Found untraced functions such as gru_cell_1_layer_call_fn, gru_cell_1_layer_call_and_return_conditional_losses, gru_cell_1_layer_call_fn, gru_cell_1_layer_call_and_return_conditional_losses, gru_cell_1_layer_call_and_return_conditional_losses while saving (showing 5 of 5). These functions will not be directly callable after loading.\n"
     ]
    },
    {
     "name": "stdout",
     "output_type": "stream",
     "text": [
      "INFO:tensorflow:Assets written to: /Users/yukahatori/A_Fairness/FairnessML_git/NOAA_and_CAISO_Data_ONEYEAR/model3/assets\n"
     ]
    },
    {
     "name": "stderr",
     "output_type": "stream",
     "text": [
      "INFO:tensorflow:Assets written to: /Users/yukahatori/A_Fairness/FairnessML_git/NOAA_and_CAISO_Data_ONEYEAR/model3/assets\n",
      "WARNING:absl:<keras.layers.recurrent.GRUCell object at 0x7f9c42b995b0> has the same name 'GRUCell' as a built-in Keras object. Consider renaming <class 'keras.layers.recurrent.GRUCell'> to avoid naming conflicts when loading with `tf.keras.models.load_model`. If renaming is not possible, pass the object in the `custom_objects` parameter of the load function.\n"
     ]
    },
    {
     "name": "stdout",
     "output_type": "stream",
     "text": [
      "165/165 [==============================] - 3s 19ms/step - loss: 0.2089 - root_mean_squared_error: 0.4571 - val_loss: 0.3862 - val_root_mean_squared_error: 0.6214\n",
      "Epoch 11/20\n",
      "165/165 [==============================] - ETA: 0s - loss: 0.2079 - root_mean_squared_error: 0.4559"
     ]
    },
    {
     "name": "stderr",
     "output_type": "stream",
     "text": [
      "WARNING:absl:Found untraced functions such as gru_cell_1_layer_call_fn, gru_cell_1_layer_call_and_return_conditional_losses, gru_cell_1_layer_call_fn, gru_cell_1_layer_call_and_return_conditional_losses, gru_cell_1_layer_call_and_return_conditional_losses while saving (showing 5 of 5). These functions will not be directly callable after loading.\n"
     ]
    },
    {
     "name": "stdout",
     "output_type": "stream",
     "text": [
      "INFO:tensorflow:Assets written to: /Users/yukahatori/A_Fairness/FairnessML_git/NOAA_and_CAISO_Data_ONEYEAR/model3/assets\n"
     ]
    },
    {
     "name": "stderr",
     "output_type": "stream",
     "text": [
      "INFO:tensorflow:Assets written to: /Users/yukahatori/A_Fairness/FairnessML_git/NOAA_and_CAISO_Data_ONEYEAR/model3/assets\n",
      "WARNING:absl:<keras.layers.recurrent.GRUCell object at 0x7f9c42b995b0> has the same name 'GRUCell' as a built-in Keras object. Consider renaming <class 'keras.layers.recurrent.GRUCell'> to avoid naming conflicts when loading with `tf.keras.models.load_model`. If renaming is not possible, pass the object in the `custom_objects` parameter of the load function.\n"
     ]
    },
    {
     "name": "stdout",
     "output_type": "stream",
     "text": [
      "165/165 [==============================] - 4s 25ms/step - loss: 0.2079 - root_mean_squared_error: 0.4559 - val_loss: 0.3297 - val_root_mean_squared_error: 0.5742\n",
      "Epoch 12/20\n",
      "163/165 [============================>.] - ETA: 0s - loss: 0.2231 - root_mean_squared_error: 0.4723"
     ]
    },
    {
     "name": "stderr",
     "output_type": "stream",
     "text": [
      "WARNING:absl:Found untraced functions such as gru_cell_1_layer_call_fn, gru_cell_1_layer_call_and_return_conditional_losses, gru_cell_1_layer_call_fn, gru_cell_1_layer_call_and_return_conditional_losses, gru_cell_1_layer_call_and_return_conditional_losses while saving (showing 5 of 5). These functions will not be directly callable after loading.\n"
     ]
    },
    {
     "name": "stdout",
     "output_type": "stream",
     "text": [
      "INFO:tensorflow:Assets written to: /Users/yukahatori/A_Fairness/FairnessML_git/NOAA_and_CAISO_Data_ONEYEAR/model3/assets\n"
     ]
    },
    {
     "name": "stderr",
     "output_type": "stream",
     "text": [
      "INFO:tensorflow:Assets written to: /Users/yukahatori/A_Fairness/FairnessML_git/NOAA_and_CAISO_Data_ONEYEAR/model3/assets\n",
      "WARNING:absl:<keras.layers.recurrent.GRUCell object at 0x7f9c42b995b0> has the same name 'GRUCell' as a built-in Keras object. Consider renaming <class 'keras.layers.recurrent.GRUCell'> to avoid naming conflicts when loading with `tf.keras.models.load_model`. If renaming is not possible, pass the object in the `custom_objects` parameter of the load function.\n"
     ]
    },
    {
     "name": "stdout",
     "output_type": "stream",
     "text": [
      "165/165 [==============================] - 3s 21ms/step - loss: 0.2239 - root_mean_squared_error: 0.4732 - val_loss: 0.3182 - val_root_mean_squared_error: 0.5641\n",
      "Epoch 13/20\n",
      "165/165 [==============================] - 1s 4ms/step - loss: 0.2262 - root_mean_squared_error: 0.4756 - val_loss: 0.6287 - val_root_mean_squared_error: 0.7929\n",
      "Epoch 14/20\n",
      "165/165 [==============================] - 1s 4ms/step - loss: 0.2050 - root_mean_squared_error: 0.4528 - val_loss: 0.5059 - val_root_mean_squared_error: 0.7112\n",
      "Epoch 15/20\n",
      "154/165 [===========================>..] - ETA: 0s - loss: 0.2023 - root_mean_squared_error: 0.4497"
     ]
    },
    {
     "name": "stderr",
     "output_type": "stream",
     "text": [
      "WARNING:absl:Found untraced functions such as gru_cell_1_layer_call_fn, gru_cell_1_layer_call_and_return_conditional_losses, gru_cell_1_layer_call_fn, gru_cell_1_layer_call_and_return_conditional_losses, gru_cell_1_layer_call_and_return_conditional_losses while saving (showing 5 of 5). These functions will not be directly callable after loading.\n"
     ]
    },
    {
     "name": "stdout",
     "output_type": "stream",
     "text": [
      "INFO:tensorflow:Assets written to: /Users/yukahatori/A_Fairness/FairnessML_git/NOAA_and_CAISO_Data_ONEYEAR/model3/assets\n"
     ]
    },
    {
     "name": "stderr",
     "output_type": "stream",
     "text": [
      "INFO:tensorflow:Assets written to: /Users/yukahatori/A_Fairness/FairnessML_git/NOAA_and_CAISO_Data_ONEYEAR/model3/assets\n",
      "WARNING:absl:<keras.layers.recurrent.GRUCell object at 0x7f9c42b995b0> has the same name 'GRUCell' as a built-in Keras object. Consider renaming <class 'keras.layers.recurrent.GRUCell'> to avoid naming conflicts when loading with `tf.keras.models.load_model`. If renaming is not possible, pass the object in the `custom_objects` parameter of the load function.\n"
     ]
    },
    {
     "name": "stdout",
     "output_type": "stream",
     "text": [
      "165/165 [==============================] - 3s 20ms/step - loss: 0.2015 - root_mean_squared_error: 0.4489 - val_loss: 0.2903 - val_root_mean_squared_error: 0.5388\n",
      "Epoch 16/20\n",
      "165/165 [==============================] - 1s 5ms/step - loss: 0.1918 - root_mean_squared_error: 0.4379 - val_loss: 0.3024 - val_root_mean_squared_error: 0.5499\n",
      "Epoch 17/20\n",
      "165/165 [==============================] - 1s 4ms/step - loss: 0.2046 - root_mean_squared_error: 0.4524 - val_loss: 0.4165 - val_root_mean_squared_error: 0.6454\n",
      "Epoch 18/20\n",
      "165/165 [==============================] - 1s 4ms/step - loss: 0.2010 - root_mean_squared_error: 0.4483 - val_loss: 0.7356 - val_root_mean_squared_error: 0.8577\n",
      "Epoch 19/20\n",
      "165/165 [==============================] - 1s 5ms/step - loss: 0.1997 - root_mean_squared_error: 0.4468 - val_loss: 0.3494 - val_root_mean_squared_error: 0.5911\n",
      "Epoch 20/20\n",
      "165/165 [==============================] - 1s 4ms/step - loss: 0.2051 - root_mean_squared_error: 0.4529 - val_loss: 0.3601 - val_root_mean_squared_error: 0.6001\n"
     ]
    },
    {
     "data": {
      "text/plain": [
       "<keras.callbacks.History at 0x7f9c426e5100>"
      ]
     },
     "execution_count": 225,
     "metadata": {},
     "output_type": "execute_result"
    }
   ],
   "source": [
    "cp3 = ModelCheckpoint(directory + 'model3/', save_best_only = True) #I want to only save the best model (lowest validation loss)\n",
    "#learning rate = higher the value, faster model tries to decrease loss\n",
    "#but we don't want to dec super fast bc it won't find local min/max\n",
    "model3.compile(loss = MeanSquaredError(), optimizer =Adam(learning_rate = 0.001), metrics = [RootMeanSquaredError()])\n",
    "model3.fit(X_train, y_train, validation_data=(X_val, y_val), epochs = 20, callbacks = [cp3])"
   ]
  },
  {
   "cell_type": "code",
   "execution_count": 226,
   "id": "c5d9f6ad",
   "metadata": {},
   "outputs": [
    {
     "data": {
      "text/plain": [
       "(      Predictions  Actuals\n",
       " 0       57.239841     57.4\n",
       " 1       57.020241     56.6\n",
       " 2       55.635010     56.1\n",
       " 3       55.774208     55.8\n",
       " 4       55.570797     55.6\n",
       " ...           ...      ...\n",
       " 1746    51.674404     51.5\n",
       " 1747    51.080715     51.0\n",
       " 1748    50.798199     50.5\n",
       " 1749    50.273949     49.8\n",
       " 1750    49.428955     49.4\n",
       " \n",
       " [1751 rows x 2 columns],\n",
       " 0.2500428839538068)"
      ]
     },
     "execution_count": 226,
     "metadata": {},
     "output_type": "execute_result"
    },
    {
     "data": {
      "image/png": "[encoded data removed]",
      "text/plain": [
       "<Figure size 432x288 with 1 Axes>"
      ]
     },
     "metadata": {
      "needs_background": "light"
     },
     "output_type": "display_data"
    }
   ],
   "source": [
    "plot_predictions1(model3, X_test, y_test)"
   ]
  },
  {
   "cell_type": "code",
   "execution_count": 227,
   "id": "e618f66d",
   "metadata": {},
   "outputs": [
    {
     "data": {
      "text/html": [
       "<div>\n",
       "<style scoped>\n",
       "    .dataframe tbody tr th:only-of-type {\n",
       "        vertical-align: middle;\n",
       "    }\n",
       "\n",
       "    .dataframe tbody tr th {\n",
       "        vertical-align: top;\n",
       "    }\n",
       "\n",
       "    .dataframe thead th {\n",
       "        text-align: right;\n",
       "    }\n",
       "</style>\n",
       "<table border=\"1\" class=\"dataframe\">\n",
       "  <thead>\n",
       "    <tr style=\"text-align: right;\">\n",
       "      <th></th>\n",
       "      <th>Hly_Normal</th>\n",
       "      <th>Seconds</th>\n",
       "    </tr>\n",
       "    <tr>\n",
       "      <th>date</th>\n",
       "      <th></th>\n",
       "      <th></th>\n",
       "    </tr>\n",
       "  </thead>\n",
       "  <tbody>\n",
       "    <tr>\n",
       "      <th>2019-01-01 00:00:00</th>\n",
       "      <td>48.8</td>\n",
       "      <td>1.546301e+09</td>\n",
       "    </tr>\n",
       "    <tr>\n",
       "      <th>2019-01-01 01:00:00</th>\n",
       "      <td>48.5</td>\n",
       "      <td>1.546304e+09</td>\n",
       "    </tr>\n",
       "    <tr>\n",
       "      <th>2019-01-01 02:00:00</th>\n",
       "      <td>47.6</td>\n",
       "      <td>1.546308e+09</td>\n",
       "    </tr>\n",
       "    <tr>\n",
       "      <th>2019-01-01 03:00:00</th>\n",
       "      <td>47.2</td>\n",
       "      <td>1.546312e+09</td>\n",
       "    </tr>\n",
       "    <tr>\n",
       "      <th>2019-01-01 04:00:00</th>\n",
       "      <td>46.8</td>\n",
       "      <td>1.546315e+09</td>\n",
       "    </tr>\n",
       "    <tr>\n",
       "      <th>...</th>\n",
       "      <td>...</td>\n",
       "      <td>...</td>\n",
       "    </tr>\n",
       "    <tr>\n",
       "      <th>2019-12-31 19:00:00</th>\n",
       "      <td>51.5</td>\n",
       "      <td>1.577819e+09</td>\n",
       "    </tr>\n",
       "    <tr>\n",
       "      <th>2019-12-31 20:00:00</th>\n",
       "      <td>51.0</td>\n",
       "      <td>1.577822e+09</td>\n",
       "    </tr>\n",
       "    <tr>\n",
       "      <th>2019-12-31 21:00:00</th>\n",
       "      <td>50.5</td>\n",
       "      <td>1.577826e+09</td>\n",
       "    </tr>\n",
       "    <tr>\n",
       "      <th>2019-12-31 22:00:00</th>\n",
       "      <td>49.8</td>\n",
       "      <td>1.577830e+09</td>\n",
       "    </tr>\n",
       "    <tr>\n",
       "      <th>2019-12-31 23:00:00</th>\n",
       "      <td>49.4</td>\n",
       "      <td>1.577833e+09</td>\n",
       "    </tr>\n",
       "  </tbody>\n",
       "</table>\n",
       "<p>8760 rows × 2 columns</p>\n",
       "</div>"
      ],
      "text/plain": [
       "                     Hly_Normal       Seconds\n",
       "date                                         \n",
       "2019-01-01 00:00:00        48.8  1.546301e+09\n",
       "2019-01-01 01:00:00        48.5  1.546304e+09\n",
       "2019-01-01 02:00:00        47.6  1.546308e+09\n",
       "2019-01-01 03:00:00        47.2  1.546312e+09\n",
       "2019-01-01 04:00:00        46.8  1.546315e+09\n",
       "...                         ...           ...\n",
       "2019-12-31 19:00:00        51.5  1.577819e+09\n",
       "2019-12-31 20:00:00        51.0  1.577822e+09\n",
       "2019-12-31 21:00:00        50.5  1.577826e+09\n",
       "2019-12-31 22:00:00        49.8  1.577830e+09\n",
       "2019-12-31 23:00:00        49.4  1.577833e+09\n",
       "\n",
       "[8760 rows x 2 columns]"
      ]
     },
     "execution_count": 227,
     "metadata": {},
     "output_type": "execute_result"
    }
   ],
   "source": [
    "temp_df = pd.DataFrame({'Hly_Normal': temp})\n",
    "temp_df['Seconds'] = temp_df.index.map(pd.Timestamp.timestamp)\n",
    "temp_df\n",
    "#seconds starts from a neg number, can make it start from 0 by adding values"
   ]
  },
  {
   "cell_type": "markdown",
   "id": "6c5e3b40",
   "metadata": {},
   "source": [
    "# circular time\n",
    "\n",
    "representing in seconds doesn't show how close December 31st is to January 1st. This wraps time around in a circle"
   ]
  },
  {
   "cell_type": "code",
   "execution_count": 228,
   "id": "7d39e7dc",
   "metadata": {},
   "outputs": [],
   "source": [
    "day = 60 * 60 * 24 #60 s in a min, 60 min in an hour, 24 hours in a day\n",
    "year = 365.2425*day #num seconds in a year\n",
    "temp_df['Day sin'] = np.sin(temp_df['Seconds']*2*(np.pi/day))\n",
    "temp_df['Day cos'] = np.cos(temp_df['Seconds']*2*(np.pi/day))\n",
    "temp_df['Year sin'] = np.sin(temp_df['Seconds']*2*(np.pi/year))\n",
    "temp_df['Year cos'] = np.cos(temp_df['Seconds']*2*(np.pi/year))"
   ]
  },
  {
   "cell_type": "code",
   "execution_count": 229,
   "id": "38a26917",
   "metadata": {},
   "outputs": [
    {
     "data": {
      "text/html": [
       "<div>\n",
       "<style scoped>\n",
       "    .dataframe tbody tr th:only-of-type {\n",
       "        vertical-align: middle;\n",
       "    }\n",
       "\n",
       "    .dataframe tbody tr th {\n",
       "        vertical-align: top;\n",
       "    }\n",
       "\n",
       "    .dataframe thead th {\n",
       "        text-align: right;\n",
       "    }\n",
       "</style>\n",
       "<table border=\"1\" class=\"dataframe\">\n",
       "  <thead>\n",
       "    <tr style=\"text-align: right;\">\n",
       "      <th></th>\n",
       "      <th>Hly_Normal</th>\n",
       "      <th>Seconds</th>\n",
       "      <th>Day sin</th>\n",
       "      <th>Day cos</th>\n",
       "      <th>Year sin</th>\n",
       "      <th>Year cos</th>\n",
       "    </tr>\n",
       "    <tr>\n",
       "      <th>date</th>\n",
       "      <th></th>\n",
       "      <th></th>\n",
       "      <th></th>\n",
       "      <th></th>\n",
       "      <th></th>\n",
       "      <th></th>\n",
       "    </tr>\n",
       "  </thead>\n",
       "  <tbody>\n",
       "    <tr>\n",
       "      <th>2019-01-01 00:00:00</th>\n",
       "      <td>48.8</td>\n",
       "      <td>1.546301e+09</td>\n",
       "      <td>-5.030095e-12</td>\n",
       "      <td>1.000000</td>\n",
       "      <td>0.002021</td>\n",
       "      <td>0.999998</td>\n",
       "    </tr>\n",
       "    <tr>\n",
       "      <th>2019-01-01 01:00:00</th>\n",
       "      <td>48.5</td>\n",
       "      <td>1.546304e+09</td>\n",
       "      <td>2.588190e-01</td>\n",
       "      <td>0.965926</td>\n",
       "      <td>0.002738</td>\n",
       "      <td>0.999996</td>\n",
       "    </tr>\n",
       "    <tr>\n",
       "      <th>2019-01-01 02:00:00</th>\n",
       "      <td>47.6</td>\n",
       "      <td>1.546308e+09</td>\n",
       "      <td>5.000000e-01</td>\n",
       "      <td>0.866025</td>\n",
       "      <td>0.003455</td>\n",
       "      <td>0.999994</td>\n",
       "    </tr>\n",
       "    <tr>\n",
       "      <th>2019-01-01 03:00:00</th>\n",
       "      <td>47.2</td>\n",
       "      <td>1.546312e+09</td>\n",
       "      <td>7.071068e-01</td>\n",
       "      <td>0.707107</td>\n",
       "      <td>0.004172</td>\n",
       "      <td>0.999991</td>\n",
       "    </tr>\n",
       "    <tr>\n",
       "      <th>2019-01-01 04:00:00</th>\n",
       "      <td>46.8</td>\n",
       "      <td>1.546315e+09</td>\n",
       "      <td>8.660254e-01</td>\n",
       "      <td>0.500000</td>\n",
       "      <td>0.004888</td>\n",
       "      <td>0.999988</td>\n",
       "    </tr>\n",
       "    <tr>\n",
       "      <th>...</th>\n",
       "      <td>...</td>\n",
       "      <td>...</td>\n",
       "      <td>...</td>\n",
       "      <td>...</td>\n",
       "      <td>...</td>\n",
       "      <td>...</td>\n",
       "    </tr>\n",
       "    <tr>\n",
       "      <th>2019-12-31 19:00:00</th>\n",
       "      <td>51.5</td>\n",
       "      <td>1.577819e+09</td>\n",
       "      <td>-9.659258e-01</td>\n",
       "      <td>0.258819</td>\n",
       "      <td>-0.005734</td>\n",
       "      <td>0.999984</td>\n",
       "    </tr>\n",
       "    <tr>\n",
       "      <th>2019-12-31 20:00:00</th>\n",
       "      <td>51.0</td>\n",
       "      <td>1.577822e+09</td>\n",
       "      <td>-8.660254e-01</td>\n",
       "      <td>0.500000</td>\n",
       "      <td>-0.005017</td>\n",
       "      <td>0.999987</td>\n",
       "    </tr>\n",
       "    <tr>\n",
       "      <th>2019-12-31 21:00:00</th>\n",
       "      <td>50.5</td>\n",
       "      <td>1.577826e+09</td>\n",
       "      <td>-7.071068e-01</td>\n",
       "      <td>0.707107</td>\n",
       "      <td>-0.004301</td>\n",
       "      <td>0.999991</td>\n",
       "    </tr>\n",
       "    <tr>\n",
       "      <th>2019-12-31 22:00:00</th>\n",
       "      <td>49.8</td>\n",
       "      <td>1.577830e+09</td>\n",
       "      <td>-5.000000e-01</td>\n",
       "      <td>0.866025</td>\n",
       "      <td>-0.003584</td>\n",
       "      <td>0.999994</td>\n",
       "    </tr>\n",
       "    <tr>\n",
       "      <th>2019-12-31 23:00:00</th>\n",
       "      <td>49.4</td>\n",
       "      <td>1.577833e+09</td>\n",
       "      <td>-2.588190e-01</td>\n",
       "      <td>0.965926</td>\n",
       "      <td>-0.002867</td>\n",
       "      <td>0.999996</td>\n",
       "    </tr>\n",
       "  </tbody>\n",
       "</table>\n",
       "<p>8760 rows × 6 columns</p>\n",
       "</div>"
      ],
      "text/plain": [
       "                     Hly_Normal       Seconds       Day sin   Day cos  \\\n",
       "date                                                                    \n",
       "2019-01-01 00:00:00        48.8  1.546301e+09 -5.030095e-12  1.000000   \n",
       "2019-01-01 01:00:00        48.5  1.546304e+09  2.588190e-01  0.965926   \n",
       "2019-01-01 02:00:00        47.6  1.546308e+09  5.000000e-01  0.866025   \n",
       "2019-01-01 03:00:00        47.2  1.546312e+09  7.071068e-01  0.707107   \n",
       "2019-01-01 04:00:00        46.8  1.546315e+09  8.660254e-01  0.500000   \n",
       "...                         ...           ...           ...       ...   \n",
       "2019-12-31 19:00:00        51.5  1.577819e+09 -9.659258e-01  0.258819   \n",
       "2019-12-31 20:00:00        51.0  1.577822e+09 -8.660254e-01  0.500000   \n",
       "2019-12-31 21:00:00        50.5  1.577826e+09 -7.071068e-01  0.707107   \n",
       "2019-12-31 22:00:00        49.8  1.577830e+09 -5.000000e-01  0.866025   \n",
       "2019-12-31 23:00:00        49.4  1.577833e+09 -2.588190e-01  0.965926   \n",
       "\n",
       "                     Year sin  Year cos  \n",
       "date                                     \n",
       "2019-01-01 00:00:00  0.002021  0.999998  \n",
       "2019-01-01 01:00:00  0.002738  0.999996  \n",
       "2019-01-01 02:00:00  0.003455  0.999994  \n",
       "2019-01-01 03:00:00  0.004172  0.999991  \n",
       "2019-01-01 04:00:00  0.004888  0.999988  \n",
       "...                       ...       ...  \n",
       "2019-12-31 19:00:00 -0.005734  0.999984  \n",
       "2019-12-31 20:00:00 -0.005017  0.999987  \n",
       "2019-12-31 21:00:00 -0.004301  0.999991  \n",
       "2019-12-31 22:00:00 -0.003584  0.999994  \n",
       "2019-12-31 23:00:00 -0.002867  0.999996  \n",
       "\n",
       "[8760 rows x 6 columns]"
      ]
     },
     "execution_count": 229,
     "metadata": {},
     "output_type": "execute_result"
    }
   ],
   "source": [
    "temp_df"
   ]
  },
  {
   "cell_type": "code",
   "execution_count": 230,
   "id": "e51223ef",
   "metadata": {},
   "outputs": [
    {
     "data": {
      "text/html": [
       "<div>\n",
       "<style scoped>\n",
       "    .dataframe tbody tr th:only-of-type {\n",
       "        vertical-align: middle;\n",
       "    }\n",
       "\n",
       "    .dataframe tbody tr th {\n",
       "        vertical-align: top;\n",
       "    }\n",
       "\n",
       "    .dataframe thead th {\n",
       "        text-align: right;\n",
       "    }\n",
       "</style>\n",
       "<table border=\"1\" class=\"dataframe\">\n",
       "  <thead>\n",
       "    <tr style=\"text-align: right;\">\n",
       "      <th></th>\n",
       "      <th>Hly_Normal</th>\n",
       "      <th>Day sin</th>\n",
       "      <th>Day cos</th>\n",
       "      <th>Year sin</th>\n",
       "      <th>Year cos</th>\n",
       "    </tr>\n",
       "    <tr>\n",
       "      <th>date</th>\n",
       "      <th></th>\n",
       "      <th></th>\n",
       "      <th></th>\n",
       "      <th></th>\n",
       "      <th></th>\n",
       "    </tr>\n",
       "  </thead>\n",
       "  <tbody>\n",
       "    <tr>\n",
       "      <th>2019-01-01 00:00:00</th>\n",
       "      <td>48.8</td>\n",
       "      <td>-5.030095e-12</td>\n",
       "      <td>1.000000</td>\n",
       "      <td>0.002021</td>\n",
       "      <td>0.999998</td>\n",
       "    </tr>\n",
       "    <tr>\n",
       "      <th>2019-01-01 01:00:00</th>\n",
       "      <td>48.5</td>\n",
       "      <td>2.588190e-01</td>\n",
       "      <td>0.965926</td>\n",
       "      <td>0.002738</td>\n",
       "      <td>0.999996</td>\n",
       "    </tr>\n",
       "    <tr>\n",
       "      <th>2019-01-01 02:00:00</th>\n",
       "      <td>47.6</td>\n",
       "      <td>5.000000e-01</td>\n",
       "      <td>0.866025</td>\n",
       "      <td>0.003455</td>\n",
       "      <td>0.999994</td>\n",
       "    </tr>\n",
       "    <tr>\n",
       "      <th>2019-01-01 03:00:00</th>\n",
       "      <td>47.2</td>\n",
       "      <td>7.071068e-01</td>\n",
       "      <td>0.707107</td>\n",
       "      <td>0.004172</td>\n",
       "      <td>0.999991</td>\n",
       "    </tr>\n",
       "    <tr>\n",
       "      <th>2019-01-01 04:00:00</th>\n",
       "      <td>46.8</td>\n",
       "      <td>8.660254e-01</td>\n",
       "      <td>0.500000</td>\n",
       "      <td>0.004888</td>\n",
       "      <td>0.999988</td>\n",
       "    </tr>\n",
       "  </tbody>\n",
       "</table>\n",
       "</div>"
      ],
      "text/plain": [
       "                     Hly_Normal       Day sin   Day cos  Year sin  Year cos\n",
       "date                                                                       \n",
       "2019-01-01 00:00:00        48.8 -5.030095e-12  1.000000  0.002021  0.999998\n",
       "2019-01-01 01:00:00        48.5  2.588190e-01  0.965926  0.002738  0.999996\n",
       "2019-01-01 02:00:00        47.6  5.000000e-01  0.866025  0.003455  0.999994\n",
       "2019-01-01 03:00:00        47.2  7.071068e-01  0.707107  0.004172  0.999991\n",
       "2019-01-01 04:00:00        46.8  8.660254e-01  0.500000  0.004888  0.999988"
      ]
     },
     "execution_count": 230,
     "metadata": {},
     "output_type": "execute_result"
    }
   ],
   "source": [
    "temp_df = temp_df.drop('Seconds', axis = 1)\n",
    "temp_df.head()"
   ]
  },
  {
   "cell_type": "code",
   "execution_count": 231,
   "id": "6bdbf248",
   "metadata": {},
   "outputs": [],
   "source": [
    "# [[[t1,ds1], [t2,ds2], [t3,ds3], [t4,ds4], [t5,ds5]]] [t6]\n",
    "\n",
    "def df_to_X_y2(df, window_size= 6):\n",
    "    df_as_np = df.to_numpy()\n",
    "    X = []\n",
    "    y = []\n",
    "    for i in range(len(df_as_np)-window_size):\n",
    "        row = [ r for r in df_as_np[i:i+window_size]]\n",
    "        X.append(row)\n",
    "        label = df_as_np[i+window_size][0]\n",
    "        y.append(label)\n",
    "    return np.array(X), np.array(y)\n",
    "        "
   ]
  },
  {
   "cell_type": "code",
   "execution_count": 232,
   "id": "1bdf516b",
   "metadata": {},
   "outputs": [
    {
     "data": {
      "text/plain": [
       "((8754, 6, 5), (8754,))"
      ]
     },
     "execution_count": 232,
     "metadata": {},
     "output_type": "execute_result"
    }
   ],
   "source": [
    "X2, y2 = df_to_X_y2(temp_df)\n",
    "X2.shape, y2.shape"
   ]
  },
  {
   "cell_type": "code",
   "execution_count": 233,
   "id": "e9bc547f",
   "metadata": {},
   "outputs": [
    {
     "data": {
      "text/plain": [
       "((5253, 6, 5), (5253,), (1751, 6, 5), (1751,), (1750, 6, 5), (1750,))"
      ]
     },
     "execution_count": 233,
     "metadata": {},
     "output_type": "execute_result"
    }
   ],
   "source": [
    "train_percent = 0.6\n",
    "validation_percent = 0.2\n",
    "test_percent = 0.2\n",
    "train_percent_split = int(train_percent * len(X))\n",
    "validation_percent_split = int(validation_percent * len(X)) + train_percent_split\n",
    "test_percent_split = int(test_percent * len(X))\n",
    "\n",
    "X2_train, y2_train = X2[:train_percent_split], y2[:train_percent_split]\n",
    "X2_val, y2_val = X2[train_percent_split:validation_percent_split], y2[train_percent_split:validation_percent_split]\n",
    "X2_test, y2_test = X2[validation_percent_split:], y2[validation_percent_split:]\n",
    "X2_train.shape, y2_train.shape, X2_val.shape, y2_val.shape, X2_test.shape, y2_test.shape"
   ]
  },
  {
   "cell_type": "markdown",
   "id": "1c9157d0",
   "metadata": {},
   "source": [
    "# Preprocessing Data\n",
    "\n",
    "Normalizing data"
   ]
  },
  {
   "cell_type": "code",
   "execution_count": 234,
   "id": "6926e6c9",
   "metadata": {},
   "outputs": [],
   "source": [
    "temp_train_mean = np.mean(X2_train[:,:,0]) #0 is just temperature in the training test\n",
    "temp_training_std = np.std(X2_train[:,:,0])\n",
    "\n",
    "def preprocess(X):\n",
    "    X[:,:,0] = (X[:,:,0] - temp_train_mean)/temp_training_std\n",
    "    return X"
   ]
  },
  {
   "cell_type": "code",
   "execution_count": 235,
   "id": "1bfbe664",
   "metadata": {},
   "outputs": [
    {
     "data": {
      "text/plain": [
       "array([[[ 6.76949281e-01, -8.66025404e-01,  5.00000000e-01,\n",
       "         -9.52340853e-01,  3.05035898e-01],\n",
       "        [ 5.68846208e-01, -7.07106781e-01,  7.07106781e-01,\n",
       "         -9.52121964e-01,  3.05718441e-01],\n",
       "        [ 4.60743134e-01, -5.00000000e-01,  8.66025404e-01,\n",
       "         -9.51902586e-01,  3.06400826e-01],\n",
       "        [ 3.16605702e-01, -2.58819045e-01,  9.65925826e-01,\n",
       "         -9.51682719e-01,  3.07083054e-01],\n",
       "        [ 2.08502629e-01, -1.32152666e-12,  1.00000000e+00,\n",
       "         -9.51462363e-01,  3.07765125e-01],\n",
       "        [ 1.36433913e-01,  2.58819045e-01,  9.65925826e-01,\n",
       "         -9.51241518e-01,  3.08447037e-01]],\n",
       "\n",
       "       [[ 5.68846208e-01, -7.07106781e-01,  7.07106781e-01,\n",
       "         -9.52121964e-01,  3.05718441e-01],\n",
       "        [ 4.60743134e-01, -5.00000000e-01,  8.66025404e-01,\n",
       "         -9.51902586e-01,  3.06400826e-01],\n",
       "        [ 3.16605702e-01, -2.58819045e-01,  9.65925826e-01,\n",
       "         -9.51682719e-01,  3.07083054e-01],\n",
       "        [ 2.08502629e-01, -1.32152666e-12,  1.00000000e+00,\n",
       "         -9.51462363e-01,  3.07765125e-01],\n",
       "        [ 1.36433913e-01,  2.58819045e-01,  9.65925826e-01,\n",
       "         -9.51241518e-01,  3.08447037e-01],\n",
       "        [-7.70351874e-03,  5.00000000e-01,  8.66025404e-01,\n",
       "         -9.51020184e-01,  3.09128791e-01]],\n",
       "\n",
       "       [[ 4.60743134e-01, -5.00000000e-01,  8.66025404e-01,\n",
       "         -9.51902586e-01,  3.06400826e-01],\n",
       "        [ 3.16605702e-01, -2.58819045e-01,  9.65925826e-01,\n",
       "         -9.51682719e-01,  3.07083054e-01],\n",
       "        [ 2.08502629e-01, -1.32152666e-12,  1.00000000e+00,\n",
       "         -9.51462363e-01,  3.07765125e-01],\n",
       "        [ 1.36433913e-01,  2.58819045e-01,  9.65925826e-01,\n",
       "         -9.51241518e-01,  3.08447037e-01],\n",
       "        [-7.70351874e-03,  5.00000000e-01,  8.66025404e-01,\n",
       "         -9.51020184e-01,  3.09128791e-01],\n",
       "        [-9.77894135e-02,  7.07106781e-01,  7.07106781e-01,\n",
       "         -9.50798362e-01,  3.09810386e-01]],\n",
       "\n",
       "       ...,\n",
       "\n",
       "       [[-4.58132992e-01, -7.07106781e-01, -7.07106781e-01,\n",
       "         -8.60128248e-03,  9.99963008e-01],\n",
       "        [-5.12184529e-01, -8.66025404e-01, -5.00000000e-01,\n",
       "         -7.88452447e-03,  9.99968917e-01],\n",
       "        [-6.56321961e-01, -9.65925826e-01, -2.58819045e-01,\n",
       "         -7.16776241e-03,  9.99974311e-01],\n",
       "        [-8.00459393e-01, -1.00000000e+00, -5.10699813e-12,\n",
       "         -6.45099666e-03,  9.99979192e-01],\n",
       "        [-9.26579645e-01, -9.65925826e-01,  2.58819045e-01,\n",
       "         -5.73422760e-03,  9.99983559e-01],\n",
       "        [-1.01666554e+00, -8.66025404e-01,  5.00000000e-01,\n",
       "         -5.01745560e-03,  9.99987412e-01]],\n",
       "\n",
       "       [[-5.12184529e-01, -8.66025404e-01, -5.00000000e-01,\n",
       "         -7.88452447e-03,  9.99968917e-01],\n",
       "        [-6.56321961e-01, -9.65925826e-01, -2.58819045e-01,\n",
       "         -7.16776241e-03,  9.99974311e-01],\n",
       "        [-8.00459393e-01, -1.00000000e+00, -5.10699813e-12,\n",
       "         -6.45099666e-03,  9.99979192e-01],\n",
       "        [-9.26579645e-01, -9.65925826e-01,  2.58819045e-01,\n",
       "         -5.73422760e-03,  9.99983559e-01],\n",
       "        [-1.01666554e+00, -8.66025404e-01,  5.00000000e-01,\n",
       "         -5.01745560e-03,  9.99987412e-01],\n",
       "        [-1.10675143e+00, -7.07106781e-01,  7.07106781e-01,\n",
       "         -4.30068101e-03,  9.99990752e-01]],\n",
       "\n",
       "       [[-6.56321961e-01, -9.65925826e-01, -2.58819045e-01,\n",
       "         -7.16776241e-03,  9.99974311e-01],\n",
       "        [-8.00459393e-01, -1.00000000e+00, -5.10699813e-12,\n",
       "         -6.45099666e-03,  9.99979192e-01],\n",
       "        [-9.26579645e-01, -9.65925826e-01,  2.58819045e-01,\n",
       "         -5.73422760e-03,  9.99983559e-01],\n",
       "        [-1.01666554e+00, -8.66025404e-01,  5.00000000e-01,\n",
       "         -5.01745560e-03,  9.99987412e-01],\n",
       "        [-1.10675143e+00, -7.07106781e-01,  7.07106781e-01,\n",
       "         -4.30068101e-03,  9.99990752e-01],\n",
       "        [-1.23287169e+00, -5.00000000e-01,  8.66025404e-01,\n",
       "         -3.58390422e-03,  9.99993578e-01]]])"
      ]
     },
     "execution_count": 235,
     "metadata": {},
     "output_type": "execute_result"
    }
   ],
   "source": [
    "preprocess(X2_train)\n",
    "preprocess(X2_val)\n",
    "preprocess(X2_test)"
   ]
  },
  {
   "cell_type": "code",
   "execution_count": 236,
   "id": "29bcb042",
   "metadata": {},
   "outputs": [
    {
     "name": "stdout",
     "output_type": "stream",
     "text": [
      "Model: \"sequential_13\"\n",
      "_________________________________________________________________\n",
      " Layer (type)                Output Shape              Param #   \n",
      "=================================================================\n",
      " lstm_9 (LSTM)               (None, 64)                17920     \n",
      "                                                                 \n",
      " dense_26 (Dense)            (None, 8)                 520       \n",
      "                                                                 \n",
      " dense_27 (Dense)            (None, 1)                 9         \n",
      "                                                                 \n",
      "=================================================================\n",
      "Total params: 18,449\n",
      "Trainable params: 18,449\n",
      "Non-trainable params: 0\n",
      "_________________________________________________________________\n"
     ]
    }
   ],
   "source": [
    "model4 = Sequential()\n",
    "model4.add(InputLayer((6,5))) #six time steps, 5 variables of input\n",
    "model4.add(LSTM(64)) #how many windows do we want to slide across\n",
    "model4.add(Dense(8, 'relu'))\n",
    "model4.add(Dense(1, 'linear')) #linear value, pos or neg (for temp)\n",
    "model4.summary()"
   ]
  },
  {
   "cell_type": "code",
   "execution_count": 259,
   "id": "9c9c9ec0",
   "metadata": {},
   "outputs": [],
   "source": [
    "cp4 = ModelCheckpoint(directory+ 'model4/', save_best_only = True) #I want to only save the best model (lowest validation loss)\n",
    "#learning rate = higher the value, faster model tries to decrease loss\n",
    "#but we don't want to dec super fast bc it won't find local min/max\n",
    "model4.compile(loss = MeanSquaredError(), optimizer =Adam(learning_rate = 0.001), metrics = [RootMeanSquaredError()])\n"
   ]
  },
  {
   "cell_type": "code",
   "execution_count": 260,
   "id": "4b0965fa",
   "metadata": {},
   "outputs": [
    {
     "name": "stdout",
     "output_type": "stream",
     "text": [
      "Epoch 1/10\n",
      "161/165 [============================>.] - ETA: 0s - loss: 35.6178 - root_mean_squared_error: 5.9681"
     ]
    },
    {
     "name": "stderr",
     "output_type": "stream",
     "text": [
      "WARNING:absl:Found untraced functions such as lstm_cell_17_layer_call_fn, lstm_cell_17_layer_call_and_return_conditional_losses, lstm_cell_17_layer_call_fn, lstm_cell_17_layer_call_and_return_conditional_losses, lstm_cell_17_layer_call_and_return_conditional_losses while saving (showing 5 of 5). These functions will not be directly callable after loading.\n"
     ]
    },
    {
     "name": "stdout",
     "output_type": "stream",
     "text": [
      "INFO:tensorflow:Assets written to: /Users/yukahatori/A_Fairness/FairnessML_git/NOAA_and_CAISO_Data_ONEYEAR/model4/assets\n"
     ]
    },
    {
     "name": "stderr",
     "output_type": "stream",
     "text": [
      "INFO:tensorflow:Assets written to: /Users/yukahatori/A_Fairness/FairnessML_git/NOAA_and_CAISO_Data_ONEYEAR/model4/assets\n",
      "WARNING:absl:<keras.layers.recurrent.LSTMCell object at 0x7f9c283ec580> has the same name 'LSTMCell' as a built-in Keras object. Consider renaming <class 'keras.layers.recurrent.LSTMCell'> to avoid naming conflicts when loading with `tf.keras.models.load_model`. If renaming is not possible, pass the object in the `custom_objects` parameter of the load function.\n"
     ]
    },
    {
     "name": "stdout",
     "output_type": "stream",
     "text": [
      "165/165 [==============================] - 5s 22ms/step - loss: 35.0725 - root_mean_squared_error: 5.9222 - val_loss: 23.9013 - val_root_mean_squared_error: 4.8889\n",
      "Epoch 2/10\n",
      "148/165 [=========================>....] - ETA: 0s - loss: 2.6339 - root_mean_squared_error: 1.6229"
     ]
    },
    {
     "name": "stderr",
     "output_type": "stream",
     "text": [
      "WARNING:absl:Found untraced functions such as lstm_cell_17_layer_call_fn, lstm_cell_17_layer_call_and_return_conditional_losses, lstm_cell_17_layer_call_fn, lstm_cell_17_layer_call_and_return_conditional_losses, lstm_cell_17_layer_call_and_return_conditional_losses while saving (showing 5 of 5). These functions will not be directly callable after loading.\n"
     ]
    },
    {
     "name": "stdout",
     "output_type": "stream",
     "text": [
      "INFO:tensorflow:Assets written to: /Users/yukahatori/A_Fairness/FairnessML_git/NOAA_and_CAISO_Data_ONEYEAR/model4/assets\n"
     ]
    },
    {
     "name": "stderr",
     "output_type": "stream",
     "text": [
      "INFO:tensorflow:Assets written to: /Users/yukahatori/A_Fairness/FairnessML_git/NOAA_and_CAISO_Data_ONEYEAR/model4/assets\n",
      "WARNING:absl:<keras.layers.recurrent.LSTMCell object at 0x7f9c283ec580> has the same name 'LSTMCell' as a built-in Keras object. Consider renaming <class 'keras.layers.recurrent.LSTMCell'> to avoid naming conflicts when loading with `tf.keras.models.load_model`. If renaming is not possible, pass the object in the `custom_objects` parameter of the load function.\n"
     ]
    },
    {
     "name": "stdout",
     "output_type": "stream",
     "text": [
      "165/165 [==============================] - 4s 24ms/step - loss: 2.4378 - root_mean_squared_error: 1.5614 - val_loss: 4.9127 - val_root_mean_squared_error: 2.2165\n",
      "Epoch 3/10\n",
      "152/165 [==========================>...] - ETA: 0s - loss: 0.4095 - root_mean_squared_error: 0.6399"
     ]
    },
    {
     "name": "stderr",
     "output_type": "stream",
     "text": [
      "WARNING:absl:Found untraced functions such as lstm_cell_17_layer_call_fn, lstm_cell_17_layer_call_and_return_conditional_losses, lstm_cell_17_layer_call_fn, lstm_cell_17_layer_call_and_return_conditional_losses, lstm_cell_17_layer_call_and_return_conditional_losses while saving (showing 5 of 5). These functions will not be directly callable after loading.\n"
     ]
    },
    {
     "name": "stdout",
     "output_type": "stream",
     "text": [
      "INFO:tensorflow:Assets written to: /Users/yukahatori/A_Fairness/FairnessML_git/NOAA_and_CAISO_Data_ONEYEAR/model4/assets\n"
     ]
    },
    {
     "name": "stderr",
     "output_type": "stream",
     "text": [
      "INFO:tensorflow:Assets written to: /Users/yukahatori/A_Fairness/FairnessML_git/NOAA_and_CAISO_Data_ONEYEAR/model4/assets\n",
      "WARNING:absl:<keras.layers.recurrent.LSTMCell object at 0x7f9c283ec580> has the same name 'LSTMCell' as a built-in Keras object. Consider renaming <class 'keras.layers.recurrent.LSTMCell'> to avoid naming conflicts when loading with `tf.keras.models.load_model`. If renaming is not possible, pass the object in the `custom_objects` parameter of the load function.\n"
     ]
    },
    {
     "name": "stdout",
     "output_type": "stream",
     "text": [
      "165/165 [==============================] - 3s 20ms/step - loss: 0.3992 - root_mean_squared_error: 0.6318 - val_loss: 2.5542 - val_root_mean_squared_error: 1.5982\n",
      "Epoch 4/10\n",
      "165/165 [==============================] - 1s 3ms/step - loss: 0.1769 - root_mean_squared_error: 0.4206 - val_loss: 2.5736 - val_root_mean_squared_error: 1.6042\n",
      "Epoch 5/10\n",
      "165/165 [==============================] - 1s 3ms/step - loss: 0.1175 - root_mean_squared_error: 0.3428 - val_loss: 2.5706 - val_root_mean_squared_error: 1.6033\n",
      "Epoch 6/10\n",
      "165/165 [==============================] - 1s 3ms/step - loss: 0.0950 - root_mean_squared_error: 0.3083 - val_loss: 2.8223 - val_root_mean_squared_error: 1.6800\n",
      "Epoch 7/10\n",
      "152/165 [==========================>...] - ETA: 0s - loss: 0.0905 - root_mean_squared_error: 0.3009"
     ]
    },
    {
     "name": "stderr",
     "output_type": "stream",
     "text": [
      "WARNING:absl:Found untraced functions such as lstm_cell_17_layer_call_fn, lstm_cell_17_layer_call_and_return_conditional_losses, lstm_cell_17_layer_call_fn, lstm_cell_17_layer_call_and_return_conditional_losses, lstm_cell_17_layer_call_and_return_conditional_losses while saving (showing 5 of 5). These functions will not be directly callable after loading.\n"
     ]
    },
    {
     "name": "stdout",
     "output_type": "stream",
     "text": [
      "INFO:tensorflow:Assets written to: /Users/yukahatori/A_Fairness/FairnessML_git/NOAA_and_CAISO_Data_ONEYEAR/model4/assets\n"
     ]
    },
    {
     "name": "stderr",
     "output_type": "stream",
     "text": [
      "INFO:tensorflow:Assets written to: /Users/yukahatori/A_Fairness/FairnessML_git/NOAA_and_CAISO_Data_ONEYEAR/model4/assets\n",
      "WARNING:absl:<keras.layers.recurrent.LSTMCell object at 0x7f9c283ec580> has the same name 'LSTMCell' as a built-in Keras object. Consider renaming <class 'keras.layers.recurrent.LSTMCell'> to avoid naming conflicts when loading with `tf.keras.models.load_model`. If renaming is not possible, pass the object in the `custom_objects` parameter of the load function.\n"
     ]
    },
    {
     "name": "stdout",
     "output_type": "stream",
     "text": [
      "165/165 [==============================] - 4s 22ms/step - loss: 0.0905 - root_mean_squared_error: 0.3008 - val_loss: 2.2724 - val_root_mean_squared_error: 1.5075\n",
      "Epoch 8/10\n",
      "165/165 [==============================] - 1s 4ms/step - loss: 0.0836 - root_mean_squared_error: 0.2891 - val_loss: 2.4516 - val_root_mean_squared_error: 1.5658\n",
      "Epoch 9/10\n",
      "165/165 [==============================] - 1s 4ms/step - loss: 0.0735 - root_mean_squared_error: 0.2712 - val_loss: 2.2754 - val_root_mean_squared_error: 1.5085\n",
      "Epoch 10/10\n",
      "164/165 [============================>.] - ETA: 0s - loss: 0.0710 - root_mean_squared_error: 0.2665"
     ]
    },
    {
     "name": "stderr",
     "output_type": "stream",
     "text": [
      "WARNING:absl:Found untraced functions such as lstm_cell_17_layer_call_fn, lstm_cell_17_layer_call_and_return_conditional_losses, lstm_cell_17_layer_call_fn, lstm_cell_17_layer_call_and_return_conditional_losses, lstm_cell_17_layer_call_and_return_conditional_losses while saving (showing 5 of 5). These functions will not be directly callable after loading.\n"
     ]
    },
    {
     "name": "stdout",
     "output_type": "stream",
     "text": [
      "INFO:tensorflow:Assets written to: /Users/yukahatori/A_Fairness/FairnessML_git/NOAA_and_CAISO_Data_ONEYEAR/model4/assets\n"
     ]
    },
    {
     "name": "stderr",
     "output_type": "stream",
     "text": [
      "INFO:tensorflow:Assets written to: /Users/yukahatori/A_Fairness/FairnessML_git/NOAA_and_CAISO_Data_ONEYEAR/model4/assets\n",
      "WARNING:absl:<keras.layers.recurrent.LSTMCell object at 0x7f9c283ec580> has the same name 'LSTMCell' as a built-in Keras object. Consider renaming <class 'keras.layers.recurrent.LSTMCell'> to avoid naming conflicts when loading with `tf.keras.models.load_model`. If renaming is not possible, pass the object in the `custom_objects` parameter of the load function.\n"
     ]
    },
    {
     "name": "stdout",
     "output_type": "stream",
     "text": [
      "\b\b\b\b\b\b\b\b\b\b\b\b\b\b\b\b\b\b\b\b\b\b\b\b\b\b\b\b\b\b\b\b\b\b\b\b\b\b\b\b\b\b\b\b\b\b\b\b\b\b\b\b\b\b\b\b\b\b\b\b\b\b\b\b\b\b\b\b\b\b\b\b\b\b\b\b\b\b\b\b\b\b\b\b\b\b\b\b\b\b\b\b\b\b\b\b\b\b\b\r",
      "165/165 [==============================] - 4s 22ms/step - loss: 0.0710 - root_mean_squared_error: 0.2665 - val_loss: 1.7985 - val_root_mean_squared_error: 1.3411\n"
     ]
    },
    {
     "data": {
      "text/plain": [
       "<keras.callbacks.History at 0x7f9c2b0c10a0>"
      ]
     },
     "execution_count": 260,
     "metadata": {},
     "output_type": "execute_result"
    }
   ],
   "source": [
    "model4.fit(X2_train, y2_train, validation_data=(X2_val, y2_val), epochs = 10, callbacks = [cp4])"
   ]
  },
  {
   "cell_type": "code",
   "execution_count": 261,
   "id": "cc9e7a4c",
   "metadata": {},
   "outputs": [
    {
     "data": {
      "text/plain": [
       "(      Predictions  Actuals\n",
       " 0       54.807800     56.6\n",
       " 1       53.856045     56.1\n",
       " 2       53.034775     55.8\n",
       " 3       52.495010     55.6\n",
       " 4       52.440041     55.9\n",
       " ...           ...      ...\n",
       " 1745    51.717781     51.5\n",
       " 1746    51.207809     51.0\n",
       " 1747    50.701431     50.5\n",
       " 1748    50.164665     49.8\n",
       " 1749    49.600052     49.4\n",
       " \n",
       " [1750 rows x 2 columns],\n",
       " 3.3811193443161836)"
      ]
     },
     "execution_count": 261,
     "metadata": {},
     "output_type": "execute_result"
    },
    {
     "data": {
      "image/png": "[encoded data removed]",
      "text/plain": [
       "<Figure size 432x288 with 1 Axes>"
      ]
     },
     "metadata": {
      "needs_background": "light"
     },
     "output_type": "display_data"
    }
   ],
   "source": [
    "plot_predictions1(model4, X2_test, y2_test)"
   ]
  },
  {
   "cell_type": "code",
   "execution_count": 262,
   "id": "3d02e12a",
   "metadata": {},
   "outputs": [
    {
     "data": {
      "text/html": [
       "<div>\n",
       "<style scoped>\n",
       "    .dataframe tbody tr th:only-of-type {\n",
       "        vertical-align: middle;\n",
       "    }\n",
       "\n",
       "    .dataframe tbody tr th {\n",
       "        vertical-align: top;\n",
       "    }\n",
       "\n",
       "    .dataframe thead th {\n",
       "        text-align: right;\n",
       "    }\n",
       "</style>\n",
       "<table border=\"1\" class=\"dataframe\">\n",
       "  <thead>\n",
       "    <tr style=\"text-align: right;\">\n",
       "      <th></th>\n",
       "      <th>HLY_DEWP_NORMAL_SF</th>\n",
       "      <th>Hly_Normal</th>\n",
       "      <th>Day sin</th>\n",
       "      <th>Day cos</th>\n",
       "      <th>Year sin</th>\n",
       "      <th>Year cos</th>\n",
       "    </tr>\n",
       "    <tr>\n",
       "      <th>date</th>\n",
       "      <th></th>\n",
       "      <th></th>\n",
       "      <th></th>\n",
       "      <th></th>\n",
       "      <th></th>\n",
       "      <th></th>\n",
       "    </tr>\n",
       "  </thead>\n",
       "  <tbody>\n",
       "    <tr>\n",
       "      <th>2019-01-01 00:00:00</th>\n",
       "      <td>43.2</td>\n",
       "      <td>48.8</td>\n",
       "      <td>-5.030095e-12</td>\n",
       "      <td>1.000000</td>\n",
       "      <td>0.002021</td>\n",
       "      <td>0.999998</td>\n",
       "    </tr>\n",
       "    <tr>\n",
       "      <th>2019-01-01 01:00:00</th>\n",
       "      <td>43.1</td>\n",
       "      <td>48.5</td>\n",
       "      <td>2.588190e-01</td>\n",
       "      <td>0.965926</td>\n",
       "      <td>0.002738</td>\n",
       "      <td>0.999996</td>\n",
       "    </tr>\n",
       "    <tr>\n",
       "      <th>2019-01-01 02:00:00</th>\n",
       "      <td>42.6</td>\n",
       "      <td>47.6</td>\n",
       "      <td>5.000000e-01</td>\n",
       "      <td>0.866025</td>\n",
       "      <td>0.003455</td>\n",
       "      <td>0.999994</td>\n",
       "    </tr>\n",
       "    <tr>\n",
       "      <th>2019-01-01 03:00:00</th>\n",
       "      <td>42.3</td>\n",
       "      <td>47.2</td>\n",
       "      <td>7.071068e-01</td>\n",
       "      <td>0.707107</td>\n",
       "      <td>0.004172</td>\n",
       "      <td>0.999991</td>\n",
       "    </tr>\n",
       "    <tr>\n",
       "      <th>2019-01-01 04:00:00</th>\n",
       "      <td>42.2</td>\n",
       "      <td>46.8</td>\n",
       "      <td>8.660254e-01</td>\n",
       "      <td>0.500000</td>\n",
       "      <td>0.004888</td>\n",
       "      <td>0.999988</td>\n",
       "    </tr>\n",
       "  </tbody>\n",
       "</table>\n",
       "</div>"
      ],
      "text/plain": [
       "                     HLY_DEWP_NORMAL_SF  Hly_Normal       Day sin   Day cos  \\\n",
       "date                                                                          \n",
       "2019-01-01 00:00:00                43.2        48.8 -5.030095e-12  1.000000   \n",
       "2019-01-01 01:00:00                43.1        48.5  2.588190e-01  0.965926   \n",
       "2019-01-01 02:00:00                42.6        47.6  5.000000e-01  0.866025   \n",
       "2019-01-01 03:00:00                42.3        47.2  7.071068e-01  0.707107   \n",
       "2019-01-01 04:00:00                42.2        46.8  8.660254e-01  0.500000   \n",
       "\n",
       "                     Year sin  Year cos  \n",
       "date                                     \n",
       "2019-01-01 00:00:00  0.002021  0.999998  \n",
       "2019-01-01 01:00:00  0.002738  0.999996  \n",
       "2019-01-01 02:00:00  0.003455  0.999994  \n",
       "2019-01-01 03:00:00  0.004172  0.999991  \n",
       "2019-01-01 04:00:00  0.004888  0.999988  "
      ]
     },
     "execution_count": 262,
     "metadata": {},
     "output_type": "execute_result"
    }
   ],
   "source": [
    "#add pressure and try to predict it at each time step\n",
    "p_temp_df = pd.concat([df['HLY_DEWP_NORMAL'+location], temp_df], axis = 1)\n",
    "p_temp_df.head()"
   ]
  },
  {
   "cell_type": "code",
   "execution_count": 263,
   "id": "9b51490e",
   "metadata": {},
   "outputs": [],
   "source": [
    "def df_to_X_y3(df, window_size= 7):\n",
    "    df_as_np = df.to_numpy()\n",
    "    X = []\n",
    "    y = []\n",
    "    for i in range(len(df_as_np)-window_size):\n",
    "        row = [ r for r in df_as_np[i:i+window_size]]\n",
    "        X.append(row)\n",
    "        label = [df_as_np[i+window_size][0],df_as_np[i+window_size][1]]\n",
    "        y.append(label)\n",
    "    return np.array(X), np.array(y)\n",
    "        "
   ]
  },
  {
   "cell_type": "code",
   "execution_count": 264,
   "id": "e44597b1",
   "metadata": {},
   "outputs": [
    {
     "data": {
      "text/plain": [
       "((8753, 7, 6), (8753, 2))"
      ]
     },
     "execution_count": 264,
     "metadata": {},
     "output_type": "execute_result"
    }
   ],
   "source": [
    "X3, y3 = df_to_X_y3(p_temp_df)\n",
    "X3.shape, y3.shape"
   ]
  },
  {
   "cell_type": "code",
   "execution_count": 265,
   "id": "d3b19a83",
   "metadata": {},
   "outputs": [
    {
     "data": {
      "text/plain": [
       "((5253, 7, 6), (5253, 2), (1751, 7, 6), (1751, 2), (1749, 7, 6), (1749, 2))"
      ]
     },
     "execution_count": 265,
     "metadata": {},
     "output_type": "execute_result"
    }
   ],
   "source": [
    "train_percent = 0.6\n",
    "validation_percent = 0.2\n",
    "test_percent = 0.2\n",
    "train_percent_split = int(train_percent * len(X))\n",
    "validation_percent_split = int(validation_percent * len(X)) + train_percent_split\n",
    "test_percent_split = int(test_percent * len(X))\n",
    "\n",
    "X3_train, y3_train = X3[:train_percent_split], y3[:train_percent_split]\n",
    "X3_val, y3_val = X3[train_percent_split:validation_percent_split], y3[train_percent_split:validation_percent_split]\n",
    "X3_test, y3_test = X3[validation_percent_split:], y3[validation_percent_split:]\n",
    "X3_train.shape, y3_train.shape, X3_val.shape, y3_val.shape, X3_test.shape, y3_test.shape"
   ]
  },
  {
   "cell_type": "code",
   "execution_count": 266,
   "id": "52fff511",
   "metadata": {},
   "outputs": [],
   "source": [
    "p_training_mean3 = np.mean(X3_train[:,:,0])\n",
    "p_training_std3 = np.mean(X3_train[:,:,0])"
   ]
  },
  {
   "cell_type": "code",
   "execution_count": 267,
   "id": "f9fc1d1b",
   "metadata": {},
   "outputs": [],
   "source": [
    "def preprocess3(X):\n",
    "    X[:,:,0] = (X[:,:,0] - p_training_mean3)/p_training_std3\n",
    "    X[:,:,1] = (X[:,:,1] - p_training_std3)/p_training_std3\n",
    "\n",
    "def preprocess_output(y):\n",
    "    y[:,0] = (y[:,0] - p_training_mean3)/p_training_std3\n",
    "    y[:,1] = (y[:,1] - p_training_mean3)/p_training_std3\n",
    "    return y"
   ]
  },
  {
   "cell_type": "code",
   "execution_count": 268,
   "id": "10b731ff",
   "metadata": {},
   "outputs": [],
   "source": [
    "preprocess3(X3_train)\n",
    "preprocess3(X3_val)\n",
    "preprocess3(X3_test)"
   ]
  },
  {
   "cell_type": "code",
   "execution_count": 269,
   "id": "d7cee2ac",
   "metadata": {},
   "outputs": [
    {
     "data": {
      "text/plain": [
       "array([[[-9.99035688e-01, -9.94544366e-01, -1.01808419e+00,\n",
       "         -9.89559087e-01, -1.01988662e+00, -9.93630293e-01],\n",
       "        [-9.98992083e-01, -9.94805996e-01, -1.01476568e+00,\n",
       "         -9.85234319e-01, -1.01988205e+00, -9.93616041e-01],\n",
       "        [ 5.24440442e-02,  2.36204115e-01, -5.00000000e-01,\n",
       "          8.66025404e-01, -9.51902586e-01,  3.06400826e-01],\n",
       "        ...,\n",
       "        [ 4.61794964e-02,  2.06969559e-01, -1.32152666e-12,\n",
       "          1.00000000e+00, -9.51462363e-01,  3.07765125e-01],\n",
       "        [ 3.99149485e-02,  1.98616828e-01,  2.58819045e-01,\n",
       "          9.65925826e-01, -9.51241518e-01,  3.08447037e-01],\n",
       "        [ 3.15622180e-02,  1.81911367e-01,  5.00000000e-01,\n",
       "          8.66025404e-01, -9.51020184e-01,  3.09128791e-01]],\n",
       "\n",
       "       [[-9.98992083e-01, -9.94805996e-01, -1.01476568e+00,\n",
       "         -9.85234319e-01, -1.01988205e+00, -9.93616041e-01],\n",
       "        [-9.98904873e-01, -9.95067627e-01, -1.01044091e+00,\n",
       "         -9.81915808e-01, -1.01987746e+00, -9.93601791e-01],\n",
       "        [ 5.24440442e-02,  2.19498654e-01, -2.58819045e-01,\n",
       "          9.65925826e-01, -9.51682719e-01,  3.07083054e-01],\n",
       "        ...,\n",
       "        [ 3.99149485e-02,  1.98616828e-01,  2.58819045e-01,\n",
       "          9.65925826e-01, -9.51241518e-01,  3.08447037e-01],\n",
       "        [ 3.15622180e-02,  1.81911367e-01,  5.00000000e-01,\n",
       "          8.66025404e-01, -9.51020184e-01,  3.09128791e-01],\n",
       "        [ 2.52976701e-02,  1.71470454e-01,  7.07106781e-01,\n",
       "          7.07106781e-01, -9.50798362e-01,  3.09810386e-01]],\n",
       "\n",
       "       [[-9.98904873e-01, -9.95067627e-01, -1.01044091e+00,\n",
       "         -9.81915808e-01, -1.01987746e+00, -9.93601791e-01],\n",
       "        [-9.98904873e-01, -9.95416467e-01, -1.00540461e+00,\n",
       "         -9.79829705e-01, -1.01987287e+00, -9.93587545e-01],\n",
       "        [ 4.61794964e-02,  2.06969559e-01, -1.32152666e-12,\n",
       "          1.00000000e+00, -9.51462363e-01,  3.07765125e-01],\n",
       "        ...,\n",
       "        [ 3.15622180e-02,  1.81911367e-01,  5.00000000e-01,\n",
       "          8.66025404e-01, -9.51020184e-01,  3.09128791e-01],\n",
       "        [ 2.52976701e-02,  1.71470454e-01,  7.07106781e-01,\n",
       "          7.07106781e-01, -9.50798362e-01,  3.09810386e-01],\n",
       "        [ 2.52976701e-02,  1.65205906e-01,  8.66025404e-01,\n",
       "          5.00000000e-01, -9.50576051e-01,  3.10491822e-01]],\n",
       "\n",
       "       ...,\n",
       "\n",
       "       [[-1.00195723e+00, -9.97422300e-01, -1.01044091e+00,\n",
       "         -1.01808419e+00, -1.00019458e+00, -9.79119080e-01],\n",
       "        [-1.00191362e+00, -9.97291485e-01, -1.01476568e+00,\n",
       "         -1.01476568e+00, -1.00017961e+00, -9.79118946e-01],\n",
       "        [-9.16405570e-02,  1.23442254e-01, -8.66025404e-01,\n",
       "         -5.00000000e-01, -7.88452447e-03,  9.99968917e-01],\n",
       "        ...,\n",
       "        [-8.32878265e-02,  9.00313315e-02, -1.00000000e+00,\n",
       "         -5.10699813e-12, -6.45099666e-03,  9.99979192e-01],\n",
       "        [-8.32878265e-02,  7.54140531e-02, -9.65925826e-01,\n",
       "          2.58819045e-01, -5.73422760e-03,  9.99983559e-01],\n",
       "        [-8.95523744e-02,  6.49731400e-02, -8.66025404e-01,\n",
       "          5.00000000e-01, -5.01745560e-03,  9.99987412e-01]],\n",
       "\n",
       "       [[-1.00191362e+00, -9.97291485e-01, -1.01476568e+00,\n",
       "         -1.01476568e+00, -1.00017961e+00, -9.79118946e-01],\n",
       "        [-1.00191362e+00, -9.97422300e-01, -1.01808419e+00,\n",
       "         -1.01044091e+00, -1.00016464e+00, -9.79118823e-01],\n",
       "        [-8.74641918e-02,  1.06736793e-01, -9.65925826e-01,\n",
       "         -2.58819045e-01, -7.16776241e-03,  9.99974311e-01],\n",
       "        ...,\n",
       "        [-8.32878265e-02,  7.54140531e-02, -9.65925826e-01,\n",
       "          2.58819045e-01, -5.73422760e-03,  9.99983559e-01],\n",
       "        [-8.95523744e-02,  6.49731400e-02, -8.66025404e-01,\n",
       "          5.00000000e-01, -5.01745560e-03,  9.99987412e-01],\n",
       "        [-9.16405570e-02,  5.45322269e-02, -7.07106781e-01,\n",
       "          7.07106781e-01, -4.30068101e-03,  9.99990752e-01]],\n",
       "\n",
       "       [[-1.00191362e+00, -9.97422300e-01, -1.01808419e+00,\n",
       "         -1.01044091e+00, -1.00016464e+00, -9.79118823e-01],\n",
       "        [-1.00182641e+00, -9.97771141e-01, -1.02017030e+00,\n",
       "         -1.00540461e+00, -1.00014968e+00, -9.79118710e-01],\n",
       "        [-8.32878265e-02,  9.00313315e-02, -1.00000000e+00,\n",
       "         -5.10699813e-12, -6.45099666e-03,  9.99979192e-01],\n",
       "        ...,\n",
       "        [-8.95523744e-02,  6.49731400e-02, -8.66025404e-01,\n",
       "          5.00000000e-01, -5.01745560e-03,  9.99987412e-01],\n",
       "        [-9.16405570e-02,  5.45322269e-02, -7.07106781e-01,\n",
       "          7.07106781e-01, -4.30068101e-03,  9.99990752e-01],\n",
       "        [-9.37287397e-02,  3.99149485e-02, -5.00000000e-01,\n",
       "          8.66025404e-01, -3.58390422e-03,  9.99993578e-01]]])"
      ]
     },
     "execution_count": 269,
     "metadata": {},
     "output_type": "execute_result"
    }
   ],
   "source": [
    "preprocess_output(X3_train)\n",
    "preprocess_output(X3_val)\n",
    "preprocess_output(X3_test)"
   ]
  },
  {
   "cell_type": "code",
   "execution_count": 270,
   "id": "6d9c70f5",
   "metadata": {},
   "outputs": [
    {
     "name": "stdout",
     "output_type": "stream",
     "text": [
      "Model: \"sequential_15\"\n",
      "_________________________________________________________________\n",
      " Layer (type)                Output Shape              Param #   \n",
      "=================================================================\n",
      " lstm_11 (LSTM)              (None, 64)                18176     \n",
      "                                                                 \n",
      " dense_30 (Dense)            (None, 8)                 520       \n",
      "                                                                 \n",
      " dense_31 (Dense)            (None, 2)                 18        \n",
      "                                                                 \n",
      "=================================================================\n",
      "Total params: 18,714\n",
      "Trainable params: 18,714\n",
      "Non-trainable params: 0\n",
      "_________________________________________________________________\n"
     ]
    }
   ],
   "source": [
    "model5 = Sequential()\n",
    "model5.add(InputLayer((7,6))) #six time steps, 7 variables of input\n",
    "model5.add(LSTM(64)) #how many windows do we want to slide across\n",
    "model5.add(Dense(8, 'relu'))\n",
    "model5.add(Dense(2, 'linear')) #linear value, pos or neg (for temp)\n",
    "model5.summary()"
   ]
  },
  {
   "cell_type": "code",
   "execution_count": 271,
   "id": "b8b79c17",
   "metadata": {},
   "outputs": [],
   "source": [
    "cp5 = ModelCheckpoint(directory + 'model5/', save_best_only = True) #I want to only save the best model (lowest validation loss)\n",
    "#learning rate = higher the value, faster model tries to decrease loss\n",
    "#but we don't want to dec super fast bc it won't find local min/max\n",
    "model5.compile(loss = MeanSquaredError(), optimizer =Adam(learning_rate = 0.001), metrics = [RootMeanSquaredError()])\n"
   ]
  },
  {
   "cell_type": "code",
   "execution_count": 273,
   "id": "6c6e7cf1",
   "metadata": {},
   "outputs": [
    {
     "name": "stdout",
     "output_type": "stream",
     "text": [
      "Epoch 1/20\n",
      "161/165 [============================>.] - ETA: 0s - loss: 5.7387 - root_mean_squared_error: 2.3956"
     ]
    },
    {
     "name": "stderr",
     "output_type": "stream",
     "text": [
      "WARNING:absl:Found untraced functions such as lstm_cell_19_layer_call_fn, lstm_cell_19_layer_call_and_return_conditional_losses, lstm_cell_19_layer_call_fn, lstm_cell_19_layer_call_and_return_conditional_losses, lstm_cell_19_layer_call_and_return_conditional_losses while saving (showing 5 of 5). These functions will not be directly callable after loading.\n"
     ]
    },
    {
     "name": "stdout",
     "output_type": "stream",
     "text": [
      "INFO:tensorflow:Assets written to: /Users/yukahatori/A_Fairness/FairnessML_git/NOAA_and_CAISO_Data_ONEYEAR/model5/assets\n"
     ]
    },
    {
     "name": "stderr",
     "output_type": "stream",
     "text": [
      "INFO:tensorflow:Assets written to: /Users/yukahatori/A_Fairness/FairnessML_git/NOAA_and_CAISO_Data_ONEYEAR/model5/assets\n",
      "WARNING:absl:<keras.layers.recurrent.LSTMCell object at 0x7f9c2daac940> has the same name 'LSTMCell' as a built-in Keras object. Consider renaming <class 'keras.layers.recurrent.LSTMCell'> to avoid naming conflicts when loading with `tf.keras.models.load_model`. If renaming is not possible, pass the object in the `custom_objects` parameter of the load function.\n"
     ]
    },
    {
     "name": "stdout",
     "output_type": "stream",
     "text": [
      "165/165 [==============================] - 4s 25ms/step - loss: 5.6926 - root_mean_squared_error: 2.3859 - val_loss: 17.7922 - val_root_mean_squared_error: 4.2181\n",
      "Epoch 2/20\n",
      "149/165 [==========================>...] - ETA: 0s - loss: 3.3808 - root_mean_squared_error: 1.8387"
     ]
    },
    {
     "name": "stderr",
     "output_type": "stream",
     "text": [
      "WARNING:absl:Found untraced functions such as lstm_cell_19_layer_call_fn, lstm_cell_19_layer_call_and_return_conditional_losses, lstm_cell_19_layer_call_fn, lstm_cell_19_layer_call_and_return_conditional_losses, lstm_cell_19_layer_call_and_return_conditional_losses while saving (showing 5 of 5). These functions will not be directly callable after loading.\n"
     ]
    },
    {
     "name": "stdout",
     "output_type": "stream",
     "text": [
      "INFO:tensorflow:Assets written to: /Users/yukahatori/A_Fairness/FairnessML_git/NOAA_and_CAISO_Data_ONEYEAR/model5/assets\n"
     ]
    },
    {
     "name": "stderr",
     "output_type": "stream",
     "text": [
      "INFO:tensorflow:Assets written to: /Users/yukahatori/A_Fairness/FairnessML_git/NOAA_and_CAISO_Data_ONEYEAR/model5/assets\n",
      "WARNING:absl:<keras.layers.recurrent.LSTMCell object at 0x7f9c2daac940> has the same name 'LSTMCell' as a built-in Keras object. Consider renaming <class 'keras.layers.recurrent.LSTMCell'> to avoid naming conflicts when loading with `tf.keras.models.load_model`. If renaming is not possible, pass the object in the `custom_objects` parameter of the load function.\n"
     ]
    },
    {
     "name": "stdout",
     "output_type": "stream",
     "text": [
      "165/165 [==============================] - 4s 22ms/step - loss: 3.3081 - root_mean_squared_error: 1.8188 - val_loss: 10.9045 - val_root_mean_squared_error: 3.3022\n",
      "Epoch 3/20\n",
      "165/165 [==============================] - 1s 4ms/step - loss: 2.1592 - root_mean_squared_error: 1.4694 - val_loss: 11.1000 - val_root_mean_squared_error: 3.3317\n",
      "Epoch 4/20\n",
      "160/165 [============================>.] - ETA: 0s - loss: 1.4975 - root_mean_squared_error: 1.2237"
     ]
    },
    {
     "name": "stderr",
     "output_type": "stream",
     "text": [
      "WARNING:absl:Found untraced functions such as lstm_cell_19_layer_call_fn, lstm_cell_19_layer_call_and_return_conditional_losses, lstm_cell_19_layer_call_fn, lstm_cell_19_layer_call_and_return_conditional_losses, lstm_cell_19_layer_call_and_return_conditional_losses while saving (showing 5 of 5). These functions will not be directly callable after loading.\n"
     ]
    },
    {
     "name": "stdout",
     "output_type": "stream",
     "text": [
      "INFO:tensorflow:Assets written to: /Users/yukahatori/A_Fairness/FairnessML_git/NOAA_and_CAISO_Data_ONEYEAR/model5/assets\n"
     ]
    },
    {
     "name": "stderr",
     "output_type": "stream",
     "text": [
      "INFO:tensorflow:Assets written to: /Users/yukahatori/A_Fairness/FairnessML_git/NOAA_and_CAISO_Data_ONEYEAR/model5/assets\n",
      "WARNING:absl:<keras.layers.recurrent.LSTMCell object at 0x7f9c2daac940> has the same name 'LSTMCell' as a built-in Keras object. Consider renaming <class 'keras.layers.recurrent.LSTMCell'> to avoid naming conflicts when loading with `tf.keras.models.load_model`. If renaming is not possible, pass the object in the `custom_objects` parameter of the load function.\n"
     ]
    },
    {
     "name": "stdout",
     "output_type": "stream",
     "text": [
      "165/165 [==============================] - 3s 21ms/step - loss: 1.4876 - root_mean_squared_error: 1.2197 - val_loss: 7.6709 - val_root_mean_squared_error: 2.7696\n",
      "Epoch 5/20\n",
      "165/165 [==============================] - 1s 4ms/step - loss: 1.0759 - root_mean_squared_error: 1.0372 - val_loss: 9.0993 - val_root_mean_squared_error: 3.0165\n",
      "Epoch 6/20\n",
      "165/165 [==============================] - 1s 4ms/step - loss: 0.8362 - root_mean_squared_error: 0.9145 - val_loss: 8.3851 - val_root_mean_squared_error: 2.8957\n",
      "Epoch 7/20\n",
      "165/165 [==============================] - 1s 4ms/step - loss: 0.6829 - root_mean_squared_error: 0.8264 - val_loss: 11.0801 - val_root_mean_squared_error: 3.3287\n",
      "Epoch 8/20\n",
      "165/165 [==============================] - 1s 4ms/step - loss: 0.6070 - root_mean_squared_error: 0.7791 - val_loss: 7.9218 - val_root_mean_squared_error: 2.8146\n",
      "Epoch 9/20\n",
      "165/165 [==============================] - 1s 4ms/step - loss: 0.5126 - root_mean_squared_error: 0.7160 - val_loss: 9.2812 - val_root_mean_squared_error: 3.0465\n",
      "Epoch 10/20\n",
      "165/165 [==============================] - 1s 4ms/step - loss: 0.4554 - root_mean_squared_error: 0.6748 - val_loss: 7.9818 - val_root_mean_squared_error: 2.8252\n",
      "Epoch 11/20\n",
      "155/165 [===========================>..] - ETA: 0s - loss: 0.3628 - root_mean_squared_error: 0.6023"
     ]
    },
    {
     "name": "stderr",
     "output_type": "stream",
     "text": [
      "WARNING:absl:Found untraced functions such as lstm_cell_19_layer_call_fn, lstm_cell_19_layer_call_and_return_conditional_losses, lstm_cell_19_layer_call_fn, lstm_cell_19_layer_call_and_return_conditional_losses, lstm_cell_19_layer_call_and_return_conditional_losses while saving (showing 5 of 5). These functions will not be directly callable after loading.\n"
     ]
    },
    {
     "name": "stdout",
     "output_type": "stream",
     "text": [
      "INFO:tensorflow:Assets written to: /Users/yukahatori/A_Fairness/FairnessML_git/NOAA_and_CAISO_Data_ONEYEAR/model5/assets\n"
     ]
    },
    {
     "name": "stderr",
     "output_type": "stream",
     "text": [
      "INFO:tensorflow:Assets written to: /Users/yukahatori/A_Fairness/FairnessML_git/NOAA_and_CAISO_Data_ONEYEAR/model5/assets\n",
      "WARNING:absl:<keras.layers.recurrent.LSTMCell object at 0x7f9c2daac940> has the same name 'LSTMCell' as a built-in Keras object. Consider renaming <class 'keras.layers.recurrent.LSTMCell'> to avoid naming conflicts when loading with `tf.keras.models.load_model`. If renaming is not possible, pass the object in the `custom_objects` parameter of the load function.\n"
     ]
    },
    {
     "name": "stdout",
     "output_type": "stream",
     "text": [
      "165/165 [==============================] - 4s 22ms/step - loss: 0.3632 - root_mean_squared_error: 0.6027 - val_loss: 7.0129 - val_root_mean_squared_error: 2.6482\n",
      "Epoch 12/20\n",
      "165/165 [==============================] - 1s 4ms/step - loss: 0.3113 - root_mean_squared_error: 0.5580 - val_loss: 7.6589 - val_root_mean_squared_error: 2.7675\n",
      "Epoch 13/20\n",
      "153/165 [==========================>...] - ETA: 0s - loss: 0.2778 - root_mean_squared_error: 0.5271"
     ]
    },
    {
     "name": "stderr",
     "output_type": "stream",
     "text": [
      "WARNING:absl:Found untraced functions such as lstm_cell_19_layer_call_fn, lstm_cell_19_layer_call_and_return_conditional_losses, lstm_cell_19_layer_call_fn, lstm_cell_19_layer_call_and_return_conditional_losses, lstm_cell_19_layer_call_and_return_conditional_losses while saving (showing 5 of 5). These functions will not be directly callable after loading.\n"
     ]
    },
    {
     "name": "stdout",
     "output_type": "stream",
     "text": [
      "INFO:tensorflow:Assets written to: /Users/yukahatori/A_Fairness/FairnessML_git/NOAA_and_CAISO_Data_ONEYEAR/model5/assets\n"
     ]
    },
    {
     "name": "stderr",
     "output_type": "stream",
     "text": [
      "INFO:tensorflow:Assets written to: /Users/yukahatori/A_Fairness/FairnessML_git/NOAA_and_CAISO_Data_ONEYEAR/model5/assets\n",
      "WARNING:absl:<keras.layers.recurrent.LSTMCell object at 0x7f9c2daac940> has the same name 'LSTMCell' as a built-in Keras object. Consider renaming <class 'keras.layers.recurrent.LSTMCell'> to avoid naming conflicts when loading with `tf.keras.models.load_model`. If renaming is not possible, pass the object in the `custom_objects` parameter of the load function.\n"
     ]
    },
    {
     "name": "stdout",
     "output_type": "stream",
     "text": [
      "165/165 [==============================] - 4s 21ms/step - loss: 0.2799 - root_mean_squared_error: 0.5291 - val_loss: 5.9829 - val_root_mean_squared_error: 2.4460\n",
      "Epoch 14/20\n",
      "156/165 [===========================>..] - ETA: 0s - loss: 0.2508 - root_mean_squared_error: 0.5008"
     ]
    },
    {
     "name": "stderr",
     "output_type": "stream",
     "text": [
      "WARNING:absl:Found untraced functions such as lstm_cell_19_layer_call_fn, lstm_cell_19_layer_call_and_return_conditional_losses, lstm_cell_19_layer_call_fn, lstm_cell_19_layer_call_and_return_conditional_losses, lstm_cell_19_layer_call_and_return_conditional_losses while saving (showing 5 of 5). These functions will not be directly callable after loading.\n"
     ]
    },
    {
     "name": "stdout",
     "output_type": "stream",
     "text": [
      "INFO:tensorflow:Assets written to: /Users/yukahatori/A_Fairness/FairnessML_git/NOAA_and_CAISO_Data_ONEYEAR/model5/assets\n"
     ]
    },
    {
     "name": "stderr",
     "output_type": "stream",
     "text": [
      "INFO:tensorflow:Assets written to: /Users/yukahatori/A_Fairness/FairnessML_git/NOAA_and_CAISO_Data_ONEYEAR/model5/assets\n",
      "WARNING:absl:<keras.layers.recurrent.LSTMCell object at 0x7f9c2daac940> has the same name 'LSTMCell' as a built-in Keras object. Consider renaming <class 'keras.layers.recurrent.LSTMCell'> to avoid naming conflicts when loading with `tf.keras.models.load_model`. If renaming is not possible, pass the object in the `custom_objects` parameter of the load function.\n"
     ]
    },
    {
     "name": "stdout",
     "output_type": "stream",
     "text": [
      "165/165 [==============================] - 4s 27ms/step - loss: 0.2508 - root_mean_squared_error: 0.5008 - val_loss: 5.9716 - val_root_mean_squared_error: 2.4437\n",
      "Epoch 15/20\n",
      "160/165 [============================>.] - ETA: 0s - loss: 0.2437 - root_mean_squared_error: 0.4936"
     ]
    },
    {
     "name": "stderr",
     "output_type": "stream",
     "text": [
      "WARNING:absl:Found untraced functions such as lstm_cell_19_layer_call_fn, lstm_cell_19_layer_call_and_return_conditional_losses, lstm_cell_19_layer_call_fn, lstm_cell_19_layer_call_and_return_conditional_losses, lstm_cell_19_layer_call_and_return_conditional_losses while saving (showing 5 of 5). These functions will not be directly callable after loading.\n"
     ]
    },
    {
     "name": "stdout",
     "output_type": "stream",
     "text": [
      "INFO:tensorflow:Assets written to: /Users/yukahatori/A_Fairness/FairnessML_git/NOAA_and_CAISO_Data_ONEYEAR/model5/assets\n"
     ]
    },
    {
     "name": "stderr",
     "output_type": "stream",
     "text": [
      "INFO:tensorflow:Assets written to: /Users/yukahatori/A_Fairness/FairnessML_git/NOAA_and_CAISO_Data_ONEYEAR/model5/assets\n",
      "WARNING:absl:<keras.layers.recurrent.LSTMCell object at 0x7f9c2daac940> has the same name 'LSTMCell' as a built-in Keras object. Consider renaming <class 'keras.layers.recurrent.LSTMCell'> to avoid naming conflicts when loading with `tf.keras.models.load_model`. If renaming is not possible, pass the object in the `custom_objects` parameter of the load function.\n"
     ]
    },
    {
     "name": "stdout",
     "output_type": "stream",
     "text": [
      "165/165 [==============================] - 4s 23ms/step - loss: 0.2439 - root_mean_squared_error: 0.4939 - val_loss: 5.1375 - val_root_mean_squared_error: 2.2666\n",
      "Epoch 16/20\n",
      "165/165 [==============================] - 1s 4ms/step - loss: 0.2232 - root_mean_squared_error: 0.4724 - val_loss: 5.6366 - val_root_mean_squared_error: 2.3741\n",
      "Epoch 17/20\n",
      "156/165 [===========================>..] - ETA: 0s - loss: 0.2198 - root_mean_squared_error: 0.4688"
     ]
    },
    {
     "name": "stderr",
     "output_type": "stream",
     "text": [
      "WARNING:absl:Found untraced functions such as lstm_cell_19_layer_call_fn, lstm_cell_19_layer_call_and_return_conditional_losses, lstm_cell_19_layer_call_fn, lstm_cell_19_layer_call_and_return_conditional_losses, lstm_cell_19_layer_call_and_return_conditional_losses while saving (showing 5 of 5). These functions will not be directly callable after loading.\n"
     ]
    },
    {
     "name": "stdout",
     "output_type": "stream",
     "text": [
      "INFO:tensorflow:Assets written to: /Users/yukahatori/A_Fairness/FairnessML_git/NOAA_and_CAISO_Data_ONEYEAR/model5/assets\n"
     ]
    },
    {
     "name": "stderr",
     "output_type": "stream",
     "text": [
      "INFO:tensorflow:Assets written to: /Users/yukahatori/A_Fairness/FairnessML_git/NOAA_and_CAISO_Data_ONEYEAR/model5/assets\n",
      "WARNING:absl:<keras.layers.recurrent.LSTMCell object at 0x7f9c2daac940> has the same name 'LSTMCell' as a built-in Keras object. Consider renaming <class 'keras.layers.recurrent.LSTMCell'> to avoid naming conflicts when loading with `tf.keras.models.load_model`. If renaming is not possible, pass the object in the `custom_objects` parameter of the load function.\n"
     ]
    },
    {
     "name": "stdout",
     "output_type": "stream",
     "text": [
      "165/165 [==============================] - 3s 21ms/step - loss: 0.2211 - root_mean_squared_error: 0.4702 - val_loss: 4.6176 - val_root_mean_squared_error: 2.1489\n",
      "Epoch 18/20\n",
      "165/165 [==============================] - 1s 5ms/step - loss: 0.2077 - root_mean_squared_error: 0.4557 - val_loss: 5.4169 - val_root_mean_squared_error: 2.3274\n",
      "Epoch 19/20\n",
      "165/165 [==============================] - 1s 5ms/step - loss: 0.1955 - root_mean_squared_error: 0.4421 - val_loss: 5.2138 - val_root_mean_squared_error: 2.2834\n",
      "Epoch 20/20\n",
      "165/165 [==============================] - 1s 4ms/step - loss: 0.1985 - root_mean_squared_error: 0.4455 - val_loss: 4.9077 - val_root_mean_squared_error: 2.2153\n"
     ]
    },
    {
     "data": {
      "text/plain": [
       "<keras.callbacks.History at 0x7f9c2c7de730>"
      ]
     },
     "execution_count": 273,
     "metadata": {},
     "output_type": "execute_result"
    }
   ],
   "source": [
    "model5.fit(X3_train, y3_train, validation_data=(X3_val, y3_val), epochs = 20, callbacks = [cp5])"
   ]
  },
  {
   "cell_type": "code",
   "execution_count": 274,
   "id": "7bc646c0",
   "metadata": {},
   "outputs": [],
   "source": [
    "def plot_predictions2(model,X,y,start = 0, end =100):\n",
    "    predictions = model.predict(X)\n",
    "    p_preds, temp_preds = predictions[:,0], predictions[:,1]\n",
    "    p_actuals, temp_actuals = y[:,0], y[:,1]\n",
    "    df = pd.DataFrame(data = { 'Temperature predictions': temp_preds,\n",
    "                                'Temperature Actuals': temp_actuals,\n",
    "                                'Pressure Predictions': p_preds,\n",
    "                                'Pressure Actuals': p_actuals\n",
    "        \n",
    "                            })\n",
    "    plt.plot(df['Temperature predictions'][start:end])\n",
    "    plt.plot(df['Temperature Actuals'][start:end])\n",
    "    plt.plot(df['Pressure Predictions'][start:end])\n",
    "    plt.plot(df['Pressure Actuals'][start:end])\n",
    "    return df[start:end]"
   ]
  },
  {
   "cell_type": "code",
   "execution_count": 276,
   "id": "bbe12866",
   "metadata": {},
   "outputs": [
    {
     "data": {
      "text/html": [
       "<div>\n",
       "<style scoped>\n",
       "    .dataframe tbody tr th:only-of-type {\n",
       "        vertical-align: middle;\n",
       "    }\n",
       "\n",
       "    .dataframe tbody tr th {\n",
       "        vertical-align: top;\n",
       "    }\n",
       "\n",
       "    .dataframe thead th {\n",
       "        text-align: right;\n",
       "    }\n",
       "</style>\n",
       "<table border=\"1\" class=\"dataframe\">\n",
       "  <thead>\n",
       "    <tr style=\"text-align: right;\">\n",
       "      <th></th>\n",
       "      <th>Temperature predictions</th>\n",
       "      <th>Temperature Actuals</th>\n",
       "      <th>Pressure Predictions</th>\n",
       "      <th>Pressure Actuals</th>\n",
       "    </tr>\n",
       "  </thead>\n",
       "  <tbody>\n",
       "    <tr>\n",
       "      <th>0</th>\n",
       "      <td>50.434006</td>\n",
       "      <td>56.1</td>\n",
       "      <td>47.743004</td>\n",
       "      <td>49.1</td>\n",
       "    </tr>\n",
       "    <tr>\n",
       "      <th>1</th>\n",
       "      <td>49.966244</td>\n",
       "      <td>55.8</td>\n",
       "      <td>47.473026</td>\n",
       "      <td>49.1</td>\n",
       "    </tr>\n",
       "    <tr>\n",
       "      <th>2</th>\n",
       "      <td>49.888027</td>\n",
       "      <td>55.6</td>\n",
       "      <td>47.393101</td>\n",
       "      <td>49.0</td>\n",
       "    </tr>\n",
       "    <tr>\n",
       "      <th>3</th>\n",
       "      <td>50.234951</td>\n",
       "      <td>55.9</td>\n",
       "      <td>47.514065</td>\n",
       "      <td>49.4</td>\n",
       "    </tr>\n",
       "    <tr>\n",
       "      <th>4</th>\n",
       "      <td>51.253647</td>\n",
       "      <td>56.4</td>\n",
       "      <td>47.963985</td>\n",
       "      <td>49.8</td>\n",
       "    </tr>\n",
       "    <tr>\n",
       "      <th>...</th>\n",
       "      <td>...</td>\n",
       "      <td>...</td>\n",
       "      <td>...</td>\n",
       "      <td>...</td>\n",
       "    </tr>\n",
       "    <tr>\n",
       "      <th>95</th>\n",
       "      <td>50.650162</td>\n",
       "      <td>55.9</td>\n",
       "      <td>47.459183</td>\n",
       "      <td>48.9</td>\n",
       "    </tr>\n",
       "    <tr>\n",
       "      <th>96</th>\n",
       "      <td>49.881290</td>\n",
       "      <td>55.4</td>\n",
       "      <td>47.040871</td>\n",
       "      <td>48.7</td>\n",
       "    </tr>\n",
       "    <tr>\n",
       "      <th>97</th>\n",
       "      <td>49.445316</td>\n",
       "      <td>55.0</td>\n",
       "      <td>46.789783</td>\n",
       "      <td>48.7</td>\n",
       "    </tr>\n",
       "    <tr>\n",
       "      <th>98</th>\n",
       "      <td>49.355297</td>\n",
       "      <td>54.9</td>\n",
       "      <td>46.707466</td>\n",
       "      <td>48.7</td>\n",
       "    </tr>\n",
       "    <tr>\n",
       "      <th>99</th>\n",
       "      <td>49.644363</td>\n",
       "      <td>55.1</td>\n",
       "      <td>46.805721</td>\n",
       "      <td>48.9</td>\n",
       "    </tr>\n",
       "  </tbody>\n",
       "</table>\n",
       "<p>100 rows × 4 columns</p>\n",
       "</div>"
      ],
      "text/plain": [
       "    Temperature predictions  Temperature Actuals  Pressure Predictions  \\\n",
       "0                 50.434006                 56.1             47.743004   \n",
       "1                 49.966244                 55.8             47.473026   \n",
       "2                 49.888027                 55.6             47.393101   \n",
       "3                 50.234951                 55.9             47.514065   \n",
       "4                 51.253647                 56.4             47.963985   \n",
       "..                      ...                  ...                   ...   \n",
       "95                50.650162                 55.9             47.459183   \n",
       "96                49.881290                 55.4             47.040871   \n",
       "97                49.445316                 55.0             46.789783   \n",
       "98                49.355297                 54.9             46.707466   \n",
       "99                49.644363                 55.1             46.805721   \n",
       "\n",
       "    Pressure Actuals  \n",
       "0               49.1  \n",
       "1               49.1  \n",
       "2               49.0  \n",
       "3               49.4  \n",
       "4               49.8  \n",
       "..               ...  \n",
       "95              48.9  \n",
       "96              48.7  \n",
       "97              48.7  \n",
       "98              48.7  \n",
       "99              48.9  \n",
       "\n",
       "[100 rows x 4 columns]"
      ]
     },
     "execution_count": 276,
     "metadata": {},
     "output_type": "execute_result"
    },
    {
     "data": {
      "image/png": "[encoded data removed]",
      "text/plain": [
       "<Figure size 432x288 with 1 Axes>"
      ]
     },
     "metadata": {
      "needs_background": "light"
     },
     "output_type": "display_data"
    }
   ],
   "source": [
    "plot_predictions2(model5, X3_test, y3_test)"
   ]
  },
  {
   "cell_type": "code",
   "execution_count": null,
   "id": "b158b62d",
   "metadata": {},
   "outputs": [],
   "source": [
    "# undo to figure out how we calculated predicted values\n",
    "def postprocess_temp(arr):\n",
    "    arr = (arr*temp_training_std3) + temp_training_mean3\n",
    "    return arr"
   ]
  }
 ],
 "metadata": {
  "kernelspec": {
   "display_name": "Python 3 (ipykernel)",
   "language": "python",
   "name": "python3"
  },
  "language_info": {
   "codemirror_mode": {
    "name": "ipython",
    "version": 3
   },
   "file_extension": ".py",
   "mimetype": "text/x-python",
   "name": "python",
   "nbconvert_exporter": "python",
   "pygments_lexer": "ipython3",
   "version": "3.8.8"
  }
 },
 "nbformat": 4,
 "nbformat_minor": 5
}

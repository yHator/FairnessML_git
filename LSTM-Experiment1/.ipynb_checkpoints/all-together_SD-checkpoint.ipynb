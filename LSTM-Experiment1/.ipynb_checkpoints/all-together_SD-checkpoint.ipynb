{
 "cells": [
  {
   "cell_type": "markdown",
   "id": "1dff558f",
   "metadata": {},
   "source": [
    "1. Energy consumption section\n",
    "2. Weather data section\n",
    "3. Future prediction"
   ]
  },
  {
   "cell_type": "code",
   "execution_count": 33,
   "id": "189ed4b4",
   "metadata": {},
   "outputs": [],
   "source": [
    "import tensorflow \n",
    "import os\n",
    "from os import listdir\n",
    "from os.path import isfile, join\n",
    "import pandas as pd\n",
    "import numpy as np\n",
    "import matplotlib.pyplot as plt\n",
    "from tensorflow.keras.models import Sequential\n",
    "from tensorflow.keras.layers import Dense\n",
    "from tensorflow.keras.layers import LSTM\n",
    "from tensorflow.keras.layers import *\n",
    "from tensorflow.keras.callbacks import ModelCheckpoint\n",
    "from tensorflow.keras.metrics import RootMeanSquaredError\n",
    "from tensorflow.keras.metrics import MeanAbsoluteError\n",
    "from tensorflow.keras.optimizers import Adam\n",
    "from keras import callbacks\n",
    "from tensorflow.keras.losses import MeanSquaredError\n",
    "from sklearn.preprocessing import MinMaxScaler\n",
    "from sklearn.metrics import mean_squared_error\n",
    "import joblib\n",
    "from tensorflow import keras"
   ]
  },
  {
   "cell_type": "markdown",
   "id": "151a83e8",
   "metadata": {},
   "source": [
    "# Functions"
   ]
  },
  {
   "cell_type": "code",
   "execution_count": 34,
   "id": "75eb3ae5",
   "metadata": {},
   "outputs": [],
   "source": [
    "# energy consumption \n",
    "\n",
    "def scaleAllData(df):\n",
    "    allScalers = []\n",
    "    for column in df.columns:\n",
    "        df1 = df[column]\n",
    "        scaler = MinMaxScaler(feature_range=(0,1))\n",
    "        df[column] = scaler.fit_transform(np.array(df1.values.reshape(-1, 1)))\n",
    "        allScalers.append(scaler)\n",
    "    return df, allScalers"
   ]
  },
  {
   "cell_type": "code",
   "execution_count": 35,
   "id": "5bbef746",
   "metadata": {},
   "outputs": [],
   "source": [
    "#energy consumption\n",
    "def saveScalers(colNames, allScalers):\n",
    "    i = 0\n",
    "    for scaler in allScalers:\n",
    "        scaler_filename = colNames[i] + \".save\"\n",
    "#         print(scaler_filename)\n",
    "        joblib.dump(scaler, scaler_filename)\n",
    "        i+=1"
   ]
  },
  {
   "cell_type": "code",
   "execution_count": 36,
   "id": "7e00e25a",
   "metadata": {},
   "outputs": [],
   "source": [
    "#energy consumption\n",
    "def df_to_X_y(df, megawattsPos, window_size= 1): #1 day of feature data\n",
    "    df_as_np = df.to_numpy()\n",
    "    X = []\n",
    "    y = []\n",
    "    for i in range(len(df_as_np)-1):\n",
    "        row = [ r for r in df_as_np[i:i+window_size]]\n",
    "        X.append(row)\n",
    "        label = df_as_np[i+window_size][megawattsPos] \n",
    "        y.append(label)\n",
    "    return np.array(X), np.array(y)"
   ]
  },
  {
   "cell_type": "code",
   "execution_count": 37,
   "id": "daa147c5",
   "metadata": {},
   "outputs": [],
   "source": [
    "#weather data\n",
    "def df_to_X_y_weather(df, predictValuePos, window_size= 1): #1 day of feature data\n",
    "    df_as_np = df.to_numpy()\n",
    "    X = []\n",
    "    y = []\n",
    "    for i in range(len(df_as_np)-window_size):\n",
    "        row = [ r for r in df_as_np[i:i+window_size]]\n",
    "        X.append(row)\n",
    "        label = df_as_np[i+window_size][predictValuePos] \n",
    "        y.append(label)\n",
    "    return np.array(X), np.array(y)"
   ]
  },
  {
   "cell_type": "code",
   "execution_count": 38,
   "id": "8dc4e5c4",
   "metadata": {},
   "outputs": [],
   "source": [
    "#weather data\n",
    "\n",
    "# getting the day cos data for the next 24 hours for prediction\n",
    "def prepareCircularTimeData(df, colName, howManyHours, timeSteps):\n",
    "    \n",
    "    # has last 3 hours of december 31st\n",
    "    previousDaysData = np.array(df[colName][8757:][0:]).reshape(1,-1)\n",
    "    previousDaysSin = np.array(df['Day sin'][8757:][0:]).reshape(1,-1)\n",
    "    previousDaysCos = np.array(df['Day cos'][8757:][0:]).reshape(1,-1)\n",
    "    previousYearsSin = np.array(df['Year sin'][8757:][0:]).reshape(1,-1)\n",
    "    previousYearsCos = np.array(df['Year cos'][8757:][0:]).reshape(1,-1)\n",
    "\n",
    "    previousDaysData = list(previousDaysData)[0].tolist()\n",
    "    previousDaysSin = list(previousDaysSin)[0].tolist()\n",
    "    previousDaysCos = list(previousDaysCos)[0].tolist()\n",
    "    previousYearsSin = list(previousYearsSin)[0].tolist()\n",
    "    previousYearsCos = list(previousYearsCos)[0].tolist()\n",
    "\n",
    "    futurePredData = []\n",
    "    for i in range(timeSteps):\n",
    "        mem = []\n",
    "        mem.append(previousDaysData[i])\n",
    "        mem.append(previousDaysSin[i])\n",
    "        mem.append(previousDaysCos[i])\n",
    "        mem.append(previousYearsSin[i])\n",
    "        mem.append(previousYearsCos[i])\n",
    "        futurePredData.append(mem)\n",
    "    \n",
    "    # Day sin, Day cos, Year sin, Year cos\n",
    "    # Need these in addition to the weather data variable information for circular time\n",
    "    startPos = 0\n",
    "    endPos = 24\n",
    "\n",
    "    previousDaysSin = np.array(df['Day sin'][startPos:endPos][0:]).reshape(1,-1)\n",
    "    previousDaysCos = np.array(df['Day cos'][startPos:endPos][0:]).reshape(1,-1)\n",
    "    previousYearsSin = np.array(df['Year sin'][startPos:endPos][0:]).reshape(1,-1)\n",
    "    previousYearsCos = np.array(df['Year cos'][startPos:endPos][0:]).reshape(1,-1)\n",
    "\n",
    "    previousDaysSin = list(previousDaysSin)[0].tolist()\n",
    "    previousDaysCos = list(previousDaysCos)[0].tolist()\n",
    "    previousYearsSin = list(previousYearsSin)[0].tolist()\n",
    "    previousYearsCos = list(previousYearsCos)[0].tolist()\n",
    "\n",
    "    for i in range(endPos):\n",
    "        mem = []\n",
    "        mem.append(previousDaysSin[i])\n",
    "        mem.append(previousDaysCos[i])\n",
    "        mem.append(previousYearsSin[i])\n",
    "        mem.append(previousYearsCos[i])\n",
    "        futurePredData.append(mem)\n",
    "    \n",
    "#     print(np.array(futurePredData))\n",
    "    return futurePredData\n",
    "    "
   ]
  },
  {
   "cell_type": "code",
   "execution_count": 39,
   "id": "8fa7e531",
   "metadata": {},
   "outputs": [],
   "source": [
    "#weather data \n",
    "def futurePredictions_weather(model, data, hourPred, timesteps, numVars):\n",
    "    future_outputs=[]\n",
    "    i=0\n",
    "    beg = 0\n",
    "    end = 3\n",
    "    while(i < hourPred): #for the next however many hours\n",
    "        oneStep = np.array(list(data[beg:end])).reshape(1, timesteps, numVars) #1 list, each index has n_steps (3) of numVars (5) data\n",
    "        yhat = model.predict(oneStep, verbose=0)#.flatten()\n",
    "        future_outputs.append(yhat[0][0])\n",
    "        data[end].insert(0, yhat[0][0])\n",
    "        beg += 1\n",
    "        end += 1\n",
    "        i+=1\n",
    "\n",
    "    return future_outputs"
   ]
  },
  {
   "cell_type": "code",
   "execution_count": 40,
   "id": "ca1e748b",
   "metadata": {},
   "outputs": [],
   "source": [
    "def futurePredictions_all(model, lastDay_input, weatherData, hourPred, timesteps, numVars):\n",
    "    future_outputs=[]\n",
    "    i=0\n",
    "    counter = 0\n",
    "    while(i<hourPred): #for the next thirty hours\n",
    "        if i == 0: #for the first new predicted value, using old weather data to predict new value \n",
    "            lastDay_input = np.array(lastDay_input)\n",
    "            lastDay_input = lastDay_input.reshape(1, timesteps, numVars)\n",
    "            yhat = model.predict(lastDay_input, verbose=0)#.flatten()\n",
    "            print(yhat[0])\n",
    "#             future_outputs.extend(yhat.tolist())\n",
    "            future_outputs.append(yhat[0][0])\n",
    "            i=i+1\n",
    "        else:# then take from the 1 position and getting the new input and putting it into input\n",
    "#             print(future_outputs[counter])\n",
    "            setVal = future_outputs[counter].item()\n",
    "            weatherData.at[counter, -1:] = setVal #set the megawatts val from the prev predicted\n",
    "            oneData = np.array(weatherData.iloc[counter, :]) #one day of data \n",
    "#             print(\"{} hour input {}\".format(1, oneData))\n",
    "            oneData = oneData.reshape((1, timesteps, numVars)) #works\n",
    "            yhat = model.predict(oneData, verbose=0)\n",
    "#             print(\"{} hour output {}\".format(i,yhat))\n",
    "#             future_outputs.extend(yhat.tolist())\n",
    "            future_outputs.append(yhat[0][0])\n",
    "            i=i+1\n",
    "            counter+=1\n",
    "\n",
    "    return future_outputs"
   ]
  },
  {
   "cell_type": "code",
   "execution_count": 41,
   "id": "46df6dcb",
   "metadata": {},
   "outputs": [],
   "source": [
    "def prepareDf(columns):\n",
    "    directory = '/Users/yukahatori/A_Fairness/FairnessML_git/NOAA_and_CAISO_Data_ONEYEAR/'\n",
    "    dataFiles = [f for f in listdir(directory) if isfile(join(directory, f))] \n",
    "    for file in dataFiles:\n",
    "#         print(file)\n",
    "        df = pd.read_csv(directory + file)\n",
    "\n",
    "    #for now, I will only use SF data \n",
    "    location = '_SD'\n",
    "    fileRead = directory + dataFiles[1]\n",
    "    print('fileRead: ', fileRead)\n",
    "    df = pd.read_csv(fileRead)\n",
    "\n",
    "    df['date'] = pd.to_datetime(df['date'], format='%m-%dT%H:%M:%S')\n",
    "    df['date']= df[\"date\"].map(lambda x: x.replace(year=2019))\n",
    "    df.index = df['date']\n",
    "    df.drop('date', axis=1, inplace=True)\n",
    "\n",
    "    ################################################ preprocess #########################################################\n",
    "    df, allScalers = scaleAllData(df)\n",
    "    colNames = df.columns\n",
    "    \n",
    "    saveScalers(colNames, allScalers) #saving scalers\n",
    "    \n",
    "    df['Seconds'] = df.index.map(pd.Timestamp.timestamp)\n",
    "    day = 60 * 60 * 24 #60 s in a min, 60 min in an hour, 24 hours in a day\n",
    "    year = 365.2425*day #num seconds in a year\n",
    "    df['Day sin'] = np.sin(df['Seconds']*2*(np.pi/day))\n",
    "    df['Day cos'] = np.cos(df['Seconds']*2*(np.pi/day))\n",
    "    df['Year sin'] = np.sin(df['Seconds']*2*(np.pi/year))\n",
    "    df['Year cos'] = np.cos(df['Seconds']*2*(np.pi/year))\n",
    "\n",
    "    df = df.drop('Seconds', axis = 1)\n",
    "\n",
    "    cols = columns\n",
    "    df = df[cols]\n",
    "    return df"
   ]
  },
  {
   "cell_type": "code",
   "execution_count": 42,
   "id": "11b1c834",
   "metadata": {},
   "outputs": [],
   "source": [
    "def energyConsumptionModel(df, numEpochs):\n",
    "    megawattsPos = 30\n",
    "    X, y = df_to_X_y(df, megawattsPos, 1) \n",
    "    #############################################train and test #########################################################\n",
    "    train_percent = 0.9\n",
    "    validation_percent = 0.1\n",
    "\n",
    "    train_percent_split = int(train_percent * len(X))\n",
    "    validation_percent_split = int(validation_percent * len(X)) + train_percent_split\n",
    "    print(validation_percent_split)\n",
    "\n",
    "    X_train, y_train = X[:train_percent_split], y[:train_percent_split]\n",
    "    X_val, y_val = X[train_percent_split:validation_percent_split], y[train_percent_split:validation_percent_split] #validation\n",
    "\n",
    "    # just gonna have it hold like 1 day of prev data \n",
    "    testData = 8760 - 2\n",
    "    X_test, y_test = X[testData:], y[testData:]\n",
    "\n",
    "    # X_train.shape, y_train.shape, X_val.shape, y_val.shape, X_test.shape, y_test.shape\n",
    "\n",
    "    ############################################# create model #########################################################\n",
    "    model = Sequential()\n",
    "    model.add(LSTM(64,input_shape=(X_train.shape[1],X_train.shape[2]))) # input layer; 31 data inputs, 1 step (1 hr)\n",
    "    model.add(Dense(32, 'relu')) #hidden layer 1\n",
    "    model.add(Dense(32, 'relu')) #hidden layer 2\n",
    "    model.add(Dense(1, 'linear')) #output layer\n",
    "\n",
    "    storeModel = '/Users/yukahatori/A_Fairness/FairnessML_git/LSTM-Experiment1/model'\n",
    "    cp = ModelCheckpoint(storeModel, save_best_only = True) #I want to only save the best model (lowest validation loss)\n",
    "    model.compile(loss = MeanSquaredError(), optimizer = Adam(), metrics = [RootMeanSquaredError()])\n",
    "\n",
    "    model.fit(X_train, y_train, validation_data=(X_val, y_val), epochs = numEpochs, callbacks = [cp])\n",
    "\n",
    "    train_predictions = model.predict(X_train).flatten()\n",
    "    train_results = pd.DataFrame(data = {'Train Predictions': train_predictions, 'Actuals':y_train})\n",
    "    rmse = mean_squared_error(train_predictions, y_train, squared=False)\n",
    "    print(\"RMSE value: \", rmse)\n",
    "    return rmse, model"
   ]
  },
  {
   "cell_type": "code",
   "execution_count": 43,
   "id": "6bda7391",
   "metadata": {},
   "outputs": [],
   "source": [
    "def getBestEnergyConsumptionModel(iters, df, numEpochs):\n",
    "    getBest = {}\n",
    "    for i in range(iters):\n",
    "        rmse, model = energyConsumptionModel(df, numEpochs)\n",
    "        getBest.update({rmse:model})\n",
    "    lowestRmse = min(getBest.keys())\n",
    "    return getBest[lowestRmse]\n",
    "    "
   ]
  },
  {
   "cell_type": "code",
   "execution_count": 44,
   "id": "af1088b3",
   "metadata": {},
   "outputs": [],
   "source": [
    "def weatherVariableModel(df, window_size, column, numEpochs):\n",
    "    ################### get a variable to predict for ##################\n",
    "    getCols = ['Day sin', 'Day cos', 'Year sin', 'Year cos']\n",
    "    getCols.append(column)\n",
    "    col = df[getCols]\n",
    "    predictColPos = len(col.columns) - 1\n",
    "    X1, y1 = df_to_X_y_weather(col, predictColPos, window_size)\n",
    "\n",
    "    ################## split data ##################\n",
    "    train_percent = 0.9\n",
    "    validation_percent = 0.1\n",
    "    train_percent_split = int(train_percent * len(X1))\n",
    "    validation_percent_split = int(validation_percent * len(X1)) + train_percent_split\n",
    "\n",
    "    X_train1, y_train1 = X1[:train_percent_split], y1[:train_percent_split]\n",
    "    X_val1, y_val1 = X1[train_percent_split:validation_percent_split], y1[train_percent_split:validation_percent_split] #validation\n",
    "\n",
    "    # just gonna have it hold like 1 day of prev data \n",
    "    testData = validation_percent_split - 2\n",
    "    X_test1, y_tes1t = X1[testData:], y1[testData:]\n",
    "\n",
    "    numDataInputs = X_train1.shape[1]\n",
    "    numSteps = X_train1.shape[2]\n",
    "    \n",
    "    ################## Model Creation ##################\n",
    "    modelx = Sequential()\n",
    "    modelx.add(LSTM(64,input_shape=(numDataInputs, numSteps))) # input layer; 5 data inputs, 3 step (3 hr)\n",
    "    modelx.add(Dense(32, 'relu')) #hidden layer 1\n",
    "    modelx.add(Dense(32, 'relu')) #hidden layer 2\n",
    "    modelx.add(Dense(1, 'linear')) #output layer\n",
    "    storeModel = '/Users/yukahatori/A_Fairness/FairnessML_git/LSTM-Experiment1/WeatherModelx_SD/'\n",
    "    cpx = ModelCheckpoint(storeModel, save_best_only = True) #I want to only save the best model (lowest validation loss)\n",
    "    modelx.compile(loss = MeanSquaredError(), optimizer = Adam(), metrics = [RootMeanSquaredError()])\n",
    "\n",
    "    modelx.fit(X_train1, y_train1, validation_data=(X_val1, y_val1), epochs = numEpochs, callbacks = [cpx])\n",
    "    train_predictions = modelx.predict(X_train1).flatten()\n",
    "    rmse = mean_squared_error(train_predictions, y_train1, squared=False)\n",
    "    print(\"RMSE value: \", rmse)\n",
    "    return rmse, modelx\n",
    "    "
   ]
  },
  {
   "cell_type": "code",
   "execution_count": 52,
   "id": "08626408",
   "metadata": {},
   "outputs": [],
   "source": [
    "def getBestWeatherModels(df, window_size, columns, numEpochs, iters):\n",
    "    getBest = []\n",
    "    for column in columns:\n",
    "        getBestOneVar = {}\n",
    "        for i in range(iters):\n",
    "            rmse, model = weatherVariableModel(df, window_size, column, numEpochs)\n",
    "            getBestOneVar.update({rmse:model})\n",
    "        #now store the best one for that variables\n",
    "        lowestRmse = min(getBestOneVar.keys())\n",
    "        getBest.append(getBestOneVar[lowestRmse])\n",
    "    return getBest"
   ]
  },
  {
   "cell_type": "code",
   "execution_count": 53,
   "id": "31a5dfaa",
   "metadata": {},
   "outputs": [],
   "source": [
    "def bestPerformingModel(howManyFutureHours, window_size, numEpochs, iters, columnsForDf, columns):\n",
    "    df = prepareDf(columnsForDf)\n",
    "    bestEnergyConsumptionModel = getBestEnergyConsumptionModel(iters, df, numEpochs)\n",
    "    directory = 'Best_SD/'\n",
    "    bestEnergyConsumptionModel.save(directory+'energyModel', save_format = 'utf')\n",
    "    print(\"--------------------------------- SAVED BEST ENERGY CONSUMPTION MODEL -----------------------------------\")\n",
    "    #we only want weather variable prediction, so only pass the correct stuff\n",
    "    \n",
    "    bestWeatherDataModels = getBestWeatherModels(df, window_size, columns, numEpochs, iters)\n",
    "    \n",
    "    #save the models\n",
    "    j = 0\n",
    "    for weatherModel in bestWeatherDataModels:\n",
    "        weatherModel.save(directory+columns[j], save_format = 'utf')\n",
    "        j+=1\n",
    "    \n",
    "    i = 0\n",
    "    numVars = 5 # 3 time steps, 5 variables (for weather variable prediction)\n",
    "    allVarFuturePreds = []\n",
    "    for column in columns:\n",
    "        futurePredData = prepareCircularTimeData(df, column, howManyFutureHours, window_size)\n",
    "        future_outputs = futurePredictions_weather(bestWeatherDataModels[i], futurePredData, howManyFutureHours, window_size, numVars)\n",
    "        allVarFuturePreds.append(future_outputs)\n",
    "        i+=1\n",
    "\n",
    "    df2 = pd.DataFrame(allVarFuturePreds)\n",
    "    df2 = df2.T\n",
    "    df2.columns = columns\n",
    "    # df2.to_csv('weatherPred.csv', encoding='utf-8', index = False) #MIGHT HAVE TO CHANGE THIS TO weatherPred + i\n",
    "\n",
    "    ########################################## FUTURE PREDICTION #######################################################\n",
    "    weatherPred = df2\n",
    "    daySin = df['Day sin'][0:24]\n",
    "    dayCos = df['Day cos'][0:24]\n",
    "    yearSin = df['Year sin'][0:24]\n",
    "    yearCos = df['Year cos'][0:24]\n",
    "\n",
    "    addFiles = [daySin, dayCos, yearSin, yearCos]\n",
    "    weatherPred['Day sin'] = daySin.values\n",
    "    weatherPred['Day cos'] = dayCos.values\n",
    "    weatherPred['Year sin'] = yearSin.values\n",
    "    weatherPred['Year cos'] = yearCos.values\n",
    "    weatherPred['Megawatts_2020'] = 0\n",
    "\n",
    "    lastDay = df[-1:]\n",
    "    lst_output = futurePredictions_all(bestEnergyConsumptionModel, lastDay, weatherPred, 24, 1, 31)\n",
    "\n",
    "    ########################################### check output #######################################################\n",
    "    scaler_filename = 'Megawatts_2019.save'\n",
    "    megawattsScaler = joblib.load(scaler_filename)\n",
    "\n",
    "    predictedVals = megawattsScaler.inverse_transform(np.array(lst_output).reshape(-1,1))\n",
    "    predicted24Hours = pd.DataFrame(predictedVals)\n",
    "\n",
    "    check_directory = '/Users/yukahatori/A_Fairness/FairnessML_git/NOAA_and_CAISO_Data_2020/'\n",
    "    compFiles = [f for f in listdir(check_directory) if isfile(join(check_directory, f))] \n",
    "    flies = []\n",
    "    for file in compFiles:\n",
    "    #     print(file)\n",
    "        flies.append(check_directory + file)\n",
    "    df1 = pd.read_csv(flies[2])\n",
    "    actual24Hours = df1['Megawatts_2020'][:24]\n",
    "\n",
    "    print(\"----------------------------FINAL, DONE;----------------------------\")\n",
    "    plt.plot(actual24Hours, color = 'blue')\n",
    "    plt.plot(predicted24Hours, color = 'red')\n",
    "    plt.show()\n",
    "\n",
    "    rmse = mean_squared_error(actual24Hours, predicted24Hours, squared=False)\n",
    "    print(\"RMSE value: \", rmse)"
   ]
  },
  {
   "cell_type": "markdown",
   "id": "b95d4ea6",
   "metadata": {},
   "source": [
    "# Testing"
   ]
  },
  {
   "cell_type": "code",
   "execution_count": 54,
   "id": "7f70247d",
   "metadata": {},
   "outputs": [
    {
     "name": "stdout",
     "output_type": "stream",
     "text": [
      "fileRead:  /Users/yukahatori/A_Fairness/FairnessML_git/NOAA_and_CAISO_Data_ONEYEAR/SD-NOAA-and-Megawatts.csv\n",
      "8758\n",
      "Epoch 1/20\n",
      "228/247 [==========================>...] - ETA: 0s - loss: 0.0156 - root_mean_squared_error: 0.1250"
     ]
    },
    {
     "name": "stderr",
     "output_type": "stream",
     "text": [
      "WARNING:absl:Found untraced functions such as lstm_cell_140_layer_call_fn, lstm_cell_140_layer_call_and_return_conditional_losses, lstm_cell_140_layer_call_fn, lstm_cell_140_layer_call_and_return_conditional_losses, lstm_cell_140_layer_call_and_return_conditional_losses while saving (showing 5 of 5). These functions will not be directly callable after loading.\n"
     ]
    },
    {
     "name": "stdout",
     "output_type": "stream",
     "text": [
      "INFO:tensorflow:Assets written to: /Users/yukahatori/A_Fairness/FairnessML_git/LSTM-BasicModel/model/assets\n"
     ]
    },
    {
     "name": "stderr",
     "output_type": "stream",
     "text": [
      "INFO:tensorflow:Assets written to: /Users/yukahatori/A_Fairness/FairnessML_git/LSTM-BasicModel/model/assets\n",
      "WARNING:absl:<keras.layers.recurrent.LSTMCell object at 0x7f8ed20c65b0> has the same name 'LSTMCell' as a built-in Keras object. Consider renaming <class 'keras.layers.recurrent.LSTMCell'> to avoid naming conflicts when loading with `tf.keras.models.load_model`. If renaming is not possible, pass the object in the `custom_objects` parameter of the load function.\n"
     ]
    },
    {
     "name": "stdout",
     "output_type": "stream",
     "text": [
      "247/247 [==============================] - 6s 17ms/step - loss: 0.0147 - root_mean_squared_error: 0.1214 - val_loss: 0.0019 - val_root_mean_squared_error: 0.0436\n",
      "Epoch 2/20\n",
      "247/247 [==============================] - 1s 3ms/step - loss: 0.0025 - root_mean_squared_error: 0.0499 - val_loss: 0.0034 - val_root_mean_squared_error: 0.0584\n",
      "Epoch 3/20\n",
      "231/247 [===========================>..] - ETA: 0s - loss: 0.0015 - root_mean_squared_error: 0.0385"
     ]
    },
    {
     "name": "stderr",
     "output_type": "stream",
     "text": [
      "WARNING:absl:Found untraced functions such as lstm_cell_140_layer_call_fn, lstm_cell_140_layer_call_and_return_conditional_losses, lstm_cell_140_layer_call_fn, lstm_cell_140_layer_call_and_return_conditional_losses, lstm_cell_140_layer_call_and_return_conditional_losses while saving (showing 5 of 5). These functions will not be directly callable after loading.\n"
     ]
    },
    {
     "name": "stdout",
     "output_type": "stream",
     "text": [
      "INFO:tensorflow:Assets written to: /Users/yukahatori/A_Fairness/FairnessML_git/LSTM-BasicModel/model/assets\n"
     ]
    },
    {
     "name": "stderr",
     "output_type": "stream",
     "text": [
      "INFO:tensorflow:Assets written to: /Users/yukahatori/A_Fairness/FairnessML_git/LSTM-BasicModel/model/assets\n",
      "WARNING:absl:<keras.layers.recurrent.LSTMCell object at 0x7f8ed20c65b0> has the same name 'LSTMCell' as a built-in Keras object. Consider renaming <class 'keras.layers.recurrent.LSTMCell'> to avoid naming conflicts when loading with `tf.keras.models.load_model`. If renaming is not possible, pass the object in the `custom_objects` parameter of the load function.\n"
     ]
    },
    {
     "name": "stdout",
     "output_type": "stream",
     "text": [
      "247/247 [==============================] - 3s 13ms/step - loss: 0.0014 - root_mean_squared_error: 0.0381 - val_loss: 8.0999e-04 - val_root_mean_squared_error: 0.0285\n",
      "Epoch 4/20\n",
      "220/247 [=========================>....] - ETA: 0s - loss: 8.0269e-04 - root_mean_squared_error: 0.0283"
     ]
    },
    {
     "name": "stderr",
     "output_type": "stream",
     "text": [
      "WARNING:absl:Found untraced functions such as lstm_cell_140_layer_call_fn, lstm_cell_140_layer_call_and_return_conditional_losses, lstm_cell_140_layer_call_fn, lstm_cell_140_layer_call_and_return_conditional_losses, lstm_cell_140_layer_call_and_return_conditional_losses while saving (showing 5 of 5). These functions will not be directly callable after loading.\n"
     ]
    },
    {
     "name": "stdout",
     "output_type": "stream",
     "text": [
      "INFO:tensorflow:Assets written to: /Users/yukahatori/A_Fairness/FairnessML_git/LSTM-BasicModel/model/assets\n"
     ]
    },
    {
     "name": "stderr",
     "output_type": "stream",
     "text": [
      "INFO:tensorflow:Assets written to: /Users/yukahatori/A_Fairness/FairnessML_git/LSTM-BasicModel/model/assets\n",
      "WARNING:absl:<keras.layers.recurrent.LSTMCell object at 0x7f8ed20c65b0> has the same name 'LSTMCell' as a built-in Keras object. Consider renaming <class 'keras.layers.recurrent.LSTMCell'> to avoid naming conflicts when loading with `tf.keras.models.load_model`. If renaming is not possible, pass the object in the `custom_objects` parameter of the load function.\n"
     ]
    },
    {
     "name": "stdout",
     "output_type": "stream",
     "text": [
      "247/247 [==============================] - 3s 14ms/step - loss: 7.8990e-04 - root_mean_squared_error: 0.0281 - val_loss: 4.5683e-04 - val_root_mean_squared_error: 0.0214\n",
      "Epoch 5/20\n",
      "246/247 [============================>.] - ETA: 0s - loss: 7.0695e-04 - root_mean_squared_error: 0.0266"
     ]
    },
    {
     "name": "stderr",
     "output_type": "stream",
     "text": [
      "WARNING:absl:Found untraced functions such as lstm_cell_140_layer_call_fn, lstm_cell_140_layer_call_and_return_conditional_losses, lstm_cell_140_layer_call_fn, lstm_cell_140_layer_call_and_return_conditional_losses, lstm_cell_140_layer_call_and_return_conditional_losses while saving (showing 5 of 5). These functions will not be directly callable after loading.\n"
     ]
    },
    {
     "name": "stdout",
     "output_type": "stream",
     "text": [
      "INFO:tensorflow:Assets written to: /Users/yukahatori/A_Fairness/FairnessML_git/LSTM-BasicModel/model/assets\n"
     ]
    },
    {
     "name": "stderr",
     "output_type": "stream",
     "text": [
      "INFO:tensorflow:Assets written to: /Users/yukahatori/A_Fairness/FairnessML_git/LSTM-BasicModel/model/assets\n",
      "WARNING:absl:<keras.layers.recurrent.LSTMCell object at 0x7f8ed20c65b0> has the same name 'LSTMCell' as a built-in Keras object. Consider renaming <class 'keras.layers.recurrent.LSTMCell'> to avoid naming conflicts when loading with `tf.keras.models.load_model`. If renaming is not possible, pass the object in the `custom_objects` parameter of the load function.\n"
     ]
    },
    {
     "name": "stdout",
     "output_type": "stream",
     "text": [
      "247/247 [==============================] - 4s 17ms/step - loss: 7.0785e-04 - root_mean_squared_error: 0.0266 - val_loss: 4.3874e-04 - val_root_mean_squared_error: 0.0209\n",
      "Epoch 6/20\n",
      "245/247 [============================>.] - ETA: 0s - loss: 5.4163e-04 - root_mean_squared_error: 0.0233"
     ]
    },
    {
     "name": "stderr",
     "output_type": "stream",
     "text": [
      "WARNING:absl:Found untraced functions such as lstm_cell_140_layer_call_fn, lstm_cell_140_layer_call_and_return_conditional_losses, lstm_cell_140_layer_call_fn, lstm_cell_140_layer_call_and_return_conditional_losses, lstm_cell_140_layer_call_and_return_conditional_losses while saving (showing 5 of 5). These functions will not be directly callable after loading.\n"
     ]
    },
    {
     "name": "stdout",
     "output_type": "stream",
     "text": [
      "INFO:tensorflow:Assets written to: /Users/yukahatori/A_Fairness/FairnessML_git/LSTM-BasicModel/model/assets\n"
     ]
    },
    {
     "name": "stderr",
     "output_type": "stream",
     "text": [
      "INFO:tensorflow:Assets written to: /Users/yukahatori/A_Fairness/FairnessML_git/LSTM-BasicModel/model/assets\n",
      "WARNING:absl:<keras.layers.recurrent.LSTMCell object at 0x7f8ed20c65b0> has the same name 'LSTMCell' as a built-in Keras object. Consider renaming <class 'keras.layers.recurrent.LSTMCell'> to avoid naming conflicts when loading with `tf.keras.models.load_model`. If renaming is not possible, pass the object in the `custom_objects` parameter of the load function.\n"
     ]
    },
    {
     "name": "stdout",
     "output_type": "stream",
     "text": [
      "247/247 [==============================] - 4s 14ms/step - loss: 5.4056e-04 - root_mean_squared_error: 0.0232 - val_loss: 3.8539e-04 - val_root_mean_squared_error: 0.0196\n",
      "Epoch 7/20\n",
      "244/247 [============================>.] - ETA: 0s - loss: 5.2586e-04 - root_mean_squared_error: 0.0229"
     ]
    },
    {
     "name": "stderr",
     "output_type": "stream",
     "text": [
      "WARNING:absl:Found untraced functions such as lstm_cell_140_layer_call_fn, lstm_cell_140_layer_call_and_return_conditional_losses, lstm_cell_140_layer_call_fn, lstm_cell_140_layer_call_and_return_conditional_losses, lstm_cell_140_layer_call_and_return_conditional_losses while saving (showing 5 of 5). These functions will not be directly callable after loading.\n"
     ]
    },
    {
     "name": "stdout",
     "output_type": "stream",
     "text": [
      "INFO:tensorflow:Assets written to: /Users/yukahatori/A_Fairness/FairnessML_git/LSTM-BasicModel/model/assets\n"
     ]
    },
    {
     "name": "stderr",
     "output_type": "stream",
     "text": [
      "INFO:tensorflow:Assets written to: /Users/yukahatori/A_Fairness/FairnessML_git/LSTM-BasicModel/model/assets\n",
      "WARNING:absl:<keras.layers.recurrent.LSTMCell object at 0x7f8ed20c65b0> has the same name 'LSTMCell' as a built-in Keras object. Consider renaming <class 'keras.layers.recurrent.LSTMCell'> to avoid naming conflicts when loading with `tf.keras.models.load_model`. If renaming is not possible, pass the object in the `custom_objects` parameter of the load function.\n"
     ]
    },
    {
     "name": "stdout",
     "output_type": "stream",
     "text": [
      "247/247 [==============================] - 4s 16ms/step - loss: 5.2672e-04 - root_mean_squared_error: 0.0230 - val_loss: 3.1288e-04 - val_root_mean_squared_error: 0.0177\n",
      "Epoch 8/20\n",
      "247/247 [==============================] - 0s 2ms/step - loss: 4.8459e-04 - root_mean_squared_error: 0.0220 - val_loss: 4.9596e-04 - val_root_mean_squared_error: 0.0223\n",
      "Epoch 9/20\n",
      "247/247 [==============================] - 0s 2ms/step - loss: 4.8760e-04 - root_mean_squared_error: 0.0221 - val_loss: 3.3679e-04 - val_root_mean_squared_error: 0.0184\n",
      "Epoch 10/20\n",
      "229/247 [==========================>...] - ETA: 0s - loss: 4.7027e-04 - root_mean_squared_error: 0.0217"
     ]
    },
    {
     "name": "stderr",
     "output_type": "stream",
     "text": [
      "WARNING:absl:Found untraced functions such as lstm_cell_140_layer_call_fn, lstm_cell_140_layer_call_and_return_conditional_losses, lstm_cell_140_layer_call_fn, lstm_cell_140_layer_call_and_return_conditional_losses, lstm_cell_140_layer_call_and_return_conditional_losses while saving (showing 5 of 5). These functions will not be directly callable after loading.\n"
     ]
    },
    {
     "name": "stdout",
     "output_type": "stream",
     "text": [
      "INFO:tensorflow:Assets written to: /Users/yukahatori/A_Fairness/FairnessML_git/LSTM-BasicModel/model/assets\n"
     ]
    },
    {
     "name": "stderr",
     "output_type": "stream",
     "text": [
      "INFO:tensorflow:Assets written to: /Users/yukahatori/A_Fairness/FairnessML_git/LSTM-BasicModel/model/assets\n",
      "WARNING:absl:<keras.layers.recurrent.LSTMCell object at 0x7f8ed20c65b0> has the same name 'LSTMCell' as a built-in Keras object. Consider renaming <class 'keras.layers.recurrent.LSTMCell'> to avoid naming conflicts when loading with `tf.keras.models.load_model`. If renaming is not possible, pass the object in the `custom_objects` parameter of the load function.\n"
     ]
    },
    {
     "name": "stdout",
     "output_type": "stream",
     "text": [
      "247/247 [==============================] - 3s 13ms/step - loss: 4.6046e-04 - root_mean_squared_error: 0.0215 - val_loss: 2.8451e-04 - val_root_mean_squared_error: 0.0169\n",
      "Epoch 11/20\n",
      "247/247 [==============================] - 0s 2ms/step - loss: 4.3042e-04 - root_mean_squared_error: 0.0207 - val_loss: 5.3109e-04 - val_root_mean_squared_error: 0.0230\n",
      "Epoch 12/20\n",
      "247/247 [==============================] - 0s 2ms/step - loss: 4.1101e-04 - root_mean_squared_error: 0.0203 - val_loss: 3.7284e-04 - val_root_mean_squared_error: 0.0193\n",
      "Epoch 13/20\n",
      "247/247 [==============================] - 1s 2ms/step - loss: 4.2033e-04 - root_mean_squared_error: 0.0205 - val_loss: 7.7452e-04 - val_root_mean_squared_error: 0.0278\n",
      "Epoch 14/20\n",
      "236/247 [===========================>..] - ETA: 0s - loss: 3.9876e-04 - root_mean_squared_error: 0.0200"
     ]
    },
    {
     "name": "stderr",
     "output_type": "stream",
     "text": [
      "WARNING:absl:Found untraced functions such as lstm_cell_140_layer_call_fn, lstm_cell_140_layer_call_and_return_conditional_losses, lstm_cell_140_layer_call_fn, lstm_cell_140_layer_call_and_return_conditional_losses, lstm_cell_140_layer_call_and_return_conditional_losses while saving (showing 5 of 5). These functions will not be directly callable after loading.\n"
     ]
    },
    {
     "name": "stdout",
     "output_type": "stream",
     "text": [
      "INFO:tensorflow:Assets written to: /Users/yukahatori/A_Fairness/FairnessML_git/LSTM-BasicModel/model/assets\n"
     ]
    },
    {
     "name": "stderr",
     "output_type": "stream",
     "text": [
      "INFO:tensorflow:Assets written to: /Users/yukahatori/A_Fairness/FairnessML_git/LSTM-BasicModel/model/assets\n",
      "WARNING:absl:<keras.layers.recurrent.LSTMCell object at 0x7f8ed20c65b0> has the same name 'LSTMCell' as a built-in Keras object. Consider renaming <class 'keras.layers.recurrent.LSTMCell'> to avoid naming conflicts when loading with `tf.keras.models.load_model`. If renaming is not possible, pass the object in the `custom_objects` parameter of the load function.\n"
     ]
    },
    {
     "name": "stdout",
     "output_type": "stream",
     "text": [
      "247/247 [==============================] - 4s 18ms/step - loss: 4.0272e-04 - root_mean_squared_error: 0.0201 - val_loss: 2.6980e-04 - val_root_mean_squared_error: 0.0164\n",
      "Epoch 15/20\n",
      "247/247 [==============================] - 1s 4ms/step - loss: 3.6315e-04 - root_mean_squared_error: 0.0191 - val_loss: 3.2419e-04 - val_root_mean_squared_error: 0.0180\n",
      "Epoch 16/20\n",
      "247/247 [==============================] - 1s 4ms/step - loss: 3.5434e-04 - root_mean_squared_error: 0.0188 - val_loss: 5.2241e-04 - val_root_mean_squared_error: 0.0229\n",
      "Epoch 17/20\n",
      "247/247 [==============================] - 1s 3ms/step - loss: 3.7876e-04 - root_mean_squared_error: 0.0195 - val_loss: 4.0775e-04 - val_root_mean_squared_error: 0.0202\n",
      "Epoch 18/20\n",
      "247/247 [==============================] - 1s 3ms/step - loss: 3.5285e-04 - root_mean_squared_error: 0.0188 - val_loss: 2.7732e-04 - val_root_mean_squared_error: 0.0167\n",
      "Epoch 19/20\n",
      "247/247 [==============================] - 1s 2ms/step - loss: 3.2651e-04 - root_mean_squared_error: 0.0181 - val_loss: 3.7879e-04 - val_root_mean_squared_error: 0.0195\n",
      "Epoch 20/20\n",
      "245/247 [============================>.] - ETA: 0s - loss: 3.4953e-04 - root_mean_squared_error: 0.0187"
     ]
    },
    {
     "name": "stderr",
     "output_type": "stream",
     "text": [
      "WARNING:absl:Found untraced functions such as lstm_cell_140_layer_call_fn, lstm_cell_140_layer_call_and_return_conditional_losses, lstm_cell_140_layer_call_fn, lstm_cell_140_layer_call_and_return_conditional_losses, lstm_cell_140_layer_call_and_return_conditional_losses while saving (showing 5 of 5). These functions will not be directly callable after loading.\n"
     ]
    },
    {
     "name": "stdout",
     "output_type": "stream",
     "text": [
      "INFO:tensorflow:Assets written to: /Users/yukahatori/A_Fairness/FairnessML_git/LSTM-BasicModel/model/assets\n"
     ]
    },
    {
     "name": "stderr",
     "output_type": "stream",
     "text": [
      "INFO:tensorflow:Assets written to: /Users/yukahatori/A_Fairness/FairnessML_git/LSTM-BasicModel/model/assets\n",
      "WARNING:absl:<keras.layers.recurrent.LSTMCell object at 0x7f8ed20c65b0> has the same name 'LSTMCell' as a built-in Keras object. Consider renaming <class 'keras.layers.recurrent.LSTMCell'> to avoid naming conflicts when loading with `tf.keras.models.load_model`. If renaming is not possible, pass the object in the `custom_objects` parameter of the load function.\n"
     ]
    },
    {
     "name": "stdout",
     "output_type": "stream",
     "text": [
      "247/247 [==============================] - 4s 18ms/step - loss: 3.4912e-04 - root_mean_squared_error: 0.0187 - val_loss: 2.6176e-04 - val_root_mean_squared_error: 0.0162\n",
      "RMSE value:  0.01720479890813461\n",
      "8758\n",
      "Epoch 1/20\n",
      "243/247 [============================>.] - ETA: 0s - loss: 0.0103 - root_mean_squared_error: 0.1013"
     ]
    },
    {
     "name": "stderr",
     "output_type": "stream",
     "text": [
      "WARNING:absl:Found untraced functions such as lstm_cell_141_layer_call_fn, lstm_cell_141_layer_call_and_return_conditional_losses, lstm_cell_141_layer_call_fn, lstm_cell_141_layer_call_and_return_conditional_losses, lstm_cell_141_layer_call_and_return_conditional_losses while saving (showing 5 of 5). These functions will not be directly callable after loading.\n"
     ]
    },
    {
     "name": "stdout",
     "output_type": "stream",
     "text": [
      "INFO:tensorflow:Assets written to: /Users/yukahatori/A_Fairness/FairnessML_git/LSTM-BasicModel/model/assets\n"
     ]
    },
    {
     "name": "stderr",
     "output_type": "stream",
     "text": [
      "INFO:tensorflow:Assets written to: /Users/yukahatori/A_Fairness/FairnessML_git/LSTM-BasicModel/model/assets\n",
      "WARNING:absl:<keras.layers.recurrent.LSTMCell object at 0x7f8ebd53aa00> has the same name 'LSTMCell' as a built-in Keras object. Consider renaming <class 'keras.layers.recurrent.LSTMCell'> to avoid naming conflicts when loading with `tf.keras.models.load_model`. If renaming is not possible, pass the object in the `custom_objects` parameter of the load function.\n"
     ]
    },
    {
     "name": "stdout",
     "output_type": "stream",
     "text": [
      "247/247 [==============================] - 6s 15ms/step - loss: 0.0102 - root_mean_squared_error: 0.1008 - val_loss: 0.0025 - val_root_mean_squared_error: 0.0500\n",
      "Epoch 2/20\n",
      "229/247 [==========================>...] - ETA: 0s - loss: 0.0018 - root_mean_squared_error: 0.0419"
     ]
    },
    {
     "name": "stderr",
     "output_type": "stream",
     "text": [
      "WARNING:absl:Found untraced functions such as lstm_cell_141_layer_call_fn, lstm_cell_141_layer_call_and_return_conditional_losses, lstm_cell_141_layer_call_fn, lstm_cell_141_layer_call_and_return_conditional_losses, lstm_cell_141_layer_call_and_return_conditional_losses while saving (showing 5 of 5). These functions will not be directly callable after loading.\n"
     ]
    },
    {
     "name": "stdout",
     "output_type": "stream",
     "text": [
      "INFO:tensorflow:Assets written to: /Users/yukahatori/A_Fairness/FairnessML_git/LSTM-BasicModel/model/assets\n"
     ]
    },
    {
     "name": "stderr",
     "output_type": "stream",
     "text": [
      "INFO:tensorflow:Assets written to: /Users/yukahatori/A_Fairness/FairnessML_git/LSTM-BasicModel/model/assets\n",
      "WARNING:absl:<keras.layers.recurrent.LSTMCell object at 0x7f8ebd53aa00> has the same name 'LSTMCell' as a built-in Keras object. Consider renaming <class 'keras.layers.recurrent.LSTMCell'> to avoid naming conflicts when loading with `tf.keras.models.load_model`. If renaming is not possible, pass the object in the `custom_objects` parameter of the load function.\n"
     ]
    },
    {
     "name": "stdout",
     "output_type": "stream",
     "text": [
      "247/247 [==============================] - 3s 14ms/step - loss: 0.0017 - root_mean_squared_error: 0.0416 - val_loss: 8.4744e-04 - val_root_mean_squared_error: 0.0291\n",
      "Epoch 3/20\n",
      "229/247 [==========================>...] - ETA: 0s - loss: 7.8582e-04 - root_mean_squared_error: 0.0280"
     ]
    },
    {
     "name": "stderr",
     "output_type": "stream",
     "text": [
      "WARNING:absl:Found untraced functions such as lstm_cell_141_layer_call_fn, lstm_cell_141_layer_call_and_return_conditional_losses, lstm_cell_141_layer_call_fn, lstm_cell_141_layer_call_and_return_conditional_losses, lstm_cell_141_layer_call_and_return_conditional_losses while saving (showing 5 of 5). These functions will not be directly callable after loading.\n"
     ]
    },
    {
     "name": "stdout",
     "output_type": "stream",
     "text": [
      "INFO:tensorflow:Assets written to: /Users/yukahatori/A_Fairness/FairnessML_git/LSTM-BasicModel/model/assets\n"
     ]
    },
    {
     "name": "stderr",
     "output_type": "stream",
     "text": [
      "INFO:tensorflow:Assets written to: /Users/yukahatori/A_Fairness/FairnessML_git/LSTM-BasicModel/model/assets\n",
      "WARNING:absl:<keras.layers.recurrent.LSTMCell object at 0x7f8ebd53aa00> has the same name 'LSTMCell' as a built-in Keras object. Consider renaming <class 'keras.layers.recurrent.LSTMCell'> to avoid naming conflicts when loading with `tf.keras.models.load_model`. If renaming is not possible, pass the object in the `custom_objects` parameter of the load function.\n"
     ]
    },
    {
     "name": "stdout",
     "output_type": "stream",
     "text": [
      "247/247 [==============================] - 4s 14ms/step - loss: 7.6898e-04 - root_mean_squared_error: 0.0277 - val_loss: 3.9734e-04 - val_root_mean_squared_error: 0.0199\n",
      "Epoch 4/20\n",
      "247/247 [==============================] - 0s 2ms/step - loss: 5.9062e-04 - root_mean_squared_error: 0.0243 - val_loss: 4.1127e-04 - val_root_mean_squared_error: 0.0203\n",
      "Epoch 5/20\n",
      "247/247 [==============================] - 0s 2ms/step - loss: 6.0719e-04 - root_mean_squared_error: 0.0246 - val_loss: 4.2349e-04 - val_root_mean_squared_error: 0.0206\n",
      "Epoch 6/20\n",
      "247/247 [==============================] - 1s 2ms/step - loss: 5.1210e-04 - root_mean_squared_error: 0.0226 - val_loss: 4.2663e-04 - val_root_mean_squared_error: 0.0207\n",
      "Epoch 7/20\n",
      "231/247 [===========================>..] - ETA: 0s - loss: 4.9807e-04 - root_mean_squared_error: 0.0223"
     ]
    },
    {
     "name": "stderr",
     "output_type": "stream",
     "text": [
      "WARNING:absl:Found untraced functions such as lstm_cell_141_layer_call_fn, lstm_cell_141_layer_call_and_return_conditional_losses, lstm_cell_141_layer_call_fn, lstm_cell_141_layer_call_and_return_conditional_losses, lstm_cell_141_layer_call_and_return_conditional_losses while saving (showing 5 of 5). These functions will not be directly callable after loading.\n"
     ]
    },
    {
     "name": "stdout",
     "output_type": "stream",
     "text": [
      "INFO:tensorflow:Assets written to: /Users/yukahatori/A_Fairness/FairnessML_git/LSTM-BasicModel/model/assets\n"
     ]
    },
    {
     "name": "stderr",
     "output_type": "stream",
     "text": [
      "INFO:tensorflow:Assets written to: /Users/yukahatori/A_Fairness/FairnessML_git/LSTM-BasicModel/model/assets\n",
      "WARNING:absl:<keras.layers.recurrent.LSTMCell object at 0x7f8ebd53aa00> has the same name 'LSTMCell' as a built-in Keras object. Consider renaming <class 'keras.layers.recurrent.LSTMCell'> to avoid naming conflicts when loading with `tf.keras.models.load_model`. If renaming is not possible, pass the object in the `custom_objects` parameter of the load function.\n"
     ]
    },
    {
     "name": "stdout",
     "output_type": "stream",
     "text": [
      "247/247 [==============================] - 3s 13ms/step - loss: 4.8737e-04 - root_mean_squared_error: 0.0221 - val_loss: 3.1927e-04 - val_root_mean_squared_error: 0.0179\n",
      "Epoch 8/20\n",
      "247/247 [==============================] - 0s 2ms/step - loss: 4.7489e-04 - root_mean_squared_error: 0.0218 - val_loss: 7.1712e-04 - val_root_mean_squared_error: 0.0268\n",
      "Epoch 9/20\n",
      "229/247 [==========================>...] - ETA: 0s - loss: 4.4704e-04 - root_mean_squared_error: 0.0211"
     ]
    },
    {
     "name": "stderr",
     "output_type": "stream",
     "text": [
      "WARNING:absl:Found untraced functions such as lstm_cell_141_layer_call_fn, lstm_cell_141_layer_call_and_return_conditional_losses, lstm_cell_141_layer_call_fn, lstm_cell_141_layer_call_and_return_conditional_losses, lstm_cell_141_layer_call_and_return_conditional_losses while saving (showing 5 of 5). These functions will not be directly callable after loading.\n"
     ]
    },
    {
     "name": "stdout",
     "output_type": "stream",
     "text": [
      "INFO:tensorflow:Assets written to: /Users/yukahatori/A_Fairness/FairnessML_git/LSTM-BasicModel/model/assets\n"
     ]
    },
    {
     "name": "stderr",
     "output_type": "stream",
     "text": [
      "INFO:tensorflow:Assets written to: /Users/yukahatori/A_Fairness/FairnessML_git/LSTM-BasicModel/model/assets\n",
      "WARNING:absl:<keras.layers.recurrent.LSTMCell object at 0x7f8ebd53aa00> has the same name 'LSTMCell' as a built-in Keras object. Consider renaming <class 'keras.layers.recurrent.LSTMCell'> to avoid naming conflicts when loading with `tf.keras.models.load_model`. If renaming is not possible, pass the object in the `custom_objects` parameter of the load function.\n"
     ]
    },
    {
     "name": "stdout",
     "output_type": "stream",
     "text": [
      "247/247 [==============================] - 4s 15ms/step - loss: 4.4059e-04 - root_mean_squared_error: 0.0210 - val_loss: 2.1661e-04 - val_root_mean_squared_error: 0.0147\n",
      "Epoch 10/20\n",
      "247/247 [==============================] - 0s 2ms/step - loss: 4.0091e-04 - root_mean_squared_error: 0.0200 - val_loss: 2.6487e-04 - val_root_mean_squared_error: 0.0163\n",
      "Epoch 11/20\n",
      "247/247 [==============================] - 0s 2ms/step - loss: 4.1244e-04 - root_mean_squared_error: 0.0203 - val_loss: 6.7202e-04 - val_root_mean_squared_error: 0.0259\n",
      "Epoch 12/20\n",
      "247/247 [==============================] - 0s 2ms/step - loss: 3.4891e-04 - root_mean_squared_error: 0.0187 - val_loss: 3.0425e-04 - val_root_mean_squared_error: 0.0174\n",
      "Epoch 13/20\n",
      "247/247 [==============================] - 0s 2ms/step - loss: 3.5676e-04 - root_mean_squared_error: 0.0189 - val_loss: 4.9173e-04 - val_root_mean_squared_error: 0.0222\n",
      "Epoch 14/20\n",
      "247/247 [==============================] - 1s 2ms/step - loss: 3.4284e-04 - root_mean_squared_error: 0.0185 - val_loss: 3.1989e-04 - val_root_mean_squared_error: 0.0179\n",
      "Epoch 15/20\n",
      "247/247 [==============================] - 1s 2ms/step - loss: 3.0344e-04 - root_mean_squared_error: 0.0174 - val_loss: 3.1693e-04 - val_root_mean_squared_error: 0.0178\n",
      "Epoch 16/20\n",
      "247/247 [==============================] - 1s 2ms/step - loss: 3.3023e-04 - root_mean_squared_error: 0.0182 - val_loss: 3.0222e-04 - val_root_mean_squared_error: 0.0174\n",
      "Epoch 17/20\n",
      "247/247 [==============================] - 0s 2ms/step - loss: 3.1372e-04 - root_mean_squared_error: 0.0177 - val_loss: 3.0691e-04 - val_root_mean_squared_error: 0.0175\n",
      "Epoch 18/20\n",
      "247/247 [==============================] - 0s 2ms/step - loss: 2.9318e-04 - root_mean_squared_error: 0.0171 - val_loss: 4.9491e-04 - val_root_mean_squared_error: 0.0222\n",
      "Epoch 19/20\n",
      "247/247 [==============================] - 0s 2ms/step - loss: 2.8910e-04 - root_mean_squared_error: 0.0170 - val_loss: 6.3539e-04 - val_root_mean_squared_error: 0.0252\n",
      "Epoch 20/20\n",
      "247/247 [==============================] - 0s 2ms/step - loss: 2.9288e-04 - root_mean_squared_error: 0.0171 - val_loss: 4.1148e-04 - val_root_mean_squared_error: 0.0203\n",
      "RMSE value:  0.018702993141365868\n",
      "8758\n",
      "Epoch 1/20\n",
      "240/247 [============================>.] - ETA: 0s - loss: 0.0144 - root_mean_squared_error: 0.1200"
     ]
    },
    {
     "name": "stderr",
     "output_type": "stream",
     "text": [
      "WARNING:absl:Found untraced functions such as lstm_cell_142_layer_call_fn, lstm_cell_142_layer_call_and_return_conditional_losses, lstm_cell_142_layer_call_fn, lstm_cell_142_layer_call_and_return_conditional_losses, lstm_cell_142_layer_call_and_return_conditional_losses while saving (showing 5 of 5). These functions will not be directly callable after loading.\n"
     ]
    },
    {
     "name": "stdout",
     "output_type": "stream",
     "text": [
      "INFO:tensorflow:Assets written to: /Users/yukahatori/A_Fairness/FairnessML_git/LSTM-BasicModel/model/assets\n"
     ]
    },
    {
     "name": "stderr",
     "output_type": "stream",
     "text": [
      "INFO:tensorflow:Assets written to: /Users/yukahatori/A_Fairness/FairnessML_git/LSTM-BasicModel/model/assets\n",
      "WARNING:absl:<keras.layers.recurrent.LSTMCell object at 0x7f8ee5c04520> has the same name 'LSTMCell' as a built-in Keras object. Consider renaming <class 'keras.layers.recurrent.LSTMCell'> to avoid naming conflicts when loading with `tf.keras.models.load_model`. If renaming is not possible, pass the object in the `custom_objects` parameter of the load function.\n"
     ]
    },
    {
     "name": "stdout",
     "output_type": "stream",
     "text": [
      "247/247 [==============================] - 5s 15ms/step - loss: 0.0141 - root_mean_squared_error: 0.1188 - val_loss: 0.0034 - val_root_mean_squared_error: 0.0583\n",
      "Epoch 2/20\n",
      "228/247 [==========================>...] - ETA: 0s - loss: 0.0024 - root_mean_squared_error: 0.0486"
     ]
    },
    {
     "name": "stderr",
     "output_type": "stream",
     "text": [
      "WARNING:absl:Found untraced functions such as lstm_cell_142_layer_call_fn, lstm_cell_142_layer_call_and_return_conditional_losses, lstm_cell_142_layer_call_fn, lstm_cell_142_layer_call_and_return_conditional_losses, lstm_cell_142_layer_call_and_return_conditional_losses while saving (showing 5 of 5). These functions will not be directly callable after loading.\n"
     ]
    },
    {
     "name": "stdout",
     "output_type": "stream",
     "text": [
      "INFO:tensorflow:Assets written to: /Users/yukahatori/A_Fairness/FairnessML_git/LSTM-BasicModel/model/assets\n"
     ]
    },
    {
     "name": "stderr",
     "output_type": "stream",
     "text": [
      "INFO:tensorflow:Assets written to: /Users/yukahatori/A_Fairness/FairnessML_git/LSTM-BasicModel/model/assets\n",
      "WARNING:absl:<keras.layers.recurrent.LSTMCell object at 0x7f8ee5c04520> has the same name 'LSTMCell' as a built-in Keras object. Consider renaming <class 'keras.layers.recurrent.LSTMCell'> to avoid naming conflicts when loading with `tf.keras.models.load_model`. If renaming is not possible, pass the object in the `custom_objects` parameter of the load function.\n"
     ]
    },
    {
     "name": "stdout",
     "output_type": "stream",
     "text": [
      "247/247 [==============================] - 3s 13ms/step - loss: 0.0023 - root_mean_squared_error: 0.0481 - val_loss: 0.0020 - val_root_mean_squared_error: 0.0449\n",
      "Epoch 3/20\n",
      "222/247 [=========================>....] - ETA: 0s - loss: 0.0013 - root_mean_squared_error: 0.0365"
     ]
    },
    {
     "name": "stderr",
     "output_type": "stream",
     "text": [
      "WARNING:absl:Found untraced functions such as lstm_cell_142_layer_call_fn, lstm_cell_142_layer_call_and_return_conditional_losses, lstm_cell_142_layer_call_fn, lstm_cell_142_layer_call_and_return_conditional_losses, lstm_cell_142_layer_call_and_return_conditional_losses while saving (showing 5 of 5). These functions will not be directly callable after loading.\n"
     ]
    },
    {
     "name": "stdout",
     "output_type": "stream",
     "text": [
      "INFO:tensorflow:Assets written to: /Users/yukahatori/A_Fairness/FairnessML_git/LSTM-BasicModel/model/assets\n"
     ]
    },
    {
     "name": "stderr",
     "output_type": "stream",
     "text": [
      "INFO:tensorflow:Assets written to: /Users/yukahatori/A_Fairness/FairnessML_git/LSTM-BasicModel/model/assets\n",
      "WARNING:absl:<keras.layers.recurrent.LSTMCell object at 0x7f8ee5c04520> has the same name 'LSTMCell' as a built-in Keras object. Consider renaming <class 'keras.layers.recurrent.LSTMCell'> to avoid naming conflicts when loading with `tf.keras.models.load_model`. If renaming is not possible, pass the object in the `custom_objects` parameter of the load function.\n"
     ]
    },
    {
     "name": "stdout",
     "output_type": "stream",
     "text": [
      "247/247 [==============================] - 3s 13ms/step - loss: 0.0013 - root_mean_squared_error: 0.0360 - val_loss: 0.0012 - val_root_mean_squared_error: 0.0340\n",
      "Epoch 4/20\n",
      "242/247 [============================>.] - ETA: 0s - loss: 7.5544e-04 - root_mean_squared_error: 0.0275"
     ]
    },
    {
     "name": "stderr",
     "output_type": "stream",
     "text": [
      "WARNING:absl:Found untraced functions such as lstm_cell_142_layer_call_fn, lstm_cell_142_layer_call_and_return_conditional_losses, lstm_cell_142_layer_call_fn, lstm_cell_142_layer_call_and_return_conditional_losses, lstm_cell_142_layer_call_and_return_conditional_losses while saving (showing 5 of 5). These functions will not be directly callable after loading.\n"
     ]
    },
    {
     "name": "stdout",
     "output_type": "stream",
     "text": [
      "INFO:tensorflow:Assets written to: /Users/yukahatori/A_Fairness/FairnessML_git/LSTM-BasicModel/model/assets\n"
     ]
    },
    {
     "name": "stderr",
     "output_type": "stream",
     "text": [
      "INFO:tensorflow:Assets written to: /Users/yukahatori/A_Fairness/FairnessML_git/LSTM-BasicModel/model/assets\n",
      "WARNING:absl:<keras.layers.recurrent.LSTMCell object at 0x7f8ee5c04520> has the same name 'LSTMCell' as a built-in Keras object. Consider renaming <class 'keras.layers.recurrent.LSTMCell'> to avoid naming conflicts when loading with `tf.keras.models.load_model`. If renaming is not possible, pass the object in the `custom_objects` parameter of the load function.\n"
     ]
    },
    {
     "name": "stdout",
     "output_type": "stream",
     "text": [
      "247/247 [==============================] - 3s 14ms/step - loss: 7.6031e-04 - root_mean_squared_error: 0.0276 - val_loss: 4.6989e-04 - val_root_mean_squared_error: 0.0217\n",
      "Epoch 5/20\n",
      "223/247 [==========================>...] - ETA: 0s - loss: 5.8546e-04 - root_mean_squared_error: 0.0242"
     ]
    },
    {
     "name": "stderr",
     "output_type": "stream",
     "text": [
      "WARNING:absl:Found untraced functions such as lstm_cell_142_layer_call_fn, lstm_cell_142_layer_call_and_return_conditional_losses, lstm_cell_142_layer_call_fn, lstm_cell_142_layer_call_and_return_conditional_losses, lstm_cell_142_layer_call_and_return_conditional_losses while saving (showing 5 of 5). These functions will not be directly callable after loading.\n"
     ]
    },
    {
     "name": "stdout",
     "output_type": "stream",
     "text": [
      "INFO:tensorflow:Assets written to: /Users/yukahatori/A_Fairness/FairnessML_git/LSTM-BasicModel/model/assets\n"
     ]
    },
    {
     "name": "stderr",
     "output_type": "stream",
     "text": [
      "INFO:tensorflow:Assets written to: /Users/yukahatori/A_Fairness/FairnessML_git/LSTM-BasicModel/model/assets\n",
      "WARNING:absl:<keras.layers.recurrent.LSTMCell object at 0x7f8ee5c04520> has the same name 'LSTMCell' as a built-in Keras object. Consider renaming <class 'keras.layers.recurrent.LSTMCell'> to avoid naming conflicts when loading with `tf.keras.models.load_model`. If renaming is not possible, pass the object in the `custom_objects` parameter of the load function.\n"
     ]
    },
    {
     "name": "stdout",
     "output_type": "stream",
     "text": [
      "247/247 [==============================] - 3s 12ms/step - loss: 5.7314e-04 - root_mean_squared_error: 0.0239 - val_loss: 4.6005e-04 - val_root_mean_squared_error: 0.0214\n",
      "Epoch 6/20\n",
      "218/247 [=========================>....] - ETA: 0s - loss: 5.8386e-04 - root_mean_squared_error: 0.0242"
     ]
    },
    {
     "name": "stderr",
     "output_type": "stream",
     "text": [
      "WARNING:absl:Found untraced functions such as lstm_cell_142_layer_call_fn, lstm_cell_142_layer_call_and_return_conditional_losses, lstm_cell_142_layer_call_fn, lstm_cell_142_layer_call_and_return_conditional_losses, lstm_cell_142_layer_call_and_return_conditional_losses while saving (showing 5 of 5). These functions will not be directly callable after loading.\n"
     ]
    },
    {
     "name": "stdout",
     "output_type": "stream",
     "text": [
      "INFO:tensorflow:Assets written to: /Users/yukahatori/A_Fairness/FairnessML_git/LSTM-BasicModel/model/assets\n"
     ]
    },
    {
     "name": "stderr",
     "output_type": "stream",
     "text": [
      "INFO:tensorflow:Assets written to: /Users/yukahatori/A_Fairness/FairnessML_git/LSTM-BasicModel/model/assets\n",
      "WARNING:absl:<keras.layers.recurrent.LSTMCell object at 0x7f8ee5c04520> has the same name 'LSTMCell' as a built-in Keras object. Consider renaming <class 'keras.layers.recurrent.LSTMCell'> to avoid naming conflicts when loading with `tf.keras.models.load_model`. If renaming is not possible, pass the object in the `custom_objects` parameter of the load function.\n"
     ]
    },
    {
     "name": "stdout",
     "output_type": "stream",
     "text": [
      "247/247 [==============================] - 3s 13ms/step - loss: 5.7479e-04 - root_mean_squared_error: 0.0240 - val_loss: 3.3172e-04 - val_root_mean_squared_error: 0.0182\n",
      "Epoch 7/20\n",
      "247/247 [==============================] - 0s 2ms/step - loss: 5.1639e-04 - root_mean_squared_error: 0.0227 - val_loss: 3.8666e-04 - val_root_mean_squared_error: 0.0197\n",
      "Epoch 8/20\n",
      "247/247 [==============================] - 0s 2ms/step - loss: 4.8226e-04 - root_mean_squared_error: 0.0220 - val_loss: 3.7422e-04 - val_root_mean_squared_error: 0.0193\n",
      "Epoch 9/20\n",
      "247/247 [==============================] - 0s 2ms/step - loss: 4.5575e-04 - root_mean_squared_error: 0.0213 - val_loss: 4.9567e-04 - val_root_mean_squared_error: 0.0223\n",
      "Epoch 10/20\n",
      "247/247 [==============================] - 0s 2ms/step - loss: 4.2485e-04 - root_mean_squared_error: 0.0206 - val_loss: 4.7007e-04 - val_root_mean_squared_error: 0.0217\n",
      "Epoch 11/20\n",
      "228/247 [==========================>...] - ETA: 0s - loss: 3.4160e-04 - root_mean_squared_error: 0.0185"
     ]
    },
    {
     "name": "stderr",
     "output_type": "stream",
     "text": [
      "WARNING:absl:Found untraced functions such as lstm_cell_142_layer_call_fn, lstm_cell_142_layer_call_and_return_conditional_losses, lstm_cell_142_layer_call_fn, lstm_cell_142_layer_call_and_return_conditional_losses, lstm_cell_142_layer_call_and_return_conditional_losses while saving (showing 5 of 5). These functions will not be directly callable after loading.\n"
     ]
    },
    {
     "name": "stdout",
     "output_type": "stream",
     "text": [
      "INFO:tensorflow:Assets written to: /Users/yukahatori/A_Fairness/FairnessML_git/LSTM-BasicModel/model/assets\n"
     ]
    },
    {
     "name": "stderr",
     "output_type": "stream",
     "text": [
      "INFO:tensorflow:Assets written to: /Users/yukahatori/A_Fairness/FairnessML_git/LSTM-BasicModel/model/assets\n",
      "WARNING:absl:<keras.layers.recurrent.LSTMCell object at 0x7f8ee5c04520> has the same name 'LSTMCell' as a built-in Keras object. Consider renaming <class 'keras.layers.recurrent.LSTMCell'> to avoid naming conflicts when loading with `tf.keras.models.load_model`. If renaming is not possible, pass the object in the `custom_objects` parameter of the load function.\n"
     ]
    },
    {
     "name": "stdout",
     "output_type": "stream",
     "text": [
      "247/247 [==============================] - 3s 13ms/step - loss: 3.4357e-04 - root_mean_squared_error: 0.0185 - val_loss: 3.1413e-04 - val_root_mean_squared_error: 0.0177\n",
      "Epoch 12/20\n",
      "247/247 [==============================] - 0s 2ms/step - loss: 3.0302e-04 - root_mean_squared_error: 0.0174 - val_loss: 4.3012e-04 - val_root_mean_squared_error: 0.0207\n",
      "Epoch 13/20\n",
      "247/247 [==============================] - 0s 2ms/step - loss: 2.7517e-04 - root_mean_squared_error: 0.0166 - val_loss: 3.1418e-04 - val_root_mean_squared_error: 0.0177\n",
      "Epoch 14/20\n",
      "243/247 [============================>.] - ETA: 0s - loss: 2.8402e-04 - root_mean_squared_error: 0.0169"
     ]
    },
    {
     "name": "stderr",
     "output_type": "stream",
     "text": [
      "WARNING:absl:Found untraced functions such as lstm_cell_142_layer_call_fn, lstm_cell_142_layer_call_and_return_conditional_losses, lstm_cell_142_layer_call_fn, lstm_cell_142_layer_call_and_return_conditional_losses, lstm_cell_142_layer_call_and_return_conditional_losses while saving (showing 5 of 5). These functions will not be directly callable after loading.\n"
     ]
    },
    {
     "name": "stdout",
     "output_type": "stream",
     "text": [
      "INFO:tensorflow:Assets written to: /Users/yukahatori/A_Fairness/FairnessML_git/LSTM-BasicModel/model/assets\n"
     ]
    },
    {
     "name": "stderr",
     "output_type": "stream",
     "text": [
      "INFO:tensorflow:Assets written to: /Users/yukahatori/A_Fairness/FairnessML_git/LSTM-BasicModel/model/assets\n",
      "WARNING:absl:<keras.layers.recurrent.LSTMCell object at 0x7f8ee5c04520> has the same name 'LSTMCell' as a built-in Keras object. Consider renaming <class 'keras.layers.recurrent.LSTMCell'> to avoid naming conflicts when loading with `tf.keras.models.load_model`. If renaming is not possible, pass the object in the `custom_objects` parameter of the load function.\n"
     ]
    },
    {
     "name": "stdout",
     "output_type": "stream",
     "text": [
      "247/247 [==============================] - 3s 12ms/step - loss: 2.8558e-04 - root_mean_squared_error: 0.0169 - val_loss: 2.3836e-04 - val_root_mean_squared_error: 0.0154\n",
      "Epoch 15/20\n",
      "247/247 [==============================] - 0s 2ms/step - loss: 2.5749e-04 - root_mean_squared_error: 0.0160 - val_loss: 2.6481e-04 - val_root_mean_squared_error: 0.0163\n",
      "Epoch 16/20\n",
      "247/247 [==============================] - 1s 2ms/step - loss: 2.3996e-04 - root_mean_squared_error: 0.0155 - val_loss: 3.2108e-04 - val_root_mean_squared_error: 0.0179\n",
      "Epoch 17/20\n",
      "241/247 [============================>.] - ETA: 0s - loss: 2.3408e-04 - root_mean_squared_error: 0.0153"
     ]
    },
    {
     "name": "stderr",
     "output_type": "stream",
     "text": [
      "WARNING:absl:Found untraced functions such as lstm_cell_142_layer_call_fn, lstm_cell_142_layer_call_and_return_conditional_losses, lstm_cell_142_layer_call_fn, lstm_cell_142_layer_call_and_return_conditional_losses, lstm_cell_142_layer_call_and_return_conditional_losses while saving (showing 5 of 5). These functions will not be directly callable after loading.\n"
     ]
    },
    {
     "name": "stdout",
     "output_type": "stream",
     "text": [
      "INFO:tensorflow:Assets written to: /Users/yukahatori/A_Fairness/FairnessML_git/LSTM-BasicModel/model/assets\n"
     ]
    },
    {
     "name": "stderr",
     "output_type": "stream",
     "text": [
      "INFO:tensorflow:Assets written to: /Users/yukahatori/A_Fairness/FairnessML_git/LSTM-BasicModel/model/assets\n",
      "WARNING:absl:<keras.layers.recurrent.LSTMCell object at 0x7f8ee5c04520> has the same name 'LSTMCell' as a built-in Keras object. Consider renaming <class 'keras.layers.recurrent.LSTMCell'> to avoid naming conflicts when loading with `tf.keras.models.load_model`. If renaming is not possible, pass the object in the `custom_objects` parameter of the load function.\n"
     ]
    },
    {
     "name": "stdout",
     "output_type": "stream",
     "text": [
      "247/247 [==============================] - 3s 14ms/step - loss: 2.3326e-04 - root_mean_squared_error: 0.0153 - val_loss: 2.1041e-04 - val_root_mean_squared_error: 0.0145\n",
      "Epoch 18/20\n",
      "223/247 [==========================>...] - ETA: 0s - loss: 2.1424e-04 - root_mean_squared_error: 0.0146"
     ]
    },
    {
     "name": "stderr",
     "output_type": "stream",
     "text": [
      "WARNING:absl:Found untraced functions such as lstm_cell_142_layer_call_fn, lstm_cell_142_layer_call_and_return_conditional_losses, lstm_cell_142_layer_call_fn, lstm_cell_142_layer_call_and_return_conditional_losses, lstm_cell_142_layer_call_and_return_conditional_losses while saving (showing 5 of 5). These functions will not be directly callable after loading.\n"
     ]
    },
    {
     "name": "stdout",
     "output_type": "stream",
     "text": [
      "INFO:tensorflow:Assets written to: /Users/yukahatori/A_Fairness/FairnessML_git/LSTM-BasicModel/model/assets\n"
     ]
    },
    {
     "name": "stderr",
     "output_type": "stream",
     "text": [
      "INFO:tensorflow:Assets written to: /Users/yukahatori/A_Fairness/FairnessML_git/LSTM-BasicModel/model/assets\n",
      "WARNING:absl:<keras.layers.recurrent.LSTMCell object at 0x7f8ee5c04520> has the same name 'LSTMCell' as a built-in Keras object. Consider renaming <class 'keras.layers.recurrent.LSTMCell'> to avoid naming conflicts when loading with `tf.keras.models.load_model`. If renaming is not possible, pass the object in the `custom_objects` parameter of the load function.\n"
     ]
    },
    {
     "name": "stdout",
     "output_type": "stream",
     "text": [
      "247/247 [==============================] - 3s 13ms/step - loss: 2.1074e-04 - root_mean_squared_error: 0.0145 - val_loss: 2.0725e-04 - val_root_mean_squared_error: 0.0144\n",
      "Epoch 19/20\n",
      "247/247 [==============================] - 1s 2ms/step - loss: 1.9429e-04 - root_mean_squared_error: 0.0139 - val_loss: 2.2332e-04 - val_root_mean_squared_error: 0.0149\n",
      "Epoch 20/20\n",
      "247/247 [==============================] - 0s 2ms/step - loss: 1.9865e-04 - root_mean_squared_error: 0.0141 - val_loss: 2.9338e-04 - val_root_mean_squared_error: 0.0171\n",
      "RMSE value:  0.01745807946724192\n",
      "8758\n",
      "Epoch 1/20\n",
      "219/247 [=========================>....] - ETA: 0s - loss: 0.0177 - root_mean_squared_error: 0.1331"
     ]
    },
    {
     "name": "stderr",
     "output_type": "stream",
     "text": [
      "WARNING:absl:Found untraced functions such as lstm_cell_143_layer_call_fn, lstm_cell_143_layer_call_and_return_conditional_losses, lstm_cell_143_layer_call_fn, lstm_cell_143_layer_call_and_return_conditional_losses, lstm_cell_143_layer_call_and_return_conditional_losses while saving (showing 5 of 5). These functions will not be directly callable after loading.\n"
     ]
    },
    {
     "name": "stdout",
     "output_type": "stream",
     "text": [
      "INFO:tensorflow:Assets written to: /Users/yukahatori/A_Fairness/FairnessML_git/LSTM-BasicModel/model/assets\n"
     ]
    },
    {
     "name": "stderr",
     "output_type": "stream",
     "text": [
      "INFO:tensorflow:Assets written to: /Users/yukahatori/A_Fairness/FairnessML_git/LSTM-BasicModel/model/assets\n",
      "WARNING:absl:<keras.layers.recurrent.LSTMCell object at 0x7f8ecfb7e070> has the same name 'LSTMCell' as a built-in Keras object. Consider renaming <class 'keras.layers.recurrent.LSTMCell'> to avoid naming conflicts when loading with `tf.keras.models.load_model`. If renaming is not possible, pass the object in the `custom_objects` parameter of the load function.\n"
     ]
    },
    {
     "name": "stdout",
     "output_type": "stream",
     "text": [
      "247/247 [==============================] - 5s 15ms/step - loss: 0.0161 - root_mean_squared_error: 0.1267 - val_loss: 0.0017 - val_root_mean_squared_error: 0.0418\n",
      "Epoch 2/20\n",
      "231/247 [===========================>..] - ETA: 0s - loss: 0.0026 - root_mean_squared_error: 0.0505"
     ]
    },
    {
     "name": "stderr",
     "output_type": "stream",
     "text": [
      "WARNING:absl:Found untraced functions such as lstm_cell_143_layer_call_fn, lstm_cell_143_layer_call_and_return_conditional_losses, lstm_cell_143_layer_call_fn, lstm_cell_143_layer_call_and_return_conditional_losses, lstm_cell_143_layer_call_and_return_conditional_losses while saving (showing 5 of 5). These functions will not be directly callable after loading.\n"
     ]
    },
    {
     "name": "stdout",
     "output_type": "stream",
     "text": [
      "INFO:tensorflow:Assets written to: /Users/yukahatori/A_Fairness/FairnessML_git/LSTM-BasicModel/model/assets\n"
     ]
    },
    {
     "name": "stderr",
     "output_type": "stream",
     "text": [
      "INFO:tensorflow:Assets written to: /Users/yukahatori/A_Fairness/FairnessML_git/LSTM-BasicModel/model/assets\n",
      "WARNING:absl:<keras.layers.recurrent.LSTMCell object at 0x7f8ecfb7e070> has the same name 'LSTMCell' as a built-in Keras object. Consider renaming <class 'keras.layers.recurrent.LSTMCell'> to avoid naming conflicts when loading with `tf.keras.models.load_model`. If renaming is not possible, pass the object in the `custom_objects` parameter of the load function.\n"
     ]
    },
    {
     "name": "stdout",
     "output_type": "stream",
     "text": [
      "247/247 [==============================] - 4s 15ms/step - loss: 0.0025 - root_mean_squared_error: 0.0502 - val_loss: 0.0015 - val_root_mean_squared_error: 0.0384\n",
      "Epoch 3/20\n",
      "239/247 [============================>.] - ETA: 0s - loss: 0.0016 - root_mean_squared_error: 0.0400"
     ]
    },
    {
     "name": "stderr",
     "output_type": "stream",
     "text": [
      "WARNING:absl:Found untraced functions such as lstm_cell_143_layer_call_fn, lstm_cell_143_layer_call_and_return_conditional_losses, lstm_cell_143_layer_call_fn, lstm_cell_143_layer_call_and_return_conditional_losses, lstm_cell_143_layer_call_and_return_conditional_losses while saving (showing 5 of 5). These functions will not be directly callable after loading.\n"
     ]
    },
    {
     "name": "stdout",
     "output_type": "stream",
     "text": [
      "INFO:tensorflow:Assets written to: /Users/yukahatori/A_Fairness/FairnessML_git/LSTM-BasicModel/model/assets\n"
     ]
    },
    {
     "name": "stderr",
     "output_type": "stream",
     "text": [
      "INFO:tensorflow:Assets written to: /Users/yukahatori/A_Fairness/FairnessML_git/LSTM-BasicModel/model/assets\n",
      "WARNING:absl:<keras.layers.recurrent.LSTMCell object at 0x7f8ecfb7e070> has the same name 'LSTMCell' as a built-in Keras object. Consider renaming <class 'keras.layers.recurrent.LSTMCell'> to avoid naming conflicts when loading with `tf.keras.models.load_model`. If renaming is not possible, pass the object in the `custom_objects` parameter of the load function.\n"
     ]
    },
    {
     "name": "stdout",
     "output_type": "stream",
     "text": [
      "247/247 [==============================] - 3s 14ms/step - loss: 0.0016 - root_mean_squared_error: 0.0399 - val_loss: 9.8797e-04 - val_root_mean_squared_error: 0.0314\n",
      "Epoch 4/20\n",
      "246/247 [============================>.] - ETA: 0s - loss: 8.5973e-04 - root_mean_squared_error: 0.0293"
     ]
    },
    {
     "name": "stderr",
     "output_type": "stream",
     "text": [
      "WARNING:absl:Found untraced functions such as lstm_cell_143_layer_call_fn, lstm_cell_143_layer_call_and_return_conditional_losses, lstm_cell_143_layer_call_fn, lstm_cell_143_layer_call_and_return_conditional_losses, lstm_cell_143_layer_call_and_return_conditional_losses while saving (showing 5 of 5). These functions will not be directly callable after loading.\n"
     ]
    },
    {
     "name": "stdout",
     "output_type": "stream",
     "text": [
      "INFO:tensorflow:Assets written to: /Users/yukahatori/A_Fairness/FairnessML_git/LSTM-BasicModel/model/assets\n"
     ]
    },
    {
     "name": "stderr",
     "output_type": "stream",
     "text": [
      "INFO:tensorflow:Assets written to: /Users/yukahatori/A_Fairness/FairnessML_git/LSTM-BasicModel/model/assets\n",
      "WARNING:absl:<keras.layers.recurrent.LSTMCell object at 0x7f8ecfb7e070> has the same name 'LSTMCell' as a built-in Keras object. Consider renaming <class 'keras.layers.recurrent.LSTMCell'> to avoid naming conflicts when loading with `tf.keras.models.load_model`. If renaming is not possible, pass the object in the `custom_objects` parameter of the load function.\n"
     ]
    },
    {
     "name": "stdout",
     "output_type": "stream",
     "text": [
      "247/247 [==============================] - 4s 15ms/step - loss: 8.5917e-04 - root_mean_squared_error: 0.0293 - val_loss: 6.6547e-04 - val_root_mean_squared_error: 0.0258\n",
      "Epoch 5/20\n",
      "231/247 [===========================>..] - ETA: 0s - loss: 7.4335e-04 - root_mean_squared_error: 0.0273"
     ]
    },
    {
     "name": "stderr",
     "output_type": "stream",
     "text": [
      "WARNING:absl:Found untraced functions such as lstm_cell_143_layer_call_fn, lstm_cell_143_layer_call_and_return_conditional_losses, lstm_cell_143_layer_call_fn, lstm_cell_143_layer_call_and_return_conditional_losses, lstm_cell_143_layer_call_and_return_conditional_losses while saving (showing 5 of 5). These functions will not be directly callable after loading.\n"
     ]
    },
    {
     "name": "stdout",
     "output_type": "stream",
     "text": [
      "INFO:tensorflow:Assets written to: /Users/yukahatori/A_Fairness/FairnessML_git/LSTM-BasicModel/model/assets\n"
     ]
    },
    {
     "name": "stderr",
     "output_type": "stream",
     "text": [
      "INFO:tensorflow:Assets written to: /Users/yukahatori/A_Fairness/FairnessML_git/LSTM-BasicModel/model/assets\n",
      "WARNING:absl:<keras.layers.recurrent.LSTMCell object at 0x7f8ecfb7e070> has the same name 'LSTMCell' as a built-in Keras object. Consider renaming <class 'keras.layers.recurrent.LSTMCell'> to avoid naming conflicts when loading with `tf.keras.models.load_model`. If renaming is not possible, pass the object in the `custom_objects` parameter of the load function.\n"
     ]
    },
    {
     "name": "stdout",
     "output_type": "stream",
     "text": [
      "247/247 [==============================] - 5s 22ms/step - loss: 7.3493e-04 - root_mean_squared_error: 0.0271 - val_loss: 5.1082e-04 - val_root_mean_squared_error: 0.0226\n",
      "Epoch 6/20\n",
      "234/247 [===========================>..] - ETA: 0s - loss: 6.1875e-04 - root_mean_squared_error: 0.0249"
     ]
    },
    {
     "name": "stderr",
     "output_type": "stream",
     "text": [
      "WARNING:absl:Found untraced functions such as lstm_cell_143_layer_call_fn, lstm_cell_143_layer_call_and_return_conditional_losses, lstm_cell_143_layer_call_fn, lstm_cell_143_layer_call_and_return_conditional_losses, lstm_cell_143_layer_call_and_return_conditional_losses while saving (showing 5 of 5). These functions will not be directly callable after loading.\n"
     ]
    },
    {
     "name": "stdout",
     "output_type": "stream",
     "text": [
      "INFO:tensorflow:Assets written to: /Users/yukahatori/A_Fairness/FairnessML_git/LSTM-BasicModel/model/assets\n"
     ]
    },
    {
     "name": "stderr",
     "output_type": "stream",
     "text": [
      "INFO:tensorflow:Assets written to: /Users/yukahatori/A_Fairness/FairnessML_git/LSTM-BasicModel/model/assets\n",
      "WARNING:absl:<keras.layers.recurrent.LSTMCell object at 0x7f8ecfb7e070> has the same name 'LSTMCell' as a built-in Keras object. Consider renaming <class 'keras.layers.recurrent.LSTMCell'> to avoid naming conflicts when loading with `tf.keras.models.load_model`. If renaming is not possible, pass the object in the `custom_objects` parameter of the load function.\n"
     ]
    },
    {
     "name": "stdout",
     "output_type": "stream",
     "text": [
      "247/247 [==============================] - 11s 43ms/step - loss: 6.1497e-04 - root_mean_squared_error: 0.0248 - val_loss: 3.7730e-04 - val_root_mean_squared_error: 0.0194\n",
      "Epoch 7/20\n",
      "246/247 [============================>.] - ETA: 0s - loss: 5.5306e-04 - root_mean_squared_error: 0.0235"
     ]
    },
    {
     "name": "stderr",
     "output_type": "stream",
     "text": [
      "WARNING:absl:Found untraced functions such as lstm_cell_143_layer_call_fn, lstm_cell_143_layer_call_and_return_conditional_losses, lstm_cell_143_layer_call_fn, lstm_cell_143_layer_call_and_return_conditional_losses, lstm_cell_143_layer_call_and_return_conditional_losses while saving (showing 5 of 5). These functions will not be directly callable after loading.\n"
     ]
    },
    {
     "name": "stdout",
     "output_type": "stream",
     "text": [
      "INFO:tensorflow:Assets written to: /Users/yukahatori/A_Fairness/FairnessML_git/LSTM-BasicModel/model/assets\n"
     ]
    },
    {
     "name": "stderr",
     "output_type": "stream",
     "text": [
      "INFO:tensorflow:Assets written to: /Users/yukahatori/A_Fairness/FairnessML_git/LSTM-BasicModel/model/assets\n",
      "WARNING:absl:<keras.layers.recurrent.LSTMCell object at 0x7f8ecfb7e070> has the same name 'LSTMCell' as a built-in Keras object. Consider renaming <class 'keras.layers.recurrent.LSTMCell'> to avoid naming conflicts when loading with `tf.keras.models.load_model`. If renaming is not possible, pass the object in the `custom_objects` parameter of the load function.\n"
     ]
    },
    {
     "name": "stdout",
     "output_type": "stream",
     "text": [
      "247/247 [==============================] - 5s 22ms/step - loss: 5.5257e-04 - root_mean_squared_error: 0.0235 - val_loss: 3.3116e-04 - val_root_mean_squared_error: 0.0182\n",
      "Epoch 8/20\n",
      "247/247 [==============================] - 1s 3ms/step - loss: 5.3325e-04 - root_mean_squared_error: 0.0231 - val_loss: 3.9573e-04 - val_root_mean_squared_error: 0.0199\n",
      "Epoch 9/20\n",
      "247/247 [==============================] - 1s 4ms/step - loss: 4.6424e-04 - root_mean_squared_error: 0.0215 - val_loss: 4.2615e-04 - val_root_mean_squared_error: 0.0206\n",
      "Epoch 10/20\n",
      "234/247 [===========================>..] - ETA: 0s - loss: 4.6174e-04 - root_mean_squared_error: 0.0215"
     ]
    },
    {
     "name": "stderr",
     "output_type": "stream",
     "text": [
      "WARNING:absl:Found untraced functions such as lstm_cell_143_layer_call_fn, lstm_cell_143_layer_call_and_return_conditional_losses, lstm_cell_143_layer_call_fn, lstm_cell_143_layer_call_and_return_conditional_losses, lstm_cell_143_layer_call_and_return_conditional_losses while saving (showing 5 of 5). These functions will not be directly callable after loading.\n"
     ]
    },
    {
     "name": "stdout",
     "output_type": "stream",
     "text": [
      "INFO:tensorflow:Assets written to: /Users/yukahatori/A_Fairness/FairnessML_git/LSTM-BasicModel/model/assets\n"
     ]
    },
    {
     "name": "stderr",
     "output_type": "stream",
     "text": [
      "INFO:tensorflow:Assets written to: /Users/yukahatori/A_Fairness/FairnessML_git/LSTM-BasicModel/model/assets\n",
      "WARNING:absl:<keras.layers.recurrent.LSTMCell object at 0x7f8ecfb7e070> has the same name 'LSTMCell' as a built-in Keras object. Consider renaming <class 'keras.layers.recurrent.LSTMCell'> to avoid naming conflicts when loading with `tf.keras.models.load_model`. If renaming is not possible, pass the object in the `custom_objects` parameter of the load function.\n"
     ]
    },
    {
     "name": "stdout",
     "output_type": "stream",
     "text": [
      "247/247 [==============================] - 4s 17ms/step - loss: 4.6223e-04 - root_mean_squared_error: 0.0215 - val_loss: 2.4755e-04 - val_root_mean_squared_error: 0.0157\n",
      "Epoch 11/20\n",
      "247/247 [==============================] - 1s 2ms/step - loss: 4.3523e-04 - root_mean_squared_error: 0.0209 - val_loss: 3.2596e-04 - val_root_mean_squared_error: 0.0181\n",
      "Epoch 12/20\n",
      "247/247 [==============================] - 1s 2ms/step - loss: 4.3062e-04 - root_mean_squared_error: 0.0208 - val_loss: 2.5205e-04 - val_root_mean_squared_error: 0.0159\n",
      "Epoch 13/20\n",
      "247/247 [==============================] - 1s 2ms/step - loss: 3.8400e-04 - root_mean_squared_error: 0.0196 - val_loss: 5.9151e-04 - val_root_mean_squared_error: 0.0243\n",
      "Epoch 14/20\n",
      "247/247 [==============================] - 1s 2ms/step - loss: 3.7569e-04 - root_mean_squared_error: 0.0194 - val_loss: 4.2001e-04 - val_root_mean_squared_error: 0.0205\n",
      "Epoch 15/20\n",
      "247/247 [==============================] - 1s 2ms/step - loss: 3.4422e-04 - root_mean_squared_error: 0.0186 - val_loss: 2.8342e-04 - val_root_mean_squared_error: 0.0168\n",
      "Epoch 16/20\n",
      "240/247 [============================>.] - ETA: 0s - loss: 3.4454e-04 - root_mean_squared_error: 0.0186"
     ]
    },
    {
     "name": "stderr",
     "output_type": "stream",
     "text": [
      "WARNING:absl:Found untraced functions such as lstm_cell_143_layer_call_fn, lstm_cell_143_layer_call_and_return_conditional_losses, lstm_cell_143_layer_call_fn, lstm_cell_143_layer_call_and_return_conditional_losses, lstm_cell_143_layer_call_and_return_conditional_losses while saving (showing 5 of 5). These functions will not be directly callable after loading.\n"
     ]
    },
    {
     "name": "stdout",
     "output_type": "stream",
     "text": [
      "INFO:tensorflow:Assets written to: /Users/yukahatori/A_Fairness/FairnessML_git/LSTM-BasicModel/model/assets\n"
     ]
    },
    {
     "name": "stderr",
     "output_type": "stream",
     "text": [
      "INFO:tensorflow:Assets written to: /Users/yukahatori/A_Fairness/FairnessML_git/LSTM-BasicModel/model/assets\n",
      "WARNING:absl:<keras.layers.recurrent.LSTMCell object at 0x7f8ecfb7e070> has the same name 'LSTMCell' as a built-in Keras object. Consider renaming <class 'keras.layers.recurrent.LSTMCell'> to avoid naming conflicts when loading with `tf.keras.models.load_model`. If renaming is not possible, pass the object in the `custom_objects` parameter of the load function.\n"
     ]
    },
    {
     "name": "stdout",
     "output_type": "stream",
     "text": [
      "247/247 [==============================] - 4s 17ms/step - loss: 3.4394e-04 - root_mean_squared_error: 0.0185 - val_loss: 2.2638e-04 - val_root_mean_squared_error: 0.0150\n",
      "Epoch 17/20\n",
      "234/247 [===========================>..] - ETA: 0s - loss: 3.1609e-04 - root_mean_squared_error: 0.0178"
     ]
    },
    {
     "name": "stderr",
     "output_type": "stream",
     "text": [
      "WARNING:absl:Found untraced functions such as lstm_cell_143_layer_call_fn, lstm_cell_143_layer_call_and_return_conditional_losses, lstm_cell_143_layer_call_fn, lstm_cell_143_layer_call_and_return_conditional_losses, lstm_cell_143_layer_call_and_return_conditional_losses while saving (showing 5 of 5). These functions will not be directly callable after loading.\n"
     ]
    },
    {
     "name": "stdout",
     "output_type": "stream",
     "text": [
      "INFO:tensorflow:Assets written to: /Users/yukahatori/A_Fairness/FairnessML_git/LSTM-BasicModel/model/assets\n"
     ]
    },
    {
     "name": "stderr",
     "output_type": "stream",
     "text": [
      "INFO:tensorflow:Assets written to: /Users/yukahatori/A_Fairness/FairnessML_git/LSTM-BasicModel/model/assets\n",
      "WARNING:absl:<keras.layers.recurrent.LSTMCell object at 0x7f8ecfb7e070> has the same name 'LSTMCell' as a built-in Keras object. Consider renaming <class 'keras.layers.recurrent.LSTMCell'> to avoid naming conflicts when loading with `tf.keras.models.load_model`. If renaming is not possible, pass the object in the `custom_objects` parameter of the load function.\n"
     ]
    },
    {
     "name": "stdout",
     "output_type": "stream",
     "text": [
      "247/247 [==============================] - 4s 15ms/step - loss: 3.1318e-04 - root_mean_squared_error: 0.0177 - val_loss: 2.1707e-04 - val_root_mean_squared_error: 0.0147\n",
      "Epoch 18/20\n",
      "247/247 [==============================] - 1s 2ms/step - loss: 2.8763e-04 - root_mean_squared_error: 0.0170 - val_loss: 3.2669e-04 - val_root_mean_squared_error: 0.0181\n",
      "Epoch 19/20\n",
      "247/247 [==============================] - 1s 2ms/step - loss: 2.6459e-04 - root_mean_squared_error: 0.0163 - val_loss: 2.1905e-04 - val_root_mean_squared_error: 0.0148\n",
      "Epoch 20/20\n",
      "247/247 [==============================] - 1s 3ms/step - loss: 2.7250e-04 - root_mean_squared_error: 0.0165 - val_loss: 3.7323e-04 - val_root_mean_squared_error: 0.0193\n",
      "RMSE value:  0.020767972680149197\n",
      "8758\n",
      "Epoch 1/20\n",
      "239/247 [============================>.] - ETA: 0s - loss: 0.0131 - root_mean_squared_error: 0.1146"
     ]
    },
    {
     "name": "stderr",
     "output_type": "stream",
     "text": [
      "WARNING:absl:Found untraced functions such as lstm_cell_144_layer_call_fn, lstm_cell_144_layer_call_and_return_conditional_losses, lstm_cell_144_layer_call_fn, lstm_cell_144_layer_call_and_return_conditional_losses, lstm_cell_144_layer_call_and_return_conditional_losses while saving (showing 5 of 5). These functions will not be directly callable after loading.\n"
     ]
    },
    {
     "name": "stdout",
     "output_type": "stream",
     "text": [
      "INFO:tensorflow:Assets written to: /Users/yukahatori/A_Fairness/FairnessML_git/LSTM-BasicModel/model/assets\n"
     ]
    },
    {
     "name": "stderr",
     "output_type": "stream",
     "text": [
      "INFO:tensorflow:Assets written to: /Users/yukahatori/A_Fairness/FairnessML_git/LSTM-BasicModel/model/assets\n",
      "WARNING:absl:<keras.layers.recurrent.LSTMCell object at 0x7f8ebd542e80> has the same name 'LSTMCell' as a built-in Keras object. Consider renaming <class 'keras.layers.recurrent.LSTMCell'> to avoid naming conflicts when loading with `tf.keras.models.load_model`. If renaming is not possible, pass the object in the `custom_objects` parameter of the load function.\n"
     ]
    },
    {
     "name": "stdout",
     "output_type": "stream",
     "text": [
      "247/247 [==============================] - 6s 17ms/step - loss: 0.0128 - root_mean_squared_error: 0.1133 - val_loss: 0.0028 - val_root_mean_squared_error: 0.0525\n",
      "Epoch 2/20\n",
      "221/247 [=========================>....] - ETA: 0s - loss: 0.0022 - root_mean_squared_error: 0.0464"
     ]
    },
    {
     "name": "stderr",
     "output_type": "stream",
     "text": [
      "WARNING:absl:Found untraced functions such as lstm_cell_144_layer_call_fn, lstm_cell_144_layer_call_and_return_conditional_losses, lstm_cell_144_layer_call_fn, lstm_cell_144_layer_call_and_return_conditional_losses, lstm_cell_144_layer_call_and_return_conditional_losses while saving (showing 5 of 5). These functions will not be directly callable after loading.\n"
     ]
    },
    {
     "name": "stdout",
     "output_type": "stream",
     "text": [
      "INFO:tensorflow:Assets written to: /Users/yukahatori/A_Fairness/FairnessML_git/LSTM-BasicModel/model/assets\n"
     ]
    },
    {
     "name": "stderr",
     "output_type": "stream",
     "text": [
      "INFO:tensorflow:Assets written to: /Users/yukahatori/A_Fairness/FairnessML_git/LSTM-BasicModel/model/assets\n",
      "WARNING:absl:<keras.layers.recurrent.LSTMCell object at 0x7f8ebd542e80> has the same name 'LSTMCell' as a built-in Keras object. Consider renaming <class 'keras.layers.recurrent.LSTMCell'> to avoid naming conflicts when loading with `tf.keras.models.load_model`. If renaming is not possible, pass the object in the `custom_objects` parameter of the load function.\n"
     ]
    },
    {
     "name": "stdout",
     "output_type": "stream",
     "text": [
      "247/247 [==============================] - 4s 15ms/step - loss: 0.0021 - root_mean_squared_error: 0.0459 - val_loss: 9.7626e-04 - val_root_mean_squared_error: 0.0312\n",
      "Epoch 3/20\n",
      "228/247 [==========================>...] - ETA: 0s - loss: 0.0013 - root_mean_squared_error: 0.0358"
     ]
    },
    {
     "name": "stderr",
     "output_type": "stream",
     "text": [
      "WARNING:absl:Found untraced functions such as lstm_cell_144_layer_call_fn, lstm_cell_144_layer_call_and_return_conditional_losses, lstm_cell_144_layer_call_fn, lstm_cell_144_layer_call_and_return_conditional_losses, lstm_cell_144_layer_call_and_return_conditional_losses while saving (showing 5 of 5). These functions will not be directly callable after loading.\n"
     ]
    },
    {
     "name": "stdout",
     "output_type": "stream",
     "text": [
      "INFO:tensorflow:Assets written to: /Users/yukahatori/A_Fairness/FairnessML_git/LSTM-BasicModel/model/assets\n"
     ]
    },
    {
     "name": "stderr",
     "output_type": "stream",
     "text": [
      "INFO:tensorflow:Assets written to: /Users/yukahatori/A_Fairness/FairnessML_git/LSTM-BasicModel/model/assets\n",
      "WARNING:absl:<keras.layers.recurrent.LSTMCell object at 0x7f8ebd542e80> has the same name 'LSTMCell' as a built-in Keras object. Consider renaming <class 'keras.layers.recurrent.LSTMCell'> to avoid naming conflicts when loading with `tf.keras.models.load_model`. If renaming is not possible, pass the object in the `custom_objects` parameter of the load function.\n"
     ]
    },
    {
     "name": "stdout",
     "output_type": "stream",
     "text": [
      "247/247 [==============================] - 4s 18ms/step - loss: 0.0012 - root_mean_squared_error: 0.0353 - val_loss: 6.7502e-04 - val_root_mean_squared_error: 0.0260\n",
      "Epoch 4/20\n",
      "224/247 [==========================>...] - ETA: 0s - loss: 7.4915e-04 - root_mean_squared_error: 0.0274"
     ]
    },
    {
     "name": "stderr",
     "output_type": "stream",
     "text": [
      "WARNING:absl:Found untraced functions such as lstm_cell_144_layer_call_fn, lstm_cell_144_layer_call_and_return_conditional_losses, lstm_cell_144_layer_call_fn, lstm_cell_144_layer_call_and_return_conditional_losses, lstm_cell_144_layer_call_and_return_conditional_losses while saving (showing 5 of 5). These functions will not be directly callable after loading.\n"
     ]
    },
    {
     "name": "stdout",
     "output_type": "stream",
     "text": [
      "INFO:tensorflow:Assets written to: /Users/yukahatori/A_Fairness/FairnessML_git/LSTM-BasicModel/model/assets\n"
     ]
    },
    {
     "name": "stderr",
     "output_type": "stream",
     "text": [
      "INFO:tensorflow:Assets written to: /Users/yukahatori/A_Fairness/FairnessML_git/LSTM-BasicModel/model/assets\n",
      "WARNING:absl:<keras.layers.recurrent.LSTMCell object at 0x7f8ebd542e80> has the same name 'LSTMCell' as a built-in Keras object. Consider renaming <class 'keras.layers.recurrent.LSTMCell'> to avoid naming conflicts when loading with `tf.keras.models.load_model`. If renaming is not possible, pass the object in the `custom_objects` parameter of the load function.\n"
     ]
    },
    {
     "name": "stdout",
     "output_type": "stream",
     "text": [
      "247/247 [==============================] - 4s 15ms/step - loss: 7.3095e-04 - root_mean_squared_error: 0.0270 - val_loss: 4.3787e-04 - val_root_mean_squared_error: 0.0209\n",
      "Epoch 5/20\n",
      "247/247 [==============================] - 1s 3ms/step - loss: 6.3115e-04 - root_mean_squared_error: 0.0251 - val_loss: 4.5873e-04 - val_root_mean_squared_error: 0.0214\n",
      "Epoch 6/20\n",
      "247/247 [==============================] - 1s 3ms/step - loss: 5.7200e-04 - root_mean_squared_error: 0.0239 - val_loss: 5.1900e-04 - val_root_mean_squared_error: 0.0228\n",
      "Epoch 7/20\n",
      "247/247 [==============================] - 1s 3ms/step - loss: 5.1736e-04 - root_mean_squared_error: 0.0227 - val_loss: 4.7465e-04 - val_root_mean_squared_error: 0.0218\n",
      "Epoch 8/20\n",
      "232/247 [===========================>..] - ETA: 0s - loss: 4.7882e-04 - root_mean_squared_error: 0.0219"
     ]
    },
    {
     "name": "stderr",
     "output_type": "stream",
     "text": [
      "WARNING:absl:Found untraced functions such as lstm_cell_144_layer_call_fn, lstm_cell_144_layer_call_and_return_conditional_losses, lstm_cell_144_layer_call_fn, lstm_cell_144_layer_call_and_return_conditional_losses, lstm_cell_144_layer_call_and_return_conditional_losses while saving (showing 5 of 5). These functions will not be directly callable after loading.\n"
     ]
    },
    {
     "name": "stdout",
     "output_type": "stream",
     "text": [
      "INFO:tensorflow:Assets written to: /Users/yukahatori/A_Fairness/FairnessML_git/LSTM-BasicModel/model/assets\n"
     ]
    },
    {
     "name": "stderr",
     "output_type": "stream",
     "text": [
      "INFO:tensorflow:Assets written to: /Users/yukahatori/A_Fairness/FairnessML_git/LSTM-BasicModel/model/assets\n",
      "WARNING:absl:<keras.layers.recurrent.LSTMCell object at 0x7f8ebd542e80> has the same name 'LSTMCell' as a built-in Keras object. Consider renaming <class 'keras.layers.recurrent.LSTMCell'> to avoid naming conflicts when loading with `tf.keras.models.load_model`. If renaming is not possible, pass the object in the `custom_objects` parameter of the load function.\n"
     ]
    },
    {
     "name": "stdout",
     "output_type": "stream",
     "text": [
      "247/247 [==============================] - 5s 19ms/step - loss: 4.7617e-04 - root_mean_squared_error: 0.0218 - val_loss: 3.1009e-04 - val_root_mean_squared_error: 0.0176\n",
      "Epoch 9/20\n",
      "245/247 [============================>.] - ETA: 0s - loss: 4.4834e-04 - root_mean_squared_error: 0.0212"
     ]
    },
    {
     "name": "stderr",
     "output_type": "stream",
     "text": [
      "WARNING:absl:Found untraced functions such as lstm_cell_144_layer_call_fn, lstm_cell_144_layer_call_and_return_conditional_losses, lstm_cell_144_layer_call_fn, lstm_cell_144_layer_call_and_return_conditional_losses, lstm_cell_144_layer_call_and_return_conditional_losses while saving (showing 5 of 5). These functions will not be directly callable after loading.\n"
     ]
    },
    {
     "name": "stdout",
     "output_type": "stream",
     "text": [
      "INFO:tensorflow:Assets written to: /Users/yukahatori/A_Fairness/FairnessML_git/LSTM-BasicModel/model/assets\n"
     ]
    },
    {
     "name": "stderr",
     "output_type": "stream",
     "text": [
      "INFO:tensorflow:Assets written to: /Users/yukahatori/A_Fairness/FairnessML_git/LSTM-BasicModel/model/assets\n",
      "WARNING:absl:<keras.layers.recurrent.LSTMCell object at 0x7f8ebd542e80> has the same name 'LSTMCell' as a built-in Keras object. Consider renaming <class 'keras.layers.recurrent.LSTMCell'> to avoid naming conflicts when loading with `tf.keras.models.load_model`. If renaming is not possible, pass the object in the `custom_objects` parameter of the load function.\n"
     ]
    },
    {
     "name": "stdout",
     "output_type": "stream",
     "text": [
      "247/247 [==============================] - 4s 15ms/step - loss: 4.5088e-04 - root_mean_squared_error: 0.0212 - val_loss: 3.0338e-04 - val_root_mean_squared_error: 0.0174\n",
      "Epoch 10/20\n",
      "247/247 [==============================] - 1s 2ms/step - loss: 4.2858e-04 - root_mean_squared_error: 0.0207 - val_loss: 3.2890e-04 - val_root_mean_squared_error: 0.0181\n",
      "Epoch 11/20\n",
      "247/247 [==============================] - 1s 2ms/step - loss: 4.7307e-04 - root_mean_squared_error: 0.0218 - val_loss: 3.2518e-04 - val_root_mean_squared_error: 0.0180\n",
      "Epoch 12/20\n",
      "244/247 [============================>.] - ETA: 0s - loss: 4.0430e-04 - root_mean_squared_error: 0.0201"
     ]
    },
    {
     "name": "stderr",
     "output_type": "stream",
     "text": [
      "WARNING:absl:Found untraced functions such as lstm_cell_144_layer_call_fn, lstm_cell_144_layer_call_and_return_conditional_losses, lstm_cell_144_layer_call_fn, lstm_cell_144_layer_call_and_return_conditional_losses, lstm_cell_144_layer_call_and_return_conditional_losses while saving (showing 5 of 5). These functions will not be directly callable after loading.\n"
     ]
    },
    {
     "name": "stdout",
     "output_type": "stream",
     "text": [
      "INFO:tensorflow:Assets written to: /Users/yukahatori/A_Fairness/FairnessML_git/LSTM-BasicModel/model/assets\n"
     ]
    },
    {
     "name": "stderr",
     "output_type": "stream",
     "text": [
      "INFO:tensorflow:Assets written to: /Users/yukahatori/A_Fairness/FairnessML_git/LSTM-BasicModel/model/assets\n",
      "WARNING:absl:<keras.layers.recurrent.LSTMCell object at 0x7f8ebd542e80> has the same name 'LSTMCell' as a built-in Keras object. Consider renaming <class 'keras.layers.recurrent.LSTMCell'> to avoid naming conflicts when loading with `tf.keras.models.load_model`. If renaming is not possible, pass the object in the `custom_objects` parameter of the load function.\n"
     ]
    },
    {
     "name": "stdout",
     "output_type": "stream",
     "text": [
      "247/247 [==============================] - 4s 18ms/step - loss: 4.0419e-04 - root_mean_squared_error: 0.0201 - val_loss: 2.7315e-04 - val_root_mean_squared_error: 0.0165\n",
      "Epoch 13/20\n",
      "247/247 [==============================] - 1s 3ms/step - loss: 3.7430e-04 - root_mean_squared_error: 0.0193 - val_loss: 5.2279e-04 - val_root_mean_squared_error: 0.0229\n",
      "Epoch 14/20\n",
      "244/247 [============================>.] - ETA: 0s - loss: 3.6280e-04 - root_mean_squared_error: 0.0190"
     ]
    },
    {
     "name": "stderr",
     "output_type": "stream",
     "text": [
      "WARNING:absl:Found untraced functions such as lstm_cell_144_layer_call_fn, lstm_cell_144_layer_call_and_return_conditional_losses, lstm_cell_144_layer_call_fn, lstm_cell_144_layer_call_and_return_conditional_losses, lstm_cell_144_layer_call_and_return_conditional_losses while saving (showing 5 of 5). These functions will not be directly callable after loading.\n"
     ]
    },
    {
     "name": "stdout",
     "output_type": "stream",
     "text": [
      "INFO:tensorflow:Assets written to: /Users/yukahatori/A_Fairness/FairnessML_git/LSTM-BasicModel/model/assets\n"
     ]
    },
    {
     "name": "stderr",
     "output_type": "stream",
     "text": [
      "INFO:tensorflow:Assets written to: /Users/yukahatori/A_Fairness/FairnessML_git/LSTM-BasicModel/model/assets\n",
      "WARNING:absl:<keras.layers.recurrent.LSTMCell object at 0x7f8ebd542e80> has the same name 'LSTMCell' as a built-in Keras object. Consider renaming <class 'keras.layers.recurrent.LSTMCell'> to avoid naming conflicts when loading with `tf.keras.models.load_model`. If renaming is not possible, pass the object in the `custom_objects` parameter of the load function.\n"
     ]
    },
    {
     "name": "stdout",
     "output_type": "stream",
     "text": [
      "247/247 [==============================] - 4s 16ms/step - loss: 3.6190e-04 - root_mean_squared_error: 0.0190 - val_loss: 2.4785e-04 - val_root_mean_squared_error: 0.0157\n",
      "Epoch 15/20\n",
      "247/247 [==============================] - 1s 2ms/step - loss: 3.4208e-04 - root_mean_squared_error: 0.0185 - val_loss: 3.3282e-04 - val_root_mean_squared_error: 0.0182\n",
      "Epoch 16/20\n",
      "247/247 [==============================] - 1s 2ms/step - loss: 3.5034e-04 - root_mean_squared_error: 0.0187 - val_loss: 2.5451e-04 - val_root_mean_squared_error: 0.0160\n",
      "Epoch 17/20\n",
      "247/247 [==============================] - 0s 2ms/step - loss: 3.1167e-04 - root_mean_squared_error: 0.0177 - val_loss: 2.8920e-04 - val_root_mean_squared_error: 0.0170\n",
      "Epoch 18/20\n",
      "247/247 [==============================] - 1s 2ms/step - loss: 3.0203e-04 - root_mean_squared_error: 0.0174 - val_loss: 3.9747e-04 - val_root_mean_squared_error: 0.0199\n",
      "Epoch 19/20\n",
      "247/247 [==============================] - 0s 2ms/step - loss: 3.2978e-04 - root_mean_squared_error: 0.0182 - val_loss: 3.3651e-04 - val_root_mean_squared_error: 0.0183\n",
      "Epoch 20/20\n",
      "247/247 [==============================] - 0s 2ms/step - loss: 3.2424e-04 - root_mean_squared_error: 0.0180 - val_loss: 3.8357e-04 - val_root_mean_squared_error: 0.0196\n",
      "RMSE value:  0.017370907333552045\n"
     ]
    },
    {
     "name": "stderr",
     "output_type": "stream",
     "text": [
      "WARNING:absl:Found untraced functions such as lstm_cell_140_layer_call_fn, lstm_cell_140_layer_call_and_return_conditional_losses, lstm_cell_140_layer_call_fn, lstm_cell_140_layer_call_and_return_conditional_losses, lstm_cell_140_layer_call_and_return_conditional_losses while saving (showing 5 of 5). These functions will not be directly callable after loading.\n"
     ]
    },
    {
     "name": "stdout",
     "output_type": "stream",
     "text": [
      "INFO:tensorflow:Assets written to: Best_SD/energyModel/assets\n"
     ]
    },
    {
     "name": "stderr",
     "output_type": "stream",
     "text": [
      "INFO:tensorflow:Assets written to: Best_SD/energyModel/assets\n",
      "WARNING:absl:<keras.layers.recurrent.LSTMCell object at 0x7f8ed20c65b0> has the same name 'LSTMCell' as a built-in Keras object. Consider renaming <class 'keras.layers.recurrent.LSTMCell'> to avoid naming conflicts when loading with `tf.keras.models.load_model`. If renaming is not possible, pass the object in the `custom_objects` parameter of the load function.\n"
     ]
    },
    {
     "name": "stdout",
     "output_type": "stream",
     "text": [
      "--------------------------------- SAVED BEST ENERGY CONSUMPTION MODEL -----------------------------------\n",
      "Epoch 1/20\n",
      "240/247 [============================>.] - ETA: 0s - loss: 0.0178 - root_mean_squared_error: 0.1334"
     ]
    },
    {
     "name": "stderr",
     "output_type": "stream",
     "text": [
      "WARNING:absl:Found untraced functions such as lstm_cell_145_layer_call_fn, lstm_cell_145_layer_call_and_return_conditional_losses, lstm_cell_145_layer_call_fn, lstm_cell_145_layer_call_and_return_conditional_losses, lstm_cell_145_layer_call_and_return_conditional_losses while saving (showing 5 of 5). These functions will not be directly callable after loading.\n"
     ]
    },
    {
     "name": "stdout",
     "output_type": "stream",
     "text": [
      "INFO:tensorflow:Assets written to: /Users/yukahatori/A_Fairness/FairnessML_git/LSTM-BasicModel/WeatherModelx/assets\n"
     ]
    },
    {
     "name": "stderr",
     "output_type": "stream",
     "text": [
      "INFO:tensorflow:Assets written to: /Users/yukahatori/A_Fairness/FairnessML_git/LSTM-BasicModel/WeatherModelx/assets\n",
      "WARNING:absl:<keras.layers.recurrent.LSTMCell object at 0x7f8eed50d700> has the same name 'LSTMCell' as a built-in Keras object. Consider renaming <class 'keras.layers.recurrent.LSTMCell'> to avoid naming conflicts when loading with `tf.keras.models.load_model`. If renaming is not possible, pass the object in the `custom_objects` parameter of the load function.\n"
     ]
    },
    {
     "name": "stdout",
     "output_type": "stream",
     "text": [
      "247/247 [==============================] - 5s 16ms/step - loss: 0.0174 - root_mean_squared_error: 0.1317 - val_loss: 0.0013 - val_root_mean_squared_error: 0.0357\n",
      "Epoch 2/20\n",
      "226/247 [==========================>...] - ETA: 0s - loss: 1.9404e-04 - root_mean_squared_error: 0.0139"
     ]
    },
    {
     "name": "stderr",
     "output_type": "stream",
     "text": [
      "WARNING:absl:Found untraced functions such as lstm_cell_145_layer_call_fn, lstm_cell_145_layer_call_and_return_conditional_losses, lstm_cell_145_layer_call_fn, lstm_cell_145_layer_call_and_return_conditional_losses, lstm_cell_145_layer_call_and_return_conditional_losses while saving (showing 5 of 5). These functions will not be directly callable after loading.\n"
     ]
    },
    {
     "name": "stdout",
     "output_type": "stream",
     "text": [
      "INFO:tensorflow:Assets written to: /Users/yukahatori/A_Fairness/FairnessML_git/LSTM-BasicModel/WeatherModelx/assets\n"
     ]
    },
    {
     "name": "stderr",
     "output_type": "stream",
     "text": [
      "INFO:tensorflow:Assets written to: /Users/yukahatori/A_Fairness/FairnessML_git/LSTM-BasicModel/WeatherModelx/assets\n",
      "WARNING:absl:<keras.layers.recurrent.LSTMCell object at 0x7f8eed50d700> has the same name 'LSTMCell' as a built-in Keras object. Consider renaming <class 'keras.layers.recurrent.LSTMCell'> to avoid naming conflicts when loading with `tf.keras.models.load_model`. If renaming is not possible, pass the object in the `custom_objects` parameter of the load function.\n"
     ]
    },
    {
     "name": "stdout",
     "output_type": "stream",
     "text": [
      "247/247 [==============================] - 4s 14ms/step - loss: 1.9108e-04 - root_mean_squared_error: 0.0138 - val_loss: 0.0012 - val_root_mean_squared_error: 0.0343\n",
      "Epoch 3/20\n",
      "242/247 [============================>.] - ETA: 0s - loss: 1.1662e-04 - root_mean_squared_error: 0.0108"
     ]
    },
    {
     "name": "stderr",
     "output_type": "stream",
     "text": [
      "WARNING:absl:Found untraced functions such as lstm_cell_145_layer_call_fn, lstm_cell_145_layer_call_and_return_conditional_losses, lstm_cell_145_layer_call_fn, lstm_cell_145_layer_call_and_return_conditional_losses, lstm_cell_145_layer_call_and_return_conditional_losses while saving (showing 5 of 5). These functions will not be directly callable after loading.\n"
     ]
    },
    {
     "name": "stdout",
     "output_type": "stream",
     "text": [
      "INFO:tensorflow:Assets written to: /Users/yukahatori/A_Fairness/FairnessML_git/LSTM-BasicModel/WeatherModelx/assets\n"
     ]
    },
    {
     "name": "stderr",
     "output_type": "stream",
     "text": [
      "INFO:tensorflow:Assets written to: /Users/yukahatori/A_Fairness/FairnessML_git/LSTM-BasicModel/WeatherModelx/assets\n",
      "WARNING:absl:<keras.layers.recurrent.LSTMCell object at 0x7f8eed50d700> has the same name 'LSTMCell' as a built-in Keras object. Consider renaming <class 'keras.layers.recurrent.LSTMCell'> to avoid naming conflicts when loading with `tf.keras.models.load_model`. If renaming is not possible, pass the object in the `custom_objects` parameter of the load function.\n"
     ]
    },
    {
     "name": "stdout",
     "output_type": "stream",
     "text": [
      "247/247 [==============================] - 4s 15ms/step - loss: 1.1618e-04 - root_mean_squared_error: 0.0108 - val_loss: 0.0010 - val_root_mean_squared_error: 0.0322\n",
      "Epoch 4/20\n",
      "233/247 [===========================>..] - ETA: 0s - loss: 9.1044e-05 - root_mean_squared_error: 0.0095"
     ]
    },
    {
     "name": "stderr",
     "output_type": "stream",
     "text": [
      "WARNING:absl:Found untraced functions such as lstm_cell_145_layer_call_fn, lstm_cell_145_layer_call_and_return_conditional_losses, lstm_cell_145_layer_call_fn, lstm_cell_145_layer_call_and_return_conditional_losses, lstm_cell_145_layer_call_and_return_conditional_losses while saving (showing 5 of 5). These functions will not be directly callable after loading.\n"
     ]
    },
    {
     "name": "stdout",
     "output_type": "stream",
     "text": [
      "INFO:tensorflow:Assets written to: /Users/yukahatori/A_Fairness/FairnessML_git/LSTM-BasicModel/WeatherModelx/assets\n"
     ]
    },
    {
     "name": "stderr",
     "output_type": "stream",
     "text": [
      "INFO:tensorflow:Assets written to: /Users/yukahatori/A_Fairness/FairnessML_git/LSTM-BasicModel/WeatherModelx/assets\n",
      "WARNING:absl:<keras.layers.recurrent.LSTMCell object at 0x7f8eed50d700> has the same name 'LSTMCell' as a built-in Keras object. Consider renaming <class 'keras.layers.recurrent.LSTMCell'> to avoid naming conflicts when loading with `tf.keras.models.load_model`. If renaming is not possible, pass the object in the `custom_objects` parameter of the load function.\n"
     ]
    },
    {
     "name": "stdout",
     "output_type": "stream",
     "text": [
      "247/247 [==============================] - 4s 16ms/step - loss: 9.0271e-05 - root_mean_squared_error: 0.0095 - val_loss: 6.8249e-04 - val_root_mean_squared_error: 0.0261\n",
      "Epoch 5/20\n",
      "239/247 [============================>.] - ETA: 0s - loss: 7.8208e-05 - root_mean_squared_error: 0.0088"
     ]
    },
    {
     "name": "stderr",
     "output_type": "stream",
     "text": [
      "WARNING:absl:Found untraced functions such as lstm_cell_145_layer_call_fn, lstm_cell_145_layer_call_and_return_conditional_losses, lstm_cell_145_layer_call_fn, lstm_cell_145_layer_call_and_return_conditional_losses, lstm_cell_145_layer_call_and_return_conditional_losses while saving (showing 5 of 5). These functions will not be directly callable after loading.\n"
     ]
    },
    {
     "name": "stdout",
     "output_type": "stream",
     "text": [
      "INFO:tensorflow:Assets written to: /Users/yukahatori/A_Fairness/FairnessML_git/LSTM-BasicModel/WeatherModelx/assets\n"
     ]
    },
    {
     "name": "stderr",
     "output_type": "stream",
     "text": [
      "INFO:tensorflow:Assets written to: /Users/yukahatori/A_Fairness/FairnessML_git/LSTM-BasicModel/WeatherModelx/assets\n",
      "WARNING:absl:<keras.layers.recurrent.LSTMCell object at 0x7f8eed50d700> has the same name 'LSTMCell' as a built-in Keras object. Consider renaming <class 'keras.layers.recurrent.LSTMCell'> to avoid naming conflicts when loading with `tf.keras.models.load_model`. If renaming is not possible, pass the object in the `custom_objects` parameter of the load function.\n"
     ]
    },
    {
     "name": "stdout",
     "output_type": "stream",
     "text": [
      "247/247 [==============================] - 5s 18ms/step - loss: 7.7684e-05 - root_mean_squared_error: 0.0088 - val_loss: 6.4538e-04 - val_root_mean_squared_error: 0.0254\n",
      "Epoch 6/20\n",
      "237/247 [===========================>..] - ETA: 0s - loss: 7.0396e-05 - root_mean_squared_error: 0.0084"
     ]
    },
    {
     "name": "stderr",
     "output_type": "stream",
     "text": [
      "WARNING:absl:Found untraced functions such as lstm_cell_145_layer_call_fn, lstm_cell_145_layer_call_and_return_conditional_losses, lstm_cell_145_layer_call_fn, lstm_cell_145_layer_call_and_return_conditional_losses, lstm_cell_145_layer_call_and_return_conditional_losses while saving (showing 5 of 5). These functions will not be directly callable after loading.\n"
     ]
    },
    {
     "name": "stdout",
     "output_type": "stream",
     "text": [
      "INFO:tensorflow:Assets written to: /Users/yukahatori/A_Fairness/FairnessML_git/LSTM-BasicModel/WeatherModelx/assets\n"
     ]
    },
    {
     "name": "stderr",
     "output_type": "stream",
     "text": [
      "INFO:tensorflow:Assets written to: /Users/yukahatori/A_Fairness/FairnessML_git/LSTM-BasicModel/WeatherModelx/assets\n",
      "WARNING:absl:<keras.layers.recurrent.LSTMCell object at 0x7f8eed50d700> has the same name 'LSTMCell' as a built-in Keras object. Consider renaming <class 'keras.layers.recurrent.LSTMCell'> to avoid naming conflicts when loading with `tf.keras.models.load_model`. If renaming is not possible, pass the object in the `custom_objects` parameter of the load function.\n"
     ]
    },
    {
     "name": "stdout",
     "output_type": "stream",
     "text": [
      "247/247 [==============================] - 4s 15ms/step - loss: 7.0138e-05 - root_mean_squared_error: 0.0084 - val_loss: 4.4412e-04 - val_root_mean_squared_error: 0.0211\n",
      "Epoch 7/20\n",
      "240/247 [============================>.] - ETA: 0s - loss: 6.2821e-05 - root_mean_squared_error: 0.0079"
     ]
    },
    {
     "name": "stderr",
     "output_type": "stream",
     "text": [
      "WARNING:absl:Found untraced functions such as lstm_cell_145_layer_call_fn, lstm_cell_145_layer_call_and_return_conditional_losses, lstm_cell_145_layer_call_fn, lstm_cell_145_layer_call_and_return_conditional_losses, lstm_cell_145_layer_call_and_return_conditional_losses while saving (showing 5 of 5). These functions will not be directly callable after loading.\n"
     ]
    },
    {
     "name": "stdout",
     "output_type": "stream",
     "text": [
      "INFO:tensorflow:Assets written to: /Users/yukahatori/A_Fairness/FairnessML_git/LSTM-BasicModel/WeatherModelx/assets\n"
     ]
    },
    {
     "name": "stderr",
     "output_type": "stream",
     "text": [
      "INFO:tensorflow:Assets written to: /Users/yukahatori/A_Fairness/FairnessML_git/LSTM-BasicModel/WeatherModelx/assets\n",
      "WARNING:absl:<keras.layers.recurrent.LSTMCell object at 0x7f8eed50d700> has the same name 'LSTMCell' as a built-in Keras object. Consider renaming <class 'keras.layers.recurrent.LSTMCell'> to avoid naming conflicts when loading with `tf.keras.models.load_model`. If renaming is not possible, pass the object in the `custom_objects` parameter of the load function.\n"
     ]
    },
    {
     "name": "stdout",
     "output_type": "stream",
     "text": [
      "247/247 [==============================] - 4s 14ms/step - loss: 6.3001e-05 - root_mean_squared_error: 0.0079 - val_loss: 3.9574e-04 - val_root_mean_squared_error: 0.0199\n",
      "Epoch 8/20\n",
      "244/247 [============================>.] - ETA: 0s - loss: 6.1332e-05 - root_mean_squared_error: 0.0078"
     ]
    },
    {
     "name": "stderr",
     "output_type": "stream",
     "text": [
      "WARNING:absl:Found untraced functions such as lstm_cell_145_layer_call_fn, lstm_cell_145_layer_call_and_return_conditional_losses, lstm_cell_145_layer_call_fn, lstm_cell_145_layer_call_and_return_conditional_losses, lstm_cell_145_layer_call_and_return_conditional_losses while saving (showing 5 of 5). These functions will not be directly callable after loading.\n"
     ]
    },
    {
     "name": "stdout",
     "output_type": "stream",
     "text": [
      "INFO:tensorflow:Assets written to: /Users/yukahatori/A_Fairness/FairnessML_git/LSTM-BasicModel/WeatherModelx/assets\n"
     ]
    },
    {
     "name": "stderr",
     "output_type": "stream",
     "text": [
      "INFO:tensorflow:Assets written to: /Users/yukahatori/A_Fairness/FairnessML_git/LSTM-BasicModel/WeatherModelx/assets\n",
      "WARNING:absl:<keras.layers.recurrent.LSTMCell object at 0x7f8eed50d700> has the same name 'LSTMCell' as a built-in Keras object. Consider renaming <class 'keras.layers.recurrent.LSTMCell'> to avoid naming conflicts when loading with `tf.keras.models.load_model`. If renaming is not possible, pass the object in the `custom_objects` parameter of the load function.\n"
     ]
    },
    {
     "name": "stdout",
     "output_type": "stream",
     "text": [
      "247/247 [==============================] - 4s 14ms/step - loss: 6.1149e-05 - root_mean_squared_error: 0.0078 - val_loss: 2.8554e-04 - val_root_mean_squared_error: 0.0169\n",
      "Epoch 9/20\n",
      "247/247 [==============================] - 1s 3ms/step - loss: 5.6280e-05 - root_mean_squared_error: 0.0075 - val_loss: 3.2085e-04 - val_root_mean_squared_error: 0.0179\n",
      "Epoch 10/20\n",
      "247/247 [==============================] - 1s 3ms/step - loss: 5.3071e-05 - root_mean_squared_error: 0.0073 - val_loss: 3.1719e-04 - val_root_mean_squared_error: 0.0178\n",
      "Epoch 11/20\n",
      "229/247 [==========================>...] - ETA: 0s - loss: 5.1850e-05 - root_mean_squared_error: 0.0072"
     ]
    },
    {
     "name": "stderr",
     "output_type": "stream",
     "text": [
      "WARNING:absl:Found untraced functions such as lstm_cell_145_layer_call_fn, lstm_cell_145_layer_call_and_return_conditional_losses, lstm_cell_145_layer_call_fn, lstm_cell_145_layer_call_and_return_conditional_losses, lstm_cell_145_layer_call_and_return_conditional_losses while saving (showing 5 of 5). These functions will not be directly callable after loading.\n"
     ]
    },
    {
     "name": "stdout",
     "output_type": "stream",
     "text": [
      "INFO:tensorflow:Assets written to: /Users/yukahatori/A_Fairness/FairnessML_git/LSTM-BasicModel/WeatherModelx/assets\n"
     ]
    },
    {
     "name": "stderr",
     "output_type": "stream",
     "text": [
      "INFO:tensorflow:Assets written to: /Users/yukahatori/A_Fairness/FairnessML_git/LSTM-BasicModel/WeatherModelx/assets\n",
      "WARNING:absl:<keras.layers.recurrent.LSTMCell object at 0x7f8eed50d700> has the same name 'LSTMCell' as a built-in Keras object. Consider renaming <class 'keras.layers.recurrent.LSTMCell'> to avoid naming conflicts when loading with `tf.keras.models.load_model`. If renaming is not possible, pass the object in the `custom_objects` parameter of the load function.\n"
     ]
    },
    {
     "name": "stdout",
     "output_type": "stream",
     "text": [
      "247/247 [==============================] - 4s 15ms/step - loss: 5.1708e-05 - root_mean_squared_error: 0.0072 - val_loss: 2.8535e-04 - val_root_mean_squared_error: 0.0169\n",
      "Epoch 12/20\n",
      "247/247 [==============================] - 1s 3ms/step - loss: 4.9142e-05 - root_mean_squared_error: 0.0070 - val_loss: 3.4474e-04 - val_root_mean_squared_error: 0.0186\n",
      "Epoch 13/20\n",
      "236/247 [===========================>..] - ETA: 0s - loss: 5.0509e-05 - root_mean_squared_error: 0.0071"
     ]
    },
    {
     "name": "stderr",
     "output_type": "stream",
     "text": [
      "WARNING:absl:Found untraced functions such as lstm_cell_145_layer_call_fn, lstm_cell_145_layer_call_and_return_conditional_losses, lstm_cell_145_layer_call_fn, lstm_cell_145_layer_call_and_return_conditional_losses, lstm_cell_145_layer_call_and_return_conditional_losses while saving (showing 5 of 5). These functions will not be directly callable after loading.\n"
     ]
    },
    {
     "name": "stdout",
     "output_type": "stream",
     "text": [
      "INFO:tensorflow:Assets written to: /Users/yukahatori/A_Fairness/FairnessML_git/LSTM-BasicModel/WeatherModelx/assets\n"
     ]
    },
    {
     "name": "stderr",
     "output_type": "stream",
     "text": [
      "INFO:tensorflow:Assets written to: /Users/yukahatori/A_Fairness/FairnessML_git/LSTM-BasicModel/WeatherModelx/assets\n",
      "WARNING:absl:<keras.layers.recurrent.LSTMCell object at 0x7f8eed50d700> has the same name 'LSTMCell' as a built-in Keras object. Consider renaming <class 'keras.layers.recurrent.LSTMCell'> to avoid naming conflicts when loading with `tf.keras.models.load_model`. If renaming is not possible, pass the object in the `custom_objects` parameter of the load function.\n"
     ]
    },
    {
     "name": "stdout",
     "output_type": "stream",
     "text": [
      "247/247 [==============================] - 3s 13ms/step - loss: 5.0339e-05 - root_mean_squared_error: 0.0071 - val_loss: 1.9103e-04 - val_root_mean_squared_error: 0.0138\n",
      "Epoch 14/20\n",
      "247/247 [==============================] - 1s 3ms/step - loss: 5.6312e-05 - root_mean_squared_error: 0.0075 - val_loss: 3.3093e-04 - val_root_mean_squared_error: 0.0182\n",
      "Epoch 15/20\n",
      "247/247 [==============================] - 1s 3ms/step - loss: 4.1475e-05 - root_mean_squared_error: 0.0064 - val_loss: 3.0182e-04 - val_root_mean_squared_error: 0.0174\n",
      "Epoch 16/20\n",
      "247/247 [==============================] - 1s 2ms/step - loss: 4.3313e-05 - root_mean_squared_error: 0.0066 - val_loss: 2.1015e-04 - val_root_mean_squared_error: 0.0145\n",
      "Epoch 17/20\n",
      "244/247 [============================>.] - ETA: 0s - loss: 4.2644e-05 - root_mean_squared_error: 0.0065"
     ]
    },
    {
     "name": "stderr",
     "output_type": "stream",
     "text": [
      "WARNING:absl:Found untraced functions such as lstm_cell_145_layer_call_fn, lstm_cell_145_layer_call_and_return_conditional_losses, lstm_cell_145_layer_call_fn, lstm_cell_145_layer_call_and_return_conditional_losses, lstm_cell_145_layer_call_and_return_conditional_losses while saving (showing 5 of 5). These functions will not be directly callable after loading.\n"
     ]
    },
    {
     "name": "stdout",
     "output_type": "stream",
     "text": [
      "INFO:tensorflow:Assets written to: /Users/yukahatori/A_Fairness/FairnessML_git/LSTM-BasicModel/WeatherModelx/assets\n"
     ]
    },
    {
     "name": "stderr",
     "output_type": "stream",
     "text": [
      "INFO:tensorflow:Assets written to: /Users/yukahatori/A_Fairness/FairnessML_git/LSTM-BasicModel/WeatherModelx/assets\n",
      "WARNING:absl:<keras.layers.recurrent.LSTMCell object at 0x7f8eed50d700> has the same name 'LSTMCell' as a built-in Keras object. Consider renaming <class 'keras.layers.recurrent.LSTMCell'> to avoid naming conflicts when loading with `tf.keras.models.load_model`. If renaming is not possible, pass the object in the `custom_objects` parameter of the load function.\n"
     ]
    },
    {
     "name": "stdout",
     "output_type": "stream",
     "text": [
      "247/247 [==============================] - 4s 15ms/step - loss: 4.2626e-05 - root_mean_squared_error: 0.0065 - val_loss: 1.5784e-04 - val_root_mean_squared_error: 0.0126\n",
      "Epoch 18/20\n",
      "238/247 [===========================>..] - ETA: 0s - loss: 4.0417e-05 - root_mean_squared_error: 0.0064"
     ]
    },
    {
     "name": "stderr",
     "output_type": "stream",
     "text": [
      "WARNING:absl:Found untraced functions such as lstm_cell_145_layer_call_fn, lstm_cell_145_layer_call_and_return_conditional_losses, lstm_cell_145_layer_call_fn, lstm_cell_145_layer_call_and_return_conditional_losses, lstm_cell_145_layer_call_and_return_conditional_losses while saving (showing 5 of 5). These functions will not be directly callable after loading.\n"
     ]
    },
    {
     "name": "stdout",
     "output_type": "stream",
     "text": [
      "INFO:tensorflow:Assets written to: /Users/yukahatori/A_Fairness/FairnessML_git/LSTM-BasicModel/WeatherModelx/assets\n"
     ]
    },
    {
     "name": "stderr",
     "output_type": "stream",
     "text": [
      "INFO:tensorflow:Assets written to: /Users/yukahatori/A_Fairness/FairnessML_git/LSTM-BasicModel/WeatherModelx/assets\n",
      "WARNING:absl:<keras.layers.recurrent.LSTMCell object at 0x7f8eed50d700> has the same name 'LSTMCell' as a built-in Keras object. Consider renaming <class 'keras.layers.recurrent.LSTMCell'> to avoid naming conflicts when loading with `tf.keras.models.load_model`. If renaming is not possible, pass the object in the `custom_objects` parameter of the load function.\n"
     ]
    },
    {
     "name": "stdout",
     "output_type": "stream",
     "text": [
      "247/247 [==============================] - 4s 14ms/step - loss: 4.0133e-05 - root_mean_squared_error: 0.0063 - val_loss: 1.4397e-04 - val_root_mean_squared_error: 0.0120\n",
      "Epoch 19/20\n",
      "247/247 [==============================] - 1s 3ms/step - loss: 4.1590e-05 - root_mean_squared_error: 0.0064 - val_loss: 1.9185e-04 - val_root_mean_squared_error: 0.0139\n",
      "Epoch 20/20\n",
      "247/247 [==============================] - 1s 3ms/step - loss: 5.0642e-05 - root_mean_squared_error: 0.0071 - val_loss: 2.1171e-04 - val_root_mean_squared_error: 0.0146\n",
      "RMSE value:  0.007353168372415923\n",
      "Epoch 1/20\n",
      "231/247 [===========================>..] - ETA: 0s - loss: 0.0183 - root_mean_squared_error: 0.1352"
     ]
    },
    {
     "name": "stderr",
     "output_type": "stream",
     "text": [
      "WARNING:absl:Found untraced functions such as lstm_cell_146_layer_call_fn, lstm_cell_146_layer_call_and_return_conditional_losses, lstm_cell_146_layer_call_fn, lstm_cell_146_layer_call_and_return_conditional_losses, lstm_cell_146_layer_call_and_return_conditional_losses while saving (showing 5 of 5). These functions will not be directly callable after loading.\n"
     ]
    },
    {
     "name": "stdout",
     "output_type": "stream",
     "text": [
      "INFO:tensorflow:Assets written to: /Users/yukahatori/A_Fairness/FairnessML_git/LSTM-BasicModel/WeatherModelx/assets\n"
     ]
    },
    {
     "name": "stderr",
     "output_type": "stream",
     "text": [
      "INFO:tensorflow:Assets written to: /Users/yukahatori/A_Fairness/FairnessML_git/LSTM-BasicModel/WeatherModelx/assets\n",
      "WARNING:absl:<keras.layers.recurrent.LSTMCell object at 0x7f8eead9b1f0> has the same name 'LSTMCell' as a built-in Keras object. Consider renaming <class 'keras.layers.recurrent.LSTMCell'> to avoid naming conflicts when loading with `tf.keras.models.load_model`. If renaming is not possible, pass the object in the `custom_objects` parameter of the load function.\n"
     ]
    },
    {
     "name": "stdout",
     "output_type": "stream",
     "text": [
      "247/247 [==============================] - 7s 21ms/step - loss: 0.0172 - root_mean_squared_error: 0.1310 - val_loss: 0.0021 - val_root_mean_squared_error: 0.0453\n",
      "Epoch 2/20\n",
      "233/247 [===========================>..] - ETA: 0s - loss: 1.7742e-04 - root_mean_squared_error: 0.0133"
     ]
    },
    {
     "name": "stderr",
     "output_type": "stream",
     "text": [
      "WARNING:absl:Found untraced functions such as lstm_cell_146_layer_call_fn, lstm_cell_146_layer_call_and_return_conditional_losses, lstm_cell_146_layer_call_fn, lstm_cell_146_layer_call_and_return_conditional_losses, lstm_cell_146_layer_call_and_return_conditional_losses while saving (showing 5 of 5). These functions will not be directly callable after loading.\n"
     ]
    },
    {
     "name": "stdout",
     "output_type": "stream",
     "text": [
      "INFO:tensorflow:Assets written to: /Users/yukahatori/A_Fairness/FairnessML_git/LSTM-BasicModel/WeatherModelx/assets\n"
     ]
    },
    {
     "name": "stderr",
     "output_type": "stream",
     "text": [
      "INFO:tensorflow:Assets written to: /Users/yukahatori/A_Fairness/FairnessML_git/LSTM-BasicModel/WeatherModelx/assets\n",
      "WARNING:absl:<keras.layers.recurrent.LSTMCell object at 0x7f8eead9b1f0> has the same name 'LSTMCell' as a built-in Keras object. Consider renaming <class 'keras.layers.recurrent.LSTMCell'> to avoid naming conflicts when loading with `tf.keras.models.load_model`. If renaming is not possible, pass the object in the `custom_objects` parameter of the load function.\n"
     ]
    },
    {
     "name": "stdout",
     "output_type": "stream",
     "text": [
      "247/247 [==============================] - 4s 15ms/step - loss: 1.7548e-04 - root_mean_squared_error: 0.0132 - val_loss: 0.0013 - val_root_mean_squared_error: 0.0361\n",
      "Epoch 3/20\n",
      "231/247 [===========================>..] - ETA: 0s - loss: 1.3397e-04 - root_mean_squared_error: 0.0116"
     ]
    },
    {
     "name": "stderr",
     "output_type": "stream",
     "text": [
      "WARNING:absl:Found untraced functions such as lstm_cell_146_layer_call_fn, lstm_cell_146_layer_call_and_return_conditional_losses, lstm_cell_146_layer_call_fn, lstm_cell_146_layer_call_and_return_conditional_losses, lstm_cell_146_layer_call_and_return_conditional_losses while saving (showing 5 of 5). These functions will not be directly callable after loading.\n"
     ]
    },
    {
     "name": "stdout",
     "output_type": "stream",
     "text": [
      "INFO:tensorflow:Assets written to: /Users/yukahatori/A_Fairness/FairnessML_git/LSTM-BasicModel/WeatherModelx/assets\n"
     ]
    },
    {
     "name": "stderr",
     "output_type": "stream",
     "text": [
      "INFO:tensorflow:Assets written to: /Users/yukahatori/A_Fairness/FairnessML_git/LSTM-BasicModel/WeatherModelx/assets\n",
      "WARNING:absl:<keras.layers.recurrent.LSTMCell object at 0x7f8eead9b1f0> has the same name 'LSTMCell' as a built-in Keras object. Consider renaming <class 'keras.layers.recurrent.LSTMCell'> to avoid naming conflicts when loading with `tf.keras.models.load_model`. If renaming is not possible, pass the object in the `custom_objects` parameter of the load function.\n"
     ]
    },
    {
     "name": "stdout",
     "output_type": "stream",
     "text": [
      "247/247 [==============================] - 5s 21ms/step - loss: 1.3320e-04 - root_mean_squared_error: 0.0115 - val_loss: 0.0012 - val_root_mean_squared_error: 0.0346\n",
      "Epoch 4/20\n",
      "232/247 [===========================>..] - ETA: 0s - loss: 1.1202e-04 - root_mean_squared_error: 0.0106"
     ]
    },
    {
     "name": "stderr",
     "output_type": "stream",
     "text": [
      "WARNING:absl:Found untraced functions such as lstm_cell_146_layer_call_fn, lstm_cell_146_layer_call_and_return_conditional_losses, lstm_cell_146_layer_call_fn, lstm_cell_146_layer_call_and_return_conditional_losses, lstm_cell_146_layer_call_and_return_conditional_losses while saving (showing 5 of 5). These functions will not be directly callable after loading.\n"
     ]
    },
    {
     "name": "stdout",
     "output_type": "stream",
     "text": [
      "INFO:tensorflow:Assets written to: /Users/yukahatori/A_Fairness/FairnessML_git/LSTM-BasicModel/WeatherModelx/assets\n"
     ]
    },
    {
     "name": "stderr",
     "output_type": "stream",
     "text": [
      "INFO:tensorflow:Assets written to: /Users/yukahatori/A_Fairness/FairnessML_git/LSTM-BasicModel/WeatherModelx/assets\n",
      "WARNING:absl:<keras.layers.recurrent.LSTMCell object at 0x7f8eead9b1f0> has the same name 'LSTMCell' as a built-in Keras object. Consider renaming <class 'keras.layers.recurrent.LSTMCell'> to avoid naming conflicts when loading with `tf.keras.models.load_model`. If renaming is not possible, pass the object in the `custom_objects` parameter of the load function.\n"
     ]
    },
    {
     "name": "stdout",
     "output_type": "stream",
     "text": [
      "247/247 [==============================] - 6s 23ms/step - loss: 1.1152e-04 - root_mean_squared_error: 0.0106 - val_loss: 7.7754e-04 - val_root_mean_squared_error: 0.0279\n",
      "Epoch 5/20\n",
      "247/247 [==============================] - 1s 3ms/step - loss: 9.3305e-05 - root_mean_squared_error: 0.0097 - val_loss: 8.1240e-04 - val_root_mean_squared_error: 0.0285\n",
      "Epoch 6/20\n",
      "245/247 [============================>.] - ETA: 0s - loss: 7.9726e-05 - root_mean_squared_error: 0.0089"
     ]
    },
    {
     "name": "stderr",
     "output_type": "stream",
     "text": [
      "WARNING:absl:Found untraced functions such as lstm_cell_146_layer_call_fn, lstm_cell_146_layer_call_and_return_conditional_losses, lstm_cell_146_layer_call_fn, lstm_cell_146_layer_call_and_return_conditional_losses, lstm_cell_146_layer_call_and_return_conditional_losses while saving (showing 5 of 5). These functions will not be directly callable after loading.\n"
     ]
    },
    {
     "name": "stdout",
     "output_type": "stream",
     "text": [
      "INFO:tensorflow:Assets written to: /Users/yukahatori/A_Fairness/FairnessML_git/LSTM-BasicModel/WeatherModelx/assets\n"
     ]
    },
    {
     "name": "stderr",
     "output_type": "stream",
     "text": [
      "INFO:tensorflow:Assets written to: /Users/yukahatori/A_Fairness/FairnessML_git/LSTM-BasicModel/WeatherModelx/assets\n",
      "WARNING:absl:<keras.layers.recurrent.LSTMCell object at 0x7f8eead9b1f0> has the same name 'LSTMCell' as a built-in Keras object. Consider renaming <class 'keras.layers.recurrent.LSTMCell'> to avoid naming conflicts when loading with `tf.keras.models.load_model`. If renaming is not possible, pass the object in the `custom_objects` parameter of the load function.\n"
     ]
    },
    {
     "name": "stdout",
     "output_type": "stream",
     "text": [
      "247/247 [==============================] - 4s 16ms/step - loss: 7.9781e-05 - root_mean_squared_error: 0.0089 - val_loss: 6.6951e-04 - val_root_mean_squared_error: 0.0259\n",
      "Epoch 7/20\n",
      "241/247 [============================>.] - ETA: 0s - loss: 7.0393e-05 - root_mean_squared_error: 0.0084"
     ]
    },
    {
     "name": "stderr",
     "output_type": "stream",
     "text": [
      "WARNING:absl:Found untraced functions such as lstm_cell_146_layer_call_fn, lstm_cell_146_layer_call_and_return_conditional_losses, lstm_cell_146_layer_call_fn, lstm_cell_146_layer_call_and_return_conditional_losses, lstm_cell_146_layer_call_and_return_conditional_losses while saving (showing 5 of 5). These functions will not be directly callable after loading.\n"
     ]
    },
    {
     "name": "stdout",
     "output_type": "stream",
     "text": [
      "INFO:tensorflow:Assets written to: /Users/yukahatori/A_Fairness/FairnessML_git/LSTM-BasicModel/WeatherModelx/assets\n"
     ]
    },
    {
     "name": "stderr",
     "output_type": "stream",
     "text": [
      "INFO:tensorflow:Assets written to: /Users/yukahatori/A_Fairness/FairnessML_git/LSTM-BasicModel/WeatherModelx/assets\n",
      "WARNING:absl:<keras.layers.recurrent.LSTMCell object at 0x7f8eead9b1f0> has the same name 'LSTMCell' as a built-in Keras object. Consider renaming <class 'keras.layers.recurrent.LSTMCell'> to avoid naming conflicts when loading with `tf.keras.models.load_model`. If renaming is not possible, pass the object in the `custom_objects` parameter of the load function.\n"
     ]
    },
    {
     "name": "stdout",
     "output_type": "stream",
     "text": [
      "247/247 [==============================] - 5s 18ms/step - loss: 7.0527e-05 - root_mean_squared_error: 0.0084 - val_loss: 6.1952e-04 - val_root_mean_squared_error: 0.0249\n",
      "Epoch 8/20\n",
      "239/247 [============================>.] - ETA: 0s - loss: 6.3093e-05 - root_mean_squared_error: 0.0079"
     ]
    },
    {
     "name": "stderr",
     "output_type": "stream",
     "text": [
      "WARNING:absl:Found untraced functions such as lstm_cell_146_layer_call_fn, lstm_cell_146_layer_call_and_return_conditional_losses, lstm_cell_146_layer_call_fn, lstm_cell_146_layer_call_and_return_conditional_losses, lstm_cell_146_layer_call_and_return_conditional_losses while saving (showing 5 of 5). These functions will not be directly callable after loading.\n"
     ]
    },
    {
     "name": "stdout",
     "output_type": "stream",
     "text": [
      "INFO:tensorflow:Assets written to: /Users/yukahatori/A_Fairness/FairnessML_git/LSTM-BasicModel/WeatherModelx/assets\n"
     ]
    },
    {
     "name": "stderr",
     "output_type": "stream",
     "text": [
      "INFO:tensorflow:Assets written to: /Users/yukahatori/A_Fairness/FairnessML_git/LSTM-BasicModel/WeatherModelx/assets\n",
      "WARNING:absl:<keras.layers.recurrent.LSTMCell object at 0x7f8eead9b1f0> has the same name 'LSTMCell' as a built-in Keras object. Consider renaming <class 'keras.layers.recurrent.LSTMCell'> to avoid naming conflicts when loading with `tf.keras.models.load_model`. If renaming is not possible, pass the object in the `custom_objects` parameter of the load function.\n"
     ]
    },
    {
     "name": "stdout",
     "output_type": "stream",
     "text": [
      "247/247 [==============================] - 4s 16ms/step - loss: 6.3410e-05 - root_mean_squared_error: 0.0080 - val_loss: 5.9530e-04 - val_root_mean_squared_error: 0.0244\n",
      "Epoch 9/20\n",
      "239/247 [============================>.] - ETA: 0s - loss: 5.6681e-05 - root_mean_squared_error: 0.0075"
     ]
    },
    {
     "name": "stderr",
     "output_type": "stream",
     "text": [
      "WARNING:absl:Found untraced functions such as lstm_cell_146_layer_call_fn, lstm_cell_146_layer_call_and_return_conditional_losses, lstm_cell_146_layer_call_fn, lstm_cell_146_layer_call_and_return_conditional_losses, lstm_cell_146_layer_call_and_return_conditional_losses while saving (showing 5 of 5). These functions will not be directly callable after loading.\n"
     ]
    },
    {
     "name": "stdout",
     "output_type": "stream",
     "text": [
      "INFO:tensorflow:Assets written to: /Users/yukahatori/A_Fairness/FairnessML_git/LSTM-BasicModel/WeatherModelx/assets\n"
     ]
    },
    {
     "name": "stderr",
     "output_type": "stream",
     "text": [
      "INFO:tensorflow:Assets written to: /Users/yukahatori/A_Fairness/FairnessML_git/LSTM-BasicModel/WeatherModelx/assets\n",
      "WARNING:absl:<keras.layers.recurrent.LSTMCell object at 0x7f8eead9b1f0> has the same name 'LSTMCell' as a built-in Keras object. Consider renaming <class 'keras.layers.recurrent.LSTMCell'> to avoid naming conflicts when loading with `tf.keras.models.load_model`. If renaming is not possible, pass the object in the `custom_objects` parameter of the load function.\n"
     ]
    },
    {
     "name": "stdout",
     "output_type": "stream",
     "text": [
      "247/247 [==============================] - 4s 16ms/step - loss: 5.6293e-05 - root_mean_squared_error: 0.0075 - val_loss: 5.0399e-04 - val_root_mean_squared_error: 0.0224\n",
      "Epoch 10/20\n",
      "236/247 [===========================>..] - ETA: 0s - loss: 5.4431e-05 - root_mean_squared_error: 0.0074"
     ]
    },
    {
     "name": "stderr",
     "output_type": "stream",
     "text": [
      "WARNING:absl:Found untraced functions such as lstm_cell_146_layer_call_fn, lstm_cell_146_layer_call_and_return_conditional_losses, lstm_cell_146_layer_call_fn, lstm_cell_146_layer_call_and_return_conditional_losses, lstm_cell_146_layer_call_and_return_conditional_losses while saving (showing 5 of 5). These functions will not be directly callable after loading.\n"
     ]
    },
    {
     "name": "stdout",
     "output_type": "stream",
     "text": [
      "INFO:tensorflow:Assets written to: /Users/yukahatori/A_Fairness/FairnessML_git/LSTM-BasicModel/WeatherModelx/assets\n"
     ]
    },
    {
     "name": "stderr",
     "output_type": "stream",
     "text": [
      "INFO:tensorflow:Assets written to: /Users/yukahatori/A_Fairness/FairnessML_git/LSTM-BasicModel/WeatherModelx/assets\n",
      "WARNING:absl:<keras.layers.recurrent.LSTMCell object at 0x7f8eead9b1f0> has the same name 'LSTMCell' as a built-in Keras object. Consider renaming <class 'keras.layers.recurrent.LSTMCell'> to avoid naming conflicts when loading with `tf.keras.models.load_model`. If renaming is not possible, pass the object in the `custom_objects` parameter of the load function.\n"
     ]
    },
    {
     "name": "stdout",
     "output_type": "stream",
     "text": [
      "247/247 [==============================] - 5s 20ms/step - loss: 5.3817e-05 - root_mean_squared_error: 0.0073 - val_loss: 2.9224e-04 - val_root_mean_squared_error: 0.0171\n",
      "Epoch 11/20\n",
      "247/247 [==============================] - 1s 3ms/step - loss: 4.7441e-05 - root_mean_squared_error: 0.0069 - val_loss: 3.3052e-04 - val_root_mean_squared_error: 0.0182\n",
      "Epoch 12/20\n",
      "240/247 [============================>.] - ETA: 0s - loss: 5.0163e-05 - root_mean_squared_error: 0.0071"
     ]
    },
    {
     "name": "stderr",
     "output_type": "stream",
     "text": [
      "WARNING:absl:Found untraced functions such as lstm_cell_146_layer_call_fn, lstm_cell_146_layer_call_and_return_conditional_losses, lstm_cell_146_layer_call_fn, lstm_cell_146_layer_call_and_return_conditional_losses, lstm_cell_146_layer_call_and_return_conditional_losses while saving (showing 5 of 5). These functions will not be directly callable after loading.\n"
     ]
    },
    {
     "name": "stdout",
     "output_type": "stream",
     "text": [
      "INFO:tensorflow:Assets written to: /Users/yukahatori/A_Fairness/FairnessML_git/LSTM-BasicModel/WeatherModelx/assets\n"
     ]
    },
    {
     "name": "stderr",
     "output_type": "stream",
     "text": [
      "INFO:tensorflow:Assets written to: /Users/yukahatori/A_Fairness/FairnessML_git/LSTM-BasicModel/WeatherModelx/assets\n",
      "WARNING:absl:<keras.layers.recurrent.LSTMCell object at 0x7f8eead9b1f0> has the same name 'LSTMCell' as a built-in Keras object. Consider renaming <class 'keras.layers.recurrent.LSTMCell'> to avoid naming conflicts when loading with `tf.keras.models.load_model`. If renaming is not possible, pass the object in the `custom_objects` parameter of the load function.\n"
     ]
    },
    {
     "name": "stdout",
     "output_type": "stream",
     "text": [
      "247/247 [==============================] - 4s 16ms/step - loss: 5.0103e-05 - root_mean_squared_error: 0.0071 - val_loss: 2.5403e-04 - val_root_mean_squared_error: 0.0159\n",
      "Epoch 13/20\n",
      "241/247 [============================>.] - ETA: 0s - loss: 4.3543e-05 - root_mean_squared_error: 0.0066"
     ]
    },
    {
     "name": "stderr",
     "output_type": "stream",
     "text": [
      "WARNING:absl:Found untraced functions such as lstm_cell_146_layer_call_fn, lstm_cell_146_layer_call_and_return_conditional_losses, lstm_cell_146_layer_call_fn, lstm_cell_146_layer_call_and_return_conditional_losses, lstm_cell_146_layer_call_and_return_conditional_losses while saving (showing 5 of 5). These functions will not be directly callable after loading.\n"
     ]
    },
    {
     "name": "stdout",
     "output_type": "stream",
     "text": [
      "INFO:tensorflow:Assets written to: /Users/yukahatori/A_Fairness/FairnessML_git/LSTM-BasicModel/WeatherModelx/assets\n"
     ]
    },
    {
     "name": "stderr",
     "output_type": "stream",
     "text": [
      "INFO:tensorflow:Assets written to: /Users/yukahatori/A_Fairness/FairnessML_git/LSTM-BasicModel/WeatherModelx/assets\n",
      "WARNING:absl:<keras.layers.recurrent.LSTMCell object at 0x7f8eead9b1f0> has the same name 'LSTMCell' as a built-in Keras object. Consider renaming <class 'keras.layers.recurrent.LSTMCell'> to avoid naming conflicts when loading with `tf.keras.models.load_model`. If renaming is not possible, pass the object in the `custom_objects` parameter of the load function.\n"
     ]
    },
    {
     "name": "stdout",
     "output_type": "stream",
     "text": [
      "247/247 [==============================] - 5s 20ms/step - loss: 4.3538e-05 - root_mean_squared_error: 0.0066 - val_loss: 2.3742e-04 - val_root_mean_squared_error: 0.0154\n",
      "Epoch 14/20\n",
      "247/247 [==============================] - 1s 3ms/step - loss: 4.4976e-05 - root_mean_squared_error: 0.0067 - val_loss: 3.1962e-04 - val_root_mean_squared_error: 0.0179\n",
      "Epoch 15/20\n",
      "235/247 [===========================>..] - ETA: 0s - loss: 4.2652e-05 - root_mean_squared_error: 0.0065"
     ]
    },
    {
     "name": "stderr",
     "output_type": "stream",
     "text": [
      "WARNING:absl:Found untraced functions such as lstm_cell_146_layer_call_fn, lstm_cell_146_layer_call_and_return_conditional_losses, lstm_cell_146_layer_call_fn, lstm_cell_146_layer_call_and_return_conditional_losses, lstm_cell_146_layer_call_and_return_conditional_losses while saving (showing 5 of 5). These functions will not be directly callable after loading.\n"
     ]
    },
    {
     "name": "stdout",
     "output_type": "stream",
     "text": [
      "INFO:tensorflow:Assets written to: /Users/yukahatori/A_Fairness/FairnessML_git/LSTM-BasicModel/WeatherModelx/assets\n"
     ]
    },
    {
     "name": "stderr",
     "output_type": "stream",
     "text": [
      "INFO:tensorflow:Assets written to: /Users/yukahatori/A_Fairness/FairnessML_git/LSTM-BasicModel/WeatherModelx/assets\n",
      "WARNING:absl:<keras.layers.recurrent.LSTMCell object at 0x7f8eead9b1f0> has the same name 'LSTMCell' as a built-in Keras object. Consider renaming <class 'keras.layers.recurrent.LSTMCell'> to avoid naming conflicts when loading with `tf.keras.models.load_model`. If renaming is not possible, pass the object in the `custom_objects` parameter of the load function.\n"
     ]
    },
    {
     "name": "stdout",
     "output_type": "stream",
     "text": [
      "247/247 [==============================] - 4s 15ms/step - loss: 4.2397e-05 - root_mean_squared_error: 0.0065 - val_loss: 2.1617e-04 - val_root_mean_squared_error: 0.0147\n",
      "Epoch 16/20\n",
      "247/247 [==============================] - 1s 3ms/step - loss: 4.2527e-05 - root_mean_squared_error: 0.0065 - val_loss: 2.3603e-04 - val_root_mean_squared_error: 0.0154\n",
      "Epoch 17/20\n",
      "245/247 [============================>.] - ETA: 0s - loss: 4.4792e-05 - root_mean_squared_error: 0.0067"
     ]
    },
    {
     "name": "stderr",
     "output_type": "stream",
     "text": [
      "WARNING:absl:Found untraced functions such as lstm_cell_146_layer_call_fn, lstm_cell_146_layer_call_and_return_conditional_losses, lstm_cell_146_layer_call_fn, lstm_cell_146_layer_call_and_return_conditional_losses, lstm_cell_146_layer_call_and_return_conditional_losses while saving (showing 5 of 5). These functions will not be directly callable after loading.\n"
     ]
    },
    {
     "name": "stdout",
     "output_type": "stream",
     "text": [
      "INFO:tensorflow:Assets written to: /Users/yukahatori/A_Fairness/FairnessML_git/LSTM-BasicModel/WeatherModelx/assets\n"
     ]
    },
    {
     "name": "stderr",
     "output_type": "stream",
     "text": [
      "INFO:tensorflow:Assets written to: /Users/yukahatori/A_Fairness/FairnessML_git/LSTM-BasicModel/WeatherModelx/assets\n",
      "WARNING:absl:<keras.layers.recurrent.LSTMCell object at 0x7f8eead9b1f0> has the same name 'LSTMCell' as a built-in Keras object. Consider renaming <class 'keras.layers.recurrent.LSTMCell'> to avoid naming conflicts when loading with `tf.keras.models.load_model`. If renaming is not possible, pass the object in the `custom_objects` parameter of the load function.\n"
     ]
    },
    {
     "name": "stdout",
     "output_type": "stream",
     "text": [
      "247/247 [==============================] - 4s 17ms/step - loss: 4.4773e-05 - root_mean_squared_error: 0.0067 - val_loss: 1.6125e-04 - val_root_mean_squared_error: 0.0127\n",
      "Epoch 18/20\n",
      "247/247 [==============================] - 1s 3ms/step - loss: 3.9002e-05 - root_mean_squared_error: 0.0062 - val_loss: 3.3045e-04 - val_root_mean_squared_error: 0.0182\n",
      "Epoch 19/20\n",
      "242/247 [============================>.] - ETA: 0s - loss: 3.9569e-05 - root_mean_squared_error: 0.0063"
     ]
    },
    {
     "name": "stderr",
     "output_type": "stream",
     "text": [
      "WARNING:absl:Found untraced functions such as lstm_cell_146_layer_call_fn, lstm_cell_146_layer_call_and_return_conditional_losses, lstm_cell_146_layer_call_fn, lstm_cell_146_layer_call_and_return_conditional_losses, lstm_cell_146_layer_call_and_return_conditional_losses while saving (showing 5 of 5). These functions will not be directly callable after loading.\n"
     ]
    },
    {
     "name": "stdout",
     "output_type": "stream",
     "text": [
      "INFO:tensorflow:Assets written to: /Users/yukahatori/A_Fairness/FairnessML_git/LSTM-BasicModel/WeatherModelx/assets\n"
     ]
    },
    {
     "name": "stderr",
     "output_type": "stream",
     "text": [
      "INFO:tensorflow:Assets written to: /Users/yukahatori/A_Fairness/FairnessML_git/LSTM-BasicModel/WeatherModelx/assets\n",
      "WARNING:absl:<keras.layers.recurrent.LSTMCell object at 0x7f8eead9b1f0> has the same name 'LSTMCell' as a built-in Keras object. Consider renaming <class 'keras.layers.recurrent.LSTMCell'> to avoid naming conflicts when loading with `tf.keras.models.load_model`. If renaming is not possible, pass the object in the `custom_objects` parameter of the load function.\n"
     ]
    },
    {
     "name": "stdout",
     "output_type": "stream",
     "text": [
      "247/247 [==============================] - 4s 15ms/step - loss: 3.9429e-05 - root_mean_squared_error: 0.0063 - val_loss: 1.1824e-04 - val_root_mean_squared_error: 0.0109\n",
      "Epoch 20/20\n",
      "247/247 [==============================] - 1s 3ms/step - loss: 4.5860e-05 - root_mean_squared_error: 0.0068 - val_loss: 2.3630e-04 - val_root_mean_squared_error: 0.0154\n",
      "RMSE value:  0.006353137578740627\n",
      "Epoch 1/20\n",
      "242/247 [============================>.] - ETA: 0s - loss: 0.0164 - root_mean_squared_error: 0.1279"
     ]
    },
    {
     "name": "stderr",
     "output_type": "stream",
     "text": [
      "WARNING:absl:Found untraced functions such as lstm_cell_147_layer_call_fn, lstm_cell_147_layer_call_and_return_conditional_losses, lstm_cell_147_layer_call_fn, lstm_cell_147_layer_call_and_return_conditional_losses, lstm_cell_147_layer_call_and_return_conditional_losses while saving (showing 5 of 5). These functions will not be directly callable after loading.\n"
     ]
    },
    {
     "name": "stdout",
     "output_type": "stream",
     "text": [
      "INFO:tensorflow:Assets written to: /Users/yukahatori/A_Fairness/FairnessML_git/LSTM-BasicModel/WeatherModelx/assets\n"
     ]
    },
    {
     "name": "stderr",
     "output_type": "stream",
     "text": [
      "INFO:tensorflow:Assets written to: /Users/yukahatori/A_Fairness/FairnessML_git/LSTM-BasicModel/WeatherModelx/assets\n",
      "WARNING:absl:<keras.layers.recurrent.LSTMCell object at 0x7f8eee68b5b0> has the same name 'LSTMCell' as a built-in Keras object. Consider renaming <class 'keras.layers.recurrent.LSTMCell'> to avoid naming conflicts when loading with `tf.keras.models.load_model`. If renaming is not possible, pass the object in the `custom_objects` parameter of the load function.\n"
     ]
    },
    {
     "name": "stdout",
     "output_type": "stream",
     "text": [
      "247/247 [==============================] - 6s 18ms/step - loss: 0.0161 - root_mean_squared_error: 0.1268 - val_loss: 0.0013 - val_root_mean_squared_error: 0.0361\n",
      "Epoch 2/20\n",
      "235/247 [===========================>..] - ETA: 0s - loss: 1.8929e-04 - root_mean_squared_error: 0.0138"
     ]
    },
    {
     "name": "stderr",
     "output_type": "stream",
     "text": [
      "WARNING:absl:Found untraced functions such as lstm_cell_147_layer_call_fn, lstm_cell_147_layer_call_and_return_conditional_losses, lstm_cell_147_layer_call_fn, lstm_cell_147_layer_call_and_return_conditional_losses, lstm_cell_147_layer_call_and_return_conditional_losses while saving (showing 5 of 5). These functions will not be directly callable after loading.\n"
     ]
    },
    {
     "name": "stdout",
     "output_type": "stream",
     "text": [
      "INFO:tensorflow:Assets written to: /Users/yukahatori/A_Fairness/FairnessML_git/LSTM-BasicModel/WeatherModelx/assets\n"
     ]
    },
    {
     "name": "stderr",
     "output_type": "stream",
     "text": [
      "INFO:tensorflow:Assets written to: /Users/yukahatori/A_Fairness/FairnessML_git/LSTM-BasicModel/WeatherModelx/assets\n",
      "WARNING:absl:<keras.layers.recurrent.LSTMCell object at 0x7f8eee68b5b0> has the same name 'LSTMCell' as a built-in Keras object. Consider renaming <class 'keras.layers.recurrent.LSTMCell'> to avoid naming conflicts when loading with `tf.keras.models.load_model`. If renaming is not possible, pass the object in the `custom_objects` parameter of the load function.\n"
     ]
    },
    {
     "name": "stdout",
     "output_type": "stream",
     "text": [
      "247/247 [==============================] - 4s 16ms/step - loss: 1.8693e-04 - root_mean_squared_error: 0.0137 - val_loss: 0.0011 - val_root_mean_squared_error: 0.0330\n",
      "Epoch 3/20\n",
      "238/247 [===========================>..] - ETA: 0s - loss: 1.1035e-04 - root_mean_squared_error: 0.0105"
     ]
    },
    {
     "name": "stderr",
     "output_type": "stream",
     "text": [
      "WARNING:absl:Found untraced functions such as lstm_cell_147_layer_call_fn, lstm_cell_147_layer_call_and_return_conditional_losses, lstm_cell_147_layer_call_fn, lstm_cell_147_layer_call_and_return_conditional_losses, lstm_cell_147_layer_call_and_return_conditional_losses while saving (showing 5 of 5). These functions will not be directly callable after loading.\n"
     ]
    },
    {
     "name": "stdout",
     "output_type": "stream",
     "text": [
      "INFO:tensorflow:Assets written to: /Users/yukahatori/A_Fairness/FairnessML_git/LSTM-BasicModel/WeatherModelx/assets\n"
     ]
    },
    {
     "name": "stderr",
     "output_type": "stream",
     "text": [
      "INFO:tensorflow:Assets written to: /Users/yukahatori/A_Fairness/FairnessML_git/LSTM-BasicModel/WeatherModelx/assets\n",
      "WARNING:absl:<keras.layers.recurrent.LSTMCell object at 0x7f8eee68b5b0> has the same name 'LSTMCell' as a built-in Keras object. Consider renaming <class 'keras.layers.recurrent.LSTMCell'> to avoid naming conflicts when loading with `tf.keras.models.load_model`. If renaming is not possible, pass the object in the `custom_objects` parameter of the load function.\n"
     ]
    },
    {
     "name": "stdout",
     "output_type": "stream",
     "text": [
      "247/247 [==============================] - 4s 18ms/step - loss: 1.0980e-04 - root_mean_squared_error: 0.0105 - val_loss: 7.8871e-04 - val_root_mean_squared_error: 0.0281\n",
      "Epoch 4/20\n",
      "230/247 [==========================>...] - ETA: 0s - loss: 7.7811e-05 - root_mean_squared_error: 0.0088"
     ]
    },
    {
     "name": "stderr",
     "output_type": "stream",
     "text": [
      "WARNING:absl:Found untraced functions such as lstm_cell_147_layer_call_fn, lstm_cell_147_layer_call_and_return_conditional_losses, lstm_cell_147_layer_call_fn, lstm_cell_147_layer_call_and_return_conditional_losses, lstm_cell_147_layer_call_and_return_conditional_losses while saving (showing 5 of 5). These functions will not be directly callable after loading.\n"
     ]
    },
    {
     "name": "stdout",
     "output_type": "stream",
     "text": [
      "INFO:tensorflow:Assets written to: /Users/yukahatori/A_Fairness/FairnessML_git/LSTM-BasicModel/WeatherModelx/assets\n"
     ]
    },
    {
     "name": "stderr",
     "output_type": "stream",
     "text": [
      "INFO:tensorflow:Assets written to: /Users/yukahatori/A_Fairness/FairnessML_git/LSTM-BasicModel/WeatherModelx/assets\n",
      "WARNING:absl:<keras.layers.recurrent.LSTMCell object at 0x7f8eee68b5b0> has the same name 'LSTMCell' as a built-in Keras object. Consider renaming <class 'keras.layers.recurrent.LSTMCell'> to avoid naming conflicts when loading with `tf.keras.models.load_model`. If renaming is not possible, pass the object in the `custom_objects` parameter of the load function.\n"
     ]
    },
    {
     "name": "stdout",
     "output_type": "stream",
     "text": [
      "247/247 [==============================] - 4s 15ms/step - loss: 7.7775e-05 - root_mean_squared_error: 0.0088 - val_loss: 7.0930e-04 - val_root_mean_squared_error: 0.0266\n",
      "Epoch 5/20\n",
      "239/247 [============================>.] - ETA: 0s - loss: 6.8517e-05 - root_mean_squared_error: 0.0083"
     ]
    },
    {
     "name": "stderr",
     "output_type": "stream",
     "text": [
      "WARNING:absl:Found untraced functions such as lstm_cell_147_layer_call_fn, lstm_cell_147_layer_call_and_return_conditional_losses, lstm_cell_147_layer_call_fn, lstm_cell_147_layer_call_and_return_conditional_losses, lstm_cell_147_layer_call_and_return_conditional_losses while saving (showing 5 of 5). These functions will not be directly callable after loading.\n"
     ]
    },
    {
     "name": "stdout",
     "output_type": "stream",
     "text": [
      "INFO:tensorflow:Assets written to: /Users/yukahatori/A_Fairness/FairnessML_git/LSTM-BasicModel/WeatherModelx/assets\n"
     ]
    },
    {
     "name": "stderr",
     "output_type": "stream",
     "text": [
      "INFO:tensorflow:Assets written to: /Users/yukahatori/A_Fairness/FairnessML_git/LSTM-BasicModel/WeatherModelx/assets\n",
      "WARNING:absl:<keras.layers.recurrent.LSTMCell object at 0x7f8eee68b5b0> has the same name 'LSTMCell' as a built-in Keras object. Consider renaming <class 'keras.layers.recurrent.LSTMCell'> to avoid naming conflicts when loading with `tf.keras.models.load_model`. If renaming is not possible, pass the object in the `custom_objects` parameter of the load function.\n"
     ]
    },
    {
     "name": "stdout",
     "output_type": "stream",
     "text": [
      "247/247 [==============================] - 4s 17ms/step - loss: 6.8623e-05 - root_mean_squared_error: 0.0083 - val_loss: 4.8598e-04 - val_root_mean_squared_error: 0.0220\n",
      "Epoch 6/20\n",
      "247/247 [==============================] - 1s 3ms/step - loss: 5.6905e-05 - root_mean_squared_error: 0.0075 - val_loss: 5.1420e-04 - val_root_mean_squared_error: 0.0227\n",
      "Epoch 7/20\n",
      "247/247 [==============================] - 1s 2ms/step - loss: 5.1100e-05 - root_mean_squared_error: 0.0071 - val_loss: 6.0112e-04 - val_root_mean_squared_error: 0.0245\n",
      "Epoch 8/20\n",
      "247/247 [==============================] - 1s 3ms/step - loss: 4.6212e-05 - root_mean_squared_error: 0.0068 - val_loss: 6.1234e-04 - val_root_mean_squared_error: 0.0247\n",
      "Epoch 9/20\n",
      "244/247 [============================>.] - ETA: 0s - loss: 4.9525e-05 - root_mean_squared_error: 0.0070"
     ]
    },
    {
     "name": "stderr",
     "output_type": "stream",
     "text": [
      "WARNING:absl:Found untraced functions such as lstm_cell_147_layer_call_fn, lstm_cell_147_layer_call_and_return_conditional_losses, lstm_cell_147_layer_call_fn, lstm_cell_147_layer_call_and_return_conditional_losses, lstm_cell_147_layer_call_and_return_conditional_losses while saving (showing 5 of 5). These functions will not be directly callable after loading.\n"
     ]
    },
    {
     "name": "stdout",
     "output_type": "stream",
     "text": [
      "INFO:tensorflow:Assets written to: /Users/yukahatori/A_Fairness/FairnessML_git/LSTM-BasicModel/WeatherModelx/assets\n"
     ]
    },
    {
     "name": "stderr",
     "output_type": "stream",
     "text": [
      "INFO:tensorflow:Assets written to: /Users/yukahatori/A_Fairness/FairnessML_git/LSTM-BasicModel/WeatherModelx/assets\n",
      "WARNING:absl:<keras.layers.recurrent.LSTMCell object at 0x7f8eee68b5b0> has the same name 'LSTMCell' as a built-in Keras object. Consider renaming <class 'keras.layers.recurrent.LSTMCell'> to avoid naming conflicts when loading with `tf.keras.models.load_model`. If renaming is not possible, pass the object in the `custom_objects` parameter of the load function.\n"
     ]
    },
    {
     "name": "stdout",
     "output_type": "stream",
     "text": [
      "247/247 [==============================] - 4s 16ms/step - loss: 4.9688e-05 - root_mean_squared_error: 0.0070 - val_loss: 4.6308e-04 - val_root_mean_squared_error: 0.0215\n",
      "Epoch 10/20\n",
      "243/247 [============================>.] - ETA: 0s - loss: 4.5615e-05 - root_mean_squared_error: 0.0068"
     ]
    },
    {
     "name": "stderr",
     "output_type": "stream",
     "text": [
      "WARNING:absl:Found untraced functions such as lstm_cell_147_layer_call_fn, lstm_cell_147_layer_call_and_return_conditional_losses, lstm_cell_147_layer_call_fn, lstm_cell_147_layer_call_and_return_conditional_losses, lstm_cell_147_layer_call_and_return_conditional_losses while saving (showing 5 of 5). These functions will not be directly callable after loading.\n"
     ]
    },
    {
     "name": "stdout",
     "output_type": "stream",
     "text": [
      "INFO:tensorflow:Assets written to: /Users/yukahatori/A_Fairness/FairnessML_git/LSTM-BasicModel/WeatherModelx/assets\n"
     ]
    },
    {
     "name": "stderr",
     "output_type": "stream",
     "text": [
      "INFO:tensorflow:Assets written to: /Users/yukahatori/A_Fairness/FairnessML_git/LSTM-BasicModel/WeatherModelx/assets\n",
      "WARNING:absl:<keras.layers.recurrent.LSTMCell object at 0x7f8eee68b5b0> has the same name 'LSTMCell' as a built-in Keras object. Consider renaming <class 'keras.layers.recurrent.LSTMCell'> to avoid naming conflicts when loading with `tf.keras.models.load_model`. If renaming is not possible, pass the object in the `custom_objects` parameter of the load function.\n"
     ]
    },
    {
     "name": "stdout",
     "output_type": "stream",
     "text": [
      "247/247 [==============================] - 4s 15ms/step - loss: 4.5475e-05 - root_mean_squared_error: 0.0067 - val_loss: 4.5033e-04 - val_root_mean_squared_error: 0.0212\n",
      "Epoch 11/20\n",
      "240/247 [============================>.] - ETA: 0s - loss: 4.2549e-05 - root_mean_squared_error: 0.0065"
     ]
    },
    {
     "name": "stderr",
     "output_type": "stream",
     "text": [
      "WARNING:absl:Found untraced functions such as lstm_cell_147_layer_call_fn, lstm_cell_147_layer_call_and_return_conditional_losses, lstm_cell_147_layer_call_fn, lstm_cell_147_layer_call_and_return_conditional_losses, lstm_cell_147_layer_call_and_return_conditional_losses while saving (showing 5 of 5). These functions will not be directly callable after loading.\n"
     ]
    },
    {
     "name": "stdout",
     "output_type": "stream",
     "text": [
      "INFO:tensorflow:Assets written to: /Users/yukahatori/A_Fairness/FairnessML_git/LSTM-BasicModel/WeatherModelx/assets\n"
     ]
    },
    {
     "name": "stderr",
     "output_type": "stream",
     "text": [
      "INFO:tensorflow:Assets written to: /Users/yukahatori/A_Fairness/FairnessML_git/LSTM-BasicModel/WeatherModelx/assets\n",
      "WARNING:absl:<keras.layers.recurrent.LSTMCell object at 0x7f8eee68b5b0> has the same name 'LSTMCell' as a built-in Keras object. Consider renaming <class 'keras.layers.recurrent.LSTMCell'> to avoid naming conflicts when loading with `tf.keras.models.load_model`. If renaming is not possible, pass the object in the `custom_objects` parameter of the load function.\n"
     ]
    },
    {
     "name": "stdout",
     "output_type": "stream",
     "text": [
      "247/247 [==============================] - 4s 16ms/step - loss: 4.2623e-05 - root_mean_squared_error: 0.0065 - val_loss: 3.6468e-04 - val_root_mean_squared_error: 0.0191\n",
      "Epoch 12/20\n",
      "240/247 [============================>.] - ETA: 0s - loss: 4.0172e-05 - root_mean_squared_error: 0.0063"
     ]
    },
    {
     "name": "stderr",
     "output_type": "stream",
     "text": [
      "WARNING:absl:Found untraced functions such as lstm_cell_147_layer_call_fn, lstm_cell_147_layer_call_and_return_conditional_losses, lstm_cell_147_layer_call_fn, lstm_cell_147_layer_call_and_return_conditional_losses, lstm_cell_147_layer_call_and_return_conditional_losses while saving (showing 5 of 5). These functions will not be directly callable after loading.\n"
     ]
    },
    {
     "name": "stdout",
     "output_type": "stream",
     "text": [
      "INFO:tensorflow:Assets written to: /Users/yukahatori/A_Fairness/FairnessML_git/LSTM-BasicModel/WeatherModelx/assets\n"
     ]
    },
    {
     "name": "stderr",
     "output_type": "stream",
     "text": [
      "INFO:tensorflow:Assets written to: /Users/yukahatori/A_Fairness/FairnessML_git/LSTM-BasicModel/WeatherModelx/assets\n",
      "WARNING:absl:<keras.layers.recurrent.LSTMCell object at 0x7f8eee68b5b0> has the same name 'LSTMCell' as a built-in Keras object. Consider renaming <class 'keras.layers.recurrent.LSTMCell'> to avoid naming conflicts when loading with `tf.keras.models.load_model`. If renaming is not possible, pass the object in the `custom_objects` parameter of the load function.\n"
     ]
    },
    {
     "name": "stdout",
     "output_type": "stream",
     "text": [
      "247/247 [==============================] - 3s 14ms/step - loss: 4.0242e-05 - root_mean_squared_error: 0.0063 - val_loss: 2.7256e-04 - val_root_mean_squared_error: 0.0165\n",
      "Epoch 13/20\n",
      "247/247 [==============================] - 1s 3ms/step - loss: 4.3168e-05 - root_mean_squared_error: 0.0066 - val_loss: 4.9206e-04 - val_root_mean_squared_error: 0.0222\n",
      "Epoch 14/20\n",
      "247/247 [==============================] - 1s 3ms/step - loss: 4.6189e-05 - root_mean_squared_error: 0.0068 - val_loss: 3.1589e-04 - val_root_mean_squared_error: 0.0178\n",
      "Epoch 15/20\n",
      "247/247 [==============================] - 1s 3ms/step - loss: 3.7845e-05 - root_mean_squared_error: 0.0062 - val_loss: 3.6029e-04 - val_root_mean_squared_error: 0.0190\n",
      "Epoch 16/20\n",
      "247/247 [==============================] - 1s 3ms/step - loss: 4.0076e-05 - root_mean_squared_error: 0.0063 - val_loss: 3.3639e-04 - val_root_mean_squared_error: 0.0183\n",
      "Epoch 17/20\n",
      "247/247 [==============================] - 1s 2ms/step - loss: 4.2599e-05 - root_mean_squared_error: 0.0065 - val_loss: 3.0336e-04 - val_root_mean_squared_error: 0.0174\n",
      "Epoch 18/20\n",
      "247/247 [==============================] - 1s 2ms/step - loss: 3.8151e-05 - root_mean_squared_error: 0.0062 - val_loss: 3.6405e-04 - val_root_mean_squared_error: 0.0191\n",
      "Epoch 19/20\n",
      "243/247 [============================>.] - ETA: 0s - loss: 3.7114e-05 - root_mean_squared_error: 0.0061"
     ]
    },
    {
     "name": "stderr",
     "output_type": "stream",
     "text": [
      "WARNING:absl:Found untraced functions such as lstm_cell_147_layer_call_fn, lstm_cell_147_layer_call_and_return_conditional_losses, lstm_cell_147_layer_call_fn, lstm_cell_147_layer_call_and_return_conditional_losses, lstm_cell_147_layer_call_and_return_conditional_losses while saving (showing 5 of 5). These functions will not be directly callable after loading.\n"
     ]
    },
    {
     "name": "stdout",
     "output_type": "stream",
     "text": [
      "INFO:tensorflow:Assets written to: /Users/yukahatori/A_Fairness/FairnessML_git/LSTM-BasicModel/WeatherModelx/assets\n"
     ]
    },
    {
     "name": "stderr",
     "output_type": "stream",
     "text": [
      "INFO:tensorflow:Assets written to: /Users/yukahatori/A_Fairness/FairnessML_git/LSTM-BasicModel/WeatherModelx/assets\n",
      "WARNING:absl:<keras.layers.recurrent.LSTMCell object at 0x7f8eee68b5b0> has the same name 'LSTMCell' as a built-in Keras object. Consider renaming <class 'keras.layers.recurrent.LSTMCell'> to avoid naming conflicts when loading with `tf.keras.models.load_model`. If renaming is not possible, pass the object in the `custom_objects` parameter of the load function.\n"
     ]
    },
    {
     "name": "stdout",
     "output_type": "stream",
     "text": [
      "247/247 [==============================] - 4s 16ms/step - loss: 3.7156e-05 - root_mean_squared_error: 0.0061 - val_loss: 1.8240e-04 - val_root_mean_squared_error: 0.0135\n",
      "Epoch 20/20\n",
      "247/247 [==============================] - 1s 3ms/step - loss: 5.2187e-05 - root_mean_squared_error: 0.0072 - val_loss: 2.0303e-04 - val_root_mean_squared_error: 0.0142\n",
      "RMSE value:  0.005822206254484096\n",
      "Epoch 1/20\n",
      "232/247 [===========================>..] - ETA: 0s - loss: 0.0138 - root_mean_squared_error: 0.1175"
     ]
    },
    {
     "name": "stderr",
     "output_type": "stream",
     "text": [
      "WARNING:absl:Found untraced functions such as lstm_cell_148_layer_call_fn, lstm_cell_148_layer_call_and_return_conditional_losses, lstm_cell_148_layer_call_fn, lstm_cell_148_layer_call_and_return_conditional_losses, lstm_cell_148_layer_call_and_return_conditional_losses while saving (showing 5 of 5). These functions will not be directly callable after loading.\n"
     ]
    },
    {
     "name": "stdout",
     "output_type": "stream",
     "text": [
      "INFO:tensorflow:Assets written to: /Users/yukahatori/A_Fairness/FairnessML_git/LSTM-BasicModel/WeatherModelx/assets\n"
     ]
    },
    {
     "name": "stderr",
     "output_type": "stream",
     "text": [
      "INFO:tensorflow:Assets written to: /Users/yukahatori/A_Fairness/FairnessML_git/LSTM-BasicModel/WeatherModelx/assets\n",
      "WARNING:absl:<keras.layers.recurrent.LSTMCell object at 0x7f8ec49b00a0> has the same name 'LSTMCell' as a built-in Keras object. Consider renaming <class 'keras.layers.recurrent.LSTMCell'> to avoid naming conflicts when loading with `tf.keras.models.load_model`. If renaming is not possible, pass the object in the `custom_objects` parameter of the load function.\n"
     ]
    },
    {
     "name": "stdout",
     "output_type": "stream",
     "text": [
      "247/247 [==============================] - 6s 17ms/step - loss: 0.0130 - root_mean_squared_error: 0.1141 - val_loss: 0.0015 - val_root_mean_squared_error: 0.0384\n",
      "Epoch 2/20\n",
      "245/247 [============================>.] - ETA: 0s - loss: 1.4159e-04 - root_mean_squared_error: 0.0119"
     ]
    },
    {
     "name": "stderr",
     "output_type": "stream",
     "text": [
      "WARNING:absl:Found untraced functions such as lstm_cell_148_layer_call_fn, lstm_cell_148_layer_call_and_return_conditional_losses, lstm_cell_148_layer_call_fn, lstm_cell_148_layer_call_and_return_conditional_losses, lstm_cell_148_layer_call_and_return_conditional_losses while saving (showing 5 of 5). These functions will not be directly callable after loading.\n"
     ]
    },
    {
     "name": "stdout",
     "output_type": "stream",
     "text": [
      "INFO:tensorflow:Assets written to: /Users/yukahatori/A_Fairness/FairnessML_git/LSTM-BasicModel/WeatherModelx/assets\n"
     ]
    },
    {
     "name": "stderr",
     "output_type": "stream",
     "text": [
      "INFO:tensorflow:Assets written to: /Users/yukahatori/A_Fairness/FairnessML_git/LSTM-BasicModel/WeatherModelx/assets\n",
      "WARNING:absl:<keras.layers.recurrent.LSTMCell object at 0x7f8ec49b00a0> has the same name 'LSTMCell' as a built-in Keras object. Consider renaming <class 'keras.layers.recurrent.LSTMCell'> to avoid naming conflicts when loading with `tf.keras.models.load_model`. If renaming is not possible, pass the object in the `custom_objects` parameter of the load function.\n"
     ]
    },
    {
     "name": "stdout",
     "output_type": "stream",
     "text": [
      "247/247 [==============================] - 5s 18ms/step - loss: 1.4157e-04 - root_mean_squared_error: 0.0119 - val_loss: 8.9628e-04 - val_root_mean_squared_error: 0.0299\n",
      "Epoch 3/20\n",
      "247/247 [==============================] - 1s 3ms/step - loss: 9.9674e-05 - root_mean_squared_error: 0.0100 - val_loss: 9.6065e-04 - val_root_mean_squared_error: 0.0310\n",
      "Epoch 4/20\n",
      "239/247 [============================>.] - ETA: 0s - loss: 8.4403e-05 - root_mean_squared_error: 0.0092"
     ]
    },
    {
     "name": "stderr",
     "output_type": "stream",
     "text": [
      "WARNING:absl:Found untraced functions such as lstm_cell_148_layer_call_fn, lstm_cell_148_layer_call_and_return_conditional_losses, lstm_cell_148_layer_call_fn, lstm_cell_148_layer_call_and_return_conditional_losses, lstm_cell_148_layer_call_and_return_conditional_losses while saving (showing 5 of 5). These functions will not be directly callable after loading.\n"
     ]
    },
    {
     "name": "stdout",
     "output_type": "stream",
     "text": [
      "INFO:tensorflow:Assets written to: /Users/yukahatori/A_Fairness/FairnessML_git/LSTM-BasicModel/WeatherModelx/assets\n"
     ]
    },
    {
     "name": "stderr",
     "output_type": "stream",
     "text": [
      "INFO:tensorflow:Assets written to: /Users/yukahatori/A_Fairness/FairnessML_git/LSTM-BasicModel/WeatherModelx/assets\n",
      "WARNING:absl:<keras.layers.recurrent.LSTMCell object at 0x7f8ec49b00a0> has the same name 'LSTMCell' as a built-in Keras object. Consider renaming <class 'keras.layers.recurrent.LSTMCell'> to avoid naming conflicts when loading with `tf.keras.models.load_model`. If renaming is not possible, pass the object in the `custom_objects` parameter of the load function.\n"
     ]
    },
    {
     "name": "stdout",
     "output_type": "stream",
     "text": [
      "247/247 [==============================] - 4s 17ms/step - loss: 8.4608e-05 - root_mean_squared_error: 0.0092 - val_loss: 6.8551e-04 - val_root_mean_squared_error: 0.0262\n",
      "Epoch 5/20\n",
      "246/247 [============================>.] - ETA: 0s - loss: 7.0006e-05 - root_mean_squared_error: 0.0084"
     ]
    },
    {
     "name": "stderr",
     "output_type": "stream",
     "text": [
      "WARNING:absl:Found untraced functions such as lstm_cell_148_layer_call_fn, lstm_cell_148_layer_call_and_return_conditional_losses, lstm_cell_148_layer_call_fn, lstm_cell_148_layer_call_and_return_conditional_losses, lstm_cell_148_layer_call_and_return_conditional_losses while saving (showing 5 of 5). These functions will not be directly callable after loading.\n"
     ]
    },
    {
     "name": "stdout",
     "output_type": "stream",
     "text": [
      "INFO:tensorflow:Assets written to: /Users/yukahatori/A_Fairness/FairnessML_git/LSTM-BasicModel/WeatherModelx/assets\n"
     ]
    },
    {
     "name": "stderr",
     "output_type": "stream",
     "text": [
      "INFO:tensorflow:Assets written to: /Users/yukahatori/A_Fairness/FairnessML_git/LSTM-BasicModel/WeatherModelx/assets\n",
      "WARNING:absl:<keras.layers.recurrent.LSTMCell object at 0x7f8ec49b00a0> has the same name 'LSTMCell' as a built-in Keras object. Consider renaming <class 'keras.layers.recurrent.LSTMCell'> to avoid naming conflicts when loading with `tf.keras.models.load_model`. If renaming is not possible, pass the object in the `custom_objects` parameter of the load function.\n"
     ]
    },
    {
     "name": "stdout",
     "output_type": "stream",
     "text": [
      "247/247 [==============================] - 4s 16ms/step - loss: 6.9943e-05 - root_mean_squared_error: 0.0084 - val_loss: 5.7780e-04 - val_root_mean_squared_error: 0.0240\n",
      "Epoch 6/20\n",
      "247/247 [==============================] - 1s 3ms/step - loss: 6.5228e-05 - root_mean_squared_error: 0.0081 - val_loss: 6.3326e-04 - val_root_mean_squared_error: 0.0252\n",
      "Epoch 7/20\n",
      "246/247 [============================>.] - ETA: 0s - loss: 6.1846e-05 - root_mean_squared_error: 0.0079"
     ]
    },
    {
     "name": "stderr",
     "output_type": "stream",
     "text": [
      "WARNING:absl:Found untraced functions such as lstm_cell_148_layer_call_fn, lstm_cell_148_layer_call_and_return_conditional_losses, lstm_cell_148_layer_call_fn, lstm_cell_148_layer_call_and_return_conditional_losses, lstm_cell_148_layer_call_and_return_conditional_losses while saving (showing 5 of 5). These functions will not be directly callable after loading.\n"
     ]
    },
    {
     "name": "stdout",
     "output_type": "stream",
     "text": [
      "INFO:tensorflow:Assets written to: /Users/yukahatori/A_Fairness/FairnessML_git/LSTM-BasicModel/WeatherModelx/assets\n"
     ]
    },
    {
     "name": "stderr",
     "output_type": "stream",
     "text": [
      "INFO:tensorflow:Assets written to: /Users/yukahatori/A_Fairness/FairnessML_git/LSTM-BasicModel/WeatherModelx/assets\n",
      "WARNING:absl:<keras.layers.recurrent.LSTMCell object at 0x7f8ec49b00a0> has the same name 'LSTMCell' as a built-in Keras object. Consider renaming <class 'keras.layers.recurrent.LSTMCell'> to avoid naming conflicts when loading with `tf.keras.models.load_model`. If renaming is not possible, pass the object in the `custom_objects` parameter of the load function.\n"
     ]
    },
    {
     "name": "stdout",
     "output_type": "stream",
     "text": [
      "247/247 [==============================] - 5s 20ms/step - loss: 6.1893e-05 - root_mean_squared_error: 0.0079 - val_loss: 4.6866e-04 - val_root_mean_squared_error: 0.0216\n",
      "Epoch 8/20\n",
      "247/247 [==============================] - 1s 3ms/step - loss: 5.9605e-05 - root_mean_squared_error: 0.0077 - val_loss: 5.3614e-04 - val_root_mean_squared_error: 0.0232\n",
      "Epoch 9/20\n",
      "239/247 [============================>.] - ETA: 0s - loss: 5.0281e-05 - root_mean_squared_error: 0.0071"
     ]
    },
    {
     "name": "stderr",
     "output_type": "stream",
     "text": [
      "WARNING:absl:Found untraced functions such as lstm_cell_148_layer_call_fn, lstm_cell_148_layer_call_and_return_conditional_losses, lstm_cell_148_layer_call_fn, lstm_cell_148_layer_call_and_return_conditional_losses, lstm_cell_148_layer_call_and_return_conditional_losses while saving (showing 5 of 5). These functions will not be directly callable after loading.\n"
     ]
    },
    {
     "name": "stdout",
     "output_type": "stream",
     "text": [
      "INFO:tensorflow:Assets written to: /Users/yukahatori/A_Fairness/FairnessML_git/LSTM-BasicModel/WeatherModelx/assets\n"
     ]
    },
    {
     "name": "stderr",
     "output_type": "stream",
     "text": [
      "INFO:tensorflow:Assets written to: /Users/yukahatori/A_Fairness/FairnessML_git/LSTM-BasicModel/WeatherModelx/assets\n",
      "WARNING:absl:<keras.layers.recurrent.LSTMCell object at 0x7f8ec49b00a0> has the same name 'LSTMCell' as a built-in Keras object. Consider renaming <class 'keras.layers.recurrent.LSTMCell'> to avoid naming conflicts when loading with `tf.keras.models.load_model`. If renaming is not possible, pass the object in the `custom_objects` parameter of the load function.\n"
     ]
    },
    {
     "name": "stdout",
     "output_type": "stream",
     "text": [
      "247/247 [==============================] - 4s 17ms/step - loss: 5.0405e-05 - root_mean_squared_error: 0.0071 - val_loss: 2.7970e-04 - val_root_mean_squared_error: 0.0167\n",
      "Epoch 10/20\n",
      "240/247 [============================>.] - ETA: 0s - loss: 4.5558e-05 - root_mean_squared_error: 0.0067"
     ]
    },
    {
     "name": "stderr",
     "output_type": "stream",
     "text": [
      "WARNING:absl:Found untraced functions such as lstm_cell_148_layer_call_fn, lstm_cell_148_layer_call_and_return_conditional_losses, lstm_cell_148_layer_call_fn, lstm_cell_148_layer_call_and_return_conditional_losses, lstm_cell_148_layer_call_and_return_conditional_losses while saving (showing 5 of 5). These functions will not be directly callable after loading.\n"
     ]
    },
    {
     "name": "stdout",
     "output_type": "stream",
     "text": [
      "INFO:tensorflow:Assets written to: /Users/yukahatori/A_Fairness/FairnessML_git/LSTM-BasicModel/WeatherModelx/assets\n"
     ]
    },
    {
     "name": "stderr",
     "output_type": "stream",
     "text": [
      "INFO:tensorflow:Assets written to: /Users/yukahatori/A_Fairness/FairnessML_git/LSTM-BasicModel/WeatherModelx/assets\n",
      "WARNING:absl:<keras.layers.recurrent.LSTMCell object at 0x7f8ec49b00a0> has the same name 'LSTMCell' as a built-in Keras object. Consider renaming <class 'keras.layers.recurrent.LSTMCell'> to avoid naming conflicts when loading with `tf.keras.models.load_model`. If renaming is not possible, pass the object in the `custom_objects` parameter of the load function.\n"
     ]
    },
    {
     "name": "stdout",
     "output_type": "stream",
     "text": [
      "247/247 [==============================] - 4s 15ms/step - loss: 4.5764e-05 - root_mean_squared_error: 0.0068 - val_loss: 2.6897e-04 - val_root_mean_squared_error: 0.0164\n",
      "Epoch 11/20\n",
      "236/247 [===========================>..] - ETA: 0s - loss: 4.5515e-05 - root_mean_squared_error: 0.0067"
     ]
    },
    {
     "name": "stderr",
     "output_type": "stream",
     "text": [
      "WARNING:absl:Found untraced functions such as lstm_cell_148_layer_call_fn, lstm_cell_148_layer_call_and_return_conditional_losses, lstm_cell_148_layer_call_fn, lstm_cell_148_layer_call_and_return_conditional_losses, lstm_cell_148_layer_call_and_return_conditional_losses while saving (showing 5 of 5). These functions will not be directly callable after loading.\n"
     ]
    },
    {
     "name": "stdout",
     "output_type": "stream",
     "text": [
      "INFO:tensorflow:Assets written to: /Users/yukahatori/A_Fairness/FairnessML_git/LSTM-BasicModel/WeatherModelx/assets\n"
     ]
    },
    {
     "name": "stderr",
     "output_type": "stream",
     "text": [
      "INFO:tensorflow:Assets written to: /Users/yukahatori/A_Fairness/FairnessML_git/LSTM-BasicModel/WeatherModelx/assets\n",
      "WARNING:absl:<keras.layers.recurrent.LSTMCell object at 0x7f8ec49b00a0> has the same name 'LSTMCell' as a built-in Keras object. Consider renaming <class 'keras.layers.recurrent.LSTMCell'> to avoid naming conflicts when loading with `tf.keras.models.load_model`. If renaming is not possible, pass the object in the `custom_objects` parameter of the load function.\n"
     ]
    },
    {
     "name": "stdout",
     "output_type": "stream",
     "text": [
      "247/247 [==============================] - 3s 14ms/step - loss: 4.5564e-05 - root_mean_squared_error: 0.0068 - val_loss: 1.8904e-04 - val_root_mean_squared_error: 0.0137\n",
      "Epoch 12/20\n",
      "247/247 [==============================] - 1s 3ms/step - loss: 4.6715e-05 - root_mean_squared_error: 0.0068 - val_loss: 2.1476e-04 - val_root_mean_squared_error: 0.0147\n",
      "Epoch 13/20\n",
      "242/247 [============================>.] - ETA: 0s - loss: 4.3835e-05 - root_mean_squared_error: 0.0066"
     ]
    },
    {
     "name": "stderr",
     "output_type": "stream",
     "text": [
      "WARNING:absl:Found untraced functions such as lstm_cell_148_layer_call_fn, lstm_cell_148_layer_call_and_return_conditional_losses, lstm_cell_148_layer_call_fn, lstm_cell_148_layer_call_and_return_conditional_losses, lstm_cell_148_layer_call_and_return_conditional_losses while saving (showing 5 of 5). These functions will not be directly callable after loading.\n"
     ]
    },
    {
     "name": "stdout",
     "output_type": "stream",
     "text": [
      "INFO:tensorflow:Assets written to: /Users/yukahatori/A_Fairness/FairnessML_git/LSTM-BasicModel/WeatherModelx/assets\n"
     ]
    },
    {
     "name": "stderr",
     "output_type": "stream",
     "text": [
      "INFO:tensorflow:Assets written to: /Users/yukahatori/A_Fairness/FairnessML_git/LSTM-BasicModel/WeatherModelx/assets\n",
      "WARNING:absl:<keras.layers.recurrent.LSTMCell object at 0x7f8ec49b00a0> has the same name 'LSTMCell' as a built-in Keras object. Consider renaming <class 'keras.layers.recurrent.LSTMCell'> to avoid naming conflicts when loading with `tf.keras.models.load_model`. If renaming is not possible, pass the object in the `custom_objects` parameter of the load function.\n"
     ]
    },
    {
     "name": "stdout",
     "output_type": "stream",
     "text": [
      "247/247 [==============================] - 4s 16ms/step - loss: 4.3723e-05 - root_mean_squared_error: 0.0066 - val_loss: 1.8287e-04 - val_root_mean_squared_error: 0.0135\n",
      "Epoch 14/20\n",
      "247/247 [==============================] - 1s 3ms/step - loss: 3.6556e-05 - root_mean_squared_error: 0.0060 - val_loss: 1.9006e-04 - val_root_mean_squared_error: 0.0138\n",
      "Epoch 15/20\n",
      "242/247 [============================>.] - ETA: 0s - loss: 4.0953e-05 - root_mean_squared_error: 0.0064"
     ]
    },
    {
     "name": "stderr",
     "output_type": "stream",
     "text": [
      "WARNING:absl:Found untraced functions such as lstm_cell_148_layer_call_fn, lstm_cell_148_layer_call_and_return_conditional_losses, lstm_cell_148_layer_call_fn, lstm_cell_148_layer_call_and_return_conditional_losses, lstm_cell_148_layer_call_and_return_conditional_losses while saving (showing 5 of 5). These functions will not be directly callable after loading.\n"
     ]
    },
    {
     "name": "stdout",
     "output_type": "stream",
     "text": [
      "INFO:tensorflow:Assets written to: /Users/yukahatori/A_Fairness/FairnessML_git/LSTM-BasicModel/WeatherModelx/assets\n"
     ]
    },
    {
     "name": "stderr",
     "output_type": "stream",
     "text": [
      "INFO:tensorflow:Assets written to: /Users/yukahatori/A_Fairness/FairnessML_git/LSTM-BasicModel/WeatherModelx/assets\n",
      "WARNING:absl:<keras.layers.recurrent.LSTMCell object at 0x7f8ec49b00a0> has the same name 'LSTMCell' as a built-in Keras object. Consider renaming <class 'keras.layers.recurrent.LSTMCell'> to avoid naming conflicts when loading with `tf.keras.models.load_model`. If renaming is not possible, pass the object in the `custom_objects` parameter of the load function.\n"
     ]
    },
    {
     "name": "stdout",
     "output_type": "stream",
     "text": [
      "247/247 [==============================] - 4s 17ms/step - loss: 4.0760e-05 - root_mean_squared_error: 0.0064 - val_loss: 1.6134e-04 - val_root_mean_squared_error: 0.0127\n",
      "Epoch 16/20\n",
      "244/247 [============================>.] - ETA: 0s - loss: 4.1277e-05 - root_mean_squared_error: 0.0064"
     ]
    },
    {
     "name": "stderr",
     "output_type": "stream",
     "text": [
      "WARNING:absl:Found untraced functions such as lstm_cell_148_layer_call_fn, lstm_cell_148_layer_call_and_return_conditional_losses, lstm_cell_148_layer_call_fn, lstm_cell_148_layer_call_and_return_conditional_losses, lstm_cell_148_layer_call_and_return_conditional_losses while saving (showing 5 of 5). These functions will not be directly callable after loading.\n"
     ]
    },
    {
     "name": "stdout",
     "output_type": "stream",
     "text": [
      "INFO:tensorflow:Assets written to: /Users/yukahatori/A_Fairness/FairnessML_git/LSTM-BasicModel/WeatherModelx/assets\n"
     ]
    },
    {
     "name": "stderr",
     "output_type": "stream",
     "text": [
      "INFO:tensorflow:Assets written to: /Users/yukahatori/A_Fairness/FairnessML_git/LSTM-BasicModel/WeatherModelx/assets\n",
      "WARNING:absl:<keras.layers.recurrent.LSTMCell object at 0x7f8ec49b00a0> has the same name 'LSTMCell' as a built-in Keras object. Consider renaming <class 'keras.layers.recurrent.LSTMCell'> to avoid naming conflicts when loading with `tf.keras.models.load_model`. If renaming is not possible, pass the object in the `custom_objects` parameter of the load function.\n"
     ]
    },
    {
     "name": "stdout",
     "output_type": "stream",
     "text": [
      "247/247 [==============================] - 4s 18ms/step - loss: 4.1192e-05 - root_mean_squared_error: 0.0064 - val_loss: 1.4636e-04 - val_root_mean_squared_error: 0.0121\n",
      "Epoch 17/20\n",
      "229/247 [==========================>...] - ETA: 0s - loss: 4.5863e-05 - root_mean_squared_error: 0.0068"
     ]
    },
    {
     "name": "stderr",
     "output_type": "stream",
     "text": [
      "WARNING:absl:Found untraced functions such as lstm_cell_148_layer_call_fn, lstm_cell_148_layer_call_and_return_conditional_losses, lstm_cell_148_layer_call_fn, lstm_cell_148_layer_call_and_return_conditional_losses, lstm_cell_148_layer_call_and_return_conditional_losses while saving (showing 5 of 5). These functions will not be directly callable after loading.\n"
     ]
    },
    {
     "name": "stdout",
     "output_type": "stream",
     "text": [
      "INFO:tensorflow:Assets written to: /Users/yukahatori/A_Fairness/FairnessML_git/LSTM-BasicModel/WeatherModelx/assets\n"
     ]
    },
    {
     "name": "stderr",
     "output_type": "stream",
     "text": [
      "INFO:tensorflow:Assets written to: /Users/yukahatori/A_Fairness/FairnessML_git/LSTM-BasicModel/WeatherModelx/assets\n",
      "WARNING:absl:<keras.layers.recurrent.LSTMCell object at 0x7f8ec49b00a0> has the same name 'LSTMCell' as a built-in Keras object. Consider renaming <class 'keras.layers.recurrent.LSTMCell'> to avoid naming conflicts when loading with `tf.keras.models.load_model`. If renaming is not possible, pass the object in the `custom_objects` parameter of the load function.\n"
     ]
    },
    {
     "name": "stdout",
     "output_type": "stream",
     "text": [
      "247/247 [==============================] - 4s 18ms/step - loss: 4.7552e-05 - root_mean_squared_error: 0.0069 - val_loss: 1.4055e-04 - val_root_mean_squared_error: 0.0119\n",
      "Epoch 18/20\n",
      "247/247 [==============================] - 1s 3ms/step - loss: 3.7379e-05 - root_mean_squared_error: 0.0061 - val_loss: 1.6868e-04 - val_root_mean_squared_error: 0.0130\n",
      "Epoch 19/20\n",
      "236/247 [===========================>..] - ETA: 0s - loss: 4.0214e-05 - root_mean_squared_error: 0.0063"
     ]
    },
    {
     "name": "stderr",
     "output_type": "stream",
     "text": [
      "WARNING:absl:Found untraced functions such as lstm_cell_148_layer_call_fn, lstm_cell_148_layer_call_and_return_conditional_losses, lstm_cell_148_layer_call_fn, lstm_cell_148_layer_call_and_return_conditional_losses, lstm_cell_148_layer_call_and_return_conditional_losses while saving (showing 5 of 5). These functions will not be directly callable after loading.\n"
     ]
    },
    {
     "name": "stdout",
     "output_type": "stream",
     "text": [
      "INFO:tensorflow:Assets written to: /Users/yukahatori/A_Fairness/FairnessML_git/LSTM-BasicModel/WeatherModelx/assets\n"
     ]
    },
    {
     "name": "stderr",
     "output_type": "stream",
     "text": [
      "INFO:tensorflow:Assets written to: /Users/yukahatori/A_Fairness/FairnessML_git/LSTM-BasicModel/WeatherModelx/assets\n",
      "WARNING:absl:<keras.layers.recurrent.LSTMCell object at 0x7f8ec49b00a0> has the same name 'LSTMCell' as a built-in Keras object. Consider renaming <class 'keras.layers.recurrent.LSTMCell'> to avoid naming conflicts when loading with `tf.keras.models.load_model`. If renaming is not possible, pass the object in the `custom_objects` parameter of the load function.\n"
     ]
    },
    {
     "name": "stdout",
     "output_type": "stream",
     "text": [
      "247/247 [==============================] - 3s 14ms/step - loss: 4.0607e-05 - root_mean_squared_error: 0.0064 - val_loss: 1.2497e-04 - val_root_mean_squared_error: 0.0112\n",
      "Epoch 20/20\n",
      "247/247 [==============================] - 1s 3ms/step - loss: 4.0832e-05 - root_mean_squared_error: 0.0064 - val_loss: 1.6805e-04 - val_root_mean_squared_error: 0.0130\n",
      "RMSE value:  0.005215214186441915\n",
      "Epoch 1/20\n",
      "238/247 [===========================>..] - ETA: 0s - loss: 0.0132 - root_mean_squared_error: 0.1150"
     ]
    },
    {
     "name": "stderr",
     "output_type": "stream",
     "text": [
      "WARNING:absl:Found untraced functions such as lstm_cell_149_layer_call_fn, lstm_cell_149_layer_call_and_return_conditional_losses, lstm_cell_149_layer_call_fn, lstm_cell_149_layer_call_and_return_conditional_losses, lstm_cell_149_layer_call_and_return_conditional_losses while saving (showing 5 of 5). These functions will not be directly callable after loading.\n"
     ]
    },
    {
     "name": "stdout",
     "output_type": "stream",
     "text": [
      "INFO:tensorflow:Assets written to: /Users/yukahatori/A_Fairness/FairnessML_git/LSTM-BasicModel/WeatherModelx/assets\n"
     ]
    },
    {
     "name": "stderr",
     "output_type": "stream",
     "text": [
      "INFO:tensorflow:Assets written to: /Users/yukahatori/A_Fairness/FairnessML_git/LSTM-BasicModel/WeatherModelx/assets\n",
      "WARNING:absl:<keras.layers.recurrent.LSTMCell object at 0x7f8eeda4ee50> has the same name 'LSTMCell' as a built-in Keras object. Consider renaming <class 'keras.layers.recurrent.LSTMCell'> to avoid naming conflicts when loading with `tf.keras.models.load_model`. If renaming is not possible, pass the object in the `custom_objects` parameter of the load function.\n"
     ]
    },
    {
     "name": "stdout",
     "output_type": "stream",
     "text": [
      "247/247 [==============================] - 6s 17ms/step - loss: 0.0128 - root_mean_squared_error: 0.1131 - val_loss: 0.0017 - val_root_mean_squared_error: 0.0409\n",
      "Epoch 2/20\n",
      "239/247 [============================>.] - ETA: 0s - loss: 1.6572e-04 - root_mean_squared_error: 0.0129"
     ]
    },
    {
     "name": "stderr",
     "output_type": "stream",
     "text": [
      "WARNING:absl:Found untraced functions such as lstm_cell_149_layer_call_fn, lstm_cell_149_layer_call_and_return_conditional_losses, lstm_cell_149_layer_call_fn, lstm_cell_149_layer_call_and_return_conditional_losses, lstm_cell_149_layer_call_and_return_conditional_losses while saving (showing 5 of 5). These functions will not be directly callable after loading.\n"
     ]
    },
    {
     "name": "stdout",
     "output_type": "stream",
     "text": [
      "INFO:tensorflow:Assets written to: /Users/yukahatori/A_Fairness/FairnessML_git/LSTM-BasicModel/WeatherModelx/assets\n"
     ]
    },
    {
     "name": "stderr",
     "output_type": "stream",
     "text": [
      "INFO:tensorflow:Assets written to: /Users/yukahatori/A_Fairness/FairnessML_git/LSTM-BasicModel/WeatherModelx/assets\n",
      "WARNING:absl:<keras.layers.recurrent.LSTMCell object at 0x7f8eeda4ee50> has the same name 'LSTMCell' as a built-in Keras object. Consider renaming <class 'keras.layers.recurrent.LSTMCell'> to avoid naming conflicts when loading with `tf.keras.models.load_model`. If renaming is not possible, pass the object in the `custom_objects` parameter of the load function.\n"
     ]
    },
    {
     "name": "stdout",
     "output_type": "stream",
     "text": [
      "247/247 [==============================] - 4s 15ms/step - loss: 1.6482e-04 - root_mean_squared_error: 0.0128 - val_loss: 0.0015 - val_root_mean_squared_error: 0.0389\n",
      "Epoch 3/20\n",
      "227/247 [==========================>...] - ETA: 0s - loss: 1.1828e-04 - root_mean_squared_error: 0.0109"
     ]
    },
    {
     "name": "stderr",
     "output_type": "stream",
     "text": [
      "WARNING:absl:Found untraced functions such as lstm_cell_149_layer_call_fn, lstm_cell_149_layer_call_and_return_conditional_losses, lstm_cell_149_layer_call_fn, lstm_cell_149_layer_call_and_return_conditional_losses, lstm_cell_149_layer_call_and_return_conditional_losses while saving (showing 5 of 5). These functions will not be directly callable after loading.\n"
     ]
    },
    {
     "name": "stdout",
     "output_type": "stream",
     "text": [
      "INFO:tensorflow:Assets written to: /Users/yukahatori/A_Fairness/FairnessML_git/LSTM-BasicModel/WeatherModelx/assets\n"
     ]
    },
    {
     "name": "stderr",
     "output_type": "stream",
     "text": [
      "INFO:tensorflow:Assets written to: /Users/yukahatori/A_Fairness/FairnessML_git/LSTM-BasicModel/WeatherModelx/assets\n",
      "WARNING:absl:<keras.layers.recurrent.LSTMCell object at 0x7f8eeda4ee50> has the same name 'LSTMCell' as a built-in Keras object. Consider renaming <class 'keras.layers.recurrent.LSTMCell'> to avoid naming conflicts when loading with `tf.keras.models.load_model`. If renaming is not possible, pass the object in the `custom_objects` parameter of the load function.\n"
     ]
    },
    {
     "name": "stdout",
     "output_type": "stream",
     "text": [
      "247/247 [==============================] - 4s 16ms/step - loss: 1.1719e-04 - root_mean_squared_error: 0.0108 - val_loss: 0.0011 - val_root_mean_squared_error: 0.0335\n",
      "Epoch 4/20\n",
      "247/247 [==============================] - 1s 3ms/step - loss: 1.0064e-04 - root_mean_squared_error: 0.0100 - val_loss: 0.0012 - val_root_mean_squared_error: 0.0343\n",
      "Epoch 5/20\n",
      "240/247 [============================>.] - ETA: 0s - loss: 8.9363e-05 - root_mean_squared_error: 0.0095"
     ]
    },
    {
     "name": "stderr",
     "output_type": "stream",
     "text": [
      "WARNING:absl:Found untraced functions such as lstm_cell_149_layer_call_fn, lstm_cell_149_layer_call_and_return_conditional_losses, lstm_cell_149_layer_call_fn, lstm_cell_149_layer_call_and_return_conditional_losses, lstm_cell_149_layer_call_and_return_conditional_losses while saving (showing 5 of 5). These functions will not be directly callable after loading.\n"
     ]
    },
    {
     "name": "stdout",
     "output_type": "stream",
     "text": [
      "INFO:tensorflow:Assets written to: /Users/yukahatori/A_Fairness/FairnessML_git/LSTM-BasicModel/WeatherModelx/assets\n"
     ]
    },
    {
     "name": "stderr",
     "output_type": "stream",
     "text": [
      "INFO:tensorflow:Assets written to: /Users/yukahatori/A_Fairness/FairnessML_git/LSTM-BasicModel/WeatherModelx/assets\n",
      "WARNING:absl:<keras.layers.recurrent.LSTMCell object at 0x7f8eeda4ee50> has the same name 'LSTMCell' as a built-in Keras object. Consider renaming <class 'keras.layers.recurrent.LSTMCell'> to avoid naming conflicts when loading with `tf.keras.models.load_model`. If renaming is not possible, pass the object in the `custom_objects` parameter of the load function.\n"
     ]
    },
    {
     "name": "stdout",
     "output_type": "stream",
     "text": [
      "247/247 [==============================] - 4s 15ms/step - loss: 8.9008e-05 - root_mean_squared_error: 0.0094 - val_loss: 9.7620e-04 - val_root_mean_squared_error: 0.0312\n",
      "Epoch 6/20\n",
      "229/247 [==========================>...] - ETA: 0s - loss: 8.5380e-05 - root_mean_squared_error: 0.0092"
     ]
    },
    {
     "name": "stderr",
     "output_type": "stream",
     "text": [
      "WARNING:absl:Found untraced functions such as lstm_cell_149_layer_call_fn, lstm_cell_149_layer_call_and_return_conditional_losses, lstm_cell_149_layer_call_fn, lstm_cell_149_layer_call_and_return_conditional_losses, lstm_cell_149_layer_call_and_return_conditional_losses while saving (showing 5 of 5). These functions will not be directly callable after loading.\n"
     ]
    },
    {
     "name": "stdout",
     "output_type": "stream",
     "text": [
      "INFO:tensorflow:Assets written to: /Users/yukahatori/A_Fairness/FairnessML_git/LSTM-BasicModel/WeatherModelx/assets\n"
     ]
    },
    {
     "name": "stderr",
     "output_type": "stream",
     "text": [
      "INFO:tensorflow:Assets written to: /Users/yukahatori/A_Fairness/FairnessML_git/LSTM-BasicModel/WeatherModelx/assets\n",
      "WARNING:absl:<keras.layers.recurrent.LSTMCell object at 0x7f8eeda4ee50> has the same name 'LSTMCell' as a built-in Keras object. Consider renaming <class 'keras.layers.recurrent.LSTMCell'> to avoid naming conflicts when loading with `tf.keras.models.load_model`. If renaming is not possible, pass the object in the `custom_objects` parameter of the load function.\n"
     ]
    },
    {
     "name": "stdout",
     "output_type": "stream",
     "text": [
      "247/247 [==============================] - 4s 16ms/step - loss: 8.4723e-05 - root_mean_squared_error: 0.0092 - val_loss: 9.6386e-04 - val_root_mean_squared_error: 0.0310\n",
      "Epoch 7/20\n",
      "228/247 [==========================>...] - ETA: 0s - loss: 8.1935e-05 - root_mean_squared_error: 0.0091"
     ]
    },
    {
     "name": "stderr",
     "output_type": "stream",
     "text": [
      "WARNING:absl:Found untraced functions such as lstm_cell_149_layer_call_fn, lstm_cell_149_layer_call_and_return_conditional_losses, lstm_cell_149_layer_call_fn, lstm_cell_149_layer_call_and_return_conditional_losses, lstm_cell_149_layer_call_and_return_conditional_losses while saving (showing 5 of 5). These functions will not be directly callable after loading.\n"
     ]
    },
    {
     "name": "stdout",
     "output_type": "stream",
     "text": [
      "INFO:tensorflow:Assets written to: /Users/yukahatori/A_Fairness/FairnessML_git/LSTM-BasicModel/WeatherModelx/assets\n"
     ]
    },
    {
     "name": "stderr",
     "output_type": "stream",
     "text": [
      "INFO:tensorflow:Assets written to: /Users/yukahatori/A_Fairness/FairnessML_git/LSTM-BasicModel/WeatherModelx/assets\n",
      "WARNING:absl:<keras.layers.recurrent.LSTMCell object at 0x7f8eeda4ee50> has the same name 'LSTMCell' as a built-in Keras object. Consider renaming <class 'keras.layers.recurrent.LSTMCell'> to avoid naming conflicts when loading with `tf.keras.models.load_model`. If renaming is not possible, pass the object in the `custom_objects` parameter of the load function.\n"
     ]
    },
    {
     "name": "stdout",
     "output_type": "stream",
     "text": [
      "247/247 [==============================] - 4s 14ms/step - loss: 8.1712e-05 - root_mean_squared_error: 0.0090 - val_loss: 6.3701e-04 - val_root_mean_squared_error: 0.0252\n",
      "Epoch 8/20\n",
      "229/247 [==========================>...] - ETA: 0s - loss: 7.3958e-05 - root_mean_squared_error: 0.0086"
     ]
    },
    {
     "name": "stderr",
     "output_type": "stream",
     "text": [
      "WARNING:absl:Found untraced functions such as lstm_cell_149_layer_call_fn, lstm_cell_149_layer_call_and_return_conditional_losses, lstm_cell_149_layer_call_fn, lstm_cell_149_layer_call_and_return_conditional_losses, lstm_cell_149_layer_call_and_return_conditional_losses while saving (showing 5 of 5). These functions will not be directly callable after loading.\n"
     ]
    },
    {
     "name": "stdout",
     "output_type": "stream",
     "text": [
      "INFO:tensorflow:Assets written to: /Users/yukahatori/A_Fairness/FairnessML_git/LSTM-BasicModel/WeatherModelx/assets\n"
     ]
    },
    {
     "name": "stderr",
     "output_type": "stream",
     "text": [
      "INFO:tensorflow:Assets written to: /Users/yukahatori/A_Fairness/FairnessML_git/LSTM-BasicModel/WeatherModelx/assets\n",
      "WARNING:absl:<keras.layers.recurrent.LSTMCell object at 0x7f8eeda4ee50> has the same name 'LSTMCell' as a built-in Keras object. Consider renaming <class 'keras.layers.recurrent.LSTMCell'> to avoid naming conflicts when loading with `tf.keras.models.load_model`. If renaming is not possible, pass the object in the `custom_objects` parameter of the load function.\n"
     ]
    },
    {
     "name": "stdout",
     "output_type": "stream",
     "text": [
      "247/247 [==============================] - 4s 16ms/step - loss: 7.4251e-05 - root_mean_squared_error: 0.0086 - val_loss: 4.8476e-04 - val_root_mean_squared_error: 0.0220\n",
      "Epoch 9/20\n",
      "247/247 [==============================] - 1s 3ms/step - loss: 6.5231e-05 - root_mean_squared_error: 0.0081 - val_loss: 6.1328e-04 - val_root_mean_squared_error: 0.0248\n",
      "Epoch 10/20\n",
      "247/247 [==============================] - 1s 3ms/step - loss: 5.4997e-05 - root_mean_squared_error: 0.0074 - val_loss: 4.8681e-04 - val_root_mean_squared_error: 0.0221\n",
      "Epoch 11/20\n",
      "242/247 [============================>.] - ETA: 0s - loss: 6.1216e-05 - root_mean_squared_error: 0.0078"
     ]
    },
    {
     "name": "stderr",
     "output_type": "stream",
     "text": [
      "WARNING:absl:Found untraced functions such as lstm_cell_149_layer_call_fn, lstm_cell_149_layer_call_and_return_conditional_losses, lstm_cell_149_layer_call_fn, lstm_cell_149_layer_call_and_return_conditional_losses, lstm_cell_149_layer_call_and_return_conditional_losses while saving (showing 5 of 5). These functions will not be directly callable after loading.\n"
     ]
    },
    {
     "name": "stdout",
     "output_type": "stream",
     "text": [
      "INFO:tensorflow:Assets written to: /Users/yukahatori/A_Fairness/FairnessML_git/LSTM-BasicModel/WeatherModelx/assets\n"
     ]
    },
    {
     "name": "stderr",
     "output_type": "stream",
     "text": [
      "INFO:tensorflow:Assets written to: /Users/yukahatori/A_Fairness/FairnessML_git/LSTM-BasicModel/WeatherModelx/assets\n",
      "WARNING:absl:<keras.layers.recurrent.LSTMCell object at 0x7f8eeda4ee50> has the same name 'LSTMCell' as a built-in Keras object. Consider renaming <class 'keras.layers.recurrent.LSTMCell'> to avoid naming conflicts when loading with `tf.keras.models.load_model`. If renaming is not possible, pass the object in the `custom_objects` parameter of the load function.\n"
     ]
    },
    {
     "name": "stdout",
     "output_type": "stream",
     "text": [
      "247/247 [==============================] - 4s 15ms/step - loss: 6.1051e-05 - root_mean_squared_error: 0.0078 - val_loss: 4.0402e-04 - val_root_mean_squared_error: 0.0201\n",
      "Epoch 12/20\n",
      "226/247 [==========================>...] - ETA: 0s - loss: 5.4345e-05 - root_mean_squared_error: 0.0074"
     ]
    },
    {
     "name": "stderr",
     "output_type": "stream",
     "text": [
      "WARNING:absl:Found untraced functions such as lstm_cell_149_layer_call_fn, lstm_cell_149_layer_call_and_return_conditional_losses, lstm_cell_149_layer_call_fn, lstm_cell_149_layer_call_and_return_conditional_losses, lstm_cell_149_layer_call_and_return_conditional_losses while saving (showing 5 of 5). These functions will not be directly callable after loading.\n"
     ]
    },
    {
     "name": "stdout",
     "output_type": "stream",
     "text": [
      "INFO:tensorflow:Assets written to: /Users/yukahatori/A_Fairness/FairnessML_git/LSTM-BasicModel/WeatherModelx/assets\n"
     ]
    },
    {
     "name": "stderr",
     "output_type": "stream",
     "text": [
      "INFO:tensorflow:Assets written to: /Users/yukahatori/A_Fairness/FairnessML_git/LSTM-BasicModel/WeatherModelx/assets\n",
      "WARNING:absl:<keras.layers.recurrent.LSTMCell object at 0x7f8eeda4ee50> has the same name 'LSTMCell' as a built-in Keras object. Consider renaming <class 'keras.layers.recurrent.LSTMCell'> to avoid naming conflicts when loading with `tf.keras.models.load_model`. If renaming is not possible, pass the object in the `custom_objects` parameter of the load function.\n"
     ]
    },
    {
     "name": "stdout",
     "output_type": "stream",
     "text": [
      "247/247 [==============================] - 3s 14ms/step - loss: 5.4979e-05 - root_mean_squared_error: 0.0074 - val_loss: 3.5026e-04 - val_root_mean_squared_error: 0.0187\n",
      "Epoch 13/20\n",
      "231/247 [===========================>..] - ETA: 0s - loss: 5.0591e-05 - root_mean_squared_error: 0.0071"
     ]
    },
    {
     "name": "stderr",
     "output_type": "stream",
     "text": [
      "WARNING:absl:Found untraced functions such as lstm_cell_149_layer_call_fn, lstm_cell_149_layer_call_and_return_conditional_losses, lstm_cell_149_layer_call_fn, lstm_cell_149_layer_call_and_return_conditional_losses, lstm_cell_149_layer_call_and_return_conditional_losses while saving (showing 5 of 5). These functions will not be directly callable after loading.\n"
     ]
    },
    {
     "name": "stdout",
     "output_type": "stream",
     "text": [
      "INFO:tensorflow:Assets written to: /Users/yukahatori/A_Fairness/FairnessML_git/LSTM-BasicModel/WeatherModelx/assets\n"
     ]
    },
    {
     "name": "stderr",
     "output_type": "stream",
     "text": [
      "INFO:tensorflow:Assets written to: /Users/yukahatori/A_Fairness/FairnessML_git/LSTM-BasicModel/WeatherModelx/assets\n",
      "WARNING:absl:<keras.layers.recurrent.LSTMCell object at 0x7f8eeda4ee50> has the same name 'LSTMCell' as a built-in Keras object. Consider renaming <class 'keras.layers.recurrent.LSTMCell'> to avoid naming conflicts when loading with `tf.keras.models.load_model`. If renaming is not possible, pass the object in the `custom_objects` parameter of the load function.\n"
     ]
    },
    {
     "name": "stdout",
     "output_type": "stream",
     "text": [
      "247/247 [==============================] - 4s 14ms/step - loss: 5.2004e-05 - root_mean_squared_error: 0.0072 - val_loss: 2.7839e-04 - val_root_mean_squared_error: 0.0167\n",
      "Epoch 14/20\n",
      "233/247 [===========================>..] - ETA: 0s - loss: 5.4334e-05 - root_mean_squared_error: 0.0074"
     ]
    },
    {
     "name": "stderr",
     "output_type": "stream",
     "text": [
      "WARNING:absl:Found untraced functions such as lstm_cell_149_layer_call_fn, lstm_cell_149_layer_call_and_return_conditional_losses, lstm_cell_149_layer_call_fn, lstm_cell_149_layer_call_and_return_conditional_losses, lstm_cell_149_layer_call_and_return_conditional_losses while saving (showing 5 of 5). These functions will not be directly callable after loading.\n"
     ]
    },
    {
     "name": "stdout",
     "output_type": "stream",
     "text": [
      "INFO:tensorflow:Assets written to: /Users/yukahatori/A_Fairness/FairnessML_git/LSTM-BasicModel/WeatherModelx/assets\n"
     ]
    },
    {
     "name": "stderr",
     "output_type": "stream",
     "text": [
      "INFO:tensorflow:Assets written to: /Users/yukahatori/A_Fairness/FairnessML_git/LSTM-BasicModel/WeatherModelx/assets\n",
      "WARNING:absl:<keras.layers.recurrent.LSTMCell object at 0x7f8eeda4ee50> has the same name 'LSTMCell' as a built-in Keras object. Consider renaming <class 'keras.layers.recurrent.LSTMCell'> to avoid naming conflicts when loading with `tf.keras.models.load_model`. If renaming is not possible, pass the object in the `custom_objects` parameter of the load function.\n"
     ]
    },
    {
     "name": "stdout",
     "output_type": "stream",
     "text": [
      "247/247 [==============================] - 4s 16ms/step - loss: 5.3481e-05 - root_mean_squared_error: 0.0073 - val_loss: 1.7624e-04 - val_root_mean_squared_error: 0.0133\n",
      "Epoch 15/20\n",
      "247/247 [==============================] - 1s 3ms/step - loss: 4.1128e-05 - root_mean_squared_error: 0.0064 - val_loss: 2.4240e-04 - val_root_mean_squared_error: 0.0156\n",
      "Epoch 16/20\n",
      "246/247 [============================>.] - ETA: 0s - loss: 4.1591e-05 - root_mean_squared_error: 0.0064"
     ]
    },
    {
     "name": "stderr",
     "output_type": "stream",
     "text": [
      "WARNING:absl:Found untraced functions such as lstm_cell_149_layer_call_fn, lstm_cell_149_layer_call_and_return_conditional_losses, lstm_cell_149_layer_call_fn, lstm_cell_149_layer_call_and_return_conditional_losses, lstm_cell_149_layer_call_and_return_conditional_losses while saving (showing 5 of 5). These functions will not be directly callable after loading.\n"
     ]
    },
    {
     "name": "stdout",
     "output_type": "stream",
     "text": [
      "INFO:tensorflow:Assets written to: /Users/yukahatori/A_Fairness/FairnessML_git/LSTM-BasicModel/WeatherModelx/assets\n"
     ]
    },
    {
     "name": "stderr",
     "output_type": "stream",
     "text": [
      "INFO:tensorflow:Assets written to: /Users/yukahatori/A_Fairness/FairnessML_git/LSTM-BasicModel/WeatherModelx/assets\n",
      "WARNING:absl:<keras.layers.recurrent.LSTMCell object at 0x7f8eeda4ee50> has the same name 'LSTMCell' as a built-in Keras object. Consider renaming <class 'keras.layers.recurrent.LSTMCell'> to avoid naming conflicts when loading with `tf.keras.models.load_model`. If renaming is not possible, pass the object in the `custom_objects` parameter of the load function.\n"
     ]
    },
    {
     "name": "stdout",
     "output_type": "stream",
     "text": [
      "247/247 [==============================] - 4s 15ms/step - loss: 4.1565e-05 - root_mean_squared_error: 0.0064 - val_loss: 1.6270e-04 - val_root_mean_squared_error: 0.0128\n",
      "Epoch 17/20\n",
      "247/247 [==============================] - 1s 3ms/step - loss: 5.5318e-05 - root_mean_squared_error: 0.0074 - val_loss: 1.7503e-04 - val_root_mean_squared_error: 0.0132\n",
      "Epoch 18/20\n",
      "247/247 [==============================] - 1s 3ms/step - loss: 3.7003e-05 - root_mean_squared_error: 0.0061 - val_loss: 1.7953e-04 - val_root_mean_squared_error: 0.0134\n",
      "Epoch 19/20\n",
      "247/247 [==============================] - 1s 3ms/step - loss: 4.2014e-05 - root_mean_squared_error: 0.0065 - val_loss: 2.0178e-04 - val_root_mean_squared_error: 0.0142\n",
      "Epoch 20/20\n",
      "231/247 [===========================>..] - ETA: 0s - loss: 3.9253e-05 - root_mean_squared_error: 0.0063"
     ]
    },
    {
     "name": "stderr",
     "output_type": "stream",
     "text": [
      "WARNING:absl:Found untraced functions such as lstm_cell_149_layer_call_fn, lstm_cell_149_layer_call_and_return_conditional_losses, lstm_cell_149_layer_call_fn, lstm_cell_149_layer_call_and_return_conditional_losses, lstm_cell_149_layer_call_and_return_conditional_losses while saving (showing 5 of 5). These functions will not be directly callable after loading.\n"
     ]
    },
    {
     "name": "stdout",
     "output_type": "stream",
     "text": [
      "INFO:tensorflow:Assets written to: /Users/yukahatori/A_Fairness/FairnessML_git/LSTM-BasicModel/WeatherModelx/assets\n"
     ]
    },
    {
     "name": "stderr",
     "output_type": "stream",
     "text": [
      "INFO:tensorflow:Assets written to: /Users/yukahatori/A_Fairness/FairnessML_git/LSTM-BasicModel/WeatherModelx/assets\n",
      "WARNING:absl:<keras.layers.recurrent.LSTMCell object at 0x7f8eeda4ee50> has the same name 'LSTMCell' as a built-in Keras object. Consider renaming <class 'keras.layers.recurrent.LSTMCell'> to avoid naming conflicts when loading with `tf.keras.models.load_model`. If renaming is not possible, pass the object in the `custom_objects` parameter of the load function.\n"
     ]
    },
    {
     "name": "stdout",
     "output_type": "stream",
     "text": [
      "247/247 [==============================] - 3s 14ms/step - loss: 3.9563e-05 - root_mean_squared_error: 0.0063 - val_loss: 1.4251e-04 - val_root_mean_squared_error: 0.0119\n",
      "RMSE value:  0.004861144717188763\n",
      "Epoch 1/20\n",
      "232/247 [===========================>..] - ETA: 0s - loss: 0.0157 - root_mean_squared_error: 0.1254"
     ]
    },
    {
     "name": "stderr",
     "output_type": "stream",
     "text": [
      "WARNING:absl:Found untraced functions such as lstm_cell_150_layer_call_fn, lstm_cell_150_layer_call_and_return_conditional_losses, lstm_cell_150_layer_call_fn, lstm_cell_150_layer_call_and_return_conditional_losses, lstm_cell_150_layer_call_and_return_conditional_losses while saving (showing 5 of 5). These functions will not be directly callable after loading.\n"
     ]
    },
    {
     "name": "stdout",
     "output_type": "stream",
     "text": [
      "INFO:tensorflow:Assets written to: /Users/yukahatori/A_Fairness/FairnessML_git/LSTM-BasicModel/WeatherModelx/assets\n"
     ]
    },
    {
     "name": "stderr",
     "output_type": "stream",
     "text": [
      "INFO:tensorflow:Assets written to: /Users/yukahatori/A_Fairness/FairnessML_git/LSTM-BasicModel/WeatherModelx/assets\n",
      "WARNING:absl:<keras.layers.recurrent.LSTMCell object at 0x7f8ed12075e0> has the same name 'LSTMCell' as a built-in Keras object. Consider renaming <class 'keras.layers.recurrent.LSTMCell'> to avoid naming conflicts when loading with `tf.keras.models.load_model`. If renaming is not possible, pass the object in the `custom_objects` parameter of the load function.\n"
     ]
    },
    {
     "name": "stdout",
     "output_type": "stream",
     "text": [
      "247/247 [==============================] - 6s 18ms/step - loss: 0.0148 - root_mean_squared_error: 0.1218 - val_loss: 0.0017 - val_root_mean_squared_error: 0.0408\n",
      "Epoch 2/20\n",
      "227/247 [==========================>...] - ETA: 0s - loss: 2.6316e-04 - root_mean_squared_error: 0.0162"
     ]
    },
    {
     "name": "stderr",
     "output_type": "stream",
     "text": [
      "WARNING:absl:Found untraced functions such as lstm_cell_150_layer_call_fn, lstm_cell_150_layer_call_and_return_conditional_losses, lstm_cell_150_layer_call_fn, lstm_cell_150_layer_call_and_return_conditional_losses, lstm_cell_150_layer_call_and_return_conditional_losses while saving (showing 5 of 5). These functions will not be directly callable after loading.\n"
     ]
    },
    {
     "name": "stdout",
     "output_type": "stream",
     "text": [
      "INFO:tensorflow:Assets written to: /Users/yukahatori/A_Fairness/FairnessML_git/LSTM-BasicModel/WeatherModelx/assets\n"
     ]
    },
    {
     "name": "stderr",
     "output_type": "stream",
     "text": [
      "INFO:tensorflow:Assets written to: /Users/yukahatori/A_Fairness/FairnessML_git/LSTM-BasicModel/WeatherModelx/assets\n",
      "WARNING:absl:<keras.layers.recurrent.LSTMCell object at 0x7f8ed12075e0> has the same name 'LSTMCell' as a built-in Keras object. Consider renaming <class 'keras.layers.recurrent.LSTMCell'> to avoid naming conflicts when loading with `tf.keras.models.load_model`. If renaming is not possible, pass the object in the `custom_objects` parameter of the load function.\n"
     ]
    },
    {
     "name": "stdout",
     "output_type": "stream",
     "text": [
      "247/247 [==============================] - 4s 15ms/step - loss: 2.6161e-04 - root_mean_squared_error: 0.0162 - val_loss: 0.0014 - val_root_mean_squared_error: 0.0380\n",
      "Epoch 3/20\n",
      "230/247 [==========================>...] - ETA: 0s - loss: 2.2687e-04 - root_mean_squared_error: 0.0151"
     ]
    },
    {
     "name": "stderr",
     "output_type": "stream",
     "text": [
      "WARNING:absl:Found untraced functions such as lstm_cell_150_layer_call_fn, lstm_cell_150_layer_call_and_return_conditional_losses, lstm_cell_150_layer_call_fn, lstm_cell_150_layer_call_and_return_conditional_losses, lstm_cell_150_layer_call_and_return_conditional_losses while saving (showing 5 of 5). These functions will not be directly callable after loading.\n"
     ]
    },
    {
     "name": "stdout",
     "output_type": "stream",
     "text": [
      "INFO:tensorflow:Assets written to: /Users/yukahatori/A_Fairness/FairnessML_git/LSTM-BasicModel/WeatherModelx/assets\n"
     ]
    },
    {
     "name": "stderr",
     "output_type": "stream",
     "text": [
      "INFO:tensorflow:Assets written to: /Users/yukahatori/A_Fairness/FairnessML_git/LSTM-BasicModel/WeatherModelx/assets\n",
      "WARNING:absl:<keras.layers.recurrent.LSTMCell object at 0x7f8ed12075e0> has the same name 'LSTMCell' as a built-in Keras object. Consider renaming <class 'keras.layers.recurrent.LSTMCell'> to avoid naming conflicts when loading with `tf.keras.models.load_model`. If renaming is not possible, pass the object in the `custom_objects` parameter of the load function.\n"
     ]
    },
    {
     "name": "stdout",
     "output_type": "stream",
     "text": [
      "247/247 [==============================] - 4s 17ms/step - loss: 2.2676e-04 - root_mean_squared_error: 0.0151 - val_loss: 9.3345e-04 - val_root_mean_squared_error: 0.0306\n",
      "Epoch 4/20\n",
      "228/247 [==========================>...] - ETA: 0s - loss: 2.1826e-04 - root_mean_squared_error: 0.0148"
     ]
    },
    {
     "name": "stderr",
     "output_type": "stream",
     "text": [
      "WARNING:absl:Found untraced functions such as lstm_cell_150_layer_call_fn, lstm_cell_150_layer_call_and_return_conditional_losses, lstm_cell_150_layer_call_fn, lstm_cell_150_layer_call_and_return_conditional_losses, lstm_cell_150_layer_call_and_return_conditional_losses while saving (showing 5 of 5). These functions will not be directly callable after loading.\n"
     ]
    },
    {
     "name": "stdout",
     "output_type": "stream",
     "text": [
      "INFO:tensorflow:Assets written to: /Users/yukahatori/A_Fairness/FairnessML_git/LSTM-BasicModel/WeatherModelx/assets\n"
     ]
    },
    {
     "name": "stderr",
     "output_type": "stream",
     "text": [
      "INFO:tensorflow:Assets written to: /Users/yukahatori/A_Fairness/FairnessML_git/LSTM-BasicModel/WeatherModelx/assets\n",
      "WARNING:absl:<keras.layers.recurrent.LSTMCell object at 0x7f8ed12075e0> has the same name 'LSTMCell' as a built-in Keras object. Consider renaming <class 'keras.layers.recurrent.LSTMCell'> to avoid naming conflicts when loading with `tf.keras.models.load_model`. If renaming is not possible, pass the object in the `custom_objects` parameter of the load function.\n"
     ]
    },
    {
     "name": "stdout",
     "output_type": "stream",
     "text": [
      "247/247 [==============================] - 4s 15ms/step - loss: 2.1764e-04 - root_mean_squared_error: 0.0148 - val_loss: 6.9142e-04 - val_root_mean_squared_error: 0.0263\n",
      "Epoch 5/20\n",
      "247/247 [==============================] - 1s 2ms/step - loss: 2.1714e-04 - root_mean_squared_error: 0.0147 - val_loss: 7.8778e-04 - val_root_mean_squared_error: 0.0281\n",
      "Epoch 6/20\n",
      "226/247 [==========================>...] - ETA: 0s - loss: 2.0917e-04 - root_mean_squared_error: 0.0145"
     ]
    },
    {
     "name": "stderr",
     "output_type": "stream",
     "text": [
      "WARNING:absl:Found untraced functions such as lstm_cell_150_layer_call_fn, lstm_cell_150_layer_call_and_return_conditional_losses, lstm_cell_150_layer_call_fn, lstm_cell_150_layer_call_and_return_conditional_losses, lstm_cell_150_layer_call_and_return_conditional_losses while saving (showing 5 of 5). These functions will not be directly callable after loading.\n"
     ]
    },
    {
     "name": "stdout",
     "output_type": "stream",
     "text": [
      "INFO:tensorflow:Assets written to: /Users/yukahatori/A_Fairness/FairnessML_git/LSTM-BasicModel/WeatherModelx/assets\n"
     ]
    },
    {
     "name": "stderr",
     "output_type": "stream",
     "text": [
      "INFO:tensorflow:Assets written to: /Users/yukahatori/A_Fairness/FairnessML_git/LSTM-BasicModel/WeatherModelx/assets\n",
      "WARNING:absl:<keras.layers.recurrent.LSTMCell object at 0x7f8ed12075e0> has the same name 'LSTMCell' as a built-in Keras object. Consider renaming <class 'keras.layers.recurrent.LSTMCell'> to avoid naming conflicts when loading with `tf.keras.models.load_model`. If renaming is not possible, pass the object in the `custom_objects` parameter of the load function.\n"
     ]
    },
    {
     "name": "stdout",
     "output_type": "stream",
     "text": [
      "247/247 [==============================] - 3s 14ms/step - loss: 2.0782e-04 - root_mean_squared_error: 0.0144 - val_loss: 5.4282e-04 - val_root_mean_squared_error: 0.0233\n",
      "Epoch 7/20\n",
      "247/247 [==============================] - 1s 3ms/step - loss: 2.0765e-04 - root_mean_squared_error: 0.0144 - val_loss: 6.5539e-04 - val_root_mean_squared_error: 0.0256\n",
      "Epoch 8/20\n",
      "247/247 [==============================] - 1s 3ms/step - loss: 2.1226e-04 - root_mean_squared_error: 0.0146 - val_loss: 5.4284e-04 - val_root_mean_squared_error: 0.0233\n",
      "Epoch 9/20\n",
      "238/247 [===========================>..] - ETA: 0s - loss: 2.0725e-04 - root_mean_squared_error: 0.0144"
     ]
    },
    {
     "name": "stderr",
     "output_type": "stream",
     "text": [
      "WARNING:absl:Found untraced functions such as lstm_cell_150_layer_call_fn, lstm_cell_150_layer_call_and_return_conditional_losses, lstm_cell_150_layer_call_fn, lstm_cell_150_layer_call_and_return_conditional_losses, lstm_cell_150_layer_call_and_return_conditional_losses while saving (showing 5 of 5). These functions will not be directly callable after loading.\n"
     ]
    },
    {
     "name": "stdout",
     "output_type": "stream",
     "text": [
      "INFO:tensorflow:Assets written to: /Users/yukahatori/A_Fairness/FairnessML_git/LSTM-BasicModel/WeatherModelx/assets\n"
     ]
    },
    {
     "name": "stderr",
     "output_type": "stream",
     "text": [
      "INFO:tensorflow:Assets written to: /Users/yukahatori/A_Fairness/FairnessML_git/LSTM-BasicModel/WeatherModelx/assets\n",
      "WARNING:absl:<keras.layers.recurrent.LSTMCell object at 0x7f8ed12075e0> has the same name 'LSTMCell' as a built-in Keras object. Consider renaming <class 'keras.layers.recurrent.LSTMCell'> to avoid naming conflicts when loading with `tf.keras.models.load_model`. If renaming is not possible, pass the object in the `custom_objects` parameter of the load function.\n"
     ]
    },
    {
     "name": "stdout",
     "output_type": "stream",
     "text": [
      "247/247 [==============================] - 4s 15ms/step - loss: 2.0826e-04 - root_mean_squared_error: 0.0144 - val_loss: 5.2044e-04 - val_root_mean_squared_error: 0.0228\n",
      "Epoch 10/20\n",
      "240/247 [============================>.] - ETA: 0s - loss: 2.0811e-04 - root_mean_squared_error: 0.0144"
     ]
    },
    {
     "name": "stderr",
     "output_type": "stream",
     "text": [
      "WARNING:absl:Found untraced functions such as lstm_cell_150_layer_call_fn, lstm_cell_150_layer_call_and_return_conditional_losses, lstm_cell_150_layer_call_fn, lstm_cell_150_layer_call_and_return_conditional_losses, lstm_cell_150_layer_call_and_return_conditional_losses while saving (showing 5 of 5). These functions will not be directly callable after loading.\n"
     ]
    },
    {
     "name": "stdout",
     "output_type": "stream",
     "text": [
      "INFO:tensorflow:Assets written to: /Users/yukahatori/A_Fairness/FairnessML_git/LSTM-BasicModel/WeatherModelx/assets\n"
     ]
    },
    {
     "name": "stderr",
     "output_type": "stream",
     "text": [
      "INFO:tensorflow:Assets written to: /Users/yukahatori/A_Fairness/FairnessML_git/LSTM-BasicModel/WeatherModelx/assets\n",
      "WARNING:absl:<keras.layers.recurrent.LSTMCell object at 0x7f8ed12075e0> has the same name 'LSTMCell' as a built-in Keras object. Consider renaming <class 'keras.layers.recurrent.LSTMCell'> to avoid naming conflicts when loading with `tf.keras.models.load_model`. If renaming is not possible, pass the object in the `custom_objects` parameter of the load function.\n"
     ]
    },
    {
     "name": "stdout",
     "output_type": "stream",
     "text": [
      "247/247 [==============================] - 4s 15ms/step - loss: 2.0812e-04 - root_mean_squared_error: 0.0144 - val_loss: 4.1626e-04 - val_root_mean_squared_error: 0.0204\n",
      "Epoch 11/20\n",
      "247/247 [==============================] - 1s 3ms/step - loss: 2.2106e-04 - root_mean_squared_error: 0.0149 - val_loss: 5.3620e-04 - val_root_mean_squared_error: 0.0232\n",
      "Epoch 12/20\n",
      "247/247 [==============================] - 1s 2ms/step - loss: 2.0316e-04 - root_mean_squared_error: 0.0143 - val_loss: 5.6408e-04 - val_root_mean_squared_error: 0.0238\n",
      "Epoch 13/20\n",
      "247/247 [==============================] - 1s 3ms/step - loss: 2.1230e-04 - root_mean_squared_error: 0.0146 - val_loss: 4.7839e-04 - val_root_mean_squared_error: 0.0219\n",
      "Epoch 14/20\n",
      "239/247 [============================>.] - ETA: 0s - loss: 2.1265e-04 - root_mean_squared_error: 0.0146"
     ]
    },
    {
     "name": "stderr",
     "output_type": "stream",
     "text": [
      "WARNING:absl:Found untraced functions such as lstm_cell_150_layer_call_fn, lstm_cell_150_layer_call_and_return_conditional_losses, lstm_cell_150_layer_call_fn, lstm_cell_150_layer_call_and_return_conditional_losses, lstm_cell_150_layer_call_and_return_conditional_losses while saving (showing 5 of 5). These functions will not be directly callable after loading.\n"
     ]
    },
    {
     "name": "stdout",
     "output_type": "stream",
     "text": [
      "INFO:tensorflow:Assets written to: /Users/yukahatori/A_Fairness/FairnessML_git/LSTM-BasicModel/WeatherModelx/assets\n"
     ]
    },
    {
     "name": "stderr",
     "output_type": "stream",
     "text": [
      "INFO:tensorflow:Assets written to: /Users/yukahatori/A_Fairness/FairnessML_git/LSTM-BasicModel/WeatherModelx/assets\n",
      "WARNING:absl:<keras.layers.recurrent.LSTMCell object at 0x7f8ed12075e0> has the same name 'LSTMCell' as a built-in Keras object. Consider renaming <class 'keras.layers.recurrent.LSTMCell'> to avoid naming conflicts when loading with `tf.keras.models.load_model`. If renaming is not possible, pass the object in the `custom_objects` parameter of the load function.\n"
     ]
    },
    {
     "name": "stdout",
     "output_type": "stream",
     "text": [
      "247/247 [==============================] - 4s 18ms/step - loss: 2.1245e-04 - root_mean_squared_error: 0.0146 - val_loss: 3.5963e-04 - val_root_mean_squared_error: 0.0190\n",
      "Epoch 15/20\n",
      "247/247 [==============================] - 1s 3ms/step - loss: 2.0982e-04 - root_mean_squared_error: 0.0145 - val_loss: 4.2591e-04 - val_root_mean_squared_error: 0.0206\n",
      "Epoch 16/20\n",
      "247/247 [==============================] - 1s 3ms/step - loss: 2.1309e-04 - root_mean_squared_error: 0.0146 - val_loss: 4.3414e-04 - val_root_mean_squared_error: 0.0208\n",
      "Epoch 17/20\n",
      "235/247 [===========================>..] - ETA: 0s - loss: 2.1890e-04 - root_mean_squared_error: 0.0148"
     ]
    },
    {
     "name": "stderr",
     "output_type": "stream",
     "text": [
      "WARNING:absl:Found untraced functions such as lstm_cell_150_layer_call_fn, lstm_cell_150_layer_call_and_return_conditional_losses, lstm_cell_150_layer_call_fn, lstm_cell_150_layer_call_and_return_conditional_losses, lstm_cell_150_layer_call_and_return_conditional_losses while saving (showing 5 of 5). These functions will not be directly callable after loading.\n"
     ]
    },
    {
     "name": "stdout",
     "output_type": "stream",
     "text": [
      "INFO:tensorflow:Assets written to: /Users/yukahatori/A_Fairness/FairnessML_git/LSTM-BasicModel/WeatherModelx/assets\n"
     ]
    },
    {
     "name": "stderr",
     "output_type": "stream",
     "text": [
      "INFO:tensorflow:Assets written to: /Users/yukahatori/A_Fairness/FairnessML_git/LSTM-BasicModel/WeatherModelx/assets\n",
      "WARNING:absl:<keras.layers.recurrent.LSTMCell object at 0x7f8ed12075e0> has the same name 'LSTMCell' as a built-in Keras object. Consider renaming <class 'keras.layers.recurrent.LSTMCell'> to avoid naming conflicts when loading with `tf.keras.models.load_model`. If renaming is not possible, pass the object in the `custom_objects` parameter of the load function.\n"
     ]
    },
    {
     "name": "stdout",
     "output_type": "stream",
     "text": [
      "247/247 [==============================] - 6s 24ms/step - loss: 2.1861e-04 - root_mean_squared_error: 0.0148 - val_loss: 3.1413e-04 - val_root_mean_squared_error: 0.0177\n",
      "Epoch 18/20\n",
      "247/247 [==============================] - 1s 5ms/step - loss: 2.3599e-04 - root_mean_squared_error: 0.0154 - val_loss: 4.3755e-04 - val_root_mean_squared_error: 0.0209\n",
      "Epoch 19/20\n",
      "247/247 [==============================] - 1s 5ms/step - loss: 2.1072e-04 - root_mean_squared_error: 0.0145 - val_loss: 4.2741e-04 - val_root_mean_squared_error: 0.0207\n",
      "Epoch 20/20\n",
      "247/247 [==============================] - 1s 4ms/step - loss: 2.1756e-04 - root_mean_squared_error: 0.0148 - val_loss: 4.7402e-04 - val_root_mean_squared_error: 0.0218\n",
      "RMSE value:  0.01450862641743371\n",
      "Epoch 1/20\n",
      "240/247 [============================>.] - ETA: 0s - loss: 0.0264 - root_mean_squared_error: 0.1625"
     ]
    },
    {
     "name": "stderr",
     "output_type": "stream",
     "text": [
      "WARNING:absl:Found untraced functions such as lstm_cell_151_layer_call_fn, lstm_cell_151_layer_call_and_return_conditional_losses, lstm_cell_151_layer_call_fn, lstm_cell_151_layer_call_and_return_conditional_losses, lstm_cell_151_layer_call_and_return_conditional_losses while saving (showing 5 of 5). These functions will not be directly callable after loading.\n"
     ]
    },
    {
     "name": "stdout",
     "output_type": "stream",
     "text": [
      "INFO:tensorflow:Assets written to: /Users/yukahatori/A_Fairness/FairnessML_git/LSTM-BasicModel/WeatherModelx/assets\n"
     ]
    },
    {
     "name": "stderr",
     "output_type": "stream",
     "text": [
      "INFO:tensorflow:Assets written to: /Users/yukahatori/A_Fairness/FairnessML_git/LSTM-BasicModel/WeatherModelx/assets\n",
      "WARNING:absl:<keras.layers.recurrent.LSTMCell object at 0x7f8ee1a744f0> has the same name 'LSTMCell' as a built-in Keras object. Consider renaming <class 'keras.layers.recurrent.LSTMCell'> to avoid naming conflicts when loading with `tf.keras.models.load_model`. If renaming is not possible, pass the object in the `custom_objects` parameter of the load function.\n"
     ]
    },
    {
     "name": "stdout",
     "output_type": "stream",
     "text": [
      "247/247 [==============================] - 7s 21ms/step - loss: 0.0257 - root_mean_squared_error: 0.1604 - val_loss: 0.0017 - val_root_mean_squared_error: 0.0418\n",
      "Epoch 2/20\n",
      "247/247 [==============================] - ETA: 0s - loss: 3.0838e-04 - root_mean_squared_error: 0.0176"
     ]
    },
    {
     "name": "stderr",
     "output_type": "stream",
     "text": [
      "WARNING:absl:Found untraced functions such as lstm_cell_151_layer_call_fn, lstm_cell_151_layer_call_and_return_conditional_losses, lstm_cell_151_layer_call_fn, lstm_cell_151_layer_call_and_return_conditional_losses, lstm_cell_151_layer_call_and_return_conditional_losses while saving (showing 5 of 5). These functions will not be directly callable after loading.\n"
     ]
    },
    {
     "name": "stdout",
     "output_type": "stream",
     "text": [
      "INFO:tensorflow:Assets written to: /Users/yukahatori/A_Fairness/FairnessML_git/LSTM-BasicModel/WeatherModelx/assets\n"
     ]
    },
    {
     "name": "stderr",
     "output_type": "stream",
     "text": [
      "INFO:tensorflow:Assets written to: /Users/yukahatori/A_Fairness/FairnessML_git/LSTM-BasicModel/WeatherModelx/assets\n",
      "WARNING:absl:<keras.layers.recurrent.LSTMCell object at 0x7f8ee1a744f0> has the same name 'LSTMCell' as a built-in Keras object. Consider renaming <class 'keras.layers.recurrent.LSTMCell'> to avoid naming conflicts when loading with `tf.keras.models.load_model`. If renaming is not possible, pass the object in the `custom_objects` parameter of the load function.\n"
     ]
    },
    {
     "name": "stdout",
     "output_type": "stream",
     "text": [
      "247/247 [==============================] - 4s 17ms/step - loss: 3.0838e-04 - root_mean_squared_error: 0.0176 - val_loss: 8.2508e-04 - val_root_mean_squared_error: 0.0287\n",
      "Epoch 3/20\n",
      "243/247 [============================>.] - ETA: 0s - loss: 2.5788e-04 - root_mean_squared_error: 0.0161"
     ]
    },
    {
     "name": "stderr",
     "output_type": "stream",
     "text": [
      "WARNING:absl:Found untraced functions such as lstm_cell_151_layer_call_fn, lstm_cell_151_layer_call_and_return_conditional_losses, lstm_cell_151_layer_call_fn, lstm_cell_151_layer_call_and_return_conditional_losses, lstm_cell_151_layer_call_and_return_conditional_losses while saving (showing 5 of 5). These functions will not be directly callable after loading.\n"
     ]
    },
    {
     "name": "stdout",
     "output_type": "stream",
     "text": [
      "INFO:tensorflow:Assets written to: /Users/yukahatori/A_Fairness/FairnessML_git/LSTM-BasicModel/WeatherModelx/assets\n"
     ]
    },
    {
     "name": "stderr",
     "output_type": "stream",
     "text": [
      "INFO:tensorflow:Assets written to: /Users/yukahatori/A_Fairness/FairnessML_git/LSTM-BasicModel/WeatherModelx/assets\n",
      "WARNING:absl:<keras.layers.recurrent.LSTMCell object at 0x7f8ee1a744f0> has the same name 'LSTMCell' as a built-in Keras object. Consider renaming <class 'keras.layers.recurrent.LSTMCell'> to avoid naming conflicts when loading with `tf.keras.models.load_model`. If renaming is not possible, pass the object in the `custom_objects` parameter of the load function.\n"
     ]
    },
    {
     "name": "stdout",
     "output_type": "stream",
     "text": [
      "247/247 [==============================] - 5s 20ms/step - loss: 2.5864e-04 - root_mean_squared_error: 0.0161 - val_loss: 7.3032e-04 - val_root_mean_squared_error: 0.0270\n",
      "Epoch 4/20\n",
      "230/247 [==========================>...] - ETA: 0s - loss: 2.3372e-04 - root_mean_squared_error: 0.0153"
     ]
    },
    {
     "name": "stderr",
     "output_type": "stream",
     "text": [
      "WARNING:absl:Found untraced functions such as lstm_cell_151_layer_call_fn, lstm_cell_151_layer_call_and_return_conditional_losses, lstm_cell_151_layer_call_fn, lstm_cell_151_layer_call_and_return_conditional_losses, lstm_cell_151_layer_call_and_return_conditional_losses while saving (showing 5 of 5). These functions will not be directly callable after loading.\n"
     ]
    },
    {
     "name": "stdout",
     "output_type": "stream",
     "text": [
      "INFO:tensorflow:Assets written to: /Users/yukahatori/A_Fairness/FairnessML_git/LSTM-BasicModel/WeatherModelx/assets\n"
     ]
    },
    {
     "name": "stderr",
     "output_type": "stream",
     "text": [
      "INFO:tensorflow:Assets written to: /Users/yukahatori/A_Fairness/FairnessML_git/LSTM-BasicModel/WeatherModelx/assets\n",
      "WARNING:absl:<keras.layers.recurrent.LSTMCell object at 0x7f8ee1a744f0> has the same name 'LSTMCell' as a built-in Keras object. Consider renaming <class 'keras.layers.recurrent.LSTMCell'> to avoid naming conflicts when loading with `tf.keras.models.load_model`. If renaming is not possible, pass the object in the `custom_objects` parameter of the load function.\n"
     ]
    },
    {
     "name": "stdout",
     "output_type": "stream",
     "text": [
      "247/247 [==============================] - 4s 16ms/step - loss: 2.3387e-04 - root_mean_squared_error: 0.0153 - val_loss: 6.0338e-04 - val_root_mean_squared_error: 0.0246\n",
      "Epoch 5/20\n",
      "247/247 [==============================] - 1s 3ms/step - loss: 2.1961e-04 - root_mean_squared_error: 0.0148 - val_loss: 7.2957e-04 - val_root_mean_squared_error: 0.0270\n",
      "Epoch 6/20\n",
      "228/247 [==========================>...] - ETA: 0s - loss: 2.1814e-04 - root_mean_squared_error: 0.0148"
     ]
    },
    {
     "name": "stderr",
     "output_type": "stream",
     "text": [
      "WARNING:absl:Found untraced functions such as lstm_cell_151_layer_call_fn, lstm_cell_151_layer_call_and_return_conditional_losses, lstm_cell_151_layer_call_fn, lstm_cell_151_layer_call_and_return_conditional_losses, lstm_cell_151_layer_call_and_return_conditional_losses while saving (showing 5 of 5). These functions will not be directly callable after loading.\n"
     ]
    },
    {
     "name": "stdout",
     "output_type": "stream",
     "text": [
      "INFO:tensorflow:Assets written to: /Users/yukahatori/A_Fairness/FairnessML_git/LSTM-BasicModel/WeatherModelx/assets\n"
     ]
    },
    {
     "name": "stderr",
     "output_type": "stream",
     "text": [
      "INFO:tensorflow:Assets written to: /Users/yukahatori/A_Fairness/FairnessML_git/LSTM-BasicModel/WeatherModelx/assets\n",
      "WARNING:absl:<keras.layers.recurrent.LSTMCell object at 0x7f8ee1a744f0> has the same name 'LSTMCell' as a built-in Keras object. Consider renaming <class 'keras.layers.recurrent.LSTMCell'> to avoid naming conflicts when loading with `tf.keras.models.load_model`. If renaming is not possible, pass the object in the `custom_objects` parameter of the load function.\n"
     ]
    },
    {
     "name": "stdout",
     "output_type": "stream",
     "text": [
      "247/247 [==============================] - 5s 19ms/step - loss: 2.1769e-04 - root_mean_squared_error: 0.0148 - val_loss: 5.6271e-04 - val_root_mean_squared_error: 0.0237\n",
      "Epoch 7/20\n",
      "239/247 [============================>.] - ETA: 0s - loss: 2.1119e-04 - root_mean_squared_error: 0.0145"
     ]
    },
    {
     "name": "stderr",
     "output_type": "stream",
     "text": [
      "WARNING:absl:Found untraced functions such as lstm_cell_151_layer_call_fn, lstm_cell_151_layer_call_and_return_conditional_losses, lstm_cell_151_layer_call_fn, lstm_cell_151_layer_call_and_return_conditional_losses, lstm_cell_151_layer_call_and_return_conditional_losses while saving (showing 5 of 5). These functions will not be directly callable after loading.\n"
     ]
    },
    {
     "name": "stdout",
     "output_type": "stream",
     "text": [
      "INFO:tensorflow:Assets written to: /Users/yukahatori/A_Fairness/FairnessML_git/LSTM-BasicModel/WeatherModelx/assets\n"
     ]
    },
    {
     "name": "stderr",
     "output_type": "stream",
     "text": [
      "INFO:tensorflow:Assets written to: /Users/yukahatori/A_Fairness/FairnessML_git/LSTM-BasicModel/WeatherModelx/assets\n",
      "WARNING:absl:<keras.layers.recurrent.LSTMCell object at 0x7f8ee1a744f0> has the same name 'LSTMCell' as a built-in Keras object. Consider renaming <class 'keras.layers.recurrent.LSTMCell'> to avoid naming conflicts when loading with `tf.keras.models.load_model`. If renaming is not possible, pass the object in the `custom_objects` parameter of the load function.\n"
     ]
    },
    {
     "name": "stdout",
     "output_type": "stream",
     "text": [
      "247/247 [==============================] - 4s 17ms/step - loss: 2.1166e-04 - root_mean_squared_error: 0.0145 - val_loss: 5.2134e-04 - val_root_mean_squared_error: 0.0228\n",
      "Epoch 8/20\n",
      "247/247 [==============================] - 1s 3ms/step - loss: 2.0234e-04 - root_mean_squared_error: 0.0142 - val_loss: 5.3665e-04 - val_root_mean_squared_error: 0.0232\n",
      "Epoch 9/20\n",
      "247/247 [==============================] - 1s 3ms/step - loss: 2.0828e-04 - root_mean_squared_error: 0.0144 - val_loss: 6.7535e-04 - val_root_mean_squared_error: 0.0260\n",
      "Epoch 10/20\n",
      "245/247 [============================>.] - ETA: 0s - loss: 2.1066e-04 - root_mean_squared_error: 0.0145"
     ]
    },
    {
     "name": "stderr",
     "output_type": "stream",
     "text": [
      "WARNING:absl:Found untraced functions such as lstm_cell_151_layer_call_fn, lstm_cell_151_layer_call_and_return_conditional_losses, lstm_cell_151_layer_call_fn, lstm_cell_151_layer_call_and_return_conditional_losses, lstm_cell_151_layer_call_and_return_conditional_losses while saving (showing 5 of 5). These functions will not be directly callable after loading.\n"
     ]
    },
    {
     "name": "stdout",
     "output_type": "stream",
     "text": [
      "INFO:tensorflow:Assets written to: /Users/yukahatori/A_Fairness/FairnessML_git/LSTM-BasicModel/WeatherModelx/assets\n"
     ]
    },
    {
     "name": "stderr",
     "output_type": "stream",
     "text": [
      "INFO:tensorflow:Assets written to: /Users/yukahatori/A_Fairness/FairnessML_git/LSTM-BasicModel/WeatherModelx/assets\n",
      "WARNING:absl:<keras.layers.recurrent.LSTMCell object at 0x7f8ee1a744f0> has the same name 'LSTMCell' as a built-in Keras object. Consider renaming <class 'keras.layers.recurrent.LSTMCell'> to avoid naming conflicts when loading with `tf.keras.models.load_model`. If renaming is not possible, pass the object in the `custom_objects` parameter of the load function.\n"
     ]
    },
    {
     "name": "stdout",
     "output_type": "stream",
     "text": [
      "247/247 [==============================] - 4s 17ms/step - loss: 2.1043e-04 - root_mean_squared_error: 0.0145 - val_loss: 4.9494e-04 - val_root_mean_squared_error: 0.0222\n",
      "Epoch 11/20\n",
      "240/247 [============================>.] - ETA: 0s - loss: 2.1898e-04 - root_mean_squared_error: 0.0148"
     ]
    },
    {
     "name": "stderr",
     "output_type": "stream",
     "text": [
      "WARNING:absl:Found untraced functions such as lstm_cell_151_layer_call_fn, lstm_cell_151_layer_call_and_return_conditional_losses, lstm_cell_151_layer_call_fn, lstm_cell_151_layer_call_and_return_conditional_losses, lstm_cell_151_layer_call_and_return_conditional_losses while saving (showing 5 of 5). These functions will not be directly callable after loading.\n"
     ]
    },
    {
     "name": "stdout",
     "output_type": "stream",
     "text": [
      "INFO:tensorflow:Assets written to: /Users/yukahatori/A_Fairness/FairnessML_git/LSTM-BasicModel/WeatherModelx/assets\n"
     ]
    },
    {
     "name": "stderr",
     "output_type": "stream",
     "text": [
      "INFO:tensorflow:Assets written to: /Users/yukahatori/A_Fairness/FairnessML_git/LSTM-BasicModel/WeatherModelx/assets\n",
      "WARNING:absl:<keras.layers.recurrent.LSTMCell object at 0x7f8ee1a744f0> has the same name 'LSTMCell' as a built-in Keras object. Consider renaming <class 'keras.layers.recurrent.LSTMCell'> to avoid naming conflicts when loading with `tf.keras.models.load_model`. If renaming is not possible, pass the object in the `custom_objects` parameter of the load function.\n"
     ]
    },
    {
     "name": "stdout",
     "output_type": "stream",
     "text": [
      "247/247 [==============================] - 4s 17ms/step - loss: 2.1870e-04 - root_mean_squared_error: 0.0148 - val_loss: 4.2068e-04 - val_root_mean_squared_error: 0.0205\n",
      "Epoch 12/20\n",
      "247/247 [==============================] - 1s 3ms/step - loss: 2.2643e-04 - root_mean_squared_error: 0.0150 - val_loss: 4.5977e-04 - val_root_mean_squared_error: 0.0214\n",
      "Epoch 13/20\n",
      "240/247 [============================>.] - ETA: 0s - loss: 2.1217e-04 - root_mean_squared_error: 0.0146"
     ]
    },
    {
     "name": "stderr",
     "output_type": "stream",
     "text": [
      "WARNING:absl:Found untraced functions such as lstm_cell_151_layer_call_fn, lstm_cell_151_layer_call_and_return_conditional_losses, lstm_cell_151_layer_call_fn, lstm_cell_151_layer_call_and_return_conditional_losses, lstm_cell_151_layer_call_and_return_conditional_losses while saving (showing 5 of 5). These functions will not be directly callable after loading.\n"
     ]
    },
    {
     "name": "stdout",
     "output_type": "stream",
     "text": [
      "INFO:tensorflow:Assets written to: /Users/yukahatori/A_Fairness/FairnessML_git/LSTM-BasicModel/WeatherModelx/assets\n"
     ]
    },
    {
     "name": "stderr",
     "output_type": "stream",
     "text": [
      "INFO:tensorflow:Assets written to: /Users/yukahatori/A_Fairness/FairnessML_git/LSTM-BasicModel/WeatherModelx/assets\n",
      "WARNING:absl:<keras.layers.recurrent.LSTMCell object at 0x7f8ee1a744f0> has the same name 'LSTMCell' as a built-in Keras object. Consider renaming <class 'keras.layers.recurrent.LSTMCell'> to avoid naming conflicts when loading with `tf.keras.models.load_model`. If renaming is not possible, pass the object in the `custom_objects` parameter of the load function.\n"
     ]
    },
    {
     "name": "stdout",
     "output_type": "stream",
     "text": [
      "247/247 [==============================] - 4s 16ms/step - loss: 2.1153e-04 - root_mean_squared_error: 0.0145 - val_loss: 3.2015e-04 - val_root_mean_squared_error: 0.0179\n",
      "Epoch 14/20\n",
      "247/247 [==============================] - 1s 3ms/step - loss: 2.0967e-04 - root_mean_squared_error: 0.0145 - val_loss: 3.6179e-04 - val_root_mean_squared_error: 0.0190\n",
      "Epoch 15/20\n",
      "247/247 [==============================] - 1s 3ms/step - loss: 2.1611e-04 - root_mean_squared_error: 0.0147 - val_loss: 4.1394e-04 - val_root_mean_squared_error: 0.0203\n",
      "Epoch 16/20\n",
      "247/247 [==============================] - 1s 3ms/step - loss: 2.0661e-04 - root_mean_squared_error: 0.0144 - val_loss: 3.5839e-04 - val_root_mean_squared_error: 0.0189\n",
      "Epoch 17/20\n",
      "241/247 [============================>.] - ETA: 0s - loss: 2.1661e-04 - root_mean_squared_error: 0.0147"
     ]
    },
    {
     "name": "stderr",
     "output_type": "stream",
     "text": [
      "WARNING:absl:Found untraced functions such as lstm_cell_151_layer_call_fn, lstm_cell_151_layer_call_and_return_conditional_losses, lstm_cell_151_layer_call_fn, lstm_cell_151_layer_call_and_return_conditional_losses, lstm_cell_151_layer_call_and_return_conditional_losses while saving (showing 5 of 5). These functions will not be directly callable after loading.\n"
     ]
    },
    {
     "name": "stdout",
     "output_type": "stream",
     "text": [
      "INFO:tensorflow:Assets written to: /Users/yukahatori/A_Fairness/FairnessML_git/LSTM-BasicModel/WeatherModelx/assets\n"
     ]
    },
    {
     "name": "stderr",
     "output_type": "stream",
     "text": [
      "INFO:tensorflow:Assets written to: /Users/yukahatori/A_Fairness/FairnessML_git/LSTM-BasicModel/WeatherModelx/assets\n",
      "WARNING:absl:<keras.layers.recurrent.LSTMCell object at 0x7f8ee1a744f0> has the same name 'LSTMCell' as a built-in Keras object. Consider renaming <class 'keras.layers.recurrent.LSTMCell'> to avoid naming conflicts when loading with `tf.keras.models.load_model`. If renaming is not possible, pass the object in the `custom_objects` parameter of the load function.\n"
     ]
    },
    {
     "name": "stdout",
     "output_type": "stream",
     "text": [
      "247/247 [==============================] - 4s 17ms/step - loss: 2.1780e-04 - root_mean_squared_error: 0.0148 - val_loss: 2.9961e-04 - val_root_mean_squared_error: 0.0173\n",
      "Epoch 18/20\n",
      "247/247 [==============================] - 1s 3ms/step - loss: 2.1673e-04 - root_mean_squared_error: 0.0147 - val_loss: 5.7771e-04 - val_root_mean_squared_error: 0.0240\n",
      "Epoch 19/20\n",
      "247/247 [==============================] - 1s 3ms/step - loss: 2.1633e-04 - root_mean_squared_error: 0.0147 - val_loss: 3.7752e-04 - val_root_mean_squared_error: 0.0194\n",
      "Epoch 20/20\n",
      "247/247 [==============================] - 1s 2ms/step - loss: 2.1213e-04 - root_mean_squared_error: 0.0146 - val_loss: 3.9435e-04 - val_root_mean_squared_error: 0.0199\n",
      "RMSE value:  0.016622429164859304\n",
      "Epoch 1/20\n",
      "236/247 [===========================>..] - ETA: 0s - loss: 0.0113 - root_mean_squared_error: 0.1062"
     ]
    },
    {
     "name": "stderr",
     "output_type": "stream",
     "text": [
      "WARNING:absl:Found untraced functions such as lstm_cell_152_layer_call_fn, lstm_cell_152_layer_call_and_return_conditional_losses, lstm_cell_152_layer_call_fn, lstm_cell_152_layer_call_and_return_conditional_losses, lstm_cell_152_layer_call_and_return_conditional_losses while saving (showing 5 of 5). These functions will not be directly callable after loading.\n"
     ]
    },
    {
     "name": "stdout",
     "output_type": "stream",
     "text": [
      "INFO:tensorflow:Assets written to: /Users/yukahatori/A_Fairness/FairnessML_git/LSTM-BasicModel/WeatherModelx/assets\n"
     ]
    },
    {
     "name": "stderr",
     "output_type": "stream",
     "text": [
      "INFO:tensorflow:Assets written to: /Users/yukahatori/A_Fairness/FairnessML_git/LSTM-BasicModel/WeatherModelx/assets\n",
      "WARNING:absl:<keras.layers.recurrent.LSTMCell object at 0x7f8ece8c7dc0> has the same name 'LSTMCell' as a built-in Keras object. Consider renaming <class 'keras.layers.recurrent.LSTMCell'> to avoid naming conflicts when loading with `tf.keras.models.load_model`. If renaming is not possible, pass the object in the `custom_objects` parameter of the load function.\n"
     ]
    },
    {
     "name": "stdout",
     "output_type": "stream",
     "text": [
      "247/247 [==============================] - 6s 20ms/step - loss: 0.0108 - root_mean_squared_error: 0.1041 - val_loss: 0.0019 - val_root_mean_squared_error: 0.0442\n",
      "Epoch 2/20\n",
      "226/247 [==========================>...] - ETA: 0s - loss: 2.8393e-04 - root_mean_squared_error: 0.0169"
     ]
    },
    {
     "name": "stderr",
     "output_type": "stream",
     "text": [
      "WARNING:absl:Found untraced functions such as lstm_cell_152_layer_call_fn, lstm_cell_152_layer_call_and_return_conditional_losses, lstm_cell_152_layer_call_fn, lstm_cell_152_layer_call_and_return_conditional_losses, lstm_cell_152_layer_call_and_return_conditional_losses while saving (showing 5 of 5). These functions will not be directly callable after loading.\n"
     ]
    },
    {
     "name": "stdout",
     "output_type": "stream",
     "text": [
      "INFO:tensorflow:Assets written to: /Users/yukahatori/A_Fairness/FairnessML_git/LSTM-BasicModel/WeatherModelx/assets\n"
     ]
    },
    {
     "name": "stderr",
     "output_type": "stream",
     "text": [
      "INFO:tensorflow:Assets written to: /Users/yukahatori/A_Fairness/FairnessML_git/LSTM-BasicModel/WeatherModelx/assets\n",
      "WARNING:absl:<keras.layers.recurrent.LSTMCell object at 0x7f8ece8c7dc0> has the same name 'LSTMCell' as a built-in Keras object. Consider renaming <class 'keras.layers.recurrent.LSTMCell'> to avoid naming conflicts when loading with `tf.keras.models.load_model`. If renaming is not possible, pass the object in the `custom_objects` parameter of the load function.\n"
     ]
    },
    {
     "name": "stdout",
     "output_type": "stream",
     "text": [
      "247/247 [==============================] - 4s 15ms/step - loss: 2.8357e-04 - root_mean_squared_error: 0.0168 - val_loss: 9.8663e-04 - val_root_mean_squared_error: 0.0314\n",
      "Epoch 3/20\n",
      "240/247 [============================>.] - ETA: 0s - loss: 2.3954e-04 - root_mean_squared_error: 0.0155"
     ]
    },
    {
     "name": "stderr",
     "output_type": "stream",
     "text": [
      "WARNING:absl:Found untraced functions such as lstm_cell_152_layer_call_fn, lstm_cell_152_layer_call_and_return_conditional_losses, lstm_cell_152_layer_call_fn, lstm_cell_152_layer_call_and_return_conditional_losses, lstm_cell_152_layer_call_and_return_conditional_losses while saving (showing 5 of 5). These functions will not be directly callable after loading.\n"
     ]
    },
    {
     "name": "stdout",
     "output_type": "stream",
     "text": [
      "INFO:tensorflow:Assets written to: /Users/yukahatori/A_Fairness/FairnessML_git/LSTM-BasicModel/WeatherModelx/assets\n"
     ]
    },
    {
     "name": "stderr",
     "output_type": "stream",
     "text": [
      "INFO:tensorflow:Assets written to: /Users/yukahatori/A_Fairness/FairnessML_git/LSTM-BasicModel/WeatherModelx/assets\n",
      "WARNING:absl:<keras.layers.recurrent.LSTMCell object at 0x7f8ece8c7dc0> has the same name 'LSTMCell' as a built-in Keras object. Consider renaming <class 'keras.layers.recurrent.LSTMCell'> to avoid naming conflicts when loading with `tf.keras.models.load_model`. If renaming is not possible, pass the object in the `custom_objects` parameter of the load function.\n"
     ]
    },
    {
     "name": "stdout",
     "output_type": "stream",
     "text": [
      "247/247 [==============================] - 4s 15ms/step - loss: 2.3958e-04 - root_mean_squared_error: 0.0155 - val_loss: 8.0576e-04 - val_root_mean_squared_error: 0.0284\n",
      "Epoch 4/20\n",
      "231/247 [===========================>..] - ETA: 0s - loss: 2.1861e-04 - root_mean_squared_error: 0.0148"
     ]
    },
    {
     "name": "stderr",
     "output_type": "stream",
     "text": [
      "WARNING:absl:Found untraced functions such as lstm_cell_152_layer_call_fn, lstm_cell_152_layer_call_and_return_conditional_losses, lstm_cell_152_layer_call_fn, lstm_cell_152_layer_call_and_return_conditional_losses, lstm_cell_152_layer_call_and_return_conditional_losses while saving (showing 5 of 5). These functions will not be directly callable after loading.\n"
     ]
    },
    {
     "name": "stdout",
     "output_type": "stream",
     "text": [
      "INFO:tensorflow:Assets written to: /Users/yukahatori/A_Fairness/FairnessML_git/LSTM-BasicModel/WeatherModelx/assets\n"
     ]
    },
    {
     "name": "stderr",
     "output_type": "stream",
     "text": [
      "INFO:tensorflow:Assets written to: /Users/yukahatori/A_Fairness/FairnessML_git/LSTM-BasicModel/WeatherModelx/assets\n",
      "WARNING:absl:<keras.layers.recurrent.LSTMCell object at 0x7f8ece8c7dc0> has the same name 'LSTMCell' as a built-in Keras object. Consider renaming <class 'keras.layers.recurrent.LSTMCell'> to avoid naming conflicts when loading with `tf.keras.models.load_model`. If renaming is not possible, pass the object in the `custom_objects` parameter of the load function.\n"
     ]
    },
    {
     "name": "stdout",
     "output_type": "stream",
     "text": [
      "247/247 [==============================] - 5s 18ms/step - loss: 2.1815e-04 - root_mean_squared_error: 0.0148 - val_loss: 6.0188e-04 - val_root_mean_squared_error: 0.0245\n",
      "Epoch 5/20\n",
      "247/247 [==============================] - 1s 3ms/step - loss: 2.1042e-04 - root_mean_squared_error: 0.0145 - val_loss: 6.7521e-04 - val_root_mean_squared_error: 0.0260\n",
      "Epoch 6/20\n",
      "245/247 [============================>.] - ETA: 0s - loss: 2.1257e-04 - root_mean_squared_error: 0.0146"
     ]
    },
    {
     "name": "stderr",
     "output_type": "stream",
     "text": [
      "WARNING:absl:Found untraced functions such as lstm_cell_152_layer_call_fn, lstm_cell_152_layer_call_and_return_conditional_losses, lstm_cell_152_layer_call_fn, lstm_cell_152_layer_call_and_return_conditional_losses, lstm_cell_152_layer_call_and_return_conditional_losses while saving (showing 5 of 5). These functions will not be directly callable after loading.\n"
     ]
    },
    {
     "name": "stdout",
     "output_type": "stream",
     "text": [
      "INFO:tensorflow:Assets written to: /Users/yukahatori/A_Fairness/FairnessML_git/LSTM-BasicModel/WeatherModelx/assets\n"
     ]
    },
    {
     "name": "stderr",
     "output_type": "stream",
     "text": [
      "INFO:tensorflow:Assets written to: /Users/yukahatori/A_Fairness/FairnessML_git/LSTM-BasicModel/WeatherModelx/assets\n",
      "WARNING:absl:<keras.layers.recurrent.LSTMCell object at 0x7f8ece8c7dc0> has the same name 'LSTMCell' as a built-in Keras object. Consider renaming <class 'keras.layers.recurrent.LSTMCell'> to avoid naming conflicts when loading with `tf.keras.models.load_model`. If renaming is not possible, pass the object in the `custom_objects` parameter of the load function.\n"
     ]
    },
    {
     "name": "stdout",
     "output_type": "stream",
     "text": [
      "247/247 [==============================] - 5s 19ms/step - loss: 2.1265e-04 - root_mean_squared_error: 0.0146 - val_loss: 5.8572e-04 - val_root_mean_squared_error: 0.0242\n",
      "Epoch 7/20\n",
      "247/247 [==============================] - 1s 3ms/step - loss: 2.1045e-04 - root_mean_squared_error: 0.0145 - val_loss: 6.1184e-04 - val_root_mean_squared_error: 0.0247\n",
      "Epoch 8/20\n",
      "237/247 [===========================>..] - ETA: 0s - loss: 2.1105e-04 - root_mean_squared_error: 0.0145"
     ]
    },
    {
     "name": "stderr",
     "output_type": "stream",
     "text": [
      "WARNING:absl:Found untraced functions such as lstm_cell_152_layer_call_fn, lstm_cell_152_layer_call_and_return_conditional_losses, lstm_cell_152_layer_call_fn, lstm_cell_152_layer_call_and_return_conditional_losses, lstm_cell_152_layer_call_and_return_conditional_losses while saving (showing 5 of 5). These functions will not be directly callable after loading.\n"
     ]
    },
    {
     "name": "stdout",
     "output_type": "stream",
     "text": [
      "INFO:tensorflow:Assets written to: /Users/yukahatori/A_Fairness/FairnessML_git/LSTM-BasicModel/WeatherModelx/assets\n"
     ]
    },
    {
     "name": "stderr",
     "output_type": "stream",
     "text": [
      "INFO:tensorflow:Assets written to: /Users/yukahatori/A_Fairness/FairnessML_git/LSTM-BasicModel/WeatherModelx/assets\n",
      "WARNING:absl:<keras.layers.recurrent.LSTMCell object at 0x7f8ece8c7dc0> has the same name 'LSTMCell' as a built-in Keras object. Consider renaming <class 'keras.layers.recurrent.LSTMCell'> to avoid naming conflicts when loading with `tf.keras.models.load_model`. If renaming is not possible, pass the object in the `custom_objects` parameter of the load function.\n"
     ]
    },
    {
     "name": "stdout",
     "output_type": "stream",
     "text": [
      "247/247 [==============================] - 4s 15ms/step - loss: 2.1087e-04 - root_mean_squared_error: 0.0145 - val_loss: 5.1992e-04 - val_root_mean_squared_error: 0.0228\n",
      "Epoch 9/20\n",
      "235/247 [===========================>..] - ETA: 0s - loss: 2.0840e-04 - root_mean_squared_error: 0.0144"
     ]
    },
    {
     "name": "stderr",
     "output_type": "stream",
     "text": [
      "WARNING:absl:Found untraced functions such as lstm_cell_152_layer_call_fn, lstm_cell_152_layer_call_and_return_conditional_losses, lstm_cell_152_layer_call_fn, lstm_cell_152_layer_call_and_return_conditional_losses, lstm_cell_152_layer_call_and_return_conditional_losses while saving (showing 5 of 5). These functions will not be directly callable after loading.\n"
     ]
    },
    {
     "name": "stdout",
     "output_type": "stream",
     "text": [
      "INFO:tensorflow:Assets written to: /Users/yukahatori/A_Fairness/FairnessML_git/LSTM-BasicModel/WeatherModelx/assets\n"
     ]
    },
    {
     "name": "stderr",
     "output_type": "stream",
     "text": [
      "INFO:tensorflow:Assets written to: /Users/yukahatori/A_Fairness/FairnessML_git/LSTM-BasicModel/WeatherModelx/assets\n",
      "WARNING:absl:<keras.layers.recurrent.LSTMCell object at 0x7f8ece8c7dc0> has the same name 'LSTMCell' as a built-in Keras object. Consider renaming <class 'keras.layers.recurrent.LSTMCell'> to avoid naming conflicts when loading with `tf.keras.models.load_model`. If renaming is not possible, pass the object in the `custom_objects` parameter of the load function.\n"
     ]
    },
    {
     "name": "stdout",
     "output_type": "stream",
     "text": [
      "247/247 [==============================] - 4s 16ms/step - loss: 2.0760e-04 - root_mean_squared_error: 0.0144 - val_loss: 5.1422e-04 - val_root_mean_squared_error: 0.0227\n",
      "Epoch 10/20\n",
      "247/247 [==============================] - 1s 3ms/step - loss: 2.1454e-04 - root_mean_squared_error: 0.0146 - val_loss: 5.3210e-04 - val_root_mean_squared_error: 0.0231\n",
      "Epoch 11/20\n",
      "247/247 [==============================] - 1s 3ms/step - loss: 2.2787e-04 - root_mean_squared_error: 0.0151 - val_loss: 6.2631e-04 - val_root_mean_squared_error: 0.0250\n",
      "Epoch 12/20\n",
      "247/247 [==============================] - 1s 3ms/step - loss: 2.2385e-04 - root_mean_squared_error: 0.0150 - val_loss: 5.8661e-04 - val_root_mean_squared_error: 0.0242\n",
      "Epoch 13/20\n",
      "239/247 [============================>.] - ETA: 0s - loss: 2.0239e-04 - root_mean_squared_error: 0.0142"
     ]
    },
    {
     "name": "stderr",
     "output_type": "stream",
     "text": [
      "WARNING:absl:Found untraced functions such as lstm_cell_152_layer_call_fn, lstm_cell_152_layer_call_and_return_conditional_losses, lstm_cell_152_layer_call_fn, lstm_cell_152_layer_call_and_return_conditional_losses, lstm_cell_152_layer_call_and_return_conditional_losses while saving (showing 5 of 5). These functions will not be directly callable after loading.\n"
     ]
    },
    {
     "name": "stdout",
     "output_type": "stream",
     "text": [
      "INFO:tensorflow:Assets written to: /Users/yukahatori/A_Fairness/FairnessML_git/LSTM-BasicModel/WeatherModelx/assets\n"
     ]
    },
    {
     "name": "stderr",
     "output_type": "stream",
     "text": [
      "INFO:tensorflow:Assets written to: /Users/yukahatori/A_Fairness/FairnessML_git/LSTM-BasicModel/WeatherModelx/assets\n",
      "WARNING:absl:<keras.layers.recurrent.LSTMCell object at 0x7f8ece8c7dc0> has the same name 'LSTMCell' as a built-in Keras object. Consider renaming <class 'keras.layers.recurrent.LSTMCell'> to avoid naming conflicts when loading with `tf.keras.models.load_model`. If renaming is not possible, pass the object in the `custom_objects` parameter of the load function.\n"
     ]
    },
    {
     "name": "stdout",
     "output_type": "stream",
     "text": [
      "247/247 [==============================] - 3s 14ms/step - loss: 2.0303e-04 - root_mean_squared_error: 0.0142 - val_loss: 3.6847e-04 - val_root_mean_squared_error: 0.0192\n",
      "Epoch 14/20\n",
      "247/247 [==============================] - 1s 3ms/step - loss: 2.1922e-04 - root_mean_squared_error: 0.0148 - val_loss: 6.2157e-04 - val_root_mean_squared_error: 0.0249\n",
      "Epoch 15/20\n",
      "247/247 [==============================] - 1s 3ms/step - loss: 2.2769e-04 - root_mean_squared_error: 0.0151 - val_loss: 5.3915e-04 - val_root_mean_squared_error: 0.0232\n",
      "Epoch 16/20\n",
      "247/247 [==============================] - 1s 3ms/step - loss: 2.2036e-04 - root_mean_squared_error: 0.0148 - val_loss: 5.3554e-04 - val_root_mean_squared_error: 0.0231\n",
      "Epoch 17/20\n",
      "247/247 [==============================] - 1s 4ms/step - loss: 2.1390e-04 - root_mean_squared_error: 0.0146 - val_loss: 5.1710e-04 - val_root_mean_squared_error: 0.0227\n",
      "Epoch 18/20\n",
      "247/247 [==============================] - 1s 3ms/step - loss: 2.1773e-04 - root_mean_squared_error: 0.0148 - val_loss: 4.8828e-04 - val_root_mean_squared_error: 0.0221\n",
      "Epoch 19/20\n",
      "247/247 [==============================] - 1s 3ms/step - loss: 2.1872e-04 - root_mean_squared_error: 0.0148 - val_loss: 4.2713e-04 - val_root_mean_squared_error: 0.0207\n",
      "Epoch 20/20\n",
      "247/247 [==============================] - 1s 3ms/step - loss: 2.2870e-04 - root_mean_squared_error: 0.0151 - val_loss: 3.9399e-04 - val_root_mean_squared_error: 0.0198\n",
      "RMSE value:  0.013798884490872527\n",
      "Epoch 1/20\n",
      "242/247 [============================>.] - ETA: 0s - loss: 0.0177 - root_mean_squared_error: 0.1330"
     ]
    },
    {
     "name": "stderr",
     "output_type": "stream",
     "text": [
      "WARNING:absl:Found untraced functions such as lstm_cell_153_layer_call_fn, lstm_cell_153_layer_call_and_return_conditional_losses, lstm_cell_153_layer_call_fn, lstm_cell_153_layer_call_and_return_conditional_losses, lstm_cell_153_layer_call_and_return_conditional_losses while saving (showing 5 of 5). These functions will not be directly callable after loading.\n"
     ]
    },
    {
     "name": "stdout",
     "output_type": "stream",
     "text": [
      "INFO:tensorflow:Assets written to: /Users/yukahatori/A_Fairness/FairnessML_git/LSTM-BasicModel/WeatherModelx/assets\n"
     ]
    },
    {
     "name": "stderr",
     "output_type": "stream",
     "text": [
      "INFO:tensorflow:Assets written to: /Users/yukahatori/A_Fairness/FairnessML_git/LSTM-BasicModel/WeatherModelx/assets\n",
      "WARNING:absl:<keras.layers.recurrent.LSTMCell object at 0x7f8ef4f01880> has the same name 'LSTMCell' as a built-in Keras object. Consider renaming <class 'keras.layers.recurrent.LSTMCell'> to avoid naming conflicts when loading with `tf.keras.models.load_model`. If renaming is not possible, pass the object in the `custom_objects` parameter of the load function.\n"
     ]
    },
    {
     "name": "stdout",
     "output_type": "stream",
     "text": [
      "247/247 [==============================] - 6s 16ms/step - loss: 0.0174 - root_mean_squared_error: 0.1319 - val_loss: 0.0014 - val_root_mean_squared_error: 0.0368\n",
      "Epoch 2/20\n",
      "238/247 [===========================>..] - ETA: 0s - loss: 2.6407e-04 - root_mean_squared_error: 0.0163"
     ]
    },
    {
     "name": "stderr",
     "output_type": "stream",
     "text": [
      "WARNING:absl:Found untraced functions such as lstm_cell_153_layer_call_fn, lstm_cell_153_layer_call_and_return_conditional_losses, lstm_cell_153_layer_call_fn, lstm_cell_153_layer_call_and_return_conditional_losses, lstm_cell_153_layer_call_and_return_conditional_losses while saving (showing 5 of 5). These functions will not be directly callable after loading.\n"
     ]
    },
    {
     "name": "stdout",
     "output_type": "stream",
     "text": [
      "INFO:tensorflow:Assets written to: /Users/yukahatori/A_Fairness/FairnessML_git/LSTM-BasicModel/WeatherModelx/assets\n"
     ]
    },
    {
     "name": "stderr",
     "output_type": "stream",
     "text": [
      "INFO:tensorflow:Assets written to: /Users/yukahatori/A_Fairness/FairnessML_git/LSTM-BasicModel/WeatherModelx/assets\n",
      "WARNING:absl:<keras.layers.recurrent.LSTMCell object at 0x7f8ef4f01880> has the same name 'LSTMCell' as a built-in Keras object. Consider renaming <class 'keras.layers.recurrent.LSTMCell'> to avoid naming conflicts when loading with `tf.keras.models.load_model`. If renaming is not possible, pass the object in the `custom_objects` parameter of the load function.\n"
     ]
    },
    {
     "name": "stdout",
     "output_type": "stream",
     "text": [
      "247/247 [==============================] - 4s 17ms/step - loss: 2.6304e-04 - root_mean_squared_error: 0.0162 - val_loss: 8.4687e-04 - val_root_mean_squared_error: 0.0291\n",
      "Epoch 3/20\n",
      "247/247 [==============================] - 1s 3ms/step - loss: 2.2644e-04 - root_mean_squared_error: 0.0150 - val_loss: 8.6516e-04 - val_root_mean_squared_error: 0.0294\n",
      "Epoch 4/20\n",
      "237/247 [===========================>..] - ETA: 0s - loss: 2.1278e-04 - root_mean_squared_error: 0.0146"
     ]
    },
    {
     "name": "stderr",
     "output_type": "stream",
     "text": [
      "WARNING:absl:Found untraced functions such as lstm_cell_153_layer_call_fn, lstm_cell_153_layer_call_and_return_conditional_losses, lstm_cell_153_layer_call_fn, lstm_cell_153_layer_call_and_return_conditional_losses, lstm_cell_153_layer_call_and_return_conditional_losses while saving (showing 5 of 5). These functions will not be directly callable after loading.\n"
     ]
    },
    {
     "name": "stdout",
     "output_type": "stream",
     "text": [
      "INFO:tensorflow:Assets written to: /Users/yukahatori/A_Fairness/FairnessML_git/LSTM-BasicModel/WeatherModelx/assets\n"
     ]
    },
    {
     "name": "stderr",
     "output_type": "stream",
     "text": [
      "INFO:tensorflow:Assets written to: /Users/yukahatori/A_Fairness/FairnessML_git/LSTM-BasicModel/WeatherModelx/assets\n",
      "WARNING:absl:<keras.layers.recurrent.LSTMCell object at 0x7f8ef4f01880> has the same name 'LSTMCell' as a built-in Keras object. Consider renaming <class 'keras.layers.recurrent.LSTMCell'> to avoid naming conflicts when loading with `tf.keras.models.load_model`. If renaming is not possible, pass the object in the `custom_objects` parameter of the load function.\n"
     ]
    },
    {
     "name": "stdout",
     "output_type": "stream",
     "text": [
      "247/247 [==============================] - 4s 16ms/step - loss: 2.1209e-04 - root_mean_squared_error: 0.0146 - val_loss: 8.0319e-04 - val_root_mean_squared_error: 0.0283\n",
      "Epoch 5/20\n",
      "243/247 [============================>.] - ETA: 0s - loss: 2.0714e-04 - root_mean_squared_error: 0.0144"
     ]
    },
    {
     "name": "stderr",
     "output_type": "stream",
     "text": [
      "WARNING:absl:Found untraced functions such as lstm_cell_153_layer_call_fn, lstm_cell_153_layer_call_and_return_conditional_losses, lstm_cell_153_layer_call_fn, lstm_cell_153_layer_call_and_return_conditional_losses, lstm_cell_153_layer_call_and_return_conditional_losses while saving (showing 5 of 5). These functions will not be directly callable after loading.\n"
     ]
    },
    {
     "name": "stdout",
     "output_type": "stream",
     "text": [
      "INFO:tensorflow:Assets written to: /Users/yukahatori/A_Fairness/FairnessML_git/LSTM-BasicModel/WeatherModelx/assets\n"
     ]
    },
    {
     "name": "stderr",
     "output_type": "stream",
     "text": [
      "INFO:tensorflow:Assets written to: /Users/yukahatori/A_Fairness/FairnessML_git/LSTM-BasicModel/WeatherModelx/assets\n",
      "WARNING:absl:<keras.layers.recurrent.LSTMCell object at 0x7f8ef4f01880> has the same name 'LSTMCell' as a built-in Keras object. Consider renaming <class 'keras.layers.recurrent.LSTMCell'> to avoid naming conflicts when loading with `tf.keras.models.load_model`. If renaming is not possible, pass the object in the `custom_objects` parameter of the load function.\n"
     ]
    },
    {
     "name": "stdout",
     "output_type": "stream",
     "text": [
      "247/247 [==============================] - 5s 19ms/step - loss: 2.0680e-04 - root_mean_squared_error: 0.0144 - val_loss: 5.6299e-04 - val_root_mean_squared_error: 0.0237\n",
      "Epoch 6/20\n",
      "247/247 [==============================] - 1s 3ms/step - loss: 2.0267e-04 - root_mean_squared_error: 0.0142 - val_loss: 6.7211e-04 - val_root_mean_squared_error: 0.0259\n",
      "Epoch 7/20\n",
      "247/247 [==============================] - 1s 3ms/step - loss: 2.1487e-04 - root_mean_squared_error: 0.0147 - val_loss: 6.1956e-04 - val_root_mean_squared_error: 0.0249\n",
      "Epoch 8/20\n",
      "247/247 [==============================] - 1s 3ms/step - loss: 2.1026e-04 - root_mean_squared_error: 0.0145 - val_loss: 5.9805e-04 - val_root_mean_squared_error: 0.0245\n",
      "Epoch 9/20\n",
      "247/247 [==============================] - 1s 3ms/step - loss: 2.0312e-04 - root_mean_squared_error: 0.0143 - val_loss: 7.9449e-04 - val_root_mean_squared_error: 0.0282\n",
      "Epoch 10/20\n",
      "229/247 [==========================>...] - ETA: 0s - loss: 2.2916e-04 - root_mean_squared_error: 0.0151"
     ]
    },
    {
     "name": "stderr",
     "output_type": "stream",
     "text": [
      "WARNING:absl:Found untraced functions such as lstm_cell_153_layer_call_fn, lstm_cell_153_layer_call_and_return_conditional_losses, lstm_cell_153_layer_call_fn, lstm_cell_153_layer_call_and_return_conditional_losses, lstm_cell_153_layer_call_and_return_conditional_losses while saving (showing 5 of 5). These functions will not be directly callable after loading.\n"
     ]
    },
    {
     "name": "stdout",
     "output_type": "stream",
     "text": [
      "INFO:tensorflow:Assets written to: /Users/yukahatori/A_Fairness/FairnessML_git/LSTM-BasicModel/WeatherModelx/assets\n"
     ]
    },
    {
     "name": "stderr",
     "output_type": "stream",
     "text": [
      "INFO:tensorflow:Assets written to: /Users/yukahatori/A_Fairness/FairnessML_git/LSTM-BasicModel/WeatherModelx/assets\n",
      "WARNING:absl:<keras.layers.recurrent.LSTMCell object at 0x7f8ef4f01880> has the same name 'LSTMCell' as a built-in Keras object. Consider renaming <class 'keras.layers.recurrent.LSTMCell'> to avoid naming conflicts when loading with `tf.keras.models.load_model`. If renaming is not possible, pass the object in the `custom_objects` parameter of the load function.\n"
     ]
    },
    {
     "name": "stdout",
     "output_type": "stream",
     "text": [
      "247/247 [==============================] - 4s 16ms/step - loss: 2.2730e-04 - root_mean_squared_error: 0.0151 - val_loss: 5.4751e-04 - val_root_mean_squared_error: 0.0234\n",
      "Epoch 11/20\n",
      "247/247 [==============================] - 1s 3ms/step - loss: 2.2161e-04 - root_mean_squared_error: 0.0149 - val_loss: 0.0010 - val_root_mean_squared_error: 0.0321\n",
      "Epoch 12/20\n",
      "245/247 [============================>.] - ETA: 0s - loss: 2.1528e-04 - root_mean_squared_error: 0.0147"
     ]
    },
    {
     "name": "stderr",
     "output_type": "stream",
     "text": [
      "WARNING:absl:Found untraced functions such as lstm_cell_153_layer_call_fn, lstm_cell_153_layer_call_and_return_conditional_losses, lstm_cell_153_layer_call_fn, lstm_cell_153_layer_call_and_return_conditional_losses, lstm_cell_153_layer_call_and_return_conditional_losses while saving (showing 5 of 5). These functions will not be directly callable after loading.\n"
     ]
    },
    {
     "name": "stdout",
     "output_type": "stream",
     "text": [
      "INFO:tensorflow:Assets written to: /Users/yukahatori/A_Fairness/FairnessML_git/LSTM-BasicModel/WeatherModelx/assets\n"
     ]
    },
    {
     "name": "stderr",
     "output_type": "stream",
     "text": [
      "INFO:tensorflow:Assets written to: /Users/yukahatori/A_Fairness/FairnessML_git/LSTM-BasicModel/WeatherModelx/assets\n",
      "WARNING:absl:<keras.layers.recurrent.LSTMCell object at 0x7f8ef4f01880> has the same name 'LSTMCell' as a built-in Keras object. Consider renaming <class 'keras.layers.recurrent.LSTMCell'> to avoid naming conflicts when loading with `tf.keras.models.load_model`. If renaming is not possible, pass the object in the `custom_objects` parameter of the load function.\n"
     ]
    },
    {
     "name": "stdout",
     "output_type": "stream",
     "text": [
      "247/247 [==============================] - 4s 17ms/step - loss: 2.1520e-04 - root_mean_squared_error: 0.0147 - val_loss: 4.2581e-04 - val_root_mean_squared_error: 0.0206\n",
      "Epoch 13/20\n",
      "247/247 [==============================] - 1s 3ms/step - loss: 2.1489e-04 - root_mean_squared_error: 0.0147 - val_loss: 5.8176e-04 - val_root_mean_squared_error: 0.0241\n",
      "Epoch 14/20\n",
      "247/247 [==============================] - 1s 3ms/step - loss: 2.1716e-04 - root_mean_squared_error: 0.0147 - val_loss: 4.3426e-04 - val_root_mean_squared_error: 0.0208\n",
      "Epoch 15/20\n",
      "238/247 [===========================>..] - ETA: 0s - loss: 2.4488e-04 - root_mean_squared_error: 0.0156"
     ]
    },
    {
     "name": "stderr",
     "output_type": "stream",
     "text": [
      "WARNING:absl:Found untraced functions such as lstm_cell_153_layer_call_fn, lstm_cell_153_layer_call_and_return_conditional_losses, lstm_cell_153_layer_call_fn, lstm_cell_153_layer_call_and_return_conditional_losses, lstm_cell_153_layer_call_and_return_conditional_losses while saving (showing 5 of 5). These functions will not be directly callable after loading.\n"
     ]
    },
    {
     "name": "stdout",
     "output_type": "stream",
     "text": [
      "INFO:tensorflow:Assets written to: /Users/yukahatori/A_Fairness/FairnessML_git/LSTM-BasicModel/WeatherModelx/assets\n"
     ]
    },
    {
     "name": "stderr",
     "output_type": "stream",
     "text": [
      "INFO:tensorflow:Assets written to: /Users/yukahatori/A_Fairness/FairnessML_git/LSTM-BasicModel/WeatherModelx/assets\n",
      "WARNING:absl:<keras.layers.recurrent.LSTMCell object at 0x7f8ef4f01880> has the same name 'LSTMCell' as a built-in Keras object. Consider renaming <class 'keras.layers.recurrent.LSTMCell'> to avoid naming conflicts when loading with `tf.keras.models.load_model`. If renaming is not possible, pass the object in the `custom_objects` parameter of the load function.\n"
     ]
    },
    {
     "name": "stdout",
     "output_type": "stream",
     "text": [
      "247/247 [==============================] - 4s 18ms/step - loss: 2.4285e-04 - root_mean_squared_error: 0.0156 - val_loss: 3.7941e-04 - val_root_mean_squared_error: 0.0195\n",
      "Epoch 16/20\n",
      "247/247 [==============================] - 1s 3ms/step - loss: 2.1477e-04 - root_mean_squared_error: 0.0147 - val_loss: 6.1514e-04 - val_root_mean_squared_error: 0.0248\n",
      "Epoch 17/20\n",
      "247/247 [==============================] - 1s 3ms/step - loss: 2.2814e-04 - root_mean_squared_error: 0.0151 - val_loss: 5.5712e-04 - val_root_mean_squared_error: 0.0236\n",
      "Epoch 18/20\n",
      "247/247 [==============================] - 1s 3ms/step - loss: 2.2702e-04 - root_mean_squared_error: 0.0151 - val_loss: 6.9678e-04 - val_root_mean_squared_error: 0.0264\n",
      "Epoch 19/20\n",
      "247/247 [==============================] - 1s 3ms/step - loss: 2.2853e-04 - root_mean_squared_error: 0.0151 - val_loss: 7.1408e-04 - val_root_mean_squared_error: 0.0267\n",
      "Epoch 20/20\n",
      "247/247 [==============================] - 1s 3ms/step - loss: 2.1499e-04 - root_mean_squared_error: 0.0147 - val_loss: 4.7351e-04 - val_root_mean_squared_error: 0.0218\n",
      "RMSE value:  0.015173260686292623\n",
      "Epoch 1/20\n",
      "232/247 [===========================>..] - ETA: 0s - loss: 0.0111 - root_mean_squared_error: 0.1055"
     ]
    },
    {
     "name": "stderr",
     "output_type": "stream",
     "text": [
      "WARNING:absl:Found untraced functions such as lstm_cell_154_layer_call_fn, lstm_cell_154_layer_call_and_return_conditional_losses, lstm_cell_154_layer_call_fn, lstm_cell_154_layer_call_and_return_conditional_losses, lstm_cell_154_layer_call_and_return_conditional_losses while saving (showing 5 of 5). These functions will not be directly callable after loading.\n"
     ]
    },
    {
     "name": "stdout",
     "output_type": "stream",
     "text": [
      "INFO:tensorflow:Assets written to: /Users/yukahatori/A_Fairness/FairnessML_git/LSTM-BasicModel/WeatherModelx/assets\n"
     ]
    },
    {
     "name": "stderr",
     "output_type": "stream",
     "text": [
      "INFO:tensorflow:Assets written to: /Users/yukahatori/A_Fairness/FairnessML_git/LSTM-BasicModel/WeatherModelx/assets\n",
      "WARNING:absl:<keras.layers.recurrent.LSTMCell object at 0x7f8ef0d2b160> has the same name 'LSTMCell' as a built-in Keras object. Consider renaming <class 'keras.layers.recurrent.LSTMCell'> to avoid naming conflicts when loading with `tf.keras.models.load_model`. If renaming is not possible, pass the object in the `custom_objects` parameter of the load function.\n"
     ]
    },
    {
     "name": "stdout",
     "output_type": "stream",
     "text": [
      "247/247 [==============================] - 6s 18ms/step - loss: 0.0105 - root_mean_squared_error: 0.1025 - val_loss: 9.2993e-04 - val_root_mean_squared_error: 0.0305\n",
      "Epoch 2/20\n",
      "227/247 [==========================>...] - ETA: 0s - loss: 2.5026e-04 - root_mean_squared_error: 0.0158"
     ]
    },
    {
     "name": "stderr",
     "output_type": "stream",
     "text": [
      "WARNING:absl:Found untraced functions such as lstm_cell_154_layer_call_fn, lstm_cell_154_layer_call_and_return_conditional_losses, lstm_cell_154_layer_call_fn, lstm_cell_154_layer_call_and_return_conditional_losses, lstm_cell_154_layer_call_and_return_conditional_losses while saving (showing 5 of 5). These functions will not be directly callable after loading.\n"
     ]
    },
    {
     "name": "stdout",
     "output_type": "stream",
     "text": [
      "INFO:tensorflow:Assets written to: /Users/yukahatori/A_Fairness/FairnessML_git/LSTM-BasicModel/WeatherModelx/assets\n"
     ]
    },
    {
     "name": "stderr",
     "output_type": "stream",
     "text": [
      "INFO:tensorflow:Assets written to: /Users/yukahatori/A_Fairness/FairnessML_git/LSTM-BasicModel/WeatherModelx/assets\n",
      "WARNING:absl:<keras.layers.recurrent.LSTMCell object at 0x7f8ef0d2b160> has the same name 'LSTMCell' as a built-in Keras object. Consider renaming <class 'keras.layers.recurrent.LSTMCell'> to avoid naming conflicts when loading with `tf.keras.models.load_model`. If renaming is not possible, pass the object in the `custom_objects` parameter of the load function.\n"
     ]
    },
    {
     "name": "stdout",
     "output_type": "stream",
     "text": [
      "247/247 [==============================] - 4s 16ms/step - loss: 2.4993e-04 - root_mean_squared_error: 0.0158 - val_loss: 6.1285e-04 - val_root_mean_squared_error: 0.0248\n",
      "Epoch 3/20\n",
      "247/247 [==============================] - 1s 3ms/step - loss: 2.1894e-04 - root_mean_squared_error: 0.0148 - val_loss: 6.1837e-04 - val_root_mean_squared_error: 0.0249\n",
      "Epoch 4/20\n",
      "247/247 [==============================] - 1s 3ms/step - loss: 2.1005e-04 - root_mean_squared_error: 0.0145 - val_loss: 6.8068e-04 - val_root_mean_squared_error: 0.0261\n",
      "Epoch 5/20\n",
      "232/247 [===========================>..] - ETA: 0s - loss: 2.1250e-04 - root_mean_squared_error: 0.0146"
     ]
    },
    {
     "name": "stderr",
     "output_type": "stream",
     "text": [
      "WARNING:absl:Found untraced functions such as lstm_cell_154_layer_call_fn, lstm_cell_154_layer_call_and_return_conditional_losses, lstm_cell_154_layer_call_fn, lstm_cell_154_layer_call_and_return_conditional_losses, lstm_cell_154_layer_call_and_return_conditional_losses while saving (showing 5 of 5). These functions will not be directly callable after loading.\n"
     ]
    },
    {
     "name": "stdout",
     "output_type": "stream",
     "text": [
      "INFO:tensorflow:Assets written to: /Users/yukahatori/A_Fairness/FairnessML_git/LSTM-BasicModel/WeatherModelx/assets\n"
     ]
    },
    {
     "name": "stderr",
     "output_type": "stream",
     "text": [
      "INFO:tensorflow:Assets written to: /Users/yukahatori/A_Fairness/FairnessML_git/LSTM-BasicModel/WeatherModelx/assets\n",
      "WARNING:absl:<keras.layers.recurrent.LSTMCell object at 0x7f8ef0d2b160> has the same name 'LSTMCell' as a built-in Keras object. Consider renaming <class 'keras.layers.recurrent.LSTMCell'> to avoid naming conflicts when loading with `tf.keras.models.load_model`. If renaming is not possible, pass the object in the `custom_objects` parameter of the load function.\n"
     ]
    },
    {
     "name": "stdout",
     "output_type": "stream",
     "text": [
      "247/247 [==============================] - 4s 17ms/step - loss: 2.1395e-04 - root_mean_squared_error: 0.0146 - val_loss: 3.7722e-04 - val_root_mean_squared_error: 0.0194\n",
      "Epoch 6/20\n",
      "247/247 [==============================] - 1s 3ms/step - loss: 2.1413e-04 - root_mean_squared_error: 0.0146 - val_loss: 5.0241e-04 - val_root_mean_squared_error: 0.0224\n",
      "Epoch 7/20\n",
      "247/247 [==============================] - 1s 3ms/step - loss: 2.1259e-04 - root_mean_squared_error: 0.0146 - val_loss: 5.2979e-04 - val_root_mean_squared_error: 0.0230\n",
      "Epoch 8/20\n",
      "247/247 [==============================] - 1s 4ms/step - loss: 2.0913e-04 - root_mean_squared_error: 0.0145 - val_loss: 4.7004e-04 - val_root_mean_squared_error: 0.0217\n",
      "Epoch 9/20\n",
      "247/247 [==============================] - 1s 3ms/step - loss: 2.0914e-04 - root_mean_squared_error: 0.0145 - val_loss: 3.8820e-04 - val_root_mean_squared_error: 0.0197\n",
      "Epoch 10/20\n",
      "247/247 [==============================] - 1s 3ms/step - loss: 2.2703e-04 - root_mean_squared_error: 0.0151 - val_loss: 6.0790e-04 - val_root_mean_squared_error: 0.0247\n",
      "Epoch 11/20\n",
      "247/247 [==============================] - 1s 3ms/step - loss: 2.2955e-04 - root_mean_squared_error: 0.0152 - val_loss: 5.4615e-04 - val_root_mean_squared_error: 0.0234\n",
      "Epoch 12/20\n",
      "247/247 [==============================] - 1s 3ms/step - loss: 2.1111e-04 - root_mean_squared_error: 0.0145 - val_loss: 4.0246e-04 - val_root_mean_squared_error: 0.0201\n",
      "Epoch 13/20\n",
      "247/247 [==============================] - 1s 3ms/step - loss: 2.1795e-04 - root_mean_squared_error: 0.0148 - val_loss: 3.8949e-04 - val_root_mean_squared_error: 0.0197\n",
      "Epoch 14/20\n",
      "242/247 [============================>.] - ETA: 0s - loss: 2.0999e-04 - root_mean_squared_error: 0.0145"
     ]
    },
    {
     "name": "stderr",
     "output_type": "stream",
     "text": [
      "WARNING:absl:Found untraced functions such as lstm_cell_154_layer_call_fn, lstm_cell_154_layer_call_and_return_conditional_losses, lstm_cell_154_layer_call_fn, lstm_cell_154_layer_call_and_return_conditional_losses, lstm_cell_154_layer_call_and_return_conditional_losses while saving (showing 5 of 5). These functions will not be directly callable after loading.\n"
     ]
    },
    {
     "name": "stdout",
     "output_type": "stream",
     "text": [
      "INFO:tensorflow:Assets written to: /Users/yukahatori/A_Fairness/FairnessML_git/LSTM-BasicModel/WeatherModelx/assets\n"
     ]
    },
    {
     "name": "stderr",
     "output_type": "stream",
     "text": [
      "INFO:tensorflow:Assets written to: /Users/yukahatori/A_Fairness/FairnessML_git/LSTM-BasicModel/WeatherModelx/assets\n",
      "WARNING:absl:<keras.layers.recurrent.LSTMCell object at 0x7f8ef0d2b160> has the same name 'LSTMCell' as a built-in Keras object. Consider renaming <class 'keras.layers.recurrent.LSTMCell'> to avoid naming conflicts when loading with `tf.keras.models.load_model`. If renaming is not possible, pass the object in the `custom_objects` parameter of the load function.\n"
     ]
    },
    {
     "name": "stdout",
     "output_type": "stream",
     "text": [
      "247/247 [==============================] - 4s 17ms/step - loss: 2.0990e-04 - root_mean_squared_error: 0.0145 - val_loss: 3.1926e-04 - val_root_mean_squared_error: 0.0179\n",
      "Epoch 15/20\n",
      "247/247 [==============================] - 1s 3ms/step - loss: 2.1369e-04 - root_mean_squared_error: 0.0146 - val_loss: 7.2592e-04 - val_root_mean_squared_error: 0.0269\n",
      "Epoch 16/20\n",
      "247/247 [==============================] - 1s 3ms/step - loss: 2.2816e-04 - root_mean_squared_error: 0.0151 - val_loss: 4.6320e-04 - val_root_mean_squared_error: 0.0215\n",
      "Epoch 17/20\n",
      "247/247 [==============================] - 1s 4ms/step - loss: 2.2967e-04 - root_mean_squared_error: 0.0152 - val_loss: 3.7673e-04 - val_root_mean_squared_error: 0.0194\n",
      "Epoch 18/20\n",
      "247/247 [==============================] - 1s 3ms/step - loss: 2.0681e-04 - root_mean_squared_error: 0.0144 - val_loss: 3.9908e-04 - val_root_mean_squared_error: 0.0200\n",
      "Epoch 19/20\n",
      "247/247 [==============================] - 1s 3ms/step - loss: 2.2500e-04 - root_mean_squared_error: 0.0150 - val_loss: 6.0825e-04 - val_root_mean_squared_error: 0.0247\n",
      "Epoch 20/20\n",
      "247/247 [==============================] - 1s 3ms/step - loss: 2.0702e-04 - root_mean_squared_error: 0.0144 - val_loss: 3.7882e-04 - val_root_mean_squared_error: 0.0195\n",
      "RMSE value:  0.014877488189945307\n",
      "Epoch 1/20\n",
      "230/247 [==========================>...] - ETA: 0s - loss: 0.0161 - root_mean_squared_error: 0.1269"
     ]
    },
    {
     "name": "stderr",
     "output_type": "stream",
     "text": [
      "WARNING:absl:Found untraced functions such as lstm_cell_155_layer_call_fn, lstm_cell_155_layer_call_and_return_conditional_losses, lstm_cell_155_layer_call_fn, lstm_cell_155_layer_call_and_return_conditional_losses, lstm_cell_155_layer_call_and_return_conditional_losses while saving (showing 5 of 5). These functions will not be directly callable after loading.\n"
     ]
    },
    {
     "name": "stdout",
     "output_type": "stream",
     "text": [
      "INFO:tensorflow:Assets written to: /Users/yukahatori/A_Fairness/FairnessML_git/LSTM-BasicModel/WeatherModelx/assets\n"
     ]
    },
    {
     "name": "stderr",
     "output_type": "stream",
     "text": [
      "INFO:tensorflow:Assets written to: /Users/yukahatori/A_Fairness/FairnessML_git/LSTM-BasicModel/WeatherModelx/assets\n",
      "WARNING:absl:<keras.layers.recurrent.LSTMCell object at 0x7f8eec000760> has the same name 'LSTMCell' as a built-in Keras object. Consider renaming <class 'keras.layers.recurrent.LSTMCell'> to avoid naming conflicts when loading with `tf.keras.models.load_model`. If renaming is not possible, pass the object in the `custom_objects` parameter of the load function.\n"
     ]
    },
    {
     "name": "stdout",
     "output_type": "stream",
     "text": [
      "247/247 [==============================] - 6s 17ms/step - loss: 0.0151 - root_mean_squared_error: 0.1229 - val_loss: 0.0023 - val_root_mean_squared_error: 0.0480\n",
      "Epoch 2/20\n",
      "246/247 [============================>.] - ETA: 0s - loss: 8.1496e-04 - root_mean_squared_error: 0.0285"
     ]
    },
    {
     "name": "stderr",
     "output_type": "stream",
     "text": [
      "WARNING:absl:Found untraced functions such as lstm_cell_155_layer_call_fn, lstm_cell_155_layer_call_and_return_conditional_losses, lstm_cell_155_layer_call_fn, lstm_cell_155_layer_call_and_return_conditional_losses, lstm_cell_155_layer_call_and_return_conditional_losses while saving (showing 5 of 5). These functions will not be directly callable after loading.\n"
     ]
    },
    {
     "name": "stdout",
     "output_type": "stream",
     "text": [
      "INFO:tensorflow:Assets written to: /Users/yukahatori/A_Fairness/FairnessML_git/LSTM-BasicModel/WeatherModelx/assets\n"
     ]
    },
    {
     "name": "stderr",
     "output_type": "stream",
     "text": [
      "INFO:tensorflow:Assets written to: /Users/yukahatori/A_Fairness/FairnessML_git/LSTM-BasicModel/WeatherModelx/assets\n",
      "WARNING:absl:<keras.layers.recurrent.LSTMCell object at 0x7f8eec000760> has the same name 'LSTMCell' as a built-in Keras object. Consider renaming <class 'keras.layers.recurrent.LSTMCell'> to avoid naming conflicts when loading with `tf.keras.models.load_model`. If renaming is not possible, pass the object in the `custom_objects` parameter of the load function.\n"
     ]
    },
    {
     "name": "stdout",
     "output_type": "stream",
     "text": [
      "247/247 [==============================] - 4s 15ms/step - loss: 8.1484e-04 - root_mean_squared_error: 0.0285 - val_loss: 0.0018 - val_root_mean_squared_error: 0.0420\n",
      "Epoch 3/20\n",
      "247/247 [==============================] - 1s 3ms/step - loss: 6.5977e-04 - root_mean_squared_error: 0.0257 - val_loss: 0.0028 - val_root_mean_squared_error: 0.0525\n",
      "Epoch 4/20\n",
      "234/247 [===========================>..] - ETA: 0s - loss: 5.7063e-04 - root_mean_squared_error: 0.0239"
     ]
    },
    {
     "name": "stderr",
     "output_type": "stream",
     "text": [
      "WARNING:absl:Found untraced functions such as lstm_cell_155_layer_call_fn, lstm_cell_155_layer_call_and_return_conditional_losses, lstm_cell_155_layer_call_fn, lstm_cell_155_layer_call_and_return_conditional_losses, lstm_cell_155_layer_call_and_return_conditional_losses while saving (showing 5 of 5). These functions will not be directly callable after loading.\n"
     ]
    },
    {
     "name": "stdout",
     "output_type": "stream",
     "text": [
      "INFO:tensorflow:Assets written to: /Users/yukahatori/A_Fairness/FairnessML_git/LSTM-BasicModel/WeatherModelx/assets\n"
     ]
    },
    {
     "name": "stderr",
     "output_type": "stream",
     "text": [
      "INFO:tensorflow:Assets written to: /Users/yukahatori/A_Fairness/FairnessML_git/LSTM-BasicModel/WeatherModelx/assets\n",
      "WARNING:absl:<keras.layers.recurrent.LSTMCell object at 0x7f8eec000760> has the same name 'LSTMCell' as a built-in Keras object. Consider renaming <class 'keras.layers.recurrent.LSTMCell'> to avoid naming conflicts when loading with `tf.keras.models.load_model`. If renaming is not possible, pass the object in the `custom_objects` parameter of the load function.\n"
     ]
    },
    {
     "name": "stdout",
     "output_type": "stream",
     "text": [
      "247/247 [==============================] - 4s 15ms/step - loss: 5.6762e-04 - root_mean_squared_error: 0.0238 - val_loss: 0.0015 - val_root_mean_squared_error: 0.0388\n",
      "Epoch 5/20\n",
      "247/247 [==============================] - 1s 3ms/step - loss: 4.6785e-04 - root_mean_squared_error: 0.0216 - val_loss: 0.0017 - val_root_mean_squared_error: 0.0410\n",
      "Epoch 6/20\n",
      "236/247 [===========================>..] - ETA: 0s - loss: 4.1631e-04 - root_mean_squared_error: 0.0204"
     ]
    },
    {
     "name": "stderr",
     "output_type": "stream",
     "text": [
      "WARNING:absl:Found untraced functions such as lstm_cell_155_layer_call_fn, lstm_cell_155_layer_call_and_return_conditional_losses, lstm_cell_155_layer_call_fn, lstm_cell_155_layer_call_and_return_conditional_losses, lstm_cell_155_layer_call_and_return_conditional_losses while saving (showing 5 of 5). These functions will not be directly callable after loading.\n"
     ]
    },
    {
     "name": "stdout",
     "output_type": "stream",
     "text": [
      "INFO:tensorflow:Assets written to: /Users/yukahatori/A_Fairness/FairnessML_git/LSTM-BasicModel/WeatherModelx/assets\n"
     ]
    },
    {
     "name": "stderr",
     "output_type": "stream",
     "text": [
      "INFO:tensorflow:Assets written to: /Users/yukahatori/A_Fairness/FairnessML_git/LSTM-BasicModel/WeatherModelx/assets\n",
      "WARNING:absl:<keras.layers.recurrent.LSTMCell object at 0x7f8eec000760> has the same name 'LSTMCell' as a built-in Keras object. Consider renaming <class 'keras.layers.recurrent.LSTMCell'> to avoid naming conflicts when loading with `tf.keras.models.load_model`. If renaming is not possible, pass the object in the `custom_objects` parameter of the load function.\n"
     ]
    },
    {
     "name": "stdout",
     "output_type": "stream",
     "text": [
      "247/247 [==============================] - 5s 19ms/step - loss: 4.1525e-04 - root_mean_squared_error: 0.0204 - val_loss: 0.0014 - val_root_mean_squared_error: 0.0374\n",
      "Epoch 7/20\n",
      "230/247 [==========================>...] - ETA: 0s - loss: 3.9057e-04 - root_mean_squared_error: 0.0198"
     ]
    },
    {
     "name": "stderr",
     "output_type": "stream",
     "text": [
      "WARNING:absl:Found untraced functions such as lstm_cell_155_layer_call_fn, lstm_cell_155_layer_call_and_return_conditional_losses, lstm_cell_155_layer_call_fn, lstm_cell_155_layer_call_and_return_conditional_losses, lstm_cell_155_layer_call_and_return_conditional_losses while saving (showing 5 of 5). These functions will not be directly callable after loading.\n"
     ]
    },
    {
     "name": "stdout",
     "output_type": "stream",
     "text": [
      "INFO:tensorflow:Assets written to: /Users/yukahatori/A_Fairness/FairnessML_git/LSTM-BasicModel/WeatherModelx/assets\n"
     ]
    },
    {
     "name": "stderr",
     "output_type": "stream",
     "text": [
      "INFO:tensorflow:Assets written to: /Users/yukahatori/A_Fairness/FairnessML_git/LSTM-BasicModel/WeatherModelx/assets\n",
      "WARNING:absl:<keras.layers.recurrent.LSTMCell object at 0x7f8eec000760> has the same name 'LSTMCell' as a built-in Keras object. Consider renaming <class 'keras.layers.recurrent.LSTMCell'> to avoid naming conflicts when loading with `tf.keras.models.load_model`. If renaming is not possible, pass the object in the `custom_objects` parameter of the load function.\n"
     ]
    },
    {
     "name": "stdout",
     "output_type": "stream",
     "text": [
      "247/247 [==============================] - 4s 15ms/step - loss: 3.8692e-04 - root_mean_squared_error: 0.0197 - val_loss: 7.1547e-04 - val_root_mean_squared_error: 0.0267\n",
      "Epoch 8/20\n",
      "247/247 [==============================] - 1s 3ms/step - loss: 3.9386e-04 - root_mean_squared_error: 0.0198 - val_loss: 7.4410e-04 - val_root_mean_squared_error: 0.0273\n",
      "Epoch 9/20\n",
      "247/247 [==============================] - 1s 2ms/step - loss: 3.6072e-04 - root_mean_squared_error: 0.0190 - val_loss: 8.7599e-04 - val_root_mean_squared_error: 0.0296\n",
      "Epoch 10/20\n",
      "247/247 [==============================] - 1s 3ms/step - loss: 3.5992e-04 - root_mean_squared_error: 0.0190 - val_loss: 8.3211e-04 - val_root_mean_squared_error: 0.0288\n",
      "Epoch 11/20\n",
      "247/247 [==============================] - 1s 3ms/step - loss: 3.5478e-04 - root_mean_squared_error: 0.0188 - val_loss: 8.8242e-04 - val_root_mean_squared_error: 0.0297\n",
      "Epoch 12/20\n",
      "247/247 [==============================] - 1s 3ms/step - loss: 3.6101e-04 - root_mean_squared_error: 0.0190 - val_loss: 0.0013 - val_root_mean_squared_error: 0.0363\n",
      "Epoch 13/20\n",
      "246/247 [============================>.] - ETA: 0s - loss: 3.3886e-04 - root_mean_squared_error: 0.0184"
     ]
    },
    {
     "name": "stderr",
     "output_type": "stream",
     "text": [
      "WARNING:absl:Found untraced functions such as lstm_cell_155_layer_call_fn, lstm_cell_155_layer_call_and_return_conditional_losses, lstm_cell_155_layer_call_fn, lstm_cell_155_layer_call_and_return_conditional_losses, lstm_cell_155_layer_call_and_return_conditional_losses while saving (showing 5 of 5). These functions will not be directly callable after loading.\n"
     ]
    },
    {
     "name": "stdout",
     "output_type": "stream",
     "text": [
      "INFO:tensorflow:Assets written to: /Users/yukahatori/A_Fairness/FairnessML_git/LSTM-BasicModel/WeatherModelx/assets\n"
     ]
    },
    {
     "name": "stderr",
     "output_type": "stream",
     "text": [
      "INFO:tensorflow:Assets written to: /Users/yukahatori/A_Fairness/FairnessML_git/LSTM-BasicModel/WeatherModelx/assets\n",
      "WARNING:absl:<keras.layers.recurrent.LSTMCell object at 0x7f8eec000760> has the same name 'LSTMCell' as a built-in Keras object. Consider renaming <class 'keras.layers.recurrent.LSTMCell'> to avoid naming conflicts when loading with `tf.keras.models.load_model`. If renaming is not possible, pass the object in the `custom_objects` parameter of the load function.\n"
     ]
    },
    {
     "name": "stdout",
     "output_type": "stream",
     "text": [
      "247/247 [==============================] - 4s 15ms/step - loss: 3.3885e-04 - root_mean_squared_error: 0.0184 - val_loss: 6.0940e-04 - val_root_mean_squared_error: 0.0247\n",
      "Epoch 14/20\n",
      "247/247 [==============================] - 1s 3ms/step - loss: 3.6210e-04 - root_mean_squared_error: 0.0190 - val_loss: 7.9509e-04 - val_root_mean_squared_error: 0.0282\n",
      "Epoch 15/20\n",
      "247/247 [==============================] - 1s 3ms/step - loss: 3.4378e-04 - root_mean_squared_error: 0.0185 - val_loss: 8.5882e-04 - val_root_mean_squared_error: 0.0293\n",
      "Epoch 16/20\n",
      "247/247 [==============================] - 1s 3ms/step - loss: 3.4360e-04 - root_mean_squared_error: 0.0185 - val_loss: 6.8671e-04 - val_root_mean_squared_error: 0.0262\n",
      "Epoch 17/20\n",
      "247/247 [==============================] - ETA: 0s - loss: 3.4722e-04 - root_mean_squared_error: 0.0186"
     ]
    },
    {
     "name": "stderr",
     "output_type": "stream",
     "text": [
      "WARNING:absl:Found untraced functions such as lstm_cell_155_layer_call_fn, lstm_cell_155_layer_call_and_return_conditional_losses, lstm_cell_155_layer_call_fn, lstm_cell_155_layer_call_and_return_conditional_losses, lstm_cell_155_layer_call_and_return_conditional_losses while saving (showing 5 of 5). These functions will not be directly callable after loading.\n"
     ]
    },
    {
     "name": "stdout",
     "output_type": "stream",
     "text": [
      "INFO:tensorflow:Assets written to: /Users/yukahatori/A_Fairness/FairnessML_git/LSTM-BasicModel/WeatherModelx/assets\n"
     ]
    },
    {
     "name": "stderr",
     "output_type": "stream",
     "text": [
      "INFO:tensorflow:Assets written to: /Users/yukahatori/A_Fairness/FairnessML_git/LSTM-BasicModel/WeatherModelx/assets\n",
      "WARNING:absl:<keras.layers.recurrent.LSTMCell object at 0x7f8eec000760> has the same name 'LSTMCell' as a built-in Keras object. Consider renaming <class 'keras.layers.recurrent.LSTMCell'> to avoid naming conflicts when loading with `tf.keras.models.load_model`. If renaming is not possible, pass the object in the `custom_objects` parameter of the load function.\n"
     ]
    },
    {
     "name": "stdout",
     "output_type": "stream",
     "text": [
      "247/247 [==============================] - 4s 18ms/step - loss: 3.4722e-04 - root_mean_squared_error: 0.0186 - val_loss: 6.0646e-04 - val_root_mean_squared_error: 0.0246\n",
      "Epoch 18/20\n",
      "237/247 [===========================>..] - ETA: 0s - loss: 3.3080e-04 - root_mean_squared_error: 0.0182"
     ]
    },
    {
     "name": "stderr",
     "output_type": "stream",
     "text": [
      "WARNING:absl:Found untraced functions such as lstm_cell_155_layer_call_fn, lstm_cell_155_layer_call_and_return_conditional_losses, lstm_cell_155_layer_call_fn, lstm_cell_155_layer_call_and_return_conditional_losses, lstm_cell_155_layer_call_and_return_conditional_losses while saving (showing 5 of 5). These functions will not be directly callable after loading.\n"
     ]
    },
    {
     "name": "stdout",
     "output_type": "stream",
     "text": [
      "INFO:tensorflow:Assets written to: /Users/yukahatori/A_Fairness/FairnessML_git/LSTM-BasicModel/WeatherModelx/assets\n"
     ]
    },
    {
     "name": "stderr",
     "output_type": "stream",
     "text": [
      "INFO:tensorflow:Assets written to: /Users/yukahatori/A_Fairness/FairnessML_git/LSTM-BasicModel/WeatherModelx/assets\n",
      "WARNING:absl:<keras.layers.recurrent.LSTMCell object at 0x7f8eec000760> has the same name 'LSTMCell' as a built-in Keras object. Consider renaming <class 'keras.layers.recurrent.LSTMCell'> to avoid naming conflicts when loading with `tf.keras.models.load_model`. If renaming is not possible, pass the object in the `custom_objects` parameter of the load function.\n"
     ]
    },
    {
     "name": "stdout",
     "output_type": "stream",
     "text": [
      "247/247 [==============================] - 4s 17ms/step - loss: 3.2827e-04 - root_mean_squared_error: 0.0181 - val_loss: 4.9123e-04 - val_root_mean_squared_error: 0.0222\n",
      "Epoch 19/20\n",
      "247/247 [==============================] - 1s 3ms/step - loss: 3.5744e-04 - root_mean_squared_error: 0.0189 - val_loss: 6.9574e-04 - val_root_mean_squared_error: 0.0264\n",
      "Epoch 20/20\n",
      "247/247 [==============================] - 1s 4ms/step - loss: 3.4587e-04 - root_mean_squared_error: 0.0186 - val_loss: 8.4335e-04 - val_root_mean_squared_error: 0.0290\n",
      "RMSE value:  0.019004257085072147\n",
      "Epoch 1/20\n",
      "244/247 [============================>.] - ETA: 0s - loss: 0.0178 - root_mean_squared_error: 0.1335"
     ]
    },
    {
     "name": "stderr",
     "output_type": "stream",
     "text": [
      "WARNING:absl:Found untraced functions such as lstm_cell_156_layer_call_fn, lstm_cell_156_layer_call_and_return_conditional_losses, lstm_cell_156_layer_call_fn, lstm_cell_156_layer_call_and_return_conditional_losses, lstm_cell_156_layer_call_and_return_conditional_losses while saving (showing 5 of 5). These functions will not be directly callable after loading.\n"
     ]
    },
    {
     "name": "stdout",
     "output_type": "stream",
     "text": [
      "INFO:tensorflow:Assets written to: /Users/yukahatori/A_Fairness/FairnessML_git/LSTM-BasicModel/WeatherModelx/assets\n"
     ]
    },
    {
     "name": "stderr",
     "output_type": "stream",
     "text": [
      "INFO:tensorflow:Assets written to: /Users/yukahatori/A_Fairness/FairnessML_git/LSTM-BasicModel/WeatherModelx/assets\n",
      "WARNING:absl:<keras.layers.recurrent.LSTMCell object at 0x7f8f0b98dc70> has the same name 'LSTMCell' as a built-in Keras object. Consider renaming <class 'keras.layers.recurrent.LSTMCell'> to avoid naming conflicts when loading with `tf.keras.models.load_model`. If renaming is not possible, pass the object in the `custom_objects` parameter of the load function.\n"
     ]
    },
    {
     "name": "stdout",
     "output_type": "stream",
     "text": [
      "247/247 [==============================] - 6s 19ms/step - loss: 0.0177 - root_mean_squared_error: 0.1329 - val_loss: 0.0029 - val_root_mean_squared_error: 0.0542\n",
      "Epoch 2/20\n",
      "244/247 [============================>.] - ETA: 0s - loss: 8.5046e-04 - root_mean_squared_error: 0.0292"
     ]
    },
    {
     "name": "stderr",
     "output_type": "stream",
     "text": [
      "WARNING:absl:Found untraced functions such as lstm_cell_156_layer_call_fn, lstm_cell_156_layer_call_and_return_conditional_losses, lstm_cell_156_layer_call_fn, lstm_cell_156_layer_call_and_return_conditional_losses, lstm_cell_156_layer_call_and_return_conditional_losses while saving (showing 5 of 5). These functions will not be directly callable after loading.\n"
     ]
    },
    {
     "name": "stdout",
     "output_type": "stream",
     "text": [
      "INFO:tensorflow:Assets written to: /Users/yukahatori/A_Fairness/FairnessML_git/LSTM-BasicModel/WeatherModelx/assets\n"
     ]
    },
    {
     "name": "stderr",
     "output_type": "stream",
     "text": [
      "INFO:tensorflow:Assets written to: /Users/yukahatori/A_Fairness/FairnessML_git/LSTM-BasicModel/WeatherModelx/assets\n",
      "WARNING:absl:<keras.layers.recurrent.LSTMCell object at 0x7f8f0b98dc70> has the same name 'LSTMCell' as a built-in Keras object. Consider renaming <class 'keras.layers.recurrent.LSTMCell'> to avoid naming conflicts when loading with `tf.keras.models.load_model`. If renaming is not possible, pass the object in the `custom_objects` parameter of the load function.\n"
     ]
    },
    {
     "name": "stdout",
     "output_type": "stream",
     "text": [
      "247/247 [==============================] - 4s 15ms/step - loss: 8.4825e-04 - root_mean_squared_error: 0.0291 - val_loss: 0.0028 - val_root_mean_squared_error: 0.0533\n",
      "Epoch 3/20\n",
      "229/247 [==========================>...] - ETA: 0s - loss: 6.5613e-04 - root_mean_squared_error: 0.0256"
     ]
    },
    {
     "name": "stderr",
     "output_type": "stream",
     "text": [
      "WARNING:absl:Found untraced functions such as lstm_cell_156_layer_call_fn, lstm_cell_156_layer_call_and_return_conditional_losses, lstm_cell_156_layer_call_fn, lstm_cell_156_layer_call_and_return_conditional_losses, lstm_cell_156_layer_call_and_return_conditional_losses while saving (showing 5 of 5). These functions will not be directly callable after loading.\n"
     ]
    },
    {
     "name": "stdout",
     "output_type": "stream",
     "text": [
      "INFO:tensorflow:Assets written to: /Users/yukahatori/A_Fairness/FairnessML_git/LSTM-BasicModel/WeatherModelx/assets\n"
     ]
    },
    {
     "name": "stderr",
     "output_type": "stream",
     "text": [
      "INFO:tensorflow:Assets written to: /Users/yukahatori/A_Fairness/FairnessML_git/LSTM-BasicModel/WeatherModelx/assets\n",
      "WARNING:absl:<keras.layers.recurrent.LSTMCell object at 0x7f8f0b98dc70> has the same name 'LSTMCell' as a built-in Keras object. Consider renaming <class 'keras.layers.recurrent.LSTMCell'> to avoid naming conflicts when loading with `tf.keras.models.load_model`. If renaming is not possible, pass the object in the `custom_objects` parameter of the load function.\n"
     ]
    },
    {
     "name": "stdout",
     "output_type": "stream",
     "text": [
      "247/247 [==============================] - 4s 15ms/step - loss: 6.5297e-04 - root_mean_squared_error: 0.0256 - val_loss: 0.0019 - val_root_mean_squared_error: 0.0432\n",
      "Epoch 4/20\n",
      "235/247 [===========================>..] - ETA: 0s - loss: 5.5148e-04 - root_mean_squared_error: 0.0235"
     ]
    },
    {
     "name": "stderr",
     "output_type": "stream",
     "text": [
      "WARNING:absl:Found untraced functions such as lstm_cell_156_layer_call_fn, lstm_cell_156_layer_call_and_return_conditional_losses, lstm_cell_156_layer_call_fn, lstm_cell_156_layer_call_and_return_conditional_losses, lstm_cell_156_layer_call_and_return_conditional_losses while saving (showing 5 of 5). These functions will not be directly callable after loading.\n"
     ]
    },
    {
     "name": "stdout",
     "output_type": "stream",
     "text": [
      "INFO:tensorflow:Assets written to: /Users/yukahatori/A_Fairness/FairnessML_git/LSTM-BasicModel/WeatherModelx/assets\n"
     ]
    },
    {
     "name": "stderr",
     "output_type": "stream",
     "text": [
      "INFO:tensorflow:Assets written to: /Users/yukahatori/A_Fairness/FairnessML_git/LSTM-BasicModel/WeatherModelx/assets\n",
      "WARNING:absl:<keras.layers.recurrent.LSTMCell object at 0x7f8f0b98dc70> has the same name 'LSTMCell' as a built-in Keras object. Consider renaming <class 'keras.layers.recurrent.LSTMCell'> to avoid naming conflicts when loading with `tf.keras.models.load_model`. If renaming is not possible, pass the object in the `custom_objects` parameter of the load function.\n"
     ]
    },
    {
     "name": "stdout",
     "output_type": "stream",
     "text": [
      "247/247 [==============================] - 4s 14ms/step - loss: 5.4863e-04 - root_mean_squared_error: 0.0234 - val_loss: 0.0016 - val_root_mean_squared_error: 0.0395\n",
      "Epoch 5/20\n",
      "245/247 [============================>.] - ETA: 0s - loss: 4.4911e-04 - root_mean_squared_error: 0.0212"
     ]
    },
    {
     "name": "stderr",
     "output_type": "stream",
     "text": [
      "WARNING:absl:Found untraced functions such as lstm_cell_156_layer_call_fn, lstm_cell_156_layer_call_and_return_conditional_losses, lstm_cell_156_layer_call_fn, lstm_cell_156_layer_call_and_return_conditional_losses, lstm_cell_156_layer_call_and_return_conditional_losses while saving (showing 5 of 5). These functions will not be directly callable after loading.\n"
     ]
    },
    {
     "name": "stdout",
     "output_type": "stream",
     "text": [
      "INFO:tensorflow:Assets written to: /Users/yukahatori/A_Fairness/FairnessML_git/LSTM-BasicModel/WeatherModelx/assets\n"
     ]
    },
    {
     "name": "stderr",
     "output_type": "stream",
     "text": [
      "INFO:tensorflow:Assets written to: /Users/yukahatori/A_Fairness/FairnessML_git/LSTM-BasicModel/WeatherModelx/assets\n",
      "WARNING:absl:<keras.layers.recurrent.LSTMCell object at 0x7f8f0b98dc70> has the same name 'LSTMCell' as a built-in Keras object. Consider renaming <class 'keras.layers.recurrent.LSTMCell'> to avoid naming conflicts when loading with `tf.keras.models.load_model`. If renaming is not possible, pass the object in the `custom_objects` parameter of the load function.\n"
     ]
    },
    {
     "name": "stdout",
     "output_type": "stream",
     "text": [
      "247/247 [==============================] - 4s 16ms/step - loss: 4.4843e-04 - root_mean_squared_error: 0.0212 - val_loss: 0.0010 - val_root_mean_squared_error: 0.0321\n",
      "Epoch 6/20\n",
      "247/247 [==============================] - 1s 3ms/step - loss: 3.9622e-04 - root_mean_squared_error: 0.0199 - val_loss: 0.0013 - val_root_mean_squared_error: 0.0365\n",
      "Epoch 7/20\n",
      "241/247 [============================>.] - ETA: 0s - loss: 4.1106e-04 - root_mean_squared_error: 0.0203"
     ]
    },
    {
     "name": "stderr",
     "output_type": "stream",
     "text": [
      "WARNING:absl:Found untraced functions such as lstm_cell_156_layer_call_fn, lstm_cell_156_layer_call_and_return_conditional_losses, lstm_cell_156_layer_call_fn, lstm_cell_156_layer_call_and_return_conditional_losses, lstm_cell_156_layer_call_and_return_conditional_losses while saving (showing 5 of 5). These functions will not be directly callable after loading.\n"
     ]
    },
    {
     "name": "stdout",
     "output_type": "stream",
     "text": [
      "INFO:tensorflow:Assets written to: /Users/yukahatori/A_Fairness/FairnessML_git/LSTM-BasicModel/WeatherModelx/assets\n"
     ]
    },
    {
     "name": "stderr",
     "output_type": "stream",
     "text": [
      "INFO:tensorflow:Assets written to: /Users/yukahatori/A_Fairness/FairnessML_git/LSTM-BasicModel/WeatherModelx/assets\n",
      "WARNING:absl:<keras.layers.recurrent.LSTMCell object at 0x7f8f0b98dc70> has the same name 'LSTMCell' as a built-in Keras object. Consider renaming <class 'keras.layers.recurrent.LSTMCell'> to avoid naming conflicts when loading with `tf.keras.models.load_model`. If renaming is not possible, pass the object in the `custom_objects` parameter of the load function.\n"
     ]
    },
    {
     "name": "stdout",
     "output_type": "stream",
     "text": [
      "247/247 [==============================] - 4s 16ms/step - loss: 4.1006e-04 - root_mean_squared_error: 0.0203 - val_loss: 8.8866e-04 - val_root_mean_squared_error: 0.0298\n",
      "Epoch 8/20\n",
      "247/247 [==============================] - 1s 4ms/step - loss: 3.7380e-04 - root_mean_squared_error: 0.0193 - val_loss: 0.0011 - val_root_mean_squared_error: 0.0332\n",
      "Epoch 9/20\n",
      "247/247 [==============================] - 1s 3ms/step - loss: 3.7380e-04 - root_mean_squared_error: 0.0193 - val_loss: 9.1106e-04 - val_root_mean_squared_error: 0.0302\n",
      "Epoch 10/20\n",
      "245/247 [============================>.] - ETA: 0s - loss: 4.0184e-04 - root_mean_squared_error: 0.0200"
     ]
    },
    {
     "name": "stderr",
     "output_type": "stream",
     "text": [
      "WARNING:absl:Found untraced functions such as lstm_cell_156_layer_call_fn, lstm_cell_156_layer_call_and_return_conditional_losses, lstm_cell_156_layer_call_fn, lstm_cell_156_layer_call_and_return_conditional_losses, lstm_cell_156_layer_call_and_return_conditional_losses while saving (showing 5 of 5). These functions will not be directly callable after loading.\n"
     ]
    },
    {
     "name": "stdout",
     "output_type": "stream",
     "text": [
      "INFO:tensorflow:Assets written to: /Users/yukahatori/A_Fairness/FairnessML_git/LSTM-BasicModel/WeatherModelx/assets\n"
     ]
    },
    {
     "name": "stderr",
     "output_type": "stream",
     "text": [
      "INFO:tensorflow:Assets written to: /Users/yukahatori/A_Fairness/FairnessML_git/LSTM-BasicModel/WeatherModelx/assets\n",
      "WARNING:absl:<keras.layers.recurrent.LSTMCell object at 0x7f8f0b98dc70> has the same name 'LSTMCell' as a built-in Keras object. Consider renaming <class 'keras.layers.recurrent.LSTMCell'> to avoid naming conflicts when loading with `tf.keras.models.load_model`. If renaming is not possible, pass the object in the `custom_objects` parameter of the load function.\n"
     ]
    },
    {
     "name": "stdout",
     "output_type": "stream",
     "text": [
      "247/247 [==============================] - 4s 17ms/step - loss: 4.0140e-04 - root_mean_squared_error: 0.0200 - val_loss: 6.3346e-04 - val_root_mean_squared_error: 0.0252\n",
      "Epoch 11/20\n",
      "241/247 [============================>.] - ETA: 0s - loss: 3.5076e-04 - root_mean_squared_error: 0.0187"
     ]
    },
    {
     "name": "stderr",
     "output_type": "stream",
     "text": [
      "WARNING:absl:Found untraced functions such as lstm_cell_156_layer_call_fn, lstm_cell_156_layer_call_and_return_conditional_losses, lstm_cell_156_layer_call_fn, lstm_cell_156_layer_call_and_return_conditional_losses, lstm_cell_156_layer_call_and_return_conditional_losses while saving (showing 5 of 5). These functions will not be directly callable after loading.\n"
     ]
    },
    {
     "name": "stdout",
     "output_type": "stream",
     "text": [
      "INFO:tensorflow:Assets written to: /Users/yukahatori/A_Fairness/FairnessML_git/LSTM-BasicModel/WeatherModelx/assets\n"
     ]
    },
    {
     "name": "stderr",
     "output_type": "stream",
     "text": [
      "INFO:tensorflow:Assets written to: /Users/yukahatori/A_Fairness/FairnessML_git/LSTM-BasicModel/WeatherModelx/assets\n",
      "WARNING:absl:<keras.layers.recurrent.LSTMCell object at 0x7f8f0b98dc70> has the same name 'LSTMCell' as a built-in Keras object. Consider renaming <class 'keras.layers.recurrent.LSTMCell'> to avoid naming conflicts when loading with `tf.keras.models.load_model`. If renaming is not possible, pass the object in the `custom_objects` parameter of the load function.\n"
     ]
    },
    {
     "name": "stdout",
     "output_type": "stream",
     "text": [
      "247/247 [==============================] - 4s 17ms/step - loss: 3.5070e-04 - root_mean_squared_error: 0.0187 - val_loss: 5.9433e-04 - val_root_mean_squared_error: 0.0244\n",
      "Epoch 12/20\n",
      "235/247 [===========================>..] - ETA: 0s - loss: 3.5653e-04 - root_mean_squared_error: 0.0189"
     ]
    },
    {
     "name": "stderr",
     "output_type": "stream",
     "text": [
      "WARNING:absl:Found untraced functions such as lstm_cell_156_layer_call_fn, lstm_cell_156_layer_call_and_return_conditional_losses, lstm_cell_156_layer_call_fn, lstm_cell_156_layer_call_and_return_conditional_losses, lstm_cell_156_layer_call_and_return_conditional_losses while saving (showing 5 of 5). These functions will not be directly callable after loading.\n"
     ]
    },
    {
     "name": "stdout",
     "output_type": "stream",
     "text": [
      "INFO:tensorflow:Assets written to: /Users/yukahatori/A_Fairness/FairnessML_git/LSTM-BasicModel/WeatherModelx/assets\n"
     ]
    },
    {
     "name": "stderr",
     "output_type": "stream",
     "text": [
      "INFO:tensorflow:Assets written to: /Users/yukahatori/A_Fairness/FairnessML_git/LSTM-BasicModel/WeatherModelx/assets\n",
      "WARNING:absl:<keras.layers.recurrent.LSTMCell object at 0x7f8f0b98dc70> has the same name 'LSTMCell' as a built-in Keras object. Consider renaming <class 'keras.layers.recurrent.LSTMCell'> to avoid naming conflicts when loading with `tf.keras.models.load_model`. If renaming is not possible, pass the object in the `custom_objects` parameter of the load function.\n"
     ]
    },
    {
     "name": "stdout",
     "output_type": "stream",
     "text": [
      "247/247 [==============================] - 4s 14ms/step - loss: 3.5423e-04 - root_mean_squared_error: 0.0188 - val_loss: 5.4952e-04 - val_root_mean_squared_error: 0.0234\n",
      "Epoch 13/20\n",
      "241/247 [============================>.] - ETA: 0s - loss: 3.5571e-04 - root_mean_squared_error: 0.0189"
     ]
    },
    {
     "name": "stderr",
     "output_type": "stream",
     "text": [
      "WARNING:absl:Found untraced functions such as lstm_cell_156_layer_call_fn, lstm_cell_156_layer_call_and_return_conditional_losses, lstm_cell_156_layer_call_fn, lstm_cell_156_layer_call_and_return_conditional_losses, lstm_cell_156_layer_call_and_return_conditional_losses while saving (showing 5 of 5). These functions will not be directly callable after loading.\n"
     ]
    },
    {
     "name": "stdout",
     "output_type": "stream",
     "text": [
      "INFO:tensorflow:Assets written to: /Users/yukahatori/A_Fairness/FairnessML_git/LSTM-BasicModel/WeatherModelx/assets\n"
     ]
    },
    {
     "name": "stderr",
     "output_type": "stream",
     "text": [
      "INFO:tensorflow:Assets written to: /Users/yukahatori/A_Fairness/FairnessML_git/LSTM-BasicModel/WeatherModelx/assets\n",
      "WARNING:absl:<keras.layers.recurrent.LSTMCell object at 0x7f8f0b98dc70> has the same name 'LSTMCell' as a built-in Keras object. Consider renaming <class 'keras.layers.recurrent.LSTMCell'> to avoid naming conflicts when loading with `tf.keras.models.load_model`. If renaming is not possible, pass the object in the `custom_objects` parameter of the load function.\n"
     ]
    },
    {
     "name": "stdout",
     "output_type": "stream",
     "text": [
      "247/247 [==============================] - 4s 16ms/step - loss: 3.5525e-04 - root_mean_squared_error: 0.0188 - val_loss: 5.3625e-04 - val_root_mean_squared_error: 0.0232\n",
      "Epoch 14/20\n",
      "247/247 [==============================] - 1s 3ms/step - loss: 3.5787e-04 - root_mean_squared_error: 0.0189 - val_loss: 7.3134e-04 - val_root_mean_squared_error: 0.0270\n",
      "Epoch 15/20\n",
      "247/247 [==============================] - 1s 3ms/step - loss: 3.3997e-04 - root_mean_squared_error: 0.0184 - val_loss: 0.0012 - val_root_mean_squared_error: 0.0342\n",
      "Epoch 16/20\n",
      "247/247 [==============================] - 1s 3ms/step - loss: 3.4428e-04 - root_mean_squared_error: 0.0186 - val_loss: 0.0013 - val_root_mean_squared_error: 0.0361\n",
      "Epoch 17/20\n",
      "247/247 [==============================] - 1s 3ms/step - loss: 3.3305e-04 - root_mean_squared_error: 0.0182 - val_loss: 7.4160e-04 - val_root_mean_squared_error: 0.0272\n",
      "Epoch 18/20\n",
      "247/247 [==============================] - 1s 3ms/step - loss: 3.2842e-04 - root_mean_squared_error: 0.0181 - val_loss: 6.3635e-04 - val_root_mean_squared_error: 0.0252\n",
      "Epoch 19/20\n",
      "247/247 [==============================] - 1s 3ms/step - loss: 3.5791e-04 - root_mean_squared_error: 0.0189 - val_loss: 5.9754e-04 - val_root_mean_squared_error: 0.0244\n",
      "Epoch 20/20\n",
      "247/247 [==============================] - 1s 3ms/step - loss: 3.3748e-04 - root_mean_squared_error: 0.0184 - val_loss: 7.2837e-04 - val_root_mean_squared_error: 0.0270\n",
      "RMSE value:  0.017597239119140684\n",
      "Epoch 1/20\n",
      "233/247 [===========================>..] - ETA: 0s - loss: 0.0174 - root_mean_squared_error: 0.1318"
     ]
    },
    {
     "name": "stderr",
     "output_type": "stream",
     "text": [
      "WARNING:absl:Found untraced functions such as lstm_cell_157_layer_call_fn, lstm_cell_157_layer_call_and_return_conditional_losses, lstm_cell_157_layer_call_fn, lstm_cell_157_layer_call_and_return_conditional_losses, lstm_cell_157_layer_call_and_return_conditional_losses while saving (showing 5 of 5). These functions will not be directly callable after loading.\n"
     ]
    },
    {
     "name": "stdout",
     "output_type": "stream",
     "text": [
      "INFO:tensorflow:Assets written to: /Users/yukahatori/A_Fairness/FairnessML_git/LSTM-BasicModel/WeatherModelx/assets\n"
     ]
    },
    {
     "name": "stderr",
     "output_type": "stream",
     "text": [
      "INFO:tensorflow:Assets written to: /Users/yukahatori/A_Fairness/FairnessML_git/LSTM-BasicModel/WeatherModelx/assets\n",
      "WARNING:absl:<keras.layers.recurrent.LSTMCell object at 0x7f8eced77f10> has the same name 'LSTMCell' as a built-in Keras object. Consider renaming <class 'keras.layers.recurrent.LSTMCell'> to avoid naming conflicts when loading with `tf.keras.models.load_model`. If renaming is not possible, pass the object in the `custom_objects` parameter of the load function.\n"
     ]
    },
    {
     "name": "stdout",
     "output_type": "stream",
     "text": [
      "247/247 [==============================] - 6s 18ms/step - loss: 0.0165 - root_mean_squared_error: 0.1284 - val_loss: 0.0039 - val_root_mean_squared_error: 0.0625\n",
      "Epoch 2/20\n",
      "247/247 [==============================] - ETA: 0s - loss: 8.3486e-04 - root_mean_squared_error: 0.0289"
     ]
    },
    {
     "name": "stderr",
     "output_type": "stream",
     "text": [
      "WARNING:absl:Found untraced functions such as lstm_cell_157_layer_call_fn, lstm_cell_157_layer_call_and_return_conditional_losses, lstm_cell_157_layer_call_fn, lstm_cell_157_layer_call_and_return_conditional_losses, lstm_cell_157_layer_call_and_return_conditional_losses while saving (showing 5 of 5). These functions will not be directly callable after loading.\n"
     ]
    },
    {
     "name": "stdout",
     "output_type": "stream",
     "text": [
      "INFO:tensorflow:Assets written to: /Users/yukahatori/A_Fairness/FairnessML_git/LSTM-BasicModel/WeatherModelx/assets\n"
     ]
    },
    {
     "name": "stderr",
     "output_type": "stream",
     "text": [
      "INFO:tensorflow:Assets written to: /Users/yukahatori/A_Fairness/FairnessML_git/LSTM-BasicModel/WeatherModelx/assets\n",
      "WARNING:absl:<keras.layers.recurrent.LSTMCell object at 0x7f8eced77f10> has the same name 'LSTMCell' as a built-in Keras object. Consider renaming <class 'keras.layers.recurrent.LSTMCell'> to avoid naming conflicts when loading with `tf.keras.models.load_model`. If renaming is not possible, pass the object in the `custom_objects` parameter of the load function.\n"
     ]
    },
    {
     "name": "stdout",
     "output_type": "stream",
     "text": [
      "247/247 [==============================] - 4s 16ms/step - loss: 8.3486e-04 - root_mean_squared_error: 0.0289 - val_loss: 0.0022 - val_root_mean_squared_error: 0.0471\n",
      "Epoch 3/20\n",
      "226/247 [==========================>...] - ETA: 0s - loss: 6.4356e-04 - root_mean_squared_error: 0.0254"
     ]
    },
    {
     "name": "stderr",
     "output_type": "stream",
     "text": [
      "WARNING:absl:Found untraced functions such as lstm_cell_157_layer_call_fn, lstm_cell_157_layer_call_and_return_conditional_losses, lstm_cell_157_layer_call_fn, lstm_cell_157_layer_call_and_return_conditional_losses, lstm_cell_157_layer_call_and_return_conditional_losses while saving (showing 5 of 5). These functions will not be directly callable after loading.\n"
     ]
    },
    {
     "name": "stdout",
     "output_type": "stream",
     "text": [
      "INFO:tensorflow:Assets written to: /Users/yukahatori/A_Fairness/FairnessML_git/LSTM-BasicModel/WeatherModelx/assets\n"
     ]
    },
    {
     "name": "stderr",
     "output_type": "stream",
     "text": [
      "INFO:tensorflow:Assets written to: /Users/yukahatori/A_Fairness/FairnessML_git/LSTM-BasicModel/WeatherModelx/assets\n",
      "WARNING:absl:<keras.layers.recurrent.LSTMCell object at 0x7f8eced77f10> has the same name 'LSTMCell' as a built-in Keras object. Consider renaming <class 'keras.layers.recurrent.LSTMCell'> to avoid naming conflicts when loading with `tf.keras.models.load_model`. If renaming is not possible, pass the object in the `custom_objects` parameter of the load function.\n"
     ]
    },
    {
     "name": "stdout",
     "output_type": "stream",
     "text": [
      "247/247 [==============================] - 4s 16ms/step - loss: 6.4150e-04 - root_mean_squared_error: 0.0253 - val_loss: 0.0013 - val_root_mean_squared_error: 0.0361\n",
      "Epoch 4/20\n",
      "233/247 [===========================>..] - ETA: 0s - loss: 5.3750e-04 - root_mean_squared_error: 0.0232"
     ]
    },
    {
     "name": "stderr",
     "output_type": "stream",
     "text": [
      "WARNING:absl:Found untraced functions such as lstm_cell_157_layer_call_fn, lstm_cell_157_layer_call_and_return_conditional_losses, lstm_cell_157_layer_call_fn, lstm_cell_157_layer_call_and_return_conditional_losses, lstm_cell_157_layer_call_and_return_conditional_losses while saving (showing 5 of 5). These functions will not be directly callable after loading.\n"
     ]
    },
    {
     "name": "stdout",
     "output_type": "stream",
     "text": [
      "INFO:tensorflow:Assets written to: /Users/yukahatori/A_Fairness/FairnessML_git/LSTM-BasicModel/WeatherModelx/assets\n"
     ]
    },
    {
     "name": "stderr",
     "output_type": "stream",
     "text": [
      "INFO:tensorflow:Assets written to: /Users/yukahatori/A_Fairness/FairnessML_git/LSTM-BasicModel/WeatherModelx/assets\n",
      "WARNING:absl:<keras.layers.recurrent.LSTMCell object at 0x7f8eced77f10> has the same name 'LSTMCell' as a built-in Keras object. Consider renaming <class 'keras.layers.recurrent.LSTMCell'> to avoid naming conflicts when loading with `tf.keras.models.load_model`. If renaming is not possible, pass the object in the `custom_objects` parameter of the load function.\n"
     ]
    },
    {
     "name": "stdout",
     "output_type": "stream",
     "text": [
      "247/247 [==============================] - 4s 17ms/step - loss: 5.3033e-04 - root_mean_squared_error: 0.0230 - val_loss: 0.0010 - val_root_mean_squared_error: 0.0324\n",
      "Epoch 5/20\n",
      "247/247 [==============================] - 1s 3ms/step - loss: 4.7058e-04 - root_mean_squared_error: 0.0217 - val_loss: 0.0014 - val_root_mean_squared_error: 0.0374\n",
      "Epoch 6/20\n",
      "247/247 [==============================] - 1s 3ms/step - loss: 4.2139e-04 - root_mean_squared_error: 0.0205 - val_loss: 0.0012 - val_root_mean_squared_error: 0.0343\n",
      "Epoch 7/20\n",
      "247/247 [==============================] - 1s 3ms/step - loss: 3.9648e-04 - root_mean_squared_error: 0.0199 - val_loss: 0.0011 - val_root_mean_squared_error: 0.0329\n",
      "Epoch 8/20\n",
      "237/247 [===========================>..] - ETA: 0s - loss: 3.9378e-04 - root_mean_squared_error: 0.0198"
     ]
    },
    {
     "name": "stderr",
     "output_type": "stream",
     "text": [
      "WARNING:absl:Found untraced functions such as lstm_cell_157_layer_call_fn, lstm_cell_157_layer_call_and_return_conditional_losses, lstm_cell_157_layer_call_fn, lstm_cell_157_layer_call_and_return_conditional_losses, lstm_cell_157_layer_call_and_return_conditional_losses while saving (showing 5 of 5). These functions will not be directly callable after loading.\n"
     ]
    },
    {
     "name": "stdout",
     "output_type": "stream",
     "text": [
      "INFO:tensorflow:Assets written to: /Users/yukahatori/A_Fairness/FairnessML_git/LSTM-BasicModel/WeatherModelx/assets\n"
     ]
    },
    {
     "name": "stderr",
     "output_type": "stream",
     "text": [
      "INFO:tensorflow:Assets written to: /Users/yukahatori/A_Fairness/FairnessML_git/LSTM-BasicModel/WeatherModelx/assets\n",
      "WARNING:absl:<keras.layers.recurrent.LSTMCell object at 0x7f8eced77f10> has the same name 'LSTMCell' as a built-in Keras object. Consider renaming <class 'keras.layers.recurrent.LSTMCell'> to avoid naming conflicts when loading with `tf.keras.models.load_model`. If renaming is not possible, pass the object in the `custom_objects` parameter of the load function.\n"
     ]
    },
    {
     "name": "stdout",
     "output_type": "stream",
     "text": [
      "247/247 [==============================] - 5s 19ms/step - loss: 3.9433e-04 - root_mean_squared_error: 0.0199 - val_loss: 0.0010 - val_root_mean_squared_error: 0.0319\n",
      "Epoch 9/20\n",
      "242/247 [============================>.] - ETA: 0s - loss: 3.7426e-04 - root_mean_squared_error: 0.0193"
     ]
    },
    {
     "name": "stderr",
     "output_type": "stream",
     "text": [
      "WARNING:absl:Found untraced functions such as lstm_cell_157_layer_call_fn, lstm_cell_157_layer_call_and_return_conditional_losses, lstm_cell_157_layer_call_fn, lstm_cell_157_layer_call_and_return_conditional_losses, lstm_cell_157_layer_call_and_return_conditional_losses while saving (showing 5 of 5). These functions will not be directly callable after loading.\n"
     ]
    },
    {
     "name": "stdout",
     "output_type": "stream",
     "text": [
      "INFO:tensorflow:Assets written to: /Users/yukahatori/A_Fairness/FairnessML_git/LSTM-BasicModel/WeatherModelx/assets\n"
     ]
    },
    {
     "name": "stderr",
     "output_type": "stream",
     "text": [
      "INFO:tensorflow:Assets written to: /Users/yukahatori/A_Fairness/FairnessML_git/LSTM-BasicModel/WeatherModelx/assets\n",
      "WARNING:absl:<keras.layers.recurrent.LSTMCell object at 0x7f8eced77f10> has the same name 'LSTMCell' as a built-in Keras object. Consider renaming <class 'keras.layers.recurrent.LSTMCell'> to avoid naming conflicts when loading with `tf.keras.models.load_model`. If renaming is not possible, pass the object in the `custom_objects` parameter of the load function.\n"
     ]
    },
    {
     "name": "stdout",
     "output_type": "stream",
     "text": [
      "247/247 [==============================] - 5s 20ms/step - loss: 3.7478e-04 - root_mean_squared_error: 0.0194 - val_loss: 9.1519e-04 - val_root_mean_squared_error: 0.0303\n",
      "Epoch 10/20\n",
      "247/247 [==============================] - 1s 3ms/step - loss: 3.7327e-04 - root_mean_squared_error: 0.0193 - val_loss: 0.0011 - val_root_mean_squared_error: 0.0336\n",
      "Epoch 11/20\n",
      "247/247 [==============================] - 1s 3ms/step - loss: 3.7496e-04 - root_mean_squared_error: 0.0194 - val_loss: 0.0010 - val_root_mean_squared_error: 0.0316\n",
      "Epoch 12/20\n",
      "243/247 [============================>.] - ETA: 0s - loss: 3.5368e-04 - root_mean_squared_error: 0.0188"
     ]
    },
    {
     "name": "stderr",
     "output_type": "stream",
     "text": [
      "WARNING:absl:Found untraced functions such as lstm_cell_157_layer_call_fn, lstm_cell_157_layer_call_and_return_conditional_losses, lstm_cell_157_layer_call_fn, lstm_cell_157_layer_call_and_return_conditional_losses, lstm_cell_157_layer_call_and_return_conditional_losses while saving (showing 5 of 5). These functions will not be directly callable after loading.\n"
     ]
    },
    {
     "name": "stdout",
     "output_type": "stream",
     "text": [
      "INFO:tensorflow:Assets written to: /Users/yukahatori/A_Fairness/FairnessML_git/LSTM-BasicModel/WeatherModelx/assets\n"
     ]
    },
    {
     "name": "stderr",
     "output_type": "stream",
     "text": [
      "INFO:tensorflow:Assets written to: /Users/yukahatori/A_Fairness/FairnessML_git/LSTM-BasicModel/WeatherModelx/assets\n",
      "WARNING:absl:<keras.layers.recurrent.LSTMCell object at 0x7f8eced77f10> has the same name 'LSTMCell' as a built-in Keras object. Consider renaming <class 'keras.layers.recurrent.LSTMCell'> to avoid naming conflicts when loading with `tf.keras.models.load_model`. If renaming is not possible, pass the object in the `custom_objects` parameter of the load function.\n"
     ]
    },
    {
     "name": "stdout",
     "output_type": "stream",
     "text": [
      "247/247 [==============================] - 4s 18ms/step - loss: 3.5314e-04 - root_mean_squared_error: 0.0188 - val_loss: 6.3647e-04 - val_root_mean_squared_error: 0.0252\n",
      "Epoch 13/20\n",
      "247/247 [==============================] - 1s 3ms/step - loss: 3.4092e-04 - root_mean_squared_error: 0.0185 - val_loss: 0.0011 - val_root_mean_squared_error: 0.0330\n",
      "Epoch 14/20\n",
      "236/247 [===========================>..] - ETA: 0s - loss: 3.3665e-04 - root_mean_squared_error: 0.0183"
     ]
    },
    {
     "name": "stderr",
     "output_type": "stream",
     "text": [
      "WARNING:absl:Found untraced functions such as lstm_cell_157_layer_call_fn, lstm_cell_157_layer_call_and_return_conditional_losses, lstm_cell_157_layer_call_fn, lstm_cell_157_layer_call_and_return_conditional_losses, lstm_cell_157_layer_call_and_return_conditional_losses while saving (showing 5 of 5). These functions will not be directly callable after loading.\n"
     ]
    },
    {
     "name": "stdout",
     "output_type": "stream",
     "text": [
      "INFO:tensorflow:Assets written to: /Users/yukahatori/A_Fairness/FairnessML_git/LSTM-BasicModel/WeatherModelx/assets\n"
     ]
    },
    {
     "name": "stderr",
     "output_type": "stream",
     "text": [
      "INFO:tensorflow:Assets written to: /Users/yukahatori/A_Fairness/FairnessML_git/LSTM-BasicModel/WeatherModelx/assets\n",
      "WARNING:absl:<keras.layers.recurrent.LSTMCell object at 0x7f8eced77f10> has the same name 'LSTMCell' as a built-in Keras object. Consider renaming <class 'keras.layers.recurrent.LSTMCell'> to avoid naming conflicts when loading with `tf.keras.models.load_model`. If renaming is not possible, pass the object in the `custom_objects` parameter of the load function.\n"
     ]
    },
    {
     "name": "stdout",
     "output_type": "stream",
     "text": [
      "247/247 [==============================] - 3s 14ms/step - loss: 3.3682e-04 - root_mean_squared_error: 0.0184 - val_loss: 4.9482e-04 - val_root_mean_squared_error: 0.0222\n",
      "Epoch 15/20\n",
      "247/247 [==============================] - 1s 3ms/step - loss: 3.3998e-04 - root_mean_squared_error: 0.0184 - val_loss: 7.7755e-04 - val_root_mean_squared_error: 0.0279\n",
      "Epoch 16/20\n",
      "247/247 [==============================] - 1s 3ms/step - loss: 3.3416e-04 - root_mean_squared_error: 0.0183 - val_loss: 6.9675e-04 - val_root_mean_squared_error: 0.0264\n",
      "Epoch 17/20\n",
      "247/247 [==============================] - 1s 3ms/step - loss: 3.3553e-04 - root_mean_squared_error: 0.0183 - val_loss: 9.7994e-04 - val_root_mean_squared_error: 0.0313\n",
      "Epoch 18/20\n",
      "247/247 [==============================] - 1s 3ms/step - loss: 3.4126e-04 - root_mean_squared_error: 0.0185 - val_loss: 8.4807e-04 - val_root_mean_squared_error: 0.0291\n",
      "Epoch 19/20\n",
      "247/247 [==============================] - 1s 3ms/step - loss: 3.3135e-04 - root_mean_squared_error: 0.0182 - val_loss: 9.3545e-04 - val_root_mean_squared_error: 0.0306\n",
      "Epoch 20/20\n",
      "247/247 [==============================] - 1s 3ms/step - loss: 3.3535e-04 - root_mean_squared_error: 0.0183 - val_loss: 6.2538e-04 - val_root_mean_squared_error: 0.0250\n",
      "RMSE value:  0.01846090665694335\n",
      "Epoch 1/20\n",
      "246/247 [============================>.] - ETA: 0s - loss: 0.0130 - root_mean_squared_error: 0.1139"
     ]
    },
    {
     "name": "stderr",
     "output_type": "stream",
     "text": [
      "WARNING:absl:Found untraced functions such as lstm_cell_158_layer_call_fn, lstm_cell_158_layer_call_and_return_conditional_losses, lstm_cell_158_layer_call_fn, lstm_cell_158_layer_call_and_return_conditional_losses, lstm_cell_158_layer_call_and_return_conditional_losses while saving (showing 5 of 5). These functions will not be directly callable after loading.\n"
     ]
    },
    {
     "name": "stdout",
     "output_type": "stream",
     "text": [
      "INFO:tensorflow:Assets written to: /Users/yukahatori/A_Fairness/FairnessML_git/LSTM-BasicModel/WeatherModelx/assets\n"
     ]
    },
    {
     "name": "stderr",
     "output_type": "stream",
     "text": [
      "INFO:tensorflow:Assets written to: /Users/yukahatori/A_Fairness/FairnessML_git/LSTM-BasicModel/WeatherModelx/assets\n",
      "WARNING:absl:<keras.layers.recurrent.LSTMCell object at 0x7f8ede4f0cd0> has the same name 'LSTMCell' as a built-in Keras object. Consider renaming <class 'keras.layers.recurrent.LSTMCell'> to avoid naming conflicts when loading with `tf.keras.models.load_model`. If renaming is not possible, pass the object in the `custom_objects` parameter of the load function.\n"
     ]
    },
    {
     "name": "stdout",
     "output_type": "stream",
     "text": [
      "247/247 [==============================] - 6s 19ms/step - loss: 0.0130 - root_mean_squared_error: 0.1138 - val_loss: 0.0031 - val_root_mean_squared_error: 0.0560\n",
      "Epoch 2/20\n",
      "235/247 [===========================>..] - ETA: 0s - loss: 7.7274e-04 - root_mean_squared_error: 0.0278"
     ]
    },
    {
     "name": "stderr",
     "output_type": "stream",
     "text": [
      "WARNING:absl:Found untraced functions such as lstm_cell_158_layer_call_fn, lstm_cell_158_layer_call_and_return_conditional_losses, lstm_cell_158_layer_call_fn, lstm_cell_158_layer_call_and_return_conditional_losses, lstm_cell_158_layer_call_and_return_conditional_losses while saving (showing 5 of 5). These functions will not be directly callable after loading.\n"
     ]
    },
    {
     "name": "stdout",
     "output_type": "stream",
     "text": [
      "INFO:tensorflow:Assets written to: /Users/yukahatori/A_Fairness/FairnessML_git/LSTM-BasicModel/WeatherModelx/assets\n"
     ]
    },
    {
     "name": "stderr",
     "output_type": "stream",
     "text": [
      "INFO:tensorflow:Assets written to: /Users/yukahatori/A_Fairness/FairnessML_git/LSTM-BasicModel/WeatherModelx/assets\n",
      "WARNING:absl:<keras.layers.recurrent.LSTMCell object at 0x7f8ede4f0cd0> has the same name 'LSTMCell' as a built-in Keras object. Consider renaming <class 'keras.layers.recurrent.LSTMCell'> to avoid naming conflicts when loading with `tf.keras.models.load_model`. If renaming is not possible, pass the object in the `custom_objects` parameter of the load function.\n"
     ]
    },
    {
     "name": "stdout",
     "output_type": "stream",
     "text": [
      "247/247 [==============================] - 4s 15ms/step - loss: 7.6617e-04 - root_mean_squared_error: 0.0277 - val_loss: 0.0031 - val_root_mean_squared_error: 0.0555\n",
      "Epoch 3/20\n",
      "227/247 [==========================>...] - ETA: 0s - loss: 6.0406e-04 - root_mean_squared_error: 0.0246"
     ]
    },
    {
     "name": "stderr",
     "output_type": "stream",
     "text": [
      "WARNING:absl:Found untraced functions such as lstm_cell_158_layer_call_fn, lstm_cell_158_layer_call_and_return_conditional_losses, lstm_cell_158_layer_call_fn, lstm_cell_158_layer_call_and_return_conditional_losses, lstm_cell_158_layer_call_and_return_conditional_losses while saving (showing 5 of 5). These functions will not be directly callable after loading.\n"
     ]
    },
    {
     "name": "stdout",
     "output_type": "stream",
     "text": [
      "INFO:tensorflow:Assets written to: /Users/yukahatori/A_Fairness/FairnessML_git/LSTM-BasicModel/WeatherModelx/assets\n"
     ]
    },
    {
     "name": "stderr",
     "output_type": "stream",
     "text": [
      "INFO:tensorflow:Assets written to: /Users/yukahatori/A_Fairness/FairnessML_git/LSTM-BasicModel/WeatherModelx/assets\n",
      "WARNING:absl:<keras.layers.recurrent.LSTMCell object at 0x7f8ede4f0cd0> has the same name 'LSTMCell' as a built-in Keras object. Consider renaming <class 'keras.layers.recurrent.LSTMCell'> to avoid naming conflicts when loading with `tf.keras.models.load_model`. If renaming is not possible, pass the object in the `custom_objects` parameter of the load function.\n"
     ]
    },
    {
     "name": "stdout",
     "output_type": "stream",
     "text": [
      "247/247 [==============================] - 4s 16ms/step - loss: 5.9704e-04 - root_mean_squared_error: 0.0244 - val_loss: 0.0016 - val_root_mean_squared_error: 0.0404\n",
      "Epoch 4/20\n",
      "247/247 [==============================] - 1s 2ms/step - loss: 4.7421e-04 - root_mean_squared_error: 0.0218 - val_loss: 0.0018 - val_root_mean_squared_error: 0.0423\n",
      "Epoch 5/20\n",
      "242/247 [============================>.] - ETA: 0s - loss: 4.2164e-04 - root_mean_squared_error: 0.0205"
     ]
    },
    {
     "name": "stderr",
     "output_type": "stream",
     "text": [
      "WARNING:absl:Found untraced functions such as lstm_cell_158_layer_call_fn, lstm_cell_158_layer_call_and_return_conditional_losses, lstm_cell_158_layer_call_fn, lstm_cell_158_layer_call_and_return_conditional_losses, lstm_cell_158_layer_call_and_return_conditional_losses while saving (showing 5 of 5). These functions will not be directly callable after loading.\n"
     ]
    },
    {
     "name": "stdout",
     "output_type": "stream",
     "text": [
      "INFO:tensorflow:Assets written to: /Users/yukahatori/A_Fairness/FairnessML_git/LSTM-BasicModel/WeatherModelx/assets\n"
     ]
    },
    {
     "name": "stderr",
     "output_type": "stream",
     "text": [
      "INFO:tensorflow:Assets written to: /Users/yukahatori/A_Fairness/FairnessML_git/LSTM-BasicModel/WeatherModelx/assets\n",
      "WARNING:absl:<keras.layers.recurrent.LSTMCell object at 0x7f8ede4f0cd0> has the same name 'LSTMCell' as a built-in Keras object. Consider renaming <class 'keras.layers.recurrent.LSTMCell'> to avoid naming conflicts when loading with `tf.keras.models.load_model`. If renaming is not possible, pass the object in the `custom_objects` parameter of the load function.\n"
     ]
    },
    {
     "name": "stdout",
     "output_type": "stream",
     "text": [
      "247/247 [==============================] - 3s 13ms/step - loss: 4.2187e-04 - root_mean_squared_error: 0.0205 - val_loss: 0.0012 - val_root_mean_squared_error: 0.0353\n",
      "Epoch 6/20\n",
      "235/247 [===========================>..] - ETA: 0s - loss: 4.3374e-04 - root_mean_squared_error: 0.0208"
     ]
    },
    {
     "name": "stderr",
     "output_type": "stream",
     "text": [
      "WARNING:absl:Found untraced functions such as lstm_cell_158_layer_call_fn, lstm_cell_158_layer_call_and_return_conditional_losses, lstm_cell_158_layer_call_fn, lstm_cell_158_layer_call_and_return_conditional_losses, lstm_cell_158_layer_call_and_return_conditional_losses while saving (showing 5 of 5). These functions will not be directly callable after loading.\n"
     ]
    },
    {
     "name": "stdout",
     "output_type": "stream",
     "text": [
      "INFO:tensorflow:Assets written to: /Users/yukahatori/A_Fairness/FairnessML_git/LSTM-BasicModel/WeatherModelx/assets\n"
     ]
    },
    {
     "name": "stderr",
     "output_type": "stream",
     "text": [
      "INFO:tensorflow:Assets written to: /Users/yukahatori/A_Fairness/FairnessML_git/LSTM-BasicModel/WeatherModelx/assets\n",
      "WARNING:absl:<keras.layers.recurrent.LSTMCell object at 0x7f8ede4f0cd0> has the same name 'LSTMCell' as a built-in Keras object. Consider renaming <class 'keras.layers.recurrent.LSTMCell'> to avoid naming conflicts when loading with `tf.keras.models.load_model`. If renaming is not possible, pass the object in the `custom_objects` parameter of the load function.\n"
     ]
    },
    {
     "name": "stdout",
     "output_type": "stream",
     "text": [
      "247/247 [==============================] - 4s 15ms/step - loss: 4.3042e-04 - root_mean_squared_error: 0.0207 - val_loss: 9.4499e-04 - val_root_mean_squared_error: 0.0307\n",
      "Epoch 7/20\n",
      "247/247 [==============================] - 1s 3ms/step - loss: 4.0224e-04 - root_mean_squared_error: 0.0201 - val_loss: 0.0010 - val_root_mean_squared_error: 0.0317\n",
      "Epoch 8/20\n",
      "242/247 [============================>.] - ETA: 0s - loss: 3.7482e-04 - root_mean_squared_error: 0.0194"
     ]
    },
    {
     "name": "stderr",
     "output_type": "stream",
     "text": [
      "WARNING:absl:Found untraced functions such as lstm_cell_158_layer_call_fn, lstm_cell_158_layer_call_and_return_conditional_losses, lstm_cell_158_layer_call_fn, lstm_cell_158_layer_call_and_return_conditional_losses, lstm_cell_158_layer_call_and_return_conditional_losses while saving (showing 5 of 5). These functions will not be directly callable after loading.\n"
     ]
    },
    {
     "name": "stdout",
     "output_type": "stream",
     "text": [
      "INFO:tensorflow:Assets written to: /Users/yukahatori/A_Fairness/FairnessML_git/LSTM-BasicModel/WeatherModelx/assets\n"
     ]
    },
    {
     "name": "stderr",
     "output_type": "stream",
     "text": [
      "INFO:tensorflow:Assets written to: /Users/yukahatori/A_Fairness/FairnessML_git/LSTM-BasicModel/WeatherModelx/assets\n",
      "WARNING:absl:<keras.layers.recurrent.LSTMCell object at 0x7f8ede4f0cd0> has the same name 'LSTMCell' as a built-in Keras object. Consider renaming <class 'keras.layers.recurrent.LSTMCell'> to avoid naming conflicts when loading with `tf.keras.models.load_model`. If renaming is not possible, pass the object in the `custom_objects` parameter of the load function.\n"
     ]
    },
    {
     "name": "stdout",
     "output_type": "stream",
     "text": [
      "247/247 [==============================] - 4s 15ms/step - loss: 3.7493e-04 - root_mean_squared_error: 0.0194 - val_loss: 6.3845e-04 - val_root_mean_squared_error: 0.0253\n",
      "Epoch 9/20\n",
      "247/247 [==============================] - 1s 3ms/step - loss: 3.9025e-04 - root_mean_squared_error: 0.0198 - val_loss: 6.8203e-04 - val_root_mean_squared_error: 0.0261\n",
      "Epoch 10/20\n",
      "227/247 [==========================>...] - ETA: 0s - loss: 3.6696e-04 - root_mean_squared_error: 0.0192"
     ]
    },
    {
     "name": "stderr",
     "output_type": "stream",
     "text": [
      "WARNING:absl:Found untraced functions such as lstm_cell_158_layer_call_fn, lstm_cell_158_layer_call_and_return_conditional_losses, lstm_cell_158_layer_call_fn, lstm_cell_158_layer_call_and_return_conditional_losses, lstm_cell_158_layer_call_and_return_conditional_losses while saving (showing 5 of 5). These functions will not be directly callable after loading.\n"
     ]
    },
    {
     "name": "stdout",
     "output_type": "stream",
     "text": [
      "INFO:tensorflow:Assets written to: /Users/yukahatori/A_Fairness/FairnessML_git/LSTM-BasicModel/WeatherModelx/assets\n"
     ]
    },
    {
     "name": "stderr",
     "output_type": "stream",
     "text": [
      "INFO:tensorflow:Assets written to: /Users/yukahatori/A_Fairness/FairnessML_git/LSTM-BasicModel/WeatherModelx/assets\n",
      "WARNING:absl:<keras.layers.recurrent.LSTMCell object at 0x7f8ede4f0cd0> has the same name 'LSTMCell' as a built-in Keras object. Consider renaming <class 'keras.layers.recurrent.LSTMCell'> to avoid naming conflicts when loading with `tf.keras.models.load_model`. If renaming is not possible, pass the object in the `custom_objects` parameter of the load function.\n"
     ]
    },
    {
     "name": "stdout",
     "output_type": "stream",
     "text": [
      "247/247 [==============================] - 4s 17ms/step - loss: 3.6602e-04 - root_mean_squared_error: 0.0191 - val_loss: 5.4229e-04 - val_root_mean_squared_error: 0.0233\n",
      "Epoch 11/20\n",
      "247/247 [==============================] - 1s 2ms/step - loss: 3.6049e-04 - root_mean_squared_error: 0.0190 - val_loss: 7.6472e-04 - val_root_mean_squared_error: 0.0277\n",
      "Epoch 12/20\n",
      "247/247 [==============================] - 1s 2ms/step - loss: 3.5736e-04 - root_mean_squared_error: 0.0189 - val_loss: 6.1002e-04 - val_root_mean_squared_error: 0.0247\n",
      "Epoch 13/20\n",
      "247/247 [==============================] - 1s 2ms/step - loss: 3.9143e-04 - root_mean_squared_error: 0.0198 - val_loss: 7.8158e-04 - val_root_mean_squared_error: 0.0280\n",
      "Epoch 14/20\n",
      "237/247 [===========================>..] - ETA: 0s - loss: 3.5075e-04 - root_mean_squared_error: 0.0187"
     ]
    },
    {
     "name": "stderr",
     "output_type": "stream",
     "text": [
      "WARNING:absl:Found untraced functions such as lstm_cell_158_layer_call_fn, lstm_cell_158_layer_call_and_return_conditional_losses, lstm_cell_158_layer_call_fn, lstm_cell_158_layer_call_and_return_conditional_losses, lstm_cell_158_layer_call_and_return_conditional_losses while saving (showing 5 of 5). These functions will not be directly callable after loading.\n"
     ]
    },
    {
     "name": "stdout",
     "output_type": "stream",
     "text": [
      "INFO:tensorflow:Assets written to: /Users/yukahatori/A_Fairness/FairnessML_git/LSTM-BasicModel/WeatherModelx/assets\n"
     ]
    },
    {
     "name": "stderr",
     "output_type": "stream",
     "text": [
      "INFO:tensorflow:Assets written to: /Users/yukahatori/A_Fairness/FairnessML_git/LSTM-BasicModel/WeatherModelx/assets\n",
      "WARNING:absl:<keras.layers.recurrent.LSTMCell object at 0x7f8ede4f0cd0> has the same name 'LSTMCell' as a built-in Keras object. Consider renaming <class 'keras.layers.recurrent.LSTMCell'> to avoid naming conflicts when loading with `tf.keras.models.load_model`. If renaming is not possible, pass the object in the `custom_objects` parameter of the load function.\n"
     ]
    },
    {
     "name": "stdout",
     "output_type": "stream",
     "text": [
      "247/247 [==============================] - 3s 13ms/step - loss: 3.5017e-04 - root_mean_squared_error: 0.0187 - val_loss: 4.9944e-04 - val_root_mean_squared_error: 0.0223\n",
      "Epoch 15/20\n",
      "247/247 [==============================] - 1s 2ms/step - loss: 3.6943e-04 - root_mean_squared_error: 0.0192 - val_loss: 6.4793e-04 - val_root_mean_squared_error: 0.0255\n",
      "Epoch 16/20\n",
      "247/247 [==============================] - 1s 3ms/step - loss: 3.4753e-04 - root_mean_squared_error: 0.0186 - val_loss: 5.4926e-04 - val_root_mean_squared_error: 0.0234\n",
      "Epoch 17/20\n",
      "247/247 [==============================] - 1s 3ms/step - loss: 3.5317e-04 - root_mean_squared_error: 0.0188 - val_loss: 6.8412e-04 - val_root_mean_squared_error: 0.0262\n",
      "Epoch 18/20\n",
      "247/247 [==============================] - 1s 4ms/step - loss: 3.5212e-04 - root_mean_squared_error: 0.0188 - val_loss: 8.5773e-04 - val_root_mean_squared_error: 0.0293\n",
      "Epoch 19/20\n",
      "242/247 [============================>.] - ETA: 0s - loss: 3.4147e-04 - root_mean_squared_error: 0.0185"
     ]
    },
    {
     "name": "stderr",
     "output_type": "stream",
     "text": [
      "WARNING:absl:Found untraced functions such as lstm_cell_158_layer_call_fn, lstm_cell_158_layer_call_and_return_conditional_losses, lstm_cell_158_layer_call_fn, lstm_cell_158_layer_call_and_return_conditional_losses, lstm_cell_158_layer_call_and_return_conditional_losses while saving (showing 5 of 5). These functions will not be directly callable after loading.\n"
     ]
    },
    {
     "name": "stdout",
     "output_type": "stream",
     "text": [
      "INFO:tensorflow:Assets written to: /Users/yukahatori/A_Fairness/FairnessML_git/LSTM-BasicModel/WeatherModelx/assets\n"
     ]
    },
    {
     "name": "stderr",
     "output_type": "stream",
     "text": [
      "INFO:tensorflow:Assets written to: /Users/yukahatori/A_Fairness/FairnessML_git/LSTM-BasicModel/WeatherModelx/assets\n",
      "WARNING:absl:<keras.layers.recurrent.LSTMCell object at 0x7f8ede4f0cd0> has the same name 'LSTMCell' as a built-in Keras object. Consider renaming <class 'keras.layers.recurrent.LSTMCell'> to avoid naming conflicts when loading with `tf.keras.models.load_model`. If renaming is not possible, pass the object in the `custom_objects` parameter of the load function.\n"
     ]
    },
    {
     "name": "stdout",
     "output_type": "stream",
     "text": [
      "247/247 [==============================] - 5s 19ms/step - loss: 3.4121e-04 - root_mean_squared_error: 0.0185 - val_loss: 4.9558e-04 - val_root_mean_squared_error: 0.0223\n",
      "Epoch 20/20\n",
      "247/247 [==============================] - 1s 3ms/step - loss: 3.8789e-04 - root_mean_squared_error: 0.0197 - val_loss: 6.5176e-04 - val_root_mean_squared_error: 0.0255\n",
      "RMSE value:  0.017291653719209408\n",
      "Epoch 1/20\n",
      "241/247 [============================>.] - ETA: 0s - loss: 0.0086 - root_mean_squared_error: 0.0928"
     ]
    },
    {
     "name": "stderr",
     "output_type": "stream",
     "text": [
      "WARNING:absl:Found untraced functions such as lstm_cell_159_layer_call_fn, lstm_cell_159_layer_call_and_return_conditional_losses, lstm_cell_159_layer_call_fn, lstm_cell_159_layer_call_and_return_conditional_losses, lstm_cell_159_layer_call_and_return_conditional_losses while saving (showing 5 of 5). These functions will not be directly callable after loading.\n"
     ]
    },
    {
     "name": "stdout",
     "output_type": "stream",
     "text": [
      "INFO:tensorflow:Assets written to: /Users/yukahatori/A_Fairness/FairnessML_git/LSTM-BasicModel/WeatherModelx/assets\n"
     ]
    },
    {
     "name": "stderr",
     "output_type": "stream",
     "text": [
      "INFO:tensorflow:Assets written to: /Users/yukahatori/A_Fairness/FairnessML_git/LSTM-BasicModel/WeatherModelx/assets\n",
      "WARNING:absl:<keras.layers.recurrent.LSTMCell object at 0x7f8ef9a0a640> has the same name 'LSTMCell' as a built-in Keras object. Consider renaming <class 'keras.layers.recurrent.LSTMCell'> to avoid naming conflicts when loading with `tf.keras.models.load_model`. If renaming is not possible, pass the object in the `custom_objects` parameter of the load function.\n"
     ]
    },
    {
     "name": "stdout",
     "output_type": "stream",
     "text": [
      "247/247 [==============================] - 5s 16ms/step - loss: 0.0084 - root_mean_squared_error: 0.0919 - val_loss: 0.0033 - val_root_mean_squared_error: 0.0575\n",
      "Epoch 2/20\n",
      "240/247 [============================>.] - ETA: 0s - loss: 6.9717e-04 - root_mean_squared_error: 0.0264"
     ]
    },
    {
     "name": "stderr",
     "output_type": "stream",
     "text": [
      "WARNING:absl:Found untraced functions such as lstm_cell_159_layer_call_fn, lstm_cell_159_layer_call_and_return_conditional_losses, lstm_cell_159_layer_call_fn, lstm_cell_159_layer_call_and_return_conditional_losses, lstm_cell_159_layer_call_and_return_conditional_losses while saving (showing 5 of 5). These functions will not be directly callable after loading.\n"
     ]
    },
    {
     "name": "stdout",
     "output_type": "stream",
     "text": [
      "INFO:tensorflow:Assets written to: /Users/yukahatori/A_Fairness/FairnessML_git/LSTM-BasicModel/WeatherModelx/assets\n"
     ]
    },
    {
     "name": "stderr",
     "output_type": "stream",
     "text": [
      "INFO:tensorflow:Assets written to: /Users/yukahatori/A_Fairness/FairnessML_git/LSTM-BasicModel/WeatherModelx/assets\n",
      "WARNING:absl:<keras.layers.recurrent.LSTMCell object at 0x7f8ef9a0a640> has the same name 'LSTMCell' as a built-in Keras object. Consider renaming <class 'keras.layers.recurrent.LSTMCell'> to avoid naming conflicts when loading with `tf.keras.models.load_model`. If renaming is not possible, pass the object in the `custom_objects` parameter of the load function.\n"
     ]
    },
    {
     "name": "stdout",
     "output_type": "stream",
     "text": [
      "247/247 [==============================] - 4s 16ms/step - loss: 6.9382e-04 - root_mean_squared_error: 0.0263 - val_loss: 0.0023 - val_root_mean_squared_error: 0.0481\n",
      "Epoch 3/20\n",
      "227/247 [==========================>...] - ETA: 0s - loss: 5.4500e-04 - root_mean_squared_error: 0.0233"
     ]
    },
    {
     "name": "stderr",
     "output_type": "stream",
     "text": [
      "WARNING:absl:Found untraced functions such as lstm_cell_159_layer_call_fn, lstm_cell_159_layer_call_and_return_conditional_losses, lstm_cell_159_layer_call_fn, lstm_cell_159_layer_call_and_return_conditional_losses, lstm_cell_159_layer_call_and_return_conditional_losses while saving (showing 5 of 5). These functions will not be directly callable after loading.\n"
     ]
    },
    {
     "name": "stdout",
     "output_type": "stream",
     "text": [
      "INFO:tensorflow:Assets written to: /Users/yukahatori/A_Fairness/FairnessML_git/LSTM-BasicModel/WeatherModelx/assets\n"
     ]
    },
    {
     "name": "stderr",
     "output_type": "stream",
     "text": [
      "INFO:tensorflow:Assets written to: /Users/yukahatori/A_Fairness/FairnessML_git/LSTM-BasicModel/WeatherModelx/assets\n",
      "WARNING:absl:<keras.layers.recurrent.LSTMCell object at 0x7f8ef9a0a640> has the same name 'LSTMCell' as a built-in Keras object. Consider renaming <class 'keras.layers.recurrent.LSTMCell'> to avoid naming conflicts when loading with `tf.keras.models.load_model`. If renaming is not possible, pass the object in the `custom_objects` parameter of the load function.\n"
     ]
    },
    {
     "name": "stdout",
     "output_type": "stream",
     "text": [
      "247/247 [==============================] - 4s 14ms/step - loss: 5.3817e-04 - root_mean_squared_error: 0.0232 - val_loss: 0.0016 - val_root_mean_squared_error: 0.0405\n",
      "Epoch 4/20\n",
      "242/247 [============================>.] - ETA: 0s - loss: 4.7345e-04 - root_mean_squared_error: 0.0218"
     ]
    },
    {
     "name": "stderr",
     "output_type": "stream",
     "text": [
      "WARNING:absl:Found untraced functions such as lstm_cell_159_layer_call_fn, lstm_cell_159_layer_call_and_return_conditional_losses, lstm_cell_159_layer_call_fn, lstm_cell_159_layer_call_and_return_conditional_losses, lstm_cell_159_layer_call_and_return_conditional_losses while saving (showing 5 of 5). These functions will not be directly callable after loading.\n"
     ]
    },
    {
     "name": "stdout",
     "output_type": "stream",
     "text": [
      "INFO:tensorflow:Assets written to: /Users/yukahatori/A_Fairness/FairnessML_git/LSTM-BasicModel/WeatherModelx/assets\n"
     ]
    },
    {
     "name": "stderr",
     "output_type": "stream",
     "text": [
      "INFO:tensorflow:Assets written to: /Users/yukahatori/A_Fairness/FairnessML_git/LSTM-BasicModel/WeatherModelx/assets\n",
      "WARNING:absl:<keras.layers.recurrent.LSTMCell object at 0x7f8ef9a0a640> has the same name 'LSTMCell' as a built-in Keras object. Consider renaming <class 'keras.layers.recurrent.LSTMCell'> to avoid naming conflicts when loading with `tf.keras.models.load_model`. If renaming is not possible, pass the object in the `custom_objects` parameter of the load function.\n"
     ]
    },
    {
     "name": "stdout",
     "output_type": "stream",
     "text": [
      "247/247 [==============================] - 4s 16ms/step - loss: 4.7474e-04 - root_mean_squared_error: 0.0218 - val_loss: 0.0016 - val_root_mean_squared_error: 0.0395\n",
      "Epoch 5/20\n",
      "231/247 [===========================>..] - ETA: 0s - loss: 4.3197e-04 - root_mean_squared_error: 0.0208"
     ]
    },
    {
     "name": "stderr",
     "output_type": "stream",
     "text": [
      "WARNING:absl:Found untraced functions such as lstm_cell_159_layer_call_fn, lstm_cell_159_layer_call_and_return_conditional_losses, lstm_cell_159_layer_call_fn, lstm_cell_159_layer_call_and_return_conditional_losses, lstm_cell_159_layer_call_and_return_conditional_losses while saving (showing 5 of 5). These functions will not be directly callable after loading.\n"
     ]
    },
    {
     "name": "stdout",
     "output_type": "stream",
     "text": [
      "INFO:tensorflow:Assets written to: /Users/yukahatori/A_Fairness/FairnessML_git/LSTM-BasicModel/WeatherModelx/assets\n"
     ]
    },
    {
     "name": "stderr",
     "output_type": "stream",
     "text": [
      "INFO:tensorflow:Assets written to: /Users/yukahatori/A_Fairness/FairnessML_git/LSTM-BasicModel/WeatherModelx/assets\n",
      "WARNING:absl:<keras.layers.recurrent.LSTMCell object at 0x7f8ef9a0a640> has the same name 'LSTMCell' as a built-in Keras object. Consider renaming <class 'keras.layers.recurrent.LSTMCell'> to avoid naming conflicts when loading with `tf.keras.models.load_model`. If renaming is not possible, pass the object in the `custom_objects` parameter of the load function.\n"
     ]
    },
    {
     "name": "stdout",
     "output_type": "stream",
     "text": [
      "247/247 [==============================] - 3s 14ms/step - loss: 4.2960e-04 - root_mean_squared_error: 0.0207 - val_loss: 0.0013 - val_root_mean_squared_error: 0.0363\n",
      "Epoch 6/20\n",
      "247/247 [==============================] - 1s 2ms/step - loss: 4.1038e-04 - root_mean_squared_error: 0.0203 - val_loss: 0.0016 - val_root_mean_squared_error: 0.0401\n",
      "Epoch 7/20\n",
      "243/247 [============================>.] - ETA: 0s - loss: 3.8576e-04 - root_mean_squared_error: 0.0196"
     ]
    },
    {
     "name": "stderr",
     "output_type": "stream",
     "text": [
      "WARNING:absl:Found untraced functions such as lstm_cell_159_layer_call_fn, lstm_cell_159_layer_call_and_return_conditional_losses, lstm_cell_159_layer_call_fn, lstm_cell_159_layer_call_and_return_conditional_losses, lstm_cell_159_layer_call_and_return_conditional_losses while saving (showing 5 of 5). These functions will not be directly callable after loading.\n"
     ]
    },
    {
     "name": "stdout",
     "output_type": "stream",
     "text": [
      "INFO:tensorflow:Assets written to: /Users/yukahatori/A_Fairness/FairnessML_git/LSTM-BasicModel/WeatherModelx/assets\n"
     ]
    },
    {
     "name": "stderr",
     "output_type": "stream",
     "text": [
      "INFO:tensorflow:Assets written to: /Users/yukahatori/A_Fairness/FairnessML_git/LSTM-BasicModel/WeatherModelx/assets\n",
      "WARNING:absl:<keras.layers.recurrent.LSTMCell object at 0x7f8ef9a0a640> has the same name 'LSTMCell' as a built-in Keras object. Consider renaming <class 'keras.layers.recurrent.LSTMCell'> to avoid naming conflicts when loading with `tf.keras.models.load_model`. If renaming is not possible, pass the object in the `custom_objects` parameter of the load function.\n"
     ]
    },
    {
     "name": "stdout",
     "output_type": "stream",
     "text": [
      "247/247 [==============================] - 3s 13ms/step - loss: 3.8684e-04 - root_mean_squared_error: 0.0197 - val_loss: 9.0075e-04 - val_root_mean_squared_error: 0.0300\n",
      "Epoch 8/20\n",
      "243/247 [============================>.] - ETA: 0s - loss: 3.9119e-04 - root_mean_squared_error: 0.0198"
     ]
    },
    {
     "name": "stderr",
     "output_type": "stream",
     "text": [
      "WARNING:absl:Found untraced functions such as lstm_cell_159_layer_call_fn, lstm_cell_159_layer_call_and_return_conditional_losses, lstm_cell_159_layer_call_fn, lstm_cell_159_layer_call_and_return_conditional_losses, lstm_cell_159_layer_call_and_return_conditional_losses while saving (showing 5 of 5). These functions will not be directly callable after loading.\n"
     ]
    },
    {
     "name": "stdout",
     "output_type": "stream",
     "text": [
      "INFO:tensorflow:Assets written to: /Users/yukahatori/A_Fairness/FairnessML_git/LSTM-BasicModel/WeatherModelx/assets\n"
     ]
    },
    {
     "name": "stderr",
     "output_type": "stream",
     "text": [
      "INFO:tensorflow:Assets written to: /Users/yukahatori/A_Fairness/FairnessML_git/LSTM-BasicModel/WeatherModelx/assets\n",
      "WARNING:absl:<keras.layers.recurrent.LSTMCell object at 0x7f8ef9a0a640> has the same name 'LSTMCell' as a built-in Keras object. Consider renaming <class 'keras.layers.recurrent.LSTMCell'> to avoid naming conflicts when loading with `tf.keras.models.load_model`. If renaming is not possible, pass the object in the `custom_objects` parameter of the load function.\n"
     ]
    },
    {
     "name": "stdout",
     "output_type": "stream",
     "text": [
      "247/247 [==============================] - 4s 15ms/step - loss: 3.9165e-04 - root_mean_squared_error: 0.0198 - val_loss: 6.3170e-04 - val_root_mean_squared_error: 0.0251\n",
      "Epoch 9/20\n",
      "247/247 [==============================] - 1s 2ms/step - loss: 3.7549e-04 - root_mean_squared_error: 0.0194 - val_loss: 0.0011 - val_root_mean_squared_error: 0.0337\n",
      "Epoch 10/20\n",
      "247/247 [==============================] - ETA: 0s - loss: 3.7695e-04 - root_mean_squared_error: 0.0194"
     ]
    },
    {
     "name": "stderr",
     "output_type": "stream",
     "text": [
      "WARNING:absl:Found untraced functions such as lstm_cell_159_layer_call_fn, lstm_cell_159_layer_call_and_return_conditional_losses, lstm_cell_159_layer_call_fn, lstm_cell_159_layer_call_and_return_conditional_losses, lstm_cell_159_layer_call_and_return_conditional_losses while saving (showing 5 of 5). These functions will not be directly callable after loading.\n"
     ]
    },
    {
     "name": "stdout",
     "output_type": "stream",
     "text": [
      "INFO:tensorflow:Assets written to: /Users/yukahatori/A_Fairness/FairnessML_git/LSTM-BasicModel/WeatherModelx/assets\n"
     ]
    },
    {
     "name": "stderr",
     "output_type": "stream",
     "text": [
      "INFO:tensorflow:Assets written to: /Users/yukahatori/A_Fairness/FairnessML_git/LSTM-BasicModel/WeatherModelx/assets\n",
      "WARNING:absl:<keras.layers.recurrent.LSTMCell object at 0x7f8ef9a0a640> has the same name 'LSTMCell' as a built-in Keras object. Consider renaming <class 'keras.layers.recurrent.LSTMCell'> to avoid naming conflicts when loading with `tf.keras.models.load_model`. If renaming is not possible, pass the object in the `custom_objects` parameter of the load function.\n"
     ]
    },
    {
     "name": "stdout",
     "output_type": "stream",
     "text": [
      "247/247 [==============================] - 3s 12ms/step - loss: 3.7695e-04 - root_mean_squared_error: 0.0194 - val_loss: 5.9838e-04 - val_root_mean_squared_error: 0.0245\n",
      "Epoch 11/20\n",
      "230/247 [==========================>...] - ETA: 0s - loss: 3.6810e-04 - root_mean_squared_error: 0.0192"
     ]
    },
    {
     "name": "stderr",
     "output_type": "stream",
     "text": [
      "WARNING:absl:Found untraced functions such as lstm_cell_159_layer_call_fn, lstm_cell_159_layer_call_and_return_conditional_losses, lstm_cell_159_layer_call_fn, lstm_cell_159_layer_call_and_return_conditional_losses, lstm_cell_159_layer_call_and_return_conditional_losses while saving (showing 5 of 5). These functions will not be directly callable after loading.\n"
     ]
    },
    {
     "name": "stdout",
     "output_type": "stream",
     "text": [
      "INFO:tensorflow:Assets written to: /Users/yukahatori/A_Fairness/FairnessML_git/LSTM-BasicModel/WeatherModelx/assets\n"
     ]
    },
    {
     "name": "stderr",
     "output_type": "stream",
     "text": [
      "INFO:tensorflow:Assets written to: /Users/yukahatori/A_Fairness/FairnessML_git/LSTM-BasicModel/WeatherModelx/assets\n",
      "WARNING:absl:<keras.layers.recurrent.LSTMCell object at 0x7f8ef9a0a640> has the same name 'LSTMCell' as a built-in Keras object. Consider renaming <class 'keras.layers.recurrent.LSTMCell'> to avoid naming conflicts when loading with `tf.keras.models.load_model`. If renaming is not possible, pass the object in the `custom_objects` parameter of the load function.\n"
     ]
    },
    {
     "name": "stdout",
     "output_type": "stream",
     "text": [
      "247/247 [==============================] - 3s 14ms/step - loss: 3.6980e-04 - root_mean_squared_error: 0.0192 - val_loss: 5.8858e-04 - val_root_mean_squared_error: 0.0243\n",
      "Epoch 12/20\n",
      "247/247 [==============================] - 1s 2ms/step - loss: 3.8062e-04 - root_mean_squared_error: 0.0195 - val_loss: 7.0389e-04 - val_root_mean_squared_error: 0.0265\n",
      "Epoch 13/20\n",
      "247/247 [==============================] - 1s 2ms/step - loss: 3.6777e-04 - root_mean_squared_error: 0.0192 - val_loss: 0.0010 - val_root_mean_squared_error: 0.0318\n",
      "Epoch 14/20\n",
      "239/247 [============================>.] - ETA: 0s - loss: 3.2457e-04 - root_mean_squared_error: 0.0180"
     ]
    },
    {
     "name": "stderr",
     "output_type": "stream",
     "text": [
      "WARNING:absl:Found untraced functions such as lstm_cell_159_layer_call_fn, lstm_cell_159_layer_call_and_return_conditional_losses, lstm_cell_159_layer_call_fn, lstm_cell_159_layer_call_and_return_conditional_losses, lstm_cell_159_layer_call_and_return_conditional_losses while saving (showing 5 of 5). These functions will not be directly callable after loading.\n"
     ]
    },
    {
     "name": "stdout",
     "output_type": "stream",
     "text": [
      "INFO:tensorflow:Assets written to: /Users/yukahatori/A_Fairness/FairnessML_git/LSTM-BasicModel/WeatherModelx/assets\n"
     ]
    },
    {
     "name": "stderr",
     "output_type": "stream",
     "text": [
      "INFO:tensorflow:Assets written to: /Users/yukahatori/A_Fairness/FairnessML_git/LSTM-BasicModel/WeatherModelx/assets\n",
      "WARNING:absl:<keras.layers.recurrent.LSTMCell object at 0x7f8ef9a0a640> has the same name 'LSTMCell' as a built-in Keras object. Consider renaming <class 'keras.layers.recurrent.LSTMCell'> to avoid naming conflicts when loading with `tf.keras.models.load_model`. If renaming is not possible, pass the object in the `custom_objects` parameter of the load function.\n"
     ]
    },
    {
     "name": "stdout",
     "output_type": "stream",
     "text": [
      "247/247 [==============================] - 3s 13ms/step - loss: 3.2428e-04 - root_mean_squared_error: 0.0180 - val_loss: 5.0892e-04 - val_root_mean_squared_error: 0.0226\n",
      "Epoch 15/20\n",
      "247/247 [==============================] - 1s 2ms/step - loss: 3.8490e-04 - root_mean_squared_error: 0.0196 - val_loss: 5.7653e-04 - val_root_mean_squared_error: 0.0240\n",
      "Epoch 16/20\n",
      "247/247 [==============================] - 1s 2ms/step - loss: 3.4149e-04 - root_mean_squared_error: 0.0185 - val_loss: 6.9825e-04 - val_root_mean_squared_error: 0.0264\n",
      "Epoch 17/20\n",
      "247/247 [==============================] - 1s 2ms/step - loss: 3.3725e-04 - root_mean_squared_error: 0.0184 - val_loss: 6.2612e-04 - val_root_mean_squared_error: 0.0250\n",
      "Epoch 18/20\n",
      "247/247 [==============================] - 1s 2ms/step - loss: 3.5869e-04 - root_mean_squared_error: 0.0189 - val_loss: 6.0676e-04 - val_root_mean_squared_error: 0.0246\n",
      "Epoch 19/20\n",
      "247/247 [==============================] - 1s 2ms/step - loss: 3.6490e-04 - root_mean_squared_error: 0.0191 - val_loss: 5.7013e-04 - val_root_mean_squared_error: 0.0239\n",
      "Epoch 20/20\n",
      "247/247 [==============================] - 1s 2ms/step - loss: 3.3761e-04 - root_mean_squared_error: 0.0184 - val_loss: 6.4847e-04 - val_root_mean_squared_error: 0.0255\n",
      "RMSE value:  0.01905490911436131\n",
      "Epoch 1/20\n",
      "243/247 [============================>.] - ETA: 0s - loss: 0.0192 - root_mean_squared_error: 0.1386"
     ]
    },
    {
     "name": "stderr",
     "output_type": "stream",
     "text": [
      "WARNING:absl:Found untraced functions such as lstm_cell_160_layer_call_fn, lstm_cell_160_layer_call_and_return_conditional_losses, lstm_cell_160_layer_call_fn, lstm_cell_160_layer_call_and_return_conditional_losses, lstm_cell_160_layer_call_and_return_conditional_losses while saving (showing 5 of 5). These functions will not be directly callable after loading.\n"
     ]
    },
    {
     "name": "stdout",
     "output_type": "stream",
     "text": [
      "INFO:tensorflow:Assets written to: /Users/yukahatori/A_Fairness/FairnessML_git/LSTM-BasicModel/WeatherModelx/assets\n"
     ]
    },
    {
     "name": "stderr",
     "output_type": "stream",
     "text": [
      "INFO:tensorflow:Assets written to: /Users/yukahatori/A_Fairness/FairnessML_git/LSTM-BasicModel/WeatherModelx/assets\n",
      "WARNING:absl:<keras.layers.recurrent.LSTMCell object at 0x7f8ef0ac2b80> has the same name 'LSTMCell' as a built-in Keras object. Consider renaming <class 'keras.layers.recurrent.LSTMCell'> to avoid naming conflicts when loading with `tf.keras.models.load_model`. If renaming is not possible, pass the object in the `custom_objects` parameter of the load function.\n"
     ]
    },
    {
     "name": "stdout",
     "output_type": "stream",
     "text": [
      "247/247 [==============================] - 5s 14ms/step - loss: 0.0190 - root_mean_squared_error: 0.1377 - val_loss: 0.0021 - val_root_mean_squared_error: 0.0463\n",
      "Epoch 2/20\n",
      "223/247 [==========================>...] - ETA: 0s - loss: 1.9453e-04 - root_mean_squared_error: 0.0139"
     ]
    },
    {
     "name": "stderr",
     "output_type": "stream",
     "text": [
      "WARNING:absl:Found untraced functions such as lstm_cell_160_layer_call_fn, lstm_cell_160_layer_call_and_return_conditional_losses, lstm_cell_160_layer_call_fn, lstm_cell_160_layer_call_and_return_conditional_losses, lstm_cell_160_layer_call_and_return_conditional_losses while saving (showing 5 of 5). These functions will not be directly callable after loading.\n"
     ]
    },
    {
     "name": "stdout",
     "output_type": "stream",
     "text": [
      "INFO:tensorflow:Assets written to: /Users/yukahatori/A_Fairness/FairnessML_git/LSTM-BasicModel/WeatherModelx/assets\n"
     ]
    },
    {
     "name": "stderr",
     "output_type": "stream",
     "text": [
      "INFO:tensorflow:Assets written to: /Users/yukahatori/A_Fairness/FairnessML_git/LSTM-BasicModel/WeatherModelx/assets\n",
      "WARNING:absl:<keras.layers.recurrent.LSTMCell object at 0x7f8ef0ac2b80> has the same name 'LSTMCell' as a built-in Keras object. Consider renaming <class 'keras.layers.recurrent.LSTMCell'> to avoid naming conflicts when loading with `tf.keras.models.load_model`. If renaming is not possible, pass the object in the `custom_objects` parameter of the load function.\n"
     ]
    },
    {
     "name": "stdout",
     "output_type": "stream",
     "text": [
      "247/247 [==============================] - 3s 14ms/step - loss: 1.9274e-04 - root_mean_squared_error: 0.0139 - val_loss: 0.0019 - val_root_mean_squared_error: 0.0437\n",
      "Epoch 3/20\n",
      "241/247 [============================>.] - ETA: 0s - loss: 1.5834e-04 - root_mean_squared_error: 0.0126"
     ]
    },
    {
     "name": "stderr",
     "output_type": "stream",
     "text": [
      "WARNING:absl:Found untraced functions such as lstm_cell_160_layer_call_fn, lstm_cell_160_layer_call_and_return_conditional_losses, lstm_cell_160_layer_call_fn, lstm_cell_160_layer_call_and_return_conditional_losses, lstm_cell_160_layer_call_and_return_conditional_losses while saving (showing 5 of 5). These functions will not be directly callable after loading.\n"
     ]
    },
    {
     "name": "stdout",
     "output_type": "stream",
     "text": [
      "INFO:tensorflow:Assets written to: /Users/yukahatori/A_Fairness/FairnessML_git/LSTM-BasicModel/WeatherModelx/assets\n"
     ]
    },
    {
     "name": "stderr",
     "output_type": "stream",
     "text": [
      "INFO:tensorflow:Assets written to: /Users/yukahatori/A_Fairness/FairnessML_git/LSTM-BasicModel/WeatherModelx/assets\n",
      "WARNING:absl:<keras.layers.recurrent.LSTMCell object at 0x7f8ef0ac2b80> has the same name 'LSTMCell' as a built-in Keras object. Consider renaming <class 'keras.layers.recurrent.LSTMCell'> to avoid naming conflicts when loading with `tf.keras.models.load_model`. If renaming is not possible, pass the object in the `custom_objects` parameter of the load function.\n"
     ]
    },
    {
     "name": "stdout",
     "output_type": "stream",
     "text": [
      "247/247 [==============================] - 3s 14ms/step - loss: 1.5760e-04 - root_mean_squared_error: 0.0126 - val_loss: 0.0019 - val_root_mean_squared_error: 0.0434\n",
      "Epoch 4/20\n",
      "246/247 [============================>.] - ETA: 0s - loss: 1.4095e-04 - root_mean_squared_error: 0.0119"
     ]
    },
    {
     "name": "stderr",
     "output_type": "stream",
     "text": [
      "WARNING:absl:Found untraced functions such as lstm_cell_160_layer_call_fn, lstm_cell_160_layer_call_and_return_conditional_losses, lstm_cell_160_layer_call_fn, lstm_cell_160_layer_call_and_return_conditional_losses, lstm_cell_160_layer_call_and_return_conditional_losses while saving (showing 5 of 5). These functions will not be directly callable after loading.\n"
     ]
    },
    {
     "name": "stdout",
     "output_type": "stream",
     "text": [
      "INFO:tensorflow:Assets written to: /Users/yukahatori/A_Fairness/FairnessML_git/LSTM-BasicModel/WeatherModelx/assets\n"
     ]
    },
    {
     "name": "stderr",
     "output_type": "stream",
     "text": [
      "INFO:tensorflow:Assets written to: /Users/yukahatori/A_Fairness/FairnessML_git/LSTM-BasicModel/WeatherModelx/assets\n",
      "WARNING:absl:<keras.layers.recurrent.LSTMCell object at 0x7f8ef0ac2b80> has the same name 'LSTMCell' as a built-in Keras object. Consider renaming <class 'keras.layers.recurrent.LSTMCell'> to avoid naming conflicts when loading with `tf.keras.models.load_model`. If renaming is not possible, pass the object in the `custom_objects` parameter of the load function.\n"
     ]
    },
    {
     "name": "stdout",
     "output_type": "stream",
     "text": [
      "247/247 [==============================] - 3s 14ms/step - loss: 1.4089e-04 - root_mean_squared_error: 0.0119 - val_loss: 0.0018 - val_root_mean_squared_error: 0.0422\n",
      "Epoch 5/20\n",
      "247/247 [==============================] - 1s 2ms/step - loss: 1.2420e-04 - root_mean_squared_error: 0.0111 - val_loss: 0.0018 - val_root_mean_squared_error: 0.0425\n",
      "Epoch 6/20\n",
      "238/247 [===========================>..] - ETA: 0s - loss: 1.1434e-04 - root_mean_squared_error: 0.0107"
     ]
    },
    {
     "name": "stderr",
     "output_type": "stream",
     "text": [
      "WARNING:absl:Found untraced functions such as lstm_cell_160_layer_call_fn, lstm_cell_160_layer_call_and_return_conditional_losses, lstm_cell_160_layer_call_fn, lstm_cell_160_layer_call_and_return_conditional_losses, lstm_cell_160_layer_call_and_return_conditional_losses while saving (showing 5 of 5). These functions will not be directly callable after loading.\n"
     ]
    },
    {
     "name": "stdout",
     "output_type": "stream",
     "text": [
      "INFO:tensorflow:Assets written to: /Users/yukahatori/A_Fairness/FairnessML_git/LSTM-BasicModel/WeatherModelx/assets\n"
     ]
    },
    {
     "name": "stderr",
     "output_type": "stream",
     "text": [
      "INFO:tensorflow:Assets written to: /Users/yukahatori/A_Fairness/FairnessML_git/LSTM-BasicModel/WeatherModelx/assets\n",
      "WARNING:absl:<keras.layers.recurrent.LSTMCell object at 0x7f8ef0ac2b80> has the same name 'LSTMCell' as a built-in Keras object. Consider renaming <class 'keras.layers.recurrent.LSTMCell'> to avoid naming conflicts when loading with `tf.keras.models.load_model`. If renaming is not possible, pass the object in the `custom_objects` parameter of the load function.\n"
     ]
    },
    {
     "name": "stdout",
     "output_type": "stream",
     "text": [
      "247/247 [==============================] - 3s 13ms/step - loss: 1.1377e-04 - root_mean_squared_error: 0.0107 - val_loss: 0.0015 - val_root_mean_squared_error: 0.0385\n",
      "Epoch 7/20\n",
      "236/247 [===========================>..] - ETA: 0s - loss: 1.0991e-04 - root_mean_squared_error: 0.0105"
     ]
    },
    {
     "name": "stderr",
     "output_type": "stream",
     "text": [
      "WARNING:absl:Found untraced functions such as lstm_cell_160_layer_call_fn, lstm_cell_160_layer_call_and_return_conditional_losses, lstm_cell_160_layer_call_fn, lstm_cell_160_layer_call_and_return_conditional_losses, lstm_cell_160_layer_call_and_return_conditional_losses while saving (showing 5 of 5). These functions will not be directly callable after loading.\n"
     ]
    },
    {
     "name": "stdout",
     "output_type": "stream",
     "text": [
      "INFO:tensorflow:Assets written to: /Users/yukahatori/A_Fairness/FairnessML_git/LSTM-BasicModel/WeatherModelx/assets\n"
     ]
    },
    {
     "name": "stderr",
     "output_type": "stream",
     "text": [
      "INFO:tensorflow:Assets written to: /Users/yukahatori/A_Fairness/FairnessML_git/LSTM-BasicModel/WeatherModelx/assets\n",
      "WARNING:absl:<keras.layers.recurrent.LSTMCell object at 0x7f8ef0ac2b80> has the same name 'LSTMCell' as a built-in Keras object. Consider renaming <class 'keras.layers.recurrent.LSTMCell'> to avoid naming conflicts when loading with `tf.keras.models.load_model`. If renaming is not possible, pass the object in the `custom_objects` parameter of the load function.\n"
     ]
    },
    {
     "name": "stdout",
     "output_type": "stream",
     "text": [
      "247/247 [==============================] - 4s 16ms/step - loss: 1.0997e-04 - root_mean_squared_error: 0.0105 - val_loss: 0.0012 - val_root_mean_squared_error: 0.0352\n",
      "Epoch 8/20\n",
      "247/247 [==============================] - 1s 4ms/step - loss: 9.3333e-05 - root_mean_squared_error: 0.0097 - val_loss: 0.0013 - val_root_mean_squared_error: 0.0358\n",
      "Epoch 9/20\n",
      "247/247 [==============================] - 1s 3ms/step - loss: 8.5113e-05 - root_mean_squared_error: 0.0092 - val_loss: 0.0013 - val_root_mean_squared_error: 0.0364\n",
      "Epoch 10/20\n",
      "232/247 [===========================>..] - ETA: 0s - loss: 7.8435e-05 - root_mean_squared_error: 0.0089"
     ]
    },
    {
     "name": "stderr",
     "output_type": "stream",
     "text": [
      "WARNING:absl:Found untraced functions such as lstm_cell_160_layer_call_fn, lstm_cell_160_layer_call_and_return_conditional_losses, lstm_cell_160_layer_call_fn, lstm_cell_160_layer_call_and_return_conditional_losses, lstm_cell_160_layer_call_and_return_conditional_losses while saving (showing 5 of 5). These functions will not be directly callable after loading.\n"
     ]
    },
    {
     "name": "stdout",
     "output_type": "stream",
     "text": [
      "INFO:tensorflow:Assets written to: /Users/yukahatori/A_Fairness/FairnessML_git/LSTM-BasicModel/WeatherModelx/assets\n"
     ]
    },
    {
     "name": "stderr",
     "output_type": "stream",
     "text": [
      "INFO:tensorflow:Assets written to: /Users/yukahatori/A_Fairness/FairnessML_git/LSTM-BasicModel/WeatherModelx/assets\n",
      "WARNING:absl:<keras.layers.recurrent.LSTMCell object at 0x7f8ef0ac2b80> has the same name 'LSTMCell' as a built-in Keras object. Consider renaming <class 'keras.layers.recurrent.LSTMCell'> to avoid naming conflicts when loading with `tf.keras.models.load_model`. If renaming is not possible, pass the object in the `custom_objects` parameter of the load function.\n"
     ]
    },
    {
     "name": "stdout",
     "output_type": "stream",
     "text": [
      "247/247 [==============================] - 5s 19ms/step - loss: 7.9631e-05 - root_mean_squared_error: 0.0089 - val_loss: 0.0010 - val_root_mean_squared_error: 0.0318\n",
      "Epoch 11/20\n",
      "247/247 [==============================] - 1s 3ms/step - loss: 7.5704e-05 - root_mean_squared_error: 0.0087 - val_loss: 0.0011 - val_root_mean_squared_error: 0.0325\n",
      "Epoch 12/20\n",
      "247/247 [==============================] - 1s 3ms/step - loss: 6.3703e-05 - root_mean_squared_error: 0.0080 - val_loss: 0.0012 - val_root_mean_squared_error: 0.0350\n",
      "Epoch 13/20\n",
      "243/247 [============================>.] - ETA: 0s - loss: 6.4128e-05 - root_mean_squared_error: 0.0080"
     ]
    },
    {
     "name": "stderr",
     "output_type": "stream",
     "text": [
      "WARNING:absl:Found untraced functions such as lstm_cell_160_layer_call_fn, lstm_cell_160_layer_call_and_return_conditional_losses, lstm_cell_160_layer_call_fn, lstm_cell_160_layer_call_and_return_conditional_losses, lstm_cell_160_layer_call_and_return_conditional_losses while saving (showing 5 of 5). These functions will not be directly callable after loading.\n"
     ]
    },
    {
     "name": "stdout",
     "output_type": "stream",
     "text": [
      "INFO:tensorflow:Assets written to: /Users/yukahatori/A_Fairness/FairnessML_git/LSTM-BasicModel/WeatherModelx/assets\n"
     ]
    },
    {
     "name": "stderr",
     "output_type": "stream",
     "text": [
      "INFO:tensorflow:Assets written to: /Users/yukahatori/A_Fairness/FairnessML_git/LSTM-BasicModel/WeatherModelx/assets\n",
      "WARNING:absl:<keras.layers.recurrent.LSTMCell object at 0x7f8ef0ac2b80> has the same name 'LSTMCell' as a built-in Keras object. Consider renaming <class 'keras.layers.recurrent.LSTMCell'> to avoid naming conflicts when loading with `tf.keras.models.load_model`. If renaming is not possible, pass the object in the `custom_objects` parameter of the load function.\n"
     ]
    },
    {
     "name": "stdout",
     "output_type": "stream",
     "text": [
      "247/247 [==============================] - 4s 14ms/step - loss: 6.3933e-05 - root_mean_squared_error: 0.0080 - val_loss: 8.7427e-04 - val_root_mean_squared_error: 0.0296\n",
      "Epoch 14/20\n",
      "237/247 [===========================>..] - ETA: 0s - loss: 6.2365e-05 - root_mean_squared_error: 0.0079"
     ]
    },
    {
     "name": "stderr",
     "output_type": "stream",
     "text": [
      "WARNING:absl:Found untraced functions such as lstm_cell_160_layer_call_fn, lstm_cell_160_layer_call_and_return_conditional_losses, lstm_cell_160_layer_call_fn, lstm_cell_160_layer_call_and_return_conditional_losses, lstm_cell_160_layer_call_and_return_conditional_losses while saving (showing 5 of 5). These functions will not be directly callable after loading.\n"
     ]
    },
    {
     "name": "stdout",
     "output_type": "stream",
     "text": [
      "INFO:tensorflow:Assets written to: /Users/yukahatori/A_Fairness/FairnessML_git/LSTM-BasicModel/WeatherModelx/assets\n"
     ]
    },
    {
     "name": "stderr",
     "output_type": "stream",
     "text": [
      "INFO:tensorflow:Assets written to: /Users/yukahatori/A_Fairness/FairnessML_git/LSTM-BasicModel/WeatherModelx/assets\n",
      "WARNING:absl:<keras.layers.recurrent.LSTMCell object at 0x7f8ef0ac2b80> has the same name 'LSTMCell' as a built-in Keras object. Consider renaming <class 'keras.layers.recurrent.LSTMCell'> to avoid naming conflicts when loading with `tf.keras.models.load_model`. If renaming is not possible, pass the object in the `custom_objects` parameter of the load function.\n"
     ]
    },
    {
     "name": "stdout",
     "output_type": "stream",
     "text": [
      "247/247 [==============================] - 4s 14ms/step - loss: 6.1662e-05 - root_mean_squared_error: 0.0079 - val_loss: 6.9728e-04 - val_root_mean_squared_error: 0.0264\n",
      "Epoch 15/20\n",
      "247/247 [==============================] - 1s 3ms/step - loss: 5.9769e-05 - root_mean_squared_error: 0.0077 - val_loss: 0.0010 - val_root_mean_squared_error: 0.0323\n",
      "Epoch 16/20\n",
      "234/247 [===========================>..] - ETA: 0s - loss: 6.2735e-05 - root_mean_squared_error: 0.0079"
     ]
    },
    {
     "name": "stderr",
     "output_type": "stream",
     "text": [
      "WARNING:absl:Found untraced functions such as lstm_cell_160_layer_call_fn, lstm_cell_160_layer_call_and_return_conditional_losses, lstm_cell_160_layer_call_fn, lstm_cell_160_layer_call_and_return_conditional_losses, lstm_cell_160_layer_call_and_return_conditional_losses while saving (showing 5 of 5). These functions will not be directly callable after loading.\n"
     ]
    },
    {
     "name": "stdout",
     "output_type": "stream",
     "text": [
      "INFO:tensorflow:Assets written to: /Users/yukahatori/A_Fairness/FairnessML_git/LSTM-BasicModel/WeatherModelx/assets\n"
     ]
    },
    {
     "name": "stderr",
     "output_type": "stream",
     "text": [
      "INFO:tensorflow:Assets written to: /Users/yukahatori/A_Fairness/FairnessML_git/LSTM-BasicModel/WeatherModelx/assets\n",
      "WARNING:absl:<keras.layers.recurrent.LSTMCell object at 0x7f8ef0ac2b80> has the same name 'LSTMCell' as a built-in Keras object. Consider renaming <class 'keras.layers.recurrent.LSTMCell'> to avoid naming conflicts when loading with `tf.keras.models.load_model`. If renaming is not possible, pass the object in the `custom_objects` parameter of the load function.\n"
     ]
    },
    {
     "name": "stdout",
     "output_type": "stream",
     "text": [
      "247/247 [==============================] - 4s 18ms/step - loss: 6.1415e-05 - root_mean_squared_error: 0.0078 - val_loss: 6.7498e-04 - val_root_mean_squared_error: 0.0260\n",
      "Epoch 17/20\n",
      "233/247 [===========================>..] - ETA: 0s - loss: 4.6487e-05 - root_mean_squared_error: 0.0068"
     ]
    },
    {
     "name": "stderr",
     "output_type": "stream",
     "text": [
      "WARNING:absl:Found untraced functions such as lstm_cell_160_layer_call_fn, lstm_cell_160_layer_call_and_return_conditional_losses, lstm_cell_160_layer_call_fn, lstm_cell_160_layer_call_and_return_conditional_losses, lstm_cell_160_layer_call_and_return_conditional_losses while saving (showing 5 of 5). These functions will not be directly callable after loading.\n"
     ]
    },
    {
     "name": "stdout",
     "output_type": "stream",
     "text": [
      "INFO:tensorflow:Assets written to: /Users/yukahatori/A_Fairness/FairnessML_git/LSTM-BasicModel/WeatherModelx/assets\n"
     ]
    },
    {
     "name": "stderr",
     "output_type": "stream",
     "text": [
      "INFO:tensorflow:Assets written to: /Users/yukahatori/A_Fairness/FairnessML_git/LSTM-BasicModel/WeatherModelx/assets\n",
      "WARNING:absl:<keras.layers.recurrent.LSTMCell object at 0x7f8ef0ac2b80> has the same name 'LSTMCell' as a built-in Keras object. Consider renaming <class 'keras.layers.recurrent.LSTMCell'> to avoid naming conflicts when loading with `tf.keras.models.load_model`. If renaming is not possible, pass the object in the `custom_objects` parameter of the load function.\n"
     ]
    },
    {
     "name": "stdout",
     "output_type": "stream",
     "text": [
      "247/247 [==============================] - 3s 14ms/step - loss: 4.7724e-05 - root_mean_squared_error: 0.0069 - val_loss: 4.5563e-04 - val_root_mean_squared_error: 0.0213\n",
      "Epoch 18/20\n",
      "247/247 [==============================] - 1s 2ms/step - loss: 6.3634e-05 - root_mean_squared_error: 0.0080 - val_loss: 4.9950e-04 - val_root_mean_squared_error: 0.0223\n",
      "Epoch 19/20\n",
      "247/247 [==============================] - 1s 2ms/step - loss: 5.6789e-05 - root_mean_squared_error: 0.0075 - val_loss: 5.3038e-04 - val_root_mean_squared_error: 0.0230\n",
      "Epoch 20/20\n",
      "247/247 [==============================] - 1s 2ms/step - loss: 5.9267e-05 - root_mean_squared_error: 0.0077 - val_loss: 4.7539e-04 - val_root_mean_squared_error: 0.0218\n",
      "RMSE value:  0.01121303222728512\n",
      "Epoch 1/20\n",
      "237/247 [===========================>..] - ETA: 0s - loss: 0.0190 - root_mean_squared_error: 0.1378"
     ]
    },
    {
     "name": "stderr",
     "output_type": "stream",
     "text": [
      "WARNING:absl:Found untraced functions such as lstm_cell_161_layer_call_fn, lstm_cell_161_layer_call_and_return_conditional_losses, lstm_cell_161_layer_call_fn, lstm_cell_161_layer_call_and_return_conditional_losses, lstm_cell_161_layer_call_and_return_conditional_losses while saving (showing 5 of 5). These functions will not be directly callable after loading.\n"
     ]
    },
    {
     "name": "stdout",
     "output_type": "stream",
     "text": [
      "INFO:tensorflow:Assets written to: /Users/yukahatori/A_Fairness/FairnessML_git/LSTM-BasicModel/WeatherModelx/assets\n"
     ]
    },
    {
     "name": "stderr",
     "output_type": "stream",
     "text": [
      "INFO:tensorflow:Assets written to: /Users/yukahatori/A_Fairness/FairnessML_git/LSTM-BasicModel/WeatherModelx/assets\n",
      "WARNING:absl:<keras.layers.recurrent.LSTMCell object at 0x7f8eee0a9220> has the same name 'LSTMCell' as a built-in Keras object. Consider renaming <class 'keras.layers.recurrent.LSTMCell'> to avoid naming conflicts when loading with `tf.keras.models.load_model`. If renaming is not possible, pass the object in the `custom_objects` parameter of the load function.\n"
     ]
    },
    {
     "name": "stdout",
     "output_type": "stream",
     "text": [
      "247/247 [==============================] - 6s 18ms/step - loss: 0.0183 - root_mean_squared_error: 0.1352 - val_loss: 0.0014 - val_root_mean_squared_error: 0.0373\n",
      "Epoch 2/20\n",
      "232/247 [===========================>..] - ETA: 0s - loss: 1.6879e-04 - root_mean_squared_error: 0.0130"
     ]
    },
    {
     "name": "stderr",
     "output_type": "stream",
     "text": [
      "WARNING:absl:Found untraced functions such as lstm_cell_161_layer_call_fn, lstm_cell_161_layer_call_and_return_conditional_losses, lstm_cell_161_layer_call_fn, lstm_cell_161_layer_call_and_return_conditional_losses, lstm_cell_161_layer_call_and_return_conditional_losses while saving (showing 5 of 5). These functions will not be directly callable after loading.\n"
     ]
    },
    {
     "name": "stdout",
     "output_type": "stream",
     "text": [
      "INFO:tensorflow:Assets written to: /Users/yukahatori/A_Fairness/FairnessML_git/LSTM-BasicModel/WeatherModelx/assets\n"
     ]
    },
    {
     "name": "stderr",
     "output_type": "stream",
     "text": [
      "INFO:tensorflow:Assets written to: /Users/yukahatori/A_Fairness/FairnessML_git/LSTM-BasicModel/WeatherModelx/assets\n",
      "WARNING:absl:<keras.layers.recurrent.LSTMCell object at 0x7f8eee0a9220> has the same name 'LSTMCell' as a built-in Keras object. Consider renaming <class 'keras.layers.recurrent.LSTMCell'> to avoid naming conflicts when loading with `tf.keras.models.load_model`. If renaming is not possible, pass the object in the `custom_objects` parameter of the load function.\n"
     ]
    },
    {
     "name": "stdout",
     "output_type": "stream",
     "text": [
      "247/247 [==============================] - 4s 15ms/step - loss: 1.6794e-04 - root_mean_squared_error: 0.0130 - val_loss: 0.0012 - val_root_mean_squared_error: 0.0345\n",
      "Epoch 3/20\n",
      "247/247 [==============================] - 1s 3ms/step - loss: 1.3840e-04 - root_mean_squared_error: 0.0118 - val_loss: 0.0013 - val_root_mean_squared_error: 0.0367\n",
      "Epoch 4/20\n",
      "247/247 [==============================] - 1s 3ms/step - loss: 1.1914e-04 - root_mean_squared_error: 0.0109 - val_loss: 0.0013 - val_root_mean_squared_error: 0.0355\n",
      "Epoch 5/20\n",
      "247/247 [==============================] - 1s 4ms/step - loss: 1.0289e-04 - root_mean_squared_error: 0.0101 - val_loss: 0.0013 - val_root_mean_squared_error: 0.0354\n",
      "Epoch 6/20\n",
      "242/247 [============================>.] - ETA: 0s - loss: 9.2942e-05 - root_mean_squared_error: 0.0096"
     ]
    },
    {
     "name": "stderr",
     "output_type": "stream",
     "text": [
      "WARNING:absl:Found untraced functions such as lstm_cell_161_layer_call_fn, lstm_cell_161_layer_call_and_return_conditional_losses, lstm_cell_161_layer_call_fn, lstm_cell_161_layer_call_and_return_conditional_losses, lstm_cell_161_layer_call_and_return_conditional_losses while saving (showing 5 of 5). These functions will not be directly callable after loading.\n"
     ]
    },
    {
     "name": "stdout",
     "output_type": "stream",
     "text": [
      "INFO:tensorflow:Assets written to: /Users/yukahatori/A_Fairness/FairnessML_git/LSTM-BasicModel/WeatherModelx/assets\n"
     ]
    },
    {
     "name": "stderr",
     "output_type": "stream",
     "text": [
      "INFO:tensorflow:Assets written to: /Users/yukahatori/A_Fairness/FairnessML_git/LSTM-BasicModel/WeatherModelx/assets\n",
      "WARNING:absl:<keras.layers.recurrent.LSTMCell object at 0x7f8eee0a9220> has the same name 'LSTMCell' as a built-in Keras object. Consider renaming <class 'keras.layers.recurrent.LSTMCell'> to avoid naming conflicts when loading with `tf.keras.models.load_model`. If renaming is not possible, pass the object in the `custom_objects` parameter of the load function.\n"
     ]
    },
    {
     "name": "stdout",
     "output_type": "stream",
     "text": [
      "247/247 [==============================] - 6s 26ms/step - loss: 9.2615e-05 - root_mean_squared_error: 0.0096 - val_loss: 9.5229e-04 - val_root_mean_squared_error: 0.0309\n",
      "Epoch 7/20\n",
      "247/247 [==============================] - 2s 9ms/step - loss: 8.1228e-05 - root_mean_squared_error: 0.0090 - val_loss: 9.8865e-04 - val_root_mean_squared_error: 0.0314\n",
      "Epoch 8/20\n",
      "247/247 [==============================] - 1s 3ms/step - loss: 7.3747e-05 - root_mean_squared_error: 0.0086 - val_loss: 0.0010 - val_root_mean_squared_error: 0.0320\n",
      "Epoch 9/20\n",
      "234/247 [===========================>..] - ETA: 0s - loss: 6.8703e-05 - root_mean_squared_error: 0.0083"
     ]
    },
    {
     "name": "stderr",
     "output_type": "stream",
     "text": [
      "WARNING:absl:Found untraced functions such as lstm_cell_161_layer_call_fn, lstm_cell_161_layer_call_and_return_conditional_losses, lstm_cell_161_layer_call_fn, lstm_cell_161_layer_call_and_return_conditional_losses, lstm_cell_161_layer_call_and_return_conditional_losses while saving (showing 5 of 5). These functions will not be directly callable after loading.\n"
     ]
    },
    {
     "name": "stdout",
     "output_type": "stream",
     "text": [
      "INFO:tensorflow:Assets written to: /Users/yukahatori/A_Fairness/FairnessML_git/LSTM-BasicModel/WeatherModelx/assets\n"
     ]
    },
    {
     "name": "stderr",
     "output_type": "stream",
     "text": [
      "INFO:tensorflow:Assets written to: /Users/yukahatori/A_Fairness/FairnessML_git/LSTM-BasicModel/WeatherModelx/assets\n",
      "WARNING:absl:<keras.layers.recurrent.LSTMCell object at 0x7f8eee0a9220> has the same name 'LSTMCell' as a built-in Keras object. Consider renaming <class 'keras.layers.recurrent.LSTMCell'> to avoid naming conflicts when loading with `tf.keras.models.load_model`. If renaming is not possible, pass the object in the `custom_objects` parameter of the load function.\n"
     ]
    },
    {
     "name": "stdout",
     "output_type": "stream",
     "text": [
      "247/247 [==============================] - 3s 14ms/step - loss: 6.8509e-05 - root_mean_squared_error: 0.0083 - val_loss: 8.2475e-04 - val_root_mean_squared_error: 0.0287\n",
      "Epoch 10/20\n",
      "228/247 [==========================>...] - ETA: 0s - loss: 6.8301e-05 - root_mean_squared_error: 0.0083"
     ]
    },
    {
     "name": "stderr",
     "output_type": "stream",
     "text": [
      "WARNING:absl:Found untraced functions such as lstm_cell_161_layer_call_fn, lstm_cell_161_layer_call_and_return_conditional_losses, lstm_cell_161_layer_call_fn, lstm_cell_161_layer_call_and_return_conditional_losses, lstm_cell_161_layer_call_and_return_conditional_losses while saving (showing 5 of 5). These functions will not be directly callable after loading.\n"
     ]
    },
    {
     "name": "stdout",
     "output_type": "stream",
     "text": [
      "INFO:tensorflow:Assets written to: /Users/yukahatori/A_Fairness/FairnessML_git/LSTM-BasicModel/WeatherModelx/assets\n"
     ]
    },
    {
     "name": "stderr",
     "output_type": "stream",
     "text": [
      "INFO:tensorflow:Assets written to: /Users/yukahatori/A_Fairness/FairnessML_git/LSTM-BasicModel/WeatherModelx/assets\n",
      "WARNING:absl:<keras.layers.recurrent.LSTMCell object at 0x7f8eee0a9220> has the same name 'LSTMCell' as a built-in Keras object. Consider renaming <class 'keras.layers.recurrent.LSTMCell'> to avoid naming conflicts when loading with `tf.keras.models.load_model`. If renaming is not possible, pass the object in the `custom_objects` parameter of the load function.\n"
     ]
    },
    {
     "name": "stdout",
     "output_type": "stream",
     "text": [
      "247/247 [==============================] - 4s 15ms/step - loss: 6.8353e-05 - root_mean_squared_error: 0.0083 - val_loss: 6.5458e-04 - val_root_mean_squared_error: 0.0256\n",
      "Epoch 11/20\n",
      "237/247 [===========================>..] - ETA: 0s - loss: 6.3257e-05 - root_mean_squared_error: 0.0080"
     ]
    },
    {
     "name": "stderr",
     "output_type": "stream",
     "text": [
      "WARNING:absl:Found untraced functions such as lstm_cell_161_layer_call_fn, lstm_cell_161_layer_call_and_return_conditional_losses, lstm_cell_161_layer_call_fn, lstm_cell_161_layer_call_and_return_conditional_losses, lstm_cell_161_layer_call_and_return_conditional_losses while saving (showing 5 of 5). These functions will not be directly callable after loading.\n"
     ]
    },
    {
     "name": "stdout",
     "output_type": "stream",
     "text": [
      "INFO:tensorflow:Assets written to: /Users/yukahatori/A_Fairness/FairnessML_git/LSTM-BasicModel/WeatherModelx/assets\n"
     ]
    },
    {
     "name": "stderr",
     "output_type": "stream",
     "text": [
      "INFO:tensorflow:Assets written to: /Users/yukahatori/A_Fairness/FairnessML_git/LSTM-BasicModel/WeatherModelx/assets\n",
      "WARNING:absl:<keras.layers.recurrent.LSTMCell object at 0x7f8eee0a9220> has the same name 'LSTMCell' as a built-in Keras object. Consider renaming <class 'keras.layers.recurrent.LSTMCell'> to avoid naming conflicts when loading with `tf.keras.models.load_model`. If renaming is not possible, pass the object in the `custom_objects` parameter of the load function.\n"
     ]
    },
    {
     "name": "stdout",
     "output_type": "stream",
     "text": [
      "247/247 [==============================] - 3s 13ms/step - loss: 6.3309e-05 - root_mean_squared_error: 0.0080 - val_loss: 5.0289e-04 - val_root_mean_squared_error: 0.0224\n",
      "Epoch 12/20\n",
      "247/247 [==============================] - 1s 2ms/step - loss: 6.1809e-05 - root_mean_squared_error: 0.0079 - val_loss: 6.0218e-04 - val_root_mean_squared_error: 0.0245\n",
      "Epoch 13/20\n",
      "228/247 [==========================>...] - ETA: 0s - loss: 4.6218e-05 - root_mean_squared_error: 0.0068"
     ]
    },
    {
     "name": "stderr",
     "output_type": "stream",
     "text": [
      "WARNING:absl:Found untraced functions such as lstm_cell_161_layer_call_fn, lstm_cell_161_layer_call_and_return_conditional_losses, lstm_cell_161_layer_call_fn, lstm_cell_161_layer_call_and_return_conditional_losses, lstm_cell_161_layer_call_and_return_conditional_losses while saving (showing 5 of 5). These functions will not be directly callable after loading.\n"
     ]
    },
    {
     "name": "stdout",
     "output_type": "stream",
     "text": [
      "INFO:tensorflow:Assets written to: /Users/yukahatori/A_Fairness/FairnessML_git/LSTM-BasicModel/WeatherModelx/assets\n"
     ]
    },
    {
     "name": "stderr",
     "output_type": "stream",
     "text": [
      "INFO:tensorflow:Assets written to: /Users/yukahatori/A_Fairness/FairnessML_git/LSTM-BasicModel/WeatherModelx/assets\n",
      "WARNING:absl:<keras.layers.recurrent.LSTMCell object at 0x7f8eee0a9220> has the same name 'LSTMCell' as a built-in Keras object. Consider renaming <class 'keras.layers.recurrent.LSTMCell'> to avoid naming conflicts when loading with `tf.keras.models.load_model`. If renaming is not possible, pass the object in the `custom_objects` parameter of the load function.\n"
     ]
    },
    {
     "name": "stdout",
     "output_type": "stream",
     "text": [
      "247/247 [==============================] - 5s 20ms/step - loss: 4.6136e-05 - root_mean_squared_error: 0.0068 - val_loss: 4.2097e-04 - val_root_mean_squared_error: 0.0205\n",
      "Epoch 14/20\n",
      "242/247 [============================>.] - ETA: 0s - loss: 4.7698e-05 - root_mean_squared_error: 0.0069"
     ]
    },
    {
     "name": "stderr",
     "output_type": "stream",
     "text": [
      "WARNING:absl:Found untraced functions such as lstm_cell_161_layer_call_fn, lstm_cell_161_layer_call_and_return_conditional_losses, lstm_cell_161_layer_call_fn, lstm_cell_161_layer_call_and_return_conditional_losses, lstm_cell_161_layer_call_and_return_conditional_losses while saving (showing 5 of 5). These functions will not be directly callable after loading.\n"
     ]
    },
    {
     "name": "stdout",
     "output_type": "stream",
     "text": [
      "INFO:tensorflow:Assets written to: /Users/yukahatori/A_Fairness/FairnessML_git/LSTM-BasicModel/WeatherModelx/assets\n"
     ]
    },
    {
     "name": "stderr",
     "output_type": "stream",
     "text": [
      "INFO:tensorflow:Assets written to: /Users/yukahatori/A_Fairness/FairnessML_git/LSTM-BasicModel/WeatherModelx/assets\n",
      "WARNING:absl:<keras.layers.recurrent.LSTMCell object at 0x7f8eee0a9220> has the same name 'LSTMCell' as a built-in Keras object. Consider renaming <class 'keras.layers.recurrent.LSTMCell'> to avoid naming conflicts when loading with `tf.keras.models.load_model`. If renaming is not possible, pass the object in the `custom_objects` parameter of the load function.\n"
     ]
    },
    {
     "name": "stdout",
     "output_type": "stream",
     "text": [
      "247/247 [==============================] - 4s 15ms/step - loss: 4.7644e-05 - root_mean_squared_error: 0.0069 - val_loss: 4.1252e-04 - val_root_mean_squared_error: 0.0203\n",
      "Epoch 15/20\n",
      "242/247 [============================>.] - ETA: 0s - loss: 4.5158e-05 - root_mean_squared_error: 0.0067"
     ]
    },
    {
     "name": "stderr",
     "output_type": "stream",
     "text": [
      "WARNING:absl:Found untraced functions such as lstm_cell_161_layer_call_fn, lstm_cell_161_layer_call_and_return_conditional_losses, lstm_cell_161_layer_call_fn, lstm_cell_161_layer_call_and_return_conditional_losses, lstm_cell_161_layer_call_and_return_conditional_losses while saving (showing 5 of 5). These functions will not be directly callable after loading.\n"
     ]
    },
    {
     "name": "stdout",
     "output_type": "stream",
     "text": [
      "INFO:tensorflow:Assets written to: /Users/yukahatori/A_Fairness/FairnessML_git/LSTM-BasicModel/WeatherModelx/assets\n"
     ]
    },
    {
     "name": "stderr",
     "output_type": "stream",
     "text": [
      "INFO:tensorflow:Assets written to: /Users/yukahatori/A_Fairness/FairnessML_git/LSTM-BasicModel/WeatherModelx/assets\n",
      "WARNING:absl:<keras.layers.recurrent.LSTMCell object at 0x7f8eee0a9220> has the same name 'LSTMCell' as a built-in Keras object. Consider renaming <class 'keras.layers.recurrent.LSTMCell'> to avoid naming conflicts when loading with `tf.keras.models.load_model`. If renaming is not possible, pass the object in the `custom_objects` parameter of the load function.\n"
     ]
    },
    {
     "name": "stdout",
     "output_type": "stream",
     "text": [
      "247/247 [==============================] - 3s 14ms/step - loss: 4.5090e-05 - root_mean_squared_error: 0.0067 - val_loss: 3.5588e-04 - val_root_mean_squared_error: 0.0189\n",
      "Epoch 16/20\n",
      "230/247 [==========================>...] - ETA: 0s - loss: 4.6522e-05 - root_mean_squared_error: 0.0068"
     ]
    },
    {
     "name": "stderr",
     "output_type": "stream",
     "text": [
      "WARNING:absl:Found untraced functions such as lstm_cell_161_layer_call_fn, lstm_cell_161_layer_call_and_return_conditional_losses, lstm_cell_161_layer_call_fn, lstm_cell_161_layer_call_and_return_conditional_losses, lstm_cell_161_layer_call_and_return_conditional_losses while saving (showing 5 of 5). These functions will not be directly callable after loading.\n"
     ]
    },
    {
     "name": "stdout",
     "output_type": "stream",
     "text": [
      "INFO:tensorflow:Assets written to: /Users/yukahatori/A_Fairness/FairnessML_git/LSTM-BasicModel/WeatherModelx/assets\n"
     ]
    },
    {
     "name": "stderr",
     "output_type": "stream",
     "text": [
      "INFO:tensorflow:Assets written to: /Users/yukahatori/A_Fairness/FairnessML_git/LSTM-BasicModel/WeatherModelx/assets\n",
      "WARNING:absl:<keras.layers.recurrent.LSTMCell object at 0x7f8eee0a9220> has the same name 'LSTMCell' as a built-in Keras object. Consider renaming <class 'keras.layers.recurrent.LSTMCell'> to avoid naming conflicts when loading with `tf.keras.models.load_model`. If renaming is not possible, pass the object in the `custom_objects` parameter of the load function.\n"
     ]
    },
    {
     "name": "stdout",
     "output_type": "stream",
     "text": [
      "247/247 [==============================] - 4s 14ms/step - loss: 4.6123e-05 - root_mean_squared_error: 0.0068 - val_loss: 3.0079e-04 - val_root_mean_squared_error: 0.0173\n",
      "Epoch 17/20\n",
      "233/247 [===========================>..] - ETA: 0s - loss: 4.0874e-05 - root_mean_squared_error: 0.0064"
     ]
    },
    {
     "name": "stderr",
     "output_type": "stream",
     "text": [
      "WARNING:absl:Found untraced functions such as lstm_cell_161_layer_call_fn, lstm_cell_161_layer_call_and_return_conditional_losses, lstm_cell_161_layer_call_fn, lstm_cell_161_layer_call_and_return_conditional_losses, lstm_cell_161_layer_call_and_return_conditional_losses while saving (showing 5 of 5). These functions will not be directly callable after loading.\n"
     ]
    },
    {
     "name": "stdout",
     "output_type": "stream",
     "text": [
      "INFO:tensorflow:Assets written to: /Users/yukahatori/A_Fairness/FairnessML_git/LSTM-BasicModel/WeatherModelx/assets\n"
     ]
    },
    {
     "name": "stderr",
     "output_type": "stream",
     "text": [
      "INFO:tensorflow:Assets written to: /Users/yukahatori/A_Fairness/FairnessML_git/LSTM-BasicModel/WeatherModelx/assets\n",
      "WARNING:absl:<keras.layers.recurrent.LSTMCell object at 0x7f8eee0a9220> has the same name 'LSTMCell' as a built-in Keras object. Consider renaming <class 'keras.layers.recurrent.LSTMCell'> to avoid naming conflicts when loading with `tf.keras.models.load_model`. If renaming is not possible, pass the object in the `custom_objects` parameter of the load function.\n"
     ]
    },
    {
     "name": "stdout",
     "output_type": "stream",
     "text": [
      "247/247 [==============================] - 4s 15ms/step - loss: 4.0916e-05 - root_mean_squared_error: 0.0064 - val_loss: 2.5806e-04 - val_root_mean_squared_error: 0.0161\n",
      "Epoch 18/20\n",
      "232/247 [===========================>..] - ETA: 0s - loss: 4.7349e-05 - root_mean_squared_error: 0.0069"
     ]
    },
    {
     "name": "stderr",
     "output_type": "stream",
     "text": [
      "WARNING:absl:Found untraced functions such as lstm_cell_161_layer_call_fn, lstm_cell_161_layer_call_and_return_conditional_losses, lstm_cell_161_layer_call_fn, lstm_cell_161_layer_call_and_return_conditional_losses, lstm_cell_161_layer_call_and_return_conditional_losses while saving (showing 5 of 5). These functions will not be directly callable after loading.\n"
     ]
    },
    {
     "name": "stdout",
     "output_type": "stream",
     "text": [
      "INFO:tensorflow:Assets written to: /Users/yukahatori/A_Fairness/FairnessML_git/LSTM-BasicModel/WeatherModelx/assets\n"
     ]
    },
    {
     "name": "stderr",
     "output_type": "stream",
     "text": [
      "INFO:tensorflow:Assets written to: /Users/yukahatori/A_Fairness/FairnessML_git/LSTM-BasicModel/WeatherModelx/assets\n",
      "WARNING:absl:<keras.layers.recurrent.LSTMCell object at 0x7f8eee0a9220> has the same name 'LSTMCell' as a built-in Keras object. Consider renaming <class 'keras.layers.recurrent.LSTMCell'> to avoid naming conflicts when loading with `tf.keras.models.load_model`. If renaming is not possible, pass the object in the `custom_objects` parameter of the load function.\n"
     ]
    },
    {
     "name": "stdout",
     "output_type": "stream",
     "text": [
      "247/247 [==============================] - 3s 14ms/step - loss: 4.6937e-05 - root_mean_squared_error: 0.0069 - val_loss: 2.4443e-04 - val_root_mean_squared_error: 0.0156\n",
      "Epoch 19/20\n",
      "241/247 [============================>.] - ETA: 0s - loss: 4.3120e-05 - root_mean_squared_error: 0.0066"
     ]
    },
    {
     "name": "stderr",
     "output_type": "stream",
     "text": [
      "WARNING:absl:Found untraced functions such as lstm_cell_161_layer_call_fn, lstm_cell_161_layer_call_and_return_conditional_losses, lstm_cell_161_layer_call_fn, lstm_cell_161_layer_call_and_return_conditional_losses, lstm_cell_161_layer_call_and_return_conditional_losses while saving (showing 5 of 5). These functions will not be directly callable after loading.\n"
     ]
    },
    {
     "name": "stdout",
     "output_type": "stream",
     "text": [
      "INFO:tensorflow:Assets written to: /Users/yukahatori/A_Fairness/FairnessML_git/LSTM-BasicModel/WeatherModelx/assets\n"
     ]
    },
    {
     "name": "stderr",
     "output_type": "stream",
     "text": [
      "INFO:tensorflow:Assets written to: /Users/yukahatori/A_Fairness/FairnessML_git/LSTM-BasicModel/WeatherModelx/assets\n",
      "WARNING:absl:<keras.layers.recurrent.LSTMCell object at 0x7f8eee0a9220> has the same name 'LSTMCell' as a built-in Keras object. Consider renaming <class 'keras.layers.recurrent.LSTMCell'> to avoid naming conflicts when loading with `tf.keras.models.load_model`. If renaming is not possible, pass the object in the `custom_objects` parameter of the load function.\n"
     ]
    },
    {
     "name": "stdout",
     "output_type": "stream",
     "text": [
      "247/247 [==============================] - 3s 13ms/step - loss: 4.3121e-05 - root_mean_squared_error: 0.0066 - val_loss: 1.9808e-04 - val_root_mean_squared_error: 0.0141\n",
      "Epoch 20/20\n",
      "247/247 [==============================] - 1s 2ms/step - loss: 4.5732e-05 - root_mean_squared_error: 0.0068 - val_loss: 2.9562e-04 - val_root_mean_squared_error: 0.0172\n",
      "RMSE value:  0.007393426379651124\n",
      "Epoch 1/20\n",
      "237/247 [===========================>..] - ETA: 0s - loss: 0.0171 - root_mean_squared_error: 0.1306"
     ]
    },
    {
     "name": "stderr",
     "output_type": "stream",
     "text": [
      "WARNING:absl:Found untraced functions such as lstm_cell_162_layer_call_fn, lstm_cell_162_layer_call_and_return_conditional_losses, lstm_cell_162_layer_call_fn, lstm_cell_162_layer_call_and_return_conditional_losses, lstm_cell_162_layer_call_and_return_conditional_losses while saving (showing 5 of 5). These functions will not be directly callable after loading.\n"
     ]
    },
    {
     "name": "stdout",
     "output_type": "stream",
     "text": [
      "INFO:tensorflow:Assets written to: /Users/yukahatori/A_Fairness/FairnessML_git/LSTM-BasicModel/WeatherModelx/assets\n"
     ]
    },
    {
     "name": "stderr",
     "output_type": "stream",
     "text": [
      "INFO:tensorflow:Assets written to: /Users/yukahatori/A_Fairness/FairnessML_git/LSTM-BasicModel/WeatherModelx/assets\n",
      "WARNING:absl:<keras.layers.recurrent.LSTMCell object at 0x7f8ef3e4fcd0> has the same name 'LSTMCell' as a built-in Keras object. Consider renaming <class 'keras.layers.recurrent.LSTMCell'> to avoid naming conflicts when loading with `tf.keras.models.load_model`. If renaming is not possible, pass the object in the `custom_objects` parameter of the load function.\n"
     ]
    },
    {
     "name": "stdout",
     "output_type": "stream",
     "text": [
      "247/247 [==============================] - 5s 15ms/step - loss: 0.0164 - root_mean_squared_error: 0.1282 - val_loss: 0.0016 - val_root_mean_squared_error: 0.0394\n",
      "Epoch 2/20\n",
      "238/247 [===========================>..] - ETA: 0s - loss: 1.9736e-04 - root_mean_squared_error: 0.0140"
     ]
    },
    {
     "name": "stderr",
     "output_type": "stream",
     "text": [
      "WARNING:absl:Found untraced functions such as lstm_cell_162_layer_call_fn, lstm_cell_162_layer_call_and_return_conditional_losses, lstm_cell_162_layer_call_fn, lstm_cell_162_layer_call_and_return_conditional_losses, lstm_cell_162_layer_call_and_return_conditional_losses while saving (showing 5 of 5). These functions will not be directly callable after loading.\n"
     ]
    },
    {
     "name": "stdout",
     "output_type": "stream",
     "text": [
      "INFO:tensorflow:Assets written to: /Users/yukahatori/A_Fairness/FairnessML_git/LSTM-BasicModel/WeatherModelx/assets\n"
     ]
    },
    {
     "name": "stderr",
     "output_type": "stream",
     "text": [
      "INFO:tensorflow:Assets written to: /Users/yukahatori/A_Fairness/FairnessML_git/LSTM-BasicModel/WeatherModelx/assets\n",
      "WARNING:absl:<keras.layers.recurrent.LSTMCell object at 0x7f8ef3e4fcd0> has the same name 'LSTMCell' as a built-in Keras object. Consider renaming <class 'keras.layers.recurrent.LSTMCell'> to avoid naming conflicts when loading with `tf.keras.models.load_model`. If renaming is not possible, pass the object in the `custom_objects` parameter of the load function.\n"
     ]
    },
    {
     "name": "stdout",
     "output_type": "stream",
     "text": [
      "247/247 [==============================] - 3s 14ms/step - loss: 1.9524e-04 - root_mean_squared_error: 0.0140 - val_loss: 0.0013 - val_root_mean_squared_error: 0.0367\n",
      "Epoch 3/20\n",
      "231/247 [===========================>..] - ETA: 0s - loss: 1.5579e-04 - root_mean_squared_error: 0.0125"
     ]
    },
    {
     "name": "stderr",
     "output_type": "stream",
     "text": [
      "WARNING:absl:Found untraced functions such as lstm_cell_162_layer_call_fn, lstm_cell_162_layer_call_and_return_conditional_losses, lstm_cell_162_layer_call_fn, lstm_cell_162_layer_call_and_return_conditional_losses, lstm_cell_162_layer_call_and_return_conditional_losses while saving (showing 5 of 5). These functions will not be directly callable after loading.\n"
     ]
    },
    {
     "name": "stdout",
     "output_type": "stream",
     "text": [
      "INFO:tensorflow:Assets written to: /Users/yukahatori/A_Fairness/FairnessML_git/LSTM-BasicModel/WeatherModelx/assets\n"
     ]
    },
    {
     "name": "stderr",
     "output_type": "stream",
     "text": [
      "INFO:tensorflow:Assets written to: /Users/yukahatori/A_Fairness/FairnessML_git/LSTM-BasicModel/WeatherModelx/assets\n",
      "WARNING:absl:<keras.layers.recurrent.LSTMCell object at 0x7f8ef3e4fcd0> has the same name 'LSTMCell' as a built-in Keras object. Consider renaming <class 'keras.layers.recurrent.LSTMCell'> to avoid naming conflicts when loading with `tf.keras.models.load_model`. If renaming is not possible, pass the object in the `custom_objects` parameter of the load function.\n"
     ]
    },
    {
     "name": "stdout",
     "output_type": "stream",
     "text": [
      "247/247 [==============================] - 4s 16ms/step - loss: 1.5497e-04 - root_mean_squared_error: 0.0124 - val_loss: 0.0013 - val_root_mean_squared_error: 0.0356\n",
      "Epoch 4/20\n",
      "226/247 [==========================>...] - ETA: 0s - loss: 1.3378e-04 - root_mean_squared_error: 0.0116"
     ]
    },
    {
     "name": "stderr",
     "output_type": "stream",
     "text": [
      "WARNING:absl:Found untraced functions such as lstm_cell_162_layer_call_fn, lstm_cell_162_layer_call_and_return_conditional_losses, lstm_cell_162_layer_call_fn, lstm_cell_162_layer_call_and_return_conditional_losses, lstm_cell_162_layer_call_and_return_conditional_losses while saving (showing 5 of 5). These functions will not be directly callable after loading.\n"
     ]
    },
    {
     "name": "stdout",
     "output_type": "stream",
     "text": [
      "INFO:tensorflow:Assets written to: /Users/yukahatori/A_Fairness/FairnessML_git/LSTM-BasicModel/WeatherModelx/assets\n"
     ]
    },
    {
     "name": "stderr",
     "output_type": "stream",
     "text": [
      "INFO:tensorflow:Assets written to: /Users/yukahatori/A_Fairness/FairnessML_git/LSTM-BasicModel/WeatherModelx/assets\n",
      "WARNING:absl:<keras.layers.recurrent.LSTMCell object at 0x7f8ef3e4fcd0> has the same name 'LSTMCell' as a built-in Keras object. Consider renaming <class 'keras.layers.recurrent.LSTMCell'> to avoid naming conflicts when loading with `tf.keras.models.load_model`. If renaming is not possible, pass the object in the `custom_objects` parameter of the load function.\n"
     ]
    },
    {
     "name": "stdout",
     "output_type": "stream",
     "text": [
      "247/247 [==============================] - 3s 13ms/step - loss: 1.3289e-04 - root_mean_squared_error: 0.0115 - val_loss: 0.0012 - val_root_mean_squared_error: 0.0353\n",
      "Epoch 5/20\n",
      "239/247 [============================>.] - ETA: 0s - loss: 1.1809e-04 - root_mean_squared_error: 0.0109"
     ]
    },
    {
     "name": "stderr",
     "output_type": "stream",
     "text": [
      "WARNING:absl:Found untraced functions such as lstm_cell_162_layer_call_fn, lstm_cell_162_layer_call_and_return_conditional_losses, lstm_cell_162_layer_call_fn, lstm_cell_162_layer_call_and_return_conditional_losses, lstm_cell_162_layer_call_and_return_conditional_losses while saving (showing 5 of 5). These functions will not be directly callable after loading.\n"
     ]
    },
    {
     "name": "stdout",
     "output_type": "stream",
     "text": [
      "INFO:tensorflow:Assets written to: /Users/yukahatori/A_Fairness/FairnessML_git/LSTM-BasicModel/WeatherModelx/assets\n"
     ]
    },
    {
     "name": "stderr",
     "output_type": "stream",
     "text": [
      "INFO:tensorflow:Assets written to: /Users/yukahatori/A_Fairness/FairnessML_git/LSTM-BasicModel/WeatherModelx/assets\n",
      "WARNING:absl:<keras.layers.recurrent.LSTMCell object at 0x7f8ef3e4fcd0> has the same name 'LSTMCell' as a built-in Keras object. Consider renaming <class 'keras.layers.recurrent.LSTMCell'> to avoid naming conflicts when loading with `tf.keras.models.load_model`. If renaming is not possible, pass the object in the `custom_objects` parameter of the load function.\n"
     ]
    },
    {
     "name": "stdout",
     "output_type": "stream",
     "text": [
      "247/247 [==============================] - 4s 14ms/step - loss: 1.1813e-04 - root_mean_squared_error: 0.0109 - val_loss: 0.0012 - val_root_mean_squared_error: 0.0341\n",
      "Epoch 6/20\n",
      "234/247 [===========================>..] - ETA: 0s - loss: 1.0491e-04 - root_mean_squared_error: 0.0102"
     ]
    },
    {
     "name": "stderr",
     "output_type": "stream",
     "text": [
      "WARNING:absl:Found untraced functions such as lstm_cell_162_layer_call_fn, lstm_cell_162_layer_call_and_return_conditional_losses, lstm_cell_162_layer_call_fn, lstm_cell_162_layer_call_and_return_conditional_losses, lstm_cell_162_layer_call_and_return_conditional_losses while saving (showing 5 of 5). These functions will not be directly callable after loading.\n"
     ]
    },
    {
     "name": "stdout",
     "output_type": "stream",
     "text": [
      "INFO:tensorflow:Assets written to: /Users/yukahatori/A_Fairness/FairnessML_git/LSTM-BasicModel/WeatherModelx/assets\n"
     ]
    },
    {
     "name": "stderr",
     "output_type": "stream",
     "text": [
      "INFO:tensorflow:Assets written to: /Users/yukahatori/A_Fairness/FairnessML_git/LSTM-BasicModel/WeatherModelx/assets\n",
      "WARNING:absl:<keras.layers.recurrent.LSTMCell object at 0x7f8ef3e4fcd0> has the same name 'LSTMCell' as a built-in Keras object. Consider renaming <class 'keras.layers.recurrent.LSTMCell'> to avoid naming conflicts when loading with `tf.keras.models.load_model`. If renaming is not possible, pass the object in the `custom_objects` parameter of the load function.\n"
     ]
    },
    {
     "name": "stdout",
     "output_type": "stream",
     "text": [
      "247/247 [==============================] - 3s 13ms/step - loss: 1.0550e-04 - root_mean_squared_error: 0.0103 - val_loss: 0.0011 - val_root_mean_squared_error: 0.0335\n",
      "Epoch 7/20\n",
      "247/247 [==============================] - ETA: 0s - loss: 9.1512e-05 - root_mean_squared_error: 0.0096"
     ]
    },
    {
     "name": "stderr",
     "output_type": "stream",
     "text": [
      "WARNING:absl:Found untraced functions such as lstm_cell_162_layer_call_fn, lstm_cell_162_layer_call_and_return_conditional_losses, lstm_cell_162_layer_call_fn, lstm_cell_162_layer_call_and_return_conditional_losses, lstm_cell_162_layer_call_and_return_conditional_losses while saving (showing 5 of 5). These functions will not be directly callable after loading.\n"
     ]
    },
    {
     "name": "stdout",
     "output_type": "stream",
     "text": [
      "INFO:tensorflow:Assets written to: /Users/yukahatori/A_Fairness/FairnessML_git/LSTM-BasicModel/WeatherModelx/assets\n"
     ]
    },
    {
     "name": "stderr",
     "output_type": "stream",
     "text": [
      "INFO:tensorflow:Assets written to: /Users/yukahatori/A_Fairness/FairnessML_git/LSTM-BasicModel/WeatherModelx/assets\n",
      "WARNING:absl:<keras.layers.recurrent.LSTMCell object at 0x7f8ef3e4fcd0> has the same name 'LSTMCell' as a built-in Keras object. Consider renaming <class 'keras.layers.recurrent.LSTMCell'> to avoid naming conflicts when loading with `tf.keras.models.load_model`. If renaming is not possible, pass the object in the `custom_objects` parameter of the load function.\n"
     ]
    },
    {
     "name": "stdout",
     "output_type": "stream",
     "text": [
      "247/247 [==============================] - 4s 15ms/step - loss: 9.1512e-05 - root_mean_squared_error: 0.0096 - val_loss: 8.2964e-04 - val_root_mean_squared_error: 0.0288\n",
      "Epoch 8/20\n",
      "229/247 [==========================>...] - ETA: 0s - loss: 8.0406e-05 - root_mean_squared_error: 0.0090"
     ]
    },
    {
     "name": "stderr",
     "output_type": "stream",
     "text": [
      "WARNING:absl:Found untraced functions such as lstm_cell_162_layer_call_fn, lstm_cell_162_layer_call_and_return_conditional_losses, lstm_cell_162_layer_call_fn, lstm_cell_162_layer_call_and_return_conditional_losses, lstm_cell_162_layer_call_and_return_conditional_losses while saving (showing 5 of 5). These functions will not be directly callable after loading.\n"
     ]
    },
    {
     "name": "stdout",
     "output_type": "stream",
     "text": [
      "INFO:tensorflow:Assets written to: /Users/yukahatori/A_Fairness/FairnessML_git/LSTM-BasicModel/WeatherModelx/assets\n"
     ]
    },
    {
     "name": "stderr",
     "output_type": "stream",
     "text": [
      "INFO:tensorflow:Assets written to: /Users/yukahatori/A_Fairness/FairnessML_git/LSTM-BasicModel/WeatherModelx/assets\n",
      "WARNING:absl:<keras.layers.recurrent.LSTMCell object at 0x7f8ef3e4fcd0> has the same name 'LSTMCell' as a built-in Keras object. Consider renaming <class 'keras.layers.recurrent.LSTMCell'> to avoid naming conflicts when loading with `tf.keras.models.load_model`. If renaming is not possible, pass the object in the `custom_objects` parameter of the load function.\n"
     ]
    },
    {
     "name": "stdout",
     "output_type": "stream",
     "text": [
      "247/247 [==============================] - 3s 13ms/step - loss: 8.1442e-05 - root_mean_squared_error: 0.0090 - val_loss: 7.2574e-04 - val_root_mean_squared_error: 0.0269\n",
      "Epoch 9/20\n",
      "246/247 [============================>.] - ETA: 0s - loss: 7.4504e-05 - root_mean_squared_error: 0.0086"
     ]
    },
    {
     "name": "stderr",
     "output_type": "stream",
     "text": [
      "WARNING:absl:Found untraced functions such as lstm_cell_162_layer_call_fn, lstm_cell_162_layer_call_and_return_conditional_losses, lstm_cell_162_layer_call_fn, lstm_cell_162_layer_call_and_return_conditional_losses, lstm_cell_162_layer_call_and_return_conditional_losses while saving (showing 5 of 5). These functions will not be directly callable after loading.\n"
     ]
    },
    {
     "name": "stdout",
     "output_type": "stream",
     "text": [
      "INFO:tensorflow:Assets written to: /Users/yukahatori/A_Fairness/FairnessML_git/LSTM-BasicModel/WeatherModelx/assets\n"
     ]
    },
    {
     "name": "stderr",
     "output_type": "stream",
     "text": [
      "INFO:tensorflow:Assets written to: /Users/yukahatori/A_Fairness/FairnessML_git/LSTM-BasicModel/WeatherModelx/assets\n",
      "WARNING:absl:<keras.layers.recurrent.LSTMCell object at 0x7f8ef3e4fcd0> has the same name 'LSTMCell' as a built-in Keras object. Consider renaming <class 'keras.layers.recurrent.LSTMCell'> to avoid naming conflicts when loading with `tf.keras.models.load_model`. If renaming is not possible, pass the object in the `custom_objects` parameter of the load function.\n"
     ]
    },
    {
     "name": "stdout",
     "output_type": "stream",
     "text": [
      "247/247 [==============================] - 3s 13ms/step - loss: 7.4468e-05 - root_mean_squared_error: 0.0086 - val_loss: 6.7026e-04 - val_root_mean_squared_error: 0.0259\n",
      "Epoch 10/20\n",
      "241/247 [============================>.] - ETA: 0s - loss: 6.2946e-05 - root_mean_squared_error: 0.0079"
     ]
    },
    {
     "name": "stderr",
     "output_type": "stream",
     "text": [
      "WARNING:absl:Found untraced functions such as lstm_cell_162_layer_call_fn, lstm_cell_162_layer_call_and_return_conditional_losses, lstm_cell_162_layer_call_fn, lstm_cell_162_layer_call_and_return_conditional_losses, lstm_cell_162_layer_call_and_return_conditional_losses while saving (showing 5 of 5). These functions will not be directly callable after loading.\n"
     ]
    },
    {
     "name": "stdout",
     "output_type": "stream",
     "text": [
      "INFO:tensorflow:Assets written to: /Users/yukahatori/A_Fairness/FairnessML_git/LSTM-BasicModel/WeatherModelx/assets\n"
     ]
    },
    {
     "name": "stderr",
     "output_type": "stream",
     "text": [
      "INFO:tensorflow:Assets written to: /Users/yukahatori/A_Fairness/FairnessML_git/LSTM-BasicModel/WeatherModelx/assets\n",
      "WARNING:absl:<keras.layers.recurrent.LSTMCell object at 0x7f8ef3e4fcd0> has the same name 'LSTMCell' as a built-in Keras object. Consider renaming <class 'keras.layers.recurrent.LSTMCell'> to avoid naming conflicts when loading with `tf.keras.models.load_model`. If renaming is not possible, pass the object in the `custom_objects` parameter of the load function.\n"
     ]
    },
    {
     "name": "stdout",
     "output_type": "stream",
     "text": [
      "247/247 [==============================] - 5s 19ms/step - loss: 6.3395e-05 - root_mean_squared_error: 0.0080 - val_loss: 5.9171e-04 - val_root_mean_squared_error: 0.0243\n",
      "Epoch 11/20\n",
      "233/247 [===========================>..] - ETA: 0s - loss: 5.4752e-05 - root_mean_squared_error: 0.0074"
     ]
    },
    {
     "name": "stderr",
     "output_type": "stream",
     "text": [
      "WARNING:absl:Found untraced functions such as lstm_cell_162_layer_call_fn, lstm_cell_162_layer_call_and_return_conditional_losses, lstm_cell_162_layer_call_fn, lstm_cell_162_layer_call_and_return_conditional_losses, lstm_cell_162_layer_call_and_return_conditional_losses while saving (showing 5 of 5). These functions will not be directly callable after loading.\n"
     ]
    },
    {
     "name": "stdout",
     "output_type": "stream",
     "text": [
      "INFO:tensorflow:Assets written to: /Users/yukahatori/A_Fairness/FairnessML_git/LSTM-BasicModel/WeatherModelx/assets\n"
     ]
    },
    {
     "name": "stderr",
     "output_type": "stream",
     "text": [
      "INFO:tensorflow:Assets written to: /Users/yukahatori/A_Fairness/FairnessML_git/LSTM-BasicModel/WeatherModelx/assets\n",
      "WARNING:absl:<keras.layers.recurrent.LSTMCell object at 0x7f8ef3e4fcd0> has the same name 'LSTMCell' as a built-in Keras object. Consider renaming <class 'keras.layers.recurrent.LSTMCell'> to avoid naming conflicts when loading with `tf.keras.models.load_model`. If renaming is not possible, pass the object in the `custom_objects` parameter of the load function.\n"
     ]
    },
    {
     "name": "stdout",
     "output_type": "stream",
     "text": [
      "247/247 [==============================] - 3s 13ms/step - loss: 5.4968e-05 - root_mean_squared_error: 0.0074 - val_loss: 5.7445e-04 - val_root_mean_squared_error: 0.0240\n",
      "Epoch 12/20\n",
      "234/247 [===========================>..] - ETA: 0s - loss: 5.2516e-05 - root_mean_squared_error: 0.0072"
     ]
    },
    {
     "name": "stderr",
     "output_type": "stream",
     "text": [
      "WARNING:absl:Found untraced functions such as lstm_cell_162_layer_call_fn, lstm_cell_162_layer_call_and_return_conditional_losses, lstm_cell_162_layer_call_fn, lstm_cell_162_layer_call_and_return_conditional_losses, lstm_cell_162_layer_call_and_return_conditional_losses while saving (showing 5 of 5). These functions will not be directly callable after loading.\n"
     ]
    },
    {
     "name": "stdout",
     "output_type": "stream",
     "text": [
      "INFO:tensorflow:Assets written to: /Users/yukahatori/A_Fairness/FairnessML_git/LSTM-BasicModel/WeatherModelx/assets\n"
     ]
    },
    {
     "name": "stderr",
     "output_type": "stream",
     "text": [
      "INFO:tensorflow:Assets written to: /Users/yukahatori/A_Fairness/FairnessML_git/LSTM-BasicModel/WeatherModelx/assets\n",
      "WARNING:absl:<keras.layers.recurrent.LSTMCell object at 0x7f8ef3e4fcd0> has the same name 'LSTMCell' as a built-in Keras object. Consider renaming <class 'keras.layers.recurrent.LSTMCell'> to avoid naming conflicts when loading with `tf.keras.models.load_model`. If renaming is not possible, pass the object in the `custom_objects` parameter of the load function.\n"
     ]
    },
    {
     "name": "stdout",
     "output_type": "stream",
     "text": [
      "247/247 [==============================] - 4s 14ms/step - loss: 5.2491e-05 - root_mean_squared_error: 0.0072 - val_loss: 4.3730e-04 - val_root_mean_squared_error: 0.0209\n",
      "Epoch 13/20\n",
      "247/247 [==============================] - 1s 2ms/step - loss: 4.6014e-05 - root_mean_squared_error: 0.0068 - val_loss: 4.5568e-04 - val_root_mean_squared_error: 0.0213\n",
      "Epoch 14/20\n",
      "247/247 [==============================] - 1s 2ms/step - loss: 4.8311e-05 - root_mean_squared_error: 0.0070 - val_loss: 4.9756e-04 - val_root_mean_squared_error: 0.0223\n",
      "Epoch 15/20\n",
      "229/247 [==========================>...] - ETA: 0s - loss: 4.3659e-05 - root_mean_squared_error: 0.0066"
     ]
    },
    {
     "name": "stderr",
     "output_type": "stream",
     "text": [
      "WARNING:absl:Found untraced functions such as lstm_cell_162_layer_call_fn, lstm_cell_162_layer_call_and_return_conditional_losses, lstm_cell_162_layer_call_fn, lstm_cell_162_layer_call_and_return_conditional_losses, lstm_cell_162_layer_call_and_return_conditional_losses while saving (showing 5 of 5). These functions will not be directly callable after loading.\n"
     ]
    },
    {
     "name": "stdout",
     "output_type": "stream",
     "text": [
      "INFO:tensorflow:Assets written to: /Users/yukahatori/A_Fairness/FairnessML_git/LSTM-BasicModel/WeatherModelx/assets\n"
     ]
    },
    {
     "name": "stderr",
     "output_type": "stream",
     "text": [
      "INFO:tensorflow:Assets written to: /Users/yukahatori/A_Fairness/FairnessML_git/LSTM-BasicModel/WeatherModelx/assets\n",
      "WARNING:absl:<keras.layers.recurrent.LSTMCell object at 0x7f8ef3e4fcd0> has the same name 'LSTMCell' as a built-in Keras object. Consider renaming <class 'keras.layers.recurrent.LSTMCell'> to avoid naming conflicts when loading with `tf.keras.models.load_model`. If renaming is not possible, pass the object in the `custom_objects` parameter of the load function.\n"
     ]
    },
    {
     "name": "stdout",
     "output_type": "stream",
     "text": [
      "247/247 [==============================] - 3s 13ms/step - loss: 4.3274e-05 - root_mean_squared_error: 0.0066 - val_loss: 3.3595e-04 - val_root_mean_squared_error: 0.0183\n",
      "Epoch 16/20\n",
      "224/247 [==========================>...] - ETA: 0s - loss: 3.9560e-05 - root_mean_squared_error: 0.0063"
     ]
    },
    {
     "name": "stderr",
     "output_type": "stream",
     "text": [
      "WARNING:absl:Found untraced functions such as lstm_cell_162_layer_call_fn, lstm_cell_162_layer_call_and_return_conditional_losses, lstm_cell_162_layer_call_fn, lstm_cell_162_layer_call_and_return_conditional_losses, lstm_cell_162_layer_call_and_return_conditional_losses while saving (showing 5 of 5). These functions will not be directly callable after loading.\n"
     ]
    },
    {
     "name": "stdout",
     "output_type": "stream",
     "text": [
      "INFO:tensorflow:Assets written to: /Users/yukahatori/A_Fairness/FairnessML_git/LSTM-BasicModel/WeatherModelx/assets\n"
     ]
    },
    {
     "name": "stderr",
     "output_type": "stream",
     "text": [
      "INFO:tensorflow:Assets written to: /Users/yukahatori/A_Fairness/FairnessML_git/LSTM-BasicModel/WeatherModelx/assets\n",
      "WARNING:absl:<keras.layers.recurrent.LSTMCell object at 0x7f8ef3e4fcd0> has the same name 'LSTMCell' as a built-in Keras object. Consider renaming <class 'keras.layers.recurrent.LSTMCell'> to avoid naming conflicts when loading with `tf.keras.models.load_model`. If renaming is not possible, pass the object in the `custom_objects` parameter of the load function.\n"
     ]
    },
    {
     "name": "stdout",
     "output_type": "stream",
     "text": [
      "247/247 [==============================] - 3s 14ms/step - loss: 3.9529e-05 - root_mean_squared_error: 0.0063 - val_loss: 2.6625e-04 - val_root_mean_squared_error: 0.0163\n",
      "Epoch 17/20\n",
      "247/247 [==============================] - 1s 2ms/step - loss: 4.1354e-05 - root_mean_squared_error: 0.0064 - val_loss: 3.2981e-04 - val_root_mean_squared_error: 0.0182\n",
      "Epoch 18/20\n",
      "247/247 [==============================] - 1s 2ms/step - loss: 3.7209e-05 - root_mean_squared_error: 0.0061 - val_loss: 3.7887e-04 - val_root_mean_squared_error: 0.0195\n",
      "Epoch 19/20\n",
      "247/247 [==============================] - 1s 2ms/step - loss: 4.2008e-05 - root_mean_squared_error: 0.0065 - val_loss: 2.8624e-04 - val_root_mean_squared_error: 0.0169\n",
      "Epoch 20/20\n",
      "247/247 [==============================] - 1s 2ms/step - loss: 4.7295e-05 - root_mean_squared_error: 0.0069 - val_loss: 2.6781e-04 - val_root_mean_squared_error: 0.0164\n",
      "RMSE value:  0.0059388152494496945\n",
      "Epoch 1/20\n",
      "243/247 [============================>.] - ETA: 0s - loss: 0.0265 - root_mean_squared_error: 0.1628"
     ]
    },
    {
     "name": "stderr",
     "output_type": "stream",
     "text": [
      "WARNING:absl:Found untraced functions such as lstm_cell_163_layer_call_fn, lstm_cell_163_layer_call_and_return_conditional_losses, lstm_cell_163_layer_call_fn, lstm_cell_163_layer_call_and_return_conditional_losses, lstm_cell_163_layer_call_and_return_conditional_losses while saving (showing 5 of 5). These functions will not be directly callable after loading.\n"
     ]
    },
    {
     "name": "stdout",
     "output_type": "stream",
     "text": [
      "INFO:tensorflow:Assets written to: /Users/yukahatori/A_Fairness/FairnessML_git/LSTM-BasicModel/WeatherModelx/assets\n"
     ]
    },
    {
     "name": "stderr",
     "output_type": "stream",
     "text": [
      "INFO:tensorflow:Assets written to: /Users/yukahatori/A_Fairness/FairnessML_git/LSTM-BasicModel/WeatherModelx/assets\n",
      "WARNING:absl:<keras.layers.recurrent.LSTMCell object at 0x7f8ef8235340> has the same name 'LSTMCell' as a built-in Keras object. Consider renaming <class 'keras.layers.recurrent.LSTMCell'> to avoid naming conflicts when loading with `tf.keras.models.load_model`. If renaming is not possible, pass the object in the `custom_objects` parameter of the load function.\n"
     ]
    },
    {
     "name": "stdout",
     "output_type": "stream",
     "text": [
      "247/247 [==============================] - 5s 15ms/step - loss: 0.0261 - root_mean_squared_error: 0.1617 - val_loss: 0.0028 - val_root_mean_squared_error: 0.0530\n",
      "Epoch 2/20\n",
      "241/247 [============================>.] - ETA: 0s - loss: 2.0730e-04 - root_mean_squared_error: 0.0144"
     ]
    },
    {
     "name": "stderr",
     "output_type": "stream",
     "text": [
      "WARNING:absl:Found untraced functions such as lstm_cell_163_layer_call_fn, lstm_cell_163_layer_call_and_return_conditional_losses, lstm_cell_163_layer_call_fn, lstm_cell_163_layer_call_and_return_conditional_losses, lstm_cell_163_layer_call_and_return_conditional_losses while saving (showing 5 of 5). These functions will not be directly callable after loading.\n"
     ]
    },
    {
     "name": "stdout",
     "output_type": "stream",
     "text": [
      "INFO:tensorflow:Assets written to: /Users/yukahatori/A_Fairness/FairnessML_git/LSTM-BasicModel/WeatherModelx/assets\n"
     ]
    },
    {
     "name": "stderr",
     "output_type": "stream",
     "text": [
      "INFO:tensorflow:Assets written to: /Users/yukahatori/A_Fairness/FairnessML_git/LSTM-BasicModel/WeatherModelx/assets\n",
      "WARNING:absl:<keras.layers.recurrent.LSTMCell object at 0x7f8ef8235340> has the same name 'LSTMCell' as a built-in Keras object. Consider renaming <class 'keras.layers.recurrent.LSTMCell'> to avoid naming conflicts when loading with `tf.keras.models.load_model`. If renaming is not possible, pass the object in the `custom_objects` parameter of the load function.\n"
     ]
    },
    {
     "name": "stdout",
     "output_type": "stream",
     "text": [
      "247/247 [==============================] - 3s 13ms/step - loss: 2.0716e-04 - root_mean_squared_error: 0.0144 - val_loss: 0.0021 - val_root_mean_squared_error: 0.0461\n",
      "Epoch 3/20\n",
      "242/247 [============================>.] - ETA: 0s - loss: 1.6270e-04 - root_mean_squared_error: 0.0128"
     ]
    },
    {
     "name": "stderr",
     "output_type": "stream",
     "text": [
      "WARNING:absl:Found untraced functions such as lstm_cell_163_layer_call_fn, lstm_cell_163_layer_call_and_return_conditional_losses, lstm_cell_163_layer_call_fn, lstm_cell_163_layer_call_and_return_conditional_losses, lstm_cell_163_layer_call_and_return_conditional_losses while saving (showing 5 of 5). These functions will not be directly callable after loading.\n"
     ]
    },
    {
     "name": "stdout",
     "output_type": "stream",
     "text": [
      "INFO:tensorflow:Assets written to: /Users/yukahatori/A_Fairness/FairnessML_git/LSTM-BasicModel/WeatherModelx/assets\n"
     ]
    },
    {
     "name": "stderr",
     "output_type": "stream",
     "text": [
      "INFO:tensorflow:Assets written to: /Users/yukahatori/A_Fairness/FairnessML_git/LSTM-BasicModel/WeatherModelx/assets\n",
      "WARNING:absl:<keras.layers.recurrent.LSTMCell object at 0x7f8ef8235340> has the same name 'LSTMCell' as a built-in Keras object. Consider renaming <class 'keras.layers.recurrent.LSTMCell'> to avoid naming conflicts when loading with `tf.keras.models.load_model`. If renaming is not possible, pass the object in the `custom_objects` parameter of the load function.\n"
     ]
    },
    {
     "name": "stdout",
     "output_type": "stream",
     "text": [
      "247/247 [==============================] - 4s 14ms/step - loss: 1.6283e-04 - root_mean_squared_error: 0.0128 - val_loss: 0.0021 - val_root_mean_squared_error: 0.0455\n",
      "Epoch 4/20\n",
      "243/247 [============================>.] - ETA: 0s - loss: 1.4083e-04 - root_mean_squared_error: 0.0119"
     ]
    },
    {
     "name": "stderr",
     "output_type": "stream",
     "text": [
      "WARNING:absl:Found untraced functions such as lstm_cell_163_layer_call_fn, lstm_cell_163_layer_call_and_return_conditional_losses, lstm_cell_163_layer_call_fn, lstm_cell_163_layer_call_and_return_conditional_losses, lstm_cell_163_layer_call_and_return_conditional_losses while saving (showing 5 of 5). These functions will not be directly callable after loading.\n"
     ]
    },
    {
     "name": "stdout",
     "output_type": "stream",
     "text": [
      "INFO:tensorflow:Assets written to: /Users/yukahatori/A_Fairness/FairnessML_git/LSTM-BasicModel/WeatherModelx/assets\n"
     ]
    },
    {
     "name": "stderr",
     "output_type": "stream",
     "text": [
      "INFO:tensorflow:Assets written to: /Users/yukahatori/A_Fairness/FairnessML_git/LSTM-BasicModel/WeatherModelx/assets\n",
      "WARNING:absl:<keras.layers.recurrent.LSTMCell object at 0x7f8ef8235340> has the same name 'LSTMCell' as a built-in Keras object. Consider renaming <class 'keras.layers.recurrent.LSTMCell'> to avoid naming conflicts when loading with `tf.keras.models.load_model`. If renaming is not possible, pass the object in the `custom_objects` parameter of the load function.\n"
     ]
    },
    {
     "name": "stdout",
     "output_type": "stream",
     "text": [
      "247/247 [==============================] - 3s 13ms/step - loss: 1.4012e-04 - root_mean_squared_error: 0.0118 - val_loss: 0.0019 - val_root_mean_squared_error: 0.0437\n",
      "Epoch 5/20\n",
      "245/247 [============================>.] - ETA: 0s - loss: 1.2583e-04 - root_mean_squared_error: 0.0112"
     ]
    },
    {
     "name": "stderr",
     "output_type": "stream",
     "text": [
      "WARNING:absl:Found untraced functions such as lstm_cell_163_layer_call_fn, lstm_cell_163_layer_call_and_return_conditional_losses, lstm_cell_163_layer_call_fn, lstm_cell_163_layer_call_and_return_conditional_losses, lstm_cell_163_layer_call_and_return_conditional_losses while saving (showing 5 of 5). These functions will not be directly callable after loading.\n"
     ]
    },
    {
     "name": "stdout",
     "output_type": "stream",
     "text": [
      "INFO:tensorflow:Assets written to: /Users/yukahatori/A_Fairness/FairnessML_git/LSTM-BasicModel/WeatherModelx/assets\n"
     ]
    },
    {
     "name": "stderr",
     "output_type": "stream",
     "text": [
      "INFO:tensorflow:Assets written to: /Users/yukahatori/A_Fairness/FairnessML_git/LSTM-BasicModel/WeatherModelx/assets\n",
      "WARNING:absl:<keras.layers.recurrent.LSTMCell object at 0x7f8ef8235340> has the same name 'LSTMCell' as a built-in Keras object. Consider renaming <class 'keras.layers.recurrent.LSTMCell'> to avoid naming conflicts when loading with `tf.keras.models.load_model`. If renaming is not possible, pass the object in the `custom_objects` parameter of the load function.\n"
     ]
    },
    {
     "name": "stdout",
     "output_type": "stream",
     "text": [
      "247/247 [==============================] - 4s 14ms/step - loss: 1.2557e-04 - root_mean_squared_error: 0.0112 - val_loss: 0.0017 - val_root_mean_squared_error: 0.0411\n",
      "Epoch 6/20\n",
      "245/247 [============================>.] - ETA: 0s - loss: 1.1220e-04 - root_mean_squared_error: 0.0106"
     ]
    },
    {
     "name": "stderr",
     "output_type": "stream",
     "text": [
      "WARNING:absl:Found untraced functions such as lstm_cell_163_layer_call_fn, lstm_cell_163_layer_call_and_return_conditional_losses, lstm_cell_163_layer_call_fn, lstm_cell_163_layer_call_and_return_conditional_losses, lstm_cell_163_layer_call_and_return_conditional_losses while saving (showing 5 of 5). These functions will not be directly callable after loading.\n"
     ]
    },
    {
     "name": "stdout",
     "output_type": "stream",
     "text": [
      "INFO:tensorflow:Assets written to: /Users/yukahatori/A_Fairness/FairnessML_git/LSTM-BasicModel/WeatherModelx/assets\n"
     ]
    },
    {
     "name": "stderr",
     "output_type": "stream",
     "text": [
      "INFO:tensorflow:Assets written to: /Users/yukahatori/A_Fairness/FairnessML_git/LSTM-BasicModel/WeatherModelx/assets\n",
      "WARNING:absl:<keras.layers.recurrent.LSTMCell object at 0x7f8ef8235340> has the same name 'LSTMCell' as a built-in Keras object. Consider renaming <class 'keras.layers.recurrent.LSTMCell'> to avoid naming conflicts when loading with `tf.keras.models.load_model`. If renaming is not possible, pass the object in the `custom_objects` parameter of the load function.\n"
     ]
    },
    {
     "name": "stdout",
     "output_type": "stream",
     "text": [
      "247/247 [==============================] - 3s 13ms/step - loss: 1.1200e-04 - root_mean_squared_error: 0.0106 - val_loss: 0.0011 - val_root_mean_squared_error: 0.0331\n",
      "Epoch 7/20\n",
      "246/247 [============================>.] - ETA: 0s - loss: 9.9912e-05 - root_mean_squared_error: 0.0100"
     ]
    },
    {
     "name": "stderr",
     "output_type": "stream",
     "text": [
      "WARNING:absl:Found untraced functions such as lstm_cell_163_layer_call_fn, lstm_cell_163_layer_call_and_return_conditional_losses, lstm_cell_163_layer_call_fn, lstm_cell_163_layer_call_and_return_conditional_losses, lstm_cell_163_layer_call_and_return_conditional_losses while saving (showing 5 of 5). These functions will not be directly callable after loading.\n"
     ]
    },
    {
     "name": "stdout",
     "output_type": "stream",
     "text": [
      "INFO:tensorflow:Assets written to: /Users/yukahatori/A_Fairness/FairnessML_git/LSTM-BasicModel/WeatherModelx/assets\n"
     ]
    },
    {
     "name": "stderr",
     "output_type": "stream",
     "text": [
      "INFO:tensorflow:Assets written to: /Users/yukahatori/A_Fairness/FairnessML_git/LSTM-BasicModel/WeatherModelx/assets\n",
      "WARNING:absl:<keras.layers.recurrent.LSTMCell object at 0x7f8ef8235340> has the same name 'LSTMCell' as a built-in Keras object. Consider renaming <class 'keras.layers.recurrent.LSTMCell'> to avoid naming conflicts when loading with `tf.keras.models.load_model`. If renaming is not possible, pass the object in the `custom_objects` parameter of the load function.\n"
     ]
    },
    {
     "name": "stdout",
     "output_type": "stream",
     "text": [
      "247/247 [==============================] - 3s 12ms/step - loss: 9.9885e-05 - root_mean_squared_error: 0.0100 - val_loss: 0.0011 - val_root_mean_squared_error: 0.0325\n",
      "Epoch 8/20\n",
      "244/247 [============================>.] - ETA: 0s - loss: 8.6864e-05 - root_mean_squared_error: 0.0093"
     ]
    },
    {
     "name": "stderr",
     "output_type": "stream",
     "text": [
      "WARNING:absl:Found untraced functions such as lstm_cell_163_layer_call_fn, lstm_cell_163_layer_call_and_return_conditional_losses, lstm_cell_163_layer_call_fn, lstm_cell_163_layer_call_and_return_conditional_losses, lstm_cell_163_layer_call_and_return_conditional_losses while saving (showing 5 of 5). These functions will not be directly callable after loading.\n"
     ]
    },
    {
     "name": "stdout",
     "output_type": "stream",
     "text": [
      "INFO:tensorflow:Assets written to: /Users/yukahatori/A_Fairness/FairnessML_git/LSTM-BasicModel/WeatherModelx/assets\n"
     ]
    },
    {
     "name": "stderr",
     "output_type": "stream",
     "text": [
      "INFO:tensorflow:Assets written to: /Users/yukahatori/A_Fairness/FairnessML_git/LSTM-BasicModel/WeatherModelx/assets\n",
      "WARNING:absl:<keras.layers.recurrent.LSTMCell object at 0x7f8ef8235340> has the same name 'LSTMCell' as a built-in Keras object. Consider renaming <class 'keras.layers.recurrent.LSTMCell'> to avoid naming conflicts when loading with `tf.keras.models.load_model`. If renaming is not possible, pass the object in the `custom_objects` parameter of the load function.\n"
     ]
    },
    {
     "name": "stdout",
     "output_type": "stream",
     "text": [
      "247/247 [==============================] - 4s 15ms/step - loss: 8.6730e-05 - root_mean_squared_error: 0.0093 - val_loss: 0.0010 - val_root_mean_squared_error: 0.0321\n",
      "Epoch 9/20\n",
      "242/247 [============================>.] - ETA: 0s - loss: 7.8716e-05 - root_mean_squared_error: 0.0089"
     ]
    },
    {
     "name": "stderr",
     "output_type": "stream",
     "text": [
      "WARNING:absl:Found untraced functions such as lstm_cell_163_layer_call_fn, lstm_cell_163_layer_call_and_return_conditional_losses, lstm_cell_163_layer_call_fn, lstm_cell_163_layer_call_and_return_conditional_losses, lstm_cell_163_layer_call_and_return_conditional_losses while saving (showing 5 of 5). These functions will not be directly callable after loading.\n"
     ]
    },
    {
     "name": "stdout",
     "output_type": "stream",
     "text": [
      "INFO:tensorflow:Assets written to: /Users/yukahatori/A_Fairness/FairnessML_git/LSTM-BasicModel/WeatherModelx/assets\n"
     ]
    },
    {
     "name": "stderr",
     "output_type": "stream",
     "text": [
      "INFO:tensorflow:Assets written to: /Users/yukahatori/A_Fairness/FairnessML_git/LSTM-BasicModel/WeatherModelx/assets\n",
      "WARNING:absl:<keras.layers.recurrent.LSTMCell object at 0x7f8ef8235340> has the same name 'LSTMCell' as a built-in Keras object. Consider renaming <class 'keras.layers.recurrent.LSTMCell'> to avoid naming conflicts when loading with `tf.keras.models.load_model`. If renaming is not possible, pass the object in the `custom_objects` parameter of the load function.\n"
     ]
    },
    {
     "name": "stdout",
     "output_type": "stream",
     "text": [
      "247/247 [==============================] - 3s 13ms/step - loss: 7.8637e-05 - root_mean_squared_error: 0.0089 - val_loss: 8.7625e-04 - val_root_mean_squared_error: 0.0296\n",
      "Epoch 10/20\n",
      "244/247 [============================>.] - ETA: 0s - loss: 6.0446e-05 - root_mean_squared_error: 0.0078"
     ]
    },
    {
     "name": "stderr",
     "output_type": "stream",
     "text": [
      "WARNING:absl:Found untraced functions such as lstm_cell_163_layer_call_fn, lstm_cell_163_layer_call_and_return_conditional_losses, lstm_cell_163_layer_call_fn, lstm_cell_163_layer_call_and_return_conditional_losses, lstm_cell_163_layer_call_and_return_conditional_losses while saving (showing 5 of 5). These functions will not be directly callable after loading.\n"
     ]
    },
    {
     "name": "stdout",
     "output_type": "stream",
     "text": [
      "INFO:tensorflow:Assets written to: /Users/yukahatori/A_Fairness/FairnessML_git/LSTM-BasicModel/WeatherModelx/assets\n"
     ]
    },
    {
     "name": "stderr",
     "output_type": "stream",
     "text": [
      "INFO:tensorflow:Assets written to: /Users/yukahatori/A_Fairness/FairnessML_git/LSTM-BasicModel/WeatherModelx/assets\n",
      "WARNING:absl:<keras.layers.recurrent.LSTMCell object at 0x7f8ef8235340> has the same name 'LSTMCell' as a built-in Keras object. Consider renaming <class 'keras.layers.recurrent.LSTMCell'> to avoid naming conflicts when loading with `tf.keras.models.load_model`. If renaming is not possible, pass the object in the `custom_objects` parameter of the load function.\n"
     ]
    },
    {
     "name": "stdout",
     "output_type": "stream",
     "text": [
      "247/247 [==============================] - 4s 15ms/step - loss: 6.0367e-05 - root_mean_squared_error: 0.0078 - val_loss: 6.9031e-04 - val_root_mean_squared_error: 0.0263\n",
      "Epoch 11/20\n",
      "243/247 [============================>.] - ETA: 0s - loss: 5.5970e-05 - root_mean_squared_error: 0.0075"
     ]
    },
    {
     "name": "stderr",
     "output_type": "stream",
     "text": [
      "WARNING:absl:Found untraced functions such as lstm_cell_163_layer_call_fn, lstm_cell_163_layer_call_and_return_conditional_losses, lstm_cell_163_layer_call_fn, lstm_cell_163_layer_call_and_return_conditional_losses, lstm_cell_163_layer_call_and_return_conditional_losses while saving (showing 5 of 5). These functions will not be directly callable after loading.\n"
     ]
    },
    {
     "name": "stdout",
     "output_type": "stream",
     "text": [
      "INFO:tensorflow:Assets written to: /Users/yukahatori/A_Fairness/FairnessML_git/LSTM-BasicModel/WeatherModelx/assets\n"
     ]
    },
    {
     "name": "stderr",
     "output_type": "stream",
     "text": [
      "INFO:tensorflow:Assets written to: /Users/yukahatori/A_Fairness/FairnessML_git/LSTM-BasicModel/WeatherModelx/assets\n",
      "WARNING:absl:<keras.layers.recurrent.LSTMCell object at 0x7f8ef8235340> has the same name 'LSTMCell' as a built-in Keras object. Consider renaming <class 'keras.layers.recurrent.LSTMCell'> to avoid naming conflicts when loading with `tf.keras.models.load_model`. If renaming is not possible, pass the object in the `custom_objects` parameter of the load function.\n"
     ]
    },
    {
     "name": "stdout",
     "output_type": "stream",
     "text": [
      "247/247 [==============================] - 3s 14ms/step - loss: 5.5915e-05 - root_mean_squared_error: 0.0075 - val_loss: 4.3598e-04 - val_root_mean_squared_error: 0.0209\n",
      "Epoch 12/20\n",
      "229/247 [==========================>...] - ETA: 0s - loss: 4.8691e-05 - root_mean_squared_error: 0.0070"
     ]
    },
    {
     "name": "stderr",
     "output_type": "stream",
     "text": [
      "WARNING:absl:Found untraced functions such as lstm_cell_163_layer_call_fn, lstm_cell_163_layer_call_and_return_conditional_losses, lstm_cell_163_layer_call_fn, lstm_cell_163_layer_call_and_return_conditional_losses, lstm_cell_163_layer_call_and_return_conditional_losses while saving (showing 5 of 5). These functions will not be directly callable after loading.\n"
     ]
    },
    {
     "name": "stdout",
     "output_type": "stream",
     "text": [
      "INFO:tensorflow:Assets written to: /Users/yukahatori/A_Fairness/FairnessML_git/LSTM-BasicModel/WeatherModelx/assets\n"
     ]
    },
    {
     "name": "stderr",
     "output_type": "stream",
     "text": [
      "INFO:tensorflow:Assets written to: /Users/yukahatori/A_Fairness/FairnessML_git/LSTM-BasicModel/WeatherModelx/assets\n",
      "WARNING:absl:<keras.layers.recurrent.LSTMCell object at 0x7f8ef8235340> has the same name 'LSTMCell' as a built-in Keras object. Consider renaming <class 'keras.layers.recurrent.LSTMCell'> to avoid naming conflicts when loading with `tf.keras.models.load_model`. If renaming is not possible, pass the object in the `custom_objects` parameter of the load function.\n"
     ]
    },
    {
     "name": "stdout",
     "output_type": "stream",
     "text": [
      "247/247 [==============================] - 4s 15ms/step - loss: 4.8734e-05 - root_mean_squared_error: 0.0070 - val_loss: 2.5703e-04 - val_root_mean_squared_error: 0.0160\n",
      "Epoch 13/20\n",
      "247/247 [==============================] - 1s 3ms/step - loss: 5.6643e-05 - root_mean_squared_error: 0.0075 - val_loss: 4.0048e-04 - val_root_mean_squared_error: 0.0200\n",
      "Epoch 14/20\n",
      "243/247 [============================>.] - ETA: 0s - loss: 5.2470e-05 - root_mean_squared_error: 0.0072"
     ]
    },
    {
     "name": "stderr",
     "output_type": "stream",
     "text": [
      "WARNING:absl:Found untraced functions such as lstm_cell_163_layer_call_fn, lstm_cell_163_layer_call_and_return_conditional_losses, lstm_cell_163_layer_call_fn, lstm_cell_163_layer_call_and_return_conditional_losses, lstm_cell_163_layer_call_and_return_conditional_losses while saving (showing 5 of 5). These functions will not be directly callable after loading.\n"
     ]
    },
    {
     "name": "stdout",
     "output_type": "stream",
     "text": [
      "INFO:tensorflow:Assets written to: /Users/yukahatori/A_Fairness/FairnessML_git/LSTM-BasicModel/WeatherModelx/assets\n"
     ]
    },
    {
     "name": "stderr",
     "output_type": "stream",
     "text": [
      "INFO:tensorflow:Assets written to: /Users/yukahatori/A_Fairness/FairnessML_git/LSTM-BasicModel/WeatherModelx/assets\n",
      "WARNING:absl:<keras.layers.recurrent.LSTMCell object at 0x7f8ef8235340> has the same name 'LSTMCell' as a built-in Keras object. Consider renaming <class 'keras.layers.recurrent.LSTMCell'> to avoid naming conflicts when loading with `tf.keras.models.load_model`. If renaming is not possible, pass the object in the `custom_objects` parameter of the load function.\n"
     ]
    },
    {
     "name": "stdout",
     "output_type": "stream",
     "text": [
      "247/247 [==============================] - 3s 14ms/step - loss: 5.2554e-05 - root_mean_squared_error: 0.0072 - val_loss: 2.0033e-04 - val_root_mean_squared_error: 0.0142\n",
      "Epoch 15/20\n",
      "247/247 [==============================] - 1s 3ms/step - loss: 4.4869e-05 - root_mean_squared_error: 0.0067 - val_loss: 2.8245e-04 - val_root_mean_squared_error: 0.0168\n",
      "Epoch 16/20\n",
      "238/247 [===========================>..] - ETA: 0s - loss: 4.9601e-05 - root_mean_squared_error: 0.0070"
     ]
    },
    {
     "name": "stderr",
     "output_type": "stream",
     "text": [
      "WARNING:absl:Found untraced functions such as lstm_cell_163_layer_call_fn, lstm_cell_163_layer_call_and_return_conditional_losses, lstm_cell_163_layer_call_fn, lstm_cell_163_layer_call_and_return_conditional_losses, lstm_cell_163_layer_call_and_return_conditional_losses while saving (showing 5 of 5). These functions will not be directly callable after loading.\n"
     ]
    },
    {
     "name": "stdout",
     "output_type": "stream",
     "text": [
      "INFO:tensorflow:Assets written to: /Users/yukahatori/A_Fairness/FairnessML_git/LSTM-BasicModel/WeatherModelx/assets\n"
     ]
    },
    {
     "name": "stderr",
     "output_type": "stream",
     "text": [
      "INFO:tensorflow:Assets written to: /Users/yukahatori/A_Fairness/FairnessML_git/LSTM-BasicModel/WeatherModelx/assets\n",
      "WARNING:absl:<keras.layers.recurrent.LSTMCell object at 0x7f8ef8235340> has the same name 'LSTMCell' as a built-in Keras object. Consider renaming <class 'keras.layers.recurrent.LSTMCell'> to avoid naming conflicts when loading with `tf.keras.models.load_model`. If renaming is not possible, pass the object in the `custom_objects` parameter of the load function.\n"
     ]
    },
    {
     "name": "stdout",
     "output_type": "stream",
     "text": [
      "247/247 [==============================] - 4s 15ms/step - loss: 4.9673e-05 - root_mean_squared_error: 0.0070 - val_loss: 1.7345e-04 - val_root_mean_squared_error: 0.0132\n",
      "Epoch 17/20\n",
      "247/247 [==============================] - 1s 3ms/step - loss: 4.8627e-05 - root_mean_squared_error: 0.0070 - val_loss: 2.6506e-04 - val_root_mean_squared_error: 0.0163\n",
      "Epoch 18/20\n",
      "238/247 [===========================>..] - ETA: 0s - loss: 4.8053e-05 - root_mean_squared_error: 0.0069"
     ]
    },
    {
     "name": "stderr",
     "output_type": "stream",
     "text": [
      "WARNING:absl:Found untraced functions such as lstm_cell_163_layer_call_fn, lstm_cell_163_layer_call_and_return_conditional_losses, lstm_cell_163_layer_call_fn, lstm_cell_163_layer_call_and_return_conditional_losses, lstm_cell_163_layer_call_and_return_conditional_losses while saving (showing 5 of 5). These functions will not be directly callable after loading.\n"
     ]
    },
    {
     "name": "stdout",
     "output_type": "stream",
     "text": [
      "INFO:tensorflow:Assets written to: /Users/yukahatori/A_Fairness/FairnessML_git/LSTM-BasicModel/WeatherModelx/assets\n"
     ]
    },
    {
     "name": "stderr",
     "output_type": "stream",
     "text": [
      "INFO:tensorflow:Assets written to: /Users/yukahatori/A_Fairness/FairnessML_git/LSTM-BasicModel/WeatherModelx/assets\n",
      "WARNING:absl:<keras.layers.recurrent.LSTMCell object at 0x7f8ef8235340> has the same name 'LSTMCell' as a built-in Keras object. Consider renaming <class 'keras.layers.recurrent.LSTMCell'> to avoid naming conflicts when loading with `tf.keras.models.load_model`. If renaming is not possible, pass the object in the `custom_objects` parameter of the load function.\n"
     ]
    },
    {
     "name": "stdout",
     "output_type": "stream",
     "text": [
      "247/247 [==============================] - 4s 14ms/step - loss: 4.8376e-05 - root_mean_squared_error: 0.0070 - val_loss: 1.6488e-04 - val_root_mean_squared_error: 0.0128\n",
      "Epoch 19/20\n",
      "247/247 [==============================] - 1s 3ms/step - loss: 4.3316e-05 - root_mean_squared_error: 0.0066 - val_loss: 1.6786e-04 - val_root_mean_squared_error: 0.0130\n",
      "Epoch 20/20\n",
      "247/247 [==============================] - 1s 5ms/step - loss: 4.5009e-05 - root_mean_squared_error: 0.0067 - val_loss: 3.0665e-04 - val_root_mean_squared_error: 0.0175\n",
      "RMSE value:  0.00763881015677001\n",
      "Epoch 1/20\n",
      "238/247 [===========================>..] - ETA: 0s - loss: 0.0349 - root_mean_squared_error: 0.1869"
     ]
    },
    {
     "name": "stderr",
     "output_type": "stream",
     "text": [
      "WARNING:absl:Found untraced functions such as lstm_cell_164_layer_call_fn, lstm_cell_164_layer_call_and_return_conditional_losses, lstm_cell_164_layer_call_fn, lstm_cell_164_layer_call_and_return_conditional_losses, lstm_cell_164_layer_call_and_return_conditional_losses while saving (showing 5 of 5). These functions will not be directly callable after loading.\n"
     ]
    },
    {
     "name": "stdout",
     "output_type": "stream",
     "text": [
      "INFO:tensorflow:Assets written to: /Users/yukahatori/A_Fairness/FairnessML_git/LSTM-BasicModel/WeatherModelx/assets\n"
     ]
    },
    {
     "name": "stderr",
     "output_type": "stream",
     "text": [
      "INFO:tensorflow:Assets written to: /Users/yukahatori/A_Fairness/FairnessML_git/LSTM-BasicModel/WeatherModelx/assets\n",
      "WARNING:absl:<keras.layers.recurrent.LSTMCell object at 0x7f8efbc370d0> has the same name 'LSTMCell' as a built-in Keras object. Consider renaming <class 'keras.layers.recurrent.LSTMCell'> to avoid naming conflicts when loading with `tf.keras.models.load_model`. If renaming is not possible, pass the object in the `custom_objects` parameter of the load function.\n"
     ]
    },
    {
     "name": "stdout",
     "output_type": "stream",
     "text": [
      "247/247 [==============================] - 7s 21ms/step - loss: 0.0338 - root_mean_squared_error: 0.1837 - val_loss: 0.0015 - val_root_mean_squared_error: 0.0388\n",
      "Epoch 2/20\n",
      "227/247 [==========================>...] - ETA: 0s - loss: 1.2679e-04 - root_mean_squared_error: 0.0113"
     ]
    },
    {
     "name": "stderr",
     "output_type": "stream",
     "text": [
      "WARNING:absl:Found untraced functions such as lstm_cell_164_layer_call_fn, lstm_cell_164_layer_call_and_return_conditional_losses, lstm_cell_164_layer_call_fn, lstm_cell_164_layer_call_and_return_conditional_losses, lstm_cell_164_layer_call_and_return_conditional_losses while saving (showing 5 of 5). These functions will not be directly callable after loading.\n"
     ]
    },
    {
     "name": "stdout",
     "output_type": "stream",
     "text": [
      "INFO:tensorflow:Assets written to: /Users/yukahatori/A_Fairness/FairnessML_git/LSTM-BasicModel/WeatherModelx/assets\n"
     ]
    },
    {
     "name": "stderr",
     "output_type": "stream",
     "text": [
      "INFO:tensorflow:Assets written to: /Users/yukahatori/A_Fairness/FairnessML_git/LSTM-BasicModel/WeatherModelx/assets\n",
      "WARNING:absl:<keras.layers.recurrent.LSTMCell object at 0x7f8efbc370d0> has the same name 'LSTMCell' as a built-in Keras object. Consider renaming <class 'keras.layers.recurrent.LSTMCell'> to avoid naming conflicts when loading with `tf.keras.models.load_model`. If renaming is not possible, pass the object in the `custom_objects` parameter of the load function.\n"
     ]
    },
    {
     "name": "stdout",
     "output_type": "stream",
     "text": [
      "247/247 [==============================] - 4s 15ms/step - loss: 1.2617e-04 - root_mean_squared_error: 0.0112 - val_loss: 9.5662e-04 - val_root_mean_squared_error: 0.0309\n",
      "Epoch 3/20\n",
      "247/247 [==============================] - 1s 3ms/step - loss: 9.8499e-05 - root_mean_squared_error: 0.0099 - val_loss: 0.0010 - val_root_mean_squared_error: 0.0320\n",
      "Epoch 4/20\n",
      "225/247 [==========================>...] - ETA: 0s - loss: 8.8426e-05 - root_mean_squared_error: 0.0094"
     ]
    },
    {
     "name": "stderr",
     "output_type": "stream",
     "text": [
      "WARNING:absl:Found untraced functions such as lstm_cell_164_layer_call_fn, lstm_cell_164_layer_call_and_return_conditional_losses, lstm_cell_164_layer_call_fn, lstm_cell_164_layer_call_and_return_conditional_losses, lstm_cell_164_layer_call_and_return_conditional_losses while saving (showing 5 of 5). These functions will not be directly callable after loading.\n"
     ]
    },
    {
     "name": "stdout",
     "output_type": "stream",
     "text": [
      "INFO:tensorflow:Assets written to: /Users/yukahatori/A_Fairness/FairnessML_git/LSTM-BasicModel/WeatherModelx/assets\n"
     ]
    },
    {
     "name": "stderr",
     "output_type": "stream",
     "text": [
      "INFO:tensorflow:Assets written to: /Users/yukahatori/A_Fairness/FairnessML_git/LSTM-BasicModel/WeatherModelx/assets\n",
      "WARNING:absl:<keras.layers.recurrent.LSTMCell object at 0x7f8efbc370d0> has the same name 'LSTMCell' as a built-in Keras object. Consider renaming <class 'keras.layers.recurrent.LSTMCell'> to avoid naming conflicts when loading with `tf.keras.models.load_model`. If renaming is not possible, pass the object in the `custom_objects` parameter of the load function.\n"
     ]
    },
    {
     "name": "stdout",
     "output_type": "stream",
     "text": [
      "247/247 [==============================] - 3s 13ms/step - loss: 8.9518e-05 - root_mean_squared_error: 0.0095 - val_loss: 9.5437e-04 - val_root_mean_squared_error: 0.0309\n",
      "Epoch 5/20\n",
      "247/247 [==============================] - 1s 3ms/step - loss: 7.9980e-05 - root_mean_squared_error: 0.0089 - val_loss: 9.6743e-04 - val_root_mean_squared_error: 0.0311\n",
      "Epoch 6/20\n",
      "247/247 [==============================] - ETA: 0s - loss: 7.1463e-05 - root_mean_squared_error: 0.0085"
     ]
    },
    {
     "name": "stderr",
     "output_type": "stream",
     "text": [
      "WARNING:absl:Found untraced functions such as lstm_cell_164_layer_call_fn, lstm_cell_164_layer_call_and_return_conditional_losses, lstm_cell_164_layer_call_fn, lstm_cell_164_layer_call_and_return_conditional_losses, lstm_cell_164_layer_call_and_return_conditional_losses while saving (showing 5 of 5). These functions will not be directly callable after loading.\n"
     ]
    },
    {
     "name": "stdout",
     "output_type": "stream",
     "text": [
      "INFO:tensorflow:Assets written to: /Users/yukahatori/A_Fairness/FairnessML_git/LSTM-BasicModel/WeatherModelx/assets\n"
     ]
    },
    {
     "name": "stderr",
     "output_type": "stream",
     "text": [
      "INFO:tensorflow:Assets written to: /Users/yukahatori/A_Fairness/FairnessML_git/LSTM-BasicModel/WeatherModelx/assets\n",
      "WARNING:absl:<keras.layers.recurrent.LSTMCell object at 0x7f8efbc370d0> has the same name 'LSTMCell' as a built-in Keras object. Consider renaming <class 'keras.layers.recurrent.LSTMCell'> to avoid naming conflicts when loading with `tf.keras.models.load_model`. If renaming is not possible, pass the object in the `custom_objects` parameter of the load function.\n"
     ]
    },
    {
     "name": "stdout",
     "output_type": "stream",
     "text": [
      "247/247 [==============================] - 4s 16ms/step - loss: 7.1463e-05 - root_mean_squared_error: 0.0085 - val_loss: 6.6159e-04 - val_root_mean_squared_error: 0.0257\n",
      "Epoch 7/20\n",
      "236/247 [===========================>..] - ETA: 0s - loss: 6.8727e-05 - root_mean_squared_error: 0.0083"
     ]
    },
    {
     "name": "stderr",
     "output_type": "stream",
     "text": [
      "WARNING:absl:Found untraced functions such as lstm_cell_164_layer_call_fn, lstm_cell_164_layer_call_and_return_conditional_losses, lstm_cell_164_layer_call_fn, lstm_cell_164_layer_call_and_return_conditional_losses, lstm_cell_164_layer_call_and_return_conditional_losses while saving (showing 5 of 5). These functions will not be directly callable after loading.\n"
     ]
    },
    {
     "name": "stdout",
     "output_type": "stream",
     "text": [
      "INFO:tensorflow:Assets written to: /Users/yukahatori/A_Fairness/FairnessML_git/LSTM-BasicModel/WeatherModelx/assets\n"
     ]
    },
    {
     "name": "stderr",
     "output_type": "stream",
     "text": [
      "INFO:tensorflow:Assets written to: /Users/yukahatori/A_Fairness/FairnessML_git/LSTM-BasicModel/WeatherModelx/assets\n",
      "WARNING:absl:<keras.layers.recurrent.LSTMCell object at 0x7f8efbc370d0> has the same name 'LSTMCell' as a built-in Keras object. Consider renaming <class 'keras.layers.recurrent.LSTMCell'> to avoid naming conflicts when loading with `tf.keras.models.load_model`. If renaming is not possible, pass the object in the `custom_objects` parameter of the load function.\n"
     ]
    },
    {
     "name": "stdout",
     "output_type": "stream",
     "text": [
      "247/247 [==============================] - 4s 14ms/step - loss: 6.8358e-05 - root_mean_squared_error: 0.0083 - val_loss: 6.1220e-04 - val_root_mean_squared_error: 0.0247\n",
      "Epoch 8/20\n",
      "241/247 [============================>.] - ETA: 0s - loss: 5.7311e-05 - root_mean_squared_error: 0.0076"
     ]
    },
    {
     "name": "stderr",
     "output_type": "stream",
     "text": [
      "WARNING:absl:Found untraced functions such as lstm_cell_164_layer_call_fn, lstm_cell_164_layer_call_and_return_conditional_losses, lstm_cell_164_layer_call_fn, lstm_cell_164_layer_call_and_return_conditional_losses, lstm_cell_164_layer_call_and_return_conditional_losses while saving (showing 5 of 5). These functions will not be directly callable after loading.\n"
     ]
    },
    {
     "name": "stdout",
     "output_type": "stream",
     "text": [
      "INFO:tensorflow:Assets written to: /Users/yukahatori/A_Fairness/FairnessML_git/LSTM-BasicModel/WeatherModelx/assets\n"
     ]
    },
    {
     "name": "stderr",
     "output_type": "stream",
     "text": [
      "INFO:tensorflow:Assets written to: /Users/yukahatori/A_Fairness/FairnessML_git/LSTM-BasicModel/WeatherModelx/assets\n",
      "WARNING:absl:<keras.layers.recurrent.LSTMCell object at 0x7f8efbc370d0> has the same name 'LSTMCell' as a built-in Keras object. Consider renaming <class 'keras.layers.recurrent.LSTMCell'> to avoid naming conflicts when loading with `tf.keras.models.load_model`. If renaming is not possible, pass the object in the `custom_objects` parameter of the load function.\n"
     ]
    },
    {
     "name": "stdout",
     "output_type": "stream",
     "text": [
      "247/247 [==============================] - 4s 17ms/step - loss: 5.7869e-05 - root_mean_squared_error: 0.0076 - val_loss: 4.9716e-04 - val_root_mean_squared_error: 0.0223\n",
      "Epoch 9/20\n",
      "234/247 [===========================>..] - ETA: 0s - loss: 5.8552e-05 - root_mean_squared_error: 0.0077"
     ]
    },
    {
     "name": "stderr",
     "output_type": "stream",
     "text": [
      "WARNING:absl:Found untraced functions such as lstm_cell_164_layer_call_fn, lstm_cell_164_layer_call_and_return_conditional_losses, lstm_cell_164_layer_call_fn, lstm_cell_164_layer_call_and_return_conditional_losses, lstm_cell_164_layer_call_and_return_conditional_losses while saving (showing 5 of 5). These functions will not be directly callable after loading.\n"
     ]
    },
    {
     "name": "stdout",
     "output_type": "stream",
     "text": [
      "INFO:tensorflow:Assets written to: /Users/yukahatori/A_Fairness/FairnessML_git/LSTM-BasicModel/WeatherModelx/assets\n"
     ]
    },
    {
     "name": "stderr",
     "output_type": "stream",
     "text": [
      "INFO:tensorflow:Assets written to: /Users/yukahatori/A_Fairness/FairnessML_git/LSTM-BasicModel/WeatherModelx/assets\n",
      "WARNING:absl:<keras.layers.recurrent.LSTMCell object at 0x7f8efbc370d0> has the same name 'LSTMCell' as a built-in Keras object. Consider renaming <class 'keras.layers.recurrent.LSTMCell'> to avoid naming conflicts when loading with `tf.keras.models.load_model`. If renaming is not possible, pass the object in the `custom_objects` parameter of the load function.\n"
     ]
    },
    {
     "name": "stdout",
     "output_type": "stream",
     "text": [
      "247/247 [==============================] - 3s 13ms/step - loss: 5.8237e-05 - root_mean_squared_error: 0.0076 - val_loss: 4.5043e-04 - val_root_mean_squared_error: 0.0212\n",
      "Epoch 10/20\n",
      "247/247 [==============================] - 1s 2ms/step - loss: 5.0276e-05 - root_mean_squared_error: 0.0071 - val_loss: 4.9059e-04 - val_root_mean_squared_error: 0.0221\n",
      "Epoch 11/20\n",
      "247/247 [==============================] - 1s 2ms/step - loss: 5.1120e-05 - root_mean_squared_error: 0.0071 - val_loss: 5.8127e-04 - val_root_mean_squared_error: 0.0241\n",
      "Epoch 12/20\n",
      "246/247 [============================>.] - ETA: 0s - loss: 5.0891e-05 - root_mean_squared_error: 0.0071"
     ]
    },
    {
     "name": "stderr",
     "output_type": "stream",
     "text": [
      "WARNING:absl:Found untraced functions such as lstm_cell_164_layer_call_fn, lstm_cell_164_layer_call_and_return_conditional_losses, lstm_cell_164_layer_call_fn, lstm_cell_164_layer_call_and_return_conditional_losses, lstm_cell_164_layer_call_and_return_conditional_losses while saving (showing 5 of 5). These functions will not be directly callable after loading.\n"
     ]
    },
    {
     "name": "stdout",
     "output_type": "stream",
     "text": [
      "INFO:tensorflow:Assets written to: /Users/yukahatori/A_Fairness/FairnessML_git/LSTM-BasicModel/WeatherModelx/assets\n"
     ]
    },
    {
     "name": "stderr",
     "output_type": "stream",
     "text": [
      "INFO:tensorflow:Assets written to: /Users/yukahatori/A_Fairness/FairnessML_git/LSTM-BasicModel/WeatherModelx/assets\n",
      "WARNING:absl:<keras.layers.recurrent.LSTMCell object at 0x7f8efbc370d0> has the same name 'LSTMCell' as a built-in Keras object. Consider renaming <class 'keras.layers.recurrent.LSTMCell'> to avoid naming conflicts when loading with `tf.keras.models.load_model`. If renaming is not possible, pass the object in the `custom_objects` parameter of the load function.\n"
     ]
    },
    {
     "name": "stdout",
     "output_type": "stream",
     "text": [
      "247/247 [==============================] - 4s 16ms/step - loss: 5.0894e-05 - root_mean_squared_error: 0.0071 - val_loss: 3.4014e-04 - val_root_mean_squared_error: 0.0184\n",
      "Epoch 13/20\n",
      "247/247 [==============================] - 1s 2ms/step - loss: 4.5771e-05 - root_mean_squared_error: 0.0068 - val_loss: 3.7749e-04 - val_root_mean_squared_error: 0.0194\n",
      "Epoch 14/20\n",
      "247/247 [==============================] - 1s 2ms/step - loss: 4.4546e-05 - root_mean_squared_error: 0.0067 - val_loss: 3.6322e-04 - val_root_mean_squared_error: 0.0191\n",
      "Epoch 15/20\n",
      "247/247 [==============================] - 1s 3ms/step - loss: 4.5202e-05 - root_mean_squared_error: 0.0067 - val_loss: 3.9682e-04 - val_root_mean_squared_error: 0.0199\n",
      "Epoch 16/20\n",
      "243/247 [============================>.] - ETA: 0s - loss: 4.4246e-05 - root_mean_squared_error: 0.0067"
     ]
    },
    {
     "name": "stderr",
     "output_type": "stream",
     "text": [
      "WARNING:absl:Found untraced functions such as lstm_cell_164_layer_call_fn, lstm_cell_164_layer_call_and_return_conditional_losses, lstm_cell_164_layer_call_fn, lstm_cell_164_layer_call_and_return_conditional_losses, lstm_cell_164_layer_call_and_return_conditional_losses while saving (showing 5 of 5). These functions will not be directly callable after loading.\n"
     ]
    },
    {
     "name": "stdout",
     "output_type": "stream",
     "text": [
      "INFO:tensorflow:Assets written to: /Users/yukahatori/A_Fairness/FairnessML_git/LSTM-BasicModel/WeatherModelx/assets\n"
     ]
    },
    {
     "name": "stderr",
     "output_type": "stream",
     "text": [
      "INFO:tensorflow:Assets written to: /Users/yukahatori/A_Fairness/FairnessML_git/LSTM-BasicModel/WeatherModelx/assets\n",
      "WARNING:absl:<keras.layers.recurrent.LSTMCell object at 0x7f8efbc370d0> has the same name 'LSTMCell' as a built-in Keras object. Consider renaming <class 'keras.layers.recurrent.LSTMCell'> to avoid naming conflicts when loading with `tf.keras.models.load_model`. If renaming is not possible, pass the object in the `custom_objects` parameter of the load function.\n"
     ]
    },
    {
     "name": "stdout",
     "output_type": "stream",
     "text": [
      "247/247 [==============================] - 3s 14ms/step - loss: 4.4202e-05 - root_mean_squared_error: 0.0066 - val_loss: 2.2779e-04 - val_root_mean_squared_error: 0.0151\n",
      "Epoch 17/20\n",
      "247/247 [==============================] - 1s 3ms/step - loss: 4.4047e-05 - root_mean_squared_error: 0.0066 - val_loss: 2.3068e-04 - val_root_mean_squared_error: 0.0152\n",
      "Epoch 18/20\n",
      "247/247 [==============================] - 1s 3ms/step - loss: 4.9814e-05 - root_mean_squared_error: 0.0071 - val_loss: 2.4595e-04 - val_root_mean_squared_error: 0.0157\n",
      "Epoch 19/20\n",
      "247/247 [==============================] - 1s 3ms/step - loss: 4.9984e-05 - root_mean_squared_error: 0.0071 - val_loss: 2.3827e-04 - val_root_mean_squared_error: 0.0154\n",
      "Epoch 20/20\n",
      "232/247 [===========================>..] - ETA: 0s - loss: 4.2893e-05 - root_mean_squared_error: 0.0065"
     ]
    },
    {
     "name": "stderr",
     "output_type": "stream",
     "text": [
      "WARNING:absl:Found untraced functions such as lstm_cell_164_layer_call_fn, lstm_cell_164_layer_call_and_return_conditional_losses, lstm_cell_164_layer_call_fn, lstm_cell_164_layer_call_and_return_conditional_losses, lstm_cell_164_layer_call_and_return_conditional_losses while saving (showing 5 of 5). These functions will not be directly callable after loading.\n"
     ]
    },
    {
     "name": "stdout",
     "output_type": "stream",
     "text": [
      "INFO:tensorflow:Assets written to: /Users/yukahatori/A_Fairness/FairnessML_git/LSTM-BasicModel/WeatherModelx/assets\n"
     ]
    },
    {
     "name": "stderr",
     "output_type": "stream",
     "text": [
      "INFO:tensorflow:Assets written to: /Users/yukahatori/A_Fairness/FairnessML_git/LSTM-BasicModel/WeatherModelx/assets\n",
      "WARNING:absl:<keras.layers.recurrent.LSTMCell object at 0x7f8efbc370d0> has the same name 'LSTMCell' as a built-in Keras object. Consider renaming <class 'keras.layers.recurrent.LSTMCell'> to avoid naming conflicts when loading with `tf.keras.models.load_model`. If renaming is not possible, pass the object in the `custom_objects` parameter of the load function.\n"
     ]
    },
    {
     "name": "stdout",
     "output_type": "stream",
     "text": [
      "247/247 [==============================] - 3s 14ms/step - loss: 4.2262e-05 - root_mean_squared_error: 0.0065 - val_loss: 2.2315e-04 - val_root_mean_squared_error: 0.0149\n",
      "RMSE value:  0.0065261641001218285\n",
      "Epoch 1/20\n",
      "235/247 [===========================>..] - ETA: 0s - loss: 0.0117 - root_mean_squared_error: 0.1080"
     ]
    },
    {
     "name": "stderr",
     "output_type": "stream",
     "text": [
      "WARNING:absl:Found untraced functions such as lstm_cell_165_layer_call_fn, lstm_cell_165_layer_call_and_return_conditional_losses, lstm_cell_165_layer_call_fn, lstm_cell_165_layer_call_and_return_conditional_losses, lstm_cell_165_layer_call_and_return_conditional_losses while saving (showing 5 of 5). These functions will not be directly callable after loading.\n"
     ]
    },
    {
     "name": "stdout",
     "output_type": "stream",
     "text": [
      "INFO:tensorflow:Assets written to: /Users/yukahatori/A_Fairness/FairnessML_git/LSTM-BasicModel/WeatherModelx/assets\n"
     ]
    },
    {
     "name": "stderr",
     "output_type": "stream",
     "text": [
      "INFO:tensorflow:Assets written to: /Users/yukahatori/A_Fairness/FairnessML_git/LSTM-BasicModel/WeatherModelx/assets\n",
      "WARNING:absl:<keras.layers.recurrent.LSTMCell object at 0x7f8ed36175e0> has the same name 'LSTMCell' as a built-in Keras object. Consider renaming <class 'keras.layers.recurrent.LSTMCell'> to avoid naming conflicts when loading with `tf.keras.models.load_model`. If renaming is not possible, pass the object in the `custom_objects` parameter of the load function.\n"
     ]
    },
    {
     "name": "stdout",
     "output_type": "stream",
     "text": [
      "247/247 [==============================] - 5s 16ms/step - loss: 0.0112 - root_mean_squared_error: 0.1056 - val_loss: 0.0011 - val_root_mean_squared_error: 0.0337\n",
      "Epoch 2/20\n",
      "246/247 [============================>.] - ETA: 0s - loss: 4.4658e-04 - root_mean_squared_error: 0.0211"
     ]
    },
    {
     "name": "stderr",
     "output_type": "stream",
     "text": [
      "WARNING:absl:Found untraced functions such as lstm_cell_165_layer_call_fn, lstm_cell_165_layer_call_and_return_conditional_losses, lstm_cell_165_layer_call_fn, lstm_cell_165_layer_call_and_return_conditional_losses, lstm_cell_165_layer_call_and_return_conditional_losses while saving (showing 5 of 5). These functions will not be directly callable after loading.\n"
     ]
    },
    {
     "name": "stdout",
     "output_type": "stream",
     "text": [
      "INFO:tensorflow:Assets written to: /Users/yukahatori/A_Fairness/FairnessML_git/LSTM-BasicModel/WeatherModelx/assets\n"
     ]
    },
    {
     "name": "stderr",
     "output_type": "stream",
     "text": [
      "INFO:tensorflow:Assets written to: /Users/yukahatori/A_Fairness/FairnessML_git/LSTM-BasicModel/WeatherModelx/assets\n",
      "WARNING:absl:<keras.layers.recurrent.LSTMCell object at 0x7f8ed36175e0> has the same name 'LSTMCell' as a built-in Keras object. Consider renaming <class 'keras.layers.recurrent.LSTMCell'> to avoid naming conflicts when loading with `tf.keras.models.load_model`. If renaming is not possible, pass the object in the `custom_objects` parameter of the load function.\n"
     ]
    },
    {
     "name": "stdout",
     "output_type": "stream",
     "text": [
      "247/247 [==============================] - 5s 18ms/step - loss: 4.4659e-04 - root_mean_squared_error: 0.0211 - val_loss: 0.0011 - val_root_mean_squared_error: 0.0326\n",
      "Epoch 3/20\n",
      "230/247 [==========================>...] - ETA: 0s - loss: 3.8054e-04 - root_mean_squared_error: 0.0195"
     ]
    },
    {
     "name": "stderr",
     "output_type": "stream",
     "text": [
      "WARNING:absl:Found untraced functions such as lstm_cell_165_layer_call_fn, lstm_cell_165_layer_call_and_return_conditional_losses, lstm_cell_165_layer_call_fn, lstm_cell_165_layer_call_and_return_conditional_losses, lstm_cell_165_layer_call_and_return_conditional_losses while saving (showing 5 of 5). These functions will not be directly callable after loading.\n"
     ]
    },
    {
     "name": "stdout",
     "output_type": "stream",
     "text": [
      "INFO:tensorflow:Assets written to: /Users/yukahatori/A_Fairness/FairnessML_git/LSTM-BasicModel/WeatherModelx/assets\n"
     ]
    },
    {
     "name": "stderr",
     "output_type": "stream",
     "text": [
      "INFO:tensorflow:Assets written to: /Users/yukahatori/A_Fairness/FairnessML_git/LSTM-BasicModel/WeatherModelx/assets\n",
      "WARNING:absl:<keras.layers.recurrent.LSTMCell object at 0x7f8ed36175e0> has the same name 'LSTMCell' as a built-in Keras object. Consider renaming <class 'keras.layers.recurrent.LSTMCell'> to avoid naming conflicts when loading with `tf.keras.models.load_model`. If renaming is not possible, pass the object in the `custom_objects` parameter of the load function.\n"
     ]
    },
    {
     "name": "stdout",
     "output_type": "stream",
     "text": [
      "247/247 [==============================] - 4s 17ms/step - loss: 3.8187e-04 - root_mean_squared_error: 0.0195 - val_loss: 0.0011 - val_root_mean_squared_error: 0.0325\n",
      "Epoch 4/20\n",
      "247/247 [==============================] - 1s 3ms/step - loss: 3.4969e-04 - root_mean_squared_error: 0.0187 - val_loss: 0.0015 - val_root_mean_squared_error: 0.0381\n",
      "Epoch 5/20\n",
      "247/247 [==============================] - 1s 3ms/step - loss: 3.3774e-04 - root_mean_squared_error: 0.0184 - val_loss: 0.0011 - val_root_mean_squared_error: 0.0329\n",
      "Epoch 6/20\n",
      "247/247 [==============================] - 1s 3ms/step - loss: 3.2039e-04 - root_mean_squared_error: 0.0179 - val_loss: 0.0011 - val_root_mean_squared_error: 0.0329\n",
      "Epoch 7/20\n",
      "227/247 [==========================>...] - ETA: 0s - loss: 3.0530e-04 - root_mean_squared_error: 0.0175"
     ]
    },
    {
     "name": "stderr",
     "output_type": "stream",
     "text": [
      "WARNING:absl:Found untraced functions such as lstm_cell_165_layer_call_fn, lstm_cell_165_layer_call_and_return_conditional_losses, lstm_cell_165_layer_call_fn, lstm_cell_165_layer_call_and_return_conditional_losses, lstm_cell_165_layer_call_and_return_conditional_losses while saving (showing 5 of 5). These functions will not be directly callable after loading.\n"
     ]
    },
    {
     "name": "stdout",
     "output_type": "stream",
     "text": [
      "INFO:tensorflow:Assets written to: /Users/yukahatori/A_Fairness/FairnessML_git/LSTM-BasicModel/WeatherModelx/assets\n"
     ]
    },
    {
     "name": "stderr",
     "output_type": "stream",
     "text": [
      "INFO:tensorflow:Assets written to: /Users/yukahatori/A_Fairness/FairnessML_git/LSTM-BasicModel/WeatherModelx/assets\n",
      "WARNING:absl:<keras.layers.recurrent.LSTMCell object at 0x7f8ed36175e0> has the same name 'LSTMCell' as a built-in Keras object. Consider renaming <class 'keras.layers.recurrent.LSTMCell'> to avoid naming conflicts when loading with `tf.keras.models.load_model`. If renaming is not possible, pass the object in the `custom_objects` parameter of the load function.\n"
     ]
    },
    {
     "name": "stdout",
     "output_type": "stream",
     "text": [
      "247/247 [==============================] - 4s 16ms/step - loss: 3.0710e-04 - root_mean_squared_error: 0.0175 - val_loss: 8.1485e-04 - val_root_mean_squared_error: 0.0285\n",
      "Epoch 8/20\n",
      "247/247 [==============================] - 1s 3ms/step - loss: 3.0845e-04 - root_mean_squared_error: 0.0176 - val_loss: 0.0012 - val_root_mean_squared_error: 0.0353\n",
      "Epoch 9/20\n",
      "247/247 [==============================] - 1s 4ms/step - loss: 3.0098e-04 - root_mean_squared_error: 0.0173 - val_loss: 8.7393e-04 - val_root_mean_squared_error: 0.0296\n",
      "Epoch 10/20\n",
      "247/247 [==============================] - 1s 3ms/step - loss: 3.0646e-04 - root_mean_squared_error: 0.0175 - val_loss: 0.0014 - val_root_mean_squared_error: 0.0373\n",
      "Epoch 11/20\n",
      "247/247 [==============================] - 1s 3ms/step - loss: 2.8661e-04 - root_mean_squared_error: 0.0169 - val_loss: 0.0012 - val_root_mean_squared_error: 0.0343\n",
      "Epoch 12/20\n",
      "247/247 [==============================] - 1s 3ms/step - loss: 2.8883e-04 - root_mean_squared_error: 0.0170 - val_loss: 0.0014 - val_root_mean_squared_error: 0.0372\n",
      "Epoch 13/20\n",
      "247/247 [==============================] - 1s 2ms/step - loss: 3.0388e-04 - root_mean_squared_error: 0.0174 - val_loss: 0.0013 - val_root_mean_squared_error: 0.0364\n",
      "Epoch 14/20\n",
      "247/247 [==============================] - 1s 3ms/step - loss: 2.8673e-04 - root_mean_squared_error: 0.0169 - val_loss: 9.6587e-04 - val_root_mean_squared_error: 0.0311\n",
      "Epoch 15/20\n",
      "247/247 [==============================] - 1s 4ms/step - loss: 2.8201e-04 - root_mean_squared_error: 0.0168 - val_loss: 8.5681e-04 - val_root_mean_squared_error: 0.0293\n",
      "Epoch 16/20\n",
      "247/247 [==============================] - 1s 5ms/step - loss: 2.7146e-04 - root_mean_squared_error: 0.0165 - val_loss: 0.0013 - val_root_mean_squared_error: 0.0358\n",
      "Epoch 17/20\n",
      "234/247 [===========================>..] - ETA: 0s - loss: 2.6722e-04 - root_mean_squared_error: 0.0163"
     ]
    },
    {
     "name": "stderr",
     "output_type": "stream",
     "text": [
      "WARNING:absl:Found untraced functions such as lstm_cell_165_layer_call_fn, lstm_cell_165_layer_call_and_return_conditional_losses, lstm_cell_165_layer_call_fn, lstm_cell_165_layer_call_and_return_conditional_losses, lstm_cell_165_layer_call_and_return_conditional_losses while saving (showing 5 of 5). These functions will not be directly callable after loading.\n"
     ]
    },
    {
     "name": "stdout",
     "output_type": "stream",
     "text": [
      "INFO:tensorflow:Assets written to: /Users/yukahatori/A_Fairness/FairnessML_git/LSTM-BasicModel/WeatherModelx/assets\n"
     ]
    },
    {
     "name": "stderr",
     "output_type": "stream",
     "text": [
      "INFO:tensorflow:Assets written to: /Users/yukahatori/A_Fairness/FairnessML_git/LSTM-BasicModel/WeatherModelx/assets\n",
      "WARNING:absl:<keras.layers.recurrent.LSTMCell object at 0x7f8ed36175e0> has the same name 'LSTMCell' as a built-in Keras object. Consider renaming <class 'keras.layers.recurrent.LSTMCell'> to avoid naming conflicts when loading with `tf.keras.models.load_model`. If renaming is not possible, pass the object in the `custom_objects` parameter of the load function.\n"
     ]
    },
    {
     "name": "stdout",
     "output_type": "stream",
     "text": [
      "247/247 [==============================] - 4s 16ms/step - loss: 2.7183e-04 - root_mean_squared_error: 0.0165 - val_loss: 6.6270e-04 - val_root_mean_squared_error: 0.0257\n",
      "Epoch 18/20\n",
      "247/247 [==============================] - 1s 3ms/step - loss: 2.6891e-04 - root_mean_squared_error: 0.0164 - val_loss: 0.0015 - val_root_mean_squared_error: 0.0382\n",
      "Epoch 19/20\n",
      "238/247 [===========================>..] - ETA: 0s - loss: 2.5085e-04 - root_mean_squared_error: 0.0158"
     ]
    },
    {
     "name": "stderr",
     "output_type": "stream",
     "text": [
      "WARNING:absl:Found untraced functions such as lstm_cell_165_layer_call_fn, lstm_cell_165_layer_call_and_return_conditional_losses, lstm_cell_165_layer_call_fn, lstm_cell_165_layer_call_and_return_conditional_losses, lstm_cell_165_layer_call_and_return_conditional_losses while saving (showing 5 of 5). These functions will not be directly callable after loading.\n"
     ]
    },
    {
     "name": "stdout",
     "output_type": "stream",
     "text": [
      "INFO:tensorflow:Assets written to: /Users/yukahatori/A_Fairness/FairnessML_git/LSTM-BasicModel/WeatherModelx/assets\n"
     ]
    },
    {
     "name": "stderr",
     "output_type": "stream",
     "text": [
      "INFO:tensorflow:Assets written to: /Users/yukahatori/A_Fairness/FairnessML_git/LSTM-BasicModel/WeatherModelx/assets\n",
      "WARNING:absl:<keras.layers.recurrent.LSTMCell object at 0x7f8ed36175e0> has the same name 'LSTMCell' as a built-in Keras object. Consider renaming <class 'keras.layers.recurrent.LSTMCell'> to avoid naming conflicts when loading with `tf.keras.models.load_model`. If renaming is not possible, pass the object in the `custom_objects` parameter of the load function.\n"
     ]
    },
    {
     "name": "stdout",
     "output_type": "stream",
     "text": [
      "247/247 [==============================] - 4s 15ms/step - loss: 2.4950e-04 - root_mean_squared_error: 0.0158 - val_loss: 6.5724e-04 - val_root_mean_squared_error: 0.0256\n",
      "Epoch 20/20\n",
      "247/247 [==============================] - 1s 2ms/step - loss: 2.6873e-04 - root_mean_squared_error: 0.0164 - val_loss: 8.1511e-04 - val_root_mean_squared_error: 0.0286\n",
      "RMSE value:  0.0158826855222313\n",
      "Epoch 1/20\n",
      "243/247 [============================>.] - ETA: 0s - loss: 0.0296 - root_mean_squared_error: 0.1719"
     ]
    },
    {
     "name": "stderr",
     "output_type": "stream",
     "text": [
      "WARNING:absl:Found untraced functions such as lstm_cell_166_layer_call_fn, lstm_cell_166_layer_call_and_return_conditional_losses, lstm_cell_166_layer_call_fn, lstm_cell_166_layer_call_and_return_conditional_losses, lstm_cell_166_layer_call_and_return_conditional_losses while saving (showing 5 of 5). These functions will not be directly callable after loading.\n"
     ]
    },
    {
     "name": "stdout",
     "output_type": "stream",
     "text": [
      "INFO:tensorflow:Assets written to: /Users/yukahatori/A_Fairness/FairnessML_git/LSTM-BasicModel/WeatherModelx/assets\n"
     ]
    },
    {
     "name": "stderr",
     "output_type": "stream",
     "text": [
      "INFO:tensorflow:Assets written to: /Users/yukahatori/A_Fairness/FairnessML_git/LSTM-BasicModel/WeatherModelx/assets\n",
      "WARNING:absl:<keras.layers.recurrent.LSTMCell object at 0x7f8ee019c6a0> has the same name 'LSTMCell' as a built-in Keras object. Consider renaming <class 'keras.layers.recurrent.LSTMCell'> to avoid naming conflicts when loading with `tf.keras.models.load_model`. If renaming is not possible, pass the object in the `custom_objects` parameter of the load function.\n"
     ]
    },
    {
     "name": "stdout",
     "output_type": "stream",
     "text": [
      "247/247 [==============================] - 6s 16ms/step - loss: 0.0292 - root_mean_squared_error: 0.1708 - val_loss: 8.9670e-04 - val_root_mean_squared_error: 0.0299\n",
      "Epoch 2/20\n",
      "247/247 [==============================] - 1s 2ms/step - loss: 4.8624e-04 - root_mean_squared_error: 0.0221 - val_loss: 9.7279e-04 - val_root_mean_squared_error: 0.0312\n",
      "Epoch 3/20\n",
      "247/247 [==============================] - 1s 4ms/step - loss: 4.0109e-04 - root_mean_squared_error: 0.0200 - val_loss: 0.0012 - val_root_mean_squared_error: 0.0347\n",
      "Epoch 4/20\n",
      "247/247 [==============================] - 1s 5ms/step - loss: 3.6491e-04 - root_mean_squared_error: 0.0191 - val_loss: 0.0013 - val_root_mean_squared_error: 0.0365\n",
      "Epoch 5/20\n",
      "247/247 [==============================] - 1s 4ms/step - loss: 3.4310e-04 - root_mean_squared_error: 0.0185 - val_loss: 0.0013 - val_root_mean_squared_error: 0.0365\n",
      "Epoch 6/20\n",
      "247/247 [==============================] - 1s 3ms/step - loss: 3.3225e-04 - root_mean_squared_error: 0.0182 - val_loss: 0.0011 - val_root_mean_squared_error: 0.0332\n",
      "Epoch 7/20\n",
      "247/247 [==============================] - 1s 3ms/step - loss: 3.1960e-04 - root_mean_squared_error: 0.0179 - val_loss: 0.0013 - val_root_mean_squared_error: 0.0365\n",
      "Epoch 8/20\n",
      "247/247 [==============================] - 1s 3ms/step - loss: 3.1849e-04 - root_mean_squared_error: 0.0178 - val_loss: 9.5856e-04 - val_root_mean_squared_error: 0.0310\n",
      "Epoch 9/20\n",
      "247/247 [==============================] - 1s 3ms/step - loss: 3.0919e-04 - root_mean_squared_error: 0.0176 - val_loss: 0.0010 - val_root_mean_squared_error: 0.0318\n",
      "Epoch 10/20\n",
      "247/247 [==============================] - 1s 4ms/step - loss: 3.1126e-04 - root_mean_squared_error: 0.0176 - val_loss: 0.0010 - val_root_mean_squared_error: 0.0316\n",
      "Epoch 11/20\n",
      "247/247 [==============================] - 1s 3ms/step - loss: 3.0327e-04 - root_mean_squared_error: 0.0174 - val_loss: 0.0010 - val_root_mean_squared_error: 0.0324\n",
      "Epoch 12/20\n",
      "247/247 [==============================] - 1s 3ms/step - loss: 3.0230e-04 - root_mean_squared_error: 0.0174 - val_loss: 9.6525e-04 - val_root_mean_squared_error: 0.0311\n",
      "Epoch 13/20\n",
      "247/247 [==============================] - 1s 5ms/step - loss: 3.0932e-04 - root_mean_squared_error: 0.0176 - val_loss: 9.5893e-04 - val_root_mean_squared_error: 0.0310\n",
      "Epoch 14/20\n",
      "240/247 [============================>.] - ETA: 0s - loss: 2.8662e-04 - root_mean_squared_error: 0.0169"
     ]
    },
    {
     "name": "stderr",
     "output_type": "stream",
     "text": [
      "WARNING:absl:Found untraced functions such as lstm_cell_166_layer_call_fn, lstm_cell_166_layer_call_and_return_conditional_losses, lstm_cell_166_layer_call_fn, lstm_cell_166_layer_call_and_return_conditional_losses, lstm_cell_166_layer_call_and_return_conditional_losses while saving (showing 5 of 5). These functions will not be directly callable after loading.\n"
     ]
    },
    {
     "name": "stdout",
     "output_type": "stream",
     "text": [
      "INFO:tensorflow:Assets written to: /Users/yukahatori/A_Fairness/FairnessML_git/LSTM-BasicModel/WeatherModelx/assets\n"
     ]
    },
    {
     "name": "stderr",
     "output_type": "stream",
     "text": [
      "INFO:tensorflow:Assets written to: /Users/yukahatori/A_Fairness/FairnessML_git/LSTM-BasicModel/WeatherModelx/assets\n",
      "WARNING:absl:<keras.layers.recurrent.LSTMCell object at 0x7f8ee019c6a0> has the same name 'LSTMCell' as a built-in Keras object. Consider renaming <class 'keras.layers.recurrent.LSTMCell'> to avoid naming conflicts when loading with `tf.keras.models.load_model`. If renaming is not possible, pass the object in the `custom_objects` parameter of the load function.\n"
     ]
    },
    {
     "name": "stdout",
     "output_type": "stream",
     "text": [
      "247/247 [==============================] - 5s 21ms/step - loss: 2.8637e-04 - root_mean_squared_error: 0.0169 - val_loss: 8.6508e-04 - val_root_mean_squared_error: 0.0294\n",
      "Epoch 15/20\n",
      "243/247 [============================>.] - ETA: 0s - loss: 2.9411e-04 - root_mean_squared_error: 0.0171"
     ]
    },
    {
     "name": "stderr",
     "output_type": "stream",
     "text": [
      "WARNING:absl:Found untraced functions such as lstm_cell_166_layer_call_fn, lstm_cell_166_layer_call_and_return_conditional_losses, lstm_cell_166_layer_call_fn, lstm_cell_166_layer_call_and_return_conditional_losses, lstm_cell_166_layer_call_and_return_conditional_losses while saving (showing 5 of 5). These functions will not be directly callable after loading.\n"
     ]
    },
    {
     "name": "stdout",
     "output_type": "stream",
     "text": [
      "INFO:tensorflow:Assets written to: /Users/yukahatori/A_Fairness/FairnessML_git/LSTM-BasicModel/WeatherModelx/assets\n"
     ]
    },
    {
     "name": "stderr",
     "output_type": "stream",
     "text": [
      "INFO:tensorflow:Assets written to: /Users/yukahatori/A_Fairness/FairnessML_git/LSTM-BasicModel/WeatherModelx/assets\n",
      "WARNING:absl:<keras.layers.recurrent.LSTMCell object at 0x7f8ee019c6a0> has the same name 'LSTMCell' as a built-in Keras object. Consider renaming <class 'keras.layers.recurrent.LSTMCell'> to avoid naming conflicts when loading with `tf.keras.models.load_model`. If renaming is not possible, pass the object in the `custom_objects` parameter of the load function.\n"
     ]
    },
    {
     "name": "stdout",
     "output_type": "stream",
     "text": [
      "247/247 [==============================] - 5s 19ms/step - loss: 2.9378e-04 - root_mean_squared_error: 0.0171 - val_loss: 8.2247e-04 - val_root_mean_squared_error: 0.0287\n",
      "Epoch 16/20\n",
      "247/247 [==============================] - 1s 3ms/step - loss: 3.0200e-04 - root_mean_squared_error: 0.0174 - val_loss: 8.7935e-04 - val_root_mean_squared_error: 0.0297\n",
      "Epoch 17/20\n",
      "247/247 [==============================] - 1s 3ms/step - loss: 2.7553e-04 - root_mean_squared_error: 0.0166 - val_loss: 0.0013 - val_root_mean_squared_error: 0.0356\n",
      "Epoch 18/20\n",
      "247/247 [==============================] - ETA: 0s - loss: 2.9213e-04 - root_mean_squared_error: 0.0171"
     ]
    },
    {
     "name": "stderr",
     "output_type": "stream",
     "text": [
      "WARNING:absl:Found untraced functions such as lstm_cell_166_layer_call_fn, lstm_cell_166_layer_call_and_return_conditional_losses, lstm_cell_166_layer_call_fn, lstm_cell_166_layer_call_and_return_conditional_losses, lstm_cell_166_layer_call_and_return_conditional_losses while saving (showing 5 of 5). These functions will not be directly callable after loading.\n"
     ]
    },
    {
     "name": "stdout",
     "output_type": "stream",
     "text": [
      "INFO:tensorflow:Assets written to: /Users/yukahatori/A_Fairness/FairnessML_git/LSTM-BasicModel/WeatherModelx/assets\n"
     ]
    },
    {
     "name": "stderr",
     "output_type": "stream",
     "text": [
      "INFO:tensorflow:Assets written to: /Users/yukahatori/A_Fairness/FairnessML_git/LSTM-BasicModel/WeatherModelx/assets\n",
      "WARNING:absl:<keras.layers.recurrent.LSTMCell object at 0x7f8ee019c6a0> has the same name 'LSTMCell' as a built-in Keras object. Consider renaming <class 'keras.layers.recurrent.LSTMCell'> to avoid naming conflicts when loading with `tf.keras.models.load_model`. If renaming is not possible, pass the object in the `custom_objects` parameter of the load function.\n"
     ]
    },
    {
     "name": "stdout",
     "output_type": "stream",
     "text": [
      "247/247 [==============================] - 4s 17ms/step - loss: 2.9213e-04 - root_mean_squared_error: 0.0171 - val_loss: 6.8684e-04 - val_root_mean_squared_error: 0.0262\n",
      "Epoch 19/20\n",
      "247/247 [==============================] - 1s 3ms/step - loss: 2.9946e-04 - root_mean_squared_error: 0.0173 - val_loss: 0.0011 - val_root_mean_squared_error: 0.0328\n",
      "Epoch 20/20\n",
      "247/247 [==============================] - 1s 3ms/step - loss: 2.7152e-04 - root_mean_squared_error: 0.0165 - val_loss: 9.0824e-04 - val_root_mean_squared_error: 0.0301\n",
      "RMSE value:  0.016892094541160984\n",
      "Epoch 1/20\n",
      "245/247 [============================>.] - ETA: 0s - loss: 0.0232 - root_mean_squared_error: 0.1523"
     ]
    },
    {
     "name": "stderr",
     "output_type": "stream",
     "text": [
      "WARNING:absl:Found untraced functions such as lstm_cell_167_layer_call_fn, lstm_cell_167_layer_call_and_return_conditional_losses, lstm_cell_167_layer_call_fn, lstm_cell_167_layer_call_and_return_conditional_losses, lstm_cell_167_layer_call_and_return_conditional_losses while saving (showing 5 of 5). These functions will not be directly callable after loading.\n"
     ]
    },
    {
     "name": "stdout",
     "output_type": "stream",
     "text": [
      "INFO:tensorflow:Assets written to: /Users/yukahatori/A_Fairness/FairnessML_git/LSTM-BasicModel/WeatherModelx/assets\n"
     ]
    },
    {
     "name": "stderr",
     "output_type": "stream",
     "text": [
      "INFO:tensorflow:Assets written to: /Users/yukahatori/A_Fairness/FairnessML_git/LSTM-BasicModel/WeatherModelx/assets\n",
      "WARNING:absl:<keras.layers.recurrent.LSTMCell object at 0x7f8ecceb9160> has the same name 'LSTMCell' as a built-in Keras object. Consider renaming <class 'keras.layers.recurrent.LSTMCell'> to avoid naming conflicts when loading with `tf.keras.models.load_model`. If renaming is not possible, pass the object in the `custom_objects` parameter of the load function.\n"
     ]
    },
    {
     "name": "stdout",
     "output_type": "stream",
     "text": [
      "247/247 [==============================] - 5s 16ms/step - loss: 0.0231 - root_mean_squared_error: 0.1519 - val_loss: 0.0015 - val_root_mean_squared_error: 0.0385\n",
      "Epoch 2/20\n",
      "239/247 [============================>.] - ETA: 0s - loss: 4.7958e-04 - root_mean_squared_error: 0.0219"
     ]
    },
    {
     "name": "stderr",
     "output_type": "stream",
     "text": [
      "WARNING:absl:Found untraced functions such as lstm_cell_167_layer_call_fn, lstm_cell_167_layer_call_and_return_conditional_losses, lstm_cell_167_layer_call_fn, lstm_cell_167_layer_call_and_return_conditional_losses, lstm_cell_167_layer_call_and_return_conditional_losses while saving (showing 5 of 5). These functions will not be directly callable after loading.\n"
     ]
    },
    {
     "name": "stdout",
     "output_type": "stream",
     "text": [
      "INFO:tensorflow:Assets written to: /Users/yukahatori/A_Fairness/FairnessML_git/LSTM-BasicModel/WeatherModelx/assets\n"
     ]
    },
    {
     "name": "stderr",
     "output_type": "stream",
     "text": [
      "INFO:tensorflow:Assets written to: /Users/yukahatori/A_Fairness/FairnessML_git/LSTM-BasicModel/WeatherModelx/assets\n",
      "WARNING:absl:<keras.layers.recurrent.LSTMCell object at 0x7f8ecceb9160> has the same name 'LSTMCell' as a built-in Keras object. Consider renaming <class 'keras.layers.recurrent.LSTMCell'> to avoid naming conflicts when loading with `tf.keras.models.load_model`. If renaming is not possible, pass the object in the `custom_objects` parameter of the load function.\n"
     ]
    },
    {
     "name": "stdout",
     "output_type": "stream",
     "text": [
      "247/247 [==============================] - 4s 15ms/step - loss: 4.7726e-04 - root_mean_squared_error: 0.0218 - val_loss: 9.1446e-04 - val_root_mean_squared_error: 0.0302\n",
      "Epoch 3/20\n",
      "244/247 [============================>.] - ETA: 0s - loss: 4.0802e-04 - root_mean_squared_error: 0.0202"
     ]
    },
    {
     "name": "stderr",
     "output_type": "stream",
     "text": [
      "WARNING:absl:Found untraced functions such as lstm_cell_167_layer_call_fn, lstm_cell_167_layer_call_and_return_conditional_losses, lstm_cell_167_layer_call_fn, lstm_cell_167_layer_call_and_return_conditional_losses, lstm_cell_167_layer_call_and_return_conditional_losses while saving (showing 5 of 5). These functions will not be directly callable after loading.\n"
     ]
    },
    {
     "name": "stdout",
     "output_type": "stream",
     "text": [
      "INFO:tensorflow:Assets written to: /Users/yukahatori/A_Fairness/FairnessML_git/LSTM-BasicModel/WeatherModelx/assets\n"
     ]
    },
    {
     "name": "stderr",
     "output_type": "stream",
     "text": [
      "INFO:tensorflow:Assets written to: /Users/yukahatori/A_Fairness/FairnessML_git/LSTM-BasicModel/WeatherModelx/assets\n",
      "WARNING:absl:<keras.layers.recurrent.LSTMCell object at 0x7f8ecceb9160> has the same name 'LSTMCell' as a built-in Keras object. Consider renaming <class 'keras.layers.recurrent.LSTMCell'> to avoid naming conflicts when loading with `tf.keras.models.load_model`. If renaming is not possible, pass the object in the `custom_objects` parameter of the load function.\n"
     ]
    },
    {
     "name": "stdout",
     "output_type": "stream",
     "text": [
      "247/247 [==============================] - 4s 15ms/step - loss: 4.0758e-04 - root_mean_squared_error: 0.0202 - val_loss: 8.2686e-04 - val_root_mean_squared_error: 0.0288\n",
      "Epoch 4/20\n",
      "247/247 [==============================] - 1s 2ms/step - loss: 3.7154e-04 - root_mean_squared_error: 0.0193 - val_loss: 0.0011 - val_root_mean_squared_error: 0.0335\n",
      "Epoch 5/20\n",
      "247/247 [==============================] - 1s 2ms/step - loss: 3.4133e-04 - root_mean_squared_error: 0.0185 - val_loss: 0.0011 - val_root_mean_squared_error: 0.0325\n",
      "Epoch 6/20\n",
      "247/247 [==============================] - 1s 2ms/step - loss: 3.1946e-04 - root_mean_squared_error: 0.0179 - val_loss: 8.3559e-04 - val_root_mean_squared_error: 0.0289\n",
      "Epoch 7/20\n",
      "247/247 [==============================] - 1s 2ms/step - loss: 3.2104e-04 - root_mean_squared_error: 0.0179 - val_loss: 0.0011 - val_root_mean_squared_error: 0.0339\n",
      "Epoch 8/20\n",
      "247/247 [==============================] - 1s 2ms/step - loss: 3.1214e-04 - root_mean_squared_error: 0.0177 - val_loss: 0.0011 - val_root_mean_squared_error: 0.0329\n",
      "Epoch 9/20\n",
      "233/247 [===========================>..] - ETA: 0s - loss: 2.9861e-04 - root_mean_squared_error: 0.0173"
     ]
    },
    {
     "name": "stderr",
     "output_type": "stream",
     "text": [
      "WARNING:absl:Found untraced functions such as lstm_cell_167_layer_call_fn, lstm_cell_167_layer_call_and_return_conditional_losses, lstm_cell_167_layer_call_fn, lstm_cell_167_layer_call_and_return_conditional_losses, lstm_cell_167_layer_call_and_return_conditional_losses while saving (showing 5 of 5). These functions will not be directly callable after loading.\n"
     ]
    },
    {
     "name": "stdout",
     "output_type": "stream",
     "text": [
      "INFO:tensorflow:Assets written to: /Users/yukahatori/A_Fairness/FairnessML_git/LSTM-BasicModel/WeatherModelx/assets\n"
     ]
    },
    {
     "name": "stderr",
     "output_type": "stream",
     "text": [
      "INFO:tensorflow:Assets written to: /Users/yukahatori/A_Fairness/FairnessML_git/LSTM-BasicModel/WeatherModelx/assets\n",
      "WARNING:absl:<keras.layers.recurrent.LSTMCell object at 0x7f8ecceb9160> has the same name 'LSTMCell' as a built-in Keras object. Consider renaming <class 'keras.layers.recurrent.LSTMCell'> to avoid naming conflicts when loading with `tf.keras.models.load_model`. If renaming is not possible, pass the object in the `custom_objects` parameter of the load function.\n"
     ]
    },
    {
     "name": "stdout",
     "output_type": "stream",
     "text": [
      "247/247 [==============================] - 4s 16ms/step - loss: 2.9567e-04 - root_mean_squared_error: 0.0172 - val_loss: 7.9536e-04 - val_root_mean_squared_error: 0.0282\n",
      "Epoch 10/20\n",
      "247/247 [==============================] - 1s 3ms/step - loss: 2.9341e-04 - root_mean_squared_error: 0.0171 - val_loss: 9.0473e-04 - val_root_mean_squared_error: 0.0301\n",
      "Epoch 11/20\n",
      "247/247 [==============================] - 1s 2ms/step - loss: 2.9535e-04 - root_mean_squared_error: 0.0172 - val_loss: 0.0010 - val_root_mean_squared_error: 0.0323\n",
      "Epoch 12/20\n",
      "238/247 [===========================>..] - ETA: 0s - loss: 2.8781e-04 - root_mean_squared_error: 0.0170"
     ]
    },
    {
     "name": "stderr",
     "output_type": "stream",
     "text": [
      "WARNING:absl:Found untraced functions such as lstm_cell_167_layer_call_fn, lstm_cell_167_layer_call_and_return_conditional_losses, lstm_cell_167_layer_call_fn, lstm_cell_167_layer_call_and_return_conditional_losses, lstm_cell_167_layer_call_and_return_conditional_losses while saving (showing 5 of 5). These functions will not be directly callable after loading.\n"
     ]
    },
    {
     "name": "stdout",
     "output_type": "stream",
     "text": [
      "INFO:tensorflow:Assets written to: /Users/yukahatori/A_Fairness/FairnessML_git/LSTM-BasicModel/WeatherModelx/assets\n"
     ]
    },
    {
     "name": "stderr",
     "output_type": "stream",
     "text": [
      "INFO:tensorflow:Assets written to: /Users/yukahatori/A_Fairness/FairnessML_git/LSTM-BasicModel/WeatherModelx/assets\n",
      "WARNING:absl:<keras.layers.recurrent.LSTMCell object at 0x7f8ecceb9160> has the same name 'LSTMCell' as a built-in Keras object. Consider renaming <class 'keras.layers.recurrent.LSTMCell'> to avoid naming conflicts when loading with `tf.keras.models.load_model`. If renaming is not possible, pass the object in the `custom_objects` parameter of the load function.\n"
     ]
    },
    {
     "name": "stdout",
     "output_type": "stream",
     "text": [
      "247/247 [==============================] - 3s 13ms/step - loss: 2.8858e-04 - root_mean_squared_error: 0.0170 - val_loss: 6.8825e-04 - val_root_mean_squared_error: 0.0262\n",
      "Epoch 13/20\n",
      "247/247 [==============================] - 1s 2ms/step - loss: 2.9639e-04 - root_mean_squared_error: 0.0172 - val_loss: 7.0699e-04 - val_root_mean_squared_error: 0.0266\n",
      "Epoch 14/20\n",
      "231/247 [===========================>..] - ETA: 0s - loss: 2.6764e-04 - root_mean_squared_error: 0.0164"
     ]
    },
    {
     "name": "stderr",
     "output_type": "stream",
     "text": [
      "WARNING:absl:Found untraced functions such as lstm_cell_167_layer_call_fn, lstm_cell_167_layer_call_and_return_conditional_losses, lstm_cell_167_layer_call_fn, lstm_cell_167_layer_call_and_return_conditional_losses, lstm_cell_167_layer_call_and_return_conditional_losses while saving (showing 5 of 5). These functions will not be directly callable after loading.\n"
     ]
    },
    {
     "name": "stdout",
     "output_type": "stream",
     "text": [
      "INFO:tensorflow:Assets written to: /Users/yukahatori/A_Fairness/FairnessML_git/LSTM-BasicModel/WeatherModelx/assets\n"
     ]
    },
    {
     "name": "stderr",
     "output_type": "stream",
     "text": [
      "INFO:tensorflow:Assets written to: /Users/yukahatori/A_Fairness/FairnessML_git/LSTM-BasicModel/WeatherModelx/assets\n",
      "WARNING:absl:<keras.layers.recurrent.LSTMCell object at 0x7f8ecceb9160> has the same name 'LSTMCell' as a built-in Keras object. Consider renaming <class 'keras.layers.recurrent.LSTMCell'> to avoid naming conflicts when loading with `tf.keras.models.load_model`. If renaming is not possible, pass the object in the `custom_objects` parameter of the load function.\n"
     ]
    },
    {
     "name": "stdout",
     "output_type": "stream",
     "text": [
      "247/247 [==============================] - 4s 15ms/step - loss: 2.6979e-04 - root_mean_squared_error: 0.0164 - val_loss: 6.6660e-04 - val_root_mean_squared_error: 0.0258\n",
      "Epoch 15/20\n",
      "247/247 [==============================] - 1s 2ms/step - loss: 2.7965e-04 - root_mean_squared_error: 0.0167 - val_loss: 7.2717e-04 - val_root_mean_squared_error: 0.0270\n",
      "Epoch 16/20\n",
      "241/247 [============================>.] - ETA: 0s - loss: 2.7817e-04 - root_mean_squared_error: 0.0167"
     ]
    },
    {
     "name": "stderr",
     "output_type": "stream",
     "text": [
      "WARNING:absl:Found untraced functions such as lstm_cell_167_layer_call_fn, lstm_cell_167_layer_call_and_return_conditional_losses, lstm_cell_167_layer_call_fn, lstm_cell_167_layer_call_and_return_conditional_losses, lstm_cell_167_layer_call_and_return_conditional_losses while saving (showing 5 of 5). These functions will not be directly callable after loading.\n"
     ]
    },
    {
     "name": "stdout",
     "output_type": "stream",
     "text": [
      "INFO:tensorflow:Assets written to: /Users/yukahatori/A_Fairness/FairnessML_git/LSTM-BasicModel/WeatherModelx/assets\n"
     ]
    },
    {
     "name": "stderr",
     "output_type": "stream",
     "text": [
      "INFO:tensorflow:Assets written to: /Users/yukahatori/A_Fairness/FairnessML_git/LSTM-BasicModel/WeatherModelx/assets\n",
      "WARNING:absl:<keras.layers.recurrent.LSTMCell object at 0x7f8ecceb9160> has the same name 'LSTMCell' as a built-in Keras object. Consider renaming <class 'keras.layers.recurrent.LSTMCell'> to avoid naming conflicts when loading with `tf.keras.models.load_model`. If renaming is not possible, pass the object in the `custom_objects` parameter of the load function.\n"
     ]
    },
    {
     "name": "stdout",
     "output_type": "stream",
     "text": [
      "247/247 [==============================] - 3s 13ms/step - loss: 2.7793e-04 - root_mean_squared_error: 0.0167 - val_loss: 6.5692e-04 - val_root_mean_squared_error: 0.0256\n",
      "Epoch 17/20\n",
      "247/247 [==============================] - 1s 2ms/step - loss: 2.7303e-04 - root_mean_squared_error: 0.0165 - val_loss: 9.0380e-04 - val_root_mean_squared_error: 0.0301\n",
      "Epoch 18/20\n",
      "246/247 [============================>.] - ETA: 0s - loss: 2.6662e-04 - root_mean_squared_error: 0.0163"
     ]
    },
    {
     "name": "stderr",
     "output_type": "stream",
     "text": [
      "WARNING:absl:Found untraced functions such as lstm_cell_167_layer_call_fn, lstm_cell_167_layer_call_and_return_conditional_losses, lstm_cell_167_layer_call_fn, lstm_cell_167_layer_call_and_return_conditional_losses, lstm_cell_167_layer_call_and_return_conditional_losses while saving (showing 5 of 5). These functions will not be directly callable after loading.\n"
     ]
    },
    {
     "name": "stdout",
     "output_type": "stream",
     "text": [
      "INFO:tensorflow:Assets written to: /Users/yukahatori/A_Fairness/FairnessML_git/LSTM-BasicModel/WeatherModelx/assets\n"
     ]
    },
    {
     "name": "stderr",
     "output_type": "stream",
     "text": [
      "INFO:tensorflow:Assets written to: /Users/yukahatori/A_Fairness/FairnessML_git/LSTM-BasicModel/WeatherModelx/assets\n",
      "WARNING:absl:<keras.layers.recurrent.LSTMCell object at 0x7f8ecceb9160> has the same name 'LSTMCell' as a built-in Keras object. Consider renaming <class 'keras.layers.recurrent.LSTMCell'> to avoid naming conflicts when loading with `tf.keras.models.load_model`. If renaming is not possible, pass the object in the `custom_objects` parameter of the load function.\n"
     ]
    },
    {
     "name": "stdout",
     "output_type": "stream",
     "text": [
      "247/247 [==============================] - 4s 15ms/step - loss: 2.6659e-04 - root_mean_squared_error: 0.0163 - val_loss: 6.2214e-04 - val_root_mean_squared_error: 0.0249\n",
      "Epoch 19/20\n",
      "247/247 [==============================] - 1s 3ms/step - loss: 2.7947e-04 - root_mean_squared_error: 0.0167 - val_loss: 7.9932e-04 - val_root_mean_squared_error: 0.0283\n",
      "Epoch 20/20\n",
      "247/247 [==============================] - 1s 2ms/step - loss: 2.6171e-04 - root_mean_squared_error: 0.0162 - val_loss: 6.4454e-04 - val_root_mean_squared_error: 0.0254\n",
      "RMSE value:  0.014768734831850991\n",
      "Epoch 1/20\n",
      "233/247 [===========================>..] - ETA: 0s - loss: 0.0260 - root_mean_squared_error: 0.1614"
     ]
    },
    {
     "name": "stderr",
     "output_type": "stream",
     "text": [
      "WARNING:absl:Found untraced functions such as lstm_cell_168_layer_call_fn, lstm_cell_168_layer_call_and_return_conditional_losses, lstm_cell_168_layer_call_fn, lstm_cell_168_layer_call_and_return_conditional_losses, lstm_cell_168_layer_call_and_return_conditional_losses while saving (showing 5 of 5). These functions will not be directly callable after loading.\n"
     ]
    },
    {
     "name": "stdout",
     "output_type": "stream",
     "text": [
      "INFO:tensorflow:Assets written to: /Users/yukahatori/A_Fairness/FairnessML_git/LSTM-BasicModel/WeatherModelx/assets\n"
     ]
    },
    {
     "name": "stderr",
     "output_type": "stream",
     "text": [
      "INFO:tensorflow:Assets written to: /Users/yukahatori/A_Fairness/FairnessML_git/LSTM-BasicModel/WeatherModelx/assets\n",
      "WARNING:absl:<keras.layers.recurrent.LSTMCell object at 0x7f8ef61e5d30> has the same name 'LSTMCell' as a built-in Keras object. Consider renaming <class 'keras.layers.recurrent.LSTMCell'> to avoid naming conflicts when loading with `tf.keras.models.load_model`. If renaming is not possible, pass the object in the `custom_objects` parameter of the load function.\n"
     ]
    },
    {
     "name": "stdout",
     "output_type": "stream",
     "text": [
      "247/247 [==============================] - 5s 16ms/step - loss: 0.0247 - root_mean_squared_error: 0.1571 - val_loss: 0.0018 - val_root_mean_squared_error: 0.0426\n",
      "Epoch 2/20\n",
      "247/247 [==============================] - 1s 2ms/step - loss: 4.5307e-04 - root_mean_squared_error: 0.0213 - val_loss: 0.0021 - val_root_mean_squared_error: 0.0456\n",
      "Epoch 3/20\n",
      "247/247 [==============================] - 1s 2ms/step - loss: 3.8400e-04 - root_mean_squared_error: 0.0196 - val_loss: 0.0024 - val_root_mean_squared_error: 0.0488\n",
      "Epoch 4/20\n",
      "242/247 [============================>.] - ETA: 0s - loss: 3.5724e-04 - root_mean_squared_error: 0.0189"
     ]
    },
    {
     "name": "stderr",
     "output_type": "stream",
     "text": [
      "WARNING:absl:Found untraced functions such as lstm_cell_168_layer_call_fn, lstm_cell_168_layer_call_and_return_conditional_losses, lstm_cell_168_layer_call_fn, lstm_cell_168_layer_call_and_return_conditional_losses, lstm_cell_168_layer_call_and_return_conditional_losses while saving (showing 5 of 5). These functions will not be directly callable after loading.\n"
     ]
    },
    {
     "name": "stdout",
     "output_type": "stream",
     "text": [
      "INFO:tensorflow:Assets written to: /Users/yukahatori/A_Fairness/FairnessML_git/LSTM-BasicModel/WeatherModelx/assets\n"
     ]
    },
    {
     "name": "stderr",
     "output_type": "stream",
     "text": [
      "INFO:tensorflow:Assets written to: /Users/yukahatori/A_Fairness/FairnessML_git/LSTM-BasicModel/WeatherModelx/assets\n",
      "WARNING:absl:<keras.layers.recurrent.LSTMCell object at 0x7f8ef61e5d30> has the same name 'LSTMCell' as a built-in Keras object. Consider renaming <class 'keras.layers.recurrent.LSTMCell'> to avoid naming conflicts when loading with `tf.keras.models.load_model`. If renaming is not possible, pass the object in the `custom_objects` parameter of the load function.\n"
     ]
    },
    {
     "name": "stdout",
     "output_type": "stream",
     "text": [
      "247/247 [==============================] - 4s 15ms/step - loss: 3.5799e-04 - root_mean_squared_error: 0.0189 - val_loss: 0.0018 - val_root_mean_squared_error: 0.0424\n",
      "Epoch 5/20\n",
      "247/247 [==============================] - 1s 3ms/step - loss: 3.3840e-04 - root_mean_squared_error: 0.0184 - val_loss: 0.0022 - val_root_mean_squared_error: 0.0464\n",
      "Epoch 6/20\n",
      "235/247 [===========================>..] - ETA: 0s - loss: 3.2780e-04 - root_mean_squared_error: 0.0181"
     ]
    },
    {
     "name": "stderr",
     "output_type": "stream",
     "text": [
      "WARNING:absl:Found untraced functions such as lstm_cell_168_layer_call_fn, lstm_cell_168_layer_call_and_return_conditional_losses, lstm_cell_168_layer_call_fn, lstm_cell_168_layer_call_and_return_conditional_losses, lstm_cell_168_layer_call_and_return_conditional_losses while saving (showing 5 of 5). These functions will not be directly callable after loading.\n"
     ]
    },
    {
     "name": "stdout",
     "output_type": "stream",
     "text": [
      "INFO:tensorflow:Assets written to: /Users/yukahatori/A_Fairness/FairnessML_git/LSTM-BasicModel/WeatherModelx/assets\n"
     ]
    },
    {
     "name": "stderr",
     "output_type": "stream",
     "text": [
      "INFO:tensorflow:Assets written to: /Users/yukahatori/A_Fairness/FairnessML_git/LSTM-BasicModel/WeatherModelx/assets\n",
      "WARNING:absl:<keras.layers.recurrent.LSTMCell object at 0x7f8ef61e5d30> has the same name 'LSTMCell' as a built-in Keras object. Consider renaming <class 'keras.layers.recurrent.LSTMCell'> to avoid naming conflicts when loading with `tf.keras.models.load_model`. If renaming is not possible, pass the object in the `custom_objects` parameter of the load function.\n"
     ]
    },
    {
     "name": "stdout",
     "output_type": "stream",
     "text": [
      "247/247 [==============================] - 3s 14ms/step - loss: 3.2868e-04 - root_mean_squared_error: 0.0181 - val_loss: 0.0016 - val_root_mean_squared_error: 0.0398\n",
      "Epoch 7/20\n",
      "247/247 [==============================] - 1s 3ms/step - loss: 3.2848e-04 - root_mean_squared_error: 0.0181 - val_loss: 0.0018 - val_root_mean_squared_error: 0.0428\n",
      "Epoch 8/20\n",
      "227/247 [==========================>...] - ETA: 0s - loss: 3.1837e-04 - root_mean_squared_error: 0.0178"
     ]
    },
    {
     "name": "stderr",
     "output_type": "stream",
     "text": [
      "WARNING:absl:Found untraced functions such as lstm_cell_168_layer_call_fn, lstm_cell_168_layer_call_and_return_conditional_losses, lstm_cell_168_layer_call_fn, lstm_cell_168_layer_call_and_return_conditional_losses, lstm_cell_168_layer_call_and_return_conditional_losses while saving (showing 5 of 5). These functions will not be directly callable after loading.\n"
     ]
    },
    {
     "name": "stdout",
     "output_type": "stream",
     "text": [
      "INFO:tensorflow:Assets written to: /Users/yukahatori/A_Fairness/FairnessML_git/LSTM-BasicModel/WeatherModelx/assets\n"
     ]
    },
    {
     "name": "stderr",
     "output_type": "stream",
     "text": [
      "INFO:tensorflow:Assets written to: /Users/yukahatori/A_Fairness/FairnessML_git/LSTM-BasicModel/WeatherModelx/assets\n",
      "WARNING:absl:<keras.layers.recurrent.LSTMCell object at 0x7f8ef61e5d30> has the same name 'LSTMCell' as a built-in Keras object. Consider renaming <class 'keras.layers.recurrent.LSTMCell'> to avoid naming conflicts when loading with `tf.keras.models.load_model`. If renaming is not possible, pass the object in the `custom_objects` parameter of the load function.\n"
     ]
    },
    {
     "name": "stdout",
     "output_type": "stream",
     "text": [
      "247/247 [==============================] - 6s 23ms/step - loss: 3.1880e-04 - root_mean_squared_error: 0.0179 - val_loss: 0.0014 - val_root_mean_squared_error: 0.0379\n",
      "Epoch 9/20\n",
      "244/247 [============================>.] - ETA: 0s - loss: 3.0808e-04 - root_mean_squared_error: 0.0176"
     ]
    },
    {
     "name": "stderr",
     "output_type": "stream",
     "text": [
      "WARNING:absl:Found untraced functions such as lstm_cell_168_layer_call_fn, lstm_cell_168_layer_call_and_return_conditional_losses, lstm_cell_168_layer_call_fn, lstm_cell_168_layer_call_and_return_conditional_losses, lstm_cell_168_layer_call_and_return_conditional_losses while saving (showing 5 of 5). These functions will not be directly callable after loading.\n"
     ]
    },
    {
     "name": "stdout",
     "output_type": "stream",
     "text": [
      "INFO:tensorflow:Assets written to: /Users/yukahatori/A_Fairness/FairnessML_git/LSTM-BasicModel/WeatherModelx/assets\n"
     ]
    },
    {
     "name": "stderr",
     "output_type": "stream",
     "text": [
      "INFO:tensorflow:Assets written to: /Users/yukahatori/A_Fairness/FairnessML_git/LSTM-BasicModel/WeatherModelx/assets\n",
      "WARNING:absl:<keras.layers.recurrent.LSTMCell object at 0x7f8ef61e5d30> has the same name 'LSTMCell' as a built-in Keras object. Consider renaming <class 'keras.layers.recurrent.LSTMCell'> to avoid naming conflicts when loading with `tf.keras.models.load_model`. If renaming is not possible, pass the object in the `custom_objects` parameter of the load function.\n"
     ]
    },
    {
     "name": "stdout",
     "output_type": "stream",
     "text": [
      "247/247 [==============================] - 5s 22ms/step - loss: 3.0729e-04 - root_mean_squared_error: 0.0175 - val_loss: 0.0013 - val_root_mean_squared_error: 0.0361\n",
      "Epoch 10/20\n",
      "247/247 [==============================] - 1s 3ms/step - loss: 3.0160e-04 - root_mean_squared_error: 0.0174 - val_loss: 0.0017 - val_root_mean_squared_error: 0.0411\n",
      "Epoch 11/20\n",
      "247/247 [==============================] - 1s 3ms/step - loss: 2.9817e-04 - root_mean_squared_error: 0.0173 - val_loss: 0.0016 - val_root_mean_squared_error: 0.0396\n",
      "Epoch 12/20\n",
      "247/247 [==============================] - 1s 2ms/step - loss: 3.0609e-04 - root_mean_squared_error: 0.0175 - val_loss: 0.0018 - val_root_mean_squared_error: 0.0421\n",
      "Epoch 13/20\n",
      "247/247 [==============================] - 1s 2ms/step - loss: 2.9137e-04 - root_mean_squared_error: 0.0171 - val_loss: 0.0018 - val_root_mean_squared_error: 0.0420\n",
      "Epoch 14/20\n",
      "241/247 [============================>.] - ETA: 0s - loss: 2.6786e-04 - root_mean_squared_error: 0.0164"
     ]
    },
    {
     "name": "stderr",
     "output_type": "stream",
     "text": [
      "WARNING:absl:Found untraced functions such as lstm_cell_168_layer_call_fn, lstm_cell_168_layer_call_and_return_conditional_losses, lstm_cell_168_layer_call_fn, lstm_cell_168_layer_call_and_return_conditional_losses, lstm_cell_168_layer_call_and_return_conditional_losses while saving (showing 5 of 5). These functions will not be directly callable after loading.\n"
     ]
    },
    {
     "name": "stdout",
     "output_type": "stream",
     "text": [
      "INFO:tensorflow:Assets written to: /Users/yukahatori/A_Fairness/FairnessML_git/LSTM-BasicModel/WeatherModelx/assets\n"
     ]
    },
    {
     "name": "stderr",
     "output_type": "stream",
     "text": [
      "INFO:tensorflow:Assets written to: /Users/yukahatori/A_Fairness/FairnessML_git/LSTM-BasicModel/WeatherModelx/assets\n",
      "WARNING:absl:<keras.layers.recurrent.LSTMCell object at 0x7f8ef61e5d30> has the same name 'LSTMCell' as a built-in Keras object. Consider renaming <class 'keras.layers.recurrent.LSTMCell'> to avoid naming conflicts when loading with `tf.keras.models.load_model`. If renaming is not possible, pass the object in the `custom_objects` parameter of the load function.\n"
     ]
    },
    {
     "name": "stdout",
     "output_type": "stream",
     "text": [
      "247/247 [==============================] - 4s 16ms/step - loss: 2.6691e-04 - root_mean_squared_error: 0.0163 - val_loss: 0.0011 - val_root_mean_squared_error: 0.0338\n",
      "Epoch 15/20\n",
      "247/247 [==============================] - 1s 2ms/step - loss: 2.9148e-04 - root_mean_squared_error: 0.0171 - val_loss: 0.0015 - val_root_mean_squared_error: 0.0392\n",
      "Epoch 16/20\n",
      "247/247 [==============================] - 1s 3ms/step - loss: 2.6491e-04 - root_mean_squared_error: 0.0163 - val_loss: 0.0014 - val_root_mean_squared_error: 0.0373\n",
      "Epoch 17/20\n",
      "247/247 [==============================] - 1s 2ms/step - loss: 2.7846e-04 - root_mean_squared_error: 0.0167 - val_loss: 0.0015 - val_root_mean_squared_error: 0.0390\n",
      "Epoch 18/20\n",
      "247/247 [==============================] - 1s 2ms/step - loss: 2.7829e-04 - root_mean_squared_error: 0.0167 - val_loss: 0.0012 - val_root_mean_squared_error: 0.0343\n",
      "Epoch 19/20\n",
      "247/247 [==============================] - 1s 2ms/step - loss: 2.7716e-04 - root_mean_squared_error: 0.0166 - val_loss: 0.0014 - val_root_mean_squared_error: 0.0372\n",
      "Epoch 20/20\n",
      "245/247 [============================>.] - ETA: 0s - loss: 2.8866e-04 - root_mean_squared_error: 0.0170"
     ]
    },
    {
     "name": "stderr",
     "output_type": "stream",
     "text": [
      "WARNING:absl:Found untraced functions such as lstm_cell_168_layer_call_fn, lstm_cell_168_layer_call_and_return_conditional_losses, lstm_cell_168_layer_call_fn, lstm_cell_168_layer_call_and_return_conditional_losses, lstm_cell_168_layer_call_and_return_conditional_losses while saving (showing 5 of 5). These functions will not be directly callable after loading.\n"
     ]
    },
    {
     "name": "stdout",
     "output_type": "stream",
     "text": [
      "INFO:tensorflow:Assets written to: /Users/yukahatori/A_Fairness/FairnessML_git/LSTM-BasicModel/WeatherModelx/assets\n"
     ]
    },
    {
     "name": "stderr",
     "output_type": "stream",
     "text": [
      "INFO:tensorflow:Assets written to: /Users/yukahatori/A_Fairness/FairnessML_git/LSTM-BasicModel/WeatherModelx/assets\n",
      "WARNING:absl:<keras.layers.recurrent.LSTMCell object at 0x7f8ef61e5d30> has the same name 'LSTMCell' as a built-in Keras object. Consider renaming <class 'keras.layers.recurrent.LSTMCell'> to avoid naming conflicts when loading with `tf.keras.models.load_model`. If renaming is not possible, pass the object in the `custom_objects` parameter of the load function.\n"
     ]
    },
    {
     "name": "stdout",
     "output_type": "stream",
     "text": [
      "247/247 [==============================] - 3s 13ms/step - loss: 2.8861e-04 - root_mean_squared_error: 0.0170 - val_loss: 9.2002e-04 - val_root_mean_squared_error: 0.0303\n",
      "RMSE value:  0.015476780675539422\n",
      "Epoch 1/20\n",
      "233/247 [===========================>..] - ETA: 0s - loss: 0.0218 - root_mean_squared_error: 0.1477"
     ]
    },
    {
     "name": "stderr",
     "output_type": "stream",
     "text": [
      "WARNING:absl:Found untraced functions such as lstm_cell_169_layer_call_fn, lstm_cell_169_layer_call_and_return_conditional_losses, lstm_cell_169_layer_call_fn, lstm_cell_169_layer_call_and_return_conditional_losses, lstm_cell_169_layer_call_and_return_conditional_losses while saving (showing 5 of 5). These functions will not be directly callable after loading.\n"
     ]
    },
    {
     "name": "stdout",
     "output_type": "stream",
     "text": [
      "INFO:tensorflow:Assets written to: /Users/yukahatori/A_Fairness/FairnessML_git/LSTM-BasicModel/WeatherModelx/assets\n"
     ]
    },
    {
     "name": "stderr",
     "output_type": "stream",
     "text": [
      "INFO:tensorflow:Assets written to: /Users/yukahatori/A_Fairness/FairnessML_git/LSTM-BasicModel/WeatherModelx/assets\n",
      "WARNING:absl:<keras.layers.recurrent.LSTMCell object at 0x7f8ef4873550> has the same name 'LSTMCell' as a built-in Keras object. Consider renaming <class 'keras.layers.recurrent.LSTMCell'> to avoid naming conflicts when loading with `tf.keras.models.load_model`. If renaming is not possible, pass the object in the `custom_objects` parameter of the load function.\n"
     ]
    },
    {
     "name": "stdout",
     "output_type": "stream",
     "text": [
      "247/247 [==============================] - 5s 16ms/step - loss: 0.0207 - root_mean_squared_error: 0.1438 - val_loss: 0.0018 - val_root_mean_squared_error: 0.0428\n",
      "Epoch 2/20\n",
      "243/247 [============================>.] - ETA: 0s - loss: 4.9172e-04 - root_mean_squared_error: 0.0222"
     ]
    },
    {
     "name": "stderr",
     "output_type": "stream",
     "text": [
      "WARNING:absl:Found untraced functions such as lstm_cell_169_layer_call_fn, lstm_cell_169_layer_call_and_return_conditional_losses, lstm_cell_169_layer_call_fn, lstm_cell_169_layer_call_and_return_conditional_losses, lstm_cell_169_layer_call_and_return_conditional_losses while saving (showing 5 of 5). These functions will not be directly callable after loading.\n"
     ]
    },
    {
     "name": "stdout",
     "output_type": "stream",
     "text": [
      "INFO:tensorflow:Assets written to: /Users/yukahatori/A_Fairness/FairnessML_git/LSTM-BasicModel/WeatherModelx/assets\n"
     ]
    },
    {
     "name": "stderr",
     "output_type": "stream",
     "text": [
      "INFO:tensorflow:Assets written to: /Users/yukahatori/A_Fairness/FairnessML_git/LSTM-BasicModel/WeatherModelx/assets\n",
      "WARNING:absl:<keras.layers.recurrent.LSTMCell object at 0x7f8ef4873550> has the same name 'LSTMCell' as a built-in Keras object. Consider renaming <class 'keras.layers.recurrent.LSTMCell'> to avoid naming conflicts when loading with `tf.keras.models.load_model`. If renaming is not possible, pass the object in the `custom_objects` parameter of the load function.\n"
     ]
    },
    {
     "name": "stdout",
     "output_type": "stream",
     "text": [
      "247/247 [==============================] - 3s 13ms/step - loss: 4.9049e-04 - root_mean_squared_error: 0.0221 - val_loss: 0.0017 - val_root_mean_squared_error: 0.0415\n",
      "Epoch 3/20\n",
      "244/247 [============================>.] - ETA: 0s - loss: 3.9997e-04 - root_mean_squared_error: 0.0200"
     ]
    },
    {
     "name": "stderr",
     "output_type": "stream",
     "text": [
      "WARNING:absl:Found untraced functions such as lstm_cell_169_layer_call_fn, lstm_cell_169_layer_call_and_return_conditional_losses, lstm_cell_169_layer_call_fn, lstm_cell_169_layer_call_and_return_conditional_losses, lstm_cell_169_layer_call_and_return_conditional_losses while saving (showing 5 of 5). These functions will not be directly callable after loading.\n"
     ]
    },
    {
     "name": "stdout",
     "output_type": "stream",
     "text": [
      "INFO:tensorflow:Assets written to: /Users/yukahatori/A_Fairness/FairnessML_git/LSTM-BasicModel/WeatherModelx/assets\n"
     ]
    },
    {
     "name": "stderr",
     "output_type": "stream",
     "text": [
      "INFO:tensorflow:Assets written to: /Users/yukahatori/A_Fairness/FairnessML_git/LSTM-BasicModel/WeatherModelx/assets\n",
      "WARNING:absl:<keras.layers.recurrent.LSTMCell object at 0x7f8ef4873550> has the same name 'LSTMCell' as a built-in Keras object. Consider renaming <class 'keras.layers.recurrent.LSTMCell'> to avoid naming conflicts when loading with `tf.keras.models.load_model`. If renaming is not possible, pass the object in the `custom_objects` parameter of the load function.\n"
     ]
    },
    {
     "name": "stdout",
     "output_type": "stream",
     "text": [
      "247/247 [==============================] - 4s 14ms/step - loss: 3.9887e-04 - root_mean_squared_error: 0.0200 - val_loss: 0.0016 - val_root_mean_squared_error: 0.0400\n",
      "Epoch 4/20\n",
      "247/247 [==============================] - 1s 2ms/step - loss: 3.6775e-04 - root_mean_squared_error: 0.0192 - val_loss: 0.0016 - val_root_mean_squared_error: 0.0403\n",
      "Epoch 5/20\n",
      "238/247 [===========================>..] - ETA: 0s - loss: 3.3662e-04 - root_mean_squared_error: 0.0183"
     ]
    },
    {
     "name": "stderr",
     "output_type": "stream",
     "text": [
      "WARNING:absl:Found untraced functions such as lstm_cell_169_layer_call_fn, lstm_cell_169_layer_call_and_return_conditional_losses, lstm_cell_169_layer_call_fn, lstm_cell_169_layer_call_and_return_conditional_losses, lstm_cell_169_layer_call_and_return_conditional_losses while saving (showing 5 of 5). These functions will not be directly callable after loading.\n"
     ]
    },
    {
     "name": "stdout",
     "output_type": "stream",
     "text": [
      "INFO:tensorflow:Assets written to: /Users/yukahatori/A_Fairness/FairnessML_git/LSTM-BasicModel/WeatherModelx/assets\n"
     ]
    },
    {
     "name": "stderr",
     "output_type": "stream",
     "text": [
      "INFO:tensorflow:Assets written to: /Users/yukahatori/A_Fairness/FairnessML_git/LSTM-BasicModel/WeatherModelx/assets\n",
      "WARNING:absl:<keras.layers.recurrent.LSTMCell object at 0x7f8ef4873550> has the same name 'LSTMCell' as a built-in Keras object. Consider renaming <class 'keras.layers.recurrent.LSTMCell'> to avoid naming conflicts when loading with `tf.keras.models.load_model`. If renaming is not possible, pass the object in the `custom_objects` parameter of the load function.\n"
     ]
    },
    {
     "name": "stdout",
     "output_type": "stream",
     "text": [
      "247/247 [==============================] - 3s 13ms/step - loss: 3.3586e-04 - root_mean_squared_error: 0.0183 - val_loss: 0.0014 - val_root_mean_squared_error: 0.0379\n",
      "Epoch 6/20\n",
      "245/247 [============================>.] - ETA: 0s - loss: 3.2452e-04 - root_mean_squared_error: 0.0180"
     ]
    },
    {
     "name": "stderr",
     "output_type": "stream",
     "text": [
      "WARNING:absl:Found untraced functions such as lstm_cell_169_layer_call_fn, lstm_cell_169_layer_call_and_return_conditional_losses, lstm_cell_169_layer_call_fn, lstm_cell_169_layer_call_and_return_conditional_losses, lstm_cell_169_layer_call_and_return_conditional_losses while saving (showing 5 of 5). These functions will not be directly callable after loading.\n"
     ]
    },
    {
     "name": "stdout",
     "output_type": "stream",
     "text": [
      "INFO:tensorflow:Assets written to: /Users/yukahatori/A_Fairness/FairnessML_git/LSTM-BasicModel/WeatherModelx/assets\n"
     ]
    },
    {
     "name": "stderr",
     "output_type": "stream",
     "text": [
      "INFO:tensorflow:Assets written to: /Users/yukahatori/A_Fairness/FairnessML_git/LSTM-BasicModel/WeatherModelx/assets\n",
      "WARNING:absl:<keras.layers.recurrent.LSTMCell object at 0x7f8ef4873550> has the same name 'LSTMCell' as a built-in Keras object. Consider renaming <class 'keras.layers.recurrent.LSTMCell'> to avoid naming conflicts when loading with `tf.keras.models.load_model`. If renaming is not possible, pass the object in the `custom_objects` parameter of the load function.\n"
     ]
    },
    {
     "name": "stdout",
     "output_type": "stream",
     "text": [
      "247/247 [==============================] - 3s 14ms/step - loss: 3.2396e-04 - root_mean_squared_error: 0.0180 - val_loss: 0.0013 - val_root_mean_squared_error: 0.0365\n",
      "Epoch 7/20\n",
      "229/247 [==========================>...] - ETA: 0s - loss: 3.1723e-04 - root_mean_squared_error: 0.0178"
     ]
    },
    {
     "name": "stderr",
     "output_type": "stream",
     "text": [
      "WARNING:absl:Found untraced functions such as lstm_cell_169_layer_call_fn, lstm_cell_169_layer_call_and_return_conditional_losses, lstm_cell_169_layer_call_fn, lstm_cell_169_layer_call_and_return_conditional_losses, lstm_cell_169_layer_call_and_return_conditional_losses while saving (showing 5 of 5). These functions will not be directly callable after loading.\n"
     ]
    },
    {
     "name": "stdout",
     "output_type": "stream",
     "text": [
      "INFO:tensorflow:Assets written to: /Users/yukahatori/A_Fairness/FairnessML_git/LSTM-BasicModel/WeatherModelx/assets\n"
     ]
    },
    {
     "name": "stderr",
     "output_type": "stream",
     "text": [
      "INFO:tensorflow:Assets written to: /Users/yukahatori/A_Fairness/FairnessML_git/LSTM-BasicModel/WeatherModelx/assets\n",
      "WARNING:absl:<keras.layers.recurrent.LSTMCell object at 0x7f8ef4873550> has the same name 'LSTMCell' as a built-in Keras object. Consider renaming <class 'keras.layers.recurrent.LSTMCell'> to avoid naming conflicts when loading with `tf.keras.models.load_model`. If renaming is not possible, pass the object in the `custom_objects` parameter of the load function.\n"
     ]
    },
    {
     "name": "stdout",
     "output_type": "stream",
     "text": [
      "247/247 [==============================] - 4s 18ms/step - loss: 3.1815e-04 - root_mean_squared_error: 0.0178 - val_loss: 0.0012 - val_root_mean_squared_error: 0.0353\n",
      "Epoch 8/20\n",
      "234/247 [===========================>..] - ETA: 0s - loss: 3.0303e-04 - root_mean_squared_error: 0.0174"
     ]
    },
    {
     "name": "stderr",
     "output_type": "stream",
     "text": [
      "WARNING:absl:Found untraced functions such as lstm_cell_169_layer_call_fn, lstm_cell_169_layer_call_and_return_conditional_losses, lstm_cell_169_layer_call_fn, lstm_cell_169_layer_call_and_return_conditional_losses, lstm_cell_169_layer_call_and_return_conditional_losses while saving (showing 5 of 5). These functions will not be directly callable after loading.\n"
     ]
    },
    {
     "name": "stdout",
     "output_type": "stream",
     "text": [
      "INFO:tensorflow:Assets written to: /Users/yukahatori/A_Fairness/FairnessML_git/LSTM-BasicModel/WeatherModelx/assets\n"
     ]
    },
    {
     "name": "stderr",
     "output_type": "stream",
     "text": [
      "INFO:tensorflow:Assets written to: /Users/yukahatori/A_Fairness/FairnessML_git/LSTM-BasicModel/WeatherModelx/assets\n",
      "WARNING:absl:<keras.layers.recurrent.LSTMCell object at 0x7f8ef4873550> has the same name 'LSTMCell' as a built-in Keras object. Consider renaming <class 'keras.layers.recurrent.LSTMCell'> to avoid naming conflicts when loading with `tf.keras.models.load_model`. If renaming is not possible, pass the object in the `custom_objects` parameter of the load function.\n"
     ]
    },
    {
     "name": "stdout",
     "output_type": "stream",
     "text": [
      "247/247 [==============================] - 4s 14ms/step - loss: 3.0198e-04 - root_mean_squared_error: 0.0174 - val_loss: 0.0012 - val_root_mean_squared_error: 0.0344\n",
      "Epoch 9/20\n",
      "247/247 [==============================] - 1s 3ms/step - loss: 2.9544e-04 - root_mean_squared_error: 0.0172 - val_loss: 0.0012 - val_root_mean_squared_error: 0.0345\n",
      "Epoch 10/20\n",
      "240/247 [============================>.] - ETA: 0s - loss: 2.8949e-04 - root_mean_squared_error: 0.0170"
     ]
    },
    {
     "name": "stderr",
     "output_type": "stream",
     "text": [
      "WARNING:absl:Found untraced functions such as lstm_cell_169_layer_call_fn, lstm_cell_169_layer_call_and_return_conditional_losses, lstm_cell_169_layer_call_fn, lstm_cell_169_layer_call_and_return_conditional_losses, lstm_cell_169_layer_call_and_return_conditional_losses while saving (showing 5 of 5). These functions will not be directly callable after loading.\n"
     ]
    },
    {
     "name": "stdout",
     "output_type": "stream",
     "text": [
      "INFO:tensorflow:Assets written to: /Users/yukahatori/A_Fairness/FairnessML_git/LSTM-BasicModel/WeatherModelx/assets\n"
     ]
    },
    {
     "name": "stderr",
     "output_type": "stream",
     "text": [
      "INFO:tensorflow:Assets written to: /Users/yukahatori/A_Fairness/FairnessML_git/LSTM-BasicModel/WeatherModelx/assets\n",
      "WARNING:absl:<keras.layers.recurrent.LSTMCell object at 0x7f8ef4873550> has the same name 'LSTMCell' as a built-in Keras object. Consider renaming <class 'keras.layers.recurrent.LSTMCell'> to avoid naming conflicts when loading with `tf.keras.models.load_model`. If renaming is not possible, pass the object in the `custom_objects` parameter of the load function.\n"
     ]
    },
    {
     "name": "stdout",
     "output_type": "stream",
     "text": [
      "247/247 [==============================] - 4s 17ms/step - loss: 2.8918e-04 - root_mean_squared_error: 0.0170 - val_loss: 8.0469e-04 - val_root_mean_squared_error: 0.0284\n",
      "Epoch 11/20\n",
      "247/247 [==============================] - 1s 2ms/step - loss: 2.8647e-04 - root_mean_squared_error: 0.0169 - val_loss: 0.0012 - val_root_mean_squared_error: 0.0347\n",
      "Epoch 12/20\n",
      "247/247 [==============================] - 1s 3ms/step - loss: 2.8821e-04 - root_mean_squared_error: 0.0170 - val_loss: 0.0012 - val_root_mean_squared_error: 0.0353\n",
      "Epoch 13/20\n",
      "247/247 [==============================] - 1s 3ms/step - loss: 2.7162e-04 - root_mean_squared_error: 0.0165 - val_loss: 0.0012 - val_root_mean_squared_error: 0.0353\n",
      "Epoch 14/20\n",
      "247/247 [==============================] - 1s 2ms/step - loss: 2.8052e-04 - root_mean_squared_error: 0.0167 - val_loss: 0.0011 - val_root_mean_squared_error: 0.0326\n",
      "Epoch 15/20\n",
      "247/247 [==============================] - 1s 2ms/step - loss: 2.7030e-04 - root_mean_squared_error: 0.0164 - val_loss: 8.4550e-04 - val_root_mean_squared_error: 0.0291\n",
      "Epoch 16/20\n",
      "247/247 [==============================] - 1s 2ms/step - loss: 2.8250e-04 - root_mean_squared_error: 0.0168 - val_loss: 9.8800e-04 - val_root_mean_squared_error: 0.0314\n",
      "Epoch 17/20\n",
      "247/247 [==============================] - 1s 2ms/step - loss: 2.6675e-04 - root_mean_squared_error: 0.0163 - val_loss: 8.5852e-04 - val_root_mean_squared_error: 0.0293\n",
      "Epoch 18/20\n",
      "247/247 [==============================] - 1s 2ms/step - loss: 2.7456e-04 - root_mean_squared_error: 0.0166 - val_loss: 9.4691e-04 - val_root_mean_squared_error: 0.0308\n",
      "Epoch 19/20\n",
      "247/247 [==============================] - 1s 2ms/step - loss: 2.6811e-04 - root_mean_squared_error: 0.0164 - val_loss: 0.0011 - val_root_mean_squared_error: 0.0327\n",
      "Epoch 20/20\n",
      "247/247 [==============================] - 1s 2ms/step - loss: 2.8905e-04 - root_mean_squared_error: 0.0170 - val_loss: 0.0015 - val_root_mean_squared_error: 0.0386\n",
      "RMSE value:  0.016679560572211295\n",
      "Epoch 1/20\n",
      "231/247 [===========================>..] - ETA: 0s - loss: 0.0178 - root_mean_squared_error: 0.1333"
     ]
    },
    {
     "name": "stderr",
     "output_type": "stream",
     "text": [
      "WARNING:absl:Found untraced functions such as lstm_cell_170_layer_call_fn, lstm_cell_170_layer_call_and_return_conditional_losses, lstm_cell_170_layer_call_fn, lstm_cell_170_layer_call_and_return_conditional_losses, lstm_cell_170_layer_call_and_return_conditional_losses while saving (showing 5 of 5). These functions will not be directly callable after loading.\n"
     ]
    },
    {
     "name": "stdout",
     "output_type": "stream",
     "text": [
      "INFO:tensorflow:Assets written to: /Users/yukahatori/A_Fairness/FairnessML_git/LSTM-BasicModel/WeatherModelx/assets\n"
     ]
    },
    {
     "name": "stderr",
     "output_type": "stream",
     "text": [
      "INFO:tensorflow:Assets written to: /Users/yukahatori/A_Fairness/FairnessML_git/LSTM-BasicModel/WeatherModelx/assets\n",
      "WARNING:absl:<keras.layers.recurrent.LSTMCell object at 0x7f8ee7428910> has the same name 'LSTMCell' as a built-in Keras object. Consider renaming <class 'keras.layers.recurrent.LSTMCell'> to avoid naming conflicts when loading with `tf.keras.models.load_model`. If renaming is not possible, pass the object in the `custom_objects` parameter of the load function.\n"
     ]
    },
    {
     "name": "stdout",
     "output_type": "stream",
     "text": [
      "247/247 [==============================] - 5s 14ms/step - loss: 0.0167 - root_mean_squared_error: 0.1293 - val_loss: 0.0021 - val_root_mean_squared_error: 0.0457\n",
      "Epoch 2/20\n",
      "233/247 [===========================>..] - ETA: 0s - loss: 6.5253e-04 - root_mean_squared_error: 0.0255"
     ]
    },
    {
     "name": "stderr",
     "output_type": "stream",
     "text": [
      "WARNING:absl:Found untraced functions such as lstm_cell_170_layer_call_fn, lstm_cell_170_layer_call_and_return_conditional_losses, lstm_cell_170_layer_call_fn, lstm_cell_170_layer_call_and_return_conditional_losses, lstm_cell_170_layer_call_and_return_conditional_losses while saving (showing 5 of 5). These functions will not be directly callable after loading.\n"
     ]
    },
    {
     "name": "stdout",
     "output_type": "stream",
     "text": [
      "INFO:tensorflow:Assets written to: /Users/yukahatori/A_Fairness/FairnessML_git/LSTM-BasicModel/WeatherModelx/assets\n"
     ]
    },
    {
     "name": "stderr",
     "output_type": "stream",
     "text": [
      "INFO:tensorflow:Assets written to: /Users/yukahatori/A_Fairness/FairnessML_git/LSTM-BasicModel/WeatherModelx/assets\n",
      "WARNING:absl:<keras.layers.recurrent.LSTMCell object at 0x7f8ee7428910> has the same name 'LSTMCell' as a built-in Keras object. Consider renaming <class 'keras.layers.recurrent.LSTMCell'> to avoid naming conflicts when loading with `tf.keras.models.load_model`. If renaming is not possible, pass the object in the `custom_objects` parameter of the load function.\n"
     ]
    },
    {
     "name": "stdout",
     "output_type": "stream",
     "text": [
      "247/247 [==============================] - 4s 16ms/step - loss: 6.4592e-04 - root_mean_squared_error: 0.0254 - val_loss: 0.0018 - val_root_mean_squared_error: 0.0425\n",
      "Epoch 3/20\n",
      "240/247 [============================>.] - ETA: 0s - loss: 5.1902e-04 - root_mean_squared_error: 0.0228"
     ]
    },
    {
     "name": "stderr",
     "output_type": "stream",
     "text": [
      "WARNING:absl:Found untraced functions such as lstm_cell_170_layer_call_fn, lstm_cell_170_layer_call_and_return_conditional_losses, lstm_cell_170_layer_call_fn, lstm_cell_170_layer_call_and_return_conditional_losses, lstm_cell_170_layer_call_and_return_conditional_losses while saving (showing 5 of 5). These functions will not be directly callable after loading.\n"
     ]
    },
    {
     "name": "stdout",
     "output_type": "stream",
     "text": [
      "INFO:tensorflow:Assets written to: /Users/yukahatori/A_Fairness/FairnessML_git/LSTM-BasicModel/WeatherModelx/assets\n"
     ]
    },
    {
     "name": "stderr",
     "output_type": "stream",
     "text": [
      "INFO:tensorflow:Assets written to: /Users/yukahatori/A_Fairness/FairnessML_git/LSTM-BasicModel/WeatherModelx/assets\n",
      "WARNING:absl:<keras.layers.recurrent.LSTMCell object at 0x7f8ee7428910> has the same name 'LSTMCell' as a built-in Keras object. Consider renaming <class 'keras.layers.recurrent.LSTMCell'> to avoid naming conflicts when loading with `tf.keras.models.load_model`. If renaming is not possible, pass the object in the `custom_objects` parameter of the load function.\n"
     ]
    },
    {
     "name": "stdout",
     "output_type": "stream",
     "text": [
      "247/247 [==============================] - 3s 13ms/step - loss: 5.1601e-04 - root_mean_squared_error: 0.0227 - val_loss: 0.0013 - val_root_mean_squared_error: 0.0365\n",
      "Epoch 4/20\n",
      "247/247 [==============================] - 1s 2ms/step - loss: 4.6975e-04 - root_mean_squared_error: 0.0217 - val_loss: 0.0014 - val_root_mean_squared_error: 0.0375\n",
      "Epoch 5/20\n",
      "247/247 [==============================] - 1s 2ms/step - loss: 4.5898e-04 - root_mean_squared_error: 0.0214 - val_loss: 0.0016 - val_root_mean_squared_error: 0.0398\n",
      "Epoch 6/20\n",
      "245/247 [============================>.] - ETA: 0s - loss: 4.6026e-04 - root_mean_squared_error: 0.0215"
     ]
    },
    {
     "name": "stderr",
     "output_type": "stream",
     "text": [
      "WARNING:absl:Found untraced functions such as lstm_cell_170_layer_call_fn, lstm_cell_170_layer_call_and_return_conditional_losses, lstm_cell_170_layer_call_fn, lstm_cell_170_layer_call_and_return_conditional_losses, lstm_cell_170_layer_call_and_return_conditional_losses while saving (showing 5 of 5). These functions will not be directly callable after loading.\n"
     ]
    },
    {
     "name": "stdout",
     "output_type": "stream",
     "text": [
      "INFO:tensorflow:Assets written to: /Users/yukahatori/A_Fairness/FairnessML_git/LSTM-BasicModel/WeatherModelx/assets\n"
     ]
    },
    {
     "name": "stderr",
     "output_type": "stream",
     "text": [
      "INFO:tensorflow:Assets written to: /Users/yukahatori/A_Fairness/FairnessML_git/LSTM-BasicModel/WeatherModelx/assets\n",
      "WARNING:absl:<keras.layers.recurrent.LSTMCell object at 0x7f8ee7428910> has the same name 'LSTMCell' as a built-in Keras object. Consider renaming <class 'keras.layers.recurrent.LSTMCell'> to avoid naming conflicts when loading with `tf.keras.models.load_model`. If renaming is not possible, pass the object in the `custom_objects` parameter of the load function.\n"
     ]
    },
    {
     "name": "stdout",
     "output_type": "stream",
     "text": [
      "247/247 [==============================] - 3s 14ms/step - loss: 4.5996e-04 - root_mean_squared_error: 0.0214 - val_loss: 0.0013 - val_root_mean_squared_error: 0.0357\n",
      "Epoch 7/20\n",
      "231/247 [===========================>..] - ETA: 0s - loss: 4.3719e-04 - root_mean_squared_error: 0.0209"
     ]
    },
    {
     "name": "stderr",
     "output_type": "stream",
     "text": [
      "WARNING:absl:Found untraced functions such as lstm_cell_170_layer_call_fn, lstm_cell_170_layer_call_and_return_conditional_losses, lstm_cell_170_layer_call_fn, lstm_cell_170_layer_call_and_return_conditional_losses, lstm_cell_170_layer_call_and_return_conditional_losses while saving (showing 5 of 5). These functions will not be directly callable after loading.\n"
     ]
    },
    {
     "name": "stdout",
     "output_type": "stream",
     "text": [
      "INFO:tensorflow:Assets written to: /Users/yukahatori/A_Fairness/FairnessML_git/LSTM-BasicModel/WeatherModelx/assets\n"
     ]
    },
    {
     "name": "stderr",
     "output_type": "stream",
     "text": [
      "INFO:tensorflow:Assets written to: /Users/yukahatori/A_Fairness/FairnessML_git/LSTM-BasicModel/WeatherModelx/assets\n",
      "WARNING:absl:<keras.layers.recurrent.LSTMCell object at 0x7f8ee7428910> has the same name 'LSTMCell' as a built-in Keras object. Consider renaming <class 'keras.layers.recurrent.LSTMCell'> to avoid naming conflicts when loading with `tf.keras.models.load_model`. If renaming is not possible, pass the object in the `custom_objects` parameter of the load function.\n"
     ]
    },
    {
     "name": "stdout",
     "output_type": "stream",
     "text": [
      "247/247 [==============================] - 4s 15ms/step - loss: 4.3917e-04 - root_mean_squared_error: 0.0210 - val_loss: 0.0012 - val_root_mean_squared_error: 0.0351\n",
      "Epoch 8/20\n",
      "247/247 [==============================] - 1s 2ms/step - loss: 4.2894e-04 - root_mean_squared_error: 0.0207 - val_loss: 0.0013 - val_root_mean_squared_error: 0.0362\n",
      "Epoch 9/20\n",
      "237/247 [===========================>..] - ETA: 0s - loss: 4.2184e-04 - root_mean_squared_error: 0.0205"
     ]
    },
    {
     "name": "stderr",
     "output_type": "stream",
     "text": [
      "WARNING:absl:Found untraced functions such as lstm_cell_170_layer_call_fn, lstm_cell_170_layer_call_and_return_conditional_losses, lstm_cell_170_layer_call_fn, lstm_cell_170_layer_call_and_return_conditional_losses, lstm_cell_170_layer_call_and_return_conditional_losses while saving (showing 5 of 5). These functions will not be directly callable after loading.\n"
     ]
    },
    {
     "name": "stdout",
     "output_type": "stream",
     "text": [
      "INFO:tensorflow:Assets written to: /Users/yukahatori/A_Fairness/FairnessML_git/LSTM-BasicModel/WeatherModelx/assets\n"
     ]
    },
    {
     "name": "stderr",
     "output_type": "stream",
     "text": [
      "INFO:tensorflow:Assets written to: /Users/yukahatori/A_Fairness/FairnessML_git/LSTM-BasicModel/WeatherModelx/assets\n",
      "WARNING:absl:<keras.layers.recurrent.LSTMCell object at 0x7f8ee7428910> has the same name 'LSTMCell' as a built-in Keras object. Consider renaming <class 'keras.layers.recurrent.LSTMCell'> to avoid naming conflicts when loading with `tf.keras.models.load_model`. If renaming is not possible, pass the object in the `custom_objects` parameter of the load function.\n"
     ]
    },
    {
     "name": "stdout",
     "output_type": "stream",
     "text": [
      "247/247 [==============================] - 3s 14ms/step - loss: 4.2272e-04 - root_mean_squared_error: 0.0206 - val_loss: 0.0012 - val_root_mean_squared_error: 0.0347\n",
      "Epoch 10/20\n",
      "239/247 [============================>.] - ETA: 0s - loss: 4.2702e-04 - root_mean_squared_error: 0.0207"
     ]
    },
    {
     "name": "stderr",
     "output_type": "stream",
     "text": [
      "WARNING:absl:Found untraced functions such as lstm_cell_170_layer_call_fn, lstm_cell_170_layer_call_and_return_conditional_losses, lstm_cell_170_layer_call_fn, lstm_cell_170_layer_call_and_return_conditional_losses, lstm_cell_170_layer_call_and_return_conditional_losses while saving (showing 5 of 5). These functions will not be directly callable after loading.\n"
     ]
    },
    {
     "name": "stdout",
     "output_type": "stream",
     "text": [
      "INFO:tensorflow:Assets written to: /Users/yukahatori/A_Fairness/FairnessML_git/LSTM-BasicModel/WeatherModelx/assets\n"
     ]
    },
    {
     "name": "stderr",
     "output_type": "stream",
     "text": [
      "INFO:tensorflow:Assets written to: /Users/yukahatori/A_Fairness/FairnessML_git/LSTM-BasicModel/WeatherModelx/assets\n",
      "WARNING:absl:<keras.layers.recurrent.LSTMCell object at 0x7f8ee7428910> has the same name 'LSTMCell' as a built-in Keras object. Consider renaming <class 'keras.layers.recurrent.LSTMCell'> to avoid naming conflicts when loading with `tf.keras.models.load_model`. If renaming is not possible, pass the object in the `custom_objects` parameter of the load function.\n"
     ]
    },
    {
     "name": "stdout",
     "output_type": "stream",
     "text": [
      "247/247 [==============================] - 4s 15ms/step - loss: 4.2778e-04 - root_mean_squared_error: 0.0207 - val_loss: 9.7581e-04 - val_root_mean_squared_error: 0.0312\n",
      "Epoch 11/20\n",
      "247/247 [==============================] - 1s 3ms/step - loss: 4.2949e-04 - root_mean_squared_error: 0.0207 - val_loss: 0.0011 - val_root_mean_squared_error: 0.0326\n",
      "Epoch 12/20\n",
      "247/247 [==============================] - 1s 3ms/step - loss: 4.1219e-04 - root_mean_squared_error: 0.0203 - val_loss: 0.0011 - val_root_mean_squared_error: 0.0333\n",
      "Epoch 13/20\n",
      "247/247 [==============================] - 1s 3ms/step - loss: 4.1512e-04 - root_mean_squared_error: 0.0204 - val_loss: 0.0012 - val_root_mean_squared_error: 0.0345\n",
      "Epoch 14/20\n",
      "247/247 [==============================] - 1s 3ms/step - loss: 4.2192e-04 - root_mean_squared_error: 0.0205 - val_loss: 9.8373e-04 - val_root_mean_squared_error: 0.0314\n",
      "Epoch 15/20\n",
      "247/247 [==============================] - 1s 3ms/step - loss: 4.2486e-04 - root_mean_squared_error: 0.0206 - val_loss: 0.0010 - val_root_mean_squared_error: 0.0320\n",
      "Epoch 16/20\n",
      "247/247 [==============================] - 1s 2ms/step - loss: 4.0283e-04 - root_mean_squared_error: 0.0201 - val_loss: 0.0010 - val_root_mean_squared_error: 0.0318\n",
      "Epoch 17/20\n",
      "240/247 [============================>.] - ETA: 0s - loss: 4.0132e-04 - root_mean_squared_error: 0.0200"
     ]
    },
    {
     "name": "stderr",
     "output_type": "stream",
     "text": [
      "WARNING:absl:Found untraced functions such as lstm_cell_170_layer_call_fn, lstm_cell_170_layer_call_and_return_conditional_losses, lstm_cell_170_layer_call_fn, lstm_cell_170_layer_call_and_return_conditional_losses, lstm_cell_170_layer_call_and_return_conditional_losses while saving (showing 5 of 5). These functions will not be directly callable after loading.\n"
     ]
    },
    {
     "name": "stdout",
     "output_type": "stream",
     "text": [
      "INFO:tensorflow:Assets written to: /Users/yukahatori/A_Fairness/FairnessML_git/LSTM-BasicModel/WeatherModelx/assets\n"
     ]
    },
    {
     "name": "stderr",
     "output_type": "stream",
     "text": [
      "INFO:tensorflow:Assets written to: /Users/yukahatori/A_Fairness/FairnessML_git/LSTM-BasicModel/WeatherModelx/assets\n",
      "WARNING:absl:<keras.layers.recurrent.LSTMCell object at 0x7f8ee7428910> has the same name 'LSTMCell' as a built-in Keras object. Consider renaming <class 'keras.layers.recurrent.LSTMCell'> to avoid naming conflicts when loading with `tf.keras.models.load_model`. If renaming is not possible, pass the object in the `custom_objects` parameter of the load function.\n"
     ]
    },
    {
     "name": "stdout",
     "output_type": "stream",
     "text": [
      "247/247 [==============================] - 4s 15ms/step - loss: 4.0435e-04 - root_mean_squared_error: 0.0201 - val_loss: 9.1284e-04 - val_root_mean_squared_error: 0.0302\n",
      "Epoch 18/20\n",
      "247/247 [==============================] - 1s 3ms/step - loss: 4.1334e-04 - root_mean_squared_error: 0.0203 - val_loss: 0.0010 - val_root_mean_squared_error: 0.0323\n",
      "Epoch 19/20\n",
      "247/247 [==============================] - 1s 3ms/step - loss: 3.8692e-04 - root_mean_squared_error: 0.0197 - val_loss: 0.0010 - val_root_mean_squared_error: 0.0323\n",
      "Epoch 20/20\n",
      "247/247 [==============================] - 1s 3ms/step - loss: 4.1253e-04 - root_mean_squared_error: 0.0203 - val_loss: 0.0011 - val_root_mean_squared_error: 0.0335\n",
      "RMSE value:  0.020498633375483938\n",
      "Epoch 1/20\n",
      "233/247 [===========================>..] - ETA: 0s - loss: 0.0234 - root_mean_squared_error: 0.1531"
     ]
    },
    {
     "name": "stderr",
     "output_type": "stream",
     "text": [
      "WARNING:absl:Found untraced functions such as lstm_cell_171_layer_call_fn, lstm_cell_171_layer_call_and_return_conditional_losses, lstm_cell_171_layer_call_fn, lstm_cell_171_layer_call_and_return_conditional_losses, lstm_cell_171_layer_call_and_return_conditional_losses while saving (showing 5 of 5). These functions will not be directly callable after loading.\n"
     ]
    },
    {
     "name": "stdout",
     "output_type": "stream",
     "text": [
      "INFO:tensorflow:Assets written to: /Users/yukahatori/A_Fairness/FairnessML_git/LSTM-BasicModel/WeatherModelx/assets\n"
     ]
    },
    {
     "name": "stderr",
     "output_type": "stream",
     "text": [
      "INFO:tensorflow:Assets written to: /Users/yukahatori/A_Fairness/FairnessML_git/LSTM-BasicModel/WeatherModelx/assets\n",
      "WARNING:absl:<keras.layers.recurrent.LSTMCell object at 0x7f8eee3e08e0> has the same name 'LSTMCell' as a built-in Keras object. Consider renaming <class 'keras.layers.recurrent.LSTMCell'> to avoid naming conflicts when loading with `tf.keras.models.load_model`. If renaming is not possible, pass the object in the `custom_objects` parameter of the load function.\n"
     ]
    },
    {
     "name": "stdout",
     "output_type": "stream",
     "text": [
      "247/247 [==============================] - 6s 17ms/step - loss: 0.0222 - root_mean_squared_error: 0.1490 - val_loss: 0.0015 - val_root_mean_squared_error: 0.0392\n",
      "Epoch 2/20\n",
      "247/247 [==============================] - 1s 3ms/step - loss: 6.8320e-04 - root_mean_squared_error: 0.0261 - val_loss: 0.0018 - val_root_mean_squared_error: 0.0424\n",
      "Epoch 3/20\n",
      "247/247 [==============================] - 1s 3ms/step - loss: 5.7797e-04 - root_mean_squared_error: 0.0240 - val_loss: 0.0018 - val_root_mean_squared_error: 0.0422\n",
      "Epoch 4/20\n",
      "247/247 [==============================] - ETA: 0s - loss: 5.0709e-04 - root_mean_squared_error: 0.0225"
     ]
    },
    {
     "name": "stderr",
     "output_type": "stream",
     "text": [
      "WARNING:absl:Found untraced functions such as lstm_cell_171_layer_call_fn, lstm_cell_171_layer_call_and_return_conditional_losses, lstm_cell_171_layer_call_fn, lstm_cell_171_layer_call_and_return_conditional_losses, lstm_cell_171_layer_call_and_return_conditional_losses while saving (showing 5 of 5). These functions will not be directly callable after loading.\n"
     ]
    },
    {
     "name": "stdout",
     "output_type": "stream",
     "text": [
      "INFO:tensorflow:Assets written to: /Users/yukahatori/A_Fairness/FairnessML_git/LSTM-BasicModel/WeatherModelx/assets\n"
     ]
    },
    {
     "name": "stderr",
     "output_type": "stream",
     "text": [
      "INFO:tensorflow:Assets written to: /Users/yukahatori/A_Fairness/FairnessML_git/LSTM-BasicModel/WeatherModelx/assets\n",
      "WARNING:absl:<keras.layers.recurrent.LSTMCell object at 0x7f8eee3e08e0> has the same name 'LSTMCell' as a built-in Keras object. Consider renaming <class 'keras.layers.recurrent.LSTMCell'> to avoid naming conflicts when loading with `tf.keras.models.load_model`. If renaming is not possible, pass the object in the `custom_objects` parameter of the load function.\n"
     ]
    },
    {
     "name": "stdout",
     "output_type": "stream",
     "text": [
      "247/247 [==============================] - 4s 15ms/step - loss: 5.0709e-04 - root_mean_squared_error: 0.0225 - val_loss: 0.0014 - val_root_mean_squared_error: 0.0379\n",
      "Epoch 5/20\n",
      "241/247 [============================>.] - ETA: 0s - loss: 4.5911e-04 - root_mean_squared_error: 0.0214"
     ]
    },
    {
     "name": "stderr",
     "output_type": "stream",
     "text": [
      "WARNING:absl:Found untraced functions such as lstm_cell_171_layer_call_fn, lstm_cell_171_layer_call_and_return_conditional_losses, lstm_cell_171_layer_call_fn, lstm_cell_171_layer_call_and_return_conditional_losses, lstm_cell_171_layer_call_and_return_conditional_losses while saving (showing 5 of 5). These functions will not be directly callable after loading.\n"
     ]
    },
    {
     "name": "stdout",
     "output_type": "stream",
     "text": [
      "INFO:tensorflow:Assets written to: /Users/yukahatori/A_Fairness/FairnessML_git/LSTM-BasicModel/WeatherModelx/assets\n"
     ]
    },
    {
     "name": "stderr",
     "output_type": "stream",
     "text": [
      "INFO:tensorflow:Assets written to: /Users/yukahatori/A_Fairness/FairnessML_git/LSTM-BasicModel/WeatherModelx/assets\n",
      "WARNING:absl:<keras.layers.recurrent.LSTMCell object at 0x7f8eee3e08e0> has the same name 'LSTMCell' as a built-in Keras object. Consider renaming <class 'keras.layers.recurrent.LSTMCell'> to avoid naming conflicts when loading with `tf.keras.models.load_model`. If renaming is not possible, pass the object in the `custom_objects` parameter of the load function.\n"
     ]
    },
    {
     "name": "stdout",
     "output_type": "stream",
     "text": [
      "247/247 [==============================] - 3s 14ms/step - loss: 4.5880e-04 - root_mean_squared_error: 0.0214 - val_loss: 0.0013 - val_root_mean_squared_error: 0.0365\n",
      "Epoch 6/20\n",
      "245/247 [============================>.] - ETA: 0s - loss: 4.4436e-04 - root_mean_squared_error: 0.0211"
     ]
    },
    {
     "name": "stderr",
     "output_type": "stream",
     "text": [
      "WARNING:absl:Found untraced functions such as lstm_cell_171_layer_call_fn, lstm_cell_171_layer_call_and_return_conditional_losses, lstm_cell_171_layer_call_fn, lstm_cell_171_layer_call_and_return_conditional_losses, lstm_cell_171_layer_call_and_return_conditional_losses while saving (showing 5 of 5). These functions will not be directly callable after loading.\n"
     ]
    },
    {
     "name": "stdout",
     "output_type": "stream",
     "text": [
      "INFO:tensorflow:Assets written to: /Users/yukahatori/A_Fairness/FairnessML_git/LSTM-BasicModel/WeatherModelx/assets\n"
     ]
    },
    {
     "name": "stderr",
     "output_type": "stream",
     "text": [
      "INFO:tensorflow:Assets written to: /Users/yukahatori/A_Fairness/FairnessML_git/LSTM-BasicModel/WeatherModelx/assets\n",
      "WARNING:absl:<keras.layers.recurrent.LSTMCell object at 0x7f8eee3e08e0> has the same name 'LSTMCell' as a built-in Keras object. Consider renaming <class 'keras.layers.recurrent.LSTMCell'> to avoid naming conflicts when loading with `tf.keras.models.load_model`. If renaming is not possible, pass the object in the `custom_objects` parameter of the load function.\n"
     ]
    },
    {
     "name": "stdout",
     "output_type": "stream",
     "text": [
      "247/247 [==============================] - 3s 14ms/step - loss: 4.4371e-04 - root_mean_squared_error: 0.0211 - val_loss: 0.0011 - val_root_mean_squared_error: 0.0337\n",
      "Epoch 7/20\n",
      "234/247 [===========================>..] - ETA: 0s - loss: 4.3105e-04 - root_mean_squared_error: 0.0208"
     ]
    },
    {
     "name": "stderr",
     "output_type": "stream",
     "text": [
      "WARNING:absl:Found untraced functions such as lstm_cell_171_layer_call_fn, lstm_cell_171_layer_call_and_return_conditional_losses, lstm_cell_171_layer_call_fn, lstm_cell_171_layer_call_and_return_conditional_losses, lstm_cell_171_layer_call_and_return_conditional_losses while saving (showing 5 of 5). These functions will not be directly callable after loading.\n"
     ]
    },
    {
     "name": "stdout",
     "output_type": "stream",
     "text": [
      "INFO:tensorflow:Assets written to: /Users/yukahatori/A_Fairness/FairnessML_git/LSTM-BasicModel/WeatherModelx/assets\n"
     ]
    },
    {
     "name": "stderr",
     "output_type": "stream",
     "text": [
      "INFO:tensorflow:Assets written to: /Users/yukahatori/A_Fairness/FairnessML_git/LSTM-BasicModel/WeatherModelx/assets\n",
      "WARNING:absl:<keras.layers.recurrent.LSTMCell object at 0x7f8eee3e08e0> has the same name 'LSTMCell' as a built-in Keras object. Consider renaming <class 'keras.layers.recurrent.LSTMCell'> to avoid naming conflicts when loading with `tf.keras.models.load_model`. If renaming is not possible, pass the object in the `custom_objects` parameter of the load function.\n"
     ]
    },
    {
     "name": "stdout",
     "output_type": "stream",
     "text": [
      "247/247 [==============================] - 4s 16ms/step - loss: 4.2818e-04 - root_mean_squared_error: 0.0207 - val_loss: 0.0010 - val_root_mean_squared_error: 0.0321\n",
      "Epoch 8/20\n",
      "228/247 [==========================>...] - ETA: 0s - loss: 4.3304e-04 - root_mean_squared_error: 0.0208"
     ]
    },
    {
     "name": "stderr",
     "output_type": "stream",
     "text": [
      "WARNING:absl:Found untraced functions such as lstm_cell_171_layer_call_fn, lstm_cell_171_layer_call_and_return_conditional_losses, lstm_cell_171_layer_call_fn, lstm_cell_171_layer_call_and_return_conditional_losses, lstm_cell_171_layer_call_and_return_conditional_losses while saving (showing 5 of 5). These functions will not be directly callable after loading.\n"
     ]
    },
    {
     "name": "stdout",
     "output_type": "stream",
     "text": [
      "INFO:tensorflow:Assets written to: /Users/yukahatori/A_Fairness/FairnessML_git/LSTM-BasicModel/WeatherModelx/assets\n"
     ]
    },
    {
     "name": "stderr",
     "output_type": "stream",
     "text": [
      "INFO:tensorflow:Assets written to: /Users/yukahatori/A_Fairness/FairnessML_git/LSTM-BasicModel/WeatherModelx/assets\n",
      "WARNING:absl:<keras.layers.recurrent.LSTMCell object at 0x7f8eee3e08e0> has the same name 'LSTMCell' as a built-in Keras object. Consider renaming <class 'keras.layers.recurrent.LSTMCell'> to avoid naming conflicts when loading with `tf.keras.models.load_model`. If renaming is not possible, pass the object in the `custom_objects` parameter of the load function.\n"
     ]
    },
    {
     "name": "stdout",
     "output_type": "stream",
     "text": [
      "247/247 [==============================] - 3s 13ms/step - loss: 4.3122e-04 - root_mean_squared_error: 0.0208 - val_loss: 9.7782e-04 - val_root_mean_squared_error: 0.0313\n",
      "Epoch 9/20\n",
      "238/247 [===========================>..] - ETA: 0s - loss: 4.2372e-04 - root_mean_squared_error: 0.0206"
     ]
    },
    {
     "name": "stderr",
     "output_type": "stream",
     "text": [
      "WARNING:absl:Found untraced functions such as lstm_cell_171_layer_call_fn, lstm_cell_171_layer_call_and_return_conditional_losses, lstm_cell_171_layer_call_fn, lstm_cell_171_layer_call_and_return_conditional_losses, lstm_cell_171_layer_call_and_return_conditional_losses while saving (showing 5 of 5). These functions will not be directly callable after loading.\n"
     ]
    },
    {
     "name": "stdout",
     "output_type": "stream",
     "text": [
      "INFO:tensorflow:Assets written to: /Users/yukahatori/A_Fairness/FairnessML_git/LSTM-BasicModel/WeatherModelx/assets\n"
     ]
    },
    {
     "name": "stderr",
     "output_type": "stream",
     "text": [
      "INFO:tensorflow:Assets written to: /Users/yukahatori/A_Fairness/FairnessML_git/LSTM-BasicModel/WeatherModelx/assets\n",
      "WARNING:absl:<keras.layers.recurrent.LSTMCell object at 0x7f8eee3e08e0> has the same name 'LSTMCell' as a built-in Keras object. Consider renaming <class 'keras.layers.recurrent.LSTMCell'> to avoid naming conflicts when loading with `tf.keras.models.load_model`. If renaming is not possible, pass the object in the `custom_objects` parameter of the load function.\n"
     ]
    },
    {
     "name": "stdout",
     "output_type": "stream",
     "text": [
      "247/247 [==============================] - 4s 14ms/step - loss: 4.2412e-04 - root_mean_squared_error: 0.0206 - val_loss: 9.4699e-04 - val_root_mean_squared_error: 0.0308\n",
      "Epoch 10/20\n",
      "247/247 [==============================] - 1s 2ms/step - loss: 4.3045e-04 - root_mean_squared_error: 0.0207 - val_loss: 0.0010 - val_root_mean_squared_error: 0.0319\n",
      "Epoch 11/20\n",
      "247/247 [==============================] - 1s 2ms/step - loss: 4.0687e-04 - root_mean_squared_error: 0.0202 - val_loss: 9.8498e-04 - val_root_mean_squared_error: 0.0314\n",
      "Epoch 12/20\n",
      "233/247 [===========================>..] - ETA: 0s - loss: 4.1655e-04 - root_mean_squared_error: 0.0204"
     ]
    },
    {
     "name": "stderr",
     "output_type": "stream",
     "text": [
      "WARNING:absl:Found untraced functions such as lstm_cell_171_layer_call_fn, lstm_cell_171_layer_call_and_return_conditional_losses, lstm_cell_171_layer_call_fn, lstm_cell_171_layer_call_and_return_conditional_losses, lstm_cell_171_layer_call_and_return_conditional_losses while saving (showing 5 of 5). These functions will not be directly callable after loading.\n"
     ]
    },
    {
     "name": "stdout",
     "output_type": "stream",
     "text": [
      "INFO:tensorflow:Assets written to: /Users/yukahatori/A_Fairness/FairnessML_git/LSTM-BasicModel/WeatherModelx/assets\n"
     ]
    },
    {
     "name": "stderr",
     "output_type": "stream",
     "text": [
      "INFO:tensorflow:Assets written to: /Users/yukahatori/A_Fairness/FairnessML_git/LSTM-BasicModel/WeatherModelx/assets\n",
      "WARNING:absl:<keras.layers.recurrent.LSTMCell object at 0x7f8eee3e08e0> has the same name 'LSTMCell' as a built-in Keras object. Consider renaming <class 'keras.layers.recurrent.LSTMCell'> to avoid naming conflicts when loading with `tf.keras.models.load_model`. If renaming is not possible, pass the object in the `custom_objects` parameter of the load function.\n"
     ]
    },
    {
     "name": "stdout",
     "output_type": "stream",
     "text": [
      "247/247 [==============================] - 3s 14ms/step - loss: 4.1965e-04 - root_mean_squared_error: 0.0205 - val_loss: 8.1857e-04 - val_root_mean_squared_error: 0.0286\n",
      "Epoch 13/20\n",
      "247/247 [==============================] - 1s 2ms/step - loss: 4.2605e-04 - root_mean_squared_error: 0.0206 - val_loss: 8.9830e-04 - val_root_mean_squared_error: 0.0300\n",
      "Epoch 14/20\n",
      "247/247 [==============================] - 1s 2ms/step - loss: 4.0334e-04 - root_mean_squared_error: 0.0201 - val_loss: 9.2840e-04 - val_root_mean_squared_error: 0.0305\n",
      "Epoch 15/20\n",
      "247/247 [==============================] - 1s 2ms/step - loss: 4.1063e-04 - root_mean_squared_error: 0.0203 - val_loss: 0.0010 - val_root_mean_squared_error: 0.0323\n",
      "Epoch 16/20\n",
      "247/247 [==============================] - 1s 2ms/step - loss: 4.1694e-04 - root_mean_squared_error: 0.0204 - val_loss: 9.0610e-04 - val_root_mean_squared_error: 0.0301\n",
      "Epoch 17/20\n",
      "247/247 [==============================] - 1s 2ms/step - loss: 4.1175e-04 - root_mean_squared_error: 0.0203 - val_loss: 0.0010 - val_root_mean_squared_error: 0.0319\n",
      "Epoch 18/20\n",
      "247/247 [==============================] - 1s 2ms/step - loss: 4.3110e-04 - root_mean_squared_error: 0.0208 - val_loss: 9.0858e-04 - val_root_mean_squared_error: 0.0301\n",
      "Epoch 19/20\n",
      "247/247 [==============================] - 1s 2ms/step - loss: 4.0100e-04 - root_mean_squared_error: 0.0200 - val_loss: 8.2463e-04 - val_root_mean_squared_error: 0.0287\n",
      "Epoch 20/20\n",
      "247/247 [==============================] - 1s 2ms/step - loss: 4.0228e-04 - root_mean_squared_error: 0.0201 - val_loss: 0.0010 - val_root_mean_squared_error: 0.0317\n",
      "RMSE value:  0.019820572408439072\n",
      "Epoch 1/20\n",
      "247/247 [==============================] - ETA: 0s - loss: 0.0225 - root_mean_squared_error: 0.1501"
     ]
    },
    {
     "name": "stderr",
     "output_type": "stream",
     "text": [
      "WARNING:absl:Found untraced functions such as lstm_cell_172_layer_call_fn, lstm_cell_172_layer_call_and_return_conditional_losses, lstm_cell_172_layer_call_fn, lstm_cell_172_layer_call_and_return_conditional_losses, lstm_cell_172_layer_call_and_return_conditional_losses while saving (showing 5 of 5). These functions will not be directly callable after loading.\n"
     ]
    },
    {
     "name": "stdout",
     "output_type": "stream",
     "text": [
      "INFO:tensorflow:Assets written to: /Users/yukahatori/A_Fairness/FairnessML_git/LSTM-BasicModel/WeatherModelx/assets\n"
     ]
    },
    {
     "name": "stderr",
     "output_type": "stream",
     "text": [
      "INFO:tensorflow:Assets written to: /Users/yukahatori/A_Fairness/FairnessML_git/LSTM-BasicModel/WeatherModelx/assets\n",
      "WARNING:absl:<keras.layers.recurrent.LSTMCell object at 0x7f8ece6d9be0> has the same name 'LSTMCell' as a built-in Keras object. Consider renaming <class 'keras.layers.recurrent.LSTMCell'> to avoid naming conflicts when loading with `tf.keras.models.load_model`. If renaming is not possible, pass the object in the `custom_objects` parameter of the load function.\n"
     ]
    },
    {
     "name": "stdout",
     "output_type": "stream",
     "text": [
      "247/247 [==============================] - 6s 16ms/step - loss: 0.0225 - root_mean_squared_error: 0.1501 - val_loss: 0.0016 - val_root_mean_squared_error: 0.0404\n",
      "Epoch 2/20\n",
      "232/247 [===========================>..] - ETA: 0s - loss: 6.6394e-04 - root_mean_squared_error: 0.0258"
     ]
    },
    {
     "name": "stderr",
     "output_type": "stream",
     "text": [
      "WARNING:absl:Found untraced functions such as lstm_cell_172_layer_call_fn, lstm_cell_172_layer_call_and_return_conditional_losses, lstm_cell_172_layer_call_fn, lstm_cell_172_layer_call_and_return_conditional_losses, lstm_cell_172_layer_call_and_return_conditional_losses while saving (showing 5 of 5). These functions will not be directly callable after loading.\n"
     ]
    },
    {
     "name": "stdout",
     "output_type": "stream",
     "text": [
      "INFO:tensorflow:Assets written to: /Users/yukahatori/A_Fairness/FairnessML_git/LSTM-BasicModel/WeatherModelx/assets\n"
     ]
    },
    {
     "name": "stderr",
     "output_type": "stream",
     "text": [
      "INFO:tensorflow:Assets written to: /Users/yukahatori/A_Fairness/FairnessML_git/LSTM-BasicModel/WeatherModelx/assets\n",
      "WARNING:absl:<keras.layers.recurrent.LSTMCell object at 0x7f8ece6d9be0> has the same name 'LSTMCell' as a built-in Keras object. Consider renaming <class 'keras.layers.recurrent.LSTMCell'> to avoid naming conflicts when loading with `tf.keras.models.load_model`. If renaming is not possible, pass the object in the `custom_objects` parameter of the load function.\n"
     ]
    },
    {
     "name": "stdout",
     "output_type": "stream",
     "text": [
      "247/247 [==============================] - 4s 15ms/step - loss: 6.5895e-04 - root_mean_squared_error: 0.0257 - val_loss: 0.0014 - val_root_mean_squared_error: 0.0371\n",
      "Epoch 3/20\n",
      "247/247 [==============================] - ETA: 0s - loss: 5.6645e-04 - root_mean_squared_error: 0.0238"
     ]
    },
    {
     "name": "stderr",
     "output_type": "stream",
     "text": [
      "WARNING:absl:Found untraced functions such as lstm_cell_172_layer_call_fn, lstm_cell_172_layer_call_and_return_conditional_losses, lstm_cell_172_layer_call_fn, lstm_cell_172_layer_call_and_return_conditional_losses, lstm_cell_172_layer_call_and_return_conditional_losses while saving (showing 5 of 5). These functions will not be directly callable after loading.\n"
     ]
    },
    {
     "name": "stdout",
     "output_type": "stream",
     "text": [
      "INFO:tensorflow:Assets written to: /Users/yukahatori/A_Fairness/FairnessML_git/LSTM-BasicModel/WeatherModelx/assets\n"
     ]
    },
    {
     "name": "stderr",
     "output_type": "stream",
     "text": [
      "INFO:tensorflow:Assets written to: /Users/yukahatori/A_Fairness/FairnessML_git/LSTM-BasicModel/WeatherModelx/assets\n",
      "WARNING:absl:<keras.layers.recurrent.LSTMCell object at 0x7f8ece6d9be0> has the same name 'LSTMCell' as a built-in Keras object. Consider renaming <class 'keras.layers.recurrent.LSTMCell'> to avoid naming conflicts when loading with `tf.keras.models.load_model`. If renaming is not possible, pass the object in the `custom_objects` parameter of the load function.\n"
     ]
    },
    {
     "name": "stdout",
     "output_type": "stream",
     "text": [
      "247/247 [==============================] - 5s 19ms/step - loss: 5.6645e-04 - root_mean_squared_error: 0.0238 - val_loss: 0.0012 - val_root_mean_squared_error: 0.0341\n",
      "Epoch 4/20\n",
      "247/247 [==============================] - 1s 5ms/step - loss: 5.0621e-04 - root_mean_squared_error: 0.0225 - val_loss: 0.0012 - val_root_mean_squared_error: 0.0342\n",
      "Epoch 5/20\n",
      "241/247 [============================>.] - ETA: 0s - loss: 4.6789e-04 - root_mean_squared_error: 0.0216"
     ]
    },
    {
     "name": "stderr",
     "output_type": "stream",
     "text": [
      "WARNING:absl:Found untraced functions such as lstm_cell_172_layer_call_fn, lstm_cell_172_layer_call_and_return_conditional_losses, lstm_cell_172_layer_call_fn, lstm_cell_172_layer_call_and_return_conditional_losses, lstm_cell_172_layer_call_and_return_conditional_losses while saving (showing 5 of 5). These functions will not be directly callable after loading.\n"
     ]
    },
    {
     "name": "stdout",
     "output_type": "stream",
     "text": [
      "INFO:tensorflow:Assets written to: /Users/yukahatori/A_Fairness/FairnessML_git/LSTM-BasicModel/WeatherModelx/assets\n"
     ]
    },
    {
     "name": "stderr",
     "output_type": "stream",
     "text": [
      "INFO:tensorflow:Assets written to: /Users/yukahatori/A_Fairness/FairnessML_git/LSTM-BasicModel/WeatherModelx/assets\n",
      "WARNING:absl:<keras.layers.recurrent.LSTMCell object at 0x7f8ece6d9be0> has the same name 'LSTMCell' as a built-in Keras object. Consider renaming <class 'keras.layers.recurrent.LSTMCell'> to avoid naming conflicts when loading with `tf.keras.models.load_model`. If renaming is not possible, pass the object in the `custom_objects` parameter of the load function.\n"
     ]
    },
    {
     "name": "stdout",
     "output_type": "stream",
     "text": [
      "247/247 [==============================] - 4s 17ms/step - loss: 4.6577e-04 - root_mean_squared_error: 0.0216 - val_loss: 0.0010 - val_root_mean_squared_error: 0.0319\n",
      "Epoch 6/20\n",
      "226/247 [==========================>...] - ETA: 0s - loss: 4.3271e-04 - root_mean_squared_error: 0.0208"
     ]
    },
    {
     "name": "stderr",
     "output_type": "stream",
     "text": [
      "WARNING:absl:Found untraced functions such as lstm_cell_172_layer_call_fn, lstm_cell_172_layer_call_and_return_conditional_losses, lstm_cell_172_layer_call_fn, lstm_cell_172_layer_call_and_return_conditional_losses, lstm_cell_172_layer_call_and_return_conditional_losses while saving (showing 5 of 5). These functions will not be directly callable after loading.\n"
     ]
    },
    {
     "name": "stdout",
     "output_type": "stream",
     "text": [
      "INFO:tensorflow:Assets written to: /Users/yukahatori/A_Fairness/FairnessML_git/LSTM-BasicModel/WeatherModelx/assets\n"
     ]
    },
    {
     "name": "stderr",
     "output_type": "stream",
     "text": [
      "INFO:tensorflow:Assets written to: /Users/yukahatori/A_Fairness/FairnessML_git/LSTM-BasicModel/WeatherModelx/assets\n",
      "WARNING:absl:<keras.layers.recurrent.LSTMCell object at 0x7f8ece6d9be0> has the same name 'LSTMCell' as a built-in Keras object. Consider renaming <class 'keras.layers.recurrent.LSTMCell'> to avoid naming conflicts when loading with `tf.keras.models.load_model`. If renaming is not possible, pass the object in the `custom_objects` parameter of the load function.\n"
     ]
    },
    {
     "name": "stdout",
     "output_type": "stream",
     "text": [
      "247/247 [==============================] - 6s 23ms/step - loss: 4.3164e-04 - root_mean_squared_error: 0.0208 - val_loss: 9.3166e-04 - val_root_mean_squared_error: 0.0305\n",
      "Epoch 7/20\n",
      "247/247 [==============================] - ETA: 0s - loss: 4.1834e-04 - root_mean_squared_error: 0.0205"
     ]
    },
    {
     "name": "stderr",
     "output_type": "stream",
     "text": [
      "WARNING:absl:Found untraced functions such as lstm_cell_172_layer_call_fn, lstm_cell_172_layer_call_and_return_conditional_losses, lstm_cell_172_layer_call_fn, lstm_cell_172_layer_call_and_return_conditional_losses, lstm_cell_172_layer_call_and_return_conditional_losses while saving (showing 5 of 5). These functions will not be directly callable after loading.\n"
     ]
    },
    {
     "name": "stdout",
     "output_type": "stream",
     "text": [
      "INFO:tensorflow:Assets written to: /Users/yukahatori/A_Fairness/FairnessML_git/LSTM-BasicModel/WeatherModelx/assets\n"
     ]
    },
    {
     "name": "stderr",
     "output_type": "stream",
     "text": [
      "INFO:tensorflow:Assets written to: /Users/yukahatori/A_Fairness/FairnessML_git/LSTM-BasicModel/WeatherModelx/assets\n",
      "WARNING:absl:<keras.layers.recurrent.LSTMCell object at 0x7f8ece6d9be0> has the same name 'LSTMCell' as a built-in Keras object. Consider renaming <class 'keras.layers.recurrent.LSTMCell'> to avoid naming conflicts when loading with `tf.keras.models.load_model`. If renaming is not possible, pass the object in the `custom_objects` parameter of the load function.\n"
     ]
    },
    {
     "name": "stdout",
     "output_type": "stream",
     "text": [
      "247/247 [==============================] - 4s 16ms/step - loss: 4.1834e-04 - root_mean_squared_error: 0.0205 - val_loss: 7.7643e-04 - val_root_mean_squared_error: 0.0279\n",
      "Epoch 8/20\n",
      "226/247 [==========================>...] - ETA: 0s - loss: 4.1197e-04 - root_mean_squared_error: 0.0203"
     ]
    },
    {
     "name": "stderr",
     "output_type": "stream",
     "text": [
      "WARNING:absl:Found untraced functions such as lstm_cell_172_layer_call_fn, lstm_cell_172_layer_call_and_return_conditional_losses, lstm_cell_172_layer_call_fn, lstm_cell_172_layer_call_and_return_conditional_losses, lstm_cell_172_layer_call_and_return_conditional_losses while saving (showing 5 of 5). These functions will not be directly callable after loading.\n"
     ]
    },
    {
     "name": "stdout",
     "output_type": "stream",
     "text": [
      "INFO:tensorflow:Assets written to: /Users/yukahatori/A_Fairness/FairnessML_git/LSTM-BasicModel/WeatherModelx/assets\n"
     ]
    },
    {
     "name": "stderr",
     "output_type": "stream",
     "text": [
      "INFO:tensorflow:Assets written to: /Users/yukahatori/A_Fairness/FairnessML_git/LSTM-BasicModel/WeatherModelx/assets\n",
      "WARNING:absl:<keras.layers.recurrent.LSTMCell object at 0x7f8ece6d9be0> has the same name 'LSTMCell' as a built-in Keras object. Consider renaming <class 'keras.layers.recurrent.LSTMCell'> to avoid naming conflicts when loading with `tf.keras.models.load_model`. If renaming is not possible, pass the object in the `custom_objects` parameter of the load function.\n"
     ]
    },
    {
     "name": "stdout",
     "output_type": "stream",
     "text": [
      "247/247 [==============================] - 4s 18ms/step - loss: 4.1368e-04 - root_mean_squared_error: 0.0203 - val_loss: 7.4737e-04 - val_root_mean_squared_error: 0.0273\n",
      "Epoch 9/20\n",
      "247/247 [==============================] - 1s 3ms/step - loss: 4.1473e-04 - root_mean_squared_error: 0.0204 - val_loss: 8.0768e-04 - val_root_mean_squared_error: 0.0284\n",
      "Epoch 10/20\n",
      "247/247 [==============================] - 1s 2ms/step - loss: 4.2076e-04 - root_mean_squared_error: 0.0205 - val_loss: 8.5420e-04 - val_root_mean_squared_error: 0.0292\n",
      "Epoch 11/20\n",
      "247/247 [==============================] - 1s 3ms/step - loss: 4.1670e-04 - root_mean_squared_error: 0.0204 - val_loss: 8.1163e-04 - val_root_mean_squared_error: 0.0285\n",
      "Epoch 12/20\n",
      "247/247 [==============================] - 1s 2ms/step - loss: 4.1527e-04 - root_mean_squared_error: 0.0204 - val_loss: 8.3708e-04 - val_root_mean_squared_error: 0.0289\n",
      "Epoch 13/20\n",
      "247/247 [==============================] - 1s 2ms/step - loss: 4.2059e-04 - root_mean_squared_error: 0.0205 - val_loss: 7.5004e-04 - val_root_mean_squared_error: 0.0274\n",
      "Epoch 14/20\n",
      "247/247 [==============================] - 1s 2ms/step - loss: 4.1601e-04 - root_mean_squared_error: 0.0204 - val_loss: 8.2400e-04 - val_root_mean_squared_error: 0.0287\n",
      "Epoch 15/20\n",
      "240/247 [============================>.] - ETA: 0s - loss: 4.1613e-04 - root_mean_squared_error: 0.0204"
     ]
    },
    {
     "name": "stderr",
     "output_type": "stream",
     "text": [
      "WARNING:absl:Found untraced functions such as lstm_cell_172_layer_call_fn, lstm_cell_172_layer_call_and_return_conditional_losses, lstm_cell_172_layer_call_fn, lstm_cell_172_layer_call_and_return_conditional_losses, lstm_cell_172_layer_call_and_return_conditional_losses while saving (showing 5 of 5). These functions will not be directly callable after loading.\n"
     ]
    },
    {
     "name": "stdout",
     "output_type": "stream",
     "text": [
      "INFO:tensorflow:Assets written to: /Users/yukahatori/A_Fairness/FairnessML_git/LSTM-BasicModel/WeatherModelx/assets\n"
     ]
    },
    {
     "name": "stderr",
     "output_type": "stream",
     "text": [
      "INFO:tensorflow:Assets written to: /Users/yukahatori/A_Fairness/FairnessML_git/LSTM-BasicModel/WeatherModelx/assets\n",
      "WARNING:absl:<keras.layers.recurrent.LSTMCell object at 0x7f8ece6d9be0> has the same name 'LSTMCell' as a built-in Keras object. Consider renaming <class 'keras.layers.recurrent.LSTMCell'> to avoid naming conflicts when loading with `tf.keras.models.load_model`. If renaming is not possible, pass the object in the `custom_objects` parameter of the load function.\n"
     ]
    },
    {
     "name": "stdout",
     "output_type": "stream",
     "text": [
      "247/247 [==============================] - 3s 13ms/step - loss: 4.1532e-04 - root_mean_squared_error: 0.0204 - val_loss: 7.1810e-04 - val_root_mean_squared_error: 0.0268\n",
      "Epoch 16/20\n",
      "247/247 [==============================] - 1s 2ms/step - loss: 4.0808e-04 - root_mean_squared_error: 0.0202 - val_loss: 7.2182e-04 - val_root_mean_squared_error: 0.0269\n",
      "Epoch 17/20\n",
      "247/247 [==============================] - 1s 2ms/step - loss: 4.1497e-04 - root_mean_squared_error: 0.0204 - val_loss: 8.5647e-04 - val_root_mean_squared_error: 0.0293\n",
      "Epoch 18/20\n",
      "247/247 [==============================] - 1s 2ms/step - loss: 4.0269e-04 - root_mean_squared_error: 0.0201 - val_loss: 8.9256e-04 - val_root_mean_squared_error: 0.0299\n",
      "Epoch 19/20\n",
      "247/247 [==============================] - 1s 3ms/step - loss: 4.0375e-04 - root_mean_squared_error: 0.0201 - val_loss: 8.7090e-04 - val_root_mean_squared_error: 0.0295\n",
      "Epoch 20/20\n",
      "247/247 [==============================] - 1s 3ms/step - loss: 3.9393e-04 - root_mean_squared_error: 0.0198 - val_loss: 9.5997e-04 - val_root_mean_squared_error: 0.0310\n",
      "RMSE value:  0.020443744609834693\n",
      "Epoch 1/20\n",
      "239/247 [============================>.] - ETA: 0s - loss: 0.0250 - root_mean_squared_error: 0.1581"
     ]
    },
    {
     "name": "stderr",
     "output_type": "stream",
     "text": [
      "WARNING:absl:Found untraced functions such as lstm_cell_173_layer_call_fn, lstm_cell_173_layer_call_and_return_conditional_losses, lstm_cell_173_layer_call_fn, lstm_cell_173_layer_call_and_return_conditional_losses, lstm_cell_173_layer_call_and_return_conditional_losses while saving (showing 5 of 5). These functions will not be directly callable after loading.\n"
     ]
    },
    {
     "name": "stdout",
     "output_type": "stream",
     "text": [
      "INFO:tensorflow:Assets written to: /Users/yukahatori/A_Fairness/FairnessML_git/LSTM-BasicModel/WeatherModelx/assets\n"
     ]
    },
    {
     "name": "stderr",
     "output_type": "stream",
     "text": [
      "INFO:tensorflow:Assets written to: /Users/yukahatori/A_Fairness/FairnessML_git/LSTM-BasicModel/WeatherModelx/assets\n",
      "WARNING:absl:<keras.layers.recurrent.LSTMCell object at 0x7f8ed39fb340> has the same name 'LSTMCell' as a built-in Keras object. Consider renaming <class 'keras.layers.recurrent.LSTMCell'> to avoid naming conflicts when loading with `tf.keras.models.load_model`. If renaming is not possible, pass the object in the `custom_objects` parameter of the load function.\n"
     ]
    },
    {
     "name": "stdout",
     "output_type": "stream",
     "text": [
      "247/247 [==============================] - 6s 19ms/step - loss: 0.0243 - root_mean_squared_error: 0.1559 - val_loss: 0.0020 - val_root_mean_squared_error: 0.0446\n",
      "Epoch 2/20\n",
      "242/247 [============================>.] - ETA: 0s - loss: 5.6315e-04 - root_mean_squared_error: 0.0237"
     ]
    },
    {
     "name": "stderr",
     "output_type": "stream",
     "text": [
      "WARNING:absl:Found untraced functions such as lstm_cell_173_layer_call_fn, lstm_cell_173_layer_call_and_return_conditional_losses, lstm_cell_173_layer_call_fn, lstm_cell_173_layer_call_and_return_conditional_losses, lstm_cell_173_layer_call_and_return_conditional_losses while saving (showing 5 of 5). These functions will not be directly callable after loading.\n"
     ]
    },
    {
     "name": "stdout",
     "output_type": "stream",
     "text": [
      "INFO:tensorflow:Assets written to: /Users/yukahatori/A_Fairness/FairnessML_git/LSTM-BasicModel/WeatherModelx/assets\n"
     ]
    },
    {
     "name": "stderr",
     "output_type": "stream",
     "text": [
      "INFO:tensorflow:Assets written to: /Users/yukahatori/A_Fairness/FairnessML_git/LSTM-BasicModel/WeatherModelx/assets\n",
      "WARNING:absl:<keras.layers.recurrent.LSTMCell object at 0x7f8ed39fb340> has the same name 'LSTMCell' as a built-in Keras object. Consider renaming <class 'keras.layers.recurrent.LSTMCell'> to avoid naming conflicts when loading with `tf.keras.models.load_model`. If renaming is not possible, pass the object in the `custom_objects` parameter of the load function.\n"
     ]
    },
    {
     "name": "stdout",
     "output_type": "stream",
     "text": [
      "247/247 [==============================] - 4s 15ms/step - loss: 5.6115e-04 - root_mean_squared_error: 0.0237 - val_loss: 0.0015 - val_root_mean_squared_error: 0.0393\n",
      "Epoch 3/20\n",
      "233/247 [===========================>..] - ETA: 0s - loss: 4.8291e-04 - root_mean_squared_error: 0.0220"
     ]
    },
    {
     "name": "stderr",
     "output_type": "stream",
     "text": [
      "WARNING:absl:Found untraced functions such as lstm_cell_173_layer_call_fn, lstm_cell_173_layer_call_and_return_conditional_losses, lstm_cell_173_layer_call_fn, lstm_cell_173_layer_call_and_return_conditional_losses, lstm_cell_173_layer_call_and_return_conditional_losses while saving (showing 5 of 5). These functions will not be directly callable after loading.\n"
     ]
    },
    {
     "name": "stdout",
     "output_type": "stream",
     "text": [
      "INFO:tensorflow:Assets written to: /Users/yukahatori/A_Fairness/FairnessML_git/LSTM-BasicModel/WeatherModelx/assets\n"
     ]
    },
    {
     "name": "stderr",
     "output_type": "stream",
     "text": [
      "INFO:tensorflow:Assets written to: /Users/yukahatori/A_Fairness/FairnessML_git/LSTM-BasicModel/WeatherModelx/assets\n",
      "WARNING:absl:<keras.layers.recurrent.LSTMCell object at 0x7f8ed39fb340> has the same name 'LSTMCell' as a built-in Keras object. Consider renaming <class 'keras.layers.recurrent.LSTMCell'> to avoid naming conflicts when loading with `tf.keras.models.load_model`. If renaming is not possible, pass the object in the `custom_objects` parameter of the load function.\n"
     ]
    },
    {
     "name": "stdout",
     "output_type": "stream",
     "text": [
      "247/247 [==============================] - 4s 16ms/step - loss: 4.8375e-04 - root_mean_squared_error: 0.0220 - val_loss: 0.0012 - val_root_mean_squared_error: 0.0350\n",
      "Epoch 4/20\n",
      "232/247 [===========================>..] - ETA: 0s - loss: 4.5489e-04 - root_mean_squared_error: 0.0213"
     ]
    },
    {
     "name": "stderr",
     "output_type": "stream",
     "text": [
      "WARNING:absl:Found untraced functions such as lstm_cell_173_layer_call_fn, lstm_cell_173_layer_call_and_return_conditional_losses, lstm_cell_173_layer_call_fn, lstm_cell_173_layer_call_and_return_conditional_losses, lstm_cell_173_layer_call_and_return_conditional_losses while saving (showing 5 of 5). These functions will not be directly callable after loading.\n"
     ]
    },
    {
     "name": "stdout",
     "output_type": "stream",
     "text": [
      "INFO:tensorflow:Assets written to: /Users/yukahatori/A_Fairness/FairnessML_git/LSTM-BasicModel/WeatherModelx/assets\n"
     ]
    },
    {
     "name": "stderr",
     "output_type": "stream",
     "text": [
      "INFO:tensorflow:Assets written to: /Users/yukahatori/A_Fairness/FairnessML_git/LSTM-BasicModel/WeatherModelx/assets\n",
      "WARNING:absl:<keras.layers.recurrent.LSTMCell object at 0x7f8ed39fb340> has the same name 'LSTMCell' as a built-in Keras object. Consider renaming <class 'keras.layers.recurrent.LSTMCell'> to avoid naming conflicts when loading with `tf.keras.models.load_model`. If renaming is not possible, pass the object in the `custom_objects` parameter of the load function.\n"
     ]
    },
    {
     "name": "stdout",
     "output_type": "stream",
     "text": [
      "247/247 [==============================] - 3s 13ms/step - loss: 4.5643e-04 - root_mean_squared_error: 0.0214 - val_loss: 0.0011 - val_root_mean_squared_error: 0.0326\n",
      "Epoch 5/20\n",
      "247/247 [==============================] - 1s 2ms/step - loss: 4.4261e-04 - root_mean_squared_error: 0.0210 - val_loss: 0.0011 - val_root_mean_squared_error: 0.0333\n",
      "Epoch 6/20\n",
      "247/247 [==============================] - 1s 3ms/step - loss: 4.4169e-04 - root_mean_squared_error: 0.0210 - val_loss: 0.0011 - val_root_mean_squared_error: 0.0330\n",
      "Epoch 7/20\n",
      "228/247 [==========================>...] - ETA: 0s - loss: 4.3332e-04 - root_mean_squared_error: 0.0208"
     ]
    },
    {
     "name": "stderr",
     "output_type": "stream",
     "text": [
      "WARNING:absl:Found untraced functions such as lstm_cell_173_layer_call_fn, lstm_cell_173_layer_call_and_return_conditional_losses, lstm_cell_173_layer_call_fn, lstm_cell_173_layer_call_and_return_conditional_losses, lstm_cell_173_layer_call_and_return_conditional_losses while saving (showing 5 of 5). These functions will not be directly callable after loading.\n"
     ]
    },
    {
     "name": "stdout",
     "output_type": "stream",
     "text": [
      "INFO:tensorflow:Assets written to: /Users/yukahatori/A_Fairness/FairnessML_git/LSTM-BasicModel/WeatherModelx/assets\n"
     ]
    },
    {
     "name": "stderr",
     "output_type": "stream",
     "text": [
      "INFO:tensorflow:Assets written to: /Users/yukahatori/A_Fairness/FairnessML_git/LSTM-BasicModel/WeatherModelx/assets\n",
      "WARNING:absl:<keras.layers.recurrent.LSTMCell object at 0x7f8ed39fb340> has the same name 'LSTMCell' as a built-in Keras object. Consider renaming <class 'keras.layers.recurrent.LSTMCell'> to avoid naming conflicts when loading with `tf.keras.models.load_model`. If renaming is not possible, pass the object in the `custom_objects` parameter of the load function.\n"
     ]
    },
    {
     "name": "stdout",
     "output_type": "stream",
     "text": [
      "247/247 [==============================] - 4s 15ms/step - loss: 4.3354e-04 - root_mean_squared_error: 0.0208 - val_loss: 9.4962e-04 - val_root_mean_squared_error: 0.0308\n",
      "Epoch 8/20\n",
      "231/247 [===========================>..] - ETA: 0s - loss: 4.2321e-04 - root_mean_squared_error: 0.0206"
     ]
    },
    {
     "name": "stderr",
     "output_type": "stream",
     "text": [
      "WARNING:absl:Found untraced functions such as lstm_cell_173_layer_call_fn, lstm_cell_173_layer_call_and_return_conditional_losses, lstm_cell_173_layer_call_fn, lstm_cell_173_layer_call_and_return_conditional_losses, lstm_cell_173_layer_call_and_return_conditional_losses while saving (showing 5 of 5). These functions will not be directly callable after loading.\n"
     ]
    },
    {
     "name": "stdout",
     "output_type": "stream",
     "text": [
      "INFO:tensorflow:Assets written to: /Users/yukahatori/A_Fairness/FairnessML_git/LSTM-BasicModel/WeatherModelx/assets\n"
     ]
    },
    {
     "name": "stderr",
     "output_type": "stream",
     "text": [
      "INFO:tensorflow:Assets written to: /Users/yukahatori/A_Fairness/FairnessML_git/LSTM-BasicModel/WeatherModelx/assets\n",
      "WARNING:absl:<keras.layers.recurrent.LSTMCell object at 0x7f8ed39fb340> has the same name 'LSTMCell' as a built-in Keras object. Consider renaming <class 'keras.layers.recurrent.LSTMCell'> to avoid naming conflicts when loading with `tf.keras.models.load_model`. If renaming is not possible, pass the object in the `custom_objects` parameter of the load function.\n"
     ]
    },
    {
     "name": "stdout",
     "output_type": "stream",
     "text": [
      "247/247 [==============================] - 4s 17ms/step - loss: 4.2166e-04 - root_mean_squared_error: 0.0205 - val_loss: 8.3962e-04 - val_root_mean_squared_error: 0.0290\n",
      "Epoch 9/20\n",
      "247/247 [==============================] - 1s 2ms/step - loss: 4.2671e-04 - root_mean_squared_error: 0.0207 - val_loss: 8.5768e-04 - val_root_mean_squared_error: 0.0293\n",
      "Epoch 10/20\n",
      "247/247 [==============================] - 1s 3ms/step - loss: 4.1927e-04 - root_mean_squared_error: 0.0205 - val_loss: 8.8741e-04 - val_root_mean_squared_error: 0.0298\n",
      "Epoch 11/20\n",
      "237/247 [===========================>..] - ETA: 0s - loss: 4.1753e-04 - root_mean_squared_error: 0.0204"
     ]
    },
    {
     "name": "stderr",
     "output_type": "stream",
     "text": [
      "WARNING:absl:Found untraced functions such as lstm_cell_173_layer_call_fn, lstm_cell_173_layer_call_and_return_conditional_losses, lstm_cell_173_layer_call_fn, lstm_cell_173_layer_call_and_return_conditional_losses, lstm_cell_173_layer_call_and_return_conditional_losses while saving (showing 5 of 5). These functions will not be directly callable after loading.\n"
     ]
    },
    {
     "name": "stdout",
     "output_type": "stream",
     "text": [
      "INFO:tensorflow:Assets written to: /Users/yukahatori/A_Fairness/FairnessML_git/LSTM-BasicModel/WeatherModelx/assets\n"
     ]
    },
    {
     "name": "stderr",
     "output_type": "stream",
     "text": [
      "INFO:tensorflow:Assets written to: /Users/yukahatori/A_Fairness/FairnessML_git/LSTM-BasicModel/WeatherModelx/assets\n",
      "WARNING:absl:<keras.layers.recurrent.LSTMCell object at 0x7f8ed39fb340> has the same name 'LSTMCell' as a built-in Keras object. Consider renaming <class 'keras.layers.recurrent.LSTMCell'> to avoid naming conflicts when loading with `tf.keras.models.load_model`. If renaming is not possible, pass the object in the `custom_objects` parameter of the load function.\n"
     ]
    },
    {
     "name": "stdout",
     "output_type": "stream",
     "text": [
      "247/247 [==============================] - 4s 15ms/step - loss: 4.2074e-04 - root_mean_squared_error: 0.0205 - val_loss: 7.4330e-04 - val_root_mean_squared_error: 0.0273\n",
      "Epoch 12/20\n",
      "247/247 [==============================] - 1s 3ms/step - loss: 3.9502e-04 - root_mean_squared_error: 0.0199 - val_loss: 8.2752e-04 - val_root_mean_squared_error: 0.0288\n",
      "Epoch 13/20\n",
      "247/247 [==============================] - 1s 3ms/step - loss: 4.2736e-04 - root_mean_squared_error: 0.0207 - val_loss: 8.6237e-04 - val_root_mean_squared_error: 0.0294\n",
      "Epoch 14/20\n",
      "247/247 [==============================] - 1s 3ms/step - loss: 4.4086e-04 - root_mean_squared_error: 0.0210 - val_loss: 9.3012e-04 - val_root_mean_squared_error: 0.0305\n",
      "Epoch 15/20\n",
      "247/247 [==============================] - 1s 3ms/step - loss: 4.0996e-04 - root_mean_squared_error: 0.0202 - val_loss: 8.7380e-04 - val_root_mean_squared_error: 0.0296\n",
      "Epoch 16/20\n",
      "247/247 [==============================] - 1s 3ms/step - loss: 3.9559e-04 - root_mean_squared_error: 0.0199 - val_loss: 9.7325e-04 - val_root_mean_squared_error: 0.0312\n",
      "Epoch 17/20\n",
      "247/247 [==============================] - 1s 3ms/step - loss: 4.0389e-04 - root_mean_squared_error: 0.0201 - val_loss: 8.1633e-04 - val_root_mean_squared_error: 0.0286\n",
      "Epoch 18/20\n",
      "247/247 [==============================] - 1s 2ms/step - loss: 4.3907e-04 - root_mean_squared_error: 0.0210 - val_loss: 8.9125e-04 - val_root_mean_squared_error: 0.0299\n",
      "Epoch 19/20\n",
      "234/247 [===========================>..] - ETA: 0s - loss: 4.1058e-04 - root_mean_squared_error: 0.0203"
     ]
    },
    {
     "name": "stderr",
     "output_type": "stream",
     "text": [
      "WARNING:absl:Found untraced functions such as lstm_cell_173_layer_call_fn, lstm_cell_173_layer_call_and_return_conditional_losses, lstm_cell_173_layer_call_fn, lstm_cell_173_layer_call_and_return_conditional_losses, lstm_cell_173_layer_call_and_return_conditional_losses while saving (showing 5 of 5). These functions will not be directly callable after loading.\n"
     ]
    },
    {
     "name": "stdout",
     "output_type": "stream",
     "text": [
      "INFO:tensorflow:Assets written to: /Users/yukahatori/A_Fairness/FairnessML_git/LSTM-BasicModel/WeatherModelx/assets\n"
     ]
    },
    {
     "name": "stderr",
     "output_type": "stream",
     "text": [
      "INFO:tensorflow:Assets written to: /Users/yukahatori/A_Fairness/FairnessML_git/LSTM-BasicModel/WeatherModelx/assets\n",
      "WARNING:absl:<keras.layers.recurrent.LSTMCell object at 0x7f8ed39fb340> has the same name 'LSTMCell' as a built-in Keras object. Consider renaming <class 'keras.layers.recurrent.LSTMCell'> to avoid naming conflicts when loading with `tf.keras.models.load_model`. If renaming is not possible, pass the object in the `custom_objects` parameter of the load function.\n"
     ]
    },
    {
     "name": "stdout",
     "output_type": "stream",
     "text": [
      "247/247 [==============================] - 4s 15ms/step - loss: 4.1060e-04 - root_mean_squared_error: 0.0203 - val_loss: 7.2985e-04 - val_root_mean_squared_error: 0.0270\n",
      "Epoch 20/20\n",
      "247/247 [==============================] - 1s 2ms/step - loss: 4.0926e-04 - root_mean_squared_error: 0.0202 - val_loss: 7.4130e-04 - val_root_mean_squared_error: 0.0272\n",
      "RMSE value:  0.018859578973339806\n",
      "Epoch 1/20\n",
      "228/247 [==========================>...] - ETA: 0s - loss: 0.0101 - root_mean_squared_error: 0.1006"
     ]
    },
    {
     "name": "stderr",
     "output_type": "stream",
     "text": [
      "WARNING:absl:Found untraced functions such as lstm_cell_174_layer_call_fn, lstm_cell_174_layer_call_and_return_conditional_losses, lstm_cell_174_layer_call_fn, lstm_cell_174_layer_call_and_return_conditional_losses, lstm_cell_174_layer_call_and_return_conditional_losses while saving (showing 5 of 5). These functions will not be directly callable after loading.\n"
     ]
    },
    {
     "name": "stdout",
     "output_type": "stream",
     "text": [
      "INFO:tensorflow:Assets written to: /Users/yukahatori/A_Fairness/FairnessML_git/LSTM-BasicModel/WeatherModelx/assets\n"
     ]
    },
    {
     "name": "stderr",
     "output_type": "stream",
     "text": [
      "INFO:tensorflow:Assets written to: /Users/yukahatori/A_Fairness/FairnessML_git/LSTM-BasicModel/WeatherModelx/assets\n",
      "WARNING:absl:<keras.layers.recurrent.LSTMCell object at 0x7f8eee74bdf0> has the same name 'LSTMCell' as a built-in Keras object. Consider renaming <class 'keras.layers.recurrent.LSTMCell'> to avoid naming conflicts when loading with `tf.keras.models.load_model`. If renaming is not possible, pass the object in the `custom_objects` parameter of the load function.\n"
     ]
    },
    {
     "name": "stdout",
     "output_type": "stream",
     "text": [
      "247/247 [==============================] - 5s 16ms/step - loss: 0.0094 - root_mean_squared_error: 0.0970 - val_loss: 0.0014 - val_root_mean_squared_error: 0.0379\n",
      "Epoch 2/20\n",
      "239/247 [============================>.] - ETA: 0s - loss: 5.1939e-04 - root_mean_squared_error: 0.0228"
     ]
    },
    {
     "name": "stderr",
     "output_type": "stream",
     "text": [
      "WARNING:absl:Found untraced functions such as lstm_cell_174_layer_call_fn, lstm_cell_174_layer_call_and_return_conditional_losses, lstm_cell_174_layer_call_fn, lstm_cell_174_layer_call_and_return_conditional_losses, lstm_cell_174_layer_call_and_return_conditional_losses while saving (showing 5 of 5). These functions will not be directly callable after loading.\n"
     ]
    },
    {
     "name": "stdout",
     "output_type": "stream",
     "text": [
      "INFO:tensorflow:Assets written to: /Users/yukahatori/A_Fairness/FairnessML_git/LSTM-BasicModel/WeatherModelx/assets\n"
     ]
    },
    {
     "name": "stderr",
     "output_type": "stream",
     "text": [
      "INFO:tensorflow:Assets written to: /Users/yukahatori/A_Fairness/FairnessML_git/LSTM-BasicModel/WeatherModelx/assets\n",
      "WARNING:absl:<keras.layers.recurrent.LSTMCell object at 0x7f8eee74bdf0> has the same name 'LSTMCell' as a built-in Keras object. Consider renaming <class 'keras.layers.recurrent.LSTMCell'> to avoid naming conflicts when loading with `tf.keras.models.load_model`. If renaming is not possible, pass the object in the `custom_objects` parameter of the load function.\n"
     ]
    },
    {
     "name": "stdout",
     "output_type": "stream",
     "text": [
      "247/247 [==============================] - 4s 15ms/step - loss: 5.1914e-04 - root_mean_squared_error: 0.0228 - val_loss: 0.0013 - val_root_mean_squared_error: 0.0366\n",
      "Epoch 3/20\n",
      "223/247 [==========================>...] - ETA: 0s - loss: 4.5896e-04 - root_mean_squared_error: 0.0214"
     ]
    },
    {
     "name": "stderr",
     "output_type": "stream",
     "text": [
      "WARNING:absl:Found untraced functions such as lstm_cell_174_layer_call_fn, lstm_cell_174_layer_call_and_return_conditional_losses, lstm_cell_174_layer_call_fn, lstm_cell_174_layer_call_and_return_conditional_losses, lstm_cell_174_layer_call_and_return_conditional_losses while saving (showing 5 of 5). These functions will not be directly callable after loading.\n"
     ]
    },
    {
     "name": "stdout",
     "output_type": "stream",
     "text": [
      "INFO:tensorflow:Assets written to: /Users/yukahatori/A_Fairness/FairnessML_git/LSTM-BasicModel/WeatherModelx/assets\n"
     ]
    },
    {
     "name": "stderr",
     "output_type": "stream",
     "text": [
      "INFO:tensorflow:Assets written to: /Users/yukahatori/A_Fairness/FairnessML_git/LSTM-BasicModel/WeatherModelx/assets\n",
      "WARNING:absl:<keras.layers.recurrent.LSTMCell object at 0x7f8eee74bdf0> has the same name 'LSTMCell' as a built-in Keras object. Consider renaming <class 'keras.layers.recurrent.LSTMCell'> to avoid naming conflicts when loading with `tf.keras.models.load_model`. If renaming is not possible, pass the object in the `custom_objects` parameter of the load function.\n"
     ]
    },
    {
     "name": "stdout",
     "output_type": "stream",
     "text": [
      "247/247 [==============================] - 3s 13ms/step - loss: 4.5568e-04 - root_mean_squared_error: 0.0213 - val_loss: 0.0012 - val_root_mean_squared_error: 0.0340\n",
      "Epoch 4/20\n",
      "247/247 [==============================] - 1s 2ms/step - loss: 4.4973e-04 - root_mean_squared_error: 0.0212 - val_loss: 0.0013 - val_root_mean_squared_error: 0.0365\n",
      "Epoch 5/20\n",
      "246/247 [============================>.] - ETA: 0s - loss: 4.2124e-04 - root_mean_squared_error: 0.0205"
     ]
    },
    {
     "name": "stderr",
     "output_type": "stream",
     "text": [
      "WARNING:absl:Found untraced functions such as lstm_cell_174_layer_call_fn, lstm_cell_174_layer_call_and_return_conditional_losses, lstm_cell_174_layer_call_fn, lstm_cell_174_layer_call_and_return_conditional_losses, lstm_cell_174_layer_call_and_return_conditional_losses while saving (showing 5 of 5). These functions will not be directly callable after loading.\n"
     ]
    },
    {
     "name": "stdout",
     "output_type": "stream",
     "text": [
      "INFO:tensorflow:Assets written to: /Users/yukahatori/A_Fairness/FairnessML_git/LSTM-BasicModel/WeatherModelx/assets\n"
     ]
    },
    {
     "name": "stderr",
     "output_type": "stream",
     "text": [
      "INFO:tensorflow:Assets written to: /Users/yukahatori/A_Fairness/FairnessML_git/LSTM-BasicModel/WeatherModelx/assets\n",
      "WARNING:absl:<keras.layers.recurrent.LSTMCell object at 0x7f8eee74bdf0> has the same name 'LSTMCell' as a built-in Keras object. Consider renaming <class 'keras.layers.recurrent.LSTMCell'> to avoid naming conflicts when loading with `tf.keras.models.load_model`. If renaming is not possible, pass the object in the `custom_objects` parameter of the load function.\n"
     ]
    },
    {
     "name": "stdout",
     "output_type": "stream",
     "text": [
      "247/247 [==============================] - 3s 12ms/step - loss: 4.2112e-04 - root_mean_squared_error: 0.0205 - val_loss: 0.0010 - val_root_mean_squared_error: 0.0324\n",
      "Epoch 6/20\n",
      "233/247 [===========================>..] - ETA: 0s - loss: 4.2435e-04 - root_mean_squared_error: 0.0206"
     ]
    },
    {
     "name": "stderr",
     "output_type": "stream",
     "text": [
      "WARNING:absl:Found untraced functions such as lstm_cell_174_layer_call_fn, lstm_cell_174_layer_call_and_return_conditional_losses, lstm_cell_174_layer_call_fn, lstm_cell_174_layer_call_and_return_conditional_losses, lstm_cell_174_layer_call_and_return_conditional_losses while saving (showing 5 of 5). These functions will not be directly callable after loading.\n"
     ]
    },
    {
     "name": "stdout",
     "output_type": "stream",
     "text": [
      "INFO:tensorflow:Assets written to: /Users/yukahatori/A_Fairness/FairnessML_git/LSTM-BasicModel/WeatherModelx/assets\n"
     ]
    },
    {
     "name": "stderr",
     "output_type": "stream",
     "text": [
      "INFO:tensorflow:Assets written to: /Users/yukahatori/A_Fairness/FairnessML_git/LSTM-BasicModel/WeatherModelx/assets\n",
      "WARNING:absl:<keras.layers.recurrent.LSTMCell object at 0x7f8eee74bdf0> has the same name 'LSTMCell' as a built-in Keras object. Consider renaming <class 'keras.layers.recurrent.LSTMCell'> to avoid naming conflicts when loading with `tf.keras.models.load_model`. If renaming is not possible, pass the object in the `custom_objects` parameter of the load function.\n"
     ]
    },
    {
     "name": "stdout",
     "output_type": "stream",
     "text": [
      "247/247 [==============================] - 4s 17ms/step - loss: 4.2325e-04 - root_mean_squared_error: 0.0206 - val_loss: 9.7877e-04 - val_root_mean_squared_error: 0.0313\n",
      "Epoch 7/20\n",
      "247/247 [==============================] - 1s 3ms/step - loss: 4.1184e-04 - root_mean_squared_error: 0.0203 - val_loss: 0.0010 - val_root_mean_squared_error: 0.0322\n",
      "Epoch 8/20\n",
      "239/247 [============================>.] - ETA: 0s - loss: 4.2299e-04 - root_mean_squared_error: 0.0206"
     ]
    },
    {
     "name": "stderr",
     "output_type": "stream",
     "text": [
      "WARNING:absl:Found untraced functions such as lstm_cell_174_layer_call_fn, lstm_cell_174_layer_call_and_return_conditional_losses, lstm_cell_174_layer_call_fn, lstm_cell_174_layer_call_and_return_conditional_losses, lstm_cell_174_layer_call_and_return_conditional_losses while saving (showing 5 of 5). These functions will not be directly callable after loading.\n"
     ]
    },
    {
     "name": "stdout",
     "output_type": "stream",
     "text": [
      "INFO:tensorflow:Assets written to: /Users/yukahatori/A_Fairness/FairnessML_git/LSTM-BasicModel/WeatherModelx/assets\n"
     ]
    },
    {
     "name": "stderr",
     "output_type": "stream",
     "text": [
      "INFO:tensorflow:Assets written to: /Users/yukahatori/A_Fairness/FairnessML_git/LSTM-BasicModel/WeatherModelx/assets\n",
      "WARNING:absl:<keras.layers.recurrent.LSTMCell object at 0x7f8eee74bdf0> has the same name 'LSTMCell' as a built-in Keras object. Consider renaming <class 'keras.layers.recurrent.LSTMCell'> to avoid naming conflicts when loading with `tf.keras.models.load_model`. If renaming is not possible, pass the object in the `custom_objects` parameter of the load function.\n"
     ]
    },
    {
     "name": "stdout",
     "output_type": "stream",
     "text": [
      "247/247 [==============================] - 4s 15ms/step - loss: 4.2349e-04 - root_mean_squared_error: 0.0206 - val_loss: 9.5567e-04 - val_root_mean_squared_error: 0.0309\n",
      "Epoch 9/20\n",
      "247/247 [==============================] - 1s 3ms/step - loss: 4.6231e-04 - root_mean_squared_error: 0.0215 - val_loss: 0.0013 - val_root_mean_squared_error: 0.0362\n",
      "Epoch 10/20\n",
      "247/247 [==============================] - 1s 3ms/step - loss: 4.0915e-04 - root_mean_squared_error: 0.0202 - val_loss: 0.0010 - val_root_mean_squared_error: 0.0320\n",
      "Epoch 11/20\n",
      "242/247 [============================>.] - ETA: 0s - loss: 4.3465e-04 - root_mean_squared_error: 0.0208"
     ]
    },
    {
     "ename": "KeyboardInterrupt",
     "evalue": "",
     "output_type": "error",
     "traceback": [
      "\u001b[0;31m---------------------------------------------------------------------------\u001b[0m",
      "\u001b[0;31mTypeError\u001b[0m                                 Traceback (most recent call last)",
      "\u001b[0;32m/opt/anaconda3/lib/python3.8/site-packages/tensorflow/python/eager/function.py\u001b[0m in \u001b[0;36m_call_impl\u001b[0;34m(self, args, kwargs, cancellation_manager)\u001b[0m\n\u001b[1;32m   1715\u001b[0m         \u001b[0;32mtry\u001b[0m\u001b[0;34m:\u001b[0m\u001b[0;34m\u001b[0m\u001b[0;34m\u001b[0m\u001b[0m\n\u001b[0;32m-> 1716\u001b[0;31m           return self._call_with_structured_signature(args, kwargs,\n\u001b[0m\u001b[1;32m   1717\u001b[0m                                                       cancellation_manager)\n",
      "\u001b[0;32m/opt/anaconda3/lib/python3.8/site-packages/tensorflow/python/eager/function.py\u001b[0m in \u001b[0;36m_call_with_structured_signature\u001b[0;34m(self, args, kwargs, cancellation_manager)\u001b[0m\n\u001b[1;32m   1793\u001b[0m         \u001b[0mself\u001b[0m\u001b[0;34m.\u001b[0m\u001b[0m_function_spec\u001b[0m\u001b[0;34m.\u001b[0m\u001b[0mcanonicalize_function_inputs\u001b[0m\u001b[0;34m(\u001b[0m\u001b[0;34m*\u001b[0m\u001b[0margs\u001b[0m\u001b[0;34m,\u001b[0m \u001b[0;34m**\u001b[0m\u001b[0mkwargs\u001b[0m\u001b[0;34m)\u001b[0m\u001b[0;34m\u001b[0m\u001b[0;34m\u001b[0m\u001b[0m\n\u001b[0;32m-> 1794\u001b[0;31m     \u001b[0mself\u001b[0m\u001b[0;34m.\u001b[0m\u001b[0m_structured_signature_check_missing_args\u001b[0m\u001b[0;34m(\u001b[0m\u001b[0margs\u001b[0m\u001b[0;34m,\u001b[0m \u001b[0mkwargs\u001b[0m\u001b[0;34m)\u001b[0m\u001b[0;34m\u001b[0m\u001b[0;34m\u001b[0m\u001b[0m\n\u001b[0m\u001b[1;32m   1795\u001b[0m     \u001b[0mself\u001b[0m\u001b[0;34m.\u001b[0m\u001b[0m_structured_signature_check_unexpected_args\u001b[0m\u001b[0;34m(\u001b[0m\u001b[0margs\u001b[0m\u001b[0;34m,\u001b[0m \u001b[0mkwargs\u001b[0m\u001b[0;34m)\u001b[0m\u001b[0;34m\u001b[0m\u001b[0;34m\u001b[0m\u001b[0m\n",
      "\u001b[0;32m/opt/anaconda3/lib/python3.8/site-packages/tensorflow/python/eager/function.py\u001b[0m in \u001b[0;36m_structured_signature_check_missing_args\u001b[0;34m(self, args, kwargs)\u001b[0m\n\u001b[1;32m   1812\u001b[0m     \u001b[0;32mif\u001b[0m \u001b[0mmissing_arguments\u001b[0m\u001b[0;34m:\u001b[0m\u001b[0;34m\u001b[0m\u001b[0;34m\u001b[0m\u001b[0m\n\u001b[0;32m-> 1813\u001b[0;31m       raise TypeError(f\"{self._structured_signature_summary()} missing \"\n\u001b[0m\u001b[1;32m   1814\u001b[0m                       \u001b[0;34m\"required arguments: \"\u001b[0m\u001b[0;34m\u001b[0m\u001b[0;34m\u001b[0m\u001b[0m\n",
      "\u001b[0;31mTypeError\u001b[0m: _wrapped_model(<arg1>) missing required arguments: <arg1>.",
      "\nDuring handling of the above exception, another exception occurred:\n",
      "\u001b[0;31mKeyboardInterrupt\u001b[0m                         Traceback (most recent call last)",
      "\u001b[0;32m/var/folders/yv/7r0htvks26q7nhdm7l86zm7m0000gn/T/ipykernel_58829/1764087177.py\u001b[0m in \u001b[0;36m<module>\u001b[0;34m\u001b[0m\n\u001b[1;32m     23\u001b[0m        'HLY_WIND_1STPCT_SD', 'HLY_WIND_2NDDIR_SD', 'HLY_WIND_2NDPCT_SD']\n\u001b[1;32m     24\u001b[0m \u001b[0;34m\u001b[0m\u001b[0m\n\u001b[0;32m---> 25\u001b[0;31m \u001b[0mbestPerformingModel\u001b[0m\u001b[0;34m(\u001b[0m\u001b[0mhowManyFutureHours\u001b[0m\u001b[0;34m,\u001b[0m \u001b[0mwindow_size\u001b[0m\u001b[0;34m,\u001b[0m \u001b[0mnumEpochs\u001b[0m\u001b[0;34m,\u001b[0m \u001b[0miters\u001b[0m\u001b[0;34m,\u001b[0m \u001b[0mcolumnsForDf\u001b[0m\u001b[0;34m,\u001b[0m \u001b[0mcolumns\u001b[0m\u001b[0;34m)\u001b[0m\u001b[0;34m\u001b[0m\u001b[0;34m\u001b[0m\u001b[0m\n\u001b[0m",
      "\u001b[0;32m/var/folders/yv/7r0htvks26q7nhdm7l86zm7m0000gn/T/ipykernel_58829/3143782094.py\u001b[0m in \u001b[0;36mbestPerformingModel\u001b[0;34m(howManyFutureHours, window_size, numEpochs, iters, columnsForDf, columns)\u001b[0m\n\u001b[1;32m      7\u001b[0m     \u001b[0;31m#we only want weather variable prediction, so only pass the correct stuff\u001b[0m\u001b[0;34m\u001b[0m\u001b[0;34m\u001b[0m\u001b[0;34m\u001b[0m\u001b[0m\n\u001b[1;32m      8\u001b[0m \u001b[0;34m\u001b[0m\u001b[0m\n\u001b[0;32m----> 9\u001b[0;31m     \u001b[0mbestWeatherDataModels\u001b[0m \u001b[0;34m=\u001b[0m \u001b[0mgetBestWeatherModels\u001b[0m\u001b[0;34m(\u001b[0m\u001b[0mdf\u001b[0m\u001b[0;34m,\u001b[0m \u001b[0mwindow_size\u001b[0m\u001b[0;34m,\u001b[0m \u001b[0mcolumns\u001b[0m\u001b[0;34m,\u001b[0m \u001b[0mnumEpochs\u001b[0m\u001b[0;34m,\u001b[0m \u001b[0miters\u001b[0m\u001b[0;34m)\u001b[0m\u001b[0;34m\u001b[0m\u001b[0;34m\u001b[0m\u001b[0m\n\u001b[0m\u001b[1;32m     10\u001b[0m \u001b[0;34m\u001b[0m\u001b[0m\n\u001b[1;32m     11\u001b[0m     \u001b[0;31m#save the models\u001b[0m\u001b[0;34m\u001b[0m\u001b[0;34m\u001b[0m\u001b[0;34m\u001b[0m\u001b[0m\n",
      "\u001b[0;32m/var/folders/yv/7r0htvks26q7nhdm7l86zm7m0000gn/T/ipykernel_58829/2485346764.py\u001b[0m in \u001b[0;36mgetBestWeatherModels\u001b[0;34m(df, window_size, columns, numEpochs, iters)\u001b[0m\n\u001b[1;32m      4\u001b[0m         \u001b[0mgetBestOneVar\u001b[0m \u001b[0;34m=\u001b[0m \u001b[0;34m{\u001b[0m\u001b[0;34m}\u001b[0m\u001b[0;34m\u001b[0m\u001b[0;34m\u001b[0m\u001b[0m\n\u001b[1;32m      5\u001b[0m         \u001b[0;32mfor\u001b[0m \u001b[0mi\u001b[0m \u001b[0;32min\u001b[0m \u001b[0mrange\u001b[0m\u001b[0;34m(\u001b[0m\u001b[0miters\u001b[0m\u001b[0;34m)\u001b[0m\u001b[0;34m:\u001b[0m\u001b[0;34m\u001b[0m\u001b[0;34m\u001b[0m\u001b[0m\n\u001b[0;32m----> 6\u001b[0;31m             \u001b[0mrmse\u001b[0m\u001b[0;34m,\u001b[0m \u001b[0mmodel\u001b[0m \u001b[0;34m=\u001b[0m \u001b[0mweatherVariableModel\u001b[0m\u001b[0;34m(\u001b[0m\u001b[0mdf\u001b[0m\u001b[0;34m,\u001b[0m \u001b[0mwindow_size\u001b[0m\u001b[0;34m,\u001b[0m \u001b[0mcolumn\u001b[0m\u001b[0;34m,\u001b[0m \u001b[0mnumEpochs\u001b[0m\u001b[0;34m)\u001b[0m\u001b[0;34m\u001b[0m\u001b[0;34m\u001b[0m\u001b[0m\n\u001b[0m\u001b[1;32m      7\u001b[0m             \u001b[0mgetBestOneVar\u001b[0m\u001b[0;34m.\u001b[0m\u001b[0mupdate\u001b[0m\u001b[0;34m(\u001b[0m\u001b[0;34m{\u001b[0m\u001b[0mrmse\u001b[0m\u001b[0;34m:\u001b[0m\u001b[0mmodel\u001b[0m\u001b[0;34m}\u001b[0m\u001b[0;34m)\u001b[0m\u001b[0;34m\u001b[0m\u001b[0;34m\u001b[0m\u001b[0m\n\u001b[1;32m      8\u001b[0m         \u001b[0;31m#now store the best one for that variables\u001b[0m\u001b[0;34m\u001b[0m\u001b[0;34m\u001b[0m\u001b[0;34m\u001b[0m\u001b[0m\n",
      "\u001b[0;32m/var/folders/yv/7r0htvks26q7nhdm7l86zm7m0000gn/T/ipykernel_58829/2355575175.py\u001b[0m in \u001b[0;36mweatherVariableModel\u001b[0;34m(df, window_size, column, numEpochs)\u001b[0m\n\u001b[1;32m     33\u001b[0m     \u001b[0mmodelx\u001b[0m\u001b[0;34m.\u001b[0m\u001b[0mcompile\u001b[0m\u001b[0;34m(\u001b[0m\u001b[0mloss\u001b[0m \u001b[0;34m=\u001b[0m \u001b[0mMeanSquaredError\u001b[0m\u001b[0;34m(\u001b[0m\u001b[0;34m)\u001b[0m\u001b[0;34m,\u001b[0m \u001b[0moptimizer\u001b[0m \u001b[0;34m=\u001b[0m \u001b[0mAdam\u001b[0m\u001b[0;34m(\u001b[0m\u001b[0;34m)\u001b[0m\u001b[0;34m,\u001b[0m \u001b[0mmetrics\u001b[0m \u001b[0;34m=\u001b[0m \u001b[0;34m[\u001b[0m\u001b[0mRootMeanSquaredError\u001b[0m\u001b[0;34m(\u001b[0m\u001b[0;34m)\u001b[0m\u001b[0;34m]\u001b[0m\u001b[0;34m)\u001b[0m\u001b[0;34m\u001b[0m\u001b[0;34m\u001b[0m\u001b[0m\n\u001b[1;32m     34\u001b[0m \u001b[0;34m\u001b[0m\u001b[0m\n\u001b[0;32m---> 35\u001b[0;31m     \u001b[0mmodelx\u001b[0m\u001b[0;34m.\u001b[0m\u001b[0mfit\u001b[0m\u001b[0;34m(\u001b[0m\u001b[0mX_train1\u001b[0m\u001b[0;34m,\u001b[0m \u001b[0my_train1\u001b[0m\u001b[0;34m,\u001b[0m \u001b[0mvalidation_data\u001b[0m\u001b[0;34m=\u001b[0m\u001b[0;34m(\u001b[0m\u001b[0mX_val1\u001b[0m\u001b[0;34m,\u001b[0m \u001b[0my_val1\u001b[0m\u001b[0;34m)\u001b[0m\u001b[0;34m,\u001b[0m \u001b[0mepochs\u001b[0m \u001b[0;34m=\u001b[0m \u001b[0mnumEpochs\u001b[0m\u001b[0;34m,\u001b[0m \u001b[0mcallbacks\u001b[0m \u001b[0;34m=\u001b[0m \u001b[0;34m[\u001b[0m\u001b[0mcpx\u001b[0m\u001b[0;34m]\u001b[0m\u001b[0;34m)\u001b[0m\u001b[0;34m\u001b[0m\u001b[0;34m\u001b[0m\u001b[0m\n\u001b[0m\u001b[1;32m     36\u001b[0m     \u001b[0mtrain_predictions\u001b[0m \u001b[0;34m=\u001b[0m \u001b[0mmodelx\u001b[0m\u001b[0;34m.\u001b[0m\u001b[0mpredict\u001b[0m\u001b[0;34m(\u001b[0m\u001b[0mX_train1\u001b[0m\u001b[0;34m)\u001b[0m\u001b[0;34m.\u001b[0m\u001b[0mflatten\u001b[0m\u001b[0;34m(\u001b[0m\u001b[0;34m)\u001b[0m\u001b[0;34m\u001b[0m\u001b[0;34m\u001b[0m\u001b[0m\n\u001b[1;32m     37\u001b[0m     \u001b[0mrmse\u001b[0m \u001b[0;34m=\u001b[0m \u001b[0mmean_squared_error\u001b[0m\u001b[0;34m(\u001b[0m\u001b[0mtrain_predictions\u001b[0m\u001b[0;34m,\u001b[0m \u001b[0my_train1\u001b[0m\u001b[0;34m,\u001b[0m \u001b[0msquared\u001b[0m\u001b[0;34m=\u001b[0m\u001b[0;32mFalse\u001b[0m\u001b[0;34m)\u001b[0m\u001b[0;34m\u001b[0m\u001b[0;34m\u001b[0m\u001b[0m\n",
      "\u001b[0;32m/opt/anaconda3/lib/python3.8/site-packages/keras/utils/traceback_utils.py\u001b[0m in \u001b[0;36merror_handler\u001b[0;34m(*args, **kwargs)\u001b[0m\n\u001b[1;32m     62\u001b[0m     \u001b[0mfiltered_tb\u001b[0m \u001b[0;34m=\u001b[0m \u001b[0;32mNone\u001b[0m\u001b[0;34m\u001b[0m\u001b[0;34m\u001b[0m\u001b[0m\n\u001b[1;32m     63\u001b[0m     \u001b[0;32mtry\u001b[0m\u001b[0;34m:\u001b[0m\u001b[0;34m\u001b[0m\u001b[0;34m\u001b[0m\u001b[0m\n\u001b[0;32m---> 64\u001b[0;31m       \u001b[0;32mreturn\u001b[0m \u001b[0mfn\u001b[0m\u001b[0;34m(\u001b[0m\u001b[0;34m*\u001b[0m\u001b[0margs\u001b[0m\u001b[0;34m,\u001b[0m \u001b[0;34m**\u001b[0m\u001b[0mkwargs\u001b[0m\u001b[0;34m)\u001b[0m\u001b[0;34m\u001b[0m\u001b[0;34m\u001b[0m\u001b[0m\n\u001b[0m\u001b[1;32m     65\u001b[0m     \u001b[0;32mexcept\u001b[0m \u001b[0mException\u001b[0m \u001b[0;32mas\u001b[0m \u001b[0me\u001b[0m\u001b[0;34m:\u001b[0m  \u001b[0;31m# pylint: disable=broad-except\u001b[0m\u001b[0;34m\u001b[0m\u001b[0;34m\u001b[0m\u001b[0m\n\u001b[1;32m     66\u001b[0m       \u001b[0mfiltered_tb\u001b[0m \u001b[0;34m=\u001b[0m \u001b[0m_process_traceback_frames\u001b[0m\u001b[0;34m(\u001b[0m\u001b[0me\u001b[0m\u001b[0;34m.\u001b[0m\u001b[0m__traceback__\u001b[0m\u001b[0;34m)\u001b[0m\u001b[0;34m\u001b[0m\u001b[0;34m\u001b[0m\u001b[0m\n",
      "\u001b[0;32m/opt/anaconda3/lib/python3.8/site-packages/keras/engine/training.py\u001b[0m in \u001b[0;36mfit\u001b[0;34m(self, x, y, batch_size, epochs, verbose, callbacks, validation_split, validation_data, shuffle, class_weight, sample_weight, initial_epoch, steps_per_epoch, validation_steps, validation_batch_size, validation_freq, max_queue_size, workers, use_multiprocessing)\u001b[0m\n\u001b[1;32m   1265\u001b[0m           \u001b[0mepoch_logs\u001b[0m\u001b[0;34m.\u001b[0m\u001b[0mupdate\u001b[0m\u001b[0;34m(\u001b[0m\u001b[0mval_logs\u001b[0m\u001b[0;34m)\u001b[0m\u001b[0;34m\u001b[0m\u001b[0;34m\u001b[0m\u001b[0m\n\u001b[1;32m   1266\u001b[0m \u001b[0;34m\u001b[0m\u001b[0m\n\u001b[0;32m-> 1267\u001b[0;31m         \u001b[0mcallbacks\u001b[0m\u001b[0;34m.\u001b[0m\u001b[0mon_epoch_end\u001b[0m\u001b[0;34m(\u001b[0m\u001b[0mepoch\u001b[0m\u001b[0;34m,\u001b[0m \u001b[0mepoch_logs\u001b[0m\u001b[0;34m)\u001b[0m\u001b[0;34m\u001b[0m\u001b[0;34m\u001b[0m\u001b[0m\n\u001b[0m\u001b[1;32m   1268\u001b[0m         \u001b[0mtraining_logs\u001b[0m \u001b[0;34m=\u001b[0m \u001b[0mepoch_logs\u001b[0m\u001b[0;34m\u001b[0m\u001b[0;34m\u001b[0m\u001b[0m\n\u001b[1;32m   1269\u001b[0m         \u001b[0;32mif\u001b[0m \u001b[0mself\u001b[0m\u001b[0;34m.\u001b[0m\u001b[0mstop_training\u001b[0m\u001b[0;34m:\u001b[0m\u001b[0;34m\u001b[0m\u001b[0;34m\u001b[0m\u001b[0m\n",
      "\u001b[0;32m/opt/anaconda3/lib/python3.8/site-packages/keras/callbacks.py\u001b[0m in \u001b[0;36mon_epoch_end\u001b[0;34m(self, epoch, logs)\u001b[0m\n\u001b[1;32m    412\u001b[0m     \u001b[0mlogs\u001b[0m \u001b[0;34m=\u001b[0m \u001b[0mself\u001b[0m\u001b[0;34m.\u001b[0m\u001b[0m_process_logs\u001b[0m\u001b[0;34m(\u001b[0m\u001b[0mlogs\u001b[0m\u001b[0;34m)\u001b[0m\u001b[0;34m\u001b[0m\u001b[0;34m\u001b[0m\u001b[0m\n\u001b[1;32m    413\u001b[0m     \u001b[0;32mfor\u001b[0m \u001b[0mcallback\u001b[0m \u001b[0;32min\u001b[0m \u001b[0mself\u001b[0m\u001b[0;34m.\u001b[0m\u001b[0mcallbacks\u001b[0m\u001b[0;34m:\u001b[0m\u001b[0;34m\u001b[0m\u001b[0;34m\u001b[0m\u001b[0m\n\u001b[0;32m--> 414\u001b[0;31m       \u001b[0mcallback\u001b[0m\u001b[0;34m.\u001b[0m\u001b[0mon_epoch_end\u001b[0m\u001b[0;34m(\u001b[0m\u001b[0mepoch\u001b[0m\u001b[0;34m,\u001b[0m \u001b[0mlogs\u001b[0m\u001b[0;34m)\u001b[0m\u001b[0;34m\u001b[0m\u001b[0;34m\u001b[0m\u001b[0m\n\u001b[0m\u001b[1;32m    415\u001b[0m \u001b[0;34m\u001b[0m\u001b[0m\n\u001b[1;32m    416\u001b[0m   \u001b[0;32mdef\u001b[0m \u001b[0mon_train_batch_begin\u001b[0m\u001b[0;34m(\u001b[0m\u001b[0mself\u001b[0m\u001b[0;34m,\u001b[0m \u001b[0mbatch\u001b[0m\u001b[0;34m,\u001b[0m \u001b[0mlogs\u001b[0m\u001b[0;34m=\u001b[0m\u001b[0;32mNone\u001b[0m\u001b[0;34m)\u001b[0m\u001b[0;34m:\u001b[0m\u001b[0;34m\u001b[0m\u001b[0;34m\u001b[0m\u001b[0m\n",
      "\u001b[0;32m/opt/anaconda3/lib/python3.8/site-packages/keras/callbacks.py\u001b[0m in \u001b[0;36mon_epoch_end\u001b[0;34m(self, epoch, logs)\u001b[0m\n\u001b[1;32m   1374\u001b[0m     \u001b[0;31m# pylint: disable=protected-access\u001b[0m\u001b[0;34m\u001b[0m\u001b[0;34m\u001b[0m\u001b[0;34m\u001b[0m\u001b[0m\n\u001b[1;32m   1375\u001b[0m     \u001b[0;32mif\u001b[0m \u001b[0mself\u001b[0m\u001b[0;34m.\u001b[0m\u001b[0msave_freq\u001b[0m \u001b[0;34m==\u001b[0m \u001b[0;34m'epoch'\u001b[0m\u001b[0;34m:\u001b[0m\u001b[0;34m\u001b[0m\u001b[0;34m\u001b[0m\u001b[0m\n\u001b[0;32m-> 1376\u001b[0;31m       \u001b[0mself\u001b[0m\u001b[0;34m.\u001b[0m\u001b[0m_save_model\u001b[0m\u001b[0;34m(\u001b[0m\u001b[0mepoch\u001b[0m\u001b[0;34m=\u001b[0m\u001b[0mepoch\u001b[0m\u001b[0;34m,\u001b[0m \u001b[0mbatch\u001b[0m\u001b[0;34m=\u001b[0m\u001b[0;32mNone\u001b[0m\u001b[0;34m,\u001b[0m \u001b[0mlogs\u001b[0m\u001b[0;34m=\u001b[0m\u001b[0mlogs\u001b[0m\u001b[0;34m)\u001b[0m\u001b[0;34m\u001b[0m\u001b[0;34m\u001b[0m\u001b[0m\n\u001b[0m\u001b[1;32m   1377\u001b[0m \u001b[0;34m\u001b[0m\u001b[0m\n\u001b[1;32m   1378\u001b[0m   \u001b[0;32mdef\u001b[0m \u001b[0m_should_save_on_batch\u001b[0m\u001b[0;34m(\u001b[0m\u001b[0mself\u001b[0m\u001b[0;34m,\u001b[0m \u001b[0mbatch\u001b[0m\u001b[0;34m)\u001b[0m\u001b[0;34m:\u001b[0m\u001b[0;34m\u001b[0m\u001b[0;34m\u001b[0m\u001b[0m\n",
      "\u001b[0;32m/opt/anaconda3/lib/python3.8/site-packages/keras/callbacks.py\u001b[0m in \u001b[0;36m_save_model\u001b[0;34m(self, epoch, batch, logs)\u001b[0m\n\u001b[1;32m   1428\u001b[0m                     filepath, overwrite=True, options=self._options)\n\u001b[1;32m   1429\u001b[0m               \u001b[0;32melse\u001b[0m\u001b[0;34m:\u001b[0m\u001b[0;34m\u001b[0m\u001b[0;34m\u001b[0m\u001b[0m\n\u001b[0;32m-> 1430\u001b[0;31m                 \u001b[0mself\u001b[0m\u001b[0;34m.\u001b[0m\u001b[0mmodel\u001b[0m\u001b[0;34m.\u001b[0m\u001b[0msave\u001b[0m\u001b[0;34m(\u001b[0m\u001b[0mfilepath\u001b[0m\u001b[0;34m,\u001b[0m \u001b[0moverwrite\u001b[0m\u001b[0;34m=\u001b[0m\u001b[0;32mTrue\u001b[0m\u001b[0;34m,\u001b[0m \u001b[0moptions\u001b[0m\u001b[0;34m=\u001b[0m\u001b[0mself\u001b[0m\u001b[0;34m.\u001b[0m\u001b[0m_options\u001b[0m\u001b[0;34m)\u001b[0m\u001b[0;34m\u001b[0m\u001b[0;34m\u001b[0m\u001b[0m\n\u001b[0m\u001b[1;32m   1431\u001b[0m             \u001b[0;32melse\u001b[0m\u001b[0;34m:\u001b[0m\u001b[0;34m\u001b[0m\u001b[0;34m\u001b[0m\u001b[0m\n\u001b[1;32m   1432\u001b[0m               \u001b[0;32mif\u001b[0m \u001b[0mself\u001b[0m\u001b[0;34m.\u001b[0m\u001b[0mverbose\u001b[0m \u001b[0;34m>\u001b[0m \u001b[0;36m0\u001b[0m\u001b[0;34m:\u001b[0m\u001b[0;34m\u001b[0m\u001b[0;34m\u001b[0m\u001b[0m\n",
      "\u001b[0;32m/opt/anaconda3/lib/python3.8/site-packages/keras/utils/traceback_utils.py\u001b[0m in \u001b[0;36merror_handler\u001b[0;34m(*args, **kwargs)\u001b[0m\n\u001b[1;32m     62\u001b[0m     \u001b[0mfiltered_tb\u001b[0m \u001b[0;34m=\u001b[0m \u001b[0;32mNone\u001b[0m\u001b[0;34m\u001b[0m\u001b[0;34m\u001b[0m\u001b[0m\n\u001b[1;32m     63\u001b[0m     \u001b[0;32mtry\u001b[0m\u001b[0;34m:\u001b[0m\u001b[0;34m\u001b[0m\u001b[0;34m\u001b[0m\u001b[0m\n\u001b[0;32m---> 64\u001b[0;31m       \u001b[0;32mreturn\u001b[0m \u001b[0mfn\u001b[0m\u001b[0;34m(\u001b[0m\u001b[0;34m*\u001b[0m\u001b[0margs\u001b[0m\u001b[0;34m,\u001b[0m \u001b[0;34m**\u001b[0m\u001b[0mkwargs\u001b[0m\u001b[0;34m)\u001b[0m\u001b[0;34m\u001b[0m\u001b[0;34m\u001b[0m\u001b[0m\n\u001b[0m\u001b[1;32m     65\u001b[0m     \u001b[0;32mexcept\u001b[0m \u001b[0mException\u001b[0m \u001b[0;32mas\u001b[0m \u001b[0me\u001b[0m\u001b[0;34m:\u001b[0m  \u001b[0;31m# pylint: disable=broad-except\u001b[0m\u001b[0;34m\u001b[0m\u001b[0;34m\u001b[0m\u001b[0m\n\u001b[1;32m     66\u001b[0m       \u001b[0mfiltered_tb\u001b[0m \u001b[0;34m=\u001b[0m \u001b[0m_process_traceback_frames\u001b[0m\u001b[0;34m(\u001b[0m\u001b[0me\u001b[0m\u001b[0;34m.\u001b[0m\u001b[0m__traceback__\u001b[0m\u001b[0;34m)\u001b[0m\u001b[0;34m\u001b[0m\u001b[0;34m\u001b[0m\u001b[0m\n",
      "\u001b[0;32m/opt/anaconda3/lib/python3.8/site-packages/keras/engine/training.py\u001b[0m in \u001b[0;36msave\u001b[0;34m(self, filepath, overwrite, include_optimizer, save_format, signatures, options, save_traces)\u001b[0m\n\u001b[1;32m   2189\u001b[0m     \"\"\"\n\u001b[1;32m   2190\u001b[0m     \u001b[0;31m# pylint: enable=line-too-long\u001b[0m\u001b[0;34m\u001b[0m\u001b[0;34m\u001b[0m\u001b[0;34m\u001b[0m\u001b[0m\n\u001b[0;32m-> 2191\u001b[0;31m     save.save_model(self, filepath, overwrite, include_optimizer, save_format,\n\u001b[0m\u001b[1;32m   2192\u001b[0m                     signatures, options, save_traces)\n\u001b[1;32m   2193\u001b[0m \u001b[0;34m\u001b[0m\u001b[0m\n",
      "\u001b[0;32m/opt/anaconda3/lib/python3.8/site-packages/keras/utils/traceback_utils.py\u001b[0m in \u001b[0;36merror_handler\u001b[0;34m(*args, **kwargs)\u001b[0m\n\u001b[1;32m     62\u001b[0m     \u001b[0mfiltered_tb\u001b[0m \u001b[0;34m=\u001b[0m \u001b[0;32mNone\u001b[0m\u001b[0;34m\u001b[0m\u001b[0;34m\u001b[0m\u001b[0m\n\u001b[1;32m     63\u001b[0m     \u001b[0;32mtry\u001b[0m\u001b[0;34m:\u001b[0m\u001b[0;34m\u001b[0m\u001b[0;34m\u001b[0m\u001b[0m\n\u001b[0;32m---> 64\u001b[0;31m       \u001b[0;32mreturn\u001b[0m \u001b[0mfn\u001b[0m\u001b[0;34m(\u001b[0m\u001b[0;34m*\u001b[0m\u001b[0margs\u001b[0m\u001b[0;34m,\u001b[0m \u001b[0;34m**\u001b[0m\u001b[0mkwargs\u001b[0m\u001b[0;34m)\u001b[0m\u001b[0;34m\u001b[0m\u001b[0;34m\u001b[0m\u001b[0m\n\u001b[0m\u001b[1;32m     65\u001b[0m     \u001b[0;32mexcept\u001b[0m \u001b[0mException\u001b[0m \u001b[0;32mas\u001b[0m \u001b[0me\u001b[0m\u001b[0;34m:\u001b[0m  \u001b[0;31m# pylint: disable=broad-except\u001b[0m\u001b[0;34m\u001b[0m\u001b[0;34m\u001b[0m\u001b[0m\n\u001b[1;32m     66\u001b[0m       \u001b[0mfiltered_tb\u001b[0m \u001b[0;34m=\u001b[0m \u001b[0m_process_traceback_frames\u001b[0m\u001b[0;34m(\u001b[0m\u001b[0me\u001b[0m\u001b[0;34m.\u001b[0m\u001b[0m__traceback__\u001b[0m\u001b[0;34m)\u001b[0m\u001b[0;34m\u001b[0m\u001b[0;34m\u001b[0m\u001b[0m\n",
      "\u001b[0;32m/opt/anaconda3/lib/python3.8/site-packages/keras/saving/save.py\u001b[0m in \u001b[0;36msave_model\u001b[0;34m(model, filepath, overwrite, include_optimizer, save_format, signatures, options, save_traces)\u001b[0m\n\u001b[1;32m    149\u001b[0m   \u001b[0;32melse\u001b[0m\u001b[0;34m:\u001b[0m\u001b[0;34m\u001b[0m\u001b[0;34m\u001b[0m\u001b[0m\n\u001b[1;32m    150\u001b[0m     \u001b[0;32mwith\u001b[0m \u001b[0mgeneric_utils\u001b[0m\u001b[0;34m.\u001b[0m\u001b[0mSharedObjectSavingScope\u001b[0m\u001b[0;34m(\u001b[0m\u001b[0;34m)\u001b[0m\u001b[0;34m:\u001b[0m\u001b[0;34m\u001b[0m\u001b[0;34m\u001b[0m\u001b[0m\n\u001b[0;32m--> 151\u001b[0;31m       saved_model_save.save(model, filepath, overwrite, include_optimizer,\n\u001b[0m\u001b[1;32m    152\u001b[0m                             signatures, options, save_traces)\n\u001b[1;32m    153\u001b[0m \u001b[0;34m\u001b[0m\u001b[0m\n",
      "\u001b[0;32m/opt/anaconda3/lib/python3.8/site-packages/keras/saving/saved_model/save.py\u001b[0m in \u001b[0;36msave\u001b[0;34m(model, filepath, overwrite, include_optimizer, signatures, options, save_traces)\u001b[0m\n\u001b[1;32m     91\u001b[0m   \u001b[0;32mwith\u001b[0m \u001b[0mbackend\u001b[0m\u001b[0;34m.\u001b[0m\u001b[0mdeprecated_internal_learning_phase_scope\u001b[0m\u001b[0;34m(\u001b[0m\u001b[0;36m0\u001b[0m\u001b[0;34m)\u001b[0m\u001b[0;34m:\u001b[0m\u001b[0;34m\u001b[0m\u001b[0;34m\u001b[0m\u001b[0m\n\u001b[1;32m     92\u001b[0m     \u001b[0;32mwith\u001b[0m \u001b[0mutils\u001b[0m\u001b[0;34m.\u001b[0m\u001b[0mkeras_option_scope\u001b[0m\u001b[0;34m(\u001b[0m\u001b[0msave_traces\u001b[0m\u001b[0;34m)\u001b[0m\u001b[0;34m:\u001b[0m\u001b[0;34m\u001b[0m\u001b[0;34m\u001b[0m\u001b[0m\n\u001b[0;32m---> 93\u001b[0;31m       saved_nodes, node_paths = save_lib.save_and_return_nodes(\n\u001b[0m\u001b[1;32m     94\u001b[0m           model, filepath, signatures, options)\n\u001b[1;32m     95\u001b[0m \u001b[0;34m\u001b[0m\u001b[0m\n",
      "\u001b[0;32m/opt/anaconda3/lib/python3.8/site-packages/tensorflow/python/saved_model/save.py\u001b[0m in \u001b[0;36msave_and_return_nodes\u001b[0;34m(obj, export_dir, signatures, options, experimental_skip_checkpoint)\u001b[0m\n\u001b[1;32m   1313\u001b[0m \u001b[0;34m\u001b[0m\u001b[0m\n\u001b[1;32m   1314\u001b[0m   _, exported_graph, object_saver, asset_info, saved_nodes, node_paths = (\n\u001b[0;32m-> 1315\u001b[0;31m       _build_meta_graph(obj, signatures, options, meta_graph_def))\n\u001b[0m\u001b[1;32m   1316\u001b[0m   saved_model.saved_model_schema_version = (\n\u001b[1;32m   1317\u001b[0m       constants.SAVED_MODEL_SCHEMA_VERSION)\n",
      "\u001b[0;32m/opt/anaconda3/lib/python3.8/site-packages/tensorflow/python/saved_model/save.py\u001b[0m in \u001b[0;36m_build_meta_graph\u001b[0;34m(obj, signatures, options, meta_graph_def)\u001b[0m\n\u001b[1;32m   1485\u001b[0m \u001b[0;34m\u001b[0m\u001b[0m\n\u001b[1;32m   1486\u001b[0m   \u001b[0;32mwith\u001b[0m \u001b[0msave_context\u001b[0m\u001b[0;34m.\u001b[0m\u001b[0msave_context\u001b[0m\u001b[0;34m(\u001b[0m\u001b[0moptions\u001b[0m\u001b[0;34m)\u001b[0m\u001b[0;34m:\u001b[0m\u001b[0;34m\u001b[0m\u001b[0;34m\u001b[0m\u001b[0m\n\u001b[0;32m-> 1487\u001b[0;31m     \u001b[0;32mreturn\u001b[0m \u001b[0m_build_meta_graph_impl\u001b[0m\u001b[0;34m(\u001b[0m\u001b[0mobj\u001b[0m\u001b[0;34m,\u001b[0m \u001b[0msignatures\u001b[0m\u001b[0;34m,\u001b[0m \u001b[0moptions\u001b[0m\u001b[0;34m,\u001b[0m \u001b[0mmeta_graph_def\u001b[0m\u001b[0;34m)\u001b[0m\u001b[0;34m\u001b[0m\u001b[0;34m\u001b[0m\u001b[0m\n\u001b[0m",
      "\u001b[0;32m/opt/anaconda3/lib/python3.8/site-packages/tensorflow/python/saved_model/save.py\u001b[0m in \u001b[0;36m_build_meta_graph_impl\u001b[0;34m(obj, signatures, options, meta_graph_def)\u001b[0m\n\u001b[1;32m   1425\u001b[0m \u001b[0;34m\u001b[0m\u001b[0m\n\u001b[1;32m   1426\u001b[0m   signatures, wrapped_functions = (\n\u001b[0;32m-> 1427\u001b[0;31m       signature_serialization.canonicalize_signatures(signatures))\n\u001b[0m\u001b[1;32m   1428\u001b[0m   \u001b[0msignature_serialization\u001b[0m\u001b[0;34m.\u001b[0m\u001b[0mvalidate_saveable_view\u001b[0m\u001b[0;34m(\u001b[0m\u001b[0mcheckpoint_graph_view\u001b[0m\u001b[0;34m)\u001b[0m\u001b[0;34m\u001b[0m\u001b[0;34m\u001b[0m\u001b[0m\n\u001b[1;32m   1429\u001b[0m   \u001b[0msignature_map\u001b[0m \u001b[0;34m=\u001b[0m \u001b[0msignature_serialization\u001b[0m\u001b[0;34m.\u001b[0m\u001b[0mcreate_signature_map\u001b[0m\u001b[0;34m(\u001b[0m\u001b[0msignatures\u001b[0m\u001b[0;34m)\u001b[0m\u001b[0;34m\u001b[0m\u001b[0;34m\u001b[0m\u001b[0m\n",
      "\u001b[0;32m/opt/anaconda3/lib/python3.8/site-packages/tensorflow/python/saved_model/signature_serialization.py\u001b[0m in \u001b[0;36mcanonicalize_signatures\u001b[0;34m(signatures)\u001b[0m\n\u001b[1;32m    180\u001b[0m         \u001b[0mspec\u001b[0m \u001b[0;34m=\u001b[0m \u001b[0mtensor_spec\u001b[0m\u001b[0;34m.\u001b[0m\u001b[0mTensorSpec\u001b[0m\u001b[0;34m.\u001b[0m\u001b[0mfrom_tensor\u001b[0m\u001b[0;34m(\u001b[0m\u001b[0minp\u001b[0m\u001b[0;34m,\u001b[0m \u001b[0mname\u001b[0m\u001b[0;34m=\u001b[0m\u001b[0mkeyword\u001b[0m\u001b[0;34m)\u001b[0m\u001b[0;34m\u001b[0m\u001b[0;34m\u001b[0m\u001b[0m\n\u001b[1;32m    181\u001b[0m       \u001b[0mtensor_spec_signature\u001b[0m\u001b[0;34m[\u001b[0m\u001b[0mkeyword\u001b[0m\u001b[0;34m]\u001b[0m \u001b[0;34m=\u001b[0m \u001b[0mspec\u001b[0m\u001b[0;34m\u001b[0m\u001b[0;34m\u001b[0m\u001b[0m\n\u001b[0;32m--> 182\u001b[0;31m     final_concrete = signature_wrapper._get_concrete_function_garbage_collected(  # pylint: disable=protected-access\n\u001b[0m\u001b[1;32m    183\u001b[0m         **tensor_spec_signature)\n\u001b[1;32m    184\u001b[0m     \u001b[0;31m# pylint: disable=protected-access\u001b[0m\u001b[0;34m\u001b[0m\u001b[0;34m\u001b[0m\u001b[0;34m\u001b[0m\u001b[0m\n",
      "\u001b[0;32m/opt/anaconda3/lib/python3.8/site-packages/tensorflow/python/eager/def_function.py\u001b[0m in \u001b[0;36m_get_concrete_function_garbage_collected\u001b[0;34m(self, *args, **kwargs)\u001b[0m\n\u001b[1;32m   1237\u001b[0m       \u001b[0;32mif\u001b[0m \u001b[0mself\u001b[0m\u001b[0;34m.\u001b[0m\u001b[0m_stateful_fn\u001b[0m \u001b[0;32mis\u001b[0m \u001b[0;32mNone\u001b[0m\u001b[0;34m:\u001b[0m\u001b[0;34m\u001b[0m\u001b[0;34m\u001b[0m\u001b[0m\n\u001b[1;32m   1238\u001b[0m         \u001b[0minitializers\u001b[0m \u001b[0;34m=\u001b[0m \u001b[0;34m[\u001b[0m\u001b[0;34m]\u001b[0m\u001b[0;34m\u001b[0m\u001b[0;34m\u001b[0m\u001b[0m\n\u001b[0;32m-> 1239\u001b[0;31m         \u001b[0mself\u001b[0m\u001b[0;34m.\u001b[0m\u001b[0m_initialize\u001b[0m\u001b[0;34m(\u001b[0m\u001b[0margs\u001b[0m\u001b[0;34m,\u001b[0m \u001b[0mkwargs\u001b[0m\u001b[0;34m,\u001b[0m \u001b[0madd_initializers_to\u001b[0m\u001b[0;34m=\u001b[0m\u001b[0minitializers\u001b[0m\u001b[0;34m)\u001b[0m\u001b[0;34m\u001b[0m\u001b[0;34m\u001b[0m\u001b[0m\n\u001b[0m\u001b[1;32m   1240\u001b[0m         \u001b[0mself\u001b[0m\u001b[0;34m.\u001b[0m\u001b[0m_initialize_uninitialized_variables\u001b[0m\u001b[0;34m(\u001b[0m\u001b[0minitializers\u001b[0m\u001b[0;34m)\u001b[0m\u001b[0;34m\u001b[0m\u001b[0;34m\u001b[0m\u001b[0m\n\u001b[1;32m   1241\u001b[0m \u001b[0;34m\u001b[0m\u001b[0m\n",
      "\u001b[0;32m/opt/anaconda3/lib/python3.8/site-packages/tensorflow/python/eager/def_function.py\u001b[0m in \u001b[0;36m_initialize\u001b[0;34m(self, args, kwds, add_initializers_to)\u001b[0m\n\u001b[1;32m    778\u001b[0m     \u001b[0mself\u001b[0m\u001b[0;34m.\u001b[0m\u001b[0m_graph_deleter\u001b[0m \u001b[0;34m=\u001b[0m \u001b[0mFunctionDeleter\u001b[0m\u001b[0;34m(\u001b[0m\u001b[0mself\u001b[0m\u001b[0;34m.\u001b[0m\u001b[0m_lifted_initializer_graph\u001b[0m\u001b[0;34m)\u001b[0m\u001b[0;34m\u001b[0m\u001b[0;34m\u001b[0m\u001b[0m\n\u001b[1;32m    779\u001b[0m     self._concrete_stateful_fn = (\n\u001b[0;32m--> 780\u001b[0;31m         self._stateful_fn._get_concrete_function_internal_garbage_collected(  # pylint: disable=protected-access\n\u001b[0m\u001b[1;32m    781\u001b[0m             *args, **kwds))\n\u001b[1;32m    782\u001b[0m \u001b[0;34m\u001b[0m\u001b[0m\n",
      "\u001b[0;32m/opt/anaconda3/lib/python3.8/site-packages/tensorflow/python/eager/function.py\u001b[0m in \u001b[0;36m_get_concrete_function_internal_garbage_collected\u001b[0;34m(self, *args, **kwargs)\u001b[0m\n\u001b[1;32m   3155\u001b[0m       \u001b[0margs\u001b[0m\u001b[0;34m,\u001b[0m \u001b[0mkwargs\u001b[0m \u001b[0;34m=\u001b[0m \u001b[0;32mNone\u001b[0m\u001b[0;34m,\u001b[0m \u001b[0;32mNone\u001b[0m\u001b[0;34m\u001b[0m\u001b[0;34m\u001b[0m\u001b[0m\n\u001b[1;32m   3156\u001b[0m     \u001b[0;32mwith\u001b[0m \u001b[0mself\u001b[0m\u001b[0;34m.\u001b[0m\u001b[0m_lock\u001b[0m\u001b[0;34m:\u001b[0m\u001b[0;34m\u001b[0m\u001b[0;34m\u001b[0m\u001b[0m\n\u001b[0;32m-> 3157\u001b[0;31m       \u001b[0mgraph_function\u001b[0m\u001b[0;34m,\u001b[0m \u001b[0m_\u001b[0m \u001b[0;34m=\u001b[0m \u001b[0mself\u001b[0m\u001b[0;34m.\u001b[0m\u001b[0m_maybe_define_function\u001b[0m\u001b[0;34m(\u001b[0m\u001b[0margs\u001b[0m\u001b[0;34m,\u001b[0m \u001b[0mkwargs\u001b[0m\u001b[0;34m)\u001b[0m\u001b[0;34m\u001b[0m\u001b[0;34m\u001b[0m\u001b[0m\n\u001b[0m\u001b[1;32m   3158\u001b[0m     \u001b[0;32mreturn\u001b[0m \u001b[0mgraph_function\u001b[0m\u001b[0;34m\u001b[0m\u001b[0;34m\u001b[0m\u001b[0m\n\u001b[1;32m   3159\u001b[0m \u001b[0;34m\u001b[0m\u001b[0m\n",
      "\u001b[0;32m/opt/anaconda3/lib/python3.8/site-packages/tensorflow/python/eager/function.py\u001b[0m in \u001b[0;36m_maybe_define_function\u001b[0;34m(self, args, kwargs)\u001b[0m\n\u001b[1;32m   3555\u001b[0m \u001b[0;34m\u001b[0m\u001b[0m\n\u001b[1;32m   3556\u001b[0m           \u001b[0mself\u001b[0m\u001b[0;34m.\u001b[0m\u001b[0m_function_cache\u001b[0m\u001b[0;34m.\u001b[0m\u001b[0mmissed\u001b[0m\u001b[0;34m.\u001b[0m\u001b[0madd\u001b[0m\u001b[0;34m(\u001b[0m\u001b[0mcall_context_key\u001b[0m\u001b[0;34m)\u001b[0m\u001b[0;34m\u001b[0m\u001b[0;34m\u001b[0m\u001b[0m\n\u001b[0;32m-> 3557\u001b[0;31m           \u001b[0mgraph_function\u001b[0m \u001b[0;34m=\u001b[0m \u001b[0mself\u001b[0m\u001b[0;34m.\u001b[0m\u001b[0m_create_graph_function\u001b[0m\u001b[0;34m(\u001b[0m\u001b[0margs\u001b[0m\u001b[0;34m,\u001b[0m \u001b[0mkwargs\u001b[0m\u001b[0;34m)\u001b[0m\u001b[0;34m\u001b[0m\u001b[0;34m\u001b[0m\u001b[0m\n\u001b[0m\u001b[1;32m   3558\u001b[0m           \u001b[0mself\u001b[0m\u001b[0;34m.\u001b[0m\u001b[0m_function_cache\u001b[0m\u001b[0;34m.\u001b[0m\u001b[0mprimary\u001b[0m\u001b[0;34m[\u001b[0m\u001b[0mcache_key\u001b[0m\u001b[0;34m]\u001b[0m \u001b[0;34m=\u001b[0m \u001b[0mgraph_function\u001b[0m\u001b[0;34m\u001b[0m\u001b[0;34m\u001b[0m\u001b[0m\n\u001b[1;32m   3559\u001b[0m \u001b[0;34m\u001b[0m\u001b[0m\n",
      "\u001b[0;32m/opt/anaconda3/lib/python3.8/site-packages/tensorflow/python/eager/function.py\u001b[0m in \u001b[0;36m_create_graph_function\u001b[0;34m(self, args, kwargs, override_flat_arg_shapes)\u001b[0m\n\u001b[1;32m   3390\u001b[0m     \u001b[0marg_names\u001b[0m \u001b[0;34m=\u001b[0m \u001b[0mbase_arg_names\u001b[0m \u001b[0;34m+\u001b[0m \u001b[0mmissing_arg_names\u001b[0m\u001b[0;34m\u001b[0m\u001b[0;34m\u001b[0m\u001b[0m\n\u001b[1;32m   3391\u001b[0m     graph_function = ConcreteFunction(\n\u001b[0;32m-> 3392\u001b[0;31m         func_graph_module.func_graph_from_py_func(\n\u001b[0m\u001b[1;32m   3393\u001b[0m             \u001b[0mself\u001b[0m\u001b[0;34m.\u001b[0m\u001b[0m_name\u001b[0m\u001b[0;34m,\u001b[0m\u001b[0;34m\u001b[0m\u001b[0;34m\u001b[0m\u001b[0m\n\u001b[1;32m   3394\u001b[0m             \u001b[0mself\u001b[0m\u001b[0;34m.\u001b[0m\u001b[0m_python_function\u001b[0m\u001b[0;34m,\u001b[0m\u001b[0;34m\u001b[0m\u001b[0;34m\u001b[0m\u001b[0m\n",
      "\u001b[0;32m/opt/anaconda3/lib/python3.8/site-packages/tensorflow/python/framework/func_graph.py\u001b[0m in \u001b[0;36mfunc_graph_from_py_func\u001b[0;34m(name, python_func, args, kwargs, signature, func_graph, autograph, autograph_options, add_control_dependencies, arg_names, op_return_value, collections, capture_by_value, override_flat_arg_shapes, acd_record_initial_resource_uses)\u001b[0m\n\u001b[1;32m   1141\u001b[0m         \u001b[0m_\u001b[0m\u001b[0;34m,\u001b[0m \u001b[0moriginal_func\u001b[0m \u001b[0;34m=\u001b[0m \u001b[0mtf_decorator\u001b[0m\u001b[0;34m.\u001b[0m\u001b[0munwrap\u001b[0m\u001b[0;34m(\u001b[0m\u001b[0mpython_func\u001b[0m\u001b[0;34m)\u001b[0m\u001b[0;34m\u001b[0m\u001b[0;34m\u001b[0m\u001b[0m\n\u001b[1;32m   1142\u001b[0m \u001b[0;34m\u001b[0m\u001b[0m\n\u001b[0;32m-> 1143\u001b[0;31m       \u001b[0mfunc_outputs\u001b[0m \u001b[0;34m=\u001b[0m \u001b[0mpython_func\u001b[0m\u001b[0;34m(\u001b[0m\u001b[0;34m*\u001b[0m\u001b[0mfunc_args\u001b[0m\u001b[0;34m,\u001b[0m \u001b[0;34m**\u001b[0m\u001b[0mfunc_kwargs\u001b[0m\u001b[0;34m)\u001b[0m\u001b[0;34m\u001b[0m\u001b[0;34m\u001b[0m\u001b[0m\n\u001b[0m\u001b[1;32m   1144\u001b[0m \u001b[0;34m\u001b[0m\u001b[0m\n\u001b[1;32m   1145\u001b[0m       \u001b[0;31m# invariant: `func_outputs` contains only Tensors, CompositeTensors,\u001b[0m\u001b[0;34m\u001b[0m\u001b[0;34m\u001b[0m\u001b[0;34m\u001b[0m\u001b[0m\n",
      "\u001b[0;32m/opt/anaconda3/lib/python3.8/site-packages/tensorflow/python/eager/def_function.py\u001b[0m in \u001b[0;36mwrapped_fn\u001b[0;34m(*args, **kwds)\u001b[0m\n\u001b[1;32m    670\u001b[0m         \u001b[0;31m# the function a weak reference to itself to avoid a reference cycle.\u001b[0m\u001b[0;34m\u001b[0m\u001b[0;34m\u001b[0m\u001b[0;34m\u001b[0m\u001b[0m\n\u001b[1;32m    671\u001b[0m         \u001b[0;32mwith\u001b[0m \u001b[0mOptionalXlaContext\u001b[0m\u001b[0;34m(\u001b[0m\u001b[0mcompile_with_xla\u001b[0m\u001b[0;34m)\u001b[0m\u001b[0;34m:\u001b[0m\u001b[0;34m\u001b[0m\u001b[0;34m\u001b[0m\u001b[0m\n\u001b[0;32m--> 672\u001b[0;31m           \u001b[0mout\u001b[0m \u001b[0;34m=\u001b[0m \u001b[0mweak_wrapped_fn\u001b[0m\u001b[0;34m(\u001b[0m\u001b[0;34m)\u001b[0m\u001b[0;34m.\u001b[0m\u001b[0m__wrapped__\u001b[0m\u001b[0;34m(\u001b[0m\u001b[0;34m*\u001b[0m\u001b[0margs\u001b[0m\u001b[0;34m,\u001b[0m \u001b[0;34m**\u001b[0m\u001b[0mkwds\u001b[0m\u001b[0;34m)\u001b[0m\u001b[0;34m\u001b[0m\u001b[0;34m\u001b[0m\u001b[0m\n\u001b[0m\u001b[1;32m    673\u001b[0m         \u001b[0;32mreturn\u001b[0m \u001b[0mout\u001b[0m\u001b[0;34m\u001b[0m\u001b[0;34m\u001b[0m\u001b[0m\n\u001b[1;32m    674\u001b[0m \u001b[0;34m\u001b[0m\u001b[0m\n",
      "\u001b[0;32m/opt/anaconda3/lib/python3.8/site-packages/tensorflow/python/framework/func_graph.py\u001b[0m in \u001b[0;36mautograph_handler\u001b[0;34m(*args, **kwargs)\u001b[0m\n\u001b[1;32m   1116\u001b[0m           \u001b[0;31m# TODO(mdan): Push this block higher in tf.function's call stack.\u001b[0m\u001b[0;34m\u001b[0m\u001b[0;34m\u001b[0m\u001b[0;34m\u001b[0m\u001b[0m\n\u001b[1;32m   1117\u001b[0m           \u001b[0;32mtry\u001b[0m\u001b[0;34m:\u001b[0m\u001b[0;34m\u001b[0m\u001b[0;34m\u001b[0m\u001b[0m\n\u001b[0;32m-> 1118\u001b[0;31m             return autograph.converted_call(\n\u001b[0m\u001b[1;32m   1119\u001b[0m                 \u001b[0moriginal_func\u001b[0m\u001b[0;34m,\u001b[0m\u001b[0;34m\u001b[0m\u001b[0;34m\u001b[0m\u001b[0m\n\u001b[1;32m   1120\u001b[0m                 \u001b[0margs\u001b[0m\u001b[0;34m,\u001b[0m\u001b[0;34m\u001b[0m\u001b[0;34m\u001b[0m\u001b[0m\n",
      "\u001b[0;32m/opt/anaconda3/lib/python3.8/site-packages/tensorflow/python/autograph/impl/api.py\u001b[0m in \u001b[0;36mconverted_call\u001b[0;34m(f, args, kwargs, caller_fn_scope, options)\u001b[0m\n\u001b[1;32m    443\u001b[0m     \u001b[0;32mtry\u001b[0m\u001b[0;34m:\u001b[0m\u001b[0;34m\u001b[0m\u001b[0;34m\u001b[0m\u001b[0m\n\u001b[1;32m    444\u001b[0m       \u001b[0;32mif\u001b[0m \u001b[0mkwargs\u001b[0m \u001b[0;32mis\u001b[0m \u001b[0;32mnot\u001b[0m \u001b[0;32mNone\u001b[0m\u001b[0;34m:\u001b[0m\u001b[0;34m\u001b[0m\u001b[0;34m\u001b[0m\u001b[0m\n\u001b[0;32m--> 445\u001b[0;31m         \u001b[0mresult\u001b[0m \u001b[0;34m=\u001b[0m \u001b[0mconverted_f\u001b[0m\u001b[0;34m(\u001b[0m\u001b[0;34m*\u001b[0m\u001b[0meffective_args\u001b[0m\u001b[0;34m,\u001b[0m \u001b[0;34m**\u001b[0m\u001b[0mkwargs\u001b[0m\u001b[0;34m)\u001b[0m\u001b[0;34m\u001b[0m\u001b[0;34m\u001b[0m\u001b[0m\n\u001b[0m\u001b[1;32m    446\u001b[0m       \u001b[0;32melse\u001b[0m\u001b[0;34m:\u001b[0m\u001b[0;34m\u001b[0m\u001b[0;34m\u001b[0m\u001b[0m\n\u001b[1;32m    447\u001b[0m         \u001b[0mresult\u001b[0m \u001b[0;34m=\u001b[0m \u001b[0mconverted_f\u001b[0m\u001b[0;34m(\u001b[0m\u001b[0;34m*\u001b[0m\u001b[0meffective_args\u001b[0m\u001b[0;34m)\u001b[0m\u001b[0;34m\u001b[0m\u001b[0;34m\u001b[0m\u001b[0m\n",
      "\u001b[0;32m/opt/anaconda3/lib/python3.8/site-packages/tensorflow/python/saved_model/signature_serialization.py\u001b[0m in \u001b[0;36mtf__signature_wrapper\u001b[0;34m(**kwargs)\u001b[0m\n\u001b[1;32m     11\u001b[0m                 \u001b[0mdo_return\u001b[0m \u001b[0;34m=\u001b[0m \u001b[0;32mFalse\u001b[0m\u001b[0;34m\u001b[0m\u001b[0;34m\u001b[0m\u001b[0m\n\u001b[1;32m     12\u001b[0m                 \u001b[0mretval_\u001b[0m \u001b[0;34m=\u001b[0m \u001b[0mag__\u001b[0m\u001b[0;34m.\u001b[0m\u001b[0mUndefinedReturnValue\u001b[0m\u001b[0;34m(\u001b[0m\u001b[0;34m)\u001b[0m\u001b[0;34m\u001b[0m\u001b[0;34m\u001b[0m\u001b[0m\n\u001b[0;32m---> 13\u001b[0;31m                 \u001b[0mstructured_outputs\u001b[0m \u001b[0;34m=\u001b[0m \u001b[0mag__\u001b[0m\u001b[0;34m.\u001b[0m\u001b[0mconverted_call\u001b[0m\u001b[0;34m(\u001b[0m\u001b[0mag__\u001b[0m\u001b[0;34m.\u001b[0m\u001b[0mld\u001b[0m\u001b[0;34m(\u001b[0m\u001b[0msignature_function\u001b[0m\u001b[0;34m)\u001b[0m\u001b[0;34m,\u001b[0m \u001b[0;34m(\u001b[0m\u001b[0;34m)\u001b[0m\u001b[0;34m,\u001b[0m \u001b[0mdict\u001b[0m\u001b[0;34m(\u001b[0m\u001b[0;34m**\u001b[0m\u001b[0mag__\u001b[0m\u001b[0;34m.\u001b[0m\u001b[0mld\u001b[0m\u001b[0;34m(\u001b[0m\u001b[0mkwargs\u001b[0m\u001b[0;34m)\u001b[0m\u001b[0;34m)\u001b[0m\u001b[0;34m,\u001b[0m \u001b[0mfscope\u001b[0m\u001b[0;34m)\u001b[0m\u001b[0;34m\u001b[0m\u001b[0;34m\u001b[0m\u001b[0m\n\u001b[0m\u001b[1;32m     14\u001b[0m                 \u001b[0;32mtry\u001b[0m\u001b[0;34m:\u001b[0m\u001b[0;34m\u001b[0m\u001b[0;34m\u001b[0m\u001b[0m\n\u001b[1;32m     15\u001b[0m                     \u001b[0mdo_return\u001b[0m \u001b[0;34m=\u001b[0m \u001b[0;32mTrue\u001b[0m\u001b[0;34m\u001b[0m\u001b[0;34m\u001b[0m\u001b[0m\n",
      "\u001b[0;32m/opt/anaconda3/lib/python3.8/site-packages/tensorflow/python/autograph/impl/api.py\u001b[0m in \u001b[0;36mconverted_call\u001b[0;34m(f, args, kwargs, caller_fn_scope, options)\u001b[0m\n\u001b[1;32m    381\u001b[0m \u001b[0;34m\u001b[0m\u001b[0m\n\u001b[1;32m    382\u001b[0m   \u001b[0;32mif\u001b[0m \u001b[0;32mnot\u001b[0m \u001b[0moptions\u001b[0m\u001b[0;34m.\u001b[0m\u001b[0muser_requested\u001b[0m \u001b[0;32mand\u001b[0m \u001b[0mconversion\u001b[0m\u001b[0;34m.\u001b[0m\u001b[0mis_allowlisted\u001b[0m\u001b[0;34m(\u001b[0m\u001b[0mf\u001b[0m\u001b[0;34m)\u001b[0m\u001b[0;34m:\u001b[0m\u001b[0;34m\u001b[0m\u001b[0;34m\u001b[0m\u001b[0m\n\u001b[0;32m--> 383\u001b[0;31m     \u001b[0;32mreturn\u001b[0m \u001b[0m_call_unconverted\u001b[0m\u001b[0;34m(\u001b[0m\u001b[0mf\u001b[0m\u001b[0;34m,\u001b[0m \u001b[0margs\u001b[0m\u001b[0;34m,\u001b[0m \u001b[0mkwargs\u001b[0m\u001b[0;34m,\u001b[0m \u001b[0moptions\u001b[0m\u001b[0;34m)\u001b[0m\u001b[0;34m\u001b[0m\u001b[0;34m\u001b[0m\u001b[0m\n\u001b[0m\u001b[1;32m    384\u001b[0m \u001b[0;34m\u001b[0m\u001b[0m\n\u001b[1;32m    385\u001b[0m   \u001b[0;31m# internal_convert_user_code is for example turned off when issuing a dynamic\u001b[0m\u001b[0;34m\u001b[0m\u001b[0;34m\u001b[0m\u001b[0;34m\u001b[0m\u001b[0m\n",
      "\u001b[0;32m/opt/anaconda3/lib/python3.8/site-packages/tensorflow/python/autograph/impl/api.py\u001b[0m in \u001b[0;36m_call_unconverted\u001b[0;34m(f, args, kwargs, options, update_cache)\u001b[0m\n\u001b[1;32m    462\u001b[0m \u001b[0;34m\u001b[0m\u001b[0m\n\u001b[1;32m    463\u001b[0m   \u001b[0;32mif\u001b[0m \u001b[0mkwargs\u001b[0m \u001b[0;32mis\u001b[0m \u001b[0;32mnot\u001b[0m \u001b[0;32mNone\u001b[0m\u001b[0;34m:\u001b[0m\u001b[0;34m\u001b[0m\u001b[0;34m\u001b[0m\u001b[0m\n\u001b[0;32m--> 464\u001b[0;31m     \u001b[0;32mreturn\u001b[0m \u001b[0mf\u001b[0m\u001b[0;34m(\u001b[0m\u001b[0;34m*\u001b[0m\u001b[0margs\u001b[0m\u001b[0;34m,\u001b[0m \u001b[0;34m**\u001b[0m\u001b[0mkwargs\u001b[0m\u001b[0;34m)\u001b[0m\u001b[0;34m\u001b[0m\u001b[0;34m\u001b[0m\u001b[0m\n\u001b[0m\u001b[1;32m    465\u001b[0m   \u001b[0;32mreturn\u001b[0m \u001b[0mf\u001b[0m\u001b[0;34m(\u001b[0m\u001b[0;34m*\u001b[0m\u001b[0margs\u001b[0m\u001b[0;34m)\u001b[0m\u001b[0;34m\u001b[0m\u001b[0;34m\u001b[0m\u001b[0m\n\u001b[1;32m    466\u001b[0m \u001b[0;34m\u001b[0m\u001b[0m\n",
      "\u001b[0;32m/opt/anaconda3/lib/python3.8/site-packages/tensorflow/python/eager/function.py\u001b[0m in \u001b[0;36m__call__\u001b[0;34m(self, *args, **kwargs)\u001b[0m\n\u001b[1;32m   1705\u001b[0m       \u001b[0mTypeError\u001b[0m\u001b[0;34m:\u001b[0m \u001b[0mIf\u001b[0m \u001b[0mthe\u001b[0m \u001b[0marguments\u001b[0m \u001b[0mdo\u001b[0m \u001b[0;32mnot\u001b[0m \u001b[0mmatch\u001b[0m \u001b[0mthe\u001b[0m \u001b[0mfunction\u001b[0m\u001b[0;31m'\u001b[0m\u001b[0ms\u001b[0m \u001b[0msignature\u001b[0m\u001b[0;34m.\u001b[0m\u001b[0;34m\u001b[0m\u001b[0;34m\u001b[0m\u001b[0m\n\u001b[1;32m   1706\u001b[0m     \"\"\"\n\u001b[0;32m-> 1707\u001b[0;31m     \u001b[0;32mreturn\u001b[0m \u001b[0mself\u001b[0m\u001b[0;34m.\u001b[0m\u001b[0m_call_impl\u001b[0m\u001b[0;34m(\u001b[0m\u001b[0margs\u001b[0m\u001b[0;34m,\u001b[0m \u001b[0mkwargs\u001b[0m\u001b[0;34m)\u001b[0m\u001b[0;34m\u001b[0m\u001b[0;34m\u001b[0m\u001b[0m\n\u001b[0m\u001b[1;32m   1708\u001b[0m \u001b[0;34m\u001b[0m\u001b[0m\n\u001b[1;32m   1709\u001b[0m   \u001b[0;32mdef\u001b[0m \u001b[0m_call_impl\u001b[0m\u001b[0;34m(\u001b[0m\u001b[0mself\u001b[0m\u001b[0;34m,\u001b[0m \u001b[0margs\u001b[0m\u001b[0;34m,\u001b[0m \u001b[0mkwargs\u001b[0m\u001b[0;34m,\u001b[0m \u001b[0mcancellation_manager\u001b[0m\u001b[0;34m=\u001b[0m\u001b[0;32mNone\u001b[0m\u001b[0;34m)\u001b[0m\u001b[0;34m:\u001b[0m\u001b[0;34m\u001b[0m\u001b[0;34m\u001b[0m\u001b[0m\n",
      "\u001b[0;32m/opt/anaconda3/lib/python3.8/site-packages/tensorflow/python/eager/function.py\u001b[0m in \u001b[0;36m_call_impl\u001b[0;34m(self, args, kwargs, cancellation_manager)\u001b[0m\n\u001b[1;32m   1718\u001b[0m         \u001b[0;32mexcept\u001b[0m \u001b[0mTypeError\u001b[0m \u001b[0;32mas\u001b[0m \u001b[0mstructured_err\u001b[0m\u001b[0;34m:\u001b[0m\u001b[0;34m\u001b[0m\u001b[0;34m\u001b[0m\u001b[0m\n\u001b[1;32m   1719\u001b[0m           \u001b[0;32mtry\u001b[0m\u001b[0;34m:\u001b[0m\u001b[0;34m\u001b[0m\u001b[0;34m\u001b[0m\u001b[0m\n\u001b[0;32m-> 1720\u001b[0;31m             return self._call_with_flat_signature(args, kwargs,\n\u001b[0m\u001b[1;32m   1721\u001b[0m                                                   cancellation_manager)\n\u001b[1;32m   1722\u001b[0m           \u001b[0;32mexcept\u001b[0m \u001b[0mTypeError\u001b[0m\u001b[0;34m:\u001b[0m\u001b[0;34m\u001b[0m\u001b[0;34m\u001b[0m\u001b[0m\n",
      "\u001b[0;32m/opt/anaconda3/lib/python3.8/site-packages/tensorflow/python/eager/function.py\u001b[0m in \u001b[0;36m_call_with_flat_signature\u001b[0;34m(self, args, kwargs, cancellation_manager)\u001b[0m\n\u001b[1;32m   1772\u001b[0m                         \u001b[0;34mf\"#{i}(zero-based) to be a Tensor; \"\u001b[0m\u001b[0;34m\u001b[0m\u001b[0;34m\u001b[0m\u001b[0m\n\u001b[1;32m   1773\u001b[0m                         f\"got {type(arg).__name__} ({arg}).\")\n\u001b[0;32m-> 1774\u001b[0;31m     \u001b[0;32mreturn\u001b[0m \u001b[0mself\u001b[0m\u001b[0;34m.\u001b[0m\u001b[0m_call_flat\u001b[0m\u001b[0;34m(\u001b[0m\u001b[0margs\u001b[0m\u001b[0;34m,\u001b[0m \u001b[0mself\u001b[0m\u001b[0;34m.\u001b[0m\u001b[0mcaptured_inputs\u001b[0m\u001b[0;34m,\u001b[0m \u001b[0mcancellation_manager\u001b[0m\u001b[0;34m)\u001b[0m\u001b[0;34m\u001b[0m\u001b[0;34m\u001b[0m\u001b[0m\n\u001b[0m\u001b[1;32m   1775\u001b[0m \u001b[0;34m\u001b[0m\u001b[0m\n\u001b[1;32m   1776\u001b[0m   \u001b[0;32mdef\u001b[0m \u001b[0m_call_with_structured_signature\u001b[0m\u001b[0;34m(\u001b[0m\u001b[0mself\u001b[0m\u001b[0;34m,\u001b[0m \u001b[0margs\u001b[0m\u001b[0;34m,\u001b[0m \u001b[0mkwargs\u001b[0m\u001b[0;34m,\u001b[0m \u001b[0mcancellation_manager\u001b[0m\u001b[0;34m)\u001b[0m\u001b[0;34m:\u001b[0m\u001b[0;34m\u001b[0m\u001b[0;34m\u001b[0m\u001b[0m\n",
      "\u001b[0;32m/opt/anaconda3/lib/python3.8/site-packages/tensorflow/python/eager/function.py\u001b[0m in \u001b[0;36m_call_flat\u001b[0;34m(self, args, captured_inputs, cancellation_manager)\u001b[0m\n\u001b[1;32m   1971\u001b[0m           {\"PartitionedCall\": self._get_gradient_function(),\n\u001b[1;32m   1972\u001b[0m            \"StatefulPartitionedCall\": self._get_gradient_function()}):\n\u001b[0;32m-> 1973\u001b[0;31m         \u001b[0mflat_outputs\u001b[0m \u001b[0;34m=\u001b[0m \u001b[0mforward_function\u001b[0m\u001b[0;34m.\u001b[0m\u001b[0mcall\u001b[0m\u001b[0;34m(\u001b[0m\u001b[0mctx\u001b[0m\u001b[0;34m,\u001b[0m \u001b[0margs_with_tangents\u001b[0m\u001b[0;34m)\u001b[0m\u001b[0;34m\u001b[0m\u001b[0;34m\u001b[0m\u001b[0m\n\u001b[0m\u001b[1;32m   1974\u001b[0m     \u001b[0mforward_backward\u001b[0m\u001b[0;34m.\u001b[0m\u001b[0mrecord\u001b[0m\u001b[0;34m(\u001b[0m\u001b[0mflat_outputs\u001b[0m\u001b[0;34m)\u001b[0m\u001b[0;34m\u001b[0m\u001b[0;34m\u001b[0m\u001b[0m\n\u001b[1;32m   1975\u001b[0m     \u001b[0;32mreturn\u001b[0m \u001b[0mself\u001b[0m\u001b[0;34m.\u001b[0m\u001b[0m_build_call_outputs\u001b[0m\u001b[0;34m(\u001b[0m\u001b[0mflat_outputs\u001b[0m\u001b[0;34m)\u001b[0m\u001b[0;34m\u001b[0m\u001b[0;34m\u001b[0m\u001b[0m\n",
      "\u001b[0;32m/opt/anaconda3/lib/python3.8/site-packages/tensorflow/python/eager/function.py\u001b[0m in \u001b[0;36mcall\u001b[0;34m(self, ctx, args, cancellation_manager)\u001b[0m\n\u001b[1;32m    624\u001b[0m           \u001b[0;31m# forwardprop code (GradientTape manages to ignore it).\u001b[0m\u001b[0;34m\u001b[0m\u001b[0;34m\u001b[0m\u001b[0;34m\u001b[0m\u001b[0m\n\u001b[1;32m    625\u001b[0m           \u001b[0;32mwith\u001b[0m \u001b[0mtape\u001b[0m\u001b[0;34m.\u001b[0m\u001b[0mstop_recording\u001b[0m\u001b[0;34m(\u001b[0m\u001b[0;34m)\u001b[0m\u001b[0;34m:\u001b[0m\u001b[0;34m\u001b[0m\u001b[0;34m\u001b[0m\u001b[0m\n\u001b[0;32m--> 626\u001b[0;31m             outputs = functional_ops.partitioned_call(\n\u001b[0m\u001b[1;32m    627\u001b[0m                 \u001b[0margs\u001b[0m\u001b[0;34m=\u001b[0m\u001b[0margs\u001b[0m\u001b[0;34m,\u001b[0m\u001b[0;34m\u001b[0m\u001b[0;34m\u001b[0m\u001b[0m\n\u001b[1;32m    628\u001b[0m                 \u001b[0mf\u001b[0m\u001b[0;34m=\u001b[0m\u001b[0mself\u001b[0m\u001b[0;34m,\u001b[0m\u001b[0;34m\u001b[0m\u001b[0;34m\u001b[0m\u001b[0m\n",
      "\u001b[0;32m/opt/anaconda3/lib/python3.8/site-packages/tensorflow/python/ops/functional_ops.py\u001b[0m in \u001b[0;36mpartitioned_call\u001b[0;34m(args, f, tout, executing_eagerly, config, executor_type)\u001b[0m\n\u001b[1;32m   1192\u001b[0m   \u001b[0;31m# The generated binding returns an empty list for functions that don't\u001b[0m\u001b[0;34m\u001b[0m\u001b[0;34m\u001b[0m\u001b[0;34m\u001b[0m\u001b[0m\n\u001b[1;32m   1193\u001b[0m   \u001b[0;31m# return any Tensors, hence the need to use `create_op` directly.\u001b[0m\u001b[0;34m\u001b[0m\u001b[0;34m\u001b[0m\u001b[0;34m\u001b[0m\u001b[0m\n\u001b[0;32m-> 1194\u001b[0;31m   \u001b[0margs\u001b[0m \u001b[0;34m=\u001b[0m \u001b[0;34m[\u001b[0m\u001b[0mops\u001b[0m\u001b[0;34m.\u001b[0m\u001b[0mconvert_to_tensor\u001b[0m\u001b[0;34m(\u001b[0m\u001b[0mx\u001b[0m\u001b[0;34m)\u001b[0m \u001b[0;32mfor\u001b[0m \u001b[0mx\u001b[0m \u001b[0;32min\u001b[0m \u001b[0margs\u001b[0m\u001b[0;34m]\u001b[0m\u001b[0;34m\u001b[0m\u001b[0;34m\u001b[0m\u001b[0m\n\u001b[0m\u001b[1;32m   1195\u001b[0m   tin_attr = attr_value_pb2.AttrValue(\n\u001b[1;32m   1196\u001b[0m       list=attr_value_pb2.AttrValue.ListValue(\n",
      "\u001b[0;32m/opt/anaconda3/lib/python3.8/site-packages/tensorflow/python/ops/functional_ops.py\u001b[0m in \u001b[0;36m<listcomp>\u001b[0;34m(.0)\u001b[0m\n\u001b[1;32m   1192\u001b[0m   \u001b[0;31m# The generated binding returns an empty list for functions that don't\u001b[0m\u001b[0;34m\u001b[0m\u001b[0;34m\u001b[0m\u001b[0;34m\u001b[0m\u001b[0m\n\u001b[1;32m   1193\u001b[0m   \u001b[0;31m# return any Tensors, hence the need to use `create_op` directly.\u001b[0m\u001b[0;34m\u001b[0m\u001b[0;34m\u001b[0m\u001b[0;34m\u001b[0m\u001b[0m\n\u001b[0;32m-> 1194\u001b[0;31m   \u001b[0margs\u001b[0m \u001b[0;34m=\u001b[0m \u001b[0;34m[\u001b[0m\u001b[0mops\u001b[0m\u001b[0;34m.\u001b[0m\u001b[0mconvert_to_tensor\u001b[0m\u001b[0;34m(\u001b[0m\u001b[0mx\u001b[0m\u001b[0;34m)\u001b[0m \u001b[0;32mfor\u001b[0m \u001b[0mx\u001b[0m \u001b[0;32min\u001b[0m \u001b[0margs\u001b[0m\u001b[0;34m]\u001b[0m\u001b[0;34m\u001b[0m\u001b[0;34m\u001b[0m\u001b[0m\n\u001b[0m\u001b[1;32m   1195\u001b[0m   tin_attr = attr_value_pb2.AttrValue(\n\u001b[1;32m   1196\u001b[0m       list=attr_value_pb2.AttrValue.ListValue(\n",
      "\u001b[0;32m/opt/anaconda3/lib/python3.8/site-packages/tensorflow/python/profiler/trace.py\u001b[0m in \u001b[0;36mwrapped\u001b[0;34m(*args, **kwargs)\u001b[0m\n\u001b[1;32m    161\u001b[0m         \u001b[0;32mwith\u001b[0m \u001b[0mTrace\u001b[0m\u001b[0;34m(\u001b[0m\u001b[0mtrace_name\u001b[0m\u001b[0;34m,\u001b[0m \u001b[0;34m**\u001b[0m\u001b[0mtrace_kwargs\u001b[0m\u001b[0;34m)\u001b[0m\u001b[0;34m:\u001b[0m\u001b[0;34m\u001b[0m\u001b[0;34m\u001b[0m\u001b[0m\n\u001b[1;32m    162\u001b[0m           \u001b[0;32mreturn\u001b[0m \u001b[0mfunc\u001b[0m\u001b[0;34m(\u001b[0m\u001b[0;34m*\u001b[0m\u001b[0margs\u001b[0m\u001b[0;34m,\u001b[0m \u001b[0;34m**\u001b[0m\u001b[0mkwargs\u001b[0m\u001b[0;34m)\u001b[0m\u001b[0;34m\u001b[0m\u001b[0;34m\u001b[0m\u001b[0m\n\u001b[0;32m--> 163\u001b[0;31m       \u001b[0;32mreturn\u001b[0m \u001b[0mfunc\u001b[0m\u001b[0;34m(\u001b[0m\u001b[0;34m*\u001b[0m\u001b[0margs\u001b[0m\u001b[0;34m,\u001b[0m \u001b[0;34m**\u001b[0m\u001b[0mkwargs\u001b[0m\u001b[0;34m)\u001b[0m\u001b[0;34m\u001b[0m\u001b[0;34m\u001b[0m\u001b[0m\n\u001b[0m\u001b[1;32m    164\u001b[0m \u001b[0;34m\u001b[0m\u001b[0m\n\u001b[1;32m    165\u001b[0m     \u001b[0;32mreturn\u001b[0m \u001b[0mwrapped\u001b[0m\u001b[0;34m\u001b[0m\u001b[0;34m\u001b[0m\u001b[0m\n",
      "\u001b[0;32m/opt/anaconda3/lib/python3.8/site-packages/tensorflow/python/framework/ops.py\u001b[0m in \u001b[0;36mconvert_to_tensor\u001b[0;34m(value, dtype, name, as_ref, preferred_dtype, dtype_hint, ctx, accepted_result_types)\u001b[0m\n\u001b[1;32m   1580\u001b[0m         raise RuntimeError(\"Attempting to capture an EagerTensor without \"\n\u001b[1;32m   1581\u001b[0m                            \"building a function.\")\n\u001b[0;32m-> 1582\u001b[0;31m       \u001b[0;32mreturn\u001b[0m \u001b[0mgraph\u001b[0m\u001b[0;34m.\u001b[0m\u001b[0mcapture\u001b[0m\u001b[0;34m(\u001b[0m\u001b[0mvalue\u001b[0m\u001b[0;34m,\u001b[0m \u001b[0mname\u001b[0m\u001b[0;34m=\u001b[0m\u001b[0mname\u001b[0m\u001b[0;34m)\u001b[0m\u001b[0;34m\u001b[0m\u001b[0;34m\u001b[0m\u001b[0m\n\u001b[0m\u001b[1;32m   1583\u001b[0m \u001b[0;34m\u001b[0m\u001b[0m\n\u001b[1;32m   1584\u001b[0m   \u001b[0;32mif\u001b[0m \u001b[0mdtype\u001b[0m \u001b[0;32mis\u001b[0m \u001b[0;32mnot\u001b[0m \u001b[0;32mNone\u001b[0m\u001b[0;34m:\u001b[0m\u001b[0;34m\u001b[0m\u001b[0;34m\u001b[0m\u001b[0m\n",
      "\u001b[0;32m/opt/anaconda3/lib/python3.8/site-packages/tensorflow/python/framework/func_graph.py\u001b[0m in \u001b[0;36mcapture\u001b[0;34m(self, tensor, name, shape)\u001b[0m\n\u001b[1;32m    723\u001b[0m \u001b[0;34m\u001b[0m\u001b[0m\n\u001b[1;32m    724\u001b[0m       \u001b[0;31m# Large EagerTensors and resources are captured with Placeholder ops\u001b[0m\u001b[0;34m\u001b[0m\u001b[0;34m\u001b[0m\u001b[0;34m\u001b[0m\u001b[0m\n\u001b[0;32m--> 725\u001b[0;31m       \u001b[0;32mreturn\u001b[0m \u001b[0mself\u001b[0m\u001b[0;34m.\u001b[0m\u001b[0m_capture_helper\u001b[0m\u001b[0;34m(\u001b[0m\u001b[0mtensor\u001b[0m\u001b[0;34m,\u001b[0m \u001b[0mname\u001b[0m\u001b[0;34m,\u001b[0m \u001b[0mshape\u001b[0m\u001b[0;34m)\u001b[0m\u001b[0;34m\u001b[0m\u001b[0;34m\u001b[0m\u001b[0m\n\u001b[0m\u001b[1;32m    726\u001b[0m     \u001b[0;32mif\u001b[0m \u001b[0mtensor\u001b[0m\u001b[0;34m.\u001b[0m\u001b[0mgraph\u001b[0m \u001b[0;32mis\u001b[0m \u001b[0;32mnot\u001b[0m \u001b[0mself\u001b[0m\u001b[0;34m:\u001b[0m\u001b[0;34m\u001b[0m\u001b[0;34m\u001b[0m\u001b[0m\n\u001b[1;32m    727\u001b[0m       \u001b[0;32mif\u001b[0m \u001b[0mname\u001b[0m \u001b[0;32mis\u001b[0m \u001b[0;32mNone\u001b[0m\u001b[0;34m:\u001b[0m\u001b[0;34m\u001b[0m\u001b[0;34m\u001b[0m\u001b[0m\n",
      "\u001b[0;32m/opt/anaconda3/lib/python3.8/site-packages/tensorflow/python/framework/func_graph.py\u001b[0m in \u001b[0;36m_capture_helper\u001b[0;34m(self, tensor, name, shape)\u001b[0m\n\u001b[1;32m    745\u001b[0m     \u001b[0mcapture\u001b[0m \u001b[0;34m=\u001b[0m \u001b[0mself\u001b[0m\u001b[0;34m.\u001b[0m\u001b[0m_captures\u001b[0m\u001b[0;34m.\u001b[0m\u001b[0mget\u001b[0m\u001b[0;34m(\u001b[0m\u001b[0mid\u001b[0m\u001b[0;34m(\u001b[0m\u001b[0mtensor\u001b[0m\u001b[0;34m)\u001b[0m\u001b[0;34m)\u001b[0m\u001b[0;34m\u001b[0m\u001b[0;34m\u001b[0m\u001b[0m\n\u001b[1;32m    746\u001b[0m     \u001b[0;32mif\u001b[0m \u001b[0mcapture\u001b[0m \u001b[0;32mis\u001b[0m \u001b[0;32mNone\u001b[0m\u001b[0;34m:\u001b[0m\u001b[0;34m\u001b[0m\u001b[0;34m\u001b[0m\u001b[0m\n\u001b[0;32m--> 747\u001b[0;31m       placeholder = _create_substitute_placeholder(\n\u001b[0m\u001b[1;32m    748\u001b[0m           tensor, name=name, dtype=tensor.dtype, shape=shape)\n\u001b[1;32m    749\u001b[0m       \u001b[0;31m# Record the composite device as an attribute to the placeholder.\u001b[0m\u001b[0;34m\u001b[0m\u001b[0;34m\u001b[0m\u001b[0;34m\u001b[0m\u001b[0m\n",
      "\u001b[0;32m/opt/anaconda3/lib/python3.8/site-packages/tensorflow/python/framework/func_graph.py\u001b[0m in \u001b[0;36m_create_substitute_placeholder\u001b[0;34m(value, name, dtype, shape)\u001b[0m\n\u001b[1;32m   1285\u001b[0m     \u001b[0mshape\u001b[0m \u001b[0;34m=\u001b[0m \u001b[0mvalue\u001b[0m\u001b[0;34m.\u001b[0m\u001b[0mshape\u001b[0m\u001b[0;34m\u001b[0m\u001b[0;34m\u001b[0m\u001b[0m\n\u001b[1;32m   1286\u001b[0m   \u001b[0;32mwith\u001b[0m \u001b[0mops\u001b[0m\u001b[0;34m.\u001b[0m\u001b[0mcontrol_dependencies\u001b[0m\u001b[0;34m(\u001b[0m\u001b[0;32mNone\u001b[0m\u001b[0;34m)\u001b[0m\u001b[0;34m:\u001b[0m\u001b[0;34m\u001b[0m\u001b[0;34m\u001b[0m\u001b[0m\n\u001b[0;32m-> 1287\u001b[0;31m     placeholder = graph_placeholder(\n\u001b[0m\u001b[1;32m   1288\u001b[0m         dtype=dtype or value.dtype, shape=shape, name=name)\n\u001b[1;32m   1289\u001b[0m   \u001b[0mhandle_data_util\u001b[0m\u001b[0;34m.\u001b[0m\u001b[0mcopy_handle_data\u001b[0m\u001b[0;34m(\u001b[0m\u001b[0mvalue\u001b[0m\u001b[0;34m,\u001b[0m \u001b[0mplaceholder\u001b[0m\u001b[0;34m)\u001b[0m\u001b[0;34m\u001b[0m\u001b[0;34m\u001b[0m\u001b[0m\n",
      "\u001b[0;32m/opt/anaconda3/lib/python3.8/site-packages/tensorflow/python/eager/graph_only_ops.py\u001b[0m in \u001b[0;36mgraph_placeholder\u001b[0;34m(dtype, shape, name)\u001b[0m\n\u001b[1;32m     33\u001b[0m   \u001b[0;32mif\u001b[0m \u001b[0misinstance\u001b[0m\u001b[0;34m(\u001b[0m\u001b[0mshape\u001b[0m\u001b[0;34m,\u001b[0m \u001b[0;34m(\u001b[0m\u001b[0mlist\u001b[0m\u001b[0;34m,\u001b[0m \u001b[0mtuple\u001b[0m\u001b[0;34m)\u001b[0m\u001b[0;34m)\u001b[0m\u001b[0;34m:\u001b[0m\u001b[0;34m\u001b[0m\u001b[0;34m\u001b[0m\u001b[0m\n\u001b[1;32m     34\u001b[0m     \u001b[0mshape\u001b[0m \u001b[0;34m=\u001b[0m \u001b[0mtensor_shape\u001b[0m\u001b[0;34m.\u001b[0m\u001b[0mTensorShape\u001b[0m\u001b[0;34m(\u001b[0m\u001b[0mshape\u001b[0m\u001b[0;34m)\u001b[0m\u001b[0;34m\u001b[0m\u001b[0;34m\u001b[0m\u001b[0m\n\u001b[0;32m---> 35\u001b[0;31m   \u001b[0mshape\u001b[0m \u001b[0;34m=\u001b[0m \u001b[0mattr_value_pb2\u001b[0m\u001b[0;34m.\u001b[0m\u001b[0mAttrValue\u001b[0m\u001b[0;34m(\u001b[0m\u001b[0mshape\u001b[0m\u001b[0;34m=\u001b[0m\u001b[0mshape\u001b[0m\u001b[0;34m.\u001b[0m\u001b[0mas_proto\u001b[0m\u001b[0;34m(\u001b[0m\u001b[0;34m)\u001b[0m\u001b[0;34m)\u001b[0m\u001b[0;34m\u001b[0m\u001b[0;34m\u001b[0m\u001b[0m\n\u001b[0m\u001b[1;32m     36\u001b[0m   \u001b[0mg\u001b[0m \u001b[0;34m=\u001b[0m \u001b[0mops\u001b[0m\u001b[0;34m.\u001b[0m\u001b[0mget_default_graph\u001b[0m\u001b[0;34m(\u001b[0m\u001b[0;34m)\u001b[0m\u001b[0;34m\u001b[0m\u001b[0;34m\u001b[0m\u001b[0m\n\u001b[1;32m     37\u001b[0m   \u001b[0mattrs\u001b[0m \u001b[0;34m=\u001b[0m \u001b[0;34m{\u001b[0m\u001b[0;34m\"dtype\"\u001b[0m\u001b[0;34m:\u001b[0m \u001b[0mdtype_value\u001b[0m\u001b[0;34m,\u001b[0m \u001b[0;34m\"shape\"\u001b[0m\u001b[0;34m:\u001b[0m \u001b[0mshape\u001b[0m\u001b[0;34m}\u001b[0m\u001b[0;34m\u001b[0m\u001b[0;34m\u001b[0m\u001b[0m\n",
      "\u001b[0;32m/opt/anaconda3/lib/python3.8/site-packages/tensorflow/python/framework/tensor_shape.py\u001b[0m in \u001b[0;36mas_proto\u001b[0;34m(self)\u001b[0m\n\u001b[1;32m   1233\u001b[0m       \u001b[0;32mreturn\u001b[0m \u001b[0mtensor_shape_pb2\u001b[0m\u001b[0;34m.\u001b[0m\u001b[0mTensorShapeProto\u001b[0m\u001b[0;34m(\u001b[0m\u001b[0munknown_rank\u001b[0m\u001b[0;34m=\u001b[0m\u001b[0;32mTrue\u001b[0m\u001b[0;34m)\u001b[0m\u001b[0;34m\u001b[0m\u001b[0;34m\u001b[0m\u001b[0m\n\u001b[1;32m   1234\u001b[0m     \u001b[0;32melse\u001b[0m\u001b[0;34m:\u001b[0m\u001b[0;34m\u001b[0m\u001b[0;34m\u001b[0m\u001b[0m\n\u001b[0;32m-> 1235\u001b[0;31m       return tensor_shape_pb2.TensorShapeProto(dim=[\n\u001b[0m\u001b[1;32m   1236\u001b[0m           tensor_shape_pb2.TensorShapeProto.Dim(\n\u001b[1;32m   1237\u001b[0m               size=-1 if d.value is None else d.value) for d in self._dims\n",
      "\u001b[0;31mKeyboardInterrupt\u001b[0m: "
     ]
    }
   ],
   "source": [
    "howManyFutureHours = 24\n",
    "window_size = 3\n",
    "numEpochs = 20\n",
    "iters = 5\n",
    "columnsForDf = ['HLY_TEMP_NORMAL_SD', 'HLY_TEMP_10PCTL_SD',\n",
    "       'HLY_TEMP_90PCTL_SD', 'HLY_DEWP_NORMAL_SD', 'HLY_DEWP_10PCTL_SD',\n",
    "       'HLY_DEWP_90PCTL_SD', 'HLY_PRES_NORMAL_SD', 'HLY_PRES_10PCTL_SD',\n",
    "       'HLY_PRES_90PCTL_SD', 'HLY_CLDH_NORMAL_SD', 'HLY_HTDH_NORMAL_SD',\n",
    "       'HLY_CLOD_PCTCLR_SD', 'HLY_CLOD_PCTFEW_SD', 'HLY_CLOD_PCTSCT_SD',\n",
    "       'HLY_CLOD_PCTBKN_SD', 'HLY_CLOD_PCTOVC_SD', 'HLY_HIDX_NORMAL_SD',\n",
    "       'HLY_WCHL_NORMAL_SD', 'HLY_WIND_AVGSPD_SD', 'HLY_WIND_PCTCLM_SD',\n",
    "       'HLY_WIND_VCTDIR_SD', 'HLY_WIND_VCTSPD_SD', 'HLY_WIND_1STDIR_SD',\n",
    "       'HLY_WIND_1STPCT_SD', 'HLY_WIND_2NDDIR_SD', 'HLY_WIND_2NDPCT_SD',\n",
    "        'Day sin', 'Day cos', 'Year sin', 'Year cos','Megawatts_2019']\n",
    "columns = ['HLY_TEMP_NORMAL_SD', 'HLY_TEMP_10PCTL_SD',\n",
    "       'HLY_TEMP_90PCTL_SD', 'HLY_DEWP_NORMAL_SD', 'HLY_DEWP_10PCTL_SD',\n",
    "       'HLY_DEWP_90PCTL_SD', 'HLY_PRES_NORMAL_SD', 'HLY_PRES_10PCTL_SD',\n",
    "       'HLY_PRES_90PCTL_SD', 'HLY_CLDH_NORMAL_SD', 'HLY_HTDH_NORMAL_SD',\n",
    "       'HLY_CLOD_PCTCLR_SD', 'HLY_CLOD_PCTFEW_SD', 'HLY_CLOD_PCTSCT_SD',\n",
    "       'HLY_CLOD_PCTBKN_SD', 'HLY_CLOD_PCTOVC_SD', 'HLY_HIDX_NORMAL_SD',\n",
    "       'HLY_WCHL_NORMAL_SD', 'HLY_WIND_AVGSPD_SD', 'HLY_WIND_PCTCLM_SD',\n",
    "       'HLY_WIND_VCTDIR_SD', 'HLY_WIND_VCTSPD_SD', 'HLY_WIND_1STDIR_SD',\n",
    "       'HLY_WIND_1STPCT_SD', 'HLY_WIND_2NDDIR_SD', 'HLY_WIND_2NDPCT_SD']\n",
    "\n",
    "bestPerformingModel(howManyFutureHours, window_size, numEpochs, iters, columnsForDf, columns)"
   ]
  },
  {
   "cell_type": "code",
   "execution_count": 29,
   "id": "8758dfb7",
   "metadata": {},
   "outputs": [
    {
     "name": "stdout",
     "output_type": "stream",
     "text": [
      "SAC-NOAA-and-Megawatts.csv\n",
      "SD-NOAA-and-Megawatts.csv\n",
      "SF-NOAA-and-Megawatts.csv\n",
      "LA-NOAA-and-Megawatts.csv\n",
      "fileRead:  /Users/yukahatori/A_Fairness/FairnessML_git/NOAA_and_CAISO_Data_ONEYEAR/SD-NOAA-and-Megawatts.csv\n"
     ]
    }
   ],
   "source": [
    "directory = '/Users/yukahatori/A_Fairness/FairnessML_git/NOAA_and_CAISO_Data_ONEYEAR/'\n",
    "dataFiles = [f for f in listdir(directory) if isfile(join(directory, f))] \n",
    "for file in dataFiles:\n",
    "    print(file)\n",
    "    df = pd.read_csv(directory + file)\n",
    "\n",
    "#for now, I will only use SF data \n",
    "location = '_SD'\n",
    "fileRead = directory + dataFiles[1]\n",
    "print('fileRead: ', fileRead)\n",
    "df = pd.read_csv(fileRead)"
   ]
  },
  {
   "cell_type": "code",
   "execution_count": 32,
   "id": "ea8c40ac",
   "metadata": {},
   "outputs": [
    {
     "data": {
      "text/plain": [
       "Index(['date', 'HLY_TEMP_NORMAL_SD', 'HLY_TEMP_10PCTL_SD',\n",
       "       'HLY_TEMP_90PCTL_SD', 'HLY_DEWP_NORMAL_SD', 'HLY_DEWP_10PCTL_SD',\n",
       "       'HLY_DEWP_90PCTL_SD', 'HLY_PRES_NORMAL_SD', 'HLY_PRES_10PCTL_SD',\n",
       "       'HLY_PRES_90PCTL_SD', 'HLY_CLDH_NORMAL_SD', 'HLY_HTDH_NORMAL_SD',\n",
       "       'HLY_CLOD_PCTCLR_SD', 'HLY_CLOD_PCTFEW_SD', 'HLY_CLOD_PCTSCT_SD',\n",
       "       'HLY_CLOD_PCTBKN_SD', 'HLY_CLOD_PCTOVC_SD', 'HLY_HIDX_NORMAL_SD',\n",
       "       'HLY_WCHL_NORMAL_SD', 'HLY_WIND_AVGSPD_SD', 'HLY_WIND_PCTCLM_SD',\n",
       "       'HLY_WIND_VCTDIR_SD', 'HLY_WIND_VCTSPD_SD', 'HLY_WIND_1STDIR_SD',\n",
       "       'HLY_WIND_1STPCT_SD', 'HLY_WIND_2NDDIR_SD', 'HLY_WIND_2NDPCT_SD',\n",
       "       'Megawatts_2019'],\n",
       "      dtype='object')"
      ]
     },
     "execution_count": 32,
     "metadata": {},
     "output_type": "execute_result"
    }
   ],
   "source": [
    "df.columns"
   ]
  },
  {
   "cell_type": "code",
   "execution_count": null,
   "id": "9ac326e1",
   "metadata": {},
   "outputs": [],
   "source": [
    "['date', 'HLY_TEMP_NORMAL_SD', 'HLY_TEMP_10PCTL_SD',\n",
    "       'HLY_TEMP_90PCTL_SD', 'HLY_DEWP_NORMAL_SD', 'HLY_DEWP_10PCTL_SD',\n",
    "       'HLY_DEWP_90PCTL_SD', 'HLY_PRES_NORMAL_SD', 'HLY_PRES_10PCTL_SD',\n",
    "       'HLY_PRES_90PCTL_SD', 'HLY_CLDH_NORMAL_SD', 'HLY_HTDH_NORMAL_SD',\n",
    "       'HLY_CLOD_PCTCLR_SD', 'HLY_CLOD_PCTFEW_SD', 'HLY_CLOD_PCTSCT_SD',\n",
    "       'HLY_CLOD_PCTBKN_SD', 'HLY_CLOD_PCTOVC_SD', 'HLY_HIDX_NORMAL_SD',\n",
    "       'HLY_WCHL_NORMAL_SD', 'HLY_WIND_AVGSPD_SD', 'HLY_WIND_PCTCLM_SD',\n",
    "       'HLY_WIND_VCTDIR_SD', 'HLY_WIND_VCTSPD_SD', 'HLY_WIND_1STDIR_SD',\n",
    "       'HLY_WIND_1STPCT_SD', 'HLY_WIND_2NDDIR_SD', 'HLY_WIND_2NDPCT_SD',\n",
    "       'Megawatts_2019']"
   ]
  }
 ],
 "metadata": {
  "kernelspec": {
   "display_name": "Python 3 (ipykernel)",
   "language": "python",
   "name": "python3"
  },
  "language_info": {
   "codemirror_mode": {
    "name": "ipython",
    "version": 3
   },
   "file_extension": ".py",
   "mimetype": "text/x-python",
   "name": "python",
   "nbconvert_exporter": "python",
   "pygments_lexer": "ipython3",
   "version": "3.8.8"
  }
 },
 "nbformat": 4,
 "nbformat_minor": 5
}

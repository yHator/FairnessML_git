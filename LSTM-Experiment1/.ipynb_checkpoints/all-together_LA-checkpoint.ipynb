{
 "cells": [
  {
   "cell_type": "markdown",
   "id": "1dff558f",
   "metadata": {},
   "source": [
    "1. Energy consumption section\n",
    "2. Weather data section\n",
    "3. Future prediction"
   ]
  },
  {
   "cell_type": "code",
   "execution_count": 1,
   "id": "189ed4b4",
   "metadata": {},
   "outputs": [],
   "source": [
    "import tensorflow \n",
    "import os\n",
    "from os import listdir\n",
    "from os.path import isfile, join\n",
    "import pandas as pd\n",
    "import numpy as np\n",
    "import matplotlib.pyplot as plt\n",
    "from tensorflow.keras.models import Sequential\n",
    "from tensorflow.keras.layers import Dense\n",
    "from tensorflow.keras.layers import LSTM\n",
    "from tensorflow.keras.layers import *\n",
    "from tensorflow.keras.callbacks import ModelCheckpoint\n",
    "from tensorflow.keras.metrics import RootMeanSquaredError\n",
    "from tensorflow.keras.metrics import MeanAbsoluteError\n",
    "from tensorflow.keras.optimizers import Adam\n",
    "from keras import callbacks\n",
    "from tensorflow.keras.losses import MeanSquaredError\n",
    "from sklearn.preprocessing import MinMaxScaler\n",
    "from sklearn.metrics import mean_squared_error\n",
    "import joblib\n",
    "from tensorflow import keras"
   ]
  },
  {
   "cell_type": "markdown",
   "id": "151a83e8",
   "metadata": {},
   "source": [
    "# Functions"
   ]
  },
  {
   "cell_type": "code",
   "execution_count": 2,
   "id": "75eb3ae5",
   "metadata": {},
   "outputs": [],
   "source": [
    "# energy consumption \n",
    "\n",
    "def scaleAllData(df):\n",
    "    allScalers = []\n",
    "    for column in df.columns:\n",
    "        df1 = df[column]\n",
    "        scaler = MinMaxScaler(feature_range=(0,1))\n",
    "        df[column] = scaler.fit_transform(np.array(df1.values.reshape(-1, 1)))\n",
    "        allScalers.append(scaler)\n",
    "    return df, allScalers"
   ]
  },
  {
   "cell_type": "code",
   "execution_count": 3,
   "id": "5bbef746",
   "metadata": {},
   "outputs": [],
   "source": [
    "#energy consumption\n",
    "def saveScalers(colNames, allScalers):\n",
    "    i = 0\n",
    "    for scaler in allScalers:\n",
    "        scaler_filename = colNames[i] + \".save\"\n",
    "#         print(scaler_filename)\n",
    "        joblib.dump(scaler, scaler_filename)\n",
    "        i+=1"
   ]
  },
  {
   "cell_type": "code",
   "execution_count": 4,
   "id": "7e00e25a",
   "metadata": {},
   "outputs": [],
   "source": [
    "#energy consumption\n",
    "def df_to_X_y(df, megawattsPos, window_size= 1): #1 day of feature data\n",
    "    df_as_np = df.to_numpy()\n",
    "    X = []\n",
    "    y = []\n",
    "    for i in range(len(df_as_np)-1):\n",
    "        row = [ r for r in df_as_np[i:i+window_size]]\n",
    "        X.append(row)\n",
    "        label = df_as_np[i+window_size][megawattsPos] \n",
    "        y.append(label)\n",
    "    return np.array(X), np.array(y)"
   ]
  },
  {
   "cell_type": "code",
   "execution_count": 5,
   "id": "daa147c5",
   "metadata": {},
   "outputs": [],
   "source": [
    "#weather data\n",
    "def df_to_X_y_weather(df, predictValuePos, window_size= 1): #1 day of feature data\n",
    "    df_as_np = df.to_numpy()\n",
    "    X = []\n",
    "    y = []\n",
    "    for i in range(len(df_as_np)-window_size):\n",
    "        row = [ r for r in df_as_np[i:i+window_size]]\n",
    "        X.append(row)\n",
    "        label = df_as_np[i+window_size][predictValuePos] \n",
    "        y.append(label)\n",
    "    return np.array(X), np.array(y)"
   ]
  },
  {
   "cell_type": "code",
   "execution_count": 6,
   "id": "8dc4e5c4",
   "metadata": {},
   "outputs": [],
   "source": [
    "#weather data\n",
    "\n",
    "# getting the day cos data for the next 24 hours for prediction\n",
    "def prepareCircularTimeData(df, colName, howManyHours, timeSteps):\n",
    "    \n",
    "    # has last 3 hours of december 31st\n",
    "    previousDaysData = np.array(df[colName][8757:][0:]).reshape(1,-1)\n",
    "    previousDaysSin = np.array(df['Day sin'][8757:][0:]).reshape(1,-1)\n",
    "    previousDaysCos = np.array(df['Day cos'][8757:][0:]).reshape(1,-1)\n",
    "    previousYearsSin = np.array(df['Year sin'][8757:][0:]).reshape(1,-1)\n",
    "    previousYearsCos = np.array(df['Year cos'][8757:][0:]).reshape(1,-1)\n",
    "\n",
    "    previousDaysData = list(previousDaysData)[0].tolist()\n",
    "    previousDaysSin = list(previousDaysSin)[0].tolist()\n",
    "    previousDaysCos = list(previousDaysCos)[0].tolist()\n",
    "    previousYearsSin = list(previousYearsSin)[0].tolist()\n",
    "    previousYearsCos = list(previousYearsCos)[0].tolist()\n",
    "\n",
    "    futurePredData = []\n",
    "    for i in range(timeSteps):\n",
    "        mem = []\n",
    "        mem.append(previousDaysData[i])\n",
    "        mem.append(previousDaysSin[i])\n",
    "        mem.append(previousDaysCos[i])\n",
    "        mem.append(previousYearsSin[i])\n",
    "        mem.append(previousYearsCos[i])\n",
    "        futurePredData.append(mem)\n",
    "    \n",
    "    # Day sin, Day cos, Year sin, Year cos\n",
    "    # Need these in addition to the weather data variable information for circular time\n",
    "    startPos = 0\n",
    "    endPos = 24\n",
    "\n",
    "    previousDaysSin = np.array(df['Day sin'][startPos:endPos][0:]).reshape(1,-1)\n",
    "    previousDaysCos = np.array(df['Day cos'][startPos:endPos][0:]).reshape(1,-1)\n",
    "    previousYearsSin = np.array(df['Year sin'][startPos:endPos][0:]).reshape(1,-1)\n",
    "    previousYearsCos = np.array(df['Year cos'][startPos:endPos][0:]).reshape(1,-1)\n",
    "\n",
    "    previousDaysSin = list(previousDaysSin)[0].tolist()\n",
    "    previousDaysCos = list(previousDaysCos)[0].tolist()\n",
    "    previousYearsSin = list(previousYearsSin)[0].tolist()\n",
    "    previousYearsCos = list(previousYearsCos)[0].tolist()\n",
    "\n",
    "    for i in range(endPos):\n",
    "        mem = []\n",
    "        mem.append(previousDaysSin[i])\n",
    "        mem.append(previousDaysCos[i])\n",
    "        mem.append(previousYearsSin[i])\n",
    "        mem.append(previousYearsCos[i])\n",
    "        futurePredData.append(mem)\n",
    "    \n",
    "#     print(np.array(futurePredData))\n",
    "    return futurePredData\n",
    "    "
   ]
  },
  {
   "cell_type": "code",
   "execution_count": 7,
   "id": "8fa7e531",
   "metadata": {},
   "outputs": [],
   "source": [
    "#weather data \n",
    "def futurePredictions_weather(model, data, hourPred, timesteps, numVars):\n",
    "    future_outputs=[]\n",
    "    i=0\n",
    "    beg = 0\n",
    "    end = 3\n",
    "    while(i < hourPred): #for the next however many hours\n",
    "        oneStep = np.array(list(data[beg:end])).reshape(1, timesteps, numVars) #1 list, each index has n_steps (3) of numVars (5) data\n",
    "        yhat = model.predict(oneStep, verbose=0)#.flatten()\n",
    "        future_outputs.append(yhat[0][0])\n",
    "        data[end].insert(0, yhat[0][0])\n",
    "        beg += 1\n",
    "        end += 1\n",
    "        i+=1\n",
    "\n",
    "    return future_outputs"
   ]
  },
  {
   "cell_type": "code",
   "execution_count": 8,
   "id": "ca1e748b",
   "metadata": {},
   "outputs": [],
   "source": [
    "def futurePredictions_all(model, lastDay_input, weatherData, hourPred, timesteps, numVars):\n",
    "    future_outputs=[]\n",
    "    i=0\n",
    "    counter = 0\n",
    "    while(i<hourPred): #for the next thirty hours\n",
    "        if i == 0: #for the first new predicted value, using old weather data to predict new value \n",
    "            lastDay_input = np.array(lastDay_input)\n",
    "            lastDay_input = lastDay_input.reshape(1, timesteps, numVars)\n",
    "            yhat = model.predict(lastDay_input, verbose=0)#.flatten()\n",
    "            print(yhat[0])\n",
    "#             future_outputs.extend(yhat.tolist())\n",
    "            future_outputs.append(yhat[0][0])\n",
    "            i=i+1\n",
    "        else:# then take from the 1 position and getting the new input and putting it into input\n",
    "#             print(future_outputs[counter])\n",
    "            setVal = future_outputs[counter].item()\n",
    "            weatherData.at[counter, -1:] = setVal #set the megawatts val from the prev predicted\n",
    "            oneData = np.array(weatherData.iloc[counter, :]) #one day of data \n",
    "#             print(\"{} hour input {}\".format(1, oneData))\n",
    "            oneData = oneData.reshape((1, timesteps, numVars)) #works\n",
    "            yhat = model.predict(oneData, verbose=0)\n",
    "#             print(\"{} hour output {}\".format(i,yhat))\n",
    "#             future_outputs.extend(yhat.tolist())\n",
    "            future_outputs.append(yhat[0][0])\n",
    "            i=i+1\n",
    "            counter+=1\n",
    "\n",
    "    return future_outputs"
   ]
  },
  {
   "cell_type": "code",
   "execution_count": 18,
   "id": "46df6dcb",
   "metadata": {},
   "outputs": [],
   "source": [
    "def prepareDf(columns):\n",
    "    directory = '/Users/yukahatori/A_Fairness/FairnessML_git/NOAA_and_CAISO_Data_ONEYEAR/'\n",
    "    dataFiles = [f for f in listdir(directory) if isfile(join(directory, f))] \n",
    "    for file in dataFiles:\n",
    "        print(file)\n",
    "        df = pd.read_csv(directory + file)\n",
    "\n",
    "    #for now, I will only use SF data \n",
    "    location = '_LA'\n",
    "    fileRead = directory + dataFiles[3]\n",
    "    print('fileRead: ', fileRead)\n",
    "    df = pd.read_csv(fileRead)\n",
    "\n",
    "    df['date'] = pd.to_datetime(df['date'], format='%m-%dT%H:%M:%S')\n",
    "    df['date']= df[\"date\"].map(lambda x: x.replace(year=2019))\n",
    "    df.index = df['date']\n",
    "    df.drop('date', axis=1, inplace=True)\n",
    "\n",
    "    ################################################ preprocess #########################################################\n",
    "    df, allScalers = scaleAllData(df)\n",
    "    colNames = df.columns\n",
    "    \n",
    "    saveScalers(colNames, allScalers) #saving scalers\n",
    "    \n",
    "    df['Seconds'] = df.index.map(pd.Timestamp.timestamp)\n",
    "    day = 60 * 60 * 24 #60 s in a min, 60 min in an hour, 24 hours in a day\n",
    "    year = 365.2425*day #num seconds in a year\n",
    "    df['Day sin'] = np.sin(df['Seconds']*2*(np.pi/day))\n",
    "    df['Day cos'] = np.cos(df['Seconds']*2*(np.pi/day))\n",
    "    df['Year sin'] = np.sin(df['Seconds']*2*(np.pi/year))\n",
    "    df['Year cos'] = np.cos(df['Seconds']*2*(np.pi/year))\n",
    "\n",
    "    df = df.drop('Seconds', axis = 1)\n",
    "\n",
    "    cols = columns\n",
    "    df = df[cols]\n",
    "    return df"
   ]
  },
  {
   "cell_type": "code",
   "execution_count": 19,
   "id": "11b1c834",
   "metadata": {},
   "outputs": [],
   "source": [
    "def energyConsumptionModel(df, numEpochs):\n",
    "    megawattsPos = 30\n",
    "    X, y = df_to_X_y(df, megawattsPos, 1) \n",
    "    #############################################train and test #########################################################\n",
    "    train_percent = 0.9\n",
    "    validation_percent = 0.1\n",
    "\n",
    "    train_percent_split = int(train_percent * len(X))\n",
    "    validation_percent_split = int(validation_percent * len(X)) + train_percent_split\n",
    "    print(validation_percent_split)\n",
    "\n",
    "    X_train, y_train = X[:train_percent_split], y[:train_percent_split]\n",
    "    X_val, y_val = X[train_percent_split:validation_percent_split], y[train_percent_split:validation_percent_split] #validation\n",
    "\n",
    "    # just gonna have it hold like 1 day of prev data \n",
    "    testData = 8760 - 2\n",
    "    X_test, y_test = X[testData:], y[testData:]\n",
    "\n",
    "    # X_train.shape, y_train.shape, X_val.shape, y_val.shape, X_test.shape, y_test.shape\n",
    "\n",
    "    ############################################# create model #########################################################\n",
    "    model = Sequential()\n",
    "    model.add(LSTM(64,input_shape=(X_train.shape[1],X_train.shape[2]))) # input layer; 31 data inputs, 1 step (1 hr)\n",
    "    model.add(Dense(32, 'relu')) #hidden layer 1\n",
    "    model.add(Dense(32, 'relu')) #hidden layer 2\n",
    "    model.add(Dense(1, 'linear')) #output layer\n",
    "\n",
    "    storeModel = '/Users/yukahatori/A_Fairness/FairnessML_git/LSTM-Experiment1/model_LA'\n",
    "    cp = ModelCheckpoint(storeModel, save_best_only = True) #I want to only save the best model (lowest validation loss)\n",
    "    model.compile(loss = MeanSquaredError(), optimizer = Adam(), metrics = [RootMeanSquaredError()])\n",
    "\n",
    "    model.fit(X_train, y_train, validation_data=(X_val, y_val), epochs = numEpochs, callbacks = [cp])\n",
    "\n",
    "    train_predictions = model.predict(X_train).flatten()\n",
    "    train_results = pd.DataFrame(data = {'Train Predictions': train_predictions, 'Actuals':y_train})\n",
    "    rmse = mean_squared_error(train_predictions, y_train, squared=False)\n",
    "    print(\"RMSE value: \", rmse)\n",
    "    return rmse, model"
   ]
  },
  {
   "cell_type": "code",
   "execution_count": 20,
   "id": "6bda7391",
   "metadata": {},
   "outputs": [],
   "source": [
    "def getBestEnergyConsumptionModel(iters, df, numEpochs):\n",
    "    getBest = {}\n",
    "    for i in range(iters):\n",
    "        rmse, model = energyConsumptionModel(df, numEpochs)\n",
    "        getBest.update({rmse:model})\n",
    "    lowestRmse = min(getBest.keys())\n",
    "    return getBest[lowestRmse]\n",
    "    "
   ]
  },
  {
   "cell_type": "code",
   "execution_count": 21,
   "id": "af1088b3",
   "metadata": {},
   "outputs": [],
   "source": [
    "def weatherVariableModel(df, window_size, column, numEpochs):\n",
    "    ################### get a variable to predict for ##################\n",
    "    getCols = ['Day sin', 'Day cos', 'Year sin', 'Year cos']\n",
    "    getCols.append(column)\n",
    "    col = df[getCols]\n",
    "    predictColPos = len(col.columns) - 1\n",
    "    X1, y1 = df_to_X_y_weather(col, predictColPos, window_size)\n",
    "\n",
    "    ################## split data ##################\n",
    "    train_percent = 0.9\n",
    "    validation_percent = 0.1\n",
    "    train_percent_split = int(train_percent * len(X1))\n",
    "    validation_percent_split = int(validation_percent * len(X1)) + train_percent_split\n",
    "\n",
    "    X_train1, y_train1 = X1[:train_percent_split], y1[:train_percent_split]\n",
    "    X_val1, y_val1 = X1[train_percent_split:validation_percent_split], y1[train_percent_split:validation_percent_split] #validation\n",
    "\n",
    "    # just gonna have it hold like 1 day of prev data \n",
    "    testData = validation_percent_split - 2\n",
    "    X_test1, y_tes1t = X1[testData:], y1[testData:]\n",
    "\n",
    "    numDataInputs = X_train1.shape[1]\n",
    "    numSteps = X_train1.shape[2]\n",
    "    \n",
    "    ################## Model Creation ##################\n",
    "    modelx = Sequential()\n",
    "    modelx.add(LSTM(64,input_shape=(numDataInputs, numSteps))) # input layer; 5 data inputs, 3 step (3 hr)\n",
    "    modelx.add(Dense(32, 'relu')) #hidden layer 1\n",
    "    modelx.add(Dense(32, 'relu')) #hidden layer 2\n",
    "    modelx.add(Dense(1, 'linear')) #output layer\n",
    "    storeModel = '/Users/yukahatori/A_Fairness/FairnessML_git/LSTM-Experiment1/WeatherModelx_LA/'\n",
    "    cpx = ModelCheckpoint(storeModel, save_best_only = True) #I want to only save the best model (lowest validation loss)\n",
    "    modelx.compile(loss = MeanSquaredError(), optimizer = Adam(), metrics = [RootMeanSquaredError()])\n",
    "\n",
    "    modelx.fit(X_train1, y_train1, validation_data=(X_val1, y_val1), epochs = numEpochs, callbacks = [cpx])\n",
    "    train_predictions = modelx.predict(X_train1).flatten()\n",
    "    rmse = mean_squared_error(train_predictions, y_train1, squared=False)\n",
    "    print(\"RMSE value: \", rmse)\n",
    "    return rmse, modelx\n",
    "    "
   ]
  },
  {
   "cell_type": "code",
   "execution_count": 22,
   "id": "08626408",
   "metadata": {},
   "outputs": [],
   "source": [
    "def getBestWeatherModels(df, window_size, columns, numEpochs, iters):\n",
    "    getBest = []\n",
    "    for column in columns:\n",
    "        getBestOneVar = {}\n",
    "        for i in range(iters):\n",
    "            rmse, model = weatherVariableModel(df, window_size, column, numEpochs)\n",
    "            getBestOneVar.update({rmse:model})\n",
    "        #now store the best one for that variables\n",
    "        lowestRmse = min(getBestOneVar.keys())\n",
    "        getBest.append(getBestOneVar[lowestRmse])\n",
    "    return getBest"
   ]
  },
  {
   "cell_type": "code",
   "execution_count": 25,
   "id": "31a5dfaa",
   "metadata": {},
   "outputs": [],
   "source": [
    "def bestPerformingModel(howManyFutureHours, window_size, numEpochs, iters, columnsForDf, columns):\n",
    "    df = prepareDf(columnsForDf)\n",
    "    bestEnergyConsumptionModel = getBestEnergyConsumptionModel(iters, df, numEpochs)\n",
    "    directory = 'Best_LA/'\n",
    "    bestEnergyConsumptionModel.save(directory+'energyModel', save_format = 'utf')\n",
    "    print(\"--------------------------------- SAVED BEST ENERGY CONSUMPTION MODEL -----------------------------------\")\n",
    "    #we only want weather variable prediction, so only pass the correct stuff\n",
    "    \n",
    "    bestWeatherDataModels = getBestWeatherModels(df, window_size, columns, numEpochs, iters)\n",
    "    \n",
    "    #save the models\n",
    "    j = 0\n",
    "    for weatherModel in bestWeatherDataModels:\n",
    "        weatherModel.save(directory+columns[j], save_format = 'utf')\n",
    "        j+=1\n",
    "    \n",
    "    i = 0\n",
    "    numVars = 5 # 3 time steps, 5 variables (for weather variable prediction)\n",
    "    allVarFuturePreds = []\n",
    "    for column in columns:\n",
    "        futurePredData = prepareCircularTimeData(df, column, howManyFutureHours, window_size)\n",
    "        future_outputs = futurePredictions_weather(bestWeatherDataModels[i], futurePredData, howManyFutureHours, window_size, numVars)\n",
    "        allVarFuturePreds.append(future_outputs)\n",
    "        i+=1\n",
    "\n",
    "    df2 = pd.DataFrame(allVarFuturePreds)\n",
    "    df2 = df2.T\n",
    "    df2.columns = columns\n",
    "    # df2.to_csv('weatherPred.csv', encoding='utf-8', index = False) #MIGHT HAVE TO CHANGE THIS TO weatherPred + i\n",
    "\n",
    "    ########################################## FUTURE PREDICTION #######################################################\n",
    "    weatherPred = df2\n",
    "    daySin = df['Day sin'][0:24]\n",
    "    dayCos = df['Day cos'][0:24]\n",
    "    yearSin = df['Year sin'][0:24]\n",
    "    yearCos = df['Year cos'][0:24]\n",
    "\n",
    "    addFiles = [daySin, dayCos, yearSin, yearCos]\n",
    "    weatherPred['Day sin'] = daySin.values\n",
    "    weatherPred['Day cos'] = dayCos.values\n",
    "    weatherPred['Year sin'] = yearSin.values\n",
    "    weatherPred['Year cos'] = yearCos.values\n",
    "    weatherPred['Megawatts_2020'] = 0\n",
    "\n",
    "    lastDay = df[-1:]\n",
    "    lst_output = futurePredictions_all(bestEnergyConsumptionModel, lastDay, weatherPred, 24, 1, 31)\n",
    "\n",
    "    ########################################### check output #######################################################\n",
    "    scaler_filename = 'Megawatts_2019.save'\n",
    "    megawattsScaler = joblib.load(scaler_filename)\n",
    "\n",
    "    predictedVals = megawattsScaler.inverse_transform(np.array(lst_output).reshape(-1,1))\n",
    "    predicted24Hours = pd.DataFrame(predictedVals)\n",
    "\n",
    "    check_directory = '/Users/yukahatori/A_Fairness/FairnessML_git/NOAA_and_CAISO_Data_2020/'\n",
    "    compFiles = [f for f in listdir(check_directory) if isfile(join(check_directory, f))] \n",
    "    flies = []\n",
    "    for file in compFiles:\n",
    "    #     print(file)\n",
    "        flies.append(check_directory + file)\n",
    "    df1 = pd.read_csv(flies[2])\n",
    "    actual24Hours = df1['Megawatts_2020'][:24]\n",
    "\n",
    "    print(\"----------------------------FINAL, DONE;----------------------------\")\n",
    "    plt.plot(actual24Hours, color = 'blue')\n",
    "    plt.plot(predicted24Hours, color = 'red')\n",
    "    plt.show()\n",
    "\n",
    "    rmse = mean_squared_error(actual24Hours, predicted24Hours, squared=False)\n",
    "    print(\"RMSE value: \", rmse)"
   ]
  },
  {
   "cell_type": "markdown",
   "id": "b95d4ea6",
   "metadata": {},
   "source": [
    "# Testing"
   ]
  },
  {
   "cell_type": "code",
   "execution_count": 26,
   "id": "7f70247d",
   "metadata": {},
   "outputs": [
    {
     "name": "stdout",
     "output_type": "stream",
     "text": [
      "SAC-NOAA-and-Megawatts.csv\n",
      "SD-NOAA-and-Megawatts.csv\n",
      "SF-NOAA-and-Megawatts.csv\n",
      "LA-NOAA-and-Megawatts.csv\n",
      "fileRead:  /Users/yukahatori/A_Fairness/FairnessML_git/NOAA_and_CAISO_Data_ONEYEAR/LA-NOAA-and-Megawatts.csv\n",
      "8758\n",
      "Epoch 1/20\n",
      "227/247 [==========================>...] - ETA: 0s - loss: 0.0088 - root_mean_squared_error: 0.0937"
     ]
    },
    {
     "name": "stderr",
     "output_type": "stream",
     "text": [
      "WARNING:absl:Found untraced functions such as lstm_cell_135_layer_call_fn, lstm_cell_135_layer_call_and_return_conditional_losses, lstm_cell_135_layer_call_fn, lstm_cell_135_layer_call_and_return_conditional_losses, lstm_cell_135_layer_call_and_return_conditional_losses while saving (showing 5 of 5). These functions will not be directly callable after loading.\n"
     ]
    },
    {
     "name": "stdout",
     "output_type": "stream",
     "text": [
      "INFO:tensorflow:Assets written to: /Users/yukahatori/A_Fairness/FairnessML_git/LSTM-BasicModel/model/assets\n"
     ]
    },
    {
     "name": "stderr",
     "output_type": "stream",
     "text": [
      "INFO:tensorflow:Assets written to: /Users/yukahatori/A_Fairness/FairnessML_git/LSTM-BasicModel/model/assets\n",
      "WARNING:absl:<keras.layers.recurrent.LSTMCell object at 0x7fd87c3271f0> has the same name 'LSTMCell' as a built-in Keras object. Consider renaming <class 'keras.layers.recurrent.LSTMCell'> to avoid naming conflicts when loading with `tf.keras.models.load_model`. If renaming is not possible, pass the object in the `custom_objects` parameter of the load function.\n"
     ]
    },
    {
     "name": "stdout",
     "output_type": "stream",
     "text": [
      "247/247 [==============================] - 5s 15ms/step - loss: 0.0083 - root_mean_squared_error: 0.0913 - val_loss: 0.0015 - val_root_mean_squared_error: 0.0393\n",
      "Epoch 2/20\n",
      "237/247 [===========================>..] - ETA: 0s - loss: 0.0023 - root_mean_squared_error: 0.0475"
     ]
    },
    {
     "name": "stderr",
     "output_type": "stream",
     "text": [
      "WARNING:absl:Found untraced functions such as lstm_cell_135_layer_call_fn, lstm_cell_135_layer_call_and_return_conditional_losses, lstm_cell_135_layer_call_fn, lstm_cell_135_layer_call_and_return_conditional_losses, lstm_cell_135_layer_call_and_return_conditional_losses while saving (showing 5 of 5). These functions will not be directly callable after loading.\n"
     ]
    },
    {
     "name": "stdout",
     "output_type": "stream",
     "text": [
      "INFO:tensorflow:Assets written to: /Users/yukahatori/A_Fairness/FairnessML_git/LSTM-BasicModel/model/assets\n"
     ]
    },
    {
     "name": "stderr",
     "output_type": "stream",
     "text": [
      "INFO:tensorflow:Assets written to: /Users/yukahatori/A_Fairness/FairnessML_git/LSTM-BasicModel/model/assets\n",
      "WARNING:absl:<keras.layers.recurrent.LSTMCell object at 0x7fd87c3271f0> has the same name 'LSTMCell' as a built-in Keras object. Consider renaming <class 'keras.layers.recurrent.LSTMCell'> to avoid naming conflicts when loading with `tf.keras.models.load_model`. If renaming is not possible, pass the object in the `custom_objects` parameter of the load function.\n"
     ]
    },
    {
     "name": "stdout",
     "output_type": "stream",
     "text": [
      "247/247 [==============================] - 4s 17ms/step - loss: 0.0022 - root_mean_squared_error: 0.0473 - val_loss: 0.0015 - val_root_mean_squared_error: 0.0384\n",
      "Epoch 3/20\n",
      "238/247 [===========================>..] - ETA: 0s - loss: 0.0012 - root_mean_squared_error: 0.0352"
     ]
    },
    {
     "name": "stderr",
     "output_type": "stream",
     "text": [
      "WARNING:absl:Found untraced functions such as lstm_cell_135_layer_call_fn, lstm_cell_135_layer_call_and_return_conditional_losses, lstm_cell_135_layer_call_fn, lstm_cell_135_layer_call_and_return_conditional_losses, lstm_cell_135_layer_call_and_return_conditional_losses while saving (showing 5 of 5). These functions will not be directly callable after loading.\n"
     ]
    },
    {
     "name": "stdout",
     "output_type": "stream",
     "text": [
      "INFO:tensorflow:Assets written to: /Users/yukahatori/A_Fairness/FairnessML_git/LSTM-BasicModel/model/assets\n"
     ]
    },
    {
     "name": "stderr",
     "output_type": "stream",
     "text": [
      "INFO:tensorflow:Assets written to: /Users/yukahatori/A_Fairness/FairnessML_git/LSTM-BasicModel/model/assets\n",
      "WARNING:absl:<keras.layers.recurrent.LSTMCell object at 0x7fd87c3271f0> has the same name 'LSTMCell' as a built-in Keras object. Consider renaming <class 'keras.layers.recurrent.LSTMCell'> to avoid naming conflicts when loading with `tf.keras.models.load_model`. If renaming is not possible, pass the object in the `custom_objects` parameter of the load function.\n"
     ]
    },
    {
     "name": "stdout",
     "output_type": "stream",
     "text": [
      "247/247 [==============================] - 8s 32ms/step - loss: 0.0012 - root_mean_squared_error: 0.0349 - val_loss: 7.5221e-04 - val_root_mean_squared_error: 0.0274\n",
      "Epoch 4/20\n",
      "230/247 [==========================>...] - ETA: 0s - loss: 6.5604e-04 - root_mean_squared_error: 0.0256"
     ]
    },
    {
     "name": "stderr",
     "output_type": "stream",
     "text": [
      "WARNING:absl:Found untraced functions such as lstm_cell_135_layer_call_fn, lstm_cell_135_layer_call_and_return_conditional_losses, lstm_cell_135_layer_call_fn, lstm_cell_135_layer_call_and_return_conditional_losses, lstm_cell_135_layer_call_and_return_conditional_losses while saving (showing 5 of 5). These functions will not be directly callable after loading.\n"
     ]
    },
    {
     "name": "stdout",
     "output_type": "stream",
     "text": [
      "INFO:tensorflow:Assets written to: /Users/yukahatori/A_Fairness/FairnessML_git/LSTM-BasicModel/model/assets\n"
     ]
    },
    {
     "name": "stderr",
     "output_type": "stream",
     "text": [
      "INFO:tensorflow:Assets written to: /Users/yukahatori/A_Fairness/FairnessML_git/LSTM-BasicModel/model/assets\n",
      "WARNING:absl:<keras.layers.recurrent.LSTMCell object at 0x7fd87c3271f0> has the same name 'LSTMCell' as a built-in Keras object. Consider renaming <class 'keras.layers.recurrent.LSTMCell'> to avoid naming conflicts when loading with `tf.keras.models.load_model`. If renaming is not possible, pass the object in the `custom_objects` parameter of the load function.\n"
     ]
    },
    {
     "name": "stdout",
     "output_type": "stream",
     "text": [
      "247/247 [==============================] - 4s 15ms/step - loss: 6.6604e-04 - root_mean_squared_error: 0.0258 - val_loss: 4.8402e-04 - val_root_mean_squared_error: 0.0220\n",
      "Epoch 5/20\n",
      "234/247 [===========================>..] - ETA: 0s - loss: 5.9143e-04 - root_mean_squared_error: 0.0243"
     ]
    },
    {
     "name": "stderr",
     "output_type": "stream",
     "text": [
      "WARNING:absl:Found untraced functions such as lstm_cell_135_layer_call_fn, lstm_cell_135_layer_call_and_return_conditional_losses, lstm_cell_135_layer_call_fn, lstm_cell_135_layer_call_and_return_conditional_losses, lstm_cell_135_layer_call_and_return_conditional_losses while saving (showing 5 of 5). These functions will not be directly callable after loading.\n"
     ]
    },
    {
     "name": "stdout",
     "output_type": "stream",
     "text": [
      "INFO:tensorflow:Assets written to: /Users/yukahatori/A_Fairness/FairnessML_git/LSTM-BasicModel/model/assets\n"
     ]
    },
    {
     "name": "stderr",
     "output_type": "stream",
     "text": [
      "INFO:tensorflow:Assets written to: /Users/yukahatori/A_Fairness/FairnessML_git/LSTM-BasicModel/model/assets\n",
      "WARNING:absl:<keras.layers.recurrent.LSTMCell object at 0x7fd87c3271f0> has the same name 'LSTMCell' as a built-in Keras object. Consider renaming <class 'keras.layers.recurrent.LSTMCell'> to avoid naming conflicts when loading with `tf.keras.models.load_model`. If renaming is not possible, pass the object in the `custom_objects` parameter of the load function.\n"
     ]
    },
    {
     "name": "stdout",
     "output_type": "stream",
     "text": [
      "247/247 [==============================] - 4s 15ms/step - loss: 5.8502e-04 - root_mean_squared_error: 0.0242 - val_loss: 3.1306e-04 - val_root_mean_squared_error: 0.0177\n",
      "Epoch 6/20\n",
      "247/247 [==============================] - 1s 2ms/step - loss: 5.5885e-04 - root_mean_squared_error: 0.0236 - val_loss: 3.9435e-04 - val_root_mean_squared_error: 0.0199\n",
      "Epoch 7/20\n",
      "247/247 [==============================] - 1s 2ms/step - loss: 5.1631e-04 - root_mean_squared_error: 0.0227 - val_loss: 3.2809e-04 - val_root_mean_squared_error: 0.0181\n",
      "Epoch 8/20\n",
      "228/247 [==========================>...] - ETA: 0s - loss: 4.9472e-04 - root_mean_squared_error: 0.0222"
     ]
    },
    {
     "name": "stderr",
     "output_type": "stream",
     "text": [
      "WARNING:absl:Found untraced functions such as lstm_cell_135_layer_call_fn, lstm_cell_135_layer_call_and_return_conditional_losses, lstm_cell_135_layer_call_fn, lstm_cell_135_layer_call_and_return_conditional_losses, lstm_cell_135_layer_call_and_return_conditional_losses while saving (showing 5 of 5). These functions will not be directly callable after loading.\n"
     ]
    },
    {
     "name": "stdout",
     "output_type": "stream",
     "text": [
      "INFO:tensorflow:Assets written to: /Users/yukahatori/A_Fairness/FairnessML_git/LSTM-BasicModel/model/assets\n"
     ]
    },
    {
     "name": "stderr",
     "output_type": "stream",
     "text": [
      "INFO:tensorflow:Assets written to: /Users/yukahatori/A_Fairness/FairnessML_git/LSTM-BasicModel/model/assets\n",
      "WARNING:absl:<keras.layers.recurrent.LSTMCell object at 0x7fd87c3271f0> has the same name 'LSTMCell' as a built-in Keras object. Consider renaming <class 'keras.layers.recurrent.LSTMCell'> to avoid naming conflicts when loading with `tf.keras.models.load_model`. If renaming is not possible, pass the object in the `custom_objects` parameter of the load function.\n"
     ]
    },
    {
     "name": "stdout",
     "output_type": "stream",
     "text": [
      "247/247 [==============================] - 3s 13ms/step - loss: 5.1704e-04 - root_mean_squared_error: 0.0227 - val_loss: 2.6667e-04 - val_root_mean_squared_error: 0.0163\n",
      "Epoch 9/20\n",
      "247/247 [==============================] - 1s 2ms/step - loss: 4.8179e-04 - root_mean_squared_error: 0.0219 - val_loss: 5.3921e-04 - val_root_mean_squared_error: 0.0232\n",
      "Epoch 10/20\n",
      "247/247 [==============================] - 1s 2ms/step - loss: 4.8295e-04 - root_mean_squared_error: 0.0220 - val_loss: 2.8061e-04 - val_root_mean_squared_error: 0.0168\n",
      "Epoch 11/20\n",
      "247/247 [==============================] - 1s 2ms/step - loss: 4.6750e-04 - root_mean_squared_error: 0.0216 - val_loss: 2.8859e-04 - val_root_mean_squared_error: 0.0170\n",
      "Epoch 12/20\n",
      "247/247 [==============================] - 0s 2ms/step - loss: 4.3634e-04 - root_mean_squared_error: 0.0209 - val_loss: 5.2065e-04 - val_root_mean_squared_error: 0.0228\n",
      "Epoch 13/20\n",
      "247/247 [==============================] - 1s 2ms/step - loss: 4.3410e-04 - root_mean_squared_error: 0.0208 - val_loss: 3.5064e-04 - val_root_mean_squared_error: 0.0187\n",
      "Epoch 14/20\n",
      "247/247 [==============================] - 1s 3ms/step - loss: 3.9330e-04 - root_mean_squared_error: 0.0198 - val_loss: 2.9560e-04 - val_root_mean_squared_error: 0.0172\n",
      "Epoch 15/20\n",
      "247/247 [==============================] - 1s 2ms/step - loss: 3.5031e-04 - root_mean_squared_error: 0.0187 - val_loss: 2.9377e-04 - val_root_mean_squared_error: 0.0171\n",
      "Epoch 16/20\n",
      "244/247 [============================>.] - ETA: 0s - loss: 3.8900e-04 - root_mean_squared_error: 0.0197"
     ]
    },
    {
     "name": "stderr",
     "output_type": "stream",
     "text": [
      "WARNING:absl:Found untraced functions such as lstm_cell_135_layer_call_fn, lstm_cell_135_layer_call_and_return_conditional_losses, lstm_cell_135_layer_call_fn, lstm_cell_135_layer_call_and_return_conditional_losses, lstm_cell_135_layer_call_and_return_conditional_losses while saving (showing 5 of 5). These functions will not be directly callable after loading.\n"
     ]
    },
    {
     "name": "stdout",
     "output_type": "stream",
     "text": [
      "INFO:tensorflow:Assets written to: /Users/yukahatori/A_Fairness/FairnessML_git/LSTM-BasicModel/model/assets\n"
     ]
    },
    {
     "name": "stderr",
     "output_type": "stream",
     "text": [
      "INFO:tensorflow:Assets written to: /Users/yukahatori/A_Fairness/FairnessML_git/LSTM-BasicModel/model/assets\n",
      "WARNING:absl:<keras.layers.recurrent.LSTMCell object at 0x7fd87c3271f0> has the same name 'LSTMCell' as a built-in Keras object. Consider renaming <class 'keras.layers.recurrent.LSTMCell'> to avoid naming conflicts when loading with `tf.keras.models.load_model`. If renaming is not possible, pass the object in the `custom_objects` parameter of the load function.\n"
     ]
    },
    {
     "name": "stdout",
     "output_type": "stream",
     "text": [
      "247/247 [==============================] - 4s 15ms/step - loss: 3.8810e-04 - root_mean_squared_error: 0.0197 - val_loss: 1.9743e-04 - val_root_mean_squared_error: 0.0141\n",
      "Epoch 17/20\n",
      "247/247 [==============================] - 1s 2ms/step - loss: 3.3465e-04 - root_mean_squared_error: 0.0183 - val_loss: 2.5024e-04 - val_root_mean_squared_error: 0.0158\n",
      "Epoch 18/20\n",
      "247/247 [==============================] - 1s 2ms/step - loss: 3.5186e-04 - root_mean_squared_error: 0.0188 - val_loss: 2.8746e-04 - val_root_mean_squared_error: 0.0170\n",
      "Epoch 19/20\n",
      "247/247 [==============================] - 1s 2ms/step - loss: 3.3695e-04 - root_mean_squared_error: 0.0184 - val_loss: 2.5689e-04 - val_root_mean_squared_error: 0.0160\n",
      "Epoch 20/20\n",
      "239/247 [============================>.] - ETA: 0s - loss: 2.6763e-04 - root_mean_squared_error: 0.0164"
     ]
    },
    {
     "name": "stderr",
     "output_type": "stream",
     "text": [
      "WARNING:absl:Found untraced functions such as lstm_cell_135_layer_call_fn, lstm_cell_135_layer_call_and_return_conditional_losses, lstm_cell_135_layer_call_fn, lstm_cell_135_layer_call_and_return_conditional_losses, lstm_cell_135_layer_call_and_return_conditional_losses while saving (showing 5 of 5). These functions will not be directly callable after loading.\n"
     ]
    },
    {
     "name": "stdout",
     "output_type": "stream",
     "text": [
      "INFO:tensorflow:Assets written to: /Users/yukahatori/A_Fairness/FairnessML_git/LSTM-BasicModel/model/assets\n"
     ]
    },
    {
     "name": "stderr",
     "output_type": "stream",
     "text": [
      "INFO:tensorflow:Assets written to: /Users/yukahatori/A_Fairness/FairnessML_git/LSTM-BasicModel/model/assets\n",
      "WARNING:absl:<keras.layers.recurrent.LSTMCell object at 0x7fd87c3271f0> has the same name 'LSTMCell' as a built-in Keras object. Consider renaming <class 'keras.layers.recurrent.LSTMCell'> to avoid naming conflicts when loading with `tf.keras.models.load_model`. If renaming is not possible, pass the object in the `custom_objects` parameter of the load function.\n"
     ]
    },
    {
     "name": "stdout",
     "output_type": "stream",
     "text": [
      "247/247 [==============================] - 4s 16ms/step - loss: 2.6703e-04 - root_mean_squared_error: 0.0163 - val_loss: 1.9207e-04 - val_root_mean_squared_error: 0.0139\n",
      "RMSE value:  0.015373953012225883\n",
      "8758\n",
      "Epoch 1/20\n",
      "233/247 [===========================>..] - ETA: 0s - loss: 0.0162 - root_mean_squared_error: 0.1273"
     ]
    },
    {
     "name": "stderr",
     "output_type": "stream",
     "text": [
      "WARNING:absl:Found untraced functions such as lstm_cell_136_layer_call_fn, lstm_cell_136_layer_call_and_return_conditional_losses, lstm_cell_136_layer_call_fn, lstm_cell_136_layer_call_and_return_conditional_losses, lstm_cell_136_layer_call_and_return_conditional_losses while saving (showing 5 of 5). These functions will not be directly callable after loading.\n"
     ]
    },
    {
     "name": "stdout",
     "output_type": "stream",
     "text": [
      "INFO:tensorflow:Assets written to: /Users/yukahatori/A_Fairness/FairnessML_git/LSTM-BasicModel/model/assets\n"
     ]
    },
    {
     "name": "stderr",
     "output_type": "stream",
     "text": [
      "INFO:tensorflow:Assets written to: /Users/yukahatori/A_Fairness/FairnessML_git/LSTM-BasicModel/model/assets\n",
      "WARNING:absl:<keras.layers.recurrent.LSTMCell object at 0x7fd87d15dd30> has the same name 'LSTMCell' as a built-in Keras object. Consider renaming <class 'keras.layers.recurrent.LSTMCell'> to avoid naming conflicts when loading with `tf.keras.models.load_model`. If renaming is not possible, pass the object in the `custom_objects` parameter of the load function.\n"
     ]
    },
    {
     "name": "stdout",
     "output_type": "stream",
     "text": [
      "247/247 [==============================] - 5s 17ms/step - loss: 0.0155 - root_mean_squared_error: 0.1244 - val_loss: 0.0020 - val_root_mean_squared_error: 0.0453\n",
      "Epoch 2/20\n",
      "245/247 [============================>.] - ETA: 0s - loss: 0.0024 - root_mean_squared_error: 0.0490"
     ]
    },
    {
     "name": "stderr",
     "output_type": "stream",
     "text": [
      "WARNING:absl:Found untraced functions such as lstm_cell_136_layer_call_fn, lstm_cell_136_layer_call_and_return_conditional_losses, lstm_cell_136_layer_call_fn, lstm_cell_136_layer_call_and_return_conditional_losses, lstm_cell_136_layer_call_and_return_conditional_losses while saving (showing 5 of 5). These functions will not be directly callable after loading.\n"
     ]
    },
    {
     "name": "stdout",
     "output_type": "stream",
     "text": [
      "INFO:tensorflow:Assets written to: /Users/yukahatori/A_Fairness/FairnessML_git/LSTM-BasicModel/model/assets\n"
     ]
    },
    {
     "name": "stderr",
     "output_type": "stream",
     "text": [
      "INFO:tensorflow:Assets written to: /Users/yukahatori/A_Fairness/FairnessML_git/LSTM-BasicModel/model/assets\n",
      "WARNING:absl:<keras.layers.recurrent.LSTMCell object at 0x7fd87d15dd30> has the same name 'LSTMCell' as a built-in Keras object. Consider renaming <class 'keras.layers.recurrent.LSTMCell'> to avoid naming conflicts when loading with `tf.keras.models.load_model`. If renaming is not possible, pass the object in the `custom_objects` parameter of the load function.\n"
     ]
    },
    {
     "name": "stdout",
     "output_type": "stream",
     "text": [
      "247/247 [==============================] - 6s 22ms/step - loss: 0.0024 - root_mean_squared_error: 0.0490 - val_loss: 9.9838e-04 - val_root_mean_squared_error: 0.0316\n",
      "Epoch 3/20\n",
      "239/247 [============================>.] - ETA: 0s - loss: 0.0015 - root_mean_squared_error: 0.0391"
     ]
    },
    {
     "name": "stderr",
     "output_type": "stream",
     "text": [
      "WARNING:absl:Found untraced functions such as lstm_cell_136_layer_call_fn, lstm_cell_136_layer_call_and_return_conditional_losses, lstm_cell_136_layer_call_fn, lstm_cell_136_layer_call_and_return_conditional_losses, lstm_cell_136_layer_call_and_return_conditional_losses while saving (showing 5 of 5). These functions will not be directly callable after loading.\n"
     ]
    },
    {
     "name": "stdout",
     "output_type": "stream",
     "text": [
      "INFO:tensorflow:Assets written to: /Users/yukahatori/A_Fairness/FairnessML_git/LSTM-BasicModel/model/assets\n"
     ]
    },
    {
     "name": "stderr",
     "output_type": "stream",
     "text": [
      "INFO:tensorflow:Assets written to: /Users/yukahatori/A_Fairness/FairnessML_git/LSTM-BasicModel/model/assets\n",
      "WARNING:absl:<keras.layers.recurrent.LSTMCell object at 0x7fd87d15dd30> has the same name 'LSTMCell' as a built-in Keras object. Consider renaming <class 'keras.layers.recurrent.LSTMCell'> to avoid naming conflicts when loading with `tf.keras.models.load_model`. If renaming is not possible, pass the object in the `custom_objects` parameter of the load function.\n"
     ]
    },
    {
     "name": "stdout",
     "output_type": "stream",
     "text": [
      "247/247 [==============================] - 5s 20ms/step - loss: 0.0015 - root_mean_squared_error: 0.0388 - val_loss: 9.4763e-04 - val_root_mean_squared_error: 0.0308\n",
      "Epoch 4/20\n",
      "237/247 [===========================>..] - ETA: 0s - loss: 8.2294e-04 - root_mean_squared_error: 0.0287"
     ]
    },
    {
     "name": "stderr",
     "output_type": "stream",
     "text": [
      "WARNING:absl:Found untraced functions such as lstm_cell_136_layer_call_fn, lstm_cell_136_layer_call_and_return_conditional_losses, lstm_cell_136_layer_call_fn, lstm_cell_136_layer_call_and_return_conditional_losses, lstm_cell_136_layer_call_and_return_conditional_losses while saving (showing 5 of 5). These functions will not be directly callable after loading.\n"
     ]
    },
    {
     "name": "stdout",
     "output_type": "stream",
     "text": [
      "INFO:tensorflow:Assets written to: /Users/yukahatori/A_Fairness/FairnessML_git/LSTM-BasicModel/model/assets\n"
     ]
    },
    {
     "name": "stderr",
     "output_type": "stream",
     "text": [
      "INFO:tensorflow:Assets written to: /Users/yukahatori/A_Fairness/FairnessML_git/LSTM-BasicModel/model/assets\n",
      "WARNING:absl:<keras.layers.recurrent.LSTMCell object at 0x7fd87d15dd30> has the same name 'LSTMCell' as a built-in Keras object. Consider renaming <class 'keras.layers.recurrent.LSTMCell'> to avoid naming conflicts when loading with `tf.keras.models.load_model`. If renaming is not possible, pass the object in the `custom_objects` parameter of the load function.\n"
     ]
    },
    {
     "name": "stdout",
     "output_type": "stream",
     "text": [
      "247/247 [==============================] - 4s 17ms/step - loss: 8.1752e-04 - root_mean_squared_error: 0.0286 - val_loss: 6.2138e-04 - val_root_mean_squared_error: 0.0249\n",
      "Epoch 5/20\n",
      "247/247 [==============================] - 0s 2ms/step - loss: 6.4050e-04 - root_mean_squared_error: 0.0253 - val_loss: 6.3751e-04 - val_root_mean_squared_error: 0.0252\n",
      "Epoch 6/20\n",
      "231/247 [===========================>..] - ETA: 0s - loss: 5.7398e-04 - root_mean_squared_error: 0.0240"
     ]
    },
    {
     "name": "stderr",
     "output_type": "stream",
     "text": [
      "WARNING:absl:Found untraced functions such as lstm_cell_136_layer_call_fn, lstm_cell_136_layer_call_and_return_conditional_losses, lstm_cell_136_layer_call_fn, lstm_cell_136_layer_call_and_return_conditional_losses, lstm_cell_136_layer_call_and_return_conditional_losses while saving (showing 5 of 5). These functions will not be directly callable after loading.\n"
     ]
    },
    {
     "name": "stdout",
     "output_type": "stream",
     "text": [
      "INFO:tensorflow:Assets written to: /Users/yukahatori/A_Fairness/FairnessML_git/LSTM-BasicModel/model/assets\n"
     ]
    },
    {
     "name": "stderr",
     "output_type": "stream",
     "text": [
      "INFO:tensorflow:Assets written to: /Users/yukahatori/A_Fairness/FairnessML_git/LSTM-BasicModel/model/assets\n",
      "WARNING:absl:<keras.layers.recurrent.LSTMCell object at 0x7fd87d15dd30> has the same name 'LSTMCell' as a built-in Keras object. Consider renaming <class 'keras.layers.recurrent.LSTMCell'> to avoid naming conflicts when loading with `tf.keras.models.load_model`. If renaming is not possible, pass the object in the `custom_objects` parameter of the load function.\n"
     ]
    },
    {
     "name": "stdout",
     "output_type": "stream",
     "text": [
      "247/247 [==============================] - 3s 13ms/step - loss: 5.6732e-04 - root_mean_squared_error: 0.0238 - val_loss: 3.9545e-04 - val_root_mean_squared_error: 0.0199\n",
      "Epoch 7/20\n",
      "227/247 [==========================>...] - ETA: 0s - loss: 5.5892e-04 - root_mean_squared_error: 0.0236"
     ]
    },
    {
     "name": "stderr",
     "output_type": "stream",
     "text": [
      "WARNING:absl:Found untraced functions such as lstm_cell_136_layer_call_fn, lstm_cell_136_layer_call_and_return_conditional_losses, lstm_cell_136_layer_call_fn, lstm_cell_136_layer_call_and_return_conditional_losses, lstm_cell_136_layer_call_and_return_conditional_losses while saving (showing 5 of 5). These functions will not be directly callable after loading.\n"
     ]
    },
    {
     "name": "stdout",
     "output_type": "stream",
     "text": [
      "INFO:tensorflow:Assets written to: /Users/yukahatori/A_Fairness/FairnessML_git/LSTM-BasicModel/model/assets\n"
     ]
    },
    {
     "name": "stderr",
     "output_type": "stream",
     "text": [
      "INFO:tensorflow:Assets written to: /Users/yukahatori/A_Fairness/FairnessML_git/LSTM-BasicModel/model/assets\n",
      "WARNING:absl:<keras.layers.recurrent.LSTMCell object at 0x7fd87d15dd30> has the same name 'LSTMCell' as a built-in Keras object. Consider renaming <class 'keras.layers.recurrent.LSTMCell'> to avoid naming conflicts when loading with `tf.keras.models.load_model`. If renaming is not possible, pass the object in the `custom_objects` parameter of the load function.\n"
     ]
    },
    {
     "name": "stdout",
     "output_type": "stream",
     "text": [
      "247/247 [==============================] - 4s 15ms/step - loss: 5.5187e-04 - root_mean_squared_error: 0.0235 - val_loss: 3.6115e-04 - val_root_mean_squared_error: 0.0190\n",
      "Epoch 8/20\n",
      "226/247 [==========================>...] - ETA: 0s - loss: 4.8060e-04 - root_mean_squared_error: 0.0219"
     ]
    },
    {
     "name": "stderr",
     "output_type": "stream",
     "text": [
      "WARNING:absl:Found untraced functions such as lstm_cell_136_layer_call_fn, lstm_cell_136_layer_call_and_return_conditional_losses, lstm_cell_136_layer_call_fn, lstm_cell_136_layer_call_and_return_conditional_losses, lstm_cell_136_layer_call_and_return_conditional_losses while saving (showing 5 of 5). These functions will not be directly callable after loading.\n"
     ]
    },
    {
     "name": "stdout",
     "output_type": "stream",
     "text": [
      "INFO:tensorflow:Assets written to: /Users/yukahatori/A_Fairness/FairnessML_git/LSTM-BasicModel/model/assets\n"
     ]
    },
    {
     "name": "stderr",
     "output_type": "stream",
     "text": [
      "INFO:tensorflow:Assets written to: /Users/yukahatori/A_Fairness/FairnessML_git/LSTM-BasicModel/model/assets\n",
      "WARNING:absl:<keras.layers.recurrent.LSTMCell object at 0x7fd87d15dd30> has the same name 'LSTMCell' as a built-in Keras object. Consider renaming <class 'keras.layers.recurrent.LSTMCell'> to avoid naming conflicts when loading with `tf.keras.models.load_model`. If renaming is not possible, pass the object in the `custom_objects` parameter of the load function.\n"
     ]
    },
    {
     "name": "stdout",
     "output_type": "stream",
     "text": [
      "247/247 [==============================] - 3s 14ms/step - loss: 5.0071e-04 - root_mean_squared_error: 0.0224 - val_loss: 2.8846e-04 - val_root_mean_squared_error: 0.0170\n",
      "Epoch 9/20\n",
      "247/247 [==============================] - 1s 2ms/step - loss: 4.8262e-04 - root_mean_squared_error: 0.0220 - val_loss: 3.3013e-04 - val_root_mean_squared_error: 0.0182\n",
      "Epoch 10/20\n",
      "247/247 [==============================] - 1s 2ms/step - loss: 4.6147e-04 - root_mean_squared_error: 0.0215 - val_loss: 2.9066e-04 - val_root_mean_squared_error: 0.0170\n",
      "Epoch 11/20\n",
      "247/247 [==============================] - ETA: 0s - loss: 4.4160e-04 - root_mean_squared_error: 0.0210"
     ]
    },
    {
     "name": "stderr",
     "output_type": "stream",
     "text": [
      "WARNING:absl:Found untraced functions such as lstm_cell_136_layer_call_fn, lstm_cell_136_layer_call_and_return_conditional_losses, lstm_cell_136_layer_call_fn, lstm_cell_136_layer_call_and_return_conditional_losses, lstm_cell_136_layer_call_and_return_conditional_losses while saving (showing 5 of 5). These functions will not be directly callable after loading.\n"
     ]
    },
    {
     "name": "stdout",
     "output_type": "stream",
     "text": [
      "INFO:tensorflow:Assets written to: /Users/yukahatori/A_Fairness/FairnessML_git/LSTM-BasicModel/model/assets\n"
     ]
    },
    {
     "name": "stderr",
     "output_type": "stream",
     "text": [
      "INFO:tensorflow:Assets written to: /Users/yukahatori/A_Fairness/FairnessML_git/LSTM-BasicModel/model/assets\n",
      "WARNING:absl:<keras.layers.recurrent.LSTMCell object at 0x7fd87d15dd30> has the same name 'LSTMCell' as a built-in Keras object. Consider renaming <class 'keras.layers.recurrent.LSTMCell'> to avoid naming conflicts when loading with `tf.keras.models.load_model`. If renaming is not possible, pass the object in the `custom_objects` parameter of the load function.\n"
     ]
    },
    {
     "name": "stdout",
     "output_type": "stream",
     "text": [
      "247/247 [==============================] - 3s 14ms/step - loss: 4.4160e-04 - root_mean_squared_error: 0.0210 - val_loss: 2.3049e-04 - val_root_mean_squared_error: 0.0152\n",
      "Epoch 12/20\n",
      "247/247 [==============================] - 1s 2ms/step - loss: 4.7146e-04 - root_mean_squared_error: 0.0217 - val_loss: 3.2111e-04 - val_root_mean_squared_error: 0.0179\n",
      "Epoch 13/20\n",
      "247/247 [==============================] - 0s 2ms/step - loss: 4.1074e-04 - root_mean_squared_error: 0.0203 - val_loss: 2.7937e-04 - val_root_mean_squared_error: 0.0167\n",
      "Epoch 14/20\n",
      "247/247 [==============================] - 0s 2ms/step - loss: 4.4834e-04 - root_mean_squared_error: 0.0212 - val_loss: 2.8990e-04 - val_root_mean_squared_error: 0.0170\n",
      "Epoch 15/20\n",
      "247/247 [==============================] - 0s 2ms/step - loss: 3.9004e-04 - root_mean_squared_error: 0.0197 - val_loss: 2.6795e-04 - val_root_mean_squared_error: 0.0164\n",
      "Epoch 16/20\n",
      "247/247 [==============================] - 0s 2ms/step - loss: 3.6710e-04 - root_mean_squared_error: 0.0192 - val_loss: 3.2819e-04 - val_root_mean_squared_error: 0.0181\n",
      "Epoch 17/20\n",
      "231/247 [===========================>..] - ETA: 0s - loss: 3.5033e-04 - root_mean_squared_error: 0.0187"
     ]
    },
    {
     "name": "stderr",
     "output_type": "stream",
     "text": [
      "WARNING:absl:Found untraced functions such as lstm_cell_136_layer_call_fn, lstm_cell_136_layer_call_and_return_conditional_losses, lstm_cell_136_layer_call_fn, lstm_cell_136_layer_call_and_return_conditional_losses, lstm_cell_136_layer_call_and_return_conditional_losses while saving (showing 5 of 5). These functions will not be directly callable after loading.\n"
     ]
    },
    {
     "name": "stdout",
     "output_type": "stream",
     "text": [
      "INFO:tensorflow:Assets written to: /Users/yukahatori/A_Fairness/FairnessML_git/LSTM-BasicModel/model/assets\n"
     ]
    },
    {
     "name": "stderr",
     "output_type": "stream",
     "text": [
      "INFO:tensorflow:Assets written to: /Users/yukahatori/A_Fairness/FairnessML_git/LSTM-BasicModel/model/assets\n",
      "WARNING:absl:<keras.layers.recurrent.LSTMCell object at 0x7fd87d15dd30> has the same name 'LSTMCell' as a built-in Keras object. Consider renaming <class 'keras.layers.recurrent.LSTMCell'> to avoid naming conflicts when loading with `tf.keras.models.load_model`. If renaming is not possible, pass the object in the `custom_objects` parameter of the load function.\n"
     ]
    },
    {
     "name": "stdout",
     "output_type": "stream",
     "text": [
      "247/247 [==============================] - 3s 14ms/step - loss: 3.5372e-04 - root_mean_squared_error: 0.0188 - val_loss: 1.9591e-04 - val_root_mean_squared_error: 0.0140\n",
      "Epoch 18/20\n",
      "247/247 [==============================] - 1s 2ms/step - loss: 3.3997e-04 - root_mean_squared_error: 0.0184 - val_loss: 3.3123e-04 - val_root_mean_squared_error: 0.0182\n",
      "Epoch 19/20\n",
      "247/247 [==============================] - 1s 2ms/step - loss: 3.3125e-04 - root_mean_squared_error: 0.0182 - val_loss: 2.2263e-04 - val_root_mean_squared_error: 0.0149\n",
      "Epoch 20/20\n",
      "247/247 [==============================] - 1s 2ms/step - loss: 3.3771e-04 - root_mean_squared_error: 0.0184 - val_loss: 2.4979e-04 - val_root_mean_squared_error: 0.0158\n",
      "RMSE value:  0.020952207616617907\n",
      "8758\n",
      "Epoch 1/20\n",
      "221/247 [=========================>....] - ETA: 0s - loss: 0.0162 - root_mean_squared_error: 0.1274"
     ]
    },
    {
     "name": "stderr",
     "output_type": "stream",
     "text": [
      "WARNING:absl:Found untraced functions such as lstm_cell_137_layer_call_fn, lstm_cell_137_layer_call_and_return_conditional_losses, lstm_cell_137_layer_call_fn, lstm_cell_137_layer_call_and_return_conditional_losses, lstm_cell_137_layer_call_and_return_conditional_losses while saving (showing 5 of 5). These functions will not be directly callable after loading.\n"
     ]
    },
    {
     "name": "stdout",
     "output_type": "stream",
     "text": [
      "INFO:tensorflow:Assets written to: /Users/yukahatori/A_Fairness/FairnessML_git/LSTM-BasicModel/model/assets\n"
     ]
    },
    {
     "name": "stderr",
     "output_type": "stream",
     "text": [
      "INFO:tensorflow:Assets written to: /Users/yukahatori/A_Fairness/FairnessML_git/LSTM-BasicModel/model/assets\n",
      "WARNING:absl:<keras.layers.recurrent.LSTMCell object at 0x7fd87d24bfd0> has the same name 'LSTMCell' as a built-in Keras object. Consider renaming <class 'keras.layers.recurrent.LSTMCell'> to avoid naming conflicts when loading with `tf.keras.models.load_model`. If renaming is not possible, pass the object in the `custom_objects` parameter of the load function.\n"
     ]
    },
    {
     "name": "stdout",
     "output_type": "stream",
     "text": [
      "247/247 [==============================] - 5s 16ms/step - loss: 0.0149 - root_mean_squared_error: 0.1220 - val_loss: 0.0020 - val_root_mean_squared_error: 0.0452\n",
      "Epoch 2/20\n",
      "234/247 [===========================>..] - ETA: 0s - loss: 0.0024 - root_mean_squared_error: 0.0487"
     ]
    },
    {
     "name": "stderr",
     "output_type": "stream",
     "text": [
      "WARNING:absl:Found untraced functions such as lstm_cell_137_layer_call_fn, lstm_cell_137_layer_call_and_return_conditional_losses, lstm_cell_137_layer_call_fn, lstm_cell_137_layer_call_and_return_conditional_losses, lstm_cell_137_layer_call_and_return_conditional_losses while saving (showing 5 of 5). These functions will not be directly callable after loading.\n"
     ]
    },
    {
     "name": "stdout",
     "output_type": "stream",
     "text": [
      "INFO:tensorflow:Assets written to: /Users/yukahatori/A_Fairness/FairnessML_git/LSTM-BasicModel/model/assets\n"
     ]
    },
    {
     "name": "stderr",
     "output_type": "stream",
     "text": [
      "INFO:tensorflow:Assets written to: /Users/yukahatori/A_Fairness/FairnessML_git/LSTM-BasicModel/model/assets\n",
      "WARNING:absl:<keras.layers.recurrent.LSTMCell object at 0x7fd87d24bfd0> has the same name 'LSTMCell' as a built-in Keras object. Consider renaming <class 'keras.layers.recurrent.LSTMCell'> to avoid naming conflicts when loading with `tf.keras.models.load_model`. If renaming is not possible, pass the object in the `custom_objects` parameter of the load function.\n"
     ]
    },
    {
     "name": "stdout",
     "output_type": "stream",
     "text": [
      "247/247 [==============================] - 4s 15ms/step - loss: 0.0023 - root_mean_squared_error: 0.0485 - val_loss: 0.0012 - val_root_mean_squared_error: 0.0341\n",
      "Epoch 3/20\n",
      "238/247 [===========================>..] - ETA: 0s - loss: 0.0012 - root_mean_squared_error: 0.0346"
     ]
    },
    {
     "name": "stderr",
     "output_type": "stream",
     "text": [
      "WARNING:absl:Found untraced functions such as lstm_cell_137_layer_call_fn, lstm_cell_137_layer_call_and_return_conditional_losses, lstm_cell_137_layer_call_fn, lstm_cell_137_layer_call_and_return_conditional_losses, lstm_cell_137_layer_call_and_return_conditional_losses while saving (showing 5 of 5). These functions will not be directly callable after loading.\n"
     ]
    },
    {
     "name": "stdout",
     "output_type": "stream",
     "text": [
      "INFO:tensorflow:Assets written to: /Users/yukahatori/A_Fairness/FairnessML_git/LSTM-BasicModel/model/assets\n"
     ]
    },
    {
     "name": "stderr",
     "output_type": "stream",
     "text": [
      "INFO:tensorflow:Assets written to: /Users/yukahatori/A_Fairness/FairnessML_git/LSTM-BasicModel/model/assets\n",
      "WARNING:absl:<keras.layers.recurrent.LSTMCell object at 0x7fd87d24bfd0> has the same name 'LSTMCell' as a built-in Keras object. Consider renaming <class 'keras.layers.recurrent.LSTMCell'> to avoid naming conflicts when loading with `tf.keras.models.load_model`. If renaming is not possible, pass the object in the `custom_objects` parameter of the load function.\n"
     ]
    },
    {
     "name": "stdout",
     "output_type": "stream",
     "text": [
      "247/247 [==============================] - 3s 14ms/step - loss: 0.0012 - root_mean_squared_error: 0.0344 - val_loss: 5.0664e-04 - val_root_mean_squared_error: 0.0225\n",
      "Epoch 4/20\n",
      "224/247 [==========================>...] - ETA: 0s - loss: 6.7890e-04 - root_mean_squared_error: 0.0261"
     ]
    },
    {
     "name": "stderr",
     "output_type": "stream",
     "text": [
      "WARNING:absl:Found untraced functions such as lstm_cell_137_layer_call_fn, lstm_cell_137_layer_call_and_return_conditional_losses, lstm_cell_137_layer_call_fn, lstm_cell_137_layer_call_and_return_conditional_losses, lstm_cell_137_layer_call_and_return_conditional_losses while saving (showing 5 of 5). These functions will not be directly callable after loading.\n"
     ]
    },
    {
     "name": "stdout",
     "output_type": "stream",
     "text": [
      "INFO:tensorflow:Assets written to: /Users/yukahatori/A_Fairness/FairnessML_git/LSTM-BasicModel/model/assets\n"
     ]
    },
    {
     "name": "stderr",
     "output_type": "stream",
     "text": [
      "INFO:tensorflow:Assets written to: /Users/yukahatori/A_Fairness/FairnessML_git/LSTM-BasicModel/model/assets\n",
      "WARNING:absl:<keras.layers.recurrent.LSTMCell object at 0x7fd87d24bfd0> has the same name 'LSTMCell' as a built-in Keras object. Consider renaming <class 'keras.layers.recurrent.LSTMCell'> to avoid naming conflicts when loading with `tf.keras.models.load_model`. If renaming is not possible, pass the object in the `custom_objects` parameter of the load function.\n"
     ]
    },
    {
     "name": "stdout",
     "output_type": "stream",
     "text": [
      "247/247 [==============================] - 4s 15ms/step - loss: 6.6207e-04 - root_mean_squared_error: 0.0257 - val_loss: 4.4984e-04 - val_root_mean_squared_error: 0.0212\n",
      "Epoch 5/20\n",
      "231/247 [===========================>..] - ETA: 0s - loss: 5.5576e-04 - root_mean_squared_error: 0.0236"
     ]
    },
    {
     "name": "stderr",
     "output_type": "stream",
     "text": [
      "WARNING:absl:Found untraced functions such as lstm_cell_137_layer_call_fn, lstm_cell_137_layer_call_and_return_conditional_losses, lstm_cell_137_layer_call_fn, lstm_cell_137_layer_call_and_return_conditional_losses, lstm_cell_137_layer_call_and_return_conditional_losses while saving (showing 5 of 5). These functions will not be directly callable after loading.\n"
     ]
    },
    {
     "name": "stdout",
     "output_type": "stream",
     "text": [
      "INFO:tensorflow:Assets written to: /Users/yukahatori/A_Fairness/FairnessML_git/LSTM-BasicModel/model/assets\n"
     ]
    },
    {
     "name": "stderr",
     "output_type": "stream",
     "text": [
      "INFO:tensorflow:Assets written to: /Users/yukahatori/A_Fairness/FairnessML_git/LSTM-BasicModel/model/assets\n",
      "WARNING:absl:<keras.layers.recurrent.LSTMCell object at 0x7fd87d24bfd0> has the same name 'LSTMCell' as a built-in Keras object. Consider renaming <class 'keras.layers.recurrent.LSTMCell'> to avoid naming conflicts when loading with `tf.keras.models.load_model`. If renaming is not possible, pass the object in the `custom_objects` parameter of the load function.\n"
     ]
    },
    {
     "name": "stdout",
     "output_type": "stream",
     "text": [
      "247/247 [==============================] - 5s 21ms/step - loss: 5.5804e-04 - root_mean_squared_error: 0.0236 - val_loss: 3.7144e-04 - val_root_mean_squared_error: 0.0193\n",
      "Epoch 6/20\n",
      "235/247 [===========================>..] - ETA: 0s - loss: 4.9177e-04 - root_mean_squared_error: 0.0222"
     ]
    },
    {
     "name": "stderr",
     "output_type": "stream",
     "text": [
      "WARNING:absl:Found untraced functions such as lstm_cell_137_layer_call_fn, lstm_cell_137_layer_call_and_return_conditional_losses, lstm_cell_137_layer_call_fn, lstm_cell_137_layer_call_and_return_conditional_losses, lstm_cell_137_layer_call_and_return_conditional_losses while saving (showing 5 of 5). These functions will not be directly callable after loading.\n"
     ]
    },
    {
     "name": "stdout",
     "output_type": "stream",
     "text": [
      "INFO:tensorflow:Assets written to: /Users/yukahatori/A_Fairness/FairnessML_git/LSTM-BasicModel/model/assets\n"
     ]
    },
    {
     "name": "stderr",
     "output_type": "stream",
     "text": [
      "INFO:tensorflow:Assets written to: /Users/yukahatori/A_Fairness/FairnessML_git/LSTM-BasicModel/model/assets\n",
      "WARNING:absl:<keras.layers.recurrent.LSTMCell object at 0x7fd87d24bfd0> has the same name 'LSTMCell' as a built-in Keras object. Consider renaming <class 'keras.layers.recurrent.LSTMCell'> to avoid naming conflicts when loading with `tf.keras.models.load_model`. If renaming is not possible, pass the object in the `custom_objects` parameter of the load function.\n"
     ]
    },
    {
     "name": "stdout",
     "output_type": "stream",
     "text": [
      "247/247 [==============================] - 6s 24ms/step - loss: 4.8793e-04 - root_mean_squared_error: 0.0221 - val_loss: 2.9060e-04 - val_root_mean_squared_error: 0.0170\n",
      "Epoch 7/20\n",
      "247/247 [==============================] - 2s 6ms/step - loss: 4.6691e-04 - root_mean_squared_error: 0.0216 - val_loss: 3.6799e-04 - val_root_mean_squared_error: 0.0192\n",
      "Epoch 8/20\n",
      "247/247 [==============================] - 2s 7ms/step - loss: 4.2591e-04 - root_mean_squared_error: 0.0206 - val_loss: 3.0759e-04 - val_root_mean_squared_error: 0.0175\n",
      "Epoch 9/20\n",
      "244/247 [============================>.] - ETA: 0s - loss: 4.1576e-04 - root_mean_squared_error: 0.0204- ETA: 2s - loss: 4.0121e-04 - root"
     ]
    },
    {
     "name": "stderr",
     "output_type": "stream",
     "text": [
      "WARNING:absl:Found untraced functions such as lstm_cell_137_layer_call_fn, lstm_cell_137_layer_call_and_return_conditional_losses, lstm_cell_137_layer_call_fn, lstm_cell_137_layer_call_and_return_conditional_losses, lstm_cell_137_layer_call_and_return_conditional_losses while saving (showing 5 of 5). These functions will not be directly callable after loading.\n"
     ]
    },
    {
     "name": "stdout",
     "output_type": "stream",
     "text": [
      "INFO:tensorflow:Assets written to: /Users/yukahatori/A_Fairness/FairnessML_git/LSTM-BasicModel/model/assets\n"
     ]
    },
    {
     "name": "stderr",
     "output_type": "stream",
     "text": [
      "INFO:tensorflow:Assets written to: /Users/yukahatori/A_Fairness/FairnessML_git/LSTM-BasicModel/model/assets\n",
      "WARNING:absl:<keras.layers.recurrent.LSTMCell object at 0x7fd87d24bfd0> has the same name 'LSTMCell' as a built-in Keras object. Consider renaming <class 'keras.layers.recurrent.LSTMCell'> to avoid naming conflicts when loading with `tf.keras.models.load_model`. If renaming is not possible, pass the object in the `custom_objects` parameter of the load function.\n"
     ]
    },
    {
     "name": "stdout",
     "output_type": "stream",
     "text": [
      "247/247 [==============================] - 7s 29ms/step - loss: 4.1413e-04 - root_mean_squared_error: 0.0204 - val_loss: 2.7516e-04 - val_root_mean_squared_error: 0.0166\n",
      "Epoch 10/20\n",
      "247/247 [==============================] - ETA: 0s - loss: 4.1042e-04 - root_mean_squared_error: 0.0203"
     ]
    },
    {
     "name": "stderr",
     "output_type": "stream",
     "text": [
      "WARNING:absl:Found untraced functions such as lstm_cell_137_layer_call_fn, lstm_cell_137_layer_call_and_return_conditional_losses, lstm_cell_137_layer_call_fn, lstm_cell_137_layer_call_and_return_conditional_losses, lstm_cell_137_layer_call_and_return_conditional_losses while saving (showing 5 of 5). These functions will not be directly callable after loading.\n"
     ]
    },
    {
     "name": "stdout",
     "output_type": "stream",
     "text": [
      "INFO:tensorflow:Assets written to: /Users/yukahatori/A_Fairness/FairnessML_git/LSTM-BasicModel/model/assets\n"
     ]
    },
    {
     "name": "stderr",
     "output_type": "stream",
     "text": [
      "INFO:tensorflow:Assets written to: /Users/yukahatori/A_Fairness/FairnessML_git/LSTM-BasicModel/model/assets\n",
      "WARNING:absl:<keras.layers.recurrent.LSTMCell object at 0x7fd87d24bfd0> has the same name 'LSTMCell' as a built-in Keras object. Consider renaming <class 'keras.layers.recurrent.LSTMCell'> to avoid naming conflicts when loading with `tf.keras.models.load_model`. If renaming is not possible, pass the object in the `custom_objects` parameter of the load function.\n"
     ]
    },
    {
     "name": "stdout",
     "output_type": "stream",
     "text": [
      "247/247 [==============================] - 5s 20ms/step - loss: 4.1042e-04 - root_mean_squared_error: 0.0203 - val_loss: 2.2355e-04 - val_root_mean_squared_error: 0.0150\n",
      "Epoch 11/20\n",
      "247/247 [==============================] - 1s 3ms/step - loss: 3.4875e-04 - root_mean_squared_error: 0.0187 - val_loss: 2.9078e-04 - val_root_mean_squared_error: 0.0171\n",
      "Epoch 12/20\n",
      "247/247 [==============================] - 1s 2ms/step - loss: 3.4986e-04 - root_mean_squared_error: 0.0187 - val_loss: 3.2025e-04 - val_root_mean_squared_error: 0.0179\n",
      "Epoch 13/20\n",
      "247/247 [==============================] - 1s 2ms/step - loss: 2.9512e-04 - root_mean_squared_error: 0.0172 - val_loss: 4.1593e-04 - val_root_mean_squared_error: 0.0204\n",
      "Epoch 14/20\n",
      "237/247 [===========================>..] - ETA: 0s - loss: 2.7549e-04 - root_mean_squared_error: 0.0166"
     ]
    },
    {
     "name": "stderr",
     "output_type": "stream",
     "text": [
      "WARNING:absl:Found untraced functions such as lstm_cell_137_layer_call_fn, lstm_cell_137_layer_call_and_return_conditional_losses, lstm_cell_137_layer_call_fn, lstm_cell_137_layer_call_and_return_conditional_losses, lstm_cell_137_layer_call_and_return_conditional_losses while saving (showing 5 of 5). These functions will not be directly callable after loading.\n"
     ]
    },
    {
     "name": "stdout",
     "output_type": "stream",
     "text": [
      "INFO:tensorflow:Assets written to: /Users/yukahatori/A_Fairness/FairnessML_git/LSTM-BasicModel/model/assets\n"
     ]
    },
    {
     "name": "stderr",
     "output_type": "stream",
     "text": [
      "INFO:tensorflow:Assets written to: /Users/yukahatori/A_Fairness/FairnessML_git/LSTM-BasicModel/model/assets\n",
      "WARNING:absl:<keras.layers.recurrent.LSTMCell object at 0x7fd87d24bfd0> has the same name 'LSTMCell' as a built-in Keras object. Consider renaming <class 'keras.layers.recurrent.LSTMCell'> to avoid naming conflicts when loading with `tf.keras.models.load_model`. If renaming is not possible, pass the object in the `custom_objects` parameter of the load function.\n"
     ]
    },
    {
     "name": "stdout",
     "output_type": "stream",
     "text": [
      "247/247 [==============================] - 4s 17ms/step - loss: 2.7591e-04 - root_mean_squared_error: 0.0166 - val_loss: 2.0010e-04 - val_root_mean_squared_error: 0.0141\n",
      "Epoch 15/20\n",
      "247/247 [==============================] - 1s 2ms/step - loss: 2.4719e-04 - root_mean_squared_error: 0.0157 - val_loss: 2.3694e-04 - val_root_mean_squared_error: 0.0154\n",
      "Epoch 16/20\n",
      "247/247 [==============================] - 1s 2ms/step - loss: 2.2409e-04 - root_mean_squared_error: 0.0150 - val_loss: 2.2306e-04 - val_root_mean_squared_error: 0.0149\n",
      "Epoch 17/20\n",
      "229/247 [==========================>...] - ETA: 0s - loss: 2.1778e-04 - root_mean_squared_error: 0.0148"
     ]
    },
    {
     "name": "stderr",
     "output_type": "stream",
     "text": [
      "WARNING:absl:Found untraced functions such as lstm_cell_137_layer_call_fn, lstm_cell_137_layer_call_and_return_conditional_losses, lstm_cell_137_layer_call_fn, lstm_cell_137_layer_call_and_return_conditional_losses, lstm_cell_137_layer_call_and_return_conditional_losses while saving (showing 5 of 5). These functions will not be directly callable after loading.\n"
     ]
    },
    {
     "name": "stdout",
     "output_type": "stream",
     "text": [
      "INFO:tensorflow:Assets written to: /Users/yukahatori/A_Fairness/FairnessML_git/LSTM-BasicModel/model/assets\n"
     ]
    },
    {
     "name": "stderr",
     "output_type": "stream",
     "text": [
      "INFO:tensorflow:Assets written to: /Users/yukahatori/A_Fairness/FairnessML_git/LSTM-BasicModel/model/assets\n",
      "WARNING:absl:<keras.layers.recurrent.LSTMCell object at 0x7fd87d24bfd0> has the same name 'LSTMCell' as a built-in Keras object. Consider renaming <class 'keras.layers.recurrent.LSTMCell'> to avoid naming conflicts when loading with `tf.keras.models.load_model`. If renaming is not possible, pass the object in the `custom_objects` parameter of the load function.\n"
     ]
    },
    {
     "name": "stdout",
     "output_type": "stream",
     "text": [
      "247/247 [==============================] - 4s 14ms/step - loss: 2.2078e-04 - root_mean_squared_error: 0.0149 - val_loss: 1.9915e-04 - val_root_mean_squared_error: 0.0141\n",
      "Epoch 18/20\n",
      "247/247 [==============================] - 1s 2ms/step - loss: 2.3375e-04 - root_mean_squared_error: 0.0153 - val_loss: 3.0463e-04 - val_root_mean_squared_error: 0.0175\n",
      "Epoch 19/20\n",
      "247/247 [==============================] - 0s 2ms/step - loss: 2.1367e-04 - root_mean_squared_error: 0.0146 - val_loss: 2.0400e-04 - val_root_mean_squared_error: 0.0143\n",
      "Epoch 20/20\n",
      "247/247 [==============================] - 1s 2ms/step - loss: 1.9693e-04 - root_mean_squared_error: 0.0140 - val_loss: 2.0191e-04 - val_root_mean_squared_error: 0.0142\n",
      "RMSE value:  0.013637612313521605\n",
      "8758\n",
      "Epoch 1/20\n",
      "228/247 [==========================>...] - ETA: 0s - loss: 0.0139 - root_mean_squared_error: 0.1177"
     ]
    },
    {
     "name": "stderr",
     "output_type": "stream",
     "text": [
      "WARNING:absl:Found untraced functions such as lstm_cell_138_layer_call_fn, lstm_cell_138_layer_call_and_return_conditional_losses, lstm_cell_138_layer_call_fn, lstm_cell_138_layer_call_and_return_conditional_losses, lstm_cell_138_layer_call_and_return_conditional_losses while saving (showing 5 of 5). These functions will not be directly callable after loading.\n"
     ]
    },
    {
     "name": "stdout",
     "output_type": "stream",
     "text": [
      "INFO:tensorflow:Assets written to: /Users/yukahatori/A_Fairness/FairnessML_git/LSTM-BasicModel/model/assets\n"
     ]
    },
    {
     "name": "stderr",
     "output_type": "stream",
     "text": [
      "INFO:tensorflow:Assets written to: /Users/yukahatori/A_Fairness/FairnessML_git/LSTM-BasicModel/model/assets\n",
      "WARNING:absl:<keras.layers.recurrent.LSTMCell object at 0x7fd87d46be80> has the same name 'LSTMCell' as a built-in Keras object. Consider renaming <class 'keras.layers.recurrent.LSTMCell'> to avoid naming conflicts when loading with `tf.keras.models.load_model`. If renaming is not possible, pass the object in the `custom_objects` parameter of the load function.\n"
     ]
    },
    {
     "name": "stdout",
     "output_type": "stream",
     "text": [
      "247/247 [==============================] - 6s 18ms/step - loss: 0.0131 - root_mean_squared_error: 0.1142 - val_loss: 0.0021 - val_root_mean_squared_error: 0.0461\n",
      "Epoch 2/20\n",
      "239/247 [============================>.] - ETA: 0s - loss: 0.0025 - root_mean_squared_error: 0.0497"
     ]
    },
    {
     "name": "stderr",
     "output_type": "stream",
     "text": [
      "WARNING:absl:Found untraced functions such as lstm_cell_138_layer_call_fn, lstm_cell_138_layer_call_and_return_conditional_losses, lstm_cell_138_layer_call_fn, lstm_cell_138_layer_call_and_return_conditional_losses, lstm_cell_138_layer_call_and_return_conditional_losses while saving (showing 5 of 5). These functions will not be directly callable after loading.\n"
     ]
    },
    {
     "name": "stdout",
     "output_type": "stream",
     "text": [
      "INFO:tensorflow:Assets written to: /Users/yukahatori/A_Fairness/FairnessML_git/LSTM-BasicModel/model/assets\n"
     ]
    },
    {
     "name": "stderr",
     "output_type": "stream",
     "text": [
      "INFO:tensorflow:Assets written to: /Users/yukahatori/A_Fairness/FairnessML_git/LSTM-BasicModel/model/assets\n",
      "WARNING:absl:<keras.layers.recurrent.LSTMCell object at 0x7fd87d46be80> has the same name 'LSTMCell' as a built-in Keras object. Consider renaming <class 'keras.layers.recurrent.LSTMCell'> to avoid naming conflicts when loading with `tf.keras.models.load_model`. If renaming is not possible, pass the object in the `custom_objects` parameter of the load function.\n"
     ]
    },
    {
     "name": "stdout",
     "output_type": "stream",
     "text": [
      "247/247 [==============================] - 3s 13ms/step - loss: 0.0025 - root_mean_squared_error: 0.0495 - val_loss: 0.0015 - val_root_mean_squared_error: 0.0383\n",
      "Epoch 3/20\n",
      "244/247 [============================>.] - ETA: 0s - loss: 0.0014 - root_mean_squared_error: 0.0372"
     ]
    },
    {
     "name": "stderr",
     "output_type": "stream",
     "text": [
      "WARNING:absl:Found untraced functions such as lstm_cell_138_layer_call_fn, lstm_cell_138_layer_call_and_return_conditional_losses, lstm_cell_138_layer_call_fn, lstm_cell_138_layer_call_and_return_conditional_losses, lstm_cell_138_layer_call_and_return_conditional_losses while saving (showing 5 of 5). These functions will not be directly callable after loading.\n"
     ]
    },
    {
     "name": "stdout",
     "output_type": "stream",
     "text": [
      "INFO:tensorflow:Assets written to: /Users/yukahatori/A_Fairness/FairnessML_git/LSTM-BasicModel/model/assets\n"
     ]
    },
    {
     "name": "stderr",
     "output_type": "stream",
     "text": [
      "INFO:tensorflow:Assets written to: /Users/yukahatori/A_Fairness/FairnessML_git/LSTM-BasicModel/model/assets\n",
      "WARNING:absl:<keras.layers.recurrent.LSTMCell object at 0x7fd87d46be80> has the same name 'LSTMCell' as a built-in Keras object. Consider renaming <class 'keras.layers.recurrent.LSTMCell'> to avoid naming conflicts when loading with `tf.keras.models.load_model`. If renaming is not possible, pass the object in the `custom_objects` parameter of the load function.\n"
     ]
    },
    {
     "name": "stdout",
     "output_type": "stream",
     "text": [
      "247/247 [==============================] - 4s 16ms/step - loss: 0.0014 - root_mean_squared_error: 0.0372 - val_loss: 8.6796e-04 - val_root_mean_squared_error: 0.0295\n",
      "Epoch 4/20\n",
      "239/247 [============================>.] - ETA: 0s - loss: 7.1785e-04 - root_mean_squared_error: 0.0268"
     ]
    },
    {
     "name": "stderr",
     "output_type": "stream",
     "text": [
      "WARNING:absl:Found untraced functions such as lstm_cell_138_layer_call_fn, lstm_cell_138_layer_call_and_return_conditional_losses, lstm_cell_138_layer_call_fn, lstm_cell_138_layer_call_and_return_conditional_losses, lstm_cell_138_layer_call_and_return_conditional_losses while saving (showing 5 of 5). These functions will not be directly callable after loading.\n"
     ]
    },
    {
     "name": "stdout",
     "output_type": "stream",
     "text": [
      "INFO:tensorflow:Assets written to: /Users/yukahatori/A_Fairness/FairnessML_git/LSTM-BasicModel/model/assets\n"
     ]
    },
    {
     "name": "stderr",
     "output_type": "stream",
     "text": [
      "INFO:tensorflow:Assets written to: /Users/yukahatori/A_Fairness/FairnessML_git/LSTM-BasicModel/model/assets\n",
      "WARNING:absl:<keras.layers.recurrent.LSTMCell object at 0x7fd87d46be80> has the same name 'LSTMCell' as a built-in Keras object. Consider renaming <class 'keras.layers.recurrent.LSTMCell'> to avoid naming conflicts when loading with `tf.keras.models.load_model`. If renaming is not possible, pass the object in the `custom_objects` parameter of the load function.\n"
     ]
    },
    {
     "name": "stdout",
     "output_type": "stream",
     "text": [
      "247/247 [==============================] - 4s 16ms/step - loss: 7.1559e-04 - root_mean_squared_error: 0.0268 - val_loss: 5.3915e-04 - val_root_mean_squared_error: 0.0232\n",
      "Epoch 5/20\n",
      "241/247 [============================>.] - ETA: 0s - loss: 6.0408e-04 - root_mean_squared_error: 0.0246"
     ]
    },
    {
     "name": "stderr",
     "output_type": "stream",
     "text": [
      "WARNING:absl:Found untraced functions such as lstm_cell_138_layer_call_fn, lstm_cell_138_layer_call_and_return_conditional_losses, lstm_cell_138_layer_call_fn, lstm_cell_138_layer_call_and_return_conditional_losses, lstm_cell_138_layer_call_and_return_conditional_losses while saving (showing 5 of 5). These functions will not be directly callable after loading.\n"
     ]
    },
    {
     "name": "stdout",
     "output_type": "stream",
     "text": [
      "INFO:tensorflow:Assets written to: /Users/yukahatori/A_Fairness/FairnessML_git/LSTM-BasicModel/model/assets\n"
     ]
    },
    {
     "name": "stderr",
     "output_type": "stream",
     "text": [
      "INFO:tensorflow:Assets written to: /Users/yukahatori/A_Fairness/FairnessML_git/LSTM-BasicModel/model/assets\n",
      "WARNING:absl:<keras.layers.recurrent.LSTMCell object at 0x7fd87d46be80> has the same name 'LSTMCell' as a built-in Keras object. Consider renaming <class 'keras.layers.recurrent.LSTMCell'> to avoid naming conflicts when loading with `tf.keras.models.load_model`. If renaming is not possible, pass the object in the `custom_objects` parameter of the load function.\n"
     ]
    },
    {
     "name": "stdout",
     "output_type": "stream",
     "text": [
      "247/247 [==============================] - 5s 19ms/step - loss: 6.0612e-04 - root_mean_squared_error: 0.0246 - val_loss: 3.7728e-04 - val_root_mean_squared_error: 0.0194\n",
      "Epoch 6/20\n",
      "247/247 [==============================] - 1s 3ms/step - loss: 5.6963e-04 - root_mean_squared_error: 0.0239 - val_loss: 4.4558e-04 - val_root_mean_squared_error: 0.0211\n",
      "Epoch 7/20\n",
      "247/247 [==============================] - 1s 2ms/step - loss: 5.4705e-04 - root_mean_squared_error: 0.0234 - val_loss: 4.8302e-04 - val_root_mean_squared_error: 0.0220\n",
      "Epoch 8/20\n",
      "240/247 [============================>.] - ETA: 0s - loss: 5.2317e-04 - root_mean_squared_error: 0.0229"
     ]
    },
    {
     "name": "stderr",
     "output_type": "stream",
     "text": [
      "WARNING:absl:Found untraced functions such as lstm_cell_138_layer_call_fn, lstm_cell_138_layer_call_and_return_conditional_losses, lstm_cell_138_layer_call_fn, lstm_cell_138_layer_call_and_return_conditional_losses, lstm_cell_138_layer_call_and_return_conditional_losses while saving (showing 5 of 5). These functions will not be directly callable after loading.\n"
     ]
    },
    {
     "name": "stdout",
     "output_type": "stream",
     "text": [
      "INFO:tensorflow:Assets written to: /Users/yukahatori/A_Fairness/FairnessML_git/LSTM-BasicModel/model/assets\n"
     ]
    },
    {
     "name": "stderr",
     "output_type": "stream",
     "text": [
      "INFO:tensorflow:Assets written to: /Users/yukahatori/A_Fairness/FairnessML_git/LSTM-BasicModel/model/assets\n",
      "WARNING:absl:<keras.layers.recurrent.LSTMCell object at 0x7fd87d46be80> has the same name 'LSTMCell' as a built-in Keras object. Consider renaming <class 'keras.layers.recurrent.LSTMCell'> to avoid naming conflicts when loading with `tf.keras.models.load_model`. If renaming is not possible, pass the object in the `custom_objects` parameter of the load function.\n"
     ]
    },
    {
     "name": "stdout",
     "output_type": "stream",
     "text": [
      "247/247 [==============================] - 4s 16ms/step - loss: 5.2036e-04 - root_mean_squared_error: 0.0228 - val_loss: 3.1125e-04 - val_root_mean_squared_error: 0.0176\n",
      "Epoch 9/20\n",
      "242/247 [============================>.] - ETA: 0s - loss: 5.4377e-04 - root_mean_squared_error: 0.0233"
     ]
    },
    {
     "name": "stderr",
     "output_type": "stream",
     "text": [
      "WARNING:absl:Found untraced functions such as lstm_cell_138_layer_call_fn, lstm_cell_138_layer_call_and_return_conditional_losses, lstm_cell_138_layer_call_fn, lstm_cell_138_layer_call_and_return_conditional_losses, lstm_cell_138_layer_call_and_return_conditional_losses while saving (showing 5 of 5). These functions will not be directly callable after loading.\n"
     ]
    },
    {
     "name": "stdout",
     "output_type": "stream",
     "text": [
      "INFO:tensorflow:Assets written to: /Users/yukahatori/A_Fairness/FairnessML_git/LSTM-BasicModel/model/assets\n"
     ]
    },
    {
     "name": "stderr",
     "output_type": "stream",
     "text": [
      "INFO:tensorflow:Assets written to: /Users/yukahatori/A_Fairness/FairnessML_git/LSTM-BasicModel/model/assets\n",
      "WARNING:absl:<keras.layers.recurrent.LSTMCell object at 0x7fd87d46be80> has the same name 'LSTMCell' as a built-in Keras object. Consider renaming <class 'keras.layers.recurrent.LSTMCell'> to avoid naming conflicts when loading with `tf.keras.models.load_model`. If renaming is not possible, pass the object in the `custom_objects` parameter of the load function.\n"
     ]
    },
    {
     "name": "stdout",
     "output_type": "stream",
     "text": [
      "247/247 [==============================] - 4s 17ms/step - loss: 5.4157e-04 - root_mean_squared_error: 0.0233 - val_loss: 3.1118e-04 - val_root_mean_squared_error: 0.0176\n",
      "Epoch 10/20\n",
      "247/247 [==============================] - 1s 2ms/step - loss: 4.9733e-04 - root_mean_squared_error: 0.0223 - val_loss: 3.9667e-04 - val_root_mean_squared_error: 0.0199\n",
      "Epoch 11/20\n",
      "247/247 [==============================] - 1s 2ms/step - loss: 4.7452e-04 - root_mean_squared_error: 0.0218 - val_loss: 6.6864e-04 - val_root_mean_squared_error: 0.0259\n",
      "Epoch 12/20\n",
      "247/247 [==============================] - 1s 3ms/step - loss: 5.0402e-04 - root_mean_squared_error: 0.0225 - val_loss: 3.8524e-04 - val_root_mean_squared_error: 0.0196\n",
      "Epoch 13/20\n",
      "228/247 [==========================>...] - ETA: 0s - loss: 4.9032e-04 - root_mean_squared_error: 0.0221"
     ]
    },
    {
     "name": "stderr",
     "output_type": "stream",
     "text": [
      "WARNING:absl:Found untraced functions such as lstm_cell_138_layer_call_fn, lstm_cell_138_layer_call_and_return_conditional_losses, lstm_cell_138_layer_call_fn, lstm_cell_138_layer_call_and_return_conditional_losses, lstm_cell_138_layer_call_and_return_conditional_losses while saving (showing 5 of 5). These functions will not be directly callable after loading.\n"
     ]
    },
    {
     "name": "stdout",
     "output_type": "stream",
     "text": [
      "INFO:tensorflow:Assets written to: /Users/yukahatori/A_Fairness/FairnessML_git/LSTM-BasicModel/model/assets\n"
     ]
    },
    {
     "name": "stderr",
     "output_type": "stream",
     "text": [
      "INFO:tensorflow:Assets written to: /Users/yukahatori/A_Fairness/FairnessML_git/LSTM-BasicModel/model/assets\n",
      "WARNING:absl:<keras.layers.recurrent.LSTMCell object at 0x7fd87d46be80> has the same name 'LSTMCell' as a built-in Keras object. Consider renaming <class 'keras.layers.recurrent.LSTMCell'> to avoid naming conflicts when loading with `tf.keras.models.load_model`. If renaming is not possible, pass the object in the `custom_objects` parameter of the load function.\n"
     ]
    },
    {
     "name": "stdout",
     "output_type": "stream",
     "text": [
      "247/247 [==============================] - 4s 17ms/step - loss: 4.8606e-04 - root_mean_squared_error: 0.0220 - val_loss: 2.6211e-04 - val_root_mean_squared_error: 0.0162\n",
      "Epoch 14/20\n",
      "247/247 [==============================] - 0s 2ms/step - loss: 4.4444e-04 - root_mean_squared_error: 0.0211 - val_loss: 8.8286e-04 - val_root_mean_squared_error: 0.0297\n",
      "Epoch 15/20\n",
      "247/247 [==============================] - 0s 2ms/step - loss: 4.5765e-04 - root_mean_squared_error: 0.0214 - val_loss: 2.7670e-04 - val_root_mean_squared_error: 0.0166\n",
      "Epoch 16/20\n",
      "247/247 [==============================] - 0s 2ms/step - loss: 4.3305e-04 - root_mean_squared_error: 0.0208 - val_loss: 3.4132e-04 - val_root_mean_squared_error: 0.0185\n",
      "Epoch 17/20\n",
      "228/247 [==========================>...] - ETA: 0s - loss: 4.2079e-04 - root_mean_squared_error: 0.0205"
     ]
    },
    {
     "name": "stderr",
     "output_type": "stream",
     "text": [
      "WARNING:absl:Found untraced functions such as lstm_cell_138_layer_call_fn, lstm_cell_138_layer_call_and_return_conditional_losses, lstm_cell_138_layer_call_fn, lstm_cell_138_layer_call_and_return_conditional_losses, lstm_cell_138_layer_call_and_return_conditional_losses while saving (showing 5 of 5). These functions will not be directly callable after loading.\n"
     ]
    },
    {
     "name": "stdout",
     "output_type": "stream",
     "text": [
      "INFO:tensorflow:Assets written to: /Users/yukahatori/A_Fairness/FairnessML_git/LSTM-BasicModel/model/assets\n"
     ]
    },
    {
     "name": "stderr",
     "output_type": "stream",
     "text": [
      "INFO:tensorflow:Assets written to: /Users/yukahatori/A_Fairness/FairnessML_git/LSTM-BasicModel/model/assets\n",
      "WARNING:absl:<keras.layers.recurrent.LSTMCell object at 0x7fd87d46be80> has the same name 'LSTMCell' as a built-in Keras object. Consider renaming <class 'keras.layers.recurrent.LSTMCell'> to avoid naming conflicts when loading with `tf.keras.models.load_model`. If renaming is not possible, pass the object in the `custom_objects` parameter of the load function.\n"
     ]
    },
    {
     "name": "stdout",
     "output_type": "stream",
     "text": [
      "247/247 [==============================] - 4s 16ms/step - loss: 4.1380e-04 - root_mean_squared_error: 0.0203 - val_loss: 2.4939e-04 - val_root_mean_squared_error: 0.0158\n",
      "Epoch 18/20\n",
      "247/247 [==============================] - 0s 2ms/step - loss: 3.8805e-04 - root_mean_squared_error: 0.0197 - val_loss: 2.5415e-04 - val_root_mean_squared_error: 0.0159\n",
      "Epoch 19/20\n",
      "246/247 [============================>.] - ETA: 0s - loss: 3.9407e-04 - root_mean_squared_error: 0.0199"
     ]
    },
    {
     "name": "stderr",
     "output_type": "stream",
     "text": [
      "WARNING:absl:Found untraced functions such as lstm_cell_138_layer_call_fn, lstm_cell_138_layer_call_and_return_conditional_losses, lstm_cell_138_layer_call_fn, lstm_cell_138_layer_call_and_return_conditional_losses, lstm_cell_138_layer_call_and_return_conditional_losses while saving (showing 5 of 5). These functions will not be directly callable after loading.\n"
     ]
    },
    {
     "name": "stdout",
     "output_type": "stream",
     "text": [
      "INFO:tensorflow:Assets written to: /Users/yukahatori/A_Fairness/FairnessML_git/LSTM-BasicModel/model/assets\n"
     ]
    },
    {
     "name": "stderr",
     "output_type": "stream",
     "text": [
      "INFO:tensorflow:Assets written to: /Users/yukahatori/A_Fairness/FairnessML_git/LSTM-BasicModel/model/assets\n",
      "WARNING:absl:<keras.layers.recurrent.LSTMCell object at 0x7fd87d46be80> has the same name 'LSTMCell' as a built-in Keras object. Consider renaming <class 'keras.layers.recurrent.LSTMCell'> to avoid naming conflicts when loading with `tf.keras.models.load_model`. If renaming is not possible, pass the object in the `custom_objects` parameter of the load function.\n"
     ]
    },
    {
     "name": "stdout",
     "output_type": "stream",
     "text": [
      "247/247 [==============================] - 3s 14ms/step - loss: 3.9362e-04 - root_mean_squared_error: 0.0198 - val_loss: 2.0824e-04 - val_root_mean_squared_error: 0.0144\n",
      "Epoch 20/20\n",
      "247/247 [==============================] - 0s 2ms/step - loss: 3.7348e-04 - root_mean_squared_error: 0.0193 - val_loss: 2.6864e-04 - val_root_mean_squared_error: 0.0164\n",
      "RMSE value:  0.022725108157675665\n",
      "8758\n",
      "Epoch 1/20\n",
      "220/247 [=========================>....] - ETA: 0s - loss: 0.0141 - root_mean_squared_error: 0.1189"
     ]
    },
    {
     "name": "stderr",
     "output_type": "stream",
     "text": [
      "WARNING:absl:Found untraced functions such as lstm_cell_139_layer_call_fn, lstm_cell_139_layer_call_and_return_conditional_losses, lstm_cell_139_layer_call_fn, lstm_cell_139_layer_call_and_return_conditional_losses, lstm_cell_139_layer_call_and_return_conditional_losses while saving (showing 5 of 5). These functions will not be directly callable after loading.\n"
     ]
    },
    {
     "name": "stdout",
     "output_type": "stream",
     "text": [
      "INFO:tensorflow:Assets written to: /Users/yukahatori/A_Fairness/FairnessML_git/LSTM-BasicModel/model/assets\n"
     ]
    },
    {
     "name": "stderr",
     "output_type": "stream",
     "text": [
      "INFO:tensorflow:Assets written to: /Users/yukahatori/A_Fairness/FairnessML_git/LSTM-BasicModel/model/assets\n",
      "WARNING:absl:<keras.layers.recurrent.LSTMCell object at 0x7fd85c9b9820> has the same name 'LSTMCell' as a built-in Keras object. Consider renaming <class 'keras.layers.recurrent.LSTMCell'> to avoid naming conflicts when loading with `tf.keras.models.load_model`. If renaming is not possible, pass the object in the `custom_objects` parameter of the load function.\n"
     ]
    },
    {
     "name": "stdout",
     "output_type": "stream",
     "text": [
      "247/247 [==============================] - 5s 15ms/step - loss: 0.0130 - root_mean_squared_error: 0.1140 - val_loss: 0.0024 - val_root_mean_squared_error: 0.0492\n",
      "Epoch 2/20\n",
      "247/247 [==============================] - ETA: 0s - loss: 0.0028 - root_mean_squared_error: 0.0533"
     ]
    },
    {
     "name": "stderr",
     "output_type": "stream",
     "text": [
      "WARNING:absl:Found untraced functions such as lstm_cell_139_layer_call_fn, lstm_cell_139_layer_call_and_return_conditional_losses, lstm_cell_139_layer_call_fn, lstm_cell_139_layer_call_and_return_conditional_losses, lstm_cell_139_layer_call_and_return_conditional_losses while saving (showing 5 of 5). These functions will not be directly callable after loading.\n"
     ]
    },
    {
     "name": "stdout",
     "output_type": "stream",
     "text": [
      "INFO:tensorflow:Assets written to: /Users/yukahatori/A_Fairness/FairnessML_git/LSTM-BasicModel/model/assets\n"
     ]
    },
    {
     "name": "stderr",
     "output_type": "stream",
     "text": [
      "INFO:tensorflow:Assets written to: /Users/yukahatori/A_Fairness/FairnessML_git/LSTM-BasicModel/model/assets\n",
      "WARNING:absl:<keras.layers.recurrent.LSTMCell object at 0x7fd85c9b9820> has the same name 'LSTMCell' as a built-in Keras object. Consider renaming <class 'keras.layers.recurrent.LSTMCell'> to avoid naming conflicts when loading with `tf.keras.models.load_model`. If renaming is not possible, pass the object in the `custom_objects` parameter of the load function.\n"
     ]
    },
    {
     "name": "stdout",
     "output_type": "stream",
     "text": [
      "247/247 [==============================] - 4s 16ms/step - loss: 0.0028 - root_mean_squared_error: 0.0533 - val_loss: 0.0012 - val_root_mean_squared_error: 0.0341\n",
      "Epoch 3/20\n",
      "247/247 [==============================] - 1s 2ms/step - loss: 0.0019 - root_mean_squared_error: 0.0435 - val_loss: 0.0012 - val_root_mean_squared_error: 0.0343\n",
      "Epoch 4/20\n",
      "226/247 [==========================>...] - ETA: 0s - loss: 9.7691e-04 - root_mean_squared_error: 0.0313"
     ]
    },
    {
     "name": "stderr",
     "output_type": "stream",
     "text": [
      "WARNING:absl:Found untraced functions such as lstm_cell_139_layer_call_fn, lstm_cell_139_layer_call_and_return_conditional_losses, lstm_cell_139_layer_call_fn, lstm_cell_139_layer_call_and_return_conditional_losses, lstm_cell_139_layer_call_and_return_conditional_losses while saving (showing 5 of 5). These functions will not be directly callable after loading.\n"
     ]
    },
    {
     "name": "stdout",
     "output_type": "stream",
     "text": [
      "INFO:tensorflow:Assets written to: /Users/yukahatori/A_Fairness/FairnessML_git/LSTM-BasicModel/model/assets\n"
     ]
    },
    {
     "name": "stderr",
     "output_type": "stream",
     "text": [
      "INFO:tensorflow:Assets written to: /Users/yukahatori/A_Fairness/FairnessML_git/LSTM-BasicModel/model/assets\n",
      "WARNING:absl:<keras.layers.recurrent.LSTMCell object at 0x7fd85c9b9820> has the same name 'LSTMCell' as a built-in Keras object. Consider renaming <class 'keras.layers.recurrent.LSTMCell'> to avoid naming conflicts when loading with `tf.keras.models.load_model`. If renaming is not possible, pass the object in the `custom_objects` parameter of the load function.\n"
     ]
    },
    {
     "name": "stdout",
     "output_type": "stream",
     "text": [
      "247/247 [==============================] - 4s 14ms/step - loss: 9.4813e-04 - root_mean_squared_error: 0.0308 - val_loss: 5.3520e-04 - val_root_mean_squared_error: 0.0231\n",
      "Epoch 5/20\n",
      "243/247 [============================>.] - ETA: 0s - loss: 6.2140e-04 - root_mean_squared_error: 0.0249"
     ]
    },
    {
     "name": "stderr",
     "output_type": "stream",
     "text": [
      "WARNING:absl:Found untraced functions such as lstm_cell_139_layer_call_fn, lstm_cell_139_layer_call_and_return_conditional_losses, lstm_cell_139_layer_call_fn, lstm_cell_139_layer_call_and_return_conditional_losses, lstm_cell_139_layer_call_and_return_conditional_losses while saving (showing 5 of 5). These functions will not be directly callable after loading.\n"
     ]
    },
    {
     "name": "stdout",
     "output_type": "stream",
     "text": [
      "INFO:tensorflow:Assets written to: /Users/yukahatori/A_Fairness/FairnessML_git/LSTM-BasicModel/model/assets\n"
     ]
    },
    {
     "name": "stderr",
     "output_type": "stream",
     "text": [
      "INFO:tensorflow:Assets written to: /Users/yukahatori/A_Fairness/FairnessML_git/LSTM-BasicModel/model/assets\n",
      "WARNING:absl:<keras.layers.recurrent.LSTMCell object at 0x7fd85c9b9820> has the same name 'LSTMCell' as a built-in Keras object. Consider renaming <class 'keras.layers.recurrent.LSTMCell'> to avoid naming conflicts when loading with `tf.keras.models.load_model`. If renaming is not possible, pass the object in the `custom_objects` parameter of the load function.\n"
     ]
    },
    {
     "name": "stdout",
     "output_type": "stream",
     "text": [
      "247/247 [==============================] - 4s 16ms/step - loss: 6.2170e-04 - root_mean_squared_error: 0.0249 - val_loss: 4.6074e-04 - val_root_mean_squared_error: 0.0215\n",
      "Epoch 6/20\n",
      "247/247 [==============================] - 1s 2ms/step - loss: 5.6186e-04 - root_mean_squared_error: 0.0237 - val_loss: 5.0290e-04 - val_root_mean_squared_error: 0.0224\n",
      "Epoch 7/20\n",
      "247/247 [==============================] - 1s 3ms/step - loss: 5.8625e-04 - root_mean_squared_error: 0.0242 - val_loss: 4.7260e-04 - val_root_mean_squared_error: 0.0217\n",
      "Epoch 8/20\n",
      "247/247 [==============================] - 1s 2ms/step - loss: 5.3946e-04 - root_mean_squared_error: 0.0232 - val_loss: 5.1048e-04 - val_root_mean_squared_error: 0.0226\n",
      "Epoch 9/20\n",
      "247/247 [==============================] - 1s 3ms/step - loss: 4.9923e-04 - root_mean_squared_error: 0.0223 - val_loss: 5.2665e-04 - val_root_mean_squared_error: 0.0229\n",
      "Epoch 10/20\n",
      "236/247 [===========================>..] - ETA: 0s - loss: 5.1371e-04 - root_mean_squared_error: 0.0227"
     ]
    },
    {
     "name": "stderr",
     "output_type": "stream",
     "text": [
      "WARNING:absl:Found untraced functions such as lstm_cell_139_layer_call_fn, lstm_cell_139_layer_call_and_return_conditional_losses, lstm_cell_139_layer_call_fn, lstm_cell_139_layer_call_and_return_conditional_losses, lstm_cell_139_layer_call_and_return_conditional_losses while saving (showing 5 of 5). These functions will not be directly callable after loading.\n"
     ]
    },
    {
     "name": "stdout",
     "output_type": "stream",
     "text": [
      "INFO:tensorflow:Assets written to: /Users/yukahatori/A_Fairness/FairnessML_git/LSTM-BasicModel/model/assets\n"
     ]
    },
    {
     "name": "stderr",
     "output_type": "stream",
     "text": [
      "INFO:tensorflow:Assets written to: /Users/yukahatori/A_Fairness/FairnessML_git/LSTM-BasicModel/model/assets\n",
      "WARNING:absl:<keras.layers.recurrent.LSTMCell object at 0x7fd85c9b9820> has the same name 'LSTMCell' as a built-in Keras object. Consider renaming <class 'keras.layers.recurrent.LSTMCell'> to avoid naming conflicts when loading with `tf.keras.models.load_model`. If renaming is not possible, pass the object in the `custom_objects` parameter of the load function.\n"
     ]
    },
    {
     "name": "stdout",
     "output_type": "stream",
     "text": [
      "247/247 [==============================] - 4s 15ms/step - loss: 5.1166e-04 - root_mean_squared_error: 0.0226 - val_loss: 3.6111e-04 - val_root_mean_squared_error: 0.0190\n",
      "Epoch 11/20\n",
      "246/247 [============================>.] - ETA: 0s - loss: 5.1353e-04 - root_mean_squared_error: 0.0227"
     ]
    },
    {
     "name": "stderr",
     "output_type": "stream",
     "text": [
      "WARNING:absl:Found untraced functions such as lstm_cell_139_layer_call_fn, lstm_cell_139_layer_call_and_return_conditional_losses, lstm_cell_139_layer_call_fn, lstm_cell_139_layer_call_and_return_conditional_losses, lstm_cell_139_layer_call_and_return_conditional_losses while saving (showing 5 of 5). These functions will not be directly callable after loading.\n"
     ]
    },
    {
     "name": "stdout",
     "output_type": "stream",
     "text": [
      "INFO:tensorflow:Assets written to: /Users/yukahatori/A_Fairness/FairnessML_git/LSTM-BasicModel/model/assets\n"
     ]
    },
    {
     "name": "stderr",
     "output_type": "stream",
     "text": [
      "INFO:tensorflow:Assets written to: /Users/yukahatori/A_Fairness/FairnessML_git/LSTM-BasicModel/model/assets\n",
      "WARNING:absl:<keras.layers.recurrent.LSTMCell object at 0x7fd85c9b9820> has the same name 'LSTMCell' as a built-in Keras object. Consider renaming <class 'keras.layers.recurrent.LSTMCell'> to avoid naming conflicts when loading with `tf.keras.models.load_model`. If renaming is not possible, pass the object in the `custom_objects` parameter of the load function.\n"
     ]
    },
    {
     "name": "stdout",
     "output_type": "stream",
     "text": [
      "247/247 [==============================] - 3s 13ms/step - loss: 5.1361e-04 - root_mean_squared_error: 0.0227 - val_loss: 2.9866e-04 - val_root_mean_squared_error: 0.0173\n",
      "Epoch 12/20\n",
      "247/247 [==============================] - 0s 2ms/step - loss: 4.6671e-04 - root_mean_squared_error: 0.0216 - val_loss: 5.3731e-04 - val_root_mean_squared_error: 0.0232\n",
      "Epoch 13/20\n",
      "247/247 [==============================] - 1s 2ms/step - loss: 4.3145e-04 - root_mean_squared_error: 0.0208 - val_loss: 3.5792e-04 - val_root_mean_squared_error: 0.0189\n",
      "Epoch 14/20\n",
      "247/247 [==============================] - 1s 2ms/step - loss: 4.2366e-04 - root_mean_squared_error: 0.0206 - val_loss: 3.2551e-04 - val_root_mean_squared_error: 0.0180\n",
      "Epoch 15/20\n",
      "242/247 [============================>.] - ETA: 0s - loss: 4.5628e-04 - root_mean_squared_error: 0.0214"
     ]
    },
    {
     "name": "stderr",
     "output_type": "stream",
     "text": [
      "WARNING:absl:Found untraced functions such as lstm_cell_139_layer_call_fn, lstm_cell_139_layer_call_and_return_conditional_losses, lstm_cell_139_layer_call_fn, lstm_cell_139_layer_call_and_return_conditional_losses, lstm_cell_139_layer_call_and_return_conditional_losses while saving (showing 5 of 5). These functions will not be directly callable after loading.\n"
     ]
    },
    {
     "name": "stdout",
     "output_type": "stream",
     "text": [
      "INFO:tensorflow:Assets written to: /Users/yukahatori/A_Fairness/FairnessML_git/LSTM-BasicModel/model/assets\n"
     ]
    },
    {
     "name": "stderr",
     "output_type": "stream",
     "text": [
      "INFO:tensorflow:Assets written to: /Users/yukahatori/A_Fairness/FairnessML_git/LSTM-BasicModel/model/assets\n",
      "WARNING:absl:<keras.layers.recurrent.LSTMCell object at 0x7fd85c9b9820> has the same name 'LSTMCell' as a built-in Keras object. Consider renaming <class 'keras.layers.recurrent.LSTMCell'> to avoid naming conflicts when loading with `tf.keras.models.load_model`. If renaming is not possible, pass the object in the `custom_objects` parameter of the load function.\n"
     ]
    },
    {
     "name": "stdout",
     "output_type": "stream",
     "text": [
      "247/247 [==============================] - 4s 15ms/step - loss: 4.5526e-04 - root_mean_squared_error: 0.0213 - val_loss: 2.9128e-04 - val_root_mean_squared_error: 0.0171\n",
      "Epoch 16/20\n",
      "247/247 [==============================] - 1s 2ms/step - loss: 4.3362e-04 - root_mean_squared_error: 0.0208 - val_loss: 3.5316e-04 - val_root_mean_squared_error: 0.0188\n",
      "Epoch 17/20\n",
      "239/247 [============================>.] - ETA: 0s - loss: 3.7803e-04 - root_mean_squared_error: 0.0194"
     ]
    },
    {
     "name": "stderr",
     "output_type": "stream",
     "text": [
      "WARNING:absl:Found untraced functions such as lstm_cell_139_layer_call_fn, lstm_cell_139_layer_call_and_return_conditional_losses, lstm_cell_139_layer_call_fn, lstm_cell_139_layer_call_and_return_conditional_losses, lstm_cell_139_layer_call_and_return_conditional_losses while saving (showing 5 of 5). These functions will not be directly callable after loading.\n"
     ]
    },
    {
     "name": "stdout",
     "output_type": "stream",
     "text": [
      "INFO:tensorflow:Assets written to: /Users/yukahatori/A_Fairness/FairnessML_git/LSTM-BasicModel/model/assets\n"
     ]
    },
    {
     "name": "stderr",
     "output_type": "stream",
     "text": [
      "INFO:tensorflow:Assets written to: /Users/yukahatori/A_Fairness/FairnessML_git/LSTM-BasicModel/model/assets\n",
      "WARNING:absl:<keras.layers.recurrent.LSTMCell object at 0x7fd85c9b9820> has the same name 'LSTMCell' as a built-in Keras object. Consider renaming <class 'keras.layers.recurrent.LSTMCell'> to avoid naming conflicts when loading with `tf.keras.models.load_model`. If renaming is not possible, pass the object in the `custom_objects` parameter of the load function.\n"
     ]
    },
    {
     "name": "stdout",
     "output_type": "stream",
     "text": [
      "247/247 [==============================] - 3s 13ms/step - loss: 3.7456e-04 - root_mean_squared_error: 0.0194 - val_loss: 2.7020e-04 - val_root_mean_squared_error: 0.0164\n",
      "Epoch 18/20\n",
      "247/247 [==============================] - 1s 2ms/step - loss: 3.5496e-04 - root_mean_squared_error: 0.0188 - val_loss: 3.0567e-04 - val_root_mean_squared_error: 0.0175\n",
      "Epoch 19/20\n",
      "229/247 [==========================>...] - ETA: 0s - loss: 3.2616e-04 - root_mean_squared_error: 0.0181"
     ]
    },
    {
     "name": "stderr",
     "output_type": "stream",
     "text": [
      "WARNING:absl:Found untraced functions such as lstm_cell_139_layer_call_fn, lstm_cell_139_layer_call_and_return_conditional_losses, lstm_cell_139_layer_call_fn, lstm_cell_139_layer_call_and_return_conditional_losses, lstm_cell_139_layer_call_and_return_conditional_losses while saving (showing 5 of 5). These functions will not be directly callable after loading.\n"
     ]
    },
    {
     "name": "stdout",
     "output_type": "stream",
     "text": [
      "INFO:tensorflow:Assets written to: /Users/yukahatori/A_Fairness/FairnessML_git/LSTM-BasicModel/model/assets\n"
     ]
    },
    {
     "name": "stderr",
     "output_type": "stream",
     "text": [
      "INFO:tensorflow:Assets written to: /Users/yukahatori/A_Fairness/FairnessML_git/LSTM-BasicModel/model/assets\n",
      "WARNING:absl:<keras.layers.recurrent.LSTMCell object at 0x7fd85c9b9820> has the same name 'LSTMCell' as a built-in Keras object. Consider renaming <class 'keras.layers.recurrent.LSTMCell'> to avoid naming conflicts when loading with `tf.keras.models.load_model`. If renaming is not possible, pass the object in the `custom_objects` parameter of the load function.\n"
     ]
    },
    {
     "name": "stdout",
     "output_type": "stream",
     "text": [
      "247/247 [==============================] - 4s 15ms/step - loss: 3.1791e-04 - root_mean_squared_error: 0.0178 - val_loss: 2.6397e-04 - val_root_mean_squared_error: 0.0162\n",
      "Epoch 20/20\n",
      "247/247 [==============================] - 1s 2ms/step - loss: 3.3030e-04 - root_mean_squared_error: 0.0182 - val_loss: 2.7002e-04 - val_root_mean_squared_error: 0.0164\n",
      "RMSE value:  0.01462062119332091\n"
     ]
    },
    {
     "name": "stderr",
     "output_type": "stream",
     "text": [
      "WARNING:absl:Found untraced functions such as lstm_cell_137_layer_call_fn, lstm_cell_137_layer_call_and_return_conditional_losses, lstm_cell_137_layer_call_fn, lstm_cell_137_layer_call_and_return_conditional_losses, lstm_cell_137_layer_call_and_return_conditional_losses while saving (showing 5 of 5). These functions will not be directly callable after loading.\n"
     ]
    },
    {
     "name": "stdout",
     "output_type": "stream",
     "text": [
      "INFO:tensorflow:Assets written to: Best_LA/energyModel/assets\n"
     ]
    },
    {
     "name": "stderr",
     "output_type": "stream",
     "text": [
      "INFO:tensorflow:Assets written to: Best_LA/energyModel/assets\n",
      "WARNING:absl:<keras.layers.recurrent.LSTMCell object at 0x7fd87d24bfd0> has the same name 'LSTMCell' as a built-in Keras object. Consider renaming <class 'keras.layers.recurrent.LSTMCell'> to avoid naming conflicts when loading with `tf.keras.models.load_model`. If renaming is not possible, pass the object in the `custom_objects` parameter of the load function.\n"
     ]
    },
    {
     "name": "stdout",
     "output_type": "stream",
     "text": [
      "--------------------------------- SAVED BEST ENERGY CONSUMPTION MODEL -----------------------------------\n",
      "Epoch 1/20\n",
      "240/247 [============================>.] - ETA: 0s - loss: 0.0193 - root_mean_squared_error: 0.1389"
     ]
    },
    {
     "name": "stderr",
     "output_type": "stream",
     "text": [
      "WARNING:absl:Found untraced functions such as lstm_cell_140_layer_call_fn, lstm_cell_140_layer_call_and_return_conditional_losses, lstm_cell_140_layer_call_fn, lstm_cell_140_layer_call_and_return_conditional_losses, lstm_cell_140_layer_call_and_return_conditional_losses while saving (showing 5 of 5). These functions will not be directly callable after loading.\n"
     ]
    },
    {
     "name": "stdout",
     "output_type": "stream",
     "text": [
      "INFO:tensorflow:Assets written to: /Users/yukahatori/A_Fairness/FairnessML_git/LSTM-BasicModel/WeatherModelx/assets\n"
     ]
    },
    {
     "name": "stderr",
     "output_type": "stream",
     "text": [
      "INFO:tensorflow:Assets written to: /Users/yukahatori/A_Fairness/FairnessML_git/LSTM-BasicModel/WeatherModelx/assets\n",
      "WARNING:absl:<keras.layers.recurrent.LSTMCell object at 0x7fd863acb760> has the same name 'LSTMCell' as a built-in Keras object. Consider renaming <class 'keras.layers.recurrent.LSTMCell'> to avoid naming conflicts when loading with `tf.keras.models.load_model`. If renaming is not possible, pass the object in the `custom_objects` parameter of the load function.\n"
     ]
    },
    {
     "name": "stdout",
     "output_type": "stream",
     "text": [
      "247/247 [==============================] - 6s 18ms/step - loss: 0.0188 - root_mean_squared_error: 0.1372 - val_loss: 0.0024 - val_root_mean_squared_error: 0.0493\n",
      "Epoch 2/20\n",
      "241/247 [============================>.] - ETA: 0s - loss: 3.0037e-04 - root_mean_squared_error: 0.0173"
     ]
    },
    {
     "name": "stderr",
     "output_type": "stream",
     "text": [
      "WARNING:absl:Found untraced functions such as lstm_cell_140_layer_call_fn, lstm_cell_140_layer_call_and_return_conditional_losses, lstm_cell_140_layer_call_fn, lstm_cell_140_layer_call_and_return_conditional_losses, lstm_cell_140_layer_call_and_return_conditional_losses while saving (showing 5 of 5). These functions will not be directly callable after loading.\n"
     ]
    },
    {
     "name": "stdout",
     "output_type": "stream",
     "text": [
      "INFO:tensorflow:Assets written to: /Users/yukahatori/A_Fairness/FairnessML_git/LSTM-BasicModel/WeatherModelx/assets\n"
     ]
    },
    {
     "name": "stderr",
     "output_type": "stream",
     "text": [
      "INFO:tensorflow:Assets written to: /Users/yukahatori/A_Fairness/FairnessML_git/LSTM-BasicModel/WeatherModelx/assets\n",
      "WARNING:absl:<keras.layers.recurrent.LSTMCell object at 0x7fd863acb760> has the same name 'LSTMCell' as a built-in Keras object. Consider renaming <class 'keras.layers.recurrent.LSTMCell'> to avoid naming conflicts when loading with `tf.keras.models.load_model`. If renaming is not possible, pass the object in the `custom_objects` parameter of the load function.\n"
     ]
    },
    {
     "name": "stdout",
     "output_type": "stream",
     "text": [
      "247/247 [==============================] - 4s 17ms/step - loss: 2.9961e-04 - root_mean_squared_error: 0.0173 - val_loss: 0.0010 - val_root_mean_squared_error: 0.0321\n",
      "Epoch 3/20\n",
      "243/247 [============================>.] - ETA: 0s - loss: 2.1553e-04 - root_mean_squared_error: 0.0147"
     ]
    },
    {
     "name": "stderr",
     "output_type": "stream",
     "text": [
      "WARNING:absl:Found untraced functions such as lstm_cell_140_layer_call_fn, lstm_cell_140_layer_call_and_return_conditional_losses, lstm_cell_140_layer_call_fn, lstm_cell_140_layer_call_and_return_conditional_losses, lstm_cell_140_layer_call_and_return_conditional_losses while saving (showing 5 of 5). These functions will not be directly callable after loading.\n"
     ]
    },
    {
     "name": "stdout",
     "output_type": "stream",
     "text": [
      "INFO:tensorflow:Assets written to: /Users/yukahatori/A_Fairness/FairnessML_git/LSTM-BasicModel/WeatherModelx/assets\n"
     ]
    },
    {
     "name": "stderr",
     "output_type": "stream",
     "text": [
      "INFO:tensorflow:Assets written to: /Users/yukahatori/A_Fairness/FairnessML_git/LSTM-BasicModel/WeatherModelx/assets\n",
      "WARNING:absl:<keras.layers.recurrent.LSTMCell object at 0x7fd863acb760> has the same name 'LSTMCell' as a built-in Keras object. Consider renaming <class 'keras.layers.recurrent.LSTMCell'> to avoid naming conflicts when loading with `tf.keras.models.load_model`. If renaming is not possible, pass the object in the `custom_objects` parameter of the load function.\n"
     ]
    },
    {
     "name": "stdout",
     "output_type": "stream",
     "text": [
      "247/247 [==============================] - 4s 17ms/step - loss: 2.1479e-04 - root_mean_squared_error: 0.0147 - val_loss: 9.1246e-04 - val_root_mean_squared_error: 0.0302\n",
      "Epoch 4/20\n",
      "233/247 [===========================>..] - ETA: 0s - loss: 1.6739e-04 - root_mean_squared_error: 0.0129"
     ]
    },
    {
     "name": "stderr",
     "output_type": "stream",
     "text": [
      "WARNING:absl:Found untraced functions such as lstm_cell_140_layer_call_fn, lstm_cell_140_layer_call_and_return_conditional_losses, lstm_cell_140_layer_call_fn, lstm_cell_140_layer_call_and_return_conditional_losses, lstm_cell_140_layer_call_and_return_conditional_losses while saving (showing 5 of 5). These functions will not be directly callable after loading.\n"
     ]
    },
    {
     "name": "stdout",
     "output_type": "stream",
     "text": [
      "INFO:tensorflow:Assets written to: /Users/yukahatori/A_Fairness/FairnessML_git/LSTM-BasicModel/WeatherModelx/assets\n"
     ]
    },
    {
     "name": "stderr",
     "output_type": "stream",
     "text": [
      "INFO:tensorflow:Assets written to: /Users/yukahatori/A_Fairness/FairnessML_git/LSTM-BasicModel/WeatherModelx/assets\n",
      "WARNING:absl:<keras.layers.recurrent.LSTMCell object at 0x7fd863acb760> has the same name 'LSTMCell' as a built-in Keras object. Consider renaming <class 'keras.layers.recurrent.LSTMCell'> to avoid naming conflicts when loading with `tf.keras.models.load_model`. If renaming is not possible, pass the object in the `custom_objects` parameter of the load function.\n"
     ]
    },
    {
     "name": "stdout",
     "output_type": "stream",
     "text": [
      "247/247 [==============================] - 4s 17ms/step - loss: 1.6714e-04 - root_mean_squared_error: 0.0129 - val_loss: 8.2103e-04 - val_root_mean_squared_error: 0.0287\n",
      "Epoch 5/20\n",
      "247/247 [==============================] - 1s 3ms/step - loss: 1.3806e-04 - root_mean_squared_error: 0.0117 - val_loss: 8.2634e-04 - val_root_mean_squared_error: 0.0287\n",
      "Epoch 6/20\n",
      "227/247 [==========================>...] - ETA: 0s - loss: 1.2668e-04 - root_mean_squared_error: 0.0113"
     ]
    },
    {
     "name": "stderr",
     "output_type": "stream",
     "text": [
      "WARNING:absl:Found untraced functions such as lstm_cell_140_layer_call_fn, lstm_cell_140_layer_call_and_return_conditional_losses, lstm_cell_140_layer_call_fn, lstm_cell_140_layer_call_and_return_conditional_losses, lstm_cell_140_layer_call_and_return_conditional_losses while saving (showing 5 of 5). These functions will not be directly callable after loading.\n"
     ]
    },
    {
     "name": "stdout",
     "output_type": "stream",
     "text": [
      "INFO:tensorflow:Assets written to: /Users/yukahatori/A_Fairness/FairnessML_git/LSTM-BasicModel/WeatherModelx/assets\n"
     ]
    },
    {
     "name": "stderr",
     "output_type": "stream",
     "text": [
      "INFO:tensorflow:Assets written to: /Users/yukahatori/A_Fairness/FairnessML_git/LSTM-BasicModel/WeatherModelx/assets\n",
      "WARNING:absl:<keras.layers.recurrent.LSTMCell object at 0x7fd863acb760> has the same name 'LSTMCell' as a built-in Keras object. Consider renaming <class 'keras.layers.recurrent.LSTMCell'> to avoid naming conflicts when loading with `tf.keras.models.load_model`. If renaming is not possible, pass the object in the `custom_objects` parameter of the load function.\n"
     ]
    },
    {
     "name": "stdout",
     "output_type": "stream",
     "text": [
      "247/247 [==============================] - 5s 20ms/step - loss: 1.2628e-04 - root_mean_squared_error: 0.0112 - val_loss: 6.1633e-04 - val_root_mean_squared_error: 0.0248\n",
      "Epoch 7/20\n",
      "247/247 [==============================] - ETA: 0s - loss: 1.1692e-04 - root_mean_squared_error: 0.0108"
     ]
    },
    {
     "name": "stderr",
     "output_type": "stream",
     "text": [
      "WARNING:absl:Found untraced functions such as lstm_cell_140_layer_call_fn, lstm_cell_140_layer_call_and_return_conditional_losses, lstm_cell_140_layer_call_fn, lstm_cell_140_layer_call_and_return_conditional_losses, lstm_cell_140_layer_call_and_return_conditional_losses while saving (showing 5 of 5). These functions will not be directly callable after loading.\n"
     ]
    },
    {
     "name": "stdout",
     "output_type": "stream",
     "text": [
      "INFO:tensorflow:Assets written to: /Users/yukahatori/A_Fairness/FairnessML_git/LSTM-BasicModel/WeatherModelx/assets\n"
     ]
    },
    {
     "name": "stderr",
     "output_type": "stream",
     "text": [
      "INFO:tensorflow:Assets written to: /Users/yukahatori/A_Fairness/FairnessML_git/LSTM-BasicModel/WeatherModelx/assets\n",
      "WARNING:absl:<keras.layers.recurrent.LSTMCell object at 0x7fd863acb760> has the same name 'LSTMCell' as a built-in Keras object. Consider renaming <class 'keras.layers.recurrent.LSTMCell'> to avoid naming conflicts when loading with `tf.keras.models.load_model`. If renaming is not possible, pass the object in the `custom_objects` parameter of the load function.\n"
     ]
    },
    {
     "name": "stdout",
     "output_type": "stream",
     "text": [
      "247/247 [==============================] - 5s 22ms/step - loss: 1.1692e-04 - root_mean_squared_error: 0.0108 - val_loss: 5.4867e-04 - val_root_mean_squared_error: 0.0234\n",
      "Epoch 8/20\n",
      "232/247 [===========================>..] - ETA: 0s - loss: 1.0274e-04 - root_mean_squared_error: 0.0101"
     ]
    },
    {
     "name": "stderr",
     "output_type": "stream",
     "text": [
      "WARNING:absl:Found untraced functions such as lstm_cell_140_layer_call_fn, lstm_cell_140_layer_call_and_return_conditional_losses, lstm_cell_140_layer_call_fn, lstm_cell_140_layer_call_and_return_conditional_losses, lstm_cell_140_layer_call_and_return_conditional_losses while saving (showing 5 of 5). These functions will not be directly callable after loading.\n"
     ]
    },
    {
     "name": "stdout",
     "output_type": "stream",
     "text": [
      "INFO:tensorflow:Assets written to: /Users/yukahatori/A_Fairness/FairnessML_git/LSTM-BasicModel/WeatherModelx/assets\n"
     ]
    },
    {
     "name": "stderr",
     "output_type": "stream",
     "text": [
      "INFO:tensorflow:Assets written to: /Users/yukahatori/A_Fairness/FairnessML_git/LSTM-BasicModel/WeatherModelx/assets\n",
      "WARNING:absl:<keras.layers.recurrent.LSTMCell object at 0x7fd863acb760> has the same name 'LSTMCell' as a built-in Keras object. Consider renaming <class 'keras.layers.recurrent.LSTMCell'> to avoid naming conflicts when loading with `tf.keras.models.load_model`. If renaming is not possible, pass the object in the `custom_objects` parameter of the load function.\n"
     ]
    },
    {
     "name": "stdout",
     "output_type": "stream",
     "text": [
      "247/247 [==============================] - 4s 17ms/step - loss: 1.0218e-04 - root_mean_squared_error: 0.0101 - val_loss: 4.9888e-04 - val_root_mean_squared_error: 0.0223\n",
      "Epoch 9/20\n",
      "239/247 [============================>.] - ETA: 0s - loss: 9.5976e-05 - root_mean_squared_error: 0.0098"
     ]
    },
    {
     "name": "stderr",
     "output_type": "stream",
     "text": [
      "WARNING:absl:Found untraced functions such as lstm_cell_140_layer_call_fn, lstm_cell_140_layer_call_and_return_conditional_losses, lstm_cell_140_layer_call_fn, lstm_cell_140_layer_call_and_return_conditional_losses, lstm_cell_140_layer_call_and_return_conditional_losses while saving (showing 5 of 5). These functions will not be directly callable after loading.\n"
     ]
    },
    {
     "name": "stdout",
     "output_type": "stream",
     "text": [
      "INFO:tensorflow:Assets written to: /Users/yukahatori/A_Fairness/FairnessML_git/LSTM-BasicModel/WeatherModelx/assets\n"
     ]
    },
    {
     "name": "stderr",
     "output_type": "stream",
     "text": [
      "INFO:tensorflow:Assets written to: /Users/yukahatori/A_Fairness/FairnessML_git/LSTM-BasicModel/WeatherModelx/assets\n",
      "WARNING:absl:<keras.layers.recurrent.LSTMCell object at 0x7fd863acb760> has the same name 'LSTMCell' as a built-in Keras object. Consider renaming <class 'keras.layers.recurrent.LSTMCell'> to avoid naming conflicts when loading with `tf.keras.models.load_model`. If renaming is not possible, pass the object in the `custom_objects` parameter of the load function.\n"
     ]
    },
    {
     "name": "stdout",
     "output_type": "stream",
     "text": [
      "247/247 [==============================] - 4s 17ms/step - loss: 9.5832e-05 - root_mean_squared_error: 0.0098 - val_loss: 3.8185e-04 - val_root_mean_squared_error: 0.0195\n",
      "Epoch 10/20\n",
      "247/247 [==============================] - ETA: 0s - loss: 8.8034e-05 - root_mean_squared_error: 0.0094"
     ]
    },
    {
     "name": "stderr",
     "output_type": "stream",
     "text": [
      "WARNING:absl:Found untraced functions such as lstm_cell_140_layer_call_fn, lstm_cell_140_layer_call_and_return_conditional_losses, lstm_cell_140_layer_call_fn, lstm_cell_140_layer_call_and_return_conditional_losses, lstm_cell_140_layer_call_and_return_conditional_losses while saving (showing 5 of 5). These functions will not be directly callable after loading.\n"
     ]
    },
    {
     "name": "stdout",
     "output_type": "stream",
     "text": [
      "INFO:tensorflow:Assets written to: /Users/yukahatori/A_Fairness/FairnessML_git/LSTM-BasicModel/WeatherModelx/assets\n"
     ]
    },
    {
     "name": "stderr",
     "output_type": "stream",
     "text": [
      "INFO:tensorflow:Assets written to: /Users/yukahatori/A_Fairness/FairnessML_git/LSTM-BasicModel/WeatherModelx/assets\n",
      "WARNING:absl:<keras.layers.recurrent.LSTMCell object at 0x7fd863acb760> has the same name 'LSTMCell' as a built-in Keras object. Consider renaming <class 'keras.layers.recurrent.LSTMCell'> to avoid naming conflicts when loading with `tf.keras.models.load_model`. If renaming is not possible, pass the object in the `custom_objects` parameter of the load function.\n"
     ]
    },
    {
     "name": "stdout",
     "output_type": "stream",
     "text": [
      "247/247 [==============================] - 4s 15ms/step - loss: 8.8034e-05 - root_mean_squared_error: 0.0094 - val_loss: 2.5098e-04 - val_root_mean_squared_error: 0.0158\n",
      "Epoch 11/20\n",
      "247/247 [==============================] - 1s 3ms/step - loss: 8.3806e-05 - root_mean_squared_error: 0.0092 - val_loss: 2.5588e-04 - val_root_mean_squared_error: 0.0160\n",
      "Epoch 12/20\n",
      "247/247 [==============================] - 1s 3ms/step - loss: 7.3488e-05 - root_mean_squared_error: 0.0086 - val_loss: 3.1492e-04 - val_root_mean_squared_error: 0.0177\n",
      "Epoch 13/20\n",
      "246/247 [============================>.] - ETA: 0s - loss: 7.2491e-05 - root_mean_squared_error: 0.0085"
     ]
    },
    {
     "name": "stderr",
     "output_type": "stream",
     "text": [
      "WARNING:absl:Found untraced functions such as lstm_cell_140_layer_call_fn, lstm_cell_140_layer_call_and_return_conditional_losses, lstm_cell_140_layer_call_fn, lstm_cell_140_layer_call_and_return_conditional_losses, lstm_cell_140_layer_call_and_return_conditional_losses while saving (showing 5 of 5). These functions will not be directly callable after loading.\n"
     ]
    },
    {
     "name": "stdout",
     "output_type": "stream",
     "text": [
      "INFO:tensorflow:Assets written to: /Users/yukahatori/A_Fairness/FairnessML_git/LSTM-BasicModel/WeatherModelx/assets\n"
     ]
    },
    {
     "name": "stderr",
     "output_type": "stream",
     "text": [
      "INFO:tensorflow:Assets written to: /Users/yukahatori/A_Fairness/FairnessML_git/LSTM-BasicModel/WeatherModelx/assets\n",
      "WARNING:absl:<keras.layers.recurrent.LSTMCell object at 0x7fd863acb760> has the same name 'LSTMCell' as a built-in Keras object. Consider renaming <class 'keras.layers.recurrent.LSTMCell'> to avoid naming conflicts when loading with `tf.keras.models.load_model`. If renaming is not possible, pass the object in the `custom_objects` parameter of the load function.\n"
     ]
    },
    {
     "name": "stdout",
     "output_type": "stream",
     "text": [
      "247/247 [==============================] - 4s 18ms/step - loss: 7.2472e-05 - root_mean_squared_error: 0.0085 - val_loss: 1.6912e-04 - val_root_mean_squared_error: 0.0130\n",
      "Epoch 14/20\n",
      "247/247 [==============================] - 1s 3ms/step - loss: 6.9372e-05 - root_mean_squared_error: 0.0083 - val_loss: 1.7956e-04 - val_root_mean_squared_error: 0.0134\n",
      "Epoch 15/20\n",
      "247/247 [==============================] - 1s 3ms/step - loss: 6.7199e-05 - root_mean_squared_error: 0.0082 - val_loss: 2.4638e-04 - val_root_mean_squared_error: 0.0157\n",
      "Epoch 16/20\n",
      "229/247 [==========================>...] - ETA: 0s - loss: 6.3831e-05 - root_mean_squared_error: 0.0080"
     ]
    },
    {
     "name": "stderr",
     "output_type": "stream",
     "text": [
      "WARNING:absl:Found untraced functions such as lstm_cell_140_layer_call_fn, lstm_cell_140_layer_call_and_return_conditional_losses, lstm_cell_140_layer_call_fn, lstm_cell_140_layer_call_and_return_conditional_losses, lstm_cell_140_layer_call_and_return_conditional_losses while saving (showing 5 of 5). These functions will not be directly callable after loading.\n"
     ]
    },
    {
     "name": "stdout",
     "output_type": "stream",
     "text": [
      "INFO:tensorflow:Assets written to: /Users/yukahatori/A_Fairness/FairnessML_git/LSTM-BasicModel/WeatherModelx/assets\n"
     ]
    },
    {
     "name": "stderr",
     "output_type": "stream",
     "text": [
      "INFO:tensorflow:Assets written to: /Users/yukahatori/A_Fairness/FairnessML_git/LSTM-BasicModel/WeatherModelx/assets\n",
      "WARNING:absl:<keras.layers.recurrent.LSTMCell object at 0x7fd863acb760> has the same name 'LSTMCell' as a built-in Keras object. Consider renaming <class 'keras.layers.recurrent.LSTMCell'> to avoid naming conflicts when loading with `tf.keras.models.load_model`. If renaming is not possible, pass the object in the `custom_objects` parameter of the load function.\n"
     ]
    },
    {
     "name": "stdout",
     "output_type": "stream",
     "text": [
      "247/247 [==============================] - 4s 18ms/step - loss: 6.3953e-05 - root_mean_squared_error: 0.0080 - val_loss: 1.5380e-04 - val_root_mean_squared_error: 0.0124\n",
      "Epoch 17/20\n",
      "247/247 [==============================] - 1s 2ms/step - loss: 6.0146e-05 - root_mean_squared_error: 0.0078 - val_loss: 1.6683e-04 - val_root_mean_squared_error: 0.0129\n",
      "Epoch 18/20\n",
      "247/247 [==============================] - 1s 3ms/step - loss: 6.6242e-05 - root_mean_squared_error: 0.0081 - val_loss: 1.6005e-04 - val_root_mean_squared_error: 0.0127\n",
      "Epoch 19/20\n",
      "247/247 [==============================] - 1s 3ms/step - loss: 6.3315e-05 - root_mean_squared_error: 0.0080 - val_loss: 1.6936e-04 - val_root_mean_squared_error: 0.0130\n",
      "Epoch 20/20\n",
      "247/247 [==============================] - 1s 3ms/step - loss: 6.4535e-05 - root_mean_squared_error: 0.0080 - val_loss: 2.0056e-04 - val_root_mean_squared_error: 0.0142\n",
      "RMSE value:  0.0066956045103628665\n",
      "Epoch 1/20\n",
      "230/247 [==========================>...] - ETA: 0s - loss: 0.0117 - root_mean_squared_error: 0.1080"
     ]
    },
    {
     "name": "stderr",
     "output_type": "stream",
     "text": [
      "WARNING:absl:Found untraced functions such as lstm_cell_141_layer_call_fn, lstm_cell_141_layer_call_and_return_conditional_losses, lstm_cell_141_layer_call_fn, lstm_cell_141_layer_call_and_return_conditional_losses, lstm_cell_141_layer_call_and_return_conditional_losses while saving (showing 5 of 5). These functions will not be directly callable after loading.\n"
     ]
    },
    {
     "name": "stdout",
     "output_type": "stream",
     "text": [
      "INFO:tensorflow:Assets written to: /Users/yukahatori/A_Fairness/FairnessML_git/LSTM-BasicModel/WeatherModelx/assets\n"
     ]
    },
    {
     "name": "stderr",
     "output_type": "stream",
     "text": [
      "INFO:tensorflow:Assets written to: /Users/yukahatori/A_Fairness/FairnessML_git/LSTM-BasicModel/WeatherModelx/assets\n",
      "WARNING:absl:<keras.layers.recurrent.LSTMCell object at 0x7fd88044d910> has the same name 'LSTMCell' as a built-in Keras object. Consider renaming <class 'keras.layers.recurrent.LSTMCell'> to avoid naming conflicts when loading with `tf.keras.models.load_model`. If renaming is not possible, pass the object in the `custom_objects` parameter of the load function.\n"
     ]
    },
    {
     "name": "stdout",
     "output_type": "stream",
     "text": [
      "247/247 [==============================] - 6s 17ms/step - loss: 0.0109 - root_mean_squared_error: 0.1045 - val_loss: 0.0019 - val_root_mean_squared_error: 0.0438\n",
      "Epoch 2/20\n",
      "247/247 [==============================] - ETA: 0s - loss: 2.1185e-04 - root_mean_squared_error: 0.0146"
     ]
    },
    {
     "name": "stderr",
     "output_type": "stream",
     "text": [
      "WARNING:absl:Found untraced functions such as lstm_cell_141_layer_call_fn, lstm_cell_141_layer_call_and_return_conditional_losses, lstm_cell_141_layer_call_fn, lstm_cell_141_layer_call_and_return_conditional_losses, lstm_cell_141_layer_call_and_return_conditional_losses while saving (showing 5 of 5). These functions will not be directly callable after loading.\n"
     ]
    },
    {
     "name": "stdout",
     "output_type": "stream",
     "text": [
      "INFO:tensorflow:Assets written to: /Users/yukahatori/A_Fairness/FairnessML_git/LSTM-BasicModel/WeatherModelx/assets\n"
     ]
    },
    {
     "name": "stderr",
     "output_type": "stream",
     "text": [
      "INFO:tensorflow:Assets written to: /Users/yukahatori/A_Fairness/FairnessML_git/LSTM-BasicModel/WeatherModelx/assets\n",
      "WARNING:absl:<keras.layers.recurrent.LSTMCell object at 0x7fd88044d910> has the same name 'LSTMCell' as a built-in Keras object. Consider renaming <class 'keras.layers.recurrent.LSTMCell'> to avoid naming conflicts when loading with `tf.keras.models.load_model`. If renaming is not possible, pass the object in the `custom_objects` parameter of the load function.\n"
     ]
    },
    {
     "name": "stdout",
     "output_type": "stream",
     "text": [
      "247/247 [==============================] - 4s 17ms/step - loss: 2.1185e-04 - root_mean_squared_error: 0.0146 - val_loss: 0.0015 - val_root_mean_squared_error: 0.0387\n",
      "Epoch 3/20\n",
      "228/247 [==========================>...] - ETA: 0s - loss: 1.4916e-04 - root_mean_squared_error: 0.0122"
     ]
    },
    {
     "name": "stderr",
     "output_type": "stream",
     "text": [
      "WARNING:absl:Found untraced functions such as lstm_cell_141_layer_call_fn, lstm_cell_141_layer_call_and_return_conditional_losses, lstm_cell_141_layer_call_fn, lstm_cell_141_layer_call_and_return_conditional_losses, lstm_cell_141_layer_call_and_return_conditional_losses while saving (showing 5 of 5). These functions will not be directly callable after loading.\n"
     ]
    },
    {
     "name": "stdout",
     "output_type": "stream",
     "text": [
      "INFO:tensorflow:Assets written to: /Users/yukahatori/A_Fairness/FairnessML_git/LSTM-BasicModel/WeatherModelx/assets\n"
     ]
    },
    {
     "name": "stderr",
     "output_type": "stream",
     "text": [
      "INFO:tensorflow:Assets written to: /Users/yukahatori/A_Fairness/FairnessML_git/LSTM-BasicModel/WeatherModelx/assets\n",
      "WARNING:absl:<keras.layers.recurrent.LSTMCell object at 0x7fd88044d910> has the same name 'LSTMCell' as a built-in Keras object. Consider renaming <class 'keras.layers.recurrent.LSTMCell'> to avoid naming conflicts when loading with `tf.keras.models.load_model`. If renaming is not possible, pass the object in the `custom_objects` parameter of the load function.\n"
     ]
    },
    {
     "name": "stdout",
     "output_type": "stream",
     "text": [
      "247/247 [==============================] - 4s 15ms/step - loss: 1.4812e-04 - root_mean_squared_error: 0.0122 - val_loss: 0.0011 - val_root_mean_squared_error: 0.0330\n",
      "Epoch 4/20\n",
      "247/247 [==============================] - ETA: 0s - loss: 1.1968e-04 - root_mean_squared_error: 0.0109"
     ]
    },
    {
     "name": "stderr",
     "output_type": "stream",
     "text": [
      "WARNING:absl:Found untraced functions such as lstm_cell_141_layer_call_fn, lstm_cell_141_layer_call_and_return_conditional_losses, lstm_cell_141_layer_call_fn, lstm_cell_141_layer_call_and_return_conditional_losses, lstm_cell_141_layer_call_and_return_conditional_losses while saving (showing 5 of 5). These functions will not be directly callable after loading.\n"
     ]
    },
    {
     "name": "stdout",
     "output_type": "stream",
     "text": [
      "INFO:tensorflow:Assets written to: /Users/yukahatori/A_Fairness/FairnessML_git/LSTM-BasicModel/WeatherModelx/assets\n"
     ]
    },
    {
     "name": "stderr",
     "output_type": "stream",
     "text": [
      "INFO:tensorflow:Assets written to: /Users/yukahatori/A_Fairness/FairnessML_git/LSTM-BasicModel/WeatherModelx/assets\n",
      "WARNING:absl:<keras.layers.recurrent.LSTMCell object at 0x7fd88044d910> has the same name 'LSTMCell' as a built-in Keras object. Consider renaming <class 'keras.layers.recurrent.LSTMCell'> to avoid naming conflicts when loading with `tf.keras.models.load_model`. If renaming is not possible, pass the object in the `custom_objects` parameter of the load function.\n"
     ]
    },
    {
     "name": "stdout",
     "output_type": "stream",
     "text": [
      "247/247 [==============================] - 4s 16ms/step - loss: 1.1968e-04 - root_mean_squared_error: 0.0109 - val_loss: 7.2152e-04 - val_root_mean_squared_error: 0.0269\n",
      "Epoch 5/20\n",
      "237/247 [===========================>..] - ETA: 0s - loss: 9.9241e-05 - root_mean_squared_error: 0.0100"
     ]
    },
    {
     "name": "stderr",
     "output_type": "stream",
     "text": [
      "WARNING:absl:Found untraced functions such as lstm_cell_141_layer_call_fn, lstm_cell_141_layer_call_and_return_conditional_losses, lstm_cell_141_layer_call_fn, lstm_cell_141_layer_call_and_return_conditional_losses, lstm_cell_141_layer_call_and_return_conditional_losses while saving (showing 5 of 5). These functions will not be directly callable after loading.\n"
     ]
    },
    {
     "name": "stdout",
     "output_type": "stream",
     "text": [
      "INFO:tensorflow:Assets written to: /Users/yukahatori/A_Fairness/FairnessML_git/LSTM-BasicModel/WeatherModelx/assets\n"
     ]
    },
    {
     "name": "stderr",
     "output_type": "stream",
     "text": [
      "INFO:tensorflow:Assets written to: /Users/yukahatori/A_Fairness/FairnessML_git/LSTM-BasicModel/WeatherModelx/assets\n",
      "WARNING:absl:<keras.layers.recurrent.LSTMCell object at 0x7fd88044d910> has the same name 'LSTMCell' as a built-in Keras object. Consider renaming <class 'keras.layers.recurrent.LSTMCell'> to avoid naming conflicts when loading with `tf.keras.models.load_model`. If renaming is not possible, pass the object in the `custom_objects` parameter of the load function.\n"
     ]
    },
    {
     "name": "stdout",
     "output_type": "stream",
     "text": [
      "247/247 [==============================] - 4s 17ms/step - loss: 9.8188e-05 - root_mean_squared_error: 0.0099 - val_loss: 3.9069e-04 - val_root_mean_squared_error: 0.0198\n",
      "Epoch 6/20\n",
      "247/247 [==============================] - 1s 3ms/step - loss: 8.5167e-05 - root_mean_squared_error: 0.0092 - val_loss: 4.5216e-04 - val_root_mean_squared_error: 0.0213\n",
      "Epoch 7/20\n",
      "247/247 [==============================] - 1s 3ms/step - loss: 7.2947e-05 - root_mean_squared_error: 0.0085 - val_loss: 3.9147e-04 - val_root_mean_squared_error: 0.0198\n",
      "Epoch 8/20\n",
      "247/247 [==============================] - 1s 3ms/step - loss: 6.4201e-05 - root_mean_squared_error: 0.0080 - val_loss: 4.0161e-04 - val_root_mean_squared_error: 0.0200\n",
      "Epoch 9/20\n",
      "247/247 [==============================] - 1s 3ms/step - loss: 6.4871e-05 - root_mean_squared_error: 0.0081 - val_loss: 3.9952e-04 - val_root_mean_squared_error: 0.0200\n",
      "Epoch 10/20\n",
      "230/247 [==========================>...] - ETA: 0s - loss: 5.9610e-05 - root_mean_squared_error: 0.0077"
     ]
    },
    {
     "name": "stderr",
     "output_type": "stream",
     "text": [
      "WARNING:absl:Found untraced functions such as lstm_cell_141_layer_call_fn, lstm_cell_141_layer_call_and_return_conditional_losses, lstm_cell_141_layer_call_fn, lstm_cell_141_layer_call_and_return_conditional_losses, lstm_cell_141_layer_call_and_return_conditional_losses while saving (showing 5 of 5). These functions will not be directly callable after loading.\n"
     ]
    },
    {
     "name": "stdout",
     "output_type": "stream",
     "text": [
      "INFO:tensorflow:Assets written to: /Users/yukahatori/A_Fairness/FairnessML_git/LSTM-BasicModel/WeatherModelx/assets\n"
     ]
    },
    {
     "name": "stderr",
     "output_type": "stream",
     "text": [
      "INFO:tensorflow:Assets written to: /Users/yukahatori/A_Fairness/FairnessML_git/LSTM-BasicModel/WeatherModelx/assets\n",
      "WARNING:absl:<keras.layers.recurrent.LSTMCell object at 0x7fd88044d910> has the same name 'LSTMCell' as a built-in Keras object. Consider renaming <class 'keras.layers.recurrent.LSTMCell'> to avoid naming conflicts when loading with `tf.keras.models.load_model`. If renaming is not possible, pass the object in the `custom_objects` parameter of the load function.\n"
     ]
    },
    {
     "name": "stdout",
     "output_type": "stream",
     "text": [
      "247/247 [==============================] - 4s 16ms/step - loss: 5.9552e-05 - root_mean_squared_error: 0.0077 - val_loss: 1.6762e-04 - val_root_mean_squared_error: 0.0129\n",
      "Epoch 11/20\n",
      "243/247 [============================>.] - ETA: 0s - loss: 6.5304e-05 - root_mean_squared_error: 0.0081"
     ]
    },
    {
     "name": "stderr",
     "output_type": "stream",
     "text": [
      "WARNING:absl:Found untraced functions such as lstm_cell_141_layer_call_fn, lstm_cell_141_layer_call_and_return_conditional_losses, lstm_cell_141_layer_call_fn, lstm_cell_141_layer_call_and_return_conditional_losses, lstm_cell_141_layer_call_and_return_conditional_losses while saving (showing 5 of 5). These functions will not be directly callable after loading.\n"
     ]
    },
    {
     "name": "stdout",
     "output_type": "stream",
     "text": [
      "INFO:tensorflow:Assets written to: /Users/yukahatori/A_Fairness/FairnessML_git/LSTM-BasicModel/WeatherModelx/assets\n"
     ]
    },
    {
     "name": "stderr",
     "output_type": "stream",
     "text": [
      "INFO:tensorflow:Assets written to: /Users/yukahatori/A_Fairness/FairnessML_git/LSTM-BasicModel/WeatherModelx/assets\n",
      "WARNING:absl:<keras.layers.recurrent.LSTMCell object at 0x7fd88044d910> has the same name 'LSTMCell' as a built-in Keras object. Consider renaming <class 'keras.layers.recurrent.LSTMCell'> to avoid naming conflicts when loading with `tf.keras.models.load_model`. If renaming is not possible, pass the object in the `custom_objects` parameter of the load function.\n"
     ]
    },
    {
     "name": "stdout",
     "output_type": "stream",
     "text": [
      "247/247 [==============================] - 4s 16ms/step - loss: 6.5418e-05 - root_mean_squared_error: 0.0081 - val_loss: 9.1478e-05 - val_root_mean_squared_error: 0.0096\n",
      "Epoch 12/20\n",
      "247/247 [==============================] - 1s 3ms/step - loss: 5.8310e-05 - root_mean_squared_error: 0.0076 - val_loss: 2.1536e-04 - val_root_mean_squared_error: 0.0147\n",
      "Epoch 13/20\n",
      "247/247 [==============================] - 1s 3ms/step - loss: 7.5527e-05 - root_mean_squared_error: 0.0087 - val_loss: 1.6439e-04 - val_root_mean_squared_error: 0.0128\n",
      "Epoch 14/20\n",
      "247/247 [==============================] - 1s 3ms/step - loss: 5.0612e-05 - root_mean_squared_error: 0.0071 - val_loss: 1.3407e-04 - val_root_mean_squared_error: 0.0116\n",
      "Epoch 15/20\n",
      "247/247 [==============================] - 1s 3ms/step - loss: 4.8131e-05 - root_mean_squared_error: 0.0069 - val_loss: 1.4124e-04 - val_root_mean_squared_error: 0.0119\n",
      "Epoch 16/20\n",
      "247/247 [==============================] - 1s 3ms/step - loss: 6.4639e-05 - root_mean_squared_error: 0.0080 - val_loss: 1.7156e-04 - val_root_mean_squared_error: 0.0131\n",
      "Epoch 17/20\n",
      "247/247 [==============================] - 1s 3ms/step - loss: 6.2079e-05 - root_mean_squared_error: 0.0079 - val_loss: 9.6775e-05 - val_root_mean_squared_error: 0.0098\n",
      "Epoch 18/20\n",
      "241/247 [============================>.] - ETA: 0s - loss: 1.1001e-04 - root_mean_squared_error: 0.0105"
     ]
    },
    {
     "name": "stderr",
     "output_type": "stream",
     "text": [
      "WARNING:absl:Found untraced functions such as lstm_cell_141_layer_call_fn, lstm_cell_141_layer_call_and_return_conditional_losses, lstm_cell_141_layer_call_fn, lstm_cell_141_layer_call_and_return_conditional_losses, lstm_cell_141_layer_call_and_return_conditional_losses while saving (showing 5 of 5). These functions will not be directly callable after loading.\n"
     ]
    },
    {
     "name": "stdout",
     "output_type": "stream",
     "text": [
      "INFO:tensorflow:Assets written to: /Users/yukahatori/A_Fairness/FairnessML_git/LSTM-BasicModel/WeatherModelx/assets\n"
     ]
    },
    {
     "name": "stderr",
     "output_type": "stream",
     "text": [
      "INFO:tensorflow:Assets written to: /Users/yukahatori/A_Fairness/FairnessML_git/LSTM-BasicModel/WeatherModelx/assets\n",
      "WARNING:absl:<keras.layers.recurrent.LSTMCell object at 0x7fd88044d910> has the same name 'LSTMCell' as a built-in Keras object. Consider renaming <class 'keras.layers.recurrent.LSTMCell'> to avoid naming conflicts when loading with `tf.keras.models.load_model`. If renaming is not possible, pass the object in the `custom_objects` parameter of the load function.\n"
     ]
    },
    {
     "name": "stdout",
     "output_type": "stream",
     "text": [
      "247/247 [==============================] - 4s 16ms/step - loss: 1.0912e-04 - root_mean_squared_error: 0.0104 - val_loss: 7.1353e-05 - val_root_mean_squared_error: 0.0084\n",
      "Epoch 19/20\n",
      "247/247 [==============================] - 1s 3ms/step - loss: 5.0521e-05 - root_mean_squared_error: 0.0071 - val_loss: 1.2343e-04 - val_root_mean_squared_error: 0.0111\n",
      "Epoch 20/20\n",
      "247/247 [==============================] - 1s 3ms/step - loss: 4.1572e-05 - root_mean_squared_error: 0.0064 - val_loss: 1.2123e-04 - val_root_mean_squared_error: 0.0110\n",
      "RMSE value:  0.00580736947999145\n",
      "Epoch 1/20\n",
      "232/247 [===========================>..] - ETA: 0s - loss: 0.0244 - root_mean_squared_error: 0.1562"
     ]
    },
    {
     "name": "stderr",
     "output_type": "stream",
     "text": [
      "WARNING:absl:Found untraced functions such as lstm_cell_142_layer_call_fn, lstm_cell_142_layer_call_and_return_conditional_losses, lstm_cell_142_layer_call_fn, lstm_cell_142_layer_call_and_return_conditional_losses, lstm_cell_142_layer_call_and_return_conditional_losses while saving (showing 5 of 5). These functions will not be directly callable after loading.\n"
     ]
    },
    {
     "name": "stdout",
     "output_type": "stream",
     "text": [
      "INFO:tensorflow:Assets written to: /Users/yukahatori/A_Fairness/FairnessML_git/LSTM-BasicModel/WeatherModelx/assets\n"
     ]
    },
    {
     "name": "stderr",
     "output_type": "stream",
     "text": [
      "INFO:tensorflow:Assets written to: /Users/yukahatori/A_Fairness/FairnessML_git/LSTM-BasicModel/WeatherModelx/assets\n",
      "WARNING:absl:<keras.layers.recurrent.LSTMCell object at 0x7fd86f88c9d0> has the same name 'LSTMCell' as a built-in Keras object. Consider renaming <class 'keras.layers.recurrent.LSTMCell'> to avoid naming conflicts when loading with `tf.keras.models.load_model`. If renaming is not possible, pass the object in the `custom_objects` parameter of the load function.\n"
     ]
    },
    {
     "name": "stdout",
     "output_type": "stream",
     "text": [
      "247/247 [==============================] - 6s 17ms/step - loss: 0.0230 - root_mean_squared_error: 0.1517 - val_loss: 9.6993e-04 - val_root_mean_squared_error: 0.0311\n",
      "Epoch 2/20\n",
      "247/247 [==============================] - 1s 3ms/step - loss: 2.9262e-04 - root_mean_squared_error: 0.0171 - val_loss: 0.0011 - val_root_mean_squared_error: 0.0330\n",
      "Epoch 3/20\n",
      "243/247 [============================>.] - ETA: 0s - loss: 2.0012e-04 - root_mean_squared_error: 0.0141"
     ]
    },
    {
     "name": "stderr",
     "output_type": "stream",
     "text": [
      "WARNING:absl:Found untraced functions such as lstm_cell_142_layer_call_fn, lstm_cell_142_layer_call_and_return_conditional_losses, lstm_cell_142_layer_call_fn, lstm_cell_142_layer_call_and_return_conditional_losses, lstm_cell_142_layer_call_and_return_conditional_losses while saving (showing 5 of 5). These functions will not be directly callable after loading.\n"
     ]
    },
    {
     "name": "stdout",
     "output_type": "stream",
     "text": [
      "INFO:tensorflow:Assets written to: /Users/yukahatori/A_Fairness/FairnessML_git/LSTM-BasicModel/WeatherModelx/assets\n"
     ]
    },
    {
     "name": "stderr",
     "output_type": "stream",
     "text": [
      "INFO:tensorflow:Assets written to: /Users/yukahatori/A_Fairness/FairnessML_git/LSTM-BasicModel/WeatherModelx/assets\n",
      "WARNING:absl:<keras.layers.recurrent.LSTMCell object at 0x7fd86f88c9d0> has the same name 'LSTMCell' as a built-in Keras object. Consider renaming <class 'keras.layers.recurrent.LSTMCell'> to avoid naming conflicts when loading with `tf.keras.models.load_model`. If renaming is not possible, pass the object in the `custom_objects` parameter of the load function.\n"
     ]
    },
    {
     "name": "stdout",
     "output_type": "stream",
     "text": [
      "247/247 [==============================] - 3s 14ms/step - loss: 2.0008e-04 - root_mean_squared_error: 0.0141 - val_loss: 6.7226e-04 - val_root_mean_squared_error: 0.0259\n",
      "Epoch 4/20\n",
      "247/247 [==============================] - 1s 3ms/step - loss: 1.5629e-04 - root_mean_squared_error: 0.0125 - val_loss: 9.1174e-04 - val_root_mean_squared_error: 0.0302\n",
      "Epoch 5/20\n",
      "239/247 [============================>.] - ETA: 0s - loss: 1.2781e-04 - root_mean_squared_error: 0.0113"
     ]
    },
    {
     "name": "stderr",
     "output_type": "stream",
     "text": [
      "WARNING:absl:Found untraced functions such as lstm_cell_142_layer_call_fn, lstm_cell_142_layer_call_and_return_conditional_losses, lstm_cell_142_layer_call_fn, lstm_cell_142_layer_call_and_return_conditional_losses, lstm_cell_142_layer_call_and_return_conditional_losses while saving (showing 5 of 5). These functions will not be directly callable after loading.\n"
     ]
    },
    {
     "name": "stdout",
     "output_type": "stream",
     "text": [
      "INFO:tensorflow:Assets written to: /Users/yukahatori/A_Fairness/FairnessML_git/LSTM-BasicModel/WeatherModelx/assets\n"
     ]
    },
    {
     "name": "stderr",
     "output_type": "stream",
     "text": [
      "INFO:tensorflow:Assets written to: /Users/yukahatori/A_Fairness/FairnessML_git/LSTM-BasicModel/WeatherModelx/assets\n",
      "WARNING:absl:<keras.layers.recurrent.LSTMCell object at 0x7fd86f88c9d0> has the same name 'LSTMCell' as a built-in Keras object. Consider renaming <class 'keras.layers.recurrent.LSTMCell'> to avoid naming conflicts when loading with `tf.keras.models.load_model`. If renaming is not possible, pass the object in the `custom_objects` parameter of the load function.\n"
     ]
    },
    {
     "name": "stdout",
     "output_type": "stream",
     "text": [
      "247/247 [==============================] - 4s 15ms/step - loss: 1.2822e-04 - root_mean_squared_error: 0.0113 - val_loss: 6.1685e-04 - val_root_mean_squared_error: 0.0248\n",
      "Epoch 6/20\n",
      "247/247 [==============================] - 1s 3ms/step - loss: 1.1288e-04 - root_mean_squared_error: 0.0106 - val_loss: 8.5407e-04 - val_root_mean_squared_error: 0.0292\n",
      "Epoch 7/20\n",
      "244/247 [============================>.] - ETA: 0s - loss: 1.0060e-04 - root_mean_squared_error: 0.0100"
     ]
    },
    {
     "name": "stderr",
     "output_type": "stream",
     "text": [
      "WARNING:absl:Found untraced functions such as lstm_cell_142_layer_call_fn, lstm_cell_142_layer_call_and_return_conditional_losses, lstm_cell_142_layer_call_fn, lstm_cell_142_layer_call_and_return_conditional_losses, lstm_cell_142_layer_call_and_return_conditional_losses while saving (showing 5 of 5). These functions will not be directly callable after loading.\n"
     ]
    },
    {
     "name": "stdout",
     "output_type": "stream",
     "text": [
      "INFO:tensorflow:Assets written to: /Users/yukahatori/A_Fairness/FairnessML_git/LSTM-BasicModel/WeatherModelx/assets\n"
     ]
    },
    {
     "name": "stderr",
     "output_type": "stream",
     "text": [
      "INFO:tensorflow:Assets written to: /Users/yukahatori/A_Fairness/FairnessML_git/LSTM-BasicModel/WeatherModelx/assets\n",
      "WARNING:absl:<keras.layers.recurrent.LSTMCell object at 0x7fd86f88c9d0> has the same name 'LSTMCell' as a built-in Keras object. Consider renaming <class 'keras.layers.recurrent.LSTMCell'> to avoid naming conflicts when loading with `tf.keras.models.load_model`. If renaming is not possible, pass the object in the `custom_objects` parameter of the load function.\n"
     ]
    },
    {
     "name": "stdout",
     "output_type": "stream",
     "text": [
      "247/247 [==============================] - 4s 15ms/step - loss: 1.0078e-04 - root_mean_squared_error: 0.0100 - val_loss: 4.4575e-04 - val_root_mean_squared_error: 0.0211\n",
      "Epoch 8/20\n",
      "247/247 [==============================] - 1s 3ms/step - loss: 8.9100e-05 - root_mean_squared_error: 0.0094 - val_loss: 7.6418e-04 - val_root_mean_squared_error: 0.0276\n",
      "Epoch 9/20\n",
      "236/247 [===========================>..] - ETA: 0s - loss: 8.1611e-05 - root_mean_squared_error: 0.0090"
     ]
    },
    {
     "name": "stderr",
     "output_type": "stream",
     "text": [
      "WARNING:absl:Found untraced functions such as lstm_cell_142_layer_call_fn, lstm_cell_142_layer_call_and_return_conditional_losses, lstm_cell_142_layer_call_fn, lstm_cell_142_layer_call_and_return_conditional_losses, lstm_cell_142_layer_call_and_return_conditional_losses while saving (showing 5 of 5). These functions will not be directly callable after loading.\n"
     ]
    },
    {
     "name": "stdout",
     "output_type": "stream",
     "text": [
      "INFO:tensorflow:Assets written to: /Users/yukahatori/A_Fairness/FairnessML_git/LSTM-BasicModel/WeatherModelx/assets\n"
     ]
    },
    {
     "name": "stderr",
     "output_type": "stream",
     "text": [
      "INFO:tensorflow:Assets written to: /Users/yukahatori/A_Fairness/FairnessML_git/LSTM-BasicModel/WeatherModelx/assets\n",
      "WARNING:absl:<keras.layers.recurrent.LSTMCell object at 0x7fd86f88c9d0> has the same name 'LSTMCell' as a built-in Keras object. Consider renaming <class 'keras.layers.recurrent.LSTMCell'> to avoid naming conflicts when loading with `tf.keras.models.load_model`. If renaming is not possible, pass the object in the `custom_objects` parameter of the load function.\n"
     ]
    },
    {
     "name": "stdout",
     "output_type": "stream",
     "text": [
      "247/247 [==============================] - 4s 16ms/step - loss: 8.2389e-05 - root_mean_squared_error: 0.0091 - val_loss: 2.8780e-04 - val_root_mean_squared_error: 0.0170\n",
      "Epoch 10/20\n",
      "247/247 [==============================] - 1s 2ms/step - loss: 7.4504e-05 - root_mean_squared_error: 0.0086 - val_loss: 4.0899e-04 - val_root_mean_squared_error: 0.0202\n",
      "Epoch 11/20\n",
      "233/247 [===========================>..] - ETA: 0s - loss: 6.9870e-05 - root_mean_squared_error: 0.0084"
     ]
    },
    {
     "name": "stderr",
     "output_type": "stream",
     "text": [
      "WARNING:absl:Found untraced functions such as lstm_cell_142_layer_call_fn, lstm_cell_142_layer_call_and_return_conditional_losses, lstm_cell_142_layer_call_fn, lstm_cell_142_layer_call_and_return_conditional_losses, lstm_cell_142_layer_call_and_return_conditional_losses while saving (showing 5 of 5). These functions will not be directly callable after loading.\n"
     ]
    },
    {
     "name": "stdout",
     "output_type": "stream",
     "text": [
      "INFO:tensorflow:Assets written to: /Users/yukahatori/A_Fairness/FairnessML_git/LSTM-BasicModel/WeatherModelx/assets\n"
     ]
    },
    {
     "name": "stderr",
     "output_type": "stream",
     "text": [
      "INFO:tensorflow:Assets written to: /Users/yukahatori/A_Fairness/FairnessML_git/LSTM-BasicModel/WeatherModelx/assets\n",
      "WARNING:absl:<keras.layers.recurrent.LSTMCell object at 0x7fd86f88c9d0> has the same name 'LSTMCell' as a built-in Keras object. Consider renaming <class 'keras.layers.recurrent.LSTMCell'> to avoid naming conflicts when loading with `tf.keras.models.load_model`. If renaming is not possible, pass the object in the `custom_objects` parameter of the load function.\n"
     ]
    },
    {
     "name": "stdout",
     "output_type": "stream",
     "text": [
      "247/247 [==============================] - 4s 16ms/step - loss: 6.9163e-05 - root_mean_squared_error: 0.0083 - val_loss: 2.6728e-04 - val_root_mean_squared_error: 0.0163\n",
      "Epoch 12/20\n",
      "232/247 [===========================>..] - ETA: 0s - loss: 6.3383e-05 - root_mean_squared_error: 0.0080"
     ]
    },
    {
     "name": "stderr",
     "output_type": "stream",
     "text": [
      "WARNING:absl:Found untraced functions such as lstm_cell_142_layer_call_fn, lstm_cell_142_layer_call_and_return_conditional_losses, lstm_cell_142_layer_call_fn, lstm_cell_142_layer_call_and_return_conditional_losses, lstm_cell_142_layer_call_and_return_conditional_losses while saving (showing 5 of 5). These functions will not be directly callable after loading.\n"
     ]
    },
    {
     "name": "stdout",
     "output_type": "stream",
     "text": [
      "INFO:tensorflow:Assets written to: /Users/yukahatori/A_Fairness/FairnessML_git/LSTM-BasicModel/WeatherModelx/assets\n"
     ]
    },
    {
     "name": "stderr",
     "output_type": "stream",
     "text": [
      "INFO:tensorflow:Assets written to: /Users/yukahatori/A_Fairness/FairnessML_git/LSTM-BasicModel/WeatherModelx/assets\n",
      "WARNING:absl:<keras.layers.recurrent.LSTMCell object at 0x7fd86f88c9d0> has the same name 'LSTMCell' as a built-in Keras object. Consider renaming <class 'keras.layers.recurrent.LSTMCell'> to avoid naming conflicts when loading with `tf.keras.models.load_model`. If renaming is not possible, pass the object in the `custom_objects` parameter of the load function.\n"
     ]
    },
    {
     "name": "stdout",
     "output_type": "stream",
     "text": [
      "247/247 [==============================] - 4s 18ms/step - loss: 6.2795e-05 - root_mean_squared_error: 0.0079 - val_loss: 2.0230e-04 - val_root_mean_squared_error: 0.0142\n",
      "Epoch 13/20\n",
      "230/247 [==========================>...] - ETA: 0s - loss: 6.1761e-05 - root_mean_squared_error: 0.0079"
     ]
    },
    {
     "name": "stderr",
     "output_type": "stream",
     "text": [
      "WARNING:absl:Found untraced functions such as lstm_cell_142_layer_call_fn, lstm_cell_142_layer_call_and_return_conditional_losses, lstm_cell_142_layer_call_fn, lstm_cell_142_layer_call_and_return_conditional_losses, lstm_cell_142_layer_call_and_return_conditional_losses while saving (showing 5 of 5). These functions will not be directly callable after loading.\n"
     ]
    },
    {
     "name": "stdout",
     "output_type": "stream",
     "text": [
      "INFO:tensorflow:Assets written to: /Users/yukahatori/A_Fairness/FairnessML_git/LSTM-BasicModel/WeatherModelx/assets\n"
     ]
    },
    {
     "name": "stderr",
     "output_type": "stream",
     "text": [
      "INFO:tensorflow:Assets written to: /Users/yukahatori/A_Fairness/FairnessML_git/LSTM-BasicModel/WeatherModelx/assets\n",
      "WARNING:absl:<keras.layers.recurrent.LSTMCell object at 0x7fd86f88c9d0> has the same name 'LSTMCell' as a built-in Keras object. Consider renaming <class 'keras.layers.recurrent.LSTMCell'> to avoid naming conflicts when loading with `tf.keras.models.load_model`. If renaming is not possible, pass the object in the `custom_objects` parameter of the load function.\n"
     ]
    },
    {
     "name": "stdout",
     "output_type": "stream",
     "text": [
      "247/247 [==============================] - 4s 17ms/step - loss: 6.0874e-05 - root_mean_squared_error: 0.0078 - val_loss: 1.8516e-04 - val_root_mean_squared_error: 0.0136\n",
      "Epoch 14/20\n",
      "247/247 [==============================] - 1s 3ms/step - loss: 5.1343e-05 - root_mean_squared_error: 0.0072 - val_loss: 4.1629e-04 - val_root_mean_squared_error: 0.0204\n",
      "Epoch 15/20\n",
      "247/247 [==============================] - 1s 3ms/step - loss: 5.1966e-05 - root_mean_squared_error: 0.0072 - val_loss: 1.8915e-04 - val_root_mean_squared_error: 0.0138\n",
      "Epoch 16/20\n",
      "242/247 [============================>.] - ETA: 0s - loss: 4.6080e-05 - root_mean_squared_error: 0.0068"
     ]
    },
    {
     "name": "stderr",
     "output_type": "stream",
     "text": [
      "WARNING:absl:Found untraced functions such as lstm_cell_142_layer_call_fn, lstm_cell_142_layer_call_and_return_conditional_losses, lstm_cell_142_layer_call_fn, lstm_cell_142_layer_call_and_return_conditional_losses, lstm_cell_142_layer_call_and_return_conditional_losses while saving (showing 5 of 5). These functions will not be directly callable after loading.\n"
     ]
    },
    {
     "name": "stdout",
     "output_type": "stream",
     "text": [
      "INFO:tensorflow:Assets written to: /Users/yukahatori/A_Fairness/FairnessML_git/LSTM-BasicModel/WeatherModelx/assets\n"
     ]
    },
    {
     "name": "stderr",
     "output_type": "stream",
     "text": [
      "INFO:tensorflow:Assets written to: /Users/yukahatori/A_Fairness/FairnessML_git/LSTM-BasicModel/WeatherModelx/assets\n",
      "WARNING:absl:<keras.layers.recurrent.LSTMCell object at 0x7fd86f88c9d0> has the same name 'LSTMCell' as a built-in Keras object. Consider renaming <class 'keras.layers.recurrent.LSTMCell'> to avoid naming conflicts when loading with `tf.keras.models.load_model`. If renaming is not possible, pass the object in the `custom_objects` parameter of the load function.\n"
     ]
    },
    {
     "name": "stdout",
     "output_type": "stream",
     "text": [
      "247/247 [==============================] - 4s 16ms/step - loss: 4.6311e-05 - root_mean_squared_error: 0.0068 - val_loss: 1.2604e-04 - val_root_mean_squared_error: 0.0112\n",
      "Epoch 17/20\n",
      "247/247 [==============================] - 1s 3ms/step - loss: 5.2388e-05 - root_mean_squared_error: 0.0072 - val_loss: 1.5966e-04 - val_root_mean_squared_error: 0.0126\n",
      "Epoch 18/20\n",
      "247/247 [==============================] - 1s 3ms/step - loss: 4.3709e-05 - root_mean_squared_error: 0.0066 - val_loss: 1.8779e-04 - val_root_mean_squared_error: 0.0137\n",
      "Epoch 19/20\n",
      "247/247 [==============================] - 1s 3ms/step - loss: 5.4098e-05 - root_mean_squared_error: 0.0074 - val_loss: 2.1959e-04 - val_root_mean_squared_error: 0.0148\n",
      "Epoch 20/20\n",
      "247/247 [==============================] - 1s 3ms/step - loss: 4.3035e-05 - root_mean_squared_error: 0.0066 - val_loss: 1.8836e-04 - val_root_mean_squared_error: 0.0137\n",
      "RMSE value:  0.006320990395058898\n",
      "Epoch 1/20\n",
      "245/247 [============================>.] - ETA: 0s - loss: 0.0150 - root_mean_squared_error: 0.1223"
     ]
    },
    {
     "name": "stderr",
     "output_type": "stream",
     "text": [
      "WARNING:absl:Found untraced functions such as lstm_cell_143_layer_call_fn, lstm_cell_143_layer_call_and_return_conditional_losses, lstm_cell_143_layer_call_fn, lstm_cell_143_layer_call_and_return_conditional_losses, lstm_cell_143_layer_call_and_return_conditional_losses while saving (showing 5 of 5). These functions will not be directly callable after loading.\n"
     ]
    },
    {
     "name": "stdout",
     "output_type": "stream",
     "text": [
      "INFO:tensorflow:Assets written to: /Users/yukahatori/A_Fairness/FairnessML_git/LSTM-BasicModel/WeatherModelx/assets\n"
     ]
    },
    {
     "name": "stderr",
     "output_type": "stream",
     "text": [
      "INFO:tensorflow:Assets written to: /Users/yukahatori/A_Fairness/FairnessML_git/LSTM-BasicModel/WeatherModelx/assets\n",
      "WARNING:absl:<keras.layers.recurrent.LSTMCell object at 0x7fd87855d730> has the same name 'LSTMCell' as a built-in Keras object. Consider renaming <class 'keras.layers.recurrent.LSTMCell'> to avoid naming conflicts when loading with `tf.keras.models.load_model`. If renaming is not possible, pass the object in the `custom_objects` parameter of the load function.\n"
     ]
    },
    {
     "name": "stdout",
     "output_type": "stream",
     "text": [
      "247/247 [==============================] - 7s 18ms/step - loss: 0.0149 - root_mean_squared_error: 0.1220 - val_loss: 0.0021 - val_root_mean_squared_error: 0.0453\n",
      "Epoch 2/20\n",
      "240/247 [============================>.] - ETA: 0s - loss: 2.4580e-04 - root_mean_squared_error: 0.0157"
     ]
    },
    {
     "name": "stderr",
     "output_type": "stream",
     "text": [
      "WARNING:absl:Found untraced functions such as lstm_cell_143_layer_call_fn, lstm_cell_143_layer_call_and_return_conditional_losses, lstm_cell_143_layer_call_fn, lstm_cell_143_layer_call_and_return_conditional_losses, lstm_cell_143_layer_call_and_return_conditional_losses while saving (showing 5 of 5). These functions will not be directly callable after loading.\n"
     ]
    },
    {
     "name": "stdout",
     "output_type": "stream",
     "text": [
      "INFO:tensorflow:Assets written to: /Users/yukahatori/A_Fairness/FairnessML_git/LSTM-BasicModel/WeatherModelx/assets\n"
     ]
    },
    {
     "name": "stderr",
     "output_type": "stream",
     "text": [
      "INFO:tensorflow:Assets written to: /Users/yukahatori/A_Fairness/FairnessML_git/LSTM-BasicModel/WeatherModelx/assets\n",
      "WARNING:absl:<keras.layers.recurrent.LSTMCell object at 0x7fd87855d730> has the same name 'LSTMCell' as a built-in Keras object. Consider renaming <class 'keras.layers.recurrent.LSTMCell'> to avoid naming conflicts when loading with `tf.keras.models.load_model`. If renaming is not possible, pass the object in the `custom_objects` parameter of the load function.\n"
     ]
    },
    {
     "name": "stdout",
     "output_type": "stream",
     "text": [
      "247/247 [==============================] - 4s 15ms/step - loss: 2.4412e-04 - root_mean_squared_error: 0.0156 - val_loss: 0.0015 - val_root_mean_squared_error: 0.0394\n",
      "Epoch 3/20\n",
      "245/247 [============================>.] - ETA: 0s - loss: 1.6312e-04 - root_mean_squared_error: 0.0128"
     ]
    },
    {
     "name": "stderr",
     "output_type": "stream",
     "text": [
      "WARNING:absl:Found untraced functions such as lstm_cell_143_layer_call_fn, lstm_cell_143_layer_call_and_return_conditional_losses, lstm_cell_143_layer_call_fn, lstm_cell_143_layer_call_and_return_conditional_losses, lstm_cell_143_layer_call_and_return_conditional_losses while saving (showing 5 of 5). These functions will not be directly callable after loading.\n"
     ]
    },
    {
     "name": "stdout",
     "output_type": "stream",
     "text": [
      "INFO:tensorflow:Assets written to: /Users/yukahatori/A_Fairness/FairnessML_git/LSTM-BasicModel/WeatherModelx/assets\n"
     ]
    },
    {
     "name": "stderr",
     "output_type": "stream",
     "text": [
      "INFO:tensorflow:Assets written to: /Users/yukahatori/A_Fairness/FairnessML_git/LSTM-BasicModel/WeatherModelx/assets\n",
      "WARNING:absl:<keras.layers.recurrent.LSTMCell object at 0x7fd87855d730> has the same name 'LSTMCell' as a built-in Keras object. Consider renaming <class 'keras.layers.recurrent.LSTMCell'> to avoid naming conflicts when loading with `tf.keras.models.load_model`. If renaming is not possible, pass the object in the `custom_objects` parameter of the load function.\n"
     ]
    },
    {
     "name": "stdout",
     "output_type": "stream",
     "text": [
      "247/247 [==============================] - 4s 14ms/step - loss: 1.6292e-04 - root_mean_squared_error: 0.0128 - val_loss: 0.0013 - val_root_mean_squared_error: 0.0354\n",
      "Epoch 4/20\n",
      "232/247 [===========================>..] - ETA: 0s - loss: 1.3445e-04 - root_mean_squared_error: 0.0116"
     ]
    },
    {
     "name": "stderr",
     "output_type": "stream",
     "text": [
      "WARNING:absl:Found untraced functions such as lstm_cell_143_layer_call_fn, lstm_cell_143_layer_call_and_return_conditional_losses, lstm_cell_143_layer_call_fn, lstm_cell_143_layer_call_and_return_conditional_losses, lstm_cell_143_layer_call_and_return_conditional_losses while saving (showing 5 of 5). These functions will not be directly callable after loading.\n"
     ]
    },
    {
     "name": "stdout",
     "output_type": "stream",
     "text": [
      "INFO:tensorflow:Assets written to: /Users/yukahatori/A_Fairness/FairnessML_git/LSTM-BasicModel/WeatherModelx/assets\n"
     ]
    },
    {
     "name": "stderr",
     "output_type": "stream",
     "text": [
      "INFO:tensorflow:Assets written to: /Users/yukahatori/A_Fairness/FairnessML_git/LSTM-BasicModel/WeatherModelx/assets\n",
      "WARNING:absl:<keras.layers.recurrent.LSTMCell object at 0x7fd87855d730> has the same name 'LSTMCell' as a built-in Keras object. Consider renaming <class 'keras.layers.recurrent.LSTMCell'> to avoid naming conflicts when loading with `tf.keras.models.load_model`. If renaming is not possible, pass the object in the `custom_objects` parameter of the load function.\n"
     ]
    },
    {
     "name": "stdout",
     "output_type": "stream",
     "text": [
      "247/247 [==============================] - 4s 17ms/step - loss: 1.3519e-04 - root_mean_squared_error: 0.0116 - val_loss: 0.0010 - val_root_mean_squared_error: 0.0318\n",
      "Epoch 5/20\n",
      "228/247 [==========================>...] - ETA: 0s - loss: 1.1462e-04 - root_mean_squared_error: 0.0107"
     ]
    },
    {
     "name": "stderr",
     "output_type": "stream",
     "text": [
      "WARNING:absl:Found untraced functions such as lstm_cell_143_layer_call_fn, lstm_cell_143_layer_call_and_return_conditional_losses, lstm_cell_143_layer_call_fn, lstm_cell_143_layer_call_and_return_conditional_losses, lstm_cell_143_layer_call_and_return_conditional_losses while saving (showing 5 of 5). These functions will not be directly callable after loading.\n"
     ]
    },
    {
     "name": "stdout",
     "output_type": "stream",
     "text": [
      "INFO:tensorflow:Assets written to: /Users/yukahatori/A_Fairness/FairnessML_git/LSTM-BasicModel/WeatherModelx/assets\n"
     ]
    },
    {
     "name": "stderr",
     "output_type": "stream",
     "text": [
      "INFO:tensorflow:Assets written to: /Users/yukahatori/A_Fairness/FairnessML_git/LSTM-BasicModel/WeatherModelx/assets\n",
      "WARNING:absl:<keras.layers.recurrent.LSTMCell object at 0x7fd87855d730> has the same name 'LSTMCell' as a built-in Keras object. Consider renaming <class 'keras.layers.recurrent.LSTMCell'> to avoid naming conflicts when loading with `tf.keras.models.load_model`. If renaming is not possible, pass the object in the `custom_objects` parameter of the load function.\n"
     ]
    },
    {
     "name": "stdout",
     "output_type": "stream",
     "text": [
      "247/247 [==============================] - 4s 15ms/step - loss: 1.1387e-04 - root_mean_squared_error: 0.0107 - val_loss: 6.8797e-04 - val_root_mean_squared_error: 0.0262\n",
      "Epoch 6/20\n",
      "247/247 [==============================] - 1s 3ms/step - loss: 1.0599e-04 - root_mean_squared_error: 0.0103 - val_loss: 8.3115e-04 - val_root_mean_squared_error: 0.0288\n",
      "Epoch 7/20\n",
      "232/247 [===========================>..] - ETA: 0s - loss: 8.9951e-05 - root_mean_squared_error: 0.0095"
     ]
    },
    {
     "name": "stderr",
     "output_type": "stream",
     "text": [
      "WARNING:absl:Found untraced functions such as lstm_cell_143_layer_call_fn, lstm_cell_143_layer_call_and_return_conditional_losses, lstm_cell_143_layer_call_fn, lstm_cell_143_layer_call_and_return_conditional_losses, lstm_cell_143_layer_call_and_return_conditional_losses while saving (showing 5 of 5). These functions will not be directly callable after loading.\n"
     ]
    },
    {
     "name": "stdout",
     "output_type": "stream",
     "text": [
      "INFO:tensorflow:Assets written to: /Users/yukahatori/A_Fairness/FairnessML_git/LSTM-BasicModel/WeatherModelx/assets\n"
     ]
    },
    {
     "name": "stderr",
     "output_type": "stream",
     "text": [
      "INFO:tensorflow:Assets written to: /Users/yukahatori/A_Fairness/FairnessML_git/LSTM-BasicModel/WeatherModelx/assets\n",
      "WARNING:absl:<keras.layers.recurrent.LSTMCell object at 0x7fd87855d730> has the same name 'LSTMCell' as a built-in Keras object. Consider renaming <class 'keras.layers.recurrent.LSTMCell'> to avoid naming conflicts when loading with `tf.keras.models.load_model`. If renaming is not possible, pass the object in the `custom_objects` parameter of the load function.\n"
     ]
    },
    {
     "name": "stdout",
     "output_type": "stream",
     "text": [
      "247/247 [==============================] - 5s 19ms/step - loss: 8.9570e-05 - root_mean_squared_error: 0.0095 - val_loss: 5.5022e-04 - val_root_mean_squared_error: 0.0235\n",
      "Epoch 8/20\n",
      "239/247 [============================>.] - ETA: 0s - loss: 7.7907e-05 - root_mean_squared_error: 0.0088"
     ]
    },
    {
     "name": "stderr",
     "output_type": "stream",
     "text": [
      "WARNING:absl:Found untraced functions such as lstm_cell_143_layer_call_fn, lstm_cell_143_layer_call_and_return_conditional_losses, lstm_cell_143_layer_call_fn, lstm_cell_143_layer_call_and_return_conditional_losses, lstm_cell_143_layer_call_and_return_conditional_losses while saving (showing 5 of 5). These functions will not be directly callable after loading.\n"
     ]
    },
    {
     "name": "stdout",
     "output_type": "stream",
     "text": [
      "INFO:tensorflow:Assets written to: /Users/yukahatori/A_Fairness/FairnessML_git/LSTM-BasicModel/WeatherModelx/assets\n"
     ]
    },
    {
     "name": "stderr",
     "output_type": "stream",
     "text": [
      "INFO:tensorflow:Assets written to: /Users/yukahatori/A_Fairness/FairnessML_git/LSTM-BasicModel/WeatherModelx/assets\n",
      "WARNING:absl:<keras.layers.recurrent.LSTMCell object at 0x7fd87855d730> has the same name 'LSTMCell' as a built-in Keras object. Consider renaming <class 'keras.layers.recurrent.LSTMCell'> to avoid naming conflicts when loading with `tf.keras.models.load_model`. If renaming is not possible, pass the object in the `custom_objects` parameter of the load function.\n"
     ]
    },
    {
     "name": "stdout",
     "output_type": "stream",
     "text": [
      "247/247 [==============================] - 4s 16ms/step - loss: 7.7507e-05 - root_mean_squared_error: 0.0088 - val_loss: 3.3380e-04 - val_root_mean_squared_error: 0.0183\n",
      "Epoch 9/20\n",
      "242/247 [============================>.] - ETA: 0s - loss: 7.3079e-05 - root_mean_squared_error: 0.0085"
     ]
    },
    {
     "name": "stderr",
     "output_type": "stream",
     "text": [
      "WARNING:absl:Found untraced functions such as lstm_cell_143_layer_call_fn, lstm_cell_143_layer_call_and_return_conditional_losses, lstm_cell_143_layer_call_fn, lstm_cell_143_layer_call_and_return_conditional_losses, lstm_cell_143_layer_call_and_return_conditional_losses while saving (showing 5 of 5). These functions will not be directly callable after loading.\n"
     ]
    },
    {
     "name": "stdout",
     "output_type": "stream",
     "text": [
      "INFO:tensorflow:Assets written to: /Users/yukahatori/A_Fairness/FairnessML_git/LSTM-BasicModel/WeatherModelx/assets\n"
     ]
    },
    {
     "name": "stderr",
     "output_type": "stream",
     "text": [
      "INFO:tensorflow:Assets written to: /Users/yukahatori/A_Fairness/FairnessML_git/LSTM-BasicModel/WeatherModelx/assets\n",
      "WARNING:absl:<keras.layers.recurrent.LSTMCell object at 0x7fd87855d730> has the same name 'LSTMCell' as a built-in Keras object. Consider renaming <class 'keras.layers.recurrent.LSTMCell'> to avoid naming conflicts when loading with `tf.keras.models.load_model`. If renaming is not possible, pass the object in the `custom_objects` parameter of the load function.\n"
     ]
    },
    {
     "name": "stdout",
     "output_type": "stream",
     "text": [
      "247/247 [==============================] - 4s 15ms/step - loss: 7.2896e-05 - root_mean_squared_error: 0.0085 - val_loss: 2.6089e-04 - val_root_mean_squared_error: 0.0162\n",
      "Epoch 10/20\n",
      "239/247 [============================>.] - ETA: 0s - loss: 6.8433e-05 - root_mean_squared_error: 0.0083"
     ]
    },
    {
     "name": "stderr",
     "output_type": "stream",
     "text": [
      "WARNING:absl:Found untraced functions such as lstm_cell_143_layer_call_fn, lstm_cell_143_layer_call_and_return_conditional_losses, lstm_cell_143_layer_call_fn, lstm_cell_143_layer_call_and_return_conditional_losses, lstm_cell_143_layer_call_and_return_conditional_losses while saving (showing 5 of 5). These functions will not be directly callable after loading.\n"
     ]
    },
    {
     "name": "stdout",
     "output_type": "stream",
     "text": [
      "INFO:tensorflow:Assets written to: /Users/yukahatori/A_Fairness/FairnessML_git/LSTM-BasicModel/WeatherModelx/assets\n"
     ]
    },
    {
     "name": "stderr",
     "output_type": "stream",
     "text": [
      "INFO:tensorflow:Assets written to: /Users/yukahatori/A_Fairness/FairnessML_git/LSTM-BasicModel/WeatherModelx/assets\n",
      "WARNING:absl:<keras.layers.recurrent.LSTMCell object at 0x7fd87855d730> has the same name 'LSTMCell' as a built-in Keras object. Consider renaming <class 'keras.layers.recurrent.LSTMCell'> to avoid naming conflicts when loading with `tf.keras.models.load_model`. If renaming is not possible, pass the object in the `custom_objects` parameter of the load function.\n"
     ]
    },
    {
     "name": "stdout",
     "output_type": "stream",
     "text": [
      "247/247 [==============================] - 4s 14ms/step - loss: 6.8507e-05 - root_mean_squared_error: 0.0083 - val_loss: 1.9945e-04 - val_root_mean_squared_error: 0.0141\n",
      "Epoch 11/20\n",
      "247/247 [==============================] - 1s 3ms/step - loss: 6.3393e-05 - root_mean_squared_error: 0.0080 - val_loss: 2.4949e-04 - val_root_mean_squared_error: 0.0158\n",
      "Epoch 12/20\n",
      "234/247 [===========================>..] - ETA: 0s - loss: 5.2647e-05 - root_mean_squared_error: 0.0073"
     ]
    },
    {
     "name": "stderr",
     "output_type": "stream",
     "text": [
      "WARNING:absl:Found untraced functions such as lstm_cell_143_layer_call_fn, lstm_cell_143_layer_call_and_return_conditional_losses, lstm_cell_143_layer_call_fn, lstm_cell_143_layer_call_and_return_conditional_losses, lstm_cell_143_layer_call_and_return_conditional_losses while saving (showing 5 of 5). These functions will not be directly callable after loading.\n"
     ]
    },
    {
     "name": "stdout",
     "output_type": "stream",
     "text": [
      "INFO:tensorflow:Assets written to: /Users/yukahatori/A_Fairness/FairnessML_git/LSTM-BasicModel/WeatherModelx/assets\n"
     ]
    },
    {
     "name": "stderr",
     "output_type": "stream",
     "text": [
      "INFO:tensorflow:Assets written to: /Users/yukahatori/A_Fairness/FairnessML_git/LSTM-BasicModel/WeatherModelx/assets\n",
      "WARNING:absl:<keras.layers.recurrent.LSTMCell object at 0x7fd87855d730> has the same name 'LSTMCell' as a built-in Keras object. Consider renaming <class 'keras.layers.recurrent.LSTMCell'> to avoid naming conflicts when loading with `tf.keras.models.load_model`. If renaming is not possible, pass the object in the `custom_objects` parameter of the load function.\n"
     ]
    },
    {
     "name": "stdout",
     "output_type": "stream",
     "text": [
      "247/247 [==============================] - 4s 15ms/step - loss: 5.2622e-05 - root_mean_squared_error: 0.0073 - val_loss: 1.8311e-04 - val_root_mean_squared_error: 0.0135\n",
      "Epoch 13/20\n",
      "247/247 [==============================] - 1s 3ms/step - loss: 5.2811e-05 - root_mean_squared_error: 0.0073 - val_loss: 3.5022e-04 - val_root_mean_squared_error: 0.0187\n",
      "Epoch 14/20\n",
      "247/247 [==============================] - 1s 3ms/step - loss: 5.1207e-05 - root_mean_squared_error: 0.0072 - val_loss: 3.0329e-04 - val_root_mean_squared_error: 0.0174\n",
      "Epoch 15/20\n",
      "239/247 [============================>.] - ETA: 0s - loss: 4.3225e-05 - root_mean_squared_error: 0.0066"
     ]
    },
    {
     "name": "stderr",
     "output_type": "stream",
     "text": [
      "WARNING:absl:Found untraced functions such as lstm_cell_143_layer_call_fn, lstm_cell_143_layer_call_and_return_conditional_losses, lstm_cell_143_layer_call_fn, lstm_cell_143_layer_call_and_return_conditional_losses, lstm_cell_143_layer_call_and_return_conditional_losses while saving (showing 5 of 5). These functions will not be directly callable after loading.\n"
     ]
    },
    {
     "name": "stdout",
     "output_type": "stream",
     "text": [
      "INFO:tensorflow:Assets written to: /Users/yukahatori/A_Fairness/FairnessML_git/LSTM-BasicModel/WeatherModelx/assets\n"
     ]
    },
    {
     "name": "stderr",
     "output_type": "stream",
     "text": [
      "INFO:tensorflow:Assets written to: /Users/yukahatori/A_Fairness/FairnessML_git/LSTM-BasicModel/WeatherModelx/assets\n",
      "WARNING:absl:<keras.layers.recurrent.LSTMCell object at 0x7fd87855d730> has the same name 'LSTMCell' as a built-in Keras object. Consider renaming <class 'keras.layers.recurrent.LSTMCell'> to avoid naming conflicts when loading with `tf.keras.models.load_model`. If renaming is not possible, pass the object in the `custom_objects` parameter of the load function.\n"
     ]
    },
    {
     "name": "stdout",
     "output_type": "stream",
     "text": [
      "247/247 [==============================] - 4s 15ms/step - loss: 4.3095e-05 - root_mean_squared_error: 0.0066 - val_loss: 1.7462e-04 - val_root_mean_squared_error: 0.0132\n",
      "Epoch 16/20\n",
      "247/247 [==============================] - 1s 3ms/step - loss: 5.0010e-05 - root_mean_squared_error: 0.0071 - val_loss: 1.7534e-04 - val_root_mean_squared_error: 0.0132\n",
      "Epoch 17/20\n",
      "242/247 [============================>.] - ETA: 0s - loss: 4.9459e-05 - root_mean_squared_error: 0.0070"
     ]
    },
    {
     "name": "stderr",
     "output_type": "stream",
     "text": [
      "WARNING:absl:Found untraced functions such as lstm_cell_143_layer_call_fn, lstm_cell_143_layer_call_and_return_conditional_losses, lstm_cell_143_layer_call_fn, lstm_cell_143_layer_call_and_return_conditional_losses, lstm_cell_143_layer_call_and_return_conditional_losses while saving (showing 5 of 5). These functions will not be directly callable after loading.\n"
     ]
    },
    {
     "name": "stdout",
     "output_type": "stream",
     "text": [
      "INFO:tensorflow:Assets written to: /Users/yukahatori/A_Fairness/FairnessML_git/LSTM-BasicModel/WeatherModelx/assets\n"
     ]
    },
    {
     "name": "stderr",
     "output_type": "stream",
     "text": [
      "INFO:tensorflow:Assets written to: /Users/yukahatori/A_Fairness/FairnessML_git/LSTM-BasicModel/WeatherModelx/assets\n",
      "WARNING:absl:<keras.layers.recurrent.LSTMCell object at 0x7fd87855d730> has the same name 'LSTMCell' as a built-in Keras object. Consider renaming <class 'keras.layers.recurrent.LSTMCell'> to avoid naming conflicts when loading with `tf.keras.models.load_model`. If renaming is not possible, pass the object in the `custom_objects` parameter of the load function.\n"
     ]
    },
    {
     "name": "stdout",
     "output_type": "stream",
     "text": [
      "247/247 [==============================] - 3s 14ms/step - loss: 4.9860e-05 - root_mean_squared_error: 0.0071 - val_loss: 1.3364e-04 - val_root_mean_squared_error: 0.0116\n",
      "Epoch 18/20\n",
      "247/247 [==============================] - 1s 3ms/step - loss: 5.7113e-05 - root_mean_squared_error: 0.0076 - val_loss: 1.3613e-04 - val_root_mean_squared_error: 0.0117\n",
      "Epoch 19/20\n",
      "247/247 [==============================] - 1s 3ms/step - loss: 3.7871e-05 - root_mean_squared_error: 0.0062 - val_loss: 2.1200e-04 - val_root_mean_squared_error: 0.0146\n",
      "Epoch 20/20\n",
      "247/247 [==============================] - 1s 3ms/step - loss: 6.5116e-05 - root_mean_squared_error: 0.0081 - val_loss: 1.6291e-04 - val_root_mean_squared_error: 0.0128\n",
      "RMSE value:  0.006891210102000047\n",
      "Epoch 1/20\n",
      "229/247 [==========================>...] - ETA: 0s - loss: 0.0189 - root_mean_squared_error: 0.1373"
     ]
    },
    {
     "name": "stderr",
     "output_type": "stream",
     "text": [
      "WARNING:absl:Found untraced functions such as lstm_cell_144_layer_call_fn, lstm_cell_144_layer_call_and_return_conditional_losses, lstm_cell_144_layer_call_fn, lstm_cell_144_layer_call_and_return_conditional_losses, lstm_cell_144_layer_call_and_return_conditional_losses while saving (showing 5 of 5). These functions will not be directly callable after loading.\n"
     ]
    },
    {
     "name": "stdout",
     "output_type": "stream",
     "text": [
      "INFO:tensorflow:Assets written to: /Users/yukahatori/A_Fairness/FairnessML_git/LSTM-BasicModel/WeatherModelx/assets\n"
     ]
    },
    {
     "name": "stderr",
     "output_type": "stream",
     "text": [
      "INFO:tensorflow:Assets written to: /Users/yukahatori/A_Fairness/FairnessML_git/LSTM-BasicModel/WeatherModelx/assets\n",
      "WARNING:absl:<keras.layers.recurrent.LSTMCell object at 0x7fd876475040> has the same name 'LSTMCell' as a built-in Keras object. Consider renaming <class 'keras.layers.recurrent.LSTMCell'> to avoid naming conflicts when loading with `tf.keras.models.load_model`. If renaming is not possible, pass the object in the `custom_objects` parameter of the load function.\n"
     ]
    },
    {
     "name": "stdout",
     "output_type": "stream",
     "text": [
      "247/247 [==============================] - 6s 17ms/step - loss: 0.0176 - root_mean_squared_error: 0.1325 - val_loss: 0.0012 - val_root_mean_squared_error: 0.0348\n",
      "Epoch 2/20\n",
      "247/247 [==============================] - 1s 3ms/step - loss: 2.2276e-04 - root_mean_squared_error: 0.0149 - val_loss: 0.0014 - val_root_mean_squared_error: 0.0372\n",
      "Epoch 3/20\n",
      "242/247 [============================>.] - ETA: 0s - loss: 1.5738e-04 - root_mean_squared_error: 0.0125"
     ]
    },
    {
     "name": "stderr",
     "output_type": "stream",
     "text": [
      "WARNING:absl:Found untraced functions such as lstm_cell_144_layer_call_fn, lstm_cell_144_layer_call_and_return_conditional_losses, lstm_cell_144_layer_call_fn, lstm_cell_144_layer_call_and_return_conditional_losses, lstm_cell_144_layer_call_and_return_conditional_losses while saving (showing 5 of 5). These functions will not be directly callable after loading.\n"
     ]
    },
    {
     "name": "stdout",
     "output_type": "stream",
     "text": [
      "INFO:tensorflow:Assets written to: /Users/yukahatori/A_Fairness/FairnessML_git/LSTM-BasicModel/WeatherModelx/assets\n"
     ]
    },
    {
     "name": "stderr",
     "output_type": "stream",
     "text": [
      "INFO:tensorflow:Assets written to: /Users/yukahatori/A_Fairness/FairnessML_git/LSTM-BasicModel/WeatherModelx/assets\n",
      "WARNING:absl:<keras.layers.recurrent.LSTMCell object at 0x7fd876475040> has the same name 'LSTMCell' as a built-in Keras object. Consider renaming <class 'keras.layers.recurrent.LSTMCell'> to avoid naming conflicts when loading with `tf.keras.models.load_model`. If renaming is not possible, pass the object in the `custom_objects` parameter of the load function.\n"
     ]
    },
    {
     "name": "stdout",
     "output_type": "stream",
     "text": [
      "247/247 [==============================] - 4s 14ms/step - loss: 1.5768e-04 - root_mean_squared_error: 0.0126 - val_loss: 7.4434e-04 - val_root_mean_squared_error: 0.0273\n",
      "Epoch 4/20\n",
      "247/247 [==============================] - 1s 3ms/step - loss: 1.2625e-04 - root_mean_squared_error: 0.0112 - val_loss: 9.2438e-04 - val_root_mean_squared_error: 0.0304\n",
      "Epoch 5/20\n",
      "236/247 [===========================>..] - ETA: 0s - loss: 1.1455e-04 - root_mean_squared_error: 0.0107"
     ]
    },
    {
     "name": "stderr",
     "output_type": "stream",
     "text": [
      "WARNING:absl:Found untraced functions such as lstm_cell_144_layer_call_fn, lstm_cell_144_layer_call_and_return_conditional_losses, lstm_cell_144_layer_call_fn, lstm_cell_144_layer_call_and_return_conditional_losses, lstm_cell_144_layer_call_and_return_conditional_losses while saving (showing 5 of 5). These functions will not be directly callable after loading.\n"
     ]
    },
    {
     "name": "stdout",
     "output_type": "stream",
     "text": [
      "INFO:tensorflow:Assets written to: /Users/yukahatori/A_Fairness/FairnessML_git/LSTM-BasicModel/WeatherModelx/assets\n"
     ]
    },
    {
     "name": "stderr",
     "output_type": "stream",
     "text": [
      "INFO:tensorflow:Assets written to: /Users/yukahatori/A_Fairness/FairnessML_git/LSTM-BasicModel/WeatherModelx/assets\n",
      "WARNING:absl:<keras.layers.recurrent.LSTMCell object at 0x7fd876475040> has the same name 'LSTMCell' as a built-in Keras object. Consider renaming <class 'keras.layers.recurrent.LSTMCell'> to avoid naming conflicts when loading with `tf.keras.models.load_model`. If renaming is not possible, pass the object in the `custom_objects` parameter of the load function.\n"
     ]
    },
    {
     "name": "stdout",
     "output_type": "stream",
     "text": [
      "247/247 [==============================] - 4s 16ms/step - loss: 1.1436e-04 - root_mean_squared_error: 0.0107 - val_loss: 4.6224e-04 - val_root_mean_squared_error: 0.0215\n",
      "Epoch 6/20\n",
      "227/247 [==========================>...] - ETA: 0s - loss: 9.8091e-05 - root_mean_squared_error: 0.0099"
     ]
    },
    {
     "name": "stderr",
     "output_type": "stream",
     "text": [
      "WARNING:absl:Found untraced functions such as lstm_cell_144_layer_call_fn, lstm_cell_144_layer_call_and_return_conditional_losses, lstm_cell_144_layer_call_fn, lstm_cell_144_layer_call_and_return_conditional_losses, lstm_cell_144_layer_call_and_return_conditional_losses while saving (showing 5 of 5). These functions will not be directly callable after loading.\n"
     ]
    },
    {
     "name": "stdout",
     "output_type": "stream",
     "text": [
      "INFO:tensorflow:Assets written to: /Users/yukahatori/A_Fairness/FairnessML_git/LSTM-BasicModel/WeatherModelx/assets\n"
     ]
    },
    {
     "name": "stderr",
     "output_type": "stream",
     "text": [
      "INFO:tensorflow:Assets written to: /Users/yukahatori/A_Fairness/FairnessML_git/LSTM-BasicModel/WeatherModelx/assets\n",
      "WARNING:absl:<keras.layers.recurrent.LSTMCell object at 0x7fd876475040> has the same name 'LSTMCell' as a built-in Keras object. Consider renaming <class 'keras.layers.recurrent.LSTMCell'> to avoid naming conflicts when loading with `tf.keras.models.load_model`. If renaming is not possible, pass the object in the `custom_objects` parameter of the load function.\n"
     ]
    },
    {
     "name": "stdout",
     "output_type": "stream",
     "text": [
      "247/247 [==============================] - 4s 16ms/step - loss: 9.7419e-05 - root_mean_squared_error: 0.0099 - val_loss: 4.1416e-04 - val_root_mean_squared_error: 0.0204\n",
      "Epoch 7/20\n",
      "228/247 [==========================>...] - ETA: 0s - loss: 9.1332e-05 - root_mean_squared_error: 0.0096"
     ]
    },
    {
     "name": "stderr",
     "output_type": "stream",
     "text": [
      "WARNING:absl:Found untraced functions such as lstm_cell_144_layer_call_fn, lstm_cell_144_layer_call_and_return_conditional_losses, lstm_cell_144_layer_call_fn, lstm_cell_144_layer_call_and_return_conditional_losses, lstm_cell_144_layer_call_and_return_conditional_losses while saving (showing 5 of 5). These functions will not be directly callable after loading.\n"
     ]
    },
    {
     "name": "stdout",
     "output_type": "stream",
     "text": [
      "INFO:tensorflow:Assets written to: /Users/yukahatori/A_Fairness/FairnessML_git/LSTM-BasicModel/WeatherModelx/assets\n"
     ]
    },
    {
     "name": "stderr",
     "output_type": "stream",
     "text": [
      "INFO:tensorflow:Assets written to: /Users/yukahatori/A_Fairness/FairnessML_git/LSTM-BasicModel/WeatherModelx/assets\n",
      "WARNING:absl:<keras.layers.recurrent.LSTMCell object at 0x7fd876475040> has the same name 'LSTMCell' as a built-in Keras object. Consider renaming <class 'keras.layers.recurrent.LSTMCell'> to avoid naming conflicts when loading with `tf.keras.models.load_model`. If renaming is not possible, pass the object in the `custom_objects` parameter of the load function.\n"
     ]
    },
    {
     "name": "stdout",
     "output_type": "stream",
     "text": [
      "247/247 [==============================] - 3s 14ms/step - loss: 9.0188e-05 - root_mean_squared_error: 0.0095 - val_loss: 3.5824e-04 - val_root_mean_squared_error: 0.0189\n",
      "Epoch 8/20\n",
      "247/247 [==============================] - 1s 3ms/step - loss: 7.7230e-05 - root_mean_squared_error: 0.0088 - val_loss: 8.0266e-04 - val_root_mean_squared_error: 0.0283\n",
      "Epoch 9/20\n",
      "247/247 [==============================] - 1s 3ms/step - loss: 6.9813e-05 - root_mean_squared_error: 0.0084 - val_loss: 5.3978e-04 - val_root_mean_squared_error: 0.0232\n",
      "Epoch 10/20\n",
      "234/247 [===========================>..] - ETA: 0s - loss: 6.4497e-05 - root_mean_squared_error: 0.0080"
     ]
    },
    {
     "name": "stderr",
     "output_type": "stream",
     "text": [
      "WARNING:absl:Found untraced functions such as lstm_cell_144_layer_call_fn, lstm_cell_144_layer_call_and_return_conditional_losses, lstm_cell_144_layer_call_fn, lstm_cell_144_layer_call_and_return_conditional_losses, lstm_cell_144_layer_call_and_return_conditional_losses while saving (showing 5 of 5). These functions will not be directly callable after loading.\n"
     ]
    },
    {
     "name": "stdout",
     "output_type": "stream",
     "text": [
      "INFO:tensorflow:Assets written to: /Users/yukahatori/A_Fairness/FairnessML_git/LSTM-BasicModel/WeatherModelx/assets\n"
     ]
    },
    {
     "name": "stderr",
     "output_type": "stream",
     "text": [
      "INFO:tensorflow:Assets written to: /Users/yukahatori/A_Fairness/FairnessML_git/LSTM-BasicModel/WeatherModelx/assets\n",
      "WARNING:absl:<keras.layers.recurrent.LSTMCell object at 0x7fd876475040> has the same name 'LSTMCell' as a built-in Keras object. Consider renaming <class 'keras.layers.recurrent.LSTMCell'> to avoid naming conflicts when loading with `tf.keras.models.load_model`. If renaming is not possible, pass the object in the `custom_objects` parameter of the load function.\n"
     ]
    },
    {
     "name": "stdout",
     "output_type": "stream",
     "text": [
      "247/247 [==============================] - 3s 14ms/step - loss: 6.4601e-05 - root_mean_squared_error: 0.0080 - val_loss: 2.0941e-04 - val_root_mean_squared_error: 0.0145\n",
      "Epoch 11/20\n",
      "247/247 [==============================] - 1s 3ms/step - loss: 6.6915e-05 - root_mean_squared_error: 0.0082 - val_loss: 2.1358e-04 - val_root_mean_squared_error: 0.0146\n",
      "Epoch 12/20\n",
      "247/247 [==============================] - 1s 3ms/step - loss: 6.0385e-05 - root_mean_squared_error: 0.0078 - val_loss: 2.9760e-04 - val_root_mean_squared_error: 0.0173\n",
      "Epoch 13/20\n",
      "232/247 [===========================>..] - ETA: 0s - loss: 5.4463e-05 - root_mean_squared_error: 0.0074"
     ]
    },
    {
     "name": "stderr",
     "output_type": "stream",
     "text": [
      "WARNING:absl:Found untraced functions such as lstm_cell_144_layer_call_fn, lstm_cell_144_layer_call_and_return_conditional_losses, lstm_cell_144_layer_call_fn, lstm_cell_144_layer_call_and_return_conditional_losses, lstm_cell_144_layer_call_and_return_conditional_losses while saving (showing 5 of 5). These functions will not be directly callable after loading.\n"
     ]
    },
    {
     "name": "stdout",
     "output_type": "stream",
     "text": [
      "INFO:tensorflow:Assets written to: /Users/yukahatori/A_Fairness/FairnessML_git/LSTM-BasicModel/WeatherModelx/assets\n"
     ]
    },
    {
     "name": "stderr",
     "output_type": "stream",
     "text": [
      "INFO:tensorflow:Assets written to: /Users/yukahatori/A_Fairness/FairnessML_git/LSTM-BasicModel/WeatherModelx/assets\n",
      "WARNING:absl:<keras.layers.recurrent.LSTMCell object at 0x7fd876475040> has the same name 'LSTMCell' as a built-in Keras object. Consider renaming <class 'keras.layers.recurrent.LSTMCell'> to avoid naming conflicts when loading with `tf.keras.models.load_model`. If renaming is not possible, pass the object in the `custom_objects` parameter of the load function.\n"
     ]
    },
    {
     "name": "stdout",
     "output_type": "stream",
     "text": [
      "247/247 [==============================] - 4s 16ms/step - loss: 5.4091e-05 - root_mean_squared_error: 0.0074 - val_loss: 1.5500e-04 - val_root_mean_squared_error: 0.0125\n",
      "Epoch 14/20\n",
      "247/247 [==============================] - 1s 3ms/step - loss: 5.5315e-05 - root_mean_squared_error: 0.0074 - val_loss: 1.9877e-04 - val_root_mean_squared_error: 0.0141\n",
      "Epoch 15/20\n",
      "245/247 [============================>.] - ETA: 0s - loss: 5.5369e-05 - root_mean_squared_error: 0.0074"
     ]
    },
    {
     "name": "stderr",
     "output_type": "stream",
     "text": [
      "WARNING:absl:Found untraced functions such as lstm_cell_144_layer_call_fn, lstm_cell_144_layer_call_and_return_conditional_losses, lstm_cell_144_layer_call_fn, lstm_cell_144_layer_call_and_return_conditional_losses, lstm_cell_144_layer_call_and_return_conditional_losses while saving (showing 5 of 5). These functions will not be directly callable after loading.\n"
     ]
    },
    {
     "name": "stdout",
     "output_type": "stream",
     "text": [
      "INFO:tensorflow:Assets written to: /Users/yukahatori/A_Fairness/FairnessML_git/LSTM-BasicModel/WeatherModelx/assets\n"
     ]
    },
    {
     "name": "stderr",
     "output_type": "stream",
     "text": [
      "INFO:tensorflow:Assets written to: /Users/yukahatori/A_Fairness/FairnessML_git/LSTM-BasicModel/WeatherModelx/assets\n",
      "WARNING:absl:<keras.layers.recurrent.LSTMCell object at 0x7fd876475040> has the same name 'LSTMCell' as a built-in Keras object. Consider renaming <class 'keras.layers.recurrent.LSTMCell'> to avoid naming conflicts when loading with `tf.keras.models.load_model`. If renaming is not possible, pass the object in the `custom_objects` parameter of the load function.\n"
     ]
    },
    {
     "name": "stdout",
     "output_type": "stream",
     "text": [
      "247/247 [==============================] - 4s 14ms/step - loss: 5.5325e-05 - root_mean_squared_error: 0.0074 - val_loss: 1.3782e-04 - val_root_mean_squared_error: 0.0117\n",
      "Epoch 16/20\n",
      "247/247 [==============================] - 1s 3ms/step - loss: 6.3368e-05 - root_mean_squared_error: 0.0080 - val_loss: 1.3962e-04 - val_root_mean_squared_error: 0.0118\n",
      "Epoch 17/20\n",
      "247/247 [==============================] - 1s 3ms/step - loss: 7.6472e-05 - root_mean_squared_error: 0.0087 - val_loss: 1.5122e-04 - val_root_mean_squared_error: 0.0123\n",
      "Epoch 18/20\n",
      "232/247 [===========================>..] - ETA: 0s - loss: 4.8317e-05 - root_mean_squared_error: 0.0070"
     ]
    },
    {
     "name": "stderr",
     "output_type": "stream",
     "text": [
      "WARNING:absl:Found untraced functions such as lstm_cell_144_layer_call_fn, lstm_cell_144_layer_call_and_return_conditional_losses, lstm_cell_144_layer_call_fn, lstm_cell_144_layer_call_and_return_conditional_losses, lstm_cell_144_layer_call_and_return_conditional_losses while saving (showing 5 of 5). These functions will not be directly callable after loading.\n"
     ]
    },
    {
     "name": "stdout",
     "output_type": "stream",
     "text": [
      "INFO:tensorflow:Assets written to: /Users/yukahatori/A_Fairness/FairnessML_git/LSTM-BasicModel/WeatherModelx/assets\n"
     ]
    },
    {
     "name": "stderr",
     "output_type": "stream",
     "text": [
      "INFO:tensorflow:Assets written to: /Users/yukahatori/A_Fairness/FairnessML_git/LSTM-BasicModel/WeatherModelx/assets\n",
      "WARNING:absl:<keras.layers.recurrent.LSTMCell object at 0x7fd876475040> has the same name 'LSTMCell' as a built-in Keras object. Consider renaming <class 'keras.layers.recurrent.LSTMCell'> to avoid naming conflicts when loading with `tf.keras.models.load_model`. If renaming is not possible, pass the object in the `custom_objects` parameter of the load function.\n"
     ]
    },
    {
     "name": "stdout",
     "output_type": "stream",
     "text": [
      "247/247 [==============================] - 4s 15ms/step - loss: 4.7927e-05 - root_mean_squared_error: 0.0069 - val_loss: 1.3741e-04 - val_root_mean_squared_error: 0.0117\n",
      "Epoch 19/20\n",
      "247/247 [==============================] - 1s 3ms/step - loss: 6.6677e-05 - root_mean_squared_error: 0.0082 - val_loss: 1.9943e-04 - val_root_mean_squared_error: 0.0141\n",
      "Epoch 20/20\n",
      "232/247 [===========================>..] - ETA: 0s - loss: 5.2432e-05 - root_mean_squared_error: 0.0072"
     ]
    },
    {
     "name": "stderr",
     "output_type": "stream",
     "text": [
      "WARNING:absl:Found untraced functions such as lstm_cell_144_layer_call_fn, lstm_cell_144_layer_call_and_return_conditional_losses, lstm_cell_144_layer_call_fn, lstm_cell_144_layer_call_and_return_conditional_losses, lstm_cell_144_layer_call_and_return_conditional_losses while saving (showing 5 of 5). These functions will not be directly callable after loading.\n"
     ]
    },
    {
     "name": "stdout",
     "output_type": "stream",
     "text": [
      "INFO:tensorflow:Assets written to: /Users/yukahatori/A_Fairness/FairnessML_git/LSTM-BasicModel/WeatherModelx/assets\n"
     ]
    },
    {
     "name": "stderr",
     "output_type": "stream",
     "text": [
      "INFO:tensorflow:Assets written to: /Users/yukahatori/A_Fairness/FairnessML_git/LSTM-BasicModel/WeatherModelx/assets\n",
      "WARNING:absl:<keras.layers.recurrent.LSTMCell object at 0x7fd876475040> has the same name 'LSTMCell' as a built-in Keras object. Consider renaming <class 'keras.layers.recurrent.LSTMCell'> to avoid naming conflicts when loading with `tf.keras.models.load_model`. If renaming is not possible, pass the object in the `custom_objects` parameter of the load function.\n"
     ]
    },
    {
     "name": "stdout",
     "output_type": "stream",
     "text": [
      "247/247 [==============================] - 4s 15ms/step - loss: 5.1814e-05 - root_mean_squared_error: 0.0072 - val_loss: 1.1771e-04 - val_root_mean_squared_error: 0.0108\n",
      "RMSE value:  0.006530334977266696\n",
      "Epoch 1/20\n",
      "235/247 [===========================>..] - ETA: 0s - loss: 0.0155 - root_mean_squared_error: 0.1245"
     ]
    },
    {
     "name": "stderr",
     "output_type": "stream",
     "text": [
      "WARNING:absl:Found untraced functions such as lstm_cell_145_layer_call_fn, lstm_cell_145_layer_call_and_return_conditional_losses, lstm_cell_145_layer_call_fn, lstm_cell_145_layer_call_and_return_conditional_losses, lstm_cell_145_layer_call_and_return_conditional_losses while saving (showing 5 of 5). These functions will not be directly callable after loading.\n"
     ]
    },
    {
     "name": "stdout",
     "output_type": "stream",
     "text": [
      "INFO:tensorflow:Assets written to: /Users/yukahatori/A_Fairness/FairnessML_git/LSTM-BasicModel/WeatherModelx/assets\n"
     ]
    },
    {
     "name": "stderr",
     "output_type": "stream",
     "text": [
      "INFO:tensorflow:Assets written to: /Users/yukahatori/A_Fairness/FairnessML_git/LSTM-BasicModel/WeatherModelx/assets\n",
      "WARNING:absl:<keras.layers.recurrent.LSTMCell object at 0x7fd87cbcd9a0> has the same name 'LSTMCell' as a built-in Keras object. Consider renaming <class 'keras.layers.recurrent.LSTMCell'> to avoid naming conflicts when loading with `tf.keras.models.load_model`. If renaming is not possible, pass the object in the `custom_objects` parameter of the load function.\n"
     ]
    },
    {
     "name": "stdout",
     "output_type": "stream",
     "text": [
      "247/247 [==============================] - 6s 17ms/step - loss: 0.0148 - root_mean_squared_error: 0.1217 - val_loss: 0.0017 - val_root_mean_squared_error: 0.0408\n",
      "Epoch 2/20\n",
      "236/247 [===========================>..] - ETA: 0s - loss: 3.4625e-04 - root_mean_squared_error: 0.0186"
     ]
    },
    {
     "name": "stderr",
     "output_type": "stream",
     "text": [
      "WARNING:absl:Found untraced functions such as lstm_cell_145_layer_call_fn, lstm_cell_145_layer_call_and_return_conditional_losses, lstm_cell_145_layer_call_fn, lstm_cell_145_layer_call_and_return_conditional_losses, lstm_cell_145_layer_call_and_return_conditional_losses while saving (showing 5 of 5). These functions will not be directly callable after loading.\n"
     ]
    },
    {
     "name": "stdout",
     "output_type": "stream",
     "text": [
      "INFO:tensorflow:Assets written to: /Users/yukahatori/A_Fairness/FairnessML_git/LSTM-BasicModel/WeatherModelx/assets\n"
     ]
    },
    {
     "name": "stderr",
     "output_type": "stream",
     "text": [
      "INFO:tensorflow:Assets written to: /Users/yukahatori/A_Fairness/FairnessML_git/LSTM-BasicModel/WeatherModelx/assets\n",
      "WARNING:absl:<keras.layers.recurrent.LSTMCell object at 0x7fd87cbcd9a0> has the same name 'LSTMCell' as a built-in Keras object. Consider renaming <class 'keras.layers.recurrent.LSTMCell'> to avoid naming conflicts when loading with `tf.keras.models.load_model`. If renaming is not possible, pass the object in the `custom_objects` parameter of the load function.\n"
     ]
    },
    {
     "name": "stdout",
     "output_type": "stream",
     "text": [
      "247/247 [==============================] - 4s 16ms/step - loss: 3.4642e-04 - root_mean_squared_error: 0.0186 - val_loss: 9.0063e-04 - val_root_mean_squared_error: 0.0300\n",
      "Epoch 3/20\n",
      "246/247 [============================>.] - ETA: 0s - loss: 2.9218e-04 - root_mean_squared_error: 0.0171"
     ]
    },
    {
     "name": "stderr",
     "output_type": "stream",
     "text": [
      "WARNING:absl:Found untraced functions such as lstm_cell_145_layer_call_fn, lstm_cell_145_layer_call_and_return_conditional_losses, lstm_cell_145_layer_call_fn, lstm_cell_145_layer_call_and_return_conditional_losses, lstm_cell_145_layer_call_and_return_conditional_losses while saving (showing 5 of 5). These functions will not be directly callable after loading.\n"
     ]
    },
    {
     "name": "stdout",
     "output_type": "stream",
     "text": [
      "INFO:tensorflow:Assets written to: /Users/yukahatori/A_Fairness/FairnessML_git/LSTM-BasicModel/WeatherModelx/assets\n"
     ]
    },
    {
     "name": "stderr",
     "output_type": "stream",
     "text": [
      "INFO:tensorflow:Assets written to: /Users/yukahatori/A_Fairness/FairnessML_git/LSTM-BasicModel/WeatherModelx/assets\n",
      "WARNING:absl:<keras.layers.recurrent.LSTMCell object at 0x7fd87cbcd9a0> has the same name 'LSTMCell' as a built-in Keras object. Consider renaming <class 'keras.layers.recurrent.LSTMCell'> to avoid naming conflicts when loading with `tf.keras.models.load_model`. If renaming is not possible, pass the object in the `custom_objects` parameter of the load function.\n"
     ]
    },
    {
     "name": "stdout",
     "output_type": "stream",
     "text": [
      "247/247 [==============================] - 3s 14ms/step - loss: 2.9207e-04 - root_mean_squared_error: 0.0171 - val_loss: 7.9851e-04 - val_root_mean_squared_error: 0.0283\n",
      "Epoch 4/20\n",
      "239/247 [============================>.] - ETA: 0s - loss: 2.6600e-04 - root_mean_squared_error: 0.0163"
     ]
    },
    {
     "name": "stderr",
     "output_type": "stream",
     "text": [
      "WARNING:absl:Found untraced functions such as lstm_cell_145_layer_call_fn, lstm_cell_145_layer_call_and_return_conditional_losses, lstm_cell_145_layer_call_fn, lstm_cell_145_layer_call_and_return_conditional_losses, lstm_cell_145_layer_call_and_return_conditional_losses while saving (showing 5 of 5). These functions will not be directly callable after loading.\n"
     ]
    },
    {
     "name": "stdout",
     "output_type": "stream",
     "text": [
      "INFO:tensorflow:Assets written to: /Users/yukahatori/A_Fairness/FairnessML_git/LSTM-BasicModel/WeatherModelx/assets\n"
     ]
    },
    {
     "name": "stderr",
     "output_type": "stream",
     "text": [
      "INFO:tensorflow:Assets written to: /Users/yukahatori/A_Fairness/FairnessML_git/LSTM-BasicModel/WeatherModelx/assets\n",
      "WARNING:absl:<keras.layers.recurrent.LSTMCell object at 0x7fd87cbcd9a0> has the same name 'LSTMCell' as a built-in Keras object. Consider renaming <class 'keras.layers.recurrent.LSTMCell'> to avoid naming conflicts when loading with `tf.keras.models.load_model`. If renaming is not possible, pass the object in the `custom_objects` parameter of the load function.\n"
     ]
    },
    {
     "name": "stdout",
     "output_type": "stream",
     "text": [
      "247/247 [==============================] - 4s 16ms/step - loss: 2.6684e-04 - root_mean_squared_error: 0.0163 - val_loss: 4.4773e-04 - val_root_mean_squared_error: 0.0212\n",
      "Epoch 5/20\n",
      "247/247 [==============================] - 1s 2ms/step - loss: 2.5043e-04 - root_mean_squared_error: 0.0158 - val_loss: 5.5037e-04 - val_root_mean_squared_error: 0.0235\n",
      "Epoch 6/20\n",
      "247/247 [==============================] - 1s 3ms/step - loss: 2.4378e-04 - root_mean_squared_error: 0.0156 - val_loss: 6.3012e-04 - val_root_mean_squared_error: 0.0251\n",
      "Epoch 7/20\n",
      "247/247 [==============================] - 1s 3ms/step - loss: 2.6357e-04 - root_mean_squared_error: 0.0162 - val_loss: 4.9713e-04 - val_root_mean_squared_error: 0.0223\n",
      "Epoch 8/20\n",
      "247/247 [==============================] - 1s 3ms/step - loss: 2.4146e-04 - root_mean_squared_error: 0.0155 - val_loss: 6.6348e-04 - val_root_mean_squared_error: 0.0258\n",
      "Epoch 9/20\n",
      "241/247 [============================>.] - ETA: 0s - loss: 2.3194e-04 - root_mean_squared_error: 0.0152"
     ]
    },
    {
     "name": "stderr",
     "output_type": "stream",
     "text": [
      "WARNING:absl:Found untraced functions such as lstm_cell_145_layer_call_fn, lstm_cell_145_layer_call_and_return_conditional_losses, lstm_cell_145_layer_call_fn, lstm_cell_145_layer_call_and_return_conditional_losses, lstm_cell_145_layer_call_and_return_conditional_losses while saving (showing 5 of 5). These functions will not be directly callable after loading.\n"
     ]
    },
    {
     "name": "stdout",
     "output_type": "stream",
     "text": [
      "INFO:tensorflow:Assets written to: /Users/yukahatori/A_Fairness/FairnessML_git/LSTM-BasicModel/WeatherModelx/assets\n"
     ]
    },
    {
     "name": "stderr",
     "output_type": "stream",
     "text": [
      "INFO:tensorflow:Assets written to: /Users/yukahatori/A_Fairness/FairnessML_git/LSTM-BasicModel/WeatherModelx/assets\n",
      "WARNING:absl:<keras.layers.recurrent.LSTMCell object at 0x7fd87cbcd9a0> has the same name 'LSTMCell' as a built-in Keras object. Consider renaming <class 'keras.layers.recurrent.LSTMCell'> to avoid naming conflicts when loading with `tf.keras.models.load_model`. If renaming is not possible, pass the object in the `custom_objects` parameter of the load function.\n"
     ]
    },
    {
     "name": "stdout",
     "output_type": "stream",
     "text": [
      "247/247 [==============================] - 4s 15ms/step - loss: 2.3183e-04 - root_mean_squared_error: 0.0152 - val_loss: 3.2752e-04 - val_root_mean_squared_error: 0.0181\n",
      "Epoch 10/20\n",
      "247/247 [==============================] - 1s 4ms/step - loss: 2.4095e-04 - root_mean_squared_error: 0.0155 - val_loss: 4.0048e-04 - val_root_mean_squared_error: 0.0200\n",
      "Epoch 11/20\n",
      "239/247 [============================>.] - ETA: 0s - loss: 2.3790e-04 - root_mean_squared_error: 0.0154"
     ]
    },
    {
     "name": "stderr",
     "output_type": "stream",
     "text": [
      "WARNING:absl:Found untraced functions such as lstm_cell_145_layer_call_fn, lstm_cell_145_layer_call_and_return_conditional_losses, lstm_cell_145_layer_call_fn, lstm_cell_145_layer_call_and_return_conditional_losses, lstm_cell_145_layer_call_and_return_conditional_losses while saving (showing 5 of 5). These functions will not be directly callable after loading.\n"
     ]
    },
    {
     "name": "stdout",
     "output_type": "stream",
     "text": [
      "INFO:tensorflow:Assets written to: /Users/yukahatori/A_Fairness/FairnessML_git/LSTM-BasicModel/WeatherModelx/assets\n"
     ]
    },
    {
     "name": "stderr",
     "output_type": "stream",
     "text": [
      "INFO:tensorflow:Assets written to: /Users/yukahatori/A_Fairness/FairnessML_git/LSTM-BasicModel/WeatherModelx/assets\n",
      "WARNING:absl:<keras.layers.recurrent.LSTMCell object at 0x7fd87cbcd9a0> has the same name 'LSTMCell' as a built-in Keras object. Consider renaming <class 'keras.layers.recurrent.LSTMCell'> to avoid naming conflicts when loading with `tf.keras.models.load_model`. If renaming is not possible, pass the object in the `custom_objects` parameter of the load function.\n"
     ]
    },
    {
     "name": "stdout",
     "output_type": "stream",
     "text": [
      "247/247 [==============================] - 4s 16ms/step - loss: 2.3831e-04 - root_mean_squared_error: 0.0154 - val_loss: 3.0562e-04 - val_root_mean_squared_error: 0.0175\n",
      "Epoch 12/20\n",
      "247/247 [==============================] - 1s 3ms/step - loss: 2.3443e-04 - root_mean_squared_error: 0.0153 - val_loss: 3.2738e-04 - val_root_mean_squared_error: 0.0181\n",
      "Epoch 13/20\n",
      "247/247 [==============================] - 1s 3ms/step - loss: 2.4087e-04 - root_mean_squared_error: 0.0155 - val_loss: 4.0547e-04 - val_root_mean_squared_error: 0.0201\n",
      "Epoch 14/20\n",
      "247/247 [==============================] - 1s 3ms/step - loss: 2.4279e-04 - root_mean_squared_error: 0.0156 - val_loss: 5.1056e-04 - val_root_mean_squared_error: 0.0226\n",
      "Epoch 15/20\n",
      "247/247 [==============================] - 1s 3ms/step - loss: 2.4105e-04 - root_mean_squared_error: 0.0155 - val_loss: 4.0045e-04 - val_root_mean_squared_error: 0.0200\n",
      "Epoch 16/20\n",
      "247/247 [==============================] - 1s 4ms/step - loss: 2.2723e-04 - root_mean_squared_error: 0.0151 - val_loss: 3.4628e-04 - val_root_mean_squared_error: 0.0186\n",
      "Epoch 17/20\n",
      "247/247 [==============================] - 1s 4ms/step - loss: 2.2244e-04 - root_mean_squared_error: 0.0149 - val_loss: 3.2620e-04 - val_root_mean_squared_error: 0.0181\n",
      "Epoch 18/20\n",
      "237/247 [===========================>..] - ETA: 0s - loss: 2.2230e-04 - root_mean_squared_error: 0.0149"
     ]
    },
    {
     "name": "stderr",
     "output_type": "stream",
     "text": [
      "WARNING:absl:Found untraced functions such as lstm_cell_145_layer_call_fn, lstm_cell_145_layer_call_and_return_conditional_losses, lstm_cell_145_layer_call_fn, lstm_cell_145_layer_call_and_return_conditional_losses, lstm_cell_145_layer_call_and_return_conditional_losses while saving (showing 5 of 5). These functions will not be directly callable after loading.\n"
     ]
    },
    {
     "name": "stdout",
     "output_type": "stream",
     "text": [
      "INFO:tensorflow:Assets written to: /Users/yukahatori/A_Fairness/FairnessML_git/LSTM-BasicModel/WeatherModelx/assets\n"
     ]
    },
    {
     "name": "stderr",
     "output_type": "stream",
     "text": [
      "INFO:tensorflow:Assets written to: /Users/yukahatori/A_Fairness/FairnessML_git/LSTM-BasicModel/WeatherModelx/assets\n",
      "WARNING:absl:<keras.layers.recurrent.LSTMCell object at 0x7fd87cbcd9a0> has the same name 'LSTMCell' as a built-in Keras object. Consider renaming <class 'keras.layers.recurrent.LSTMCell'> to avoid naming conflicts when loading with `tf.keras.models.load_model`. If renaming is not possible, pass the object in the `custom_objects` parameter of the load function.\n"
     ]
    },
    {
     "name": "stdout",
     "output_type": "stream",
     "text": [
      "247/247 [==============================] - 7s 27ms/step - loss: 2.2258e-04 - root_mean_squared_error: 0.0149 - val_loss: 2.9755e-04 - val_root_mean_squared_error: 0.0172\n",
      "Epoch 19/20\n",
      "247/247 [==============================] - 1s 3ms/step - loss: 2.2663e-04 - root_mean_squared_error: 0.0151 - val_loss: 3.5628e-04 - val_root_mean_squared_error: 0.0189\n",
      "Epoch 20/20\n",
      "247/247 [==============================] - 1s 3ms/step - loss: 2.1995e-04 - root_mean_squared_error: 0.0148 - val_loss: 3.1186e-04 - val_root_mean_squared_error: 0.0177\n",
      "RMSE value:  0.014400355151316997\n",
      "Epoch 1/20\n",
      "246/247 [============================>.] - ETA: 0s - loss: 0.0203 - root_mean_squared_error: 0.1426"
     ]
    },
    {
     "name": "stderr",
     "output_type": "stream",
     "text": [
      "WARNING:absl:Found untraced functions such as lstm_cell_146_layer_call_fn, lstm_cell_146_layer_call_and_return_conditional_losses, lstm_cell_146_layer_call_fn, lstm_cell_146_layer_call_and_return_conditional_losses, lstm_cell_146_layer_call_and_return_conditional_losses while saving (showing 5 of 5). These functions will not be directly callable after loading.\n"
     ]
    },
    {
     "name": "stdout",
     "output_type": "stream",
     "text": [
      "INFO:tensorflow:Assets written to: /Users/yukahatori/A_Fairness/FairnessML_git/LSTM-BasicModel/WeatherModelx/assets\n"
     ]
    },
    {
     "name": "stderr",
     "output_type": "stream",
     "text": [
      "INFO:tensorflow:Assets written to: /Users/yukahatori/A_Fairness/FairnessML_git/LSTM-BasicModel/WeatherModelx/assets\n",
      "WARNING:absl:<keras.layers.recurrent.LSTMCell object at 0x7fd886a51190> has the same name 'LSTMCell' as a built-in Keras object. Consider renaming <class 'keras.layers.recurrent.LSTMCell'> to avoid naming conflicts when loading with `tf.keras.models.load_model`. If renaming is not possible, pass the object in the `custom_objects` parameter of the load function.\n"
     ]
    },
    {
     "name": "stdout",
     "output_type": "stream",
     "text": [
      "247/247 [==============================] - 7s 20ms/step - loss: 0.0203 - root_mean_squared_error: 0.1425 - val_loss: 6.5233e-04 - val_root_mean_squared_error: 0.0255\n",
      "Epoch 2/20\n",
      "241/247 [============================>.] - ETA: 0s - loss: 3.2056e-04 - root_mean_squared_error: 0.0179"
     ]
    },
    {
     "name": "stderr",
     "output_type": "stream",
     "text": [
      "WARNING:absl:Found untraced functions such as lstm_cell_146_layer_call_fn, lstm_cell_146_layer_call_and_return_conditional_losses, lstm_cell_146_layer_call_fn, lstm_cell_146_layer_call_and_return_conditional_losses, lstm_cell_146_layer_call_and_return_conditional_losses while saving (showing 5 of 5). These functions will not be directly callable after loading.\n"
     ]
    },
    {
     "name": "stdout",
     "output_type": "stream",
     "text": [
      "INFO:tensorflow:Assets written to: /Users/yukahatori/A_Fairness/FairnessML_git/LSTM-BasicModel/WeatherModelx/assets\n"
     ]
    },
    {
     "name": "stderr",
     "output_type": "stream",
     "text": [
      "INFO:tensorflow:Assets written to: /Users/yukahatori/A_Fairness/FairnessML_git/LSTM-BasicModel/WeatherModelx/assets\n",
      "WARNING:absl:<keras.layers.recurrent.LSTMCell object at 0x7fd886a51190> has the same name 'LSTMCell' as a built-in Keras object. Consider renaming <class 'keras.layers.recurrent.LSTMCell'> to avoid naming conflicts when loading with `tf.keras.models.load_model`. If renaming is not possible, pass the object in the `custom_objects` parameter of the load function.\n"
     ]
    },
    {
     "name": "stdout",
     "output_type": "stream",
     "text": [
      "247/247 [==============================] - 5s 19ms/step - loss: 3.2058e-04 - root_mean_squared_error: 0.0179 - val_loss: 4.6812e-04 - val_root_mean_squared_error: 0.0216\n",
      "Epoch 3/20\n",
      "246/247 [============================>.] - ETA: 0s - loss: 2.7121e-04 - root_mean_squared_error: 0.0165"
     ]
    },
    {
     "name": "stderr",
     "output_type": "stream",
     "text": [
      "WARNING:absl:Found untraced functions such as lstm_cell_146_layer_call_fn, lstm_cell_146_layer_call_and_return_conditional_losses, lstm_cell_146_layer_call_fn, lstm_cell_146_layer_call_and_return_conditional_losses, lstm_cell_146_layer_call_and_return_conditional_losses while saving (showing 5 of 5). These functions will not be directly callable after loading.\n"
     ]
    },
    {
     "name": "stdout",
     "output_type": "stream",
     "text": [
      "INFO:tensorflow:Assets written to: /Users/yukahatori/A_Fairness/FairnessML_git/LSTM-BasicModel/WeatherModelx/assets\n"
     ]
    },
    {
     "name": "stderr",
     "output_type": "stream",
     "text": [
      "INFO:tensorflow:Assets written to: /Users/yukahatori/A_Fairness/FairnessML_git/LSTM-BasicModel/WeatherModelx/assets\n",
      "WARNING:absl:<keras.layers.recurrent.LSTMCell object at 0x7fd886a51190> has the same name 'LSTMCell' as a built-in Keras object. Consider renaming <class 'keras.layers.recurrent.LSTMCell'> to avoid naming conflicts when loading with `tf.keras.models.load_model`. If renaming is not possible, pass the object in the `custom_objects` parameter of the load function.\n"
     ]
    },
    {
     "name": "stdout",
     "output_type": "stream",
     "text": [
      "247/247 [==============================] - 4s 17ms/step - loss: 2.7106e-04 - root_mean_squared_error: 0.0165 - val_loss: 4.1680e-04 - val_root_mean_squared_error: 0.0204\n",
      "Epoch 4/20\n",
      "247/247 [==============================] - 1s 3ms/step - loss: 2.4723e-04 - root_mean_squared_error: 0.0157 - val_loss: 4.9188e-04 - val_root_mean_squared_error: 0.0222\n",
      "Epoch 5/20\n",
      "240/247 [============================>.] - ETA: 0s - loss: 2.3923e-04 - root_mean_squared_error: 0.0155"
     ]
    },
    {
     "name": "stderr",
     "output_type": "stream",
     "text": [
      "WARNING:absl:Found untraced functions such as lstm_cell_146_layer_call_fn, lstm_cell_146_layer_call_and_return_conditional_losses, lstm_cell_146_layer_call_fn, lstm_cell_146_layer_call_and_return_conditional_losses, lstm_cell_146_layer_call_and_return_conditional_losses while saving (showing 5 of 5). These functions will not be directly callable after loading.\n"
     ]
    },
    {
     "name": "stdout",
     "output_type": "stream",
     "text": [
      "INFO:tensorflow:Assets written to: /Users/yukahatori/A_Fairness/FairnessML_git/LSTM-BasicModel/WeatherModelx/assets\n"
     ]
    },
    {
     "name": "stderr",
     "output_type": "stream",
     "text": [
      "INFO:tensorflow:Assets written to: /Users/yukahatori/A_Fairness/FairnessML_git/LSTM-BasicModel/WeatherModelx/assets\n",
      "WARNING:absl:<keras.layers.recurrent.LSTMCell object at 0x7fd886a51190> has the same name 'LSTMCell' as a built-in Keras object. Consider renaming <class 'keras.layers.recurrent.LSTMCell'> to avoid naming conflicts when loading with `tf.keras.models.load_model`. If renaming is not possible, pass the object in the `custom_objects` parameter of the load function.\n"
     ]
    },
    {
     "name": "stdout",
     "output_type": "stream",
     "text": [
      "247/247 [==============================] - 4s 17ms/step - loss: 2.3905e-04 - root_mean_squared_error: 0.0155 - val_loss: 3.8747e-04 - val_root_mean_squared_error: 0.0197\n",
      "Epoch 6/20\n",
      "231/247 [===========================>..] - ETA: 0s - loss: 2.2960e-04 - root_mean_squared_error: 0.0152"
     ]
    },
    {
     "name": "stderr",
     "output_type": "stream",
     "text": [
      "WARNING:absl:Found untraced functions such as lstm_cell_146_layer_call_fn, lstm_cell_146_layer_call_and_return_conditional_losses, lstm_cell_146_layer_call_fn, lstm_cell_146_layer_call_and_return_conditional_losses, lstm_cell_146_layer_call_and_return_conditional_losses while saving (showing 5 of 5). These functions will not be directly callable after loading.\n"
     ]
    },
    {
     "name": "stdout",
     "output_type": "stream",
     "text": [
      "INFO:tensorflow:Assets written to: /Users/yukahatori/A_Fairness/FairnessML_git/LSTM-BasicModel/WeatherModelx/assets\n"
     ]
    },
    {
     "name": "stderr",
     "output_type": "stream",
     "text": [
      "INFO:tensorflow:Assets written to: /Users/yukahatori/A_Fairness/FairnessML_git/LSTM-BasicModel/WeatherModelx/assets\n",
      "WARNING:absl:<keras.layers.recurrent.LSTMCell object at 0x7fd886a51190> has the same name 'LSTMCell' as a built-in Keras object. Consider renaming <class 'keras.layers.recurrent.LSTMCell'> to avoid naming conflicts when loading with `tf.keras.models.load_model`. If renaming is not possible, pass the object in the `custom_objects` parameter of the load function.\n"
     ]
    },
    {
     "name": "stdout",
     "output_type": "stream",
     "text": [
      "247/247 [==============================] - 4s 18ms/step - loss: 2.3124e-04 - root_mean_squared_error: 0.0152 - val_loss: 3.6445e-04 - val_root_mean_squared_error: 0.0191\n",
      "Epoch 7/20\n",
      "245/247 [============================>.] - ETA: 0s - loss: 2.3025e-04 - root_mean_squared_error: 0.0152"
     ]
    },
    {
     "name": "stderr",
     "output_type": "stream",
     "text": [
      "WARNING:absl:Found untraced functions such as lstm_cell_146_layer_call_fn, lstm_cell_146_layer_call_and_return_conditional_losses, lstm_cell_146_layer_call_fn, lstm_cell_146_layer_call_and_return_conditional_losses, lstm_cell_146_layer_call_and_return_conditional_losses while saving (showing 5 of 5). These functions will not be directly callable after loading.\n"
     ]
    },
    {
     "name": "stdout",
     "output_type": "stream",
     "text": [
      "INFO:tensorflow:Assets written to: /Users/yukahatori/A_Fairness/FairnessML_git/LSTM-BasicModel/WeatherModelx/assets\n"
     ]
    },
    {
     "name": "stderr",
     "output_type": "stream",
     "text": [
      "INFO:tensorflow:Assets written to: /Users/yukahatori/A_Fairness/FairnessML_git/LSTM-BasicModel/WeatherModelx/assets\n",
      "WARNING:absl:<keras.layers.recurrent.LSTMCell object at 0x7fd886a51190> has the same name 'LSTMCell' as a built-in Keras object. Consider renaming <class 'keras.layers.recurrent.LSTMCell'> to avoid naming conflicts when loading with `tf.keras.models.load_model`. If renaming is not possible, pass the object in the `custom_objects` parameter of the load function.\n"
     ]
    },
    {
     "name": "stdout",
     "output_type": "stream",
     "text": [
      "247/247 [==============================] - 4s 18ms/step - loss: 2.3056e-04 - root_mean_squared_error: 0.0152 - val_loss: 2.7066e-04 - val_root_mean_squared_error: 0.0165\n",
      "Epoch 8/20\n",
      "247/247 [==============================] - 1s 3ms/step - loss: 2.2505e-04 - root_mean_squared_error: 0.0150 - val_loss: 3.0053e-04 - val_root_mean_squared_error: 0.0173\n",
      "Epoch 9/20\n",
      "247/247 [==============================] - 1s 3ms/step - loss: 2.1898e-04 - root_mean_squared_error: 0.0148 - val_loss: 3.7325e-04 - val_root_mean_squared_error: 0.0193\n",
      "Epoch 10/20\n",
      "247/247 [==============================] - 1s 3ms/step - loss: 2.1995e-04 - root_mean_squared_error: 0.0148 - val_loss: 3.7289e-04 - val_root_mean_squared_error: 0.0193\n",
      "Epoch 11/20\n",
      "247/247 [==============================] - 1s 2ms/step - loss: 2.2348e-04 - root_mean_squared_error: 0.0149 - val_loss: 5.3647e-04 - val_root_mean_squared_error: 0.0232\n",
      "Epoch 12/20\n",
      "247/247 [==============================] - 1s 3ms/step - loss: 2.2362e-04 - root_mean_squared_error: 0.0150 - val_loss: 4.8536e-04 - val_root_mean_squared_error: 0.0220\n",
      "Epoch 13/20\n",
      "247/247 [==============================] - 1s 3ms/step - loss: 2.1991e-04 - root_mean_squared_error: 0.0148 - val_loss: 3.3802e-04 - val_root_mean_squared_error: 0.0184\n",
      "Epoch 14/20\n",
      "247/247 [==============================] - 1s 3ms/step - loss: 2.1534e-04 - root_mean_squared_error: 0.0147 - val_loss: 2.9015e-04 - val_root_mean_squared_error: 0.0170\n",
      "Epoch 15/20\n",
      "247/247 [==============================] - 1s 3ms/step - loss: 2.1070e-04 - root_mean_squared_error: 0.0145 - val_loss: 5.8172e-04 - val_root_mean_squared_error: 0.0241\n",
      "Epoch 16/20\n",
      "247/247 [==============================] - 1s 3ms/step - loss: 2.2814e-04 - root_mean_squared_error: 0.0151 - val_loss: 2.8450e-04 - val_root_mean_squared_error: 0.0169\n",
      "Epoch 17/20\n",
      "247/247 [==============================] - 1s 3ms/step - loss: 2.0699e-04 - root_mean_squared_error: 0.0144 - val_loss: 3.1702e-04 - val_root_mean_squared_error: 0.0178\n",
      "Epoch 18/20\n",
      "247/247 [==============================] - 1s 3ms/step - loss: 2.2695e-04 - root_mean_squared_error: 0.0151 - val_loss: 3.8965e-04 - val_root_mean_squared_error: 0.0197\n",
      "Epoch 19/20\n",
      "247/247 [==============================] - 1s 3ms/step - loss: 2.1411e-04 - root_mean_squared_error: 0.0146 - val_loss: 3.1917e-04 - val_root_mean_squared_error: 0.0179\n",
      "Epoch 20/20\n",
      "247/247 [==============================] - 1s 3ms/step - loss: 2.0782e-04 - root_mean_squared_error: 0.0144 - val_loss: 3.4855e-04 - val_root_mean_squared_error: 0.0187\n",
      "RMSE value:  0.015023947797120858\n",
      "Epoch 1/20\n",
      "239/247 [============================>.] - ETA: 0s - loss: 0.0063 - root_mean_squared_error: 0.0796"
     ]
    },
    {
     "name": "stderr",
     "output_type": "stream",
     "text": [
      "WARNING:absl:Found untraced functions such as lstm_cell_147_layer_call_fn, lstm_cell_147_layer_call_and_return_conditional_losses, lstm_cell_147_layer_call_fn, lstm_cell_147_layer_call_and_return_conditional_losses, lstm_cell_147_layer_call_and_return_conditional_losses while saving (showing 5 of 5). These functions will not be directly callable after loading.\n"
     ]
    },
    {
     "name": "stdout",
     "output_type": "stream",
     "text": [
      "INFO:tensorflow:Assets written to: /Users/yukahatori/A_Fairness/FairnessML_git/LSTM-BasicModel/WeatherModelx/assets\n"
     ]
    },
    {
     "name": "stderr",
     "output_type": "stream",
     "text": [
      "INFO:tensorflow:Assets written to: /Users/yukahatori/A_Fairness/FairnessML_git/LSTM-BasicModel/WeatherModelx/assets\n",
      "WARNING:absl:<keras.layers.recurrent.LSTMCell object at 0x7fd881d049a0> has the same name 'LSTMCell' as a built-in Keras object. Consider renaming <class 'keras.layers.recurrent.LSTMCell'> to avoid naming conflicts when loading with `tf.keras.models.load_model`. If renaming is not possible, pass the object in the `custom_objects` parameter of the load function.\n"
     ]
    },
    {
     "name": "stdout",
     "output_type": "stream",
     "text": [
      "247/247 [==============================] - 6s 19ms/step - loss: 0.0062 - root_mean_squared_error: 0.0785 - val_loss: 0.0013 - val_root_mean_squared_error: 0.0354\n",
      "Epoch 2/20\n",
      "232/247 [===========================>..] - ETA: 0s - loss: 2.8275e-04 - root_mean_squared_error: 0.0168"
     ]
    },
    {
     "name": "stderr",
     "output_type": "stream",
     "text": [
      "WARNING:absl:Found untraced functions such as lstm_cell_147_layer_call_fn, lstm_cell_147_layer_call_and_return_conditional_losses, lstm_cell_147_layer_call_fn, lstm_cell_147_layer_call_and_return_conditional_losses, lstm_cell_147_layer_call_and_return_conditional_losses while saving (showing 5 of 5). These functions will not be directly callable after loading.\n"
     ]
    },
    {
     "name": "stdout",
     "output_type": "stream",
     "text": [
      "INFO:tensorflow:Assets written to: /Users/yukahatori/A_Fairness/FairnessML_git/LSTM-BasicModel/WeatherModelx/assets\n"
     ]
    },
    {
     "name": "stderr",
     "output_type": "stream",
     "text": [
      "INFO:tensorflow:Assets written to: /Users/yukahatori/A_Fairness/FairnessML_git/LSTM-BasicModel/WeatherModelx/assets\n",
      "WARNING:absl:<keras.layers.recurrent.LSTMCell object at 0x7fd881d049a0> has the same name 'LSTMCell' as a built-in Keras object. Consider renaming <class 'keras.layers.recurrent.LSTMCell'> to avoid naming conflicts when loading with `tf.keras.models.load_model`. If renaming is not possible, pass the object in the `custom_objects` parameter of the load function.\n"
     ]
    },
    {
     "name": "stdout",
     "output_type": "stream",
     "text": [
      "247/247 [==============================] - 4s 17ms/step - loss: 2.8423e-04 - root_mean_squared_error: 0.0169 - val_loss: 7.7928e-04 - val_root_mean_squared_error: 0.0279\n",
      "Epoch 3/20\n",
      "246/247 [============================>.] - ETA: 0s - loss: 2.4927e-04 - root_mean_squared_error: 0.0158"
     ]
    },
    {
     "name": "stderr",
     "output_type": "stream",
     "text": [
      "WARNING:absl:Found untraced functions such as lstm_cell_147_layer_call_fn, lstm_cell_147_layer_call_and_return_conditional_losses, lstm_cell_147_layer_call_fn, lstm_cell_147_layer_call_and_return_conditional_losses, lstm_cell_147_layer_call_and_return_conditional_losses while saving (showing 5 of 5). These functions will not be directly callable after loading.\n"
     ]
    },
    {
     "name": "stdout",
     "output_type": "stream",
     "text": [
      "INFO:tensorflow:Assets written to: /Users/yukahatori/A_Fairness/FairnessML_git/LSTM-BasicModel/WeatherModelx/assets\n"
     ]
    },
    {
     "name": "stderr",
     "output_type": "stream",
     "text": [
      "INFO:tensorflow:Assets written to: /Users/yukahatori/A_Fairness/FairnessML_git/LSTM-BasicModel/WeatherModelx/assets\n",
      "WARNING:absl:<keras.layers.recurrent.LSTMCell object at 0x7fd881d049a0> has the same name 'LSTMCell' as a built-in Keras object. Consider renaming <class 'keras.layers.recurrent.LSTMCell'> to avoid naming conflicts when loading with `tf.keras.models.load_model`. If renaming is not possible, pass the object in the `custom_objects` parameter of the load function.\n"
     ]
    },
    {
     "name": "stdout",
     "output_type": "stream",
     "text": [
      "247/247 [==============================] - 4s 16ms/step - loss: 2.4931e-04 - root_mean_squared_error: 0.0158 - val_loss: 5.4889e-04 - val_root_mean_squared_error: 0.0234\n",
      "Epoch 4/20\n",
      "247/247 [==============================] - 1s 3ms/step - loss: 2.4788e-04 - root_mean_squared_error: 0.0157 - val_loss: 5.5972e-04 - val_root_mean_squared_error: 0.0237\n",
      "Epoch 5/20\n",
      "247/247 [==============================] - 1s 3ms/step - loss: 2.3372e-04 - root_mean_squared_error: 0.0153 - val_loss: 6.0216e-04 - val_root_mean_squared_error: 0.0245\n",
      "Epoch 6/20\n",
      "247/247 [==============================] - 1s 3ms/step - loss: 2.3158e-04 - root_mean_squared_error: 0.0152 - val_loss: 7.0017e-04 - val_root_mean_squared_error: 0.0265\n",
      "Epoch 7/20\n",
      "243/247 [============================>.] - ETA: 0s - loss: 2.3271e-04 - root_mean_squared_error: 0.0153"
     ]
    },
    {
     "name": "stderr",
     "output_type": "stream",
     "text": [
      "WARNING:absl:Found untraced functions such as lstm_cell_147_layer_call_fn, lstm_cell_147_layer_call_and_return_conditional_losses, lstm_cell_147_layer_call_fn, lstm_cell_147_layer_call_and_return_conditional_losses, lstm_cell_147_layer_call_and_return_conditional_losses while saving (showing 5 of 5). These functions will not be directly callable after loading.\n"
     ]
    },
    {
     "name": "stdout",
     "output_type": "stream",
     "text": [
      "INFO:tensorflow:Assets written to: /Users/yukahatori/A_Fairness/FairnessML_git/LSTM-BasicModel/WeatherModelx/assets\n"
     ]
    },
    {
     "name": "stderr",
     "output_type": "stream",
     "text": [
      "INFO:tensorflow:Assets written to: /Users/yukahatori/A_Fairness/FairnessML_git/LSTM-BasicModel/WeatherModelx/assets\n",
      "WARNING:absl:<keras.layers.recurrent.LSTMCell object at 0x7fd881d049a0> has the same name 'LSTMCell' as a built-in Keras object. Consider renaming <class 'keras.layers.recurrent.LSTMCell'> to avoid naming conflicts when loading with `tf.keras.models.load_model`. If renaming is not possible, pass the object in the `custom_objects` parameter of the load function.\n"
     ]
    },
    {
     "name": "stdout",
     "output_type": "stream",
     "text": [
      "247/247 [==============================] - 4s 17ms/step - loss: 2.3302e-04 - root_mean_squared_error: 0.0153 - val_loss: 3.9778e-04 - val_root_mean_squared_error: 0.0199\n",
      "Epoch 8/20\n",
      "228/247 [==========================>...] - ETA: 0s - loss: 2.2872e-04 - root_mean_squared_error: 0.0151"
     ]
    },
    {
     "name": "stderr",
     "output_type": "stream",
     "text": [
      "WARNING:absl:Found untraced functions such as lstm_cell_147_layer_call_fn, lstm_cell_147_layer_call_and_return_conditional_losses, lstm_cell_147_layer_call_fn, lstm_cell_147_layer_call_and_return_conditional_losses, lstm_cell_147_layer_call_and_return_conditional_losses while saving (showing 5 of 5). These functions will not be directly callable after loading.\n"
     ]
    },
    {
     "name": "stdout",
     "output_type": "stream",
     "text": [
      "INFO:tensorflow:Assets written to: /Users/yukahatori/A_Fairness/FairnessML_git/LSTM-BasicModel/WeatherModelx/assets\n"
     ]
    },
    {
     "name": "stderr",
     "output_type": "stream",
     "text": [
      "INFO:tensorflow:Assets written to: /Users/yukahatori/A_Fairness/FairnessML_git/LSTM-BasicModel/WeatherModelx/assets\n",
      "WARNING:absl:<keras.layers.recurrent.LSTMCell object at 0x7fd881d049a0> has the same name 'LSTMCell' as a built-in Keras object. Consider renaming <class 'keras.layers.recurrent.LSTMCell'> to avoid naming conflicts when loading with `tf.keras.models.load_model`. If renaming is not possible, pass the object in the `custom_objects` parameter of the load function.\n"
     ]
    },
    {
     "name": "stdout",
     "output_type": "stream",
     "text": [
      "247/247 [==============================] - 4s 16ms/step - loss: 2.2891e-04 - root_mean_squared_error: 0.0151 - val_loss: 3.3927e-04 - val_root_mean_squared_error: 0.0184\n",
      "Epoch 9/20\n",
      "247/247 [==============================] - 1s 3ms/step - loss: 2.2643e-04 - root_mean_squared_error: 0.0150 - val_loss: 4.6515e-04 - val_root_mean_squared_error: 0.0216\n",
      "Epoch 10/20\n",
      "247/247 [==============================] - 1s 3ms/step - loss: 2.2431e-04 - root_mean_squared_error: 0.0150 - val_loss: 5.7815e-04 - val_root_mean_squared_error: 0.0240\n",
      "Epoch 11/20\n",
      "247/247 [==============================] - 1s 3ms/step - loss: 2.3104e-04 - root_mean_squared_error: 0.0152 - val_loss: 4.4093e-04 - val_root_mean_squared_error: 0.0210\n",
      "Epoch 12/20\n",
      "247/247 [==============================] - 1s 3ms/step - loss: 2.3753e-04 - root_mean_squared_error: 0.0154 - val_loss: 3.9114e-04 - val_root_mean_squared_error: 0.0198\n",
      "Epoch 13/20\n",
      "247/247 [==============================] - 1s 3ms/step - loss: 2.3807e-04 - root_mean_squared_error: 0.0154 - val_loss: 4.0475e-04 - val_root_mean_squared_error: 0.0201\n",
      "Epoch 14/20\n",
      "247/247 [==============================] - 1s 3ms/step - loss: 2.1954e-04 - root_mean_squared_error: 0.0148 - val_loss: 5.2986e-04 - val_root_mean_squared_error: 0.0230\n",
      "Epoch 15/20\n",
      "247/247 [==============================] - 1s 3ms/step - loss: 2.2836e-04 - root_mean_squared_error: 0.0151 - val_loss: 5.4973e-04 - val_root_mean_squared_error: 0.0234\n",
      "Epoch 16/20\n",
      "247/247 [==============================] - 1s 3ms/step - loss: 2.3249e-04 - root_mean_squared_error: 0.0152 - val_loss: 3.8788e-04 - val_root_mean_squared_error: 0.0197\n",
      "Epoch 17/20\n",
      "247/247 [==============================] - 1s 3ms/step - loss: 2.2306e-04 - root_mean_squared_error: 0.0149 - val_loss: 5.4733e-04 - val_root_mean_squared_error: 0.0234\n",
      "Epoch 18/20\n",
      "247/247 [==============================] - 1s 3ms/step - loss: 2.2065e-04 - root_mean_squared_error: 0.0149 - val_loss: 4.0585e-04 - val_root_mean_squared_error: 0.0201\n",
      "Epoch 19/20\n",
      "247/247 [==============================] - 1s 3ms/step - loss: 2.1567e-04 - root_mean_squared_error: 0.0147 - val_loss: 3.9239e-04 - val_root_mean_squared_error: 0.0198\n",
      "Epoch 20/20\n",
      "247/247 [==============================] - 1s 3ms/step - loss: 2.2229e-04 - root_mean_squared_error: 0.0149 - val_loss: 4.4160e-04 - val_root_mean_squared_error: 0.0210\n",
      "RMSE value:  0.015328156644491046\n",
      "Epoch 1/20\n",
      "241/247 [============================>.] - ETA: 0s - loss: 0.0131 - root_mean_squared_error: 0.1145"
     ]
    },
    {
     "name": "stderr",
     "output_type": "stream",
     "text": [
      "WARNING:absl:Found untraced functions such as lstm_cell_148_layer_call_fn, lstm_cell_148_layer_call_and_return_conditional_losses, lstm_cell_148_layer_call_fn, lstm_cell_148_layer_call_and_return_conditional_losses, lstm_cell_148_layer_call_and_return_conditional_losses while saving (showing 5 of 5). These functions will not be directly callable after loading.\n"
     ]
    },
    {
     "name": "stdout",
     "output_type": "stream",
     "text": [
      "INFO:tensorflow:Assets written to: /Users/yukahatori/A_Fairness/FairnessML_git/LSTM-BasicModel/WeatherModelx/assets\n"
     ]
    },
    {
     "name": "stderr",
     "output_type": "stream",
     "text": [
      "INFO:tensorflow:Assets written to: /Users/yukahatori/A_Fairness/FairnessML_git/LSTM-BasicModel/WeatherModelx/assets\n",
      "WARNING:absl:<keras.layers.recurrent.LSTMCell object at 0x7fd88b506520> has the same name 'LSTMCell' as a built-in Keras object. Consider renaming <class 'keras.layers.recurrent.LSTMCell'> to avoid naming conflicts when loading with `tf.keras.models.load_model`. If renaming is not possible, pass the object in the `custom_objects` parameter of the load function.\n"
     ]
    },
    {
     "name": "stdout",
     "output_type": "stream",
     "text": [
      "247/247 [==============================] - 6s 17ms/step - loss: 0.0128 - root_mean_squared_error: 0.1133 - val_loss: 0.0012 - val_root_mean_squared_error: 0.0349\n",
      "Epoch 2/20\n",
      "240/247 [============================>.] - ETA: 0s - loss: 3.5790e-04 - root_mean_squared_error: 0.0189"
     ]
    },
    {
     "name": "stderr",
     "output_type": "stream",
     "text": [
      "WARNING:absl:Found untraced functions such as lstm_cell_148_layer_call_fn, lstm_cell_148_layer_call_and_return_conditional_losses, lstm_cell_148_layer_call_fn, lstm_cell_148_layer_call_and_return_conditional_losses, lstm_cell_148_layer_call_and_return_conditional_losses while saving (showing 5 of 5). These functions will not be directly callable after loading.\n"
     ]
    },
    {
     "name": "stdout",
     "output_type": "stream",
     "text": [
      "INFO:tensorflow:Assets written to: /Users/yukahatori/A_Fairness/FairnessML_git/LSTM-BasicModel/WeatherModelx/assets\n"
     ]
    },
    {
     "name": "stderr",
     "output_type": "stream",
     "text": [
      "INFO:tensorflow:Assets written to: /Users/yukahatori/A_Fairness/FairnessML_git/LSTM-BasicModel/WeatherModelx/assets\n",
      "WARNING:absl:<keras.layers.recurrent.LSTMCell object at 0x7fd88b506520> has the same name 'LSTMCell' as a built-in Keras object. Consider renaming <class 'keras.layers.recurrent.LSTMCell'> to avoid naming conflicts when loading with `tf.keras.models.load_model`. If renaming is not possible, pass the object in the `custom_objects` parameter of the load function.\n"
     ]
    },
    {
     "name": "stdout",
     "output_type": "stream",
     "text": [
      "247/247 [==============================] - 4s 16ms/step - loss: 3.5647e-04 - root_mean_squared_error: 0.0189 - val_loss: 8.8493e-04 - val_root_mean_squared_error: 0.0297\n",
      "Epoch 3/20\n",
      "235/247 [===========================>..] - ETA: 0s - loss: 2.9734e-04 - root_mean_squared_error: 0.0172"
     ]
    },
    {
     "name": "stderr",
     "output_type": "stream",
     "text": [
      "WARNING:absl:Found untraced functions such as lstm_cell_148_layer_call_fn, lstm_cell_148_layer_call_and_return_conditional_losses, lstm_cell_148_layer_call_fn, lstm_cell_148_layer_call_and_return_conditional_losses, lstm_cell_148_layer_call_and_return_conditional_losses while saving (showing 5 of 5). These functions will not be directly callable after loading.\n"
     ]
    },
    {
     "name": "stdout",
     "output_type": "stream",
     "text": [
      "INFO:tensorflow:Assets written to: /Users/yukahatori/A_Fairness/FairnessML_git/LSTM-BasicModel/WeatherModelx/assets\n"
     ]
    },
    {
     "name": "stderr",
     "output_type": "stream",
     "text": [
      "INFO:tensorflow:Assets written to: /Users/yukahatori/A_Fairness/FairnessML_git/LSTM-BasicModel/WeatherModelx/assets\n",
      "WARNING:absl:<keras.layers.recurrent.LSTMCell object at 0x7fd88b506520> has the same name 'LSTMCell' as a built-in Keras object. Consider renaming <class 'keras.layers.recurrent.LSTMCell'> to avoid naming conflicts when loading with `tf.keras.models.load_model`. If renaming is not possible, pass the object in the `custom_objects` parameter of the load function.\n"
     ]
    },
    {
     "name": "stdout",
     "output_type": "stream",
     "text": [
      "247/247 [==============================] - 4s 15ms/step - loss: 2.9665e-04 - root_mean_squared_error: 0.0172 - val_loss: 8.3855e-04 - val_root_mean_squared_error: 0.0290\n",
      "Epoch 4/20\n",
      "240/247 [============================>.] - ETA: 0s - loss: 2.7746e-04 - root_mean_squared_error: 0.0167"
     ]
    },
    {
     "name": "stderr",
     "output_type": "stream",
     "text": [
      "WARNING:absl:Found untraced functions such as lstm_cell_148_layer_call_fn, lstm_cell_148_layer_call_and_return_conditional_losses, lstm_cell_148_layer_call_fn, lstm_cell_148_layer_call_and_return_conditional_losses, lstm_cell_148_layer_call_and_return_conditional_losses while saving (showing 5 of 5). These functions will not be directly callable after loading.\n"
     ]
    },
    {
     "name": "stdout",
     "output_type": "stream",
     "text": [
      "INFO:tensorflow:Assets written to: /Users/yukahatori/A_Fairness/FairnessML_git/LSTM-BasicModel/WeatherModelx/assets\n"
     ]
    },
    {
     "name": "stderr",
     "output_type": "stream",
     "text": [
      "INFO:tensorflow:Assets written to: /Users/yukahatori/A_Fairness/FairnessML_git/LSTM-BasicModel/WeatherModelx/assets\n",
      "WARNING:absl:<keras.layers.recurrent.LSTMCell object at 0x7fd88b506520> has the same name 'LSTMCell' as a built-in Keras object. Consider renaming <class 'keras.layers.recurrent.LSTMCell'> to avoid naming conflicts when loading with `tf.keras.models.load_model`. If renaming is not possible, pass the object in the `custom_objects` parameter of the load function.\n"
     ]
    },
    {
     "name": "stdout",
     "output_type": "stream",
     "text": [
      "247/247 [==============================] - 5s 21ms/step - loss: 2.7728e-04 - root_mean_squared_error: 0.0167 - val_loss: 6.5069e-04 - val_root_mean_squared_error: 0.0255\n",
      "Epoch 5/20\n",
      "231/247 [===========================>..] - ETA: 0s - loss: 2.6189e-04 - root_mean_squared_error: 0.0162"
     ]
    },
    {
     "name": "stderr",
     "output_type": "stream",
     "text": [
      "WARNING:absl:Found untraced functions such as lstm_cell_148_layer_call_fn, lstm_cell_148_layer_call_and_return_conditional_losses, lstm_cell_148_layer_call_fn, lstm_cell_148_layer_call_and_return_conditional_losses, lstm_cell_148_layer_call_and_return_conditional_losses while saving (showing 5 of 5). These functions will not be directly callable after loading.\n"
     ]
    },
    {
     "name": "stdout",
     "output_type": "stream",
     "text": [
      "INFO:tensorflow:Assets written to: /Users/yukahatori/A_Fairness/FairnessML_git/LSTM-BasicModel/WeatherModelx/assets\n"
     ]
    },
    {
     "name": "stderr",
     "output_type": "stream",
     "text": [
      "INFO:tensorflow:Assets written to: /Users/yukahatori/A_Fairness/FairnessML_git/LSTM-BasicModel/WeatherModelx/assets\n",
      "WARNING:absl:<keras.layers.recurrent.LSTMCell object at 0x7fd88b506520> has the same name 'LSTMCell' as a built-in Keras object. Consider renaming <class 'keras.layers.recurrent.LSTMCell'> to avoid naming conflicts when loading with `tf.keras.models.load_model`. If renaming is not possible, pass the object in the `custom_objects` parameter of the load function.\n"
     ]
    },
    {
     "name": "stdout",
     "output_type": "stream",
     "text": [
      "247/247 [==============================] - 4s 17ms/step - loss: 2.6275e-04 - root_mean_squared_error: 0.0162 - val_loss: 6.2887e-04 - val_root_mean_squared_error: 0.0251\n",
      "Epoch 6/20\n",
      "245/247 [============================>.] - ETA: 0s - loss: 2.4647e-04 - root_mean_squared_error: 0.0157"
     ]
    },
    {
     "name": "stderr",
     "output_type": "stream",
     "text": [
      "WARNING:absl:Found untraced functions such as lstm_cell_148_layer_call_fn, lstm_cell_148_layer_call_and_return_conditional_losses, lstm_cell_148_layer_call_fn, lstm_cell_148_layer_call_and_return_conditional_losses, lstm_cell_148_layer_call_and_return_conditional_losses while saving (showing 5 of 5). These functions will not be directly callable after loading.\n"
     ]
    },
    {
     "name": "stdout",
     "output_type": "stream",
     "text": [
      "INFO:tensorflow:Assets written to: /Users/yukahatori/A_Fairness/FairnessML_git/LSTM-BasicModel/WeatherModelx/assets\n"
     ]
    },
    {
     "name": "stderr",
     "output_type": "stream",
     "text": [
      "INFO:tensorflow:Assets written to: /Users/yukahatori/A_Fairness/FairnessML_git/LSTM-BasicModel/WeatherModelx/assets\n",
      "WARNING:absl:<keras.layers.recurrent.LSTMCell object at 0x7fd88b506520> has the same name 'LSTMCell' as a built-in Keras object. Consider renaming <class 'keras.layers.recurrent.LSTMCell'> to avoid naming conflicts when loading with `tf.keras.models.load_model`. If renaming is not possible, pass the object in the `custom_objects` parameter of the load function.\n"
     ]
    },
    {
     "name": "stdout",
     "output_type": "stream",
     "text": [
      "247/247 [==============================] - 3s 14ms/step - loss: 2.4686e-04 - root_mean_squared_error: 0.0157 - val_loss: 4.7126e-04 - val_root_mean_squared_error: 0.0217\n",
      "Epoch 7/20\n",
      "247/247 [==============================] - 1s 3ms/step - loss: 2.4256e-04 - root_mean_squared_error: 0.0156 - val_loss: 5.2105e-04 - val_root_mean_squared_error: 0.0228\n",
      "Epoch 8/20\n",
      "247/247 [==============================] - 1s 3ms/step - loss: 2.4341e-04 - root_mean_squared_error: 0.0156 - val_loss: 4.7909e-04 - val_root_mean_squared_error: 0.0219\n",
      "Epoch 9/20\n",
      "229/247 [==========================>...] - ETA: 0s - loss: 2.4001e-04 - root_mean_squared_error: 0.0155"
     ]
    },
    {
     "name": "stderr",
     "output_type": "stream",
     "text": [
      "WARNING:absl:Found untraced functions such as lstm_cell_148_layer_call_fn, lstm_cell_148_layer_call_and_return_conditional_losses, lstm_cell_148_layer_call_fn, lstm_cell_148_layer_call_and_return_conditional_losses, lstm_cell_148_layer_call_and_return_conditional_losses while saving (showing 5 of 5). These functions will not be directly callable after loading.\n"
     ]
    },
    {
     "name": "stdout",
     "output_type": "stream",
     "text": [
      "INFO:tensorflow:Assets written to: /Users/yukahatori/A_Fairness/FairnessML_git/LSTM-BasicModel/WeatherModelx/assets\n"
     ]
    },
    {
     "name": "stderr",
     "output_type": "stream",
     "text": [
      "INFO:tensorflow:Assets written to: /Users/yukahatori/A_Fairness/FairnessML_git/LSTM-BasicModel/WeatherModelx/assets\n",
      "WARNING:absl:<keras.layers.recurrent.LSTMCell object at 0x7fd88b506520> has the same name 'LSTMCell' as a built-in Keras object. Consider renaming <class 'keras.layers.recurrent.LSTMCell'> to avoid naming conflicts when loading with `tf.keras.models.load_model`. If renaming is not possible, pass the object in the `custom_objects` parameter of the load function.\n"
     ]
    },
    {
     "name": "stdout",
     "output_type": "stream",
     "text": [
      "247/247 [==============================] - 4s 15ms/step - loss: 2.4030e-04 - root_mean_squared_error: 0.0155 - val_loss: 4.1006e-04 - val_root_mean_squared_error: 0.0202\n",
      "Epoch 10/20\n",
      "232/247 [===========================>..] - ETA: 0s - loss: 2.3189e-04 - root_mean_squared_error: 0.0152"
     ]
    },
    {
     "name": "stderr",
     "output_type": "stream",
     "text": [
      "WARNING:absl:Found untraced functions such as lstm_cell_148_layer_call_fn, lstm_cell_148_layer_call_and_return_conditional_losses, lstm_cell_148_layer_call_fn, lstm_cell_148_layer_call_and_return_conditional_losses, lstm_cell_148_layer_call_and_return_conditional_losses while saving (showing 5 of 5). These functions will not be directly callable after loading.\n"
     ]
    },
    {
     "name": "stdout",
     "output_type": "stream",
     "text": [
      "INFO:tensorflow:Assets written to: /Users/yukahatori/A_Fairness/FairnessML_git/LSTM-BasicModel/WeatherModelx/assets\n"
     ]
    },
    {
     "name": "stderr",
     "output_type": "stream",
     "text": [
      "INFO:tensorflow:Assets written to: /Users/yukahatori/A_Fairness/FairnessML_git/LSTM-BasicModel/WeatherModelx/assets\n",
      "WARNING:absl:<keras.layers.recurrent.LSTMCell object at 0x7fd88b506520> has the same name 'LSTMCell' as a built-in Keras object. Consider renaming <class 'keras.layers.recurrent.LSTMCell'> to avoid naming conflicts when loading with `tf.keras.models.load_model`. If renaming is not possible, pass the object in the `custom_objects` parameter of the load function.\n"
     ]
    },
    {
     "name": "stdout",
     "output_type": "stream",
     "text": [
      "247/247 [==============================] - 4s 18ms/step - loss: 2.3119e-04 - root_mean_squared_error: 0.0152 - val_loss: 4.0906e-04 - val_root_mean_squared_error: 0.0202\n",
      "Epoch 11/20\n",
      "247/247 [==============================] - 1s 3ms/step - loss: 2.3425e-04 - root_mean_squared_error: 0.0153 - val_loss: 5.4251e-04 - val_root_mean_squared_error: 0.0233\n",
      "Epoch 12/20\n",
      "234/247 [===========================>..] - ETA: 0s - loss: 2.3858e-04 - root_mean_squared_error: 0.0154"
     ]
    },
    {
     "name": "stderr",
     "output_type": "stream",
     "text": [
      "WARNING:absl:Found untraced functions such as lstm_cell_148_layer_call_fn, lstm_cell_148_layer_call_and_return_conditional_losses, lstm_cell_148_layer_call_fn, lstm_cell_148_layer_call_and_return_conditional_losses, lstm_cell_148_layer_call_and_return_conditional_losses while saving (showing 5 of 5). These functions will not be directly callable after loading.\n"
     ]
    },
    {
     "name": "stdout",
     "output_type": "stream",
     "text": [
      "INFO:tensorflow:Assets written to: /Users/yukahatori/A_Fairness/FairnessML_git/LSTM-BasicModel/WeatherModelx/assets\n"
     ]
    },
    {
     "name": "stderr",
     "output_type": "stream",
     "text": [
      "INFO:tensorflow:Assets written to: /Users/yukahatori/A_Fairness/FairnessML_git/LSTM-BasicModel/WeatherModelx/assets\n",
      "WARNING:absl:<keras.layers.recurrent.LSTMCell object at 0x7fd88b506520> has the same name 'LSTMCell' as a built-in Keras object. Consider renaming <class 'keras.layers.recurrent.LSTMCell'> to avoid naming conflicts when loading with `tf.keras.models.load_model`. If renaming is not possible, pass the object in the `custom_objects` parameter of the load function.\n"
     ]
    },
    {
     "name": "stdout",
     "output_type": "stream",
     "text": [
      "247/247 [==============================] - 4s 16ms/step - loss: 2.4058e-04 - root_mean_squared_error: 0.0155 - val_loss: 3.6296e-04 - val_root_mean_squared_error: 0.0191\n",
      "Epoch 13/20\n",
      "240/247 [============================>.] - ETA: 0s - loss: 2.3085e-04 - root_mean_squared_error: 0.0152"
     ]
    },
    {
     "name": "stderr",
     "output_type": "stream",
     "text": [
      "WARNING:absl:Found untraced functions such as lstm_cell_148_layer_call_fn, lstm_cell_148_layer_call_and_return_conditional_losses, lstm_cell_148_layer_call_fn, lstm_cell_148_layer_call_and_return_conditional_losses, lstm_cell_148_layer_call_and_return_conditional_losses while saving (showing 5 of 5). These functions will not be directly callable after loading.\n"
     ]
    },
    {
     "name": "stdout",
     "output_type": "stream",
     "text": [
      "INFO:tensorflow:Assets written to: /Users/yukahatori/A_Fairness/FairnessML_git/LSTM-BasicModel/WeatherModelx/assets\n"
     ]
    },
    {
     "name": "stderr",
     "output_type": "stream",
     "text": [
      "INFO:tensorflow:Assets written to: /Users/yukahatori/A_Fairness/FairnessML_git/LSTM-BasicModel/WeatherModelx/assets\n",
      "WARNING:absl:<keras.layers.recurrent.LSTMCell object at 0x7fd88b506520> has the same name 'LSTMCell' as a built-in Keras object. Consider renaming <class 'keras.layers.recurrent.LSTMCell'> to avoid naming conflicts when loading with `tf.keras.models.load_model`. If renaming is not possible, pass the object in the `custom_objects` parameter of the load function.\n"
     ]
    },
    {
     "name": "stdout",
     "output_type": "stream",
     "text": [
      "247/247 [==============================] - 5s 19ms/step - loss: 2.3181e-04 - root_mean_squared_error: 0.0152 - val_loss: 3.3178e-04 - val_root_mean_squared_error: 0.0182\n",
      "Epoch 14/20\n",
      "247/247 [==============================] - 1s 3ms/step - loss: 2.2865e-04 - root_mean_squared_error: 0.0151 - val_loss: 4.1765e-04 - val_root_mean_squared_error: 0.0204\n",
      "Epoch 15/20\n",
      "247/247 [==============================] - 1s 3ms/step - loss: 2.3449e-04 - root_mean_squared_error: 0.0153 - val_loss: 4.5238e-04 - val_root_mean_squared_error: 0.0213\n",
      "Epoch 16/20\n",
      "247/247 [==============================] - 1s 3ms/step - loss: 2.2433e-04 - root_mean_squared_error: 0.0150 - val_loss: 3.9584e-04 - val_root_mean_squared_error: 0.0199\n",
      "Epoch 17/20\n",
      "232/247 [===========================>..] - ETA: 0s - loss: 2.1797e-04 - root_mean_squared_error: 0.0148"
     ]
    },
    {
     "name": "stderr",
     "output_type": "stream",
     "text": [
      "WARNING:absl:Found untraced functions such as lstm_cell_148_layer_call_fn, lstm_cell_148_layer_call_and_return_conditional_losses, lstm_cell_148_layer_call_fn, lstm_cell_148_layer_call_and_return_conditional_losses, lstm_cell_148_layer_call_and_return_conditional_losses while saving (showing 5 of 5). These functions will not be directly callable after loading.\n"
     ]
    },
    {
     "name": "stdout",
     "output_type": "stream",
     "text": [
      "INFO:tensorflow:Assets written to: /Users/yukahatori/A_Fairness/FairnessML_git/LSTM-BasicModel/WeatherModelx/assets\n"
     ]
    },
    {
     "name": "stderr",
     "output_type": "stream",
     "text": [
      "INFO:tensorflow:Assets written to: /Users/yukahatori/A_Fairness/FairnessML_git/LSTM-BasicModel/WeatherModelx/assets\n",
      "WARNING:absl:<keras.layers.recurrent.LSTMCell object at 0x7fd88b506520> has the same name 'LSTMCell' as a built-in Keras object. Consider renaming <class 'keras.layers.recurrent.LSTMCell'> to avoid naming conflicts when loading with `tf.keras.models.load_model`. If renaming is not possible, pass the object in the `custom_objects` parameter of the load function.\n"
     ]
    },
    {
     "name": "stdout",
     "output_type": "stream",
     "text": [
      "247/247 [==============================] - 4s 17ms/step - loss: 2.1839e-04 - root_mean_squared_error: 0.0148 - val_loss: 3.1677e-04 - val_root_mean_squared_error: 0.0178\n",
      "Epoch 18/20\n",
      "247/247 [==============================] - 1s 3ms/step - loss: 2.3155e-04 - root_mean_squared_error: 0.0152 - val_loss: 3.2832e-04 - val_root_mean_squared_error: 0.0181\n",
      "Epoch 19/20\n",
      "247/247 [==============================] - 1s 3ms/step - loss: 2.3231e-04 - root_mean_squared_error: 0.0152 - val_loss: 3.1751e-04 - val_root_mean_squared_error: 0.0178\n",
      "Epoch 20/20\n",
      "247/247 [==============================] - 1s 3ms/step - loss: 2.3458e-04 - root_mean_squared_error: 0.0153 - val_loss: 3.9686e-04 - val_root_mean_squared_error: 0.0199\n",
      "RMSE value:  0.015826989449339673\n",
      "Epoch 1/20\n",
      "239/247 [============================>.] - ETA: 0s - loss: 0.0146 - root_mean_squared_error: 0.1210"
     ]
    },
    {
     "name": "stderr",
     "output_type": "stream",
     "text": [
      "WARNING:absl:Found untraced functions such as lstm_cell_149_layer_call_fn, lstm_cell_149_layer_call_and_return_conditional_losses, lstm_cell_149_layer_call_fn, lstm_cell_149_layer_call_and_return_conditional_losses, lstm_cell_149_layer_call_and_return_conditional_losses while saving (showing 5 of 5). These functions will not be directly callable after loading.\n"
     ]
    },
    {
     "name": "stdout",
     "output_type": "stream",
     "text": [
      "INFO:tensorflow:Assets written to: /Users/yukahatori/A_Fairness/FairnessML_git/LSTM-BasicModel/WeatherModelx/assets\n"
     ]
    },
    {
     "name": "stderr",
     "output_type": "stream",
     "text": [
      "INFO:tensorflow:Assets written to: /Users/yukahatori/A_Fairness/FairnessML_git/LSTM-BasicModel/WeatherModelx/assets\n",
      "WARNING:absl:<keras.layers.recurrent.LSTMCell object at 0x7fd85f301be0> has the same name 'LSTMCell' as a built-in Keras object. Consider renaming <class 'keras.layers.recurrent.LSTMCell'> to avoid naming conflicts when loading with `tf.keras.models.load_model`. If renaming is not possible, pass the object in the `custom_objects` parameter of the load function.\n"
     ]
    },
    {
     "name": "stdout",
     "output_type": "stream",
     "text": [
      "247/247 [==============================] - 7s 19ms/step - loss: 0.0142 - root_mean_squared_error: 0.1193 - val_loss: 0.0011 - val_root_mean_squared_error: 0.0335\n",
      "Epoch 2/20\n",
      "235/247 [===========================>..] - ETA: 0s - loss: 3.5708e-04 - root_mean_squared_error: 0.0189"
     ]
    },
    {
     "name": "stderr",
     "output_type": "stream",
     "text": [
      "WARNING:absl:Found untraced functions such as lstm_cell_149_layer_call_fn, lstm_cell_149_layer_call_and_return_conditional_losses, lstm_cell_149_layer_call_fn, lstm_cell_149_layer_call_and_return_conditional_losses, lstm_cell_149_layer_call_and_return_conditional_losses while saving (showing 5 of 5). These functions will not be directly callable after loading.\n"
     ]
    },
    {
     "name": "stdout",
     "output_type": "stream",
     "text": [
      "INFO:tensorflow:Assets written to: /Users/yukahatori/A_Fairness/FairnessML_git/LSTM-BasicModel/WeatherModelx/assets\n"
     ]
    },
    {
     "name": "stderr",
     "output_type": "stream",
     "text": [
      "INFO:tensorflow:Assets written to: /Users/yukahatori/A_Fairness/FairnessML_git/LSTM-BasicModel/WeatherModelx/assets\n",
      "WARNING:absl:<keras.layers.recurrent.LSTMCell object at 0x7fd85f301be0> has the same name 'LSTMCell' as a built-in Keras object. Consider renaming <class 'keras.layers.recurrent.LSTMCell'> to avoid naming conflicts when loading with `tf.keras.models.load_model`. If renaming is not possible, pass the object in the `custom_objects` parameter of the load function.\n"
     ]
    },
    {
     "name": "stdout",
     "output_type": "stream",
     "text": [
      "247/247 [==============================] - 4s 17ms/step - loss: 3.5506e-04 - root_mean_squared_error: 0.0188 - val_loss: 7.1528e-04 - val_root_mean_squared_error: 0.0267\n",
      "Epoch 3/20\n",
      "234/247 [===========================>..] - ETA: 0s - loss: 2.7921e-04 - root_mean_squared_error: 0.0167"
     ]
    },
    {
     "name": "stderr",
     "output_type": "stream",
     "text": [
      "WARNING:absl:Found untraced functions such as lstm_cell_149_layer_call_fn, lstm_cell_149_layer_call_and_return_conditional_losses, lstm_cell_149_layer_call_fn, lstm_cell_149_layer_call_and_return_conditional_losses, lstm_cell_149_layer_call_and_return_conditional_losses while saving (showing 5 of 5). These functions will not be directly callable after loading.\n"
     ]
    },
    {
     "name": "stdout",
     "output_type": "stream",
     "text": [
      "INFO:tensorflow:Assets written to: /Users/yukahatori/A_Fairness/FairnessML_git/LSTM-BasicModel/WeatherModelx/assets\n"
     ]
    },
    {
     "name": "stderr",
     "output_type": "stream",
     "text": [
      "INFO:tensorflow:Assets written to: /Users/yukahatori/A_Fairness/FairnessML_git/LSTM-BasicModel/WeatherModelx/assets\n",
      "WARNING:absl:<keras.layers.recurrent.LSTMCell object at 0x7fd85f301be0> has the same name 'LSTMCell' as a built-in Keras object. Consider renaming <class 'keras.layers.recurrent.LSTMCell'> to avoid naming conflicts when loading with `tf.keras.models.load_model`. If renaming is not possible, pass the object in the `custom_objects` parameter of the load function.\n"
     ]
    },
    {
     "name": "stdout",
     "output_type": "stream",
     "text": [
      "247/247 [==============================] - 4s 15ms/step - loss: 2.7752e-04 - root_mean_squared_error: 0.0167 - val_loss: 6.5844e-04 - val_root_mean_squared_error: 0.0257\n",
      "Epoch 4/20\n",
      "242/247 [============================>.] - ETA: 0s - loss: 2.4469e-04 - root_mean_squared_error: 0.0156"
     ]
    },
    {
     "name": "stderr",
     "output_type": "stream",
     "text": [
      "WARNING:absl:Found untraced functions such as lstm_cell_149_layer_call_fn, lstm_cell_149_layer_call_and_return_conditional_losses, lstm_cell_149_layer_call_fn, lstm_cell_149_layer_call_and_return_conditional_losses, lstm_cell_149_layer_call_and_return_conditional_losses while saving (showing 5 of 5). These functions will not be directly callable after loading.\n"
     ]
    },
    {
     "name": "stdout",
     "output_type": "stream",
     "text": [
      "INFO:tensorflow:Assets written to: /Users/yukahatori/A_Fairness/FairnessML_git/LSTM-BasicModel/WeatherModelx/assets\n"
     ]
    },
    {
     "name": "stderr",
     "output_type": "stream",
     "text": [
      "INFO:tensorflow:Assets written to: /Users/yukahatori/A_Fairness/FairnessML_git/LSTM-BasicModel/WeatherModelx/assets\n",
      "WARNING:absl:<keras.layers.recurrent.LSTMCell object at 0x7fd85f301be0> has the same name 'LSTMCell' as a built-in Keras object. Consider renaming <class 'keras.layers.recurrent.LSTMCell'> to avoid naming conflicts when loading with `tf.keras.models.load_model`. If renaming is not possible, pass the object in the `custom_objects` parameter of the load function.\n"
     ]
    },
    {
     "name": "stdout",
     "output_type": "stream",
     "text": [
      "247/247 [==============================] - 4s 17ms/step - loss: 2.4515e-04 - root_mean_squared_error: 0.0157 - val_loss: 4.6886e-04 - val_root_mean_squared_error: 0.0217\n",
      "Epoch 5/20\n",
      "247/247 [==============================] - 1s 3ms/step - loss: 2.3880e-04 - root_mean_squared_error: 0.0155 - val_loss: 4.7431e-04 - val_root_mean_squared_error: 0.0218\n",
      "Epoch 6/20\n",
      "228/247 [==========================>...] - ETA: 0s - loss: 2.2992e-04 - root_mean_squared_error: 0.0152"
     ]
    },
    {
     "name": "stderr",
     "output_type": "stream",
     "text": [
      "WARNING:absl:Found untraced functions such as lstm_cell_149_layer_call_fn, lstm_cell_149_layer_call_and_return_conditional_losses, lstm_cell_149_layer_call_fn, lstm_cell_149_layer_call_and_return_conditional_losses, lstm_cell_149_layer_call_and_return_conditional_losses while saving (showing 5 of 5). These functions will not be directly callable after loading.\n"
     ]
    },
    {
     "name": "stdout",
     "output_type": "stream",
     "text": [
      "INFO:tensorflow:Assets written to: /Users/yukahatori/A_Fairness/FairnessML_git/LSTM-BasicModel/WeatherModelx/assets\n"
     ]
    },
    {
     "name": "stderr",
     "output_type": "stream",
     "text": [
      "INFO:tensorflow:Assets written to: /Users/yukahatori/A_Fairness/FairnessML_git/LSTM-BasicModel/WeatherModelx/assets\n",
      "WARNING:absl:<keras.layers.recurrent.LSTMCell object at 0x7fd85f301be0> has the same name 'LSTMCell' as a built-in Keras object. Consider renaming <class 'keras.layers.recurrent.LSTMCell'> to avoid naming conflicts when loading with `tf.keras.models.load_model`. If renaming is not possible, pass the object in the `custom_objects` parameter of the load function.\n"
     ]
    },
    {
     "name": "stdout",
     "output_type": "stream",
     "text": [
      "247/247 [==============================] - 4s 15ms/step - loss: 2.2890e-04 - root_mean_squared_error: 0.0151 - val_loss: 3.5720e-04 - val_root_mean_squared_error: 0.0189\n",
      "Epoch 7/20\n",
      "247/247 [==============================] - 1s 3ms/step - loss: 2.1952e-04 - root_mean_squared_error: 0.0148 - val_loss: 4.2436e-04 - val_root_mean_squared_error: 0.0206\n",
      "Epoch 8/20\n",
      "247/247 [==============================] - 1s 3ms/step - loss: 2.2627e-04 - root_mean_squared_error: 0.0150 - val_loss: 3.8812e-04 - val_root_mean_squared_error: 0.0197\n",
      "Epoch 9/20\n",
      "247/247 [==============================] - 1s 4ms/step - loss: 2.2242e-04 - root_mean_squared_error: 0.0149 - val_loss: 3.6820e-04 - val_root_mean_squared_error: 0.0192\n",
      "Epoch 10/20\n",
      "247/247 [==============================] - ETA: 0s - loss: 2.1886e-04 - root_mean_squared_error: 0.0148"
     ]
    },
    {
     "name": "stderr",
     "output_type": "stream",
     "text": [
      "WARNING:absl:Found untraced functions such as lstm_cell_149_layer_call_fn, lstm_cell_149_layer_call_and_return_conditional_losses, lstm_cell_149_layer_call_fn, lstm_cell_149_layer_call_and_return_conditional_losses, lstm_cell_149_layer_call_and_return_conditional_losses while saving (showing 5 of 5). These functions will not be directly callable after loading.\n"
     ]
    },
    {
     "name": "stdout",
     "output_type": "stream",
     "text": [
      "INFO:tensorflow:Assets written to: /Users/yukahatori/A_Fairness/FairnessML_git/LSTM-BasicModel/WeatherModelx/assets\n"
     ]
    },
    {
     "name": "stderr",
     "output_type": "stream",
     "text": [
      "INFO:tensorflow:Assets written to: /Users/yukahatori/A_Fairness/FairnessML_git/LSTM-BasicModel/WeatherModelx/assets\n",
      "WARNING:absl:<keras.layers.recurrent.LSTMCell object at 0x7fd85f301be0> has the same name 'LSTMCell' as a built-in Keras object. Consider renaming <class 'keras.layers.recurrent.LSTMCell'> to avoid naming conflicts when loading with `tf.keras.models.load_model`. If renaming is not possible, pass the object in the `custom_objects` parameter of the load function.\n"
     ]
    },
    {
     "name": "stdout",
     "output_type": "stream",
     "text": [
      "247/247 [==============================] - 5s 20ms/step - loss: 2.1886e-04 - root_mean_squared_error: 0.0148 - val_loss: 2.7352e-04 - val_root_mean_squared_error: 0.0165\n",
      "Epoch 11/20\n",
      "247/247 [==============================] - 1s 3ms/step - loss: 2.2524e-04 - root_mean_squared_error: 0.0150 - val_loss: 3.1382e-04 - val_root_mean_squared_error: 0.0177\n",
      "Epoch 12/20\n",
      "247/247 [==============================] - 1s 3ms/step - loss: 2.2436e-04 - root_mean_squared_error: 0.0150 - val_loss: 3.4616e-04 - val_root_mean_squared_error: 0.0186\n",
      "Epoch 13/20\n",
      "247/247 [==============================] - 1s 3ms/step - loss: 2.2520e-04 - root_mean_squared_error: 0.0150 - val_loss: 3.2301e-04 - val_root_mean_squared_error: 0.0180\n",
      "Epoch 14/20\n",
      "247/247 [==============================] - 1s 3ms/step - loss: 2.2675e-04 - root_mean_squared_error: 0.0151 - val_loss: 3.8092e-04 - val_root_mean_squared_error: 0.0195\n",
      "Epoch 15/20\n",
      "247/247 [==============================] - 1s 3ms/step - loss: 2.3132e-04 - root_mean_squared_error: 0.0152 - val_loss: 3.3011e-04 - val_root_mean_squared_error: 0.0182\n",
      "Epoch 16/20\n",
      "247/247 [==============================] - 1s 3ms/step - loss: 2.2531e-04 - root_mean_squared_error: 0.0150 - val_loss: 3.0677e-04 - val_root_mean_squared_error: 0.0175\n",
      "Epoch 17/20\n",
      "247/247 [==============================] - 1s 4ms/step - loss: 2.4257e-04 - root_mean_squared_error: 0.0156 - val_loss: 2.9078e-04 - val_root_mean_squared_error: 0.0171\n",
      "Epoch 18/20\n",
      "247/247 [==============================] - 1s 3ms/step - loss: 2.1377e-04 - root_mean_squared_error: 0.0146 - val_loss: 4.0244e-04 - val_root_mean_squared_error: 0.0201\n",
      "Epoch 19/20\n",
      "247/247 [==============================] - 1s 3ms/step - loss: 2.1346e-04 - root_mean_squared_error: 0.0146 - val_loss: 2.8768e-04 - val_root_mean_squared_error: 0.0170\n",
      "Epoch 20/20\n",
      "247/247 [==============================] - 1s 3ms/step - loss: 2.0598e-04 - root_mean_squared_error: 0.0144 - val_loss: 3.8929e-04 - val_root_mean_squared_error: 0.0197\n",
      "RMSE value:  0.017503333104913216\n",
      "Epoch 1/20\n",
      "240/247 [============================>.] - ETA: 0s - loss: 0.0107 - root_mean_squared_error: 0.1034"
     ]
    },
    {
     "name": "stderr",
     "output_type": "stream",
     "text": [
      "WARNING:absl:Found untraced functions such as lstm_cell_150_layer_call_fn, lstm_cell_150_layer_call_and_return_conditional_losses, lstm_cell_150_layer_call_fn, lstm_cell_150_layer_call_and_return_conditional_losses, lstm_cell_150_layer_call_and_return_conditional_losses while saving (showing 5 of 5). These functions will not be directly callable after loading.\n"
     ]
    },
    {
     "name": "stdout",
     "output_type": "stream",
     "text": [
      "INFO:tensorflow:Assets written to: /Users/yukahatori/A_Fairness/FairnessML_git/LSTM-BasicModel/WeatherModelx/assets\n"
     ]
    },
    {
     "name": "stderr",
     "output_type": "stream",
     "text": [
      "INFO:tensorflow:Assets written to: /Users/yukahatori/A_Fairness/FairnessML_git/LSTM-BasicModel/WeatherModelx/assets\n",
      "WARNING:absl:<keras.layers.recurrent.LSTMCell object at 0x7fd87c4ac9a0> has the same name 'LSTMCell' as a built-in Keras object. Consider renaming <class 'keras.layers.recurrent.LSTMCell'> to avoid naming conflicts when loading with `tf.keras.models.load_model`. If renaming is not possible, pass the object in the `custom_objects` parameter of the load function.\n"
     ]
    },
    {
     "name": "stdout",
     "output_type": "stream",
     "text": [
      "247/247 [==============================] - 6s 17ms/step - loss: 0.0105 - root_mean_squared_error: 0.1022 - val_loss: 0.0025 - val_root_mean_squared_error: 0.0505\n",
      "Epoch 2/20\n",
      "247/247 [==============================] - 1s 3ms/step - loss: 7.1942e-04 - root_mean_squared_error: 0.0268 - val_loss: 0.0028 - val_root_mean_squared_error: 0.0530\n",
      "Epoch 3/20\n",
      "233/247 [===========================>..] - ETA: 0s - loss: 5.8253e-04 - root_mean_squared_error: 0.0241"
     ]
    },
    {
     "name": "stderr",
     "output_type": "stream",
     "text": [
      "WARNING:absl:Found untraced functions such as lstm_cell_150_layer_call_fn, lstm_cell_150_layer_call_and_return_conditional_losses, lstm_cell_150_layer_call_fn, lstm_cell_150_layer_call_and_return_conditional_losses, lstm_cell_150_layer_call_and_return_conditional_losses while saving (showing 5 of 5). These functions will not be directly callable after loading.\n"
     ]
    },
    {
     "name": "stdout",
     "output_type": "stream",
     "text": [
      "INFO:tensorflow:Assets written to: /Users/yukahatori/A_Fairness/FairnessML_git/LSTM-BasicModel/WeatherModelx/assets\n"
     ]
    },
    {
     "name": "stderr",
     "output_type": "stream",
     "text": [
      "INFO:tensorflow:Assets written to: /Users/yukahatori/A_Fairness/FairnessML_git/LSTM-BasicModel/WeatherModelx/assets\n",
      "WARNING:absl:<keras.layers.recurrent.LSTMCell object at 0x7fd87c4ac9a0> has the same name 'LSTMCell' as a built-in Keras object. Consider renaming <class 'keras.layers.recurrent.LSTMCell'> to avoid naming conflicts when loading with `tf.keras.models.load_model`. If renaming is not possible, pass the object in the `custom_objects` parameter of the load function.\n"
     ]
    },
    {
     "name": "stdout",
     "output_type": "stream",
     "text": [
      "247/247 [==============================] - 4s 17ms/step - loss: 5.7892e-04 - root_mean_squared_error: 0.0241 - val_loss: 0.0022 - val_root_mean_squared_error: 0.0467\n",
      "Epoch 4/20\n",
      "246/247 [============================>.] - ETA: 0s - loss: 4.7190e-04 - root_mean_squared_error: 0.0217"
     ]
    },
    {
     "name": "stderr",
     "output_type": "stream",
     "text": [
      "WARNING:absl:Found untraced functions such as lstm_cell_150_layer_call_fn, lstm_cell_150_layer_call_and_return_conditional_losses, lstm_cell_150_layer_call_fn, lstm_cell_150_layer_call_and_return_conditional_losses, lstm_cell_150_layer_call_and_return_conditional_losses while saving (showing 5 of 5). These functions will not be directly callable after loading.\n"
     ]
    },
    {
     "name": "stdout",
     "output_type": "stream",
     "text": [
      "INFO:tensorflow:Assets written to: /Users/yukahatori/A_Fairness/FairnessML_git/LSTM-BasicModel/WeatherModelx/assets\n"
     ]
    },
    {
     "name": "stderr",
     "output_type": "stream",
     "text": [
      "INFO:tensorflow:Assets written to: /Users/yukahatori/A_Fairness/FairnessML_git/LSTM-BasicModel/WeatherModelx/assets\n",
      "WARNING:absl:<keras.layers.recurrent.LSTMCell object at 0x7fd87c4ac9a0> has the same name 'LSTMCell' as a built-in Keras object. Consider renaming <class 'keras.layers.recurrent.LSTMCell'> to avoid naming conflicts when loading with `tf.keras.models.load_model`. If renaming is not possible, pass the object in the `custom_objects` parameter of the load function.\n"
     ]
    },
    {
     "name": "stdout",
     "output_type": "stream",
     "text": [
      "247/247 [==============================] - 4s 16ms/step - loss: 4.7223e-04 - root_mean_squared_error: 0.0217 - val_loss: 6.9217e-04 - val_root_mean_squared_error: 0.0263\n",
      "Epoch 5/20\n",
      "247/247 [==============================] - 1s 3ms/step - loss: 4.1699e-04 - root_mean_squared_error: 0.0204 - val_loss: 7.3056e-04 - val_root_mean_squared_error: 0.0270\n",
      "Epoch 6/20\n",
      "247/247 [==============================] - 1s 3ms/step - loss: 3.9697e-04 - root_mean_squared_error: 0.0199 - val_loss: 0.0011 - val_root_mean_squared_error: 0.0328\n",
      "Epoch 7/20\n",
      "247/247 [==============================] - 1s 3ms/step - loss: 3.6777e-04 - root_mean_squared_error: 0.0192 - val_loss: 8.0877e-04 - val_root_mean_squared_error: 0.0284\n",
      "Epoch 8/20\n",
      "240/247 [============================>.] - ETA: 0s - loss: 3.5518e-04 - root_mean_squared_error: 0.0188"
     ]
    },
    {
     "name": "stderr",
     "output_type": "stream",
     "text": [
      "WARNING:absl:Found untraced functions such as lstm_cell_150_layer_call_fn, lstm_cell_150_layer_call_and_return_conditional_losses, lstm_cell_150_layer_call_fn, lstm_cell_150_layer_call_and_return_conditional_losses, lstm_cell_150_layer_call_and_return_conditional_losses while saving (showing 5 of 5). These functions will not be directly callable after loading.\n"
     ]
    },
    {
     "name": "stdout",
     "output_type": "stream",
     "text": [
      "INFO:tensorflow:Assets written to: /Users/yukahatori/A_Fairness/FairnessML_git/LSTM-BasicModel/WeatherModelx/assets\n"
     ]
    },
    {
     "name": "stderr",
     "output_type": "stream",
     "text": [
      "INFO:tensorflow:Assets written to: /Users/yukahatori/A_Fairness/FairnessML_git/LSTM-BasicModel/WeatherModelx/assets\n",
      "WARNING:absl:<keras.layers.recurrent.LSTMCell object at 0x7fd87c4ac9a0> has the same name 'LSTMCell' as a built-in Keras object. Consider renaming <class 'keras.layers.recurrent.LSTMCell'> to avoid naming conflicts when loading with `tf.keras.models.load_model`. If renaming is not possible, pass the object in the `custom_objects` parameter of the load function.\n"
     ]
    },
    {
     "name": "stdout",
     "output_type": "stream",
     "text": [
      "247/247 [==============================] - 5s 19ms/step - loss: 3.5433e-04 - root_mean_squared_error: 0.0188 - val_loss: 4.7387e-04 - val_root_mean_squared_error: 0.0218\n",
      "Epoch 9/20\n",
      "247/247 [==============================] - 1s 3ms/step - loss: 3.3729e-04 - root_mean_squared_error: 0.0184 - val_loss: 0.0013 - val_root_mean_squared_error: 0.0358\n",
      "Epoch 10/20\n",
      "240/247 [============================>.] - ETA: 0s - loss: 3.4885e-04 - root_mean_squared_error: 0.0187"
     ]
    },
    {
     "name": "stderr",
     "output_type": "stream",
     "text": [
      "WARNING:absl:Found untraced functions such as lstm_cell_150_layer_call_fn, lstm_cell_150_layer_call_and_return_conditional_losses, lstm_cell_150_layer_call_fn, lstm_cell_150_layer_call_and_return_conditional_losses, lstm_cell_150_layer_call_and_return_conditional_losses while saving (showing 5 of 5). These functions will not be directly callable after loading.\n"
     ]
    },
    {
     "name": "stdout",
     "output_type": "stream",
     "text": [
      "INFO:tensorflow:Assets written to: /Users/yukahatori/A_Fairness/FairnessML_git/LSTM-BasicModel/WeatherModelx/assets\n"
     ]
    },
    {
     "name": "stderr",
     "output_type": "stream",
     "text": [
      "INFO:tensorflow:Assets written to: /Users/yukahatori/A_Fairness/FairnessML_git/LSTM-BasicModel/WeatherModelx/assets\n",
      "WARNING:absl:<keras.layers.recurrent.LSTMCell object at 0x7fd87c4ac9a0> has the same name 'LSTMCell' as a built-in Keras object. Consider renaming <class 'keras.layers.recurrent.LSTMCell'> to avoid naming conflicts when loading with `tf.keras.models.load_model`. If renaming is not possible, pass the object in the `custom_objects` parameter of the load function.\n"
     ]
    },
    {
     "name": "stdout",
     "output_type": "stream",
     "text": [
      "247/247 [==============================] - 4s 14ms/step - loss: 3.4812e-04 - root_mean_squared_error: 0.0187 - val_loss: 4.4508e-04 - val_root_mean_squared_error: 0.0211\n",
      "Epoch 11/20\n",
      "247/247 [==============================] - 1s 3ms/step - loss: 3.4361e-04 - root_mean_squared_error: 0.0185 - val_loss: 7.2658e-04 - val_root_mean_squared_error: 0.0270\n",
      "Epoch 12/20\n",
      "247/247 [==============================] - 1s 3ms/step - loss: 3.4898e-04 - root_mean_squared_error: 0.0187 - val_loss: 5.9422e-04 - val_root_mean_squared_error: 0.0244\n",
      "Epoch 13/20\n",
      "228/247 [==========================>...] - ETA: 0s - loss: 3.1655e-04 - root_mean_squared_error: 0.0178"
     ]
    },
    {
     "name": "stderr",
     "output_type": "stream",
     "text": [
      "WARNING:absl:Found untraced functions such as lstm_cell_150_layer_call_fn, lstm_cell_150_layer_call_and_return_conditional_losses, lstm_cell_150_layer_call_fn, lstm_cell_150_layer_call_and_return_conditional_losses, lstm_cell_150_layer_call_and_return_conditional_losses while saving (showing 5 of 5). These functions will not be directly callable after loading.\n"
     ]
    },
    {
     "name": "stdout",
     "output_type": "stream",
     "text": [
      "INFO:tensorflow:Assets written to: /Users/yukahatori/A_Fairness/FairnessML_git/LSTM-BasicModel/WeatherModelx/assets\n"
     ]
    },
    {
     "name": "stderr",
     "output_type": "stream",
     "text": [
      "INFO:tensorflow:Assets written to: /Users/yukahatori/A_Fairness/FairnessML_git/LSTM-BasicModel/WeatherModelx/assets\n",
      "WARNING:absl:<keras.layers.recurrent.LSTMCell object at 0x7fd87c4ac9a0> has the same name 'LSTMCell' as a built-in Keras object. Consider renaming <class 'keras.layers.recurrent.LSTMCell'> to avoid naming conflicts when loading with `tf.keras.models.load_model`. If renaming is not possible, pass the object in the `custom_objects` parameter of the load function.\n"
     ]
    },
    {
     "name": "stdout",
     "output_type": "stream",
     "text": [
      "247/247 [==============================] - 4s 15ms/step - loss: 3.1678e-04 - root_mean_squared_error: 0.0178 - val_loss: 3.4899e-04 - val_root_mean_squared_error: 0.0187\n",
      "Epoch 14/20\n",
      "247/247 [==============================] - 1s 3ms/step - loss: 3.3975e-04 - root_mean_squared_error: 0.0184 - val_loss: 4.5027e-04 - val_root_mean_squared_error: 0.0212\n",
      "Epoch 15/20\n",
      "247/247 [==============================] - 1s 3ms/step - loss: 3.1749e-04 - root_mean_squared_error: 0.0178 - val_loss: 5.4267e-04 - val_root_mean_squared_error: 0.0233\n",
      "Epoch 16/20\n",
      "247/247 [==============================] - 1s 3ms/step - loss: 3.3340e-04 - root_mean_squared_error: 0.0183 - val_loss: 5.7620e-04 - val_root_mean_squared_error: 0.0240\n",
      "Epoch 17/20\n",
      "247/247 [==============================] - 1s 3ms/step - loss: 3.2346e-04 - root_mean_squared_error: 0.0180 - val_loss: 8.5166e-04 - val_root_mean_squared_error: 0.0292\n",
      "Epoch 18/20\n",
      "247/247 [==============================] - 1s 3ms/step - loss: 3.4323e-04 - root_mean_squared_error: 0.0185 - val_loss: 6.0928e-04 - val_root_mean_squared_error: 0.0247\n",
      "Epoch 19/20\n",
      "247/247 [==============================] - 1s 3ms/step - loss: 3.3771e-04 - root_mean_squared_error: 0.0184 - val_loss: 6.5910e-04 - val_root_mean_squared_error: 0.0257\n",
      "Epoch 20/20\n",
      "247/247 [==============================] - 1s 3ms/step - loss: 3.1799e-04 - root_mean_squared_error: 0.0178 - val_loss: 5.5160e-04 - val_root_mean_squared_error: 0.0235\n",
      "RMSE value:  0.01674934172650773\n",
      "Epoch 1/20\n",
      "233/247 [===========================>..] - ETA: 0s - loss: 0.0079 - root_mean_squared_error: 0.0888"
     ]
    },
    {
     "name": "stderr",
     "output_type": "stream",
     "text": [
      "WARNING:absl:Found untraced functions such as lstm_cell_151_layer_call_fn, lstm_cell_151_layer_call_and_return_conditional_losses, lstm_cell_151_layer_call_fn, lstm_cell_151_layer_call_and_return_conditional_losses, lstm_cell_151_layer_call_and_return_conditional_losses while saving (showing 5 of 5). These functions will not be directly callable after loading.\n"
     ]
    },
    {
     "name": "stdout",
     "output_type": "stream",
     "text": [
      "INFO:tensorflow:Assets written to: /Users/yukahatori/A_Fairness/FairnessML_git/LSTM-BasicModel/WeatherModelx/assets\n"
     ]
    },
    {
     "name": "stderr",
     "output_type": "stream",
     "text": [
      "INFO:tensorflow:Assets written to: /Users/yukahatori/A_Fairness/FairnessML_git/LSTM-BasicModel/WeatherModelx/assets\n",
      "WARNING:absl:<keras.layers.recurrent.LSTMCell object at 0x7fd875124910> has the same name 'LSTMCell' as a built-in Keras object. Consider renaming <class 'keras.layers.recurrent.LSTMCell'> to avoid naming conflicts when loading with `tf.keras.models.load_model`. If renaming is not possible, pass the object in the `custom_objects` parameter of the load function.\n"
     ]
    },
    {
     "name": "stdout",
     "output_type": "stream",
     "text": [
      "247/247 [==============================] - 6s 18ms/step - loss: 0.0075 - root_mean_squared_error: 0.0866 - val_loss: 0.0027 - val_root_mean_squared_error: 0.0515\n",
      "Epoch 2/20\n",
      "235/247 [===========================>..] - ETA: 0s - loss: 7.1814e-04 - root_mean_squared_error: 0.0268"
     ]
    },
    {
     "name": "stderr",
     "output_type": "stream",
     "text": [
      "WARNING:absl:Found untraced functions such as lstm_cell_151_layer_call_fn, lstm_cell_151_layer_call_and_return_conditional_losses, lstm_cell_151_layer_call_fn, lstm_cell_151_layer_call_and_return_conditional_losses, lstm_cell_151_layer_call_and_return_conditional_losses while saving (showing 5 of 5). These functions will not be directly callable after loading.\n"
     ]
    },
    {
     "name": "stdout",
     "output_type": "stream",
     "text": [
      "INFO:tensorflow:Assets written to: /Users/yukahatori/A_Fairness/FairnessML_git/LSTM-BasicModel/WeatherModelx/assets\n"
     ]
    },
    {
     "name": "stderr",
     "output_type": "stream",
     "text": [
      "INFO:tensorflow:Assets written to: /Users/yukahatori/A_Fairness/FairnessML_git/LSTM-BasicModel/WeatherModelx/assets\n",
      "WARNING:absl:<keras.layers.recurrent.LSTMCell object at 0x7fd875124910> has the same name 'LSTMCell' as a built-in Keras object. Consider renaming <class 'keras.layers.recurrent.LSTMCell'> to avoid naming conflicts when loading with `tf.keras.models.load_model`. If renaming is not possible, pass the object in the `custom_objects` parameter of the load function.\n"
     ]
    },
    {
     "name": "stdout",
     "output_type": "stream",
     "text": [
      "247/247 [==============================] - 4s 18ms/step - loss: 7.1408e-04 - root_mean_squared_error: 0.0267 - val_loss: 0.0022 - val_root_mean_squared_error: 0.0466\n",
      "Epoch 3/20\n",
      "232/247 [===========================>..] - ETA: 0s - loss: 5.1509e-04 - root_mean_squared_error: 0.0227"
     ]
    },
    {
     "name": "stderr",
     "output_type": "stream",
     "text": [
      "WARNING:absl:Found untraced functions such as lstm_cell_151_layer_call_fn, lstm_cell_151_layer_call_and_return_conditional_losses, lstm_cell_151_layer_call_fn, lstm_cell_151_layer_call_and_return_conditional_losses, lstm_cell_151_layer_call_and_return_conditional_losses while saving (showing 5 of 5). These functions will not be directly callable after loading.\n"
     ]
    },
    {
     "name": "stdout",
     "output_type": "stream",
     "text": [
      "INFO:tensorflow:Assets written to: /Users/yukahatori/A_Fairness/FairnessML_git/LSTM-BasicModel/WeatherModelx/assets\n"
     ]
    },
    {
     "name": "stderr",
     "output_type": "stream",
     "text": [
      "INFO:tensorflow:Assets written to: /Users/yukahatori/A_Fairness/FairnessML_git/LSTM-BasicModel/WeatherModelx/assets\n",
      "WARNING:absl:<keras.layers.recurrent.LSTMCell object at 0x7fd875124910> has the same name 'LSTMCell' as a built-in Keras object. Consider renaming <class 'keras.layers.recurrent.LSTMCell'> to avoid naming conflicts when loading with `tf.keras.models.load_model`. If renaming is not possible, pass the object in the `custom_objects` parameter of the load function.\n"
     ]
    },
    {
     "name": "stdout",
     "output_type": "stream",
     "text": [
      "247/247 [==============================] - 4s 16ms/step - loss: 5.1379e-04 - root_mean_squared_error: 0.0227 - val_loss: 0.0021 - val_root_mean_squared_error: 0.0455\n",
      "Epoch 4/20\n",
      "238/247 [===========================>..] - ETA: 0s - loss: 4.1470e-04 - root_mean_squared_error: 0.0204"
     ]
    },
    {
     "name": "stderr",
     "output_type": "stream",
     "text": [
      "WARNING:absl:Found untraced functions such as lstm_cell_151_layer_call_fn, lstm_cell_151_layer_call_and_return_conditional_losses, lstm_cell_151_layer_call_fn, lstm_cell_151_layer_call_and_return_conditional_losses, lstm_cell_151_layer_call_and_return_conditional_losses while saving (showing 5 of 5). These functions will not be directly callable after loading.\n"
     ]
    },
    {
     "name": "stdout",
     "output_type": "stream",
     "text": [
      "INFO:tensorflow:Assets written to: /Users/yukahatori/A_Fairness/FairnessML_git/LSTM-BasicModel/WeatherModelx/assets\n"
     ]
    },
    {
     "name": "stderr",
     "output_type": "stream",
     "text": [
      "INFO:tensorflow:Assets written to: /Users/yukahatori/A_Fairness/FairnessML_git/LSTM-BasicModel/WeatherModelx/assets\n",
      "WARNING:absl:<keras.layers.recurrent.LSTMCell object at 0x7fd875124910> has the same name 'LSTMCell' as a built-in Keras object. Consider renaming <class 'keras.layers.recurrent.LSTMCell'> to avoid naming conflicts when loading with `tf.keras.models.load_model`. If renaming is not possible, pass the object in the `custom_objects` parameter of the load function.\n"
     ]
    },
    {
     "name": "stdout",
     "output_type": "stream",
     "text": [
      "247/247 [==============================] - 4s 15ms/step - loss: 4.1247e-04 - root_mean_squared_error: 0.0203 - val_loss: 7.8633e-04 - val_root_mean_squared_error: 0.0280\n",
      "Epoch 5/20\n",
      "247/247 [==============================] - 1s 3ms/step - loss: 3.9920e-04 - root_mean_squared_error: 0.0200 - val_loss: 8.8372e-04 - val_root_mean_squared_error: 0.0297\n",
      "Epoch 6/20\n",
      "247/247 [==============================] - 1s 3ms/step - loss: 3.5192e-04 - root_mean_squared_error: 0.0188 - val_loss: 0.0010 - val_root_mean_squared_error: 0.0318\n",
      "Epoch 7/20\n",
      "242/247 [============================>.] - ETA: 0s - loss: 3.4122e-04 - root_mean_squared_error: 0.0185"
     ]
    },
    {
     "name": "stderr",
     "output_type": "stream",
     "text": [
      "WARNING:absl:Found untraced functions such as lstm_cell_151_layer_call_fn, lstm_cell_151_layer_call_and_return_conditional_losses, lstm_cell_151_layer_call_fn, lstm_cell_151_layer_call_and_return_conditional_losses, lstm_cell_151_layer_call_and_return_conditional_losses while saving (showing 5 of 5). These functions will not be directly callable after loading.\n"
     ]
    },
    {
     "name": "stdout",
     "output_type": "stream",
     "text": [
      "INFO:tensorflow:Assets written to: /Users/yukahatori/A_Fairness/FairnessML_git/LSTM-BasicModel/WeatherModelx/assets\n"
     ]
    },
    {
     "name": "stderr",
     "output_type": "stream",
     "text": [
      "INFO:tensorflow:Assets written to: /Users/yukahatori/A_Fairness/FairnessML_git/LSTM-BasicModel/WeatherModelx/assets\n",
      "WARNING:absl:<keras.layers.recurrent.LSTMCell object at 0x7fd875124910> has the same name 'LSTMCell' as a built-in Keras object. Consider renaming <class 'keras.layers.recurrent.LSTMCell'> to avoid naming conflicts when loading with `tf.keras.models.load_model`. If renaming is not possible, pass the object in the `custom_objects` parameter of the load function.\n"
     ]
    },
    {
     "name": "stdout",
     "output_type": "stream",
     "text": [
      "247/247 [==============================] - 4s 16ms/step - loss: 3.4227e-04 - root_mean_squared_error: 0.0185 - val_loss: 6.9632e-04 - val_root_mean_squared_error: 0.0264\n",
      "Epoch 8/20\n",
      "243/247 [============================>.] - ETA: 0s - loss: 3.4175e-04 - root_mean_squared_error: 0.0185"
     ]
    },
    {
     "name": "stderr",
     "output_type": "stream",
     "text": [
      "WARNING:absl:Found untraced functions such as lstm_cell_151_layer_call_fn, lstm_cell_151_layer_call_and_return_conditional_losses, lstm_cell_151_layer_call_fn, lstm_cell_151_layer_call_and_return_conditional_losses, lstm_cell_151_layer_call_and_return_conditional_losses while saving (showing 5 of 5). These functions will not be directly callable after loading.\n"
     ]
    },
    {
     "name": "stdout",
     "output_type": "stream",
     "text": [
      "INFO:tensorflow:Assets written to: /Users/yukahatori/A_Fairness/FairnessML_git/LSTM-BasicModel/WeatherModelx/assets\n"
     ]
    },
    {
     "name": "stderr",
     "output_type": "stream",
     "text": [
      "INFO:tensorflow:Assets written to: /Users/yukahatori/A_Fairness/FairnessML_git/LSTM-BasicModel/WeatherModelx/assets\n",
      "WARNING:absl:<keras.layers.recurrent.LSTMCell object at 0x7fd875124910> has the same name 'LSTMCell' as a built-in Keras object. Consider renaming <class 'keras.layers.recurrent.LSTMCell'> to avoid naming conflicts when loading with `tf.keras.models.load_model`. If renaming is not possible, pass the object in the `custom_objects` parameter of the load function.\n"
     ]
    },
    {
     "name": "stdout",
     "output_type": "stream",
     "text": [
      "247/247 [==============================] - 4s 15ms/step - loss: 3.4251e-04 - root_mean_squared_error: 0.0185 - val_loss: 6.5762e-04 - val_root_mean_squared_error: 0.0256\n",
      "Epoch 9/20\n",
      "247/247 [==============================] - 1s 2ms/step - loss: 3.9247e-04 - root_mean_squared_error: 0.0198 - val_loss: 7.9103e-04 - val_root_mean_squared_error: 0.0281\n",
      "Epoch 10/20\n",
      "247/247 [==============================] - 1s 3ms/step - loss: 3.5103e-04 - root_mean_squared_error: 0.0187 - val_loss: 7.0803e-04 - val_root_mean_squared_error: 0.0266\n",
      "Epoch 11/20\n",
      "247/247 [==============================] - 1s 2ms/step - loss: 3.4791e-04 - root_mean_squared_error: 0.0187 - val_loss: 0.0011 - val_root_mean_squared_error: 0.0328\n",
      "Epoch 12/20\n",
      "228/247 [==========================>...] - ETA: 0s - loss: 3.7276e-04 - root_mean_squared_error: 0.0193"
     ]
    },
    {
     "name": "stderr",
     "output_type": "stream",
     "text": [
      "WARNING:absl:Found untraced functions such as lstm_cell_151_layer_call_fn, lstm_cell_151_layer_call_and_return_conditional_losses, lstm_cell_151_layer_call_fn, lstm_cell_151_layer_call_and_return_conditional_losses, lstm_cell_151_layer_call_and_return_conditional_losses while saving (showing 5 of 5). These functions will not be directly callable after loading.\n"
     ]
    },
    {
     "name": "stdout",
     "output_type": "stream",
     "text": [
      "INFO:tensorflow:Assets written to: /Users/yukahatori/A_Fairness/FairnessML_git/LSTM-BasicModel/WeatherModelx/assets\n"
     ]
    },
    {
     "name": "stderr",
     "output_type": "stream",
     "text": [
      "INFO:tensorflow:Assets written to: /Users/yukahatori/A_Fairness/FairnessML_git/LSTM-BasicModel/WeatherModelx/assets\n",
      "WARNING:absl:<keras.layers.recurrent.LSTMCell object at 0x7fd875124910> has the same name 'LSTMCell' as a built-in Keras object. Consider renaming <class 'keras.layers.recurrent.LSTMCell'> to avoid naming conflicts when loading with `tf.keras.models.load_model`. If renaming is not possible, pass the object in the `custom_objects` parameter of the load function.\n"
     ]
    },
    {
     "name": "stdout",
     "output_type": "stream",
     "text": [
      "247/247 [==============================] - 4s 14ms/step - loss: 3.6818e-04 - root_mean_squared_error: 0.0192 - val_loss: 5.1020e-04 - val_root_mean_squared_error: 0.0226\n",
      "Epoch 13/20\n",
      "247/247 [==============================] - 1s 3ms/step - loss: 3.3253e-04 - root_mean_squared_error: 0.0182 - val_loss: 5.7188e-04 - val_root_mean_squared_error: 0.0239\n",
      "Epoch 14/20\n",
      "247/247 [==============================] - 1s 3ms/step - loss: 3.6179e-04 - root_mean_squared_error: 0.0190 - val_loss: 9.8199e-04 - val_root_mean_squared_error: 0.0313\n",
      "Epoch 15/20\n",
      "247/247 [==============================] - 1s 3ms/step - loss: 3.1249e-04 - root_mean_squared_error: 0.0177 - val_loss: 5.3312e-04 - val_root_mean_squared_error: 0.0231\n",
      "Epoch 16/20\n",
      "247/247 [==============================] - 1s 3ms/step - loss: 3.2985e-04 - root_mean_squared_error: 0.0182 - val_loss: 6.2779e-04 - val_root_mean_squared_error: 0.0251\n",
      "Epoch 17/20\n",
      "247/247 [==============================] - ETA: 0s - loss: 3.2757e-04 - root_mean_squared_error: 0.0181"
     ]
    },
    {
     "name": "stderr",
     "output_type": "stream",
     "text": [
      "WARNING:absl:Found untraced functions such as lstm_cell_151_layer_call_fn, lstm_cell_151_layer_call_and_return_conditional_losses, lstm_cell_151_layer_call_fn, lstm_cell_151_layer_call_and_return_conditional_losses, lstm_cell_151_layer_call_and_return_conditional_losses while saving (showing 5 of 5). These functions will not be directly callable after loading.\n"
     ]
    },
    {
     "name": "stdout",
     "output_type": "stream",
     "text": [
      "INFO:tensorflow:Assets written to: /Users/yukahatori/A_Fairness/FairnessML_git/LSTM-BasicModel/WeatherModelx/assets\n"
     ]
    },
    {
     "name": "stderr",
     "output_type": "stream",
     "text": [
      "INFO:tensorflow:Assets written to: /Users/yukahatori/A_Fairness/FairnessML_git/LSTM-BasicModel/WeatherModelx/assets\n",
      "WARNING:absl:<keras.layers.recurrent.LSTMCell object at 0x7fd875124910> has the same name 'LSTMCell' as a built-in Keras object. Consider renaming <class 'keras.layers.recurrent.LSTMCell'> to avoid naming conflicts when loading with `tf.keras.models.load_model`. If renaming is not possible, pass the object in the `custom_objects` parameter of the load function.\n"
     ]
    },
    {
     "name": "stdout",
     "output_type": "stream",
     "text": [
      "247/247 [==============================] - 5s 19ms/step - loss: 3.2757e-04 - root_mean_squared_error: 0.0181 - val_loss: 5.0172e-04 - val_root_mean_squared_error: 0.0224\n",
      "Epoch 18/20\n",
      "232/247 [===========================>..] - ETA: 0s - loss: 3.0611e-04 - root_mean_squared_error: 0.0175"
     ]
    },
    {
     "name": "stderr",
     "output_type": "stream",
     "text": [
      "WARNING:absl:Found untraced functions such as lstm_cell_151_layer_call_fn, lstm_cell_151_layer_call_and_return_conditional_losses, lstm_cell_151_layer_call_fn, lstm_cell_151_layer_call_and_return_conditional_losses, lstm_cell_151_layer_call_and_return_conditional_losses while saving (showing 5 of 5). These functions will not be directly callable after loading.\n"
     ]
    },
    {
     "name": "stdout",
     "output_type": "stream",
     "text": [
      "INFO:tensorflow:Assets written to: /Users/yukahatori/A_Fairness/FairnessML_git/LSTM-BasicModel/WeatherModelx/assets\n"
     ]
    },
    {
     "name": "stderr",
     "output_type": "stream",
     "text": [
      "INFO:tensorflow:Assets written to: /Users/yukahatori/A_Fairness/FairnessML_git/LSTM-BasicModel/WeatherModelx/assets\n",
      "WARNING:absl:<keras.layers.recurrent.LSTMCell object at 0x7fd875124910> has the same name 'LSTMCell' as a built-in Keras object. Consider renaming <class 'keras.layers.recurrent.LSTMCell'> to avoid naming conflicts when loading with `tf.keras.models.load_model`. If renaming is not possible, pass the object in the `custom_objects` parameter of the load function.\n"
     ]
    },
    {
     "name": "stdout",
     "output_type": "stream",
     "text": [
      "247/247 [==============================] - 4s 15ms/step - loss: 3.0778e-04 - root_mean_squared_error: 0.0175 - val_loss: 4.4797e-04 - val_root_mean_squared_error: 0.0212\n",
      "Epoch 19/20\n",
      "247/247 [==============================] - 1s 3ms/step - loss: 3.2306e-04 - root_mean_squared_error: 0.0180 - val_loss: 7.3886e-04 - val_root_mean_squared_error: 0.0272\n",
      "Epoch 20/20\n",
      "239/247 [============================>.] - ETA: 0s - loss: 3.1713e-04 - root_mean_squared_error: 0.0178"
     ]
    },
    {
     "name": "stderr",
     "output_type": "stream",
     "text": [
      "WARNING:absl:Found untraced functions such as lstm_cell_151_layer_call_fn, lstm_cell_151_layer_call_and_return_conditional_losses, lstm_cell_151_layer_call_fn, lstm_cell_151_layer_call_and_return_conditional_losses, lstm_cell_151_layer_call_and_return_conditional_losses while saving (showing 5 of 5). These functions will not be directly callable after loading.\n"
     ]
    },
    {
     "name": "stdout",
     "output_type": "stream",
     "text": [
      "INFO:tensorflow:Assets written to: /Users/yukahatori/A_Fairness/FairnessML_git/LSTM-BasicModel/WeatherModelx/assets\n"
     ]
    },
    {
     "name": "stderr",
     "output_type": "stream",
     "text": [
      "INFO:tensorflow:Assets written to: /Users/yukahatori/A_Fairness/FairnessML_git/LSTM-BasicModel/WeatherModelx/assets\n",
      "WARNING:absl:<keras.layers.recurrent.LSTMCell object at 0x7fd875124910> has the same name 'LSTMCell' as a built-in Keras object. Consider renaming <class 'keras.layers.recurrent.LSTMCell'> to avoid naming conflicts when loading with `tf.keras.models.load_model`. If renaming is not possible, pass the object in the `custom_objects` parameter of the load function.\n"
     ]
    },
    {
     "name": "stdout",
     "output_type": "stream",
     "text": [
      "247/247 [==============================] - 4s 16ms/step - loss: 3.1975e-04 - root_mean_squared_error: 0.0179 - val_loss: 4.4682e-04 - val_root_mean_squared_error: 0.0211\n",
      "RMSE value:  0.022901128369179666\n",
      "Epoch 1/20\n",
      "234/247 [===========================>..] - ETA: 0s - loss: 0.0104 - root_mean_squared_error: 0.1020"
     ]
    },
    {
     "name": "stderr",
     "output_type": "stream",
     "text": [
      "WARNING:absl:Found untraced functions such as lstm_cell_152_layer_call_fn, lstm_cell_152_layer_call_and_return_conditional_losses, lstm_cell_152_layer_call_fn, lstm_cell_152_layer_call_and_return_conditional_losses, lstm_cell_152_layer_call_and_return_conditional_losses while saving (showing 5 of 5). These functions will not be directly callable after loading.\n"
     ]
    },
    {
     "name": "stdout",
     "output_type": "stream",
     "text": [
      "INFO:tensorflow:Assets written to: /Users/yukahatori/A_Fairness/FairnessML_git/LSTM-BasicModel/WeatherModelx/assets\n"
     ]
    },
    {
     "name": "stderr",
     "output_type": "stream",
     "text": [
      "INFO:tensorflow:Assets written to: /Users/yukahatori/A_Fairness/FairnessML_git/LSTM-BasicModel/WeatherModelx/assets\n",
      "WARNING:absl:<keras.layers.recurrent.LSTMCell object at 0x7fd868a3e400> has the same name 'LSTMCell' as a built-in Keras object. Consider renaming <class 'keras.layers.recurrent.LSTMCell'> to avoid naming conflicts when loading with `tf.keras.models.load_model`. If renaming is not possible, pass the object in the `custom_objects` parameter of the load function.\n"
     ]
    },
    {
     "name": "stdout",
     "output_type": "stream",
     "text": [
      "247/247 [==============================] - 6s 17ms/step - loss: 0.0099 - root_mean_squared_error: 0.0996 - val_loss: 0.0026 - val_root_mean_squared_error: 0.0509\n",
      "Epoch 2/20\n",
      "235/247 [===========================>..] - ETA: 0s - loss: 7.4451e-04 - root_mean_squared_error: 0.0273"
     ]
    },
    {
     "name": "stderr",
     "output_type": "stream",
     "text": [
      "WARNING:absl:Found untraced functions such as lstm_cell_152_layer_call_fn, lstm_cell_152_layer_call_and_return_conditional_losses, lstm_cell_152_layer_call_fn, lstm_cell_152_layer_call_and_return_conditional_losses, lstm_cell_152_layer_call_and_return_conditional_losses while saving (showing 5 of 5). These functions will not be directly callable after loading.\n"
     ]
    },
    {
     "name": "stdout",
     "output_type": "stream",
     "text": [
      "INFO:tensorflow:Assets written to: /Users/yukahatori/A_Fairness/FairnessML_git/LSTM-BasicModel/WeatherModelx/assets\n"
     ]
    },
    {
     "name": "stderr",
     "output_type": "stream",
     "text": [
      "INFO:tensorflow:Assets written to: /Users/yukahatori/A_Fairness/FairnessML_git/LSTM-BasicModel/WeatherModelx/assets\n",
      "WARNING:absl:<keras.layers.recurrent.LSTMCell object at 0x7fd868a3e400> has the same name 'LSTMCell' as a built-in Keras object. Consider renaming <class 'keras.layers.recurrent.LSTMCell'> to avoid naming conflicts when loading with `tf.keras.models.load_model`. If renaming is not possible, pass the object in the `custom_objects` parameter of the load function.\n"
     ]
    },
    {
     "name": "stdout",
     "output_type": "stream",
     "text": [
      "247/247 [==============================] - 4s 17ms/step - loss: 7.4236e-04 - root_mean_squared_error: 0.0272 - val_loss: 0.0025 - val_root_mean_squared_error: 0.0502\n",
      "Epoch 3/20\n",
      "247/247 [==============================] - 1s 3ms/step - loss: 5.5548e-04 - root_mean_squared_error: 0.0236 - val_loss: 0.0026 - val_root_mean_squared_error: 0.0510\n",
      "Epoch 4/20\n",
      "232/247 [===========================>..] - ETA: 0s - loss: 4.7221e-04 - root_mean_squared_error: 0.0217"
     ]
    },
    {
     "name": "stderr",
     "output_type": "stream",
     "text": [
      "WARNING:absl:Found untraced functions such as lstm_cell_152_layer_call_fn, lstm_cell_152_layer_call_and_return_conditional_losses, lstm_cell_152_layer_call_fn, lstm_cell_152_layer_call_and_return_conditional_losses, lstm_cell_152_layer_call_and_return_conditional_losses while saving (showing 5 of 5). These functions will not be directly callable after loading.\n"
     ]
    },
    {
     "name": "stdout",
     "output_type": "stream",
     "text": [
      "INFO:tensorflow:Assets written to: /Users/yukahatori/A_Fairness/FairnessML_git/LSTM-BasicModel/WeatherModelx/assets\n"
     ]
    },
    {
     "name": "stderr",
     "output_type": "stream",
     "text": [
      "INFO:tensorflow:Assets written to: /Users/yukahatori/A_Fairness/FairnessML_git/LSTM-BasicModel/WeatherModelx/assets\n",
      "WARNING:absl:<keras.layers.recurrent.LSTMCell object at 0x7fd868a3e400> has the same name 'LSTMCell' as a built-in Keras object. Consider renaming <class 'keras.layers.recurrent.LSTMCell'> to avoid naming conflicts when loading with `tf.keras.models.load_model`. If renaming is not possible, pass the object in the `custom_objects` parameter of the load function.\n"
     ]
    },
    {
     "name": "stdout",
     "output_type": "stream",
     "text": [
      "247/247 [==============================] - 4s 16ms/step - loss: 4.7043e-04 - root_mean_squared_error: 0.0217 - val_loss: 0.0010 - val_root_mean_squared_error: 0.0321\n",
      "Epoch 5/20\n",
      "247/247 [==============================] - 1s 3ms/step - loss: 4.1846e-04 - root_mean_squared_error: 0.0205 - val_loss: 0.0010 - val_root_mean_squared_error: 0.0323\n",
      "Epoch 6/20\n",
      "243/247 [============================>.] - ETA: 0s - loss: 3.8482e-04 - root_mean_squared_error: 0.0196"
     ]
    },
    {
     "name": "stderr",
     "output_type": "stream",
     "text": [
      "WARNING:absl:Found untraced functions such as lstm_cell_152_layer_call_fn, lstm_cell_152_layer_call_and_return_conditional_losses, lstm_cell_152_layer_call_fn, lstm_cell_152_layer_call_and_return_conditional_losses, lstm_cell_152_layer_call_and_return_conditional_losses while saving (showing 5 of 5). These functions will not be directly callable after loading.\n"
     ]
    },
    {
     "name": "stdout",
     "output_type": "stream",
     "text": [
      "INFO:tensorflow:Assets written to: /Users/yukahatori/A_Fairness/FairnessML_git/LSTM-BasicModel/WeatherModelx/assets\n"
     ]
    },
    {
     "name": "stderr",
     "output_type": "stream",
     "text": [
      "INFO:tensorflow:Assets written to: /Users/yukahatori/A_Fairness/FairnessML_git/LSTM-BasicModel/WeatherModelx/assets\n",
      "WARNING:absl:<keras.layers.recurrent.LSTMCell object at 0x7fd868a3e400> has the same name 'LSTMCell' as a built-in Keras object. Consider renaming <class 'keras.layers.recurrent.LSTMCell'> to avoid naming conflicts when loading with `tf.keras.models.load_model`. If renaming is not possible, pass the object in the `custom_objects` parameter of the load function.\n"
     ]
    },
    {
     "name": "stdout",
     "output_type": "stream",
     "text": [
      "247/247 [==============================] - 4s 15ms/step - loss: 3.8561e-04 - root_mean_squared_error: 0.0196 - val_loss: 8.1380e-04 - val_root_mean_squared_error: 0.0285\n",
      "Epoch 7/20\n",
      "247/247 [==============================] - 1s 3ms/step - loss: 3.8229e-04 - root_mean_squared_error: 0.0196 - val_loss: 9.8701e-04 - val_root_mean_squared_error: 0.0314\n",
      "Epoch 8/20\n",
      "247/247 [==============================] - 1s 3ms/step - loss: 3.7754e-04 - root_mean_squared_error: 0.0194 - val_loss: 0.0012 - val_root_mean_squared_error: 0.0345\n",
      "Epoch 9/20\n",
      "242/247 [============================>.] - ETA: 0s - loss: 3.5462e-04 - root_mean_squared_error: 0.0188"
     ]
    },
    {
     "name": "stderr",
     "output_type": "stream",
     "text": [
      "WARNING:absl:Found untraced functions such as lstm_cell_152_layer_call_fn, lstm_cell_152_layer_call_and_return_conditional_losses, lstm_cell_152_layer_call_fn, lstm_cell_152_layer_call_and_return_conditional_losses, lstm_cell_152_layer_call_and_return_conditional_losses while saving (showing 5 of 5). These functions will not be directly callable after loading.\n"
     ]
    },
    {
     "name": "stdout",
     "output_type": "stream",
     "text": [
      "INFO:tensorflow:Assets written to: /Users/yukahatori/A_Fairness/FairnessML_git/LSTM-BasicModel/WeatherModelx/assets\n"
     ]
    },
    {
     "name": "stderr",
     "output_type": "stream",
     "text": [
      "INFO:tensorflow:Assets written to: /Users/yukahatori/A_Fairness/FairnessML_git/LSTM-BasicModel/WeatherModelx/assets\n",
      "WARNING:absl:<keras.layers.recurrent.LSTMCell object at 0x7fd868a3e400> has the same name 'LSTMCell' as a built-in Keras object. Consider renaming <class 'keras.layers.recurrent.LSTMCell'> to avoid naming conflicts when loading with `tf.keras.models.load_model`. If renaming is not possible, pass the object in the `custom_objects` parameter of the load function.\n"
     ]
    },
    {
     "name": "stdout",
     "output_type": "stream",
     "text": [
      "247/247 [==============================] - 4s 15ms/step - loss: 3.5490e-04 - root_mean_squared_error: 0.0188 - val_loss: 7.2752e-04 - val_root_mean_squared_error: 0.0270\n",
      "Epoch 10/20\n",
      "247/247 [==============================] - 1s 3ms/step - loss: 3.3982e-04 - root_mean_squared_error: 0.0184 - val_loss: 0.0010 - val_root_mean_squared_error: 0.0320\n",
      "Epoch 11/20\n",
      "247/247 [==============================] - 1s 3ms/step - loss: 3.5155e-04 - root_mean_squared_error: 0.0187 - val_loss: 7.4065e-04 - val_root_mean_squared_error: 0.0272\n",
      "Epoch 12/20\n",
      "233/247 [===========================>..] - ETA: 0s - loss: 3.8005e-04 - root_mean_squared_error: 0.0195"
     ]
    },
    {
     "name": "stderr",
     "output_type": "stream",
     "text": [
      "WARNING:absl:Found untraced functions such as lstm_cell_152_layer_call_fn, lstm_cell_152_layer_call_and_return_conditional_losses, lstm_cell_152_layer_call_fn, lstm_cell_152_layer_call_and_return_conditional_losses, lstm_cell_152_layer_call_and_return_conditional_losses while saving (showing 5 of 5). These functions will not be directly callable after loading.\n"
     ]
    },
    {
     "name": "stdout",
     "output_type": "stream",
     "text": [
      "INFO:tensorflow:Assets written to: /Users/yukahatori/A_Fairness/FairnessML_git/LSTM-BasicModel/WeatherModelx/assets\n"
     ]
    },
    {
     "name": "stderr",
     "output_type": "stream",
     "text": [
      "INFO:tensorflow:Assets written to: /Users/yukahatori/A_Fairness/FairnessML_git/LSTM-BasicModel/WeatherModelx/assets\n",
      "WARNING:absl:<keras.layers.recurrent.LSTMCell object at 0x7fd868a3e400> has the same name 'LSTMCell' as a built-in Keras object. Consider renaming <class 'keras.layers.recurrent.LSTMCell'> to avoid naming conflicts when loading with `tf.keras.models.load_model`. If renaming is not possible, pass the object in the `custom_objects` parameter of the load function.\n"
     ]
    },
    {
     "name": "stdout",
     "output_type": "stream",
     "text": [
      "247/247 [==============================] - 5s 21ms/step - loss: 3.7512e-04 - root_mean_squared_error: 0.0194 - val_loss: 5.9088e-04 - val_root_mean_squared_error: 0.0243\n",
      "Epoch 13/20\n",
      "232/247 [===========================>..] - ETA: 0s - loss: 3.3642e-04 - root_mean_squared_error: 0.0183"
     ]
    },
    {
     "name": "stderr",
     "output_type": "stream",
     "text": [
      "WARNING:absl:Found untraced functions such as lstm_cell_152_layer_call_fn, lstm_cell_152_layer_call_and_return_conditional_losses, lstm_cell_152_layer_call_fn, lstm_cell_152_layer_call_and_return_conditional_losses, lstm_cell_152_layer_call_and_return_conditional_losses while saving (showing 5 of 5). These functions will not be directly callable after loading.\n"
     ]
    },
    {
     "name": "stdout",
     "output_type": "stream",
     "text": [
      "INFO:tensorflow:Assets written to: /Users/yukahatori/A_Fairness/FairnessML_git/LSTM-BasicModel/WeatherModelx/assets\n"
     ]
    },
    {
     "name": "stderr",
     "output_type": "stream",
     "text": [
      "INFO:tensorflow:Assets written to: /Users/yukahatori/A_Fairness/FairnessML_git/LSTM-BasicModel/WeatherModelx/assets\n",
      "WARNING:absl:<keras.layers.recurrent.LSTMCell object at 0x7fd868a3e400> has the same name 'LSTMCell' as a built-in Keras object. Consider renaming <class 'keras.layers.recurrent.LSTMCell'> to avoid naming conflicts when loading with `tf.keras.models.load_model`. If renaming is not possible, pass the object in the `custom_objects` parameter of the load function.\n"
     ]
    },
    {
     "name": "stdout",
     "output_type": "stream",
     "text": [
      "247/247 [==============================] - 5s 18ms/step - loss: 3.3215e-04 - root_mean_squared_error: 0.0182 - val_loss: 4.0071e-04 - val_root_mean_squared_error: 0.0200\n",
      "Epoch 14/20\n",
      "247/247 [==============================] - 1s 4ms/step - loss: 3.4757e-04 - root_mean_squared_error: 0.0186 - val_loss: 6.5028e-04 - val_root_mean_squared_error: 0.0255\n",
      "Epoch 15/20\n",
      "247/247 [==============================] - 1s 4ms/step - loss: 3.1320e-04 - root_mean_squared_error: 0.0177 - val_loss: 7.9050e-04 - val_root_mean_squared_error: 0.0281\n",
      "Epoch 16/20\n",
      "241/247 [============================>.] - ETA: 0s - loss: 3.3963e-04 - root_mean_squared_error: 0.0184"
     ]
    },
    {
     "name": "stderr",
     "output_type": "stream",
     "text": [
      "WARNING:absl:Found untraced functions such as lstm_cell_152_layer_call_fn, lstm_cell_152_layer_call_and_return_conditional_losses, lstm_cell_152_layer_call_fn, lstm_cell_152_layer_call_and_return_conditional_losses, lstm_cell_152_layer_call_and_return_conditional_losses while saving (showing 5 of 5). These functions will not be directly callable after loading.\n"
     ]
    },
    {
     "name": "stdout",
     "output_type": "stream",
     "text": [
      "INFO:tensorflow:Assets written to: /Users/yukahatori/A_Fairness/FairnessML_git/LSTM-BasicModel/WeatherModelx/assets\n"
     ]
    },
    {
     "name": "stderr",
     "output_type": "stream",
     "text": [
      "INFO:tensorflow:Assets written to: /Users/yukahatori/A_Fairness/FairnessML_git/LSTM-BasicModel/WeatherModelx/assets\n",
      "WARNING:absl:<keras.layers.recurrent.LSTMCell object at 0x7fd868a3e400> has the same name 'LSTMCell' as a built-in Keras object. Consider renaming <class 'keras.layers.recurrent.LSTMCell'> to avoid naming conflicts when loading with `tf.keras.models.load_model`. If renaming is not possible, pass the object in the `custom_objects` parameter of the load function.\n"
     ]
    },
    {
     "name": "stdout",
     "output_type": "stream",
     "text": [
      "247/247 [==============================] - 4s 16ms/step - loss: 3.3918e-04 - root_mean_squared_error: 0.0184 - val_loss: 3.5150e-04 - val_root_mean_squared_error: 0.0187\n",
      "Epoch 17/20\n",
      "247/247 [==============================] - 1s 3ms/step - loss: 3.3713e-04 - root_mean_squared_error: 0.0184 - val_loss: 5.4653e-04 - val_root_mean_squared_error: 0.0234\n",
      "Epoch 18/20\n",
      "247/247 [==============================] - 1s 3ms/step - loss: 3.2899e-04 - root_mean_squared_error: 0.0181 - val_loss: 6.3875e-04 - val_root_mean_squared_error: 0.0253\n",
      "Epoch 19/20\n",
      "247/247 [==============================] - 1s 3ms/step - loss: 3.3510e-04 - root_mean_squared_error: 0.0183 - val_loss: 8.0474e-04 - val_root_mean_squared_error: 0.0284\n",
      "Epoch 20/20\n",
      "247/247 [==============================] - 1s 3ms/step - loss: 3.1247e-04 - root_mean_squared_error: 0.0177 - val_loss: 4.6813e-04 - val_root_mean_squared_error: 0.0216\n",
      "RMSE value:  0.016366934643010686\n",
      "Epoch 1/20\n",
      "234/247 [===========================>..] - ETA: 0s - loss: 0.0102 - root_mean_squared_error: 0.1010"
     ]
    },
    {
     "name": "stderr",
     "output_type": "stream",
     "text": [
      "WARNING:absl:Found untraced functions such as lstm_cell_153_layer_call_fn, lstm_cell_153_layer_call_and_return_conditional_losses, lstm_cell_153_layer_call_fn, lstm_cell_153_layer_call_and_return_conditional_losses, lstm_cell_153_layer_call_and_return_conditional_losses while saving (showing 5 of 5). These functions will not be directly callable after loading.\n"
     ]
    },
    {
     "name": "stdout",
     "output_type": "stream",
     "text": [
      "INFO:tensorflow:Assets written to: /Users/yukahatori/A_Fairness/FairnessML_git/LSTM-BasicModel/WeatherModelx/assets\n"
     ]
    },
    {
     "name": "stderr",
     "output_type": "stream",
     "text": [
      "INFO:tensorflow:Assets written to: /Users/yukahatori/A_Fairness/FairnessML_git/LSTM-BasicModel/WeatherModelx/assets\n",
      "WARNING:absl:<keras.layers.recurrent.LSTMCell object at 0x7fd86a61c670> has the same name 'LSTMCell' as a built-in Keras object. Consider renaming <class 'keras.layers.recurrent.LSTMCell'> to avoid naming conflicts when loading with `tf.keras.models.load_model`. If renaming is not possible, pass the object in the `custom_objects` parameter of the load function.\n"
     ]
    },
    {
     "name": "stdout",
     "output_type": "stream",
     "text": [
      "247/247 [==============================] - 6s 19ms/step - loss: 0.0097 - root_mean_squared_error: 0.0987 - val_loss: 0.0044 - val_root_mean_squared_error: 0.0666\n",
      "Epoch 2/20\n",
      "232/247 [===========================>..] - ETA: 0s - loss: 7.0876e-04 - root_mean_squared_error: 0.0266"
     ]
    },
    {
     "name": "stderr",
     "output_type": "stream",
     "text": [
      "WARNING:absl:Found untraced functions such as lstm_cell_153_layer_call_fn, lstm_cell_153_layer_call_and_return_conditional_losses, lstm_cell_153_layer_call_fn, lstm_cell_153_layer_call_and_return_conditional_losses, lstm_cell_153_layer_call_and_return_conditional_losses while saving (showing 5 of 5). These functions will not be directly callable after loading.\n"
     ]
    },
    {
     "name": "stdout",
     "output_type": "stream",
     "text": [
      "INFO:tensorflow:Assets written to: /Users/yukahatori/A_Fairness/FairnessML_git/LSTM-BasicModel/WeatherModelx/assets\n"
     ]
    },
    {
     "name": "stderr",
     "output_type": "stream",
     "text": [
      "INFO:tensorflow:Assets written to: /Users/yukahatori/A_Fairness/FairnessML_git/LSTM-BasicModel/WeatherModelx/assets\n",
      "WARNING:absl:<keras.layers.recurrent.LSTMCell object at 0x7fd86a61c670> has the same name 'LSTMCell' as a built-in Keras object. Consider renaming <class 'keras.layers.recurrent.LSTMCell'> to avoid naming conflicts when loading with `tf.keras.models.load_model`. If renaming is not possible, pass the object in the `custom_objects` parameter of the load function.\n"
     ]
    },
    {
     "name": "stdout",
     "output_type": "stream",
     "text": [
      "247/247 [==============================] - 4s 18ms/step - loss: 7.0930e-04 - root_mean_squared_error: 0.0266 - val_loss: 0.0026 - val_root_mean_squared_error: 0.0508\n",
      "Epoch 3/20\n",
      "233/247 [===========================>..] - ETA: 0s - loss: 5.6726e-04 - root_mean_squared_error: 0.0238"
     ]
    },
    {
     "name": "stderr",
     "output_type": "stream",
     "text": [
      "WARNING:absl:Found untraced functions such as lstm_cell_153_layer_call_fn, lstm_cell_153_layer_call_and_return_conditional_losses, lstm_cell_153_layer_call_fn, lstm_cell_153_layer_call_and_return_conditional_losses, lstm_cell_153_layer_call_and_return_conditional_losses while saving (showing 5 of 5). These functions will not be directly callable after loading.\n"
     ]
    },
    {
     "name": "stdout",
     "output_type": "stream",
     "text": [
      "INFO:tensorflow:Assets written to: /Users/yukahatori/A_Fairness/FairnessML_git/LSTM-BasicModel/WeatherModelx/assets\n"
     ]
    },
    {
     "name": "stderr",
     "output_type": "stream",
     "text": [
      "INFO:tensorflow:Assets written to: /Users/yukahatori/A_Fairness/FairnessML_git/LSTM-BasicModel/WeatherModelx/assets\n",
      "WARNING:absl:<keras.layers.recurrent.LSTMCell object at 0x7fd86a61c670> has the same name 'LSTMCell' as a built-in Keras object. Consider renaming <class 'keras.layers.recurrent.LSTMCell'> to avoid naming conflicts when loading with `tf.keras.models.load_model`. If renaming is not possible, pass the object in the `custom_objects` parameter of the load function.\n"
     ]
    },
    {
     "name": "stdout",
     "output_type": "stream",
     "text": [
      "247/247 [==============================] - 4s 17ms/step - loss: 5.6418e-04 - root_mean_squared_error: 0.0238 - val_loss: 0.0014 - val_root_mean_squared_error: 0.0378\n",
      "Epoch 4/20\n",
      "239/247 [============================>.] - ETA: 0s - loss: 5.0794e-04 - root_mean_squared_error: 0.0225"
     ]
    },
    {
     "name": "stderr",
     "output_type": "stream",
     "text": [
      "WARNING:absl:Found untraced functions such as lstm_cell_153_layer_call_fn, lstm_cell_153_layer_call_and_return_conditional_losses, lstm_cell_153_layer_call_fn, lstm_cell_153_layer_call_and_return_conditional_losses, lstm_cell_153_layer_call_and_return_conditional_losses while saving (showing 5 of 5). These functions will not be directly callable after loading.\n",
      "2022-03-22 07:31:27.578830: W tensorflow/core/framework/op_kernel.cc:1745] OP_REQUIRES failed at save_restore_v2_ops.cc:243 : NOT_FOUND: /Users/yukahatori/A_Fairness/FairnessML_git/LSTM-BasicModel/WeatherModelx/variables/variables_temp/part-00000-of-00001.data-00000-of-00001; No such file or directory\n"
     ]
    },
    {
     "ename": "NotFoundError",
     "evalue": "/Users/yukahatori/A_Fairness/FairnessML_git/LSTM-BasicModel/WeatherModelx/variables/variables_temp/part-00000-of-00001.data-00000-of-00001; No such file or directory [Op:MergeV2Checkpoints]",
     "output_type": "error",
     "traceback": [
      "\u001b[0;31m---------------------------------------------------------------------------\u001b[0m",
      "\u001b[0;31mNotFoundError\u001b[0m                             Traceback (most recent call last)",
      "\u001b[0;32m/var/folders/yv/7r0htvks26q7nhdm7l86zm7m0000gn/T/ipykernel_59448/1325396399.py\u001b[0m in \u001b[0;36m<module>\u001b[0;34m\u001b[0m\n\u001b[1;32m     23\u001b[0m        'HLY_WIND_1STPCT_LA', 'HLY_WIND_2NDDIR_LA', 'HLY_WIND_2NDPCT_LA']\n\u001b[1;32m     24\u001b[0m \u001b[0;34m\u001b[0m\u001b[0m\n\u001b[0;32m---> 25\u001b[0;31m \u001b[0mbestPerformingModel\u001b[0m\u001b[0;34m(\u001b[0m\u001b[0mhowManyFutureHours\u001b[0m\u001b[0;34m,\u001b[0m \u001b[0mwindow_size\u001b[0m\u001b[0;34m,\u001b[0m \u001b[0mnumEpochs\u001b[0m\u001b[0;34m,\u001b[0m \u001b[0miters\u001b[0m\u001b[0;34m,\u001b[0m \u001b[0mcolumnsForDf\u001b[0m\u001b[0;34m,\u001b[0m \u001b[0mcolumns\u001b[0m\u001b[0;34m)\u001b[0m\u001b[0;34m\u001b[0m\u001b[0;34m\u001b[0m\u001b[0m\n\u001b[0m",
      "\u001b[0;32m/var/folders/yv/7r0htvks26q7nhdm7l86zm7m0000gn/T/ipykernel_59448/2879925015.py\u001b[0m in \u001b[0;36mbestPerformingModel\u001b[0;34m(howManyFutureHours, window_size, numEpochs, iters, columnsForDf, columns)\u001b[0m\n\u001b[1;32m      7\u001b[0m     \u001b[0;31m#we only want weather variable prediction, so only pass the correct stuff\u001b[0m\u001b[0;34m\u001b[0m\u001b[0;34m\u001b[0m\u001b[0;34m\u001b[0m\u001b[0m\n\u001b[1;32m      8\u001b[0m \u001b[0;34m\u001b[0m\u001b[0m\n\u001b[0;32m----> 9\u001b[0;31m     \u001b[0mbestWeatherDataModels\u001b[0m \u001b[0;34m=\u001b[0m \u001b[0mgetBestWeatherModels\u001b[0m\u001b[0;34m(\u001b[0m\u001b[0mdf\u001b[0m\u001b[0;34m,\u001b[0m \u001b[0mwindow_size\u001b[0m\u001b[0;34m,\u001b[0m \u001b[0mcolumns\u001b[0m\u001b[0;34m,\u001b[0m \u001b[0mnumEpochs\u001b[0m\u001b[0;34m,\u001b[0m \u001b[0miters\u001b[0m\u001b[0;34m)\u001b[0m\u001b[0;34m\u001b[0m\u001b[0;34m\u001b[0m\u001b[0m\n\u001b[0m\u001b[1;32m     10\u001b[0m \u001b[0;34m\u001b[0m\u001b[0m\n\u001b[1;32m     11\u001b[0m     \u001b[0;31m#save the models\u001b[0m\u001b[0;34m\u001b[0m\u001b[0;34m\u001b[0m\u001b[0;34m\u001b[0m\u001b[0m\n",
      "\u001b[0;32m/var/folders/yv/7r0htvks26q7nhdm7l86zm7m0000gn/T/ipykernel_59448/2485346764.py\u001b[0m in \u001b[0;36mgetBestWeatherModels\u001b[0;34m(df, window_size, columns, numEpochs, iters)\u001b[0m\n\u001b[1;32m      4\u001b[0m         \u001b[0mgetBestOneVar\u001b[0m \u001b[0;34m=\u001b[0m \u001b[0;34m{\u001b[0m\u001b[0;34m}\u001b[0m\u001b[0;34m\u001b[0m\u001b[0;34m\u001b[0m\u001b[0m\n\u001b[1;32m      5\u001b[0m         \u001b[0;32mfor\u001b[0m \u001b[0mi\u001b[0m \u001b[0;32min\u001b[0m \u001b[0mrange\u001b[0m\u001b[0;34m(\u001b[0m\u001b[0miters\u001b[0m\u001b[0;34m)\u001b[0m\u001b[0;34m:\u001b[0m\u001b[0;34m\u001b[0m\u001b[0;34m\u001b[0m\u001b[0m\n\u001b[0;32m----> 6\u001b[0;31m             \u001b[0mrmse\u001b[0m\u001b[0;34m,\u001b[0m \u001b[0mmodel\u001b[0m \u001b[0;34m=\u001b[0m \u001b[0mweatherVariableModel\u001b[0m\u001b[0;34m(\u001b[0m\u001b[0mdf\u001b[0m\u001b[0;34m,\u001b[0m \u001b[0mwindow_size\u001b[0m\u001b[0;34m,\u001b[0m \u001b[0mcolumn\u001b[0m\u001b[0;34m,\u001b[0m \u001b[0mnumEpochs\u001b[0m\u001b[0;34m)\u001b[0m\u001b[0;34m\u001b[0m\u001b[0;34m\u001b[0m\u001b[0m\n\u001b[0m\u001b[1;32m      7\u001b[0m             \u001b[0mgetBestOneVar\u001b[0m\u001b[0;34m.\u001b[0m\u001b[0mupdate\u001b[0m\u001b[0;34m(\u001b[0m\u001b[0;34m{\u001b[0m\u001b[0mrmse\u001b[0m\u001b[0;34m:\u001b[0m\u001b[0mmodel\u001b[0m\u001b[0;34m}\u001b[0m\u001b[0;34m)\u001b[0m\u001b[0;34m\u001b[0m\u001b[0;34m\u001b[0m\u001b[0m\n\u001b[1;32m      8\u001b[0m         \u001b[0;31m#now store the best one for that variables\u001b[0m\u001b[0;34m\u001b[0m\u001b[0;34m\u001b[0m\u001b[0;34m\u001b[0m\u001b[0m\n",
      "\u001b[0;32m/var/folders/yv/7r0htvks26q7nhdm7l86zm7m0000gn/T/ipykernel_59448/2355575175.py\u001b[0m in \u001b[0;36mweatherVariableModel\u001b[0;34m(df, window_size, column, numEpochs)\u001b[0m\n\u001b[1;32m     33\u001b[0m     \u001b[0mmodelx\u001b[0m\u001b[0;34m.\u001b[0m\u001b[0mcompile\u001b[0m\u001b[0;34m(\u001b[0m\u001b[0mloss\u001b[0m \u001b[0;34m=\u001b[0m \u001b[0mMeanSquaredError\u001b[0m\u001b[0;34m(\u001b[0m\u001b[0;34m)\u001b[0m\u001b[0;34m,\u001b[0m \u001b[0moptimizer\u001b[0m \u001b[0;34m=\u001b[0m \u001b[0mAdam\u001b[0m\u001b[0;34m(\u001b[0m\u001b[0;34m)\u001b[0m\u001b[0;34m,\u001b[0m \u001b[0mmetrics\u001b[0m \u001b[0;34m=\u001b[0m \u001b[0;34m[\u001b[0m\u001b[0mRootMeanSquaredError\u001b[0m\u001b[0;34m(\u001b[0m\u001b[0;34m)\u001b[0m\u001b[0;34m]\u001b[0m\u001b[0;34m)\u001b[0m\u001b[0;34m\u001b[0m\u001b[0;34m\u001b[0m\u001b[0m\n\u001b[1;32m     34\u001b[0m \u001b[0;34m\u001b[0m\u001b[0m\n\u001b[0;32m---> 35\u001b[0;31m     \u001b[0mmodelx\u001b[0m\u001b[0;34m.\u001b[0m\u001b[0mfit\u001b[0m\u001b[0;34m(\u001b[0m\u001b[0mX_train1\u001b[0m\u001b[0;34m,\u001b[0m \u001b[0my_train1\u001b[0m\u001b[0;34m,\u001b[0m \u001b[0mvalidation_data\u001b[0m\u001b[0;34m=\u001b[0m\u001b[0;34m(\u001b[0m\u001b[0mX_val1\u001b[0m\u001b[0;34m,\u001b[0m \u001b[0my_val1\u001b[0m\u001b[0;34m)\u001b[0m\u001b[0;34m,\u001b[0m \u001b[0mepochs\u001b[0m \u001b[0;34m=\u001b[0m \u001b[0mnumEpochs\u001b[0m\u001b[0;34m,\u001b[0m \u001b[0mcallbacks\u001b[0m \u001b[0;34m=\u001b[0m \u001b[0;34m[\u001b[0m\u001b[0mcpx\u001b[0m\u001b[0;34m]\u001b[0m\u001b[0;34m)\u001b[0m\u001b[0;34m\u001b[0m\u001b[0;34m\u001b[0m\u001b[0m\n\u001b[0m\u001b[1;32m     36\u001b[0m     \u001b[0mtrain_predictions\u001b[0m \u001b[0;34m=\u001b[0m \u001b[0mmodelx\u001b[0m\u001b[0;34m.\u001b[0m\u001b[0mpredict\u001b[0m\u001b[0;34m(\u001b[0m\u001b[0mX_train1\u001b[0m\u001b[0;34m)\u001b[0m\u001b[0;34m.\u001b[0m\u001b[0mflatten\u001b[0m\u001b[0;34m(\u001b[0m\u001b[0;34m)\u001b[0m\u001b[0;34m\u001b[0m\u001b[0;34m\u001b[0m\u001b[0m\n\u001b[1;32m     37\u001b[0m     \u001b[0mrmse\u001b[0m \u001b[0;34m=\u001b[0m \u001b[0mmean_squared_error\u001b[0m\u001b[0;34m(\u001b[0m\u001b[0mtrain_predictions\u001b[0m\u001b[0;34m,\u001b[0m \u001b[0my_train1\u001b[0m\u001b[0;34m,\u001b[0m \u001b[0msquared\u001b[0m\u001b[0;34m=\u001b[0m\u001b[0;32mFalse\u001b[0m\u001b[0;34m)\u001b[0m\u001b[0;34m\u001b[0m\u001b[0;34m\u001b[0m\u001b[0m\n",
      "\u001b[0;32m/opt/anaconda3/lib/python3.8/site-packages/keras/utils/traceback_utils.py\u001b[0m in \u001b[0;36merror_handler\u001b[0;34m(*args, **kwargs)\u001b[0m\n\u001b[1;32m     65\u001b[0m     \u001b[0;32mexcept\u001b[0m \u001b[0mException\u001b[0m \u001b[0;32mas\u001b[0m \u001b[0me\u001b[0m\u001b[0;34m:\u001b[0m  \u001b[0;31m# pylint: disable=broad-except\u001b[0m\u001b[0;34m\u001b[0m\u001b[0;34m\u001b[0m\u001b[0m\n\u001b[1;32m     66\u001b[0m       \u001b[0mfiltered_tb\u001b[0m \u001b[0;34m=\u001b[0m \u001b[0m_process_traceback_frames\u001b[0m\u001b[0;34m(\u001b[0m\u001b[0me\u001b[0m\u001b[0;34m.\u001b[0m\u001b[0m__traceback__\u001b[0m\u001b[0;34m)\u001b[0m\u001b[0;34m\u001b[0m\u001b[0;34m\u001b[0m\u001b[0m\n\u001b[0;32m---> 67\u001b[0;31m       \u001b[0;32mraise\u001b[0m \u001b[0me\u001b[0m\u001b[0;34m.\u001b[0m\u001b[0mwith_traceback\u001b[0m\u001b[0;34m(\u001b[0m\u001b[0mfiltered_tb\u001b[0m\u001b[0;34m)\u001b[0m \u001b[0;32mfrom\u001b[0m \u001b[0;32mNone\u001b[0m\u001b[0;34m\u001b[0m\u001b[0;34m\u001b[0m\u001b[0m\n\u001b[0m\u001b[1;32m     68\u001b[0m     \u001b[0;32mfinally\u001b[0m\u001b[0;34m:\u001b[0m\u001b[0;34m\u001b[0m\u001b[0;34m\u001b[0m\u001b[0m\n\u001b[1;32m     69\u001b[0m       \u001b[0;32mdel\u001b[0m \u001b[0mfiltered_tb\u001b[0m\u001b[0;34m\u001b[0m\u001b[0;34m\u001b[0m\u001b[0m\n",
      "\u001b[0;32m/opt/anaconda3/lib/python3.8/site-packages/tensorflow/python/eager/execute.py\u001b[0m in \u001b[0;36mquick_execute\u001b[0;34m(op_name, num_outputs, inputs, attrs, ctx, name)\u001b[0m\n\u001b[1;32m     56\u001b[0m   \u001b[0;32mtry\u001b[0m\u001b[0;34m:\u001b[0m\u001b[0;34m\u001b[0m\u001b[0;34m\u001b[0m\u001b[0m\n\u001b[1;32m     57\u001b[0m     \u001b[0mctx\u001b[0m\u001b[0;34m.\u001b[0m\u001b[0mensure_initialized\u001b[0m\u001b[0;34m(\u001b[0m\u001b[0;34m)\u001b[0m\u001b[0;34m\u001b[0m\u001b[0;34m\u001b[0m\u001b[0m\n\u001b[0;32m---> 58\u001b[0;31m     tensors = pywrap_tfe.TFE_Py_Execute(ctx._handle, device_name, op_name,\n\u001b[0m\u001b[1;32m     59\u001b[0m                                         inputs, attrs, num_outputs)\n\u001b[1;32m     60\u001b[0m   \u001b[0;32mexcept\u001b[0m \u001b[0mcore\u001b[0m\u001b[0;34m.\u001b[0m\u001b[0m_NotOkStatusException\u001b[0m \u001b[0;32mas\u001b[0m \u001b[0me\u001b[0m\u001b[0;34m:\u001b[0m\u001b[0;34m\u001b[0m\u001b[0;34m\u001b[0m\u001b[0m\n",
      "\u001b[0;31mNotFoundError\u001b[0m: /Users/yukahatori/A_Fairness/FairnessML_git/LSTM-BasicModel/WeatherModelx/variables/variables_temp/part-00000-of-00001.data-00000-of-00001; No such file or directory [Op:MergeV2Checkpoints]"
     ]
    }
   ],
   "source": [
    "howManyFutureHours = 24\n",
    "window_size = 3\n",
    "numEpochs = 20\n",
    "iters = 5\n",
    "columnsForDf = ['HLY_TEMP_NORMAL_LA', 'HLY_TEMP_10PCTL_LA',\n",
    "       'HLY_TEMP_90PCTL_LA', 'HLY_DEWP_NORMAL_LA', 'HLY_DEWP_10PCTL_LA',\n",
    "       'HLY_DEWP_90PCTL_LA', 'HLY_PRES_NORMAL_LA', 'HLY_PRES_10PCTL_LA',\n",
    "       'HLY_PRES_90PCTL_LA', 'HLY_CLDH_NORMAL_LA', 'HLY_HTDH_NORMAL_LA',\n",
    "       'HLY_CLOD_PCTCLR_LA', 'HLY_CLOD_PCTFEW_LA', 'HLY_CLOD_PCTSCT_LA',\n",
    "       'HLY_CLOD_PCTBKN_LA', 'HLY_CLOD_PCTOVC_LA', 'HLY_HIDX_NORMAL_LA',\n",
    "       'HLY_WCHL_NORMAL_LA', 'HLY_WIND_AVGSPD_LA', 'HLY_WIND_PCTCLM_LA',\n",
    "       'HLY_WIND_VCTDIR_LA', 'HLY_WIND_VCTSPD_LA', 'HLY_WIND_1STDIR_LA',\n",
    "       'HLY_WIND_1STPCT_LA', 'HLY_WIND_2NDDIR_LA', 'HLY_WIND_2NDPCT_LA',\n",
    "        'Day sin', 'Day cos', 'Year sin', 'Year cos','Megawatts_2019']\n",
    "columns = ['HLY_TEMP_NORMAL_LA', 'HLY_TEMP_10PCTL_LA',\n",
    "       'HLY_TEMP_90PCTL_LA', 'HLY_DEWP_NORMAL_LA', 'HLY_DEWP_10PCTL_LA',\n",
    "       'HLY_DEWP_90PCTL_LA', 'HLY_PRES_NORMAL_LA', 'HLY_PRES_10PCTL_LA',\n",
    "       'HLY_PRES_90PCTL_LA', 'HLY_CLDH_NORMAL_LA', 'HLY_HTDH_NORMAL_LA',\n",
    "       'HLY_CLOD_PCTCLR_LA', 'HLY_CLOD_PCTFEW_LA', 'HLY_CLOD_PCTSCT_LA',\n",
    "       'HLY_CLOD_PCTBKN_LA', 'HLY_CLOD_PCTOVC_LA', 'HLY_HIDX_NORMAL_LA',\n",
    "       'HLY_WCHL_NORMAL_LA', 'HLY_WIND_AVGSPD_LA', 'HLY_WIND_PCTCLM_LA',\n",
    "       'HLY_WIND_VCTDIR_LA', 'HLY_WIND_VCTSPD_LA', 'HLY_WIND_1STDIR_LA',\n",
    "       'HLY_WIND_1STPCT_LA', 'HLY_WIND_2NDDIR_LA', 'HLY_WIND_2NDPCT_LA']\n",
    "\n",
    "bestPerformingModel(howManyFutureHours, window_size, numEpochs, iters, columnsForDf, columns)"
   ]
  },
  {
   "cell_type": "code",
   "execution_count": 16,
   "id": "8758dfb7",
   "metadata": {},
   "outputs": [
    {
     "name": "stdout",
     "output_type": "stream",
     "text": [
      "SAC-NOAA-and-Megawatts.csv\n",
      "SD-NOAA-and-Megawatts.csv\n",
      "SF-NOAA-and-Megawatts.csv\n",
      "LA-NOAA-and-Megawatts.csv\n",
      "fileRead:  /Users/yukahatori/A_Fairness/FairnessML_git/NOAA_and_CAISO_Data_ONEYEAR/LA-NOAA-and-Megawatts.csv\n"
     ]
    }
   ],
   "source": [
    "directory = '/Users/yukahatori/A_Fairness/FairnessML_git/NOAA_and_CAISO_Data_ONEYEAR/'\n",
    "dataFiles = [f for f in listdir(directory) if isfile(join(directory, f))] \n",
    "for file in dataFiles:\n",
    "    print(file)\n",
    "    df = pd.read_csv(directory + file)\n",
    "\n",
    "#for now, I will only use SF data \n",
    "location = '_LA'\n",
    "fileRead = directory + dataFiles[3]\n",
    "print('fileRead: ', fileRead)\n",
    "df = pd.read_csv(fileRead)"
   ]
  },
  {
   "cell_type": "code",
   "execution_count": 17,
   "id": "ea8c40ac",
   "metadata": {},
   "outputs": [
    {
     "data": {
      "text/plain": [
       "Index(['date', 'HLY_TEMP_NORMAL_LA', 'HLY_TEMP_10PCTL_LA',\n",
       "       'HLY_TEMP_90PCTL_LA', 'HLY_DEWP_NORMAL_LA', 'HLY_DEWP_10PCTL_LA',\n",
       "       'HLY_DEWP_90PCTL_LA', 'HLY_PRES_NORMAL_LA', 'HLY_PRES_10PCTL_LA',\n",
       "       'HLY_PRES_90PCTL_LA', 'HLY_CLDH_NORMAL_LA', 'HLY_HTDH_NORMAL_LA',\n",
       "       'HLY_CLOD_PCTCLR_LA', 'HLY_CLOD_PCTFEW_LA', 'HLY_CLOD_PCTSCT_LA',\n",
       "       'HLY_CLOD_PCTBKN_LA', 'HLY_CLOD_PCTOVC_LA', 'HLY_HIDX_NORMAL_LA',\n",
       "       'HLY_WCHL_NORMAL_LA', 'HLY_WIND_AVGSPD_LA', 'HLY_WIND_PCTCLM_LA',\n",
       "       'HLY_WIND_VCTDIR_LA', 'HLY_WIND_VCTSPD_LA', 'HLY_WIND_1STDIR_LA',\n",
       "       'HLY_WIND_1STPCT_LA', 'HLY_WIND_2NDDIR_LA', 'HLY_WIND_2NDPCT_LA',\n",
       "       'Megawatts_2019'],\n",
       "      dtype='object')"
      ]
     },
     "execution_count": 17,
     "metadata": {},
     "output_type": "execute_result"
    }
   ],
   "source": [
    "df.columns"
   ]
  },
  {
   "cell_type": "code",
   "execution_count": null,
   "id": "3d54fa26",
   "metadata": {},
   "outputs": [],
   "source": [
    "['date', 'HLY_TEMP_NORMAL_SD', 'HLY_TEMP_10PCTL_SD',\n",
    "       'HLY_TEMP_90PCTL_SD', 'HLY_DEWP_NORMAL_SD', 'HLY_DEWP_10PCTL_SD',\n",
    "       'HLY_DEWP_90PCTL_SD', 'HLY_PRES_NORMAL_SD', 'HLY_PRES_10PCTL_SD',\n",
    "       'HLY_PRES_90PCTL_SD', 'HLY_CLDH_NORMAL_SD', 'HLY_HTDH_NORMAL_SD',\n",
    "       'HLY_CLOD_PCTCLR_SD', 'HLY_CLOD_PCTFEW_SD', 'HLY_CLOD_PCTSCT_SD',\n",
    "       'HLY_CLOD_PCTBKN_SD', 'HLY_CLOD_PCTOVC_SD', 'HLY_HIDX_NORMAL_SD',\n",
    "       'HLY_WCHL_NORMAL_SD', 'HLY_WIND_AVGSPD_SD', 'HLY_WIND_PCTCLM_SD',\n",
    "       'HLY_WIND_VCTDIR_SD', 'HLY_WIND_VCTSPD_SD', 'HLY_WIND_1STDIR_SD',\n",
    "       'HLY_WIND_1STPCT_SD', 'HLY_WIND_2NDDIR_SD', 'HLY_WIND_2NDPCT_SD',\n",
    "       'Megawatts_2019']"
   ]
  }
 ],
 "metadata": {
  "kernelspec": {
   "display_name": "Python 3 (ipykernel)",
   "language": "python",
   "name": "python3"
  },
  "language_info": {
   "codemirror_mode": {
    "name": "ipython",
    "version": 3
   },
   "file_extension": ".py",
   "mimetype": "text/x-python",
   "name": "python",
   "nbconvert_exporter": "python",
   "pygments_lexer": "ipython3",
   "version": "3.8.8"
  }
 },
 "nbformat": 4,
 "nbformat_minor": 5
}

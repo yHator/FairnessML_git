{
 "cells": [
  {
   "cell_type": "markdown",
   "id": "d6a01446",
   "metadata": {},
   "source": [
    "# Purpose\n",
    "\n",
    "I am putting the NOAA and CAISO data in one file. Every CAISO file is the megawatts per day. I will append that data to the NOAA's (1 year overview) of weather data. However, CAISO doesn't have all full years of data. \n",
    "\n",
    "EX: 01-01 has 2019, 2020, 2021, 2022 data.\n",
    "EX: 12-31 has 2018, 2019, 2020, 2021 data.\n",
    "\n",
    "so what the csv file will look like\n",
    "\n",
    "        tmp 1- tmp 2 - tmp 3 - megawatt 2019 - megawatt 2020 - etc.\n",
    "-------------------------------------------------------------------------------\n",
    "01-01 -- "
   ]
  },
  {
   "cell_type": "code",
   "execution_count": 12,
   "id": "df33acdf",
   "metadata": {},
   "outputs": [],
   "source": [
    "import pandas as pd\n",
    "import os\n",
    "import numpy as np\n",
    "from os import listdir\n",
    "from os.path import isfile, join"
   ]
  },
  {
   "cell_type": "markdown",
   "id": "e770b55f",
   "metadata": {},
   "source": [
    "# sorting CAISO files\n",
    "\n",
    "Making a dictionary. The keys are the dates. The elements are a list of the files that have megawatt data for that day."
   ]
  },
  {
   "cell_type": "code",
   "execution_count": 13,
   "id": "d722b045",
   "metadata": {},
   "outputs": [
    {
     "name": "stdout",
     "output_type": "stream",
     "text": [
      "len of 2018:  266\n",
      "len of 2019:  365\n",
      "len of 2020:  365\n",
      "len of 2021:  365\n",
      "len of 2022:  44\n"
     ]
    }
   ],
   "source": [
    "CAISO_directory = '/Users/yukahatori/A_Fairness/FairnessML_git/CAISO_NetDemand_Megawatts/'\n",
    "os.chdir(CAISO_directory)\n",
    "CAISOFiles = [f for f in listdir(CAISO_directory) if isfile(join(CAISO_directory, f))] \n",
    "CAISOFiles = sorted(CAISOFiles)\n",
    "files_2018 = []\n",
    "files_2019 = []\n",
    "files_2020 = []\n",
    "files_2021 = []\n",
    "files_2022 = []\n",
    "for file in CAISOFiles:\n",
    "    if file[16:20] == '2018':\n",
    "        files_2018.append(file)\n",
    "    elif file[16:20] == '2019':\n",
    "        files_2019.append(file)\n",
    "    elif file[16:20] == '2020':\n",
    "        files_2020.append(file)\n",
    "    elif file[16:20] == '2021':\n",
    "        files_2021.append(file)\n",
    "    elif file[16:20] == '2022':\n",
    "        files_2022.append(file)\n",
    "\n",
    "# 2018 is from 04-10 --> 12-31\n",
    "print(\"len of 2018: \", len(files_2018))\n",
    "# 2019 is from 01-01 --> 12-31\n",
    "print(\"len of 2019: \", len(files_2019))\n",
    "# 2020 is from 01-01 --> 12-31\n",
    "print(\"len of 2020: \", len(files_2020))\n",
    "# 2021 is from 01-01 --> 12-31\n",
    "print(\"len of 2021: \", len(files_2021))\n",
    "#2022 is from 01-01 --> 02-14\n",
    "print(\"len of 2022: \", len(files_2022))\n",
    "\n",
    "files_2019 = sorted(files_2019)\n",
    "files_2020 = sorted(files_2020)\n",
    "files_2021 = sorted(files_2021)\n",
    "#problem years are 2018 and 2022, since they are not a full year of data\n",
    "# files_dict = {}\n",
    "\n",
    "# j = 0\n",
    "# for i in range(0, len(files_2019)):\n",
    "#     thatDay = []\n",
    "#     thatDay.append(files_2019[j])\n",
    "#     thatDay.append(files_2020[j])\n",
    "#     thatDay.append(files_2021[j])\n",
    "#     date = files_2021[j][20:24]\n",
    "#     files_dict.update({date : thatDay})\n",
    "#     j+=1\n",
    "\n",
    "\n",
    "# for i in range(len(files_2018)):\n",
    "#     key = files_2018[i][20:24]\n",
    "#     files_dict[key].append(files_2018[i])\n",
    "\n",
    "# for i in range(len(files_2022)):\n",
    "#     key = files_2022[i][20:24]\n",
    "#     files_dict[key].append(files_2022[i])\n",
    "\n",
    "# files_dict"
   ]
  },
  {
   "cell_type": "markdown",
   "id": "39bc4900",
   "metadata": {},
   "source": [
    "# Hello!\n",
    "\n",
    "instead, I will be doing this: for full years (I haven't considered 2018 and 2022 yet) I will be appending every day below. Then I will put all the megawatts data together. Then, I attach it to the NOAA file. "
   ]
  },
  {
   "cell_type": "code",
   "execution_count": 14,
   "id": "d541d630",
   "metadata": {},
   "outputs": [],
   "source": [
    "directory = '/Users/yukahatori/A_Fairness/FairnessML_git/CAISO_NetDemand_Megawatts/'\n",
    "\n",
    "def yearlyMegawatts(year, files_year):\n",
    "    files = []\n",
    "    for file in files_year:\n",
    "        oneDay = pd.read_csv(directory + file)\n",
    "        files.append(oneDay)\n",
    "\n",
    "    files = pd.concat(files, ignore_index = True)\n",
    "    files = files.drop(columns = ['date'])\n",
    "    print(files.columns)\n",
    "    files.columns = ['Megawatts'+'_'+year]\n",
    "    return files\n",
    "\n",
    "# megawatts_2019 = yearlyMegawatts('2019', files_2019)\n",
    "# megawatts_2020 = yearlyMegawatts('2020', files_2020)\n",
    "# megawatts_2021 = yearlyMegawatts('2021', files_2021)"
   ]
  },
  {
   "cell_type": "code",
   "execution_count": 15,
   "id": "1005ca14",
   "metadata": {},
   "outputs": [
    {
     "ename": "KeyError",
     "evalue": "'date'",
     "output_type": "error",
     "traceback": [
      "\u001b[0;31m---------------------------------------------------------------------------\u001b[0m",
      "\u001b[0;31mKeyError\u001b[0m                                  Traceback (most recent call last)",
      "\u001b[0;32m/opt/anaconda3/lib/python3.8/site-packages/pandas/core/indexes/base.py\u001b[0m in \u001b[0;36mget_loc\u001b[0;34m(self, key, method, tolerance)\u001b[0m\n\u001b[1;32m   3360\u001b[0m             \u001b[0;32mtry\u001b[0m\u001b[0;34m:\u001b[0m\u001b[0;34m\u001b[0m\u001b[0;34m\u001b[0m\u001b[0m\n\u001b[0;32m-> 3361\u001b[0;31m                 \u001b[0;32mreturn\u001b[0m \u001b[0mself\u001b[0m\u001b[0;34m.\u001b[0m\u001b[0m_engine\u001b[0m\u001b[0;34m.\u001b[0m\u001b[0mget_loc\u001b[0m\u001b[0;34m(\u001b[0m\u001b[0mcasted_key\u001b[0m\u001b[0;34m)\u001b[0m\u001b[0;34m\u001b[0m\u001b[0;34m\u001b[0m\u001b[0m\n\u001b[0m\u001b[1;32m   3362\u001b[0m             \u001b[0;32mexcept\u001b[0m \u001b[0mKeyError\u001b[0m \u001b[0;32mas\u001b[0m \u001b[0merr\u001b[0m\u001b[0;34m:\u001b[0m\u001b[0;34m\u001b[0m\u001b[0;34m\u001b[0m\u001b[0m\n",
      "\u001b[0;32m/opt/anaconda3/lib/python3.8/site-packages/pandas/_libs/index.pyx\u001b[0m in \u001b[0;36mpandas._libs.index.IndexEngine.get_loc\u001b[0;34m()\u001b[0m\n",
      "\u001b[0;32m/opt/anaconda3/lib/python3.8/site-packages/pandas/_libs/index.pyx\u001b[0m in \u001b[0;36mpandas._libs.index.IndexEngine.get_loc\u001b[0;34m()\u001b[0m\n",
      "\u001b[0;32mpandas/_libs/hashtable_class_helper.pxi\u001b[0m in \u001b[0;36mpandas._libs.hashtable.PyObjectHashTable.get_item\u001b[0;34m()\u001b[0m\n",
      "\u001b[0;32mpandas/_libs/hashtable_class_helper.pxi\u001b[0m in \u001b[0;36mpandas._libs.hashtable.PyObjectHashTable.get_item\u001b[0;34m()\u001b[0m\n",
      "\u001b[0;31mKeyError\u001b[0m: 'date'",
      "\nThe above exception was the direct cause of the following exception:\n",
      "\u001b[0;31mKeyError\u001b[0m                                  Traceback (most recent call last)",
      "\u001b[0;32m/var/folders/yv/7r0htvks26q7nhdm7l86zm7m0000gn/T/ipykernel_12474/2862186522.py\u001b[0m in \u001b[0;36m<module>\u001b[0;34m\u001b[0m\n\u001b[0;32m----> 1\u001b[0;31m \u001b[0mprint\u001b[0m\u001b[0;34m(\u001b[0m\u001b[0mmegawatts_2019\u001b[0m\u001b[0;34m[\u001b[0m\u001b[0;34m'date'\u001b[0m\u001b[0;34m]\u001b[0m\u001b[0;34m[\u001b[0m\u001b[0;36m0\u001b[0m\u001b[0;34m]\u001b[0m\u001b[0;34m[\u001b[0m\u001b[0;36m6\u001b[0m\u001b[0;34m:\u001b[0m\u001b[0;34m]\u001b[0m\u001b[0;34m)\u001b[0m\u001b[0;34m\u001b[0m\u001b[0;34m\u001b[0m\u001b[0m\n\u001b[0m\u001b[1;32m      2\u001b[0m \u001b[0mprint\u001b[0m\u001b[0;34m(\u001b[0m\u001b[0mmegawatts_2020\u001b[0m\u001b[0;34m[\u001b[0m\u001b[0;34m'date'\u001b[0m\u001b[0;34m]\u001b[0m\u001b[0;34m[\u001b[0m\u001b[0;36m0\u001b[0m\u001b[0;34m]\u001b[0m\u001b[0;34m[\u001b[0m\u001b[0;36m6\u001b[0m\u001b[0;34m:\u001b[0m\u001b[0;34m]\u001b[0m\u001b[0;34m)\u001b[0m\u001b[0;34m\u001b[0m\u001b[0;34m\u001b[0m\u001b[0m\n\u001b[1;32m      3\u001b[0m \u001b[0;32mfor\u001b[0m \u001b[0mi\u001b[0m \u001b[0;32min\u001b[0m \u001b[0mrange\u001b[0m\u001b[0;34m(\u001b[0m\u001b[0mlen\u001b[0m\u001b[0;34m(\u001b[0m\u001b[0mmegawatts_2020\u001b[0m\u001b[0;34m)\u001b[0m\u001b[0;34m)\u001b[0m\u001b[0;34m:\u001b[0m\u001b[0;34m\u001b[0m\u001b[0;34m\u001b[0m\u001b[0m\n\u001b[1;32m      4\u001b[0m     \u001b[0;32mif\u001b[0m \u001b[0mmegawatts_2019\u001b[0m\u001b[0;34m[\u001b[0m\u001b[0;34m'date'\u001b[0m\u001b[0;34m]\u001b[0m\u001b[0;34m[\u001b[0m\u001b[0mi\u001b[0m\u001b[0;34m]\u001b[0m\u001b[0;34m[\u001b[0m\u001b[0;36m6\u001b[0m\u001b[0;34m:\u001b[0m\u001b[0;34m]\u001b[0m \u001b[0;34m!=\u001b[0m \u001b[0mmegawatts_2020\u001b[0m\u001b[0;34m[\u001b[0m\u001b[0;34m'date'\u001b[0m\u001b[0;34m]\u001b[0m\u001b[0;34m[\u001b[0m\u001b[0mi\u001b[0m\u001b[0;34m]\u001b[0m\u001b[0;34m[\u001b[0m\u001b[0;36m6\u001b[0m\u001b[0;34m:\u001b[0m\u001b[0;34m]\u001b[0m\u001b[0;34m:\u001b[0m\u001b[0;34m\u001b[0m\u001b[0;34m\u001b[0m\u001b[0m\n\u001b[1;32m      5\u001b[0m         \u001b[0mprint\u001b[0m\u001b[0;34m(\u001b[0m\u001b[0;34m\"not equal. i is: \"\u001b[0m\u001b[0;34m,\u001b[0m \u001b[0mi\u001b[0m\u001b[0;34m)\u001b[0m\u001b[0;34m\u001b[0m\u001b[0;34m\u001b[0m\u001b[0m\n",
      "\u001b[0;32m/opt/anaconda3/lib/python3.8/site-packages/pandas/core/frame.py\u001b[0m in \u001b[0;36m__getitem__\u001b[0;34m(self, key)\u001b[0m\n\u001b[1;32m   3456\u001b[0m             \u001b[0;32mif\u001b[0m \u001b[0mself\u001b[0m\u001b[0;34m.\u001b[0m\u001b[0mcolumns\u001b[0m\u001b[0;34m.\u001b[0m\u001b[0mnlevels\u001b[0m \u001b[0;34m>\u001b[0m \u001b[0;36m1\u001b[0m\u001b[0;34m:\u001b[0m\u001b[0;34m\u001b[0m\u001b[0;34m\u001b[0m\u001b[0m\n\u001b[1;32m   3457\u001b[0m                 \u001b[0;32mreturn\u001b[0m \u001b[0mself\u001b[0m\u001b[0;34m.\u001b[0m\u001b[0m_getitem_multilevel\u001b[0m\u001b[0;34m(\u001b[0m\u001b[0mkey\u001b[0m\u001b[0;34m)\u001b[0m\u001b[0;34m\u001b[0m\u001b[0;34m\u001b[0m\u001b[0m\n\u001b[0;32m-> 3458\u001b[0;31m             \u001b[0mindexer\u001b[0m \u001b[0;34m=\u001b[0m \u001b[0mself\u001b[0m\u001b[0;34m.\u001b[0m\u001b[0mcolumns\u001b[0m\u001b[0;34m.\u001b[0m\u001b[0mget_loc\u001b[0m\u001b[0;34m(\u001b[0m\u001b[0mkey\u001b[0m\u001b[0;34m)\u001b[0m\u001b[0;34m\u001b[0m\u001b[0;34m\u001b[0m\u001b[0m\n\u001b[0m\u001b[1;32m   3459\u001b[0m             \u001b[0;32mif\u001b[0m \u001b[0mis_integer\u001b[0m\u001b[0;34m(\u001b[0m\u001b[0mindexer\u001b[0m\u001b[0;34m)\u001b[0m\u001b[0;34m:\u001b[0m\u001b[0;34m\u001b[0m\u001b[0;34m\u001b[0m\u001b[0m\n\u001b[1;32m   3460\u001b[0m                 \u001b[0mindexer\u001b[0m \u001b[0;34m=\u001b[0m \u001b[0;34m[\u001b[0m\u001b[0mindexer\u001b[0m\u001b[0;34m]\u001b[0m\u001b[0;34m\u001b[0m\u001b[0;34m\u001b[0m\u001b[0m\n",
      "\u001b[0;32m/opt/anaconda3/lib/python3.8/site-packages/pandas/core/indexes/base.py\u001b[0m in \u001b[0;36mget_loc\u001b[0;34m(self, key, method, tolerance)\u001b[0m\n\u001b[1;32m   3361\u001b[0m                 \u001b[0;32mreturn\u001b[0m \u001b[0mself\u001b[0m\u001b[0;34m.\u001b[0m\u001b[0m_engine\u001b[0m\u001b[0;34m.\u001b[0m\u001b[0mget_loc\u001b[0m\u001b[0;34m(\u001b[0m\u001b[0mcasted_key\u001b[0m\u001b[0;34m)\u001b[0m\u001b[0;34m\u001b[0m\u001b[0;34m\u001b[0m\u001b[0m\n\u001b[1;32m   3362\u001b[0m             \u001b[0;32mexcept\u001b[0m \u001b[0mKeyError\u001b[0m \u001b[0;32mas\u001b[0m \u001b[0merr\u001b[0m\u001b[0;34m:\u001b[0m\u001b[0;34m\u001b[0m\u001b[0;34m\u001b[0m\u001b[0m\n\u001b[0;32m-> 3363\u001b[0;31m                 \u001b[0;32mraise\u001b[0m \u001b[0mKeyError\u001b[0m\u001b[0;34m(\u001b[0m\u001b[0mkey\u001b[0m\u001b[0;34m)\u001b[0m \u001b[0;32mfrom\u001b[0m \u001b[0merr\u001b[0m\u001b[0;34m\u001b[0m\u001b[0;34m\u001b[0m\u001b[0m\n\u001b[0m\u001b[1;32m   3364\u001b[0m \u001b[0;34m\u001b[0m\u001b[0m\n\u001b[1;32m   3365\u001b[0m         \u001b[0;32mif\u001b[0m \u001b[0mis_scalar\u001b[0m\u001b[0;34m(\u001b[0m\u001b[0mkey\u001b[0m\u001b[0;34m)\u001b[0m \u001b[0;32mand\u001b[0m \u001b[0misna\u001b[0m\u001b[0;34m(\u001b[0m\u001b[0mkey\u001b[0m\u001b[0;34m)\u001b[0m \u001b[0;32mand\u001b[0m \u001b[0;32mnot\u001b[0m \u001b[0mself\u001b[0m\u001b[0;34m.\u001b[0m\u001b[0mhasnans\u001b[0m\u001b[0;34m:\u001b[0m\u001b[0;34m\u001b[0m\u001b[0;34m\u001b[0m\u001b[0m\n",
      "\u001b[0;31mKeyError\u001b[0m: 'date'"
     ]
    }
   ],
   "source": [
    "print(megawatts_2019['date'][0][6:])\n",
    "print(megawatts_2020['date'][0][6:])\n",
    "for i in range(len(megawatts_2020)):\n",
    "    if megawatts_2019['date'][i][6:] != megawatts_2020['date'][i][6:]:\n",
    "        print(\"not equal. i is: \", i)\n",
    "        print('2019: ', megawatts_2019['date'][i][6:])\n",
    "        print('2020: ', megawatts_2020['date'][i][6:])\n",
    "        break\n",
    "megawatts_2020['date'][1152]"
   ]
  },
  {
   "cell_type": "code",
   "execution_count": 383,
   "id": "59766a8e",
   "metadata": {},
   "outputs": [
    {
     "name": "stdout",
     "output_type": "stream",
     "text": [
      "(8763, 2)\n",
      "(8763, 2)\n",
      "(8762, 2)\n"
     ]
    }
   ],
   "source": [
    "print(megawatts_2019.shape)\n",
    "print(megawatts_2020.shape)\n",
    "print(megawatts_2021.shape)\n"
   ]
  },
  {
   "cell_type": "code",
   "execution_count": 165,
   "id": "0d031b3e",
   "metadata": {},
   "outputs": [
    {
     "name": "stdout",
     "output_type": "stream",
     "text": [
      "['CAISO-netdemand-20190101-Megawatts.csv', 'CAISO-netdemand-20200101-Megawatts.csv', 'CAISO-netdemand-20210101-Megawatts.csv', 'CAISO-netdemand-20220101-Megawatts.csv']\n"
     ]
    }
   ],
   "source": [
    "NOAA_directory = '/Users/yukahatori/A_Fairness/NOAA_Data_Clean/'\n",
    "os.chdir(NOAA_directory)\n",
    "NOAAFiles = [f for f in listdir(NOAA_directory) if isfile(join(NOAA_directory, f))] \n",
    "dates = list(files_dict.keys())\n",
    "# a = [[0] *5] * 4\n",
    "a = []\n",
    "dates = np.array(dates)\n",
    "dates.T\n",
    "data = np.empty(shape = (365, 6))\n",
    "# col 1 = date\n",
    "# col 2 = 2018\n",
    "# col 3 = 2019\n",
    "# col 4 = 2020\n",
    "# col 5 = 2021\n",
    "# col 6 = 2022\n",
    "data.fill(0)\n",
    "for j in range(len(data)):\n",
    "    data[j][0] = dates[j]\n",
    "    \n",
    "for key in files_dict:\n",
    "    print(files_dict[key])\n",
    "    dfBig = pd.DataFrame(columns = ['2018', '2019', '2020', '2021', '2022'])\n",
    "    break\n",
    "# data\n",
    "# a.append(dates.T)\n",
    "# a.append([[0] *5])\n",
    "# a.append([[0] *5])\n",
    "# a.append([[0] *5])\n",
    "# dfMega = pd.DataFrame(a, columns = ['2018', '2019', '2020', '2021', '2022'])\n",
    "# dfMega = pd.DataFrame(dates, columns = [,'2018'])\n",
    "# print(dfMega)\n",
    "\n"
   ]
  },
  {
   "cell_type": "code",
   "execution_count": 161,
   "id": "a10ceb07",
   "metadata": {},
   "outputs": [
    {
     "data": {
      "text/plain": [
       "array([[ 101.,    0.,    0.,    0.,    0.,    0.],\n",
       "       [ 102.,    0.,    0.,    0.,    0.,    0.],\n",
       "       [ 103.,    0.,    0.,    0.,    0.,    0.],\n",
       "       ...,\n",
       "       [1229.,    0.,    0.,    0.,    0.,    0.],\n",
       "       [1230.,    0.,    0.,    0.,    0.,    0.],\n",
       "       [1231.,    0.,    0.,    0.,    0.,    0.]])"
      ]
     },
     "execution_count": 161,
     "metadata": {},
     "output_type": "execute_result"
    }
   ],
   "source": [
    "data"
   ]
  },
  {
   "cell_type": "code",
   "execution_count": 119,
   "id": "689a0b63",
   "metadata": {},
   "outputs": [
    {
     "name": "stdout",
     "output_type": "stream",
     "text": [
      "SD.csv\n",
      "Index(['Unnamed: 0', 'date', 'HLY_TEMP_NORMAL_SD', 'HLY_TEMP_10PCTL_SD',\n",
      "       'HLY_TEMP_90PCTL_SD', 'HLY_DEWP_NORMAL_SD', 'HLY_DEWP_10PCTL_SD',\n",
      "       'HLY_DEWP_90PCTL_SD', 'HLY_PRES_NORMAL_SD', 'HLY_PRES_10PCTL_SD',\n",
      "       'HLY_PRES_90PCTL_SD', 'HLY_CLDH_NORMAL_SD', 'HLY_HTDH_NORMAL_SD',\n",
      "       'HLY_CLOD_PCTCLR_SD', 'HLY_CLOD_PCTFEW_SD', 'HLY_CLOD_PCTSCT_SD',\n",
      "       'HLY_CLOD_PCTBKN_SD', 'HLY_CLOD_PCTOVC_SD', 'HLY_HIDX_NORMAL_SD',\n",
      "       'HLY_WCHL_NORMAL_SD', 'HLY_WIND_AVGSPD_SD', 'HLY_WIND_PCTCLM_SD',\n",
      "       'HLY_WIND_VCTDIR_SD', 'HLY_WIND_VCTSPD_SD', 'HLY_WIND_1STDIR_SD',\n",
      "       'HLY_WIND_1STPCT_SD', 'HLY_WIND_2NDDIR_SD', 'HLY_WIND_2NDPCT_SD'],\n",
      "      dtype='object')\n"
     ]
    }
   ],
   "source": [
    "for NOAAFile in NOAAFiles:\n",
    "    print(NOAAFile)\n",
    "    year = '2019'\n",
    "    df_MW = pd.DataFrame(columns = ['Megawatts'+ year])\n",
    "    df_NOAA = pd.read_csv(NOAA_directory + NOAAFile)\n",
    "    NOAA_date = df['date']\n",
    "    df.append(df_MW, ignore_index = True)\n",
    "    print(df_NOAA.columns)\n",
    "    break"
   ]
  },
  {
   "cell_type": "code",
   "execution_count": null,
   "id": "16ecb904",
   "metadata": {},
   "outputs": [],
   "source": []
  }
 ],
 "metadata": {
  "kernelspec": {
   "display_name": "Python 3 (ipykernel)",
   "language": "python",
   "name": "python3"
  },
  "language_info": {
   "codemirror_mode": {
    "name": "ipython",
    "version": 3
   },
   "file_extension": ".py",
   "mimetype": "text/x-python",
   "name": "python",
   "nbconvert_exporter": "python",
   "pygments_lexer": "ipython3",
   "version": "3.8.8"
  }
 },
 "nbformat": 4,
 "nbformat_minor": 5
}

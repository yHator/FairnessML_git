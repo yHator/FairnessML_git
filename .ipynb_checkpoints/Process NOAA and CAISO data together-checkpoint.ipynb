{
 "cells": [
  {
   "cell_type": "markdown",
   "id": "d6a01446",
   "metadata": {},
   "source": [
    "# Purpose\n",
    "\n",
    "I am putting the NOAA and CAISO data in one file. Every CAISO file is the megawatts per day. I will append that data to the NOAA's (1 year overview) of weather data. However, CAISO doesn't have all full years of data. \n",
    "\n",
    "EX: 01-01 has 2019, 2020, 2021, 2022 data.\n",
    "EX: 12-31 has 2018, 2019, 2020, 2021 data.\n",
    "\n",
    "so what the csv file will look like\n",
    "\n",
    "        tmp 1- tmp 2 - tmp 3 - megawatt 2019 - megawatt 2020 - etc.\n",
    "-------------------------------------------------------------------------------\n",
    "01-01 -- "
   ]
  },
  {
   "cell_type": "code",
   "execution_count": 155,
   "id": "df33acdf",
   "metadata": {},
   "outputs": [],
   "source": [
    "import pandas as pd\n",
    "import os\n",
    "import numpy as np\n",
    "from os import listdir\n",
    "from os.path import isfile, join"
   ]
  },
  {
   "cell_type": "markdown",
   "id": "e770b55f",
   "metadata": {},
   "source": [
    "# sorting CAISO files\n",
    "\n",
    "Making a dictionary. The keys are the dates. The elements are a list of the files that have megawatt data for that day."
   ]
  },
  {
   "cell_type": "code",
   "execution_count": 156,
   "id": "d722b045",
   "metadata": {},
   "outputs": [
    {
     "name": "stdout",
     "output_type": "stream",
     "text": [
      "len of 2018:  266\n",
      "len of 2019:  365\n",
      "len of 2020:  365\n",
      "len of 2021:  365\n",
      "len of 2022:  44\n"
     ]
    }
   ],
   "source": [
    "CAISO_directory = '/Users/yukahatori/A_Fairness/FairnessML_git/CAISO_NetDemand_Megawatts/'\n",
    "os.chdir(CAISO_directory)\n",
    "CAISOFiles = [f for f in listdir(CAISO_directory) if isfile(join(CAISO_directory, f))] \n",
    "CAISOFiles = sorted(CAISOFiles)\n",
    "files_2018 = []\n",
    "files_2019 = []\n",
    "files_2020 = []\n",
    "files_2021 = []\n",
    "files_2022 = []\n",
    "for file in CAISOFiles:\n",
    "    if file[16:20] == '2018':\n",
    "        files_2018.append(file)\n",
    "    elif file[16:20] == '2019':\n",
    "        files_2019.append(file)\n",
    "    elif file[16:20] == '2020':\n",
    "        files_2020.append(file)\n",
    "    elif file[16:20] == '2021':\n",
    "        files_2021.append(file)\n",
    "    elif file[16:20] == '2022':\n",
    "        files_2022.append(file)\n",
    "\n",
    "# 2018 is from 04-10 --> 12-31\n",
    "print(\"len of 2018: \", len(files_2018))\n",
    "# 2019 is from 01-01 --> 12-31\n",
    "print(\"len of 2019: \", len(files_2019))\n",
    "# 2020 is from 01-01 --> 12-31\n",
    "print(\"len of 2020: \", len(files_2020))\n",
    "# 2021 is from 01-01 --> 12-31\n",
    "print(\"len of 2021: \", len(files_2021))\n",
    "#2022 is from 01-01 --> 02-14\n",
    "print(\"len of 2022: \", len(files_2022))\n",
    "\n",
    "files_2019 = sorted(files_2019)\n",
    "files_2020 = sorted(files_2020)\n",
    "files_2021 = sorted(files_2021)\n",
    "#problem years are 2018 and 2022, since they are not a full year of data\n",
    "# files_dict = {}\n",
    "\n",
    "# j = 0\n",
    "# for i in range(0, len(files_2019)):\n",
    "#     thatDay = []\n",
    "#     thatDay.append(files_2019[j])\n",
    "#     thatDay.append(files_2020[j])\n",
    "#     thatDay.append(files_2021[j])\n",
    "#     date = files_2021[j][20:24]\n",
    "#     files_dict.update({date : thatDay})\n",
    "#     j+=1\n",
    "\n",
    "\n",
    "# for i in range(len(files_2018)):\n",
    "#     key = files_2018[i][20:24]\n",
    "#     files_dict[key].append(files_2018[i])\n",
    "\n",
    "# for i in range(len(files_2022)):\n",
    "#     key = files_2022[i][20:24]\n",
    "#     files_dict[key].append(files_2022[i])\n",
    "\n",
    "# files_dict"
   ]
  },
  {
   "cell_type": "markdown",
   "id": "39bc4900",
   "metadata": {},
   "source": [
    "# Hello!\n",
    "\n",
    "instead, I will be doing this: for full years (I haven't considered 2018 and 2022 yet) I will be appending every day below. Then I will put all the megawatts data together. Then, I attach it to the NOAA file. "
   ]
  },
  {
   "cell_type": "code",
   "execution_count": 172,
   "id": "d541d630",
   "metadata": {},
   "outputs": [
    {
     "name": "stdout",
     "output_type": "stream",
     "text": [
      "Index(['Megawatts'], dtype='object')\n",
      "Index(['Megawatts'], dtype='object')\n",
      "Index(['Megawatts'], dtype='object')\n"
     ]
    }
   ],
   "source": [
    "directory = '/Users/yukahatori/A_Fairness/FairnessML_git/CAISO_NetDemand_Megawatts/'\n",
    "\n",
    "def yearlyMegawatts(year, files_year):\n",
    "    files = []\n",
    "    for file in files_year:\n",
    "        oneDay = pd.read_csv(directory + file)\n",
    "        files.append(oneDay)\n",
    "\n",
    "    files = pd.concat(files, ignore_index = True)\n",
    "    files = files.drop(columns = ['date']) #comment this back in later\n",
    "    print(files.columns)\n",
    "    files.columns = ['Megawatts'+'_'+year] #remove dates later\n",
    "    return files\n",
    "\n",
    "megawatts_2019 = yearlyMegawatts('2019', files_2019)\n",
    "megawatts_2020 = yearlyMegawatts('2020', files_2020)\n",
    "megawatts_2021 = yearlyMegawatts('2021', files_2021)"
   ]
  },
  {
   "cell_type": "code",
   "execution_count": 158,
   "id": "1005ca14",
   "metadata": {},
   "outputs": [],
   "source": [
    "# def yearlyMegawatts(year, files_year):\n",
    "#     files = []\n",
    "#     for file in files_year:\n",
    "#         oneDay = pd.read_csv(directory + file)\n",
    "#         files.append(oneDay)\n",
    "\n",
    "#     files = pd.concat(files, ignore_index = True)\n",
    "# #     files = files.drop(columns = ['date']) #comment this back in later\n",
    "#     print(files.columns)\n",
    "#     files.columns = ['date','Megawatts'+'_'+year] #remove dates later\n",
    "#     return files\n",
    "\n",
    "# megawatts_2019 = yearlyMegawatts('2019', files_2019)\n",
    "# megawatts_2020 = yearlyMegawatts('2020', files_2020)\n",
    "# megawatts_2021 = yearlyMegawatts('2021', files_2021)\n",
    "# This section is for checking. Data has been kind of weird, it will let you know if data doesn't match\n",
    "# for i in range(len(megawatts_2020)):\n",
    "#     if megawatts_2019['date'][i][6:] != megawatts_2020['date'][i][6:]:\n",
    "#         print(\"not equal. i is: \", i)\n",
    "#         print('2019: ', megawatts_2019['date'][i][6:])\n",
    "#         print('2020: ', megawatts_2020['date'][i][6:])\n",
    "#         break"
   ]
  },
  {
   "cell_type": "code",
   "execution_count": 159,
   "id": "9c7c9c9f",
   "metadata": {},
   "outputs": [
    {
     "name": "stdout",
     "output_type": "stream",
     "text": [
      "2019:  8760\n",
      "2020:  8760\n",
      "2021:  8760\n"
     ]
    }
   ],
   "source": [
    "print(\"2019: \", len(megawatts_2019))\n",
    "print(\"2020: \", len(megawatts_2020))\n",
    "print(\"2021: \", len(megawatts_2021))"
   ]
  },
  {
   "cell_type": "code",
   "execution_count": 160,
   "id": "59766a8e",
   "metadata": {},
   "outputs": [
    {
     "data": {
      "text/html": [
       "<div>\n",
       "<style scoped>\n",
       "    .dataframe tbody tr th:only-of-type {\n",
       "        vertical-align: middle;\n",
       "    }\n",
       "\n",
       "    .dataframe tbody tr th {\n",
       "        vertical-align: top;\n",
       "    }\n",
       "\n",
       "    .dataframe thead th {\n",
       "        text-align: right;\n",
       "    }\n",
       "</style>\n",
       "<table border=\"1\" class=\"dataframe\">\n",
       "  <thead>\n",
       "    <tr style=\"text-align: right;\">\n",
       "      <th></th>\n",
       "      <th>Megawatts_2019</th>\n",
       "      <th>Megawatts_2020</th>\n",
       "      <th>Megawatts_2021</th>\n",
       "    </tr>\n",
       "  </thead>\n",
       "  <tbody>\n",
       "    <tr>\n",
       "      <th>0</th>\n",
       "      <td>283652.0</td>\n",
       "      <td>273786.0</td>\n",
       "      <td>279182.0</td>\n",
       "    </tr>\n",
       "    <tr>\n",
       "      <th>1</th>\n",
       "      <td>252485.0</td>\n",
       "      <td>243000.0</td>\n",
       "      <td>246782.0</td>\n",
       "    </tr>\n",
       "    <tr>\n",
       "      <th>2</th>\n",
       "      <td>245501.0</td>\n",
       "      <td>235962.0</td>\n",
       "      <td>238941.0</td>\n",
       "    </tr>\n",
       "    <tr>\n",
       "      <th>3</th>\n",
       "      <td>241545.0</td>\n",
       "      <td>231944.0</td>\n",
       "      <td>235242.0</td>\n",
       "    </tr>\n",
       "    <tr>\n",
       "      <th>4</th>\n",
       "      <td>241926.0</td>\n",
       "      <td>230219.0</td>\n",
       "      <td>235127.0</td>\n",
       "    </tr>\n",
       "    <tr>\n",
       "      <th>...</th>\n",
       "      <td>...</td>\n",
       "      <td>...</td>\n",
       "      <td>...</td>\n",
       "    </tr>\n",
       "    <tr>\n",
       "      <th>8755</th>\n",
       "      <td>308820.0</td>\n",
       "      <td>311398.0</td>\n",
       "      <td>316656.0</td>\n",
       "    </tr>\n",
       "    <tr>\n",
       "      <th>8756</th>\n",
       "      <td>297758.0</td>\n",
       "      <td>301658.0</td>\n",
       "      <td>308206.0</td>\n",
       "    </tr>\n",
       "    <tr>\n",
       "      <th>8757</th>\n",
       "      <td>287403.0</td>\n",
       "      <td>292069.0</td>\n",
       "      <td>299313.0</td>\n",
       "    </tr>\n",
       "    <tr>\n",
       "      <th>8758</th>\n",
       "      <td>275322.0</td>\n",
       "      <td>279319.0</td>\n",
       "      <td>287721.0</td>\n",
       "    </tr>\n",
       "    <tr>\n",
       "      <th>8759</th>\n",
       "      <td>241588.0</td>\n",
       "      <td>246128.0</td>\n",
       "      <td>275956.0</td>\n",
       "    </tr>\n",
       "  </tbody>\n",
       "</table>\n",
       "<p>8760 rows × 3 columns</p>\n",
       "</div>"
      ],
      "text/plain": [
       "      Megawatts_2019  Megawatts_2020  Megawatts_2021\n",
       "0           283652.0        273786.0        279182.0\n",
       "1           252485.0        243000.0        246782.0\n",
       "2           245501.0        235962.0        238941.0\n",
       "3           241545.0        231944.0        235242.0\n",
       "4           241926.0        230219.0        235127.0\n",
       "...              ...             ...             ...\n",
       "8755        308820.0        311398.0        316656.0\n",
       "8756        297758.0        301658.0        308206.0\n",
       "8757        287403.0        292069.0        299313.0\n",
       "8758        275322.0        279319.0        287721.0\n",
       "8759        241588.0        246128.0        275956.0\n",
       "\n",
       "[8760 rows x 3 columns]"
      ]
     },
     "execution_count": 160,
     "metadata": {},
     "output_type": "execute_result"
    }
   ],
   "source": [
    "#shows that they have same dim aka same amount of data for month/day/hour\n",
    "all_years = [megawatts_2019, megawatts_2020, megawatts_2021]\n",
    "allMegawatts = pd.concat(all_years, axis=1)\n",
    "allMegawatts"
   ]
  },
  {
   "cell_type": "markdown",
   "id": "cabd15f3",
   "metadata": {},
   "source": [
    "# NOAA + CAISO data\n",
    "\n",
    "Appending CAISO data, aka allMegawatts, to NOAA files"
   ]
  },
  {
   "cell_type": "code",
   "execution_count": 193,
   "id": "0d031b3e",
   "metadata": {},
   "outputs": [],
   "source": [
    "def combineData(allMegawatts, NOAA_directory, destination_directory, names):\n",
    "    NOAA_directory = '/Users/yukahatori/A_Fairness/FairnessML_git/NOAA_Data_Clean/'\n",
    "    os.chdir(NOAA_directory)\n",
    "    NOAAFiles = [f for f in listdir(NOAA_directory) if isfile(join(NOAA_directory, f))] \n",
    "    addFiles = []\n",
    "    location = 0 \n",
    "    for NOAAFile in NOAAFiles:\n",
    "        df = pd.read_csv(NOAA_directory + NOAAFile)\n",
    "        addFiles.append(df)\n",
    "        addFiles.append(allMegawatts)\n",
    "        finalFile = pd.concat(addFiles, axis=1)\n",
    "        newCsv = destination_directory + names[location]+ '-NOAA-and-Megawatts.csv'\n",
    "        print(newCsv)\n",
    "        location+=1 # increment to next location\n",
    "        finalFile.to_csv(newCsv, encoding='utf-8', index = False)\n",
    "        addFiles = []\n",
    "\n"
   ]
  },
  {
   "cell_type": "code",
   "execution_count": 194,
   "id": "f427388e",
   "metadata": {},
   "outputs": [
    {
     "name": "stdout",
     "output_type": "stream",
     "text": [
      "/Users/yukahatori/A_Fairness/FairnessML_git/NOAA_and_CAISO_Data/SD-NOAA-and-Megawatts.csv\n",
      "/Users/yukahatori/A_Fairness/FairnessML_git/NOAA_and_CAISO_Data/SF-NOAA-and-Megawatts.csv\n",
      "/Users/yukahatori/A_Fairness/FairnessML_git/NOAA_and_CAISO_Data/SAC-NOAA-and-Megawatts.csv\n",
      "/Users/yukahatori/A_Fairness/FairnessML_git/NOAA_and_CAISO_Data/LA-NOAA-and-Megawatts.csv\n"
     ]
    }
   ],
   "source": [
    "NOAA_directory = '/Users/yukahatori/A_Fairness/FairnessML_git/NOAA_Data_Clean/'\n",
    "destination_directory = '/Users/yukahatori/A_Fairness/FairnessML_git/NOAA_and_CAISO_Data/'\n",
    "names = ['SD', 'SF', 'SAC', 'LA'] #just for making file name stuff prettier\n",
    "combineData(allMegawatts, NOAA_directory, destination_directory, names)"
   ]
  },
  {
   "cell_type": "markdown",
   "id": "b08ff5cd",
   "metadata": {},
   "source": [
    "# Write it with only one year's energy consumption data"
   ]
  },
  {
   "cell_type": "code",
   "execution_count": 206,
   "id": "f00b6263",
   "metadata": {},
   "outputs": [
    {
     "name": "stdout",
     "output_type": "stream",
     "text": [
      "/Users/yukahatori/A_Fairness/FairnessML_git/NOAA_and_CAISO_Data_ONEYEAR/SD-NOAA-and-Megawatts.csv\n",
      "/Users/yukahatori/A_Fairness/FairnessML_git/NOAA_and_CAISO_Data_ONEYEAR/SF-NOAA-and-Megawatts.csv\n",
      "/Users/yukahatori/A_Fairness/FairnessML_git/NOAA_and_CAISO_Data_ONEYEAR/SAC-NOAA-and-Megawatts.csv\n",
      "/Users/yukahatori/A_Fairness/FairnessML_git/NOAA_and_CAISO_Data_ONEYEAR/LA-NOAA-and-Megawatts.csv\n"
     ]
    }
   ],
   "source": [
    "NOAA_directory = '/Users/yukahatori/A_Fairness/FairnessML_git/NOAA_Data_Clean/'\n",
    "destination_directory = '/Users/yukahatori/A_Fairness/FairnessML_git/NOAA_and_CAISO_Data_ONEYEAR/'\n",
    "names = ['SD', 'SF', 'SAC', 'LA'] #just for making file name stuff prettier\n",
    "combineData(pd.DataFrame(megawatts_2019), NOAA_directory, destination_directory, names)"
   ]
  },
  {
   "cell_type": "markdown",
   "id": "15fcdcfd",
   "metadata": {},
   "source": [
    "# Write it with the avg of the years energy consumption data\n",
    "\n",
    "avg of 2018, 2019, 2021 "
   ]
  },
  {
   "cell_type": "code",
   "execution_count": 207,
   "id": "b1ba7785",
   "metadata": {},
   "outputs": [
    {
     "name": "stdout",
     "output_type": "stream",
     "text": [
      "/Users/yukahatori/A_Fairness/FairnessML_git/NOAA_and_CAISO_Data_ONEYEAR/SD-yearAvg-NOAA-and-Megawatts.csv\n",
      "/Users/yukahatori/A_Fairness/FairnessML_git/NOAA_and_CAISO_Data_ONEYEAR/SF-yearAvg-NOAA-and-Megawatts.csv\n",
      "/Users/yukahatori/A_Fairness/FairnessML_git/NOAA_and_CAISO_Data_ONEYEAR/SAC-yearAvg-NOAA-and-Megawatts.csv\n",
      "/Users/yukahatori/A_Fairness/FairnessML_git/NOAA_and_CAISO_Data_ONEYEAR/LA-yearAvg-NOAA-and-Megawatts.csv\n"
     ]
    }
   ],
   "source": [
    "avgOfYears = []\n",
    "numYears = 3.0 #this can change if you want less years! change one day numerator too\n",
    "\n",
    "for i in range(len(megawatts_2019)):\n",
    "    oneDaysEnergy = (float(megawatts_2019['Megawatts_2019'][i]) + float(megawatts_2020['Megawatts_2020'][i]) + float(megawatts_2021['Megawatts_2021'][i]))/numYears\n",
    "    avgOfYears.append(oneDaysEnergy)\n",
    "\n",
    "avgOfYears = pd.DataFrame(avgOfYears)\n",
    "avgOfYears.columns = ['AvgMegawatts2019-2020-2021']\n",
    "avgOfYears\n",
    "NOAA_directory = '/Users/yukahatori/A_Fairness/FairnessML_git/NOAA_Data_Clean/'\n",
    "destination_directory = '/Users/yukahatori/A_Fairness/FairnessML_git/NOAA_and_CAISO_Data_ONEYEAR/'\n",
    "names = ['SD-yearAvg', 'SF-yearAvg', 'SAC-yearAvg', 'LA-yearAvg'] #just for making file name stuff prettier\n",
    "combineData(avgOfYears, NOAA_directory, destination_directory, names)\n"
   ]
  },
  {
   "cell_type": "code",
   "execution_count": 181,
   "id": "a28de7e3",
   "metadata": {},
   "outputs": [
    {
     "data": {
      "text/plain": [
       "0    283652.0\n",
       "1    252485.0\n",
       "2    245501.0\n",
       "3    241545.0\n",
       "4    241926.0\n",
       "Name: Megawatts_2019, dtype: float64"
      ]
     },
     "execution_count": 181,
     "metadata": {},
     "output_type": "execute_result"
    }
   ],
   "source": [
    "megawatts_2019['Megawatts_2019'][:5]"
   ]
  },
  {
   "cell_type": "code",
   "execution_count": 182,
   "id": "c0863385",
   "metadata": {},
   "outputs": [
    {
     "data": {
      "text/plain": [
       "0    273786.0\n",
       "1    243000.0\n",
       "2    235962.0\n",
       "3    231944.0\n",
       "4    230219.0\n",
       "Name: Megawatts_2020, dtype: float64"
      ]
     },
     "execution_count": 182,
     "metadata": {},
     "output_type": "execute_result"
    }
   ],
   "source": [
    "megawatts_2020['Megawatts_2020'][:5]"
   ]
  },
  {
   "cell_type": "code",
   "execution_count": 183,
   "id": "6014b6dd",
   "metadata": {},
   "outputs": [
    {
     "data": {
      "text/plain": [
       "0    279182.0\n",
       "1    246782.0\n",
       "2    238941.0\n",
       "3    235242.0\n",
       "4    235127.0\n",
       "Name: Megawatts_2021, dtype: float64"
      ]
     },
     "execution_count": 183,
     "metadata": {},
     "output_type": "execute_result"
    }
   ],
   "source": [
    "megawatts_2021['Megawatts_2021'][:5]"
   ]
  },
  {
   "cell_type": "code",
   "execution_count": null,
   "id": "5b853e9f",
   "metadata": {},
   "outputs": [],
   "source": [
    "NOAA_directory = '/Users/yukahatori/A_Fairness/FairnessML_git/NOAA_Data_Clean/'\n",
    "destination_directory = '/Users/yukahatori/A_Fairness/FairnessML_git/NOAA_and_CAISO_Data_2020/'\n",
    "names = ['SD', 'SF', 'SAC', 'LA'] #just for making file name stuff prettier\n",
    "combineData(pd.DataFrame(megawatts_2020), NOAA_directory, destination_directory, names)"
   ]
  }
 ],
 "metadata": {
  "kernelspec": {
   "display_name": "Python 3 (ipykernel)",
   "language": "python",
   "name": "python3"
  },
  "language_info": {
   "codemirror_mode": {
    "name": "ipython",
    "version": 3
   },
   "file_extension": ".py",
   "mimetype": "text/x-python",
   "name": "python",
   "nbconvert_exporter": "python",
   "pygments_lexer": "ipython3",
   "version": "3.8.8"
  }
 },
 "nbformat": 4,
 "nbformat_minor": 5
}

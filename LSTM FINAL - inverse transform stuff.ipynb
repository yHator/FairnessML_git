{
 "cells": [
  {
   "cell_type": "markdown",
   "id": "549adc02",
   "metadata": {},
   "source": [
    "# Keras and Tensorflow > 2.0\n",
    "\n",
    "https://www.youtube.com/watch?v=H6du_pfuznE"
   ]
  },
  {
   "cell_type": "markdown",
   "id": "4a942f3a",
   "metadata": {},
   "source": [
    "# Step 1: Import the data"
   ]
  },
  {
   "cell_type": "code",
   "execution_count": 135,
   "id": "1e5af080",
   "metadata": {},
   "outputs": [],
   "source": [
    "import tensorflow \n",
    "import os\n",
    "from os import listdir\n",
    "from os.path import isfile, join\n",
    "import pandas as pd\n",
    "import numpy as np\n",
    "import matplotlib.pyplot as plt"
   ]
  },
  {
   "cell_type": "code",
   "execution_count": 136,
   "id": "cb59951a",
   "metadata": {},
   "outputs": [
    {
     "name": "stdout",
     "output_type": "stream",
     "text": [
      "SAC-NOAA-and-Megawatts.csv\n",
      "SD-NOAA-and-Megawatts.csv\n",
      "SD-yearAvg-NOAA-and-Megawatts.csv\n",
      "SF-NOAA-and-Megawatts.csv\n",
      "SAC-yearAvg-NOAA-and-Megawatts.csv\n",
      "LA-yearAvg-NOAA-and-Megawatts.csv\n",
      "LA-NOAA-and-Megawatts.csv\n",
      "SF-yearAvg-NOAA-and-Megawatts.csv\n"
     ]
    },
    {
     "data": {
      "text/html": [
       "<div>\n",
       "<style scoped>\n",
       "    .dataframe tbody tr th:only-of-type {\n",
       "        vertical-align: middle;\n",
       "    }\n",
       "\n",
       "    .dataframe tbody tr th {\n",
       "        vertical-align: top;\n",
       "    }\n",
       "\n",
       "    .dataframe thead th {\n",
       "        text-align: right;\n",
       "    }\n",
       "</style>\n",
       "<table border=\"1\" class=\"dataframe\">\n",
       "  <thead>\n",
       "    <tr style=\"text-align: right;\">\n",
       "      <th></th>\n",
       "      <th>date</th>\n",
       "      <th>HLY_TEMP_NORMAL_SF</th>\n",
       "      <th>HLY_TEMP_10PCTL_SF</th>\n",
       "      <th>HLY_TEMP_90PCTL_SF</th>\n",
       "      <th>HLY_DEWP_NORMAL_SF</th>\n",
       "      <th>HLY_DEWP_10PCTL_SF</th>\n",
       "      <th>HLY_DEWP_90PCTL_SF</th>\n",
       "      <th>HLY_PRES_NORMAL_SF</th>\n",
       "      <th>HLY_PRES_10PCTL_SF</th>\n",
       "      <th>HLY_PRES_90PCTL_SF</th>\n",
       "      <th>...</th>\n",
       "      <th>HLY_WCHL_NORMAL_SF</th>\n",
       "      <th>HLY_WIND_AVGSPD_SF</th>\n",
       "      <th>HLY_WIND_PCTCLM_SF</th>\n",
       "      <th>HLY_WIND_VCTDIR_SF</th>\n",
       "      <th>HLY_WIND_VCTSPD_SF</th>\n",
       "      <th>HLY_WIND_1STDIR_SF</th>\n",
       "      <th>HLY_WIND_1STPCT_SF</th>\n",
       "      <th>HLY_WIND_2NDDIR_SF</th>\n",
       "      <th>HLY_WIND_2NDPCT_SF</th>\n",
       "      <th>Megawatts_2019</th>\n",
       "    </tr>\n",
       "  </thead>\n",
       "  <tbody>\n",
       "    <tr>\n",
       "      <th>0</th>\n",
       "      <td>01-01T00:00:00</td>\n",
       "      <td>48.8</td>\n",
       "      <td>44.1</td>\n",
       "      <td>54.0</td>\n",
       "      <td>43.2</td>\n",
       "      <td>35.1</td>\n",
       "      <td>50.0</td>\n",
       "      <td>1020.1</td>\n",
       "      <td>1011.5</td>\n",
       "      <td>1026.9</td>\n",
       "      <td>...</td>\n",
       "      <td>47.3</td>\n",
       "      <td>6.3</td>\n",
       "      <td>25.4</td>\n",
       "      <td>196.0</td>\n",
       "      <td>1.1</td>\n",
       "      <td>5.0</td>\n",
       "      <td>14.7</td>\n",
       "      <td>4.0</td>\n",
       "      <td>14.3</td>\n",
       "      <td>283652.0</td>\n",
       "    </tr>\n",
       "    <tr>\n",
       "      <th>1</th>\n",
       "      <td>01-01T01:00:00</td>\n",
       "      <td>48.5</td>\n",
       "      <td>43.0</td>\n",
       "      <td>54.0</td>\n",
       "      <td>43.1</td>\n",
       "      <td>35.1</td>\n",
       "      <td>50.0</td>\n",
       "      <td>1019.9</td>\n",
       "      <td>1011.0</td>\n",
       "      <td>1026.8</td>\n",
       "      <td>...</td>\n",
       "      <td>47.0</td>\n",
       "      <td>6.2</td>\n",
       "      <td>28.5</td>\n",
       "      <td>193.0</td>\n",
       "      <td>1.2</td>\n",
       "      <td>4.0</td>\n",
       "      <td>14.6</td>\n",
       "      <td>5.0</td>\n",
       "      <td>13.1</td>\n",
       "      <td>252485.0</td>\n",
       "    </tr>\n",
       "    <tr>\n",
       "      <th>2</th>\n",
       "      <td>01-01T02:00:00</td>\n",
       "      <td>47.6</td>\n",
       "      <td>42.1</td>\n",
       "      <td>53.1</td>\n",
       "      <td>42.6</td>\n",
       "      <td>35.1</td>\n",
       "      <td>50.0</td>\n",
       "      <td>1020.0</td>\n",
       "      <td>1011.2</td>\n",
       "      <td>1026.8</td>\n",
       "      <td>...</td>\n",
       "      <td>46.0</td>\n",
       "      <td>6.2</td>\n",
       "      <td>26.5</td>\n",
       "      <td>184.0</td>\n",
       "      <td>0.9</td>\n",
       "      <td>4.0</td>\n",
       "      <td>14.8</td>\n",
       "      <td>6.0</td>\n",
       "      <td>12.5</td>\n",
       "      <td>245501.0</td>\n",
       "    </tr>\n",
       "    <tr>\n",
       "      <th>3</th>\n",
       "      <td>01-01T03:00:00</td>\n",
       "      <td>47.2</td>\n",
       "      <td>41.0</td>\n",
       "      <td>54.0</td>\n",
       "      <td>42.3</td>\n",
       "      <td>34.0</td>\n",
       "      <td>50.0</td>\n",
       "      <td>1020.0</td>\n",
       "      <td>1011.2</td>\n",
       "      <td>1026.9</td>\n",
       "      <td>...</td>\n",
       "      <td>45.5</td>\n",
       "      <td>6.2</td>\n",
       "      <td>24.9</td>\n",
       "      <td>178.0</td>\n",
       "      <td>1.1</td>\n",
       "      <td>4.0</td>\n",
       "      <td>16.3</td>\n",
       "      <td>5.0</td>\n",
       "      <td>13.5</td>\n",
       "      <td>241545.0</td>\n",
       "    </tr>\n",
       "    <tr>\n",
       "      <th>4</th>\n",
       "      <td>01-01T04:00:00</td>\n",
       "      <td>46.8</td>\n",
       "      <td>39.9</td>\n",
       "      <td>53.1</td>\n",
       "      <td>42.2</td>\n",
       "      <td>34.0</td>\n",
       "      <td>50.0</td>\n",
       "      <td>1019.8</td>\n",
       "      <td>1010.5</td>\n",
       "      <td>1026.6</td>\n",
       "      <td>...</td>\n",
       "      <td>45.0</td>\n",
       "      <td>5.9</td>\n",
       "      <td>27.9</td>\n",
       "      <td>175.0</td>\n",
       "      <td>0.8</td>\n",
       "      <td>4.0</td>\n",
       "      <td>15.6</td>\n",
       "      <td>7.0</td>\n",
       "      <td>11.2</td>\n",
       "      <td>241926.0</td>\n",
       "    </tr>\n",
       "    <tr>\n",
       "      <th>...</th>\n",
       "      <td>...</td>\n",
       "      <td>...</td>\n",
       "      <td>...</td>\n",
       "      <td>...</td>\n",
       "      <td>...</td>\n",
       "      <td>...</td>\n",
       "      <td>...</td>\n",
       "      <td>...</td>\n",
       "      <td>...</td>\n",
       "      <td>...</td>\n",
       "      <td>...</td>\n",
       "      <td>...</td>\n",
       "      <td>...</td>\n",
       "      <td>...</td>\n",
       "      <td>...</td>\n",
       "      <td>...</td>\n",
       "      <td>...</td>\n",
       "      <td>...</td>\n",
       "      <td>...</td>\n",
       "      <td>...</td>\n",
       "      <td>...</td>\n",
       "    </tr>\n",
       "    <tr>\n",
       "      <th>8755</th>\n",
       "      <td>12-31T19:00:00</td>\n",
       "      <td>51.5</td>\n",
       "      <td>46.9</td>\n",
       "      <td>55.9</td>\n",
       "      <td>43.9</td>\n",
       "      <td>36.0</td>\n",
       "      <td>51.1</td>\n",
       "      <td>1019.5</td>\n",
       "      <td>1010.7</td>\n",
       "      <td>1026.4</td>\n",
       "      <td>...</td>\n",
       "      <td>50.3</td>\n",
       "      <td>7.7</td>\n",
       "      <td>17.8</td>\n",
       "      <td>255.0</td>\n",
       "      <td>1.9</td>\n",
       "      <td>7.0</td>\n",
       "      <td>22.4</td>\n",
       "      <td>4.0</td>\n",
       "      <td>14.0</td>\n",
       "      <td>308820.0</td>\n",
       "    </tr>\n",
       "    <tr>\n",
       "      <th>8756</th>\n",
       "      <td>12-31T20:00:00</td>\n",
       "      <td>51.0</td>\n",
       "      <td>46.0</td>\n",
       "      <td>55.0</td>\n",
       "      <td>43.6</td>\n",
       "      <td>36.0</td>\n",
       "      <td>51.1</td>\n",
       "      <td>1019.7</td>\n",
       "      <td>1011.2</td>\n",
       "      <td>1026.6</td>\n",
       "      <td>...</td>\n",
       "      <td>49.8</td>\n",
       "      <td>7.2</td>\n",
       "      <td>21.4</td>\n",
       "      <td>243.0</td>\n",
       "      <td>1.2</td>\n",
       "      <td>7.0</td>\n",
       "      <td>17.7</td>\n",
       "      <td>4.0</td>\n",
       "      <td>13.8</td>\n",
       "      <td>297758.0</td>\n",
       "    </tr>\n",
       "    <tr>\n",
       "      <th>8757</th>\n",
       "      <td>12-31T21:00:00</td>\n",
       "      <td>50.5</td>\n",
       "      <td>46.0</td>\n",
       "      <td>55.0</td>\n",
       "      <td>43.5</td>\n",
       "      <td>35.1</td>\n",
       "      <td>50.0</td>\n",
       "      <td>1019.9</td>\n",
       "      <td>1011.0</td>\n",
       "      <td>1026.8</td>\n",
       "      <td>...</td>\n",
       "      <td>49.1</td>\n",
       "      <td>7.1</td>\n",
       "      <td>18.7</td>\n",
       "      <td>218.0</td>\n",
       "      <td>1.3</td>\n",
       "      <td>7.0</td>\n",
       "      <td>18.7</td>\n",
       "      <td>4.0</td>\n",
       "      <td>16.5</td>\n",
       "      <td>287403.0</td>\n",
       "    </tr>\n",
       "    <tr>\n",
       "      <th>8758</th>\n",
       "      <td>12-31T22:00:00</td>\n",
       "      <td>49.8</td>\n",
       "      <td>45.0</td>\n",
       "      <td>54.0</td>\n",
       "      <td>43.4</td>\n",
       "      <td>35.1</td>\n",
       "      <td>50.0</td>\n",
       "      <td>1020.1</td>\n",
       "      <td>1011.5</td>\n",
       "      <td>1027.1</td>\n",
       "      <td>...</td>\n",
       "      <td>48.4</td>\n",
       "      <td>6.6</td>\n",
       "      <td>24.3</td>\n",
       "      <td>209.0</td>\n",
       "      <td>1.1</td>\n",
       "      <td>4.0</td>\n",
       "      <td>18.0</td>\n",
       "      <td>7.0</td>\n",
       "      <td>14.8</td>\n",
       "      <td>275322.0</td>\n",
       "    </tr>\n",
       "    <tr>\n",
       "      <th>8759</th>\n",
       "      <td>12-31T23:00:00</td>\n",
       "      <td>49.4</td>\n",
       "      <td>45.0</td>\n",
       "      <td>54.0</td>\n",
       "      <td>43.4</td>\n",
       "      <td>35.1</td>\n",
       "      <td>50.0</td>\n",
       "      <td>1020.1</td>\n",
       "      <td>1011.3</td>\n",
       "      <td>1027.0</td>\n",
       "      <td>...</td>\n",
       "      <td>47.9</td>\n",
       "      <td>6.5</td>\n",
       "      <td>27.6</td>\n",
       "      <td>207.0</td>\n",
       "      <td>1.2</td>\n",
       "      <td>4.0</td>\n",
       "      <td>16.3</td>\n",
       "      <td>7.0</td>\n",
       "      <td>12.5</td>\n",
       "      <td>241588.0</td>\n",
       "    </tr>\n",
       "  </tbody>\n",
       "</table>\n",
       "<p>8760 rows × 28 columns</p>\n",
       "</div>"
      ],
      "text/plain": [
       "                date  HLY_TEMP_NORMAL_SF  HLY_TEMP_10PCTL_SF  \\\n",
       "0     01-01T00:00:00                48.8                44.1   \n",
       "1     01-01T01:00:00                48.5                43.0   \n",
       "2     01-01T02:00:00                47.6                42.1   \n",
       "3     01-01T03:00:00                47.2                41.0   \n",
       "4     01-01T04:00:00                46.8                39.9   \n",
       "...              ...                 ...                 ...   \n",
       "8755  12-31T19:00:00                51.5                46.9   \n",
       "8756  12-31T20:00:00                51.0                46.0   \n",
       "8757  12-31T21:00:00                50.5                46.0   \n",
       "8758  12-31T22:00:00                49.8                45.0   \n",
       "8759  12-31T23:00:00                49.4                45.0   \n",
       "\n",
       "      HLY_TEMP_90PCTL_SF  HLY_DEWP_NORMAL_SF  HLY_DEWP_10PCTL_SF  \\\n",
       "0                   54.0                43.2                35.1   \n",
       "1                   54.0                43.1                35.1   \n",
       "2                   53.1                42.6                35.1   \n",
       "3                   54.0                42.3                34.0   \n",
       "4                   53.1                42.2                34.0   \n",
       "...                  ...                 ...                 ...   \n",
       "8755                55.9                43.9                36.0   \n",
       "8756                55.0                43.6                36.0   \n",
       "8757                55.0                43.5                35.1   \n",
       "8758                54.0                43.4                35.1   \n",
       "8759                54.0                43.4                35.1   \n",
       "\n",
       "      HLY_DEWP_90PCTL_SF  HLY_PRES_NORMAL_SF  HLY_PRES_10PCTL_SF  \\\n",
       "0                   50.0              1020.1              1011.5   \n",
       "1                   50.0              1019.9              1011.0   \n",
       "2                   50.0              1020.0              1011.2   \n",
       "3                   50.0              1020.0              1011.2   \n",
       "4                   50.0              1019.8              1010.5   \n",
       "...                  ...                 ...                 ...   \n",
       "8755                51.1              1019.5              1010.7   \n",
       "8756                51.1              1019.7              1011.2   \n",
       "8757                50.0              1019.9              1011.0   \n",
       "8758                50.0              1020.1              1011.5   \n",
       "8759                50.0              1020.1              1011.3   \n",
       "\n",
       "      HLY_PRES_90PCTL_SF  ...  HLY_WCHL_NORMAL_SF  HLY_WIND_AVGSPD_SF  \\\n",
       "0                 1026.9  ...                47.3                 6.3   \n",
       "1                 1026.8  ...                47.0                 6.2   \n",
       "2                 1026.8  ...                46.0                 6.2   \n",
       "3                 1026.9  ...                45.5                 6.2   \n",
       "4                 1026.6  ...                45.0                 5.9   \n",
       "...                  ...  ...                 ...                 ...   \n",
       "8755              1026.4  ...                50.3                 7.7   \n",
       "8756              1026.6  ...                49.8                 7.2   \n",
       "8757              1026.8  ...                49.1                 7.1   \n",
       "8758              1027.1  ...                48.4                 6.6   \n",
       "8759              1027.0  ...                47.9                 6.5   \n",
       "\n",
       "      HLY_WIND_PCTCLM_SF  HLY_WIND_VCTDIR_SF  HLY_WIND_VCTSPD_SF  \\\n",
       "0                   25.4               196.0                 1.1   \n",
       "1                   28.5               193.0                 1.2   \n",
       "2                   26.5               184.0                 0.9   \n",
       "3                   24.9               178.0                 1.1   \n",
       "4                   27.9               175.0                 0.8   \n",
       "...                  ...                 ...                 ...   \n",
       "8755                17.8               255.0                 1.9   \n",
       "8756                21.4               243.0                 1.2   \n",
       "8757                18.7               218.0                 1.3   \n",
       "8758                24.3               209.0                 1.1   \n",
       "8759                27.6               207.0                 1.2   \n",
       "\n",
       "      HLY_WIND_1STDIR_SF  HLY_WIND_1STPCT_SF  HLY_WIND_2NDDIR_SF  \\\n",
       "0                    5.0                14.7                 4.0   \n",
       "1                    4.0                14.6                 5.0   \n",
       "2                    4.0                14.8                 6.0   \n",
       "3                    4.0                16.3                 5.0   \n",
       "4                    4.0                15.6                 7.0   \n",
       "...                  ...                 ...                 ...   \n",
       "8755                 7.0                22.4                 4.0   \n",
       "8756                 7.0                17.7                 4.0   \n",
       "8757                 7.0                18.7                 4.0   \n",
       "8758                 4.0                18.0                 7.0   \n",
       "8759                 4.0                16.3                 7.0   \n",
       "\n",
       "      HLY_WIND_2NDPCT_SF  Megawatts_2019  \n",
       "0                   14.3        283652.0  \n",
       "1                   13.1        252485.0  \n",
       "2                   12.5        245501.0  \n",
       "3                   13.5        241545.0  \n",
       "4                   11.2        241926.0  \n",
       "...                  ...             ...  \n",
       "8755                14.0        308820.0  \n",
       "8756                13.8        297758.0  \n",
       "8757                16.5        287403.0  \n",
       "8758                14.8        275322.0  \n",
       "8759                12.5        241588.0  \n",
       "\n",
       "[8760 rows x 28 columns]"
      ]
     },
     "execution_count": 136,
     "metadata": {},
     "output_type": "execute_result"
    }
   ],
   "source": [
    "directory = '/Users/yukahatori/A_Fairness/FairnessML_git/NOAA_and_CAISO_Data_ONEYEAR/'\n",
    "dataFiles = [f for f in listdir(directory) if isfile(join(directory, f))] \n",
    "for file in dataFiles:\n",
    "    print(file)\n",
    "    df = pd.read_csv(directory + file)\n",
    "\n",
    "#for now, I will only use SF data \n",
    "location = '_SF'\n",
    "df = pd.read_csv(directory + dataFiles[3])\n",
    "df0 = pd.read_csv(directory + dataFiles[3])\n",
    "df"
   ]
  },
  {
   "cell_type": "code",
   "execution_count": 137,
   "id": "4ef8706e",
   "metadata": {},
   "outputs": [],
   "source": [
    "df['date'] = pd.to_datetime(df['date'], format='%m-%dT%H:%M:%S')\n",
    "df['date']= df[\"date\"].map(lambda x: x.replace(year=2019))\n",
    "df.index = df['date']"
   ]
  },
  {
   "cell_type": "code",
   "execution_count": 138,
   "id": "6461c77a",
   "metadata": {},
   "outputs": [],
   "source": [
    "df.drop('date', axis=1, inplace=True)"
   ]
  },
  {
   "cell_type": "code",
   "execution_count": 158,
   "id": "ca05a2d4",
   "metadata": {},
   "outputs": [],
   "source": [
    "# https://github.com/scikit-learn-contrib/sklearn-pandas/issues/41\n",
    "from sklearn.preprocessing import MinMaxScaler\n",
    "mapper = DataFrameMapper(df)\n",
    "scaler = MinMaxScaler(feature_range=(0,1))\n",
    "transformed = mapper.fit_transform(np.array(df['HLY_TEMP_NORMAL_SF'].values.reshape(-1, 1)))"
   ]
  },
  {
   "cell_type": "code",
   "execution_count": 159,
   "id": "7c04a01d",
   "metadata": {},
   "outputs": [
    {
     "name": "stdout",
     "output_type": "stream",
     "text": [
      "[[0.09266409]\n",
      " [0.08108108]\n",
      " [0.04633205]\n",
      " ...\n",
      " [0.15830116]\n",
      " [0.13127413]\n",
      " [0.11583012]]\n"
     ]
    }
   ],
   "source": [
    "zoop = scaler.inverse_transform(np.array(df['HLY_TEMP_NORMAL_SF']).reshape(-1,1))\n",
    "print(zoop)"
   ]
  },
  {
   "cell_type": "code",
   "execution_count": 148,
   "id": "4e836750",
   "metadata": {},
   "outputs": [
    {
     "name": "stdout",
     "output_type": "stream",
     "text": [
      "[[0.13103448]\n",
      " [0.12413793]\n",
      " [0.08965517]\n",
      " ...\n",
      " [0.15172414]\n",
      " [0.14482759]\n",
      " [0.14482759]]\n"
     ]
    }
   ],
   "source": [
    "scaler1 = MinMaxScaler(feature_range=(0,1))\n",
    "aCol1 = scaler.fit_transform(np.array(df['HLY_DEWP_NORMAL_SF'].values.reshape(-1, 1)))\n",
    "print(aCol1)"
   ]
  },
  {
   "cell_type": "code",
   "execution_count": 149,
   "id": "12514346",
   "metadata": {},
   "outputs": [
    {
     "name": "stdout",
     "output_type": "stream",
     "text": [
      "[[43.2]\n",
      " [43.1]\n",
      " [42.6]\n",
      " ...\n",
      " [43.5]\n",
      " [43.4]\n",
      " [43.4]]\n"
     ]
    }
   ],
   "source": [
    "zoop = scaler.inverse_transform(aCol1)\n",
    "print(zoop)"
   ]
  },
  {
   "cell_type": "code",
   "execution_count": 151,
   "id": "74c14b09",
   "metadata": {},
   "outputs": [
    {
     "name": "stdout",
     "output_type": "stream",
     "text": [
      "[[0.05445545]\n",
      " [0.05940594]\n",
      " [0.04455446]\n",
      " ...\n",
      " [0.06435644]\n",
      " [0.05445545]\n",
      " [0.05940594]]\n"
     ]
    }
   ],
   "source": [
    "scaler1 = MinMaxScaler(feature_range=(0,1))\n",
    "aCol2 = scaler.fit_transform(np.array(df['HLY_WIND_VCTSPD_SF'].values.reshape(-1, 1)))\n",
    "print(aCol2)\n"
   ]
  },
  {
   "cell_type": "code",
   "execution_count": 152,
   "id": "6baf2c1c",
   "metadata": {},
   "outputs": [
    {
     "name": "stdout",
     "output_type": "stream",
     "text": [
      "[[1.1]\n",
      " [1.2]\n",
      " [0.9]\n",
      " ...\n",
      " [1.3]\n",
      " [1.1]\n",
      " [1.2]]\n"
     ]
    }
   ],
   "source": [
    "zoop = scaler.inverse_transform(aCol2)\n",
    "print(zoop)"
   ]
  },
  {
   "cell_type": "code",
   "execution_count": 98,
   "id": "a1d327be",
   "metadata": {},
   "outputs": [],
   "source": [
    "from sklearn.preprocessing import MinMaxScaler\n",
    "scaler = MinMaxScaler(feature_range=(0,1))\n",
    "# df1 = df['Megawatts_2019']\n",
    "# df1= scaler.fit_transform(np.array(df1.values.reshape(-1, 1)))\n",
    "# df1\n",
    "def scaleAllData(df):\n",
    "    for column in df.columns:\n",
    "#         df1 = df[column]\n",
    "        df[column] = scaler.fit_transform(np.array(df[column].values.reshape(-1, 1)))\n",
    "    return df"
   ]
  },
  {
   "cell_type": "code",
   "execution_count": 99,
   "id": "fda6cba8",
   "metadata": {},
   "outputs": [
    {
     "data": {
      "text/html": [
       "<div>\n",
       "<style scoped>\n",
       "    .dataframe tbody tr th:only-of-type {\n",
       "        vertical-align: middle;\n",
       "    }\n",
       "\n",
       "    .dataframe tbody tr th {\n",
       "        vertical-align: top;\n",
       "    }\n",
       "\n",
       "    .dataframe thead th {\n",
       "        text-align: right;\n",
       "    }\n",
       "</style>\n",
       "<table border=\"1\" class=\"dataframe\">\n",
       "  <thead>\n",
       "    <tr style=\"text-align: right;\">\n",
       "      <th></th>\n",
       "      <th>HLY_TEMP_NORMAL_SF</th>\n",
       "      <th>HLY_TEMP_10PCTL_SF</th>\n",
       "      <th>HLY_TEMP_90PCTL_SF</th>\n",
       "      <th>HLY_DEWP_NORMAL_SF</th>\n",
       "      <th>HLY_DEWP_10PCTL_SF</th>\n",
       "      <th>HLY_DEWP_90PCTL_SF</th>\n",
       "      <th>HLY_PRES_NORMAL_SF</th>\n",
       "      <th>HLY_PRES_10PCTL_SF</th>\n",
       "      <th>HLY_PRES_90PCTL_SF</th>\n",
       "      <th>HLY_CLDH_NORMAL_SF</th>\n",
       "      <th>...</th>\n",
       "      <th>HLY_WCHL_NORMAL_SF</th>\n",
       "      <th>HLY_WIND_AVGSPD_SF</th>\n",
       "      <th>HLY_WIND_PCTCLM_SF</th>\n",
       "      <th>HLY_WIND_VCTDIR_SF</th>\n",
       "      <th>HLY_WIND_VCTSPD_SF</th>\n",
       "      <th>HLY_WIND_1STDIR_SF</th>\n",
       "      <th>HLY_WIND_1STPCT_SF</th>\n",
       "      <th>HLY_WIND_2NDDIR_SF</th>\n",
       "      <th>HLY_WIND_2NDPCT_SF</th>\n",
       "      <th>Megawatts_2019</th>\n",
       "    </tr>\n",
       "    <tr>\n",
       "      <th>date</th>\n",
       "      <th></th>\n",
       "      <th></th>\n",
       "      <th></th>\n",
       "      <th></th>\n",
       "      <th></th>\n",
       "      <th></th>\n",
       "      <th></th>\n",
       "      <th></th>\n",
       "      <th></th>\n",
       "      <th></th>\n",
       "      <th></th>\n",
       "      <th></th>\n",
       "      <th></th>\n",
       "      <th></th>\n",
       "      <th></th>\n",
       "      <th></th>\n",
       "      <th></th>\n",
       "      <th></th>\n",
       "      <th></th>\n",
       "      <th></th>\n",
       "      <th></th>\n",
       "    </tr>\n",
       "  </thead>\n",
       "  <tbody>\n",
       "    <tr>\n",
       "      <th>2019-01-01 00:00:00</th>\n",
       "      <td>0.092664</td>\n",
       "      <td>0.188889</td>\n",
       "      <td>0.030201</td>\n",
       "      <td>0.131034</td>\n",
       "      <td>0.155</td>\n",
       "      <td>0.090909</td>\n",
       "      <td>0.816327</td>\n",
       "      <td>0.478261</td>\n",
       "      <td>0.862595</td>\n",
       "      <td>0.0</td>\n",
       "      <td>...</td>\n",
       "      <td>0.100719</td>\n",
       "      <td>0.088757</td>\n",
       "      <td>0.723647</td>\n",
       "      <td>0.543175</td>\n",
       "      <td>0.054455</td>\n",
       "      <td>0.571429</td>\n",
       "      <td>0.052863</td>\n",
       "      <td>0.428571</td>\n",
       "      <td>0.202667</td>\n",
       "      <td>0.517104</td>\n",
       "    </tr>\n",
       "    <tr>\n",
       "      <th>2019-01-01 01:00:00</th>\n",
       "      <td>0.081081</td>\n",
       "      <td>0.148148</td>\n",
       "      <td>0.030201</td>\n",
       "      <td>0.124138</td>\n",
       "      <td>0.155</td>\n",
       "      <td>0.090909</td>\n",
       "      <td>0.795918</td>\n",
       "      <td>0.405797</td>\n",
       "      <td>0.854962</td>\n",
       "      <td>0.0</td>\n",
       "      <td>...</td>\n",
       "      <td>0.089928</td>\n",
       "      <td>0.082840</td>\n",
       "      <td>0.811966</td>\n",
       "      <td>0.534819</td>\n",
       "      <td>0.059406</td>\n",
       "      <td>0.428571</td>\n",
       "      <td>0.051395</td>\n",
       "      <td>0.571429</td>\n",
       "      <td>0.170667</td>\n",
       "      <td>0.455968</td>\n",
       "    </tr>\n",
       "    <tr>\n",
       "      <th>2019-01-01 02:00:00</th>\n",
       "      <td>0.046332</td>\n",
       "      <td>0.114815</td>\n",
       "      <td>0.000000</td>\n",
       "      <td>0.089655</td>\n",
       "      <td>0.155</td>\n",
       "      <td>0.090909</td>\n",
       "      <td>0.806122</td>\n",
       "      <td>0.434783</td>\n",
       "      <td>0.854962</td>\n",
       "      <td>0.0</td>\n",
       "      <td>...</td>\n",
       "      <td>0.053957</td>\n",
       "      <td>0.082840</td>\n",
       "      <td>0.754986</td>\n",
       "      <td>0.509749</td>\n",
       "      <td>0.044554</td>\n",
       "      <td>0.428571</td>\n",
       "      <td>0.054332</td>\n",
       "      <td>0.714286</td>\n",
       "      <td>0.154667</td>\n",
       "      <td>0.442268</td>\n",
       "    </tr>\n",
       "    <tr>\n",
       "      <th>2019-01-01 03:00:00</th>\n",
       "      <td>0.030888</td>\n",
       "      <td>0.074074</td>\n",
       "      <td>0.030201</td>\n",
       "      <td>0.068966</td>\n",
       "      <td>0.100</td>\n",
       "      <td>0.090909</td>\n",
       "      <td>0.806122</td>\n",
       "      <td>0.434783</td>\n",
       "      <td>0.862595</td>\n",
       "      <td>0.0</td>\n",
       "      <td>...</td>\n",
       "      <td>0.035971</td>\n",
       "      <td>0.082840</td>\n",
       "      <td>0.709402</td>\n",
       "      <td>0.493036</td>\n",
       "      <td>0.054455</td>\n",
       "      <td>0.428571</td>\n",
       "      <td>0.076358</td>\n",
       "      <td>0.571429</td>\n",
       "      <td>0.181333</td>\n",
       "      <td>0.434508</td>\n",
       "    </tr>\n",
       "    <tr>\n",
       "      <th>2019-01-01 04:00:00</th>\n",
       "      <td>0.015444</td>\n",
       "      <td>0.033333</td>\n",
       "      <td>0.000000</td>\n",
       "      <td>0.062069</td>\n",
       "      <td>0.100</td>\n",
       "      <td>0.090909</td>\n",
       "      <td>0.785714</td>\n",
       "      <td>0.333333</td>\n",
       "      <td>0.839695</td>\n",
       "      <td>0.0</td>\n",
       "      <td>...</td>\n",
       "      <td>0.017986</td>\n",
       "      <td>0.065089</td>\n",
       "      <td>0.794872</td>\n",
       "      <td>0.484680</td>\n",
       "      <td>0.039604</td>\n",
       "      <td>0.428571</td>\n",
       "      <td>0.066079</td>\n",
       "      <td>0.857143</td>\n",
       "      <td>0.120000</td>\n",
       "      <td>0.435255</td>\n",
       "    </tr>\n",
       "    <tr>\n",
       "      <th>...</th>\n",
       "      <td>...</td>\n",
       "      <td>...</td>\n",
       "      <td>...</td>\n",
       "      <td>...</td>\n",
       "      <td>...</td>\n",
       "      <td>...</td>\n",
       "      <td>...</td>\n",
       "      <td>...</td>\n",
       "      <td>...</td>\n",
       "      <td>...</td>\n",
       "      <td>...</td>\n",
       "      <td>...</td>\n",
       "      <td>...</td>\n",
       "      <td>...</td>\n",
       "      <td>...</td>\n",
       "      <td>...</td>\n",
       "      <td>...</td>\n",
       "      <td>...</td>\n",
       "      <td>...</td>\n",
       "      <td>...</td>\n",
       "      <td>...</td>\n",
       "    </tr>\n",
       "    <tr>\n",
       "      <th>2019-12-31 19:00:00</th>\n",
       "      <td>0.196911</td>\n",
       "      <td>0.292593</td>\n",
       "      <td>0.093960</td>\n",
       "      <td>0.179310</td>\n",
       "      <td>0.200</td>\n",
       "      <td>0.181818</td>\n",
       "      <td>0.755102</td>\n",
       "      <td>0.362319</td>\n",
       "      <td>0.824427</td>\n",
       "      <td>0.0</td>\n",
       "      <td>...</td>\n",
       "      <td>0.208633</td>\n",
       "      <td>0.171598</td>\n",
       "      <td>0.507123</td>\n",
       "      <td>0.707521</td>\n",
       "      <td>0.094059</td>\n",
       "      <td>0.857143</td>\n",
       "      <td>0.165932</td>\n",
       "      <td>0.428571</td>\n",
       "      <td>0.194667</td>\n",
       "      <td>0.566473</td>\n",
       "    </tr>\n",
       "    <tr>\n",
       "      <th>2019-12-31 20:00:00</th>\n",
       "      <td>0.177606</td>\n",
       "      <td>0.259259</td>\n",
       "      <td>0.063758</td>\n",
       "      <td>0.158621</td>\n",
       "      <td>0.200</td>\n",
       "      <td>0.181818</td>\n",
       "      <td>0.775510</td>\n",
       "      <td>0.434783</td>\n",
       "      <td>0.839695</td>\n",
       "      <td>0.0</td>\n",
       "      <td>...</td>\n",
       "      <td>0.190647</td>\n",
       "      <td>0.142012</td>\n",
       "      <td>0.609687</td>\n",
       "      <td>0.674095</td>\n",
       "      <td>0.059406</td>\n",
       "      <td>0.857143</td>\n",
       "      <td>0.096916</td>\n",
       "      <td>0.428571</td>\n",
       "      <td>0.189333</td>\n",
       "      <td>0.544774</td>\n",
       "    </tr>\n",
       "    <tr>\n",
       "      <th>2019-12-31 21:00:00</th>\n",
       "      <td>0.158301</td>\n",
       "      <td>0.259259</td>\n",
       "      <td>0.063758</td>\n",
       "      <td>0.151724</td>\n",
       "      <td>0.155</td>\n",
       "      <td>0.090909</td>\n",
       "      <td>0.795918</td>\n",
       "      <td>0.405797</td>\n",
       "      <td>0.854962</td>\n",
       "      <td>0.0</td>\n",
       "      <td>...</td>\n",
       "      <td>0.165468</td>\n",
       "      <td>0.136095</td>\n",
       "      <td>0.532764</td>\n",
       "      <td>0.604457</td>\n",
       "      <td>0.064356</td>\n",
       "      <td>0.857143</td>\n",
       "      <td>0.111601</td>\n",
       "      <td>0.428571</td>\n",
       "      <td>0.261333</td>\n",
       "      <td>0.524462</td>\n",
       "    </tr>\n",
       "    <tr>\n",
       "      <th>2019-12-31 22:00:00</th>\n",
       "      <td>0.131274</td>\n",
       "      <td>0.222222</td>\n",
       "      <td>0.030201</td>\n",
       "      <td>0.144828</td>\n",
       "      <td>0.155</td>\n",
       "      <td>0.090909</td>\n",
       "      <td>0.816327</td>\n",
       "      <td>0.478261</td>\n",
       "      <td>0.877863</td>\n",
       "      <td>0.0</td>\n",
       "      <td>...</td>\n",
       "      <td>0.140288</td>\n",
       "      <td>0.106509</td>\n",
       "      <td>0.692308</td>\n",
       "      <td>0.579387</td>\n",
       "      <td>0.054455</td>\n",
       "      <td>0.428571</td>\n",
       "      <td>0.101322</td>\n",
       "      <td>0.857143</td>\n",
       "      <td>0.216000</td>\n",
       "      <td>0.500764</td>\n",
       "    </tr>\n",
       "    <tr>\n",
       "      <th>2019-12-31 23:00:00</th>\n",
       "      <td>0.115830</td>\n",
       "      <td>0.222222</td>\n",
       "      <td>0.030201</td>\n",
       "      <td>0.144828</td>\n",
       "      <td>0.155</td>\n",
       "      <td>0.090909</td>\n",
       "      <td>0.816327</td>\n",
       "      <td>0.449275</td>\n",
       "      <td>0.870229</td>\n",
       "      <td>0.0</td>\n",
       "      <td>...</td>\n",
       "      <td>0.122302</td>\n",
       "      <td>0.100592</td>\n",
       "      <td>0.786325</td>\n",
       "      <td>0.573816</td>\n",
       "      <td>0.059406</td>\n",
       "      <td>0.428571</td>\n",
       "      <td>0.076358</td>\n",
       "      <td>0.857143</td>\n",
       "      <td>0.154667</td>\n",
       "      <td>0.434592</td>\n",
       "    </tr>\n",
       "  </tbody>\n",
       "</table>\n",
       "<p>8760 rows × 27 columns</p>\n",
       "</div>"
      ],
      "text/plain": [
       "                     HLY_TEMP_NORMAL_SF  HLY_TEMP_10PCTL_SF  \\\n",
       "date                                                          \n",
       "2019-01-01 00:00:00            0.092664            0.188889   \n",
       "2019-01-01 01:00:00            0.081081            0.148148   \n",
       "2019-01-01 02:00:00            0.046332            0.114815   \n",
       "2019-01-01 03:00:00            0.030888            0.074074   \n",
       "2019-01-01 04:00:00            0.015444            0.033333   \n",
       "...                                 ...                 ...   \n",
       "2019-12-31 19:00:00            0.196911            0.292593   \n",
       "2019-12-31 20:00:00            0.177606            0.259259   \n",
       "2019-12-31 21:00:00            0.158301            0.259259   \n",
       "2019-12-31 22:00:00            0.131274            0.222222   \n",
       "2019-12-31 23:00:00            0.115830            0.222222   \n",
       "\n",
       "                     HLY_TEMP_90PCTL_SF  HLY_DEWP_NORMAL_SF  \\\n",
       "date                                                          \n",
       "2019-01-01 00:00:00            0.030201            0.131034   \n",
       "2019-01-01 01:00:00            0.030201            0.124138   \n",
       "2019-01-01 02:00:00            0.000000            0.089655   \n",
       "2019-01-01 03:00:00            0.030201            0.068966   \n",
       "2019-01-01 04:00:00            0.000000            0.062069   \n",
       "...                                 ...                 ...   \n",
       "2019-12-31 19:00:00            0.093960            0.179310   \n",
       "2019-12-31 20:00:00            0.063758            0.158621   \n",
       "2019-12-31 21:00:00            0.063758            0.151724   \n",
       "2019-12-31 22:00:00            0.030201            0.144828   \n",
       "2019-12-31 23:00:00            0.030201            0.144828   \n",
       "\n",
       "                     HLY_DEWP_10PCTL_SF  HLY_DEWP_90PCTL_SF  \\\n",
       "date                                                          \n",
       "2019-01-01 00:00:00               0.155            0.090909   \n",
       "2019-01-01 01:00:00               0.155            0.090909   \n",
       "2019-01-01 02:00:00               0.155            0.090909   \n",
       "2019-01-01 03:00:00               0.100            0.090909   \n",
       "2019-01-01 04:00:00               0.100            0.090909   \n",
       "...                                 ...                 ...   \n",
       "2019-12-31 19:00:00               0.200            0.181818   \n",
       "2019-12-31 20:00:00               0.200            0.181818   \n",
       "2019-12-31 21:00:00               0.155            0.090909   \n",
       "2019-12-31 22:00:00               0.155            0.090909   \n",
       "2019-12-31 23:00:00               0.155            0.090909   \n",
       "\n",
       "                     HLY_PRES_NORMAL_SF  HLY_PRES_10PCTL_SF  \\\n",
       "date                                                          \n",
       "2019-01-01 00:00:00            0.816327            0.478261   \n",
       "2019-01-01 01:00:00            0.795918            0.405797   \n",
       "2019-01-01 02:00:00            0.806122            0.434783   \n",
       "2019-01-01 03:00:00            0.806122            0.434783   \n",
       "2019-01-01 04:00:00            0.785714            0.333333   \n",
       "...                                 ...                 ...   \n",
       "2019-12-31 19:00:00            0.755102            0.362319   \n",
       "2019-12-31 20:00:00            0.775510            0.434783   \n",
       "2019-12-31 21:00:00            0.795918            0.405797   \n",
       "2019-12-31 22:00:00            0.816327            0.478261   \n",
       "2019-12-31 23:00:00            0.816327            0.449275   \n",
       "\n",
       "                     HLY_PRES_90PCTL_SF  HLY_CLDH_NORMAL_SF  ...  \\\n",
       "date                                                         ...   \n",
       "2019-01-01 00:00:00            0.862595                 0.0  ...   \n",
       "2019-01-01 01:00:00            0.854962                 0.0  ...   \n",
       "2019-01-01 02:00:00            0.854962                 0.0  ...   \n",
       "2019-01-01 03:00:00            0.862595                 0.0  ...   \n",
       "2019-01-01 04:00:00            0.839695                 0.0  ...   \n",
       "...                                 ...                 ...  ...   \n",
       "2019-12-31 19:00:00            0.824427                 0.0  ...   \n",
       "2019-12-31 20:00:00            0.839695                 0.0  ...   \n",
       "2019-12-31 21:00:00            0.854962                 0.0  ...   \n",
       "2019-12-31 22:00:00            0.877863                 0.0  ...   \n",
       "2019-12-31 23:00:00            0.870229                 0.0  ...   \n",
       "\n",
       "                     HLY_WCHL_NORMAL_SF  HLY_WIND_AVGSPD_SF  \\\n",
       "date                                                          \n",
       "2019-01-01 00:00:00            0.100719            0.088757   \n",
       "2019-01-01 01:00:00            0.089928            0.082840   \n",
       "2019-01-01 02:00:00            0.053957            0.082840   \n",
       "2019-01-01 03:00:00            0.035971            0.082840   \n",
       "2019-01-01 04:00:00            0.017986            0.065089   \n",
       "...                                 ...                 ...   \n",
       "2019-12-31 19:00:00            0.208633            0.171598   \n",
       "2019-12-31 20:00:00            0.190647            0.142012   \n",
       "2019-12-31 21:00:00            0.165468            0.136095   \n",
       "2019-12-31 22:00:00            0.140288            0.106509   \n",
       "2019-12-31 23:00:00            0.122302            0.100592   \n",
       "\n",
       "                     HLY_WIND_PCTCLM_SF  HLY_WIND_VCTDIR_SF  \\\n",
       "date                                                          \n",
       "2019-01-01 00:00:00            0.723647            0.543175   \n",
       "2019-01-01 01:00:00            0.811966            0.534819   \n",
       "2019-01-01 02:00:00            0.754986            0.509749   \n",
       "2019-01-01 03:00:00            0.709402            0.493036   \n",
       "2019-01-01 04:00:00            0.794872            0.484680   \n",
       "...                                 ...                 ...   \n",
       "2019-12-31 19:00:00            0.507123            0.707521   \n",
       "2019-12-31 20:00:00            0.609687            0.674095   \n",
       "2019-12-31 21:00:00            0.532764            0.604457   \n",
       "2019-12-31 22:00:00            0.692308            0.579387   \n",
       "2019-12-31 23:00:00            0.786325            0.573816   \n",
       "\n",
       "                     HLY_WIND_VCTSPD_SF  HLY_WIND_1STDIR_SF  \\\n",
       "date                                                          \n",
       "2019-01-01 00:00:00            0.054455            0.571429   \n",
       "2019-01-01 01:00:00            0.059406            0.428571   \n",
       "2019-01-01 02:00:00            0.044554            0.428571   \n",
       "2019-01-01 03:00:00            0.054455            0.428571   \n",
       "2019-01-01 04:00:00            0.039604            0.428571   \n",
       "...                                 ...                 ...   \n",
       "2019-12-31 19:00:00            0.094059            0.857143   \n",
       "2019-12-31 20:00:00            0.059406            0.857143   \n",
       "2019-12-31 21:00:00            0.064356            0.857143   \n",
       "2019-12-31 22:00:00            0.054455            0.428571   \n",
       "2019-12-31 23:00:00            0.059406            0.428571   \n",
       "\n",
       "                     HLY_WIND_1STPCT_SF  HLY_WIND_2NDDIR_SF  \\\n",
       "date                                                          \n",
       "2019-01-01 00:00:00            0.052863            0.428571   \n",
       "2019-01-01 01:00:00            0.051395            0.571429   \n",
       "2019-01-01 02:00:00            0.054332            0.714286   \n",
       "2019-01-01 03:00:00            0.076358            0.571429   \n",
       "2019-01-01 04:00:00            0.066079            0.857143   \n",
       "...                                 ...                 ...   \n",
       "2019-12-31 19:00:00            0.165932            0.428571   \n",
       "2019-12-31 20:00:00            0.096916            0.428571   \n",
       "2019-12-31 21:00:00            0.111601            0.428571   \n",
       "2019-12-31 22:00:00            0.101322            0.857143   \n",
       "2019-12-31 23:00:00            0.076358            0.857143   \n",
       "\n",
       "                     HLY_WIND_2NDPCT_SF  Megawatts_2019  \n",
       "date                                                     \n",
       "2019-01-01 00:00:00            0.202667        0.517104  \n",
       "2019-01-01 01:00:00            0.170667        0.455968  \n",
       "2019-01-01 02:00:00            0.154667        0.442268  \n",
       "2019-01-01 03:00:00            0.181333        0.434508  \n",
       "2019-01-01 04:00:00            0.120000        0.435255  \n",
       "...                                 ...             ...  \n",
       "2019-12-31 19:00:00            0.194667        0.566473  \n",
       "2019-12-31 20:00:00            0.189333        0.544774  \n",
       "2019-12-31 21:00:00            0.261333        0.524462  \n",
       "2019-12-31 22:00:00            0.216000        0.500764  \n",
       "2019-12-31 23:00:00            0.154667        0.434592  \n",
       "\n",
       "[8760 rows x 27 columns]"
      ]
     },
     "execution_count": 99,
     "metadata": {},
     "output_type": "execute_result"
    }
   ],
   "source": [
    "df = scaleAllData(df)\n",
    "df"
   ]
  },
  {
   "cell_type": "code",
   "execution_count": 100,
   "id": "32a6c9d3",
   "metadata": {},
   "outputs": [],
   "source": [
    "hly = df['HLY_TEMP_NORMAL_SF']"
   ]
  },
  {
   "cell_type": "code",
   "execution_count": 105,
   "id": "55509b67",
   "metadata": {},
   "outputs": [],
   "source": [
    "#EX: X has [48.8, 44.1, 54.0, ... , 0.999998] -> y[252485] (energy consumption data)\n",
    "#this function is from : https://www.youtube.com/watch?v=kGdbPnMCdOg\n",
    "def df_to_X_y(df, window_size= 5): #1 day of feature data\n",
    "    df_as_np = df.to_numpy()\n",
    "    X = []\n",
    "    y = []\n",
    "    for i in range(len(df_as_np)-window_size):\n",
    "        row = [a for a in df_as_np[i:i+window_size]]\n",
    "        X.append(row)\n",
    "        label = df_as_np[i+window_size]\n",
    "        y.append(label)\n",
    "    return np.array(X), np.array(y)"
   ]
  },
  {
   "cell_type": "code",
   "execution_count": 106,
   "id": "81afd157",
   "metadata": {},
   "outputs": [
    {
     "data": {
      "text/plain": [
       "((8757, 3), (8757,))"
      ]
     },
     "execution_count": 106,
     "metadata": {},
     "output_type": "execute_result"
    }
   ],
   "source": [
    "X, y = df_to_X_y(hly, 3) \n",
    "X.shape, y.shape"
   ]
  },
  {
   "cell_type": "code",
   "execution_count": 103,
   "id": "c0ac3e5e",
   "metadata": {},
   "outputs": [
    {
     "data": {
      "text/plain": [
       "array([[0.09266409],\n",
       "       [0.08108108],\n",
       "       [0.04633205]])"
      ]
     },
     "execution_count": 103,
     "metadata": {},
     "output_type": "execute_result"
    }
   ],
   "source": [
    "X[0]"
   ]
  },
  {
   "cell_type": "code",
   "execution_count": 104,
   "id": "ef091f75",
   "metadata": {},
   "outputs": [
    {
     "name": "stdout",
     "output_type": "stream",
     "text": [
      "[[67274.69111969 61369.72972973 43654.84555985 35781.56370656\n",
      "  27908.28185328 23971.64092664 23971.64092664 27908.28185328\n",
      "  35781.56370656 69243.01158301]]\n"
     ]
    }
   ],
   "source": [
    "zoop = scaler.inverse_transform(X[:10, 0].reshape(1,-1))\n",
    "print(zoop)"
   ]
  },
  {
   "cell_type": "code",
   "execution_count": 176,
   "id": "3b266969",
   "metadata": {},
   "outputs": [
    {
     "name": "stdout",
     "output_type": "stream",
     "text": [
      "8756\n"
     ]
    },
    {
     "data": {
      "text/plain": [
       "((7881, 3, 1), (7881,), (875, 3, 1), (875,), (3, 3, 1), (3,))"
      ]
     },
     "execution_count": 176,
     "metadata": {},
     "output_type": "execute_result"
    }
   ],
   "source": [
    "train_percent = 0.9\n",
    "validation_percent = 0.1\n",
    "\n",
    "train_percent_split = int(train_percent * len(X))\n",
    "validation_percent_split = int(validation_percent * len(X)) + train_percent_split\n",
    "print(validation_percent_split)\n",
    "\n",
    "X_train, y_train = X[:train_percent_split], y[:train_percent_split]\n",
    "X_val, y_val = X[train_percent_split:validation_percent_split], y[train_percent_split:validation_percent_split] #validation\n",
    "\n",
    "# just gonna have it hold like 1 day of prev data \n",
    "testData = validation_percent_split - 2\n",
    "X_test, y_test = X[testData:], y[testData:]\n",
    "\n",
    "X_train.shape, y_train.shape, X_val.shape, y_val.shape, X_test.shape, y_test.shape"
   ]
  },
  {
   "cell_type": "code",
   "execution_count": 177,
   "id": "9bf47dd7",
   "metadata": {},
   "outputs": [
    {
     "name": "stdout",
     "output_type": "stream",
     "text": [
      "[[[0.22393822]\n",
      "  [0.1969112 ]\n",
      "  [0.17760618]]\n",
      "\n",
      " [[0.1969112 ]\n",
      "  [0.17760618]\n",
      "  [0.15830116]]\n",
      "\n",
      " [[0.17760618]\n",
      "  [0.15830116]\n",
      "  [0.13127413]]]\n",
      "[0.15830116 0.13127413 0.11583012]\n"
     ]
    }
   ],
   "source": [
    "print(X_test)\n",
    "print(y_test)"
   ]
  },
  {
   "cell_type": "markdown",
   "id": "ca78da1e",
   "metadata": {},
   "source": [
    "# Step 4: Create a stacked LSTM"
   ]
  },
  {
   "cell_type": "code",
   "execution_count": 178,
   "id": "e0e8a8a8",
   "metadata": {},
   "outputs": [],
   "source": [
    "### Create the Stacked LSTM model\n",
    "from tensorflow.keras.models import Sequential\n",
    "from tensorflow.keras.layers import Dense\n",
    "from tensorflow.keras.layers import LSTM"
   ]
  },
  {
   "cell_type": "code",
   "execution_count": 179,
   "id": "69aab939",
   "metadata": {},
   "outputs": [
    {
     "name": "stdout",
     "output_type": "stream",
     "text": [
      "Model: \"sequential_2\"\n",
      "_________________________________________________________________\n",
      " Layer (type)                Output Shape              Param #   \n",
      "=================================================================\n",
      " lstm_10 (LSTM)              (None, 3, 64)             16896     \n",
      "                                                                 \n",
      " lstm_11 (LSTM)              (None, 3, 128)            98816     \n",
      "                                                                 \n",
      " lstm_12 (LSTM)              (None, 3, 256)            394240    \n",
      "                                                                 \n",
      " lstm_13 (LSTM)              (None, 3, 128)            197120    \n",
      "                                                                 \n",
      " lstm_14 (LSTM)              (None, 64)                49408     \n",
      "                                                                 \n",
      " dense_2 (Dense)             (None, 1)                 65        \n",
      "                                                                 \n",
      "=================================================================\n",
      "Total params: 756,545\n",
      "Trainable params: 756,545\n",
      "Non-trainable params: 0\n",
      "_________________________________________________________________\n"
     ]
    }
   ],
   "source": [
    "# model=Sequential()\n",
    "# model.add(LSTM(64,return_sequences=True,input_shape=(1,31))) #100 steps, 1 feature \n",
    "# model.add(LSTM(64,return_sequences=True))\n",
    "# model.add(LSTM(64))\n",
    "# model.add(Dense(1))\n",
    "\n",
    "# model.summary()\n",
    "\n",
    "model1=Sequential()\n",
    "model1.add(LSTM(64,return_sequences=True,input_shape=(3,1))) #100 steps, 1 feature \n",
    "model1.add(LSTM(128,return_sequences=True))\n",
    "model1.add(LSTM(256, return_sequences= True))\n",
    "model1.add(LSTM(128, return_sequences=True))\n",
    "model1.add(LSTM(64))\n",
    "model1.add(Dense(1))\n",
    "\n",
    "model.summary()"
   ]
  },
  {
   "cell_type": "markdown",
   "id": "4b7a7958",
   "metadata": {},
   "source": [
    "### Optimal epochs\n",
    "\n",
    "https://www.geeksforgeeks.org/choose-optimal-number-of-epochs-to-train-a-neural-network-in-keras/"
   ]
  },
  {
   "cell_type": "code",
   "execution_count": 180,
   "id": "765f33b0",
   "metadata": {},
   "outputs": [
    {
     "name": "stdout",
     "output_type": "stream",
     "text": [
      "Epoch 1/35\n",
      "165/165 [==============================] - 10s 28ms/step - loss: 0.0013 - accuracy: 6.3444e-04 - val_loss: 0.0026 - val_accuracy: 0.0023\n",
      "Epoch 2/35\n",
      "165/165 [==============================] - 3s 19ms/step - loss: 0.0010 - accuracy: 6.3444e-04 - val_loss: 4.2291e-04 - val_accuracy: 0.0023\n",
      "Epoch 3/35\n",
      "165/165 [==============================] - 3s 17ms/step - loss: 9.7300e-04 - accuracy: 6.3444e-04 - val_loss: 0.0023 - val_accuracy: 0.0023\n",
      "Epoch 4/35\n",
      "165/165 [==============================] - 3s 18ms/step - loss: 9.0938e-04 - accuracy: 6.3444e-04 - val_loss: 0.0066 - val_accuracy: 0.0023\n",
      "Epoch 5/35\n",
      "165/165 [==============================] - 3s 17ms/step - loss: 8.8521e-04 - accuracy: 6.3444e-04 - val_loss: 2.7644e-04 - val_accuracy: 0.0023\n",
      "Epoch 6/35\n",
      "165/165 [==============================] - 3s 17ms/step - loss: 8.9360e-04 - accuracy: 6.3444e-04 - val_loss: 0.0014 - val_accuracy: 0.0023\n",
      "Epoch 7/35\n",
      "165/165 [==============================] - 3s 17ms/step - loss: 8.7134e-04 - accuracy: 6.3444e-04 - val_loss: 6.4018e-04 - val_accuracy: 0.0023\n",
      "Epoch 8/35\n",
      "165/165 [==============================] - 3s 20ms/step - loss: 7.8919e-04 - accuracy: 6.3444e-04 - val_loss: 0.0011 - val_accuracy: 0.0023\n",
      "Epoch 9/35\n",
      "165/165 [==============================] - 3s 18ms/step - loss: 7.8489e-04 - accuracy: 6.3444e-04 - val_loss: 0.0011 - val_accuracy: 0.0023\n",
      "Epoch 10/35\n",
      "165/165 [==============================] - 3s 18ms/step - loss: 7.7128e-04 - accuracy: 6.3444e-04 - val_loss: 2.7458e-04 - val_accuracy: 0.0023\n",
      "Epoch 11/35\n",
      "165/165 [==============================] - 3s 18ms/step - loss: 7.1803e-04 - accuracy: 6.3444e-04 - val_loss: 0.0012 - val_accuracy: 0.0023\n",
      "Epoch 12/35\n",
      "165/165 [==============================] - 3s 18ms/step - loss: 7.4508e-04 - accuracy: 6.3444e-04 - val_loss: 6.0920e-04 - val_accuracy: 0.0023\n",
      "Epoch 13/35\n",
      "165/165 [==============================] - 3s 18ms/step - loss: 7.0327e-04 - accuracy: 6.3444e-04 - val_loss: 0.0034 - val_accuracy: 0.0023\n",
      "Epoch 14/35\n",
      "165/165 [==============================] - 3s 19ms/step - loss: 6.8435e-04 - accuracy: 6.3444e-04 - val_loss: 6.0128e-04 - val_accuracy: 0.0023\n",
      "Epoch 15/35\n",
      "163/165 [============================>.] - ETA: 0s - loss: 6.5500e-04 - accuracy: 6.3906e-04Restoring model weights from the end of the best epoch: 10.\n",
      "165/165 [==============================] - 3s 18ms/step - loss: 6.5264e-04 - accuracy: 6.3444e-04 - val_loss: 2.8999e-04 - val_accuracy: 0.0023\n",
      "Epoch 00015: early stopping\n"
     ]
    }
   ],
   "source": [
    "from keras import callbacks\n",
    "from tensorflow.keras.losses import MeanSquaredError\n",
    "\n",
    "model.compile(loss = MeanSquaredError(), optimizer =\"rmsprop\", metrics = ['accuracy'])\n",
    "earlystopping = callbacks.EarlyStopping(monitor =\"val_loss\", \n",
    "                                        mode =\"min\", patience = 5, \n",
    "                                        restore_best_weights = True, verbose = 1)\n",
    "  \n",
    "history = model.fit(X_train, y_train, validation_data=(X_val, y_val), batch_size = 48, \n",
    "                    epochs = 35, \n",
    "                    callbacks =[earlystopping])"
   ]
  },
  {
   "cell_type": "code",
   "execution_count": 181,
   "id": "4b643d21",
   "metadata": {},
   "outputs": [],
   "source": [
    "from tensorflow.keras.layers import *\n",
    "from tensorflow.keras.callbacks import ModelCheckpoint\n",
    "from tensorflow.keras.metrics import RootMeanSquaredError\n",
    "from tensorflow.keras.metrics import MeanAbsoluteError\n",
    "from tensorflow.keras.optimizers import Adam\n",
    "\n",
    "cp1 = ModelCheckpoint(directory+'model1/', save_best_only = True) #I want to only save the best model (lowest validation loss)\n",
    "model.compile(loss = MeanSquaredError(), optimizer = Adam(learning_rate = 0.0001), metrics = [RootMeanSquaredError()])"
   ]
  },
  {
   "cell_type": "code",
   "execution_count": 182,
   "id": "a0460af2",
   "metadata": {},
   "outputs": [
    {
     "name": "stdout",
     "output_type": "stream",
     "text": [
      "Epoch 1/8\n",
      "244/247 [============================>.] - ETA: 0s - loss: 3.1411e-04 - root_mean_squared_error: 0.0177"
     ]
    },
    {
     "name": "stderr",
     "output_type": "stream",
     "text": [
      "WARNING:absl:Found untraced functions such as lstm_cell_10_layer_call_fn, lstm_cell_10_layer_call_and_return_conditional_losses, lstm_cell_11_layer_call_fn, lstm_cell_11_layer_call_and_return_conditional_losses, lstm_cell_12_layer_call_fn while saving (showing 5 of 25). These functions will not be directly callable after loading.\n"
     ]
    },
    {
     "name": "stdout",
     "output_type": "stream",
     "text": [
      "INFO:tensorflow:Assets written to: /Users/yukahatori/A_Fairness/FairnessML_git/NOAA_and_CAISO_Data_ONEYEAR/model1/assets\n"
     ]
    },
    {
     "name": "stderr",
     "output_type": "stream",
     "text": [
      "INFO:tensorflow:Assets written to: /Users/yukahatori/A_Fairness/FairnessML_git/NOAA_and_CAISO_Data_ONEYEAR/model1/assets\n",
      "WARNING:absl:<keras.layers.recurrent.LSTMCell object at 0x7fedec6f4580> has the same name 'LSTMCell' as a built-in Keras object. Consider renaming <class 'keras.layers.recurrent.LSTMCell'> to avoid naming conflicts when loading with `tf.keras.models.load_model`. If renaming is not possible, pass the object in the `custom_objects` parameter of the load function.\n",
      "WARNING:absl:<keras.layers.recurrent.LSTMCell object at 0x7fee09dfe4f0> has the same name 'LSTMCell' as a built-in Keras object. Consider renaming <class 'keras.layers.recurrent.LSTMCell'> to avoid naming conflicts when loading with `tf.keras.models.load_model`. If renaming is not possible, pass the object in the `custom_objects` parameter of the load function.\n",
      "WARNING:absl:<keras.layers.recurrent.LSTMCell object at 0x7fedee36ea60> has the same name 'LSTMCell' as a built-in Keras object. Consider renaming <class 'keras.layers.recurrent.LSTMCell'> to avoid naming conflicts when loading with `tf.keras.models.load_model`. If renaming is not possible, pass the object in the `custom_objects` parameter of the load function.\n",
      "WARNING:absl:<keras.layers.recurrent.LSTMCell object at 0x7fedec75eeb0> has the same name 'LSTMCell' as a built-in Keras object. Consider renaming <class 'keras.layers.recurrent.LSTMCell'> to avoid naming conflicts when loading with `tf.keras.models.load_model`. If renaming is not possible, pass the object in the `custom_objects` parameter of the load function.\n",
      "WARNING:absl:<keras.layers.recurrent.LSTMCell object at 0x7fedec738e80> has the same name 'LSTMCell' as a built-in Keras object. Consider renaming <class 'keras.layers.recurrent.LSTMCell'> to avoid naming conflicts when loading with `tf.keras.models.load_model`. If renaming is not possible, pass the object in the `custom_objects` parameter of the load function.\n"
     ]
    },
    {
     "name": "stdout",
     "output_type": "stream",
     "text": [
      "247/247 [==============================] - 21s 64ms/step - loss: 3.1427e-04 - root_mean_squared_error: 0.0177 - val_loss: 2.9688e-04 - val_root_mean_squared_error: 0.0172\n",
      "Epoch 2/8\n",
      "246/247 [============================>.] - ETA: 0s - loss: 2.9155e-04 - root_mean_squared_error: 0.0171"
     ]
    },
    {
     "name": "stderr",
     "output_type": "stream",
     "text": [
      "WARNING:absl:Found untraced functions such as lstm_cell_10_layer_call_fn, lstm_cell_10_layer_call_and_return_conditional_losses, lstm_cell_11_layer_call_fn, lstm_cell_11_layer_call_and_return_conditional_losses, lstm_cell_12_layer_call_fn while saving (showing 5 of 25). These functions will not be directly callable after loading.\n"
     ]
    },
    {
     "name": "stdout",
     "output_type": "stream",
     "text": [
      "INFO:tensorflow:Assets written to: /Users/yukahatori/A_Fairness/FairnessML_git/NOAA_and_CAISO_Data_ONEYEAR/model1/assets\n"
     ]
    },
    {
     "name": "stderr",
     "output_type": "stream",
     "text": [
      "INFO:tensorflow:Assets written to: /Users/yukahatori/A_Fairness/FairnessML_git/NOAA_and_CAISO_Data_ONEYEAR/model1/assets\n",
      "WARNING:absl:<keras.layers.recurrent.LSTMCell object at 0x7fedec6f4580> has the same name 'LSTMCell' as a built-in Keras object. Consider renaming <class 'keras.layers.recurrent.LSTMCell'> to avoid naming conflicts when loading with `tf.keras.models.load_model`. If renaming is not possible, pass the object in the `custom_objects` parameter of the load function.\n",
      "WARNING:absl:<keras.layers.recurrent.LSTMCell object at 0x7fee09dfe4f0> has the same name 'LSTMCell' as a built-in Keras object. Consider renaming <class 'keras.layers.recurrent.LSTMCell'> to avoid naming conflicts when loading with `tf.keras.models.load_model`. If renaming is not possible, pass the object in the `custom_objects` parameter of the load function.\n",
      "WARNING:absl:<keras.layers.recurrent.LSTMCell object at 0x7fedee36ea60> has the same name 'LSTMCell' as a built-in Keras object. Consider renaming <class 'keras.layers.recurrent.LSTMCell'> to avoid naming conflicts when loading with `tf.keras.models.load_model`. If renaming is not possible, pass the object in the `custom_objects` parameter of the load function.\n",
      "WARNING:absl:<keras.layers.recurrent.LSTMCell object at 0x7fedec75eeb0> has the same name 'LSTMCell' as a built-in Keras object. Consider renaming <class 'keras.layers.recurrent.LSTMCell'> to avoid naming conflicts when loading with `tf.keras.models.load_model`. If renaming is not possible, pass the object in the `custom_objects` parameter of the load function.\n",
      "WARNING:absl:<keras.layers.recurrent.LSTMCell object at 0x7fedec738e80> has the same name 'LSTMCell' as a built-in Keras object. Consider renaming <class 'keras.layers.recurrent.LSTMCell'> to avoid naming conflicts when loading with `tf.keras.models.load_model`. If renaming is not possible, pass the object in the `custom_objects` parameter of the load function.\n"
     ]
    },
    {
     "name": "stdout",
     "output_type": "stream",
     "text": [
      "247/247 [==============================] - 15s 60ms/step - loss: 2.9150e-04 - root_mean_squared_error: 0.0171 - val_loss: 2.5060e-04 - val_root_mean_squared_error: 0.0158\n",
      "Epoch 3/8\n",
      "243/247 [============================>.] - ETA: 0s - loss: 2.8890e-04 - root_mean_squared_error: 0.0170"
     ]
    },
    {
     "name": "stderr",
     "output_type": "stream",
     "text": [
      "WARNING:absl:Found untraced functions such as lstm_cell_10_layer_call_fn, lstm_cell_10_layer_call_and_return_conditional_losses, lstm_cell_11_layer_call_fn, lstm_cell_11_layer_call_and_return_conditional_losses, lstm_cell_12_layer_call_fn while saving (showing 5 of 25). These functions will not be directly callable after loading.\n"
     ]
    },
    {
     "name": "stdout",
     "output_type": "stream",
     "text": [
      "INFO:tensorflow:Assets written to: /Users/yukahatori/A_Fairness/FairnessML_git/NOAA_and_CAISO_Data_ONEYEAR/model1/assets\n"
     ]
    },
    {
     "name": "stderr",
     "output_type": "stream",
     "text": [
      "INFO:tensorflow:Assets written to: /Users/yukahatori/A_Fairness/FairnessML_git/NOAA_and_CAISO_Data_ONEYEAR/model1/assets\n",
      "WARNING:absl:<keras.layers.recurrent.LSTMCell object at 0x7fedec6f4580> has the same name 'LSTMCell' as a built-in Keras object. Consider renaming <class 'keras.layers.recurrent.LSTMCell'> to avoid naming conflicts when loading with `tf.keras.models.load_model`. If renaming is not possible, pass the object in the `custom_objects` parameter of the load function.\n",
      "WARNING:absl:<keras.layers.recurrent.LSTMCell object at 0x7fee09dfe4f0> has the same name 'LSTMCell' as a built-in Keras object. Consider renaming <class 'keras.layers.recurrent.LSTMCell'> to avoid naming conflicts when loading with `tf.keras.models.load_model`. If renaming is not possible, pass the object in the `custom_objects` parameter of the load function.\n",
      "WARNING:absl:<keras.layers.recurrent.LSTMCell object at 0x7fedee36ea60> has the same name 'LSTMCell' as a built-in Keras object. Consider renaming <class 'keras.layers.recurrent.LSTMCell'> to avoid naming conflicts when loading with `tf.keras.models.load_model`. If renaming is not possible, pass the object in the `custom_objects` parameter of the load function.\n",
      "WARNING:absl:<keras.layers.recurrent.LSTMCell object at 0x7fedec75eeb0> has the same name 'LSTMCell' as a built-in Keras object. Consider renaming <class 'keras.layers.recurrent.LSTMCell'> to avoid naming conflicts when loading with `tf.keras.models.load_model`. If renaming is not possible, pass the object in the `custom_objects` parameter of the load function.\n",
      "WARNING:absl:<keras.layers.recurrent.LSTMCell object at 0x7fedec738e80> has the same name 'LSTMCell' as a built-in Keras object. Consider renaming <class 'keras.layers.recurrent.LSTMCell'> to avoid naming conflicts when loading with `tf.keras.models.load_model`. If renaming is not possible, pass the object in the `custom_objects` parameter of the load function.\n"
     ]
    },
    {
     "name": "stdout",
     "output_type": "stream",
     "text": [
      "247/247 [==============================] - 15s 60ms/step - loss: 2.8893e-04 - root_mean_squared_error: 0.0170 - val_loss: 2.3157e-04 - val_root_mean_squared_error: 0.0152\n",
      "Epoch 4/8\n",
      "247/247 [==============================] - 3s 14ms/step - loss: 2.8591e-04 - root_mean_squared_error: 0.0169 - val_loss: 2.4061e-04 - val_root_mean_squared_error: 0.0155\n",
      "Epoch 5/8\n",
      "247/247 [==============================] - 3s 13ms/step - loss: 2.8356e-04 - root_mean_squared_error: 0.0168 - val_loss: 2.6004e-04 - val_root_mean_squared_error: 0.0161\n",
      "Epoch 6/8\n",
      "247/247 [==============================] - 3s 13ms/step - loss: 2.8141e-04 - root_mean_squared_error: 0.0168 - val_loss: 2.5637e-04 - val_root_mean_squared_error: 0.0160\n",
      "Epoch 7/8\n",
      "243/247 [============================>.] - ETA: 0s - loss: 2.8018e-04 - root_mean_squared_error: 0.0167"
     ]
    },
    {
     "name": "stderr",
     "output_type": "stream",
     "text": [
      "WARNING:absl:Found untraced functions such as lstm_cell_10_layer_call_fn, lstm_cell_10_layer_call_and_return_conditional_losses, lstm_cell_11_layer_call_fn, lstm_cell_11_layer_call_and_return_conditional_losses, lstm_cell_12_layer_call_fn while saving (showing 5 of 25). These functions will not be directly callable after loading.\n"
     ]
    },
    {
     "name": "stdout",
     "output_type": "stream",
     "text": [
      "INFO:tensorflow:Assets written to: /Users/yukahatori/A_Fairness/FairnessML_git/NOAA_and_CAISO_Data_ONEYEAR/model1/assets\n"
     ]
    },
    {
     "name": "stderr",
     "output_type": "stream",
     "text": [
      "INFO:tensorflow:Assets written to: /Users/yukahatori/A_Fairness/FairnessML_git/NOAA_and_CAISO_Data_ONEYEAR/model1/assets\n",
      "WARNING:absl:<keras.layers.recurrent.LSTMCell object at 0x7fedec6f4580> has the same name 'LSTMCell' as a built-in Keras object. Consider renaming <class 'keras.layers.recurrent.LSTMCell'> to avoid naming conflicts when loading with `tf.keras.models.load_model`. If renaming is not possible, pass the object in the `custom_objects` parameter of the load function.\n",
      "WARNING:absl:<keras.layers.recurrent.LSTMCell object at 0x7fee09dfe4f0> has the same name 'LSTMCell' as a built-in Keras object. Consider renaming <class 'keras.layers.recurrent.LSTMCell'> to avoid naming conflicts when loading with `tf.keras.models.load_model`. If renaming is not possible, pass the object in the `custom_objects` parameter of the load function.\n",
      "WARNING:absl:<keras.layers.recurrent.LSTMCell object at 0x7fedee36ea60> has the same name 'LSTMCell' as a built-in Keras object. Consider renaming <class 'keras.layers.recurrent.LSTMCell'> to avoid naming conflicts when loading with `tf.keras.models.load_model`. If renaming is not possible, pass the object in the `custom_objects` parameter of the load function.\n",
      "WARNING:absl:<keras.layers.recurrent.LSTMCell object at 0x7fedec75eeb0> has the same name 'LSTMCell' as a built-in Keras object. Consider renaming <class 'keras.layers.recurrent.LSTMCell'> to avoid naming conflicts when loading with `tf.keras.models.load_model`. If renaming is not possible, pass the object in the `custom_objects` parameter of the load function.\n",
      "WARNING:absl:<keras.layers.recurrent.LSTMCell object at 0x7fedec738e80> has the same name 'LSTMCell' as a built-in Keras object. Consider renaming <class 'keras.layers.recurrent.LSTMCell'> to avoid naming conflicts when loading with `tf.keras.models.load_model`. If renaming is not possible, pass the object in the `custom_objects` parameter of the load function.\n"
     ]
    },
    {
     "name": "stdout",
     "output_type": "stream",
     "text": [
      "247/247 [==============================] - 15s 60ms/step - loss: 2.8060e-04 - root_mean_squared_error: 0.0168 - val_loss: 2.2939e-04 - val_root_mean_squared_error: 0.0151\n",
      "Epoch 8/8\n",
      "247/247 [==============================] - 3s 14ms/step - loss: 2.7914e-04 - root_mean_squared_error: 0.0167 - val_loss: 2.8991e-04 - val_root_mean_squared_error: 0.0170\n"
     ]
    },
    {
     "data": {
      "text/plain": [
       "<keras.callbacks.History at 0x7fede586b160>"
      ]
     },
     "execution_count": 182,
     "metadata": {},
     "output_type": "execute_result"
    }
   ],
   "source": [
    "model.fit(X_train, y_train, validation_data=(X_val, y_val), epochs = 8, callbacks = [cp1])"
   ]
  },
  {
   "cell_type": "code",
   "execution_count": 183,
   "id": "781cafe5",
   "metadata": {},
   "outputs": [],
   "source": [
    "# model1 = Sequential()\n",
    "# model1.add(InputLayer((1,31))) #1 time steps, 31 variables of input\n",
    "# model1.add(LSTM(64)) #how many windows do we want to slide across\n",
    "# model1.add(Dense(8, 'relu'))\n",
    "# model1.add(Dense(1, 'linear')) #linear value, pos or neg (for temp)\n",
    "# model1.summary()\n",
    "\n",
    "# #2 layers because adding more takes more time? "
   ]
  },
  {
   "cell_type": "code",
   "execution_count": 184,
   "id": "54509922",
   "metadata": {},
   "outputs": [],
   "source": [
    "# cp1 = ModelCheckpoint(directory+'model1/', save_best_only = True) #I want to only save the best model (lowest validation loss)\n",
    "# model1.compile(loss = MeanSquaredError(), optimizer = Adam(learning_rate = 0.0001), metrics = [RootMeanSquaredError()])"
   ]
  },
  {
   "cell_type": "code",
   "execution_count": 185,
   "id": "b6363fa8",
   "metadata": {},
   "outputs": [],
   "source": [
    "# model1.fit(X_train, y_train, validation_data=(X_val, y_val), epochs = 30, callbacks = [cp1])"
   ]
  },
  {
   "cell_type": "code",
   "execution_count": 186,
   "id": "9ed189f7",
   "metadata": {},
   "outputs": [],
   "source": [
    "# model2=Sequential()\n",
    "# model2.add(LSTM(64,return_sequences=True,input_shape=(1,31))) #100 steps, 1 feature \n",
    "# model2.add(LSTM(64,return_sequences=True))\n",
    "# model2.add(LSTM(64))\n",
    "# model2.add(Dense(8, 'relu'))\n",
    "# model2.add(Dense(1, 'linear')) #linear value, pos or neg (for temp)\n",
    "\n",
    "# model2.summary()"
   ]
  },
  {
   "cell_type": "code",
   "execution_count": 187,
   "id": "e59e6492",
   "metadata": {},
   "outputs": [],
   "source": [
    "# cp2 = ModelCheckpoint(directory+'model2/', save_best_only = True) #I want to only save the best model (lowest validation loss)\n",
    "# model2.compile(loss = MeanSquaredError(), optimizer = Adam(learning_rate = 0.0001), metrics = [RootMeanSquaredError()])"
   ]
  },
  {
   "cell_type": "code",
   "execution_count": 188,
   "id": "763b675b",
   "metadata": {},
   "outputs": [],
   "source": [
    "# model2.fit(X_train, y_train, validation_data=(X_val, y_val), epochs = 30, callbacks = [cp2])"
   ]
  },
  {
   "cell_type": "code",
   "execution_count": 189,
   "id": "f8999e55",
   "metadata": {},
   "outputs": [
    {
     "data": {
      "text/html": [
       "<div>\n",
       "<style scoped>\n",
       "    .dataframe tbody tr th:only-of-type {\n",
       "        vertical-align: middle;\n",
       "    }\n",
       "\n",
       "    .dataframe tbody tr th {\n",
       "        vertical-align: top;\n",
       "    }\n",
       "\n",
       "    .dataframe thead th {\n",
       "        text-align: right;\n",
       "    }\n",
       "</style>\n",
       "<table border=\"1\" class=\"dataframe\">\n",
       "  <thead>\n",
       "    <tr style=\"text-align: right;\">\n",
       "      <th></th>\n",
       "      <th>Train Predictions</th>\n",
       "      <th>Actuals</th>\n",
       "    </tr>\n",
       "  </thead>\n",
       "  <tbody>\n",
       "    <tr>\n",
       "      <th>0</th>\n",
       "      <td>0.029148</td>\n",
       "      <td>0.030888</td>\n",
       "    </tr>\n",
       "    <tr>\n",
       "      <th>1</th>\n",
       "      <td>0.037890</td>\n",
       "      <td>0.015444</td>\n",
       "    </tr>\n",
       "    <tr>\n",
       "      <th>2</th>\n",
       "      <td>0.019920</td>\n",
       "      <td>0.007722</td>\n",
       "    </tr>\n",
       "    <tr>\n",
       "      <th>3</th>\n",
       "      <td>0.020007</td>\n",
       "      <td>0.007722</td>\n",
       "    </tr>\n",
       "    <tr>\n",
       "      <th>4</th>\n",
       "      <td>0.026028</td>\n",
       "      <td>0.015444</td>\n",
       "    </tr>\n",
       "    <tr>\n",
       "      <th>...</th>\n",
       "      <td>...</td>\n",
       "      <td>...</td>\n",
       "    </tr>\n",
       "    <tr>\n",
       "      <th>7876</th>\n",
       "      <td>0.149569</td>\n",
       "      <td>0.154440</td>\n",
       "    </tr>\n",
       "    <tr>\n",
       "      <th>7877</th>\n",
       "      <td>0.180507</td>\n",
       "      <td>0.196911</td>\n",
       "    </tr>\n",
       "    <tr>\n",
       "      <th>7878</th>\n",
       "      <td>0.247303</td>\n",
       "      <td>0.277992</td>\n",
       "    </tr>\n",
       "    <tr>\n",
       "      <th>7879</th>\n",
       "      <td>0.364338</td>\n",
       "      <td>0.335907</td>\n",
       "    </tr>\n",
       "    <tr>\n",
       "      <th>7880</th>\n",
       "      <td>0.390015</td>\n",
       "      <td>0.382239</td>\n",
       "    </tr>\n",
       "  </tbody>\n",
       "</table>\n",
       "<p>7881 rows × 2 columns</p>\n",
       "</div>"
      ],
      "text/plain": [
       "      Train Predictions   Actuals\n",
       "0              0.029148  0.030888\n",
       "1              0.037890  0.015444\n",
       "2              0.019920  0.007722\n",
       "3              0.020007  0.007722\n",
       "4              0.026028  0.015444\n",
       "...                 ...       ...\n",
       "7876           0.149569  0.154440\n",
       "7877           0.180507  0.196911\n",
       "7878           0.247303  0.277992\n",
       "7879           0.364338  0.335907\n",
       "7880           0.390015  0.382239\n",
       "\n",
       "[7881 rows x 2 columns]"
      ]
     },
     "execution_count": 189,
     "metadata": {},
     "output_type": "execute_result"
    }
   ],
   "source": [
    "train_predictions = model.predict(X_train).flatten()\n",
    "train_results = pd.DataFrame(data = {'Train Predictions': train_predictions, 'Actuals':y_train})\n",
    "train_results"
   ]
  },
  {
   "cell_type": "code",
   "execution_count": 190,
   "id": "ac9b6d71",
   "metadata": {},
   "outputs": [
    {
     "data": {
      "text/plain": [
       "[<matplotlib.lines.Line2D at 0x7fedd8d6c5b0>]"
      ]
     },
     "execution_count": 190,
     "metadata": {},
     "output_type": "execute_result"
    },
    {
     "data": {
      "image/png": "[encoded data removed]",
      "text/plain": [
       "<Figure size 432x288 with 1 Axes>"
      ]
     },
     "metadata": {
      "needs_background": "light"
     },
     "output_type": "display_data"
    }
   ],
   "source": [
    "plt.plot(train_results['Train Predictions'][:], color = 'red')\n",
    "plt.plot(train_results['Actuals'][:], color = 'green')"
   ]
  },
  {
   "cell_type": "code",
   "execution_count": 191,
   "id": "c26bbee8",
   "metadata": {},
   "outputs": [
    {
     "data": {
      "text/html": [
       "<div>\n",
       "<style scoped>\n",
       "    .dataframe tbody tr th:only-of-type {\n",
       "        vertical-align: middle;\n",
       "    }\n",
       "\n",
       "    .dataframe tbody tr th {\n",
       "        vertical-align: top;\n",
       "    }\n",
       "\n",
       "    .dataframe thead th {\n",
       "        text-align: right;\n",
       "    }\n",
       "</style>\n",
       "<table border=\"1\" class=\"dataframe\">\n",
       "  <thead>\n",
       "    <tr style=\"text-align: right;\">\n",
       "      <th></th>\n",
       "      <th>Val Predictions</th>\n",
       "      <th>Actuals</th>\n",
       "    </tr>\n",
       "  </thead>\n",
       "  <tbody>\n",
       "    <tr>\n",
       "      <th>0</th>\n",
       "      <td>0.425794</td>\n",
       "      <td>0.420849</td>\n",
       "    </tr>\n",
       "    <tr>\n",
       "      <th>1</th>\n",
       "      <td>0.456362</td>\n",
       "      <td>0.455598</td>\n",
       "    </tr>\n",
       "    <tr>\n",
       "      <th>2</th>\n",
       "      <td>0.486993</td>\n",
       "      <td>0.478764</td>\n",
       "    </tr>\n",
       "    <tr>\n",
       "      <th>3</th>\n",
       "      <td>0.495421</td>\n",
       "      <td>0.490347</td>\n",
       "    </tr>\n",
       "    <tr>\n",
       "      <th>4</th>\n",
       "      <td>0.494908</td>\n",
       "      <td>0.463320</td>\n",
       "    </tr>\n",
       "    <tr>\n",
       "      <th>...</th>\n",
       "      <td>...</td>\n",
       "      <td>...</td>\n",
       "    </tr>\n",
       "    <tr>\n",
       "      <th>870</th>\n",
       "      <td>0.229275</td>\n",
       "      <td>0.223938</td>\n",
       "    </tr>\n",
       "    <tr>\n",
       "      <th>871</th>\n",
       "      <td>0.205533</td>\n",
       "      <td>0.196911</td>\n",
       "    </tr>\n",
       "    <tr>\n",
       "      <th>872</th>\n",
       "      <td>0.183747</td>\n",
       "      <td>0.177606</td>\n",
       "    </tr>\n",
       "    <tr>\n",
       "      <th>873</th>\n",
       "      <td>0.172441</td>\n",
       "      <td>0.158301</td>\n",
       "    </tr>\n",
       "    <tr>\n",
       "      <th>874</th>\n",
       "      <td>0.151939</td>\n",
       "      <td>0.131274</td>\n",
       "    </tr>\n",
       "  </tbody>\n",
       "</table>\n",
       "<p>875 rows × 2 columns</p>\n",
       "</div>"
      ],
      "text/plain": [
       "     Val Predictions   Actuals\n",
       "0           0.425794  0.420849\n",
       "1           0.456362  0.455598\n",
       "2           0.486993  0.478764\n",
       "3           0.495421  0.490347\n",
       "4           0.494908  0.463320\n",
       "..               ...       ...\n",
       "870         0.229275  0.223938\n",
       "871         0.205533  0.196911\n",
       "872         0.183747  0.177606\n",
       "873         0.172441  0.158301\n",
       "874         0.151939  0.131274\n",
       "\n",
       "[875 rows x 2 columns]"
      ]
     },
     "execution_count": 191,
     "metadata": {},
     "output_type": "execute_result"
    }
   ],
   "source": [
    "val_predictions = model.predict(X_val).flatten()\n",
    "val_results = pd.DataFrame(data = {'Val Predictions': val_predictions, 'Actuals':y_val})\n",
    "val_results"
   ]
  },
  {
   "cell_type": "code",
   "execution_count": 192,
   "id": "d4fe6930",
   "metadata": {},
   "outputs": [
    {
     "data": {
      "text/plain": [
       "[<matplotlib.lines.Line2D at 0x7fedd0ad4b50>]"
      ]
     },
     "execution_count": 192,
     "metadata": {},
     "output_type": "execute_result"
    },
    {
     "data": {
      "image/png": "[encoded data removed]",
      "text/plain": [
       "<Figure size 432x288 with 1 Axes>"
      ]
     },
     "metadata": {
      "needs_background": "light"
     },
     "output_type": "display_data"
    }
   ],
   "source": [
    "plt.plot(val_results['Val Predictions'][:], color = 'red')\n",
    "plt.plot(val_results['Actuals'][:], color = 'green')"
   ]
  },
  {
   "cell_type": "markdown",
   "id": "c6321ea0",
   "metadata": {},
   "source": [
    "# Step 5: Predict into the future"
   ]
  },
  {
   "cell_type": "code",
   "execution_count": 193,
   "id": "2077868f",
   "metadata": {},
   "outputs": [],
   "source": [
    "import tensorflow as tf"
   ]
  },
  {
   "cell_type": "code",
   "execution_count": 197,
   "id": "13f0cd1e",
   "metadata": {},
   "outputs": [
    {
     "name": "stdout",
     "output_type": "stream",
     "text": [
      "[[[0.22393822]\n",
      "  [0.1969112 ]\n",
      "  [0.17760618]]\n",
      "\n",
      " [[0.1969112 ]\n",
      "  [0.17760618]\n",
      "  [0.15830116]]\n",
      "\n",
      " [[0.17760618]\n",
      "  [0.15830116]\n",
      "  [0.13127413]]]\n",
      "[0.15830116 0.13127413 0.11583012]\n"
     ]
    }
   ],
   "source": [
    "print(X_test)\n",
    "print(y_test)"
   ]
  },
  {
   "cell_type": "code",
   "execution_count": 198,
   "id": "ab5d78f4",
   "metadata": {},
   "outputs": [
    {
     "ename": "ValueError",
     "evalue": "operands could not be broadcast together with shapes (1,9) (31,) (1,9) ",
     "output_type": "error",
     "traceback": [
      "\u001b[0;31m---------------------------------------------------------------------------\u001b[0m",
      "\u001b[0;31mValueError\u001b[0m                                Traceback (most recent call last)",
      "\u001b[0;32m/var/folders/yv/7r0htvks26q7nhdm7l86zm7m0000gn/T/ipykernel_4432/4054349732.py\u001b[0m in \u001b[0;36m<module>\u001b[0;34m\u001b[0m\n\u001b[0;32m----> 1\u001b[0;31m \u001b[0mblep\u001b[0m \u001b[0;34m=\u001b[0m \u001b[0mscaler\u001b[0m\u001b[0;34m.\u001b[0m\u001b[0minverse_transform\u001b[0m\u001b[0;34m(\u001b[0m\u001b[0mX_test\u001b[0m\u001b[0;34m[\u001b[0m\u001b[0;34m:\u001b[0m\u001b[0;34m]\u001b[0m\u001b[0;34m.\u001b[0m\u001b[0mreshape\u001b[0m\u001b[0;34m(\u001b[0m\u001b[0;36m1\u001b[0m\u001b[0;34m,\u001b[0m\u001b[0;34m-\u001b[0m\u001b[0;36m1\u001b[0m\u001b[0;34m)\u001b[0m\u001b[0;34m)\u001b[0m \u001b[0;31m#do i need to worry about this?? hm\u001b[0m\u001b[0;34m\u001b[0m\u001b[0;34m\u001b[0m\u001b[0m\n\u001b[0m\u001b[1;32m      2\u001b[0m \u001b[0mmegawatts_y\u001b[0m \u001b[0;34m=\u001b[0m \u001b[0mscaler\u001b[0m\u001b[0;34m.\u001b[0m\u001b[0minverse_transform\u001b[0m\u001b[0;34m(\u001b[0m\u001b[0my_test\u001b[0m\u001b[0;34m[\u001b[0m\u001b[0;34m:\u001b[0m\u001b[0;34m]\u001b[0m\u001b[0;34m.\u001b[0m\u001b[0mreshape\u001b[0m\u001b[0;34m(\u001b[0m\u001b[0;36m1\u001b[0m\u001b[0;34m,\u001b[0m\u001b[0;34m-\u001b[0m\u001b[0;36m1\u001b[0m\u001b[0;34m)\u001b[0m\u001b[0;34m)\u001b[0m\u001b[0;34m\u001b[0m\u001b[0;34m\u001b[0m\u001b[0m\n\u001b[1;32m      3\u001b[0m \u001b[0mprint\u001b[0m\u001b[0;34m(\u001b[0m\u001b[0mblep\u001b[0m\u001b[0;34m)\u001b[0m\u001b[0;34m\u001b[0m\u001b[0;34m\u001b[0m\u001b[0m\n\u001b[1;32m      4\u001b[0m \u001b[0mprint\u001b[0m\u001b[0;34m(\u001b[0m\u001b[0mmegawatts_y\u001b[0m\u001b[0;34m)\u001b[0m\u001b[0;34m\u001b[0m\u001b[0;34m\u001b[0m\u001b[0m\n",
      "\u001b[0;32m/opt/anaconda3/lib/python3.8/site-packages/sklearn/preprocessing/_data.py\u001b[0m in \u001b[0;36minverse_transform\u001b[0;34m(self, X)\u001b[0m\n\u001b[1;32m    527\u001b[0m         )\n\u001b[1;32m    528\u001b[0m \u001b[0;34m\u001b[0m\u001b[0m\n\u001b[0;32m--> 529\u001b[0;31m         \u001b[0mX\u001b[0m \u001b[0;34m-=\u001b[0m \u001b[0mself\u001b[0m\u001b[0;34m.\u001b[0m\u001b[0mmin_\u001b[0m\u001b[0;34m\u001b[0m\u001b[0;34m\u001b[0m\u001b[0m\n\u001b[0m\u001b[1;32m    530\u001b[0m         \u001b[0mX\u001b[0m \u001b[0;34m/=\u001b[0m \u001b[0mself\u001b[0m\u001b[0;34m.\u001b[0m\u001b[0mscale_\u001b[0m\u001b[0;34m\u001b[0m\u001b[0;34m\u001b[0m\u001b[0m\n\u001b[1;32m    531\u001b[0m         \u001b[0;32mreturn\u001b[0m \u001b[0mX\u001b[0m\u001b[0;34m\u001b[0m\u001b[0;34m\u001b[0m\u001b[0m\n",
      "\u001b[0;31mValueError\u001b[0m: operands could not be broadcast together with shapes (1,9) (31,) (1,9) "
     ]
    }
   ],
   "source": [
    "blep = scaler.inverse_transform(X_test[:].reshape(1,-1)) #do i need to worry about this?? hm \n",
    "megawatts_y = scaler.inverse_transform(y_test[:].reshape(1,-1))\n",
    "print(blep)\n",
    "print(megawatts_y)"
   ]
  },
  {
   "cell_type": "code",
   "execution_count": null,
   "id": "e18f48cf",
   "metadata": {},
   "outputs": [],
   "source": [
    "# we want to use december 31st weather and megawatts data, so append y_test and remove the last value in X_test (megawatts data)\n",
    "lastDay_input = X_test[0][0][:-1]\n",
    "print(lastDay_input)\n",
    "lastDay_input=np.append(lastDay_input,y_test).reshape(1,-1)\n",
    "lastDay_input.shape\n"
   ]
  },
  {
   "cell_type": "code",
   "execution_count": null,
   "id": "dd7125c0",
   "metadata": {},
   "outputs": [],
   "source": [
    "print(lastDay_input)\n",
    "lastDay_input.shape"
   ]
  },
  {
   "cell_type": "code",
   "execution_count": 683,
   "id": "bf393577",
   "metadata": {},
   "outputs": [],
   "source": [
    "lastDay_input=list(lastDay_input)\n",
    "lastDay_input=lastDay_input[0].tolist()"
   ]
  },
  {
   "cell_type": "code",
   "execution_count": 684,
   "id": "02b74c8f",
   "metadata": {},
   "outputs": [
    {
     "name": "stdout",
     "output_type": "stream",
     "text": [
      "[0.13127413127413123, 0.2222222222222221, 0.030201342281879207, 0.14482758620689662, 0.15500000000000003, 0.09090909090909083, 0.8163265306122582, 0.4782608695652186, 0.8778625954198418, 0.0, 0.8162162162162163, 0.49878934624697324, 0.12418300653594777, 0.12890625, 0.49038461538461553, 0.6240963855421686, 0.13127413127413123, 0.14028776978417268, 0.10650887573964496, 0.6923076923076923, 0.5793871866295265, 0.05445544554455446, 0.42857142857142855, 0.10132158590308368, 0.8571428571428572, 0.21600000000000003, -0.5000000000101035, 0.8660254037786054, -0.003583904219171452, 0.9999935777946516, 0.43459233613511317]\n",
      "31\n"
     ]
    }
   ],
   "source": [
    "print(lastDay_input)\n",
    "print(len(lastDay_input))\n",
    "# why is there a negative value???"
   ]
  },
  {
   "cell_type": "code",
   "execution_count": 701,
   "id": "bd8ae3a3",
   "metadata": {},
   "outputs": [
    {
     "data": {
      "text/html": [
       "<div>\n",
       "<style scoped>\n",
       "    .dataframe tbody tr th:only-of-type {\n",
       "        vertical-align: middle;\n",
       "    }\n",
       "\n",
       "    .dataframe tbody tr th {\n",
       "        vertical-align: top;\n",
       "    }\n",
       "\n",
       "    .dataframe thead th {\n",
       "        text-align: right;\n",
       "    }\n",
       "</style>\n",
       "<table border=\"1\" class=\"dataframe\">\n",
       "  <thead>\n",
       "    <tr style=\"text-align: right;\">\n",
       "      <th></th>\n",
       "      <th>HLY_TEMP_NORMAL_SF</th>\n",
       "      <th>HLY_TEMP_10PCTL_SF</th>\n",
       "      <th>HLY_TEMP_90PCTL_SF</th>\n",
       "      <th>HLY_DEWP_NORMAL_SF</th>\n",
       "      <th>HLY_DEWP_10PCTL_SF</th>\n",
       "      <th>HLY_DEWP_90PCTL_SF</th>\n",
       "      <th>HLY_PRES_NORMAL_SF</th>\n",
       "      <th>HLY_PRES_10PCTL_SF</th>\n",
       "      <th>HLY_PRES_90PCTL_SF</th>\n",
       "      <th>HLY_CLDH_NORMAL_SF</th>\n",
       "      <th>...</th>\n",
       "      <th>HLY_WIND_VCTDIR_SF</th>\n",
       "      <th>HLY_WIND_VCTSPD_SF</th>\n",
       "      <th>HLY_WIND_1STDIR_SF</th>\n",
       "      <th>HLY_WIND_1STPCT_SF</th>\n",
       "      <th>HLY_WIND_2NDDIR_SF</th>\n",
       "      <th>HLY_WIND_2NDPCT_SF</th>\n",
       "      <th>Day sin</th>\n",
       "      <th>Day cos</th>\n",
       "      <th>Year sin</th>\n",
       "      <th>Year cos</th>\n",
       "    </tr>\n",
       "    <tr>\n",
       "      <th>date</th>\n",
       "      <th></th>\n",
       "      <th></th>\n",
       "      <th></th>\n",
       "      <th></th>\n",
       "      <th></th>\n",
       "      <th></th>\n",
       "      <th></th>\n",
       "      <th></th>\n",
       "      <th></th>\n",
       "      <th></th>\n",
       "      <th></th>\n",
       "      <th></th>\n",
       "      <th></th>\n",
       "      <th></th>\n",
       "      <th></th>\n",
       "      <th></th>\n",
       "      <th></th>\n",
       "      <th></th>\n",
       "      <th></th>\n",
       "      <th></th>\n",
       "      <th></th>\n",
       "    </tr>\n",
       "  </thead>\n",
       "  <tbody>\n",
       "    <tr>\n",
       "      <th>2019-01-01</th>\n",
       "      <td>0.092664</td>\n",
       "      <td>0.188889</td>\n",
       "      <td>0.030201</td>\n",
       "      <td>0.131034</td>\n",
       "      <td>0.155</td>\n",
       "      <td>0.090909</td>\n",
       "      <td>0.816327</td>\n",
       "      <td>0.478261</td>\n",
       "      <td>0.862595</td>\n",
       "      <td>0.0</td>\n",
       "      <td>...</td>\n",
       "      <td>0.543175</td>\n",
       "      <td>0.054455</td>\n",
       "      <td>0.571429</td>\n",
       "      <td>0.052863</td>\n",
       "      <td>0.428571</td>\n",
       "      <td>0.202667</td>\n",
       "      <td>-5.030095e-12</td>\n",
       "      <td>1.0</td>\n",
       "      <td>0.002021</td>\n",
       "      <td>0.999998</td>\n",
       "    </tr>\n",
       "  </tbody>\n",
       "</table>\n",
       "<p>1 rows × 30 columns</p>\n",
       "</div>"
      ],
      "text/plain": [
       "            HLY_TEMP_NORMAL_SF  HLY_TEMP_10PCTL_SF  HLY_TEMP_90PCTL_SF  \\\n",
       "date                                                                     \n",
       "2019-01-01            0.092664            0.188889            0.030201   \n",
       "\n",
       "            HLY_DEWP_NORMAL_SF  HLY_DEWP_10PCTL_SF  HLY_DEWP_90PCTL_SF  \\\n",
       "date                                                                     \n",
       "2019-01-01            0.131034               0.155            0.090909   \n",
       "\n",
       "            HLY_PRES_NORMAL_SF  HLY_PRES_10PCTL_SF  HLY_PRES_90PCTL_SF  \\\n",
       "date                                                                     \n",
       "2019-01-01            0.816327            0.478261            0.862595   \n",
       "\n",
       "            HLY_CLDH_NORMAL_SF  ...  HLY_WIND_VCTDIR_SF  HLY_WIND_VCTSPD_SF  \\\n",
       "date                            ...                                           \n",
       "2019-01-01                 0.0  ...            0.543175            0.054455   \n",
       "\n",
       "            HLY_WIND_1STDIR_SF  HLY_WIND_1STPCT_SF  HLY_WIND_2NDDIR_SF  \\\n",
       "date                                                                     \n",
       "2019-01-01            0.571429            0.052863            0.428571   \n",
       "\n",
       "            HLY_WIND_2NDPCT_SF       Day sin  Day cos  Year sin  Year cos  \n",
       "date                                                                       \n",
       "2019-01-01            0.202667 -5.030095e-12      1.0  0.002021  0.999998  \n",
       "\n",
       "[1 rows x 30 columns]"
      ]
     },
     "execution_count": 701,
     "metadata": {},
     "output_type": "execute_result"
    }
   ],
   "source": [
    "# df.iloc[:1, :-1] #doesn't include megawatts\n",
    "df.iloc[0:1, :-1] #doesn't include megawatts"
   ]
  },
  {
   "cell_type": "code",
   "execution_count": 692,
   "id": "9c8f6be2",
   "metadata": {},
   "outputs": [],
   "source": [
    "# weatherDat = df.iloc[:1, :-1]\n",
    "# weatherDat = list(weatherDat.values)\n",
    "# weatherDat = weatherDat[0].tolist()\n",
    "# print(len(weatherDat))\n",
    "# print(weatherDat)"
   ]
  },
  {
   "cell_type": "code",
   "execution_count": 698,
   "id": "b871ab07",
   "metadata": {},
   "outputs": [
    {
     "name": "stdout",
     "output_type": "stream",
     "text": [
      "[[0.08108108108108114, 0.14814814814814814, 0.030201342281879207, 0.124137931034483, 0.15500000000000003, 0.09090909090909083, 0.7959183673469425, 0.4057971014492807, 0.8549618320610648, 0.0, 0.8864864864864865, 0.5907990314769974, 0.11764705882352944, 0.14453125, 0.2852564102564103, 0.6843373493975903, 0.08108108108108114, 0.08992805755395672, 0.08284023668639057, 0.811965811965812, 0.5348189415041783, 0.0594059405940594, 0.42857142857142855, 0.05139500734214392, 0.5714285714285714, 0.17066666666666663, 0.25881904509256404, 0.9659258262917362, 0.002738105263628894, 0.9999962513827566], [0.04633204633204646, 0.1148148148148147, 0.0, 0.0896551724137935, 0.15500000000000003, 0.09090909090909083, 0.8061224489795933, 0.4347826086956559, 0.8549618320610648, 0.0, 0.9351351351351351, 0.6174334140435834, 0.10239651416122009, 0.13671875, 0.24679487179487186, 0.7060240963855422, 0.04633204633204646, 0.05395683453237399, 0.08284023668639057, 0.754985754985755, 0.50974930362117, 0.04455445544554456, 0.42857142857142855, 0.054331864904552135, 0.7142857142857142, 0.15466666666666667, 0.4999999999991046, 0.8660254037849556, 0.0034548841902543263, 0.9999940318698066]]\n"
     ]
    }
   ],
   "source": [
    "#pulling the weather data of the days that you're trying to predict\n",
    "#input/output:[weather,data,per,hour,for,specific,day,thatDayEnergyConsumption] -> nextDayEnergyConsumption\n",
    "def futureWeatherData(df, days):\n",
    "    allDays = []\n",
    "    for i in range(1, days+1):\n",
    "        aDay = df.iloc[i:i+1, :-1]\n",
    "        aDay = list(aDay.values)\n",
    "        aDay = aDay[0].tolist()\n",
    "        allDays.append(aDay)\n",
    "    return allDays\n",
    "\n",
    "allWeatherData = futureWeatherData(df, 2)\n",
    "print(allWeatherData)"
   ]
  },
  {
   "cell_type": "code",
   "execution_count": 687,
   "id": "abf8c783",
   "metadata": {},
   "outputs": [
    {
     "name": "stdout",
     "output_type": "stream",
     "text": [
      "[0.43932855]\n",
      "1 hour input [ 9.26640927e-02  1.88888889e-01  3.02013423e-02  1.31034483e-01\n",
      "  1.55000000e-01  9.09090909e-02  8.16326531e-01  4.78260870e-01\n",
      "  8.62595420e-01  0.00000000e+00  8.70270270e-01  5.90799031e-01\n",
      "  1.17647059e-01  1.56250000e-01  3.17307692e-01  6.55421687e-01\n",
      "  9.26640927e-02  1.00719424e-01  8.87573964e-02  7.23646724e-01\n",
      "  5.43175487e-01  5.44554455e-02  5.71428571e-01  5.28634361e-02\n",
      "  4.28571429e-01  2.02666667e-01 -5.03009464e-12  1.00000000e+00\n",
      "  2.02132493e-03  9.99997957e-01  4.39328551e-01]\n",
      "1 hour output [[0.42897743]]\n"
     ]
    }
   ],
   "source": [
    "from numpy import array\n",
    "\n",
    "def futurePredictions(lastDay_input, weatherData, hourPred, n_steps):\n",
    "    future_outputs=[]\n",
    "    i=0\n",
    "    while(i<=hourPred): #for the next thirty hours\n",
    "        if i == 0: #for the first new predicted value, using old weather data to predict new value \n",
    "            lastDay_input = np.array(lastDay_input)\n",
    "            lastDay_input = lastDay_input.reshape(1,1,n_steps)\n",
    "            yhat = model.predict(lastDay_input, verbose=0)#.flatten()\n",
    "            print(yhat[0])\n",
    "            future_outputs.extend(yhat.tolist())\n",
    "            i=i+1\n",
    "        else:# then take from the 1 position and getting the new input and putting it into input\n",
    "            weatherData.append(future_outputs[0][-1]) #add the new megawatts prediction into the set \n",
    "            weatherData = np.array(weatherData)\n",
    "            print(\"{} hour input {}\".format(i,weatherData))\n",
    "            weatherData=weatherData.reshape(1,-1)\n",
    "            weatherData = weatherData.reshape((1, 1, n_steps)) #works\n",
    "            yhat = model.predict(weatherData, verbose=0)\n",
    "            print(\"{} hour output {}\".format(i,yhat))\n",
    "            future_outputs.extend(yhat.tolist())\n",
    "            i=i+1\n",
    "\n",
    "    return future_outputs\n",
    "    \n",
    "lst_output = futurePredictions(lastDay_input, weatherDat, 1, 31)"
   ]
  },
  {
   "cell_type": "code",
   "execution_count": 607,
   "id": "87e8da29",
   "metadata": {},
   "outputs": [],
   "source": [
    "# from numpy import array\n",
    "\n",
    "# def futurePredictions(temp_input, x_input, hourPred, n_steps):\n",
    "#     future_outputs=[]\n",
    "#     i=0\n",
    "#     initDataSize = len(temp_input)\n",
    "#     while(i<hourPred): #for the next thirty hours\n",
    "\n",
    "#         if(len(temp_input)>initDataSize): # then take from the 1 position and getting the new input and putting it into input\n",
    "#             print(temp_input)\n",
    "#             x_input=np.array(temp_input[1:])\n",
    "#             print(\"{} hour input {}\".format(i,x_input))\n",
    "#             x_input=x_input.reshape(1,-1)\n",
    "#             x_input = x_input.reshape((1, 1, n_steps)) #works\n",
    "#             yhat = model.predict(x_input, verbose=0)\n",
    "#             print(\"{} hour output {}\".format(i,yhat))\n",
    "#             temp_input.extend(yhat[0].tolist())\n",
    "#             temp_input=temp_input[1:]\n",
    "#             #print(temp_input)\n",
    "#             future_outputs.extend(yhat.tolist())\n",
    "#             i=i+1\n",
    "#         else: #for the first new predict, using old values to predict new value \n",
    "#             x_input = x_input.reshape((1, 1, n_steps)) #works \n",
    "#             print(\"input shape: \", x_input.shape)\n",
    "#             yhat = model.predict(x_input, verbose=0)#.flatten()\n",
    "#             print(yhat[0])\n",
    "#             temp_input.extend(yhat[0].tolist())\n",
    "#             print(len(temp_input))\n",
    "#             future_outputs.extend(yhat.tolist())\n",
    "#             i=i+1\n",
    "#     return future_outputs\n",
    "    \n",
    "# lst_output = futurePredictions(temp_input, x_input,24,31)"
   ]
  },
  {
   "cell_type": "markdown",
   "id": "2d92375d",
   "metadata": {},
   "source": [
    "# Check if it works\n",
    "\n",
    ":/ scary"
   ]
  },
  {
   "cell_type": "code",
   "execution_count": 688,
   "id": "44980461",
   "metadata": {},
   "outputs": [
    {
     "data": {
      "text/plain": [
       "[[0.43932855129241943], [0.42897742986679077]]"
      ]
     },
     "execution_count": 688,
     "metadata": {},
     "output_type": "execute_result"
    }
   ],
   "source": [
    "lst_output"
   ]
  },
  {
   "cell_type": "code",
   "execution_count": 482,
   "id": "bae50032",
   "metadata": {},
   "outputs": [],
   "source": [
    "# df[startPos:]['Megawatts_2019']\n",
    "# boop = np.array(df[startPos:]['Megawatts_2019'].values.reshape(-1, 1))\n",
    "\n",
    "# plt.plot(day_new,scaler.inverse_transform(boop))\n",
    "# plt.plot(day_pred,scaler.inverse_transform(lst_output))"
   ]
  },
  {
   "cell_type": "code",
   "execution_count": 689,
   "id": "d00b19df",
   "metadata": {},
   "outputs": [],
   "source": [
    "# use previous day of prediction?? see if what you're doing makes sense by tracing data \n",
    "predictions = scaler.inverse_transform(lst_output)"
   ]
  },
  {
   "cell_type": "code",
   "execution_count": 690,
   "id": "eb79f5ab",
   "metadata": {},
   "outputs": [
    {
     "name": "stdout",
     "output_type": "stream",
     "text": [
      "[[244002.49880612]\n",
      " [238725.54885894]]\n"
     ]
    }
   ],
   "source": [
    "# next 30 hours???\n",
    "print(predictions)"
   ]
  },
  {
   "cell_type": "code",
   "execution_count": 98,
   "id": "d08201f6",
   "metadata": {},
   "outputs": [],
   "source": [
    "check_directory = '/Users/yukahatori/A_Fairness/FairnessML_git/NOAA_and_CAISO_Data_2020/'"
   ]
  },
  {
   "cell_type": "code",
   "execution_count": 107,
   "id": "aada35c0",
   "metadata": {},
   "outputs": [
    {
     "name": "stdout",
     "output_type": "stream",
     "text": [
      "SAC-NOAA-and-Megawatts.csv\n",
      "SD-NOAA-and-Megawatts.csv\n",
      "SF-NOAA-and-Megawatts.csv\n",
      "LA-NOAA-and-Megawatts.csv\n"
     ]
    }
   ],
   "source": [
    "compFiles = [f for f in listdir(check_directory) if isfile(join(check_directory, f))] \n",
    "flies = []\n",
    "for file in compFiles:\n",
    "    print(file)\n",
    "    flies.append(check_directory + file)\n",
    "df1 = pd.read_csv(flies[2])"
   ]
  },
  {
   "cell_type": "code",
   "execution_count": 115,
   "id": "43039193",
   "metadata": {},
   "outputs": [
    {
     "name": "stdout",
     "output_type": "stream",
     "text": [
      "0     273786.0\n",
      "1     243000.0\n",
      "2     235962.0\n",
      "3     231944.0\n",
      "4     230219.0\n",
      "5     235383.0\n",
      "6     243281.0\n",
      "7     243793.0\n",
      "8     237974.0\n",
      "9     228866.0\n",
      "10    221268.0\n",
      "11    216362.0\n",
      "12    214476.0\n",
      "13    216342.0\n",
      "14    227833.0\n",
      "15    242087.0\n",
      "16    263675.0\n",
      "17    294908.0\n",
      "18    299952.0\n",
      "19    296337.0\n",
      "20    289061.0\n",
      "21    278538.0\n",
      "22    262639.0\n",
      "23    246686.0\n",
      "24    256323.0\n",
      "25    229176.0\n",
      "26    224148.0\n",
      "27    224283.0\n",
      "28    232189.0\n",
      "29    249193.0\n",
      "Name: Megawatts_2020, dtype: float64\n"
     ]
    }
   ],
   "source": [
    "print(df1['Megawatts_2020'][:30])"
   ]
  },
  {
   "cell_type": "code",
   "execution_count": 489,
   "id": "3545686f",
   "metadata": {},
   "outputs": [
    {
     "data": {
      "text/html": [
       "<div>\n",
       "<style scoped>\n",
       "    .dataframe tbody tr th:only-of-type {\n",
       "        vertical-align: middle;\n",
       "    }\n",
       "\n",
       "    .dataframe tbody tr th {\n",
       "        vertical-align: top;\n",
       "    }\n",
       "\n",
       "    .dataframe thead th {\n",
       "        text-align: right;\n",
       "    }\n",
       "</style>\n",
       "<table border=\"1\" class=\"dataframe\">\n",
       "  <thead>\n",
       "    <tr style=\"text-align: right;\">\n",
       "      <th></th>\n",
       "      <th>HLY_TEMP_NORMAL_SF</th>\n",
       "      <th>HLY_TEMP_10PCTL_SF</th>\n",
       "      <th>HLY_TEMP_90PCTL_SF</th>\n",
       "      <th>HLY_DEWP_NORMAL_SF</th>\n",
       "      <th>HLY_DEWP_10PCTL_SF</th>\n",
       "      <th>HLY_DEWP_90PCTL_SF</th>\n",
       "      <th>HLY_PRES_NORMAL_SF</th>\n",
       "      <th>HLY_PRES_10PCTL_SF</th>\n",
       "      <th>HLY_PRES_90PCTL_SF</th>\n",
       "      <th>HLY_CLDH_NORMAL_SF</th>\n",
       "      <th>...</th>\n",
       "      <th>HLY_WIND_VCTDIR_SF</th>\n",
       "      <th>HLY_WIND_VCTSPD_SF</th>\n",
       "      <th>HLY_WIND_1STDIR_SF</th>\n",
       "      <th>HLY_WIND_1STPCT_SF</th>\n",
       "      <th>HLY_WIND_2NDDIR_SF</th>\n",
       "      <th>HLY_WIND_2NDPCT_SF</th>\n",
       "      <th>Day sin</th>\n",
       "      <th>Day cos</th>\n",
       "      <th>Year sin</th>\n",
       "      <th>Year cos</th>\n",
       "    </tr>\n",
       "    <tr>\n",
       "      <th>date</th>\n",
       "      <th></th>\n",
       "      <th></th>\n",
       "      <th></th>\n",
       "      <th></th>\n",
       "      <th></th>\n",
       "      <th></th>\n",
       "      <th></th>\n",
       "      <th></th>\n",
       "      <th></th>\n",
       "      <th></th>\n",
       "      <th></th>\n",
       "      <th></th>\n",
       "      <th></th>\n",
       "      <th></th>\n",
       "      <th></th>\n",
       "      <th></th>\n",
       "      <th></th>\n",
       "      <th></th>\n",
       "      <th></th>\n",
       "      <th></th>\n",
       "      <th></th>\n",
       "    </tr>\n",
       "  </thead>\n",
       "  <tbody>\n",
       "    <tr>\n",
       "      <th>2019-01-01</th>\n",
       "      <td>0.092664</td>\n",
       "      <td>0.188889</td>\n",
       "      <td>0.030201</td>\n",
       "      <td>0.131034</td>\n",
       "      <td>0.155</td>\n",
       "      <td>0.090909</td>\n",
       "      <td>0.816327</td>\n",
       "      <td>0.478261</td>\n",
       "      <td>0.862595</td>\n",
       "      <td>0.0</td>\n",
       "      <td>...</td>\n",
       "      <td>0.543175</td>\n",
       "      <td>0.054455</td>\n",
       "      <td>0.571429</td>\n",
       "      <td>0.052863</td>\n",
       "      <td>0.428571</td>\n",
       "      <td>0.202667</td>\n",
       "      <td>-5.030095e-12</td>\n",
       "      <td>1.0</td>\n",
       "      <td>0.002021</td>\n",
       "      <td>0.999998</td>\n",
       "    </tr>\n",
       "  </tbody>\n",
       "</table>\n",
       "<p>1 rows × 30 columns</p>\n",
       "</div>"
      ],
      "text/plain": [
       "            HLY_TEMP_NORMAL_SF  HLY_TEMP_10PCTL_SF  HLY_TEMP_90PCTL_SF  \\\n",
       "date                                                                     \n",
       "2019-01-01            0.092664            0.188889            0.030201   \n",
       "\n",
       "            HLY_DEWP_NORMAL_SF  HLY_DEWP_10PCTL_SF  HLY_DEWP_90PCTL_SF  \\\n",
       "date                                                                     \n",
       "2019-01-01            0.131034               0.155            0.090909   \n",
       "\n",
       "            HLY_PRES_NORMAL_SF  HLY_PRES_10PCTL_SF  HLY_PRES_90PCTL_SF  \\\n",
       "date                                                                     \n",
       "2019-01-01            0.816327            0.478261            0.862595   \n",
       "\n",
       "            HLY_CLDH_NORMAL_SF  ...  HLY_WIND_VCTDIR_SF  HLY_WIND_VCTSPD_SF  \\\n",
       "date                            ...                                           \n",
       "2019-01-01                 0.0  ...            0.543175            0.054455   \n",
       "\n",
       "            HLY_WIND_1STDIR_SF  HLY_WIND_1STPCT_SF  HLY_WIND_2NDDIR_SF  \\\n",
       "date                                                                     \n",
       "2019-01-01            0.571429            0.052863            0.428571   \n",
       "\n",
       "            HLY_WIND_2NDPCT_SF       Day sin  Day cos  Year sin  Year cos  \n",
       "date                                                                       \n",
       "2019-01-01            0.202667 -5.030095e-12      1.0  0.002021  0.999998  \n",
       "\n",
       "[1 rows x 30 columns]"
      ]
     },
     "execution_count": 489,
     "metadata": {},
     "output_type": "execute_result"
    }
   ],
   "source": [
    "df.iloc[:1, :-1]"
   ]
  },
  {
   "cell_type": "code",
   "execution_count": null,
   "id": "1eea73c7",
   "metadata": {},
   "outputs": [],
   "source": []
  }
 ],
 "metadata": {
  "kernelspec": {
   "display_name": "Python 3 (ipykernel)",
   "language": "python",
   "name": "python3"
  },
  "language_info": {
   "codemirror_mode": {
    "name": "ipython",
    "version": 3
   },
   "file_extension": ".py",
   "mimetype": "text/x-python",
   "name": "python",
   "nbconvert_exporter": "python",
   "pygments_lexer": "ipython3",
   "version": "3.8.8"
  }
 },
 "nbformat": 4,
 "nbformat_minor": 5
}
